{
 "cells": [
  {
   "cell_type": "markdown",
   "id": "3d0ee455",
   "metadata": {},
   "source": [
    "## 2.3.0 Data Quality assessment\n"
   ]
  },
  {
   "cell_type": "code",
   "execution_count": 1,
   "id": "27bb5003",
   "metadata": {},
   "outputs": [],
   "source": [
    "import datetime\n",
    "import os\n",
    "import time\n",
    "import pandas as pd \n",
    "import requests\n",
    "import urllib3\n",
    "import json\n",
    "import numpy as np\n",
    "import sys\n",
    "pd.options.display.max_colwidth = 1000\n",
    "pd.set_option('display.max_columns', None)"
   ]
  },
  {
   "cell_type": "code",
   "execution_count": 2,
   "id": "631dfe26",
   "metadata": {},
   "outputs": [],
   "source": [
    "entries  = r\"C:\\\\Users\\\\leona\\\\OneDrive\\\\Desktop\\\\Tesi\\\\Pipeline\\\\Datasets\\\\Pipeline\\\\IocSegnalations\\\\PostDataStructurization\\\\Feodo_Tracker\\\\Entries.csv\"\n",
    "malwares = r\"C:\\\\Users\\\\leona\\\\OneDrive\\\\Desktop\\\\Tesi\\\\Pipeline\\\\Datasets\\\\Pipeline\\\\IocSegnalations\\\\PostDataStructurization\\\\Feodo_Tracker\\\\Malwares.csv\""
   ]
  },
  {
   "cell_type": "markdown",
   "id": "1958e428",
   "metadata": {},
   "source": [
    "## Entries"
   ]
  },
  {
   "cell_type": "code",
   "execution_count": 3,
   "id": "aaa91a18",
   "metadata": {},
   "outputs": [
    {
     "data": {
      "text/html": [
       "<div>\n",
       "<style scoped>\n",
       "    .dataframe tbody tr th:only-of-type {\n",
       "        vertical-align: middle;\n",
       "    }\n",
       "\n",
       "    .dataframe tbody tr th {\n",
       "        vertical-align: top;\n",
       "    }\n",
       "\n",
       "    .dataframe thead th {\n",
       "        text-align: right;\n",
       "    }\n",
       "</style>\n",
       "<table border=\"1\" class=\"dataframe\">\n",
       "  <thead>\n",
       "    <tr style=\"text-align: right;\">\n",
       "      <th></th>\n",
       "      <th>ID_ENTRY</th>\n",
       "      <th>source</th>\n",
       "      <th>ioc</th>\n",
       "      <th>ioc_type</th>\n",
       "      <th>threat_type</th>\n",
       "      <th>malware</th>\n",
       "      <th>first_seen</th>\n",
       "      <th>last_seen</th>\n",
       "      <th>reporter</th>\n",
       "      <th>reference</th>\n",
       "    </tr>\n",
       "  </thead>\n",
       "  <tbody>\n",
       "    <tr>\n",
       "      <th>0</th>\n",
       "      <td>0</td>\n",
       "      <td>Feodo Tracker</td>\n",
       "      <td>89.101.97.139:443</td>\n",
       "      <td>ip:port</td>\n",
       "      <td>botnet</td>\n",
       "      <td>QakBot</td>\n",
       "      <td>2021-09-29 08:42:47</td>\n",
       "      <td>2023-08-25</td>\n",
       "      <td>Feodo Tracker blocklist</td>\n",
       "      <td>https://feodotracker.abuse.ch/</td>\n",
       "    </tr>\n",
       "    <tr>\n",
       "      <th>1</th>\n",
       "      <td>1</td>\n",
       "      <td>Feodo Tracker</td>\n",
       "      <td>41.228.22.180:443</td>\n",
       "      <td>ip:port</td>\n",
       "      <td>botnet</td>\n",
       "      <td>QakBot</td>\n",
       "      <td>2021-09-29 08:42:51</td>\n",
       "      <td>2023-08-25</td>\n",
       "      <td>Feodo Tracker blocklist</td>\n",
       "      <td>https://feodotracker.abuse.ch/</td>\n",
       "    </tr>\n",
       "    <tr>\n",
       "      <th>2</th>\n",
       "      <td>2</td>\n",
       "      <td>Feodo Tracker</td>\n",
       "      <td>144.139.47.206:443</td>\n",
       "      <td>ip:port</td>\n",
       "      <td>botnet</td>\n",
       "      <td>QakBot</td>\n",
       "      <td>2021-09-30 21:25:38</td>\n",
       "      <td>2023-08-25</td>\n",
       "      <td>Feodo Tracker blocklist</td>\n",
       "      <td>https://feodotracker.abuse.ch/</td>\n",
       "    </tr>\n",
       "    <tr>\n",
       "      <th>3</th>\n",
       "      <td>3</td>\n",
       "      <td>Feodo Tracker</td>\n",
       "      <td>41.86.42.158:995</td>\n",
       "      <td>ip:port</td>\n",
       "      <td>botnet</td>\n",
       "      <td>QakBot</td>\n",
       "      <td>2021-10-08 14:48:30</td>\n",
       "      <td>2023-08-25</td>\n",
       "      <td>Feodo Tracker blocklist</td>\n",
       "      <td>https://feodotracker.abuse.ch/</td>\n",
       "    </tr>\n",
       "    <tr>\n",
       "      <th>4</th>\n",
       "      <td>4</td>\n",
       "      <td>Feodo Tracker</td>\n",
       "      <td>63.143.92.99:995</td>\n",
       "      <td>ip:port</td>\n",
       "      <td>botnet</td>\n",
       "      <td>QakBot</td>\n",
       "      <td>2021-10-08 14:48:31</td>\n",
       "      <td>2023-08-25</td>\n",
       "      <td>Feodo Tracker blocklist</td>\n",
       "      <td>https://feodotracker.abuse.ch/</td>\n",
       "    </tr>\n",
       "    <tr>\n",
       "      <th>...</th>\n",
       "      <td>...</td>\n",
       "      <td>...</td>\n",
       "      <td>...</td>\n",
       "      <td>...</td>\n",
       "      <td>...</td>\n",
       "      <td>...</td>\n",
       "      <td>...</td>\n",
       "      <td>...</td>\n",
       "      <td>...</td>\n",
       "      <td>...</td>\n",
       "    </tr>\n",
       "    <tr>\n",
       "      <th>333</th>\n",
       "      <td>333</td>\n",
       "      <td>Feodo Tracker</td>\n",
       "      <td>41.97.47.7:443</td>\n",
       "      <td>ip:port</td>\n",
       "      <td>botnet</td>\n",
       "      <td>QakBot</td>\n",
       "      <td>2023-08-24 23:29:43</td>\n",
       "      <td>2023-08-25</td>\n",
       "      <td>Feodo Tracker blocklist</td>\n",
       "      <td>https://feodotracker.abuse.ch/</td>\n",
       "    </tr>\n",
       "    <tr>\n",
       "      <th>334</th>\n",
       "      <td>334</td>\n",
       "      <td>Feodo Tracker</td>\n",
       "      <td>92.9.44.234:2222</td>\n",
       "      <td>ip:port</td>\n",
       "      <td>botnet</td>\n",
       "      <td>QakBot</td>\n",
       "      <td>2023-08-25 01:29:36</td>\n",
       "      <td>2023-08-25</td>\n",
       "      <td>Feodo Tracker blocklist</td>\n",
       "      <td>https://feodotracker.abuse.ch/</td>\n",
       "    </tr>\n",
       "    <tr>\n",
       "      <th>335</th>\n",
       "      <td>335</td>\n",
       "      <td>Feodo Tracker</td>\n",
       "      <td>78.152.198.132:443</td>\n",
       "      <td>ip:port</td>\n",
       "      <td>botnet</td>\n",
       "      <td>QakBot</td>\n",
       "      <td>2023-08-25 10:08:52</td>\n",
       "      <td>2023-08-25</td>\n",
       "      <td>Feodo Tracker blocklist</td>\n",
       "      <td>https://feodotracker.abuse.ch/</td>\n",
       "    </tr>\n",
       "    <tr>\n",
       "      <th>336</th>\n",
       "      <td>336</td>\n",
       "      <td>Feodo Tracker</td>\n",
       "      <td>113.193.95.229:443</td>\n",
       "      <td>ip:port</td>\n",
       "      <td>botnet</td>\n",
       "      <td>QakBot</td>\n",
       "      <td>2023-08-25 11:24:40</td>\n",
       "      <td>2023-08-25</td>\n",
       "      <td>Feodo Tracker blocklist</td>\n",
       "      <td>https://feodotracker.abuse.ch/</td>\n",
       "    </tr>\n",
       "    <tr>\n",
       "      <th>337</th>\n",
       "      <td>337</td>\n",
       "      <td>Feodo Tracker</td>\n",
       "      <td>190.34.24.159:2222</td>\n",
       "      <td>ip:port</td>\n",
       "      <td>botnet</td>\n",
       "      <td>QakBot</td>\n",
       "      <td>2023-08-25 15:24:34</td>\n",
       "      <td>2023-08-25</td>\n",
       "      <td>Feodo Tracker blocklist</td>\n",
       "      <td>https://feodotracker.abuse.ch/</td>\n",
       "    </tr>\n",
       "  </tbody>\n",
       "</table>\n",
       "<p>338 rows × 10 columns</p>\n",
       "</div>"
      ],
      "text/plain": [
       "     ID_ENTRY         source                 ioc ioc_type threat_type malware  \\\n",
       "0           0  Feodo Tracker   89.101.97.139:443  ip:port      botnet  QakBot   \n",
       "1           1  Feodo Tracker   41.228.22.180:443  ip:port      botnet  QakBot   \n",
       "2           2  Feodo Tracker  144.139.47.206:443  ip:port      botnet  QakBot   \n",
       "3           3  Feodo Tracker    41.86.42.158:995  ip:port      botnet  QakBot   \n",
       "4           4  Feodo Tracker    63.143.92.99:995  ip:port      botnet  QakBot   \n",
       "..        ...            ...                 ...      ...         ...     ...   \n",
       "333       333  Feodo Tracker      41.97.47.7:443  ip:port      botnet  QakBot   \n",
       "334       334  Feodo Tracker    92.9.44.234:2222  ip:port      botnet  QakBot   \n",
       "335       335  Feodo Tracker  78.152.198.132:443  ip:port      botnet  QakBot   \n",
       "336       336  Feodo Tracker  113.193.95.229:443  ip:port      botnet  QakBot   \n",
       "337       337  Feodo Tracker  190.34.24.159:2222  ip:port      botnet  QakBot   \n",
       "\n",
       "              first_seen   last_seen                 reporter  \\\n",
       "0    2021-09-29 08:42:47  2023-08-25  Feodo Tracker blocklist   \n",
       "1    2021-09-29 08:42:51  2023-08-25  Feodo Tracker blocklist   \n",
       "2    2021-09-30 21:25:38  2023-08-25  Feodo Tracker blocklist   \n",
       "3    2021-10-08 14:48:30  2023-08-25  Feodo Tracker blocklist   \n",
       "4    2021-10-08 14:48:31  2023-08-25  Feodo Tracker blocklist   \n",
       "..                   ...         ...                      ...   \n",
       "333  2023-08-24 23:29:43  2023-08-25  Feodo Tracker blocklist   \n",
       "334  2023-08-25 01:29:36  2023-08-25  Feodo Tracker blocklist   \n",
       "335  2023-08-25 10:08:52  2023-08-25  Feodo Tracker blocklist   \n",
       "336  2023-08-25 11:24:40  2023-08-25  Feodo Tracker blocklist   \n",
       "337  2023-08-25 15:24:34  2023-08-25  Feodo Tracker blocklist   \n",
       "\n",
       "                          reference  \n",
       "0    https://feodotracker.abuse.ch/  \n",
       "1    https://feodotracker.abuse.ch/  \n",
       "2    https://feodotracker.abuse.ch/  \n",
       "3    https://feodotracker.abuse.ch/  \n",
       "4    https://feodotracker.abuse.ch/  \n",
       "..                              ...  \n",
       "333  https://feodotracker.abuse.ch/  \n",
       "334  https://feodotracker.abuse.ch/  \n",
       "335  https://feodotracker.abuse.ch/  \n",
       "336  https://feodotracker.abuse.ch/  \n",
       "337  https://feodotracker.abuse.ch/  \n",
       "\n",
       "[338 rows x 10 columns]"
      ]
     },
     "execution_count": 3,
     "metadata": {},
     "output_type": "execute_result"
    }
   ],
   "source": [
    "entries_df = pd.read_csv(entries, low_memory = False )\n",
    "entries_df"
   ]
  },
  {
   "cell_type": "code",
   "execution_count": 4,
   "id": "66c9095f",
   "metadata": {},
   "outputs": [
    {
     "name": "stdout",
     "output_type": "stream",
     "text": [
      "Duplicates:  False\n",
      "# not null values:  3380\n",
      "# null values:  0\n",
      "# values:  3380\n",
      "# missings:  0\n"
     ]
    }
   ],
   "source": [
    "\n",
    "print(\"Duplicates: \",entries_df.duplicated().any())\n",
    "\n",
    "#total number of not null values\n",
    "not_null_values = entries_df.count().sum()\n",
    "print(\"# not null values: \",not_null_values)\n",
    "\n",
    "#total number of null values\n",
    "null_values = entries_df.isnull().sum().sum()\n",
    "print(\"# null values: \",null_values)\n",
    "\n",
    "#total number of cells\n",
    "n_values = entries_df.shape[0]*entries_df.shape[1]\n",
    "print(\"# values: \",n_values)\n",
    "\n",
    "#we added to the set of missing values also 'na' and '--'\n",
    "missing_values = ['na','--', 'NaN']\n",
    "ds_property_nan = pd.read_csv(entries, na_values = missing_values)\n",
    "print(\"# missings: \",ds_property_nan.isnull().sum().sum())\n"
   ]
  },
  {
   "cell_type": "markdown",
   "id": "877c5115",
   "metadata": {},
   "source": [
    "## Completeness"
   ]
  },
  {
   "cell_type": "code",
   "execution_count": 5,
   "id": "681331d6",
   "metadata": {},
   "outputs": [
    {
     "name": "stdout",
     "output_type": "stream",
     "text": [
      "100.0%\n"
     ]
    }
   ],
   "source": [
    "#COMPLETENESS evaluation\n",
    "completeness = not_null_values / n_values\n",
    "completeness = '{0:.1f}%'.format(completeness*100)\n",
    "print(completeness)"
   ]
  },
  {
   "cell_type": "markdown",
   "id": "3f4b4e69",
   "metadata": {},
   "source": [
    "## Timeliness"
   ]
  },
  {
   "cell_type": "code",
   "execution_count": 7,
   "id": "7ffb884d",
   "metadata": {},
   "outputs": [
    {
     "name": "stdout",
     "output_type": "stream",
     "text": [
      "Average Timeliness:  0.21114398422090724\n",
      "Maximum Timeliness: 0.6666666666666667\n",
      "Minimum Timeliness: 0.0\n"
     ]
    },
    {
     "name": "stderr",
     "output_type": "stream",
     "text": [
      "C:\\Users\\leona\\AppData\\Local\\Temp\\ipykernel_6916\\2087805184.py:4: FutureWarning: The argument 'date_parser' is deprecated and will be removed in a future version. Please use 'date_format' instead, or read your data in as 'object' dtype and then call 'to_datetime'.\n",
      "  ds_property_t = pd.read_csv(entries, parse_dates= [temp_columns], date_parser=dateparse)\n"
     ]
    }
   ],
   "source": [
    "temp_columns = 'first_seen'\n",
    "from datetime import datetime\n",
    "dateparse = lambda x: datetime.strptime(str(x), '%Y-%m-%d %H:%M:%S')\n",
    "ds_property_t = pd.read_csv(entries, parse_dates= [temp_columns], date_parser=dateparse)\n",
    "volatility = 60\n",
    "today = datetime(2023, 9, 15)\n",
    "ds_property_t['currency'] = (today-ds_property_t['first_seen']).dt.days\n",
    "#adding a column with the timeliness computation\n",
    "#if volatility is greater than currency the timeliness is equal to 1-currency/volatility, otherwise is 0\n",
    "ds_property_t['Timeliness'] = np.where(volatility>ds_property_t['currency'],\n",
    "                                       1-(ds_property_t['currency']/volatility),\n",
    "                                       0)\n",
    "print(\"Average Timeliness: \", ds_property_t['Timeliness'].mean())\n",
    "print(\"Maximum Timeliness:\", ds_property_t['Timeliness'].max())\n",
    "print(\"Minimum Timeliness:\", ds_property_t['Timeliness'].min())\n"
   ]
  },
  {
   "cell_type": "markdown",
   "id": "3b16b239",
   "metadata": {},
   "source": [
    "## Auto-report"
   ]
  },
  {
   "cell_type": "code",
   "execution_count": 8,
   "id": "8d4be1ef",
   "metadata": {},
   "outputs": [],
   "source": [
    "from ydata_profiling import ProfileReport"
   ]
  },
  {
   "cell_type": "code",
   "execution_count": 9,
   "id": "37b16c73",
   "metadata": {},
   "outputs": [
    {
     "data": {
      "application/vnd.jupyter.widget-view+json": {
       "model_id": "3be63e78324349d58877e2c43a715585",
       "version_major": 2,
       "version_minor": 0
      },
      "text/plain": [
       "Summarize dataset:   0%|          | 0/5 [00:00<?, ?it/s]"
      ]
     },
     "metadata": {},
     "output_type": "display_data"
    },
    {
     "data": {
      "application/vnd.jupyter.widget-view+json": {
       "model_id": "216be2ea09084e1b8248352348d74c43",
       "version_major": 2,
       "version_minor": 0
      },
      "text/plain": [
       "Generate report structure:   0%|          | 0/1 [00:00<?, ?it/s]"
      ]
     },
     "metadata": {},
     "output_type": "display_data"
    },
    {
     "data": {
      "application/vnd.jupyter.widget-view+json": {
       "model_id": "731757b31c844848b2f2d3534c7249d2",
       "version_major": 2,
       "version_minor": 0
      },
      "text/plain": [
       "Render HTML:   0%|          | 0/1 [00:00<?, ?it/s]"
      ]
     },
     "metadata": {},
     "output_type": "display_data"
    },
    {
     "data": {
      "application/vnd.jupyter.widget-view+json": {
       "model_id": "516ff94c196643fd99b8de9e746961b4",
       "version_major": 2,
       "version_minor": 0
      },
      "text/plain": [
       "Export report to file:   0%|          | 0/1 [00:00<?, ?it/s]"
      ]
     },
     "metadata": {},
     "output_type": "display_data"
    },
    {
     "data": {
      "application/vnd.jupyter.widget-view+json": {
       "model_id": "51183ce917734745a2e7c90a61ab65ab",
       "version_major": 2,
       "version_minor": 0
      },
      "text/plain": [
       "Render JSON:   0%|          | 0/1 [00:00<?, ?it/s]"
      ]
     },
     "metadata": {},
     "output_type": "display_data"
    },
    {
     "data": {
      "application/vnd.jupyter.widget-view+json": {
       "model_id": "77fb8644843f4eb29f91a6f3942d9a1a",
       "version_major": 2,
       "version_minor": 0
      },
      "text/plain": [
       "Export report to file:   0%|          | 0/1 [00:00<?, ?it/s]"
      ]
     },
     "metadata": {},
     "output_type": "display_data"
    }
   ],
   "source": [
    "profile = ProfileReport(entries_df, title=\"Feodo Tracker Entries - Pandas Profiling Report\")\n",
    "\n",
    "profile.to_file(\"C:\\\\Users\\\\leona\\\\OneDrive\\\\Desktop\\\\Tesi\\\\Pipeline\\\\Report\\\\Profiling step 3\\\\Feodo_Tracker\\\\Entries.html\")\n",
    "\n",
    "# As a JSON string\n",
    "json_data = profile.to_json()\n",
    "\n",
    "# As a file\n",
    "profile.to_file(\"C:\\\\Users\\\\leona\\\\OneDrive\\\\Desktop\\\\Tesi\\\\Pipeline\\\\Report\\\\Profiling step 3\\\\Feodo_Tracker\\\\Entries.json\")"
   ]
  },
  {
   "cell_type": "markdown",
   "id": "5d679e0e",
   "metadata": {},
   "source": [
    "## Value Distribution"
   ]
  },
  {
   "cell_type": "markdown",
   "id": "131bae63",
   "metadata": {},
   "source": [
    "#### Distribution entries over time"
   ]
  },
  {
   "cell_type": "code",
   "execution_count": 10,
   "id": "f66d7266",
   "metadata": {},
   "outputs": [
    {
     "ename": "NameError",
     "evalue": "name 'plt' is not defined",
     "output_type": "error",
     "traceback": [
      "\u001b[1;31m---------------------------------------------------------------------------\u001b[0m",
      "\u001b[1;31mNameError\u001b[0m                                 Traceback (most recent call last)",
      "Cell \u001b[1;32mIn[10], line 2\u001b[0m\n\u001b[0;32m      1\u001b[0m \u001b[38;5;66;03m# Create a time series plot with different colors for each category\u001b[39;00m\n\u001b[1;32m----> 2\u001b[0m plt\u001b[38;5;241m.\u001b[39mfigure(figsize\u001b[38;5;241m=\u001b[39m(\u001b[38;5;241m10\u001b[39m, \u001b[38;5;241m6\u001b[39m))\n\u001b[0;32m      4\u001b[0m \u001b[38;5;66;03m# Plot Category A with a blue color\u001b[39;00m\n\u001b[0;32m      5\u001b[0m plt\u001b[38;5;241m.\u001b[39mplot(entries_df[\u001b[38;5;124m'\u001b[39m\u001b[38;5;124mfirst_seen\u001b[39m\u001b[38;5;124m'\u001b[39m], label\u001b[38;5;241m=\u001b[39m\u001b[38;5;124m'\u001b[39m\u001b[38;5;124mFeodo Tracker\u001b[39m\u001b[38;5;124m'\u001b[39m, marker\u001b[38;5;241m=\u001b[39m\u001b[38;5;124m'\u001b[39m\u001b[38;5;124mo\u001b[39m\u001b[38;5;124m'\u001b[39m, linestyle\u001b[38;5;241m=\u001b[39m\u001b[38;5;124m'\u001b[39m\u001b[38;5;124m-\u001b[39m\u001b[38;5;124m'\u001b[39m, color\u001b[38;5;241m=\u001b[39m\u001b[38;5;124m'\u001b[39m\u001b[38;5;124mgreen\u001b[39m\u001b[38;5;124m'\u001b[39m)\n",
      "\u001b[1;31mNameError\u001b[0m: name 'plt' is not defined"
     ]
    }
   ],
   "source": [
    "# Create a time series plot with different colors for each category\n",
    "plt.figure(figsize=(10, 6))\n",
    "\n",
    "# Plot Category A with a blue color\n",
    "plt.plot(entries_df['first_seen'], label='Feodo Tracker', marker='o', linestyle='-', color='green')\n",
    "\n",
    "# Customize the plot\n",
    "plt.title('Time Series Data Feodo Tracker')\n",
    "plt.xlabel('Timestamp')\n",
    "plt.grid(True)\n",
    "\n",
    "# Add a legend to distinguish between categories\n",
    "plt.legend()\n",
    "\n",
    "# Show the plot\n",
    "plt.tight_layout()\n",
    "plt.show()"
   ]
  },
  {
   "cell_type": "markdown",
   "id": "ab4f075f",
   "metadata": {},
   "source": [
    "## Data Profiling - Malwares"
   ]
  },
  {
   "cell_type": "code",
   "execution_count": null,
   "id": "3a2ad97a",
   "metadata": {},
   "outputs": [],
   "source": [
    "malwares_df = pd.read_csv(malwares, low_memory = False )\n",
    "malwares_df"
   ]
  },
  {
   "cell_type": "code",
   "execution_count": null,
   "id": "9e787cb5",
   "metadata": {},
   "outputs": [],
   "source": [
    "\n",
    "print(\"Duplicates: \",malwares_df.duplicated().any())\n",
    "\n",
    "#total number of not null values\n",
    "not_null_values = malwares_df.count().sum()\n",
    "print(\"# not null values: \",not_null_values)\n",
    "\n",
    "#total number of null values\n",
    "null_values = malwares_df.isnull().sum().sum()\n",
    "print(\"# null values: \",null_values)\n",
    "\n",
    "#total number of cells\n",
    "n_values = malwares_df.shape[0]*malwares_df.shape[1]\n",
    "print(\"# values: \",n_values)\n",
    "\n",
    "#we added to the set of missing values also 'na' and '--'\n",
    "missing_values = ['na','--', 'NaN']\n",
    "ds_property_nan = pd.read_csv(malwares, na_values = missing_values)\n",
    "print(\"# missings: \",ds_property_nan.isnull().sum().sum())\n"
   ]
  },
  {
   "cell_type": "markdown",
   "id": "d9d6e85c",
   "metadata": {},
   "source": [
    "## Completeness"
   ]
  },
  {
   "cell_type": "code",
   "execution_count": null,
   "id": "fb283d0e",
   "metadata": {},
   "outputs": [],
   "source": [
    "#COMPLETENESS evaluation\n",
    "completeness = not_null_values / n_values\n",
    "completeness = '{0:.1f}%'.format(completeness*100)\n",
    "print(completeness)"
   ]
  },
  {
   "cell_type": "markdown",
   "id": "07b79d4e",
   "metadata": {},
   "source": [
    "## Auto-report"
   ]
  },
  {
   "cell_type": "code",
   "execution_count": null,
   "id": "d21db99c",
   "metadata": {},
   "outputs": [],
   "source": [
    "profile = ProfileReport(malwares_df, title=\"Feodo Tracker Malwares - Pandas Profiling Report\")\n",
    "\n",
    "profile.to_file(\"C:\\\\Users\\\\leona\\\\OneDrive\\\\Desktop\\\\Tesi\\\\Pipeline\\\\Report\\\\Profiling step 3\\\\Feodo_Tracker\\\\Malwares.html\")\n",
    "\n",
    "# As a JSON string\n",
    "json_data = profile.to_json()\n",
    "\n",
    "# As a file\n",
    "profile.to_file(\"C:\\\\Users\\\\leona\\\\OneDrive\\\\Desktop\\\\Tesi\\\\Pipeline\\\\Report\\\\Profiling step 3\\\\Feodo_Tracker\\\\Malwares.json\")"
   ]
  },
  {
   "cell_type": "code",
   "execution_count": null,
   "id": "7addd6ac",
   "metadata": {},
   "outputs": [],
   "source": []
  },
  {
   "cell_type": "code",
   "execution_count": null,
   "id": "e264c550",
   "metadata": {},
   "outputs": [],
   "source": []
  },
  {
   "cell_type": "code",
   "execution_count": null,
   "id": "1ef3a261",
   "metadata": {},
   "outputs": [],
   "source": []
  }
 ],
 "metadata": {
  "kernelspec": {
   "display_name": "Python 3 (ipykernel)",
   "language": "python",
   "name": "python3"
  },
  "language_info": {
   "codemirror_mode": {
    "name": "ipython",
    "version": 3
   },
   "file_extension": ".py",
   "mimetype": "text/x-python",
   "name": "python",
   "nbconvert_exporter": "python",
   "pygments_lexer": "ipython3",
   "version": "3.11.5"
  }
 },
 "nbformat": 4,
 "nbformat_minor": 5
}
