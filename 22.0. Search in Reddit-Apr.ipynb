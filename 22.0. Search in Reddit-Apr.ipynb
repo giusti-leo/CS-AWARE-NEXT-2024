{
 "cells": [
  {
   "cell_type": "code",
   "execution_count": 1,
   "id": "dcb3095b",
   "metadata": {},
   "outputs": [],
   "source": [
    "import os\n",
    "import time\n",
    "import pandas as pd \n",
    "import requests\n",
    "import urllib3\n",
    "import json\n",
    "import sys\n",
    "import numpy as np\n",
    "import pandas as pd\n",
    "from pathlib import Path\n",
    "from datetime import datetime, timedelta"
   ]
  },
  {
   "cell_type": "code",
   "execution_count": 2,
   "id": "5222ef90",
   "metadata": {},
   "outputs": [
    {
     "name": "stdout",
     "output_type": "stream",
     "text": [
      "Requirement already satisfied: nltk in c:\\users\\leona\\anaconda3\\lib\\site-packages (3.8.1)\n",
      "Requirement already satisfied: click in c:\\users\\leona\\anaconda3\\lib\\site-packages (from nltk) (8.0.4)\n",
      "Requirement already satisfied: joblib in c:\\users\\leona\\anaconda3\\lib\\site-packages (from nltk) (1.1.1)\n",
      "Requirement already satisfied: regex>=2021.8.3 in c:\\users\\leona\\anaconda3\\lib\\site-packages (from nltk) (2022.7.9)\n",
      "Requirement already satisfied: tqdm in c:\\users\\leona\\anaconda3\\lib\\site-packages (from nltk) (4.65.0)\n",
      "Requirement already satisfied: colorama in c:\\users\\leona\\anaconda3\\lib\\site-packages (from click->nltk) (0.4.6)\n",
      "Note: you may need to restart the kernel to use updated packages.\n"
     ]
    }
   ],
   "source": [
    "pip install nltk"
   ]
  },
  {
   "cell_type": "code",
   "execution_count": 3,
   "id": "ad1729c7",
   "metadata": {},
   "outputs": [],
   "source": [
    "import nltk"
   ]
  },
  {
   "cell_type": "code",
   "execution_count": 4,
   "id": "8eb93b1b",
   "metadata": {},
   "outputs": [],
   "source": [
    "pd.options.display.max_colwidth = 1000\n",
    "pd.set_option('display.max_columns', None)"
   ]
  },
  {
   "cell_type": "code",
   "execution_count": 5,
   "id": "f5042c66",
   "metadata": {},
   "outputs": [
    {
     "name": "stderr",
     "output_type": "stream",
     "text": [
      "[nltk_data] Downloading package wordnet to\n",
      "[nltk_data]     C:\\Users\\leona\\AppData\\Roaming\\nltk_data...\n",
      "[nltk_data]   Package wordnet is already up-to-date!\n"
     ]
    },
    {
     "data": {
      "text/plain": [
       "True"
      ]
     },
     "execution_count": 5,
     "metadata": {},
     "output_type": "execute_result"
    }
   ],
   "source": [
    "\n",
    "nltk.download('wordnet')"
   ]
  },
  {
   "cell_type": "code",
   "execution_count": 6,
   "id": "86a8e902",
   "metadata": {},
   "outputs": [
    {
     "name": "stderr",
     "output_type": "stream",
     "text": [
      "[nltk_data] Downloading package punkt to\n",
      "[nltk_data]     C:\\Users\\leona\\AppData\\Roaming\\nltk_data...\n"
     ]
    },
    {
     "name": "stdout",
     "output_type": "stream",
     "text": [
      "0    True\n",
      "1    True\n",
      "2    True\n",
      "Name: match, dtype: bool\n"
     ]
    },
    {
     "name": "stderr",
     "output_type": "stream",
     "text": [
      "[nltk_data]   Package punkt is already up-to-date!\n",
      "[nltk_data] Downloading package stopwords to\n",
      "[nltk_data]     C:\\Users\\leona\\AppData\\Roaming\\nltk_data...\n",
      "[nltk_data]   Package stopwords is already up-to-date!\n"
     ]
    }
   ],
   "source": [
    "import pandas as pd\n",
    "from nltk.stem import PorterStemmer\n",
    "from nltk.tokenize import word_tokenize\n",
    "from nltk.corpus import stopwords\n",
    "import nltk\n",
    "nltk.download('punkt')\n",
    "nltk.download('stopwords')\n",
    "\n",
    "def stemming_and_matching(df_A, df_B):\n",
    "    # Inizializzazione del PorterStemmer\n",
    "    stemmer = PorterStemmer()\n",
    "\n",
    "    # Funzione per eseguire stemming e lemmatization su una riga di testo\n",
    "    def process_text(text):\n",
    "        # Tokenizzazione\n",
    "        tokens = word_tokenize(text.lower())\n",
    "        # Rimozione delle stop words\n",
    "        stop_words = set(stopwords.words('english'))\n",
    "        filtered_tokens = [token for token in tokens if token.isalnum() and token not in stop_words]\n",
    "        # Stemming\n",
    "        stemmed_tokens = [stemmer.stem(token) for token in filtered_tokens]\n",
    "        return stemmed_tokens\n",
    "\n",
    "    # Applicare la funzione a ciascuna riga dei dataframe A e B\n",
    "    df_A['lemmatized_tokens'] = df_A['testo'].apply(process_text)\n",
    "    df_B['lemmatized_tokens'] = df_B['testo'].apply(process_text)\n",
    "\n",
    "    # Verificare la corrispondenza\n",
    "    def check_match(row):\n",
    "        return all(token in row['lemmatized_tokens'] for token in df_B.loc[row.name, 'lemmatized_tokens'])\n",
    "\n",
    "    # Applicare la funzione di verifica alla riga di ciascun dataframe B\n",
    "    df_B['match'] = df_B.apply(check_match, axis=1)\n",
    "\n",
    "    return df_B['match']\n",
    "\n",
    "# Esempio di utilizzo\n",
    "data_A = {'testo': [\"La casa è grande.\", \"Il cane corre veloce.\", \"Gli uccelli volano alto.\"]}\n",
    "data_B = {'testo': [\"La casa grande\", \"Il cane veloce\", \"uccelli alti\"]}\n",
    "df_A = pd.DataFrame(data_A)\n",
    "df_B = pd.DataFrame(data_B)\n",
    "\n",
    "risultato = stemming_and_matching(df_A, df_B)\n",
    "print(risultato)\n"
   ]
  },
  {
   "cell_type": "markdown",
   "id": "f82a2dff",
   "metadata": {},
   "source": [
    "### Reddit posts"
   ]
  },
  {
   "cell_type": "code",
   "execution_count": 7,
   "id": "df7e9509",
   "metadata": {},
   "outputs": [],
   "source": [
    "file_reddit = r'C:\\Users\\leona\\OneDrive\\Desktop\\Tesi\\Pipeline\\Datasets\\Pipeline\\SocialNetworksPosts\\Reddit\\RedditPosts.csv'"
   ]
  },
  {
   "cell_type": "code",
   "execution_count": 8,
   "id": "a070364e",
   "metadata": {
    "scrolled": true
   },
   "outputs": [
    {
     "data": {
      "text/html": [
       "<div>\n",
       "<style scoped>\n",
       "    .dataframe tbody tr th:only-of-type {\n",
       "        vertical-align: middle;\n",
       "    }\n",
       "\n",
       "    .dataframe tbody tr th {\n",
       "        vertical-align: top;\n",
       "    }\n",
       "\n",
       "    .dataframe thead th {\n",
       "        text-align: right;\n",
       "    }\n",
       "</style>\n",
       "<table border=\"1\" class=\"dataframe\">\n",
       "  <thead>\n",
       "    <tr style=\"text-align: right;\">\n",
       "      <th></th>\n",
       "      <th>subreddit</th>\n",
       "      <th>username</th>\n",
       "      <th>date</th>\n",
       "      <th>title</th>\n",
       "      <th>text</th>\n",
       "    </tr>\n",
       "  </thead>\n",
       "  <tbody>\n",
       "    <tr>\n",
       "      <th>0</th>\n",
       "      <td>netsec</td>\n",
       "      <td>t3_18i5ups</td>\n",
       "      <td>2023-12-14 11:36:39</td>\n",
       "      <td>Nim implementation of Old Dll Unlinking Technique</td>\n",
       "      <td>NaN</td>\n",
       "    </tr>\n",
       "    <tr>\n",
       "      <th>1</th>\n",
       "      <td>cybersecurity</td>\n",
       "      <td>t3_18i5v5x</td>\n",
       "      <td>2023-12-14 11:37:34</td>\n",
       "      <td>How to prevent employees from using unauthorized web tools?</td>\n",
       "      <td>I work as an IT manager for a business. Some time ago, a group of my colleagues decided to use a web productivity tool, created accounts using their work emails, and started introducing data.\\n\\nI had no knowledge they had been using such a tool at all. I did not even know it existed.\\n\\nToday, I received an email from my boss asking why an ex-employee still had access to the data in such a web platform, as their account hadn't been deactivated. Needless to say, I don't have access to revoke their account or anything.\\n\\nHow can I prevent them from registering on another unauthorized webpage?\\n\\nI feel like a firewall blacklist would be useless since I would have to be constantly researching and updating it with new tools, and I can't make a whitelist since my company uses a ton of different pages for intense web research.\\n\\nAny help or advice would be appreciated.\\n\\n&amp;#x200B;</td>\n",
       "    </tr>\n",
       "    <tr>\n",
       "      <th>2</th>\n",
       "      <td>MacOS</td>\n",
       "      <td>t3_18i5kyd</td>\n",
       "      <td>2023-12-14 11:17:47</td>\n",
       "      <td>Teams call pop up window blocked by reminders/calendar entries on top right corner</td>\n",
       "      <td>Hi\\n\\nDo you know this issue that when I have reminders or calendar alarms set to stick to the top right corner, that they then block the notification window for incoming Teams calls.\\n\\nDoes someone know if there is a setting for having the teams call pop up in on another location on the screen or knows another work around?</td>\n",
       "    </tr>\n",
       "    <tr>\n",
       "      <th>3</th>\n",
       "      <td>MacOS</td>\n",
       "      <td>t3_18i5koq</td>\n",
       "      <td>2023-12-14 11:17:16</td>\n",
       "      <td>Disable middle mouse button drag to other desktop</td>\n",
       "      <td>So I have been using windows for a while and now I am stumped. The middle mouse button of my logi mouse has the following functionailty: On drage change desktop, on click show all windows. That's nice and all, but I can't use fusion 360 because the dragging functionality is the middle mouse button but that just changes the desktop. How can I disable that?\\n\\n&amp;#x200B;\\n\\nSo I found this, but there is no button selected. If I select the secondary mouse button for example, it will open mission control on both right click and middle mouse button:\\n\\nhttps://preview.redd.it/bmqnrpw0m86c1.png?width=476&amp;format=png&amp;auto=webp&amp;s=97ae662fcca43bf146537393fc6a13705a0a9351\\n\\n&amp;#x200B;</td>\n",
       "    </tr>\n",
       "    <tr>\n",
       "      <th>4</th>\n",
       "      <td>windows</td>\n",
       "      <td>t3_18i5gqv</td>\n",
       "      <td>2023-12-14 11:09:52</td>\n",
       "      <td>Playing 4k videos on 2k display</td>\n",
       "      <td>Hello guys does playing 4k content on a 2k display has any benefit? For example while playing YouTube videos I set 1440p resolution on my 2k laptop and 2k smartphone despite having a option of selecting 2160p option. So i wanted to ask if i get better video quality if i select 2160p option while playing on a 2k display?</td>\n",
       "    </tr>\n",
       "    <tr>\n",
       "      <th>...</th>\n",
       "      <td>...</td>\n",
       "      <td>...</td>\n",
       "      <td>...</td>\n",
       "      <td>...</td>\n",
       "      <td>...</td>\n",
       "    </tr>\n",
       "    <tr>\n",
       "      <th>387066</th>\n",
       "      <td>pcmasterrace</td>\n",
       "      <td>t3_1006rmg</td>\n",
       "      <td>2023-01-01 00:41:37</td>\n",
       "      <td>Build Almost Done</td>\n",
       "      <td>Is this a good build? Any recommendations?\\n\\nBUILD - https://pcpartpicker.com/list/FL6hwc</td>\n",
       "    </tr>\n",
       "    <tr>\n",
       "      <th>387067</th>\n",
       "      <td>pcmasterrace</td>\n",
       "      <td>t3_1006qur</td>\n",
       "      <td>2023-01-01 00:40:30</td>\n",
       "      <td>problem arming pc, I have a Mother a320m-k, ryzen 4650g, and doesnt work the video, the motherboard have Orange leds. Its my first time arming</td>\n",
       "      <td>NaN</td>\n",
       "    </tr>\n",
       "    <tr>\n",
       "      <th>387068</th>\n",
       "      <td>pcmasterrace</td>\n",
       "      <td>t3_1006pzy</td>\n",
       "      <td>2023-01-01 00:39:17</td>\n",
       "      <td>PCMR Truckers</td>\n",
       "      <td>Those that bring their rigs with them in the truck: \\n\\nHow does the computer fare? \\nIs there any orientation it works better with when you go through the areas with poor maintenance? \\nAnd lastly: if you liquid cool, have you noticed any issues over time?\\n\\nI'm building a new rig here soon and am curious if anything is to note so I don't make a large $$$$ mistake</td>\n",
       "    </tr>\n",
       "    <tr>\n",
       "      <th>387069</th>\n",
       "      <td>pcmasterrace</td>\n",
       "      <td>t3_1006orx</td>\n",
       "      <td>2023-01-01 00:37:29</td>\n",
       "      <td>New case for Christmas, also spray painted my GPU to match</td>\n",
       "      <td>Got the Hyte y60 as a gift, what a great case to build in. Running a 5600x with a 3080. The tree probably blocks some airflow but I'll take that tradeoff.</td>\n",
       "    </tr>\n",
       "    <tr>\n",
       "      <th>387070</th>\n",
       "      <td>linuxquestions</td>\n",
       "      <td>t3_1006n20</td>\n",
       "      <td>2023-01-01 00:34:59</td>\n",
       "      <td>Ignore \"not enough space to copy these file\" errors in KDE Plasma/Dolphin?</td>\n",
       "      <td>When copying files with Dolphin (KDE Plasma's file manager), if there is not enough free space to copy the incoming files entirely, the file manager refuses to copy even a single file. However, a lot of the time I'll be skipping name conflicts or overwriting existing files with new ones, so either I don't need as much space than it seems to the system, or space is freed up as I copy. Also, KDE seems to have trouble accurately determining the free space on drives on a network file server that I have mounted with SSHFS, so it will say there is not enough space even when there is. \\n\\nIs there a way to get Dolphin to ignore this error and attempt to copy the files anyway? Like the way the cp command does it, where it doesn't really care how much space is on the drive, and will only throw an error if it actually fills up before it's done copying. Or better yet, is there a way to get Dolphin to still warn me about potential space issues, but have the option to ignore it and attempt to c...</td>\n",
       "    </tr>\n",
       "  </tbody>\n",
       "</table>\n",
       "<p>387071 rows × 5 columns</p>\n",
       "</div>"
      ],
      "text/plain": [
       "             subreddit    username                 date  \\\n",
       "0               netsec  t3_18i5ups  2023-12-14 11:36:39   \n",
       "1        cybersecurity  t3_18i5v5x  2023-12-14 11:37:34   \n",
       "2                MacOS  t3_18i5kyd  2023-12-14 11:17:47   \n",
       "3                MacOS  t3_18i5koq  2023-12-14 11:17:16   \n",
       "4              windows  t3_18i5gqv  2023-12-14 11:09:52   \n",
       "...                ...         ...                  ...   \n",
       "387066    pcmasterrace  t3_1006rmg  2023-01-01 00:41:37   \n",
       "387067    pcmasterrace  t3_1006qur  2023-01-01 00:40:30   \n",
       "387068    pcmasterrace  t3_1006pzy  2023-01-01 00:39:17   \n",
       "387069    pcmasterrace  t3_1006orx  2023-01-01 00:37:29   \n",
       "387070  linuxquestions  t3_1006n20  2023-01-01 00:34:59   \n",
       "\n",
       "                                                                                                                                                 title  \\\n",
       "0                                                                                                    Nim implementation of Old Dll Unlinking Technique   \n",
       "1                                                                                          How to prevent employees from using unauthorized web tools?   \n",
       "2                                                                   Teams call pop up window blocked by reminders/calendar entries on top right corner   \n",
       "3                                                                                                    Disable middle mouse button drag to other desktop   \n",
       "4                                                                                                                      Playing 4k videos on 2k display   \n",
       "...                                                                                                                                                ...   \n",
       "387066                                                                                                                               Build Almost Done   \n",
       "387067  problem arming pc, I have a Mother a320m-k, ryzen 4650g, and doesnt work the video, the motherboard have Orange leds. Its my first time arming   \n",
       "387068                                                                                                                                   PCMR Truckers   \n",
       "387069                                                                                      New case for Christmas, also spray painted my GPU to match   \n",
       "387070                                                                      Ignore \"not enough space to copy these file\" errors in KDE Plasma/Dolphin?   \n",
       "\n",
       "                                                                                                                                                                                                                                                                                                                                                                                                                                                                                                                                                                                                                                                                                                                                                                                                                                                                                                                                                                                                                                           text  \n",
       "0                                                                                                                                                                                                                                                                                                                                                                                                                                                                                                                                                                                                                                                                                                                                                                                                                                                                                                                                                                                                                                           NaN  \n",
       "1                                                                                                                    I work as an IT manager for a business. Some time ago, a group of my colleagues decided to use a web productivity tool, created accounts using their work emails, and started introducing data.\\n\\nI had no knowledge they had been using such a tool at all. I did not even know it existed.\\n\\nToday, I received an email from my boss asking why an ex-employee still had access to the data in such a web platform, as their account hadn't been deactivated. Needless to say, I don't have access to revoke their account or anything.\\n\\nHow can I prevent them from registering on another unauthorized webpage?\\n\\nI feel like a firewall blacklist would be useless since I would have to be constantly researching and updating it with new tools, and I can't make a whitelist since my company uses a ton of different pages for intense web research.\\n\\nAny help or advice would be appreciated.\\n\\n&#x200B;  \n",
       "2                                                                                                                                                                                                                                                                                                                                                                                                                                                                                                                                                                                                                                                                                                        Hi\\n\\nDo you know this issue that when I have reminders or calendar alarms set to stick to the top right corner, that they then block the notification window for incoming Teams calls.\\n\\nDoes someone know if there is a setting for having the teams call pop up in on another location on the screen or knows another work around?  \n",
       "3                                                                                                                                                                                                                                                                                                                                       So I have been using windows for a while and now I am stumped. The middle mouse button of my logi mouse has the following functionailty: On drage change desktop, on click show all windows. That's nice and all, but I can't use fusion 360 because the dragging functionality is the middle mouse button but that just changes the desktop. How can I disable that?\\n\\n&#x200B;\\n\\nSo I found this, but there is no button selected. If I select the secondary mouse button for example, it will open mission control on both right click and middle mouse button:\\n\\nhttps://preview.redd.it/bmqnrpw0m86c1.png?width=476&format=png&auto=webp&s=97ae662fcca43bf146537393fc6a13705a0a9351\\n\\n&#x200B;  \n",
       "4                                                                                                                                                                                                                                                                                                                                                                                                                                                                                                                                                                                                                                                                                                             Hello guys does playing 4k content on a 2k display has any benefit? For example while playing YouTube videos I set 1440p resolution on my 2k laptop and 2k smartphone despite having a option of selecting 2160p option. So i wanted to ask if i get better video quality if i select 2160p option while playing on a 2k display?  \n",
       "...                                                                                                                                                                                                                                                                                                                                                                                                                                                                                                                                                                                                                                                                                                                                                                                                                                                                                                                                                                                                                                         ...  \n",
       "387066                                                                                                                                                                                                                                                                                                                                                                                                                                                                                                                                                                                                                                                                                                                                                                                                                                                                                                                                               Is this a good build? Any recommendations?\\n\\nBUILD - https://pcpartpicker.com/list/FL6hwc  \n",
       "387067                                                                                                                                                                                                                                                                                                                                                                                                                                                                                                                                                                                                                                                                                                                                                                                                                                                                                                                                                                                                                                      NaN  \n",
       "387068                                                                                                                                                                                                                                                                                                                                                                                                                                                                                                                                                                                                                                                         Those that bring their rigs with them in the truck: \\n\\nHow does the computer fare? \\nIs there any orientation it works better with when you go through the areas with poor maintenance? \\nAnd lastly: if you liquid cool, have you noticed any issues over time?\\n\\nI'm building a new rig here soon and am curious if anything is to note so I don't make a large $$$$ mistake  \n",
       "387069                                                                                                                                                                                                                                                                                                                                                                                                                                                                                                                                                                                                                                                                                                                                                                                                                                                                               Got the Hyte y60 as a gift, what a great case to build in. Running a 5600x with a 3080. The tree probably blocks some airflow but I'll take that tradeoff.  \n",
       "387070  When copying files with Dolphin (KDE Plasma's file manager), if there is not enough free space to copy the incoming files entirely, the file manager refuses to copy even a single file. However, a lot of the time I'll be skipping name conflicts or overwriting existing files with new ones, so either I don't need as much space than it seems to the system, or space is freed up as I copy. Also, KDE seems to have trouble accurately determining the free space on drives on a network file server that I have mounted with SSHFS, so it will say there is not enough space even when there is. \\n\\nIs there a way to get Dolphin to ignore this error and attempt to copy the files anyway? Like the way the cp command does it, where it doesn't really care how much space is on the drive, and will only throw an error if it actually fills up before it's done copying. Or better yet, is there a way to get Dolphin to still warn me about potential space issues, but have the option to ignore it and attempt to c...  \n",
       "\n",
       "[387071 rows x 5 columns]"
      ]
     },
     "execution_count": 8,
     "metadata": {},
     "output_type": "execute_result"
    }
   ],
   "source": [
    "df_reddit = pd.read_csv(file_reddit)\n",
    "df_reddit = df_reddit.drop(columns=['Unnamed: 0', 'json'])\n",
    "df_reddit"
   ]
  },
  {
   "cell_type": "markdown",
   "id": "8ac41545",
   "metadata": {},
   "source": [
    "### Files "
   ]
  },
  {
   "cell_type": "code",
   "execution_count": 9,
   "id": "d7ecdb03",
   "metadata": {},
   "outputs": [],
   "source": [
    "file_files = r'C:\\Users\\\\leona\\\\OneDrive\\\\Desktop\\\\Tesi\\\\Pipeline\\\\Datasets\\\\Pipeline\\\\FileAnalysis\\\\ER_Schema\\\\Entries.csv'\n",
    "attack_files = r'C:\\Users\\\\leona\\\\OneDrive\\\\Desktop\\\\Tesi\\\\Pipeline\\\\Datasets\\\\Pipeline\\\\FileAnalysis\\\\ER_Schema\\\\Attacks.csv'\n",
    "behaviour_files = r'C:\\Users\\\\leona\\\\OneDrive\\\\Desktop\\\\Tesi\\\\Pipeline\\\\Datasets\\\\Pipeline\\\\FileAnalysis\\\\ER_Schema\\\\Behaviours.csv'"
   ]
  },
  {
   "cell_type": "code",
   "execution_count": 10,
   "id": "589cf0b5",
   "metadata": {
    "scrolled": true
   },
   "outputs": [
    {
     "data": {
      "text/html": [
       "<div>\n",
       "<style scoped>\n",
       "    .dataframe tbody tr th:only-of-type {\n",
       "        vertical-align: middle;\n",
       "    }\n",
       "\n",
       "    .dataframe tbody tr th {\n",
       "        vertical-align: top;\n",
       "    }\n",
       "\n",
       "    .dataframe thead th {\n",
       "        text-align: right;\n",
       "    }\n",
       "</style>\n",
       "<table border=\"1\" class=\"dataframe\">\n",
       "  <thead>\n",
       "    <tr style=\"text-align: right;\">\n",
       "      <th></th>\n",
       "      <th>sha1</th>\n",
       "      <th>sha256</th>\n",
       "      <th>md5</th>\n",
       "      <th>analysis_date</th>\n",
       "      <th>file_type</th>\n",
       "      <th>delivery_method</th>\n",
       "      <th>verdict</th>\n",
       "      <th>malware_type</th>\n",
       "      <th>malware</th>\n",
       "    </tr>\n",
       "  </thead>\n",
       "  <tbody>\n",
       "    <tr>\n",
       "      <th>0</th>\n",
       "      <td>411535c9548f86034a6a9a603de521a86a3b5466</td>\n",
       "      <td>04c53261b1220a894a02f5ffb39cdfd73f93481c0b5c8106d21c91b20205c62d</td>\n",
       "      <td>5b5a0225a2b7b9a054417662c733168a</td>\n",
       "      <td>2021-11-09</td>\n",
       "      <td>exe</td>\n",
       "      <td>email attachment</td>\n",
       "      <td>malicious</td>\n",
       "      <td>trojan</td>\n",
       "      <td>remcos</td>\n",
       "    </tr>\n",
       "    <tr>\n",
       "      <th>1</th>\n",
       "      <td>1ad9e9761fd6935c0cf5048c9615d0383baac48e</td>\n",
       "      <td>ac901bf5882f14e9e07235b8488b6479b4519addda6dbfb89147401c1e9e6e4f</td>\n",
       "      <td>da9534900ee0d11c9b30cf33152ea03c</td>\n",
       "      <td>2023-07-19</td>\n",
       "      <td>exe</td>\n",
       "      <td>web download</td>\n",
       "      <td>malicious</td>\n",
       "      <td>trojan</td>\n",
       "      <td>remcos</td>\n",
       "    </tr>\n",
       "    <tr>\n",
       "      <th>2</th>\n",
       "      <td>8ab63abfe58fb218cc001581ac0d9fe38c784157</td>\n",
       "      <td>7f514ed5e1ec262953e6252a4089531c519e95d700c5808415b0f049fc59a5f0</td>\n",
       "      <td>855232a26e8afcd0cca5f816a1919dee</td>\n",
       "      <td>2022-01-04</td>\n",
       "      <td>exe</td>\n",
       "      <td>unknown</td>\n",
       "      <td>malicious</td>\n",
       "      <td>ransomware</td>\n",
       "      <td>remcos</td>\n",
       "    </tr>\n",
       "    <tr>\n",
       "      <th>3</th>\n",
       "      <td>55cbf8dae95d350ad7e5a63b418f6cd203488f51</td>\n",
       "      <td>8b7ae9f195b075a789d6d8277d500d27754bfa3c53ecca8db7beac8ccd07884f</td>\n",
       "      <td>97d9d216f2627cb238ca6637580b1739</td>\n",
       "      <td>2022-02-09</td>\n",
       "      <td>exe</td>\n",
       "      <td>unknown</td>\n",
       "      <td>malicious</td>\n",
       "      <td>trojan</td>\n",
       "      <td>remcos</td>\n",
       "    </tr>\n",
       "    <tr>\n",
       "      <th>4</th>\n",
       "      <td>a2915c1be9e6134b7bf3ca5ca00eeb0c969bedab</td>\n",
       "      <td>6c2a2251861a6d2701814843fadac940cf4d34db9f446f0698352fd866b31739</td>\n",
       "      <td>1b09de36dfe5850d7e3fbd6b39c89a43</td>\n",
       "      <td>2021-02-11</td>\n",
       "      <td>exe</td>\n",
       "      <td>web download</td>\n",
       "      <td>malicious</td>\n",
       "      <td>trojan</td>\n",
       "      <td>generic mg</td>\n",
       "    </tr>\n",
       "    <tr>\n",
       "      <th>...</th>\n",
       "      <td>...</td>\n",
       "      <td>...</td>\n",
       "      <td>...</td>\n",
       "      <td>...</td>\n",
       "      <td>...</td>\n",
       "      <td>...</td>\n",
       "      <td>...</td>\n",
       "      <td>...</td>\n",
       "      <td>...</td>\n",
       "    </tr>\n",
       "    <tr>\n",
       "      <th>2657</th>\n",
       "      <td>6b6955af591154d3f6e2db35ca9904cce7e264b1</td>\n",
       "      <td>3a9d8c693b7dc6a9c2bf876c5626ebd0923e35bd5f698baed248df7f51f67275</td>\n",
       "      <td>03872a722df0b073a84fd1aa45eb9376</td>\n",
       "      <td>2020-02-20</td>\n",
       "      <td>elf</td>\n",
       "      <td>unknown</td>\n",
       "      <td>malicious</td>\n",
       "      <td>worm</td>\n",
       "      <td>agent tesla</td>\n",
       "    </tr>\n",
       "    <tr>\n",
       "      <th>2658</th>\n",
       "      <td>3ab53037e2360c42b57d213234ced58717844a71</td>\n",
       "      <td>5de4932cb0ccab3fec711135cdd1af5a09c26a870bfb2d2adc650d0fdbf16488</td>\n",
       "      <td>e0fea510c784eb0e440e99e53d83d414</td>\n",
       "      <td>2021-07-14</td>\n",
       "      <td>exe</td>\n",
       "      <td>unknown</td>\n",
       "      <td>malicious</td>\n",
       "      <td>spyware</td>\n",
       "      <td>generickd</td>\n",
       "    </tr>\n",
       "    <tr>\n",
       "      <th>2659</th>\n",
       "      <td>4f9b9859a596a8bfdfee516788587ca0c0fb6ae8</td>\n",
       "      <td>f10dd5ce32d72489dd2696e5b58ee115f3cd065969a61a6613cab27bcd57de70</td>\n",
       "      <td>c9f771be253b6ca1d7a808d7d65c5e29</td>\n",
       "      <td>2020-09-08</td>\n",
       "      <td>exe</td>\n",
       "      <td>unknown</td>\n",
       "      <td>malicious</td>\n",
       "      <td>trojan</td>\n",
       "      <td>unknown</td>\n",
       "    </tr>\n",
       "    <tr>\n",
       "      <th>2660</th>\n",
       "      <td>d14540087dd6d350fb49e644e53ccefc0e4c1582</td>\n",
       "      <td>dba8a4717d516772b8cc06bd258265f21f7db6ddab62328917524c5a243c67a1</td>\n",
       "      <td>fe783ff4bccd76cb215ee1f7738d9ed5</td>\n",
       "      <td>2021-12-20</td>\n",
       "      <td>exe</td>\n",
       "      <td>unknown</td>\n",
       "      <td>unknown</td>\n",
       "      <td>unknown</td>\n",
       "      <td>unknown</td>\n",
       "    </tr>\n",
       "    <tr>\n",
       "      <th>2661</th>\n",
       "      <td>98837feaac2ed17b3709e5183b660dd41e7a1e0e</td>\n",
       "      <td>5b37ddd18800dc91071db31b340e8f9997bb89d42d5a194d7ff8c980a54abe89</td>\n",
       "      <td>1b47215513edd622ba825dced07c8969</td>\n",
       "      <td>2021-11-11</td>\n",
       "      <td>exe</td>\n",
       "      <td>unknown</td>\n",
       "      <td>malicious</td>\n",
       "      <td>trojan</td>\n",
       "      <td>crypter gen</td>\n",
       "    </tr>\n",
       "  </tbody>\n",
       "</table>\n",
       "<p>2662 rows × 9 columns</p>\n",
       "</div>"
      ],
      "text/plain": [
       "                                          sha1  \\\n",
       "0     411535c9548f86034a6a9a603de521a86a3b5466   \n",
       "1     1ad9e9761fd6935c0cf5048c9615d0383baac48e   \n",
       "2     8ab63abfe58fb218cc001581ac0d9fe38c784157   \n",
       "3     55cbf8dae95d350ad7e5a63b418f6cd203488f51   \n",
       "4     a2915c1be9e6134b7bf3ca5ca00eeb0c969bedab   \n",
       "...                                        ...   \n",
       "2657  6b6955af591154d3f6e2db35ca9904cce7e264b1   \n",
       "2658  3ab53037e2360c42b57d213234ced58717844a71   \n",
       "2659  4f9b9859a596a8bfdfee516788587ca0c0fb6ae8   \n",
       "2660  d14540087dd6d350fb49e644e53ccefc0e4c1582   \n",
       "2661  98837feaac2ed17b3709e5183b660dd41e7a1e0e   \n",
       "\n",
       "                                                                sha256  \\\n",
       "0     04c53261b1220a894a02f5ffb39cdfd73f93481c0b5c8106d21c91b20205c62d   \n",
       "1     ac901bf5882f14e9e07235b8488b6479b4519addda6dbfb89147401c1e9e6e4f   \n",
       "2     7f514ed5e1ec262953e6252a4089531c519e95d700c5808415b0f049fc59a5f0   \n",
       "3     8b7ae9f195b075a789d6d8277d500d27754bfa3c53ecca8db7beac8ccd07884f   \n",
       "4     6c2a2251861a6d2701814843fadac940cf4d34db9f446f0698352fd866b31739   \n",
       "...                                                                ...   \n",
       "2657  3a9d8c693b7dc6a9c2bf876c5626ebd0923e35bd5f698baed248df7f51f67275   \n",
       "2658  5de4932cb0ccab3fec711135cdd1af5a09c26a870bfb2d2adc650d0fdbf16488   \n",
       "2659  f10dd5ce32d72489dd2696e5b58ee115f3cd065969a61a6613cab27bcd57de70   \n",
       "2660  dba8a4717d516772b8cc06bd258265f21f7db6ddab62328917524c5a243c67a1   \n",
       "2661  5b37ddd18800dc91071db31b340e8f9997bb89d42d5a194d7ff8c980a54abe89   \n",
       "\n",
       "                                   md5 analysis_date file_type  \\\n",
       "0     5b5a0225a2b7b9a054417662c733168a    2021-11-09       exe   \n",
       "1     da9534900ee0d11c9b30cf33152ea03c    2023-07-19       exe   \n",
       "2     855232a26e8afcd0cca5f816a1919dee    2022-01-04       exe   \n",
       "3     97d9d216f2627cb238ca6637580b1739    2022-02-09       exe   \n",
       "4     1b09de36dfe5850d7e3fbd6b39c89a43    2021-02-11       exe   \n",
       "...                                ...           ...       ...   \n",
       "2657  03872a722df0b073a84fd1aa45eb9376    2020-02-20       elf   \n",
       "2658  e0fea510c784eb0e440e99e53d83d414    2021-07-14       exe   \n",
       "2659  c9f771be253b6ca1d7a808d7d65c5e29    2020-09-08       exe   \n",
       "2660  fe783ff4bccd76cb215ee1f7738d9ed5    2021-12-20       exe   \n",
       "2661  1b47215513edd622ba825dced07c8969    2021-11-11       exe   \n",
       "\n",
       "       delivery_method    verdict malware_type      malware  \n",
       "0     email attachment  malicious       trojan       remcos  \n",
       "1         web download  malicious       trojan       remcos  \n",
       "2              unknown  malicious   ransomware       remcos  \n",
       "3              unknown  malicious       trojan       remcos  \n",
       "4         web download  malicious       trojan   generic mg  \n",
       "...                ...        ...          ...          ...  \n",
       "2657           unknown  malicious         worm  agent tesla  \n",
       "2658           unknown  malicious      spyware    generickd  \n",
       "2659           unknown  malicious       trojan      unknown  \n",
       "2660           unknown    unknown      unknown      unknown  \n",
       "2661           unknown  malicious       trojan  crypter gen  \n",
       "\n",
       "[2662 rows x 9 columns]"
      ]
     },
     "execution_count": 10,
     "metadata": {},
     "output_type": "execute_result"
    }
   ],
   "source": [
    "df_files = pd.read_csv(file_files, low_memory = False)\n",
    "#df_files = df_files.drop(columns=['Unnamed: 0'])\n",
    "df_files"
   ]
  },
  {
   "cell_type": "markdown",
   "id": "5c976ab9",
   "metadata": {},
   "source": [
    "### Malwares"
   ]
  },
  {
   "cell_type": "code",
   "execution_count": 11,
   "id": "ca543511",
   "metadata": {},
   "outputs": [
    {
     "data": {
      "text/plain": [
       "['trojan',\n",
       " 'ransomware',\n",
       " 'adware',\n",
       " 'worm',\n",
       " 'dropper',\n",
       " 'rootkit',\n",
       " 'spyware',\n",
       " 'keylogger',\n",
       " 'backdoor',\n",
       " 'downloader',\n",
       " 'botnet']"
      ]
     },
     "execution_count": 11,
     "metadata": {},
     "output_type": "execute_result"
    }
   ],
   "source": [
    "all_malware_types_list = list(df_files.malware_type.unique())\n",
    "all_malware_types_list = [item for item in all_malware_types_list if item != 'unknown']\n",
    "\n",
    "all_malware_types_list"
   ]
  },
  {
   "cell_type": "markdown",
   "id": "03f6cc08",
   "metadata": {},
   "source": [
    "#### Malwares"
   ]
  },
  {
   "cell_type": "code",
   "execution_count": 12,
   "id": "f336b70b",
   "metadata": {},
   "outputs": [
    {
     "data": {
      "text/plain": [
       "['remcos',\n",
       " 'generic mg',\n",
       " 'njrat',\n",
       " 'bitrat',\n",
       " 'mirai',\n",
       " 'injector gen',\n",
       " 'generickd',\n",
       " 'quasar rat',\n",
       " 'muldrop',\n",
       " 'netwire',\n",
       " 'ave maria',\n",
       " 'script cryxos',\n",
       " 'downloader gen',\n",
       " 'orcus',\n",
       " 'x gen drp',\n",
       " 'agent tesla',\n",
       " 'nanocore rat',\n",
       " 'redline stealer',\n",
       " 'lumma stealer',\n",
       " 'siggen',\n",
       " 'spynote',\n",
       " 'kryptik gen',\n",
       " 'obfus',\n",
       " 'kryptik gen eldorado',\n",
       " 'valyria',\n",
       " 'artemis',\n",
       " 'twave evil',\n",
       " 'java gen',\n",
       " 'borlanddelphi',\n",
       " 'cobalt strike',\n",
       " 'aidetect net',\n",
       " 'miscreantpunch',\n",
       " 'perseus',\n",
       " 'behaveslike generic',\n",
       " 'heracles',\n",
       " 'darkcomet',\n",
       " 'crypter gen',\n",
       " 'wannacryptor',\n",
       " 'formbook',\n",
       " 'azorult',\n",
       " 'genmalicious',\n",
       " 'bv downloader drp',\n",
       " 'evo gen',\n",
       " 'ddos',\n",
       " 'gafgyt',\n",
       " 'keylogger gen',\n",
       " 'cve exploit',\n",
       " 'banker gen',\n",
       " 'autoit',\n",
       " 'exploitx',\n",
       " 'coinminer generic',\n",
       " 'loki password stealer  pws',\n",
       " 'meterpreter',\n",
       " 'crimson rat',\n",
       " 'nanobot',\n",
       " 'ghost rat']"
      ]
     },
     "execution_count": 12,
     "metadata": {},
     "output_type": "execute_result"
    }
   ],
   "source": [
    "all_malware_list = list(df_files.malware.unique())\n",
    "all_malware_list = [item for item in all_malware_list if (item != 'unknown') & (item != 'malware_tag')]\n",
    "all_malware_list"
   ]
  },
  {
   "cell_type": "markdown",
   "id": "9a67df1c",
   "metadata": {},
   "source": [
    "#### Delivery Methods"
   ]
  },
  {
   "cell_type": "code",
   "execution_count": 13,
   "id": "4600cac9",
   "metadata": {},
   "outputs": [
    {
     "data": {
      "text/plain": [
       "['email attachment', 'web download', 'email link']"
      ]
     },
     "execution_count": 13,
     "metadata": {},
     "output_type": "execute_result"
    }
   ],
   "source": [
    "all_delivery_method_list = list(df_files.delivery_method.unique())\n",
    "all_delivery_method_list = [ item for item in all_delivery_method_list if (item != 'unknown') ]\n",
    "all_delivery_method_list"
   ]
  },
  {
   "cell_type": "markdown",
   "id": "fd527b44",
   "metadata": {},
   "source": [
    "#### Behaviours"
   ]
  },
  {
   "cell_type": "code",
   "execution_count": 14,
   "id": "e667156c",
   "metadata": {},
   "outputs": [
    {
     "data": {
      "text/html": [
       "<div>\n",
       "<style scoped>\n",
       "    .dataframe tbody tr th:only-of-type {\n",
       "        vertical-align: middle;\n",
       "    }\n",
       "\n",
       "    .dataframe tbody tr th {\n",
       "        vertical-align: top;\n",
       "    }\n",
       "\n",
       "    .dataframe thead th {\n",
       "        text-align: right;\n",
       "    }\n",
       "</style>\n",
       "<table border=\"1\" class=\"dataframe\">\n",
       "  <thead>\n",
       "    <tr style=\"text-align: right;\">\n",
       "      <th></th>\n",
       "      <th>sha1</th>\n",
       "      <th>sha256</th>\n",
       "      <th>md5</th>\n",
       "      <th>action_name</th>\n",
       "      <th>action_description</th>\n",
       "      <th>maliciousness_level</th>\n",
       "      <th>area</th>\n",
       "    </tr>\n",
       "  </thead>\n",
       "  <tbody>\n",
       "    <tr>\n",
       "      <th>0</th>\n",
       "      <td>007416f9ba10d2e2951a9dcd104b7206ad20d433</td>\n",
       "      <td>094b57a07096fb1f866a104c0b14c84aa99815b613587780765c8c6cd6ef1a42</td>\n",
       "      <td>7baa4836bd81113c16960501f679a81b</td>\n",
       "      <td>antidebug guardpages</td>\n",
       "      <td>guard pages use detected - possible anti-debugging.</td>\n",
       "      <td>neutral</td>\n",
       "      <td>System Processes</td>\n",
       "    </tr>\n",
       "    <tr>\n",
       "      <th>1</th>\n",
       "      <td>007416f9ba10d2e2951a9dcd104b7206ad20d433</td>\n",
       "      <td>094b57a07096fb1f866a104c0b14c84aa99815b613587780765c8c6cd6ef1a42</td>\n",
       "      <td>7baa4836bd81113c16960501f679a81b</td>\n",
       "      <td>antidebug setunhandledexceptionfilter</td>\n",
       "      <td>setunhandledexceptionfilter detected (possible anti-debug)</td>\n",
       "      <td>neutral</td>\n",
       "      <td>System Processes</td>\n",
       "    </tr>\n",
       "    <tr>\n",
       "      <th>2</th>\n",
       "      <td>007416f9ba10d2e2951a9dcd104b7206ad20d433</td>\n",
       "      <td>094b57a07096fb1f866a104c0b14c84aa99815b613587780765c8c6cd6ef1a42</td>\n",
       "      <td>7baa4836bd81113c16960501f679a81b</td>\n",
       "      <td>cape detected threat</td>\n",
       "      <td>cape detected the asyncrat malware</td>\n",
       "      <td>suspicious</td>\n",
       "      <td>Network Activity</td>\n",
       "    </tr>\n",
       "    <tr>\n",
       "      <th>3</th>\n",
       "      <td>007416f9ba10d2e2951a9dcd104b7206ad20d433</td>\n",
       "      <td>094b57a07096fb1f866a104c0b14c84aa99815b613587780765c8c6cd6ef1a42</td>\n",
       "      <td>7baa4836bd81113c16960501f679a81b</td>\n",
       "      <td>cmdline terminate</td>\n",
       "      <td>executed a command line with /c or /r argument to terminate command shell on completion which can be used to hide execution</td>\n",
       "      <td>neutral</td>\n",
       "      <td>System Processes</td>\n",
       "    </tr>\n",
       "    <tr>\n",
       "      <th>4</th>\n",
       "      <td>007416f9ba10d2e2951a9dcd104b7206ad20d433</td>\n",
       "      <td>094b57a07096fb1f866a104c0b14c84aa99815b613587780765c8c6cd6ef1a42</td>\n",
       "      <td>7baa4836bd81113c16960501f679a81b</td>\n",
       "      <td>dead connect</td>\n",
       "      <td>attempts to connect to a dead ip:port (1 unique times)</td>\n",
       "      <td>neutral</td>\n",
       "      <td>Network Communications</td>\n",
       "    </tr>\n",
       "  </tbody>\n",
       "</table>\n",
       "</div>"
      ],
      "text/plain": [
       "                                       sha1  \\\n",
       "0  007416f9ba10d2e2951a9dcd104b7206ad20d433   \n",
       "1  007416f9ba10d2e2951a9dcd104b7206ad20d433   \n",
       "2  007416f9ba10d2e2951a9dcd104b7206ad20d433   \n",
       "3  007416f9ba10d2e2951a9dcd104b7206ad20d433   \n",
       "4  007416f9ba10d2e2951a9dcd104b7206ad20d433   \n",
       "\n",
       "                                                             sha256  \\\n",
       "0  094b57a07096fb1f866a104c0b14c84aa99815b613587780765c8c6cd6ef1a42   \n",
       "1  094b57a07096fb1f866a104c0b14c84aa99815b613587780765c8c6cd6ef1a42   \n",
       "2  094b57a07096fb1f866a104c0b14c84aa99815b613587780765c8c6cd6ef1a42   \n",
       "3  094b57a07096fb1f866a104c0b14c84aa99815b613587780765c8c6cd6ef1a42   \n",
       "4  094b57a07096fb1f866a104c0b14c84aa99815b613587780765c8c6cd6ef1a42   \n",
       "\n",
       "                                md5                            action_name  \\\n",
       "0  7baa4836bd81113c16960501f679a81b                   antidebug guardpages   \n",
       "1  7baa4836bd81113c16960501f679a81b  antidebug setunhandledexceptionfilter   \n",
       "2  7baa4836bd81113c16960501f679a81b                   cape detected threat   \n",
       "3  7baa4836bd81113c16960501f679a81b                      cmdline terminate   \n",
       "4  7baa4836bd81113c16960501f679a81b                           dead connect   \n",
       "\n",
       "                                                                                                            action_description  \\\n",
       "0                                                                          guard pages use detected - possible anti-debugging.   \n",
       "1                                                                   setunhandledexceptionfilter detected (possible anti-debug)   \n",
       "2                                                                                           cape detected the asyncrat malware   \n",
       "3  executed a command line with /c or /r argument to terminate command shell on completion which can be used to hide execution   \n",
       "4                                                                       attempts to connect to a dead ip:port (1 unique times)   \n",
       "\n",
       "  maliciousness_level                    area  \n",
       "0             neutral        System Processes  \n",
       "1             neutral        System Processes  \n",
       "2          suspicious        Network Activity  \n",
       "3             neutral        System Processes  \n",
       "4             neutral  Network Communications  "
      ]
     },
     "execution_count": 14,
     "metadata": {},
     "output_type": "execute_result"
    }
   ],
   "source": [
    "behaviours = pd.read_csv(behaviour_files)\n",
    "#behaviours = behaviours.drop(columns=['Unnamed: 0'])\n",
    "behaviours.head()"
   ]
  },
  {
   "cell_type": "code",
   "execution_count": 15,
   "id": "111e57f5",
   "metadata": {},
   "outputs": [
    {
     "data": {
      "text/plain": [
       "['antidebug guardpages',\n",
       " 'antidebug setunhandledexceptionfilter',\n",
       " 'cape detected threat',\n",
       " 'cmdline terminate',\n",
       " 'dead connect',\n",
       " 'deletes executed files',\n",
       " 'dynamic function loading',\n",
       " 'injection rwx',\n",
       " 'persistence autorun tasks',\n",
       " 'process creation suspicious location',\n",
       " 'reads self',\n",
       " 'stealth timeout',\n",
       " 'stealth window',\n",
       " 'suspicious command tools',\n",
       " 'uses windows utilities',\n",
       " 'uses windows utilities to create scheduled task',\n",
       " 'allocates execute remote process',\n",
       " 'allocates rwx',\n",
       " 'antivm memory available',\n",
       " 'antivm network adapters',\n",
       " 'antivm queries computername',\n",
       " 'checks debugger',\n",
       " 'creates exe',\n",
       " 'dead host',\n",
       " 'dumped buffer',\n",
       " 'exe appdata',\n",
       " 'generates crypto key',\n",
       " 'has pdb',\n",
       " 'injection ntsetcontextthread',\n",
       " 'injection resumethread',\n",
       " 'injection runpe',\n",
       " 'injection write memory',\n",
       " 'injection write memory exe',\n",
       " 'nolookup communication',\n",
       " 'packer entropy',\n",
       " 'persistence autorun',\n",
       " 'privilege luid check',\n",
       " 'removes zoneid ads',\n",
       " 'schtask create',\n",
       " 'suspicious process',\n",
       " 'network icmp',\n",
       " 'osquery detection',\n",
       " 'dumped buffer2',\n",
       " 'infostealer keylogger',\n",
       " 'networkdyndns checkip',\n",
       " 'nids alert',\n",
       " 'infostealer ftp',\n",
       " 'queries programs',\n",
       " 'raises exception',\n",
       " 'recon programs',\n",
       " 'antisandbox sleep',\n",
       " 'console output',\n",
       " 'packer polymorphic',\n",
       " 'protection rx',\n",
       " 'antisandbox foregroundwindows',\n",
       " 'process martian',\n",
       " 'suspicious write exe',\n",
       " 'antisandbox idletime',\n",
       " 'antisandbox mouse hook',\n",
       " 'pe features',\n",
       " 'powershell reg add',\n",
       " 'infostealer browser',\n",
       " 'infostealer im',\n",
       " 'infostealer mail',\n",
       " 'injection process search',\n",
       " 'locates browser',\n",
       " 'network downloader exe',\n",
       " 'infostealer keylog',\n",
       " 'ransomware file modifications',\n",
       " 'disables security',\n",
       " 'dropper',\n",
       " 'creates hidden file',\n",
       " 'document open',\n",
       " 'network cnc http',\n",
       " 'network http',\n",
       " 'nids malware alert',\n",
       " 'stealth system procname',\n",
       " 'network multiple direct ip connections',\n",
       " 'accesses recyclebin',\n",
       " 'anomalous deletefile',\n",
       " 'antivm generic bios',\n",
       " 'antivm generic disk',\n",
       " 'creates largekey',\n",
       " 'enumerates physical drives',\n",
       " 'exec crash',\n",
       " 'infostealer cookies',\n",
       " 'injection inter process',\n",
       " 'injection process hollowing',\n",
       " 'modify desktop wallpaper',\n",
       " 'physical drive access',\n",
       " 'powershell request',\n",
       " 'recon fingerprint',\n",
       " 'terminates remote process',\n",
       " 'antivm generic services',\n",
       " 'modifies proxy wpad',\n",
       " 'http request',\n",
       " 'infostealer bitcoin',\n",
       " 'network cnc https generic',\n",
       " 'network dyndns',\n",
       " 'powershell download',\n",
       " 'procmem yara',\n",
       " 'recon checkip',\n",
       " 'antivm disk size',\n",
       " 'origin langid',\n",
       " 'peid packer',\n",
       " 'antidbg windows',\n",
       " 'antivm vmware in instruction',\n",
       " 'injection network trafic',\n",
       " 'process interest',\n",
       " 'stealth hiddenfile',\n",
       " 'stops service',\n",
       " 'https urls',\n",
       " 'injection createremotethread',\n",
       " 'injection modifies memory',\n",
       " 'multiple useragents',\n",
       " 'antivm generic cpu',\n",
       " 'persistence ads',\n",
       " 'registry credential store access',\n",
       " 'cloud google',\n",
       " 'rat spynet',\n",
       " 'creates shortcut',\n",
       " 'encrypt pcinfo',\n",
       " 'suricata alert',\n",
       " 'disables proxy',\n",
       " 'has wmi',\n",
       " 'network bind',\n",
       " 'process needed',\n",
       " 'ransomware appends extensions',\n",
       " 'ransomware file moves',\n",
       " 'rat teamviewer',\n",
       " 'wmi antivm',\n",
       " 'pe unknown resource name',\n",
       " 'modifies certificates',\n",
       " 'powershell dfsp',\n",
       " 'suspicious powershell',\n",
       " 'antiemu wine',\n",
       " 'antivm generic scsi',\n",
       " 'antivm vbox keys',\n",
       " 'antivm vmware keys',\n",
       " 'creates service',\n",
       " 'cape extracted content',\n",
       " 'injection create remote thread',\n",
       " 'rat nanocore',\n",
       " 'spawns dev util',\n",
       " 'packer upx',\n",
       " 'accesses public folder',\n",
       " 'encrypted ioc',\n",
       " 'antiav detectfile',\n",
       " 'tcp syn scan',\n",
       " 'powershell command suspicious',\n",
       " 'powershell scriptblock logging',\n",
       " 'script tool executed',\n",
       " 'ransomware extensions',\n",
       " 'suspicious tld',\n",
       " 'remcos files',\n",
       " 'remcos mutexes',\n",
       " 'remcos regkeys',\n",
       " 'antidbg devices',\n",
       " 'cybergate',\n",
       " 'antisandbox unhook',\n",
       " 'creates doc',\n",
       " 'locker taskmgr',\n",
       " 'darkcomet regkeys',\n",
       " 'deletes self',\n",
       " 'dotnet csc build',\n",
       " 'network dns reverse proxy',\n",
       " 'rat fynloski mutexes',\n",
       " 'sysinternals tools usage',\n",
       " 'modifies security center warnings',\n",
       " 'rat fynloski',\n",
       " 'p2p cnc',\n",
       " 'writes to stdout',\n",
       " 'network document file',\n",
       " 'network http post',\n",
       " 'rat bifrose',\n",
       " 'antisandbox sboxie libs',\n",
       " 'dll load uncommon file types',\n",
       " 'moves self',\n",
       " 'persistence registry javascript',\n",
       " 'persistence registry powershell',\n",
       " 'network irc',\n",
       " 'process crash',\n",
       " 'antiav avast libs',\n",
       " 'applcation raises exception',\n",
       " 'creates user folder exe',\n",
       " 'enumerates running processes',\n",
       " 'spooler svc start',\n",
       " 'stealth hiddenreg',\n",
       " 'stealth network',\n",
       " 'rat quasar mutexes',\n",
       " 'sniffer winpcap',\n",
       " 'banker bancos',\n",
       " 'network fake useragent',\n",
       " 'network questionable http path',\n",
       " 'stop ransom mutexes',\n",
       " 'stop ransomware cmd',\n",
       " 'stop ransomware registry',\n",
       " 'disables uac',\n",
       " 'script created process',\n",
       " 'nids exploit alert',\n",
       " 'long commandline',\n",
       " 'antivm firmware',\n",
       " 'modifies zoneid',\n",
       " 'disables windows defender',\n",
       " 'network cnc https free webshoting',\n",
       " 'network cnc https socialmedia',\n",
       " 'network ip exe',\n",
       " 'venomrat mutexes',\n",
       " 'virus',\n",
       " 'malicious document urls',\n",
       " 'network wscript downloader',\n",
       " 'bladabindi mutexes',\n",
       " 'ransomware mass file delete',\n",
       " 'netwire',\n",
       " 'antisandbox suspend',\n",
       " 'network dns paste site',\n",
       " 'antivm generic system',\n",
       " 'warzonerat files',\n",
       " 'windows defender powershell',\n",
       " 'antivm vbox files',\n",
       " 'antivm vmware files',\n",
       " 'bypass firewall',\n",
       " 'injection network traffic',\n",
       " 'modify security center warnings',\n",
       " 'rat sdbot',\n",
       " 'antidebug ntsetinformationthread',\n",
       " 'antiav detectreg',\n",
       " 'network dns blockchain',\n",
       " 'rtf unknown character set',\n",
       " 'network cnc https payload',\n",
       " 'renostrojan',\n",
       " 'plugx',\n",
       " 'network tor',\n",
       " 'js eval',\n",
       " 'antiemu wine func',\n",
       " 'injection queueapcthread',\n",
       " 'njrat regkeys',\n",
       " 'disables system restore',\n",
       " 'accesses netlogon regkey',\n",
       " 'createtoolhelp32snapshot module enumeration',\n",
       " 'mimics agent',\n",
       " 'suspicious ping use',\n",
       " 'uses windows utilities nltest',\n",
       " 'spreading autoruninf',\n",
       " 'antivm vbox devices',\n",
       " 'rat rbot',\n",
       " 'network excessive udp',\n",
       " 'chmod 777 perm',\n",
       " 'browser security',\n",
       " 'detect putty',\n",
       " 'memdump urls',\n",
       " 'ransomware dropped files',\n",
       " 'rat xtreme',\n",
       " 'modify uac prompt',\n",
       " 'packer vmprotect',\n",
       " 'banker zeus p2p',\n",
       " 'orcusrat behavior',\n",
       " 'exploit heapspray',\n",
       " 'persists dev util',\n",
       " 'rtf unknown version',\n",
       " 'antisandbox sunbelt libs',\n",
       " 'network anomaly',\n",
       " 'spoofs procname',\n",
       " 'antidebug windows',\n",
       " 'recon beacon',\n",
       " 'network cnc https pastesite',\n",
       " 'suspicious certutil use',\n",
       " 'alters windows utility',\n",
       " 'powershell renamed',\n",
       " 'nitol',\n",
       " 'warzonerat regkeys',\n",
       " 'exec waitfor',\n",
       " 'martian command process',\n",
       " 'antivirus virustotal',\n",
       " 'banker zeus mutex',\n",
       " 'copies self',\n",
       " 'cryptopool domains',\n",
       " 'antiav servicestop',\n",
       " 'masquerade process name',\n",
       " 'antivm sandboxie',\n",
       " 'recon systeminfo',\n",
       " 'modify certs',\n",
       " 'cryptomining stratum command',\n",
       " 'network dns txt lookup',\n",
       " 'antisandbox file',\n",
       " 'antisandbox joe anubis files',\n",
       " 'captures screenshot',\n",
       " 'netwire behavior',\n",
       " 'cypherit mutexes',\n",
       " 'network dga',\n",
       " 'stealth childproc',\n",
       " 'cmdline long string',\n",
       " 'crontab persistency',\n",
       " 'antivm generic diskreg',\n",
       " 'win32 process create',\n",
       " 'suspicious js script',\n",
       " 'cmdline obfuscation',\n",
       " 'cmdline http link',\n",
       " 'network cnc https opensource',\n",
       " 'antisandbox cuckoo files',\n",
       " 'blackrat apis',\n",
       " 'persistence registry exe',\n",
       " 'trojan jorik',\n",
       " 'andromeda',\n",
       " 'uses powershell copyitem',\n",
       " 'polymorphic',\n",
       " 'stealth hidden extension',\n",
       " 'network cnc https useragent',\n",
       " 'browser helper object',\n",
       " 'browser startpage',\n",
       " 'dns freehosting domain',\n",
       " 'packer themida',\n",
       " 'dyreza',\n",
       " 'upatre',\n",
       " 'modify proxy',\n",
       " 'static pe anomaly',\n",
       " 'stealth file',\n",
       " 'powershell network connection',\n",
       " 'disables windows file protection',\n",
       " 'antidebug devices',\n",
       " 'antiemu wine reg',\n",
       " 'rat buzus mutexes',\n",
       " 'office cve2017 11882 network']"
      ]
     },
     "execution_count": 15,
     "metadata": {},
     "output_type": "execute_result"
    }
   ],
   "source": [
    "all_behaviours_name_list = list(behaviours.action_name.unique())\n",
    "all_behaviours_name_list = [ item for item in all_behaviours_name_list if (item != 'unknown') ]\n",
    "all_behaviours_name_list"
   ]
  },
  {
   "cell_type": "markdown",
   "id": "2e3f8788",
   "metadata": {},
   "source": [
    "#### Attacks"
   ]
  },
  {
   "cell_type": "code",
   "execution_count": 16,
   "id": "3afab840",
   "metadata": {},
   "outputs": [
    {
     "data": {
      "text/html": [
       "<div>\n",
       "<style scoped>\n",
       "    .dataframe tbody tr th:only-of-type {\n",
       "        vertical-align: middle;\n",
       "    }\n",
       "\n",
       "    .dataframe tbody tr th {\n",
       "        vertical-align: top;\n",
       "    }\n",
       "\n",
       "    .dataframe thead th {\n",
       "        text-align: right;\n",
       "    }\n",
       "</style>\n",
       "<table border=\"1\" class=\"dataframe\">\n",
       "  <thead>\n",
       "    <tr style=\"text-align: right;\">\n",
       "      <th></th>\n",
       "      <th>sha1</th>\n",
       "      <th>sha256</th>\n",
       "      <th>md5</th>\n",
       "      <th>attack_id</th>\n",
       "      <th>attack_name</th>\n",
       "      <th>attack_type</th>\n",
       "    </tr>\n",
       "  </thead>\n",
       "  <tbody>\n",
       "    <tr>\n",
       "      <th>0</th>\n",
       "      <td>713a00b13a87c52b43404cd32d0f4645844709d9</td>\n",
       "      <td>3b96a384f9989f28315eb374eae991e70ed07b88665cbf831f24bd574502feac</td>\n",
       "      <td>97ad0714b0245825407dd25d7d168d31</td>\n",
       "      <td>T1060</td>\n",
       "      <td>Registry Run Keys / Start Folder</td>\n",
       "      <td>Installation</td>\n",
       "    </tr>\n",
       "    <tr>\n",
       "      <th>1</th>\n",
       "      <td>713a00b13a87c52b43404cd32d0f4645844709d9</td>\n",
       "      <td>3b96a384f9989f28315eb374eae991e70ed07b88665cbf831f24bd574502feac</td>\n",
       "      <td>97ad0714b0245825407dd25d7d168d31</td>\n",
       "      <td>T1056</td>\n",
       "      <td>Input Capture</td>\n",
       "      <td>Objectives</td>\n",
       "    </tr>\n",
       "    <tr>\n",
       "      <th>2</th>\n",
       "      <td>e900de5aea86567fadc7507a6811596eb4b86a14</td>\n",
       "      <td>3363270a2950c8518e7883ea147b3f947b3a96aa31d37a990c73f975946335ce</td>\n",
       "      <td>e076afd88fe6a708d91a3f771754e860</td>\n",
       "      <td>T1060</td>\n",
       "      <td>Registry Run Keys / Start Folder</td>\n",
       "      <td>Installation</td>\n",
       "    </tr>\n",
       "    <tr>\n",
       "      <th>3</th>\n",
       "      <td>12d263832d7f08122fbfc4431da22016e0823539</td>\n",
       "      <td>cf1260b1d0686dbee4a5c9e3bcd09eff07bfae0a53d17356b72150f59ad1a497</td>\n",
       "      <td>497d3c4d08b80e03f622064dced10135</td>\n",
       "      <td>T1119</td>\n",
       "      <td>Automated Collection</td>\n",
       "      <td>Objectives</td>\n",
       "    </tr>\n",
       "    <tr>\n",
       "      <th>4</th>\n",
       "      <td>12d263832d7f08122fbfc4431da22016e0823539</td>\n",
       "      <td>cf1260b1d0686dbee4a5c9e3bcd09eff07bfae0a53d17356b72150f59ad1a497</td>\n",
       "      <td>497d3c4d08b80e03f622064dced10135</td>\n",
       "      <td>T1045</td>\n",
       "      <td>Software Packing</td>\n",
       "      <td>Installation</td>\n",
       "    </tr>\n",
       "  </tbody>\n",
       "</table>\n",
       "</div>"
      ],
      "text/plain": [
       "                                       sha1  \\\n",
       "0  713a00b13a87c52b43404cd32d0f4645844709d9   \n",
       "1  713a00b13a87c52b43404cd32d0f4645844709d9   \n",
       "2  e900de5aea86567fadc7507a6811596eb4b86a14   \n",
       "3  12d263832d7f08122fbfc4431da22016e0823539   \n",
       "4  12d263832d7f08122fbfc4431da22016e0823539   \n",
       "\n",
       "                                                             sha256  \\\n",
       "0  3b96a384f9989f28315eb374eae991e70ed07b88665cbf831f24bd574502feac   \n",
       "1  3b96a384f9989f28315eb374eae991e70ed07b88665cbf831f24bd574502feac   \n",
       "2  3363270a2950c8518e7883ea147b3f947b3a96aa31d37a990c73f975946335ce   \n",
       "3  cf1260b1d0686dbee4a5c9e3bcd09eff07bfae0a53d17356b72150f59ad1a497   \n",
       "4  cf1260b1d0686dbee4a5c9e3bcd09eff07bfae0a53d17356b72150f59ad1a497   \n",
       "\n",
       "                                md5 attack_id  \\\n",
       "0  97ad0714b0245825407dd25d7d168d31     T1060   \n",
       "1  97ad0714b0245825407dd25d7d168d31     T1056   \n",
       "2  e076afd88fe6a708d91a3f771754e860     T1060   \n",
       "3  497d3c4d08b80e03f622064dced10135     T1119   \n",
       "4  497d3c4d08b80e03f622064dced10135     T1045   \n",
       "\n",
       "                        attack_name   attack_type  \n",
       "0  Registry Run Keys / Start Folder  Installation  \n",
       "1                     Input Capture    Objectives  \n",
       "2  Registry Run Keys / Start Folder  Installation  \n",
       "3              Automated Collection    Objectives  \n",
       "4                  Software Packing  Installation  "
      ]
     },
     "execution_count": 16,
     "metadata": {},
     "output_type": "execute_result"
    }
   ],
   "source": [
    "attacks = pd.read_csv(attack_files)\n",
    "#attacks = attacks.drop(columns=['Unnamed: 0'])\n",
    "attacks.head()"
   ]
  },
  {
   "cell_type": "code",
   "execution_count": 17,
   "id": "cb17b3e0",
   "metadata": {},
   "outputs": [
    {
     "data": {
      "text/plain": [
       "['Registry Run Keys',\n",
       " 'Start Folder',\n",
       " 'Input Capture',\n",
       " 'Automated Collection',\n",
       " 'Software Packing',\n",
       " 'Process Discovery',\n",
       " 'Defense Evasion, Privilege Escalation',\n",
       " 'Masquerading',\n",
       " 'Disable Security Software',\n",
       " 'Windows Management Instrumentation',\n",
       " 'Install New Service',\n",
       " 'Security Software Discovery',\n",
       " 'T1060',\n",
       " 'T1056',\n",
       " 'T1119',\n",
       " 'T1045',\n",
       " 'T1057',\n",
       " 'T1055',\n",
       " 'T1036',\n",
       " '578',\n",
       " 'T1047',\n",
       " '550',\n",
       " 'T1063']"
      ]
     },
     "execution_count": 17,
     "metadata": {},
     "output_type": "execute_result"
    }
   ],
   "source": [
    "all_attack_name_list = list(attacks.attack_name.unique()) + list(attacks.attack_id.unique())\n",
    "all_attack_name_list = [ item for item in all_attack_name_list if (item != 'unknown') ]\n",
    "new_list = []\n",
    "\n",
    "for element in all_attack_name_list:\n",
    "    if '/' in element:\n",
    "        parts = element.split('/')\n",
    "        # Add non-empty parts after removing leading and trailing spaces\n",
    "        new_list.extend([part.strip() for part in parts if part])\n",
    "    else:\n",
    "        # If there is no '/', simply add the element after removing leading and trailing spaces\n",
    "        new_list.append(element.strip())\n",
    "\n",
    "all_attack_name_list = new_list\n",
    "all_attack_name_list\n"
   ]
  },
  {
   "cell_type": "markdown",
   "id": "131548a7",
   "metadata": {},
   "source": [
    "### Lemmatization"
   ]
  },
  {
   "cell_type": "code",
   "execution_count": 18,
   "id": "d2a0b362",
   "metadata": {},
   "outputs": [
    {
     "name": "stdout",
     "output_type": "stream",
     "text": [
      "Requirement already satisfied: spacy in c:\\users\\leona\\anaconda3\\lib\\site-packages (3.7.2)\n",
      "Requirement already satisfied: spacy-legacy<3.1.0,>=3.0.11 in c:\\users\\leona\\anaconda3\\lib\\site-packages (from spacy) (3.0.12)\n",
      "Requirement already satisfied: spacy-loggers<2.0.0,>=1.0.0 in c:\\users\\leona\\anaconda3\\lib\\site-packages (from spacy) (1.0.5)\n",
      "Requirement already satisfied: murmurhash<1.1.0,>=0.28.0 in c:\\users\\leona\\anaconda3\\lib\\site-packages (from spacy) (1.0.10)\n",
      "Requirement already satisfied: cymem<2.1.0,>=2.0.2 in c:\\users\\leona\\anaconda3\\lib\\site-packages (from spacy) (2.0.8)\n",
      "Requirement already satisfied: preshed<3.1.0,>=3.0.2 in c:\\users\\leona\\anaconda3\\lib\\site-packages (from spacy) (3.0.9)\n",
      "Requirement already satisfied: thinc<8.3.0,>=8.1.8 in c:\\users\\leona\\anaconda3\\lib\\site-packages (from spacy) (8.2.2)\n",
      "Requirement already satisfied: wasabi<1.2.0,>=0.9.1 in c:\\users\\leona\\anaconda3\\lib\\site-packages (from spacy) (1.1.2)\n",
      "Requirement already satisfied: srsly<3.0.0,>=2.4.3 in c:\\users\\leona\\anaconda3\\lib\\site-packages (from spacy) (2.4.8)\n",
      "Requirement already satisfied: catalogue<2.1.0,>=2.0.6 in c:\\users\\leona\\anaconda3\\lib\\site-packages (from spacy) (2.0.10)\n",
      "Requirement already satisfied: weasel<0.4.0,>=0.1.0 in c:\\users\\leona\\anaconda3\\lib\\site-packages (from spacy) (0.3.4)\n",
      "Requirement already satisfied: typer<0.10.0,>=0.3.0 in c:\\users\\leona\\anaconda3\\lib\\site-packages (from spacy) (0.9.0)\n",
      "Requirement already satisfied: smart-open<7.0.0,>=5.2.1 in c:\\users\\leona\\anaconda3\\lib\\site-packages (from spacy) (5.2.1)\n",
      "Requirement already satisfied: tqdm<5.0.0,>=4.38.0 in c:\\users\\leona\\anaconda3\\lib\\site-packages (from spacy) (4.65.0)\n",
      "Requirement already satisfied: requests<3.0.0,>=2.13.0 in c:\\users\\leona\\anaconda3\\lib\\site-packages (from spacy) (2.31.0)\n",
      "Requirement already satisfied: pydantic!=1.8,!=1.8.1,<3.0.0,>=1.7.4 in c:\\users\\leona\\anaconda3\\lib\\site-packages (from spacy) (2.5.3)\n",
      "Requirement already satisfied: jinja2 in c:\\users\\leona\\anaconda3\\lib\\site-packages (from spacy) (3.1.2)\n",
      "Requirement already satisfied: setuptools in c:\\users\\leona\\anaconda3\\lib\\site-packages (from spacy) (68.0.0)\n",
      "Requirement already satisfied: packaging>=20.0 in c:\\users\\leona\\anaconda3\\lib\\site-packages (from spacy) (23.1)\n",
      "Requirement already satisfied: langcodes<4.0.0,>=3.2.0 in c:\\users\\leona\\anaconda3\\lib\\site-packages (from spacy) (3.3.0)\n",
      "Requirement already satisfied: numpy>=1.19.0 in c:\\users\\leona\\anaconda3\\lib\\site-packages (from spacy) (1.23.5)\n",
      "Requirement already satisfied: annotated-types>=0.4.0 in c:\\users\\leona\\anaconda3\\lib\\site-packages (from pydantic!=1.8,!=1.8.1,<3.0.0,>=1.7.4->spacy) (0.6.0)\n",
      "Requirement already satisfied: pydantic-core==2.14.6 in c:\\users\\leona\\anaconda3\\lib\\site-packages (from pydantic!=1.8,!=1.8.1,<3.0.0,>=1.7.4->spacy) (2.14.6)\n",
      "Requirement already satisfied: typing-extensions>=4.6.1 in c:\\users\\leona\\anaconda3\\lib\\site-packages (from pydantic!=1.8,!=1.8.1,<3.0.0,>=1.7.4->spacy) (4.7.1)\n",
      "Requirement already satisfied: charset-normalizer<4,>=2 in c:\\users\\leona\\anaconda3\\lib\\site-packages (from requests<3.0.0,>=2.13.0->spacy) (2.0.4)\n",
      "Requirement already satisfied: idna<4,>=2.5 in c:\\users\\leona\\anaconda3\\lib\\site-packages (from requests<3.0.0,>=2.13.0->spacy) (2.10)\n",
      "Requirement already satisfied: urllib3<3,>=1.21.1 in c:\\users\\leona\\anaconda3\\lib\\site-packages (from requests<3.0.0,>=2.13.0->spacy) (1.26.16)\n",
      "Requirement already satisfied: certifi>=2017.4.17 in c:\\users\\leona\\anaconda3\\lib\\site-packages (from requests<3.0.0,>=2.13.0->spacy) (2023.7.22)\n",
      "Requirement already satisfied: blis<0.8.0,>=0.7.8 in c:\\users\\leona\\anaconda3\\lib\\site-packages (from thinc<8.3.0,>=8.1.8->spacy) (0.7.11)\n",
      "Requirement already satisfied: confection<1.0.0,>=0.0.1 in c:\\users\\leona\\anaconda3\\lib\\site-packages (from thinc<8.3.0,>=8.1.8->spacy) (0.1.4)\n",
      "Requirement already satisfied: colorama in c:\\users\\leona\\anaconda3\\lib\\site-packages (from tqdm<5.0.0,>=4.38.0->spacy) (0.4.6)\n",
      "Requirement already satisfied: click<9.0.0,>=7.1.1 in c:\\users\\leona\\anaconda3\\lib\\site-packages (from typer<0.10.0,>=0.3.0->spacy) (8.0.4)\n",
      "Requirement already satisfied: cloudpathlib<0.17.0,>=0.7.0 in c:\\users\\leona\\anaconda3\\lib\\site-packages (from weasel<0.4.0,>=0.1.0->spacy) (0.16.0)\n",
      "Requirement already satisfied: MarkupSafe>=2.0 in c:\\users\\leona\\anaconda3\\lib\\site-packages (from jinja2->spacy) (2.1.1)\n",
      "Note: you may need to restart the kernel to use updated packages.\n"
     ]
    }
   ],
   "source": [
    "pip install spacy\n"
   ]
  },
  {
   "cell_type": "code",
   "execution_count": 19,
   "id": "304fc3a4",
   "metadata": {},
   "outputs": [
    {
     "name": "stdout",
     "output_type": "stream",
     "text": [
      "Collecting en-core-web-sm==3.7.1\n",
      "  Using cached https://github.com/explosion/spacy-models/releases/download/en_core_web_sm-3.7.1/en_core_web_sm-3.7.1-py3-none-any.whl (12.8 MB)\n",
      "Requirement already satisfied: spacy<3.8.0,>=3.7.2 in c:\\users\\leona\\anaconda3\\lib\\site-packages (from en-core-web-sm==3.7.1) (3.7.2)\n",
      "Requirement already satisfied: spacy-legacy<3.1.0,>=3.0.11 in c:\\users\\leona\\anaconda3\\lib\\site-packages (from spacy<3.8.0,>=3.7.2->en-core-web-sm==3.7.1) (3.0.12)\n",
      "Requirement already satisfied: spacy-loggers<2.0.0,>=1.0.0 in c:\\users\\leona\\anaconda3\\lib\\site-packages (from spacy<3.8.0,>=3.7.2->en-core-web-sm==3.7.1) (1.0.5)\n",
      "Requirement already satisfied: murmurhash<1.1.0,>=0.28.0 in c:\\users\\leona\\anaconda3\\lib\\site-packages (from spacy<3.8.0,>=3.7.2->en-core-web-sm==3.7.1) (1.0.10)\n",
      "Requirement already satisfied: cymem<2.1.0,>=2.0.2 in c:\\users\\leona\\anaconda3\\lib\\site-packages (from spacy<3.8.0,>=3.7.2->en-core-web-sm==3.7.1) (2.0.8)\n",
      "Requirement already satisfied: preshed<3.1.0,>=3.0.2 in c:\\users\\leona\\anaconda3\\lib\\site-packages (from spacy<3.8.0,>=3.7.2->en-core-web-sm==3.7.1) (3.0.9)\n",
      "Requirement already satisfied: thinc<8.3.0,>=8.1.8 in c:\\users\\leona\\anaconda3\\lib\\site-packages (from spacy<3.8.0,>=3.7.2->en-core-web-sm==3.7.1) (8.2.2)\n",
      "Requirement already satisfied: wasabi<1.2.0,>=0.9.1 in c:\\users\\leona\\anaconda3\\lib\\site-packages (from spacy<3.8.0,>=3.7.2->en-core-web-sm==3.7.1) (1.1.2)\n",
      "Requirement already satisfied: srsly<3.0.0,>=2.4.3 in c:\\users\\leona\\anaconda3\\lib\\site-packages (from spacy<3.8.0,>=3.7.2->en-core-web-sm==3.7.1) (2.4.8)\n",
      "Requirement already satisfied: catalogue<2.1.0,>=2.0.6 in c:\\users\\leona\\anaconda3\\lib\\site-packages (from spacy<3.8.0,>=3.7.2->en-core-web-sm==3.7.1) (2.0.10)\n",
      "Requirement already satisfied: weasel<0.4.0,>=0.1.0 in c:\\users\\leona\\anaconda3\\lib\\site-packages (from spacy<3.8.0,>=3.7.2->en-core-web-sm==3.7.1) (0.3.4)\n",
      "Requirement already satisfied: typer<0.10.0,>=0.3.0 in c:\\users\\leona\\anaconda3\\lib\\site-packages (from spacy<3.8.0,>=3.7.2->en-core-web-sm==3.7.1) (0.9.0)\n",
      "Requirement already satisfied: smart-open<7.0.0,>=5.2.1 in c:\\users\\leona\\anaconda3\\lib\\site-packages (from spacy<3.8.0,>=3.7.2->en-core-web-sm==3.7.1) (5.2.1)\n",
      "Requirement already satisfied: tqdm<5.0.0,>=4.38.0 in c:\\users\\leona\\anaconda3\\lib\\site-packages (from spacy<3.8.0,>=3.7.2->en-core-web-sm==3.7.1) (4.65.0)\n",
      "Requirement already satisfied: requests<3.0.0,>=2.13.0 in c:\\users\\leona\\anaconda3\\lib\\site-packages (from spacy<3.8.0,>=3.7.2->en-core-web-sm==3.7.1) (2.31.0)\n",
      "Requirement already satisfied: pydantic!=1.8,!=1.8.1,<3.0.0,>=1.7.4 in c:\\users\\leona\\anaconda3\\lib\\site-packages (from spacy<3.8.0,>=3.7.2->en-core-web-sm==3.7.1) (2.5.3)\n",
      "Requirement already satisfied: jinja2 in c:\\users\\leona\\anaconda3\\lib\\site-packages (from spacy<3.8.0,>=3.7.2->en-core-web-sm==3.7.1) (3.1.2)\n",
      "Requirement already satisfied: setuptools in c:\\users\\leona\\anaconda3\\lib\\site-packages (from spacy<3.8.0,>=3.7.2->en-core-web-sm==3.7.1) (68.0.0)\n",
      "Requirement already satisfied: packaging>=20.0 in c:\\users\\leona\\anaconda3\\lib\\site-packages (from spacy<3.8.0,>=3.7.2->en-core-web-sm==3.7.1) (23.1)\n",
      "Requirement already satisfied: langcodes<4.0.0,>=3.2.0 in c:\\users\\leona\\anaconda3\\lib\\site-packages (from spacy<3.8.0,>=3.7.2->en-core-web-sm==3.7.1) (3.3.0)\n",
      "Requirement already satisfied: numpy>=1.19.0 in c:\\users\\leona\\anaconda3\\lib\\site-packages (from spacy<3.8.0,>=3.7.2->en-core-web-sm==3.7.1) (1.23.5)\n",
      "Requirement already satisfied: annotated-types>=0.4.0 in c:\\users\\leona\\anaconda3\\lib\\site-packages (from pydantic!=1.8,!=1.8.1,<3.0.0,>=1.7.4->spacy<3.8.0,>=3.7.2->en-core-web-sm==3.7.1) (0.6.0)\n",
      "Requirement already satisfied: pydantic-core==2.14.6 in c:\\users\\leona\\anaconda3\\lib\\site-packages (from pydantic!=1.8,!=1.8.1,<3.0.0,>=1.7.4->spacy<3.8.0,>=3.7.2->en-core-web-sm==3.7.1) (2.14.6)\n",
      "Requirement already satisfied: typing-extensions>=4.6.1 in c:\\users\\leona\\anaconda3\\lib\\site-packages (from pydantic!=1.8,!=1.8.1,<3.0.0,>=1.7.4->spacy<3.8.0,>=3.7.2->en-core-web-sm==3.7.1) (4.7.1)\n",
      "Requirement already satisfied: charset-normalizer<4,>=2 in c:\\users\\leona\\anaconda3\\lib\\site-packages (from requests<3.0.0,>=2.13.0->spacy<3.8.0,>=3.7.2->en-core-web-sm==3.7.1) (2.0.4)\n",
      "Requirement already satisfied: idna<4,>=2.5 in c:\\users\\leona\\anaconda3\\lib\\site-packages (from requests<3.0.0,>=2.13.0->spacy<3.8.0,>=3.7.2->en-core-web-sm==3.7.1) (2.10)\n",
      "Requirement already satisfied: urllib3<3,>=1.21.1 in c:\\users\\leona\\anaconda3\\lib\\site-packages (from requests<3.0.0,>=2.13.0->spacy<3.8.0,>=3.7.2->en-core-web-sm==3.7.1) (1.26.16)\n",
      "Requirement already satisfied: certifi>=2017.4.17 in c:\\users\\leona\\anaconda3\\lib\\site-packages (from requests<3.0.0,>=2.13.0->spacy<3.8.0,>=3.7.2->en-core-web-sm==3.7.1) (2023.7.22)\n",
      "Requirement already satisfied: blis<0.8.0,>=0.7.8 in c:\\users\\leona\\anaconda3\\lib\\site-packages (from thinc<8.3.0,>=8.1.8->spacy<3.8.0,>=3.7.2->en-core-web-sm==3.7.1) (0.7.11)\n",
      "Requirement already satisfied: confection<1.0.0,>=0.0.1 in c:\\users\\leona\\anaconda3\\lib\\site-packages (from thinc<8.3.0,>=8.1.8->spacy<3.8.0,>=3.7.2->en-core-web-sm==3.7.1) (0.1.4)\n",
      "Requirement already satisfied: colorama in c:\\users\\leona\\anaconda3\\lib\\site-packages (from tqdm<5.0.0,>=4.38.0->spacy<3.8.0,>=3.7.2->en-core-web-sm==3.7.1) (0.4.6)\n",
      "Requirement already satisfied: click<9.0.0,>=7.1.1 in c:\\users\\leona\\anaconda3\\lib\\site-packages (from typer<0.10.0,>=0.3.0->spacy<3.8.0,>=3.7.2->en-core-web-sm==3.7.1) (8.0.4)\n",
      "Requirement already satisfied: cloudpathlib<0.17.0,>=0.7.0 in c:\\users\\leona\\anaconda3\\lib\\site-packages (from weasel<0.4.0,>=0.1.0->spacy<3.8.0,>=3.7.2->en-core-web-sm==3.7.1) (0.16.0)\n",
      "Requirement already satisfied: MarkupSafe>=2.0 in c:\\users\\leona\\anaconda3\\lib\\site-packages (from jinja2->spacy<3.8.0,>=3.7.2->en-core-web-sm==3.7.1) (2.1.1)\n",
      "\u001b[38;5;2m✔ Download and installation successful\u001b[0m\n",
      "You can now load the package via spacy.load('en_core_web_sm')\n"
     ]
    }
   ],
   "source": [
    "!python -m spacy download en_core_web_sm"
   ]
  },
  {
   "cell_type": "code",
   "execution_count": 20,
   "id": "343db00b",
   "metadata": {},
   "outputs": [
    {
     "name": "stdout",
     "output_type": "stream",
     "text": [
      "Results:\n",
      "- The house is big.\n",
      "- Houses are large.\n"
     ]
    }
   ],
   "source": [
    "import spacy\n",
    "\n",
    "def search_word_lemmatization(texts, word_to_search):\n",
    "    nlp = spacy.load(\"en_core_web_sm\")\n",
    "\n",
    "    analyzed_word = nlp(word_to_search)\n",
    "\n",
    "    word_lemma = analyzed_word[0].lemma_\n",
    "\n",
    "    results = []\n",
    "    for text in texts:\n",
    "        doc = nlp(text)\n",
    "        for token in doc:\n",
    "            if token.text.lower() == word_to_search.lower() or token.lemma_.lower() == word_lemma.lower():\n",
    "                results.append(text)\n",
    "                break\n",
    "\n",
    "    return results\n",
    "\n",
    "# Example of usage\n",
    "texts = [\"The house is big.\", \"Houses are large.\", \"This is an example.\"]\n",
    "word_to_search = \"houses\"\n",
    "\n",
    "results = search_word_lemmatization(texts, word_to_search)\n",
    "\n",
    "print(\"Results:\")\n",
    "for result in results:\n",
    "    print(\"-\", result)\n"
   ]
  },
  {
   "cell_type": "markdown",
   "id": "3accd9a7",
   "metadata": {},
   "source": [
    "### Malwares Name Search "
   ]
  },
  {
   "cell_type": "code",
   "execution_count": 21,
   "id": "332e7b97",
   "metadata": {},
   "outputs": [
    {
     "name": "stdout",
     "output_type": "stream",
     "text": [
      "Requirement already satisfied: googletrans==4.0.0-rc1 in c:\\users\\leona\\anaconda3\\lib\\site-packages (4.0.0rc1)\n",
      "Requirement already satisfied: httpx==0.13.3 in c:\\users\\leona\\anaconda3\\lib\\site-packages (from googletrans==4.0.0-rc1) (0.13.3)\n",
      "Requirement already satisfied: certifi in c:\\users\\leona\\anaconda3\\lib\\site-packages (from httpx==0.13.3->googletrans==4.0.0-rc1) (2023.7.22)\n",
      "Requirement already satisfied: hstspreload in c:\\users\\leona\\anaconda3\\lib\\site-packages (from httpx==0.13.3->googletrans==4.0.0-rc1) (2024.1.5)\n",
      "Requirement already satisfied: sniffio in c:\\users\\leona\\anaconda3\\lib\\site-packages (from httpx==0.13.3->googletrans==4.0.0-rc1) (1.2.0)\n",
      "Requirement already satisfied: chardet==3.* in c:\\users\\leona\\anaconda3\\lib\\site-packages (from httpx==0.13.3->googletrans==4.0.0-rc1) (3.0.4)\n",
      "Requirement already satisfied: idna==2.* in c:\\users\\leona\\anaconda3\\lib\\site-packages (from httpx==0.13.3->googletrans==4.0.0-rc1) (2.10)\n",
      "Requirement already satisfied: rfc3986<2,>=1.3 in c:\\users\\leona\\anaconda3\\lib\\site-packages (from httpx==0.13.3->googletrans==4.0.0-rc1) (1.5.0)\n",
      "Requirement already satisfied: httpcore==0.9.* in c:\\users\\leona\\anaconda3\\lib\\site-packages (from httpx==0.13.3->googletrans==4.0.0-rc1) (0.9.1)\n",
      "Requirement already satisfied: h11<0.10,>=0.8 in c:\\users\\leona\\anaconda3\\lib\\site-packages (from httpcore==0.9.*->httpx==0.13.3->googletrans==4.0.0-rc1) (0.9.0)\n",
      "Requirement already satisfied: h2==3.* in c:\\users\\leona\\anaconda3\\lib\\site-packages (from httpcore==0.9.*->httpx==0.13.3->googletrans==4.0.0-rc1) (3.2.0)\n",
      "Requirement already satisfied: hyperframe<6,>=5.2.0 in c:\\users\\leona\\anaconda3\\lib\\site-packages (from h2==3.*->httpcore==0.9.*->httpx==0.13.3->googletrans==4.0.0-rc1) (5.2.0)\n",
      "Requirement already satisfied: hpack<4,>=3.0 in c:\\users\\leona\\anaconda3\\lib\\site-packages (from h2==3.*->httpcore==0.9.*->httpx==0.13.3->googletrans==4.0.0-rc1) (3.0.0)\n",
      "Note: you may need to restart the kernel to use updated packages.\n"
     ]
    }
   ],
   "source": [
    "pip install googletrans==4.0.0-rc1"
   ]
  },
  {
   "cell_type": "markdown",
   "id": "4cf21dea",
   "metadata": {},
   "source": [
    "### Data Cleaning"
   ]
  },
  {
   "cell_type": "code",
   "execution_count": 22,
   "id": "8cb3d738",
   "metadata": {},
   "outputs": [],
   "source": [
    "from googletrans import Translator\n",
    "from requests.exceptions import HTTPError\n",
    "\n",
    "\n",
    "def translate_to_english(text, target_language='en'):\n",
    "    \n",
    "    translator = Translator()\n",
    "    try:\n",
    "\n",
    "        translation = translator.translate(text, dest=target_language)\n",
    "        time.sleep(1) \n",
    "        return translation.text\n",
    "    \n",
    "    except HTTPError as e:\n",
    "        print(f\"HTTP error occurred: {e}\")\n",
    "        \n",
    "    except Exception as e:\n",
    "        print(f\"An error occurred: {e}\")\n",
    "        time.sleep(1) \n",
    "\n",
    "    # Return the original text in case of an error\n",
    "    return text"
   ]
  },
  {
   "cell_type": "markdown",
   "id": "eecdc737",
   "metadata": {},
   "source": [
    "#### Imputation"
   ]
  },
  {
   "cell_type": "code",
   "execution_count": 23,
   "id": "e43cbf58",
   "metadata": {},
   "outputs": [
    {
     "data": {
      "text/html": [
       "<div>\n",
       "<style scoped>\n",
       "    .dataframe tbody tr th:only-of-type {\n",
       "        vertical-align: middle;\n",
       "    }\n",
       "\n",
       "    .dataframe tbody tr th {\n",
       "        vertical-align: top;\n",
       "    }\n",
       "\n",
       "    .dataframe thead th {\n",
       "        text-align: right;\n",
       "    }\n",
       "</style>\n",
       "<table border=\"1\" class=\"dataframe\">\n",
       "  <thead>\n",
       "    <tr style=\"text-align: right;\">\n",
       "      <th></th>\n",
       "      <th>subreddit</th>\n",
       "      <th>username</th>\n",
       "      <th>date</th>\n",
       "      <th>title</th>\n",
       "      <th>text</th>\n",
       "    </tr>\n",
       "  </thead>\n",
       "  <tbody>\n",
       "    <tr>\n",
       "      <th>0</th>\n",
       "      <td>netsec</td>\n",
       "      <td>t3_18i5ups</td>\n",
       "      <td>2023-12-14 11:36:39</td>\n",
       "      <td>Nim implementation of Old Dll Unlinking Technique</td>\n",
       "      <td></td>\n",
       "    </tr>\n",
       "    <tr>\n",
       "      <th>1</th>\n",
       "      <td>cybersecurity</td>\n",
       "      <td>t3_18i5v5x</td>\n",
       "      <td>2023-12-14 11:37:34</td>\n",
       "      <td>How to prevent employees from using unauthorized web tools?</td>\n",
       "      <td>I work as an IT manager for a business. Some time ago, a group of my colleagues decided to use a web productivity tool, created accounts using their work emails, and started introducing data.\\n\\nI had no knowledge they had been using such a tool at all. I did not even know it existed.\\n\\nToday, I received an email from my boss asking why an ex-employee still had access to the data in such a web platform, as their account hadn't been deactivated. Needless to say, I don't have access to revoke their account or anything.\\n\\nHow can I prevent them from registering on another unauthorized webpage?\\n\\nI feel like a firewall blacklist would be useless since I would have to be constantly researching and updating it with new tools, and I can't make a whitelist since my company uses a ton of different pages for intense web research.\\n\\nAny help or advice would be appreciated.\\n\\n&amp;#x200B;</td>\n",
       "    </tr>\n",
       "    <tr>\n",
       "      <th>2</th>\n",
       "      <td>MacOS</td>\n",
       "      <td>t3_18i5kyd</td>\n",
       "      <td>2023-12-14 11:17:47</td>\n",
       "      <td>Teams call pop up window blocked by reminders/calendar entries on top right corner</td>\n",
       "      <td>Hi\\n\\nDo you know this issue that when I have reminders or calendar alarms set to stick to the top right corner, that they then block the notification window for incoming Teams calls.\\n\\nDoes someone know if there is a setting for having the teams call pop up in on another location on the screen or knows another work around?</td>\n",
       "    </tr>\n",
       "    <tr>\n",
       "      <th>3</th>\n",
       "      <td>MacOS</td>\n",
       "      <td>t3_18i5koq</td>\n",
       "      <td>2023-12-14 11:17:16</td>\n",
       "      <td>Disable middle mouse button drag to other desktop</td>\n",
       "      <td>So I have been using windows for a while and now I am stumped. The middle mouse button of my logi mouse has the following functionailty: On drage change desktop, on click show all windows. That's nice and all, but I can't use fusion 360 because the dragging functionality is the middle mouse button but that just changes the desktop. How can I disable that?\\n\\n&amp;#x200B;\\n\\nSo I found this, but there is no button selected. If I select the secondary mouse button for example, it will open mission control on both right click and middle mouse button:\\n\\nhttps://preview.redd.it/bmqnrpw0m86c1.png?width=476&amp;format=png&amp;auto=webp&amp;s=97ae662fcca43bf146537393fc6a13705a0a9351\\n\\n&amp;#x200B;</td>\n",
       "    </tr>\n",
       "    <tr>\n",
       "      <th>4</th>\n",
       "      <td>windows</td>\n",
       "      <td>t3_18i5gqv</td>\n",
       "      <td>2023-12-14 11:09:52</td>\n",
       "      <td>Playing 4k videos on 2k display</td>\n",
       "      <td>Hello guys does playing 4k content on a 2k display has any benefit? For example while playing YouTube videos I set 1440p resolution on my 2k laptop and 2k smartphone despite having a option of selecting 2160p option. So i wanted to ask if i get better video quality if i select 2160p option while playing on a 2k display?</td>\n",
       "    </tr>\n",
       "  </tbody>\n",
       "</table>\n",
       "</div>"
      ],
      "text/plain": [
       "       subreddit    username                 date  \\\n",
       "0         netsec  t3_18i5ups  2023-12-14 11:36:39   \n",
       "1  cybersecurity  t3_18i5v5x  2023-12-14 11:37:34   \n",
       "2          MacOS  t3_18i5kyd  2023-12-14 11:17:47   \n",
       "3          MacOS  t3_18i5koq  2023-12-14 11:17:16   \n",
       "4        windows  t3_18i5gqv  2023-12-14 11:09:52   \n",
       "\n",
       "                                                                                title  \\\n",
       "0                                   Nim implementation of Old Dll Unlinking Technique   \n",
       "1                         How to prevent employees from using unauthorized web tools?   \n",
       "2  Teams call pop up window blocked by reminders/calendar entries on top right corner   \n",
       "3                                   Disable middle mouse button drag to other desktop   \n",
       "4                                                     Playing 4k videos on 2k display   \n",
       "\n",
       "                                                                                                                                                                                                                                                                                                                                                                                                                                                                                                                                                                                                                                                                                                                                                                                                                                                                                                                         text  \n",
       "0                                                                                                                                                                                                                                                                                                                                                                                                                                                                                                                                                                                                                                                                                                                                                                                                                                                                                                                              \n",
       "1  I work as an IT manager for a business. Some time ago, a group of my colleagues decided to use a web productivity tool, created accounts using their work emails, and started introducing data.\\n\\nI had no knowledge they had been using such a tool at all. I did not even know it existed.\\n\\nToday, I received an email from my boss asking why an ex-employee still had access to the data in such a web platform, as their account hadn't been deactivated. Needless to say, I don't have access to revoke their account or anything.\\n\\nHow can I prevent them from registering on another unauthorized webpage?\\n\\nI feel like a firewall blacklist would be useless since I would have to be constantly researching and updating it with new tools, and I can't make a whitelist since my company uses a ton of different pages for intense web research.\\n\\nAny help or advice would be appreciated.\\n\\n&#x200B;  \n",
       "2                                                                                                                                                                                                                                                                                                                                                                                                                                                                                                                                                                                      Hi\\n\\nDo you know this issue that when I have reminders or calendar alarms set to stick to the top right corner, that they then block the notification window for incoming Teams calls.\\n\\nDoes someone know if there is a setting for having the teams call pop up in on another location on the screen or knows another work around?  \n",
       "3                                                                                                                                                                                                                     So I have been using windows for a while and now I am stumped. The middle mouse button of my logi mouse has the following functionailty: On drage change desktop, on click show all windows. That's nice and all, but I can't use fusion 360 because the dragging functionality is the middle mouse button but that just changes the desktop. How can I disable that?\\n\\n&#x200B;\\n\\nSo I found this, but there is no button selected. If I select the secondary mouse button for example, it will open mission control on both right click and middle mouse button:\\n\\nhttps://preview.redd.it/bmqnrpw0m86c1.png?width=476&format=png&auto=webp&s=97ae662fcca43bf146537393fc6a13705a0a9351\\n\\n&#x200B;  \n",
       "4                                                                                                                                                                                                                                                                                                                                                                                                                                                                                                                                                                                           Hello guys does playing 4k content on a 2k display has any benefit? For example while playing YouTube videos I set 1440p resolution on my 2k laptop and 2k smartphone despite having a option of selecting 2160p option. So i wanted to ask if i get better video quality if i select 2160p option while playing on a 2k display?  "
      ]
     },
     "execution_count": 23,
     "metadata": {},
     "output_type": "execute_result"
    }
   ],
   "source": [
    "df_reddit['text'] = df_reddit['text'].fillna('')\n",
    "df_reddit['title'] = df_reddit['title'].fillna('')\n",
    "df_reddit.head()"
   ]
  },
  {
   "cell_type": "markdown",
   "id": "a09616b8",
   "metadata": {},
   "source": [
    "#### Column Filtering\n",
    "- Drop 'json' column -> useless"
   ]
  },
  {
   "cell_type": "code",
   "execution_count": 24,
   "id": "51257216",
   "metadata": {},
   "outputs": [
    {
     "data": {
      "text/html": [
       "<div>\n",
       "<style scoped>\n",
       "    .dataframe tbody tr th:only-of-type {\n",
       "        vertical-align: middle;\n",
       "    }\n",
       "\n",
       "    .dataframe tbody tr th {\n",
       "        vertical-align: top;\n",
       "    }\n",
       "\n",
       "    .dataframe thead th {\n",
       "        text-align: right;\n",
       "    }\n",
       "</style>\n",
       "<table border=\"1\" class=\"dataframe\">\n",
       "  <thead>\n",
       "    <tr style=\"text-align: right;\">\n",
       "      <th></th>\n",
       "      <th>subreddit</th>\n",
       "      <th>username</th>\n",
       "      <th>date</th>\n",
       "      <th>title</th>\n",
       "      <th>text</th>\n",
       "    </tr>\n",
       "  </thead>\n",
       "  <tbody>\n",
       "    <tr>\n",
       "      <th>50</th>\n",
       "      <td>hacking</td>\n",
       "      <td>t3_18i4tio</td>\n",
       "      <td>2023-12-14 10:22:21</td>\n",
       "      <td>Trains were designed to break down after third-party repairs, hackers find</td>\n",
       "      <td>https://arstechnica.com/tech-policy/2023/12/manufacturer-deliberately-bricked-trains-repaired-by-competitors-hackers-find/</td>\n",
       "    </tr>\n",
       "  </tbody>\n",
       "</table>\n",
       "</div>"
      ],
      "text/plain": [
       "   subreddit    username                 date  \\\n",
       "50   hacking  t3_18i4tio  2023-12-14 10:22:21   \n",
       "\n",
       "                                                                         title  \\\n",
       "50  Trains were designed to break down after third-party repairs, hackers find   \n",
       "\n",
       "                                                                                                                          text  \n",
       "50  https://arstechnica.com/tech-policy/2023/12/manufacturer-deliberately-bricked-trains-repaired-by-competitors-hackers-find/  "
      ]
     },
     "execution_count": 24,
     "metadata": {},
     "output_type": "execute_result"
    }
   ],
   "source": [
    "pd.DataFrame(df_reddit.loc[50]).T"
   ]
  },
  {
   "cell_type": "markdown",
   "id": "918df88e",
   "metadata": {},
   "source": [
    "#### Normalization\n",
    "- Convert each text and title of each post to the same language : english"
   ]
  },
  {
   "cell_type": "code",
   "execution_count": 25,
   "id": "c3d8f35e",
   "metadata": {},
   "outputs": [
    {
     "data": {
      "text/plain": [
       "\"\\n\\nfor i in range(len(df_reddit)):\\n    \\n    print(i)\\n    \\n    title = df_reddit.at[i, 'title']\\n    text = df_reddit.at[i, 'text']\\n    \\n    if(pd.isna(text) == False):\\n        new_text = translate_to_english(text)\\n        df_reddit.loc[i, 'text'] = new_text\\n\\n\\n    if(pd.isna(title) == False):\\n        new_title = translate_to_english(title)\\n        df_reddit.loc[i, 'title'] = new_title\\n        \\ndf_reddit        \\n\\n\""
      ]
     },
     "execution_count": 25,
     "metadata": {},
     "output_type": "execute_result"
    }
   ],
   "source": [
    "'''\n",
    "\n",
    "for i in range(len(df_reddit)):\n",
    "    \n",
    "    print(i)\n",
    "    \n",
    "    title = df_reddit.at[i, 'title']\n",
    "    text = df_reddit.at[i, 'text']\n",
    "    \n",
    "    if(pd.isna(text) == False):\n",
    "        new_text = translate_to_english(text)\n",
    "        df_reddit.loc[i, 'text'] = new_text\n",
    "\n",
    "\n",
    "    if(pd.isna(title) == False):\n",
    "        new_title = translate_to_english(title)\n",
    "        df_reddit.loc[i, 'title'] = new_title\n",
    "        \n",
    "df_reddit        \n",
    "\n",
    "'''"
   ]
  },
  {
   "cell_type": "markdown",
   "id": "383140c4",
   "metadata": {},
   "source": [
    "#### Data Type Conversion"
   ]
  },
  {
   "cell_type": "code",
   "execution_count": 26,
   "id": "765b9ce0",
   "metadata": {},
   "outputs": [
    {
     "data": {
      "text/html": [
       "<div>\n",
       "<style scoped>\n",
       "    .dataframe tbody tr th:only-of-type {\n",
       "        vertical-align: middle;\n",
       "    }\n",
       "\n",
       "    .dataframe tbody tr th {\n",
       "        vertical-align: top;\n",
       "    }\n",
       "\n",
       "    .dataframe thead th {\n",
       "        text-align: right;\n",
       "    }\n",
       "</style>\n",
       "<table border=\"1\" class=\"dataframe\">\n",
       "  <thead>\n",
       "    <tr style=\"text-align: right;\">\n",
       "      <th></th>\n",
       "      <th>subreddit</th>\n",
       "      <th>username</th>\n",
       "      <th>date</th>\n",
       "      <th>title</th>\n",
       "      <th>text</th>\n",
       "    </tr>\n",
       "  </thead>\n",
       "  <tbody>\n",
       "    <tr>\n",
       "      <th>0</th>\n",
       "      <td>netsec</td>\n",
       "      <td>t3_18i5ups</td>\n",
       "      <td>2023-12-14</td>\n",
       "      <td>Nim implementation of Old Dll Unlinking Technique</td>\n",
       "      <td></td>\n",
       "    </tr>\n",
       "    <tr>\n",
       "      <th>1</th>\n",
       "      <td>cybersecurity</td>\n",
       "      <td>t3_18i5v5x</td>\n",
       "      <td>2023-12-14</td>\n",
       "      <td>How to prevent employees from using unauthorized web tools?</td>\n",
       "      <td>I work as an IT manager for a business. Some time ago, a group of my colleagues decided to use a web productivity tool, created accounts using their work emails, and started introducing data.\\n\\nI had no knowledge they had been using such a tool at all. I did not even know it existed.\\n\\nToday, I received an email from my boss asking why an ex-employee still had access to the data in such a web platform, as their account hadn't been deactivated. Needless to say, I don't have access to revoke their account or anything.\\n\\nHow can I prevent them from registering on another unauthorized webpage?\\n\\nI feel like a firewall blacklist would be useless since I would have to be constantly researching and updating it with new tools, and I can't make a whitelist since my company uses a ton of different pages for intense web research.\\n\\nAny help or advice would be appreciated.\\n\\n&amp;#x200B;</td>\n",
       "    </tr>\n",
       "    <tr>\n",
       "      <th>2</th>\n",
       "      <td>MacOS</td>\n",
       "      <td>t3_18i5kyd</td>\n",
       "      <td>2023-12-14</td>\n",
       "      <td>Teams call pop up window blocked by reminders/calendar entries on top right corner</td>\n",
       "      <td>Hi\\n\\nDo you know this issue that when I have reminders or calendar alarms set to stick to the top right corner, that they then block the notification window for incoming Teams calls.\\n\\nDoes someone know if there is a setting for having the teams call pop up in on another location on the screen or knows another work around?</td>\n",
       "    </tr>\n",
       "    <tr>\n",
       "      <th>3</th>\n",
       "      <td>MacOS</td>\n",
       "      <td>t3_18i5koq</td>\n",
       "      <td>2023-12-14</td>\n",
       "      <td>Disable middle mouse button drag to other desktop</td>\n",
       "      <td>So I have been using windows for a while and now I am stumped. The middle mouse button of my logi mouse has the following functionailty: On drage change desktop, on click show all windows. That's nice and all, but I can't use fusion 360 because the dragging functionality is the middle mouse button but that just changes the desktop. How can I disable that?\\n\\n&amp;#x200B;\\n\\nSo I found this, but there is no button selected. If I select the secondary mouse button for example, it will open mission control on both right click and middle mouse button:\\n\\nhttps://preview.redd.it/bmqnrpw0m86c1.png?width=476&amp;format=png&amp;auto=webp&amp;s=97ae662fcca43bf146537393fc6a13705a0a9351\\n\\n&amp;#x200B;</td>\n",
       "    </tr>\n",
       "    <tr>\n",
       "      <th>4</th>\n",
       "      <td>windows</td>\n",
       "      <td>t3_18i5gqv</td>\n",
       "      <td>2023-12-14</td>\n",
       "      <td>Playing 4k videos on 2k display</td>\n",
       "      <td>Hello guys does playing 4k content on a 2k display has any benefit? For example while playing YouTube videos I set 1440p resolution on my 2k laptop and 2k smartphone despite having a option of selecting 2160p option. So i wanted to ask if i get better video quality if i select 2160p option while playing on a 2k display?</td>\n",
       "    </tr>\n",
       "  </tbody>\n",
       "</table>\n",
       "</div>"
      ],
      "text/plain": [
       "       subreddit    username        date  \\\n",
       "0         netsec  t3_18i5ups  2023-12-14   \n",
       "1  cybersecurity  t3_18i5v5x  2023-12-14   \n",
       "2          MacOS  t3_18i5kyd  2023-12-14   \n",
       "3          MacOS  t3_18i5koq  2023-12-14   \n",
       "4        windows  t3_18i5gqv  2023-12-14   \n",
       "\n",
       "                                                                                title  \\\n",
       "0                                   Nim implementation of Old Dll Unlinking Technique   \n",
       "1                         How to prevent employees from using unauthorized web tools?   \n",
       "2  Teams call pop up window blocked by reminders/calendar entries on top right corner   \n",
       "3                                   Disable middle mouse button drag to other desktop   \n",
       "4                                                     Playing 4k videos on 2k display   \n",
       "\n",
       "                                                                                                                                                                                                                                                                                                                                                                                                                                                                                                                                                                                                                                                                                                                                                                                                                                                                                                                         text  \n",
       "0                                                                                                                                                                                                                                                                                                                                                                                                                                                                                                                                                                                                                                                                                                                                                                                                                                                                                                                              \n",
       "1  I work as an IT manager for a business. Some time ago, a group of my colleagues decided to use a web productivity tool, created accounts using their work emails, and started introducing data.\\n\\nI had no knowledge they had been using such a tool at all. I did not even know it existed.\\n\\nToday, I received an email from my boss asking why an ex-employee still had access to the data in such a web platform, as their account hadn't been deactivated. Needless to say, I don't have access to revoke their account or anything.\\n\\nHow can I prevent them from registering on another unauthorized webpage?\\n\\nI feel like a firewall blacklist would be useless since I would have to be constantly researching and updating it with new tools, and I can't make a whitelist since my company uses a ton of different pages for intense web research.\\n\\nAny help or advice would be appreciated.\\n\\n&#x200B;  \n",
       "2                                                                                                                                                                                                                                                                                                                                                                                                                                                                                                                                                                                      Hi\\n\\nDo you know this issue that when I have reminders or calendar alarms set to stick to the top right corner, that they then block the notification window for incoming Teams calls.\\n\\nDoes someone know if there is a setting for having the teams call pop up in on another location on the screen or knows another work around?  \n",
       "3                                                                                                                                                                                                                     So I have been using windows for a while and now I am stumped. The middle mouse button of my logi mouse has the following functionailty: On drage change desktop, on click show all windows. That's nice and all, but I can't use fusion 360 because the dragging functionality is the middle mouse button but that just changes the desktop. How can I disable that?\\n\\n&#x200B;\\n\\nSo I found this, but there is no button selected. If I select the secondary mouse button for example, it will open mission control on both right click and middle mouse button:\\n\\nhttps://preview.redd.it/bmqnrpw0m86c1.png?width=476&format=png&auto=webp&s=97ae662fcca43bf146537393fc6a13705a0a9351\\n\\n&#x200B;  \n",
       "4                                                                                                                                                                                                                                                                                                                                                                                                                                                                                                                                                                                           Hello guys does playing 4k content on a 2k display has any benefit? For example while playing YouTube videos I set 1440p resolution on my 2k laptop and 2k smartphone despite having a option of selecting 2160p option. So i wanted to ask if i get better video quality if i select 2160p option while playing on a 2k display?  "
      ]
     },
     "execution_count": 26,
     "metadata": {},
     "output_type": "execute_result"
    }
   ],
   "source": [
    "df_reddit['date'] = pd.to_datetime(df_reddit['date']).dt.strftime('%Y-%m-%d')\n",
    "df_reddit.head()"
   ]
  },
  {
   "cell_type": "code",
   "execution_count": 27,
   "id": "af60db77",
   "metadata": {},
   "outputs": [],
   "source": [
    "df_reddit.to_csv(r'C:\\Users\\leona\\OneDrive\\Desktop\\Tesi\\Pipeline\\Datasets\\Pipeline\\SocialNetworksPosts\\Reddit\\PostDataCleaning\\RedditPosts.csv')"
   ]
  },
  {
   "cell_type": "markdown",
   "id": "04a7a902",
   "metadata": {},
   "source": [
    "#### Find a Match"
   ]
  },
  {
   "cell_type": "markdown",
   "id": "3c8432e1",
   "metadata": {},
   "source": [
    "##### Specify a Data of Analysis from a *starting_date* to an *ending_date*"
   ]
  },
  {
   "cell_type": "code",
   "execution_count": 28,
   "id": "431a4754",
   "metadata": {},
   "outputs": [],
   "source": [
    "start_date = datetime(2023, 4, 1)\n",
    "end_date   = datetime(2023, 4, 30)"
   ]
  },
  {
   "cell_type": "code",
   "execution_count": 29,
   "id": "c9fd9e94",
   "metadata": {},
   "outputs": [
    {
     "data": {
      "text/html": [
       "<div>\n",
       "<style scoped>\n",
       "    .dataframe tbody tr th:only-of-type {\n",
       "        vertical-align: middle;\n",
       "    }\n",
       "\n",
       "    .dataframe tbody tr th {\n",
       "        vertical-align: top;\n",
       "    }\n",
       "\n",
       "    .dataframe thead th {\n",
       "        text-align: right;\n",
       "    }\n",
       "</style>\n",
       "<table border=\"1\" class=\"dataframe\">\n",
       "  <thead>\n",
       "    <tr style=\"text-align: right;\">\n",
       "      <th></th>\n",
       "      <th>index</th>\n",
       "      <th>subreddit</th>\n",
       "      <th>username</th>\n",
       "      <th>date</th>\n",
       "      <th>title</th>\n",
       "      <th>text</th>\n",
       "    </tr>\n",
       "  </thead>\n",
       "  <tbody>\n",
       "    <tr>\n",
       "      <th>0</th>\n",
       "      <td>257818</td>\n",
       "      <td>hacking</td>\n",
       "      <td>t3_13441mn</td>\n",
       "      <td>2023-04-30</td>\n",
       "      <td>Best cloud provider for running recon and scanning resources?</td>\n",
       "      <td>I am working on a couple H1 bounty programs and I am running a few VMs with NMAP and Nuclei, but Linode keeps terminating my instances due to complains. The targets are in scope of the H1 programs from these companies. Does anyone have a recommendation/preference for a provider that is more tolerant? I was considering DO and I'm a bit worried about running this on my local machine. FYI just to be clear, these are all within scope of the H1 programs, I just think their net admins might be reporting my scan activity as a false positive.</td>\n",
       "    </tr>\n",
       "    <tr>\n",
       "      <th>1</th>\n",
       "      <td>257823</td>\n",
       "      <td>opensource</td>\n",
       "      <td>t3_13442ok</td>\n",
       "      <td>2023-04-30</td>\n",
       "      <td>FOSS Weekly: Two new Linux Laptops, sudo in Rust, Debian 12.0, and more</td>\n",
       "      <td></td>\n",
       "    </tr>\n",
       "    <tr>\n",
       "      <th>2</th>\n",
       "      <td>257825</td>\n",
       "      <td>Python</td>\n",
       "      <td>t3_1344127</td>\n",
       "      <td>2023-04-30</td>\n",
       "      <td>I've just created a Python app for Lyrics finding.</td>\n",
       "      <td>I've just created a Lyrics finder app using Genius API as Hobby-Learning project, please go and check it out from here:\\n\\n[momalekiii/Lyricsify: Lyricsify is a Python application for search and display song lyrics. (github.com)](https://github.com/momalekiii/Lyricsify)\\n\\nany suggests or contributing?  \\nAccepting your helps, thoughts and ideas with honor, thank you &lt;3</td>\n",
       "    </tr>\n",
       "    <tr>\n",
       "      <th>3</th>\n",
       "      <td>257828</td>\n",
       "      <td>technews</td>\n",
       "      <td>t3_13445n9</td>\n",
       "      <td>2023-04-30</td>\n",
       "      <td>U.S. Platforms to Finance Local Content Amid Canada Streaming Bill</td>\n",
       "      <td></td>\n",
       "    </tr>\n",
       "    <tr>\n",
       "      <th>4</th>\n",
       "      <td>257839</td>\n",
       "      <td>learnpython</td>\n",
       "      <td>t3_13447bc</td>\n",
       "      <td>2023-04-30</td>\n",
       "      <td>Struggling with trying to get a script that retrieves data from an API and inserts it into PostgreSQL to work</td>\n",
       "      <td>Hi everyone,\\n\\nI need help getting the following Python script to work. The script generates an API token using login credentials and uses that token to access the API for retrieving data.  I'm able to successfully retrieve data from the API and created the tables in PostgreSQL with my script, however, the data is not being inserted into the PostgreSQL database. I've added printouts for potential errors that may be occurring with the insert process but nothing is showing. I hope someone can point me in the right direction. Thank you in advance!\\n\\n    import requests\\n    import json\\n    import psycopg2\\n    import datetime\\n    from psycopg2 import extras\\n    \\n    def get_key(usr, pwd):\\n        body = {'email': usr, 'password': pwd}\\n        url = 'https://www.drugshortagescanada.ca/api/v1/login'\\n        headers = {'Content-Type': 'application/x-www-form-urlencoded'}\\n    \\n        response = requests.post(url, data=body, headers=headers)\\n    \\n        if response.status_co...</td>\n",
       "    </tr>\n",
       "    <tr>\n",
       "      <th>...</th>\n",
       "      <td>...</td>\n",
       "      <td>...</td>\n",
       "      <td>...</td>\n",
       "      <td>...</td>\n",
       "      <td>...</td>\n",
       "      <td>...</td>\n",
       "    </tr>\n",
       "    <tr>\n",
       "      <th>30215</th>\n",
       "      <td>288068</td>\n",
       "      <td>Scams</td>\n",
       "      <td>t3_1281ofn</td>\n",
       "      <td>2023-04-01</td>\n",
       "      <td>Does someone need your email to make a paypal purchase</td>\n",
       "      <td>IM SO SORRY if this has been asked before but I have never used paypal. I am trying to commission art from someone i found on instagram and they said all they need from me is to either provide them with the email address I registered my paypal with or i could  transfer the money into their bank acct (they provided bank info) \\nIs this safe??</td>\n",
       "    </tr>\n",
       "    <tr>\n",
       "      <th>30216</th>\n",
       "      <td>288069</td>\n",
       "      <td>Scams</td>\n",
       "      <td>t3_1281pf5</td>\n",
       "      <td>2023-04-01</td>\n",
       "      <td>HEEEELP:(((</td>\n",
       "      <td>Hello, lately this month numbers have called me, when I search for those numbers on Google and put them in the \"photos\" section, photos of s3X workers come out, and every day they dial a different number but with the same 4 digits, I'm desperate Do you think it's a scam or something? aid</td>\n",
       "    </tr>\n",
       "    <tr>\n",
       "      <th>30217</th>\n",
       "      <td>288070</td>\n",
       "      <td>realtech</td>\n",
       "      <td>t3_12812fz</td>\n",
       "      <td>2023-04-01</td>\n",
       "      <td>Study links hard-right social media with incidents of civil unrest</td>\n",
       "      <td></td>\n",
       "    </tr>\n",
       "    <tr>\n",
       "      <th>30218</th>\n",
       "      <td>288071</td>\n",
       "      <td>linuxquestions</td>\n",
       "      <td>t3_1282aq3</td>\n",
       "      <td>2023-04-01</td>\n",
       "      <td>How to resolve gnome-shell crash</td>\n",
       "      <td>I  am using Ubuntu 22.04.2 LTS. It was installed on 26th March, so it's a  relatively recent install. I am using GNOME as-is, and have not  installed any extensions. I just got a crash report saying \"Gnome Shell  crashed with sigsegv\". I did upload the crash report, but I don't know  how to track it. I went through the crash report, and the stack trace  contains a similar pattern:\\n\\n    Thread 26 (LWP 2915):  #0  0x00007f69a5e91197 in ?? ()  No symbol table info available.  Backtrace stopped: Cannot access memory at address 0x7f69667ffd90 \\n\\nThis is a common  pattern, with different threads and memory addresses. Is this a known  GNOME bug, or is it specific to my system? Is there a way to check if the system files are corrupt? Since this is my daily driver, I cannot afford to have a corrupt system whatsoever. If that means I have to reinstall the OS from scratch, I am ready to do so.  \\n\\n\\nEdit:  \\nSystem specs:  \\nAMD Ryzen 1700   \\nAsus Strix RX 6600 XT  \\nNothing is overclock...</td>\n",
       "    </tr>\n",
       "    <tr>\n",
       "      <th>30219</th>\n",
       "      <td>288072</td>\n",
       "      <td>linuxquestions</td>\n",
       "      <td>t3_1281376</td>\n",
       "      <td>2023-04-01</td>\n",
       "      <td>Zoom Wayland screen share</td>\n",
       "      <td>I have a device running PopOS 22.04 and I want to be able to screen share on Wayland.  \\n\\n\\nBut it just tells me I cannot screen share when I try to. Is there a way to fix this? Someone told me I need to edit a config file, but I'm not sure how.</td>\n",
       "    </tr>\n",
       "  </tbody>\n",
       "</table>\n",
       "<p>30220 rows × 6 columns</p>\n",
       "</div>"
      ],
      "text/plain": [
       "        index       subreddit    username        date  \\\n",
       "0      257818         hacking  t3_13441mn  2023-04-30   \n",
       "1      257823      opensource  t3_13442ok  2023-04-30   \n",
       "2      257825          Python  t3_1344127  2023-04-30   \n",
       "3      257828        technews  t3_13445n9  2023-04-30   \n",
       "4      257839     learnpython  t3_13447bc  2023-04-30   \n",
       "...       ...             ...         ...         ...   \n",
       "30215  288068           Scams  t3_1281ofn  2023-04-01   \n",
       "30216  288069           Scams  t3_1281pf5  2023-04-01   \n",
       "30217  288070        realtech  t3_12812fz  2023-04-01   \n",
       "30218  288071  linuxquestions  t3_1282aq3  2023-04-01   \n",
       "30219  288072  linuxquestions  t3_1281376  2023-04-01   \n",
       "\n",
       "                                                                                                               title  \\\n",
       "0                                                      Best cloud provider for running recon and scanning resources?   \n",
       "1                                            FOSS Weekly: Two new Linux Laptops, sudo in Rust, Debian 12.0, and more   \n",
       "2                                                                 I've just created a Python app for Lyrics finding.   \n",
       "3                                                 U.S. Platforms to Finance Local Content Amid Canada Streaming Bill   \n",
       "4      Struggling with trying to get a script that retrieves data from an API and inserts it into PostgreSQL to work   \n",
       "...                                                                                                              ...   \n",
       "30215                                                         Does someone need your email to make a paypal purchase   \n",
       "30216                                                                                                    HEEEELP:(((   \n",
       "30217                                             Study links hard-right social media with incidents of civil unrest   \n",
       "30218                                                                               How to resolve gnome-shell crash   \n",
       "30219                                                                                      Zoom Wayland screen share   \n",
       "\n",
       "                                                                                                                                                                                                                                                                                                                                                                                                                                                                                                                                                                                                                                                                                                                                                                                                                                                                                                                                                                                                                                          text  \n",
       "0                                                                                                                                                                                                                                                                                                                                                                                                                                                                                 I am working on a couple H1 bounty programs and I am running a few VMs with NMAP and Nuclei, but Linode keeps terminating my instances due to complains. The targets are in scope of the H1 programs from these companies. Does anyone have a recommendation/preference for a provider that is more tolerant? I was considering DO and I'm a bit worried about running this on my local machine. FYI just to be clear, these are all within scope of the H1 programs, I just think their net admins might be reporting my scan activity as a false positive.  \n",
       "1                                                                                                                                                                                                                                                                                                                                                                                                                                                                                                                                                                                                                                                                                                                                                                                                                                                                                                                                                                                                                                               \n",
       "2                                                                                                                                                                                                                                                                                                                                                                                                                                                                                                                                                                                                                                                         I've just created a Lyrics finder app using Genius API as Hobby-Learning project, please go and check it out from here:\\n\\n[momalekiii/Lyricsify: Lyricsify is a Python application for search and display song lyrics. (github.com)](https://github.com/momalekiii/Lyricsify)\\n\\nany suggests or contributing?  \\nAccepting your helps, thoughts and ideas with honor, thank you <3  \n",
       "3                                                                                                                                                                                                                                                                                                                                                                                                                                                                                                                                                                                                                                                                                                                                                                                                                                                                                                                                                                                                                                               \n",
       "4      Hi everyone,\\n\\nI need help getting the following Python script to work. The script generates an API token using login credentials and uses that token to access the API for retrieving data.  I'm able to successfully retrieve data from the API and created the tables in PostgreSQL with my script, however, the data is not being inserted into the PostgreSQL database. I've added printouts for potential errors that may be occurring with the insert process but nothing is showing. I hope someone can point me in the right direction. Thank you in advance!\\n\\n    import requests\\n    import json\\n    import psycopg2\\n    import datetime\\n    from psycopg2 import extras\\n    \\n    def get_key(usr, pwd):\\n        body = {'email': usr, 'password': pwd}\\n        url = 'https://www.drugshortagescanada.ca/api/v1/login'\\n        headers = {'Content-Type': 'application/x-www-form-urlencoded'}\\n    \\n        response = requests.post(url, data=body, headers=headers)\\n    \\n        if response.status_co...  \n",
       "...                                                                                                                                                                                                                                                                                                                                                                                                                                                                                                                                                                                                                                                                                                                                                                                                                                                                                                                                                                                                                                        ...  \n",
       "30215                                                                                                                                                                                                                                                                                                                                                                                                                                                                                                                                                                                                                                                                                  IM SO SORRY if this has been asked before but I have never used paypal. I am trying to commission art from someone i found on instagram and they said all they need from me is to either provide them with the email address I registered my paypal with or i could  transfer the money into their bank acct (they provided bank info) \\nIs this safe??  \n",
       "30216                                                                                                                                                                                                                                                                                                                                                                                                                                                                                                                                                                                                                                                                                                                                         Hello, lately this month numbers have called me, when I search for those numbers on Google and put them in the \"photos\" section, photos of s3X workers come out, and every day they dial a different number but with the same 4 digits, I'm desperate Do you think it's a scam or something? aid  \n",
       "30217                                                                                                                                                                                                                                                                                                                                                                                                                                                                                                                                                                                                                                                                                                                                                                                                                                                                                                                                                                                                                                           \n",
       "30218  I  am using Ubuntu 22.04.2 LTS. It was installed on 26th March, so it's a  relatively recent install. I am using GNOME as-is, and have not  installed any extensions. I just got a crash report saying \"Gnome Shell  crashed with sigsegv\". I did upload the crash report, but I don't know  how to track it. I went through the crash report, and the stack trace  contains a similar pattern:\\n\\n    Thread 26 (LWP 2915):  #0  0x00007f69a5e91197 in ?? ()  No symbol table info available.  Backtrace stopped: Cannot access memory at address 0x7f69667ffd90 \\n\\nThis is a common  pattern, with different threads and memory addresses. Is this a known  GNOME bug, or is it specific to my system? Is there a way to check if the system files are corrupt? Since this is my daily driver, I cannot afford to have a corrupt system whatsoever. If that means I have to reinstall the OS from scratch, I am ready to do so.  \\n\\n\\nEdit:  \\nSystem specs:  \\nAMD Ryzen 1700   \\nAsus Strix RX 6600 XT  \\nNothing is overclock...  \n",
       "30219                                                                                                                                                                                                                                                                                                                                                                                                                                                                                                                                                                                                                                                                                                                                                                                   I have a device running PopOS 22.04 and I want to be able to screen share on Wayland.  \\n\\n\\nBut it just tells me I cannot screen share when I try to. Is there a way to fix this? Someone told me I need to edit a config file, but I'm not sure how.  \n",
       "\n",
       "[30220 rows x 6 columns]"
      ]
     },
     "execution_count": 29,
     "metadata": {},
     "output_type": "execute_result"
    }
   ],
   "source": [
    "selected_rows = df_reddit[(pd.to_datetime(df_reddit['date']) >= start_date) & (pd.to_datetime(df_reddit['date']) <= end_date)].reset_index()\n",
    "selected_rows"
   ]
  },
  {
   "cell_type": "code",
   "execution_count": 30,
   "id": "e6cd262f",
   "metadata": {},
   "outputs": [
    {
     "name": "stdout",
     "output_type": "stream",
     "text": [
      "Requirement already satisfied: tqdm in c:\\users\\leona\\anaconda3\\lib\\site-packages (4.65.0)\n",
      "Requirement already satisfied: colorama in c:\\users\\leona\\anaconda3\\lib\\site-packages (from tqdm) (0.4.6)\n",
      "Note: you may need to restart the kernel to use updated packages.\n"
     ]
    }
   ],
   "source": [
    "pip install tqdm"
   ]
  },
  {
   "cell_type": "code",
   "execution_count": 31,
   "id": "37233b8e",
   "metadata": {},
   "outputs": [
    {
     "name": "stdout",
     "output_type": "stream",
     "text": [
      "                 Testo_A         Testo_B  Match\n",
      "0      La casa è grande.  La casa grande   True\n",
      "1  Il cane corre veloce.  Il cane veloce   True\n"
     ]
    },
    {
     "name": "stderr",
     "output_type": "stream",
     "text": [
      "[nltk_data] Downloading package punkt to\n",
      "[nltk_data]     C:\\Users\\leona\\AppData\\Roaming\\nltk_data...\n",
      "[nltk_data]   Package punkt is already up-to-date!\n",
      "[nltk_data] Downloading package stopwords to\n",
      "[nltk_data]     C:\\Users\\leona\\AppData\\Roaming\\nltk_data...\n",
      "[nltk_data]   Package stopwords is already up-to-date!\n"
     ]
    }
   ],
   "source": [
    "import pandas as pd\n",
    "from nltk.stem import PorterStemmer\n",
    "from nltk.tokenize import word_tokenize\n",
    "from nltk.corpus import stopwords\n",
    "import nltk\n",
    "nltk.download('punkt')\n",
    "nltk.download('stopwords')\n",
    "\n",
    "def stemming_and_matching(df_A, df_B):\n",
    "    # Inizializzazione del PorterStemmer\n",
    "    stemmer = PorterStemmer()\n",
    "\n",
    "    # Funzione per eseguire stemming e lemmatization su una riga di testo\n",
    "    def process_text(text):\n",
    "        # Tokenizzazione\n",
    "        tokens = word_tokenize(text.lower())\n",
    "        # Rimozione delle stop words\n",
    "        stop_words = set(stopwords.words('english'))\n",
    "        filtered_tokens = [token for token in tokens if token.isalnum() and token not in stop_words]\n",
    "        # Stemming\n",
    "        stemmed_tokens = [stemmer.stem(token) for token in filtered_tokens]\n",
    "        return stemmed_tokens\n",
    "\n",
    "    # Applicare la funzione a ciascuna riga dei dataframe A e B\n",
    "    df_A['lemmatized_tokens'] = df_A['testo'].apply(process_text)\n",
    "    df_B['lemmatized_tokens'] = df_B['testo'].apply(process_text)\n",
    "\n",
    "    # Creare una lista per i risultati\n",
    "    risultati_list = []\n",
    "\n",
    "    # Calcolare la corrispondenza per ogni coppia di righe tra B e A\n",
    "    for idx_B, row_B in df_B.iterrows():\n",
    "        for idx_A, row_A in df_A.iterrows():\n",
    "            match = all(token in row_A['lemmatized_tokens'] for token in row_B['lemmatized_tokens'])\n",
    "            if match:\n",
    "                risultati_list.append({'Testo_A': row_A['testo'], 'Testo_B': row_B['testo'], 'Match': match})\n",
    "\n",
    "    # Convertire la lista di risultati in un DataFrame\n",
    "    risultati_df = pd.DataFrame(risultati_list)\n",
    "    return risultati_df\n",
    "\n",
    "# Esempio di utilizzo\n",
    "data_A = {'testo': [\"La casa è grande.\", \"Il cane corre veloce.\", \"Gli uccelli volano alto.\"]}\n",
    "data_B = {'testo': [\"La casa grande\", \"Il cane veloce\", \"uccelli alti\"]}\n",
    "df_A = pd.DataFrame(data_A)\n",
    "df_B = pd.DataFrame(data_B)\n",
    "\n",
    "risultato = stemming_and_matching(df_A, df_B)\n",
    "print(risultato)\n"
   ]
  },
  {
   "cell_type": "code",
   "execution_count": 32,
   "id": "5dfd0d80",
   "metadata": {},
   "outputs": [],
   "source": [
    "def stemming_and_matching(words_list, posts_df):\n",
    "    \n",
    "    combined_texts = posts_df['title'] + '. ' + posts_df['text']\n",
    "\n",
    "    stemmer = PorterStemmer()\n",
    "\n",
    "    def process_text(text):\n",
    "        # Tokenization\n",
    "        tokens = word_tokenize(text.lower())\n",
    "        # Delete stop words\n",
    "        stop_words = set(stopwords.words('english'))\n",
    "        filtered_tokens = [token for token in tokens if token.isalnum() and token not in stop_words]\n",
    "        # Stemming\n",
    "        stemmed_tokens = [stemmer.stem(token) for token in filtered_tokens]\n",
    "        return stemmed_tokens\n",
    "    \n",
    "    df_A = pd.DataFrame()\n",
    "    df_B = pd.DataFrame()\n",
    "    \n",
    "    df_A['text'] = combined_texts\n",
    "    df_B['text'] = words_list\n",
    "\n",
    "    df_A['lemmatized_tokens'] = df_A['text'].apply(process_text)\n",
    "    df_B['lemmatized_tokens'] = df_B['text'].apply(process_text)\n",
    "\n",
    "    risultati_list = []\n",
    "\n",
    "    for idx_B, row_B in tqdm(df_B.iterrows(), desc=\"Processing posts\"):\n",
    "        for idx_A, row_A in tqdm(df_A.iterrows(), desc=\"Processing posts\"):\n",
    "            match = all(token in row_A['lemmatized_tokens'] for token in row_B['lemmatized_tokens'])\n",
    "            if match:\n",
    "                risultati_list.append({'full_text': row_A['text'], 'keyword': row_B['text']})\n",
    "\n",
    "    # Convertire la lista di risultati in un DataFrame\n",
    "    risultati_df = pd.DataFrame(risultati_list)\n",
    "    return risultati_df"
   ]
  },
  {
   "cell_type": "code",
   "execution_count": 66,
   "id": "426364a1",
   "metadata": {},
   "outputs": [],
   "source": [
    "def search_lemma_word(title, text, word, post_index, nlp, doc):\n",
    "    analyzed_word = nlp(word)\n",
    "    word_lemma = analyzed_word[0].lemma_\n",
    "    \n",
    "    for token in doc:\n",
    "        if token.text.lower() == word.lower() or token.lemma_.lower() == word_lemma.lower():\n",
    "            return pd.DataFrame({'post_index': [post_index], 'word': [word]})\n",
    "    \n",
    "    return pd.DataFrame()\n",
    "\n",
    "def search_entire_word( text, word, post_index):\n",
    "       \n",
    "    if word.lower() in text.lower() :\n",
    "\n",
    "        return pd.DataFrame({'full_text': [text], 'keyword': [word]})\n",
    "    \n",
    "    return pd.DataFrame()\n",
    "\n",
    "from tqdm import tqdm\n",
    "\n",
    "def loop_search(words_list, posts_df):\n",
    "    nlp = spacy.load(\"en_core_web_sm\")\n",
    "    combined_texts = posts_df['title'] + '. ' + posts_df['text']\n",
    "    list_nlp = [nlp(text) for text in combined_texts]\n",
    "    result_dfs = []\n",
    "\n",
    "    for word in tqdm(words_list, desc=\"Processing words\"):\n",
    "\n",
    "        print(f'Now: {word} ')\n",
    "\n",
    "        if(len(word.split()) == 1):\n",
    "            word_analyzed = nlp(word)\n",
    "            word_lemma = word_analyzed[0].lemma_\n",
    "            for j in tqdm(range(len(posts_df)), desc=\"Processing posts\"):\n",
    "                result_dfs.append(search_lemma_word(posts_df.at[j, 'title'], combined_texts[j], word_lemma, j, nlp, list_nlp[j]))\n",
    "        \n",
    "        else:\n",
    "            for j in tqdm(range(len(posts_df)), desc=\"Processing posts\"):\n",
    "                result_dfs.append(search_entire_word(combined_texts[j], word, j))\n",
    "\n",
    "    result_df = pd.concat(result_dfs, ignore_index=True)\n",
    "    return result_df\n",
    "\n",
    "def malware_search(words_list, posts_df):\n",
    "    nlp = spacy.load(\"en_core_web_sm\")\n",
    "    combined_texts = posts_df['title'] + '. ' + posts_df['text']\n",
    "    result_dfs = []\n",
    "\n",
    "    for word in tqdm(words_list, desc=\"Processing words\"):\n",
    "\n",
    "        print(f'Now: {word} ')\n",
    "\n",
    "        for j in tqdm(range(len(posts_df)), desc=\"Processing posts\"):\n",
    "            result_dfs.append(search_entire_word(combined_texts[j], word, j))\n",
    "\n",
    "    result_df = pd.concat(result_dfs, ignore_index=True)\n",
    "    return result_df"
   ]
  },
  {
   "cell_type": "markdown",
   "id": "bb71e409",
   "metadata": {},
   "source": [
    "### Behaviours searching"
   ]
  },
  {
   "cell_type": "code",
   "execution_count": 34,
   "id": "3a8ccf67",
   "metadata": {},
   "outputs": [],
   "source": [
    "l = len(all_behaviours_name_list)\n",
    "\n",
    "index = l // 3\n",
    "\n",
    "first_half = all_behaviours_name_list[:index]\n",
    "third_half = all_behaviours_name_list[index:index*2]\n",
    "second_half = all_behaviours_name_list[index*2:]"
   ]
  },
  {
   "cell_type": "code",
   "execution_count": 35,
   "id": "41c578b6",
   "metadata": {},
   "outputs": [
    {
     "name": "stderr",
     "output_type": "stream",
     "text": [
      "Processing posts: 30220it [00:02, 11190.32it/s]\n",
      "Processing posts: 30220it [00:02, 11632.16it/s]\n",
      "Processing posts: 30220it [00:02, 10531.20it/s]\n",
      "Processing posts: 30220it [00:02, 11308.61it/s]\n",
      "Processing posts: 30220it [00:02, 11579.81it/s]\n",
      "Processing posts: 30220it [00:02, 11266.99it/s]\n",
      "Processing posts: 30220it [00:02, 10977.69it/s]\n",
      "Processing posts: 30220it [00:02, 10732.02it/s]\n",
      "Processing posts: 30220it [00:03, 10073.01it/s]\n",
      "Processing posts: 30220it [00:02, 10483.98it/s]\n",
      "Processing posts: 30220it [00:02, 10523.65it/s]\n",
      "Processing posts: 30220it [00:02, 11081.32it/s]\n",
      "Processing posts: 30220it [00:02, 11044.40it/s]\n",
      "Processing posts: 30220it [00:02, 10421.56it/s]\n",
      "Processing posts: 30220it [00:03, 9422.44it/s]\n",
      "Processing posts: 30220it [00:03, 9794.84it/s] \n",
      "Processing posts: 30220it [00:02, 10551.27it/s]\n",
      "Processing posts: 30220it [00:02, 10522.74it/s]\n",
      "Processing posts: 30220it [00:03, 9786.43it/s]\n",
      "Processing posts: 30220it [00:03, 9098.50it/s]\n",
      "Processing posts: 30220it [00:02, 10101.13it/s]\n",
      "Processing posts: 30220it [00:02, 10725.21it/s]\n",
      "Processing posts: 30220it [00:03, 10063.61it/s]\n",
      "Processing posts: 30220it [00:03, 10012.18it/s]\n",
      "Processing posts: 30220it [00:03, 9193.92it/s]\n",
      "Processing posts: 30220it [00:02, 10201.44it/s]\n",
      "Processing posts: 30220it [00:02, 10203.59it/s]\n",
      "Processing posts: 30220it [00:02, 10454.99it/s]\n",
      "Processing posts: 30220it [00:02, 10172.03it/s]\n",
      "Processing posts: 30220it [00:03, 9717.65it/s]\n",
      "Processing posts: 30220it [00:02, 10099.67it/s]\n",
      "Processing posts: 30220it [00:02, 10202.73it/s]\n",
      "Processing posts: 30220it [00:02, 10460.23it/s]\n",
      "Processing posts: 30220it [00:02, 10695.07it/s]\n",
      "Processing posts: 30220it [00:03, 9858.31it/s]\n",
      "Processing posts: 30220it [00:03, 9759.54it/s]\n",
      "Processing posts: 30220it [00:02, 10741.04it/s]\n",
      "Processing posts: 30220it [00:02, 10514.03it/s]\n",
      "Processing posts: 30220it [00:02, 10374.66it/s]\n",
      "Processing posts: 30220it [00:02, 10461.82it/s]\n",
      "Processing posts: 30220it [00:03, 9663.58it/s]\n",
      "Processing posts: 30220it [00:02, 10102.71it/s]\n",
      "Processing posts: 30220it [00:02, 10527.07it/s]\n",
      "Processing posts: 30220it [00:02, 10184.11it/s]\n",
      "Processing posts: 30220it [00:02, 10675.36it/s]\n",
      "Processing posts: 30220it [00:02, 10578.64it/s]\n",
      "Processing posts: 30220it [00:03, 9378.43it/s]\n",
      "Processing posts: 30220it [00:02, 10416.11it/s]\n",
      "Processing posts: 30220it [00:02, 10095.61it/s]\n",
      "Processing posts: 30220it [00:02, 10467.92it/s]\n",
      "Processing posts: 30220it [00:02, 10372.88it/s]\n",
      "Processing posts: 30220it [00:03, 9144.38it/s]\n",
      "Processing posts: 30220it [00:02, 10481.26it/s]\n",
      "Processing posts: 30220it [00:02, 10427.31it/s]\n",
      "Processing posts: 30220it [00:02, 10201.84it/s]\n",
      "Processing posts: 30220it [00:03, 8926.77it/s] \n",
      "Processing posts: 30220it [00:03, 9408.52it/s]\n",
      "Processing posts: 30220it [00:03, 9999.73it/s] \n",
      "Processing posts: 30220it [00:02, 10718.04it/s]\n",
      "Processing posts: 30220it [00:02, 10281.42it/s]\n",
      "Processing posts: 30220it [00:02, 10881.37it/s]\n",
      "Processing posts: 30220it [00:03, 10061.19it/s]\n",
      "Processing posts: 30220it [00:03, 9744.84it/s] \n",
      "Processing posts: 30220it [00:02, 10361.09it/s]\n",
      "Processing posts: 30220it [00:02, 10862.64it/s]\n",
      "Processing posts: 30220it [00:02, 10431.56it/s]\n",
      "Processing posts: 30220it [00:02, 10408.71it/s]\n",
      "Processing posts: 30220it [00:03, 9543.19it/s]\n",
      "Processing posts: 30220it [00:02, 10706.65it/s]\n",
      "Processing posts: 30220it [00:02, 10719.30it/s]\n",
      "Processing posts: 30220it [00:02, 10672.43it/s]\n",
      "Processing posts: 30220it [00:02, 11158.11it/s]\n",
      "Processing posts: 30220it [00:02, 10097.02it/s]\n",
      "Processing posts: 30220it [00:02, 10440.72it/s]\n",
      "Processing posts: 30220it [00:02, 10956.09it/s]\n",
      "Processing posts: 30220it [00:02, 10843.31it/s]\n",
      "Processing posts: 30220it [00:02, 11209.56it/s]\n",
      "Processing posts: 30220it [00:02, 11034.59it/s]\n",
      "Processing posts: 30220it [00:03, 9941.28it/s]\n",
      "Processing posts: 30220it [00:02, 10782.98it/s]\n",
      "Processing posts: 30220it [00:02, 10644.30it/s]\n",
      "Processing posts: 30220it [00:02, 11156.44it/s]\n",
      "Processing posts: 30220it [00:02, 11094.32it/s]\n",
      "Processing posts: 30220it [00:02, 10772.58it/s]\n",
      "Processing posts: 30220it [00:03, 9902.44it/s]\n",
      "Processing posts: 30220it [00:02, 11039.13it/s]\n",
      "Processing posts: 30220it [00:02, 11009.84it/s]\n",
      "Processing posts: 30220it [00:02, 11104.19it/s]\n",
      "Processing posts: 30220it [00:02, 11077.22it/s]\n",
      "Processing posts: 30220it [00:02, 10635.45it/s]\n",
      "Processing posts: 30220it [00:02, 10097.53it/s]\n",
      "Processing posts: 30220it [00:02, 10743.04it/s]\n",
      "Processing posts: 30220it [00:02, 10714.27it/s]\n",
      "Processing posts: 30220it [00:02, 11277.72it/s]\n",
      "Processing posts: 30220it [00:02, 11067.98it/s]\n",
      "Processing posts: 30220it [00:02, 10338.41it/s]\n",
      "Processing posts: 30220it [00:02, 10374.85it/s]\n",
      "Processing posts: 30220it [00:02, 10657.51it/s]\n",
      "Processing posts: 30220it [00:02, 10997.06it/s]\n",
      "Processing posts: 30220it [00:02, 11506.74it/s]\n",
      "Processing posts: 30220it [00:02, 10240.16it/s]\n",
      "Processing posts: 30220it [00:03, 9224.93it/s]\n",
      "Processing posts: 30220it [00:02, 10195.06it/s]\n",
      "Processing posts: 30220it [00:02, 10365.97it/s]\n",
      "Processing posts: 30220it [00:02, 10454.09it/s]\n",
      "Processing posts: 30220it [00:02, 10813.54it/s]\n",
      "Processing posts: 30220it [00:03, 9722.25it/s]\n",
      "Processing posts: 107it [05:12,  2.92s/it]\n"
     ]
    }
   ],
   "source": [
    "matches_behaviours_1 = stemming_and_matching( first_half , selected_rows)\n"
   ]
  },
  {
   "cell_type": "code",
   "execution_count": 36,
   "id": "3bf3f051",
   "metadata": {},
   "outputs": [],
   "source": [
    "matches_behaviours_1.to_csv(r'C:\\Users\\leona\\OneDrive\\Desktop\\Tesi\\Pipeline\\Datasets\\Pipeline\\SocialNetworksPosts\\Reddit\\Months\\04\\one_behaviours.csv')"
   ]
  },
  {
   "cell_type": "code",
   "execution_count": 37,
   "id": "0cb63bc5",
   "metadata": {},
   "outputs": [
    {
     "name": "stderr",
     "output_type": "stream",
     "text": [
      "Processing posts: 30220it [00:02, 12845.86it/s]\n",
      "Processing posts: 30220it [00:02, 13042.65it/s]\n",
      "Processing posts: 30220it [00:02, 11488.11it/s]\n",
      "Processing posts: 30220it [00:02, 11211.50it/s]\n",
      "Processing posts: 30220it [00:02, 11857.21it/s]\n",
      "Processing posts: 30220it [00:02, 12250.65it/s]\n",
      "Processing posts: 30220it [00:02, 12281.70it/s]\n",
      "Processing posts: 30220it [00:02, 12324.93it/s]\n",
      "Processing posts: 30220it [00:02, 11265.24it/s]\n",
      "Processing posts: 30220it [00:02, 11175.50it/s]\n",
      "Processing posts: 30220it [00:02, 12000.77it/s]\n",
      "Processing posts: 30220it [00:02, 11885.58it/s]\n",
      "Processing posts: 30220it [00:02, 11093.33it/s]\n",
      "Processing posts: 30220it [00:02, 10972.34it/s]\n",
      "Processing posts: 30220it [00:03, 9879.40it/s]\n",
      "Processing posts: 30220it [00:03, 9724.12it/s] \n",
      "Processing posts: 30220it [00:02, 10595.47it/s]\n",
      "Processing posts: 30220it [00:02, 10698.37it/s]\n",
      "Processing posts: 30220it [00:02, 10659.66it/s]\n",
      "Processing posts: 30220it [00:02, 10732.12it/s]\n",
      "Processing posts: 30220it [00:03, 9707.31it/s]\n",
      "Processing posts: 30220it [00:03, 9495.38it/s]\n",
      "Processing posts: 30220it [00:03, 8955.29it/s] \n",
      "Processing posts: 30220it [00:02, 10328.56it/s]\n",
      "Processing posts: 30220it [00:03, 10071.21it/s]\n",
      "Processing posts: 30220it [00:03, 9095.42it/s]\n",
      "Processing posts: 30220it [00:03, 10062.74it/s]\n",
      "Processing posts: 30220it [00:03, 10022.77it/s]\n",
      "Processing posts: 30220it [00:02, 10231.11it/s]\n",
      "Processing posts: 30220it [00:02, 10549.18it/s]\n",
      "Processing posts: 30220it [00:03, 9544.17it/s]\n",
      "Processing posts: 30220it [00:03, 9690.98it/s] \n",
      "Processing posts: 30220it [00:02, 10084.12it/s]\n",
      "Processing posts: 30220it [00:02, 10126.10it/s]\n",
      "Processing posts: 30220it [00:02, 10410.08it/s]\n",
      "Processing posts: 30220it [00:03, 9969.95it/s]\n",
      "Processing posts: 30220it [00:03, 9272.32it/s]\n",
      "Processing posts: 30220it [00:02, 10580.70it/s]\n",
      "Processing posts: 30220it [00:02, 10689.38it/s]\n",
      "Processing posts: 30220it [00:02, 10865.85it/s]\n",
      "Processing posts: 30220it [00:02, 10485.46it/s]\n",
      "Processing posts: 30220it [00:03, 10042.06it/s]\n",
      "Processing posts: 30220it [00:02, 10570.69it/s]\n",
      "Processing posts: 30220it [00:02, 10859.78it/s]\n",
      "Processing posts: 30220it [00:02, 10613.99it/s]\n",
      "Processing posts: 30220it [00:02, 10103.50it/s]\n",
      "Processing posts: 30220it [00:02, 10166.95it/s]\n",
      "Processing posts: 30220it [00:02, 10155.21it/s]\n",
      "Processing posts: 30220it [00:02, 11185.32it/s]\n",
      "Processing posts: 30220it [00:02, 11104.41it/s]\n",
      "Processing posts: 30220it [00:02, 11209.27it/s]\n",
      "Processing posts: 30220it [00:02, 11347.40it/s]\n",
      "Processing posts: 30220it [00:02, 10251.46it/s]\n",
      "Processing posts: 30220it [00:02, 10798.70it/s]\n",
      "Processing posts: 30220it [00:02, 11287.97it/s]\n",
      "Processing posts: 30220it [00:02, 11227.43it/s]\n",
      "Processing posts: 30220it [00:02, 10861.72it/s]\n",
      "Processing posts: 30220it [00:02, 10428.05it/s]\n",
      "Processing posts: 30220it [00:03, 9737.94it/s]\n",
      "Processing posts: 30220it [00:02, 10878.71it/s]\n",
      "Processing posts: 30220it [00:02, 11276.17it/s]\n",
      "Processing posts: 30220it [00:02, 10728.69it/s]\n",
      "Processing posts: 30220it [00:02, 10884.25it/s]\n",
      "Processing posts: 30220it [00:02, 10482.19it/s]\n",
      "Processing posts: 30220it [00:02, 10283.19it/s]\n",
      "Processing posts: 30220it [00:02, 10900.20it/s]\n",
      "Processing posts: 30220it [00:02, 10840.21it/s]\n",
      "Processing posts: 30220it [00:02, 10396.63it/s]\n",
      "Processing posts: 30220it [00:02, 10413.89it/s]\n",
      "Processing posts: 30220it [00:03, 9749.96it/s]\n",
      "Processing posts: 30220it [00:02, 10623.50it/s]\n",
      "Processing posts: 30220it [00:02, 10627.13it/s]\n",
      "Processing posts: 30220it [00:02, 10431.00it/s]\n",
      "Processing posts: 30220it [00:02, 10592.72it/s]\n",
      "Processing posts: 30220it [00:03, 9906.46it/s]\n",
      "Processing posts: 30220it [00:03, 9895.97it/s] \n",
      "Processing posts: 30220it [00:02, 10346.23it/s]\n",
      "Processing posts: 30220it [00:02, 10583.31it/s]\n",
      "Processing posts: 30220it [00:02, 10324.13it/s]\n",
      "Processing posts: 30220it [00:02, 10364.14it/s]\n",
      "Processing posts: 30220it [00:03, 9650.36it/s]\n",
      "Processing posts: 30220it [00:02, 10193.53it/s]\n",
      "Processing posts: 30220it [00:02, 10755.10it/s]\n",
      "Processing posts: 30220it [00:02, 10242.84it/s]\n",
      "Processing posts: 30220it [00:02, 10584.76it/s]\n",
      "Processing posts: 30220it [00:02, 10118.23it/s]\n",
      "Processing posts: 30220it [00:03, 9964.82it/s] \n",
      "Processing posts: 30220it [00:02, 10479.15it/s]\n",
      "Processing posts: 30220it [00:02, 10395.09it/s]\n",
      "Processing posts: 30220it [00:02, 10621.76it/s]\n",
      "Processing posts: 30220it [00:03, 10027.58it/s]\n",
      "Processing posts: 30220it [00:03, 9634.00it/s]\n",
      "Processing posts: 30220it [00:02, 10288.83it/s]\n",
      "Processing posts: 30220it [00:02, 10166.79it/s]\n",
      "Processing posts: 30220it [00:02, 10475.08it/s]\n",
      "Processing posts: 30220it [00:03, 9762.40it/s]\n",
      "Processing posts: 30220it [00:03, 9065.43it/s]\n",
      "Processing posts: 30220it [00:02, 10179.94it/s]\n",
      "Processing posts: 30220it [00:02, 10339.73it/s]\n",
      "Processing posts: 30220it [00:02, 10687.44it/s]\n",
      "Processing posts: 30220it [00:02, 10236.58it/s]\n",
      "Processing posts: 30220it [00:02, 10248.61it/s]\n",
      "Processing posts: 30220it [00:03, 9881.58it/s] \n",
      "Processing posts: 30220it [00:02, 10344.38it/s]\n",
      "Processing posts: 30220it [00:02, 10755.35it/s]\n",
      "Processing posts: 30220it [00:02, 10632.04it/s]\n",
      "Processing posts: 30220it [00:02, 10118.93it/s]\n",
      "Processing posts: 30220it [00:03, 9518.76it/s]\n",
      "Processing posts: 30220it [00:02, 10124.87it/s]\n",
      "Processing posts: 109it [05:15,  2.90s/it]\n"
     ]
    }
   ],
   "source": [
    "matches_behaviours_2 = stemming_and_matching( second_half , selected_rows)\n"
   ]
  },
  {
   "cell_type": "code",
   "execution_count": 38,
   "id": "85b13e45",
   "metadata": {},
   "outputs": [],
   "source": [
    "matches_behaviours_2.to_csv(r'C:\\Users\\leona\\OneDrive\\Desktop\\Tesi\\Pipeline\\Datasets\\Pipeline\\SocialNetworksPosts\\Reddit\\Months\\04\\two_behaviours.csv')"
   ]
  },
  {
   "cell_type": "code",
   "execution_count": 39,
   "id": "ef599e5e",
   "metadata": {},
   "outputs": [
    {
     "name": "stderr",
     "output_type": "stream",
     "text": [
      "Processing posts: 30220it [00:02, 12937.68it/s]\n",
      "Processing posts: 30220it [00:02, 13236.25it/s]\n",
      "Processing posts: 30220it [00:02, 13057.09it/s]\n",
      "Processing posts: 30220it [00:02, 13277.03it/s]\n",
      "Processing posts: 30220it [00:02, 13561.13it/s]\n",
      "Processing posts: 30220it [00:02, 12853.30it/s]\n",
      "Processing posts: 30220it [00:02, 14088.26it/s]\n",
      "Processing posts: 30220it [00:02, 12735.63it/s]\n",
      "Processing posts: 30220it [00:02, 12936.69it/s]\n",
      "Processing posts: 30220it [00:02, 12669.09it/s]\n",
      "Processing posts: 30220it [00:02, 13195.88it/s]\n",
      "Processing posts: 30220it [00:02, 11690.91it/s]\n",
      "Processing posts: 30220it [00:02, 12163.76it/s]\n",
      "Processing posts: 30220it [00:02, 12535.41it/s]\n",
      "Processing posts: 30220it [00:02, 12879.66it/s]\n",
      "Processing posts: 30220it [00:02, 13235.59it/s]\n",
      "Processing posts: 30220it [00:02, 12570.05it/s]\n",
      "Processing posts: 30220it [00:02, 13255.82it/s]\n",
      "Processing posts: 30220it [00:02, 11541.90it/s]\n",
      "Processing posts: 30220it [00:02, 12445.84it/s]\n",
      "Processing posts: 30220it [00:02, 12688.35it/s]\n",
      "Processing posts: 30220it [00:02, 12937.58it/s]\n",
      "Processing posts: 30220it [00:02, 11767.10it/s]\n",
      "Processing posts: 30220it [00:02, 13030.56it/s]\n",
      "Processing posts: 30220it [00:02, 12185.89it/s]\n",
      "Processing posts: 30220it [00:02, 11986.17it/s]\n",
      "Processing posts: 30220it [00:02, 13212.07it/s]\n",
      "Processing posts: 30220it [00:02, 12156.87it/s]\n",
      "Processing posts: 30220it [00:02, 12967.55it/s]\n",
      "Processing posts: 30220it [00:02, 12331.63it/s]\n",
      "Processing posts: 30220it [00:02, 12524.35it/s]\n",
      "Processing posts: 30220it [00:02, 10542.17it/s]\n",
      "Processing posts: 30220it [00:02, 11186.92it/s]\n",
      "Processing posts: 30220it [00:02, 11331.43it/s]\n",
      "Processing posts: 30220it [00:02, 11659.59it/s]\n",
      "Processing posts: 30220it [00:02, 11852.39it/s]\n",
      "Processing posts: 30220it [00:02, 11418.50it/s]\n",
      "Processing posts: 30220it [00:02, 10528.18it/s]\n",
      "Processing posts: 30220it [00:02, 10904.94it/s]\n",
      "Processing posts: 30220it [00:02, 11519.05it/s]\n",
      "Processing posts: 30220it [00:02, 11926.21it/s]\n",
      "Processing posts: 30220it [00:02, 11699.40it/s]\n",
      "Processing posts: 30220it [00:02, 11482.78it/s]\n",
      "Processing posts: 30220it [00:02, 10289.36it/s]\n",
      "Processing posts: 30220it [00:02, 11156.54it/s]\n",
      "Processing posts: 30220it [00:02, 11329.00it/s]\n",
      "Processing posts: 30220it [00:02, 11514.66it/s]\n",
      "Processing posts: 30220it [00:02, 11748.44it/s]\n",
      "Processing posts: 30220it [00:02, 11149.98it/s]\n",
      "Processing posts: 30220it [00:03, 9834.99it/s] \n",
      "Processing posts: 30220it [00:02, 11005.80it/s]\n",
      "Processing posts: 30220it [00:02, 11016.15it/s]\n",
      "Processing posts: 30220it [00:02, 11655.40it/s]\n",
      "Processing posts: 30220it [00:02, 11254.86it/s]\n",
      "Processing posts: 30220it [00:02, 11828.87it/s]\n",
      "Processing posts: 30220it [00:02, 10311.74it/s]\n",
      "Processing posts: 30220it [00:03, 10030.60it/s]\n",
      "Processing posts: 30220it [00:02, 10130.64it/s]\n",
      "Processing posts: 30220it [00:02, 10856.86it/s]\n",
      "Processing posts: 30220it [00:02, 10690.13it/s]\n",
      "Processing posts: 30220it [00:03, 9748.77it/s]\n",
      "Processing posts: 30220it [00:02, 10195.35it/s]\n",
      "Processing posts: 30220it [00:02, 10826.64it/s]\n",
      "Processing posts: 30220it [00:02, 11236.22it/s]\n",
      "Processing posts: 30220it [00:02, 11116.71it/s]\n",
      "Processing posts: 30220it [00:02, 10923.16it/s]\n",
      "Processing posts: 30220it [00:03, 9845.57it/s]\n",
      "Processing posts: 30220it [00:02, 10473.96it/s]\n",
      "Processing posts: 30220it [00:02, 10808.59it/s]\n",
      "Processing posts: 30220it [00:02, 10560.44it/s]\n",
      "Processing posts: 30220it [00:02, 10376.46it/s]\n",
      "Processing posts: 30220it [00:03, 9840.76it/s]\n",
      "Processing posts: 30220it [00:03, 9769.48it/s] \n",
      "Processing posts: 30220it [00:02, 10529.06it/s]\n",
      "Processing posts: 30220it [00:02, 10489.26it/s]\n",
      "Processing posts: 30220it [00:02, 10718.88it/s]\n",
      "Processing posts: 30220it [00:02, 10426.67it/s]\n",
      "Processing posts: 30220it [00:03, 9226.86it/s]\n",
      "Processing posts: 30220it [00:02, 10401.42it/s]\n",
      "Processing posts: 30220it [00:02, 10654.25it/s]\n",
      "Processing posts: 30220it [00:02, 10342.06it/s]\n",
      "Processing posts: 30220it [00:03, 9938.74it/s]\n",
      "Processing posts: 30220it [00:03, 10061.37it/s]\n",
      "Processing posts: 30220it [00:03, 9629.50it/s] \n",
      "Processing posts: 30220it [00:03, 10053.99it/s]\n",
      "Processing posts: 30220it [00:02, 10584.59it/s]\n",
      "Processing posts: 30220it [00:02, 10263.10it/s]\n",
      "Processing posts: 30220it [00:03, 9858.45it/s]\n",
      "Processing posts: 30220it [00:03, 9913.19it/s] \n",
      "Processing posts: 30220it [00:02, 10275.70it/s]\n",
      "Processing posts: 30220it [00:02, 10453.00it/s]\n",
      "Processing posts: 30220it [00:02, 10399.01it/s]\n",
      "Processing posts: 30220it [00:02, 10455.61it/s]\n",
      "Processing posts: 30220it [00:03, 9407.54it/s]\n",
      "Processing posts: 30220it [00:02, 10284.44it/s]\n",
      "Processing posts: 30220it [00:02, 10579.30it/s]\n",
      "Processing posts: 30220it [00:02, 10348.21it/s]\n",
      "Processing posts: 30220it [00:02, 10547.55it/s]\n",
      "Processing posts: 30220it [00:03, 10003.11it/s]\n",
      "Processing posts: 30220it [00:03, 10003.31it/s]\n",
      "Processing posts: 30220it [00:02, 10483.44it/s]\n",
      "Processing posts: 30220it [00:02, 10427.17it/s]\n",
      "Processing posts: 30220it [00:02, 10244.53it/s]\n",
      "Processing posts: 30220it [00:03, 9701.45it/s]\n",
      "Processing posts: 30220it [00:03, 8980.79it/s]\n",
      "Processing posts: 30220it [00:02, 10361.82it/s]\n",
      "Processing posts: 30220it [00:03, 9333.73it/s]\n",
      "Processing posts: 107it [04:53,  2.74s/it]\n"
     ]
    }
   ],
   "source": [
    "matches_behaviours_3 = stemming_and_matching( third_half , selected_rows)\n"
   ]
  },
  {
   "cell_type": "code",
   "execution_count": 40,
   "id": "a81efc6d",
   "metadata": {},
   "outputs": [],
   "source": [
    "matches_behaviours_3.to_csv(r'C:\\Users\\leona\\OneDrive\\Desktop\\Tesi\\Pipeline\\Datasets\\Pipeline\\SocialNetworksPosts\\Reddit\\Months\\04\\three_behaviours.csv')"
   ]
  },
  {
   "cell_type": "code",
   "execution_count": 41,
   "id": "fb269744",
   "metadata": {},
   "outputs": [
    {
     "data": {
      "text/html": [
       "<div>\n",
       "<style scoped>\n",
       "    .dataframe tbody tr th:only-of-type {\n",
       "        vertical-align: middle;\n",
       "    }\n",
       "\n",
       "    .dataframe tbody tr th {\n",
       "        vertical-align: top;\n",
       "    }\n",
       "\n",
       "    .dataframe thead th {\n",
       "        text-align: right;\n",
       "    }\n",
       "</style>\n",
       "<table border=\"1\" class=\"dataframe\">\n",
       "  <thead>\n",
       "    <tr style=\"text-align: right;\">\n",
       "      <th></th>\n",
       "      <th>full_text</th>\n",
       "      <th>keyword</th>\n",
       "    </tr>\n",
       "  </thead>\n",
       "  <tbody>\n",
       "    <tr>\n",
       "      <th>0</th>\n",
       "      <td>It's just computers. I've been in the DevOps / SRE world for about seven years, and I'm thinking it's time to make a change since I'm about a hair's width away from complete burnout.\\n\\nFirst, some background: I got into the field through a lateral move at a startup as a sort of data analyst / domain expert. Started writing scripts to automate repetitive tasks. Eventually I managed to redirect my hobby Linux skills into a productive career at several different companies working on the typical array of DevOps-related things: CI/CD, infrastructure as code, monitoring, release management, containerization, orchestration, architecture. Bought in to the whole cattle vs. pets mindset, don't repeat yourself, don't re-invent the wheel, follow best practices, etc. I became passionate about reading tech blogs and keeping up on emerging tools and technologies, even maintaining my own blog for some time about cool (to me) problems I was solving.\\n\\nA little over a year ago I jumped at the oppo...</td>\n",
       "      <td>process interest</td>\n",
       "    </tr>\n",
       "    <tr>\n",
       "      <th>1</th>\n",
       "      <td>ISO 27001 path for a small company. Hi all, \\n\\nOne of the projects I am working with will most likely need to become ISO 27001 compliant soon, therefore I have been researching all possible ways of getting the certificate. I'm from the company's business side, and I have a tech background but no prior ISM experience. They don't consider hiring a consultant at this point. \\n\\nIn the first place, I looked for ISO 27001 paid templates with implementation guidance, but it appears to be a time-consuming process to obtain the certificate. I'm not even sure if a company without internal expertise can obtain certification this way. \\n\\nThen I realized there had to be a software solution to automate the process, so I went through demos with almost all providers, including Vanta, Drata, Secureframe, Thoropass, Scrut, Sprinto, and ISMS. I'm still interested in chatting with AuditBoard and OneTrust. I've worked on a feature table that is nearly finished.\\n\\nAfter a few weeks, I still feel lik...</td>\n",
       "      <td>process interest</td>\n",
       "    </tr>\n",
       "    <tr>\n",
       "      <th>2</th>\n",
       "      <td>Open-source collaboration. I wanted to introduce myself and share a new open-source project I've been working on called [Apollo](https://github.com/apolloapi/apolloapi). It's an LLM aggregation library for Python that simplifies the process of working with APIs, AI models, and Django.\\n\\nI'm currently adding support for a full API to manage in-app integrations, user subscription management, and preferences, and would love to get feedback on our SDK.\\n\\nBy the way, if you're interested in contributing to the project, we're always looking for new contributors!</td>\n",
       "      <td>process interest</td>\n",
       "    </tr>\n",
       "    <tr>\n",
       "      <th>3</th>\n",
       "      <td>Seeking advice for MoCA. I got the Comptia Sec+ certificate and wanted to get N+ next. I learned about MoCa and was interested in implementing this in my home just to familiarize myself with the process. My personal computer gets connectivity and I was interest in a wired connection. \\n\\nI got some equipment and tried to set everything up. I wasn't receiving connectivity through the moca adapter even after enabling moca on my router. I then tried using two adapters in case the router was defective to no avail.\\n\\nI decided to test whether the coax was active in the basement or if any signal at all was coming through. None of the coaxial ports seemed to get connectivity. I went looking around to figure out if I could spot how the coax was entering the house. I found the picture attached. \\n\\nI decided to stop there at the risk of batching things irreparably. I wanted to ask whether anyone had seen a situation like this where there are many coaxial cables that are seemingly attached ...</td>\n",
       "      <td>process interest</td>\n",
       "    </tr>\n",
       "    <tr>\n",
       "      <th>4</th>\n",
       "      <td>[KDE] is it possible to suspend applications when they lose focus, and resume them when they regain focus?. Might not be possible, but KDE's window rules are really versatile. I know it can check if an app has focus, doesn't have focus, but I don't know if there is a way to integrate this into a script that sends pause and resume process signals, which from my testing can be used as a hacky way to pause applications like games. \\n\\nI'm wondering if there is a way to pause a game when I have alt tabbed off, or am not focusing on it, and resume it when I return. Obviously, this only works on singleplayer, DRM free games, but it would be an interesting gimmick.</td>\n",
       "      <td>process interest</td>\n",
       "    </tr>\n",
       "    <tr>\n",
       "      <th>...</th>\n",
       "      <td>...</td>\n",
       "      <td>...</td>\n",
       "    </tr>\n",
       "    <tr>\n",
       "      <th>1044</th>\n",
       "      <td>Matrix Server with NginxProxyManager, which ports to open in router. Hey!\\n\\nI want to test out matrix chat protocol with some friends.\\n\\nI've set up a synapse server on my home server, have a local DNS with a domain name. I also set up DynDNS for this domain at my provider (Strato).\\n\\nIn my network, I can reach the server via its domain, sine I have NPM foward all requests to the IP and port of the server. So far, so good. For security, I forwarded 443 temporarily and got a LetEncrypt cert via NPM.\\n\\nBut which ports do I need to open on my router so my friends can connect? 443? Somewhere I read also 8448.</td>\n",
       "      <td>network dyndns</td>\n",
       "    </tr>\n",
       "    <tr>\n",
       "      <th>1045</th>\n",
       "      <td>Managing Microsoft store apps - Why should we cater to this?. Hey everyone,\\n\\nOur organization is having a Google Workspace environment for collaboration and other office productivity tools. We have a few select individual users who would want to have Microsoft Sticky Notes updated and WhatsApp for desktop installed. It seems the previous sysadmin managing our AD setup group policies to block Microsoft Store updates (rightfully so!). We did not want to manage the users having access to downloading Candy Crush and other nonsense apps through the Microsoft store as this would be a loophole for us since we are holding the admin rights for computers in our domain. \\n\\nNow, my question is, what can we do for providing the updates for those select users who need some specific application installed? We don't plan on rolling back the Microsoft store block for systems domain-wide. I saw some steps for installing individual apps on machines with PowerShell but we faced some issues during th...</td>\n",
       "      <td>powershell download</td>\n",
       "    </tr>\n",
       "    <tr>\n",
       "      <th>1046</th>\n",
       "      <td>Has anyone used Dialpad's MSI installer for silent deployment?. I raised with Dialpad in late 2021, and it doesn't appear that the situation has changed. I suspect this is because it's not a real machine wide installer, when running through the GUI by double clicking the MSI it just drops the MSI in place in the program files directorty and creates a regkey to install dialpad in the appdata directory for users as they sign into the device. \\n\\nIf I use the dialpad MSI with /silent /norestart - it just does nothing.\\n\\nFor the deployment back then I had my support case escalated all the way to the devs in Japan, and they helped me basically recreate what the installer is supposed to do. \\n\\nI created a powershell script to download the MSI from Dialpad, place it in the program files directory and then create a registry key to install the MSI into the user profile (The stuff you would expect the MSI to do itself). Which worked, but meant that after rolling the script out - dialpad st...</td>\n",
       "      <td>powershell download</td>\n",
       "    </tr>\n",
       "    <tr>\n",
       "      <th>1047</th>\n",
       "      <td>Getting Viruses on github. I was doing analysis on this github repo earlier  and opened a .bat file in my browser. It was under the /blob/main url. In the code I saw what was obviously a rat of some kind. The .bat file did a powershell cmd that downloaded and exe and that exe came back as asyncrat. Is it possible that my machine is now ratted by looking at that code in the browser, under the /blob/main url? I didn't download or execute anything but I'm still wondering.</td>\n",
       "      <td>powershell download</td>\n",
       "    </tr>\n",
       "    <tr>\n",
       "      <th>1048</th>\n",
       "      <td>Dell Command update. trying to put together a batch file or powershell  i can deploy to remotely set up dell command update settings to download drivers automatically and prompt for install any suggestions?</td>\n",
       "      <td>powershell download</td>\n",
       "    </tr>\n",
       "  </tbody>\n",
       "</table>\n",
       "<p>2373 rows × 2 columns</p>\n",
       "</div>"
      ],
      "text/plain": [
       "                                                                                                                                                                                                                                                                                                                                                                                                                                                                                                                                                                                                                                                                                                                                                                                                                                                                                                                                                                                                                                    full_text  \\\n",
       "0     It's just computers. I've been in the DevOps / SRE world for about seven years, and I'm thinking it's time to make a change since I'm about a hair's width away from complete burnout.\\n\\nFirst, some background: I got into the field through a lateral move at a startup as a sort of data analyst / domain expert. Started writing scripts to automate repetitive tasks. Eventually I managed to redirect my hobby Linux skills into a productive career at several different companies working on the typical array of DevOps-related things: CI/CD, infrastructure as code, monitoring, release management, containerization, orchestration, architecture. Bought in to the whole cattle vs. pets mindset, don't repeat yourself, don't re-invent the wheel, follow best practices, etc. I became passionate about reading tech blogs and keeping up on emerging tools and technologies, even maintaining my own blog for some time about cool (to me) problems I was solving.\\n\\nA little over a year ago I jumped at the oppo...   \n",
       "1     ISO 27001 path for a small company. Hi all, \\n\\nOne of the projects I am working with will most likely need to become ISO 27001 compliant soon, therefore I have been researching all possible ways of getting the certificate. I'm from the company's business side, and I have a tech background but no prior ISM experience. They don't consider hiring a consultant at this point. \\n\\nIn the first place, I looked for ISO 27001 paid templates with implementation guidance, but it appears to be a time-consuming process to obtain the certificate. I'm not even sure if a company without internal expertise can obtain certification this way. \\n\\nThen I realized there had to be a software solution to automate the process, so I went through demos with almost all providers, including Vanta, Drata, Secureframe, Thoropass, Scrut, Sprinto, and ISMS. I'm still interested in chatting with AuditBoard and OneTrust. I've worked on a feature table that is nearly finished.\\n\\nAfter a few weeks, I still feel lik...   \n",
       "2                                                                                                                                                                                                                                                                                                                                                                                                                                                        Open-source collaboration. I wanted to introduce myself and share a new open-source project I've been working on called [Apollo](https://github.com/apolloapi/apolloapi). It's an LLM aggregation library for Python that simplifies the process of working with APIs, AI models, and Django.\\n\\nI'm currently adding support for a full API to manage in-app integrations, user subscription management, and preferences, and would love to get feedback on our SDK.\\n\\nBy the way, if you're interested in contributing to the project, we're always looking for new contributors!   \n",
       "3     Seeking advice for MoCA. I got the Comptia Sec+ certificate and wanted to get N+ next. I learned about MoCa and was interested in implementing this in my home just to familiarize myself with the process. My personal computer gets connectivity and I was interest in a wired connection. \\n\\nI got some equipment and tried to set everything up. I wasn't receiving connectivity through the moca adapter even after enabling moca on my router. I then tried using two adapters in case the router was defective to no avail.\\n\\nI decided to test whether the coax was active in the basement or if any signal at all was coming through. None of the coaxial ports seemed to get connectivity. I went looking around to figure out if I could spot how the coax was entering the house. I found the picture attached. \\n\\nI decided to stop there at the risk of batching things irreparably. I wanted to ask whether anyone had seen a situation like this where there are many coaxial cables that are seemingly attached ...   \n",
       "4                                                                                                                                                                                                                                                                                                                                                  [KDE] is it possible to suspend applications when they lose focus, and resume them when they regain focus?. Might not be possible, but KDE's window rules are really versatile. I know it can check if an app has focus, doesn't have focus, but I don't know if there is a way to integrate this into a script that sends pause and resume process signals, which from my testing can be used as a hacky way to pause applications like games. \\n\\nI'm wondering if there is a way to pause a game when I have alt tabbed off, or am not focusing on it, and resume it when I return. Obviously, this only works on singleplayer, DRM free games, but it would be an interesting gimmick.   \n",
       "...                                                                                                                                                                                                                                                                                                                                                                                                                                                                                                                                                                                                                                                                                                                                                                                                                                                                                                                                                                                                                                       ...   \n",
       "1044                                                                                                                                                                                                                                                                                                                                                                                                 Matrix Server with NginxProxyManager, which ports to open in router. Hey!\\n\\nI want to test out matrix chat protocol with some friends.\\n\\nI've set up a synapse server on my home server, have a local DNS with a domain name. I also set up DynDNS for this domain at my provider (Strato).\\n\\nIn my network, I can reach the server via its domain, sine I have NPM foward all requests to the IP and port of the server. So far, so good. For security, I forwarded 443 temporarily and got a LetEncrypt cert via NPM.\\n\\nBut which ports do I need to open on my router so my friends can connect? 443? Somewhere I read also 8448.   \n",
       "1045  Managing Microsoft store apps - Why should we cater to this?. Hey everyone,\\n\\nOur organization is having a Google Workspace environment for collaboration and other office productivity tools. We have a few select individual users who would want to have Microsoft Sticky Notes updated and WhatsApp for desktop installed. It seems the previous sysadmin managing our AD setup group policies to block Microsoft Store updates (rightfully so!). We did not want to manage the users having access to downloading Candy Crush and other nonsense apps through the Microsoft store as this would be a loophole for us since we are holding the admin rights for computers in our domain. \\n\\nNow, my question is, what can we do for providing the updates for those select users who need some specific application installed? We don't plan on rolling back the Microsoft store block for systems domain-wide. I saw some steps for installing individual apps on machines with PowerShell but we faced some issues during th...   \n",
       "1046  Has anyone used Dialpad's MSI installer for silent deployment?. I raised with Dialpad in late 2021, and it doesn't appear that the situation has changed. I suspect this is because it's not a real machine wide installer, when running through the GUI by double clicking the MSI it just drops the MSI in place in the program files directorty and creates a regkey to install dialpad in the appdata directory for users as they sign into the device. \\n\\nIf I use the dialpad MSI with /silent /norestart - it just does nothing.\\n\\nFor the deployment back then I had my support case escalated all the way to the devs in Japan, and they helped me basically recreate what the installer is supposed to do. \\n\\nI created a powershell script to download the MSI from Dialpad, place it in the program files directory and then create a registry key to install the MSI into the user profile (The stuff you would expect the MSI to do itself). Which worked, but meant that after rolling the script out - dialpad st...   \n",
       "1047                                                                                                                                                                                                                                                                                                                                                                                                                                                                                                                                                Getting Viruses on github. I was doing analysis on this github repo earlier  and opened a .bat file in my browser. It was under the /blob/main url. In the code I saw what was obviously a rat of some kind. The .bat file did a powershell cmd that downloaded and exe and that exe came back as asyncrat. Is it possible that my machine is now ratted by looking at that code in the browser, under the /blob/main url? I didn't download or execute anything but I'm still wondering.   \n",
       "1048                                                                                                                                                                                                                                                                                                                                                                                                                                                                                                                                                                                                                                                                                                                                                                                                                           Dell Command update. trying to put together a batch file or powershell  i can deploy to remotely set up dell command update settings to download drivers automatically and prompt for install any suggestions?   \n",
       "\n",
       "                  keyword  \n",
       "0        process interest  \n",
       "1        process interest  \n",
       "2        process interest  \n",
       "3        process interest  \n",
       "4        process interest  \n",
       "...                   ...  \n",
       "1044       network dyndns  \n",
       "1045  powershell download  \n",
       "1046  powershell download  \n",
       "1047  powershell download  \n",
       "1048  powershell download  \n",
       "\n",
       "[2373 rows x 2 columns]"
      ]
     },
     "execution_count": 41,
     "metadata": {},
     "output_type": "execute_result"
    }
   ],
   "source": [
    "matches = pd.concat([matches_behaviours_3, matches_behaviours_2, matches_behaviours_1])\n",
    "matches"
   ]
  },
  {
   "cell_type": "code",
   "execution_count": 42,
   "id": "38bac787",
   "metadata": {},
   "outputs": [],
   "source": [
    "matches['keyword type'] = 'behaviour'"
   ]
  },
  {
   "cell_type": "code",
   "execution_count": 43,
   "id": "2a09d111",
   "metadata": {},
   "outputs": [],
   "source": [
    "matches.to_csv(r'C:\\Users\\leona\\OneDrive\\Desktop\\Tesi\\Pipeline\\Datasets\\Pipeline\\SocialNetworksPosts\\Reddit\\Months\\04\\Behaviours.csv')"
   ]
  },
  {
   "cell_type": "markdown",
   "id": "36144587",
   "metadata": {},
   "source": [
    "### Attacks searching"
   ]
  },
  {
   "cell_type": "code",
   "execution_count": 44,
   "id": "0523f54b",
   "metadata": {},
   "outputs": [],
   "source": [
    "l = len(all_attack_name_list)\n",
    "\n",
    "index = l // 2\n",
    "\n",
    "first_half_behaviours = all_attack_name_list[:index]\n",
    "second_half_behaviours = all_attack_name_list[index:]\n"
   ]
  },
  {
   "cell_type": "code",
   "execution_count": 45,
   "id": "4918cbb9",
   "metadata": {},
   "outputs": [
    {
     "name": "stderr",
     "output_type": "stream",
     "text": [
      "Processing posts: 30220it [00:02, 10202.43it/s]\n",
      "Processing posts: 30220it [00:02, 10749.85it/s]\n",
      "Processing posts: 30220it [00:02, 11582.04it/s]\n",
      "Processing posts: 30220it [00:02, 11256.98it/s]\n",
      "Processing posts: 30220it [00:02, 11293.70it/s]\n",
      "Processing posts: 30220it [00:02, 11538.99it/s]\n",
      "Processing posts: 30220it [00:02, 11024.34it/s]\n",
      "Processing posts: 30220it [00:02, 12027.52it/s]\n",
      "Processing posts: 30220it [00:02, 12122.22it/s]\n",
      "Processing posts: 30220it [00:02, 12440.92it/s]\n",
      "Processing posts: 30220it [00:02, 11473.69it/s]\n",
      "Processing posts: 11it [00:29,  2.66s/it]\n"
     ]
    }
   ],
   "source": [
    "matches1 = pd.DataFrame()\n",
    "\n",
    "matches1 = stemming_and_matching( first_half_behaviours , selected_rows)"
   ]
  },
  {
   "cell_type": "code",
   "execution_count": 46,
   "id": "638703fa",
   "metadata": {},
   "outputs": [
    {
     "name": "stderr",
     "output_type": "stream",
     "text": [
      "Processing posts: 30220it [00:02, 13635.80it/s]\n",
      "Processing posts: 30220it [00:02, 12658.67it/s]\n",
      "Processing posts: 30220it [00:02, 13167.23it/s]\n",
      "Processing posts: 30220it [00:02, 13038.68it/s]\n",
      "Processing posts: 30220it [00:02, 11689.32it/s]\n",
      "Processing posts: 30220it [00:02, 12263.73it/s]\n",
      "Processing posts: 30220it [00:02, 12810.30it/s]\n",
      "Processing posts: 30220it [00:02, 12901.57it/s]\n",
      "Processing posts: 30220it [00:02, 12684.65it/s]\n",
      "Processing posts: 30220it [00:02, 13110.92it/s]\n",
      "Processing posts: 30220it [00:02, 13052.37it/s]\n",
      "Processing posts: 30220it [00:02, 10922.00it/s]\n",
      "Processing posts: 12it [00:28,  2.40s/it]\n"
     ]
    }
   ],
   "source": [
    "matches2 = pd.DataFrame()\n",
    "\n",
    "matches2 = stemming_and_matching( second_half_behaviours , selected_rows)"
   ]
  },
  {
   "cell_type": "code",
   "execution_count": 47,
   "id": "ac913507",
   "metadata": {},
   "outputs": [
    {
     "data": {
      "text/html": [
       "<div>\n",
       "<style scoped>\n",
       "    .dataframe tbody tr th:only-of-type {\n",
       "        vertical-align: middle;\n",
       "    }\n",
       "\n",
       "    .dataframe tbody tr th {\n",
       "        vertical-align: top;\n",
       "    }\n",
       "\n",
       "    .dataframe thead th {\n",
       "        text-align: right;\n",
       "    }\n",
       "</style>\n",
       "<table border=\"1\" class=\"dataframe\">\n",
       "  <thead>\n",
       "    <tr style=\"text-align: right;\">\n",
       "      <th></th>\n",
       "      <th>full_text</th>\n",
       "      <th>keyword</th>\n",
       "    </tr>\n",
       "  </thead>\n",
       "  <tbody>\n",
       "    <tr>\n",
       "      <th>0</th>\n",
       "      <td>Where is the run dialogue box getting it's list of folders/files from (Windows 10)?. I've been trying to find the source of the data that is stored and displayed in the windows 10 run dialogue box/autocomplete. The history is disabled and shows nothing when clicking the dropdown arrow. The RunMRU registry key has been erased, as have a bunch of other locations such as prefetch files, search index, general temp files and a general search in the registry. \\n\\nIf I bring up the run dialogue, and type `z:` it gives me a list of files that were on a drive i've previously plugged in and mounted to Z:\\\\. However, if I type `Z:\\` I get the contents of the drive currently plugged in.\\n\\nI've noticed something else odd, the same files shown when typing z: are also visible in the run menu as `file:///Z:/filename`\\n\\nCan anyone explain where this data is \\_actually\\_ being stored and where I might be able to parse it? \\n\\nI've tried searching file contents of my drive and the registry for refe...</td>\n",
       "      <td>Registry Run Keys</td>\n",
       "    </tr>\n",
       "    <tr>\n",
       "      <th>1</th>\n",
       "      <td>Has anyone used Dialpad's MSI installer for silent deployment?. I raised with Dialpad in late 2021, and it doesn't appear that the situation has changed. I suspect this is because it's not a real machine wide installer, when running through the GUI by double clicking the MSI it just drops the MSI in place in the program files directorty and creates a regkey to install dialpad in the appdata directory for users as they sign into the device. \\n\\nIf I use the dialpad MSI with /silent /norestart - it just does nothing.\\n\\nFor the deployment back then I had my support case escalated all the way to the devs in Japan, and they helped me basically recreate what the installer is supposed to do. \\n\\nI created a powershell script to download the MSI from Dialpad, place it in the program files directory and then create a registry key to install the MSI into the user profile (The stuff you would expect the MSI to do itself). Which worked, but meant that after rolling the script out - dialpad st...</td>\n",
       "      <td>Registry Run Keys</td>\n",
       "    </tr>\n",
       "    <tr>\n",
       "      <th>2</th>\n",
       "      <td>Trying to undo previously set settings. Hey, kinda weird request, but I previously disabled my F1 key using the registry editor because I had a problem with a previous keyboard's PCB panel, and I don't remember how exactly I did it, it was through a guide online, everything was great, but now I've upgraded my keyboard to a newer one, and I want to bring the key back, but I'm not sure how, I tried to find the guide online with no success, I just want to set my settings back to default..\\n\\n&amp;#x200B;\\n\\nFYI, my PC is running on windows 10, it's not a bug that I encountered I just really don't remember how I disabled it, and I want to re-enable it :)</td>\n",
       "      <td>Registry Run Keys</td>\n",
       "    </tr>\n",
       "    <tr>\n",
       "      <th>3</th>\n",
       "      <td>M365 current channel \"updating\" to older build. We've come across a weird issue this morning with machines running M365 current channel. We've tested this on some of our machines are running the latest build, 16227.20280. Checking for updates through any of the apps, it will start to download an apply an update. Once this has completed, M365 is downgraded to the build that was released on March 20th, 16130.20332.\\n\\nWe're able to manually update back to the latest build by using the C2R updater and referencing the build number:  \"C:\\\\Program Files\\\\Common Files\\\\microsoft shared\\\\ClickToRun\\\\OfficeC2RClient.exe\" /update user updatetoversion=16.0.16227.20280\\n\\nGoing through the GUI update process will again downgrade it to 16130.20332.\\n\\nChecking our registries, we can see that in Computer\\\\HKEY\\_LOCAL\\_MACHINE\\\\SOFTWARE\\\\Microsoft\\\\Office\\\\ClickToRun\\\\Configuration, the \"VersionToReport\" key references the latest build. My assumption is that this entry is used when checking for u...</td>\n",
       "      <td>Registry Run Keys</td>\n",
       "    </tr>\n",
       "    <tr>\n",
       "      <th>4</th>\n",
       "      <td>Can't access the desktop folder at all after trying to lock a certain folder within the desktop itself.. I wrote the following prompt in ChatGpt:  \\n\" I have a folder in my desktop which has games in it. I want to make it be locked or unaccesible for the entire day except between 9 pm and 12 am. How can I do this \"\\n\\nThis was its response:\\n\\n\"One way to achieve this is by using a third-party software or tool that allows you to set up a schedule for accessing specific folders or files. Here are the steps to do this using Windows built-in tool named \"Task Scheduler\":\\n\\n1. Open Task Scheduler by pressing the Windows key + R, type \"taskschd.msc\" and hit Enter.\\n2. In the Task Scheduler window, click on \"Create Task\" from the right-hand panel.\\n3. Give the task a name and description that reflects its purpose, such as \"Lock Games Folder.\"\\n4. Under the \"Security options\" section, select the \"Run whether the user is logged on or not\" option.\\n5. Select the \"Triggers\" tab and click \"Ne...</td>\n",
       "      <td>Registry Run Keys</td>\n",
       "    </tr>\n",
       "    <tr>\n",
       "      <th>...</th>\n",
       "      <td>...</td>\n",
       "      <td>...</td>\n",
       "    </tr>\n",
       "    <tr>\n",
       "      <th>15</th>\n",
       "      <td>Home Networking Switch Setup. Hello, I hope someone can give me a couple of pointers / advice. Thanks in advance!\\n\\nI'm setting up the network in my new house. Let's for argument's sake say that I have 40 devices/Ethernet ports that need to be connected up in the basement through switches. I'll also have around 10 PoE devices (APs, Tablets, etc.). classic PoE / PoE+ devices.\\n\\nSo the question I'm grappling with is what kind of switch / switch-setup to get (I'm leaning twoards TP-Link Omada, since Unifi seems much more expensive without that much extra functionality, at least for a home user):Should I get:\\n\\n1. 2 24 port switches (one with PoE and one without) and link those together using their Gigabit SFP-ports, or\\n2. 1 24 port PoE switch + 1 48 port non-PoE switch, or\\n3. 1 48 port Poe Switch?\\n\\nProduct wise, I'm currently considering:\\n\\n* TP-Link ER7212PC as a controller/router/\"firewall\".\\n* TP-Link TL-SG3428MP / TP-Link TL-SG3428 as the 24 port PoE/non-PoE switches\\n* TP...</td>\n",
       "      <td>550</td>\n",
       "    </tr>\n",
       "    <tr>\n",
       "      <th>16</th>\n",
       "      <td>Wi-Fi slow on MacBook, but fast on other devices. Tonight I fell asleep while a YouTube video was playing. When I woke up in the morning, the MacBook was not in standby but the YouTube video has stopped playing half-way through the video, and it had a spinning loading wheel that didn't stop. Since then, the Wi-Fi is super slow on this device, and it can't even load a full website (see screenshot of the speedtest-net website). Restart didn't help. But Wi-Fi works still fine on my iPhone and other devices (over 550 Mbps when I use the speedtest app on the iPhone). I have a 10 Gbit/s fiber connection from Salt (Switzerland). I have ExpressVPN and NordVPN installed on the MacBook, but they were both not active when the wi-fi stopped working.</td>\n",
       "      <td>550</td>\n",
       "    </tr>\n",
       "    <tr>\n",
       "      <th>17</th>\n",
       "      <td>Can someone explain how this returns Paris 982? Where does it differentiate the city names form the distance in the dictionary 'cities'?.     cities = {\\n        'London': 438,\\n        'Rome': 550,\\n        'Toronto': 958,\\n        'Chicago': 584,\\n        'Paris': 982,\\n    }\\n    \\n    best = ''\\n    distance = 0\\n    for city in cities:\\n        if cities[city] &gt; distance:\\n            best = city\\n            distance = cities[city]\\n    print(best, distance)</td>\n",
       "      <td>550</td>\n",
       "    </tr>\n",
       "    <tr>\n",
       "      <th>18</th>\n",
       "      <td>[GPU Upgrade] Used 3080 12GB vs. wait it out for 4070 for ultrawide 1440p setup?. So I recently upgraded my setup with an ultrawide 1440p monitor. I'm now finding that my trusty 3070 has finally hit its wall in performance due to it's limiting 8GB of VRAM. I'm now considering upgrading the GPU, but now I'm in a bit of a dilemma. So I currently have a used top-end 3080 12GB waiting to purchase for under $550 that I'm strongly leaning towards purchasing, or wait it out for the 4070 non-ti and pick that up in the next few weeks. \\n\\nPart of the problem with the 3080 is that I absolutely will need a new PSU for my system. It only powers up to 650 watts which I know at best is really pushing my luck with a 3080, and worst will not be enough to power my entire system with the card. On the other hand, based on what I heard early on about 40 series cards I would still need to upgrade my PSU to an ATX 3.0 compatible one for the 4070, so I guess my worry is a moot point anyway. Regardless of...</td>\n",
       "      <td>550</td>\n",
       "    </tr>\n",
       "    <tr>\n",
       "      <th>19</th>\n",
       "      <td>... No charges on my AWS bill for the past three days?. My average AWS monthly bill is normally about $550. Today is April 3rd, and the costs for April 1st to 3rd are $0. I did not make any changes, all of my services are working properly, and my app is working too. Why is my bill for April 1-3 $0?\\n\\nMy account does not have the free tier active, and I have no AWS promotional credits that are automatically applied to my bill. I first thought that this was AWS's way of making an April fool's joke, but my bill remains unchanged... I checked the billing console as well as the AWS Cost Explorers page.\\n\\nIs anyone else experiencing this?  \\n\\n\\n  \\nEdit: (also this is not a troll, look below)  \\n\\n\\nhttps://preview.redd.it/feoum11gzkra1.png?width=1860&amp;format=png&amp;auto=webp&amp;v=enabled&amp;s=442b3e99d788cef2f5b33e6025b332fbe7fc8b15</td>\n",
       "      <td>550</td>\n",
       "    </tr>\n",
       "  </tbody>\n",
       "</table>\n",
       "<p>215 rows × 2 columns</p>\n",
       "</div>"
      ],
      "text/plain": [
       "                                                                                                                                                                                                                                                                                                                                                                                                                                                                                                                                                                                                                                                                                                                                                                                                                                                                                                                                                                                                                                  full_text  \\\n",
       "0   Where is the run dialogue box getting it's list of folders/files from (Windows 10)?. I've been trying to find the source of the data that is stored and displayed in the windows 10 run dialogue box/autocomplete. The history is disabled and shows nothing when clicking the dropdown arrow. The RunMRU registry key has been erased, as have a bunch of other locations such as prefetch files, search index, general temp files and a general search in the registry. \\n\\nIf I bring up the run dialogue, and type `z:` it gives me a list of files that were on a drive i've previously plugged in and mounted to Z:\\\\. However, if I type `Z:\\` I get the contents of the drive currently plugged in.\\n\\nI've noticed something else odd, the same files shown when typing z: are also visible in the run menu as `file:///Z:/filename`\\n\\nCan anyone explain where this data is \\_actually\\_ being stored and where I might be able to parse it? \\n\\nI've tried searching file contents of my drive and the registry for refe...   \n",
       "1   Has anyone used Dialpad's MSI installer for silent deployment?. I raised with Dialpad in late 2021, and it doesn't appear that the situation has changed. I suspect this is because it's not a real machine wide installer, when running through the GUI by double clicking the MSI it just drops the MSI in place in the program files directorty and creates a regkey to install dialpad in the appdata directory for users as they sign into the device. \\n\\nIf I use the dialpad MSI with /silent /norestart - it just does nothing.\\n\\nFor the deployment back then I had my support case escalated all the way to the devs in Japan, and they helped me basically recreate what the installer is supposed to do. \\n\\nI created a powershell script to download the MSI from Dialpad, place it in the program files directory and then create a registry key to install the MSI into the user profile (The stuff you would expect the MSI to do itself). Which worked, but meant that after rolling the script out - dialpad st...   \n",
       "2                                                                                                                                                                                                                                                                                                                                                            Trying to undo previously set settings. Hey, kinda weird request, but I previously disabled my F1 key using the registry editor because I had a problem with a previous keyboard's PCB panel, and I don't remember how exactly I did it, it was through a guide online, everything was great, but now I've upgraded my keyboard to a newer one, and I want to bring the key back, but I'm not sure how, I tried to find the guide online with no success, I just want to set my settings back to default..\\n\\n&#x200B;\\n\\nFYI, my PC is running on windows 10, it's not a bug that I encountered I just really don't remember how I disabled it, and I want to re-enable it :)   \n",
       "3   M365 current channel \"updating\" to older build. We've come across a weird issue this morning with machines running M365 current channel. We've tested this on some of our machines are running the latest build, 16227.20280. Checking for updates through any of the apps, it will start to download an apply an update. Once this has completed, M365 is downgraded to the build that was released on March 20th, 16130.20332.\\n\\nWe're able to manually update back to the latest build by using the C2R updater and referencing the build number:  \"C:\\\\Program Files\\\\Common Files\\\\microsoft shared\\\\ClickToRun\\\\OfficeC2RClient.exe\" /update user updatetoversion=16.0.16227.20280\\n\\nGoing through the GUI update process will again downgrade it to 16130.20332.\\n\\nChecking our registries, we can see that in Computer\\\\HKEY\\_LOCAL\\_MACHINE\\\\SOFTWARE\\\\Microsoft\\\\Office\\\\ClickToRun\\\\Configuration, the \"VersionToReport\" key references the latest build. My assumption is that this entry is used when checking for u...   \n",
       "4   Can't access the desktop folder at all after trying to lock a certain folder within the desktop itself.. I wrote the following prompt in ChatGpt:  \\n\" I have a folder in my desktop which has games in it. I want to make it be locked or unaccesible for the entire day except between 9 pm and 12 am. How can I do this \"\\n\\nThis was its response:\\n\\n\"One way to achieve this is by using a third-party software or tool that allows you to set up a schedule for accessing specific folders or files. Here are the steps to do this using Windows built-in tool named \"Task Scheduler\":\\n\\n1. Open Task Scheduler by pressing the Windows key + R, type \"taskschd.msc\" and hit Enter.\\n2. In the Task Scheduler window, click on \"Create Task\" from the right-hand panel.\\n3. Give the task a name and description that reflects its purpose, such as \"Lock Games Folder.\"\\n4. Under the \"Security options\" section, select the \"Run whether the user is logged on or not\" option.\\n5. Select the \"Triggers\" tab and click \"Ne...   \n",
       "..                                                                                                                                                                                                                                                                                                                                                                                                                                                                                                                                                                                                                                                                                                                                                                                                                                                                                                                                                                                                                                      ...   \n",
       "15  Home Networking Switch Setup. Hello, I hope someone can give me a couple of pointers / advice. Thanks in advance!\\n\\nI'm setting up the network in my new house. Let's for argument's sake say that I have 40 devices/Ethernet ports that need to be connected up in the basement through switches. I'll also have around 10 PoE devices (APs, Tablets, etc.). classic PoE / PoE+ devices.\\n\\nSo the question I'm grappling with is what kind of switch / switch-setup to get (I'm leaning twoards TP-Link Omada, since Unifi seems much more expensive without that much extra functionality, at least for a home user):Should I get:\\n\\n1. 2 24 port switches (one with PoE and one without) and link those together using their Gigabit SFP-ports, or\\n2. 1 24 port PoE switch + 1 48 port non-PoE switch, or\\n3. 1 48 port Poe Switch?\\n\\nProduct wise, I'm currently considering:\\n\\n* TP-Link ER7212PC as a controller/router/\"firewall\".\\n* TP-Link TL-SG3428MP / TP-Link TL-SG3428 as the 24 port PoE/non-PoE switches\\n* TP...   \n",
       "16                                                                                                                                                                                                                                                              Wi-Fi slow on MacBook, but fast on other devices. Tonight I fell asleep while a YouTube video was playing. When I woke up in the morning, the MacBook was not in standby but the YouTube video has stopped playing half-way through the video, and it had a spinning loading wheel that didn't stop. Since then, the Wi-Fi is super slow on this device, and it can't even load a full website (see screenshot of the speedtest-net website). Restart didn't help. But Wi-Fi works still fine on my iPhone and other devices (over 550 Mbps when I use the speedtest app on the iPhone). I have a 10 Gbit/s fiber connection from Salt (Switzerland). I have ExpressVPN and NordVPN installed on the MacBook, but they were both not active when the wi-fi stopped working.   \n",
       "17                                                                                                                                                                                                                                                                                                                                                                                                                                                                                                                                                     Can someone explain how this returns Paris 982? Where does it differentiate the city names form the distance in the dictionary 'cities'?.     cities = {\\n        'London': 438,\\n        'Rome': 550,\\n        'Toronto': 958,\\n        'Chicago': 584,\\n        'Paris': 982,\\n    }\\n    \\n    best = ''\\n    distance = 0\\n    for city in cities:\\n        if cities[city] > distance:\\n            best = city\\n            distance = cities[city]\\n    print(best, distance)   \n",
       "18  [GPU Upgrade] Used 3080 12GB vs. wait it out for 4070 for ultrawide 1440p setup?. So I recently upgraded my setup with an ultrawide 1440p monitor. I'm now finding that my trusty 3070 has finally hit its wall in performance due to it's limiting 8GB of VRAM. I'm now considering upgrading the GPU, but now I'm in a bit of a dilemma. So I currently have a used top-end 3080 12GB waiting to purchase for under $550 that I'm strongly leaning towards purchasing, or wait it out for the 4070 non-ti and pick that up in the next few weeks. \\n\\nPart of the problem with the 3080 is that I absolutely will need a new PSU for my system. It only powers up to 650 watts which I know at best is really pushing my luck with a 3080, and worst will not be enough to power my entire system with the card. On the other hand, based on what I heard early on about 40 series cards I would still need to upgrade my PSU to an ATX 3.0 compatible one for the 4070, so I guess my worry is a moot point anyway. Regardless of...   \n",
       "19                                                                                                                                                                         ... No charges on my AWS bill for the past three days?. My average AWS monthly bill is normally about $550. Today is April 3rd, and the costs for April 1st to 3rd are $0. I did not make any changes, all of my services are working properly, and my app is working too. Why is my bill for April 1-3 $0?\\n\\nMy account does not have the free tier active, and I have no AWS promotional credits that are automatically applied to my bill. I first thought that this was AWS's way of making an April fool's joke, but my bill remains unchanged... I checked the billing console as well as the AWS Cost Explorers page.\\n\\nIs anyone else experiencing this?  \\n\\n\\n  \\nEdit: (also this is not a troll, look below)  \\n\\n\\nhttps://preview.redd.it/feoum11gzkra1.png?width=1860&format=png&auto=webp&v=enabled&s=442b3e99d788cef2f5b33e6025b332fbe7fc8b15   \n",
       "\n",
       "              keyword  \n",
       "0   Registry Run Keys  \n",
       "1   Registry Run Keys  \n",
       "2   Registry Run Keys  \n",
       "3   Registry Run Keys  \n",
       "4   Registry Run Keys  \n",
       "..                ...  \n",
       "15                550  \n",
       "16                550  \n",
       "17                550  \n",
       "18                550  \n",
       "19                550  \n",
       "\n",
       "[215 rows x 2 columns]"
      ]
     },
     "execution_count": 47,
     "metadata": {},
     "output_type": "execute_result"
    }
   ],
   "source": [
    "matches = pd.concat([matches1, matches2])\n",
    "matches"
   ]
  },
  {
   "cell_type": "code",
   "execution_count": 48,
   "id": "adb93597",
   "metadata": {},
   "outputs": [],
   "source": [
    "matches['keyword type'] = 'attack'"
   ]
  },
  {
   "cell_type": "code",
   "execution_count": 49,
   "id": "65ad27a3",
   "metadata": {},
   "outputs": [],
   "source": [
    "matches.to_csv(r'C:\\Users\\leona\\OneDrive\\Desktop\\Tesi\\Pipeline\\Datasets\\Pipeline\\SocialNetworksPosts\\Reddit\\Months\\04\\Posts_filteredby_Attacks.csv')"
   ]
  },
  {
   "cell_type": "markdown",
   "id": "e5891f03",
   "metadata": {},
   "source": [
    "### Malware names searching"
   ]
  },
  {
   "cell_type": "code",
   "execution_count": 68,
   "id": "153f5078",
   "metadata": {
    "scrolled": true
   },
   "outputs": [
    {
     "name": "stderr",
     "output_type": "stream",
     "text": [
      "Processing words:   0%|          | 0/56 [00:00<?, ?it/s]"
     ]
    },
    {
     "name": "stdout",
     "output_type": "stream",
     "text": [
      "Now: remcos \n"
     ]
    },
    {
     "name": "stderr",
     "output_type": "stream",
     "text": [
      "Processing posts: 100%|██████████| 30220/30220 [00:07<00:00, 4029.67it/s]\n",
      "Processing words:   2%|▏         | 1/56 [00:07<06:52,  7.51s/it]"
     ]
    },
    {
     "name": "stdout",
     "output_type": "stream",
     "text": [
      "Now: generic mg \n"
     ]
    },
    {
     "name": "stderr",
     "output_type": "stream",
     "text": [
      "Processing posts: 100%|██████████| 30220/30220 [00:07<00:00, 3827.28it/s]\n",
      "Processing words:   4%|▎         | 2/56 [00:15<06:57,  7.74s/it]"
     ]
    },
    {
     "name": "stdout",
     "output_type": "stream",
     "text": [
      "Now: njrat \n"
     ]
    },
    {
     "name": "stderr",
     "output_type": "stream",
     "text": [
      "Processing posts: 100%|██████████| 30220/30220 [00:07<00:00, 3854.09it/s]\n",
      "Processing words:   5%|▌         | 3/56 [00:23<06:53,  7.79s/it]"
     ]
    },
    {
     "name": "stdout",
     "output_type": "stream",
     "text": [
      "Now: bitrat \n"
     ]
    },
    {
     "name": "stderr",
     "output_type": "stream",
     "text": [
      "Processing posts: 100%|██████████| 30220/30220 [00:12<00:00, 2469.04it/s]\n",
      "Processing words:   7%|▋         | 4/56 [00:35<08:16,  9.55s/it]"
     ]
    },
    {
     "name": "stdout",
     "output_type": "stream",
     "text": [
      "Now: mirai \n"
     ]
    },
    {
     "name": "stderr",
     "output_type": "stream",
     "text": [
      "Processing posts: 100%|██████████| 30220/30220 [00:08<00:00, 3549.80it/s]\n",
      "Processing words:   9%|▉         | 5/56 [00:44<07:48,  9.18s/it]"
     ]
    },
    {
     "name": "stdout",
     "output_type": "stream",
     "text": [
      "Now: injector gen \n"
     ]
    },
    {
     "name": "stderr",
     "output_type": "stream",
     "text": [
      "Processing posts: 100%|██████████| 30220/30220 [00:06<00:00, 4897.26it/s]\n",
      "Processing words:  11%|█         | 6/56 [00:50<06:47,  8.16s/it]"
     ]
    },
    {
     "name": "stdout",
     "output_type": "stream",
     "text": [
      "Now: generickd \n"
     ]
    },
    {
     "name": "stderr",
     "output_type": "stream",
     "text": [
      "Processing posts: 100%|██████████| 30220/30220 [00:07<00:00, 3941.21it/s]\n",
      "Processing words:  12%|█▎        | 7/56 [00:57<06:31,  8.00s/it]"
     ]
    },
    {
     "name": "stdout",
     "output_type": "stream",
     "text": [
      "Now: quasar rat \n"
     ]
    },
    {
     "name": "stderr",
     "output_type": "stream",
     "text": [
      "Processing posts: 100%|██████████| 30220/30220 [00:06<00:00, 4524.52it/s]\n",
      "Processing words:  14%|█▍        | 8/56 [01:04<06:04,  7.58s/it]"
     ]
    },
    {
     "name": "stdout",
     "output_type": "stream",
     "text": [
      "Now: muldrop \n"
     ]
    },
    {
     "name": "stderr",
     "output_type": "stream",
     "text": [
      "Processing posts: 100%|██████████| 30220/30220 [00:06<00:00, 4641.57it/s]\n",
      "Processing words:  16%|█▌        | 9/56 [01:11<05:40,  7.25s/it]"
     ]
    },
    {
     "name": "stdout",
     "output_type": "stream",
     "text": [
      "Now: netwire \n"
     ]
    },
    {
     "name": "stderr",
     "output_type": "stream",
     "text": [
      "Processing posts: 100%|██████████| 30220/30220 [00:06<00:00, 4497.80it/s]\n",
      "Processing words:  18%|█▊        | 10/56 [01:17<05:26,  7.09s/it]"
     ]
    },
    {
     "name": "stdout",
     "output_type": "stream",
     "text": [
      "Now: ave maria \n"
     ]
    },
    {
     "name": "stderr",
     "output_type": "stream",
     "text": [
      "Processing posts: 100%|██████████| 30220/30220 [00:08<00:00, 3512.18it/s]\n",
      "Processing words:  20%|█▉        | 11/56 [01:26<05:39,  7.55s/it]"
     ]
    },
    {
     "name": "stdout",
     "output_type": "stream",
     "text": [
      "Now: script cryxos \n"
     ]
    },
    {
     "name": "stderr",
     "output_type": "stream",
     "text": [
      "Processing posts: 100%|██████████| 30220/30220 [00:06<00:00, 4648.80it/s]\n",
      "Processing words:  21%|██▏       | 12/56 [01:32<05:18,  7.23s/it]"
     ]
    },
    {
     "name": "stdout",
     "output_type": "stream",
     "text": [
      "Now: downloader gen \n"
     ]
    },
    {
     "name": "stderr",
     "output_type": "stream",
     "text": [
      "Processing posts: 100%|██████████| 30220/30220 [00:06<00:00, 4322.32it/s]\n",
      "Processing words:  23%|██▎       | 13/56 [01:39<05:08,  7.16s/it]"
     ]
    },
    {
     "name": "stdout",
     "output_type": "stream",
     "text": [
      "Now: orcus \n"
     ]
    },
    {
     "name": "stderr",
     "output_type": "stream",
     "text": [
      "Processing posts: 100%|██████████| 30220/30220 [00:06<00:00, 4606.87it/s]\n",
      "Processing words:  25%|██▌       | 14/56 [01:46<04:53,  6.98s/it]"
     ]
    },
    {
     "name": "stdout",
     "output_type": "stream",
     "text": [
      "Now: x gen drp \n"
     ]
    },
    {
     "name": "stderr",
     "output_type": "stream",
     "text": [
      "Processing posts: 100%|██████████| 30220/30220 [00:07<00:00, 4229.71it/s]\n",
      "Processing words:  27%|██▋       | 15/56 [01:53<04:48,  7.04s/it]"
     ]
    },
    {
     "name": "stdout",
     "output_type": "stream",
     "text": [
      "Now: agent tesla \n"
     ]
    },
    {
     "name": "stderr",
     "output_type": "stream",
     "text": [
      "Processing posts: 100%|██████████| 30220/30220 [00:07<00:00, 4225.18it/s]\n",
      "Processing words:  29%|██▊       | 16/56 [02:00<04:42,  7.07s/it]"
     ]
    },
    {
     "name": "stdout",
     "output_type": "stream",
     "text": [
      "Now: nanocore rat \n"
     ]
    },
    {
     "name": "stderr",
     "output_type": "stream",
     "text": [
      "Processing posts: 100%|██████████| 30220/30220 [00:09<00:00, 3058.50it/s]\n",
      "Processing words:  30%|███       | 17/56 [02:10<05:08,  7.92s/it]"
     ]
    },
    {
     "name": "stdout",
     "output_type": "stream",
     "text": [
      "Now: redline stealer \n"
     ]
    },
    {
     "name": "stderr",
     "output_type": "stream",
     "text": [
      "Processing posts: 100%|██████████| 30220/30220 [00:07<00:00, 3796.03it/s]\n",
      "Processing words:  32%|███▏      | 18/56 [02:18<05:01,  7.94s/it]"
     ]
    },
    {
     "name": "stdout",
     "output_type": "stream",
     "text": [
      "Now: lumma stealer \n"
     ]
    },
    {
     "name": "stderr",
     "output_type": "stream",
     "text": [
      "Processing posts: 100%|██████████| 30220/30220 [00:07<00:00, 4185.82it/s]\n",
      "Processing words:  34%|███▍      | 19/56 [02:25<04:45,  7.72s/it]"
     ]
    },
    {
     "name": "stdout",
     "output_type": "stream",
     "text": [
      "Now: siggen \n"
     ]
    },
    {
     "name": "stderr",
     "output_type": "stream",
     "text": [
      "Processing posts: 100%|██████████| 30220/30220 [00:07<00:00, 4119.20it/s]\n",
      "Processing words:  36%|███▌      | 20/56 [02:33<04:34,  7.61s/it]"
     ]
    },
    {
     "name": "stdout",
     "output_type": "stream",
     "text": [
      "Now: spynote \n"
     ]
    },
    {
     "name": "stderr",
     "output_type": "stream",
     "text": [
      "Processing posts: 100%|██████████| 30220/30220 [00:07<00:00, 4242.29it/s]\n",
      "Processing words:  38%|███▊      | 21/56 [02:40<04:21,  7.47s/it]"
     ]
    },
    {
     "name": "stdout",
     "output_type": "stream",
     "text": [
      "Now: kryptik gen \n"
     ]
    },
    {
     "name": "stderr",
     "output_type": "stream",
     "text": [
      "Processing posts: 100%|██████████| 30220/30220 [00:07<00:00, 4170.21it/s]\n",
      "Processing words:  39%|███▉      | 22/56 [02:47<04:11,  7.40s/it]"
     ]
    },
    {
     "name": "stdout",
     "output_type": "stream",
     "text": [
      "Now: obfus \n"
     ]
    },
    {
     "name": "stderr",
     "output_type": "stream",
     "text": [
      "Processing posts: 100%|██████████| 30220/30220 [00:09<00:00, 3302.05it/s]\n",
      "Processing words:  41%|████      | 23/56 [02:56<04:21,  7.93s/it]"
     ]
    },
    {
     "name": "stdout",
     "output_type": "stream",
     "text": [
      "Now: kryptik gen eldorado \n"
     ]
    },
    {
     "name": "stderr",
     "output_type": "stream",
     "text": [
      "Processing posts: 100%|██████████| 30220/30220 [00:07<00:00, 4131.78it/s]\n",
      "Processing words:  43%|████▎     | 24/56 [03:04<04:07,  7.74s/it]"
     ]
    },
    {
     "name": "stdout",
     "output_type": "stream",
     "text": [
      "Now: valyria \n"
     ]
    },
    {
     "name": "stderr",
     "output_type": "stream",
     "text": [
      "Processing posts: 100%|██████████| 30220/30220 [00:06<00:00, 4475.19it/s]\n",
      "Processing words:  45%|████▍     | 25/56 [03:10<03:51,  7.45s/it]"
     ]
    },
    {
     "name": "stdout",
     "output_type": "stream",
     "text": [
      "Now: artemis \n"
     ]
    },
    {
     "name": "stderr",
     "output_type": "stream",
     "text": [
      "Processing posts: 100%|██████████| 30220/30220 [00:07<00:00, 4268.77it/s]\n",
      "Processing words:  46%|████▋     | 26/56 [03:17<03:40,  7.35s/it]"
     ]
    },
    {
     "name": "stdout",
     "output_type": "stream",
     "text": [
      "Now: twave evil \n"
     ]
    },
    {
     "name": "stderr",
     "output_type": "stream",
     "text": [
      "Processing posts: 100%|██████████| 30220/30220 [00:06<00:00, 4487.18it/s]\n",
      "Processing words:  48%|████▊     | 27/56 [03:24<03:27,  7.17s/it]"
     ]
    },
    {
     "name": "stdout",
     "output_type": "stream",
     "text": [
      "Now: java gen \n"
     ]
    },
    {
     "name": "stderr",
     "output_type": "stream",
     "text": [
      "Processing posts: 100%|██████████| 30220/30220 [00:06<00:00, 4404.60it/s]\n",
      "Processing words:  50%|█████     | 28/56 [03:31<03:18,  7.08s/it]"
     ]
    },
    {
     "name": "stdout",
     "output_type": "stream",
     "text": [
      "Now: borlanddelphi \n"
     ]
    },
    {
     "name": "stderr",
     "output_type": "stream",
     "text": [
      "Processing posts: 100%|██████████| 30220/30220 [00:07<00:00, 4208.55it/s]\n",
      "Processing words:  52%|█████▏    | 29/56 [03:38<03:11,  7.11s/it]"
     ]
    },
    {
     "name": "stdout",
     "output_type": "stream",
     "text": [
      "Now: cobalt strike \n"
     ]
    },
    {
     "name": "stderr",
     "output_type": "stream",
     "text": [
      "Processing posts: 100%|██████████| 30220/30220 [00:06<00:00, 4472.45it/s]\n",
      "Processing words:  54%|█████▎    | 30/56 [03:45<03:02,  7.00s/it]"
     ]
    },
    {
     "name": "stdout",
     "output_type": "stream",
     "text": [
      "Now: aidetect net \n"
     ]
    },
    {
     "name": "stderr",
     "output_type": "stream",
     "text": [
      "Processing posts: 100%|██████████| 30220/30220 [00:09<00:00, 3116.93it/s]\n",
      "Processing words:  55%|█████▌    | 31/56 [03:55<03:15,  7.81s/it]"
     ]
    },
    {
     "name": "stdout",
     "output_type": "stream",
     "text": [
      "Now: miscreantpunch \n"
     ]
    },
    {
     "name": "stderr",
     "output_type": "stream",
     "text": [
      "Processing posts: 100%|██████████| 30220/30220 [00:06<00:00, 4456.15it/s]\n",
      "Processing words:  57%|█████▋    | 32/56 [04:02<03:00,  7.51s/it]"
     ]
    },
    {
     "name": "stdout",
     "output_type": "stream",
     "text": [
      "Now: perseus \n"
     ]
    },
    {
     "name": "stderr",
     "output_type": "stream",
     "text": [
      "Processing posts: 100%|██████████| 30220/30220 [00:07<00:00, 4167.78it/s]\n",
      "Processing words:  59%|█████▉    | 33/56 [04:09<02:50,  7.43s/it]"
     ]
    },
    {
     "name": "stdout",
     "output_type": "stream",
     "text": [
      "Now: behaveslike generic \n"
     ]
    },
    {
     "name": "stderr",
     "output_type": "stream",
     "text": [
      "Processing posts: 100%|██████████| 30220/30220 [00:06<00:00, 4449.06it/s]\n",
      "Processing words:  61%|██████    | 34/56 [04:16<02:39,  7.24s/it]"
     ]
    },
    {
     "name": "stdout",
     "output_type": "stream",
     "text": [
      "Now: heracles \n"
     ]
    },
    {
     "name": "stderr",
     "output_type": "stream",
     "text": [
      "Processing posts: 100%|██████████| 30220/30220 [00:07<00:00, 4228.77it/s]\n",
      "Processing words:  62%|██████▎   | 35/56 [04:23<02:31,  7.22s/it]"
     ]
    },
    {
     "name": "stdout",
     "output_type": "stream",
     "text": [
      "Now: darkcomet \n"
     ]
    },
    {
     "name": "stderr",
     "output_type": "stream",
     "text": [
      "Processing posts: 100%|██████████| 30220/30220 [00:06<00:00, 4397.33it/s]\n",
      "Processing words:  64%|██████▍   | 36/56 [04:30<02:22,  7.12s/it]"
     ]
    },
    {
     "name": "stdout",
     "output_type": "stream",
     "text": [
      "Now: crypter gen \n"
     ]
    },
    {
     "name": "stderr",
     "output_type": "stream",
     "text": [
      "Processing posts: 100%|██████████| 30220/30220 [00:08<00:00, 3372.38it/s]\n",
      "Processing words:  66%|██████▌   | 37/56 [04:39<02:25,  7.67s/it]"
     ]
    },
    {
     "name": "stdout",
     "output_type": "stream",
     "text": [
      "Now: wannacryptor \n"
     ]
    },
    {
     "name": "stderr",
     "output_type": "stream",
     "text": [
      "Processing posts: 100%|██████████| 30220/30220 [00:07<00:00, 3915.54it/s]\n",
      "Processing words:  68%|██████▊   | 38/56 [04:46<02:18,  7.69s/it]"
     ]
    },
    {
     "name": "stdout",
     "output_type": "stream",
     "text": [
      "Now: formbook \n"
     ]
    },
    {
     "name": "stderr",
     "output_type": "stream",
     "text": [
      "Processing posts: 100%|██████████| 30220/30220 [00:08<00:00, 3544.52it/s]\n",
      "Processing words:  70%|██████▉   | 39/56 [04:55<02:14,  7.94s/it]"
     ]
    },
    {
     "name": "stdout",
     "output_type": "stream",
     "text": [
      "Now: azorult \n"
     ]
    },
    {
     "name": "stderr",
     "output_type": "stream",
     "text": [
      "Processing posts: 100%|██████████| 30220/30220 [00:08<00:00, 3629.99it/s]\n",
      "Processing words:  71%|███████▏  | 40/56 [05:03<02:08,  8.06s/it]"
     ]
    },
    {
     "name": "stdout",
     "output_type": "stream",
     "text": [
      "Now: genmalicious \n"
     ]
    },
    {
     "name": "stderr",
     "output_type": "stream",
     "text": [
      "Processing posts: 100%|██████████| 30220/30220 [00:12<00:00, 2382.23it/s]\n",
      "Processing words:  73%|███████▎  | 41/56 [05:16<02:21,  9.45s/it]"
     ]
    },
    {
     "name": "stdout",
     "output_type": "stream",
     "text": [
      "Now: bv downloader drp \n"
     ]
    },
    {
     "name": "stderr",
     "output_type": "stream",
     "text": [
      "Processing posts: 100%|██████████| 30220/30220 [00:09<00:00, 3304.48it/s]\n",
      "Processing words:  75%|███████▌  | 42/56 [05:25<02:11,  9.36s/it]"
     ]
    },
    {
     "name": "stdout",
     "output_type": "stream",
     "text": [
      "Now: evo gen \n"
     ]
    },
    {
     "name": "stderr",
     "output_type": "stream",
     "text": [
      "Processing posts: 100%|██████████| 30220/30220 [00:08<00:00, 3454.52it/s]\n",
      "Processing words:  77%|███████▋  | 43/56 [05:34<01:59,  9.18s/it]"
     ]
    },
    {
     "name": "stdout",
     "output_type": "stream",
     "text": [
      "Now: ddos \n"
     ]
    },
    {
     "name": "stderr",
     "output_type": "stream",
     "text": [
      "Processing posts: 100%|██████████| 30220/30220 [00:08<00:00, 3765.07it/s]\n",
      "Processing words:  79%|███████▊  | 44/56 [05:42<01:46,  8.84s/it]"
     ]
    },
    {
     "name": "stdout",
     "output_type": "stream",
     "text": [
      "Now: gafgyt \n"
     ]
    },
    {
     "name": "stderr",
     "output_type": "stream",
     "text": [
      "Processing posts: 100%|██████████| 30220/30220 [00:07<00:00, 3954.23it/s]\n",
      "Processing words:  80%|████████  | 45/56 [05:49<01:33,  8.48s/it]"
     ]
    },
    {
     "name": "stdout",
     "output_type": "stream",
     "text": [
      "Now: keylogger gen \n"
     ]
    },
    {
     "name": "stderr",
     "output_type": "stream",
     "text": [
      "Processing posts: 100%|██████████| 30220/30220 [00:07<00:00, 3991.51it/s]\n",
      "Processing words:  82%|████████▏ | 46/56 [05:57<01:22,  8.21s/it]"
     ]
    },
    {
     "name": "stdout",
     "output_type": "stream",
     "text": [
      "Now: cve exploit \n"
     ]
    },
    {
     "name": "stderr",
     "output_type": "stream",
     "text": [
      "Processing posts: 100%|██████████| 30220/30220 [00:06<00:00, 4472.49it/s]\n",
      "Processing words:  84%|████████▍ | 47/56 [06:04<01:09,  7.78s/it]"
     ]
    },
    {
     "name": "stdout",
     "output_type": "stream",
     "text": [
      "Now: banker gen \n"
     ]
    },
    {
     "name": "stderr",
     "output_type": "stream",
     "text": [
      "Processing posts: 100%|██████████| 30220/30220 [00:06<00:00, 4482.01it/s]\n",
      "Processing words:  86%|████████▌ | 48/56 [06:11<00:59,  7.47s/it]"
     ]
    },
    {
     "name": "stdout",
     "output_type": "stream",
     "text": [
      "Now: autoit \n"
     ]
    },
    {
     "name": "stderr",
     "output_type": "stream",
     "text": [
      "Processing posts: 100%|██████████| 30220/30220 [00:06<00:00, 4398.14it/s]\n",
      "Processing words:  88%|████████▊ | 49/56 [06:17<00:51,  7.29s/it]"
     ]
    },
    {
     "name": "stdout",
     "output_type": "stream",
     "text": [
      "Now: exploitx \n"
     ]
    },
    {
     "name": "stderr",
     "output_type": "stream",
     "text": [
      "Processing posts: 100%|██████████| 30220/30220 [00:06<00:00, 4569.78it/s]\n",
      "Processing words:  89%|████████▉ | 50/56 [06:24<00:42,  7.09s/it]"
     ]
    },
    {
     "name": "stdout",
     "output_type": "stream",
     "text": [
      "Now: coinminer generic \n"
     ]
    },
    {
     "name": "stderr",
     "output_type": "stream",
     "text": [
      "Processing posts: 100%|██████████| 30220/30220 [00:06<00:00, 4565.01it/s]\n",
      "Processing words:  91%|█████████ | 51/56 [06:31<00:34,  6.95s/it]"
     ]
    },
    {
     "name": "stdout",
     "output_type": "stream",
     "text": [
      "Now: loki password stealer  pws \n"
     ]
    },
    {
     "name": "stderr",
     "output_type": "stream",
     "text": [
      "Processing posts: 100%|██████████| 30220/30220 [00:06<00:00, 4467.56it/s]\n",
      "Processing words:  93%|█████████▎| 52/56 [06:37<00:27,  6.90s/it]"
     ]
    },
    {
     "name": "stdout",
     "output_type": "stream",
     "text": [
      "Now: meterpreter \n"
     ]
    },
    {
     "name": "stderr",
     "output_type": "stream",
     "text": [
      "Processing posts: 100%|██████████| 30220/30220 [00:07<00:00, 4104.04it/s]\n",
      "Processing words:  95%|█████████▍| 53/56 [06:45<00:21,  7.04s/it]"
     ]
    },
    {
     "name": "stdout",
     "output_type": "stream",
     "text": [
      "Now: crimson rat \n"
     ]
    },
    {
     "name": "stderr",
     "output_type": "stream",
     "text": [
      "Processing posts: 100%|██████████| 30220/30220 [00:15<00:00, 1922.27it/s]\n",
      "Processing words:  96%|█████████▋| 54/56 [07:01<00:19,  9.65s/it]"
     ]
    },
    {
     "name": "stdout",
     "output_type": "stream",
     "text": [
      "Now: nanobot \n"
     ]
    },
    {
     "name": "stderr",
     "output_type": "stream",
     "text": [
      "Processing posts: 100%|██████████| 30220/30220 [00:09<00:00, 3213.00it/s]\n",
      "Processing words:  98%|█████████▊| 55/56 [07:10<00:09,  9.58s/it]"
     ]
    },
    {
     "name": "stdout",
     "output_type": "stream",
     "text": [
      "Now: ghost rat \n"
     ]
    },
    {
     "name": "stderr",
     "output_type": "stream",
     "text": [
      "Processing posts: 100%|██████████| 30220/30220 [00:08<00:00, 3472.54it/s]\n",
      "Processing words: 100%|██████████| 56/56 [07:19<00:00,  7.84s/it]\n"
     ]
    }
   ],
   "source": [
    "merged_matches = pd.DataFrame()\n",
    "\n",
    "merged_matches = malware_search( all_malware_list , selected_rows)"
   ]
  },
  {
   "cell_type": "code",
   "execution_count": 69,
   "id": "109210c2",
   "metadata": {},
   "outputs": [
    {
     "data": {
      "text/html": [
       "<div>\n",
       "<style scoped>\n",
       "    .dataframe tbody tr th:only-of-type {\n",
       "        vertical-align: middle;\n",
       "    }\n",
       "\n",
       "    .dataframe tbody tr th {\n",
       "        vertical-align: top;\n",
       "    }\n",
       "\n",
       "    .dataframe thead th {\n",
       "        text-align: right;\n",
       "    }\n",
       "</style>\n",
       "<table border=\"1\" class=\"dataframe\">\n",
       "  <thead>\n",
       "    <tr style=\"text-align: right;\">\n",
       "      <th></th>\n",
       "      <th>index</th>\n",
       "      <th>subreddit</th>\n",
       "      <th>username</th>\n",
       "      <th>date</th>\n",
       "      <th>title</th>\n",
       "      <th>text</th>\n",
       "    </tr>\n",
       "  </thead>\n",
       "  <tbody>\n",
       "    <tr>\n",
       "      <th>0</th>\n",
       "      <td>257818</td>\n",
       "      <td>hacking</td>\n",
       "      <td>t3_13441mn</td>\n",
       "      <td>2023-04-30</td>\n",
       "      <td>Best cloud provider for running recon and scanning resources?</td>\n",
       "      <td>I am working on a couple H1 bounty programs and I am running a few VMs with NMAP and Nuclei, but Linode keeps terminating my instances due to complains. The targets are in scope of the H1 programs from these companies. Does anyone have a recommendation/preference for a provider that is more tolerant? I was considering DO and I'm a bit worried about running this on my local machine. FYI just to be clear, these are all within scope of the H1 programs, I just think their net admins might be reporting my scan activity as a false positive.</td>\n",
       "    </tr>\n",
       "    <tr>\n",
       "      <th>1</th>\n",
       "      <td>257823</td>\n",
       "      <td>opensource</td>\n",
       "      <td>t3_13442ok</td>\n",
       "      <td>2023-04-30</td>\n",
       "      <td>FOSS Weekly: Two new Linux Laptops, sudo in Rust, Debian 12.0, and more</td>\n",
       "      <td></td>\n",
       "    </tr>\n",
       "    <tr>\n",
       "      <th>2</th>\n",
       "      <td>257825</td>\n",
       "      <td>Python</td>\n",
       "      <td>t3_1344127</td>\n",
       "      <td>2023-04-30</td>\n",
       "      <td>I've just created a Python app for Lyrics finding.</td>\n",
       "      <td>I've just created a Lyrics finder app using Genius API as Hobby-Learning project, please go and check it out from here:\\n\\n[momalekiii/Lyricsify: Lyricsify is a Python application for search and display song lyrics. (github.com)](https://github.com/momalekiii/Lyricsify)\\n\\nany suggests or contributing?  \\nAccepting your helps, thoughts and ideas with honor, thank you &lt;3</td>\n",
       "    </tr>\n",
       "    <tr>\n",
       "      <th>3</th>\n",
       "      <td>257828</td>\n",
       "      <td>technews</td>\n",
       "      <td>t3_13445n9</td>\n",
       "      <td>2023-04-30</td>\n",
       "      <td>U.S. Platforms to Finance Local Content Amid Canada Streaming Bill</td>\n",
       "      <td></td>\n",
       "    </tr>\n",
       "    <tr>\n",
       "      <th>4</th>\n",
       "      <td>257839</td>\n",
       "      <td>learnpython</td>\n",
       "      <td>t3_13447bc</td>\n",
       "      <td>2023-04-30</td>\n",
       "      <td>Struggling with trying to get a script that retrieves data from an API and inserts it into PostgreSQL to work</td>\n",
       "      <td>Hi everyone,\\n\\nI need help getting the following Python script to work. The script generates an API token using login credentials and uses that token to access the API for retrieving data.  I'm able to successfully retrieve data from the API and created the tables in PostgreSQL with my script, however, the data is not being inserted into the PostgreSQL database. I've added printouts for potential errors that may be occurring with the insert process but nothing is showing. I hope someone can point me in the right direction. Thank you in advance!\\n\\n    import requests\\n    import json\\n    import psycopg2\\n    import datetime\\n    from psycopg2 import extras\\n    \\n    def get_key(usr, pwd):\\n        body = {'email': usr, 'password': pwd}\\n        url = 'https://www.drugshortagescanada.ca/api/v1/login'\\n        headers = {'Content-Type': 'application/x-www-form-urlencoded'}\\n    \\n        response = requests.post(url, data=body, headers=headers)\\n    \\n        if response.status_co...</td>\n",
       "    </tr>\n",
       "  </tbody>\n",
       "</table>\n",
       "</div>"
      ],
      "text/plain": [
       "    index    subreddit    username        date  \\\n",
       "0  257818      hacking  t3_13441mn  2023-04-30   \n",
       "1  257823   opensource  t3_13442ok  2023-04-30   \n",
       "2  257825       Python  t3_1344127  2023-04-30   \n",
       "3  257828     technews  t3_13445n9  2023-04-30   \n",
       "4  257839  learnpython  t3_13447bc  2023-04-30   \n",
       "\n",
       "                                                                                                           title  \\\n",
       "0                                                  Best cloud provider for running recon and scanning resources?   \n",
       "1                                        FOSS Weekly: Two new Linux Laptops, sudo in Rust, Debian 12.0, and more   \n",
       "2                                                             I've just created a Python app for Lyrics finding.   \n",
       "3                                             U.S. Platforms to Finance Local Content Amid Canada Streaming Bill   \n",
       "4  Struggling with trying to get a script that retrieves data from an API and inserts it into PostgreSQL to work   \n",
       "\n",
       "                                                                                                                                                                                                                                                                                                                                                                                                                                                                                                                                                                                                                                                                                                                                                                                                                                                                                                                                                                                                                                      text  \n",
       "0                                                                                                                                                                                                                                                                                                                                                                                                                                                                             I am working on a couple H1 bounty programs and I am running a few VMs with NMAP and Nuclei, but Linode keeps terminating my instances due to complains. The targets are in scope of the H1 programs from these companies. Does anyone have a recommendation/preference for a provider that is more tolerant? I was considering DO and I'm a bit worried about running this on my local machine. FYI just to be clear, these are all within scope of the H1 programs, I just think their net admins might be reporting my scan activity as a false positive.  \n",
       "1                                                                                                                                                                                                                                                                                                                                                                                                                                                                                                                                                                                                                                                                                                                                                                                                                                                                                                                                                                                                                                           \n",
       "2                                                                                                                                                                                                                                                                                                                                                                                                                                                                                                                                                                                                                                                     I've just created a Lyrics finder app using Genius API as Hobby-Learning project, please go and check it out from here:\\n\\n[momalekiii/Lyricsify: Lyricsify is a Python application for search and display song lyrics. (github.com)](https://github.com/momalekiii/Lyricsify)\\n\\nany suggests or contributing?  \\nAccepting your helps, thoughts and ideas with honor, thank you <3  \n",
       "3                                                                                                                                                                                                                                                                                                                                                                                                                                                                                                                                                                                                                                                                                                                                                                                                                                                                                                                                                                                                                                           \n",
       "4  Hi everyone,\\n\\nI need help getting the following Python script to work. The script generates an API token using login credentials and uses that token to access the API for retrieving data.  I'm able to successfully retrieve data from the API and created the tables in PostgreSQL with my script, however, the data is not being inserted into the PostgreSQL database. I've added printouts for potential errors that may be occurring with the insert process but nothing is showing. I hope someone can point me in the right direction. Thank you in advance!\\n\\n    import requests\\n    import json\\n    import psycopg2\\n    import datetime\\n    from psycopg2 import extras\\n    \\n    def get_key(usr, pwd):\\n        body = {'email': usr, 'password': pwd}\\n        url = 'https://www.drugshortagescanada.ca/api/v1/login'\\n        headers = {'Content-Type': 'application/x-www-form-urlencoded'}\\n    \\n        response = requests.post(url, data=body, headers=headers)\\n    \\n        if response.status_co...  "
      ]
     },
     "execution_count": 69,
     "metadata": {},
     "output_type": "execute_result"
    }
   ],
   "source": [
    "selected_rows.head()"
   ]
  },
  {
   "cell_type": "code",
   "execution_count": 70,
   "id": "4a8ea30e",
   "metadata": {},
   "outputs": [],
   "source": [
    "merged_matches['keyword type'] = 'malware'"
   ]
  },
  {
   "cell_type": "code",
   "execution_count": 71,
   "id": "18df3680",
   "metadata": {},
   "outputs": [],
   "source": [
    "merged_matches.to_csv(r'C:\\Users\\leona\\OneDrive\\Desktop\\Tesi\\Pipeline\\Datasets\\Pipeline\\SocialNetworksPosts\\Reddit\\Months\\04\\Posts_filteredby_Malwares.csv')"
   ]
  },
  {
   "cell_type": "markdown",
   "id": "044f7c05",
   "metadata": {},
   "source": [
    "### Malwares Types names searching"
   ]
  },
  {
   "cell_type": "code",
   "execution_count": 56,
   "id": "8b8e9e3b",
   "metadata": {},
   "outputs": [
    {
     "name": "stderr",
     "output_type": "stream",
     "text": [
      "Processing posts: 30220it [00:02, 14135.61it/s]\n",
      "Processing posts: 30220it [00:02, 14274.57it/s]\n",
      "Processing posts: 30220it [00:02, 13998.62it/s]\n",
      "Processing posts: 30220it [00:02, 14122.85it/s]\n",
      "Processing posts: 30220it [00:01, 15149.57it/s]\n",
      "Processing posts: 30220it [00:02, 13069.12it/s]\n",
      "Processing posts: 30220it [00:02, 14110.52it/s]\n",
      "Processing posts: 30220it [00:02, 14387.35it/s]\n",
      "Processing posts: 30220it [00:02, 13916.01it/s]\n",
      "Processing posts: 30220it [00:02, 13401.24it/s]\n",
      "Processing posts: 30220it [00:02, 14828.77it/s]\n",
      "Processing posts: 11it [00:23,  2.15s/it]\n"
     ]
    }
   ],
   "source": [
    "malware_types_matches = pd.DataFrame()\n",
    "\n",
    "malware_types_matches = stemming_and_matching( all_malware_types_list , selected_rows)"
   ]
  },
  {
   "cell_type": "code",
   "execution_count": 57,
   "id": "bafd2099",
   "metadata": {},
   "outputs": [],
   "source": [
    "malware_types_matches['keyword type'] = 'malware type'"
   ]
  },
  {
   "cell_type": "code",
   "execution_count": 58,
   "id": "ad849baa",
   "metadata": {},
   "outputs": [],
   "source": [
    "malware_types_matches.to_csv(r'C:\\Users\\leona\\OneDrive\\Desktop\\Tesi\\Pipeline\\Datasets\\Pipeline\\SocialNetworksPosts\\Reddit\\Months\\04\\Posts_filteredby_MalwareType.csv')"
   ]
  },
  {
   "cell_type": "code",
   "execution_count": null,
   "id": "07395741",
   "metadata": {},
   "outputs": [],
   "source": []
  },
  {
   "cell_type": "markdown",
   "id": "65b2236f",
   "metadata": {},
   "source": [
    "### Operative System names search"
   ]
  },
  {
   "cell_type": "code",
   "execution_count": 59,
   "id": "a528e057",
   "metadata": {},
   "outputs": [
    {
     "name": "stderr",
     "output_type": "stream",
     "text": [
      "Processing posts: 30220it [00:02, 13265.93it/s]\n",
      "Processing posts: 30220it [00:02, 14553.81it/s]\n",
      "Processing posts: 30220it [00:02, 15069.47it/s]\n",
      "Processing posts: 3it [00:06,  2.14s/it]\n"
     ]
    }
   ],
   "source": [
    "words_matches = pd.DataFrame()\n",
    "\n",
    "words_matches = stemming_and_matching( all_delivery_method_list , selected_rows)"
   ]
  },
  {
   "cell_type": "code",
   "execution_count": 60,
   "id": "86b7b0a3",
   "metadata": {},
   "outputs": [
    {
     "data": {
      "text/html": [
       "<div>\n",
       "<style scoped>\n",
       "    .dataframe tbody tr th:only-of-type {\n",
       "        vertical-align: middle;\n",
       "    }\n",
       "\n",
       "    .dataframe tbody tr th {\n",
       "        vertical-align: top;\n",
       "    }\n",
       "\n",
       "    .dataframe thead th {\n",
       "        text-align: right;\n",
       "    }\n",
       "</style>\n",
       "<table border=\"1\" class=\"dataframe\">\n",
       "  <thead>\n",
       "    <tr style=\"text-align: right;\">\n",
       "      <th></th>\n",
       "      <th>full_text</th>\n",
       "      <th>keyword</th>\n",
       "    </tr>\n",
       "  </thead>\n",
       "  <tbody>\n",
       "    <tr>\n",
       "      <th>0</th>\n",
       "      <td>Am I safe after phishing?.  I opened an attachment from an email. It wasn't trying to make it super urgent and the email was from my boss, so it was a trusted person. I clicked the link and it asked me to sign in to my account. I made sure that I had 2FA so encase it was malicious, my email couldnt be logged into. I put in my email and password and it says \"something went wrong\" and kicked me off the page (obviously not legit). I ran both Bitdefender and TotalAV and they said that I was all clear, and my Gmail shows no updates, not even an attempted log in. I just wanted to check here to ask: is there anything more I should do to ensure my data hasn't been compromised?</td>\n",
       "      <td>email attachment</td>\n",
       "    </tr>\n",
       "    <tr>\n",
       "      <th>1</th>\n",
       "      <td>Secure by Default - 365 nightmare. Over the past few weeks we have noticed odd behaviour with MS more specifically EXO. Our latest complaint is safe emails are now all of the sudden going into quarantine. We are a mortgage company and our users do business with many 3rd parties. Emails were flowing with out issue up until recently. Communication between our users and external 3parties starts out as it should, then for some reason the detection methods go crazy and quarantines the emails. Its becoming a headache to monitor the quarantine, release and report/submit false positives to MS. In the past 30 days we have submitted over 500 emails as false positives. On the MS doc for Secure by Default, it states that this cannot be turned off by admins. And the percentage rate is low for false positives. I dis believe this as we are seeing a high impact.  I have done some tweaking by adding these domains to safe senders list but this has little resolve as some of the messages are marked as...</td>\n",
       "      <td>email attachment</td>\n",
       "    </tr>\n",
       "    <tr>\n",
       "      <th>2</th>\n",
       "      <td>Domain.com. I went to buy a domain and was told my total was 19.99. I went to view the email to login and attached was my receipt for over $2300 they charged me. I went to dispute with my bank but I have to wait until the payment is done pending. I have tried to contact support and they are ignoring me. They only have an email, no phone number to get through. What do I do? How do I get my money back? Im sick to my stomach</td>\n",
       "      <td>email attachment</td>\n",
       "    </tr>\n",
       "    <tr>\n",
       "      <th>3</th>\n",
       "      <td>Options for a home based file share solution?. Apologies if this is the wrong sub for this question. I'm on a mission to try and organize the large amount of files/documents/images I need for my business and cut down on the number of emails with attachments I send out daily. I've considered just paying for a cloud based file share service but I'm wondering if there is a home based alternative that someone with not a ton a IT experience could manage. \\n\\nMy requirements are as follows. 1: Home based solution. 2: Easy to manage. 3: Able to be accessed remotely by multiple authorized users. 4: \\~10TB of storage. 5: Not horribly expensive. \\n\\nMaybe at the end of the day I would just be better off paying for a could based service but I want to see what options are available.</td>\n",
       "      <td>email attachment</td>\n",
       "    </tr>\n",
       "    <tr>\n",
       "      <th>4</th>\n",
       "      <td>Folder Path. I am building a script that takes a screenshot and sends it via email. The issue I am having right now is the image is being saved in the folder location of my script, I want the image to be saved in other folder outside of my script location. I am having some troubles on how to get that to work. Any suggestions?\\n\\n    from PIL import ImageGrab\\n    import win32com.client as win32\\n    \\n    # image_path = r'some\\path\\to\\the\\folder' - Trying to use this path to save the image for the email to send from this folder\\n    image_title = input('Name image: ')\\n    counter = 0\\n    \\n    while image_title != '':\\n        counter += 1\\n        ss_region = (1207, 515, 1870, 1080)\\n        ss_img = ImageGrab.grab(ss_region)\\n        ss_img.save(image_title + '.jpg')\\n    \\n        if counter == 1:\\n            another = input('Do you need another screenshot? ').lower()\\n            if another == 'y':\\n                image_title = input('Name image: ')\\n                ss_regi...</td>\n",
       "      <td>email attachment</td>\n",
       "    </tr>\n",
       "  </tbody>\n",
       "</table>\n",
       "</div>"
      ],
      "text/plain": [
       "                                                                                                                                                                                                                                                                                                                                                                                                                                                                                                                                                                                                                                                                                                                                                                                                                                                                                                                                                                                                                                 full_text  \\\n",
       "0                                                                                                                                                                                                                                                                                                                                    Am I safe after phishing?.  I opened an attachment from an email. It wasn't trying to make it super urgent and the email was from my boss, so it was a trusted person. I clicked the link and it asked me to sign in to my account. I made sure that I had 2FA so encase it was malicious, my email couldnt be logged into. I put in my email and password and it says \"something went wrong\" and kicked me off the page (obviously not legit). I ran both Bitdefender and TotalAV and they said that I was all clear, and my Gmail shows no updates, not even an attempted log in. I just wanted to check here to ask: is there anything more I should do to ensure my data hasn't been compromised?   \n",
       "1  Secure by Default - 365 nightmare. Over the past few weeks we have noticed odd behaviour with MS more specifically EXO. Our latest complaint is safe emails are now all of the sudden going into quarantine. We are a mortgage company and our users do business with many 3rd parties. Emails were flowing with out issue up until recently. Communication between our users and external 3parties starts out as it should, then for some reason the detection methods go crazy and quarantines the emails. Its becoming a headache to monitor the quarantine, release and report/submit false positives to MS. In the past 30 days we have submitted over 500 emails as false positives. On the MS doc for Secure by Default, it states that this cannot be turned off by admins. And the percentage rate is low for false positives. I dis believe this as we are seeing a high impact.  I have done some tweaking by adding these domains to safe senders list but this has little resolve as some of the messages are marked as...   \n",
       "2                                                                                                                                                                                                                                                                                                                                                                                                                                                                                                                                                                                                Domain.com. I went to buy a domain and was told my total was 19.99. I went to view the email to login and attached was my receipt for over $2300 they charged me. I went to dispute with my bank but I have to wait until the payment is done pending. I have tried to contact support and they are ignoring me. They only have an email, no phone number to get through. What do I do? How do I get my money back? Im sick to my stomach   \n",
       "3                                                                                                                                                                                                                            Options for a home based file share solution?. Apologies if this is the wrong sub for this question. I'm on a mission to try and organize the large amount of files/documents/images I need for my business and cut down on the number of emails with attachments I send out daily. I've considered just paying for a cloud based file share service but I'm wondering if there is a home based alternative that someone with not a ton a IT experience could manage. \\n\\nMy requirements are as follows. 1: Home based solution. 2: Easy to manage. 3: Able to be accessed remotely by multiple authorized users. 4: \\~10TB of storage. 5: Not horribly expensive. \\n\\nMaybe at the end of the day I would just be better off paying for a could based service but I want to see what options are available.   \n",
       "4  Folder Path. I am building a script that takes a screenshot and sends it via email. The issue I am having right now is the image is being saved in the folder location of my script, I want the image to be saved in other folder outside of my script location. I am having some troubles on how to get that to work. Any suggestions?\\n\\n    from PIL import ImageGrab\\n    import win32com.client as win32\\n    \\n    # image_path = r'some\\path\\to\\the\\folder' - Trying to use this path to save the image for the email to send from this folder\\n    image_title = input('Name image: ')\\n    counter = 0\\n    \\n    while image_title != '':\\n        counter += 1\\n        ss_region = (1207, 515, 1870, 1080)\\n        ss_img = ImageGrab.grab(ss_region)\\n        ss_img.save(image_title + '.jpg')\\n    \\n        if counter == 1:\\n            another = input('Do you need another screenshot? ').lower()\\n            if another == 'y':\\n                image_title = input('Name image: ')\\n                ss_regi...   \n",
       "\n",
       "            keyword  \n",
       "0  email attachment  \n",
       "1  email attachment  \n",
       "2  email attachment  \n",
       "3  email attachment  \n",
       "4  email attachment  "
      ]
     },
     "execution_count": 60,
     "metadata": {},
     "output_type": "execute_result"
    }
   ],
   "source": [
    "words_matches.head()"
   ]
  },
  {
   "cell_type": "code",
   "execution_count": 61,
   "id": "c72a2cb2",
   "metadata": {},
   "outputs": [],
   "source": [
    "words_matches['keyword type'] = 'delivery method'"
   ]
  },
  {
   "cell_type": "code",
   "execution_count": 62,
   "id": "798babac",
   "metadata": {},
   "outputs": [],
   "source": [
    "words_matches.to_csv(r'C:\\Users\\leona\\OneDrive\\Desktop\\Tesi\\Pipeline\\Datasets\\Pipeline\\SocialNetworksPosts\\Reddit\\Months\\04\\Posts_filteredby_DeliveryMethod.csv')"
   ]
  },
  {
   "cell_type": "code",
   "execution_count": 63,
   "id": "cde71f54",
   "metadata": {},
   "outputs": [
    {
     "data": {
      "text/plain": [
       "30220"
      ]
     },
     "execution_count": 63,
     "metadata": {},
     "output_type": "execute_result"
    }
   ],
   "source": [
    "len(selected_rows)"
   ]
  },
  {
   "cell_type": "code",
   "execution_count": 72,
   "id": "b5a14de8",
   "metadata": {},
   "outputs": [
    {
     "data": {
      "text/plain": [
       "4038"
      ]
     },
     "execution_count": 72,
     "metadata": {},
     "output_type": "execute_result"
    }
   ],
   "source": [
    "df = pd.concat([words_matches, malware_types_matches, merged_matches, matches_behaviours_3, matches_behaviours_2, matches_behaviours_1 ])\n",
    "len(df)"
   ]
  },
  {
   "cell_type": "code",
   "execution_count": 73,
   "id": "509502df",
   "metadata": {},
   "outputs": [],
   "source": [
    "df.to_csv(r'C:\\Users\\leona\\OneDrive\\Desktop\\Tesi\\Pipeline\\Datasets\\Pipeline\\SocialNetworksPosts\\Reddit\\Months\\04\\MatchedPosts.csv')"
   ]
  },
  {
   "cell_type": "markdown",
   "id": "78543d08",
   "metadata": {},
   "source": []
  },
  {
   "cell_type": "markdown",
   "id": "18094b19",
   "metadata": {},
   "source": []
  },
  {
   "cell_type": "markdown",
   "id": "3631129a",
   "metadata": {},
   "source": [
    "\n"
   ]
  },
  {
   "cell_type": "markdown",
   "id": "69fdd2f8",
   "metadata": {},
   "source": []
  }
 ],
 "metadata": {
  "kernelspec": {
   "display_name": "Python 3 (ipykernel)",
   "language": "python",
   "name": "python3"
  },
  "language_info": {
   "codemirror_mode": {
    "name": "ipython",
    "version": 3
   },
   "file_extension": ".py",
   "mimetype": "text/x-python",
   "name": "python",
   "nbconvert_exporter": "python",
   "pygments_lexer": "ipython3",
   "version": "3.11.5"
  }
 },
 "nbformat": 4,
 "nbformat_minor": 5
}
