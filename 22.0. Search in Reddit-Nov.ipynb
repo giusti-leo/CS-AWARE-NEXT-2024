{
 "cells": [
  {
   "cell_type": "code",
   "execution_count": 1,
   "id": "dcb3095b",
   "metadata": {},
   "outputs": [],
   "source": [
    "import os\n",
    "import time\n",
    "import pandas as pd \n",
    "import requests\n",
    "import urllib3\n",
    "import json\n",
    "import sys\n",
    "import numpy as np\n",
    "import pandas as pd\n",
    "from pathlib import Path\n",
    "from datetime import datetime, timedelta"
   ]
  },
  {
   "cell_type": "code",
   "execution_count": 2,
   "id": "5222ef90",
   "metadata": {},
   "outputs": [
    {
     "name": "stdout",
     "output_type": "stream",
     "text": [
      "Requirement already satisfied: nltk in c:\\users\\leona\\anaconda3\\lib\\site-packages (3.8.1)\n",
      "Requirement already satisfied: click in c:\\users\\leona\\anaconda3\\lib\\site-packages (from nltk) (8.0.4)\n",
      "Requirement already satisfied: joblib in c:\\users\\leona\\anaconda3\\lib\\site-packages (from nltk) (1.1.1)\n",
      "Requirement already satisfied: regex>=2021.8.3 in c:\\users\\leona\\anaconda3\\lib\\site-packages (from nltk) (2022.7.9)\n",
      "Requirement already satisfied: tqdm in c:\\users\\leona\\anaconda3\\lib\\site-packages (from nltk) (4.65.0)\n",
      "Requirement already satisfied: colorama in c:\\users\\leona\\anaconda3\\lib\\site-packages (from click->nltk) (0.4.6)\n",
      "Note: you may need to restart the kernel to use updated packages.\n"
     ]
    }
   ],
   "source": [
    "pip install nltk"
   ]
  },
  {
   "cell_type": "code",
   "execution_count": 3,
   "id": "ad1729c7",
   "metadata": {},
   "outputs": [],
   "source": [
    "import nltk"
   ]
  },
  {
   "cell_type": "code",
   "execution_count": 4,
   "id": "8eb93b1b",
   "metadata": {},
   "outputs": [],
   "source": [
    "pd.options.display.max_colwidth = 1000\n",
    "pd.set_option('display.max_columns', None)"
   ]
  },
  {
   "cell_type": "code",
   "execution_count": 5,
   "id": "f5042c66",
   "metadata": {},
   "outputs": [
    {
     "name": "stderr",
     "output_type": "stream",
     "text": [
      "[nltk_data] Downloading package wordnet to\n",
      "[nltk_data]     C:\\Users\\leona\\AppData\\Roaming\\nltk_data...\n",
      "[nltk_data]   Package wordnet is already up-to-date!\n"
     ]
    },
    {
     "data": {
      "text/plain": [
       "True"
      ]
     },
     "execution_count": 5,
     "metadata": {},
     "output_type": "execute_result"
    }
   ],
   "source": [
    "\n",
    "nltk.download('wordnet')"
   ]
  },
  {
   "cell_type": "code",
   "execution_count": 6,
   "id": "86a8e902",
   "metadata": {},
   "outputs": [
    {
     "name": "stderr",
     "output_type": "stream",
     "text": [
      "[nltk_data] Downloading package punkt to\n",
      "[nltk_data]     C:\\Users\\leona\\AppData\\Roaming\\nltk_data...\n",
      "[nltk_data]   Package punkt is already up-to-date!\n",
      "[nltk_data] Downloading package stopwords to\n",
      "[nltk_data]     C:\\Users\\leona\\AppData\\Roaming\\nltk_data...\n",
      "[nltk_data]   Package stopwords is already up-to-date!\n"
     ]
    },
    {
     "name": "stdout",
     "output_type": "stream",
     "text": [
      "0    True\n",
      "1    True\n",
      "2    True\n",
      "Name: match, dtype: bool\n"
     ]
    }
   ],
   "source": [
    "import pandas as pd\n",
    "from nltk.stem import PorterStemmer\n",
    "from nltk.tokenize import word_tokenize\n",
    "from nltk.corpus import stopwords\n",
    "import nltk\n",
    "nltk.download('punkt')\n",
    "nltk.download('stopwords')\n",
    "\n",
    "def stemming_and_matching(df_A, df_B):\n",
    "    # Inizializzazione del PorterStemmer\n",
    "    stemmer = PorterStemmer()\n",
    "\n",
    "    # Funzione per eseguire stemming e lemmatization su una riga di testo\n",
    "    def process_text(text):\n",
    "        # Tokenizzazione\n",
    "        tokens = word_tokenize(text.lower())\n",
    "        # Rimozione delle stop words\n",
    "        stop_words = set(stopwords.words('english'))\n",
    "        filtered_tokens = [token for token in tokens if token.isalnum() and token not in stop_words]\n",
    "        # Stemming\n",
    "        stemmed_tokens = [stemmer.stem(token) for token in filtered_tokens]\n",
    "        return stemmed_tokens\n",
    "\n",
    "    # Applicare la funzione a ciascuna riga dei dataframe A e B\n",
    "    df_A['lemmatized_tokens'] = df_A['testo'].apply(process_text)\n",
    "    df_B['lemmatized_tokens'] = df_B['testo'].apply(process_text)\n",
    "\n",
    "    # Verificare la corrispondenza\n",
    "    def check_match(row):\n",
    "        return all(token in row['lemmatized_tokens'] for token in df_B.loc[row.name, 'lemmatized_tokens'])\n",
    "\n",
    "    # Applicare la funzione di verifica alla riga di ciascun dataframe B\n",
    "    df_B['match'] = df_B.apply(check_match, axis=1)\n",
    "\n",
    "    return df_B['match']\n",
    "\n",
    "# Esempio di utilizzo\n",
    "data_A = {'testo': [\"La casa è grande.\", \"Il cane corre veloce.\", \"Gli uccelli volano alto.\"]}\n",
    "data_B = {'testo': [\"La casa grande\", \"Il cane veloce\", \"uccelli alti\"]}\n",
    "df_A = pd.DataFrame(data_A)\n",
    "df_B = pd.DataFrame(data_B)\n",
    "\n",
    "risultato = stemming_and_matching(df_A, df_B)\n",
    "print(risultato)\n"
   ]
  },
  {
   "cell_type": "markdown",
   "id": "f82a2dff",
   "metadata": {},
   "source": [
    "### Reddit posts"
   ]
  },
  {
   "cell_type": "code",
   "execution_count": 7,
   "id": "df7e9509",
   "metadata": {},
   "outputs": [],
   "source": [
    "file_reddit = r'C:\\Users\\leona\\OneDrive\\Desktop\\Tesi\\Pipeline\\Datasets\\Pipeline\\SocialNetworksPosts\\Reddit\\RedditPosts.csv'"
   ]
  },
  {
   "cell_type": "code",
   "execution_count": 8,
   "id": "a070364e",
   "metadata": {
    "scrolled": true
   },
   "outputs": [
    {
     "data": {
      "text/html": [
       "<div>\n",
       "<style scoped>\n",
       "    .dataframe tbody tr th:only-of-type {\n",
       "        vertical-align: middle;\n",
       "    }\n",
       "\n",
       "    .dataframe tbody tr th {\n",
       "        vertical-align: top;\n",
       "    }\n",
       "\n",
       "    .dataframe thead th {\n",
       "        text-align: right;\n",
       "    }\n",
       "</style>\n",
       "<table border=\"1\" class=\"dataframe\">\n",
       "  <thead>\n",
       "    <tr style=\"text-align: right;\">\n",
       "      <th></th>\n",
       "      <th>subreddit</th>\n",
       "      <th>username</th>\n",
       "      <th>date</th>\n",
       "      <th>title</th>\n",
       "      <th>text</th>\n",
       "    </tr>\n",
       "  </thead>\n",
       "  <tbody>\n",
       "    <tr>\n",
       "      <th>0</th>\n",
       "      <td>netsec</td>\n",
       "      <td>t3_18i5ups</td>\n",
       "      <td>2023-12-14 11:36:39</td>\n",
       "      <td>Nim implementation of Old Dll Unlinking Technique</td>\n",
       "      <td>NaN</td>\n",
       "    </tr>\n",
       "    <tr>\n",
       "      <th>1</th>\n",
       "      <td>cybersecurity</td>\n",
       "      <td>t3_18i5v5x</td>\n",
       "      <td>2023-12-14 11:37:34</td>\n",
       "      <td>How to prevent employees from using unauthorized web tools?</td>\n",
       "      <td>I work as an IT manager for a business. Some time ago, a group of my colleagues decided to use a web productivity tool, created accounts using their work emails, and started introducing data.\\n\\nI had no knowledge they had been using such a tool at all. I did not even know it existed.\\n\\nToday, I received an email from my boss asking why an ex-employee still had access to the data in such a web platform, as their account hadn't been deactivated. Needless to say, I don't have access to revoke their account or anything.\\n\\nHow can I prevent them from registering on another unauthorized webpage?\\n\\nI feel like a firewall blacklist would be useless since I would have to be constantly researching and updating it with new tools, and I can't make a whitelist since my company uses a ton of different pages for intense web research.\\n\\nAny help or advice would be appreciated.\\n\\n&amp;#x200B;</td>\n",
       "    </tr>\n",
       "    <tr>\n",
       "      <th>2</th>\n",
       "      <td>MacOS</td>\n",
       "      <td>t3_18i5kyd</td>\n",
       "      <td>2023-12-14 11:17:47</td>\n",
       "      <td>Teams call pop up window blocked by reminders/calendar entries on top right corner</td>\n",
       "      <td>Hi\\n\\nDo you know this issue that when I have reminders or calendar alarms set to stick to the top right corner, that they then block the notification window for incoming Teams calls.\\n\\nDoes someone know if there is a setting for having the teams call pop up in on another location on the screen or knows another work around?</td>\n",
       "    </tr>\n",
       "    <tr>\n",
       "      <th>3</th>\n",
       "      <td>MacOS</td>\n",
       "      <td>t3_18i5koq</td>\n",
       "      <td>2023-12-14 11:17:16</td>\n",
       "      <td>Disable middle mouse button drag to other desktop</td>\n",
       "      <td>So I have been using windows for a while and now I am stumped. The middle mouse button of my logi mouse has the following functionailty: On drage change desktop, on click show all windows. That's nice and all, but I can't use fusion 360 because the dragging functionality is the middle mouse button but that just changes the desktop. How can I disable that?\\n\\n&amp;#x200B;\\n\\nSo I found this, but there is no button selected. If I select the secondary mouse button for example, it will open mission control on both right click and middle mouse button:\\n\\nhttps://preview.redd.it/bmqnrpw0m86c1.png?width=476&amp;format=png&amp;auto=webp&amp;s=97ae662fcca43bf146537393fc6a13705a0a9351\\n\\n&amp;#x200B;</td>\n",
       "    </tr>\n",
       "    <tr>\n",
       "      <th>4</th>\n",
       "      <td>windows</td>\n",
       "      <td>t3_18i5gqv</td>\n",
       "      <td>2023-12-14 11:09:52</td>\n",
       "      <td>Playing 4k videos on 2k display</td>\n",
       "      <td>Hello guys does playing 4k content on a 2k display has any benefit? For example while playing YouTube videos I set 1440p resolution on my 2k laptop and 2k smartphone despite having a option of selecting 2160p option. So i wanted to ask if i get better video quality if i select 2160p option while playing on a 2k display?</td>\n",
       "    </tr>\n",
       "    <tr>\n",
       "      <th>...</th>\n",
       "      <td>...</td>\n",
       "      <td>...</td>\n",
       "      <td>...</td>\n",
       "      <td>...</td>\n",
       "      <td>...</td>\n",
       "    </tr>\n",
       "    <tr>\n",
       "      <th>387066</th>\n",
       "      <td>pcmasterrace</td>\n",
       "      <td>t3_1006rmg</td>\n",
       "      <td>2023-01-01 00:41:37</td>\n",
       "      <td>Build Almost Done</td>\n",
       "      <td>Is this a good build? Any recommendations?\\n\\nBUILD - https://pcpartpicker.com/list/FL6hwc</td>\n",
       "    </tr>\n",
       "    <tr>\n",
       "      <th>387067</th>\n",
       "      <td>pcmasterrace</td>\n",
       "      <td>t3_1006qur</td>\n",
       "      <td>2023-01-01 00:40:30</td>\n",
       "      <td>problem arming pc, I have a Mother a320m-k, ryzen 4650g, and doesnt work the video, the motherboard have Orange leds. Its my first time arming</td>\n",
       "      <td>NaN</td>\n",
       "    </tr>\n",
       "    <tr>\n",
       "      <th>387068</th>\n",
       "      <td>pcmasterrace</td>\n",
       "      <td>t3_1006pzy</td>\n",
       "      <td>2023-01-01 00:39:17</td>\n",
       "      <td>PCMR Truckers</td>\n",
       "      <td>Those that bring their rigs with them in the truck: \\n\\nHow does the computer fare? \\nIs there any orientation it works better with when you go through the areas with poor maintenance? \\nAnd lastly: if you liquid cool, have you noticed any issues over time?\\n\\nI'm building a new rig here soon and am curious if anything is to note so I don't make a large $$$$ mistake</td>\n",
       "    </tr>\n",
       "    <tr>\n",
       "      <th>387069</th>\n",
       "      <td>pcmasterrace</td>\n",
       "      <td>t3_1006orx</td>\n",
       "      <td>2023-01-01 00:37:29</td>\n",
       "      <td>New case for Christmas, also spray painted my GPU to match</td>\n",
       "      <td>Got the Hyte y60 as a gift, what a great case to build in. Running a 5600x with a 3080. The tree probably blocks some airflow but I'll take that tradeoff.</td>\n",
       "    </tr>\n",
       "    <tr>\n",
       "      <th>387070</th>\n",
       "      <td>linuxquestions</td>\n",
       "      <td>t3_1006n20</td>\n",
       "      <td>2023-01-01 00:34:59</td>\n",
       "      <td>Ignore \"not enough space to copy these file\" errors in KDE Plasma/Dolphin?</td>\n",
       "      <td>When copying files with Dolphin (KDE Plasma's file manager), if there is not enough free space to copy the incoming files entirely, the file manager refuses to copy even a single file. However, a lot of the time I'll be skipping name conflicts or overwriting existing files with new ones, so either I don't need as much space than it seems to the system, or space is freed up as I copy. Also, KDE seems to have trouble accurately determining the free space on drives on a network file server that I have mounted with SSHFS, so it will say there is not enough space even when there is. \\n\\nIs there a way to get Dolphin to ignore this error and attempt to copy the files anyway? Like the way the cp command does it, where it doesn't really care how much space is on the drive, and will only throw an error if it actually fills up before it's done copying. Or better yet, is there a way to get Dolphin to still warn me about potential space issues, but have the option to ignore it and attempt to c...</td>\n",
       "    </tr>\n",
       "  </tbody>\n",
       "</table>\n",
       "<p>387071 rows × 5 columns</p>\n",
       "</div>"
      ],
      "text/plain": [
       "             subreddit    username                 date  \\\n",
       "0               netsec  t3_18i5ups  2023-12-14 11:36:39   \n",
       "1        cybersecurity  t3_18i5v5x  2023-12-14 11:37:34   \n",
       "2                MacOS  t3_18i5kyd  2023-12-14 11:17:47   \n",
       "3                MacOS  t3_18i5koq  2023-12-14 11:17:16   \n",
       "4              windows  t3_18i5gqv  2023-12-14 11:09:52   \n",
       "...                ...         ...                  ...   \n",
       "387066    pcmasterrace  t3_1006rmg  2023-01-01 00:41:37   \n",
       "387067    pcmasterrace  t3_1006qur  2023-01-01 00:40:30   \n",
       "387068    pcmasterrace  t3_1006pzy  2023-01-01 00:39:17   \n",
       "387069    pcmasterrace  t3_1006orx  2023-01-01 00:37:29   \n",
       "387070  linuxquestions  t3_1006n20  2023-01-01 00:34:59   \n",
       "\n",
       "                                                                                                                                                 title  \\\n",
       "0                                                                                                    Nim implementation of Old Dll Unlinking Technique   \n",
       "1                                                                                          How to prevent employees from using unauthorized web tools?   \n",
       "2                                                                   Teams call pop up window blocked by reminders/calendar entries on top right corner   \n",
       "3                                                                                                    Disable middle mouse button drag to other desktop   \n",
       "4                                                                                                                      Playing 4k videos on 2k display   \n",
       "...                                                                                                                                                ...   \n",
       "387066                                                                                                                               Build Almost Done   \n",
       "387067  problem arming pc, I have a Mother a320m-k, ryzen 4650g, and doesnt work the video, the motherboard have Orange leds. Its my first time arming   \n",
       "387068                                                                                                                                   PCMR Truckers   \n",
       "387069                                                                                      New case for Christmas, also spray painted my GPU to match   \n",
       "387070                                                                      Ignore \"not enough space to copy these file\" errors in KDE Plasma/Dolphin?   \n",
       "\n",
       "                                                                                                                                                                                                                                                                                                                                                                                                                                                                                                                                                                                                                                                                                                                                                                                                                                                                                                                                                                                                                                           text  \n",
       "0                                                                                                                                                                                                                                                                                                                                                                                                                                                                                                                                                                                                                                                                                                                                                                                                                                                                                                                                                                                                                                           NaN  \n",
       "1                                                                                                                    I work as an IT manager for a business. Some time ago, a group of my colleagues decided to use a web productivity tool, created accounts using their work emails, and started introducing data.\\n\\nI had no knowledge they had been using such a tool at all. I did not even know it existed.\\n\\nToday, I received an email from my boss asking why an ex-employee still had access to the data in such a web platform, as their account hadn't been deactivated. Needless to say, I don't have access to revoke their account or anything.\\n\\nHow can I prevent them from registering on another unauthorized webpage?\\n\\nI feel like a firewall blacklist would be useless since I would have to be constantly researching and updating it with new tools, and I can't make a whitelist since my company uses a ton of different pages for intense web research.\\n\\nAny help or advice would be appreciated.\\n\\n&#x200B;  \n",
       "2                                                                                                                                                                                                                                                                                                                                                                                                                                                                                                                                                                                                                                                                                                        Hi\\n\\nDo you know this issue that when I have reminders or calendar alarms set to stick to the top right corner, that they then block the notification window for incoming Teams calls.\\n\\nDoes someone know if there is a setting for having the teams call pop up in on another location on the screen or knows another work around?  \n",
       "3                                                                                                                                                                                                                                                                                                                                       So I have been using windows for a while and now I am stumped. The middle mouse button of my logi mouse has the following functionailty: On drage change desktop, on click show all windows. That's nice and all, but I can't use fusion 360 because the dragging functionality is the middle mouse button but that just changes the desktop. How can I disable that?\\n\\n&#x200B;\\n\\nSo I found this, but there is no button selected. If I select the secondary mouse button for example, it will open mission control on both right click and middle mouse button:\\n\\nhttps://preview.redd.it/bmqnrpw0m86c1.png?width=476&format=png&auto=webp&s=97ae662fcca43bf146537393fc6a13705a0a9351\\n\\n&#x200B;  \n",
       "4                                                                                                                                                                                                                                                                                                                                                                                                                                                                                                                                                                                                                                                                                                             Hello guys does playing 4k content on a 2k display has any benefit? For example while playing YouTube videos I set 1440p resolution on my 2k laptop and 2k smartphone despite having a option of selecting 2160p option. So i wanted to ask if i get better video quality if i select 2160p option while playing on a 2k display?  \n",
       "...                                                                                                                                                                                                                                                                                                                                                                                                                                                                                                                                                                                                                                                                                                                                                                                                                                                                                                                                                                                                                                         ...  \n",
       "387066                                                                                                                                                                                                                                                                                                                                                                                                                                                                                                                                                                                                                                                                                                                                                                                                                                                                                                                                               Is this a good build? Any recommendations?\\n\\nBUILD - https://pcpartpicker.com/list/FL6hwc  \n",
       "387067                                                                                                                                                                                                                                                                                                                                                                                                                                                                                                                                                                                                                                                                                                                                                                                                                                                                                                                                                                                                                                      NaN  \n",
       "387068                                                                                                                                                                                                                                                                                                                                                                                                                                                                                                                                                                                                                                                         Those that bring their rigs with them in the truck: \\n\\nHow does the computer fare? \\nIs there any orientation it works better with when you go through the areas with poor maintenance? \\nAnd lastly: if you liquid cool, have you noticed any issues over time?\\n\\nI'm building a new rig here soon and am curious if anything is to note so I don't make a large $$$$ mistake  \n",
       "387069                                                                                                                                                                                                                                                                                                                                                                                                                                                                                                                                                                                                                                                                                                                                                                                                                                                                               Got the Hyte y60 as a gift, what a great case to build in. Running a 5600x with a 3080. The tree probably blocks some airflow but I'll take that tradeoff.  \n",
       "387070  When copying files with Dolphin (KDE Plasma's file manager), if there is not enough free space to copy the incoming files entirely, the file manager refuses to copy even a single file. However, a lot of the time I'll be skipping name conflicts or overwriting existing files with new ones, so either I don't need as much space than it seems to the system, or space is freed up as I copy. Also, KDE seems to have trouble accurately determining the free space on drives on a network file server that I have mounted with SSHFS, so it will say there is not enough space even when there is. \\n\\nIs there a way to get Dolphin to ignore this error and attempt to copy the files anyway? Like the way the cp command does it, where it doesn't really care how much space is on the drive, and will only throw an error if it actually fills up before it's done copying. Or better yet, is there a way to get Dolphin to still warn me about potential space issues, but have the option to ignore it and attempt to c...  \n",
       "\n",
       "[387071 rows x 5 columns]"
      ]
     },
     "execution_count": 8,
     "metadata": {},
     "output_type": "execute_result"
    }
   ],
   "source": [
    "df_reddit = pd.read_csv(file_reddit)\n",
    "df_reddit = df_reddit.drop(columns=['Unnamed: 0', 'json'])\n",
    "df_reddit"
   ]
  },
  {
   "cell_type": "markdown",
   "id": "8ac41545",
   "metadata": {},
   "source": [
    "### Files "
   ]
  },
  {
   "cell_type": "code",
   "execution_count": 9,
   "id": "d7ecdb03",
   "metadata": {},
   "outputs": [],
   "source": [
    "file_files = r'C:\\Users\\\\leona\\\\OneDrive\\\\Desktop\\\\Tesi\\\\Pipeline\\\\Datasets\\\\Pipeline\\\\FileAnalysis\\\\ER_Schema\\\\Entries.csv'\n",
    "attack_files = r'C:\\Users\\\\leona\\\\OneDrive\\\\Desktop\\\\Tesi\\\\Pipeline\\\\Datasets\\\\Pipeline\\\\FileAnalysis\\\\ER_Schema\\\\Attacks.csv'\n",
    "behaviour_files = r'C:\\Users\\\\leona\\\\OneDrive\\\\Desktop\\\\Tesi\\\\Pipeline\\\\Datasets\\\\Pipeline\\\\FileAnalysis\\\\ER_Schema\\\\Behaviours.csv'"
   ]
  },
  {
   "cell_type": "code",
   "execution_count": 10,
   "id": "589cf0b5",
   "metadata": {
    "scrolled": true
   },
   "outputs": [
    {
     "data": {
      "text/html": [
       "<div>\n",
       "<style scoped>\n",
       "    .dataframe tbody tr th:only-of-type {\n",
       "        vertical-align: middle;\n",
       "    }\n",
       "\n",
       "    .dataframe tbody tr th {\n",
       "        vertical-align: top;\n",
       "    }\n",
       "\n",
       "    .dataframe thead th {\n",
       "        text-align: right;\n",
       "    }\n",
       "</style>\n",
       "<table border=\"1\" class=\"dataframe\">\n",
       "  <thead>\n",
       "    <tr style=\"text-align: right;\">\n",
       "      <th></th>\n",
       "      <th>sha1</th>\n",
       "      <th>sha256</th>\n",
       "      <th>md5</th>\n",
       "      <th>analysis_date</th>\n",
       "      <th>file_type</th>\n",
       "      <th>delivery_method</th>\n",
       "      <th>verdict</th>\n",
       "      <th>malware_type</th>\n",
       "      <th>malware</th>\n",
       "    </tr>\n",
       "  </thead>\n",
       "  <tbody>\n",
       "    <tr>\n",
       "      <th>0</th>\n",
       "      <td>411535c9548f86034a6a9a603de521a86a3b5466</td>\n",
       "      <td>04c53261b1220a894a02f5ffb39cdfd73f93481c0b5c8106d21c91b20205c62d</td>\n",
       "      <td>5b5a0225a2b7b9a054417662c733168a</td>\n",
       "      <td>2021-11-09</td>\n",
       "      <td>exe</td>\n",
       "      <td>email attachment</td>\n",
       "      <td>malicious</td>\n",
       "      <td>trojan</td>\n",
       "      <td>remcos</td>\n",
       "    </tr>\n",
       "    <tr>\n",
       "      <th>1</th>\n",
       "      <td>1ad9e9761fd6935c0cf5048c9615d0383baac48e</td>\n",
       "      <td>ac901bf5882f14e9e07235b8488b6479b4519addda6dbfb89147401c1e9e6e4f</td>\n",
       "      <td>da9534900ee0d11c9b30cf33152ea03c</td>\n",
       "      <td>2023-07-19</td>\n",
       "      <td>exe</td>\n",
       "      <td>web download</td>\n",
       "      <td>malicious</td>\n",
       "      <td>trojan</td>\n",
       "      <td>remcos</td>\n",
       "    </tr>\n",
       "    <tr>\n",
       "      <th>2</th>\n",
       "      <td>8ab63abfe58fb218cc001581ac0d9fe38c784157</td>\n",
       "      <td>7f514ed5e1ec262953e6252a4089531c519e95d700c5808415b0f049fc59a5f0</td>\n",
       "      <td>855232a26e8afcd0cca5f816a1919dee</td>\n",
       "      <td>2022-01-04</td>\n",
       "      <td>exe</td>\n",
       "      <td>unknown</td>\n",
       "      <td>malicious</td>\n",
       "      <td>ransomware</td>\n",
       "      <td>remcos</td>\n",
       "    </tr>\n",
       "    <tr>\n",
       "      <th>3</th>\n",
       "      <td>55cbf8dae95d350ad7e5a63b418f6cd203488f51</td>\n",
       "      <td>8b7ae9f195b075a789d6d8277d500d27754bfa3c53ecca8db7beac8ccd07884f</td>\n",
       "      <td>97d9d216f2627cb238ca6637580b1739</td>\n",
       "      <td>2022-02-09</td>\n",
       "      <td>exe</td>\n",
       "      <td>unknown</td>\n",
       "      <td>malicious</td>\n",
       "      <td>trojan</td>\n",
       "      <td>remcos</td>\n",
       "    </tr>\n",
       "    <tr>\n",
       "      <th>4</th>\n",
       "      <td>a2915c1be9e6134b7bf3ca5ca00eeb0c969bedab</td>\n",
       "      <td>6c2a2251861a6d2701814843fadac940cf4d34db9f446f0698352fd866b31739</td>\n",
       "      <td>1b09de36dfe5850d7e3fbd6b39c89a43</td>\n",
       "      <td>2021-02-11</td>\n",
       "      <td>exe</td>\n",
       "      <td>web download</td>\n",
       "      <td>malicious</td>\n",
       "      <td>trojan</td>\n",
       "      <td>generic mg</td>\n",
       "    </tr>\n",
       "    <tr>\n",
       "      <th>...</th>\n",
       "      <td>...</td>\n",
       "      <td>...</td>\n",
       "      <td>...</td>\n",
       "      <td>...</td>\n",
       "      <td>...</td>\n",
       "      <td>...</td>\n",
       "      <td>...</td>\n",
       "      <td>...</td>\n",
       "      <td>...</td>\n",
       "    </tr>\n",
       "    <tr>\n",
       "      <th>2657</th>\n",
       "      <td>6b6955af591154d3f6e2db35ca9904cce7e264b1</td>\n",
       "      <td>3a9d8c693b7dc6a9c2bf876c5626ebd0923e35bd5f698baed248df7f51f67275</td>\n",
       "      <td>03872a722df0b073a84fd1aa45eb9376</td>\n",
       "      <td>2020-02-20</td>\n",
       "      <td>elf</td>\n",
       "      <td>unknown</td>\n",
       "      <td>malicious</td>\n",
       "      <td>worm</td>\n",
       "      <td>agent tesla</td>\n",
       "    </tr>\n",
       "    <tr>\n",
       "      <th>2658</th>\n",
       "      <td>3ab53037e2360c42b57d213234ced58717844a71</td>\n",
       "      <td>5de4932cb0ccab3fec711135cdd1af5a09c26a870bfb2d2adc650d0fdbf16488</td>\n",
       "      <td>e0fea510c784eb0e440e99e53d83d414</td>\n",
       "      <td>2021-07-14</td>\n",
       "      <td>exe</td>\n",
       "      <td>unknown</td>\n",
       "      <td>malicious</td>\n",
       "      <td>spyware</td>\n",
       "      <td>generickd</td>\n",
       "    </tr>\n",
       "    <tr>\n",
       "      <th>2659</th>\n",
       "      <td>4f9b9859a596a8bfdfee516788587ca0c0fb6ae8</td>\n",
       "      <td>f10dd5ce32d72489dd2696e5b58ee115f3cd065969a61a6613cab27bcd57de70</td>\n",
       "      <td>c9f771be253b6ca1d7a808d7d65c5e29</td>\n",
       "      <td>2020-09-08</td>\n",
       "      <td>exe</td>\n",
       "      <td>unknown</td>\n",
       "      <td>malicious</td>\n",
       "      <td>trojan</td>\n",
       "      <td>unknown</td>\n",
       "    </tr>\n",
       "    <tr>\n",
       "      <th>2660</th>\n",
       "      <td>d14540087dd6d350fb49e644e53ccefc0e4c1582</td>\n",
       "      <td>dba8a4717d516772b8cc06bd258265f21f7db6ddab62328917524c5a243c67a1</td>\n",
       "      <td>fe783ff4bccd76cb215ee1f7738d9ed5</td>\n",
       "      <td>2021-12-20</td>\n",
       "      <td>exe</td>\n",
       "      <td>unknown</td>\n",
       "      <td>unknown</td>\n",
       "      <td>unknown</td>\n",
       "      <td>unknown</td>\n",
       "    </tr>\n",
       "    <tr>\n",
       "      <th>2661</th>\n",
       "      <td>98837feaac2ed17b3709e5183b660dd41e7a1e0e</td>\n",
       "      <td>5b37ddd18800dc91071db31b340e8f9997bb89d42d5a194d7ff8c980a54abe89</td>\n",
       "      <td>1b47215513edd622ba825dced07c8969</td>\n",
       "      <td>2021-11-11</td>\n",
       "      <td>exe</td>\n",
       "      <td>unknown</td>\n",
       "      <td>malicious</td>\n",
       "      <td>trojan</td>\n",
       "      <td>crypter gen</td>\n",
       "    </tr>\n",
       "  </tbody>\n",
       "</table>\n",
       "<p>2662 rows × 9 columns</p>\n",
       "</div>"
      ],
      "text/plain": [
       "                                          sha1  \\\n",
       "0     411535c9548f86034a6a9a603de521a86a3b5466   \n",
       "1     1ad9e9761fd6935c0cf5048c9615d0383baac48e   \n",
       "2     8ab63abfe58fb218cc001581ac0d9fe38c784157   \n",
       "3     55cbf8dae95d350ad7e5a63b418f6cd203488f51   \n",
       "4     a2915c1be9e6134b7bf3ca5ca00eeb0c969bedab   \n",
       "...                                        ...   \n",
       "2657  6b6955af591154d3f6e2db35ca9904cce7e264b1   \n",
       "2658  3ab53037e2360c42b57d213234ced58717844a71   \n",
       "2659  4f9b9859a596a8bfdfee516788587ca0c0fb6ae8   \n",
       "2660  d14540087dd6d350fb49e644e53ccefc0e4c1582   \n",
       "2661  98837feaac2ed17b3709e5183b660dd41e7a1e0e   \n",
       "\n",
       "                                                                sha256  \\\n",
       "0     04c53261b1220a894a02f5ffb39cdfd73f93481c0b5c8106d21c91b20205c62d   \n",
       "1     ac901bf5882f14e9e07235b8488b6479b4519addda6dbfb89147401c1e9e6e4f   \n",
       "2     7f514ed5e1ec262953e6252a4089531c519e95d700c5808415b0f049fc59a5f0   \n",
       "3     8b7ae9f195b075a789d6d8277d500d27754bfa3c53ecca8db7beac8ccd07884f   \n",
       "4     6c2a2251861a6d2701814843fadac940cf4d34db9f446f0698352fd866b31739   \n",
       "...                                                                ...   \n",
       "2657  3a9d8c693b7dc6a9c2bf876c5626ebd0923e35bd5f698baed248df7f51f67275   \n",
       "2658  5de4932cb0ccab3fec711135cdd1af5a09c26a870bfb2d2adc650d0fdbf16488   \n",
       "2659  f10dd5ce32d72489dd2696e5b58ee115f3cd065969a61a6613cab27bcd57de70   \n",
       "2660  dba8a4717d516772b8cc06bd258265f21f7db6ddab62328917524c5a243c67a1   \n",
       "2661  5b37ddd18800dc91071db31b340e8f9997bb89d42d5a194d7ff8c980a54abe89   \n",
       "\n",
       "                                   md5 analysis_date file_type  \\\n",
       "0     5b5a0225a2b7b9a054417662c733168a    2021-11-09       exe   \n",
       "1     da9534900ee0d11c9b30cf33152ea03c    2023-07-19       exe   \n",
       "2     855232a26e8afcd0cca5f816a1919dee    2022-01-04       exe   \n",
       "3     97d9d216f2627cb238ca6637580b1739    2022-02-09       exe   \n",
       "4     1b09de36dfe5850d7e3fbd6b39c89a43    2021-02-11       exe   \n",
       "...                                ...           ...       ...   \n",
       "2657  03872a722df0b073a84fd1aa45eb9376    2020-02-20       elf   \n",
       "2658  e0fea510c784eb0e440e99e53d83d414    2021-07-14       exe   \n",
       "2659  c9f771be253b6ca1d7a808d7d65c5e29    2020-09-08       exe   \n",
       "2660  fe783ff4bccd76cb215ee1f7738d9ed5    2021-12-20       exe   \n",
       "2661  1b47215513edd622ba825dced07c8969    2021-11-11       exe   \n",
       "\n",
       "       delivery_method    verdict malware_type      malware  \n",
       "0     email attachment  malicious       trojan       remcos  \n",
       "1         web download  malicious       trojan       remcos  \n",
       "2              unknown  malicious   ransomware       remcos  \n",
       "3              unknown  malicious       trojan       remcos  \n",
       "4         web download  malicious       trojan   generic mg  \n",
       "...                ...        ...          ...          ...  \n",
       "2657           unknown  malicious         worm  agent tesla  \n",
       "2658           unknown  malicious      spyware    generickd  \n",
       "2659           unknown  malicious       trojan      unknown  \n",
       "2660           unknown    unknown      unknown      unknown  \n",
       "2661           unknown  malicious       trojan  crypter gen  \n",
       "\n",
       "[2662 rows x 9 columns]"
      ]
     },
     "execution_count": 10,
     "metadata": {},
     "output_type": "execute_result"
    }
   ],
   "source": [
    "df_files = pd.read_csv(file_files, low_memory = False)\n",
    "#df_files = df_files.drop(columns=['Unnamed: 0'])\n",
    "df_files"
   ]
  },
  {
   "cell_type": "markdown",
   "id": "5c976ab9",
   "metadata": {},
   "source": [
    "### Malwares"
   ]
  },
  {
   "cell_type": "code",
   "execution_count": 11,
   "id": "ca543511",
   "metadata": {},
   "outputs": [
    {
     "data": {
      "text/plain": [
       "['trojan',\n",
       " 'ransomware',\n",
       " 'adware',\n",
       " 'worm',\n",
       " 'dropper',\n",
       " 'rootkit',\n",
       " 'spyware',\n",
       " 'keylogger',\n",
       " 'backdoor',\n",
       " 'downloader',\n",
       " 'botnet']"
      ]
     },
     "execution_count": 11,
     "metadata": {},
     "output_type": "execute_result"
    }
   ],
   "source": [
    "all_malware_types_list = list(df_files.malware_type.unique())\n",
    "all_malware_types_list = [item for item in all_malware_types_list if item != 'unknown']\n",
    "\n",
    "all_malware_types_list"
   ]
  },
  {
   "cell_type": "markdown",
   "id": "03f6cc08",
   "metadata": {},
   "source": [
    "#### Malwares"
   ]
  },
  {
   "cell_type": "code",
   "execution_count": 12,
   "id": "f336b70b",
   "metadata": {},
   "outputs": [
    {
     "data": {
      "text/plain": [
       "['remcos',\n",
       " 'generic mg',\n",
       " 'njrat',\n",
       " 'bitrat',\n",
       " 'mirai',\n",
       " 'injector gen',\n",
       " 'generickd',\n",
       " 'quasar rat',\n",
       " 'muldrop',\n",
       " 'netwire',\n",
       " 'ave maria',\n",
       " 'script cryxos',\n",
       " 'downloader gen',\n",
       " 'orcus',\n",
       " 'x gen drp',\n",
       " 'agent tesla',\n",
       " 'nanocore rat',\n",
       " 'redline stealer',\n",
       " 'lumma stealer',\n",
       " 'siggen',\n",
       " 'spynote',\n",
       " 'kryptik gen',\n",
       " 'obfus',\n",
       " 'kryptik gen eldorado',\n",
       " 'valyria',\n",
       " 'artemis',\n",
       " 'twave evil',\n",
       " 'java gen',\n",
       " 'borlanddelphi',\n",
       " 'cobalt strike',\n",
       " 'aidetect net',\n",
       " 'miscreantpunch',\n",
       " 'perseus',\n",
       " 'behaveslike generic',\n",
       " 'heracles',\n",
       " 'darkcomet',\n",
       " 'crypter gen',\n",
       " 'wannacryptor',\n",
       " 'formbook',\n",
       " 'azorult',\n",
       " 'genmalicious',\n",
       " 'bv downloader drp',\n",
       " 'evo gen',\n",
       " 'ddos',\n",
       " 'gafgyt',\n",
       " 'keylogger gen',\n",
       " 'cve exploit',\n",
       " 'banker gen',\n",
       " 'autoit',\n",
       " 'exploitx',\n",
       " 'coinminer generic',\n",
       " 'loki password stealer  pws',\n",
       " 'meterpreter',\n",
       " 'crimson rat',\n",
       " 'nanobot',\n",
       " 'ghost rat']"
      ]
     },
     "execution_count": 12,
     "metadata": {},
     "output_type": "execute_result"
    }
   ],
   "source": [
    "all_malware_list = list(df_files.malware.unique())\n",
    "all_malware_list = [item for item in all_malware_list if (item != 'unknown') & (item != 'malware_tag')]\n",
    "all_malware_list"
   ]
  },
  {
   "cell_type": "markdown",
   "id": "9a67df1c",
   "metadata": {},
   "source": [
    "#### Delivery Methods"
   ]
  },
  {
   "cell_type": "code",
   "execution_count": 13,
   "id": "4600cac9",
   "metadata": {},
   "outputs": [
    {
     "data": {
      "text/plain": [
       "['email attachment', 'web download', 'email link']"
      ]
     },
     "execution_count": 13,
     "metadata": {},
     "output_type": "execute_result"
    }
   ],
   "source": [
    "all_delivery_method_list = list(df_files.delivery_method.unique())\n",
    "all_delivery_method_list = [ item for item in all_delivery_method_list if (item != 'unknown') ]\n",
    "all_delivery_method_list"
   ]
  },
  {
   "cell_type": "markdown",
   "id": "fd527b44",
   "metadata": {},
   "source": [
    "#### Behaviours"
   ]
  },
  {
   "cell_type": "code",
   "execution_count": 14,
   "id": "e667156c",
   "metadata": {},
   "outputs": [
    {
     "data": {
      "text/html": [
       "<div>\n",
       "<style scoped>\n",
       "    .dataframe tbody tr th:only-of-type {\n",
       "        vertical-align: middle;\n",
       "    }\n",
       "\n",
       "    .dataframe tbody tr th {\n",
       "        vertical-align: top;\n",
       "    }\n",
       "\n",
       "    .dataframe thead th {\n",
       "        text-align: right;\n",
       "    }\n",
       "</style>\n",
       "<table border=\"1\" class=\"dataframe\">\n",
       "  <thead>\n",
       "    <tr style=\"text-align: right;\">\n",
       "      <th></th>\n",
       "      <th>sha1</th>\n",
       "      <th>sha256</th>\n",
       "      <th>md5</th>\n",
       "      <th>action_name</th>\n",
       "      <th>action_description</th>\n",
       "      <th>maliciousness_level</th>\n",
       "      <th>area</th>\n",
       "    </tr>\n",
       "  </thead>\n",
       "  <tbody>\n",
       "    <tr>\n",
       "      <th>0</th>\n",
       "      <td>007416f9ba10d2e2951a9dcd104b7206ad20d433</td>\n",
       "      <td>094b57a07096fb1f866a104c0b14c84aa99815b613587780765c8c6cd6ef1a42</td>\n",
       "      <td>7baa4836bd81113c16960501f679a81b</td>\n",
       "      <td>antidebug guardpages</td>\n",
       "      <td>guard pages use detected - possible anti-debugging.</td>\n",
       "      <td>neutral</td>\n",
       "      <td>System Processes</td>\n",
       "    </tr>\n",
       "    <tr>\n",
       "      <th>1</th>\n",
       "      <td>007416f9ba10d2e2951a9dcd104b7206ad20d433</td>\n",
       "      <td>094b57a07096fb1f866a104c0b14c84aa99815b613587780765c8c6cd6ef1a42</td>\n",
       "      <td>7baa4836bd81113c16960501f679a81b</td>\n",
       "      <td>antidebug setunhandledexceptionfilter</td>\n",
       "      <td>setunhandledexceptionfilter detected (possible anti-debug)</td>\n",
       "      <td>neutral</td>\n",
       "      <td>System Processes</td>\n",
       "    </tr>\n",
       "    <tr>\n",
       "      <th>2</th>\n",
       "      <td>007416f9ba10d2e2951a9dcd104b7206ad20d433</td>\n",
       "      <td>094b57a07096fb1f866a104c0b14c84aa99815b613587780765c8c6cd6ef1a42</td>\n",
       "      <td>7baa4836bd81113c16960501f679a81b</td>\n",
       "      <td>cape detected threat</td>\n",
       "      <td>cape detected the asyncrat malware</td>\n",
       "      <td>suspicious</td>\n",
       "      <td>Network Activity</td>\n",
       "    </tr>\n",
       "    <tr>\n",
       "      <th>3</th>\n",
       "      <td>007416f9ba10d2e2951a9dcd104b7206ad20d433</td>\n",
       "      <td>094b57a07096fb1f866a104c0b14c84aa99815b613587780765c8c6cd6ef1a42</td>\n",
       "      <td>7baa4836bd81113c16960501f679a81b</td>\n",
       "      <td>cmdline terminate</td>\n",
       "      <td>executed a command line with /c or /r argument to terminate command shell on completion which can be used to hide execution</td>\n",
       "      <td>neutral</td>\n",
       "      <td>System Processes</td>\n",
       "    </tr>\n",
       "    <tr>\n",
       "      <th>4</th>\n",
       "      <td>007416f9ba10d2e2951a9dcd104b7206ad20d433</td>\n",
       "      <td>094b57a07096fb1f866a104c0b14c84aa99815b613587780765c8c6cd6ef1a42</td>\n",
       "      <td>7baa4836bd81113c16960501f679a81b</td>\n",
       "      <td>dead connect</td>\n",
       "      <td>attempts to connect to a dead ip:port (1 unique times)</td>\n",
       "      <td>neutral</td>\n",
       "      <td>Network Communications</td>\n",
       "    </tr>\n",
       "  </tbody>\n",
       "</table>\n",
       "</div>"
      ],
      "text/plain": [
       "                                       sha1  \\\n",
       "0  007416f9ba10d2e2951a9dcd104b7206ad20d433   \n",
       "1  007416f9ba10d2e2951a9dcd104b7206ad20d433   \n",
       "2  007416f9ba10d2e2951a9dcd104b7206ad20d433   \n",
       "3  007416f9ba10d2e2951a9dcd104b7206ad20d433   \n",
       "4  007416f9ba10d2e2951a9dcd104b7206ad20d433   \n",
       "\n",
       "                                                             sha256  \\\n",
       "0  094b57a07096fb1f866a104c0b14c84aa99815b613587780765c8c6cd6ef1a42   \n",
       "1  094b57a07096fb1f866a104c0b14c84aa99815b613587780765c8c6cd6ef1a42   \n",
       "2  094b57a07096fb1f866a104c0b14c84aa99815b613587780765c8c6cd6ef1a42   \n",
       "3  094b57a07096fb1f866a104c0b14c84aa99815b613587780765c8c6cd6ef1a42   \n",
       "4  094b57a07096fb1f866a104c0b14c84aa99815b613587780765c8c6cd6ef1a42   \n",
       "\n",
       "                                md5                            action_name  \\\n",
       "0  7baa4836bd81113c16960501f679a81b                   antidebug guardpages   \n",
       "1  7baa4836bd81113c16960501f679a81b  antidebug setunhandledexceptionfilter   \n",
       "2  7baa4836bd81113c16960501f679a81b                   cape detected threat   \n",
       "3  7baa4836bd81113c16960501f679a81b                      cmdline terminate   \n",
       "4  7baa4836bd81113c16960501f679a81b                           dead connect   \n",
       "\n",
       "                                                                                                            action_description  \\\n",
       "0                                                                          guard pages use detected - possible anti-debugging.   \n",
       "1                                                                   setunhandledexceptionfilter detected (possible anti-debug)   \n",
       "2                                                                                           cape detected the asyncrat malware   \n",
       "3  executed a command line with /c or /r argument to terminate command shell on completion which can be used to hide execution   \n",
       "4                                                                       attempts to connect to a dead ip:port (1 unique times)   \n",
       "\n",
       "  maliciousness_level                    area  \n",
       "0             neutral        System Processes  \n",
       "1             neutral        System Processes  \n",
       "2          suspicious        Network Activity  \n",
       "3             neutral        System Processes  \n",
       "4             neutral  Network Communications  "
      ]
     },
     "execution_count": 14,
     "metadata": {},
     "output_type": "execute_result"
    }
   ],
   "source": [
    "behaviours = pd.read_csv(behaviour_files)\n",
    "#behaviours = behaviours.drop(columns=['Unnamed: 0'])\n",
    "behaviours.head()"
   ]
  },
  {
   "cell_type": "code",
   "execution_count": 15,
   "id": "111e57f5",
   "metadata": {},
   "outputs": [
    {
     "data": {
      "text/plain": [
       "['antidebug guardpages',\n",
       " 'antidebug setunhandledexceptionfilter',\n",
       " 'cape detected threat',\n",
       " 'cmdline terminate',\n",
       " 'dead connect',\n",
       " 'deletes executed files',\n",
       " 'dynamic function loading',\n",
       " 'injection rwx',\n",
       " 'persistence autorun tasks',\n",
       " 'process creation suspicious location',\n",
       " 'reads self',\n",
       " 'stealth timeout',\n",
       " 'stealth window',\n",
       " 'suspicious command tools',\n",
       " 'uses windows utilities',\n",
       " 'uses windows utilities to create scheduled task',\n",
       " 'allocates execute remote process',\n",
       " 'allocates rwx',\n",
       " 'antivm memory available',\n",
       " 'antivm network adapters',\n",
       " 'antivm queries computername',\n",
       " 'checks debugger',\n",
       " 'creates exe',\n",
       " 'dead host',\n",
       " 'dumped buffer',\n",
       " 'exe appdata',\n",
       " 'generates crypto key',\n",
       " 'has pdb',\n",
       " 'injection ntsetcontextthread',\n",
       " 'injection resumethread',\n",
       " 'injection runpe',\n",
       " 'injection write memory',\n",
       " 'injection write memory exe',\n",
       " 'nolookup communication',\n",
       " 'packer entropy',\n",
       " 'persistence autorun',\n",
       " 'privilege luid check',\n",
       " 'removes zoneid ads',\n",
       " 'schtask create',\n",
       " 'suspicious process',\n",
       " 'network icmp',\n",
       " 'osquery detection',\n",
       " 'dumped buffer2',\n",
       " 'infostealer keylogger',\n",
       " 'networkdyndns checkip',\n",
       " 'nids alert',\n",
       " 'infostealer ftp',\n",
       " 'queries programs',\n",
       " 'raises exception',\n",
       " 'recon programs',\n",
       " 'antisandbox sleep',\n",
       " 'console output',\n",
       " 'packer polymorphic',\n",
       " 'protection rx',\n",
       " 'antisandbox foregroundwindows',\n",
       " 'process martian',\n",
       " 'suspicious write exe',\n",
       " 'antisandbox idletime',\n",
       " 'antisandbox mouse hook',\n",
       " 'pe features',\n",
       " 'powershell reg add',\n",
       " 'infostealer browser',\n",
       " 'infostealer im',\n",
       " 'infostealer mail',\n",
       " 'injection process search',\n",
       " 'locates browser',\n",
       " 'network downloader exe',\n",
       " 'infostealer keylog',\n",
       " 'ransomware file modifications',\n",
       " 'disables security',\n",
       " 'dropper',\n",
       " 'creates hidden file',\n",
       " 'document open',\n",
       " 'network cnc http',\n",
       " 'network http',\n",
       " 'nids malware alert',\n",
       " 'stealth system procname',\n",
       " 'network multiple direct ip connections',\n",
       " 'accesses recyclebin',\n",
       " 'anomalous deletefile',\n",
       " 'antivm generic bios',\n",
       " 'antivm generic disk',\n",
       " 'creates largekey',\n",
       " 'enumerates physical drives',\n",
       " 'exec crash',\n",
       " 'infostealer cookies',\n",
       " 'injection inter process',\n",
       " 'injection process hollowing',\n",
       " 'modify desktop wallpaper',\n",
       " 'physical drive access',\n",
       " 'powershell request',\n",
       " 'recon fingerprint',\n",
       " 'terminates remote process',\n",
       " 'antivm generic services',\n",
       " 'modifies proxy wpad',\n",
       " 'http request',\n",
       " 'infostealer bitcoin',\n",
       " 'network cnc https generic',\n",
       " 'network dyndns',\n",
       " 'powershell download',\n",
       " 'procmem yara',\n",
       " 'recon checkip',\n",
       " 'antivm disk size',\n",
       " 'origin langid',\n",
       " 'peid packer',\n",
       " 'antidbg windows',\n",
       " 'antivm vmware in instruction',\n",
       " 'injection network trafic',\n",
       " 'process interest',\n",
       " 'stealth hiddenfile',\n",
       " 'stops service',\n",
       " 'https urls',\n",
       " 'injection createremotethread',\n",
       " 'injection modifies memory',\n",
       " 'multiple useragents',\n",
       " 'antivm generic cpu',\n",
       " 'persistence ads',\n",
       " 'registry credential store access',\n",
       " 'cloud google',\n",
       " 'rat spynet',\n",
       " 'creates shortcut',\n",
       " 'encrypt pcinfo',\n",
       " 'suricata alert',\n",
       " 'disables proxy',\n",
       " 'has wmi',\n",
       " 'network bind',\n",
       " 'process needed',\n",
       " 'ransomware appends extensions',\n",
       " 'ransomware file moves',\n",
       " 'rat teamviewer',\n",
       " 'wmi antivm',\n",
       " 'pe unknown resource name',\n",
       " 'modifies certificates',\n",
       " 'powershell dfsp',\n",
       " 'suspicious powershell',\n",
       " 'antiemu wine',\n",
       " 'antivm generic scsi',\n",
       " 'antivm vbox keys',\n",
       " 'antivm vmware keys',\n",
       " 'creates service',\n",
       " 'cape extracted content',\n",
       " 'injection create remote thread',\n",
       " 'rat nanocore',\n",
       " 'spawns dev util',\n",
       " 'packer upx',\n",
       " 'accesses public folder',\n",
       " 'encrypted ioc',\n",
       " 'antiav detectfile',\n",
       " 'tcp syn scan',\n",
       " 'powershell command suspicious',\n",
       " 'powershell scriptblock logging',\n",
       " 'script tool executed',\n",
       " 'ransomware extensions',\n",
       " 'suspicious tld',\n",
       " 'remcos files',\n",
       " 'remcos mutexes',\n",
       " 'remcos regkeys',\n",
       " 'antidbg devices',\n",
       " 'cybergate',\n",
       " 'antisandbox unhook',\n",
       " 'creates doc',\n",
       " 'locker taskmgr',\n",
       " 'darkcomet regkeys',\n",
       " 'deletes self',\n",
       " 'dotnet csc build',\n",
       " 'network dns reverse proxy',\n",
       " 'rat fynloski mutexes',\n",
       " 'sysinternals tools usage',\n",
       " 'modifies security center warnings',\n",
       " 'rat fynloski',\n",
       " 'p2p cnc',\n",
       " 'writes to stdout',\n",
       " 'network document file',\n",
       " 'network http post',\n",
       " 'rat bifrose',\n",
       " 'antisandbox sboxie libs',\n",
       " 'dll load uncommon file types',\n",
       " 'moves self',\n",
       " 'persistence registry javascript',\n",
       " 'persistence registry powershell',\n",
       " 'network irc',\n",
       " 'process crash',\n",
       " 'antiav avast libs',\n",
       " 'applcation raises exception',\n",
       " 'creates user folder exe',\n",
       " 'enumerates running processes',\n",
       " 'spooler svc start',\n",
       " 'stealth hiddenreg',\n",
       " 'stealth network',\n",
       " 'rat quasar mutexes',\n",
       " 'sniffer winpcap',\n",
       " 'banker bancos',\n",
       " 'network fake useragent',\n",
       " 'network questionable http path',\n",
       " 'stop ransom mutexes',\n",
       " 'stop ransomware cmd',\n",
       " 'stop ransomware registry',\n",
       " 'disables uac',\n",
       " 'script created process',\n",
       " 'nids exploit alert',\n",
       " 'long commandline',\n",
       " 'antivm firmware',\n",
       " 'modifies zoneid',\n",
       " 'disables windows defender',\n",
       " 'network cnc https free webshoting',\n",
       " 'network cnc https socialmedia',\n",
       " 'network ip exe',\n",
       " 'venomrat mutexes',\n",
       " 'virus',\n",
       " 'malicious document urls',\n",
       " 'network wscript downloader',\n",
       " 'bladabindi mutexes',\n",
       " 'ransomware mass file delete',\n",
       " 'netwire',\n",
       " 'antisandbox suspend',\n",
       " 'network dns paste site',\n",
       " 'antivm generic system',\n",
       " 'warzonerat files',\n",
       " 'windows defender powershell',\n",
       " 'antivm vbox files',\n",
       " 'antivm vmware files',\n",
       " 'bypass firewall',\n",
       " 'injection network traffic',\n",
       " 'modify security center warnings',\n",
       " 'rat sdbot',\n",
       " 'antidebug ntsetinformationthread',\n",
       " 'antiav detectreg',\n",
       " 'network dns blockchain',\n",
       " 'rtf unknown character set',\n",
       " 'network cnc https payload',\n",
       " 'renostrojan',\n",
       " 'plugx',\n",
       " 'network tor',\n",
       " 'js eval',\n",
       " 'antiemu wine func',\n",
       " 'injection queueapcthread',\n",
       " 'njrat regkeys',\n",
       " 'disables system restore',\n",
       " 'accesses netlogon regkey',\n",
       " 'createtoolhelp32snapshot module enumeration',\n",
       " 'mimics agent',\n",
       " 'suspicious ping use',\n",
       " 'uses windows utilities nltest',\n",
       " 'spreading autoruninf',\n",
       " 'antivm vbox devices',\n",
       " 'rat rbot',\n",
       " 'network excessive udp',\n",
       " 'chmod 777 perm',\n",
       " 'browser security',\n",
       " 'detect putty',\n",
       " 'memdump urls',\n",
       " 'ransomware dropped files',\n",
       " 'rat xtreme',\n",
       " 'modify uac prompt',\n",
       " 'packer vmprotect',\n",
       " 'banker zeus p2p',\n",
       " 'orcusrat behavior',\n",
       " 'exploit heapspray',\n",
       " 'persists dev util',\n",
       " 'rtf unknown version',\n",
       " 'antisandbox sunbelt libs',\n",
       " 'network anomaly',\n",
       " 'spoofs procname',\n",
       " 'antidebug windows',\n",
       " 'recon beacon',\n",
       " 'network cnc https pastesite',\n",
       " 'suspicious certutil use',\n",
       " 'alters windows utility',\n",
       " 'powershell renamed',\n",
       " 'nitol',\n",
       " 'warzonerat regkeys',\n",
       " 'exec waitfor',\n",
       " 'martian command process',\n",
       " 'antivirus virustotal',\n",
       " 'banker zeus mutex',\n",
       " 'copies self',\n",
       " 'cryptopool domains',\n",
       " 'antiav servicestop',\n",
       " 'masquerade process name',\n",
       " 'antivm sandboxie',\n",
       " 'recon systeminfo',\n",
       " 'modify certs',\n",
       " 'cryptomining stratum command',\n",
       " 'network dns txt lookup',\n",
       " 'antisandbox file',\n",
       " 'antisandbox joe anubis files',\n",
       " 'captures screenshot',\n",
       " 'netwire behavior',\n",
       " 'cypherit mutexes',\n",
       " 'network dga',\n",
       " 'stealth childproc',\n",
       " 'cmdline long string',\n",
       " 'crontab persistency',\n",
       " 'antivm generic diskreg',\n",
       " 'win32 process create',\n",
       " 'suspicious js script',\n",
       " 'cmdline obfuscation',\n",
       " 'cmdline http link',\n",
       " 'network cnc https opensource',\n",
       " 'antisandbox cuckoo files',\n",
       " 'blackrat apis',\n",
       " 'persistence registry exe',\n",
       " 'trojan jorik',\n",
       " 'andromeda',\n",
       " 'uses powershell copyitem',\n",
       " 'polymorphic',\n",
       " 'stealth hidden extension',\n",
       " 'network cnc https useragent',\n",
       " 'browser helper object',\n",
       " 'browser startpage',\n",
       " 'dns freehosting domain',\n",
       " 'packer themida',\n",
       " 'dyreza',\n",
       " 'upatre',\n",
       " 'modify proxy',\n",
       " 'static pe anomaly',\n",
       " 'stealth file',\n",
       " 'powershell network connection',\n",
       " 'disables windows file protection',\n",
       " 'antidebug devices',\n",
       " 'antiemu wine reg',\n",
       " 'rat buzus mutexes',\n",
       " 'office cve2017 11882 network']"
      ]
     },
     "execution_count": 15,
     "metadata": {},
     "output_type": "execute_result"
    }
   ],
   "source": [
    "all_behaviours_name_list = list(behaviours.action_name.unique())\n",
    "all_behaviours_name_list = [ item for item in all_behaviours_name_list if (item != 'unknown') ]\n",
    "all_behaviours_name_list"
   ]
  },
  {
   "cell_type": "markdown",
   "id": "2e3f8788",
   "metadata": {},
   "source": [
    "#### Attacks"
   ]
  },
  {
   "cell_type": "code",
   "execution_count": 16,
   "id": "3afab840",
   "metadata": {},
   "outputs": [
    {
     "data": {
      "text/html": [
       "<div>\n",
       "<style scoped>\n",
       "    .dataframe tbody tr th:only-of-type {\n",
       "        vertical-align: middle;\n",
       "    }\n",
       "\n",
       "    .dataframe tbody tr th {\n",
       "        vertical-align: top;\n",
       "    }\n",
       "\n",
       "    .dataframe thead th {\n",
       "        text-align: right;\n",
       "    }\n",
       "</style>\n",
       "<table border=\"1\" class=\"dataframe\">\n",
       "  <thead>\n",
       "    <tr style=\"text-align: right;\">\n",
       "      <th></th>\n",
       "      <th>sha1</th>\n",
       "      <th>sha256</th>\n",
       "      <th>md5</th>\n",
       "      <th>attack_id</th>\n",
       "      <th>attack_name</th>\n",
       "      <th>attack_type</th>\n",
       "    </tr>\n",
       "  </thead>\n",
       "  <tbody>\n",
       "    <tr>\n",
       "      <th>0</th>\n",
       "      <td>713a00b13a87c52b43404cd32d0f4645844709d9</td>\n",
       "      <td>3b96a384f9989f28315eb374eae991e70ed07b88665cbf831f24bd574502feac</td>\n",
       "      <td>97ad0714b0245825407dd25d7d168d31</td>\n",
       "      <td>T1060</td>\n",
       "      <td>Registry Run Keys / Start Folder</td>\n",
       "      <td>Installation</td>\n",
       "    </tr>\n",
       "    <tr>\n",
       "      <th>1</th>\n",
       "      <td>713a00b13a87c52b43404cd32d0f4645844709d9</td>\n",
       "      <td>3b96a384f9989f28315eb374eae991e70ed07b88665cbf831f24bd574502feac</td>\n",
       "      <td>97ad0714b0245825407dd25d7d168d31</td>\n",
       "      <td>T1056</td>\n",
       "      <td>Input Capture</td>\n",
       "      <td>Objectives</td>\n",
       "    </tr>\n",
       "    <tr>\n",
       "      <th>2</th>\n",
       "      <td>e900de5aea86567fadc7507a6811596eb4b86a14</td>\n",
       "      <td>3363270a2950c8518e7883ea147b3f947b3a96aa31d37a990c73f975946335ce</td>\n",
       "      <td>e076afd88fe6a708d91a3f771754e860</td>\n",
       "      <td>T1060</td>\n",
       "      <td>Registry Run Keys / Start Folder</td>\n",
       "      <td>Installation</td>\n",
       "    </tr>\n",
       "    <tr>\n",
       "      <th>3</th>\n",
       "      <td>12d263832d7f08122fbfc4431da22016e0823539</td>\n",
       "      <td>cf1260b1d0686dbee4a5c9e3bcd09eff07bfae0a53d17356b72150f59ad1a497</td>\n",
       "      <td>497d3c4d08b80e03f622064dced10135</td>\n",
       "      <td>T1119</td>\n",
       "      <td>Automated Collection</td>\n",
       "      <td>Objectives</td>\n",
       "    </tr>\n",
       "    <tr>\n",
       "      <th>4</th>\n",
       "      <td>12d263832d7f08122fbfc4431da22016e0823539</td>\n",
       "      <td>cf1260b1d0686dbee4a5c9e3bcd09eff07bfae0a53d17356b72150f59ad1a497</td>\n",
       "      <td>497d3c4d08b80e03f622064dced10135</td>\n",
       "      <td>T1045</td>\n",
       "      <td>Software Packing</td>\n",
       "      <td>Installation</td>\n",
       "    </tr>\n",
       "  </tbody>\n",
       "</table>\n",
       "</div>"
      ],
      "text/plain": [
       "                                       sha1  \\\n",
       "0  713a00b13a87c52b43404cd32d0f4645844709d9   \n",
       "1  713a00b13a87c52b43404cd32d0f4645844709d9   \n",
       "2  e900de5aea86567fadc7507a6811596eb4b86a14   \n",
       "3  12d263832d7f08122fbfc4431da22016e0823539   \n",
       "4  12d263832d7f08122fbfc4431da22016e0823539   \n",
       "\n",
       "                                                             sha256  \\\n",
       "0  3b96a384f9989f28315eb374eae991e70ed07b88665cbf831f24bd574502feac   \n",
       "1  3b96a384f9989f28315eb374eae991e70ed07b88665cbf831f24bd574502feac   \n",
       "2  3363270a2950c8518e7883ea147b3f947b3a96aa31d37a990c73f975946335ce   \n",
       "3  cf1260b1d0686dbee4a5c9e3bcd09eff07bfae0a53d17356b72150f59ad1a497   \n",
       "4  cf1260b1d0686dbee4a5c9e3bcd09eff07bfae0a53d17356b72150f59ad1a497   \n",
       "\n",
       "                                md5 attack_id  \\\n",
       "0  97ad0714b0245825407dd25d7d168d31     T1060   \n",
       "1  97ad0714b0245825407dd25d7d168d31     T1056   \n",
       "2  e076afd88fe6a708d91a3f771754e860     T1060   \n",
       "3  497d3c4d08b80e03f622064dced10135     T1119   \n",
       "4  497d3c4d08b80e03f622064dced10135     T1045   \n",
       "\n",
       "                        attack_name   attack_type  \n",
       "0  Registry Run Keys / Start Folder  Installation  \n",
       "1                     Input Capture    Objectives  \n",
       "2  Registry Run Keys / Start Folder  Installation  \n",
       "3              Automated Collection    Objectives  \n",
       "4                  Software Packing  Installation  "
      ]
     },
     "execution_count": 16,
     "metadata": {},
     "output_type": "execute_result"
    }
   ],
   "source": [
    "attacks = pd.read_csv(attack_files)\n",
    "#attacks = attacks.drop(columns=['Unnamed: 0'])\n",
    "attacks.head()"
   ]
  },
  {
   "cell_type": "code",
   "execution_count": 17,
   "id": "cb17b3e0",
   "metadata": {},
   "outputs": [
    {
     "data": {
      "text/plain": [
       "['Registry Run Keys',\n",
       " 'Start Folder',\n",
       " 'Input Capture',\n",
       " 'Automated Collection',\n",
       " 'Software Packing',\n",
       " 'Process Discovery',\n",
       " 'Defense Evasion, Privilege Escalation',\n",
       " 'Masquerading',\n",
       " 'Disable Security Software',\n",
       " 'Windows Management Instrumentation',\n",
       " 'Install New Service',\n",
       " 'Security Software Discovery',\n",
       " 'T1060',\n",
       " 'T1056',\n",
       " 'T1119',\n",
       " 'T1045',\n",
       " 'T1057',\n",
       " 'T1055',\n",
       " 'T1036',\n",
       " '578',\n",
       " 'T1047',\n",
       " '550',\n",
       " 'T1063']"
      ]
     },
     "execution_count": 17,
     "metadata": {},
     "output_type": "execute_result"
    }
   ],
   "source": [
    "all_attack_name_list = list(attacks.attack_name.unique()) + list(attacks.attack_id.unique())\n",
    "all_attack_name_list = [ item for item in all_attack_name_list if (item != 'unknown') ]\n",
    "new_list = []\n",
    "\n",
    "for element in all_attack_name_list:\n",
    "    if '/' in element:\n",
    "        parts = element.split('/')\n",
    "        # Add non-empty parts after removing leading and trailing spaces\n",
    "        new_list.extend([part.strip() for part in parts if part])\n",
    "    else:\n",
    "        # If there is no '/', simply add the element after removing leading and trailing spaces\n",
    "        new_list.append(element.strip())\n",
    "\n",
    "all_attack_name_list = new_list\n",
    "all_attack_name_list\n"
   ]
  },
  {
   "cell_type": "markdown",
   "id": "131548a7",
   "metadata": {},
   "source": [
    "### Lemmatization"
   ]
  },
  {
   "cell_type": "code",
   "execution_count": 18,
   "id": "d2a0b362",
   "metadata": {},
   "outputs": [
    {
     "name": "stdout",
     "output_type": "stream",
     "text": [
      "Requirement already satisfied: spacy in c:\\users\\leona\\anaconda3\\lib\\site-packages (3.7.2)Note: you may need to restart the kernel to use updated packages.\n",
      "\n",
      "Requirement already satisfied: spacy-legacy<3.1.0,>=3.0.11 in c:\\users\\leona\\anaconda3\\lib\\site-packages (from spacy) (3.0.12)\n",
      "Requirement already satisfied: spacy-loggers<2.0.0,>=1.0.0 in c:\\users\\leona\\anaconda3\\lib\\site-packages (from spacy) (1.0.5)\n",
      "Requirement already satisfied: murmurhash<1.1.0,>=0.28.0 in c:\\users\\leona\\anaconda3\\lib\\site-packages (from spacy) (1.0.10)\n",
      "Requirement already satisfied: cymem<2.1.0,>=2.0.2 in c:\\users\\leona\\anaconda3\\lib\\site-packages (from spacy) (2.0.8)\n",
      "Requirement already satisfied: preshed<3.1.0,>=3.0.2 in c:\\users\\leona\\anaconda3\\lib\\site-packages (from spacy) (3.0.9)\n",
      "Requirement already satisfied: thinc<8.3.0,>=8.1.8 in c:\\users\\leona\\anaconda3\\lib\\site-packages (from spacy) (8.2.2)\n",
      "Requirement already satisfied: wasabi<1.2.0,>=0.9.1 in c:\\users\\leona\\anaconda3\\lib\\site-packages (from spacy) (1.1.2)\n",
      "Requirement already satisfied: srsly<3.0.0,>=2.4.3 in c:\\users\\leona\\anaconda3\\lib\\site-packages (from spacy) (2.4.8)\n",
      "Requirement already satisfied: catalogue<2.1.0,>=2.0.6 in c:\\users\\leona\\anaconda3\\lib\\site-packages (from spacy) (2.0.10)\n",
      "Requirement already satisfied: weasel<0.4.0,>=0.1.0 in c:\\users\\leona\\anaconda3\\lib\\site-packages (from spacy) (0.3.4)\n",
      "Requirement already satisfied: typer<0.10.0,>=0.3.0 in c:\\users\\leona\\anaconda3\\lib\\site-packages (from spacy) (0.9.0)\n",
      "Requirement already satisfied: smart-open<7.0.0,>=5.2.1 in c:\\users\\leona\\anaconda3\\lib\\site-packages (from spacy) (5.2.1)\n",
      "Requirement already satisfied: tqdm<5.0.0,>=4.38.0 in c:\\users\\leona\\anaconda3\\lib\\site-packages (from spacy) (4.65.0)\n",
      "Requirement already satisfied: requests<3.0.0,>=2.13.0 in c:\\users\\leona\\anaconda3\\lib\\site-packages (from spacy) (2.31.0)\n",
      "Requirement already satisfied: pydantic!=1.8,!=1.8.1,<3.0.0,>=1.7.4 in c:\\users\\leona\\anaconda3\\lib\\site-packages (from spacy) (2.5.3)\n",
      "Requirement already satisfied: jinja2 in c:\\users\\leona\\anaconda3\\lib\\site-packages (from spacy) (3.1.2)\n",
      "Requirement already satisfied: setuptools in c:\\users\\leona\\anaconda3\\lib\\site-packages (from spacy) (68.0.0)\n",
      "Requirement already satisfied: packaging>=20.0 in c:\\users\\leona\\anaconda3\\lib\\site-packages (from spacy) (23.1)\n",
      "Requirement already satisfied: langcodes<4.0.0,>=3.2.0 in c:\\users\\leona\\anaconda3\\lib\\site-packages (from spacy) (3.3.0)\n",
      "Requirement already satisfied: numpy>=1.19.0 in c:\\users\\leona\\anaconda3\\lib\\site-packages (from spacy) (1.23.5)\n",
      "Requirement already satisfied: annotated-types>=0.4.0 in c:\\users\\leona\\anaconda3\\lib\\site-packages (from pydantic!=1.8,!=1.8.1,<3.0.0,>=1.7.4->spacy) (0.6.0)\n",
      "Requirement already satisfied: pydantic-core==2.14.6 in c:\\users\\leona\\anaconda3\\lib\\site-packages (from pydantic!=1.8,!=1.8.1,<3.0.0,>=1.7.4->spacy) (2.14.6)\n",
      "Requirement already satisfied: typing-extensions>=4.6.1 in c:\\users\\leona\\anaconda3\\lib\\site-packages (from pydantic!=1.8,!=1.8.1,<3.0.0,>=1.7.4->spacy) (4.7.1)\n",
      "Requirement already satisfied: charset-normalizer<4,>=2 in c:\\users\\leona\\anaconda3\\lib\\site-packages (from requests<3.0.0,>=2.13.0->spacy) (2.0.4)\n",
      "Requirement already satisfied: idna<4,>=2.5 in c:\\users\\leona\\anaconda3\\lib\\site-packages (from requests<3.0.0,>=2.13.0->spacy) (2.10)\n",
      "Requirement already satisfied: urllib3<3,>=1.21.1 in c:\\users\\leona\\anaconda3\\lib\\site-packages (from requests<3.0.0,>=2.13.0->spacy) (1.26.16)\n",
      "Requirement already satisfied: certifi>=2017.4.17 in c:\\users\\leona\\anaconda3\\lib\\site-packages (from requests<3.0.0,>=2.13.0->spacy) (2023.7.22)\n",
      "Requirement already satisfied: blis<0.8.0,>=0.7.8 in c:\\users\\leona\\anaconda3\\lib\\site-packages (from thinc<8.3.0,>=8.1.8->spacy) (0.7.11)\n",
      "Requirement already satisfied: confection<1.0.0,>=0.0.1 in c:\\users\\leona\\anaconda3\\lib\\site-packages (from thinc<8.3.0,>=8.1.8->spacy) (0.1.4)\n",
      "Requirement already satisfied: colorama in c:\\users\\leona\\anaconda3\\lib\\site-packages (from tqdm<5.0.0,>=4.38.0->spacy) (0.4.6)\n",
      "Requirement already satisfied: click<9.0.0,>=7.1.1 in c:\\users\\leona\\anaconda3\\lib\\site-packages (from typer<0.10.0,>=0.3.0->spacy) (8.0.4)\n",
      "Requirement already satisfied: cloudpathlib<0.17.0,>=0.7.0 in c:\\users\\leona\\anaconda3\\lib\\site-packages (from weasel<0.4.0,>=0.1.0->spacy) (0.16.0)\n",
      "Requirement already satisfied: MarkupSafe>=2.0 in c:\\users\\leona\\anaconda3\\lib\\site-packages (from jinja2->spacy) (2.1.1)\n"
     ]
    }
   ],
   "source": [
    "pip install spacy\n"
   ]
  },
  {
   "cell_type": "code",
   "execution_count": 19,
   "id": "304fc3a4",
   "metadata": {},
   "outputs": [
    {
     "name": "stdout",
     "output_type": "stream",
     "text": [
      "Collecting en-core-web-sm==3.7.1\n",
      "  Downloading https://github.com/explosion/spacy-models/releases/download/en_core_web_sm-3.7.1/en_core_web_sm-3.7.1-py3-none-any.whl (12.8 MB)\n",
      "     ---------------------------------------- 0.0/12.8 MB ? eta -:--:--\n",
      "     ---------------------------------------- 0.0/12.8 MB ? eta -:--:--\n",
      "     ---------------------------------------- 0.0/12.8 MB ? eta -:--:--\n",
      "     --------------------------------------- 0.0/12.8 MB 325.1 kB/s eta 0:00:40\n",
      "     --------------------------------------- 0.1/12.8 MB 465.5 kB/s eta 0:00:28\n",
      "     - -------------------------------------- 0.5/12.8 MB 3.0 MB/s eta 0:00:05\n",
      "     --- ------------------------------------ 1.1/12.8 MB 5.2 MB/s eta 0:00:03\n",
      "     ------ --------------------------------- 1.9/12.8 MB 7.2 MB/s eta 0:00:02\n",
      "     --------- ------------------------------ 2.9/12.8 MB 9.4 MB/s eta 0:00:02\n",
      "     ------------ --------------------------- 4.1/12.8 MB 11.3 MB/s eta 0:00:01\n",
      "     ----------------- ---------------------- 5.5/12.8 MB 13.6 MB/s eta 0:00:01\n",
      "     --------------------- ------------------ 7.0/12.8 MB 14.9 MB/s eta 0:00:01\n",
      "     ------------------------- -------------- 8.3/12.8 MB 16.1 MB/s eta 0:00:01\n",
      "     ----------------------------- ---------- 9.5/12.8 MB 16.9 MB/s eta 0:00:01\n",
      "     -------------------------------- ------ 10.7/12.8 MB 23.4 MB/s eta 0:00:01\n",
      "     ----------------------------------- --- 11.8/12.8 MB 24.3 MB/s eta 0:00:01\n",
      "     --------------------------------------  12.8/12.8 MB 26.2 MB/s eta 0:00:01\n",
      "     --------------------------------------  12.8/12.8 MB 26.2 MB/s eta 0:00:01\n",
      "     --------------------------------------  12.8/12.8 MB 26.2 MB/s eta 0:00:01\n",
      "     --------------------------------------- 12.8/12.8 MB 18.7 MB/s eta 0:00:00\n",
      "Requirement already satisfied: spacy<3.8.0,>=3.7.2 in c:\\users\\leona\\anaconda3\\lib\\site-packages (from en-core-web-sm==3.7.1) (3.7.2)\n",
      "Requirement already satisfied: spacy-legacy<3.1.0,>=3.0.11 in c:\\users\\leona\\anaconda3\\lib\\site-packages (from spacy<3.8.0,>=3.7.2->en-core-web-sm==3.7.1) (3.0.12)\n",
      "Requirement already satisfied: spacy-loggers<2.0.0,>=1.0.0 in c:\\users\\leona\\anaconda3\\lib\\site-packages (from spacy<3.8.0,>=3.7.2->en-core-web-sm==3.7.1) (1.0.5)\n",
      "Requirement already satisfied: murmurhash<1.1.0,>=0.28.0 in c:\\users\\leona\\anaconda3\\lib\\site-packages (from spacy<3.8.0,>=3.7.2->en-core-web-sm==3.7.1) (1.0.10)\n",
      "Requirement already satisfied: cymem<2.1.0,>=2.0.2 in c:\\users\\leona\\anaconda3\\lib\\site-packages (from spacy<3.8.0,>=3.7.2->en-core-web-sm==3.7.1) (2.0.8)\n",
      "Requirement already satisfied: preshed<3.1.0,>=3.0.2 in c:\\users\\leona\\anaconda3\\lib\\site-packages (from spacy<3.8.0,>=3.7.2->en-core-web-sm==3.7.1) (3.0.9)\n",
      "Requirement already satisfied: thinc<8.3.0,>=8.1.8 in c:\\users\\leona\\anaconda3\\lib\\site-packages (from spacy<3.8.0,>=3.7.2->en-core-web-sm==3.7.1) (8.2.2)\n",
      "Requirement already satisfied: wasabi<1.2.0,>=0.9.1 in c:\\users\\leona\\anaconda3\\lib\\site-packages (from spacy<3.8.0,>=3.7.2->en-core-web-sm==3.7.1) (1.1.2)\n",
      "Requirement already satisfied: srsly<3.0.0,>=2.4.3 in c:\\users\\leona\\anaconda3\\lib\\site-packages (from spacy<3.8.0,>=3.7.2->en-core-web-sm==3.7.1) (2.4.8)\n",
      "Requirement already satisfied: catalogue<2.1.0,>=2.0.6 in c:\\users\\leona\\anaconda3\\lib\\site-packages (from spacy<3.8.0,>=3.7.2->en-core-web-sm==3.7.1) (2.0.10)\n",
      "Requirement already satisfied: weasel<0.4.0,>=0.1.0 in c:\\users\\leona\\anaconda3\\lib\\site-packages (from spacy<3.8.0,>=3.7.2->en-core-web-sm==3.7.1) (0.3.4)\n",
      "Requirement already satisfied: typer<0.10.0,>=0.3.0 in c:\\users\\leona\\anaconda3\\lib\\site-packages (from spacy<3.8.0,>=3.7.2->en-core-web-sm==3.7.1) (0.9.0)\n",
      "Requirement already satisfied: smart-open<7.0.0,>=5.2.1 in c:\\users\\leona\\anaconda3\\lib\\site-packages (from spacy<3.8.0,>=3.7.2->en-core-web-sm==3.7.1) (5.2.1)\n",
      "Requirement already satisfied: tqdm<5.0.0,>=4.38.0 in c:\\users\\leona\\anaconda3\\lib\\site-packages (from spacy<3.8.0,>=3.7.2->en-core-web-sm==3.7.1) (4.65.0)\n",
      "Requirement already satisfied: requests<3.0.0,>=2.13.0 in c:\\users\\leona\\anaconda3\\lib\\site-packages (from spacy<3.8.0,>=3.7.2->en-core-web-sm==3.7.1) (2.31.0)\n",
      "Requirement already satisfied: pydantic!=1.8,!=1.8.1,<3.0.0,>=1.7.4 in c:\\users\\leona\\anaconda3\\lib\\site-packages (from spacy<3.8.0,>=3.7.2->en-core-web-sm==3.7.1) (2.5.3)\n",
      "Requirement already satisfied: jinja2 in c:\\users\\leona\\anaconda3\\lib\\site-packages (from spacy<3.8.0,>=3.7.2->en-core-web-sm==3.7.1) (3.1.2)\n",
      "Requirement already satisfied: setuptools in c:\\users\\leona\\anaconda3\\lib\\site-packages (from spacy<3.8.0,>=3.7.2->en-core-web-sm==3.7.1) (68.0.0)\n",
      "Requirement already satisfied: packaging>=20.0 in c:\\users\\leona\\anaconda3\\lib\\site-packages (from spacy<3.8.0,>=3.7.2->en-core-web-sm==3.7.1) (23.1)\n",
      "Requirement already satisfied: langcodes<4.0.0,>=3.2.0 in c:\\users\\leona\\anaconda3\\lib\\site-packages (from spacy<3.8.0,>=3.7.2->en-core-web-sm==3.7.1) (3.3.0)\n",
      "Requirement already satisfied: numpy>=1.19.0 in c:\\users\\leona\\anaconda3\\lib\\site-packages (from spacy<3.8.0,>=3.7.2->en-core-web-sm==3.7.1) (1.23.5)\n",
      "Requirement already satisfied: annotated-types>=0.4.0 in c:\\users\\leona\\anaconda3\\lib\\site-packages (from pydantic!=1.8,!=1.8.1,<3.0.0,>=1.7.4->spacy<3.8.0,>=3.7.2->en-core-web-sm==3.7.1) (0.6.0)\n",
      "Requirement already satisfied: pydantic-core==2.14.6 in c:\\users\\leona\\anaconda3\\lib\\site-packages (from pydantic!=1.8,!=1.8.1,<3.0.0,>=1.7.4->spacy<3.8.0,>=3.7.2->en-core-web-sm==3.7.1) (2.14.6)\n",
      "Requirement already satisfied: typing-extensions>=4.6.1 in c:\\users\\leona\\anaconda3\\lib\\site-packages (from pydantic!=1.8,!=1.8.1,<3.0.0,>=1.7.4->spacy<3.8.0,>=3.7.2->en-core-web-sm==3.7.1) (4.7.1)\n",
      "Requirement already satisfied: charset-normalizer<4,>=2 in c:\\users\\leona\\anaconda3\\lib\\site-packages (from requests<3.0.0,>=2.13.0->spacy<3.8.0,>=3.7.2->en-core-web-sm==3.7.1) (2.0.4)\n",
      "Requirement already satisfied: idna<4,>=2.5 in c:\\users\\leona\\anaconda3\\lib\\site-packages (from requests<3.0.0,>=2.13.0->spacy<3.8.0,>=3.7.2->en-core-web-sm==3.7.1) (2.10)\n",
      "Requirement already satisfied: urllib3<3,>=1.21.1 in c:\\users\\leona\\anaconda3\\lib\\site-packages (from requests<3.0.0,>=2.13.0->spacy<3.8.0,>=3.7.2->en-core-web-sm==3.7.1) (1.26.16)\n",
      "Requirement already satisfied: certifi>=2017.4.17 in c:\\users\\leona\\anaconda3\\lib\\site-packages (from requests<3.0.0,>=2.13.0->spacy<3.8.0,>=3.7.2->en-core-web-sm==3.7.1) (2023.7.22)\n",
      "Requirement already satisfied: blis<0.8.0,>=0.7.8 in c:\\users\\leona\\anaconda3\\lib\\site-packages (from thinc<8.3.0,>=8.1.8->spacy<3.8.0,>=3.7.2->en-core-web-sm==3.7.1) (0.7.11)\n",
      "Requirement already satisfied: confection<1.0.0,>=0.0.1 in c:\\users\\leona\\anaconda3\\lib\\site-packages (from thinc<8.3.0,>=8.1.8->spacy<3.8.0,>=3.7.2->en-core-web-sm==3.7.1) (0.1.4)\n",
      "Requirement already satisfied: colorama in c:\\users\\leona\\anaconda3\\lib\\site-packages (from tqdm<5.0.0,>=4.38.0->spacy<3.8.0,>=3.7.2->en-core-web-sm==3.7.1) (0.4.6)\n",
      "Requirement already satisfied: click<9.0.0,>=7.1.1 in c:\\users\\leona\\anaconda3\\lib\\site-packages (from typer<0.10.0,>=0.3.0->spacy<3.8.0,>=3.7.2->en-core-web-sm==3.7.1) (8.0.4)\n",
      "Requirement already satisfied: cloudpathlib<0.17.0,>=0.7.0 in c:\\users\\leona\\anaconda3\\lib\\site-packages (from weasel<0.4.0,>=0.1.0->spacy<3.8.0,>=3.7.2->en-core-web-sm==3.7.1) (0.16.0)\n",
      "Requirement already satisfied: MarkupSafe>=2.0 in c:\\users\\leona\\anaconda3\\lib\\site-packages (from jinja2->spacy<3.8.0,>=3.7.2->en-core-web-sm==3.7.1) (2.1.1)\n",
      "\u001b[38;5;2m✔ Download and installation successful\u001b[0m\n",
      "You can now load the package via spacy.load('en_core_web_sm')\n"
     ]
    }
   ],
   "source": [
    "!python -m spacy download en_core_web_sm"
   ]
  },
  {
   "cell_type": "code",
   "execution_count": 20,
   "id": "343db00b",
   "metadata": {},
   "outputs": [
    {
     "name": "stdout",
     "output_type": "stream",
     "text": [
      "Results:\n",
      "- The house is big.\n",
      "- Houses are large.\n"
     ]
    }
   ],
   "source": [
    "import spacy\n",
    "\n",
    "def search_word_lemmatization(texts, word_to_search):\n",
    "    nlp = spacy.load(\"en_core_web_sm\")\n",
    "\n",
    "    analyzed_word = nlp(word_to_search)\n",
    "\n",
    "    word_lemma = analyzed_word[0].lemma_\n",
    "\n",
    "    results = []\n",
    "    for text in texts:\n",
    "        doc = nlp(text)\n",
    "        for token in doc:\n",
    "            if token.text.lower() == word_to_search.lower() or token.lemma_.lower() == word_lemma.lower():\n",
    "                results.append(text)\n",
    "                break\n",
    "\n",
    "    return results\n",
    "\n",
    "# Example of usage\n",
    "texts = [\"The house is big.\", \"Houses are large.\", \"This is an example.\"]\n",
    "word_to_search = \"houses\"\n",
    "\n",
    "results = search_word_lemmatization(texts, word_to_search)\n",
    "\n",
    "print(\"Results:\")\n",
    "for result in results:\n",
    "    print(\"-\", result)\n"
   ]
  },
  {
   "cell_type": "markdown",
   "id": "3accd9a7",
   "metadata": {},
   "source": [
    "### Malwares Name Search "
   ]
  },
  {
   "cell_type": "code",
   "execution_count": 21,
   "id": "332e7b97",
   "metadata": {},
   "outputs": [
    {
     "name": "stdout",
     "output_type": "stream",
     "text": [
      "Requirement already satisfied: googletrans==4.0.0-rc1 in c:\\users\\leona\\anaconda3\\lib\\site-packages (4.0.0rc1)\n",
      "Requirement already satisfied: httpx==0.13.3 in c:\\users\\leona\\anaconda3\\lib\\site-packages (from googletrans==4.0.0-rc1) (0.13.3)\n",
      "Requirement already satisfied: certifi in c:\\users\\leona\\anaconda3\\lib\\site-packages (from httpx==0.13.3->googletrans==4.0.0-rc1) (2023.7.22)\n",
      "Requirement already satisfied: hstspreload in c:\\users\\leona\\anaconda3\\lib\\site-packages (from httpx==0.13.3->googletrans==4.0.0-rc1) (2024.1.5)\n",
      "Requirement already satisfied: sniffio in c:\\users\\leona\\anaconda3\\lib\\site-packages (from httpx==0.13.3->googletrans==4.0.0-rc1) (1.2.0)\n",
      "Requirement already satisfied: chardet==3.* in c:\\users\\leona\\anaconda3\\lib\\site-packages (from httpx==0.13.3->googletrans==4.0.0-rc1) (3.0.4)\n",
      "Requirement already satisfied: idna==2.* in c:\\users\\leona\\anaconda3\\lib\\site-packages (from httpx==0.13.3->googletrans==4.0.0-rc1) (2.10)\n",
      "Requirement already satisfied: rfc3986<2,>=1.3 in c:\\users\\leona\\anaconda3\\lib\\site-packages (from httpx==0.13.3->googletrans==4.0.0-rc1) (1.5.0)\n",
      "Requirement already satisfied: httpcore==0.9.* in c:\\users\\leona\\anaconda3\\lib\\site-packages (from httpx==0.13.3->googletrans==4.0.0-rc1) (0.9.1)\n",
      "Requirement already satisfied: h11<0.10,>=0.8 in c:\\users\\leona\\anaconda3\\lib\\site-packages (from httpcore==0.9.*->httpx==0.13.3->googletrans==4.0.0-rc1) (0.9.0)\n",
      "Requirement already satisfied: h2==3.* in c:\\users\\leona\\anaconda3\\lib\\site-packages (from httpcore==0.9.*->httpx==0.13.3->googletrans==4.0.0-rc1) (3.2.0)\n",
      "Requirement already satisfied: hyperframe<6,>=5.2.0 in c:\\users\\leona\\anaconda3\\lib\\site-packages (from h2==3.*->httpcore==0.9.*->httpx==0.13.3->googletrans==4.0.0-rc1) (5.2.0)\n",
      "Requirement already satisfied: hpack<4,>=3.0 in c:\\users\\leona\\anaconda3\\lib\\site-packages (from h2==3.*->httpcore==0.9.*->httpx==0.13.3->googletrans==4.0.0-rc1) (3.0.0)\n",
      "Note: you may need to restart the kernel to use updated packages.\n"
     ]
    }
   ],
   "source": [
    "pip install googletrans==4.0.0-rc1"
   ]
  },
  {
   "cell_type": "markdown",
   "id": "4cf21dea",
   "metadata": {},
   "source": [
    "### Data Cleaning"
   ]
  },
  {
   "cell_type": "code",
   "execution_count": 22,
   "id": "8cb3d738",
   "metadata": {},
   "outputs": [],
   "source": [
    "from googletrans import Translator\n",
    "from requests.exceptions import HTTPError\n",
    "\n",
    "\n",
    "def translate_to_english(text, target_language='en'):\n",
    "    \n",
    "    translator = Translator()\n",
    "    try:\n",
    "\n",
    "        translation = translator.translate(text, dest=target_language)\n",
    "        time.sleep(1) \n",
    "        return translation.text\n",
    "    \n",
    "    except HTTPError as e:\n",
    "        print(f\"HTTP error occurred: {e}\")\n",
    "        \n",
    "    except Exception as e:\n",
    "        print(f\"An error occurred: {e}\")\n",
    "        time.sleep(1) \n",
    "\n",
    "    # Return the original text in case of an error\n",
    "    return text"
   ]
  },
  {
   "cell_type": "markdown",
   "id": "eecdc737",
   "metadata": {},
   "source": [
    "#### Imputation"
   ]
  },
  {
   "cell_type": "code",
   "execution_count": 23,
   "id": "e43cbf58",
   "metadata": {},
   "outputs": [
    {
     "data": {
      "text/html": [
       "<div>\n",
       "<style scoped>\n",
       "    .dataframe tbody tr th:only-of-type {\n",
       "        vertical-align: middle;\n",
       "    }\n",
       "\n",
       "    .dataframe tbody tr th {\n",
       "        vertical-align: top;\n",
       "    }\n",
       "\n",
       "    .dataframe thead th {\n",
       "        text-align: right;\n",
       "    }\n",
       "</style>\n",
       "<table border=\"1\" class=\"dataframe\">\n",
       "  <thead>\n",
       "    <tr style=\"text-align: right;\">\n",
       "      <th></th>\n",
       "      <th>subreddit</th>\n",
       "      <th>username</th>\n",
       "      <th>date</th>\n",
       "      <th>title</th>\n",
       "      <th>text</th>\n",
       "    </tr>\n",
       "  </thead>\n",
       "  <tbody>\n",
       "    <tr>\n",
       "      <th>0</th>\n",
       "      <td>netsec</td>\n",
       "      <td>t3_18i5ups</td>\n",
       "      <td>2023-12-14 11:36:39</td>\n",
       "      <td>Nim implementation of Old Dll Unlinking Technique</td>\n",
       "      <td></td>\n",
       "    </tr>\n",
       "    <tr>\n",
       "      <th>1</th>\n",
       "      <td>cybersecurity</td>\n",
       "      <td>t3_18i5v5x</td>\n",
       "      <td>2023-12-14 11:37:34</td>\n",
       "      <td>How to prevent employees from using unauthorized web tools?</td>\n",
       "      <td>I work as an IT manager for a business. Some time ago, a group of my colleagues decided to use a web productivity tool, created accounts using their work emails, and started introducing data.\\n\\nI had no knowledge they had been using such a tool at all. I did not even know it existed.\\n\\nToday, I received an email from my boss asking why an ex-employee still had access to the data in such a web platform, as their account hadn't been deactivated. Needless to say, I don't have access to revoke their account or anything.\\n\\nHow can I prevent them from registering on another unauthorized webpage?\\n\\nI feel like a firewall blacklist would be useless since I would have to be constantly researching and updating it with new tools, and I can't make a whitelist since my company uses a ton of different pages for intense web research.\\n\\nAny help or advice would be appreciated.\\n\\n&amp;#x200B;</td>\n",
       "    </tr>\n",
       "    <tr>\n",
       "      <th>2</th>\n",
       "      <td>MacOS</td>\n",
       "      <td>t3_18i5kyd</td>\n",
       "      <td>2023-12-14 11:17:47</td>\n",
       "      <td>Teams call pop up window blocked by reminders/calendar entries on top right corner</td>\n",
       "      <td>Hi\\n\\nDo you know this issue that when I have reminders or calendar alarms set to stick to the top right corner, that they then block the notification window for incoming Teams calls.\\n\\nDoes someone know if there is a setting for having the teams call pop up in on another location on the screen or knows another work around?</td>\n",
       "    </tr>\n",
       "    <tr>\n",
       "      <th>3</th>\n",
       "      <td>MacOS</td>\n",
       "      <td>t3_18i5koq</td>\n",
       "      <td>2023-12-14 11:17:16</td>\n",
       "      <td>Disable middle mouse button drag to other desktop</td>\n",
       "      <td>So I have been using windows for a while and now I am stumped. The middle mouse button of my logi mouse has the following functionailty: On drage change desktop, on click show all windows. That's nice and all, but I can't use fusion 360 because the dragging functionality is the middle mouse button but that just changes the desktop. How can I disable that?\\n\\n&amp;#x200B;\\n\\nSo I found this, but there is no button selected. If I select the secondary mouse button for example, it will open mission control on both right click and middle mouse button:\\n\\nhttps://preview.redd.it/bmqnrpw0m86c1.png?width=476&amp;format=png&amp;auto=webp&amp;s=97ae662fcca43bf146537393fc6a13705a0a9351\\n\\n&amp;#x200B;</td>\n",
       "    </tr>\n",
       "    <tr>\n",
       "      <th>4</th>\n",
       "      <td>windows</td>\n",
       "      <td>t3_18i5gqv</td>\n",
       "      <td>2023-12-14 11:09:52</td>\n",
       "      <td>Playing 4k videos on 2k display</td>\n",
       "      <td>Hello guys does playing 4k content on a 2k display has any benefit? For example while playing YouTube videos I set 1440p resolution on my 2k laptop and 2k smartphone despite having a option of selecting 2160p option. So i wanted to ask if i get better video quality if i select 2160p option while playing on a 2k display?</td>\n",
       "    </tr>\n",
       "  </tbody>\n",
       "</table>\n",
       "</div>"
      ],
      "text/plain": [
       "       subreddit    username                 date  \\\n",
       "0         netsec  t3_18i5ups  2023-12-14 11:36:39   \n",
       "1  cybersecurity  t3_18i5v5x  2023-12-14 11:37:34   \n",
       "2          MacOS  t3_18i5kyd  2023-12-14 11:17:47   \n",
       "3          MacOS  t3_18i5koq  2023-12-14 11:17:16   \n",
       "4        windows  t3_18i5gqv  2023-12-14 11:09:52   \n",
       "\n",
       "                                                                                title  \\\n",
       "0                                   Nim implementation of Old Dll Unlinking Technique   \n",
       "1                         How to prevent employees from using unauthorized web tools?   \n",
       "2  Teams call pop up window blocked by reminders/calendar entries on top right corner   \n",
       "3                                   Disable middle mouse button drag to other desktop   \n",
       "4                                                     Playing 4k videos on 2k display   \n",
       "\n",
       "                                                                                                                                                                                                                                                                                                                                                                                                                                                                                                                                                                                                                                                                                                                                                                                                                                                                                                                         text  \n",
       "0                                                                                                                                                                                                                                                                                                                                                                                                                                                                                                                                                                                                                                                                                                                                                                                                                                                                                                                              \n",
       "1  I work as an IT manager for a business. Some time ago, a group of my colleagues decided to use a web productivity tool, created accounts using their work emails, and started introducing data.\\n\\nI had no knowledge they had been using such a tool at all. I did not even know it existed.\\n\\nToday, I received an email from my boss asking why an ex-employee still had access to the data in such a web platform, as their account hadn't been deactivated. Needless to say, I don't have access to revoke their account or anything.\\n\\nHow can I prevent them from registering on another unauthorized webpage?\\n\\nI feel like a firewall blacklist would be useless since I would have to be constantly researching and updating it with new tools, and I can't make a whitelist since my company uses a ton of different pages for intense web research.\\n\\nAny help or advice would be appreciated.\\n\\n&#x200B;  \n",
       "2                                                                                                                                                                                                                                                                                                                                                                                                                                                                                                                                                                                      Hi\\n\\nDo you know this issue that when I have reminders or calendar alarms set to stick to the top right corner, that they then block the notification window for incoming Teams calls.\\n\\nDoes someone know if there is a setting for having the teams call pop up in on another location on the screen or knows another work around?  \n",
       "3                                                                                                                                                                                                                     So I have been using windows for a while and now I am stumped. The middle mouse button of my logi mouse has the following functionailty: On drage change desktop, on click show all windows. That's nice and all, but I can't use fusion 360 because the dragging functionality is the middle mouse button but that just changes the desktop. How can I disable that?\\n\\n&#x200B;\\n\\nSo I found this, but there is no button selected. If I select the secondary mouse button for example, it will open mission control on both right click and middle mouse button:\\n\\nhttps://preview.redd.it/bmqnrpw0m86c1.png?width=476&format=png&auto=webp&s=97ae662fcca43bf146537393fc6a13705a0a9351\\n\\n&#x200B;  \n",
       "4                                                                                                                                                                                                                                                                                                                                                                                                                                                                                                                                                                                           Hello guys does playing 4k content on a 2k display has any benefit? For example while playing YouTube videos I set 1440p resolution on my 2k laptop and 2k smartphone despite having a option of selecting 2160p option. So i wanted to ask if i get better video quality if i select 2160p option while playing on a 2k display?  "
      ]
     },
     "execution_count": 23,
     "metadata": {},
     "output_type": "execute_result"
    }
   ],
   "source": [
    "df_reddit['text'] = df_reddit['text'].fillna('')\n",
    "df_reddit['title'] = df_reddit['title'].fillna('')\n",
    "df_reddit.head()"
   ]
  },
  {
   "cell_type": "markdown",
   "id": "a09616b8",
   "metadata": {},
   "source": [
    "#### Column Filtering\n",
    "- Drop 'json' column -> useless"
   ]
  },
  {
   "cell_type": "code",
   "execution_count": 24,
   "id": "51257216",
   "metadata": {},
   "outputs": [
    {
     "data": {
      "text/html": [
       "<div>\n",
       "<style scoped>\n",
       "    .dataframe tbody tr th:only-of-type {\n",
       "        vertical-align: middle;\n",
       "    }\n",
       "\n",
       "    .dataframe tbody tr th {\n",
       "        vertical-align: top;\n",
       "    }\n",
       "\n",
       "    .dataframe thead th {\n",
       "        text-align: right;\n",
       "    }\n",
       "</style>\n",
       "<table border=\"1\" class=\"dataframe\">\n",
       "  <thead>\n",
       "    <tr style=\"text-align: right;\">\n",
       "      <th></th>\n",
       "      <th>subreddit</th>\n",
       "      <th>username</th>\n",
       "      <th>date</th>\n",
       "      <th>title</th>\n",
       "      <th>text</th>\n",
       "    </tr>\n",
       "  </thead>\n",
       "  <tbody>\n",
       "    <tr>\n",
       "      <th>50</th>\n",
       "      <td>hacking</td>\n",
       "      <td>t3_18i4tio</td>\n",
       "      <td>2023-12-14 10:22:21</td>\n",
       "      <td>Trains were designed to break down after third-party repairs, hackers find</td>\n",
       "      <td>https://arstechnica.com/tech-policy/2023/12/manufacturer-deliberately-bricked-trains-repaired-by-competitors-hackers-find/</td>\n",
       "    </tr>\n",
       "  </tbody>\n",
       "</table>\n",
       "</div>"
      ],
      "text/plain": [
       "   subreddit    username                 date  \\\n",
       "50   hacking  t3_18i4tio  2023-12-14 10:22:21   \n",
       "\n",
       "                                                                         title  \\\n",
       "50  Trains were designed to break down after third-party repairs, hackers find   \n",
       "\n",
       "                                                                                                                          text  \n",
       "50  https://arstechnica.com/tech-policy/2023/12/manufacturer-deliberately-bricked-trains-repaired-by-competitors-hackers-find/  "
      ]
     },
     "execution_count": 24,
     "metadata": {},
     "output_type": "execute_result"
    }
   ],
   "source": [
    "pd.DataFrame(df_reddit.loc[50]).T"
   ]
  },
  {
   "cell_type": "markdown",
   "id": "918df88e",
   "metadata": {},
   "source": [
    "#### Normalization\n",
    "- Convert each text and title of each post to the same language : english"
   ]
  },
  {
   "cell_type": "code",
   "execution_count": 25,
   "id": "c3d8f35e",
   "metadata": {},
   "outputs": [
    {
     "data": {
      "text/plain": [
       "\"\\n\\nfor i in range(len(df_reddit)):\\n    \\n    print(i)\\n    \\n    title = df_reddit.at[i, 'title']\\n    text = df_reddit.at[i, 'text']\\n    \\n    if(pd.isna(text) == False):\\n        new_text = translate_to_english(text)\\n        df_reddit.loc[i, 'text'] = new_text\\n\\n\\n    if(pd.isna(title) == False):\\n        new_title = translate_to_english(title)\\n        df_reddit.loc[i, 'title'] = new_title\\n        \\ndf_reddit        \\n\\n\""
      ]
     },
     "execution_count": 25,
     "metadata": {},
     "output_type": "execute_result"
    }
   ],
   "source": [
    "'''\n",
    "\n",
    "for i in range(len(df_reddit)):\n",
    "    \n",
    "    print(i)\n",
    "    \n",
    "    title = df_reddit.at[i, 'title']\n",
    "    text = df_reddit.at[i, 'text']\n",
    "    \n",
    "    if(pd.isna(text) == False):\n",
    "        new_text = translate_to_english(text)\n",
    "        df_reddit.loc[i, 'text'] = new_text\n",
    "\n",
    "\n",
    "    if(pd.isna(title) == False):\n",
    "        new_title = translate_to_english(title)\n",
    "        df_reddit.loc[i, 'title'] = new_title\n",
    "        \n",
    "df_reddit        \n",
    "\n",
    "'''"
   ]
  },
  {
   "cell_type": "markdown",
   "id": "383140c4",
   "metadata": {},
   "source": [
    "#### Data Type Conversion"
   ]
  },
  {
   "cell_type": "code",
   "execution_count": 26,
   "id": "765b9ce0",
   "metadata": {},
   "outputs": [
    {
     "data": {
      "text/html": [
       "<div>\n",
       "<style scoped>\n",
       "    .dataframe tbody tr th:only-of-type {\n",
       "        vertical-align: middle;\n",
       "    }\n",
       "\n",
       "    .dataframe tbody tr th {\n",
       "        vertical-align: top;\n",
       "    }\n",
       "\n",
       "    .dataframe thead th {\n",
       "        text-align: right;\n",
       "    }\n",
       "</style>\n",
       "<table border=\"1\" class=\"dataframe\">\n",
       "  <thead>\n",
       "    <tr style=\"text-align: right;\">\n",
       "      <th></th>\n",
       "      <th>subreddit</th>\n",
       "      <th>username</th>\n",
       "      <th>date</th>\n",
       "      <th>title</th>\n",
       "      <th>text</th>\n",
       "    </tr>\n",
       "  </thead>\n",
       "  <tbody>\n",
       "    <tr>\n",
       "      <th>0</th>\n",
       "      <td>netsec</td>\n",
       "      <td>t3_18i5ups</td>\n",
       "      <td>2023-12-14</td>\n",
       "      <td>Nim implementation of Old Dll Unlinking Technique</td>\n",
       "      <td></td>\n",
       "    </tr>\n",
       "    <tr>\n",
       "      <th>1</th>\n",
       "      <td>cybersecurity</td>\n",
       "      <td>t3_18i5v5x</td>\n",
       "      <td>2023-12-14</td>\n",
       "      <td>How to prevent employees from using unauthorized web tools?</td>\n",
       "      <td>I work as an IT manager for a business. Some time ago, a group of my colleagues decided to use a web productivity tool, created accounts using their work emails, and started introducing data.\\n\\nI had no knowledge they had been using such a tool at all. I did not even know it existed.\\n\\nToday, I received an email from my boss asking why an ex-employee still had access to the data in such a web platform, as their account hadn't been deactivated. Needless to say, I don't have access to revoke their account or anything.\\n\\nHow can I prevent them from registering on another unauthorized webpage?\\n\\nI feel like a firewall blacklist would be useless since I would have to be constantly researching and updating it with new tools, and I can't make a whitelist since my company uses a ton of different pages for intense web research.\\n\\nAny help or advice would be appreciated.\\n\\n&amp;#x200B;</td>\n",
       "    </tr>\n",
       "    <tr>\n",
       "      <th>2</th>\n",
       "      <td>MacOS</td>\n",
       "      <td>t3_18i5kyd</td>\n",
       "      <td>2023-12-14</td>\n",
       "      <td>Teams call pop up window blocked by reminders/calendar entries on top right corner</td>\n",
       "      <td>Hi\\n\\nDo you know this issue that when I have reminders or calendar alarms set to stick to the top right corner, that they then block the notification window for incoming Teams calls.\\n\\nDoes someone know if there is a setting for having the teams call pop up in on another location on the screen or knows another work around?</td>\n",
       "    </tr>\n",
       "    <tr>\n",
       "      <th>3</th>\n",
       "      <td>MacOS</td>\n",
       "      <td>t3_18i5koq</td>\n",
       "      <td>2023-12-14</td>\n",
       "      <td>Disable middle mouse button drag to other desktop</td>\n",
       "      <td>So I have been using windows for a while and now I am stumped. The middle mouse button of my logi mouse has the following functionailty: On drage change desktop, on click show all windows. That's nice and all, but I can't use fusion 360 because the dragging functionality is the middle mouse button but that just changes the desktop. How can I disable that?\\n\\n&amp;#x200B;\\n\\nSo I found this, but there is no button selected. If I select the secondary mouse button for example, it will open mission control on both right click and middle mouse button:\\n\\nhttps://preview.redd.it/bmqnrpw0m86c1.png?width=476&amp;format=png&amp;auto=webp&amp;s=97ae662fcca43bf146537393fc6a13705a0a9351\\n\\n&amp;#x200B;</td>\n",
       "    </tr>\n",
       "    <tr>\n",
       "      <th>4</th>\n",
       "      <td>windows</td>\n",
       "      <td>t3_18i5gqv</td>\n",
       "      <td>2023-12-14</td>\n",
       "      <td>Playing 4k videos on 2k display</td>\n",
       "      <td>Hello guys does playing 4k content on a 2k display has any benefit? For example while playing YouTube videos I set 1440p resolution on my 2k laptop and 2k smartphone despite having a option of selecting 2160p option. So i wanted to ask if i get better video quality if i select 2160p option while playing on a 2k display?</td>\n",
       "    </tr>\n",
       "  </tbody>\n",
       "</table>\n",
       "</div>"
      ],
      "text/plain": [
       "       subreddit    username        date  \\\n",
       "0         netsec  t3_18i5ups  2023-12-14   \n",
       "1  cybersecurity  t3_18i5v5x  2023-12-14   \n",
       "2          MacOS  t3_18i5kyd  2023-12-14   \n",
       "3          MacOS  t3_18i5koq  2023-12-14   \n",
       "4        windows  t3_18i5gqv  2023-12-14   \n",
       "\n",
       "                                                                                title  \\\n",
       "0                                   Nim implementation of Old Dll Unlinking Technique   \n",
       "1                         How to prevent employees from using unauthorized web tools?   \n",
       "2  Teams call pop up window blocked by reminders/calendar entries on top right corner   \n",
       "3                                   Disable middle mouse button drag to other desktop   \n",
       "4                                                     Playing 4k videos on 2k display   \n",
       "\n",
       "                                                                                                                                                                                                                                                                                                                                                                                                                                                                                                                                                                                                                                                                                                                                                                                                                                                                                                                         text  \n",
       "0                                                                                                                                                                                                                                                                                                                                                                                                                                                                                                                                                                                                                                                                                                                                                                                                                                                                                                                              \n",
       "1  I work as an IT manager for a business. Some time ago, a group of my colleagues decided to use a web productivity tool, created accounts using their work emails, and started introducing data.\\n\\nI had no knowledge they had been using such a tool at all. I did not even know it existed.\\n\\nToday, I received an email from my boss asking why an ex-employee still had access to the data in such a web platform, as their account hadn't been deactivated. Needless to say, I don't have access to revoke their account or anything.\\n\\nHow can I prevent them from registering on another unauthorized webpage?\\n\\nI feel like a firewall blacklist would be useless since I would have to be constantly researching and updating it with new tools, and I can't make a whitelist since my company uses a ton of different pages for intense web research.\\n\\nAny help or advice would be appreciated.\\n\\n&#x200B;  \n",
       "2                                                                                                                                                                                                                                                                                                                                                                                                                                                                                                                                                                                      Hi\\n\\nDo you know this issue that when I have reminders or calendar alarms set to stick to the top right corner, that they then block the notification window for incoming Teams calls.\\n\\nDoes someone know if there is a setting for having the teams call pop up in on another location on the screen or knows another work around?  \n",
       "3                                                                                                                                                                                                                     So I have been using windows for a while and now I am stumped. The middle mouse button of my logi mouse has the following functionailty: On drage change desktop, on click show all windows. That's nice and all, but I can't use fusion 360 because the dragging functionality is the middle mouse button but that just changes the desktop. How can I disable that?\\n\\n&#x200B;\\n\\nSo I found this, but there is no button selected. If I select the secondary mouse button for example, it will open mission control on both right click and middle mouse button:\\n\\nhttps://preview.redd.it/bmqnrpw0m86c1.png?width=476&format=png&auto=webp&s=97ae662fcca43bf146537393fc6a13705a0a9351\\n\\n&#x200B;  \n",
       "4                                                                                                                                                                                                                                                                                                                                                                                                                                                                                                                                                                                           Hello guys does playing 4k content on a 2k display has any benefit? For example while playing YouTube videos I set 1440p resolution on my 2k laptop and 2k smartphone despite having a option of selecting 2160p option. So i wanted to ask if i get better video quality if i select 2160p option while playing on a 2k display?  "
      ]
     },
     "execution_count": 26,
     "metadata": {},
     "output_type": "execute_result"
    }
   ],
   "source": [
    "df_reddit['date'] = pd.to_datetime(df_reddit['date']).dt.strftime('%Y-%m-%d')\n",
    "df_reddit.head()"
   ]
  },
  {
   "cell_type": "markdown",
   "id": "04a7a902",
   "metadata": {},
   "source": [
    "#### Find a Match"
   ]
  },
  {
   "cell_type": "markdown",
   "id": "3c8432e1",
   "metadata": {},
   "source": [
    "##### Specify a Data of Analysis from a *starting_date* to an *ending_date*"
   ]
  },
  {
   "cell_type": "code",
   "execution_count": 27,
   "id": "431a4754",
   "metadata": {},
   "outputs": [],
   "source": [
    "start_date = datetime(2023, 11, 1)\n",
    "end_date   = datetime(2023, 11, 30)"
   ]
  },
  {
   "cell_type": "code",
   "execution_count": 28,
   "id": "c9fd9e94",
   "metadata": {},
   "outputs": [
    {
     "data": {
      "text/html": [
       "<div>\n",
       "<style scoped>\n",
       "    .dataframe tbody tr th:only-of-type {\n",
       "        vertical-align: middle;\n",
       "    }\n",
       "\n",
       "    .dataframe tbody tr th {\n",
       "        vertical-align: top;\n",
       "    }\n",
       "\n",
       "    .dataframe thead th {\n",
       "        text-align: right;\n",
       "    }\n",
       "</style>\n",
       "<table border=\"1\" class=\"dataframe\">\n",
       "  <thead>\n",
       "    <tr style=\"text-align: right;\">\n",
       "      <th></th>\n",
       "      <th>index</th>\n",
       "      <th>subreddit</th>\n",
       "      <th>username</th>\n",
       "      <th>date</th>\n",
       "      <th>title</th>\n",
       "      <th>text</th>\n",
       "    </tr>\n",
       "  </thead>\n",
       "  <tbody>\n",
       "    <tr>\n",
       "      <th>0</th>\n",
       "      <td>226506</td>\n",
       "      <td>crypto</td>\n",
       "      <td>t3_13wz83n</td>\n",
       "      <td>2023-05-31</td>\n",
       "      <td>The peculiarities of security maintainership with Filippo Valsorda</td>\n",
       "      <td></td>\n",
       "    </tr>\n",
       "    <tr>\n",
       "      <th>1</th>\n",
       "      <td>226511</td>\n",
       "      <td>cybersecurity</td>\n",
       "      <td>t3_13wzact</td>\n",
       "      <td>2023-05-31</td>\n",
       "      <td>VM vs XDR</td>\n",
       "      <td>If you had to chose one, would you chose an XDR or a Vulnerability Management platform?  \\n\\n\\nAt the moment, we run neither. Both solutions seem attractive to us, and we are planning on adding both by the end of the next fiscal year. This year, however, budget only allows for one.  \\n\\n\\nWhich would you choose, and why?  \\n\\n\\nFor context, we are currently running SentinelOne EDR, Checkpoint NGFW, and Checkpoint Harmony Email Protection.</td>\n",
       "    </tr>\n",
       "    <tr>\n",
       "      <th>2</th>\n",
       "      <td>226529</td>\n",
       "      <td>hardware</td>\n",
       "      <td>t3_13wzf3m</td>\n",
       "      <td>2023-05-31</td>\n",
       "      <td>RTX 3070 with Dual VRAM (16GB and 8GB) on a physical switch.</td>\n",
       "      <td>https://videocardz.com/newz/this-geforce-rtx-3070-comes-with-a-physical-8gb-16gb-memory-switch</td>\n",
       "    </tr>\n",
       "    <tr>\n",
       "      <th>3</th>\n",
       "      <td>226537</td>\n",
       "      <td>AndroidQuestions</td>\n",
       "      <td>t3_13wzf86</td>\n",
       "      <td>2023-05-31</td>\n",
       "      <td>Audio lag on YouTube w/ AndroidAuto</td>\n",
       "      <td>I have a Galaxy s23 ultra on at&amp;t. This is my first android phone in ages and I'm loving it so far, but can't quite figure out some android auto weirdness. If I'm trying to watch a YouTube video while connected to android auto, after a minute or so the video and auto desync. I've tried fiddling with any settings I can find and can't find this issue on Google. Any advice would be appreciated. 21' toyota Tacoma if that matters. (Videos being watched while parked, not actually driving)</td>\n",
       "    </tr>\n",
       "    <tr>\n",
       "      <th>4</th>\n",
       "      <td>226544</td>\n",
       "      <td>linuxquestions</td>\n",
       "      <td>t3_13wzd53</td>\n",
       "      <td>2023-05-31</td>\n",
       "      <td>All my programs running with wine are looking like this. please help</td>\n",
       "      <td>I recently updated my pi without updating it for a while and then I go   \\nto read one of my visual novels and it still has sound and the program     \\nworks but I literally can't see anything. It just gives me this weird   \\ncolor thing. If you know how to fix this I will be eternaly grateful</td>\n",
       "    </tr>\n",
       "    <tr>\n",
       "      <th>...</th>\n",
       "      <td>...</td>\n",
       "      <td>...</td>\n",
       "      <td>...</td>\n",
       "      <td>...</td>\n",
       "      <td>...</td>\n",
       "      <td>...</td>\n",
       "    </tr>\n",
       "    <tr>\n",
       "      <th>31306</th>\n",
       "      <td>257853</td>\n",
       "      <td>Xiaomi</td>\n",
       "      <td>t3_1344hsi</td>\n",
       "      <td>2023-05-01</td>\n",
       "      <td>Anyone know how the name of this icon pack? i want to get back to this icon pack</td>\n",
       "      <td>https://gyazo.com/a4a6651c0caefffdd274b42505243d0b.jpg</td>\n",
       "    </tr>\n",
       "    <tr>\n",
       "      <th>31307</th>\n",
       "      <td>257855</td>\n",
       "      <td>linuxquestions</td>\n",
       "      <td>t3_1344zd7</td>\n",
       "      <td>2023-05-01</td>\n",
       "      <td>Run .sh script before login is displayed?</td>\n",
       "      <td>I have a script I made to fix the refresh rate on my monitors (using an Optimus laptop with gnome and 2 displays at different refresh rates so it takes some witchcraft to get it working)\\n\\nI need the script to run before even my display manager is loaded (gdm) but I can't find a solution.\\n\\nSo far I've tried to create a systemd unit pointing to my script but I guess that doesn't work with the \"xrandr\" command.</td>\n",
       "    </tr>\n",
       "    <tr>\n",
       "      <th>31308</th>\n",
       "      <td>257856</td>\n",
       "      <td>linuxquestions</td>\n",
       "      <td>t3_1344xcu</td>\n",
       "      <td>2023-05-01</td>\n",
       "      <td>Is pop os good for battery life?</td>\n",
       "      <td>I have an hp laptop so If I use pop os will my battery be safe. I heard Linux has lot of issues with battery life and graphics cards like Nvidia. But I found pop os natively supports Nvidia and has a lot of good features so now I am thinking of installing it in my laptop besides windows but I am little scared about the battery management system as Linux has previous bad records with it so can anyone recommend me if pop os is good os to have no complications with the battery life of my hp laptop.</td>\n",
       "    </tr>\n",
       "    <tr>\n",
       "      <th>31309</th>\n",
       "      <td>257857</td>\n",
       "      <td>linuxquestions</td>\n",
       "      <td>t3_1344ohe</td>\n",
       "      <td>2023-05-01</td>\n",
       "      <td>I installed package \"Evolution\" and uninstalled it but still have several directories like ~/.cache/evolution/ and ~/.config/evolution/</td>\n",
       "      <td>Hello,\\n\\nI installed package \"Evolution\" and uninstalled it but still have several directories like ~/.cache/evolution/ and ~/.config/evolution/\\n\\nI'd like to delete them manually but I realized there is also a package evolution-data-server that is used for calendar and stuff. So I figure I shouldn't delete the package and maybe not delete the config/evolution/ either?\\n\\nWhat do you think?</td>\n",
       "    </tr>\n",
       "    <tr>\n",
       "      <th>31310</th>\n",
       "      <td>257858</td>\n",
       "      <td>linuxquestions</td>\n",
       "      <td>t3_1344kk7</td>\n",
       "      <td>2023-05-01</td>\n",
       "      <td>Autoconnect for USB OTG Ethernet Gadgets?</td>\n",
       "      <td>I am using alpine and rc-service. I think I should be able to add a service on login after the Ethernet gadget is created. But I don't want to autologin. Plus I think that Ethernet Gadget is created pretty late, right before the login prompt shows up. While hardware Ethernet adapters just autoconnect and I can telnet/SSH to them.\\n\\nThe USB Ethernet Gadget doesn't. Why do I have to go and manually connect them on every reboot? Anyone have any solutions? Alpine+rc-service, just get that usb0 and usb1 connections connected automatically. nmcli is not respecting the automatically connect option.</td>\n",
       "    </tr>\n",
       "  </tbody>\n",
       "</table>\n",
       "<p>31311 rows × 6 columns</p>\n",
       "</div>"
      ],
      "text/plain": [
       "        index         subreddit    username        date  \\\n",
       "0      226506            crypto  t3_13wz83n  2023-05-31   \n",
       "1      226511     cybersecurity  t3_13wzact  2023-05-31   \n",
       "2      226529          hardware  t3_13wzf3m  2023-05-31   \n",
       "3      226537  AndroidQuestions  t3_13wzf86  2023-05-31   \n",
       "4      226544    linuxquestions  t3_13wzd53  2023-05-31   \n",
       "...       ...               ...         ...         ...   \n",
       "31306  257853            Xiaomi  t3_1344hsi  2023-05-01   \n",
       "31307  257855    linuxquestions  t3_1344zd7  2023-05-01   \n",
       "31308  257856    linuxquestions  t3_1344xcu  2023-05-01   \n",
       "31309  257857    linuxquestions  t3_1344ohe  2023-05-01   \n",
       "31310  257858    linuxquestions  t3_1344kk7  2023-05-01   \n",
       "\n",
       "                                                                                                                                         title  \\\n",
       "0                                                                           The peculiarities of security maintainership with Filippo Valsorda   \n",
       "1                                                                                                                                    VM vs XDR   \n",
       "2                                                                                 RTX 3070 with Dual VRAM (16GB and 8GB) on a physical switch.   \n",
       "3                                                                                                          Audio lag on YouTube w/ AndroidAuto   \n",
       "4                                                                         All my programs running with wine are looking like this. please help   \n",
       "...                                                                                                                                        ...   \n",
       "31306                                                         Anyone know how the name of this icon pack? i want to get back to this icon pack   \n",
       "31307                                                                                                Run .sh script before login is displayed?   \n",
       "31308                                                                                                         Is pop os good for battery life?   \n",
       "31309  I installed package \"Evolution\" and uninstalled it but still have several directories like ~/.cache/evolution/ and ~/.config/evolution/   \n",
       "31310                                                                                                Autoconnect for USB OTG Ethernet Gadgets?   \n",
       "\n",
       "                                                                                                                                                                                                                                                                                                                                                                                                                                                                                                                                                                                                                          text  \n",
       "0                                                                                                                                                                                                                                                                                                                                                                                                                                                                                                                                                                                                                               \n",
       "1                                                                                                                                                                   If you had to chose one, would you chose an XDR or a Vulnerability Management platform?  \\n\\n\\nAt the moment, we run neither. Both solutions seem attractive to us, and we are planning on adding both by the end of the next fiscal year. This year, however, budget only allows for one.  \\n\\n\\nWhich would you choose, and why?  \\n\\n\\nFor context, we are currently running SentinelOne EDR, Checkpoint NGFW, and Checkpoint Harmony Email Protection.  \n",
       "2                                                                                                                                                                                                                                                                                                                                                                                                                                                                                                                               https://videocardz.com/newz/this-geforce-rtx-3070-comes-with-a-physical-8gb-16gb-memory-switch  \n",
       "3                                                                                                                      I have a Galaxy s23 ultra on at&t. This is my first android phone in ages and I'm loving it so far, but can't quite figure out some android auto weirdness. If I'm trying to watch a YouTube video while connected to android auto, after a minute or so the video and auto desync. I've tried fiddling with any settings I can find and can't find this issue on Google. Any advice would be appreciated. 21' toyota Tacoma if that matters. (Videos being watched while parked, not actually driving)  \n",
       "4                                                                                                                                                                                                                                                                                                                       I recently updated my pi without updating it for a while and then I go   \\nto read one of my visual novels and it still has sound and the program     \\nworks but I literally can't see anything. It just gives me this weird   \\ncolor thing. If you know how to fix this I will be eternaly grateful  \n",
       "...                                                                                                                                                                                                                                                                                                                                                                                                                                                                                                                                                                                                                        ...  \n",
       "31306                                                                                                                                                                                                                                                                                                                                                                                                                                                                                                                                                                   https://gyazo.com/a4a6651c0caefffdd274b42505243d0b.jpg  \n",
       "31307                                                                                                                                                                                          I have a script I made to fix the refresh rate on my monitors (using an Optimus laptop with gnome and 2 displays at different refresh rates so it takes some witchcraft to get it working)\\n\\nI need the script to run before even my display manager is loaded (gdm) but I can't find a solution.\\n\\nSo far I've tried to create a systemd unit pointing to my script but I guess that doesn't work with the \"xrandr\" command.  \n",
       "31308                                                                                                     I have an hp laptop so If I use pop os will my battery be safe. I heard Linux has lot of issues with battery life and graphics cards like Nvidia. But I found pop os natively supports Nvidia and has a lot of good features so now I am thinking of installing it in my laptop besides windows but I am little scared about the battery management system as Linux has previous bad records with it so can anyone recommend me if pop os is good os to have no complications with the battery life of my hp laptop.  \n",
       "31309                                                                                                                                                                                                              Hello,\\n\\nI installed package \"Evolution\" and uninstalled it but still have several directories like ~/.cache/evolution/ and ~/.config/evolution/\\n\\nI'd like to delete them manually but I realized there is also a package evolution-data-server that is used for calendar and stuff. So I figure I shouldn't delete the package and maybe not delete the config/evolution/ either?\\n\\nWhat do you think?  \n",
       "31310  I am using alpine and rc-service. I think I should be able to add a service on login after the Ethernet gadget is created. But I don't want to autologin. Plus I think that Ethernet Gadget is created pretty late, right before the login prompt shows up. While hardware Ethernet adapters just autoconnect and I can telnet/SSH to them.\\n\\nThe USB Ethernet Gadget doesn't. Why do I have to go and manually connect them on every reboot? Anyone have any solutions? Alpine+rc-service, just get that usb0 and usb1 connections connected automatically. nmcli is not respecting the automatically connect option.  \n",
       "\n",
       "[31311 rows x 6 columns]"
      ]
     },
     "execution_count": 28,
     "metadata": {},
     "output_type": "execute_result"
    }
   ],
   "source": [
    "selected_rows = df_reddit[(pd.to_datetime(df_reddit['date']) >= start_date) & (pd.to_datetime(df_reddit['date']) <= end_date)].reset_index()\n",
    "selected_rows"
   ]
  },
  {
   "cell_type": "code",
   "execution_count": 29,
   "id": "e6cd262f",
   "metadata": {},
   "outputs": [
    {
     "name": "stdout",
     "output_type": "stream",
     "text": [
      "Requirement already satisfied: tqdm in c:\\users\\leona\\anaconda3\\lib\\site-packages (4.65.0)Note: you may need to restart the kernel to use updated packages.\n",
      "\n",
      "Requirement already satisfied: colorama in c:\\users\\leona\\anaconda3\\lib\\site-packages (from tqdm) (0.4.6)\n"
     ]
    }
   ],
   "source": [
    "pip install tqdm"
   ]
  },
  {
   "cell_type": "code",
   "execution_count": 30,
   "id": "37233b8e",
   "metadata": {},
   "outputs": [
    {
     "name": "stdout",
     "output_type": "stream",
     "text": [
      "                 Testo_A         Testo_B  Match\n",
      "0      La casa è grande.  La casa grande   True\n",
      "1  Il cane corre veloce.  Il cane veloce   True\n"
     ]
    },
    {
     "name": "stderr",
     "output_type": "stream",
     "text": [
      "[nltk_data] Downloading package punkt to\n",
      "[nltk_data]     C:\\Users\\leona\\AppData\\Roaming\\nltk_data...\n",
      "[nltk_data]   Package punkt is already up-to-date!\n",
      "[nltk_data] Downloading package stopwords to\n",
      "[nltk_data]     C:\\Users\\leona\\AppData\\Roaming\\nltk_data...\n",
      "[nltk_data]   Package stopwords is already up-to-date!\n"
     ]
    }
   ],
   "source": [
    "import pandas as pd\n",
    "from nltk.stem import PorterStemmer\n",
    "from nltk.tokenize import word_tokenize\n",
    "from nltk.corpus import stopwords\n",
    "import nltk\n",
    "nltk.download('punkt')\n",
    "nltk.download('stopwords')\n",
    "\n",
    "def stemming_and_matching(df_A, df_B):\n",
    "    # Inizializzazione del PorterStemmer\n",
    "    stemmer = PorterStemmer()\n",
    "\n",
    "    # Funzione per eseguire stemming e lemmatization su una riga di testo\n",
    "    def process_text(text):\n",
    "        # Tokenizzazione\n",
    "        tokens = word_tokenize(text.lower())\n",
    "        # Rimozione delle stop words\n",
    "        stop_words = set(stopwords.words('english'))\n",
    "        filtered_tokens = [token for token in tokens if token.isalnum() and token not in stop_words]\n",
    "        # Stemming\n",
    "        stemmed_tokens = [stemmer.stem(token) for token in filtered_tokens]\n",
    "        return stemmed_tokens\n",
    "\n",
    "    # Applicare la funzione a ciascuna riga dei dataframe A e B\n",
    "    df_A['lemmatized_tokens'] = df_A['testo'].apply(process_text)\n",
    "    df_B['lemmatized_tokens'] = df_B['testo'].apply(process_text)\n",
    "\n",
    "    # Creare una lista per i risultati\n",
    "    risultati_list = []\n",
    "\n",
    "    # Calcolare la corrispondenza per ogni coppia di righe tra B e A\n",
    "    for idx_B, row_B in df_B.iterrows():\n",
    "        for idx_A, row_A in df_A.iterrows():\n",
    "            match = all(token in row_A['lemmatized_tokens'] for token in row_B['lemmatized_tokens'])\n",
    "            if match:\n",
    "                risultati_list.append({'Testo_A': row_A['testo'], 'Testo_B': row_B['testo'], 'Match': match})\n",
    "\n",
    "    # Convertire la lista di risultati in un DataFrame\n",
    "    risultati_df = pd.DataFrame(risultati_list)\n",
    "    return risultati_df\n",
    "\n",
    "# Esempio di utilizzo\n",
    "data_A = {'testo': [\"La casa è grande.\", \"Il cane corre veloce.\", \"Gli uccelli volano alto.\"]}\n",
    "data_B = {'testo': [\"La casa grande\", \"Il cane veloce\", \"uccelli alti\"]}\n",
    "df_A = pd.DataFrame(data_A)\n",
    "df_B = pd.DataFrame(data_B)\n",
    "\n",
    "risultato = stemming_and_matching(df_A, df_B)\n",
    "print(risultato)\n"
   ]
  },
  {
   "cell_type": "code",
   "execution_count": 31,
   "id": "5dfd0d80",
   "metadata": {},
   "outputs": [],
   "source": [
    "def stemming_and_matching(words_list, posts_df):\n",
    "    \n",
    "    combined_texts = posts_df['title'] + '. ' + posts_df['text']\n",
    "\n",
    "    stemmer = PorterStemmer()\n",
    "\n",
    "    def process_text(text):\n",
    "        # Tokenization\n",
    "        tokens = word_tokenize(text.lower())\n",
    "        # Delete stop words\n",
    "        stop_words = set(stopwords.words('english'))\n",
    "        filtered_tokens = [token for token in tokens if token.isalnum() and token not in stop_words]\n",
    "        # Stemming\n",
    "        stemmed_tokens = [stemmer.stem(token) for token in filtered_tokens]\n",
    "        return stemmed_tokens\n",
    "    \n",
    "    df_A = pd.DataFrame()\n",
    "    df_B = pd.DataFrame()\n",
    "    \n",
    "    df_A['text'] = combined_texts\n",
    "    df_B['text'] = words_list\n",
    "\n",
    "    df_A['lemmatized_tokens'] = df_A['text'].apply(process_text)\n",
    "    df_B['lemmatized_tokens'] = df_B['text'].apply(process_text)\n",
    "\n",
    "    risultati_list = []\n",
    "\n",
    "    for idx_B, row_B in tqdm(df_B.iterrows(), desc=\"Processing posts\"):\n",
    "        for idx_A, row_A in tqdm(df_A.iterrows(), desc=\"Processing posts\"):\n",
    "            match = all(token in row_A['lemmatized_tokens'] for token in row_B['lemmatized_tokens'])\n",
    "            if match:\n",
    "                risultati_list.append({'full_text': row_A['text'], 'keyword': row_B['text']})\n",
    "\n",
    "    # Convertire la lista di risultati in un DataFrame\n",
    "    risultati_df = pd.DataFrame(risultati_list)\n",
    "    return risultati_df"
   ]
  },
  {
   "cell_type": "code",
   "execution_count": 65,
   "id": "426364a1",
   "metadata": {},
   "outputs": [],
   "source": [
    "def search_lemma_word(title, text, word, post_index, nlp, doc):\n",
    "    analyzed_word = nlp(word)\n",
    "    word_lemma = analyzed_word[0].lemma_\n",
    "    \n",
    "    for token in doc:\n",
    "        if token.text.lower() == word.lower() or token.lemma_.lower() == word_lemma.lower():\n",
    "            return pd.DataFrame({'post_index': [post_index], 'word': [word]})\n",
    "    \n",
    "    return pd.DataFrame()\n",
    "\n",
    "def search_entire_word( text, word, post_index):\n",
    "       \n",
    "    if word.lower() in text.lower() :\n",
    "\n",
    "        return pd.DataFrame({'full_text': [text], 'keyword': [word]})\n",
    "    \n",
    "    return pd.DataFrame()\n",
    "\n",
    "from tqdm import tqdm\n",
    "\n",
    "def loop_search(words_list, posts_df):\n",
    "    nlp = spacy.load(\"en_core_web_sm\")\n",
    "    combined_texts = posts_df['title'] + '. ' + posts_df['text']\n",
    "    list_nlp = [nlp(text) for text in combined_texts]\n",
    "    result_dfs = []\n",
    "\n",
    "    for word in tqdm(words_list, desc=\"Processing words\"):\n",
    "\n",
    "        print(f'Now: {word} ')\n",
    "\n",
    "        if(len(word.split()) == 1):\n",
    "            word_analyzed = nlp(word)\n",
    "            word_lemma = word_analyzed[0].lemma_\n",
    "            for j in tqdm(range(len(posts_df)), desc=\"Processing posts\"):\n",
    "                result_dfs.append(search_lemma_word(posts_df.at[j, 'title'], combined_texts[j], word_lemma, j, nlp, list_nlp[j]))\n",
    "        \n",
    "        else:\n",
    "            for j in tqdm(range(len(posts_df)), desc=\"Processing posts\"):\n",
    "                result_dfs.append(search_entire_word(combined_texts[j], word, j))\n",
    "\n",
    "    result_df = pd.concat(result_dfs, ignore_index=True)\n",
    "    return result_df\n",
    "\n",
    "def malware_search(words_list, posts_df):\n",
    "    nlp = spacy.load(\"en_core_web_sm\")\n",
    "    combined_texts = posts_df['title'] + '. ' + posts_df['text']\n",
    "    result_dfs = []\n",
    "\n",
    "    for word in tqdm(words_list, desc=\"Processing words\"):\n",
    "\n",
    "        print(f'Now: {word} ')\n",
    "\n",
    "        for j in tqdm(range(len(posts_df)), desc=\"Processing posts\"):\n",
    "            result_dfs.append(search_entire_word(combined_texts[j], word, j))\n",
    "\n",
    "    result_df = pd.concat(result_dfs, ignore_index=True)\n",
    "    return result_df"
   ]
  },
  {
   "cell_type": "markdown",
   "id": "bb71e409",
   "metadata": {},
   "source": [
    "### Behaviours searching"
   ]
  },
  {
   "cell_type": "code",
   "execution_count": 33,
   "id": "3a8ccf67",
   "metadata": {},
   "outputs": [],
   "source": [
    "l = len(all_behaviours_name_list)\n",
    "\n",
    "index = l // 3\n",
    "\n",
    "first_half = all_behaviours_name_list[:index]\n",
    "third_half = all_behaviours_name_list[index:index*2]\n",
    "second_half = all_behaviours_name_list[index*2:]"
   ]
  },
  {
   "cell_type": "code",
   "execution_count": 34,
   "id": "41c578b6",
   "metadata": {},
   "outputs": [
    {
     "name": "stderr",
     "output_type": "stream",
     "text": [
      "Processing posts: 31311it [00:02, 13012.50it/s]\n",
      "Processing posts: 31311it [00:02, 12001.19it/s]\n",
      "Processing posts: 31311it [00:02, 12255.25it/s]\n",
      "Processing posts: 31311it [00:02, 12941.65it/s]\n",
      "Processing posts: 31311it [00:02, 12347.17it/s]\n",
      "Processing posts: 31311it [00:02, 11912.04it/s]\n",
      "Processing posts: 31311it [00:02, 11216.03it/s]\n",
      "Processing posts: 31311it [00:03, 10381.09it/s]\n",
      "Processing posts: 31311it [00:02, 10857.00it/s]\n",
      "Processing posts: 31311it [00:02, 11137.49it/s]\n",
      "Processing posts: 31311it [00:02, 11163.48it/s]\n",
      "Processing posts: 31311it [00:02, 10669.86it/s]\n",
      "Processing posts: 31311it [00:02, 11029.89it/s]\n",
      "Processing posts: 31311it [00:03, 9883.36it/s]\n",
      "Processing posts: 31311it [00:03, 9869.20it/s]\n",
      "Processing posts: 31311it [00:03, 9925.97it/s]\n",
      "Processing posts: 31311it [00:02, 10505.68it/s]\n",
      "Processing posts: 31311it [00:02, 10906.26it/s]\n",
      "Processing posts: 31311it [00:03, 9478.25it/s] \n",
      "Processing posts: 31311it [00:03, 10053.68it/s]\n",
      "Processing posts: 31311it [00:03, 10174.84it/s]\n",
      "Processing posts: 31311it [00:02, 10483.64it/s]\n",
      "Processing posts: 31311it [00:03, 10011.02it/s]\n",
      "Processing posts: 31311it [00:03, 9240.76it/s]\n",
      "Processing posts: 31311it [00:03, 9773.51it/s]\n",
      "Processing posts: 31311it [00:03, 10251.01it/s]\n",
      "Processing posts: 31311it [00:03, 10119.90it/s]\n",
      "Processing posts: 31311it [00:02, 10546.57it/s]\n",
      "Processing posts: 31311it [00:03, 8872.84it/s]\n",
      "Processing posts: 31311it [00:03, 10125.92it/s]\n",
      "Processing posts: 31311it [00:03, 10264.22it/s]\n",
      "Processing posts: 31311it [00:03, 10394.32it/s]\n",
      "Processing posts: 31311it [00:03, 10286.95it/s]\n",
      "Processing posts: 31311it [00:03, 9783.55it/s]\n",
      "Processing posts: 31311it [00:03, 9676.12it/s] \n",
      "Processing posts: 31311it [00:03, 10425.16it/s]\n",
      "Processing posts: 31311it [00:03, 10426.18it/s]\n",
      "Processing posts: 31311it [00:02, 10906.40it/s]\n",
      "Processing posts: 31311it [00:03, 9765.60it/s]\n",
      "Processing posts: 31311it [00:03, 9603.93it/s]\n",
      "Processing posts: 31311it [00:03, 10317.68it/s]\n",
      "Processing posts: 31311it [00:02, 10540.27it/s]\n",
      "Processing posts: 31311it [00:02, 10903.14it/s]\n",
      "Processing posts: 31311it [00:03, 10263.57it/s]\n",
      "Processing posts: 31311it [00:03, 9794.62it/s] \n",
      "Processing posts: 31311it [00:02, 10704.53it/s]\n",
      "Processing posts: 31311it [00:02, 11040.70it/s]\n",
      "Processing posts: 31311it [00:02, 10645.09it/s]\n",
      "Processing posts: 31311it [00:02, 10749.31it/s]\n",
      "Processing posts: 31311it [00:03, 9490.10it/s]\n",
      "Processing posts: 31311it [00:02, 10533.16it/s]\n",
      "Processing posts: 31311it [00:03, 10308.38it/s]\n",
      "Processing posts: 31311it [00:02, 10598.49it/s]\n",
      "Processing posts: 31311it [00:02, 10611.54it/s]\n",
      "Processing posts: 31311it [00:03, 9511.12it/s]\n",
      "Processing posts: 31311it [00:03, 9286.70it/s] \n",
      "Processing posts: 31311it [00:02, 10666.59it/s]\n",
      "Processing posts: 31311it [00:02, 10667.24it/s]\n",
      "Processing posts: 31311it [00:03, 8840.34it/s]\n",
      "Processing posts: 31311it [00:03, 9954.72it/s]\n",
      "Processing posts: 31311it [00:03, 9807.67it/s] \n",
      "Processing posts: 31311it [00:02, 10615.99it/s]\n",
      "Processing posts: 31311it [00:02, 10720.40it/s]\n",
      "Processing posts: 31311it [00:02, 10495.59it/s]\n",
      "Processing posts: 31311it [00:03, 10106.96it/s]\n",
      "Processing posts: 31311it [00:03, 9972.76it/s]\n",
      "Processing posts: 31311it [00:02, 10587.08it/s]\n",
      "Processing posts: 31311it [00:03, 10219.10it/s]\n",
      "Processing posts: 31311it [00:03, 10425.73it/s]\n",
      "Processing posts: 31311it [00:03, 10018.53it/s]\n",
      "Processing posts: 31311it [00:03, 9446.70it/s]\n",
      "Processing posts: 31311it [00:03, 10431.59it/s]\n",
      "Processing posts: 31311it [00:03, 10402.16it/s]\n",
      "Processing posts: 31311it [00:02, 10829.13it/s]\n",
      "Processing posts: 31311it [00:02, 10688.99it/s]\n",
      "Processing posts: 31311it [00:03, 9735.30it/s]\n",
      "Processing posts: 31311it [00:02, 10710.03it/s]\n",
      "Processing posts: 31311it [00:02, 10991.42it/s]\n",
      "Processing posts: 31311it [00:02, 10915.13it/s]\n",
      "Processing posts: 31311it [00:02, 10762.88it/s]\n",
      "Processing posts: 31311it [00:03, 10197.93it/s]\n",
      "Processing posts: 31311it [00:03, 10215.21it/s]\n",
      "Processing posts: 31311it [00:02, 10755.88it/s]\n",
      "Processing posts: 31311it [00:02, 10935.20it/s]\n",
      "Processing posts: 31311it [00:02, 11047.69it/s]\n",
      "Processing posts: 31311it [00:02, 10843.15it/s]\n",
      "Processing posts: 31311it [00:03, 10128.56it/s]\n",
      "Processing posts: 31311it [00:02, 10733.56it/s]\n",
      "Processing posts: 31311it [00:02, 10936.51it/s]\n",
      "Processing posts: 31311it [00:02, 11177.93it/s]\n",
      "Processing posts: 31311it [00:02, 11017.58it/s]\n",
      "Processing posts: 31311it [00:03, 10032.33it/s]\n",
      "Processing posts: 31311it [00:02, 10648.20it/s]\n",
      "Processing posts: 31311it [00:02, 11093.39it/s]\n",
      "Processing posts: 31311it [00:02, 10904.39it/s]\n",
      "Processing posts: 31311it [00:02, 11128.70it/s]\n",
      "Processing posts: 31311it [00:03, 10197.36it/s]\n",
      "Processing posts: 31311it [00:03, 10013.40it/s]\n",
      "Processing posts: 31311it [00:03, 10292.44it/s]\n",
      "Processing posts: 31311it [00:02, 11184.53it/s]\n",
      "Processing posts: 31311it [00:02, 10960.13it/s]\n",
      "Processing posts: 31311it [00:02, 10589.21it/s]\n",
      "Processing posts: 31311it [00:03, 9519.21it/s]\n",
      "Processing posts: 31311it [00:03, 10183.58it/s]\n",
      "Processing posts: 31311it [00:02, 10891.17it/s]\n",
      "Processing posts: 31311it [00:03, 10429.10it/s]\n",
      "Processing posts: 31311it [00:02, 10599.43it/s]\n",
      "Processing posts: 107it [05:21,  3.01s/it]\n"
     ]
    }
   ],
   "source": [
    "matches_behaviours_1 = stemming_and_matching( first_half , selected_rows)\n"
   ]
  },
  {
   "cell_type": "code",
   "execution_count": 35,
   "id": "3bf3f051",
   "metadata": {},
   "outputs": [],
   "source": [
    "matches_behaviours_1.to_csv(r'C:\\Users\\leona\\OneDrive\\Desktop\\Tesi\\Pipeline\\Datasets\\Pipeline\\SocialNetworksPosts\\Reddit\\Months\\11\\one_behaviours.csv')"
   ]
  },
  {
   "cell_type": "code",
   "execution_count": 36,
   "id": "0cb63bc5",
   "metadata": {},
   "outputs": [
    {
     "name": "stderr",
     "output_type": "stream",
     "text": [
      "Processing posts: 31311it [00:02, 12963.87it/s]\n",
      "Processing posts: 31311it [00:02, 12318.15it/s]\n",
      "Processing posts: 31311it [00:02, 10724.21it/s]\n",
      "Processing posts: 31311it [00:02, 11608.07it/s]\n",
      "Processing posts: 31311it [00:02, 11932.92it/s]\n",
      "Processing posts: 31311it [00:02, 12041.64it/s]\n",
      "Processing posts: 31311it [00:02, 11630.00it/s]\n",
      "Processing posts: 31311it [00:02, 11423.41it/s]\n",
      "Processing posts: 31311it [00:02, 10730.13it/s]\n",
      "Processing posts: 31311it [00:02, 11809.87it/s]\n",
      "Processing posts: 31311it [00:02, 11840.98it/s]\n",
      "Processing posts: 31311it [00:02, 11870.26it/s]\n",
      "Processing posts: 31311it [00:02, 10489.14it/s]\n",
      "Processing posts: 31311it [00:03, 9437.40it/s]\n",
      "Processing posts: 31311it [00:03, 9801.91it/s] \n",
      "Processing posts: 31311it [00:02, 10534.43it/s]\n",
      "Processing posts: 31311it [00:02, 10707.24it/s]\n",
      "Processing posts: 31311it [00:02, 10686.39it/s]\n",
      "Processing posts: 31311it [00:03, 10360.53it/s]\n",
      "Processing posts: 31311it [00:03, 9770.19it/s]\n",
      "Processing posts: 31311it [00:03, 9069.86it/s]\n",
      "Processing posts: 31311it [00:03, 9664.14it/s]\n",
      "Processing posts: 31311it [00:03, 10190.46it/s]\n",
      "Processing posts: 31311it [00:03, 9733.33it/s]\n",
      "Processing posts: 31311it [00:03, 9341.68it/s]\n",
      "Processing posts: 31311it [00:03, 10272.54it/s]\n",
      "Processing posts: 31311it [00:03, 10285.90it/s]\n",
      "Processing posts: 31311it [00:03, 10232.78it/s]\n",
      "Processing posts: 31311it [00:03, 10274.35it/s]\n",
      "Processing posts: 31311it [00:03, 9300.50it/s]\n",
      "Processing posts: 31311it [00:02, 10695.54it/s]\n",
      "Processing posts: 31311it [00:03, 9833.46it/s] \n",
      "Processing posts: 31311it [00:02, 10458.86it/s]\n",
      "Processing posts: 31311it [00:03, 10139.22it/s]\n",
      "Processing posts: 31311it [00:03, 9565.29it/s]\n",
      "Processing posts: 31311it [00:03, 10272.14it/s]\n",
      "Processing posts: 31311it [00:03, 10299.19it/s]\n",
      "Processing posts: 31311it [00:02, 10730.20it/s]\n",
      "Processing posts: 31311it [00:02, 10799.31it/s]\n",
      "Processing posts: 31311it [00:03, 9940.06it/s] \n",
      "Processing posts: 31311it [00:02, 10519.72it/s]\n",
      "Processing posts: 31311it [00:02, 10600.27it/s]\n",
      "Processing posts: 31311it [00:03, 10398.92it/s]\n",
      "Processing posts: 31311it [00:03, 10071.07it/s]\n",
      "Processing posts: 31311it [00:03, 10325.82it/s]\n",
      "Processing posts: 31311it [00:03, 10160.98it/s]\n",
      "Processing posts: 31311it [00:02, 11039.51it/s]\n",
      "Processing posts: 31311it [00:02, 10756.35it/s]\n",
      "Processing posts: 31311it [00:02, 11037.90it/s]\n",
      "Processing posts: 31311it [00:02, 11068.52it/s]\n",
      "Processing posts: 31311it [00:03, 9812.52it/s] \n",
      "Processing posts: 31311it [00:02, 11030.10it/s]\n",
      "Processing posts: 31311it [00:02, 10868.77it/s]\n",
      "Processing posts: 31311it [00:02, 11011.74it/s]\n",
      "Processing posts: 31311it [00:02, 10543.42it/s]\n",
      "Processing posts: 31311it [00:03, 10305.65it/s]\n",
      "Processing posts: 31311it [00:02, 10517.57it/s]\n",
      "Processing posts: 31311it [00:02, 11039.51it/s]\n",
      "Processing posts: 31311it [00:02, 11015.23it/s]\n",
      "Processing posts: 31311it [00:02, 10919.43it/s]\n",
      "Processing posts: 31311it [00:02, 10601.26it/s]\n",
      "Processing posts: 31311it [00:03, 9862.98it/s] \n",
      "Processing posts: 31311it [00:02, 10727.69it/s]\n",
      "Processing posts: 31311it [00:02, 10723.49it/s]\n",
      "Processing posts: 31311it [00:03, 10297.33it/s]\n",
      "Processing posts: 31311it [00:02, 10595.92it/s]\n",
      "Processing posts: 31311it [00:03, 9720.64it/s]\n",
      "Processing posts: 31311it [00:03, 10003.24it/s]\n",
      "Processing posts: 31311it [00:02, 10558.20it/s]\n",
      "Processing posts: 31311it [00:03, 10305.74it/s]\n",
      "Processing posts: 31311it [00:03, 10340.68it/s]\n",
      "Processing posts: 31311it [00:03, 9392.10it/s]\n",
      "Processing posts: 31311it [00:03, 10061.67it/s]\n",
      "Processing posts: 31311it [00:02, 10763.34it/s]\n",
      "Processing posts: 31311it [00:02, 10450.08it/s]\n",
      "Processing posts: 31311it [00:03, 10245.52it/s]\n",
      "Processing posts: 31311it [00:03, 10024.81it/s]\n",
      "Processing posts: 31311it [00:03, 9861.21it/s] \n",
      "Processing posts: 31311it [00:02, 10659.88it/s]\n",
      "Processing posts: 31311it [00:03, 10186.58it/s]\n",
      "Processing posts: 31311it [00:02, 10530.04it/s]\n",
      "Processing posts: 31311it [00:03, 10318.11it/s]\n",
      "Processing posts: 31311it [00:03, 9450.45it/s]\n",
      "Processing posts: 31311it [00:02, 10607.74it/s]\n",
      "Processing posts: 31311it [00:02, 10647.97it/s]\n",
      "Processing posts: 31311it [00:02, 10457.57it/s]\n",
      "Processing posts: 31311it [00:03, 10431.73it/s]\n",
      "Processing posts: 31311it [00:03, 9379.33it/s]\n",
      "Processing posts: 31311it [00:03, 10061.12it/s]\n",
      "Processing posts: 31311it [00:02, 10526.32it/s]\n",
      "Processing posts: 31311it [00:03, 10407.31it/s]\n",
      "Processing posts: 31311it [00:03, 9702.64it/s]\n",
      "Processing posts: 31311it [00:03, 8968.40it/s]\n",
      "Processing posts: 31311it [00:03, 10037.63it/s]\n",
      "Processing posts: 31311it [00:03, 10287.77it/s]\n",
      "Processing posts: 31311it [00:03, 10180.06it/s]\n",
      "Processing posts: 31311it [00:02, 10445.41it/s]\n",
      "Processing posts: 31311it [00:03, 9676.15it/s]\n",
      "Processing posts: 31311it [00:03, 9937.69it/s] \n",
      "Processing posts: 31311it [00:02, 10764.46it/s]\n",
      "Processing posts: 31311it [00:03, 10282.94it/s]\n",
      "Processing posts: 31311it [00:02, 10646.34it/s]\n",
      "Processing posts: 31311it [00:03, 9878.71it/s]\n",
      "Processing posts: 31311it [00:03, 9919.55it/s] \n",
      "Processing posts: 31311it [00:03, 10282.68it/s]\n",
      "Processing posts: 31311it [00:02, 10915.06it/s]\n",
      "Processing posts: 31311it [00:02, 10944.23it/s]\n",
      "Processing posts: 31311it [00:02, 11079.36it/s]\n",
      "Processing posts: 31311it [00:03, 9869.82it/s] \n",
      "Processing posts: 109it [05:29,  3.02s/it]\n"
     ]
    }
   ],
   "source": [
    "matches_behaviours_2 = stemming_and_matching( second_half , selected_rows)\n"
   ]
  },
  {
   "cell_type": "code",
   "execution_count": 37,
   "id": "85b13e45",
   "metadata": {},
   "outputs": [],
   "source": [
    "matches_behaviours_2.to_csv(r'C:\\Users\\leona\\OneDrive\\Desktop\\Tesi\\Pipeline\\Datasets\\Pipeline\\SocialNetworksPosts\\Reddit\\Months\\11\\two_behaviours.csv')"
   ]
  },
  {
   "cell_type": "code",
   "execution_count": 38,
   "id": "ef599e5e",
   "metadata": {},
   "outputs": [
    {
     "name": "stderr",
     "output_type": "stream",
     "text": [
      "Processing posts: 31311it [00:02, 13515.33it/s]\n",
      "Processing posts: 31311it [00:02, 12693.24it/s]\n",
      "Processing posts: 31311it [00:02, 12859.13it/s]\n",
      "Processing posts: 31311it [00:02, 12978.29it/s]\n",
      "Processing posts: 31311it [00:02, 12278.11it/s]\n",
      "Processing posts: 31311it [00:02, 11284.62it/s]\n",
      "Processing posts: 31311it [00:02, 13320.37it/s]\n",
      "Processing posts: 31311it [00:02, 13139.33it/s]\n",
      "Processing posts: 31311it [00:02, 12758.04it/s]\n",
      "Processing posts: 31311it [00:02, 13031.88it/s]\n",
      "Processing posts: 31311it [00:02, 13028.64it/s]\n",
      "Processing posts: 31311it [00:02, 11776.02it/s]\n",
      "Processing posts: 31311it [00:02, 12332.05it/s]\n",
      "Processing posts: 31311it [00:02, 12556.98it/s]\n",
      "Processing posts: 31311it [00:02, 12816.90it/s]\n",
      "Processing posts: 31311it [00:02, 11722.77it/s]\n",
      "Processing posts: 31311it [00:02, 12931.30it/s]\n",
      "Processing posts: 31311it [00:02, 12386.81it/s]\n",
      "Processing posts: 31311it [00:02, 11829.43it/s]\n",
      "Processing posts: 31311it [00:02, 12587.08it/s]\n",
      "Processing posts: 31311it [00:02, 12531.26it/s]\n",
      "Processing posts: 31311it [00:02, 13256.18it/s]\n",
      "Processing posts: 31311it [00:02, 11806.07it/s]\n",
      "Processing posts: 31311it [00:02, 11790.53it/s]\n",
      "Processing posts: 31311it [00:03, 10285.38it/s]\n",
      "Processing posts: 31311it [00:02, 11007.16it/s]\n",
      "Processing posts: 31311it [00:02, 11591.82it/s]\n",
      "Processing posts: 31311it [00:02, 11476.79it/s]\n",
      "Processing posts: 31311it [00:02, 11493.63it/s]\n",
      "Processing posts: 31311it [00:02, 10871.80it/s]\n",
      "Processing posts: 31311it [00:02, 10738.36it/s]\n",
      "Processing posts: 31311it [00:02, 11429.47it/s]\n",
      "Processing posts: 31311it [00:02, 11583.19it/s]\n",
      "Processing posts: 31311it [00:02, 11559.10it/s]\n",
      "Processing posts: 31311it [00:02, 11634.14it/s]\n",
      "Processing posts: 31311it [00:02, 10639.38it/s]\n",
      "Processing posts: 31311it [00:02, 10975.28it/s]\n",
      "Processing posts: 31311it [00:02, 11098.38it/s]\n",
      "Processing posts: 31311it [00:02, 11281.14it/s]\n",
      "Processing posts: 31311it [00:02, 11375.57it/s]\n",
      "Processing posts: 31311it [00:03, 10397.23it/s]\n",
      "Processing posts: 31311it [00:03, 9864.72it/s] \n",
      "Processing posts: 31311it [00:02, 11694.08it/s]\n",
      "Processing posts: 31311it [00:02, 11230.71it/s]\n",
      "Processing posts: 31311it [00:02, 11335.64it/s]\n",
      "Processing posts: 31311it [00:02, 11786.15it/s]\n",
      "Processing posts: 31311it [00:02, 11186.99it/s]\n",
      "Processing posts: 31311it [00:03, 10033.06it/s]\n",
      "Processing posts: 31311it [00:02, 10512.26it/s]\n",
      "Processing posts: 31311it [00:02, 10849.41it/s]\n",
      "Processing posts: 31311it [00:02, 10781.15it/s]\n",
      "Processing posts: 31311it [00:03, 10291.25it/s]\n",
      "Processing posts: 31311it [00:03, 9873.90it/s] \n",
      "Processing posts: 31311it [00:02, 10563.70it/s]\n",
      "Processing posts: 31311it [00:02, 10643.27it/s]\n",
      "Processing posts: 31311it [00:02, 11076.29it/s]\n",
      "Processing posts: 31311it [00:02, 10886.40it/s]\n",
      "Processing posts: 31311it [00:03, 10030.12it/s]\n",
      "Processing posts: 31311it [00:03, 10144.51it/s]\n",
      "Processing posts: 31311it [00:02, 11137.14it/s]\n",
      "Processing posts: 31311it [00:02, 11138.73it/s]\n",
      "Processing posts: 31311it [00:03, 10100.91it/s]\n",
      "Processing posts: 31311it [00:03, 10205.35it/s]\n",
      "Processing posts: 31311it [00:03, 9816.87it/s] \n",
      "Processing posts: 31311it [00:03, 10327.40it/s]\n",
      "Processing posts: 31311it [00:02, 10594.97it/s]\n",
      "Processing posts: 31311it [00:03, 10252.99it/s]\n",
      "Processing posts: 31311it [00:03, 10321.28it/s]\n",
      "Processing posts: 31311it [00:03, 9444.40it/s]\n",
      "Processing posts: 31311it [00:03, 10259.32it/s]\n",
      "Processing posts: 31311it [00:02, 10534.05it/s]\n",
      "Processing posts: 31311it [00:03, 10359.99it/s]\n",
      "Processing posts: 31311it [00:03, 10195.08it/s]\n",
      "Processing posts: 31311it [00:03, 9877.55it/s] \n",
      "Processing posts: 31311it [00:03, 9345.94it/s]\n",
      "Processing posts: 31311it [00:03, 10395.58it/s]\n",
      "Processing posts: 31311it [00:03, 10360.54it/s]\n",
      "Processing posts: 31311it [00:03, 10282.31it/s]\n",
      "Processing posts: 31311it [00:03, 9531.20it/s]\n",
      "Processing posts: 31311it [00:03, 10251.45it/s]\n",
      "Processing posts: 31311it [00:02, 10504.03it/s]\n",
      "Processing posts: 31311it [00:03, 10273.32it/s]\n",
      "Processing posts: 31311it [00:03, 10206.16it/s]\n",
      "Processing posts: 31311it [00:03, 9948.49it/s]\n",
      "Processing posts: 31311it [00:03, 9909.76it/s] \n",
      "Processing posts: 31311it [00:03, 10234.69it/s]\n",
      "Processing posts: 31311it [00:02, 10471.91it/s]\n",
      "Processing posts: 31311it [00:03, 10409.27it/s]\n",
      "Processing posts: 31311it [00:03, 9794.23it/s]\n",
      "Processing posts: 31311it [00:03, 9802.73it/s] \n",
      "Processing posts: 31311it [00:02, 10601.39it/s]\n",
      "Processing posts: 31311it [00:03, 10085.90it/s]\n",
      "Processing posts: 31311it [00:02, 10709.05it/s]\n",
      "Processing posts: 31311it [00:03, 9182.10it/s]\n",
      "Processing posts: 31311it [00:03, 9041.48it/s]\n",
      "Processing posts: 31311it [00:03, 10278.55it/s]\n",
      "Processing posts: 31311it [00:03, 9174.37it/s]\n",
      "Processing posts: 31311it [00:03, 9694.68it/s] \n",
      "Processing posts: 31311it [00:03, 9737.55it/s]\n",
      "Processing posts: 31311it [00:03, 9909.79it/s]\n",
      "Processing posts: 31311it [00:02, 10787.14it/s]\n",
      "Processing posts: 31311it [00:02, 10565.10it/s]\n",
      "Processing posts: 31311it [00:03, 10359.74it/s]\n",
      "Processing posts: 31311it [00:02, 10723.11it/s]\n",
      "Processing posts: 31311it [00:03, 9568.00it/s] \n",
      "Processing posts: 31311it [00:02, 10856.87it/s]\n",
      "Processing posts: 31311it [00:02, 10489.12it/s]\n",
      "Processing posts: 107it [05:09,  2.90s/it]\n"
     ]
    }
   ],
   "source": [
    "matches_behaviours_3 = stemming_and_matching( third_half , selected_rows)\n"
   ]
  },
  {
   "cell_type": "code",
   "execution_count": 39,
   "id": "a81efc6d",
   "metadata": {},
   "outputs": [],
   "source": [
    "matches_behaviours_3.to_csv(r'C:\\Users\\leona\\OneDrive\\Desktop\\Tesi\\Pipeline\\Datasets\\Pipeline\\SocialNetworksPosts\\Reddit\\Months\\11\\three_behaviours.csv')"
   ]
  },
  {
   "cell_type": "code",
   "execution_count": 40,
   "id": "fb269744",
   "metadata": {},
   "outputs": [
    {
     "data": {
      "text/html": [
       "<div>\n",
       "<style scoped>\n",
       "    .dataframe tbody tr th:only-of-type {\n",
       "        vertical-align: middle;\n",
       "    }\n",
       "\n",
       "    .dataframe tbody tr th {\n",
       "        vertical-align: top;\n",
       "    }\n",
       "\n",
       "    .dataframe thead th {\n",
       "        text-align: right;\n",
       "    }\n",
       "</style>\n",
       "<table border=\"1\" class=\"dataframe\">\n",
       "  <thead>\n",
       "    <tr style=\"text-align: right;\">\n",
       "      <th></th>\n",
       "      <th>full_text</th>\n",
       "      <th>keyword</th>\n",
       "    </tr>\n",
       "  </thead>\n",
       "  <tbody>\n",
       "    <tr>\n",
       "      <th>0</th>\n",
       "      <td>Passed A+ 1101 in 2 weeks start to finish.. Good afternoon, everyone!\\n\\nWriting to both celebrate passing the first half of my A+ journey as well as to provide information to those who are either considering starting *or* are currently in process of studying. Just a few housekeeping items to kick things off:\\n\\n* I'm 33 years old and have worked in corporate finance for the last 10 years.\\n* I have worked call center, operations, been a team lead, and ultimately a manager for several years now.\\n* Computers and IT have been something that I've been heavily interested in as a hobby since I was 15 or 16 years old.\\n* I studied for 50-55 total hours over the course of the last two weeks and tested this morning.\\n\\nWith the above having been covered, I am absolutely amazed at what I didn't know (and also now have a curiosity for what I *still don't know* - seems infinite) after having studied for the 1101 in and of itself. There are so many cool things that I've only needed in passing...</td>\n",
       "      <td>process interest</td>\n",
       "    </tr>\n",
       "    <tr>\n",
       "      <th>1</th>\n",
       "      <td>Working in a company that makes proprietary software vs open source. Hi, I would like to ask about differences between working in a company that makes proprietary software vs company that makes open source software. I am interested to know about differences in metodologies, processes or culture, not if one pays more than other. Or why it would be important for \"open source\" company to look for someone who already has open source experience.</td>\n",
       "      <td>process interest</td>\n",
       "    </tr>\n",
       "    <tr>\n",
       "      <th>2</th>\n",
       "      <td>[OpenCV, Windows] Reading frames from a specific window - PS Remote Play gives black screen. I'm trying to capture gameplay from my PlayStation 5 into OpenCV. Using PS Remote Play, I'm able to view the live feed on my PC as a window. I then tried to read frames from this window in OpenCV, but the frame is black: [Screenshot](https://imgur.com/a/3JPHoEt)\\n\\nI am using code sourced from [here](https://github.com/learncodebygaming/opencv_tutorials/tree/master/005_real_time): just using the files `main.py` and `windowcapture.py` with the window name 'PS Remote Play'. The window does not need to be actually visible on screen, although it does need to be non-minimised.\\n\\nI tried viewing other windows and had mixed results: Remote Play and Microsoft To Do show black screens, Microsoft Whiteboard shows a white screen (and it's not the board), while Spotify does actually work. So it seems the code is just a bit unreliable. I've copied the actual code I'm using here.\\n\\n`main.py`\\n\\n```\\nim...</td>\n",
       "      <td>process interest</td>\n",
       "    </tr>\n",
       "    <tr>\n",
       "      <th>3</th>\n",
       "      <td>Title: Seeking Inspiration for New Automations in Chronicle SOAR. Hello,\\n\\nI work as a cyber security analyst in a SOC company, and our team relies heavily on Chronicle SOAR as our ticketing system. Lately, my team leader challenged us to come up with fresh ideas for new automations to enhance our incident response process and improve overall efficiency.\\n\\nI wanted to reach out to gather your insights, experiences, and suggestions on potential automations that you have found effective in your own security operations. Whether it's automating repetitive tasks, streamlining incident triage, or integrating with other security tools, we're open to exploring all possibilities.\\n\\nHere are a few areas we have already automated to give you an idea:\\n\\n1. Phishing email analysis and automated response\\n2. Malware detection and containment\\n3. User account management and access controls\\n4. Vulnerability scanning and reporting\\n5. SIEM alert enrichment and prioritization\\n\\nWe are particul...</td>\n",
       "      <td>process interest</td>\n",
       "    </tr>\n",
       "    <tr>\n",
       "      <th>4</th>\n",
       "      <td>Seeking Inspiration for New Automations in Chronicle SOAR. Hello,\\n\\nI work as a cyber security analyst in a SOC company, and our team relies heavily on Chronicle SOAR as our ticketing system. Lately, my team leader challenged us to come up with fresh ideas for new automations to enhance our incident response process and improve overall efficiency.\\n\\nI wanted to reach out to gather your insights, experiences, and suggestions on potential automations that you have found effective in your own security operations. Whether it's automating repetitive tasks, streamlining incident triage, or integrating with other security tools, we're open to exploring all possibilities.\\n\\nHere are a few areas we have already automated to give you an idea:\\n\\n1. Phishing email analysis and automated response\\n2. Malware detection and containment\\n3. User account management and access controls\\n4. Vulnerability scanning and reporting\\n5. SIEM alert enrichment and prioritization\\n\\nWe are particularly in...</td>\n",
       "      <td>process interest</td>\n",
       "    </tr>\n",
       "    <tr>\n",
       "      <th>...</th>\n",
       "      <td>...</td>\n",
       "      <td>...</td>\n",
       "    </tr>\n",
       "    <tr>\n",
       "      <th>1017</th>\n",
       "      <td>Freshly Reinstalled MS Store Crashing On App-Page Open. This problem appears to be persisting even after using PowerShell to uninstall and reinstall the MS Store. Every single time I open the page of an app, in order to download it, it opens, the page sits for a second and loads, and right as it loads it crashes. I'm honestly unsure of what else to try, and MS is persistent that we HAVE to download apps from the actual store app, so I'm stuck.</td>\n",
       "      <td>powershell download</td>\n",
       "    </tr>\n",
       "    <tr>\n",
       "      <th>1018</th>\n",
       "      <td>Easily open PowerShell or CMD in any folder with this registry file. Hi everyone,\\n\\nIf you frequently work with the command line in Windows, you might find it useful to open a PowerShell or CMD prompt in a specific folder without navigating to it manually. Fortunately, you can add two new options to the right-click menu of any folder to do just that, by using a registry file.\\n\\nI have created a repository on GitHub called \"Terminal-Here-Windows\" that contains the registry file and some additional files to make it even easier to use.\\n\\nHere's how to download and use it:\\n\\nGo to the repository page at https://github.com/Ajotah98/Terminal-Here-Windows\\n\\nClick on the green \"Code\" button and select \"Download ZIP\". This will download a ZIP archive containing the registry file and some other files.\\n\\nExtract the contents of the ZIP archive to a folder of your choice.\\n\\nDouble-click the Terminal_here.reg file to merge its contents into the registry. Confirm any prompts that appear.\\...</td>\n",
       "      <td>powershell download</td>\n",
       "    </tr>\n",
       "    <tr>\n",
       "      <th>1019</th>\n",
       "      <td>How do you add recipient to safe senders list for ALL users in the organization. I found some janky method via powershell but this is not a viable method.\\n\\n&amp;#x200B;\\n\\nThis is for the purpose of automatic downloading of messages from a particular internal recipient we have that broadcasts company updates. \\n\\nAdding the sender to a whitelist via exchange will only mark the SCL -1.  That is not going to allow the enablement of downloading automatic pictures.\\n\\nThe pictures are external websites, which is why they're not downloading automatically.  I understand that is the \"Safe\" way, but I am getting barked at every time it happens and adding this user to safe senders \"fixes\" the issue.</td>\n",
       "      <td>powershell download</td>\n",
       "    </tr>\n",
       "    <tr>\n",
       "      <th>1020</th>\n",
       "      <td>Basic Reverse Shell - Now What?. I have an encrypted payload that can (usually) bypass Windows 10 AV in my home lab.  I've tried using metasploit to upgrade it to a meterpreter session using both the sessions -u and the \\npost/multi/manage/shell_to_meterpreter option, and both result in the error: \"error: \"NoMethodError undefined method 'include?' for nil:NilClass\" - whatever that means.\\n\\nI've tried metasploit and BC Empire and a few other things in an attempt to turn my basic reverse shell into something else with no success.\\n\\nSo my question is, what can you do with a basic reverse shell other than browse files and retrieve system info?  What are some other techniques or tools I can try to turn that shell into something with greater utility, privileges, or persistence?\\nWith a basic CMD shell, are there ways to download or upload files?\\nIs there a way to get a powershell from CMD?\\n\\nTarget Machine: Windows 10 with AV turned on (no cloud)\\nAttacker Machine: Kali\\nMetasploit l...</td>\n",
       "      <td>powershell download</td>\n",
       "    </tr>\n",
       "    <tr>\n",
       "      <th>1021</th>\n",
       "      <td>Sketchy download. Someone told me to download \"Arena Wars\"\\n\\nDidn't trust my gut, went to \"arenwars.com\" and downloaded the dumb thing.\\n\\nWindows PowerShell opened, I immediately closed it, disconnected from internet, ran a scan with Windows Defender and Malwarebytes. Nothing came up, but I'm spooked.\\n\\nI was on a VPN when I attempted the install, how screwed am I?</td>\n",
       "      <td>powershell download</td>\n",
       "    </tr>\n",
       "  </tbody>\n",
       "</table>\n",
       "<p>2497 rows × 2 columns</p>\n",
       "</div>"
      ],
      "text/plain": [
       "                                                                                                                                                                                                                                                                                                                                                                                                                                                                                                                                                                                                                                                                                                                                                                                                                                                                                                                                                                                                                                    full_text  \\\n",
       "0     Passed A+ 1101 in 2 weeks start to finish.. Good afternoon, everyone!\\n\\nWriting to both celebrate passing the first half of my A+ journey as well as to provide information to those who are either considering starting *or* are currently in process of studying. Just a few housekeeping items to kick things off:\\n\\n* I'm 33 years old and have worked in corporate finance for the last 10 years.\\n* I have worked call center, operations, been a team lead, and ultimately a manager for several years now.\\n* Computers and IT have been something that I've been heavily interested in as a hobby since I was 15 or 16 years old.\\n* I studied for 50-55 total hours over the course of the last two weeks and tested this morning.\\n\\nWith the above having been covered, I am absolutely amazed at what I didn't know (and also now have a curiosity for what I *still don't know* - seems infinite) after having studied for the 1101 in and of itself. There are so many cool things that I've only needed in passing...   \n",
       "1                                                                                                                                                                                                                                                                                                                                                                                                                                                                                                                                                                                Working in a company that makes proprietary software vs open source. Hi, I would like to ask about differences between working in a company that makes proprietary software vs company that makes open source software. I am interested to know about differences in metodologies, processes or culture, not if one pays more than other. Or why it would be important for \"open source\" company to look for someone who already has open source experience.   \n",
       "2     [OpenCV, Windows] Reading frames from a specific window - PS Remote Play gives black screen. I'm trying to capture gameplay from my PlayStation 5 into OpenCV. Using PS Remote Play, I'm able to view the live feed on my PC as a window. I then tried to read frames from this window in OpenCV, but the frame is black: [Screenshot](https://imgur.com/a/3JPHoEt)\\n\\nI am using code sourced from [here](https://github.com/learncodebygaming/opencv_tutorials/tree/master/005_real_time): just using the files `main.py` and `windowcapture.py` with the window name 'PS Remote Play'. The window does not need to be actually visible on screen, although it does need to be non-minimised.\\n\\nI tried viewing other windows and had mixed results: Remote Play and Microsoft To Do show black screens, Microsoft Whiteboard shows a white screen (and it's not the board), while Spotify does actually work. So it seems the code is just a bit unreliable. I've copied the actual code I'm using here.\\n\\n`main.py`\\n\\n```\\nim...   \n",
       "3     Title: Seeking Inspiration for New Automations in Chronicle SOAR. Hello,\\n\\nI work as a cyber security analyst in a SOC company, and our team relies heavily on Chronicle SOAR as our ticketing system. Lately, my team leader challenged us to come up with fresh ideas for new automations to enhance our incident response process and improve overall efficiency.\\n\\nI wanted to reach out to gather your insights, experiences, and suggestions on potential automations that you have found effective in your own security operations. Whether it's automating repetitive tasks, streamlining incident triage, or integrating with other security tools, we're open to exploring all possibilities.\\n\\nHere are a few areas we have already automated to give you an idea:\\n\\n1. Phishing email analysis and automated response\\n2. Malware detection and containment\\n3. User account management and access controls\\n4. Vulnerability scanning and reporting\\n5. SIEM alert enrichment and prioritization\\n\\nWe are particul...   \n",
       "4     Seeking Inspiration for New Automations in Chronicle SOAR. Hello,\\n\\nI work as a cyber security analyst in a SOC company, and our team relies heavily on Chronicle SOAR as our ticketing system. Lately, my team leader challenged us to come up with fresh ideas for new automations to enhance our incident response process and improve overall efficiency.\\n\\nI wanted to reach out to gather your insights, experiences, and suggestions on potential automations that you have found effective in your own security operations. Whether it's automating repetitive tasks, streamlining incident triage, or integrating with other security tools, we're open to exploring all possibilities.\\n\\nHere are a few areas we have already automated to give you an idea:\\n\\n1. Phishing email analysis and automated response\\n2. Malware detection and containment\\n3. User account management and access controls\\n4. Vulnerability scanning and reporting\\n5. SIEM alert enrichment and prioritization\\n\\nWe are particularly in...   \n",
       "...                                                                                                                                                                                                                                                                                                                                                                                                                                                                                                                                                                                                                                                                                                                                                                                                                                                                                                                                                                                                                                       ...   \n",
       "1017                                                                                                                                                                                                                                                                                                                                                                                                                                                                                                                                                                          Freshly Reinstalled MS Store Crashing On App-Page Open. This problem appears to be persisting even after using PowerShell to uninstall and reinstall the MS Store. Every single time I open the page of an app, in order to download it, it opens, the page sits for a second and loads, and right as it loads it crashes. I'm honestly unsure of what else to try, and MS is persistent that we HAVE to download apps from the actual store app, so I'm stuck.   \n",
       "1018  Easily open PowerShell or CMD in any folder with this registry file. Hi everyone,\\n\\nIf you frequently work with the command line in Windows, you might find it useful to open a PowerShell or CMD prompt in a specific folder without navigating to it manually. Fortunately, you can add two new options to the right-click menu of any folder to do just that, by using a registry file.\\n\\nI have created a repository on GitHub called \"Terminal-Here-Windows\" that contains the registry file and some additional files to make it even easier to use.\\n\\nHere's how to download and use it:\\n\\nGo to the repository page at https://github.com/Ajotah98/Terminal-Here-Windows\\n\\nClick on the green \"Code\" button and select \"Download ZIP\". This will download a ZIP archive containing the registry file and some other files.\\n\\nExtract the contents of the ZIP archive to a folder of your choice.\\n\\nDouble-click the Terminal_here.reg file to merge its contents into the registry. Confirm any prompts that appear.\\...   \n",
       "1019                                                                                                                                                                                                                                                                                                                How do you add recipient to safe senders list for ALL users in the organization. I found some janky method via powershell but this is not a viable method.\\n\\n&#x200B;\\n\\nThis is for the purpose of automatic downloading of messages from a particular internal recipient we have that broadcasts company updates. \\n\\nAdding the sender to a whitelist via exchange will only mark the SCL -1.  That is not going to allow the enablement of downloading automatic pictures.\\n\\nThe pictures are external websites, which is why they're not downloading automatically.  I understand that is the \"Safe\" way, but I am getting barked at every time it happens and adding this user to safe senders \"fixes\" the issue.   \n",
       "1020  Basic Reverse Shell - Now What?. I have an encrypted payload that can (usually) bypass Windows 10 AV in my home lab.  I've tried using metasploit to upgrade it to a meterpreter session using both the sessions -u and the \\npost/multi/manage/shell_to_meterpreter option, and both result in the error: \"error: \"NoMethodError undefined method 'include?' for nil:NilClass\" - whatever that means.\\n\\nI've tried metasploit and BC Empire and a few other things in an attempt to turn my basic reverse shell into something else with no success.\\n\\nSo my question is, what can you do with a basic reverse shell other than browse files and retrieve system info?  What are some other techniques or tools I can try to turn that shell into something with greater utility, privileges, or persistence?\\nWith a basic CMD shell, are there ways to download or upload files?\\nIs there a way to get a powershell from CMD?\\n\\nTarget Machine: Windows 10 with AV turned on (no cloud)\\nAttacker Machine: Kali\\nMetasploit l...   \n",
       "1021                                                                                                                                                                                                                                                                                                                                                                                                                                                                                                                                                                                                                                                       Sketchy download. Someone told me to download \"Arena Wars\"\\n\\nDidn't trust my gut, went to \"arenwars.com\" and downloaded the dumb thing.\\n\\nWindows PowerShell opened, I immediately closed it, disconnected from internet, ran a scan with Windows Defender and Malwarebytes. Nothing came up, but I'm spooked.\\n\\nI was on a VPN when I attempted the install, how screwed am I?   \n",
       "\n",
       "                  keyword  \n",
       "0        process interest  \n",
       "1        process interest  \n",
       "2        process interest  \n",
       "3        process interest  \n",
       "4        process interest  \n",
       "...                   ...  \n",
       "1017  powershell download  \n",
       "1018  powershell download  \n",
       "1019  powershell download  \n",
       "1020  powershell download  \n",
       "1021  powershell download  \n",
       "\n",
       "[2497 rows x 2 columns]"
      ]
     },
     "execution_count": 40,
     "metadata": {},
     "output_type": "execute_result"
    }
   ],
   "source": [
    "matches = pd.concat([matches_behaviours_3, matches_behaviours_2, matches_behaviours_1])\n",
    "matches"
   ]
  },
  {
   "cell_type": "code",
   "execution_count": 41,
   "id": "38bac787",
   "metadata": {},
   "outputs": [],
   "source": [
    "matches['keyword type'] = 'behaviour'"
   ]
  },
  {
   "cell_type": "code",
   "execution_count": 42,
   "id": "2a09d111",
   "metadata": {},
   "outputs": [],
   "source": [
    "matches.to_csv(r'C:\\Users\\leona\\OneDrive\\Desktop\\Tesi\\Pipeline\\Datasets\\Pipeline\\SocialNetworksPosts\\Reddit\\Months\\11\\Behaviours.csv')"
   ]
  },
  {
   "cell_type": "markdown",
   "id": "36144587",
   "metadata": {},
   "source": [
    "### Attacks searching"
   ]
  },
  {
   "cell_type": "code",
   "execution_count": 43,
   "id": "0523f54b",
   "metadata": {},
   "outputs": [],
   "source": [
    "l = len(all_attack_name_list)\n",
    "\n",
    "index = l // 2\n",
    "\n",
    "first_half_behaviours = all_attack_name_list[:index]\n",
    "second_half_behaviours = all_attack_name_list[index:]\n"
   ]
  },
  {
   "cell_type": "code",
   "execution_count": 44,
   "id": "4918cbb9",
   "metadata": {},
   "outputs": [
    {
     "name": "stderr",
     "output_type": "stream",
     "text": [
      "Processing posts: 31311it [00:02, 10515.29it/s]\n",
      "Processing posts: 31311it [00:02, 10924.62it/s]\n",
      "Processing posts: 31311it [00:02, 11208.42it/s]\n",
      "Processing posts: 31311it [00:02, 11581.55it/s]\n",
      "Processing posts: 31311it [00:02, 11461.88it/s]\n",
      "Processing posts: 31311it [00:02, 11119.12it/s]\n",
      "Processing posts: 31311it [00:03, 10168.57it/s]\n",
      "Processing posts: 31311it [00:02, 12597.11it/s]\n",
      "Processing posts: 31311it [00:02, 12713.95it/s]\n",
      "Processing posts: 31311it [00:02, 12412.41it/s]\n",
      "Processing posts: 31311it [00:02, 13019.87it/s]\n",
      "Processing posts: 11it [00:29,  2.72s/it]\n"
     ]
    }
   ],
   "source": [
    "matches1 = pd.DataFrame()\n",
    "\n",
    "matches1 = stemming_and_matching( first_half_behaviours , selected_rows)"
   ]
  },
  {
   "cell_type": "code",
   "execution_count": 45,
   "id": "638703fa",
   "metadata": {},
   "outputs": [
    {
     "name": "stderr",
     "output_type": "stream",
     "text": [
      "Processing posts: 31311it [00:02, 11064.79it/s]\n",
      "Processing posts: 31311it [00:02, 11371.33it/s]\n",
      "Processing posts: 31311it [00:03, 10420.24it/s]\n",
      "Processing posts: 31311it [00:03, 9900.34it/s] \n",
      "Processing posts: 31311it [00:02, 10875.68it/s]\n",
      "Processing posts: 31311it [00:02, 10747.30it/s]\n",
      "Processing posts: 31311it [00:02, 10821.16it/s]\n",
      "Processing posts: 31311it [00:03, 10352.49it/s]\n",
      "Processing posts: 31311it [00:03, 10140.94it/s]\n",
      "Processing posts: 31311it [00:02, 12115.79it/s]\n",
      "Processing posts: 31311it [00:02, 12183.97it/s]\n",
      "Processing posts: 31311it [00:02, 12079.21it/s]\n",
      "Processing posts: 12it [00:34,  2.87s/it]\n"
     ]
    }
   ],
   "source": [
    "matches2 = pd.DataFrame()\n",
    "\n",
    "matches2 = stemming_and_matching( second_half_behaviours , selected_rows)"
   ]
  },
  {
   "cell_type": "code",
   "execution_count": 46,
   "id": "ac913507",
   "metadata": {},
   "outputs": [
    {
     "data": {
      "text/html": [
       "<div>\n",
       "<style scoped>\n",
       "    .dataframe tbody tr th:only-of-type {\n",
       "        vertical-align: middle;\n",
       "    }\n",
       "\n",
       "    .dataframe tbody tr th {\n",
       "        vertical-align: top;\n",
       "    }\n",
       "\n",
       "    .dataframe thead th {\n",
       "        text-align: right;\n",
       "    }\n",
       "</style>\n",
       "<table border=\"1\" class=\"dataframe\">\n",
       "  <thead>\n",
       "    <tr style=\"text-align: right;\">\n",
       "      <th></th>\n",
       "      <th>full_text</th>\n",
       "      <th>keyword</th>\n",
       "    </tr>\n",
       "  </thead>\n",
       "  <tbody>\n",
       "    <tr>\n",
       "      <th>0</th>\n",
       "      <td>What is a self-hosted Kubernetes-based PaaS?. What is a self-hosted Kubernetes-based PaaS?\\n\\nA Platform-as-a-Service, or PaaS, is an environment that allows users to run applications without necessarily concerning themselves with the details of the underlying compute resources.  A well-known example of a PaaS for running containers is Heroku.\\n\\nA Kubernetes-based PaaS allows developers to build, deploy, expose and manage containerized applications without concerning themselves with the internals of Kubernetes (like writing YAML manifest).\\n\\nSelf-hosting is the practice of hosting and managing applications on your own server(s) instead of consuming a public PaaS/SaaS.\\n\\nA self-hosted Kubernetes-based PaaS brings all of this together:\\n\\n\\- Install it on your own Kubernetes cluster without handing over the keys to a vendor or allowing a vendor access to your cloud subscription\\n\\n\\- Build OCI compliant images from source code\\n\\n\\- Deploy images as a Functions without writing any...</td>\n",
       "      <td>Registry Run Keys</td>\n",
       "    </tr>\n",
       "    <tr>\n",
       "      <th>1</th>\n",
       "      <td>After signing into windows, three 'dos boxes' appear then disappear.. After a reboot and shortly after logging into windows 10,\\n\\nWhat are the 3 dos boxes that flash in the screen center then disappear?  \\nI answered my own question. Using systernals procexp 'process explorer',  enabled the column start time, and looked through what was running. One of these was microsoft.sharepoint.exe (onedrive). Searching through the registry(Regedt32 and find 'sharepoint.exe') I found this in clsid HKEY\\_USERS\\\\S-1-5-21-988811695-2048861189-3939560014-1002\\\\SOFTWARE\\\\Classes\\\\CLSID\\\\{47E6DCAF-41F8-441C-BD0E-A50D5FE6C4D1}.  \\nThe second one was edgeupdate.exe and the third one dissappeared before it was found. Sharepoint shut down on its own(not using it).\\n\\nLooking through the CLSID section most entreis are .dll not .exe,  Another tool, perfmon /res does not show the sharepoint executable running.  Usually these executables appear under the RUN key but now they are in CLSID under a long {.......</td>\n",
       "      <td>Registry Run Keys</td>\n",
       "    </tr>\n",
       "    <tr>\n",
       "      <th>2</th>\n",
       "      <td>Questions about registry on PDC and Remote Logon Rights. We have started using separate groups to manage users so as to not give the newer engineers more rights than necessary. In more specific terms, these users need to remotely manage user groups and so we decided that the easiest (and cheapest) route would be the use of remote desktop services. \\n\\nOn one of the environments, the user group did not have logon rights over RDP. I made a group policy object to try and assign this right to the group only within the scope of the domain controllers and unfortunately, the logon rights to RDP for the domain controllers now is revoked for administrators, including domain admin. \\n\\nThis is the error message when attempting to remote into PDC VM as domain administrator: https://imgur.com/a/BraMAFq\\n\\nTo try and resolve the issue I did:\\n\\n* Disabling the GPO -&gt; run gpupdate /force\\n* Unlinking the disabled GPO -&gt; run gpupdate /force\\n* Deleting the object altogether -&gt; run gpupdate /force...</td>\n",
       "      <td>Registry Run Keys</td>\n",
       "    </tr>\n",
       "    <tr>\n",
       "      <th>3</th>\n",
       "      <td>Server 2022 terminal servers and black screens on login. Hello - We have a RDS deployment for around 250 users. It consists of one broker, and two host servers. User profiles roam using fslogix, though we have seen this issue occur at another deployment using user profile disks and not fslogix.\\n\\nWe are running into an issue where during higher load times, user logons get black screens when logging in that last 5-10 minutes. If we kill the \"AppReadiness\" service it loads all profiles instantly. If we disable the service entirely, it stops happening entirely, however office logins and a few other things stop working (Windows updates, start menu, etc).\\n\\n&amp;#x200B;\\n\\nI have tried the following and so far nothing has fully solved the issue:\\n\\n* Updated windows\\n* Updated fslogix to the latest hotfix\\n* AppReadinessPreShellTimeoutMs registry key to 30000\\n* Disabled the windows store entirely\\n* Just about every proposed fix in [this chain](https://techcommunity.microsoft.com/t5/azur...</td>\n",
       "      <td>Registry Run Keys</td>\n",
       "    </tr>\n",
       "    <tr>\n",
       "      <th>4</th>\n",
       "      <td>Turning off touchpad using a shortcut. I wanted to create a shortcut to turn off my touchpad and turn it back on, I know this feature does exist in some laptops but mine does not (Dell Insspiron 5999) .  \\nThe problem is  the registry keys is not taking effect while trying to edit them.  \\n\\n\\nI tired editing from both reggedit and cmd and both failed to take effect, the value is changed but the touch pad keeps working \\n\\nComputer\\\\HKEY\\_CURRENT\\_USER\\\\SOFTWARE\\\\Microsoft\\\\Windows\\\\CurrentVersion\\\\PrecisionTouchPad\\\\Status  \\nEnabled 0  \\n\\n\\nand i tried to run the following command:  \\nREG ADD HKCU\\\\SOFTWARE\\\\Microsoft\\\\Windows\\\\CurrentVersion\\\\PrecisionTouchPad\\\\Status /v Enabled /t REG\\_DWORD /d 0 /f  \\n\\n\\nboth instances it didn't take effect, even though by toggling it in setting it works.   \\n\\n\\nany solution for this specific problem? or other ways to make a short cut to toggle the touchpad on and off?</td>\n",
       "      <td>Registry Run Keys</td>\n",
       "    </tr>\n",
       "    <tr>\n",
       "      <th>...</th>\n",
       "      <td>...</td>\n",
       "      <td>...</td>\n",
       "    </tr>\n",
       "    <tr>\n",
       "      <th>13</th>\n",
       "      <td>Video surveillance system LAN impact. Greetings, fellow Redditors! We are in the planning phase for a new school site and looking to establish both LAN infrastructure and a video surveillance system. \\n\\nIt's worth noting that the regular network traffic at the new school site will primarily consist of internet-bound activities utilizing a 1 Gbps symmetric connection. The majority of data transfers will be directed towards the internet, while a smaller portion will be allocated for local traffic, such as printing tasks and access to a limited number of local resources on the file server, if necessary.\\n\\nThe proposed video surveillance system will comprise 55 Poe cameras, with each camera potentially requiring up to 10 Mb/s bandwidth to the local recording server (550 Mb/s) and monitoring workstation. As we consider the impact on the LAN, we would appreciate any insights or experiences you can share. \\n\\nSwitches are planned to be stacked and interconnected to MDF through 10 Gb/s f...</td>\n",
       "      <td>550</td>\n",
       "    </tr>\n",
       "    <tr>\n",
       "      <th>14</th>\n",
       "      <td>Traffic Limiter and Slow DL Speed After Upgrade to GiG. Hi all,\\n\\nI had setup traffic limiter and FQCodel to improve buffer bloat . I followed these instructions and they worked great when i had 550 Mbps down and 20Mbps up. I upgraded to gig speed and now my DL speed is only slightly better @ 620Mbps. I messed around with queue length from 2000 (which worked great with 550Mbps) all the way to 10K and nothing worked. If I remove all the limiters i get 980Mbps but bufferbloat score of C.\\n\\n&amp;#x200B;\\n\\nI increased the bandwidth setting from 900Mbps to 1200Mbps and then i get 980Mbps on speed test.\\n\\n&amp;#x200B;\\n\\nEDIT: I changed bandwidth down to 980Mbps and works good. I set it between 960 and 900Mbps and DL speed drops to 620ishMbps. I'll just keep it at 980Mbps as bufferbloat score goes to B which is fine i guess.\\n\\n&amp;#x200B;\\n\\nOn  **23.01-RELEASE** using i3 13100 and Intel x710-DA2 using GBe adapters until i upgrade my switches.\\n\\n[https://www.youtube.com/watch?v=iXqExAALzR8](h...</td>\n",
       "      <td>550</td>\n",
       "    </tr>\n",
       "    <tr>\n",
       "      <th>15</th>\n",
       "      <td>Prrofpoint - blocking our domain but couldn't figure out where or how. We have been battling this issue for almost a month now so I hope someone could point me in the right direction. The NDR status code is \"550 5.7.1: Sender address rejected: User email address is marked as invalid \"\\n\\n **Message rejected by:**mx1-us1.ppe-hosted.com \\n\\nI'm sending from [123@abc.com](mailto:123@abc.com) to [123@def.com](mailto:123@def.com) (Proofpoint) and that's the NDR I get, I created another email [234@abc.com](mailto:234@abc.com) to test sending and it went through! I tried sending from an existing email [456@abc.com](mailto:456@abc.com) ( probably same time that [123@abc.com](mailto:123@abc.com) was created )  and it went through as well. The other users at abc.com is still unable to send.\\n\\n&amp;#x200B;\\n\\nWe are now getting reports that we cannot send to a domain that's under Proofpoint. We can't get ahold of anyone while the recipients' IT tried to raise it to Proofpoint but says \" We can't...</td>\n",
       "      <td>550</td>\n",
       "    </tr>\n",
       "    <tr>\n",
       "      <th>16</th>\n",
       "      <td>concerned about a gpu purchase. I have a 550 w psu and would like to buy a 2060 it says that it is the minimum requirement for a 2060 and I'm worried that as its the minimum it wouldn't work to good and just want to know if I'm overtaking or what because I could go with a lower gpu but not if I don't have to so just looking for opinions from more educated people so just let me know what you think I should do</td>\n",
       "      <td>550</td>\n",
       "    </tr>\n",
       "    <tr>\n",
       "      <th>17</th>\n",
       "      <td>Receiving Issue with Encrypted Emails. Our Office 365 tenant just started having issues receiving emails for companies like ZIX, RiverApp, and SignNow just to name a few.  The message is hitting Exchange Online, failing to be delivered to the recipient, and sending a NDR to the sender.  The Error is as follows.\\n\\n**Error:** 550 5.7.162 OmeEncryptionAgent; Permanent Failure 550-5.7.162 Exception encountered: RmException. 550-5.7.162 Exception message: ETR encryption only applies to outgoing mail. FailureCode:UnknownFailure. Recoverable:False.. 550 5.7.162 Please contact your system administrator for more information  \\nA non-delivery report (NDR) message was sent to noreply@signnow.com. The NDR might provide more details about why the email message wasn't delivered and how to fix the issue. \\n\\nWe have the proper licensing to use OME and haven't had any issues until Monday.  The only thing that was done was an ALIAS domain was added for Exchange Online.  I am able to send Sensitive...</td>\n",
       "      <td>550</td>\n",
       "    </tr>\n",
       "  </tbody>\n",
       "</table>\n",
       "<p>208 rows × 2 columns</p>\n",
       "</div>"
      ],
      "text/plain": [
       "                                                                                                                                                                                                                                                                                                                                                                                                                                                                                                                                                                                                                                                                                                                                                                                                                                                                                                                                                                                                                                  full_text  \\\n",
       "0   What is a self-hosted Kubernetes-based PaaS?. What is a self-hosted Kubernetes-based PaaS?\\n\\nA Platform-as-a-Service, or PaaS, is an environment that allows users to run applications without necessarily concerning themselves with the details of the underlying compute resources.  A well-known example of a PaaS for running containers is Heroku.\\n\\nA Kubernetes-based PaaS allows developers to build, deploy, expose and manage containerized applications without concerning themselves with the internals of Kubernetes (like writing YAML manifest).\\n\\nSelf-hosting is the practice of hosting and managing applications on your own server(s) instead of consuming a public PaaS/SaaS.\\n\\nA self-hosted Kubernetes-based PaaS brings all of this together:\\n\\n\\- Install it on your own Kubernetes cluster without handing over the keys to a vendor or allowing a vendor access to your cloud subscription\\n\\n\\- Build OCI compliant images from source code\\n\\n\\- Deploy images as a Functions without writing any...   \n",
       "1   After signing into windows, three 'dos boxes' appear then disappear.. After a reboot and shortly after logging into windows 10,\\n\\nWhat are the 3 dos boxes that flash in the screen center then disappear?  \\nI answered my own question. Using systernals procexp 'process explorer',  enabled the column start time, and looked through what was running. One of these was microsoft.sharepoint.exe (onedrive). Searching through the registry(Regedt32 and find 'sharepoint.exe') I found this in clsid HKEY\\_USERS\\\\S-1-5-21-988811695-2048861189-3939560014-1002\\\\SOFTWARE\\\\Classes\\\\CLSID\\\\{47E6DCAF-41F8-441C-BD0E-A50D5FE6C4D1}.  \\nThe second one was edgeupdate.exe and the third one dissappeared before it was found. Sharepoint shut down on its own(not using it).\\n\\nLooking through the CLSID section most entreis are .dll not .exe,  Another tool, perfmon /res does not show the sharepoint executable running.  Usually these executables appear under the RUN key but now they are in CLSID under a long {.......   \n",
       "2   Questions about registry on PDC and Remote Logon Rights. We have started using separate groups to manage users so as to not give the newer engineers more rights than necessary. In more specific terms, these users need to remotely manage user groups and so we decided that the easiest (and cheapest) route would be the use of remote desktop services. \\n\\nOn one of the environments, the user group did not have logon rights over RDP. I made a group policy object to try and assign this right to the group only within the scope of the domain controllers and unfortunately, the logon rights to RDP for the domain controllers now is revoked for administrators, including domain admin. \\n\\nThis is the error message when attempting to remote into PDC VM as domain administrator: https://imgur.com/a/BraMAFq\\n\\nTo try and resolve the issue I did:\\n\\n* Disabling the GPO -> run gpupdate /force\\n* Unlinking the disabled GPO -> run gpupdate /force\\n* Deleting the object altogether -> run gpupdate /force...   \n",
       "3   Server 2022 terminal servers and black screens on login. Hello - We have a RDS deployment for around 250 users. It consists of one broker, and two host servers. User profiles roam using fslogix, though we have seen this issue occur at another deployment using user profile disks and not fslogix.\\n\\nWe are running into an issue where during higher load times, user logons get black screens when logging in that last 5-10 minutes. If we kill the \"AppReadiness\" service it loads all profiles instantly. If we disable the service entirely, it stops happening entirely, however office logins and a few other things stop working (Windows updates, start menu, etc).\\n\\n&#x200B;\\n\\nI have tried the following and so far nothing has fully solved the issue:\\n\\n* Updated windows\\n* Updated fslogix to the latest hotfix\\n* AppReadinessPreShellTimeoutMs registry key to 30000\\n* Disabled the windows store entirely\\n* Just about every proposed fix in [this chain](https://techcommunity.microsoft.com/t5/azur...   \n",
       "4                                                                               Turning off touchpad using a shortcut. I wanted to create a shortcut to turn off my touchpad and turn it back on, I know this feature does exist in some laptops but mine does not (Dell Insspiron 5999) .  \\nThe problem is  the registry keys is not taking effect while trying to edit them.  \\n\\n\\nI tired editing from both reggedit and cmd and both failed to take effect, the value is changed but the touch pad keeps working \\n\\nComputer\\\\HKEY\\_CURRENT\\_USER\\\\SOFTWARE\\\\Microsoft\\\\Windows\\\\CurrentVersion\\\\PrecisionTouchPad\\\\Status  \\nEnabled 0  \\n\\n\\nand i tried to run the following command:  \\nREG ADD HKCU\\\\SOFTWARE\\\\Microsoft\\\\Windows\\\\CurrentVersion\\\\PrecisionTouchPad\\\\Status /v Enabled /t REG\\_DWORD /d 0 /f  \\n\\n\\nboth instances it didn't take effect, even though by toggling it in setting it works.   \\n\\n\\nany solution for this specific problem? or other ways to make a short cut to toggle the touchpad on and off?   \n",
       "..                                                                                                                                                                                                                                                                                                                                                                                                                                                                                                                                                                                                                                                                                                                                                                                                                                                                                                                                                                                                                                      ...   \n",
       "13  Video surveillance system LAN impact. Greetings, fellow Redditors! We are in the planning phase for a new school site and looking to establish both LAN infrastructure and a video surveillance system. \\n\\nIt's worth noting that the regular network traffic at the new school site will primarily consist of internet-bound activities utilizing a 1 Gbps symmetric connection. The majority of data transfers will be directed towards the internet, while a smaller portion will be allocated for local traffic, such as printing tasks and access to a limited number of local resources on the file server, if necessary.\\n\\nThe proposed video surveillance system will comprise 55 Poe cameras, with each camera potentially requiring up to 10 Mb/s bandwidth to the local recording server (550 Mb/s) and monitoring workstation. As we consider the impact on the LAN, we would appreciate any insights or experiences you can share. \\n\\nSwitches are planned to be stacked and interconnected to MDF through 10 Gb/s f...   \n",
       "14  Traffic Limiter and Slow DL Speed After Upgrade to GiG. Hi all,\\n\\nI had setup traffic limiter and FQCodel to improve buffer bloat . I followed these instructions and they worked great when i had 550 Mbps down and 20Mbps up. I upgraded to gig speed and now my DL speed is only slightly better @ 620Mbps. I messed around with queue length from 2000 (which worked great with 550Mbps) all the way to 10K and nothing worked. If I remove all the limiters i get 980Mbps but bufferbloat score of C.\\n\\n&#x200B;\\n\\nI increased the bandwidth setting from 900Mbps to 1200Mbps and then i get 980Mbps on speed test.\\n\\n&#x200B;\\n\\nEDIT: I changed bandwidth down to 980Mbps and works good. I set it between 960 and 900Mbps and DL speed drops to 620ishMbps. I'll just keep it at 980Mbps as bufferbloat score goes to B which is fine i guess.\\n\\n&#x200B;\\n\\nOn  **23.01-RELEASE** using i3 13100 and Intel x710-DA2 using GBe adapters until i upgrade my switches.\\n\\n[https://www.youtube.com/watch?v=iXqExAALzR8](h...   \n",
       "15  Prrofpoint - blocking our domain but couldn't figure out where or how. We have been battling this issue for almost a month now so I hope someone could point me in the right direction. The NDR status code is \"550 5.7.1: Sender address rejected: User email address is marked as invalid \"\\n\\n **Message rejected by:**mx1-us1.ppe-hosted.com \\n\\nI'm sending from [123@abc.com](mailto:123@abc.com) to [123@def.com](mailto:123@def.com) (Proofpoint) and that's the NDR I get, I created another email [234@abc.com](mailto:234@abc.com) to test sending and it went through! I tried sending from an existing email [456@abc.com](mailto:456@abc.com) ( probably same time that [123@abc.com](mailto:123@abc.com) was created )  and it went through as well. The other users at abc.com is still unable to send.\\n\\n&#x200B;\\n\\nWe are now getting reports that we cannot send to a domain that's under Proofpoint. We can't get ahold of anyone while the recipients' IT tried to raise it to Proofpoint but says \" We can't...   \n",
       "16                                                                                                                                                                                                                                                                                                                                                                                                                                                                                                                                                                                                              concerned about a gpu purchase. I have a 550 w psu and would like to buy a 2060 it says that it is the minimum requirement for a 2060 and I'm worried that as its the minimum it wouldn't work to good and just want to know if I'm overtaking or what because I could go with a lower gpu but not if I don't have to so just looking for opinions from more educated people so just let me know what you think I should do   \n",
       "17  Receiving Issue with Encrypted Emails. Our Office 365 tenant just started having issues receiving emails for companies like ZIX, RiverApp, and SignNow just to name a few.  The message is hitting Exchange Online, failing to be delivered to the recipient, and sending a NDR to the sender.  The Error is as follows.\\n\\n**Error:** 550 5.7.162 OmeEncryptionAgent; Permanent Failure 550-5.7.162 Exception encountered: RmException. 550-5.7.162 Exception message: ETR encryption only applies to outgoing mail. FailureCode:UnknownFailure. Recoverable:False.. 550 5.7.162 Please contact your system administrator for more information  \\nA non-delivery report (NDR) message was sent to noreply@signnow.com. The NDR might provide more details about why the email message wasn't delivered and how to fix the issue. \\n\\nWe have the proper licensing to use OME and haven't had any issues until Monday.  The only thing that was done was an ALIAS domain was added for Exchange Online.  I am able to send Sensitive...   \n",
       "\n",
       "              keyword  \n",
       "0   Registry Run Keys  \n",
       "1   Registry Run Keys  \n",
       "2   Registry Run Keys  \n",
       "3   Registry Run Keys  \n",
       "4   Registry Run Keys  \n",
       "..                ...  \n",
       "13                550  \n",
       "14                550  \n",
       "15                550  \n",
       "16                550  \n",
       "17                550  \n",
       "\n",
       "[208 rows x 2 columns]"
      ]
     },
     "execution_count": 46,
     "metadata": {},
     "output_type": "execute_result"
    }
   ],
   "source": [
    "matches = pd.concat([matches1, matches2])\n",
    "matches"
   ]
  },
  {
   "cell_type": "code",
   "execution_count": 47,
   "id": "adb93597",
   "metadata": {},
   "outputs": [],
   "source": [
    "matches['keyword type'] = 'attack'"
   ]
  },
  {
   "cell_type": "code",
   "execution_count": 48,
   "id": "65ad27a3",
   "metadata": {},
   "outputs": [],
   "source": [
    "matches.to_csv(r'C:\\Users\\leona\\OneDrive\\Desktop\\Tesi\\Pipeline\\Datasets\\Pipeline\\SocialNetworksPosts\\Reddit\\Months\\11\\Posts_filteredby_Attacks.csv')"
   ]
  },
  {
   "cell_type": "markdown",
   "id": "e5891f03",
   "metadata": {},
   "source": [
    "### Malware names searching"
   ]
  },
  {
   "cell_type": "code",
   "execution_count": 66,
   "id": "153f5078",
   "metadata": {
    "scrolled": true
   },
   "outputs": [
    {
     "name": "stderr",
     "output_type": "stream",
     "text": [
      "Processing words:   0%|          | 0/56 [00:00<?, ?it/s]"
     ]
    },
    {
     "name": "stdout",
     "output_type": "stream",
     "text": [
      "Now: remcos \n"
     ]
    },
    {
     "name": "stderr",
     "output_type": "stream",
     "text": [
      "Processing posts: 100%|██████████| 31311/31311 [00:08<00:00, 3656.17it/s]\n",
      "Processing words:   2%|▏         | 1/56 [00:08<07:51,  8.57s/it]"
     ]
    },
    {
     "name": "stdout",
     "output_type": "stream",
     "text": [
      "Now: generic mg \n"
     ]
    },
    {
     "name": "stderr",
     "output_type": "stream",
     "text": [
      "Processing posts: 100%|██████████| 31311/31311 [00:07<00:00, 3981.66it/s]\n",
      "Processing words:   4%|▎         | 2/56 [00:16<07:20,  8.16s/it]"
     ]
    },
    {
     "name": "stdout",
     "output_type": "stream",
     "text": [
      "Now: njrat \n"
     ]
    },
    {
     "name": "stderr",
     "output_type": "stream",
     "text": [
      "Processing posts: 100%|██████████| 31311/31311 [00:07<00:00, 3949.72it/s]\n",
      "Processing words:   5%|▌         | 3/56 [00:24<07:06,  8.06s/it]"
     ]
    },
    {
     "name": "stdout",
     "output_type": "stream",
     "text": [
      "Now: bitrat \n"
     ]
    },
    {
     "name": "stderr",
     "output_type": "stream",
     "text": [
      "Processing posts: 100%|██████████| 31311/31311 [00:07<00:00, 4269.59it/s]\n",
      "Processing words:   7%|▋         | 4/56 [00:31<06:44,  7.78s/it]"
     ]
    },
    {
     "name": "stdout",
     "output_type": "stream",
     "text": [
      "Now: mirai \n"
     ]
    },
    {
     "name": "stderr",
     "output_type": "stream",
     "text": [
      "Processing posts: 100%|██████████| 31311/31311 [00:07<00:00, 4113.89it/s]\n",
      "Processing words:   9%|▉         | 5/56 [00:39<06:33,  7.72s/it]"
     ]
    },
    {
     "name": "stdout",
     "output_type": "stream",
     "text": [
      "Now: injector gen \n"
     ]
    },
    {
     "name": "stderr",
     "output_type": "stream",
     "text": [
      "Processing posts: 100%|██████████| 31311/31311 [00:07<00:00, 4442.81it/s]\n",
      "Processing words:  11%|█         | 6/56 [00:46<06:14,  7.49s/it]"
     ]
    },
    {
     "name": "stdout",
     "output_type": "stream",
     "text": [
      "Now: generickd \n"
     ]
    },
    {
     "name": "stderr",
     "output_type": "stream",
     "text": [
      "Processing posts: 100%|██████████| 31311/31311 [00:06<00:00, 4596.30it/s]\n",
      "Processing words:  12%|█▎        | 7/56 [00:53<05:56,  7.27s/it]"
     ]
    },
    {
     "name": "stdout",
     "output_type": "stream",
     "text": [
      "Now: quasar rat \n"
     ]
    },
    {
     "name": "stderr",
     "output_type": "stream",
     "text": [
      "Processing posts: 100%|██████████| 31311/31311 [00:08<00:00, 3638.30it/s]\n",
      "Processing words:  14%|█▍        | 8/56 [01:01<06:09,  7.70s/it]"
     ]
    },
    {
     "name": "stdout",
     "output_type": "stream",
     "text": [
      "Now: muldrop \n"
     ]
    },
    {
     "name": "stderr",
     "output_type": "stream",
     "text": [
      "Processing posts: 100%|██████████| 31311/31311 [00:07<00:00, 4408.50it/s]\n",
      "Processing words:  16%|█▌        | 9/56 [01:08<05:53,  7.52s/it]"
     ]
    },
    {
     "name": "stdout",
     "output_type": "stream",
     "text": [
      "Now: netwire \n"
     ]
    },
    {
     "name": "stderr",
     "output_type": "stream",
     "text": [
      "Processing posts: 100%|██████████| 31311/31311 [00:08<00:00, 3865.08it/s]\n",
      "Processing words:  18%|█▊        | 10/56 [01:17<05:54,  7.70s/it]"
     ]
    },
    {
     "name": "stdout",
     "output_type": "stream",
     "text": [
      "Now: ave maria \n"
     ]
    },
    {
     "name": "stderr",
     "output_type": "stream",
     "text": [
      "Processing posts: 100%|██████████| 31311/31311 [00:07<00:00, 4372.43it/s]\n",
      "Processing words:  20%|█▉        | 11/56 [01:24<05:39,  7.54s/it]"
     ]
    },
    {
     "name": "stdout",
     "output_type": "stream",
     "text": [
      "Now: script cryxos \n"
     ]
    },
    {
     "name": "stderr",
     "output_type": "stream",
     "text": [
      "Processing posts: 100%|██████████| 31311/31311 [00:07<00:00, 4192.58it/s]\n",
      "Processing words:  21%|██▏       | 12/56 [01:31<05:30,  7.52s/it]"
     ]
    },
    {
     "name": "stdout",
     "output_type": "stream",
     "text": [
      "Now: downloader gen \n"
     ]
    },
    {
     "name": "stderr",
     "output_type": "stream",
     "text": [
      "Processing posts: 100%|██████████| 31311/31311 [00:08<00:00, 3873.32it/s]\n",
      "Processing words:  23%|██▎       | 13/56 [01:39<05:30,  7.69s/it]"
     ]
    },
    {
     "name": "stdout",
     "output_type": "stream",
     "text": [
      "Now: orcus \n"
     ]
    },
    {
     "name": "stderr",
     "output_type": "stream",
     "text": [
      "Processing posts: 100%|██████████| 31311/31311 [00:07<00:00, 4345.41it/s]\n",
      "Processing words:  25%|██▌       | 14/56 [01:46<05:16,  7.55s/it]"
     ]
    },
    {
     "name": "stdout",
     "output_type": "stream",
     "text": [
      "Now: x gen drp \n"
     ]
    },
    {
     "name": "stderr",
     "output_type": "stream",
     "text": [
      "Processing posts: 100%|██████████| 31311/31311 [00:07<00:00, 4402.86it/s]\n",
      "Processing words:  27%|██▋       | 15/56 [01:54<05:04,  7.42s/it]"
     ]
    },
    {
     "name": "stdout",
     "output_type": "stream",
     "text": [
      "Now: agent tesla \n"
     ]
    },
    {
     "name": "stderr",
     "output_type": "stream",
     "text": [
      "Processing posts: 100%|██████████| 31311/31311 [00:07<00:00, 4133.27it/s]\n",
      "Processing words:  29%|██▊       | 16/56 [02:01<04:58,  7.47s/it]"
     ]
    },
    {
     "name": "stdout",
     "output_type": "stream",
     "text": [
      "Now: nanocore rat \n"
     ]
    },
    {
     "name": "stderr",
     "output_type": "stream",
     "text": [
      "Processing posts: 100%|██████████| 31311/31311 [00:08<00:00, 3851.49it/s]\n",
      "Processing words:  30%|███       | 17/56 [02:09<04:59,  7.67s/it]"
     ]
    },
    {
     "name": "stdout",
     "output_type": "stream",
     "text": [
      "Now: redline stealer \n"
     ]
    },
    {
     "name": "stderr",
     "output_type": "stream",
     "text": [
      "Processing posts: 100%|██████████| 31311/31311 [00:07<00:00, 4267.44it/s]\n",
      "Processing words:  32%|███▏      | 18/56 [02:17<04:47,  7.57s/it]"
     ]
    },
    {
     "name": "stdout",
     "output_type": "stream",
     "text": [
      "Now: lumma stealer \n"
     ]
    },
    {
     "name": "stderr",
     "output_type": "stream",
     "text": [
      "Processing posts: 100%|██████████| 31311/31311 [00:07<00:00, 4435.31it/s]\n",
      "Processing words:  34%|███▍      | 19/56 [02:24<04:34,  7.42s/it]"
     ]
    },
    {
     "name": "stdout",
     "output_type": "stream",
     "text": [
      "Now: siggen \n"
     ]
    },
    {
     "name": "stderr",
     "output_type": "stream",
     "text": [
      "Processing posts: 100%|██████████| 31311/31311 [00:09<00:00, 3362.19it/s]\n",
      "Processing words:  36%|███▌      | 20/56 [02:33<04:47,  7.99s/it]"
     ]
    },
    {
     "name": "stdout",
     "output_type": "stream",
     "text": [
      "Now: spynote \n"
     ]
    },
    {
     "name": "stderr",
     "output_type": "stream",
     "text": [
      "Processing posts: 100%|██████████| 31311/31311 [00:09<00:00, 3192.09it/s]\n",
      "Processing words:  38%|███▊      | 21/56 [02:43<04:59,  8.54s/it]"
     ]
    },
    {
     "name": "stdout",
     "output_type": "stream",
     "text": [
      "Now: kryptik gen \n"
     ]
    },
    {
     "name": "stderr",
     "output_type": "stream",
     "text": [
      "Processing posts: 100%|██████████| 31311/31311 [00:08<00:00, 3614.23it/s]\n",
      "Processing words:  39%|███▉      | 22/56 [02:52<04:51,  8.58s/it]"
     ]
    },
    {
     "name": "stdout",
     "output_type": "stream",
     "text": [
      "Now: obfus \n"
     ]
    },
    {
     "name": "stderr",
     "output_type": "stream",
     "text": [
      "Processing posts: 100%|██████████| 31311/31311 [00:08<00:00, 3548.34it/s]\n",
      "Processing words:  41%|████      | 23/56 [03:00<04:45,  8.66s/it]"
     ]
    },
    {
     "name": "stdout",
     "output_type": "stream",
     "text": [
      "Now: kryptik gen eldorado \n"
     ]
    },
    {
     "name": "stderr",
     "output_type": "stream",
     "text": [
      "Processing posts: 100%|██████████| 31311/31311 [00:08<00:00, 3483.41it/s]\n",
      "Processing words:  43%|████▎     | 24/56 [03:09<04:40,  8.76s/it]"
     ]
    },
    {
     "name": "stdout",
     "output_type": "stream",
     "text": [
      "Now: valyria \n"
     ]
    },
    {
     "name": "stderr",
     "output_type": "stream",
     "text": [
      "Processing posts: 100%|██████████| 31311/31311 [00:09<00:00, 3319.99it/s]\n",
      "Processing words:  45%|████▍     | 25/56 [03:19<04:37,  8.97s/it]"
     ]
    },
    {
     "name": "stdout",
     "output_type": "stream",
     "text": [
      "Now: artemis \n"
     ]
    },
    {
     "name": "stderr",
     "output_type": "stream",
     "text": [
      "Processing posts: 100%|██████████| 31311/31311 [00:10<00:00, 2939.13it/s]\n",
      "Processing words:  46%|████▋     | 26/56 [03:30<04:44,  9.48s/it]"
     ]
    },
    {
     "name": "stdout",
     "output_type": "stream",
     "text": [
      "Now: twave evil \n"
     ]
    },
    {
     "name": "stderr",
     "output_type": "stream",
     "text": [
      "Processing posts: 100%|██████████| 31311/31311 [00:08<00:00, 3708.67it/s]\n",
      "Processing words:  48%|████▊     | 27/56 [03:38<04:25,  9.17s/it]"
     ]
    },
    {
     "name": "stdout",
     "output_type": "stream",
     "text": [
      "Now: java gen \n"
     ]
    },
    {
     "name": "stderr",
     "output_type": "stream",
     "text": [
      "Processing posts: 100%|██████████| 31311/31311 [00:07<00:00, 3947.66it/s]\n",
      "Processing words:  50%|█████     | 28/56 [03:46<04:06,  8.80s/it]"
     ]
    },
    {
     "name": "stdout",
     "output_type": "stream",
     "text": [
      "Now: borlanddelphi \n"
     ]
    },
    {
     "name": "stderr",
     "output_type": "stream",
     "text": [
      "Processing posts: 100%|██████████| 31311/31311 [00:07<00:00, 4088.32it/s]\n",
      "Processing words:  52%|█████▏    | 29/56 [03:54<03:48,  8.46s/it]"
     ]
    },
    {
     "name": "stdout",
     "output_type": "stream",
     "text": [
      "Now: cobalt strike \n"
     ]
    },
    {
     "name": "stderr",
     "output_type": "stream",
     "text": [
      "Processing posts: 100%|██████████| 31311/31311 [00:06<00:00, 4500.95it/s]\n",
      "Processing words:  54%|█████▎    | 30/56 [04:01<03:28,  8.01s/it]"
     ]
    },
    {
     "name": "stdout",
     "output_type": "stream",
     "text": [
      "Now: aidetect net \n"
     ]
    },
    {
     "name": "stderr",
     "output_type": "stream",
     "text": [
      "Processing posts: 100%|██████████| 31311/31311 [00:07<00:00, 4381.85it/s]\n",
      "Processing words:  55%|█████▌    | 31/56 [04:08<03:13,  7.75s/it]"
     ]
    },
    {
     "name": "stdout",
     "output_type": "stream",
     "text": [
      "Now: miscreantpunch \n"
     ]
    },
    {
     "name": "stderr",
     "output_type": "stream",
     "text": [
      "Processing posts: 100%|██████████| 31311/31311 [00:06<00:00, 4558.49it/s]\n",
      "Processing words:  57%|█████▋    | 32/56 [04:15<02:59,  7.49s/it]"
     ]
    },
    {
     "name": "stdout",
     "output_type": "stream",
     "text": [
      "Now: perseus \n"
     ]
    },
    {
     "name": "stderr",
     "output_type": "stream",
     "text": [
      "Processing posts: 100%|██████████| 31311/31311 [00:08<00:00, 3483.11it/s]\n",
      "Processing words:  59%|█████▉    | 33/56 [04:24<03:02,  7.95s/it]"
     ]
    },
    {
     "name": "stdout",
     "output_type": "stream",
     "text": [
      "Now: behaveslike generic \n"
     ]
    },
    {
     "name": "stderr",
     "output_type": "stream",
     "text": [
      "Processing posts: 100%|██████████| 31311/31311 [00:06<00:00, 4521.69it/s]\n",
      "Processing words:  61%|██████    | 34/56 [04:31<02:48,  7.64s/it]"
     ]
    },
    {
     "name": "stdout",
     "output_type": "stream",
     "text": [
      "Now: heracles \n"
     ]
    },
    {
     "name": "stderr",
     "output_type": "stream",
     "text": [
      "Processing posts: 100%|██████████| 31311/31311 [00:07<00:00, 4446.47it/s]\n",
      "Processing words:  62%|██████▎   | 35/56 [04:38<02:36,  7.47s/it]"
     ]
    },
    {
     "name": "stdout",
     "output_type": "stream",
     "text": [
      "Now: darkcomet \n"
     ]
    },
    {
     "name": "stderr",
     "output_type": "stream",
     "text": [
      "Processing posts: 100%|██████████| 31311/31311 [00:10<00:00, 2975.60it/s]\n",
      "Processing words:  64%|██████▍   | 36/56 [04:48<02:47,  8.39s/it]"
     ]
    },
    {
     "name": "stdout",
     "output_type": "stream",
     "text": [
      "Now: crypter gen \n"
     ]
    },
    {
     "name": "stderr",
     "output_type": "stream",
     "text": [
      "Processing posts: 100%|██████████| 31311/31311 [00:09<00:00, 3199.08it/s]\n",
      "Processing words:  66%|██████▌   | 37/56 [04:58<02:47,  8.81s/it]"
     ]
    },
    {
     "name": "stdout",
     "output_type": "stream",
     "text": [
      "Now: wannacryptor \n"
     ]
    },
    {
     "name": "stderr",
     "output_type": "stream",
     "text": [
      "Processing posts: 100%|██████████| 31311/31311 [00:09<00:00, 3316.70it/s]\n",
      "Processing words:  68%|██████▊   | 38/56 [05:07<02:42,  9.00s/it]"
     ]
    },
    {
     "name": "stdout",
     "output_type": "stream",
     "text": [
      "Now: formbook \n"
     ]
    },
    {
     "name": "stderr",
     "output_type": "stream",
     "text": [
      "Processing posts: 100%|██████████| 31311/31311 [00:08<00:00, 3696.87it/s]\n",
      "Processing words:  70%|██████▉   | 39/56 [05:16<02:30,  8.84s/it]"
     ]
    },
    {
     "name": "stdout",
     "output_type": "stream",
     "text": [
      "Now: azorult \n"
     ]
    },
    {
     "name": "stderr",
     "output_type": "stream",
     "text": [
      "Processing posts: 100%|██████████| 31311/31311 [00:07<00:00, 4372.91it/s]\n",
      "Processing words:  71%|███████▏  | 40/56 [05:23<02:13,  8.34s/it]"
     ]
    },
    {
     "name": "stdout",
     "output_type": "stream",
     "text": [
      "Now: genmalicious \n"
     ]
    },
    {
     "name": "stderr",
     "output_type": "stream",
     "text": [
      "Processing posts: 100%|██████████| 31311/31311 [00:06<00:00, 4995.55it/s]\n",
      "Processing words:  73%|███████▎  | 41/56 [05:29<01:55,  7.72s/it]"
     ]
    },
    {
     "name": "stdout",
     "output_type": "stream",
     "text": [
      "Now: bv downloader drp \n"
     ]
    },
    {
     "name": "stderr",
     "output_type": "stream",
     "text": [
      "Processing posts: 100%|██████████| 31311/31311 [00:08<00:00, 3677.92it/s]\n",
      "Processing words:  75%|███████▌  | 42/56 [05:38<01:51,  7.96s/it]"
     ]
    },
    {
     "name": "stdout",
     "output_type": "stream",
     "text": [
      "Now: evo gen \n"
     ]
    },
    {
     "name": "stderr",
     "output_type": "stream",
     "text": [
      "Processing posts: 100%|██████████| 31311/31311 [00:06<00:00, 4918.95it/s]\n",
      "Processing words:  77%|███████▋  | 43/56 [05:44<01:37,  7.48s/it]"
     ]
    },
    {
     "name": "stdout",
     "output_type": "stream",
     "text": [
      "Now: ddos \n"
     ]
    },
    {
     "name": "stderr",
     "output_type": "stream",
     "text": [
      "Processing posts: 100%|██████████| 31311/31311 [00:06<00:00, 5084.79it/s]\n",
      "Processing words:  79%|███████▊  | 44/56 [05:50<01:25,  7.09s/it]"
     ]
    },
    {
     "name": "stdout",
     "output_type": "stream",
     "text": [
      "Now: gafgyt \n"
     ]
    },
    {
     "name": "stderr",
     "output_type": "stream",
     "text": [
      "Processing posts: 100%|██████████| 31311/31311 [00:06<00:00, 5106.79it/s]\n",
      "Processing words:  80%|████████  | 45/56 [05:56<01:14,  6.80s/it]"
     ]
    },
    {
     "name": "stdout",
     "output_type": "stream",
     "text": [
      "Now: keylogger gen \n"
     ]
    },
    {
     "name": "stderr",
     "output_type": "stream",
     "text": [
      "Processing posts: 100%|██████████| 31311/31311 [00:06<00:00, 4757.59it/s]\n",
      "Processing words:  82%|████████▏ | 46/56 [06:03<01:07,  6.74s/it]"
     ]
    },
    {
     "name": "stdout",
     "output_type": "stream",
     "text": [
      "Now: cve exploit \n"
     ]
    },
    {
     "name": "stderr",
     "output_type": "stream",
     "text": [
      "Processing posts: 100%|██████████| 31311/31311 [00:06<00:00, 5020.54it/s]\n",
      "Processing words:  84%|████████▍ | 47/56 [06:09<00:59,  6.59s/it]"
     ]
    },
    {
     "name": "stdout",
     "output_type": "stream",
     "text": [
      "Now: banker gen \n"
     ]
    },
    {
     "name": "stderr",
     "output_type": "stream",
     "text": [
      "Processing posts: 100%|██████████| 31311/31311 [00:06<00:00, 4899.90it/s]\n",
      "Processing words:  86%|████████▌ | 48/56 [06:16<00:52,  6.53s/it]"
     ]
    },
    {
     "name": "stdout",
     "output_type": "stream",
     "text": [
      "Now: autoit \n"
     ]
    },
    {
     "name": "stderr",
     "output_type": "stream",
     "text": [
      "Processing posts: 100%|██████████| 31311/31311 [00:06<00:00, 5086.82it/s]\n",
      "Processing words:  88%|████████▊ | 49/56 [06:22<00:44,  6.42s/it]"
     ]
    },
    {
     "name": "stdout",
     "output_type": "stream",
     "text": [
      "Now: exploitx \n"
     ]
    },
    {
     "name": "stderr",
     "output_type": "stream",
     "text": [
      "Processing posts: 100%|██████████| 31311/31311 [00:06<00:00, 4998.56it/s]\n",
      "Processing words:  89%|████████▉ | 50/56 [06:28<00:38,  6.38s/it]"
     ]
    },
    {
     "name": "stdout",
     "output_type": "stream",
     "text": [
      "Now: coinminer generic \n"
     ]
    },
    {
     "name": "stderr",
     "output_type": "stream",
     "text": [
      "Processing posts: 100%|██████████| 31311/31311 [00:06<00:00, 4841.05it/s]\n",
      "Processing words:  91%|█████████ | 51/56 [06:35<00:32,  6.41s/it]"
     ]
    },
    {
     "name": "stdout",
     "output_type": "stream",
     "text": [
      "Now: loki password stealer  pws \n"
     ]
    },
    {
     "name": "stderr",
     "output_type": "stream",
     "text": [
      "Processing posts: 100%|██████████| 31311/31311 [00:09<00:00, 3344.99it/s]\n",
      "Processing words:  93%|█████████▎| 52/56 [06:44<00:29,  7.29s/it]"
     ]
    },
    {
     "name": "stdout",
     "output_type": "stream",
     "text": [
      "Now: meterpreter \n"
     ]
    },
    {
     "name": "stderr",
     "output_type": "stream",
     "text": [
      "Processing posts: 100%|██████████| 31311/31311 [00:06<00:00, 4795.63it/s]\n",
      "Processing words:  95%|█████████▍| 53/56 [06:51<00:21,  7.07s/it]"
     ]
    },
    {
     "name": "stdout",
     "output_type": "stream",
     "text": [
      "Now: crimson rat \n"
     ]
    },
    {
     "name": "stderr",
     "output_type": "stream",
     "text": [
      "Processing posts: 100%|██████████| 31311/31311 [00:06<00:00, 5035.28it/s]\n",
      "Processing words:  96%|█████████▋| 54/56 [06:57<00:13,  6.81s/it]"
     ]
    },
    {
     "name": "stdout",
     "output_type": "stream",
     "text": [
      "Now: nanobot \n"
     ]
    },
    {
     "name": "stderr",
     "output_type": "stream",
     "text": [
      "Processing posts: 100%|██████████| 31311/31311 [00:06<00:00, 4753.95it/s]\n",
      "Processing words:  98%|█████████▊| 55/56 [07:03<00:06,  6.75s/it]"
     ]
    },
    {
     "name": "stdout",
     "output_type": "stream",
     "text": [
      "Now: ghost rat \n"
     ]
    },
    {
     "name": "stderr",
     "output_type": "stream",
     "text": [
      "Processing posts: 100%|██████████| 31311/31311 [00:06<00:00, 4989.68it/s]\n",
      "Processing words: 100%|██████████| 56/56 [07:10<00:00,  7.68s/it]\n"
     ]
    }
   ],
   "source": [
    "merged_matches = pd.DataFrame()\n",
    "\n",
    "merged_matches = malware_search( all_malware_list , selected_rows)"
   ]
  },
  {
   "cell_type": "code",
   "execution_count": 67,
   "id": "4a8ea30e",
   "metadata": {},
   "outputs": [],
   "source": [
    "merged_matches['keyword type'] = 'malware'"
   ]
  },
  {
   "cell_type": "code",
   "execution_count": 68,
   "id": "18df3680",
   "metadata": {},
   "outputs": [],
   "source": [
    "merged_matches.to_csv(r'C:\\Users\\leona\\OneDrive\\Desktop\\Tesi\\Pipeline\\Datasets\\Pipeline\\SocialNetworksPosts\\Reddit\\Months\\11\\Posts_filteredby_Malwares.csv')"
   ]
  },
  {
   "cell_type": "markdown",
   "id": "044f7c05",
   "metadata": {},
   "source": [
    "### Malwares Types names searching"
   ]
  },
  {
   "cell_type": "code",
   "execution_count": 55,
   "id": "8b8e9e3b",
   "metadata": {},
   "outputs": [
    {
     "name": "stderr",
     "output_type": "stream",
     "text": [
      "Processing posts: 31311it [00:02, 12912.18it/s]\n",
      "Processing posts: 31311it [00:02, 13076.56it/s]\n",
      "Processing posts: 31311it [00:02, 11862.21it/s]\n",
      "Processing posts: 31311it [00:02, 12389.94it/s]\n",
      "Processing posts: 31311it [00:02, 13670.69it/s]\n",
      "Processing posts: 31311it [00:02, 14110.28it/s]\n",
      "Processing posts: 31311it [00:02, 14218.12it/s]\n",
      "Processing posts: 31311it [00:02, 14218.55it/s]\n",
      "Processing posts: 31311it [00:02, 13786.78it/s]\n",
      "Processing posts: 31311it [00:02, 12382.95it/s]\n",
      "Processing posts: 31311it [00:02, 13567.45it/s]\n",
      "Processing posts: 11it [00:26,  2.37s/it]\n"
     ]
    }
   ],
   "source": [
    "malware_types_matches = pd.DataFrame()\n",
    "\n",
    "malware_types_matches = stemming_and_matching( all_malware_types_list , selected_rows)"
   ]
  },
  {
   "cell_type": "code",
   "execution_count": 56,
   "id": "bafd2099",
   "metadata": {},
   "outputs": [],
   "source": [
    "malware_types_matches['keyword type'] = 'malware type'"
   ]
  },
  {
   "cell_type": "code",
   "execution_count": 57,
   "id": "ad849baa",
   "metadata": {},
   "outputs": [],
   "source": [
    "malware_types_matches.to_csv(r'C:\\Users\\leona\\OneDrive\\Desktop\\Tesi\\Pipeline\\Datasets\\Pipeline\\SocialNetworksPosts\\Reddit\\Months\\11\\Posts_filteredby_MalwareType.csv')"
   ]
  },
  {
   "cell_type": "code",
   "execution_count": null,
   "id": "07395741",
   "metadata": {},
   "outputs": [],
   "source": []
  },
  {
   "cell_type": "markdown",
   "id": "65b2236f",
   "metadata": {},
   "source": [
    "### Operative System names search"
   ]
  },
  {
   "cell_type": "code",
   "execution_count": 58,
   "id": "a528e057",
   "metadata": {},
   "outputs": [
    {
     "name": "stderr",
     "output_type": "stream",
     "text": [
      "Processing posts: 31311it [00:02, 15632.11it/s]\n",
      "Processing posts: 31311it [00:01, 16983.82it/s]\n",
      "Processing posts: 31311it [00:01, 17654.17it/s]\n",
      "Processing posts: 3it [00:05,  1.88s/it]\n"
     ]
    }
   ],
   "source": [
    "words_matches = pd.DataFrame()\n",
    "\n",
    "words_matches = stemming_and_matching( all_delivery_method_list , selected_rows)"
   ]
  },
  {
   "cell_type": "code",
   "execution_count": 59,
   "id": "86b7b0a3",
   "metadata": {},
   "outputs": [
    {
     "data": {
      "text/html": [
       "<div>\n",
       "<style scoped>\n",
       "    .dataframe tbody tr th:only-of-type {\n",
       "        vertical-align: middle;\n",
       "    }\n",
       "\n",
       "    .dataframe tbody tr th {\n",
       "        vertical-align: top;\n",
       "    }\n",
       "\n",
       "    .dataframe thead th {\n",
       "        text-align: right;\n",
       "    }\n",
       "</style>\n",
       "<table border=\"1\" class=\"dataframe\">\n",
       "  <thead>\n",
       "    <tr style=\"text-align: right;\">\n",
       "      <th></th>\n",
       "      <th>full_text</th>\n",
       "      <th>keyword</th>\n",
       "    </tr>\n",
       "  </thead>\n",
       "  <tbody>\n",
       "    <tr>\n",
       "      <th>0</th>\n",
       "      <td>GPO/method to have a users local folder \"shared\" at login. If I'm barking up the wrong tree here, please let me know. I'm in a situation where I've had to create some really private and isolated workstations that require users to VPN to a TSS and then RDP from that TSS. This is a security measure to ensure multiple levels of authentication and separation. The why of it is not important, but I'm trying to figure out how I can use either a logon script or GPO (or anything that would work) to have users that have been given access to those machines, map a specific FSx (using a command) and a local folder in their profile marked as a shared folder.\\r  \\n\\r  \\n\\r  \\n\\rThe idea here is that all internet access has been shut off and these machines are only communicating to the DCs and the TSS. I don't want to setup a home folder on the DC or TSS and map it to the user at login because each workstation may have sensitive data that must stay on that machine. I instead want to let the users ...</td>\n",
       "      <td>email attachment</td>\n",
       "    </tr>\n",
       "    <tr>\n",
       "      <th>1</th>\n",
       "      <td>Users emails keep being flagged by system even if using DLs. For some reason, just one of ours users keeps having emails flagged as malicious by Microsoft in our email system. What it'll do is prevent them from sending any and all emails with attachments (we've confirmed they're only sending actually safe stuff).\\n\\nWhat seems to be causing it is that they'll send a biweekly or monthly email with an attachment on it to about half the company but it's in a DL list. \\n\\nIs there a way to prevent this from happening permanently? We've had to contact Microsoft to have the emails reviewed and removed from the system so it'll stop happening but it seems to only be temporary.</td>\n",
       "      <td>email attachment</td>\n",
       "    </tr>\n",
       "    <tr>\n",
       "      <th>2</th>\n",
       "      <td>Gmail forward to hpeprint. I want to be able to automatically forward all emails that come from a specific address and contain attachments to a HPeprint email address. Seems like a very simple gmail filer to set up.\\n\\nHowever, gmail filters work in a way that does not change the \"to\" field in the forwarded email. So, even though it is sent to the HPeprint address, the \"to\" field in the email itself still says my email instead of HPeprint, which doesn't work.\\n\\nIt does work, when I manually go to the received email and click on forward, choose the HPeprint address and send. \\n\\nOne of my workarounds was to install email client on a local PC (Windows 7 32bit, don't ask) that runs pretty much all the time, and creating a local forwarding filter instead of using gmail's filters. That worked too, however this PC restarts every night and the email client cannot automatically run before I manually log into Windows. Again, I need this whole filter to be automatic... \\n\\nIs there any emai...</td>\n",
       "      <td>email attachment</td>\n",
       "    </tr>\n",
       "    <tr>\n",
       "      <th>3</th>\n",
       "      <td>I received the infamous \"I am a professional hacker\" scam mail with my password on my work email which is really vague.. I received this email a week ago and I just opened it and got really scared because my pw was attached to it. I am using my work email but I can't remember accessing anything or putting such password in any website. I'm curious how did they find it? It's work email after all so my histories are all professional and all about researches so I am not even sure how it happened. Can you guys help me? Thanks!</td>\n",
       "      <td>email attachment</td>\n",
       "    </tr>\n",
       "    <tr>\n",
       "      <th>4</th>\n",
       "      <td>Pixel 4xl coral phone is able to access all devices and can defend against factory resets. I have had a Google pixel for 2 years about spring last year I had my phone start acting weird. Noticed apps would download or restore themselves after I uninstalled them. I brought the phone to Tellus and they told me it was fine but I noticed I 2000 paired devices attached to my phone. I had new programs on my TV security system even my back up phone had been compromised. I took it to google and they whiped everything and we thought it was over but as soon as I left the store my programs returned and the phone locked me out of all my email and soical media accounts.After about 20 hr on the phone and them realizing how serious this was when I had private confidential pdfs of billing accounts of everyone who I spoke with in the phone that month they agreed to pay for my phone as well as buy me a new iphone. I got a iphone 12 and a new account number email and sim and 10 mins later the iphone ...</td>\n",
       "      <td>email attachment</td>\n",
       "    </tr>\n",
       "  </tbody>\n",
       "</table>\n",
       "</div>"
      ],
      "text/plain": [
       "                                                                                                                                                                                                                                                                                                                                                                                                                                                                                                                                                                                                                                                                                                                                                                                                                                                                                                                                                                                                                                 full_text  \\\n",
       "0  GPO/method to have a users local folder \"shared\" at login. If I'm barking up the wrong tree here, please let me know. I'm in a situation where I've had to create some really private and isolated workstations that require users to VPN to a TSS and then RDP from that TSS. This is a security measure to ensure multiple levels of authentication and separation. The why of it is not important, but I'm trying to figure out how I can use either a logon script or GPO (or anything that would work) to have users that have been given access to those machines, map a specific FSx (using a command) and a local folder in their profile marked as a shared folder.\\r  \\n\\r  \\n\\r  \\n\\rThe idea here is that all internet access has been shut off and these machines are only communicating to the DCs and the TSS. I don't want to setup a home folder on the DC or TSS and map it to the user at login because each workstation may have sensitive data that must stay on that machine. I instead want to let the users ...   \n",
       "1                                                                                                                                                                                                                                                                                                                                    Users emails keep being flagged by system even if using DLs. For some reason, just one of ours users keeps having emails flagged as malicious by Microsoft in our email system. What it'll do is prevent them from sending any and all emails with attachments (we've confirmed they're only sending actually safe stuff).\\n\\nWhat seems to be causing it is that they'll send a biweekly or monthly email with an attachment on it to about half the company but it's in a DL list. \\n\\nIs there a way to prevent this from happening permanently? We've had to contact Microsoft to have the emails reviewed and removed from the system so it'll stop happening but it seems to only be temporary.   \n",
       "2  Gmail forward to hpeprint. I want to be able to automatically forward all emails that come from a specific address and contain attachments to a HPeprint email address. Seems like a very simple gmail filer to set up.\\n\\nHowever, gmail filters work in a way that does not change the \"to\" field in the forwarded email. So, even though it is sent to the HPeprint address, the \"to\" field in the email itself still says my email instead of HPeprint, which doesn't work.\\n\\nIt does work, when I manually go to the received email and click on forward, choose the HPeprint address and send. \\n\\nOne of my workarounds was to install email client on a local PC (Windows 7 32bit, don't ask) that runs pretty much all the time, and creating a local forwarding filter instead of using gmail's filters. That worked too, however this PC restarts every night and the email client cannot automatically run before I manually log into Windows. Again, I need this whole filter to be automatic... \\n\\nIs there any emai...   \n",
       "3                                                                                                                                                                                                                                                                                                                                                                                                                                                                                          I received the infamous \"I am a professional hacker\" scam mail with my password on my work email which is really vague.. I received this email a week ago and I just opened it and got really scared because my pw was attached to it. I am using my work email but I can't remember accessing anything or putting such password in any website. I'm curious how did they find it? It's work email after all so my histories are all professional and all about researches so I am not even sure how it happened. Can you guys help me? Thanks!   \n",
       "4  Pixel 4xl coral phone is able to access all devices and can defend against factory resets. I have had a Google pixel for 2 years about spring last year I had my phone start acting weird. Noticed apps would download or restore themselves after I uninstalled them. I brought the phone to Tellus and they told me it was fine but I noticed I 2000 paired devices attached to my phone. I had new programs on my TV security system even my back up phone had been compromised. I took it to google and they whiped everything and we thought it was over but as soon as I left the store my programs returned and the phone locked me out of all my email and soical media accounts.After about 20 hr on the phone and them realizing how serious this was when I had private confidential pdfs of billing accounts of everyone who I spoke with in the phone that month they agreed to pay for my phone as well as buy me a new iphone. I got a iphone 12 and a new account number email and sim and 10 mins later the iphone ...   \n",
       "\n",
       "            keyword  \n",
       "0  email attachment  \n",
       "1  email attachment  \n",
       "2  email attachment  \n",
       "3  email attachment  \n",
       "4  email attachment  "
      ]
     },
     "execution_count": 59,
     "metadata": {},
     "output_type": "execute_result"
    }
   ],
   "source": [
    "words_matches.head()"
   ]
  },
  {
   "cell_type": "code",
   "execution_count": 60,
   "id": "c72a2cb2",
   "metadata": {},
   "outputs": [],
   "source": [
    "words_matches['keyword type'] = 'delivery method'"
   ]
  },
  {
   "cell_type": "code",
   "execution_count": 61,
   "id": "798babac",
   "metadata": {},
   "outputs": [],
   "source": [
    "words_matches.to_csv(r'C:\\Users\\leona\\OneDrive\\Desktop\\Tesi\\Pipeline\\Datasets\\Pipeline\\SocialNetworksPosts\\Reddit\\Months\\11\\Posts_filteredby_DeliveryMethod.csv')"
   ]
  },
  {
   "cell_type": "code",
   "execution_count": 62,
   "id": "cde71f54",
   "metadata": {},
   "outputs": [
    {
     "data": {
      "text/plain": [
       "31311"
      ]
     },
     "execution_count": 62,
     "metadata": {},
     "output_type": "execute_result"
    }
   ],
   "source": [
    "len(selected_rows)"
   ]
  },
  {
   "cell_type": "code",
   "execution_count": 69,
   "id": "b5a14de8",
   "metadata": {},
   "outputs": [
    {
     "data": {
      "text/plain": [
       "4223"
      ]
     },
     "execution_count": 69,
     "metadata": {},
     "output_type": "execute_result"
    }
   ],
   "source": [
    "df = pd.concat([words_matches, malware_types_matches, merged_matches, matches_behaviours_3, matches_behaviours_2, matches_behaviours_1 ])\n",
    "len(df)"
   ]
  },
  {
   "cell_type": "code",
   "execution_count": 70,
   "id": "509502df",
   "metadata": {},
   "outputs": [],
   "source": [
    "df.to_csv(r'C:\\Users\\leona\\OneDrive\\Desktop\\Tesi\\Pipeline\\Datasets\\Pipeline\\SocialNetworksPosts\\Reddit\\Months\\11\\MatchedPosts.csv')"
   ]
  },
  {
   "cell_type": "markdown",
   "id": "78543d08",
   "metadata": {},
   "source": []
  },
  {
   "cell_type": "markdown",
   "id": "18094b19",
   "metadata": {},
   "source": []
  },
  {
   "cell_type": "markdown",
   "id": "3631129a",
   "metadata": {},
   "source": [
    "\n"
   ]
  },
  {
   "cell_type": "markdown",
   "id": "69fdd2f8",
   "metadata": {},
   "source": []
  }
 ],
 "metadata": {
  "kernelspec": {
   "display_name": "Python 3 (ipykernel)",
   "language": "python",
   "name": "python3"
  },
  "language_info": {
   "codemirror_mode": {
    "name": "ipython",
    "version": 3
   },
   "file_extension": ".py",
   "mimetype": "text/x-python",
   "name": "python",
   "nbconvert_exporter": "python",
   "pygments_lexer": "ipython3",
   "version": "3.11.5"
  }
 },
 "nbformat": 4,
 "nbformat_minor": 5
}
