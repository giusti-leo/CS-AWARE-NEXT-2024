{
 "cells": [
  {
   "cell_type": "code",
   "execution_count": 1,
   "id": "dcb3095b",
   "metadata": {},
   "outputs": [],
   "source": [
    "import os\n",
    "import time\n",
    "import pandas as pd \n",
    "import requests\n",
    "import urllib3\n",
    "import json\n",
    "import sys\n",
    "import numpy as np\n",
    "import pandas as pd\n",
    "from pathlib import Path\n",
    "from datetime import datetime, timedelta"
   ]
  },
  {
   "cell_type": "code",
   "execution_count": 2,
   "id": "5222ef90",
   "metadata": {},
   "outputs": [
    {
     "name": "stdout",
     "output_type": "stream",
     "text": [
      "Requirement already satisfied: nltk in c:\\users\\leona\\anaconda3\\lib\\site-packages (3.8.1)\n",
      "Requirement already satisfied: click in c:\\users\\leona\\anaconda3\\lib\\site-packages (from nltk) (8.0.4)\n",
      "Requirement already satisfied: joblib in c:\\users\\leona\\anaconda3\\lib\\site-packages (from nltk) (1.1.1)\n",
      "Requirement already satisfied: regex>=2021.8.3 in c:\\users\\leona\\anaconda3\\lib\\site-packages (from nltk) (2022.7.9)\n",
      "Requirement already satisfied: tqdm in c:\\users\\leona\\anaconda3\\lib\\site-packages (from nltk) (4.65.0)\n",
      "Requirement already satisfied: colorama in c:\\users\\leona\\anaconda3\\lib\\site-packages (from click->nltk) (0.4.6)\n",
      "Note: you may need to restart the kernel to use updated packages.\n"
     ]
    }
   ],
   "source": [
    "pip install nltk"
   ]
  },
  {
   "cell_type": "code",
   "execution_count": 3,
   "id": "ad1729c7",
   "metadata": {},
   "outputs": [],
   "source": [
    "import nltk"
   ]
  },
  {
   "cell_type": "code",
   "execution_count": 4,
   "id": "8eb93b1b",
   "metadata": {},
   "outputs": [],
   "source": [
    "pd.options.display.max_colwidth = 1000\n",
    "pd.set_option('display.max_columns', None)"
   ]
  },
  {
   "cell_type": "code",
   "execution_count": 5,
   "id": "f5042c66",
   "metadata": {},
   "outputs": [
    {
     "name": "stderr",
     "output_type": "stream",
     "text": [
      "[nltk_data] Downloading package wordnet to\n",
      "[nltk_data]     C:\\Users\\leona\\AppData\\Roaming\\nltk_data...\n",
      "[nltk_data]   Package wordnet is already up-to-date!\n"
     ]
    },
    {
     "data": {
      "text/plain": [
       "True"
      ]
     },
     "execution_count": 5,
     "metadata": {},
     "output_type": "execute_result"
    }
   ],
   "source": [
    "\n",
    "nltk.download('wordnet')"
   ]
  },
  {
   "cell_type": "code",
   "execution_count": 6,
   "id": "86a8e902",
   "metadata": {},
   "outputs": [
    {
     "name": "stdout",
     "output_type": "stream",
     "text": [
      "0    True\n",
      "1    True\n",
      "2    True\n",
      "Name: match, dtype: bool\n"
     ]
    },
    {
     "name": "stderr",
     "output_type": "stream",
     "text": [
      "[nltk_data] Downloading package punkt to\n",
      "[nltk_data]     C:\\Users\\leona\\AppData\\Roaming\\nltk_data...\n",
      "[nltk_data]   Package punkt is already up-to-date!\n",
      "[nltk_data] Downloading package stopwords to\n",
      "[nltk_data]     C:\\Users\\leona\\AppData\\Roaming\\nltk_data...\n",
      "[nltk_data]   Package stopwords is already up-to-date!\n"
     ]
    }
   ],
   "source": [
    "import pandas as pd\n",
    "from nltk.stem import PorterStemmer\n",
    "from nltk.tokenize import word_tokenize\n",
    "from nltk.corpus import stopwords\n",
    "import nltk\n",
    "nltk.download('punkt')\n",
    "nltk.download('stopwords')\n",
    "\n",
    "def stemming_and_matching(df_A, df_B):\n",
    "    # Inizializzazione del PorterStemmer\n",
    "    stemmer = PorterStemmer()\n",
    "\n",
    "    # Funzione per eseguire stemming e lemmatization su una riga di testo\n",
    "    def process_text(text):\n",
    "        # Tokenizzazione\n",
    "        tokens = word_tokenize(text.lower())\n",
    "        # Rimozione delle stop words\n",
    "        stop_words = set(stopwords.words('english'))\n",
    "        filtered_tokens = [token for token in tokens if token.isalnum() and token not in stop_words]\n",
    "        # Stemming\n",
    "        stemmed_tokens = [stemmer.stem(token) for token in filtered_tokens]\n",
    "        return stemmed_tokens\n",
    "\n",
    "    # Applicare la funzione a ciascuna riga dei dataframe A e B\n",
    "    df_A['lemmatized_tokens'] = df_A['testo'].apply(process_text)\n",
    "    df_B['lemmatized_tokens'] = df_B['testo'].apply(process_text)\n",
    "\n",
    "    # Verificare la corrispondenza\n",
    "    def check_match(row):\n",
    "        return all(token in row['lemmatized_tokens'] for token in df_B.loc[row.name, 'lemmatized_tokens'])\n",
    "\n",
    "    # Applicare la funzione di verifica alla riga di ciascun dataframe B\n",
    "    df_B['match'] = df_B.apply(check_match, axis=1)\n",
    "\n",
    "    return df_B['match']\n",
    "\n",
    "# Esempio di utilizzo\n",
    "data_A = {'testo': [\"La casa è grande.\", \"Il cane corre veloce.\", \"Gli uccelli volano alto.\"]}\n",
    "data_B = {'testo': [\"La casa grande\", \"Il cane veloce\", \"uccelli alti\"]}\n",
    "df_A = pd.DataFrame(data_A)\n",
    "df_B = pd.DataFrame(data_B)\n",
    "\n",
    "risultato = stemming_and_matching(df_A, df_B)\n",
    "print(risultato)\n"
   ]
  },
  {
   "cell_type": "markdown",
   "id": "f82a2dff",
   "metadata": {},
   "source": [
    "### Reddit posts"
   ]
  },
  {
   "cell_type": "code",
   "execution_count": 7,
   "id": "df7e9509",
   "metadata": {},
   "outputs": [],
   "source": [
    "file_reddit = r'C:\\Users\\leona\\OneDrive\\Desktop\\Tesi\\Pipeline\\Datasets\\Pipeline\\SocialNetworksPosts\\Reddit\\RedditPosts.csv'"
   ]
  },
  {
   "cell_type": "code",
   "execution_count": 8,
   "id": "a070364e",
   "metadata": {
    "scrolled": true
   },
   "outputs": [
    {
     "data": {
      "text/html": [
       "<div>\n",
       "<style scoped>\n",
       "    .dataframe tbody tr th:only-of-type {\n",
       "        vertical-align: middle;\n",
       "    }\n",
       "\n",
       "    .dataframe tbody tr th {\n",
       "        vertical-align: top;\n",
       "    }\n",
       "\n",
       "    .dataframe thead th {\n",
       "        text-align: right;\n",
       "    }\n",
       "</style>\n",
       "<table border=\"1\" class=\"dataframe\">\n",
       "  <thead>\n",
       "    <tr style=\"text-align: right;\">\n",
       "      <th></th>\n",
       "      <th>subreddit</th>\n",
       "      <th>username</th>\n",
       "      <th>date</th>\n",
       "      <th>title</th>\n",
       "      <th>text</th>\n",
       "    </tr>\n",
       "  </thead>\n",
       "  <tbody>\n",
       "    <tr>\n",
       "      <th>0</th>\n",
       "      <td>netsec</td>\n",
       "      <td>t3_18i5ups</td>\n",
       "      <td>2023-12-14 11:36:39</td>\n",
       "      <td>Nim implementation of Old Dll Unlinking Technique</td>\n",
       "      <td>NaN</td>\n",
       "    </tr>\n",
       "    <tr>\n",
       "      <th>1</th>\n",
       "      <td>cybersecurity</td>\n",
       "      <td>t3_18i5v5x</td>\n",
       "      <td>2023-12-14 11:37:34</td>\n",
       "      <td>How to prevent employees from using unauthorized web tools?</td>\n",
       "      <td>I work as an IT manager for a business. Some time ago, a group of my colleagues decided to use a web productivity tool, created accounts using their work emails, and started introducing data.\\n\\nI had no knowledge they had been using such a tool at all. I did not even know it existed.\\n\\nToday, I received an email from my boss asking why an ex-employee still had access to the data in such a web platform, as their account hadn't been deactivated. Needless to say, I don't have access to revoke their account or anything.\\n\\nHow can I prevent them from registering on another unauthorized webpage?\\n\\nI feel like a firewall blacklist would be useless since I would have to be constantly researching and updating it with new tools, and I can't make a whitelist since my company uses a ton of different pages for intense web research.\\n\\nAny help or advice would be appreciated.\\n\\n&amp;#x200B;</td>\n",
       "    </tr>\n",
       "    <tr>\n",
       "      <th>2</th>\n",
       "      <td>MacOS</td>\n",
       "      <td>t3_18i5kyd</td>\n",
       "      <td>2023-12-14 11:17:47</td>\n",
       "      <td>Teams call pop up window blocked by reminders/calendar entries on top right corner</td>\n",
       "      <td>Hi\\n\\nDo you know this issue that when I have reminders or calendar alarms set to stick to the top right corner, that they then block the notification window for incoming Teams calls.\\n\\nDoes someone know if there is a setting for having the teams call pop up in on another location on the screen or knows another work around?</td>\n",
       "    </tr>\n",
       "    <tr>\n",
       "      <th>3</th>\n",
       "      <td>MacOS</td>\n",
       "      <td>t3_18i5koq</td>\n",
       "      <td>2023-12-14 11:17:16</td>\n",
       "      <td>Disable middle mouse button drag to other desktop</td>\n",
       "      <td>So I have been using windows for a while and now I am stumped. The middle mouse button of my logi mouse has the following functionailty: On drage change desktop, on click show all windows. That's nice and all, but I can't use fusion 360 because the dragging functionality is the middle mouse button but that just changes the desktop. How can I disable that?\\n\\n&amp;#x200B;\\n\\nSo I found this, but there is no button selected. If I select the secondary mouse button for example, it will open mission control on both right click and middle mouse button:\\n\\nhttps://preview.redd.it/bmqnrpw0m86c1.png?width=476&amp;format=png&amp;auto=webp&amp;s=97ae662fcca43bf146537393fc6a13705a0a9351\\n\\n&amp;#x200B;</td>\n",
       "    </tr>\n",
       "    <tr>\n",
       "      <th>4</th>\n",
       "      <td>windows</td>\n",
       "      <td>t3_18i5gqv</td>\n",
       "      <td>2023-12-14 11:09:52</td>\n",
       "      <td>Playing 4k videos on 2k display</td>\n",
       "      <td>Hello guys does playing 4k content on a 2k display has any benefit? For example while playing YouTube videos I set 1440p resolution on my 2k laptop and 2k smartphone despite having a option of selecting 2160p option. So i wanted to ask if i get better video quality if i select 2160p option while playing on a 2k display?</td>\n",
       "    </tr>\n",
       "    <tr>\n",
       "      <th>...</th>\n",
       "      <td>...</td>\n",
       "      <td>...</td>\n",
       "      <td>...</td>\n",
       "      <td>...</td>\n",
       "      <td>...</td>\n",
       "    </tr>\n",
       "    <tr>\n",
       "      <th>387066</th>\n",
       "      <td>pcmasterrace</td>\n",
       "      <td>t3_1006rmg</td>\n",
       "      <td>2023-01-01 00:41:37</td>\n",
       "      <td>Build Almost Done</td>\n",
       "      <td>Is this a good build? Any recommendations?\\n\\nBUILD - https://pcpartpicker.com/list/FL6hwc</td>\n",
       "    </tr>\n",
       "    <tr>\n",
       "      <th>387067</th>\n",
       "      <td>pcmasterrace</td>\n",
       "      <td>t3_1006qur</td>\n",
       "      <td>2023-01-01 00:40:30</td>\n",
       "      <td>problem arming pc, I have a Mother a320m-k, ryzen 4650g, and doesnt work the video, the motherboard have Orange leds. Its my first time arming</td>\n",
       "      <td>NaN</td>\n",
       "    </tr>\n",
       "    <tr>\n",
       "      <th>387068</th>\n",
       "      <td>pcmasterrace</td>\n",
       "      <td>t3_1006pzy</td>\n",
       "      <td>2023-01-01 00:39:17</td>\n",
       "      <td>PCMR Truckers</td>\n",
       "      <td>Those that bring their rigs with them in the truck: \\n\\nHow does the computer fare? \\nIs there any orientation it works better with when you go through the areas with poor maintenance? \\nAnd lastly: if you liquid cool, have you noticed any issues over time?\\n\\nI'm building a new rig here soon and am curious if anything is to note so I don't make a large $$$$ mistake</td>\n",
       "    </tr>\n",
       "    <tr>\n",
       "      <th>387069</th>\n",
       "      <td>pcmasterrace</td>\n",
       "      <td>t3_1006orx</td>\n",
       "      <td>2023-01-01 00:37:29</td>\n",
       "      <td>New case for Christmas, also spray painted my GPU to match</td>\n",
       "      <td>Got the Hyte y60 as a gift, what a great case to build in. Running a 5600x with a 3080. The tree probably blocks some airflow but I'll take that tradeoff.</td>\n",
       "    </tr>\n",
       "    <tr>\n",
       "      <th>387070</th>\n",
       "      <td>linuxquestions</td>\n",
       "      <td>t3_1006n20</td>\n",
       "      <td>2023-01-01 00:34:59</td>\n",
       "      <td>Ignore \"not enough space to copy these file\" errors in KDE Plasma/Dolphin?</td>\n",
       "      <td>When copying files with Dolphin (KDE Plasma's file manager), if there is not enough free space to copy the incoming files entirely, the file manager refuses to copy even a single file. However, a lot of the time I'll be skipping name conflicts or overwriting existing files with new ones, so either I don't need as much space than it seems to the system, or space is freed up as I copy. Also, KDE seems to have trouble accurately determining the free space on drives on a network file server that I have mounted with SSHFS, so it will say there is not enough space even when there is. \\n\\nIs there a way to get Dolphin to ignore this error and attempt to copy the files anyway? Like the way the cp command does it, where it doesn't really care how much space is on the drive, and will only throw an error if it actually fills up before it's done copying. Or better yet, is there a way to get Dolphin to still warn me about potential space issues, but have the option to ignore it and attempt to c...</td>\n",
       "    </tr>\n",
       "  </tbody>\n",
       "</table>\n",
       "<p>387071 rows × 5 columns</p>\n",
       "</div>"
      ],
      "text/plain": [
       "             subreddit    username                 date  \\\n",
       "0               netsec  t3_18i5ups  2023-12-14 11:36:39   \n",
       "1        cybersecurity  t3_18i5v5x  2023-12-14 11:37:34   \n",
       "2                MacOS  t3_18i5kyd  2023-12-14 11:17:47   \n",
       "3                MacOS  t3_18i5koq  2023-12-14 11:17:16   \n",
       "4              windows  t3_18i5gqv  2023-12-14 11:09:52   \n",
       "...                ...         ...                  ...   \n",
       "387066    pcmasterrace  t3_1006rmg  2023-01-01 00:41:37   \n",
       "387067    pcmasterrace  t3_1006qur  2023-01-01 00:40:30   \n",
       "387068    pcmasterrace  t3_1006pzy  2023-01-01 00:39:17   \n",
       "387069    pcmasterrace  t3_1006orx  2023-01-01 00:37:29   \n",
       "387070  linuxquestions  t3_1006n20  2023-01-01 00:34:59   \n",
       "\n",
       "                                                                                                                                                 title  \\\n",
       "0                                                                                                    Nim implementation of Old Dll Unlinking Technique   \n",
       "1                                                                                          How to prevent employees from using unauthorized web tools?   \n",
       "2                                                                   Teams call pop up window blocked by reminders/calendar entries on top right corner   \n",
       "3                                                                                                    Disable middle mouse button drag to other desktop   \n",
       "4                                                                                                                      Playing 4k videos on 2k display   \n",
       "...                                                                                                                                                ...   \n",
       "387066                                                                                                                               Build Almost Done   \n",
       "387067  problem arming pc, I have a Mother a320m-k, ryzen 4650g, and doesnt work the video, the motherboard have Orange leds. Its my first time arming   \n",
       "387068                                                                                                                                   PCMR Truckers   \n",
       "387069                                                                                      New case for Christmas, also spray painted my GPU to match   \n",
       "387070                                                                      Ignore \"not enough space to copy these file\" errors in KDE Plasma/Dolphin?   \n",
       "\n",
       "                                                                                                                                                                                                                                                                                                                                                                                                                                                                                                                                                                                                                                                                                                                                                                                                                                                                                                                                                                                                                                           text  \n",
       "0                                                                                                                                                                                                                                                                                                                                                                                                                                                                                                                                                                                                                                                                                                                                                                                                                                                                                                                                                                                                                                           NaN  \n",
       "1                                                                                                                    I work as an IT manager for a business. Some time ago, a group of my colleagues decided to use a web productivity tool, created accounts using their work emails, and started introducing data.\\n\\nI had no knowledge they had been using such a tool at all. I did not even know it existed.\\n\\nToday, I received an email from my boss asking why an ex-employee still had access to the data in such a web platform, as their account hadn't been deactivated. Needless to say, I don't have access to revoke their account or anything.\\n\\nHow can I prevent them from registering on another unauthorized webpage?\\n\\nI feel like a firewall blacklist would be useless since I would have to be constantly researching and updating it with new tools, and I can't make a whitelist since my company uses a ton of different pages for intense web research.\\n\\nAny help or advice would be appreciated.\\n\\n&#x200B;  \n",
       "2                                                                                                                                                                                                                                                                                                                                                                                                                                                                                                                                                                                                                                                                                                        Hi\\n\\nDo you know this issue that when I have reminders or calendar alarms set to stick to the top right corner, that they then block the notification window for incoming Teams calls.\\n\\nDoes someone know if there is a setting for having the teams call pop up in on another location on the screen or knows another work around?  \n",
       "3                                                                                                                                                                                                                                                                                                                                       So I have been using windows for a while and now I am stumped. The middle mouse button of my logi mouse has the following functionailty: On drage change desktop, on click show all windows. That's nice and all, but I can't use fusion 360 because the dragging functionality is the middle mouse button but that just changes the desktop. How can I disable that?\\n\\n&#x200B;\\n\\nSo I found this, but there is no button selected. If I select the secondary mouse button for example, it will open mission control on both right click and middle mouse button:\\n\\nhttps://preview.redd.it/bmqnrpw0m86c1.png?width=476&format=png&auto=webp&s=97ae662fcca43bf146537393fc6a13705a0a9351\\n\\n&#x200B;  \n",
       "4                                                                                                                                                                                                                                                                                                                                                                                                                                                                                                                                                                                                                                                                                                             Hello guys does playing 4k content on a 2k display has any benefit? For example while playing YouTube videos I set 1440p resolution on my 2k laptop and 2k smartphone despite having a option of selecting 2160p option. So i wanted to ask if i get better video quality if i select 2160p option while playing on a 2k display?  \n",
       "...                                                                                                                                                                                                                                                                                                                                                                                                                                                                                                                                                                                                                                                                                                                                                                                                                                                                                                                                                                                                                                         ...  \n",
       "387066                                                                                                                                                                                                                                                                                                                                                                                                                                                                                                                                                                                                                                                                                                                                                                                                                                                                                                                                               Is this a good build? Any recommendations?\\n\\nBUILD - https://pcpartpicker.com/list/FL6hwc  \n",
       "387067                                                                                                                                                                                                                                                                                                                                                                                                                                                                                                                                                                                                                                                                                                                                                                                                                                                                                                                                                                                                                                      NaN  \n",
       "387068                                                                                                                                                                                                                                                                                                                                                                                                                                                                                                                                                                                                                                                         Those that bring their rigs with them in the truck: \\n\\nHow does the computer fare? \\nIs there any orientation it works better with when you go through the areas with poor maintenance? \\nAnd lastly: if you liquid cool, have you noticed any issues over time?\\n\\nI'm building a new rig here soon and am curious if anything is to note so I don't make a large $$$$ mistake  \n",
       "387069                                                                                                                                                                                                                                                                                                                                                                                                                                                                                                                                                                                                                                                                                                                                                                                                                                                                               Got the Hyte y60 as a gift, what a great case to build in. Running a 5600x with a 3080. The tree probably blocks some airflow but I'll take that tradeoff.  \n",
       "387070  When copying files with Dolphin (KDE Plasma's file manager), if there is not enough free space to copy the incoming files entirely, the file manager refuses to copy even a single file. However, a lot of the time I'll be skipping name conflicts or overwriting existing files with new ones, so either I don't need as much space than it seems to the system, or space is freed up as I copy. Also, KDE seems to have trouble accurately determining the free space on drives on a network file server that I have mounted with SSHFS, so it will say there is not enough space even when there is. \\n\\nIs there a way to get Dolphin to ignore this error and attempt to copy the files anyway? Like the way the cp command does it, where it doesn't really care how much space is on the drive, and will only throw an error if it actually fills up before it's done copying. Or better yet, is there a way to get Dolphin to still warn me about potential space issues, but have the option to ignore it and attempt to c...  \n",
       "\n",
       "[387071 rows x 5 columns]"
      ]
     },
     "execution_count": 8,
     "metadata": {},
     "output_type": "execute_result"
    }
   ],
   "source": [
    "df_reddit = pd.read_csv(file_reddit)\n",
    "df_reddit = df_reddit.drop(columns=['Unnamed: 0', 'json'])\n",
    "df_reddit"
   ]
  },
  {
   "cell_type": "markdown",
   "id": "8ac41545",
   "metadata": {},
   "source": [
    "### Files "
   ]
  },
  {
   "cell_type": "code",
   "execution_count": 9,
   "id": "d7ecdb03",
   "metadata": {},
   "outputs": [],
   "source": [
    "file_files = r'C:\\Users\\\\leona\\\\OneDrive\\\\Desktop\\\\Tesi\\\\Pipeline\\\\Datasets\\\\Pipeline\\\\FileAnalysis\\\\ER_Schema\\\\Entries.csv'\n",
    "attack_files = r'C:\\Users\\\\leona\\\\OneDrive\\\\Desktop\\\\Tesi\\\\Pipeline\\\\Datasets\\\\Pipeline\\\\FileAnalysis\\\\ER_Schema\\\\Attacks.csv'\n",
    "behaviour_files = r'C:\\Users\\\\leona\\\\OneDrive\\\\Desktop\\\\Tesi\\\\Pipeline\\\\Datasets\\\\Pipeline\\\\FileAnalysis\\\\ER_Schema\\\\Behaviours.csv'"
   ]
  },
  {
   "cell_type": "code",
   "execution_count": 10,
   "id": "589cf0b5",
   "metadata": {
    "scrolled": true
   },
   "outputs": [
    {
     "data": {
      "text/html": [
       "<div>\n",
       "<style scoped>\n",
       "    .dataframe tbody tr th:only-of-type {\n",
       "        vertical-align: middle;\n",
       "    }\n",
       "\n",
       "    .dataframe tbody tr th {\n",
       "        vertical-align: top;\n",
       "    }\n",
       "\n",
       "    .dataframe thead th {\n",
       "        text-align: right;\n",
       "    }\n",
       "</style>\n",
       "<table border=\"1\" class=\"dataframe\">\n",
       "  <thead>\n",
       "    <tr style=\"text-align: right;\">\n",
       "      <th></th>\n",
       "      <th>sha1</th>\n",
       "      <th>sha256</th>\n",
       "      <th>md5</th>\n",
       "      <th>analysis_date</th>\n",
       "      <th>file_type</th>\n",
       "      <th>delivery_method</th>\n",
       "      <th>verdict</th>\n",
       "      <th>malware_type</th>\n",
       "      <th>malware</th>\n",
       "    </tr>\n",
       "  </thead>\n",
       "  <tbody>\n",
       "    <tr>\n",
       "      <th>0</th>\n",
       "      <td>411535c9548f86034a6a9a603de521a86a3b5466</td>\n",
       "      <td>04c53261b1220a894a02f5ffb39cdfd73f93481c0b5c8106d21c91b20205c62d</td>\n",
       "      <td>5b5a0225a2b7b9a054417662c733168a</td>\n",
       "      <td>2021-11-09</td>\n",
       "      <td>exe</td>\n",
       "      <td>email attachment</td>\n",
       "      <td>malicious</td>\n",
       "      <td>trojan</td>\n",
       "      <td>remcos</td>\n",
       "    </tr>\n",
       "    <tr>\n",
       "      <th>1</th>\n",
       "      <td>1ad9e9761fd6935c0cf5048c9615d0383baac48e</td>\n",
       "      <td>ac901bf5882f14e9e07235b8488b6479b4519addda6dbfb89147401c1e9e6e4f</td>\n",
       "      <td>da9534900ee0d11c9b30cf33152ea03c</td>\n",
       "      <td>2023-07-19</td>\n",
       "      <td>exe</td>\n",
       "      <td>web download</td>\n",
       "      <td>malicious</td>\n",
       "      <td>trojan</td>\n",
       "      <td>remcos</td>\n",
       "    </tr>\n",
       "    <tr>\n",
       "      <th>2</th>\n",
       "      <td>8ab63abfe58fb218cc001581ac0d9fe38c784157</td>\n",
       "      <td>7f514ed5e1ec262953e6252a4089531c519e95d700c5808415b0f049fc59a5f0</td>\n",
       "      <td>855232a26e8afcd0cca5f816a1919dee</td>\n",
       "      <td>2022-01-04</td>\n",
       "      <td>exe</td>\n",
       "      <td>unknown</td>\n",
       "      <td>malicious</td>\n",
       "      <td>ransomware</td>\n",
       "      <td>remcos</td>\n",
       "    </tr>\n",
       "    <tr>\n",
       "      <th>3</th>\n",
       "      <td>55cbf8dae95d350ad7e5a63b418f6cd203488f51</td>\n",
       "      <td>8b7ae9f195b075a789d6d8277d500d27754bfa3c53ecca8db7beac8ccd07884f</td>\n",
       "      <td>97d9d216f2627cb238ca6637580b1739</td>\n",
       "      <td>2022-02-09</td>\n",
       "      <td>exe</td>\n",
       "      <td>unknown</td>\n",
       "      <td>malicious</td>\n",
       "      <td>trojan</td>\n",
       "      <td>remcos</td>\n",
       "    </tr>\n",
       "    <tr>\n",
       "      <th>4</th>\n",
       "      <td>a2915c1be9e6134b7bf3ca5ca00eeb0c969bedab</td>\n",
       "      <td>6c2a2251861a6d2701814843fadac940cf4d34db9f446f0698352fd866b31739</td>\n",
       "      <td>1b09de36dfe5850d7e3fbd6b39c89a43</td>\n",
       "      <td>2021-02-11</td>\n",
       "      <td>exe</td>\n",
       "      <td>web download</td>\n",
       "      <td>malicious</td>\n",
       "      <td>trojan</td>\n",
       "      <td>generic mg</td>\n",
       "    </tr>\n",
       "    <tr>\n",
       "      <th>...</th>\n",
       "      <td>...</td>\n",
       "      <td>...</td>\n",
       "      <td>...</td>\n",
       "      <td>...</td>\n",
       "      <td>...</td>\n",
       "      <td>...</td>\n",
       "      <td>...</td>\n",
       "      <td>...</td>\n",
       "      <td>...</td>\n",
       "    </tr>\n",
       "    <tr>\n",
       "      <th>2657</th>\n",
       "      <td>6b6955af591154d3f6e2db35ca9904cce7e264b1</td>\n",
       "      <td>3a9d8c693b7dc6a9c2bf876c5626ebd0923e35bd5f698baed248df7f51f67275</td>\n",
       "      <td>03872a722df0b073a84fd1aa45eb9376</td>\n",
       "      <td>2020-02-20</td>\n",
       "      <td>elf</td>\n",
       "      <td>unknown</td>\n",
       "      <td>malicious</td>\n",
       "      <td>worm</td>\n",
       "      <td>agent tesla</td>\n",
       "    </tr>\n",
       "    <tr>\n",
       "      <th>2658</th>\n",
       "      <td>3ab53037e2360c42b57d213234ced58717844a71</td>\n",
       "      <td>5de4932cb0ccab3fec711135cdd1af5a09c26a870bfb2d2adc650d0fdbf16488</td>\n",
       "      <td>e0fea510c784eb0e440e99e53d83d414</td>\n",
       "      <td>2021-07-14</td>\n",
       "      <td>exe</td>\n",
       "      <td>unknown</td>\n",
       "      <td>malicious</td>\n",
       "      <td>spyware</td>\n",
       "      <td>generickd</td>\n",
       "    </tr>\n",
       "    <tr>\n",
       "      <th>2659</th>\n",
       "      <td>4f9b9859a596a8bfdfee516788587ca0c0fb6ae8</td>\n",
       "      <td>f10dd5ce32d72489dd2696e5b58ee115f3cd065969a61a6613cab27bcd57de70</td>\n",
       "      <td>c9f771be253b6ca1d7a808d7d65c5e29</td>\n",
       "      <td>2020-09-08</td>\n",
       "      <td>exe</td>\n",
       "      <td>unknown</td>\n",
       "      <td>malicious</td>\n",
       "      <td>trojan</td>\n",
       "      <td>unknown</td>\n",
       "    </tr>\n",
       "    <tr>\n",
       "      <th>2660</th>\n",
       "      <td>d14540087dd6d350fb49e644e53ccefc0e4c1582</td>\n",
       "      <td>dba8a4717d516772b8cc06bd258265f21f7db6ddab62328917524c5a243c67a1</td>\n",
       "      <td>fe783ff4bccd76cb215ee1f7738d9ed5</td>\n",
       "      <td>2021-12-20</td>\n",
       "      <td>exe</td>\n",
       "      <td>unknown</td>\n",
       "      <td>unknown</td>\n",
       "      <td>unknown</td>\n",
       "      <td>unknown</td>\n",
       "    </tr>\n",
       "    <tr>\n",
       "      <th>2661</th>\n",
       "      <td>98837feaac2ed17b3709e5183b660dd41e7a1e0e</td>\n",
       "      <td>5b37ddd18800dc91071db31b340e8f9997bb89d42d5a194d7ff8c980a54abe89</td>\n",
       "      <td>1b47215513edd622ba825dced07c8969</td>\n",
       "      <td>2021-11-11</td>\n",
       "      <td>exe</td>\n",
       "      <td>unknown</td>\n",
       "      <td>malicious</td>\n",
       "      <td>trojan</td>\n",
       "      <td>crypter gen</td>\n",
       "    </tr>\n",
       "  </tbody>\n",
       "</table>\n",
       "<p>2662 rows × 9 columns</p>\n",
       "</div>"
      ],
      "text/plain": [
       "                                          sha1  \\\n",
       "0     411535c9548f86034a6a9a603de521a86a3b5466   \n",
       "1     1ad9e9761fd6935c0cf5048c9615d0383baac48e   \n",
       "2     8ab63abfe58fb218cc001581ac0d9fe38c784157   \n",
       "3     55cbf8dae95d350ad7e5a63b418f6cd203488f51   \n",
       "4     a2915c1be9e6134b7bf3ca5ca00eeb0c969bedab   \n",
       "...                                        ...   \n",
       "2657  6b6955af591154d3f6e2db35ca9904cce7e264b1   \n",
       "2658  3ab53037e2360c42b57d213234ced58717844a71   \n",
       "2659  4f9b9859a596a8bfdfee516788587ca0c0fb6ae8   \n",
       "2660  d14540087dd6d350fb49e644e53ccefc0e4c1582   \n",
       "2661  98837feaac2ed17b3709e5183b660dd41e7a1e0e   \n",
       "\n",
       "                                                                sha256  \\\n",
       "0     04c53261b1220a894a02f5ffb39cdfd73f93481c0b5c8106d21c91b20205c62d   \n",
       "1     ac901bf5882f14e9e07235b8488b6479b4519addda6dbfb89147401c1e9e6e4f   \n",
       "2     7f514ed5e1ec262953e6252a4089531c519e95d700c5808415b0f049fc59a5f0   \n",
       "3     8b7ae9f195b075a789d6d8277d500d27754bfa3c53ecca8db7beac8ccd07884f   \n",
       "4     6c2a2251861a6d2701814843fadac940cf4d34db9f446f0698352fd866b31739   \n",
       "...                                                                ...   \n",
       "2657  3a9d8c693b7dc6a9c2bf876c5626ebd0923e35bd5f698baed248df7f51f67275   \n",
       "2658  5de4932cb0ccab3fec711135cdd1af5a09c26a870bfb2d2adc650d0fdbf16488   \n",
       "2659  f10dd5ce32d72489dd2696e5b58ee115f3cd065969a61a6613cab27bcd57de70   \n",
       "2660  dba8a4717d516772b8cc06bd258265f21f7db6ddab62328917524c5a243c67a1   \n",
       "2661  5b37ddd18800dc91071db31b340e8f9997bb89d42d5a194d7ff8c980a54abe89   \n",
       "\n",
       "                                   md5 analysis_date file_type  \\\n",
       "0     5b5a0225a2b7b9a054417662c733168a    2021-11-09       exe   \n",
       "1     da9534900ee0d11c9b30cf33152ea03c    2023-07-19       exe   \n",
       "2     855232a26e8afcd0cca5f816a1919dee    2022-01-04       exe   \n",
       "3     97d9d216f2627cb238ca6637580b1739    2022-02-09       exe   \n",
       "4     1b09de36dfe5850d7e3fbd6b39c89a43    2021-02-11       exe   \n",
       "...                                ...           ...       ...   \n",
       "2657  03872a722df0b073a84fd1aa45eb9376    2020-02-20       elf   \n",
       "2658  e0fea510c784eb0e440e99e53d83d414    2021-07-14       exe   \n",
       "2659  c9f771be253b6ca1d7a808d7d65c5e29    2020-09-08       exe   \n",
       "2660  fe783ff4bccd76cb215ee1f7738d9ed5    2021-12-20       exe   \n",
       "2661  1b47215513edd622ba825dced07c8969    2021-11-11       exe   \n",
       "\n",
       "       delivery_method    verdict malware_type      malware  \n",
       "0     email attachment  malicious       trojan       remcos  \n",
       "1         web download  malicious       trojan       remcos  \n",
       "2              unknown  malicious   ransomware       remcos  \n",
       "3              unknown  malicious       trojan       remcos  \n",
       "4         web download  malicious       trojan   generic mg  \n",
       "...                ...        ...          ...          ...  \n",
       "2657           unknown  malicious         worm  agent tesla  \n",
       "2658           unknown  malicious      spyware    generickd  \n",
       "2659           unknown  malicious       trojan      unknown  \n",
       "2660           unknown    unknown      unknown      unknown  \n",
       "2661           unknown  malicious       trojan  crypter gen  \n",
       "\n",
       "[2662 rows x 9 columns]"
      ]
     },
     "execution_count": 10,
     "metadata": {},
     "output_type": "execute_result"
    }
   ],
   "source": [
    "df_files = pd.read_csv(file_files, low_memory = False)\n",
    "#df_files = df_files.drop(columns=['Unnamed: 0'])\n",
    "df_files"
   ]
  },
  {
   "cell_type": "markdown",
   "id": "5c976ab9",
   "metadata": {},
   "source": [
    "### Malwares"
   ]
  },
  {
   "cell_type": "code",
   "execution_count": 11,
   "id": "ca543511",
   "metadata": {},
   "outputs": [
    {
     "data": {
      "text/plain": [
       "['trojan',\n",
       " 'ransomware',\n",
       " 'adware',\n",
       " 'worm',\n",
       " 'dropper',\n",
       " 'rootkit',\n",
       " 'spyware',\n",
       " 'keylogger',\n",
       " 'backdoor',\n",
       " 'downloader',\n",
       " 'botnet']"
      ]
     },
     "execution_count": 11,
     "metadata": {},
     "output_type": "execute_result"
    }
   ],
   "source": [
    "all_malware_types_list = list(df_files.malware_type.unique())\n",
    "all_malware_types_list = [item for item in all_malware_types_list if item != 'unknown']\n",
    "\n",
    "all_malware_types_list"
   ]
  },
  {
   "cell_type": "markdown",
   "id": "03f6cc08",
   "metadata": {},
   "source": [
    "#### Malwares"
   ]
  },
  {
   "cell_type": "code",
   "execution_count": 12,
   "id": "f336b70b",
   "metadata": {},
   "outputs": [
    {
     "data": {
      "text/plain": [
       "['remcos',\n",
       " 'generic mg',\n",
       " 'njrat',\n",
       " 'bitrat',\n",
       " 'mirai',\n",
       " 'injector gen',\n",
       " 'generickd',\n",
       " 'quasar rat',\n",
       " 'muldrop',\n",
       " 'netwire',\n",
       " 'ave maria',\n",
       " 'script cryxos',\n",
       " 'downloader gen',\n",
       " 'orcus',\n",
       " 'x gen drp',\n",
       " 'agent tesla',\n",
       " 'nanocore rat',\n",
       " 'redline stealer',\n",
       " 'lumma stealer',\n",
       " 'siggen',\n",
       " 'spynote',\n",
       " 'kryptik gen',\n",
       " 'obfus',\n",
       " 'kryptik gen eldorado',\n",
       " 'valyria',\n",
       " 'artemis',\n",
       " 'twave evil',\n",
       " 'java gen',\n",
       " 'borlanddelphi',\n",
       " 'cobalt strike',\n",
       " 'aidetect net',\n",
       " 'miscreantpunch',\n",
       " 'perseus',\n",
       " 'behaveslike generic',\n",
       " 'heracles',\n",
       " 'darkcomet',\n",
       " 'crypter gen',\n",
       " 'wannacryptor',\n",
       " 'formbook',\n",
       " 'azorult',\n",
       " 'genmalicious',\n",
       " 'bv downloader drp',\n",
       " 'evo gen',\n",
       " 'ddos',\n",
       " 'gafgyt',\n",
       " 'keylogger gen',\n",
       " 'cve exploit',\n",
       " 'banker gen',\n",
       " 'autoit',\n",
       " 'exploitx',\n",
       " 'coinminer generic',\n",
       " 'loki password stealer  pws',\n",
       " 'meterpreter',\n",
       " 'crimson rat',\n",
       " 'nanobot',\n",
       " 'ghost rat']"
      ]
     },
     "execution_count": 12,
     "metadata": {},
     "output_type": "execute_result"
    }
   ],
   "source": [
    "all_malware_list = list(df_files.malware.unique())\n",
    "all_malware_list = [item for item in all_malware_list if (item != 'unknown') & (item != 'malware_tag')]\n",
    "all_malware_list"
   ]
  },
  {
   "cell_type": "markdown",
   "id": "9a67df1c",
   "metadata": {},
   "source": [
    "#### Delivery Methods"
   ]
  },
  {
   "cell_type": "code",
   "execution_count": 13,
   "id": "4600cac9",
   "metadata": {},
   "outputs": [
    {
     "data": {
      "text/plain": [
       "['email attachment', 'web download', 'email link']"
      ]
     },
     "execution_count": 13,
     "metadata": {},
     "output_type": "execute_result"
    }
   ],
   "source": [
    "all_delivery_method_list = list(df_files.delivery_method.unique())\n",
    "all_delivery_method_list = [ item for item in all_delivery_method_list if (item != 'unknown') ]\n",
    "all_delivery_method_list"
   ]
  },
  {
   "cell_type": "markdown",
   "id": "fd527b44",
   "metadata": {},
   "source": [
    "#### Behaviours"
   ]
  },
  {
   "cell_type": "code",
   "execution_count": 14,
   "id": "e667156c",
   "metadata": {},
   "outputs": [
    {
     "data": {
      "text/html": [
       "<div>\n",
       "<style scoped>\n",
       "    .dataframe tbody tr th:only-of-type {\n",
       "        vertical-align: middle;\n",
       "    }\n",
       "\n",
       "    .dataframe tbody tr th {\n",
       "        vertical-align: top;\n",
       "    }\n",
       "\n",
       "    .dataframe thead th {\n",
       "        text-align: right;\n",
       "    }\n",
       "</style>\n",
       "<table border=\"1\" class=\"dataframe\">\n",
       "  <thead>\n",
       "    <tr style=\"text-align: right;\">\n",
       "      <th></th>\n",
       "      <th>sha1</th>\n",
       "      <th>sha256</th>\n",
       "      <th>md5</th>\n",
       "      <th>action_name</th>\n",
       "      <th>action_description</th>\n",
       "      <th>maliciousness_level</th>\n",
       "      <th>area</th>\n",
       "    </tr>\n",
       "  </thead>\n",
       "  <tbody>\n",
       "    <tr>\n",
       "      <th>0</th>\n",
       "      <td>007416f9ba10d2e2951a9dcd104b7206ad20d433</td>\n",
       "      <td>094b57a07096fb1f866a104c0b14c84aa99815b613587780765c8c6cd6ef1a42</td>\n",
       "      <td>7baa4836bd81113c16960501f679a81b</td>\n",
       "      <td>antidebug guardpages</td>\n",
       "      <td>guard pages use detected - possible anti-debugging.</td>\n",
       "      <td>neutral</td>\n",
       "      <td>System Processes</td>\n",
       "    </tr>\n",
       "    <tr>\n",
       "      <th>1</th>\n",
       "      <td>007416f9ba10d2e2951a9dcd104b7206ad20d433</td>\n",
       "      <td>094b57a07096fb1f866a104c0b14c84aa99815b613587780765c8c6cd6ef1a42</td>\n",
       "      <td>7baa4836bd81113c16960501f679a81b</td>\n",
       "      <td>antidebug setunhandledexceptionfilter</td>\n",
       "      <td>setunhandledexceptionfilter detected (possible anti-debug)</td>\n",
       "      <td>neutral</td>\n",
       "      <td>System Processes</td>\n",
       "    </tr>\n",
       "    <tr>\n",
       "      <th>2</th>\n",
       "      <td>007416f9ba10d2e2951a9dcd104b7206ad20d433</td>\n",
       "      <td>094b57a07096fb1f866a104c0b14c84aa99815b613587780765c8c6cd6ef1a42</td>\n",
       "      <td>7baa4836bd81113c16960501f679a81b</td>\n",
       "      <td>cape detected threat</td>\n",
       "      <td>cape detected the asyncrat malware</td>\n",
       "      <td>suspicious</td>\n",
       "      <td>Network Activity</td>\n",
       "    </tr>\n",
       "    <tr>\n",
       "      <th>3</th>\n",
       "      <td>007416f9ba10d2e2951a9dcd104b7206ad20d433</td>\n",
       "      <td>094b57a07096fb1f866a104c0b14c84aa99815b613587780765c8c6cd6ef1a42</td>\n",
       "      <td>7baa4836bd81113c16960501f679a81b</td>\n",
       "      <td>cmdline terminate</td>\n",
       "      <td>executed a command line with /c or /r argument to terminate command shell on completion which can be used to hide execution</td>\n",
       "      <td>neutral</td>\n",
       "      <td>System Processes</td>\n",
       "    </tr>\n",
       "    <tr>\n",
       "      <th>4</th>\n",
       "      <td>007416f9ba10d2e2951a9dcd104b7206ad20d433</td>\n",
       "      <td>094b57a07096fb1f866a104c0b14c84aa99815b613587780765c8c6cd6ef1a42</td>\n",
       "      <td>7baa4836bd81113c16960501f679a81b</td>\n",
       "      <td>dead connect</td>\n",
       "      <td>attempts to connect to a dead ip:port (1 unique times)</td>\n",
       "      <td>neutral</td>\n",
       "      <td>Network Communications</td>\n",
       "    </tr>\n",
       "  </tbody>\n",
       "</table>\n",
       "</div>"
      ],
      "text/plain": [
       "                                       sha1  \\\n",
       "0  007416f9ba10d2e2951a9dcd104b7206ad20d433   \n",
       "1  007416f9ba10d2e2951a9dcd104b7206ad20d433   \n",
       "2  007416f9ba10d2e2951a9dcd104b7206ad20d433   \n",
       "3  007416f9ba10d2e2951a9dcd104b7206ad20d433   \n",
       "4  007416f9ba10d2e2951a9dcd104b7206ad20d433   \n",
       "\n",
       "                                                             sha256  \\\n",
       "0  094b57a07096fb1f866a104c0b14c84aa99815b613587780765c8c6cd6ef1a42   \n",
       "1  094b57a07096fb1f866a104c0b14c84aa99815b613587780765c8c6cd6ef1a42   \n",
       "2  094b57a07096fb1f866a104c0b14c84aa99815b613587780765c8c6cd6ef1a42   \n",
       "3  094b57a07096fb1f866a104c0b14c84aa99815b613587780765c8c6cd6ef1a42   \n",
       "4  094b57a07096fb1f866a104c0b14c84aa99815b613587780765c8c6cd6ef1a42   \n",
       "\n",
       "                                md5                            action_name  \\\n",
       "0  7baa4836bd81113c16960501f679a81b                   antidebug guardpages   \n",
       "1  7baa4836bd81113c16960501f679a81b  antidebug setunhandledexceptionfilter   \n",
       "2  7baa4836bd81113c16960501f679a81b                   cape detected threat   \n",
       "3  7baa4836bd81113c16960501f679a81b                      cmdline terminate   \n",
       "4  7baa4836bd81113c16960501f679a81b                           dead connect   \n",
       "\n",
       "                                                                                                            action_description  \\\n",
       "0                                                                          guard pages use detected - possible anti-debugging.   \n",
       "1                                                                   setunhandledexceptionfilter detected (possible anti-debug)   \n",
       "2                                                                                           cape detected the asyncrat malware   \n",
       "3  executed a command line with /c or /r argument to terminate command shell on completion which can be used to hide execution   \n",
       "4                                                                       attempts to connect to a dead ip:port (1 unique times)   \n",
       "\n",
       "  maliciousness_level                    area  \n",
       "0             neutral        System Processes  \n",
       "1             neutral        System Processes  \n",
       "2          suspicious        Network Activity  \n",
       "3             neutral        System Processes  \n",
       "4             neutral  Network Communications  "
      ]
     },
     "execution_count": 14,
     "metadata": {},
     "output_type": "execute_result"
    }
   ],
   "source": [
    "behaviours = pd.read_csv(behaviour_files)\n",
    "#behaviours = behaviours.drop(columns=['Unnamed: 0'])\n",
    "behaviours.head()"
   ]
  },
  {
   "cell_type": "code",
   "execution_count": 15,
   "id": "111e57f5",
   "metadata": {},
   "outputs": [
    {
     "data": {
      "text/plain": [
       "['antidebug guardpages',\n",
       " 'antidebug setunhandledexceptionfilter',\n",
       " 'cape detected threat',\n",
       " 'cmdline terminate',\n",
       " 'dead connect',\n",
       " 'deletes executed files',\n",
       " 'dynamic function loading',\n",
       " 'injection rwx',\n",
       " 'persistence autorun tasks',\n",
       " 'process creation suspicious location',\n",
       " 'reads self',\n",
       " 'stealth timeout',\n",
       " 'stealth window',\n",
       " 'suspicious command tools',\n",
       " 'uses windows utilities',\n",
       " 'uses windows utilities to create scheduled task',\n",
       " 'allocates execute remote process',\n",
       " 'allocates rwx',\n",
       " 'antivm memory available',\n",
       " 'antivm network adapters',\n",
       " 'antivm queries computername',\n",
       " 'checks debugger',\n",
       " 'creates exe',\n",
       " 'dead host',\n",
       " 'dumped buffer',\n",
       " 'exe appdata',\n",
       " 'generates crypto key',\n",
       " 'has pdb',\n",
       " 'injection ntsetcontextthread',\n",
       " 'injection resumethread',\n",
       " 'injection runpe',\n",
       " 'injection write memory',\n",
       " 'injection write memory exe',\n",
       " 'nolookup communication',\n",
       " 'packer entropy',\n",
       " 'persistence autorun',\n",
       " 'privilege luid check',\n",
       " 'removes zoneid ads',\n",
       " 'schtask create',\n",
       " 'suspicious process',\n",
       " 'network icmp',\n",
       " 'osquery detection',\n",
       " 'dumped buffer2',\n",
       " 'infostealer keylogger',\n",
       " 'networkdyndns checkip',\n",
       " 'nids alert',\n",
       " 'infostealer ftp',\n",
       " 'queries programs',\n",
       " 'raises exception',\n",
       " 'recon programs',\n",
       " 'antisandbox sleep',\n",
       " 'console output',\n",
       " 'packer polymorphic',\n",
       " 'protection rx',\n",
       " 'antisandbox foregroundwindows',\n",
       " 'process martian',\n",
       " 'suspicious write exe',\n",
       " 'antisandbox idletime',\n",
       " 'antisandbox mouse hook',\n",
       " 'pe features',\n",
       " 'powershell reg add',\n",
       " 'infostealer browser',\n",
       " 'infostealer im',\n",
       " 'infostealer mail',\n",
       " 'injection process search',\n",
       " 'locates browser',\n",
       " 'network downloader exe',\n",
       " 'infostealer keylog',\n",
       " 'ransomware file modifications',\n",
       " 'disables security',\n",
       " 'dropper',\n",
       " 'creates hidden file',\n",
       " 'document open',\n",
       " 'network cnc http',\n",
       " 'network http',\n",
       " 'nids malware alert',\n",
       " 'stealth system procname',\n",
       " 'network multiple direct ip connections',\n",
       " 'accesses recyclebin',\n",
       " 'anomalous deletefile',\n",
       " 'antivm generic bios',\n",
       " 'antivm generic disk',\n",
       " 'creates largekey',\n",
       " 'enumerates physical drives',\n",
       " 'exec crash',\n",
       " 'infostealer cookies',\n",
       " 'injection inter process',\n",
       " 'injection process hollowing',\n",
       " 'modify desktop wallpaper',\n",
       " 'physical drive access',\n",
       " 'powershell request',\n",
       " 'recon fingerprint',\n",
       " 'terminates remote process',\n",
       " 'antivm generic services',\n",
       " 'modifies proxy wpad',\n",
       " 'http request',\n",
       " 'infostealer bitcoin',\n",
       " 'network cnc https generic',\n",
       " 'network dyndns',\n",
       " 'powershell download',\n",
       " 'procmem yara',\n",
       " 'recon checkip',\n",
       " 'antivm disk size',\n",
       " 'origin langid',\n",
       " 'peid packer',\n",
       " 'antidbg windows',\n",
       " 'antivm vmware in instruction',\n",
       " 'injection network trafic',\n",
       " 'process interest',\n",
       " 'stealth hiddenfile',\n",
       " 'stops service',\n",
       " 'https urls',\n",
       " 'injection createremotethread',\n",
       " 'injection modifies memory',\n",
       " 'multiple useragents',\n",
       " 'antivm generic cpu',\n",
       " 'persistence ads',\n",
       " 'registry credential store access',\n",
       " 'cloud google',\n",
       " 'rat spynet',\n",
       " 'creates shortcut',\n",
       " 'encrypt pcinfo',\n",
       " 'suricata alert',\n",
       " 'disables proxy',\n",
       " 'has wmi',\n",
       " 'network bind',\n",
       " 'process needed',\n",
       " 'ransomware appends extensions',\n",
       " 'ransomware file moves',\n",
       " 'rat teamviewer',\n",
       " 'wmi antivm',\n",
       " 'pe unknown resource name',\n",
       " 'modifies certificates',\n",
       " 'powershell dfsp',\n",
       " 'suspicious powershell',\n",
       " 'antiemu wine',\n",
       " 'antivm generic scsi',\n",
       " 'antivm vbox keys',\n",
       " 'antivm vmware keys',\n",
       " 'creates service',\n",
       " 'cape extracted content',\n",
       " 'injection create remote thread',\n",
       " 'rat nanocore',\n",
       " 'spawns dev util',\n",
       " 'packer upx',\n",
       " 'accesses public folder',\n",
       " 'encrypted ioc',\n",
       " 'antiav detectfile',\n",
       " 'tcp syn scan',\n",
       " 'powershell command suspicious',\n",
       " 'powershell scriptblock logging',\n",
       " 'script tool executed',\n",
       " 'ransomware extensions',\n",
       " 'suspicious tld',\n",
       " 'remcos files',\n",
       " 'remcos mutexes',\n",
       " 'remcos regkeys',\n",
       " 'antidbg devices',\n",
       " 'cybergate',\n",
       " 'antisandbox unhook',\n",
       " 'creates doc',\n",
       " 'locker taskmgr',\n",
       " 'darkcomet regkeys',\n",
       " 'deletes self',\n",
       " 'dotnet csc build',\n",
       " 'network dns reverse proxy',\n",
       " 'rat fynloski mutexes',\n",
       " 'sysinternals tools usage',\n",
       " 'modifies security center warnings',\n",
       " 'rat fynloski',\n",
       " 'p2p cnc',\n",
       " 'writes to stdout',\n",
       " 'network document file',\n",
       " 'network http post',\n",
       " 'rat bifrose',\n",
       " 'antisandbox sboxie libs',\n",
       " 'dll load uncommon file types',\n",
       " 'moves self',\n",
       " 'persistence registry javascript',\n",
       " 'persistence registry powershell',\n",
       " 'network irc',\n",
       " 'process crash',\n",
       " 'antiav avast libs',\n",
       " 'applcation raises exception',\n",
       " 'creates user folder exe',\n",
       " 'enumerates running processes',\n",
       " 'spooler svc start',\n",
       " 'stealth hiddenreg',\n",
       " 'stealth network',\n",
       " 'rat quasar mutexes',\n",
       " 'sniffer winpcap',\n",
       " 'banker bancos',\n",
       " 'network fake useragent',\n",
       " 'network questionable http path',\n",
       " 'stop ransom mutexes',\n",
       " 'stop ransomware cmd',\n",
       " 'stop ransomware registry',\n",
       " 'disables uac',\n",
       " 'script created process',\n",
       " 'nids exploit alert',\n",
       " 'long commandline',\n",
       " 'antivm firmware',\n",
       " 'modifies zoneid',\n",
       " 'disables windows defender',\n",
       " 'network cnc https free webshoting',\n",
       " 'network cnc https socialmedia',\n",
       " 'network ip exe',\n",
       " 'venomrat mutexes',\n",
       " 'virus',\n",
       " 'malicious document urls',\n",
       " 'network wscript downloader',\n",
       " 'bladabindi mutexes',\n",
       " 'ransomware mass file delete',\n",
       " 'netwire',\n",
       " 'antisandbox suspend',\n",
       " 'network dns paste site',\n",
       " 'antivm generic system',\n",
       " 'warzonerat files',\n",
       " 'windows defender powershell',\n",
       " 'antivm vbox files',\n",
       " 'antivm vmware files',\n",
       " 'bypass firewall',\n",
       " 'injection network traffic',\n",
       " 'modify security center warnings',\n",
       " 'rat sdbot',\n",
       " 'antidebug ntsetinformationthread',\n",
       " 'antiav detectreg',\n",
       " 'network dns blockchain',\n",
       " 'rtf unknown character set',\n",
       " 'network cnc https payload',\n",
       " 'renostrojan',\n",
       " 'plugx',\n",
       " 'network tor',\n",
       " 'js eval',\n",
       " 'antiemu wine func',\n",
       " 'injection queueapcthread',\n",
       " 'njrat regkeys',\n",
       " 'disables system restore',\n",
       " 'accesses netlogon regkey',\n",
       " 'createtoolhelp32snapshot module enumeration',\n",
       " 'mimics agent',\n",
       " 'suspicious ping use',\n",
       " 'uses windows utilities nltest',\n",
       " 'spreading autoruninf',\n",
       " 'antivm vbox devices',\n",
       " 'rat rbot',\n",
       " 'network excessive udp',\n",
       " 'chmod 777 perm',\n",
       " 'browser security',\n",
       " 'detect putty',\n",
       " 'memdump urls',\n",
       " 'ransomware dropped files',\n",
       " 'rat xtreme',\n",
       " 'modify uac prompt',\n",
       " 'packer vmprotect',\n",
       " 'banker zeus p2p',\n",
       " 'orcusrat behavior',\n",
       " 'exploit heapspray',\n",
       " 'persists dev util',\n",
       " 'rtf unknown version',\n",
       " 'antisandbox sunbelt libs',\n",
       " 'network anomaly',\n",
       " 'spoofs procname',\n",
       " 'antidebug windows',\n",
       " 'recon beacon',\n",
       " 'network cnc https pastesite',\n",
       " 'suspicious certutil use',\n",
       " 'alters windows utility',\n",
       " 'powershell renamed',\n",
       " 'nitol',\n",
       " 'warzonerat regkeys',\n",
       " 'exec waitfor',\n",
       " 'martian command process',\n",
       " 'antivirus virustotal',\n",
       " 'banker zeus mutex',\n",
       " 'copies self',\n",
       " 'cryptopool domains',\n",
       " 'antiav servicestop',\n",
       " 'masquerade process name',\n",
       " 'antivm sandboxie',\n",
       " 'recon systeminfo',\n",
       " 'modify certs',\n",
       " 'cryptomining stratum command',\n",
       " 'network dns txt lookup',\n",
       " 'antisandbox file',\n",
       " 'antisandbox joe anubis files',\n",
       " 'captures screenshot',\n",
       " 'netwire behavior',\n",
       " 'cypherit mutexes',\n",
       " 'network dga',\n",
       " 'stealth childproc',\n",
       " 'cmdline long string',\n",
       " 'crontab persistency',\n",
       " 'antivm generic diskreg',\n",
       " 'win32 process create',\n",
       " 'suspicious js script',\n",
       " 'cmdline obfuscation',\n",
       " 'cmdline http link',\n",
       " 'network cnc https opensource',\n",
       " 'antisandbox cuckoo files',\n",
       " 'blackrat apis',\n",
       " 'persistence registry exe',\n",
       " 'trojan jorik',\n",
       " 'andromeda',\n",
       " 'uses powershell copyitem',\n",
       " 'polymorphic',\n",
       " 'stealth hidden extension',\n",
       " 'network cnc https useragent',\n",
       " 'browser helper object',\n",
       " 'browser startpage',\n",
       " 'dns freehosting domain',\n",
       " 'packer themida',\n",
       " 'dyreza',\n",
       " 'upatre',\n",
       " 'modify proxy',\n",
       " 'static pe anomaly',\n",
       " 'stealth file',\n",
       " 'powershell network connection',\n",
       " 'disables windows file protection',\n",
       " 'antidebug devices',\n",
       " 'antiemu wine reg',\n",
       " 'rat buzus mutexes',\n",
       " 'office cve2017 11882 network']"
      ]
     },
     "execution_count": 15,
     "metadata": {},
     "output_type": "execute_result"
    }
   ],
   "source": [
    "all_behaviours_name_list = list(behaviours.action_name.unique())\n",
    "all_behaviours_name_list = [ item for item in all_behaviours_name_list if (item != 'unknown') ]\n",
    "all_behaviours_name_list"
   ]
  },
  {
   "cell_type": "markdown",
   "id": "2e3f8788",
   "metadata": {},
   "source": [
    "#### Attacks"
   ]
  },
  {
   "cell_type": "code",
   "execution_count": 16,
   "id": "3afab840",
   "metadata": {},
   "outputs": [
    {
     "data": {
      "text/html": [
       "<div>\n",
       "<style scoped>\n",
       "    .dataframe tbody tr th:only-of-type {\n",
       "        vertical-align: middle;\n",
       "    }\n",
       "\n",
       "    .dataframe tbody tr th {\n",
       "        vertical-align: top;\n",
       "    }\n",
       "\n",
       "    .dataframe thead th {\n",
       "        text-align: right;\n",
       "    }\n",
       "</style>\n",
       "<table border=\"1\" class=\"dataframe\">\n",
       "  <thead>\n",
       "    <tr style=\"text-align: right;\">\n",
       "      <th></th>\n",
       "      <th>sha1</th>\n",
       "      <th>sha256</th>\n",
       "      <th>md5</th>\n",
       "      <th>attack_id</th>\n",
       "      <th>attack_name</th>\n",
       "      <th>attack_type</th>\n",
       "    </tr>\n",
       "  </thead>\n",
       "  <tbody>\n",
       "    <tr>\n",
       "      <th>0</th>\n",
       "      <td>713a00b13a87c52b43404cd32d0f4645844709d9</td>\n",
       "      <td>3b96a384f9989f28315eb374eae991e70ed07b88665cbf831f24bd574502feac</td>\n",
       "      <td>97ad0714b0245825407dd25d7d168d31</td>\n",
       "      <td>T1060</td>\n",
       "      <td>Registry Run Keys / Start Folder</td>\n",
       "      <td>Installation</td>\n",
       "    </tr>\n",
       "    <tr>\n",
       "      <th>1</th>\n",
       "      <td>713a00b13a87c52b43404cd32d0f4645844709d9</td>\n",
       "      <td>3b96a384f9989f28315eb374eae991e70ed07b88665cbf831f24bd574502feac</td>\n",
       "      <td>97ad0714b0245825407dd25d7d168d31</td>\n",
       "      <td>T1056</td>\n",
       "      <td>Input Capture</td>\n",
       "      <td>Objectives</td>\n",
       "    </tr>\n",
       "    <tr>\n",
       "      <th>2</th>\n",
       "      <td>e900de5aea86567fadc7507a6811596eb4b86a14</td>\n",
       "      <td>3363270a2950c8518e7883ea147b3f947b3a96aa31d37a990c73f975946335ce</td>\n",
       "      <td>e076afd88fe6a708d91a3f771754e860</td>\n",
       "      <td>T1060</td>\n",
       "      <td>Registry Run Keys / Start Folder</td>\n",
       "      <td>Installation</td>\n",
       "    </tr>\n",
       "    <tr>\n",
       "      <th>3</th>\n",
       "      <td>12d263832d7f08122fbfc4431da22016e0823539</td>\n",
       "      <td>cf1260b1d0686dbee4a5c9e3bcd09eff07bfae0a53d17356b72150f59ad1a497</td>\n",
       "      <td>497d3c4d08b80e03f622064dced10135</td>\n",
       "      <td>T1119</td>\n",
       "      <td>Automated Collection</td>\n",
       "      <td>Objectives</td>\n",
       "    </tr>\n",
       "    <tr>\n",
       "      <th>4</th>\n",
       "      <td>12d263832d7f08122fbfc4431da22016e0823539</td>\n",
       "      <td>cf1260b1d0686dbee4a5c9e3bcd09eff07bfae0a53d17356b72150f59ad1a497</td>\n",
       "      <td>497d3c4d08b80e03f622064dced10135</td>\n",
       "      <td>T1045</td>\n",
       "      <td>Software Packing</td>\n",
       "      <td>Installation</td>\n",
       "    </tr>\n",
       "  </tbody>\n",
       "</table>\n",
       "</div>"
      ],
      "text/plain": [
       "                                       sha1  \\\n",
       "0  713a00b13a87c52b43404cd32d0f4645844709d9   \n",
       "1  713a00b13a87c52b43404cd32d0f4645844709d9   \n",
       "2  e900de5aea86567fadc7507a6811596eb4b86a14   \n",
       "3  12d263832d7f08122fbfc4431da22016e0823539   \n",
       "4  12d263832d7f08122fbfc4431da22016e0823539   \n",
       "\n",
       "                                                             sha256  \\\n",
       "0  3b96a384f9989f28315eb374eae991e70ed07b88665cbf831f24bd574502feac   \n",
       "1  3b96a384f9989f28315eb374eae991e70ed07b88665cbf831f24bd574502feac   \n",
       "2  3363270a2950c8518e7883ea147b3f947b3a96aa31d37a990c73f975946335ce   \n",
       "3  cf1260b1d0686dbee4a5c9e3bcd09eff07bfae0a53d17356b72150f59ad1a497   \n",
       "4  cf1260b1d0686dbee4a5c9e3bcd09eff07bfae0a53d17356b72150f59ad1a497   \n",
       "\n",
       "                                md5 attack_id  \\\n",
       "0  97ad0714b0245825407dd25d7d168d31     T1060   \n",
       "1  97ad0714b0245825407dd25d7d168d31     T1056   \n",
       "2  e076afd88fe6a708d91a3f771754e860     T1060   \n",
       "3  497d3c4d08b80e03f622064dced10135     T1119   \n",
       "4  497d3c4d08b80e03f622064dced10135     T1045   \n",
       "\n",
       "                        attack_name   attack_type  \n",
       "0  Registry Run Keys / Start Folder  Installation  \n",
       "1                     Input Capture    Objectives  \n",
       "2  Registry Run Keys / Start Folder  Installation  \n",
       "3              Automated Collection    Objectives  \n",
       "4                  Software Packing  Installation  "
      ]
     },
     "execution_count": 16,
     "metadata": {},
     "output_type": "execute_result"
    }
   ],
   "source": [
    "attacks = pd.read_csv(attack_files)\n",
    "#attacks = attacks.drop(columns=['Unnamed: 0'])\n",
    "attacks.head()"
   ]
  },
  {
   "cell_type": "code",
   "execution_count": 17,
   "id": "cb17b3e0",
   "metadata": {},
   "outputs": [
    {
     "data": {
      "text/plain": [
       "['Registry Run Keys',\n",
       " 'Start Folder',\n",
       " 'Input Capture',\n",
       " 'Automated Collection',\n",
       " 'Software Packing',\n",
       " 'Process Discovery',\n",
       " 'Defense Evasion, Privilege Escalation',\n",
       " 'Masquerading',\n",
       " 'Disable Security Software',\n",
       " 'Windows Management Instrumentation',\n",
       " 'Install New Service',\n",
       " 'Security Software Discovery',\n",
       " 'T1060',\n",
       " 'T1056',\n",
       " 'T1119',\n",
       " 'T1045',\n",
       " 'T1057',\n",
       " 'T1055',\n",
       " 'T1036',\n",
       " '578',\n",
       " 'T1047',\n",
       " '550',\n",
       " 'T1063']"
      ]
     },
     "execution_count": 17,
     "metadata": {},
     "output_type": "execute_result"
    }
   ],
   "source": [
    "all_attack_name_list = list(attacks.attack_name.unique()) + list(attacks.attack_id.unique())\n",
    "all_attack_name_list = [ item for item in all_attack_name_list if (item != 'unknown') ]\n",
    "new_list = []\n",
    "\n",
    "for element in all_attack_name_list:\n",
    "    if '/' in element:\n",
    "        parts = element.split('/')\n",
    "        # Add non-empty parts after removing leading and trailing spaces\n",
    "        new_list.extend([part.strip() for part in parts if part])\n",
    "    else:\n",
    "        # If there is no '/', simply add the element after removing leading and trailing spaces\n",
    "        new_list.append(element.strip())\n",
    "\n",
    "all_attack_name_list = new_list\n",
    "all_attack_name_list\n"
   ]
  },
  {
   "cell_type": "markdown",
   "id": "131548a7",
   "metadata": {},
   "source": [
    "### Lemmatization"
   ]
  },
  {
   "cell_type": "code",
   "execution_count": 18,
   "id": "d2a0b362",
   "metadata": {},
   "outputs": [
    {
     "name": "stdout",
     "output_type": "stream",
     "text": [
      "Requirement already satisfied: spacy in c:\\users\\leona\\anaconda3\\lib\\site-packages (3.7.2)Note: you may need to restart the kernel to use updated packages.\n",
      "\n",
      "Requirement already satisfied: spacy-legacy<3.1.0,>=3.0.11 in c:\\users\\leona\\anaconda3\\lib\\site-packages (from spacy) (3.0.12)\n",
      "Requirement already satisfied: spacy-loggers<2.0.0,>=1.0.0 in c:\\users\\leona\\anaconda3\\lib\\site-packages (from spacy) (1.0.5)\n",
      "Requirement already satisfied: murmurhash<1.1.0,>=0.28.0 in c:\\users\\leona\\anaconda3\\lib\\site-packages (from spacy) (1.0.10)\n",
      "Requirement already satisfied: cymem<2.1.0,>=2.0.2 in c:\\users\\leona\\anaconda3\\lib\\site-packages (from spacy) (2.0.8)\n",
      "Requirement already satisfied: preshed<3.1.0,>=3.0.2 in c:\\users\\leona\\anaconda3\\lib\\site-packages (from spacy) (3.0.9)\n",
      "Requirement already satisfied: thinc<8.3.0,>=8.1.8 in c:\\users\\leona\\anaconda3\\lib\\site-packages (from spacy) (8.2.2)\n",
      "Requirement already satisfied: wasabi<1.2.0,>=0.9.1 in c:\\users\\leona\\anaconda3\\lib\\site-packages (from spacy) (1.1.2)\n",
      "Requirement already satisfied: srsly<3.0.0,>=2.4.3 in c:\\users\\leona\\anaconda3\\lib\\site-packages (from spacy) (2.4.8)\n",
      "Requirement already satisfied: catalogue<2.1.0,>=2.0.6 in c:\\users\\leona\\anaconda3\\lib\\site-packages (from spacy) (2.0.10)\n",
      "Requirement already satisfied: weasel<0.4.0,>=0.1.0 in c:\\users\\leona\\anaconda3\\lib\\site-packages (from spacy) (0.3.4)\n",
      "Requirement already satisfied: typer<0.10.0,>=0.3.0 in c:\\users\\leona\\anaconda3\\lib\\site-packages (from spacy) (0.9.0)\n",
      "Requirement already satisfied: smart-open<7.0.0,>=5.2.1 in c:\\users\\leona\\anaconda3\\lib\\site-packages (from spacy) (5.2.1)\n",
      "Requirement already satisfied: tqdm<5.0.0,>=4.38.0 in c:\\users\\leona\\anaconda3\\lib\\site-packages (from spacy) (4.65.0)\n",
      "Requirement already satisfied: requests<3.0.0,>=2.13.0 in c:\\users\\leona\\anaconda3\\lib\\site-packages (from spacy) (2.31.0)\n",
      "Requirement already satisfied: pydantic!=1.8,!=1.8.1,<3.0.0,>=1.7.4 in c:\\users\\leona\\anaconda3\\lib\\site-packages (from spacy) (2.5.3)\n",
      "Requirement already satisfied: jinja2 in c:\\users\\leona\\anaconda3\\lib\\site-packages (from spacy) (3.1.2)\n",
      "Requirement already satisfied: setuptools in c:\\users\\leona\\anaconda3\\lib\\site-packages (from spacy) (68.0.0)\n",
      "Requirement already satisfied: packaging>=20.0 in c:\\users\\leona\\anaconda3\\lib\\site-packages (from spacy) (23.1)\n",
      "Requirement already satisfied: langcodes<4.0.0,>=3.2.0 in c:\\users\\leona\\anaconda3\\lib\\site-packages (from spacy) (3.3.0)\n",
      "Requirement already satisfied: numpy>=1.19.0 in c:\\users\\leona\\anaconda3\\lib\\site-packages (from spacy) (1.23.5)\n",
      "Requirement already satisfied: annotated-types>=0.4.0 in c:\\users\\leona\\anaconda3\\lib\\site-packages (from pydantic!=1.8,!=1.8.1,<3.0.0,>=1.7.4->spacy) (0.6.0)\n",
      "Requirement already satisfied: pydantic-core==2.14.6 in c:\\users\\leona\\anaconda3\\lib\\site-packages (from pydantic!=1.8,!=1.8.1,<3.0.0,>=1.7.4->spacy) (2.14.6)\n",
      "Requirement already satisfied: typing-extensions>=4.6.1 in c:\\users\\leona\\anaconda3\\lib\\site-packages (from pydantic!=1.8,!=1.8.1,<3.0.0,>=1.7.4->spacy) (4.7.1)\n",
      "Requirement already satisfied: charset-normalizer<4,>=2 in c:\\users\\leona\\anaconda3\\lib\\site-packages (from requests<3.0.0,>=2.13.0->spacy) (2.0.4)\n",
      "Requirement already satisfied: idna<4,>=2.5 in c:\\users\\leona\\anaconda3\\lib\\site-packages (from requests<3.0.0,>=2.13.0->spacy) (2.10)\n",
      "Requirement already satisfied: urllib3<3,>=1.21.1 in c:\\users\\leona\\anaconda3\\lib\\site-packages (from requests<3.0.0,>=2.13.0->spacy) (1.26.16)\n",
      "Requirement already satisfied: certifi>=2017.4.17 in c:\\users\\leona\\anaconda3\\lib\\site-packages (from requests<3.0.0,>=2.13.0->spacy) (2023.7.22)\n",
      "Requirement already satisfied: blis<0.8.0,>=0.7.8 in c:\\users\\leona\\anaconda3\\lib\\site-packages (from thinc<8.3.0,>=8.1.8->spacy) (0.7.11)\n",
      "Requirement already satisfied: confection<1.0.0,>=0.0.1 in c:\\users\\leona\\anaconda3\\lib\\site-packages (from thinc<8.3.0,>=8.1.8->spacy) (0.1.4)\n",
      "Requirement already satisfied: colorama in c:\\users\\leona\\anaconda3\\lib\\site-packages (from tqdm<5.0.0,>=4.38.0->spacy) (0.4.6)\n",
      "Requirement already satisfied: click<9.0.0,>=7.1.1 in c:\\users\\leona\\anaconda3\\lib\\site-packages (from typer<0.10.0,>=0.3.0->spacy) (8.0.4)\n",
      "Requirement already satisfied: cloudpathlib<0.17.0,>=0.7.0 in c:\\users\\leona\\anaconda3\\lib\\site-packages (from weasel<0.4.0,>=0.1.0->spacy) (0.16.0)\n",
      "Requirement already satisfied: MarkupSafe>=2.0 in c:\\users\\leona\\anaconda3\\lib\\site-packages (from jinja2->spacy) (2.1.1)\n"
     ]
    }
   ],
   "source": [
    "pip install spacy\n"
   ]
  },
  {
   "cell_type": "code",
   "execution_count": 19,
   "id": "304fc3a4",
   "metadata": {},
   "outputs": [
    {
     "name": "stdout",
     "output_type": "stream",
     "text": [
      "Collecting en-core-web-sm==3.7.1\n",
      "  Using cached https://github.com/explosion/spacy-models/releases/download/en_core_web_sm-3.7.1/en_core_web_sm-3.7.1-py3-none-any.whl (12.8 MB)\n",
      "Requirement already satisfied: spacy<3.8.0,>=3.7.2 in c:\\users\\leona\\anaconda3\\lib\\site-packages (from en-core-web-sm==3.7.1) (3.7.2)\n",
      "Requirement already satisfied: spacy-legacy<3.1.0,>=3.0.11 in c:\\users\\leona\\anaconda3\\lib\\site-packages (from spacy<3.8.0,>=3.7.2->en-core-web-sm==3.7.1) (3.0.12)\n",
      "Requirement already satisfied: spacy-loggers<2.0.0,>=1.0.0 in c:\\users\\leona\\anaconda3\\lib\\site-packages (from spacy<3.8.0,>=3.7.2->en-core-web-sm==3.7.1) (1.0.5)\n",
      "Requirement already satisfied: murmurhash<1.1.0,>=0.28.0 in c:\\users\\leona\\anaconda3\\lib\\site-packages (from spacy<3.8.0,>=3.7.2->en-core-web-sm==3.7.1) (1.0.10)\n",
      "Requirement already satisfied: cymem<2.1.0,>=2.0.2 in c:\\users\\leona\\anaconda3\\lib\\site-packages (from spacy<3.8.0,>=3.7.2->en-core-web-sm==3.7.1) (2.0.8)\n",
      "Requirement already satisfied: preshed<3.1.0,>=3.0.2 in c:\\users\\leona\\anaconda3\\lib\\site-packages (from spacy<3.8.0,>=3.7.2->en-core-web-sm==3.7.1) (3.0.9)\n",
      "Requirement already satisfied: thinc<8.3.0,>=8.1.8 in c:\\users\\leona\\anaconda3\\lib\\site-packages (from spacy<3.8.0,>=3.7.2->en-core-web-sm==3.7.1) (8.2.2)\n",
      "Requirement already satisfied: wasabi<1.2.0,>=0.9.1 in c:\\users\\leona\\anaconda3\\lib\\site-packages (from spacy<3.8.0,>=3.7.2->en-core-web-sm==3.7.1) (1.1.2)\n",
      "Requirement already satisfied: srsly<3.0.0,>=2.4.3 in c:\\users\\leona\\anaconda3\\lib\\site-packages (from spacy<3.8.0,>=3.7.2->en-core-web-sm==3.7.1) (2.4.8)\n",
      "Requirement already satisfied: catalogue<2.1.0,>=2.0.6 in c:\\users\\leona\\anaconda3\\lib\\site-packages (from spacy<3.8.0,>=3.7.2->en-core-web-sm==3.7.1) (2.0.10)\n",
      "Requirement already satisfied: weasel<0.4.0,>=0.1.0 in c:\\users\\leona\\anaconda3\\lib\\site-packages (from spacy<3.8.0,>=3.7.2->en-core-web-sm==3.7.1) (0.3.4)\n",
      "Requirement already satisfied: typer<0.10.0,>=0.3.0 in c:\\users\\leona\\anaconda3\\lib\\site-packages (from spacy<3.8.0,>=3.7.2->en-core-web-sm==3.7.1) (0.9.0)\n",
      "Requirement already satisfied: smart-open<7.0.0,>=5.2.1 in c:\\users\\leona\\anaconda3\\lib\\site-packages (from spacy<3.8.0,>=3.7.2->en-core-web-sm==3.7.1) (5.2.1)\n",
      "Requirement already satisfied: tqdm<5.0.0,>=4.38.0 in c:\\users\\leona\\anaconda3\\lib\\site-packages (from spacy<3.8.0,>=3.7.2->en-core-web-sm==3.7.1) (4.65.0)\n",
      "Requirement already satisfied: requests<3.0.0,>=2.13.0 in c:\\users\\leona\\anaconda3\\lib\\site-packages (from spacy<3.8.0,>=3.7.2->en-core-web-sm==3.7.1) (2.31.0)\n",
      "Requirement already satisfied: pydantic!=1.8,!=1.8.1,<3.0.0,>=1.7.4 in c:\\users\\leona\\anaconda3\\lib\\site-packages (from spacy<3.8.0,>=3.7.2->en-core-web-sm==3.7.1) (2.5.3)\n",
      "Requirement already satisfied: jinja2 in c:\\users\\leona\\anaconda3\\lib\\site-packages (from spacy<3.8.0,>=3.7.2->en-core-web-sm==3.7.1) (3.1.2)\n",
      "Requirement already satisfied: setuptools in c:\\users\\leona\\anaconda3\\lib\\site-packages (from spacy<3.8.0,>=3.7.2->en-core-web-sm==3.7.1) (68.0.0)\n",
      "Requirement already satisfied: packaging>=20.0 in c:\\users\\leona\\anaconda3\\lib\\site-packages (from spacy<3.8.0,>=3.7.2->en-core-web-sm==3.7.1) (23.1)\n",
      "Requirement already satisfied: langcodes<4.0.0,>=3.2.0 in c:\\users\\leona\\anaconda3\\lib\\site-packages (from spacy<3.8.0,>=3.7.2->en-core-web-sm==3.7.1) (3.3.0)\n",
      "Requirement already satisfied: numpy>=1.19.0 in c:\\users\\leona\\anaconda3\\lib\\site-packages (from spacy<3.8.0,>=3.7.2->en-core-web-sm==3.7.1) (1.23.5)\n",
      "Requirement already satisfied: annotated-types>=0.4.0 in c:\\users\\leona\\anaconda3\\lib\\site-packages (from pydantic!=1.8,!=1.8.1,<3.0.0,>=1.7.4->spacy<3.8.0,>=3.7.2->en-core-web-sm==3.7.1) (0.6.0)\n",
      "Requirement already satisfied: pydantic-core==2.14.6 in c:\\users\\leona\\anaconda3\\lib\\site-packages (from pydantic!=1.8,!=1.8.1,<3.0.0,>=1.7.4->spacy<3.8.0,>=3.7.2->en-core-web-sm==3.7.1) (2.14.6)\n",
      "Requirement already satisfied: typing-extensions>=4.6.1 in c:\\users\\leona\\anaconda3\\lib\\site-packages (from pydantic!=1.8,!=1.8.1,<3.0.0,>=1.7.4->spacy<3.8.0,>=3.7.2->en-core-web-sm==3.7.1) (4.7.1)\n",
      "Requirement already satisfied: charset-normalizer<4,>=2 in c:\\users\\leona\\anaconda3\\lib\\site-packages (from requests<3.0.0,>=2.13.0->spacy<3.8.0,>=3.7.2->en-core-web-sm==3.7.1) (2.0.4)\n",
      "Requirement already satisfied: idna<4,>=2.5 in c:\\users\\leona\\anaconda3\\lib\\site-packages (from requests<3.0.0,>=2.13.0->spacy<3.8.0,>=3.7.2->en-core-web-sm==3.7.1) (2.10)\n",
      "Requirement already satisfied: urllib3<3,>=1.21.1 in c:\\users\\leona\\anaconda3\\lib\\site-packages (from requests<3.0.0,>=2.13.0->spacy<3.8.0,>=3.7.2->en-core-web-sm==3.7.1) (1.26.16)\n",
      "Requirement already satisfied: certifi>=2017.4.17 in c:\\users\\leona\\anaconda3\\lib\\site-packages (from requests<3.0.0,>=2.13.0->spacy<3.8.0,>=3.7.2->en-core-web-sm==3.7.1) (2023.7.22)\n",
      "Requirement already satisfied: blis<0.8.0,>=0.7.8 in c:\\users\\leona\\anaconda3\\lib\\site-packages (from thinc<8.3.0,>=8.1.8->spacy<3.8.0,>=3.7.2->en-core-web-sm==3.7.1) (0.7.11)\n",
      "Requirement already satisfied: confection<1.0.0,>=0.0.1 in c:\\users\\leona\\anaconda3\\lib\\site-packages (from thinc<8.3.0,>=8.1.8->spacy<3.8.0,>=3.7.2->en-core-web-sm==3.7.1) (0.1.4)\n",
      "Requirement already satisfied: colorama in c:\\users\\leona\\anaconda3\\lib\\site-packages (from tqdm<5.0.0,>=4.38.0->spacy<3.8.0,>=3.7.2->en-core-web-sm==3.7.1) (0.4.6)\n",
      "Requirement already satisfied: click<9.0.0,>=7.1.1 in c:\\users\\leona\\anaconda3\\lib\\site-packages (from typer<0.10.0,>=0.3.0->spacy<3.8.0,>=3.7.2->en-core-web-sm==3.7.1) (8.0.4)\n",
      "Requirement already satisfied: cloudpathlib<0.17.0,>=0.7.0 in c:\\users\\leona\\anaconda3\\lib\\site-packages (from weasel<0.4.0,>=0.1.0->spacy<3.8.0,>=3.7.2->en-core-web-sm==3.7.1) (0.16.0)\n",
      "Requirement already satisfied: MarkupSafe>=2.0 in c:\\users\\leona\\anaconda3\\lib\\site-packages (from jinja2->spacy<3.8.0,>=3.7.2->en-core-web-sm==3.7.1) (2.1.1)\n",
      "\u001b[38;5;2m✔ Download and installation successful\u001b[0m\n",
      "You can now load the package via spacy.load('en_core_web_sm')\n"
     ]
    }
   ],
   "source": [
    "!python -m spacy download en_core_web_sm"
   ]
  },
  {
   "cell_type": "code",
   "execution_count": 20,
   "id": "343db00b",
   "metadata": {},
   "outputs": [
    {
     "name": "stdout",
     "output_type": "stream",
     "text": [
      "Results:\n",
      "- The house is big.\n",
      "- Houses are large.\n"
     ]
    }
   ],
   "source": [
    "import spacy\n",
    "\n",
    "def search_word_lemmatization(texts, word_to_search):\n",
    "    nlp = spacy.load(\"en_core_web_sm\")\n",
    "\n",
    "    analyzed_word = nlp(word_to_search)\n",
    "\n",
    "    word_lemma = analyzed_word[0].lemma_\n",
    "\n",
    "    results = []\n",
    "    for text in texts:\n",
    "        doc = nlp(text)\n",
    "        for token in doc:\n",
    "            if token.text.lower() == word_to_search.lower() or token.lemma_.lower() == word_lemma.lower():\n",
    "                results.append(text)\n",
    "                break\n",
    "\n",
    "    return results\n",
    "\n",
    "# Example of usage\n",
    "texts = [\"The house is big.\", \"Houses are large.\", \"This is an example.\"]\n",
    "word_to_search = \"houses\"\n",
    "\n",
    "results = search_word_lemmatization(texts, word_to_search)\n",
    "\n",
    "print(\"Results:\")\n",
    "for result in results:\n",
    "    print(\"-\", result)\n"
   ]
  },
  {
   "cell_type": "markdown",
   "id": "3accd9a7",
   "metadata": {},
   "source": [
    "### Malwares Name Search "
   ]
  },
  {
   "cell_type": "code",
   "execution_count": 21,
   "id": "332e7b97",
   "metadata": {},
   "outputs": [
    {
     "name": "stdout",
     "output_type": "stream",
     "text": [
      "Requirement already satisfied: googletrans==4.0.0-rc1 in c:\\users\\leona\\anaconda3\\lib\\site-packages (4.0.0rc1)\n",
      "Requirement already satisfied: httpx==0.13.3 in c:\\users\\leona\\anaconda3\\lib\\site-packages (from googletrans==4.0.0-rc1) (0.13.3)\n",
      "Requirement already satisfied: certifi in c:\\users\\leona\\anaconda3\\lib\\site-packages (from httpx==0.13.3->googletrans==4.0.0-rc1) (2023.7.22)\n",
      "Requirement already satisfied: hstspreload in c:\\users\\leona\\anaconda3\\lib\\site-packages (from httpx==0.13.3->googletrans==4.0.0-rc1) (2024.1.5)\n",
      "Requirement already satisfied: sniffio in c:\\users\\leona\\anaconda3\\lib\\site-packages (from httpx==0.13.3->googletrans==4.0.0-rc1) (1.2.0)\n",
      "Requirement already satisfied: chardet==3.* in c:\\users\\leona\\anaconda3\\lib\\site-packages (from httpx==0.13.3->googletrans==4.0.0-rc1) (3.0.4)\n",
      "Requirement already satisfied: idna==2.* in c:\\users\\leona\\anaconda3\\lib\\site-packages (from httpx==0.13.3->googletrans==4.0.0-rc1) (2.10)\n",
      "Requirement already satisfied: rfc3986<2,>=1.3 in c:\\users\\leona\\anaconda3\\lib\\site-packages (from httpx==0.13.3->googletrans==4.0.0-rc1) (1.5.0)\n",
      "Requirement already satisfied: httpcore==0.9.* in c:\\users\\leona\\anaconda3\\lib\\site-packages (from httpx==0.13.3->googletrans==4.0.0-rc1) (0.9.1)\n",
      "Requirement already satisfied: h11<0.10,>=0.8 in c:\\users\\leona\\anaconda3\\lib\\site-packages (from httpcore==0.9.*->httpx==0.13.3->googletrans==4.0.0-rc1) (0.9.0)\n",
      "Requirement already satisfied: h2==3.* in c:\\users\\leona\\anaconda3\\lib\\site-packages (from httpcore==0.9.*->httpx==0.13.3->googletrans==4.0.0-rc1) (3.2.0)\n",
      "Requirement already satisfied: hyperframe<6,>=5.2.0 in c:\\users\\leona\\anaconda3\\lib\\site-packages (from h2==3.*->httpcore==0.9.*->httpx==0.13.3->googletrans==4.0.0-rc1) (5.2.0)\n",
      "Requirement already satisfied: hpack<4,>=3.0 in c:\\users\\leona\\anaconda3\\lib\\site-packages (from h2==3.*->httpcore==0.9.*->httpx==0.13.3->googletrans==4.0.0-rc1) (3.0.0)\n",
      "Note: you may need to restart the kernel to use updated packages.\n"
     ]
    }
   ],
   "source": [
    "pip install googletrans==4.0.0-rc1"
   ]
  },
  {
   "cell_type": "markdown",
   "id": "4cf21dea",
   "metadata": {},
   "source": [
    "### Data Cleaning"
   ]
  },
  {
   "cell_type": "code",
   "execution_count": 22,
   "id": "8cb3d738",
   "metadata": {},
   "outputs": [],
   "source": [
    "from googletrans import Translator\n",
    "from requests.exceptions import HTTPError\n",
    "\n",
    "\n",
    "def translate_to_english(text, target_language='en'):\n",
    "    \n",
    "    translator = Translator()\n",
    "    try:\n",
    "\n",
    "        translation = translator.translate(text, dest=target_language)\n",
    "        time.sleep(1) \n",
    "        return translation.text\n",
    "    \n",
    "    except HTTPError as e:\n",
    "        print(f\"HTTP error occurred: {e}\")\n",
    "        \n",
    "    except Exception as e:\n",
    "        print(f\"An error occurred: {e}\")\n",
    "        time.sleep(1) \n",
    "\n",
    "    # Return the original text in case of an error\n",
    "    return text"
   ]
  },
  {
   "cell_type": "markdown",
   "id": "eecdc737",
   "metadata": {},
   "source": [
    "#### Imputation"
   ]
  },
  {
   "cell_type": "code",
   "execution_count": 23,
   "id": "e43cbf58",
   "metadata": {},
   "outputs": [
    {
     "data": {
      "text/html": [
       "<div>\n",
       "<style scoped>\n",
       "    .dataframe tbody tr th:only-of-type {\n",
       "        vertical-align: middle;\n",
       "    }\n",
       "\n",
       "    .dataframe tbody tr th {\n",
       "        vertical-align: top;\n",
       "    }\n",
       "\n",
       "    .dataframe thead th {\n",
       "        text-align: right;\n",
       "    }\n",
       "</style>\n",
       "<table border=\"1\" class=\"dataframe\">\n",
       "  <thead>\n",
       "    <tr style=\"text-align: right;\">\n",
       "      <th></th>\n",
       "      <th>subreddit</th>\n",
       "      <th>username</th>\n",
       "      <th>date</th>\n",
       "      <th>title</th>\n",
       "      <th>text</th>\n",
       "    </tr>\n",
       "  </thead>\n",
       "  <tbody>\n",
       "    <tr>\n",
       "      <th>0</th>\n",
       "      <td>netsec</td>\n",
       "      <td>t3_18i5ups</td>\n",
       "      <td>2023-12-14 11:36:39</td>\n",
       "      <td>Nim implementation of Old Dll Unlinking Technique</td>\n",
       "      <td></td>\n",
       "    </tr>\n",
       "    <tr>\n",
       "      <th>1</th>\n",
       "      <td>cybersecurity</td>\n",
       "      <td>t3_18i5v5x</td>\n",
       "      <td>2023-12-14 11:37:34</td>\n",
       "      <td>How to prevent employees from using unauthorized web tools?</td>\n",
       "      <td>I work as an IT manager for a business. Some time ago, a group of my colleagues decided to use a web productivity tool, created accounts using their work emails, and started introducing data.\\n\\nI had no knowledge they had been using such a tool at all. I did not even know it existed.\\n\\nToday, I received an email from my boss asking why an ex-employee still had access to the data in such a web platform, as their account hadn't been deactivated. Needless to say, I don't have access to revoke their account or anything.\\n\\nHow can I prevent them from registering on another unauthorized webpage?\\n\\nI feel like a firewall blacklist would be useless since I would have to be constantly researching and updating it with new tools, and I can't make a whitelist since my company uses a ton of different pages for intense web research.\\n\\nAny help or advice would be appreciated.\\n\\n&amp;#x200B;</td>\n",
       "    </tr>\n",
       "    <tr>\n",
       "      <th>2</th>\n",
       "      <td>MacOS</td>\n",
       "      <td>t3_18i5kyd</td>\n",
       "      <td>2023-12-14 11:17:47</td>\n",
       "      <td>Teams call pop up window blocked by reminders/calendar entries on top right corner</td>\n",
       "      <td>Hi\\n\\nDo you know this issue that when I have reminders or calendar alarms set to stick to the top right corner, that they then block the notification window for incoming Teams calls.\\n\\nDoes someone know if there is a setting for having the teams call pop up in on another location on the screen or knows another work around?</td>\n",
       "    </tr>\n",
       "    <tr>\n",
       "      <th>3</th>\n",
       "      <td>MacOS</td>\n",
       "      <td>t3_18i5koq</td>\n",
       "      <td>2023-12-14 11:17:16</td>\n",
       "      <td>Disable middle mouse button drag to other desktop</td>\n",
       "      <td>So I have been using windows for a while and now I am stumped. The middle mouse button of my logi mouse has the following functionailty: On drage change desktop, on click show all windows. That's nice and all, but I can't use fusion 360 because the dragging functionality is the middle mouse button but that just changes the desktop. How can I disable that?\\n\\n&amp;#x200B;\\n\\nSo I found this, but there is no button selected. If I select the secondary mouse button for example, it will open mission control on both right click and middle mouse button:\\n\\nhttps://preview.redd.it/bmqnrpw0m86c1.png?width=476&amp;format=png&amp;auto=webp&amp;s=97ae662fcca43bf146537393fc6a13705a0a9351\\n\\n&amp;#x200B;</td>\n",
       "    </tr>\n",
       "    <tr>\n",
       "      <th>4</th>\n",
       "      <td>windows</td>\n",
       "      <td>t3_18i5gqv</td>\n",
       "      <td>2023-12-14 11:09:52</td>\n",
       "      <td>Playing 4k videos on 2k display</td>\n",
       "      <td>Hello guys does playing 4k content on a 2k display has any benefit? For example while playing YouTube videos I set 1440p resolution on my 2k laptop and 2k smartphone despite having a option of selecting 2160p option. So i wanted to ask if i get better video quality if i select 2160p option while playing on a 2k display?</td>\n",
       "    </tr>\n",
       "  </tbody>\n",
       "</table>\n",
       "</div>"
      ],
      "text/plain": [
       "       subreddit    username                 date  \\\n",
       "0         netsec  t3_18i5ups  2023-12-14 11:36:39   \n",
       "1  cybersecurity  t3_18i5v5x  2023-12-14 11:37:34   \n",
       "2          MacOS  t3_18i5kyd  2023-12-14 11:17:47   \n",
       "3          MacOS  t3_18i5koq  2023-12-14 11:17:16   \n",
       "4        windows  t3_18i5gqv  2023-12-14 11:09:52   \n",
       "\n",
       "                                                                                title  \\\n",
       "0                                   Nim implementation of Old Dll Unlinking Technique   \n",
       "1                         How to prevent employees from using unauthorized web tools?   \n",
       "2  Teams call pop up window blocked by reminders/calendar entries on top right corner   \n",
       "3                                   Disable middle mouse button drag to other desktop   \n",
       "4                                                     Playing 4k videos on 2k display   \n",
       "\n",
       "                                                                                                                                                                                                                                                                                                                                                                                                                                                                                                                                                                                                                                                                                                                                                                                                                                                                                                                         text  \n",
       "0                                                                                                                                                                                                                                                                                                                                                                                                                                                                                                                                                                                                                                                                                                                                                                                                                                                                                                                              \n",
       "1  I work as an IT manager for a business. Some time ago, a group of my colleagues decided to use a web productivity tool, created accounts using their work emails, and started introducing data.\\n\\nI had no knowledge they had been using such a tool at all. I did not even know it existed.\\n\\nToday, I received an email from my boss asking why an ex-employee still had access to the data in such a web platform, as their account hadn't been deactivated. Needless to say, I don't have access to revoke their account or anything.\\n\\nHow can I prevent them from registering on another unauthorized webpage?\\n\\nI feel like a firewall blacklist would be useless since I would have to be constantly researching and updating it with new tools, and I can't make a whitelist since my company uses a ton of different pages for intense web research.\\n\\nAny help or advice would be appreciated.\\n\\n&#x200B;  \n",
       "2                                                                                                                                                                                                                                                                                                                                                                                                                                                                                                                                                                                      Hi\\n\\nDo you know this issue that when I have reminders or calendar alarms set to stick to the top right corner, that they then block the notification window for incoming Teams calls.\\n\\nDoes someone know if there is a setting for having the teams call pop up in on another location on the screen or knows another work around?  \n",
       "3                                                                                                                                                                                                                     So I have been using windows for a while and now I am stumped. The middle mouse button of my logi mouse has the following functionailty: On drage change desktop, on click show all windows. That's nice and all, but I can't use fusion 360 because the dragging functionality is the middle mouse button but that just changes the desktop. How can I disable that?\\n\\n&#x200B;\\n\\nSo I found this, but there is no button selected. If I select the secondary mouse button for example, it will open mission control on both right click and middle mouse button:\\n\\nhttps://preview.redd.it/bmqnrpw0m86c1.png?width=476&format=png&auto=webp&s=97ae662fcca43bf146537393fc6a13705a0a9351\\n\\n&#x200B;  \n",
       "4                                                                                                                                                                                                                                                                                                                                                                                                                                                                                                                                                                                           Hello guys does playing 4k content on a 2k display has any benefit? For example while playing YouTube videos I set 1440p resolution on my 2k laptop and 2k smartphone despite having a option of selecting 2160p option. So i wanted to ask if i get better video quality if i select 2160p option while playing on a 2k display?  "
      ]
     },
     "execution_count": 23,
     "metadata": {},
     "output_type": "execute_result"
    }
   ],
   "source": [
    "df_reddit['text'] = df_reddit['text'].fillna('')\n",
    "df_reddit['title'] = df_reddit['title'].fillna('')\n",
    "df_reddit.head()"
   ]
  },
  {
   "cell_type": "markdown",
   "id": "a09616b8",
   "metadata": {},
   "source": [
    "#### Column Filtering\n",
    "- Drop 'json' column -> useless"
   ]
  },
  {
   "cell_type": "code",
   "execution_count": 24,
   "id": "51257216",
   "metadata": {},
   "outputs": [
    {
     "data": {
      "text/html": [
       "<div>\n",
       "<style scoped>\n",
       "    .dataframe tbody tr th:only-of-type {\n",
       "        vertical-align: middle;\n",
       "    }\n",
       "\n",
       "    .dataframe tbody tr th {\n",
       "        vertical-align: top;\n",
       "    }\n",
       "\n",
       "    .dataframe thead th {\n",
       "        text-align: right;\n",
       "    }\n",
       "</style>\n",
       "<table border=\"1\" class=\"dataframe\">\n",
       "  <thead>\n",
       "    <tr style=\"text-align: right;\">\n",
       "      <th></th>\n",
       "      <th>subreddit</th>\n",
       "      <th>username</th>\n",
       "      <th>date</th>\n",
       "      <th>title</th>\n",
       "      <th>text</th>\n",
       "    </tr>\n",
       "  </thead>\n",
       "  <tbody>\n",
       "    <tr>\n",
       "      <th>50</th>\n",
       "      <td>hacking</td>\n",
       "      <td>t3_18i4tio</td>\n",
       "      <td>2023-12-14 10:22:21</td>\n",
       "      <td>Trains were designed to break down after third-party repairs, hackers find</td>\n",
       "      <td>https://arstechnica.com/tech-policy/2023/12/manufacturer-deliberately-bricked-trains-repaired-by-competitors-hackers-find/</td>\n",
       "    </tr>\n",
       "  </tbody>\n",
       "</table>\n",
       "</div>"
      ],
      "text/plain": [
       "   subreddit    username                 date  \\\n",
       "50   hacking  t3_18i4tio  2023-12-14 10:22:21   \n",
       "\n",
       "                                                                         title  \\\n",
       "50  Trains were designed to break down after third-party repairs, hackers find   \n",
       "\n",
       "                                                                                                                          text  \n",
       "50  https://arstechnica.com/tech-policy/2023/12/manufacturer-deliberately-bricked-trains-repaired-by-competitors-hackers-find/  "
      ]
     },
     "execution_count": 24,
     "metadata": {},
     "output_type": "execute_result"
    }
   ],
   "source": [
    "pd.DataFrame(df_reddit.loc[50]).T"
   ]
  },
  {
   "cell_type": "markdown",
   "id": "918df88e",
   "metadata": {},
   "source": [
    "#### Normalization\n",
    "- Convert each text and title of each post to the same language : english"
   ]
  },
  {
   "cell_type": "code",
   "execution_count": 25,
   "id": "c3d8f35e",
   "metadata": {},
   "outputs": [
    {
     "data": {
      "text/plain": [
       "\"\\n\\nfor i in range(len(df_reddit)):\\n    \\n    print(i)\\n    \\n    title = df_reddit.at[i, 'title']\\n    text = df_reddit.at[i, 'text']\\n    \\n    if(pd.isna(text) == False):\\n        new_text = translate_to_english(text)\\n        df_reddit.loc[i, 'text'] = new_text\\n\\n\\n    if(pd.isna(title) == False):\\n        new_title = translate_to_english(title)\\n        df_reddit.loc[i, 'title'] = new_title\\n        \\ndf_reddit        \\n\\n\""
      ]
     },
     "execution_count": 25,
     "metadata": {},
     "output_type": "execute_result"
    }
   ],
   "source": [
    "'''\n",
    "\n",
    "for i in range(len(df_reddit)):\n",
    "    \n",
    "    print(i)\n",
    "    \n",
    "    title = df_reddit.at[i, 'title']\n",
    "    text = df_reddit.at[i, 'text']\n",
    "    \n",
    "    if(pd.isna(text) == False):\n",
    "        new_text = translate_to_english(text)\n",
    "        df_reddit.loc[i, 'text'] = new_text\n",
    "\n",
    "\n",
    "    if(pd.isna(title) == False):\n",
    "        new_title = translate_to_english(title)\n",
    "        df_reddit.loc[i, 'title'] = new_title\n",
    "        \n",
    "df_reddit        \n",
    "\n",
    "'''"
   ]
  },
  {
   "cell_type": "markdown",
   "id": "383140c4",
   "metadata": {},
   "source": [
    "#### Data Type Conversion"
   ]
  },
  {
   "cell_type": "code",
   "execution_count": 26,
   "id": "765b9ce0",
   "metadata": {},
   "outputs": [
    {
     "data": {
      "text/html": [
       "<div>\n",
       "<style scoped>\n",
       "    .dataframe tbody tr th:only-of-type {\n",
       "        vertical-align: middle;\n",
       "    }\n",
       "\n",
       "    .dataframe tbody tr th {\n",
       "        vertical-align: top;\n",
       "    }\n",
       "\n",
       "    .dataframe thead th {\n",
       "        text-align: right;\n",
       "    }\n",
       "</style>\n",
       "<table border=\"1\" class=\"dataframe\">\n",
       "  <thead>\n",
       "    <tr style=\"text-align: right;\">\n",
       "      <th></th>\n",
       "      <th>subreddit</th>\n",
       "      <th>username</th>\n",
       "      <th>date</th>\n",
       "      <th>title</th>\n",
       "      <th>text</th>\n",
       "    </tr>\n",
       "  </thead>\n",
       "  <tbody>\n",
       "    <tr>\n",
       "      <th>0</th>\n",
       "      <td>netsec</td>\n",
       "      <td>t3_18i5ups</td>\n",
       "      <td>2023-12-14</td>\n",
       "      <td>Nim implementation of Old Dll Unlinking Technique</td>\n",
       "      <td></td>\n",
       "    </tr>\n",
       "    <tr>\n",
       "      <th>1</th>\n",
       "      <td>cybersecurity</td>\n",
       "      <td>t3_18i5v5x</td>\n",
       "      <td>2023-12-14</td>\n",
       "      <td>How to prevent employees from using unauthorized web tools?</td>\n",
       "      <td>I work as an IT manager for a business. Some time ago, a group of my colleagues decided to use a web productivity tool, created accounts using their work emails, and started introducing data.\\n\\nI had no knowledge they had been using such a tool at all. I did not even know it existed.\\n\\nToday, I received an email from my boss asking why an ex-employee still had access to the data in such a web platform, as their account hadn't been deactivated. Needless to say, I don't have access to revoke their account or anything.\\n\\nHow can I prevent them from registering on another unauthorized webpage?\\n\\nI feel like a firewall blacklist would be useless since I would have to be constantly researching and updating it with new tools, and I can't make a whitelist since my company uses a ton of different pages for intense web research.\\n\\nAny help or advice would be appreciated.\\n\\n&amp;#x200B;</td>\n",
       "    </tr>\n",
       "    <tr>\n",
       "      <th>2</th>\n",
       "      <td>MacOS</td>\n",
       "      <td>t3_18i5kyd</td>\n",
       "      <td>2023-12-14</td>\n",
       "      <td>Teams call pop up window blocked by reminders/calendar entries on top right corner</td>\n",
       "      <td>Hi\\n\\nDo you know this issue that when I have reminders or calendar alarms set to stick to the top right corner, that they then block the notification window for incoming Teams calls.\\n\\nDoes someone know if there is a setting for having the teams call pop up in on another location on the screen or knows another work around?</td>\n",
       "    </tr>\n",
       "    <tr>\n",
       "      <th>3</th>\n",
       "      <td>MacOS</td>\n",
       "      <td>t3_18i5koq</td>\n",
       "      <td>2023-12-14</td>\n",
       "      <td>Disable middle mouse button drag to other desktop</td>\n",
       "      <td>So I have been using windows for a while and now I am stumped. The middle mouse button of my logi mouse has the following functionailty: On drage change desktop, on click show all windows. That's nice and all, but I can't use fusion 360 because the dragging functionality is the middle mouse button but that just changes the desktop. How can I disable that?\\n\\n&amp;#x200B;\\n\\nSo I found this, but there is no button selected. If I select the secondary mouse button for example, it will open mission control on both right click and middle mouse button:\\n\\nhttps://preview.redd.it/bmqnrpw0m86c1.png?width=476&amp;format=png&amp;auto=webp&amp;s=97ae662fcca43bf146537393fc6a13705a0a9351\\n\\n&amp;#x200B;</td>\n",
       "    </tr>\n",
       "    <tr>\n",
       "      <th>4</th>\n",
       "      <td>windows</td>\n",
       "      <td>t3_18i5gqv</td>\n",
       "      <td>2023-12-14</td>\n",
       "      <td>Playing 4k videos on 2k display</td>\n",
       "      <td>Hello guys does playing 4k content on a 2k display has any benefit? For example while playing YouTube videos I set 1440p resolution on my 2k laptop and 2k smartphone despite having a option of selecting 2160p option. So i wanted to ask if i get better video quality if i select 2160p option while playing on a 2k display?</td>\n",
       "    </tr>\n",
       "  </tbody>\n",
       "</table>\n",
       "</div>"
      ],
      "text/plain": [
       "       subreddit    username        date  \\\n",
       "0         netsec  t3_18i5ups  2023-12-14   \n",
       "1  cybersecurity  t3_18i5v5x  2023-12-14   \n",
       "2          MacOS  t3_18i5kyd  2023-12-14   \n",
       "3          MacOS  t3_18i5koq  2023-12-14   \n",
       "4        windows  t3_18i5gqv  2023-12-14   \n",
       "\n",
       "                                                                                title  \\\n",
       "0                                   Nim implementation of Old Dll Unlinking Technique   \n",
       "1                         How to prevent employees from using unauthorized web tools?   \n",
       "2  Teams call pop up window blocked by reminders/calendar entries on top right corner   \n",
       "3                                   Disable middle mouse button drag to other desktop   \n",
       "4                                                     Playing 4k videos on 2k display   \n",
       "\n",
       "                                                                                                                                                                                                                                                                                                                                                                                                                                                                                                                                                                                                                                                                                                                                                                                                                                                                                                                         text  \n",
       "0                                                                                                                                                                                                                                                                                                                                                                                                                                                                                                                                                                                                                                                                                                                                                                                                                                                                                                                              \n",
       "1  I work as an IT manager for a business. Some time ago, a group of my colleagues decided to use a web productivity tool, created accounts using their work emails, and started introducing data.\\n\\nI had no knowledge they had been using such a tool at all. I did not even know it existed.\\n\\nToday, I received an email from my boss asking why an ex-employee still had access to the data in such a web platform, as their account hadn't been deactivated. Needless to say, I don't have access to revoke their account or anything.\\n\\nHow can I prevent them from registering on another unauthorized webpage?\\n\\nI feel like a firewall blacklist would be useless since I would have to be constantly researching and updating it with new tools, and I can't make a whitelist since my company uses a ton of different pages for intense web research.\\n\\nAny help or advice would be appreciated.\\n\\n&#x200B;  \n",
       "2                                                                                                                                                                                                                                                                                                                                                                                                                                                                                                                                                                                      Hi\\n\\nDo you know this issue that when I have reminders or calendar alarms set to stick to the top right corner, that they then block the notification window for incoming Teams calls.\\n\\nDoes someone know if there is a setting for having the teams call pop up in on another location on the screen or knows another work around?  \n",
       "3                                                                                                                                                                                                                     So I have been using windows for a while and now I am stumped. The middle mouse button of my logi mouse has the following functionailty: On drage change desktop, on click show all windows. That's nice and all, but I can't use fusion 360 because the dragging functionality is the middle mouse button but that just changes the desktop. How can I disable that?\\n\\n&#x200B;\\n\\nSo I found this, but there is no button selected. If I select the secondary mouse button for example, it will open mission control on both right click and middle mouse button:\\n\\nhttps://preview.redd.it/bmqnrpw0m86c1.png?width=476&format=png&auto=webp&s=97ae662fcca43bf146537393fc6a13705a0a9351\\n\\n&#x200B;  \n",
       "4                                                                                                                                                                                                                                                                                                                                                                                                                                                                                                                                                                                           Hello guys does playing 4k content on a 2k display has any benefit? For example while playing YouTube videos I set 1440p resolution on my 2k laptop and 2k smartphone despite having a option of selecting 2160p option. So i wanted to ask if i get better video quality if i select 2160p option while playing on a 2k display?  "
      ]
     },
     "execution_count": 26,
     "metadata": {},
     "output_type": "execute_result"
    }
   ],
   "source": [
    "df_reddit['date'] = pd.to_datetime(df_reddit['date']).dt.strftime('%Y-%m-%d')\n",
    "df_reddit.head()"
   ]
  },
  {
   "cell_type": "markdown",
   "id": "04a7a902",
   "metadata": {},
   "source": [
    "#### Find a Match"
   ]
  },
  {
   "cell_type": "markdown",
   "id": "3c8432e1",
   "metadata": {},
   "source": [
    "##### Specify a Data of Analysis from a *starting_date* to an *ending_date*"
   ]
  },
  {
   "cell_type": "code",
   "execution_count": 27,
   "id": "431a4754",
   "metadata": {},
   "outputs": [],
   "source": [
    "start_date = datetime(2023, 12, 1)\n",
    "end_date   = datetime(2023, 12, 31)"
   ]
  },
  {
   "cell_type": "code",
   "execution_count": 28,
   "id": "c9fd9e94",
   "metadata": {},
   "outputs": [
    {
     "data": {
      "text/html": [
       "<div>\n",
       "<style scoped>\n",
       "    .dataframe tbody tr th:only-of-type {\n",
       "        vertical-align: middle;\n",
       "    }\n",
       "\n",
       "    .dataframe tbody tr th {\n",
       "        vertical-align: top;\n",
       "    }\n",
       "\n",
       "    .dataframe thead th {\n",
       "        text-align: right;\n",
       "    }\n",
       "</style>\n",
       "<table border=\"1\" class=\"dataframe\">\n",
       "  <thead>\n",
       "    <tr style=\"text-align: right;\">\n",
       "      <th></th>\n",
       "      <th>index</th>\n",
       "      <th>subreddit</th>\n",
       "      <th>username</th>\n",
       "      <th>date</th>\n",
       "      <th>title</th>\n",
       "      <th>text</th>\n",
       "    </tr>\n",
       "  </thead>\n",
       "  <tbody>\n",
       "    <tr>\n",
       "      <th>0</th>\n",
       "      <td>203559</td>\n",
       "      <td>msp</td>\n",
       "      <td>t3_14ndgap</td>\n",
       "      <td>2023-06-30</td>\n",
       "      <td>Obfuscate passwords for techs via password managers?</td>\n",
       "      <td>Lots of posts on password managers (currently use Bitwarden), but I am failing to find the solution for password management obfuscation for techs.\\n\\nThe Problem: All techs need access to 'crown jewel' passwords for our techs. GDAP for Microsoft is too feature limiting for our client base on the agility we need and we put security in place to CYA on this but, also is just MS using this partner portal. We have many vendors we want to employ this for. We are looking to avoid if a privileged or tenured tech leaves, we have to change the 'it' privileged account for each client so they don't have these when outside of the company.\\n\\nMy theory is that is would be great to supply the techs access to all passwords, but they can autofill with the password obfuscated. The tech wouldn't need to SEE the password, just fill it via the program. This way they can have access to everything and upon departure, have nothing they could take with them.\\n\\nIs this a product that exists that does that?...</td>\n",
       "    </tr>\n",
       "    <tr>\n",
       "      <th>1</th>\n",
       "      <td>203566</td>\n",
       "      <td>Android</td>\n",
       "      <td>t3_14nda0y</td>\n",
       "      <td>2023-06-30</td>\n",
       "      <td>Anyone else notice how terrible the official Reddit app is for Android?</td>\n",
       "      <td>Curious if anyone knows of any alternatives?</td>\n",
       "    </tr>\n",
       "    <tr>\n",
       "      <th>2</th>\n",
       "      <td>203570</td>\n",
       "      <td>gis</td>\n",
       "      <td>t3_14nd99m</td>\n",
       "      <td>2023-06-30</td>\n",
       "      <td>If you could write your own geospatial job description...</td>\n",
       "      <td>My workplace (where GIS is only a small aspect of the overall agency but supports other departments) is rewriting job descriptions and I'm looking to define the line between GIS Analyst and GIS Manager (and probably Tech eventually). I know there are tons of industry/business/agency specific tasks but, in general, how would you differentiate those? I know the obvious is supervision of staff but I think there would be more than that. Part of the current issue is that our existing job descriptions are disfunctionally broad and I'm trying to see how others narrow responsibilities and tasks down.</td>\n",
       "    </tr>\n",
       "    <tr>\n",
       "      <th>3</th>\n",
       "      <td>203573</td>\n",
       "      <td>webdev</td>\n",
       "      <td>t3_14nd9x4</td>\n",
       "      <td>2023-06-30</td>\n",
       "      <td>Those who have transitioned from being employee to freelancer, do you feel much better?</td>\n",
       "      <td>Hello everyone\\n\\nSo about a year ago, I wanted to make a transition from being a full-time employee to being a freelancer. First I've created many social media accounts, spread my business word-by-mouth and developed my own [website](https://webdevamin.com). I have to say that I am really happy I've took the step. To up til now I've had way better results when it comes to developing websites and web applications compared to being an employee: better performance, speed, accessibility, less bugs, etc. I'm just more productive doing freelancing. And normally, being happy makes a human more productive. Compared to being an employee, I feel like I am doing true craftsmanship: building apps for my clients from zero to the last feature. And later on extending them even more. And I am not only talking about making simple websites with WordPress. Some of my mid-large sized projects are custom made with code like Next.js and Laravel. I like to keep my clients under contact so they always co...</td>\n",
       "    </tr>\n",
       "    <tr>\n",
       "      <th>4</th>\n",
       "      <td>203581</td>\n",
       "      <td>linux4noobs</td>\n",
       "      <td>t3_14nd981</td>\n",
       "      <td>2023-06-30</td>\n",
       "      <td>Kde panel without kde plasma?</td>\n",
       "      <td>Or at least make cario or any alternatives kde like panel?</td>\n",
       "    </tr>\n",
       "    <tr>\n",
       "      <th>...</th>\n",
       "      <td>...</td>\n",
       "      <td>...</td>\n",
       "      <td>...</td>\n",
       "      <td>...</td>\n",
       "      <td>...</td>\n",
       "      <td>...</td>\n",
       "    </tr>\n",
       "    <tr>\n",
       "      <th>22948</th>\n",
       "      <td>226539</td>\n",
       "      <td>linux4noobs</td>\n",
       "      <td>t3_13x091s</td>\n",
       "      <td>2023-06-01</td>\n",
       "      <td>Unable to log in on console session</td>\n",
       "      <td>Hi all, this might be beyond the noob level... if there's a better sub for this, let me know.\\n\\n&amp;#x200B;\\n\\nI have a legacy server running CentOS 7 where no users are able to log in to the console (either physically plugged in keyboard and monitor, or via iKVM), including root. All users ARE able to log in via other methods (SSH, Cockpit, etc.) so I know the usernames/passwords are fine.\\n\\n&amp;#x200B;\\n\\nWhen I try and log in on the console , I get \"Permission denied\" for all accounts. I have also tried purposely entering an incorrect password, and then it comes back with \"Login incorrect\", so more indication that this is not a password issue.\\n\\n&amp;#x200B;\\n\\nI've confirmed that \"console\" as well as \"tty1\" through \"tty11\" are in /etc/securetty along with the other usuals. \\n\\n&amp;#x200B;\\n\\nAny ideas of where to look next? This server occasionally loses its network connection and troubleshooting is impossible without being able to get in on the console.</td>\n",
       "    </tr>\n",
       "    <tr>\n",
       "      <th>22949</th>\n",
       "      <td>226540</td>\n",
       "      <td>pcmasterrace</td>\n",
       "      <td>t3_13x0o38</td>\n",
       "      <td>2023-06-01</td>\n",
       "      <td>The lid is hot and it's calling me. Pls help.</td>\n",
       "      <td></td>\n",
       "    </tr>\n",
       "    <tr>\n",
       "      <th>22950</th>\n",
       "      <td>226541</td>\n",
       "      <td>androidapps</td>\n",
       "      <td>t3_13wzxix</td>\n",
       "      <td>2023-06-01</td>\n",
       "      <td>Best email app?</td>\n",
       "      <td>I've tried everything on Gmail but nothing resolved the issue of notifications. I get some email notifications but I want all of them. What's a good alternative email app I can use?</td>\n",
       "    </tr>\n",
       "    <tr>\n",
       "      <th>22951</th>\n",
       "      <td>226542</td>\n",
       "      <td>Wordpress</td>\n",
       "      <td>t3_13wzw4e</td>\n",
       "      <td>2023-06-01</td>\n",
       "      <td>Need help with a way to accept payment and then give a role</td>\n",
       "      <td>at the moment i have a way to send payment through contact form 7 and it works but the entry still goes through even if the dont pay and i also want a way so once they pay it automatically gives them a role thanks</td>\n",
       "    </tr>\n",
       "    <tr>\n",
       "      <th>22952</th>\n",
       "      <td>226543</td>\n",
       "      <td>realtech</td>\n",
       "      <td>t3_13wzhho</td>\n",
       "      <td>2023-06-01</td>\n",
       "      <td>Meta threatens to yank news content from California over payments bill</td>\n",
       "      <td></td>\n",
       "    </tr>\n",
       "  </tbody>\n",
       "</table>\n",
       "<p>22953 rows × 6 columns</p>\n",
       "</div>"
      ],
      "text/plain": [
       "        index     subreddit    username        date  \\\n",
       "0      203559           msp  t3_14ndgap  2023-06-30   \n",
       "1      203566       Android  t3_14nda0y  2023-06-30   \n",
       "2      203570           gis  t3_14nd99m  2023-06-30   \n",
       "3      203573        webdev  t3_14nd9x4  2023-06-30   \n",
       "4      203581   linux4noobs  t3_14nd981  2023-06-30   \n",
       "...       ...           ...         ...         ...   \n",
       "22948  226539   linux4noobs  t3_13x091s  2023-06-01   \n",
       "22949  226540  pcmasterrace  t3_13x0o38  2023-06-01   \n",
       "22950  226541   androidapps  t3_13wzxix  2023-06-01   \n",
       "22951  226542     Wordpress  t3_13wzw4e  2023-06-01   \n",
       "22952  226543      realtech  t3_13wzhho  2023-06-01   \n",
       "\n",
       "                                                                                         title  \\\n",
       "0                                         Obfuscate passwords for techs via password managers?   \n",
       "1                      Anyone else notice how terrible the official Reddit app is for Android?   \n",
       "2                                    If you could write your own geospatial job description...   \n",
       "3      Those who have transitioned from being employee to freelancer, do you feel much better?   \n",
       "4                                                                Kde panel without kde plasma?   \n",
       "...                                                                                        ...   \n",
       "22948                                                      Unable to log in on console session   \n",
       "22949                                            The lid is hot and it's calling me. Pls help.   \n",
       "22950                                                                          Best email app?   \n",
       "22951                              Need help with a way to accept payment and then give a role   \n",
       "22952                   Meta threatens to yank news content from California over payments bill   \n",
       "\n",
       "                                                                                                                                                                                                                                                                                                                                                                                                                                                                                                                                                                                                                                                                                                                                                                                                                                                                                                                                                                                                                                          text  \n",
       "0      Lots of posts on password managers (currently use Bitwarden), but I am failing to find the solution for password management obfuscation for techs.\\n\\nThe Problem: All techs need access to 'crown jewel' passwords for our techs. GDAP for Microsoft is too feature limiting for our client base on the agility we need and we put security in place to CYA on this but, also is just MS using this partner portal. We have many vendors we want to employ this for. We are looking to avoid if a privileged or tenured tech leaves, we have to change the 'it' privileged account for each client so they don't have these when outside of the company.\\n\\nMy theory is that is would be great to supply the techs access to all passwords, but they can autofill with the password obfuscated. The tech wouldn't need to SEE the password, just fill it via the program. This way they can have access to everything and upon departure, have nothing they could take with them.\\n\\nIs this a product that exists that does that?...  \n",
       "1                                                                                                                                                                                                                                                                                                                                                                                                                                                                                                                                                                                                                                                                                                                                                                                                                                                                                                                                                                                                 Curious if anyone knows of any alternatives?  \n",
       "2                                                                                                                                                                                                                                                                                                                                                                                                                      My workplace (where GIS is only a small aspect of the overall agency but supports other departments) is rewriting job descriptions and I'm looking to define the line between GIS Analyst and GIS Manager (and probably Tech eventually). I know there are tons of industry/business/agency specific tasks but, in general, how would you differentiate those? I know the obvious is supervision of staff but I think there would be more than that. Part of the current issue is that our existing job descriptions are disfunctionally broad and I'm trying to see how others narrow responsibilities and tasks down.  \n",
       "3      Hello everyone\\n\\nSo about a year ago, I wanted to make a transition from being a full-time employee to being a freelancer. First I've created many social media accounts, spread my business word-by-mouth and developed my own [website](https://webdevamin.com). I have to say that I am really happy I've took the step. To up til now I've had way better results when it comes to developing websites and web applications compared to being an employee: better performance, speed, accessibility, less bugs, etc. I'm just more productive doing freelancing. And normally, being happy makes a human more productive. Compared to being an employee, I feel like I am doing true craftsmanship: building apps for my clients from zero to the last feature. And later on extending them even more. And I am not only talking about making simple websites with WordPress. Some of my mid-large sized projects are custom made with code like Next.js and Laravel. I like to keep my clients under contact so they always co...  \n",
       "4                                                                                                                                                                                                                                                                                                                                                                                                                                                                                                                                                                                                                                                                                                                                                                                                                                                                                                                                                                                   Or at least make cario or any alternatives kde like panel?  \n",
       "...                                                                                                                                                                                                                                                                                                                                                                                                                                                                                                                                                                                                                                                                                                                                                                                                                                                                                                                                                                                                                                        ...  \n",
       "22948                                       Hi all, this might be beyond the noob level... if there's a better sub for this, let me know.\\n\\n&#x200B;\\n\\nI have a legacy server running CentOS 7 where no users are able to log in to the console (either physically plugged in keyboard and monitor, or via iKVM), including root. All users ARE able to log in via other methods (SSH, Cockpit, etc.) so I know the usernames/passwords are fine.\\n\\n&#x200B;\\n\\nWhen I try and log in on the console , I get \"Permission denied\" for all accounts. I have also tried purposely entering an incorrect password, and then it comes back with \"Login incorrect\", so more indication that this is not a password issue.\\n\\n&#x200B;\\n\\nI've confirmed that \"console\" as well as \"tty1\" through \"tty11\" are in /etc/securetty along with the other usuals. \\n\\n&#x200B;\\n\\nAny ideas of where to look next? This server occasionally loses its network connection and troubleshooting is impossible without being able to get in on the console.  \n",
       "22949                                                                                                                                                                                                                                                                                                                                                                                                                                                                                                                                                                                                                                                                                                                                                                                                                                                                                                                                                                                                                                           \n",
       "22950                                                                                                                                                                                                                                                                                                                                                                                                                                                                                                                                                                                                                                                                                                                                                                                                                                                    I've tried everything on Gmail but nothing resolved the issue of notifications. I get some email notifications but I want all of them. What's a good alternative email app I can use?  \n",
       "22951                                                                                                                                                                                                                                                                                                                                                                                                                                                                                                                                                                                                                                                                                                                                                                                                                    at the moment i have a way to send payment through contact form 7 and it works but the entry still goes through even if the dont pay and i also want a way so once they pay it automatically gives them a role thanks  \n",
       "22952                                                                                                                                                                                                                                                                                                                                                                                                                                                                                                                                                                                                                                                                                                                                                                                                                                                                                                                                                                                                                                           \n",
       "\n",
       "[22953 rows x 6 columns]"
      ]
     },
     "execution_count": 28,
     "metadata": {},
     "output_type": "execute_result"
    }
   ],
   "source": [
    "selected_rows = df_reddit[(pd.to_datetime(df_reddit['date']) >= start_date) & (pd.to_datetime(df_reddit['date']) <= end_date)].reset_index()\n",
    "selected_rows"
   ]
  },
  {
   "cell_type": "code",
   "execution_count": 29,
   "id": "e6cd262f",
   "metadata": {},
   "outputs": [
    {
     "name": "stdout",
     "output_type": "stream",
     "text": [
      "Requirement already satisfied: tqdm in c:\\users\\leona\\anaconda3\\lib\\site-packages (4.65.0)\n",
      "Requirement already satisfied: colorama in c:\\users\\leona\\anaconda3\\lib\\site-packages (from tqdm) (0.4.6)\n",
      "Note: you may need to restart the kernel to use updated packages.\n"
     ]
    }
   ],
   "source": [
    "pip install tqdm"
   ]
  },
  {
   "cell_type": "code",
   "execution_count": 30,
   "id": "37233b8e",
   "metadata": {},
   "outputs": [
    {
     "name": "stdout",
     "output_type": "stream",
     "text": [
      "                 Testo_A         Testo_B  Match\n",
      "0      La casa è grande.  La casa grande   True\n",
      "1  Il cane corre veloce.  Il cane veloce   True\n"
     ]
    },
    {
     "name": "stderr",
     "output_type": "stream",
     "text": [
      "[nltk_data] Downloading package punkt to\n",
      "[nltk_data]     C:\\Users\\leona\\AppData\\Roaming\\nltk_data...\n",
      "[nltk_data]   Package punkt is already up-to-date!\n",
      "[nltk_data] Downloading package stopwords to\n",
      "[nltk_data]     C:\\Users\\leona\\AppData\\Roaming\\nltk_data...\n",
      "[nltk_data]   Package stopwords is already up-to-date!\n"
     ]
    }
   ],
   "source": [
    "import pandas as pd\n",
    "from nltk.stem import PorterStemmer\n",
    "from nltk.tokenize import word_tokenize\n",
    "from nltk.corpus import stopwords\n",
    "import nltk\n",
    "nltk.download('punkt')\n",
    "nltk.download('stopwords')\n",
    "\n",
    "def stemming_and_matching(df_A, df_B):\n",
    "    # Inizializzazione del PorterStemmer\n",
    "    stemmer = PorterStemmer()\n",
    "\n",
    "    # Funzione per eseguire stemming e lemmatization su una riga di testo\n",
    "    def process_text(text):\n",
    "        # Tokenizzazione\n",
    "        tokens = word_tokenize(text.lower())\n",
    "        # Rimozione delle stop words\n",
    "        stop_words = set(stopwords.words('english'))\n",
    "        filtered_tokens = [token for token in tokens if token.isalnum() and token not in stop_words]\n",
    "        # Stemming\n",
    "        stemmed_tokens = [stemmer.stem(token) for token in filtered_tokens]\n",
    "        return stemmed_tokens\n",
    "\n",
    "    # Applicare la funzione a ciascuna riga dei dataframe A e B\n",
    "    df_A['lemmatized_tokens'] = df_A['testo'].apply(process_text)\n",
    "    df_B['lemmatized_tokens'] = df_B['testo'].apply(process_text)\n",
    "\n",
    "    # Creare una lista per i risultati\n",
    "    risultati_list = []\n",
    "\n",
    "    # Calcolare la corrispondenza per ogni coppia di righe tra B e A\n",
    "    for idx_B, row_B in df_B.iterrows():\n",
    "        for idx_A, row_A in df_A.iterrows():\n",
    "            match = all(token in row_A['lemmatized_tokens'] for token in row_B['lemmatized_tokens'])\n",
    "            if match:\n",
    "                risultati_list.append({'Testo_A': row_A['testo'], 'Testo_B': row_B['testo'], 'Match': match})\n",
    "\n",
    "    # Convertire la lista di risultati in un DataFrame\n",
    "    risultati_df = pd.DataFrame(risultati_list)\n",
    "    return risultati_df\n",
    "\n",
    "# Esempio di utilizzo\n",
    "data_A = {'testo': [\"La casa è grande.\", \"Il cane corre veloce.\", \"Gli uccelli volano alto.\"]}\n",
    "data_B = {'testo': [\"La casa grande\", \"Il cane veloce\", \"uccelli alti\"]}\n",
    "df_A = pd.DataFrame(data_A)\n",
    "df_B = pd.DataFrame(data_B)\n",
    "\n",
    "risultato = stemming_and_matching(df_A, df_B)\n",
    "print(risultato)\n"
   ]
  },
  {
   "cell_type": "code",
   "execution_count": 31,
   "id": "5dfd0d80",
   "metadata": {},
   "outputs": [],
   "source": [
    "def stemming_and_matching(words_list, posts_df):\n",
    "    \n",
    "    combined_texts = posts_df['title'] + '. ' + posts_df['text']\n",
    "\n",
    "    stemmer = PorterStemmer()\n",
    "\n",
    "    def process_text(text):\n",
    "        # Tokenization\n",
    "        tokens = word_tokenize(text.lower())\n",
    "        # Delete stop words\n",
    "        stop_words = set(stopwords.words('english'))\n",
    "        filtered_tokens = [token for token in tokens if token.isalnum() and token not in stop_words]\n",
    "        # Stemming\n",
    "        stemmed_tokens = [stemmer.stem(token) for token in filtered_tokens]\n",
    "        return stemmed_tokens\n",
    "    \n",
    "    df_A = pd.DataFrame()\n",
    "    df_B = pd.DataFrame()\n",
    "    \n",
    "    df_A['text'] = combined_texts\n",
    "    df_B['text'] = words_list\n",
    "\n",
    "    df_A['lemmatized_tokens'] = df_A['text'].apply(process_text)\n",
    "    df_B['lemmatized_tokens'] = df_B['text'].apply(process_text)\n",
    "\n",
    "    risultati_list = []\n",
    "\n",
    "    for idx_B, row_B in tqdm(df_B.iterrows(), desc=\"Processing posts\"):\n",
    "        for idx_A, row_A in tqdm(df_A.iterrows(), desc=\"Processing posts\"):\n",
    "            match = all(token in row_A['lemmatized_tokens'] for token in row_B['lemmatized_tokens'])\n",
    "            if match:\n",
    "                risultati_list.append({'full_text': row_A['text'], 'keyword': row_B['text']})\n",
    "\n",
    "    # Convertire la lista di risultati in un DataFrame\n",
    "    risultati_df = pd.DataFrame(risultati_list)\n",
    "    return risultati_df"
   ]
  },
  {
   "cell_type": "code",
   "execution_count": 65,
   "id": "426364a1",
   "metadata": {},
   "outputs": [],
   "source": [
    "def search_lemma_word(title, text, word, post_index, nlp, doc):\n",
    "    analyzed_word = nlp(word)\n",
    "    word_lemma = analyzed_word[0].lemma_\n",
    "    \n",
    "    for token in doc:\n",
    "        if token.text.lower() == word.lower() or token.lemma_.lower() == word_lemma.lower():\n",
    "            return pd.DataFrame({'post_index': [post_index], 'word': [word]})\n",
    "    \n",
    "    return pd.DataFrame()\n",
    "\n",
    "def search_entire_word( text, word, post_index):\n",
    "       \n",
    "    if word.lower() in text.lower() :\n",
    "\n",
    "        return pd.DataFrame({'full_text': [text], 'keyword': [word]})\n",
    "    \n",
    "    return pd.DataFrame()\n",
    "\n",
    "from tqdm import tqdm\n",
    "\n",
    "def loop_search(words_list, posts_df):\n",
    "    nlp = spacy.load(\"en_core_web_sm\")\n",
    "    combined_texts = posts_df['title'] + '. ' + posts_df['text']\n",
    "    list_nlp = [nlp(text) for text in combined_texts]\n",
    "    result_dfs = []\n",
    "\n",
    "    for word in tqdm(words_list, desc=\"Processing words\"):\n",
    "\n",
    "        print(f'Now: {word} ')\n",
    "\n",
    "        if(len(word.split()) == 1):\n",
    "            word_analyzed = nlp(word)\n",
    "            word_lemma = word_analyzed[0].lemma_\n",
    "            for j in tqdm(range(len(posts_df)), desc=\"Processing posts\"):\n",
    "                result_dfs.append(search_lemma_word(posts_df.at[j, 'title'], combined_texts[j], word_lemma, j, nlp, list_nlp[j]))\n",
    "        \n",
    "        else:\n",
    "            for j in tqdm(range(len(posts_df)), desc=\"Processing posts\"):\n",
    "                result_dfs.append(search_entire_word(combined_texts[j], word, j))\n",
    "\n",
    "    result_df = pd.concat(result_dfs, ignore_index=True)\n",
    "    return result_df\n",
    "\n",
    "def malware_search(words_list, posts_df):\n",
    "    nlp = spacy.load(\"en_core_web_sm\")\n",
    "    combined_texts = posts_df['title'] + '. ' + posts_df['text']\n",
    "    result_dfs = []\n",
    "\n",
    "    for word in tqdm(words_list, desc=\"Processing words\"):\n",
    "\n",
    "        print(f'Now: {word} ')\n",
    "\n",
    "        for j in tqdm(range(len(posts_df)), desc=\"Processing posts\"):\n",
    "            result_dfs.append(search_entire_word(combined_texts[j], word, j))\n",
    "\n",
    "    result_df = pd.concat(result_dfs, ignore_index=True)\n",
    "    return result_df"
   ]
  },
  {
   "cell_type": "markdown",
   "id": "bb71e409",
   "metadata": {},
   "source": [
    "### Behaviours searching"
   ]
  },
  {
   "cell_type": "code",
   "execution_count": 33,
   "id": "3a8ccf67",
   "metadata": {},
   "outputs": [],
   "source": [
    "l = len(all_behaviours_name_list)\n",
    "\n",
    "index = l // 3\n",
    "\n",
    "first_half = all_behaviours_name_list[:index]\n",
    "third_half = all_behaviours_name_list[index:index*2]\n",
    "second_half = all_behaviours_name_list[index*2:]"
   ]
  },
  {
   "cell_type": "code",
   "execution_count": 34,
   "id": "41c578b6",
   "metadata": {},
   "outputs": [
    {
     "name": "stderr",
     "output_type": "stream",
     "text": [
      "Processing posts: 22953it [00:01, 12945.11it/s]\n",
      "Processing posts: 22953it [00:01, 14612.06it/s]\n",
      "Processing posts: 22953it [00:01, 14436.56it/s]\n",
      "Processing posts: 22953it [00:01, 14592.27it/s]\n",
      "Processing posts: 22953it [00:01, 14342.96it/s]\n",
      "Processing posts: 22953it [00:01, 14695.69it/s]\n",
      "Processing posts: 22953it [00:01, 14594.84it/s]\n",
      "Processing posts: 22953it [00:01, 13754.16it/s]\n",
      "Processing posts: 22953it [00:01, 12968.93it/s]\n",
      "Processing posts: 22953it [00:01, 12309.85it/s]\n",
      "Processing posts: 22953it [00:01, 12404.50it/s]\n",
      "Processing posts: 22953it [00:01, 12783.97it/s]\n",
      "Processing posts: 22953it [00:01, 12765.90it/s]\n",
      "Processing posts: 22953it [00:01, 12396.51it/s]\n",
      "Processing posts: 22953it [00:01, 11992.30it/s]\n",
      "Processing posts: 22953it [00:01, 11567.23it/s]\n",
      "Processing posts: 22953it [00:01, 12161.31it/s]\n",
      "Processing posts: 22953it [00:02, 11028.57it/s]\n",
      "Processing posts: 22953it [00:02, 10191.65it/s]\n",
      "Processing posts: 22953it [00:01, 12039.09it/s]\n",
      "Processing posts: 22953it [00:01, 11659.74it/s]\n",
      "Processing posts: 22953it [00:01, 11690.68it/s]\n",
      "Processing posts: 22953it [00:02, 10818.60it/s]\n",
      "Processing posts: 22953it [00:02, 11250.18it/s]\n",
      "Processing posts: 22953it [00:02, 11084.86it/s]\n",
      "Processing posts: 22953it [00:02, 10221.00it/s]\n",
      "Processing posts: 22953it [00:02, 9904.86it/s] \n",
      "Processing posts: 22953it [00:02, 10525.34it/s]\n",
      "Processing posts: 22953it [00:02, 10537.67it/s]\n",
      "Processing posts: 22953it [00:02, 10532.29it/s]\n",
      "Processing posts: 22953it [00:02, 11026.27it/s]\n",
      "Processing posts: 22953it [00:02, 11117.34it/s]\n",
      "Processing posts: 22953it [00:02, 10115.51it/s]\n",
      "Processing posts: 22953it [00:02, 9590.00it/s] \n",
      "Processing posts: 22953it [00:02, 10098.44it/s]\n",
      "Processing posts: 22953it [00:02, 9577.85it/s]\n",
      "Processing posts: 22953it [00:02, 10085.68it/s]\n",
      "Processing posts: 22953it [00:02, 10074.10it/s]\n",
      "Processing posts: 22953it [00:02, 10324.69it/s]\n",
      "Processing posts: 22953it [00:02, 9140.19it/s]\n",
      "Processing posts: 22953it [00:02, 9328.35it/s]\n",
      "Processing posts: 22953it [00:02, 10443.15it/s]\n",
      "Processing posts: 22953it [00:02, 10327.26it/s]\n",
      "Processing posts: 22953it [00:02, 10139.06it/s]\n",
      "Processing posts: 22953it [00:02, 10489.68it/s]\n",
      "Processing posts: 22953it [00:02, 10569.89it/s]\n",
      "Processing posts: 22953it [00:02, 9659.03it/s]\n",
      "Processing posts: 22953it [00:02, 8979.30it/s]\n",
      "Processing posts: 22953it [00:02, 10053.29it/s]\n",
      "Processing posts: 22953it [00:02, 10639.05it/s]\n",
      "Processing posts: 22953it [00:02, 10072.66it/s]\n",
      "Processing posts: 22953it [00:02, 10485.77it/s]\n",
      "Processing posts: 22953it [00:02, 9751.95it/s]\n",
      "Processing posts: 22953it [00:02, 9519.12it/s]\n",
      "Processing posts: 22953it [00:02, 9880.18it/s]\n",
      "Processing posts: 22953it [00:02, 10586.61it/s]\n",
      "Processing posts: 22953it [00:02, 10109.09it/s]\n",
      "Processing posts: 22953it [00:02, 10698.65it/s]\n",
      "Processing posts: 22953it [00:02, 10797.98it/s]\n",
      "Processing posts: 22953it [00:02, 10534.66it/s]\n",
      "Processing posts: 22953it [00:02, 9709.53it/s] \n",
      "Processing posts: 22953it [00:02, 9781.59it/s]\n",
      "Processing posts: 22953it [00:02, 10544.78it/s]\n",
      "Processing posts: 22953it [00:02, 10894.24it/s]\n",
      "Processing posts: 22953it [00:02, 10812.84it/s]\n",
      "Processing posts: 22953it [00:02, 10299.92it/s]\n",
      "Processing posts: 22953it [00:02, 10798.01it/s]\n",
      "Processing posts: 22953it [00:02, 9963.28it/s]\n",
      "Processing posts: 22953it [00:02, 9569.05it/s]\n",
      "Processing posts: 22953it [00:02, 10046.51it/s]\n",
      "Processing posts: 22953it [00:02, 10499.88it/s]\n",
      "Processing posts: 22953it [00:02, 10408.07it/s]\n",
      "Processing posts: 22953it [00:02, 10399.27it/s]\n",
      "Processing posts: 22953it [00:02, 10268.48it/s]\n",
      "Processing posts: 22953it [00:02, 10298.84it/s]\n",
      "Processing posts: 22953it [00:02, 9429.35it/s]\n",
      "Processing posts: 22953it [00:02, 9922.73it/s] \n",
      "Processing posts: 22953it [00:02, 10334.90it/s]\n",
      "Processing posts: 22953it [00:02, 10571.68it/s]\n",
      "Processing posts: 22953it [00:02, 10599.86it/s]\n",
      "Processing posts: 22953it [00:02, 10792.61it/s]\n",
      "Processing posts: 22953it [00:02, 10232.72it/s]\n",
      "Processing posts: 22953it [00:02, 9016.11it/s]\n",
      "Processing posts: 22953it [00:02, 9625.33it/s] \n",
      "Processing posts: 22953it [00:02, 10601.97it/s]\n",
      "Processing posts: 22953it [00:02, 10986.69it/s]\n",
      "Processing posts: 22953it [00:02, 10229.36it/s]\n",
      "Processing posts: 22953it [00:02, 8515.52it/s]\n",
      "Processing posts: 22953it [00:02, 9988.90it/s]\n",
      "Processing posts: 22953it [00:02, 9373.92it/s]\n",
      "Processing posts: 22953it [00:02, 10243.32it/s]\n",
      "Processing posts: 22953it [00:02, 10516.23it/s]\n",
      "Processing posts: 22953it [00:02, 10520.30it/s]\n",
      "Processing posts: 22953it [00:02, 10471.17it/s]\n",
      "Processing posts: 22953it [00:02, 10491.59it/s]\n",
      "Processing posts: 22953it [00:02, 10488.95it/s]\n",
      "Processing posts: 22953it [00:02, 9424.60it/s]\n",
      "Processing posts: 22953it [00:02, 10344.27it/s]\n",
      "Processing posts: 22953it [00:02, 10667.33it/s]\n",
      "Processing posts: 22953it [00:02, 10555.94it/s]\n",
      "Processing posts: 22953it [00:02, 10273.81it/s]\n",
      "Processing posts: 22953it [00:02, 10576.99it/s]\n",
      "Processing posts: 22953it [00:02, 10199.54it/s]\n",
      "Processing posts: 22953it [00:02, 9311.20it/s]\n",
      "Processing posts: 22953it [00:02, 10121.92it/s]\n",
      "Processing posts: 22953it [00:02, 10707.11it/s]\n",
      "Processing posts: 22953it [00:02, 10563.60it/s]\n",
      "Processing posts: 107it [03:52,  2.17s/it]\n"
     ]
    }
   ],
   "source": [
    "matches_behaviours_1 = stemming_and_matching( first_half , selected_rows)\n"
   ]
  },
  {
   "cell_type": "code",
   "execution_count": 35,
   "id": "3bf3f051",
   "metadata": {},
   "outputs": [],
   "source": [
    "matches_behaviours_1.to_csv(r'C:\\Users\\leona\\OneDrive\\Desktop\\Tesi\\Pipeline\\Datasets\\Pipeline\\SocialNetworksPosts\\Reddit\\Months\\12\\one_behaviours.csv')"
   ]
  },
  {
   "cell_type": "code",
   "execution_count": 36,
   "id": "0cb63bc5",
   "metadata": {},
   "outputs": [
    {
     "name": "stderr",
     "output_type": "stream",
     "text": [
      "Processing posts: 22953it [00:02, 10343.52it/s]\n",
      "Processing posts: 22953it [00:02, 9699.44it/s]\n",
      "Processing posts: 22953it [00:02, 9361.43it/s]\n",
      "Processing posts: 22953it [00:02, 10596.13it/s]\n",
      "Processing posts: 22953it [00:02, 10463.60it/s]\n",
      "Processing posts: 22953it [00:02, 10389.68it/s]\n",
      "Processing posts: 22953it [00:02, 10760.61it/s]\n",
      "Processing posts: 22953it [00:02, 10322.56it/s]\n",
      "Processing posts: 22953it [00:02, 9620.65it/s]\n",
      "Processing posts: 22953it [00:02, 10012.93it/s]\n",
      "Processing posts: 22953it [00:02, 11438.69it/s]\n",
      "Processing posts: 22953it [00:02, 11225.38it/s]\n",
      "Processing posts: 22953it [00:01, 11671.04it/s]\n",
      "Processing posts: 22953it [00:02, 11210.26it/s]\n",
      "Processing posts: 22953it [00:01, 12060.62it/s]\n",
      "Processing posts: 22953it [00:01, 12251.92it/s]\n",
      "Processing posts: 22953it [00:02, 10769.93it/s]\n",
      "Processing posts: 22953it [00:02, 11085.55it/s]\n",
      "Processing posts: 22953it [00:01, 12303.06it/s]\n",
      "Processing posts: 22953it [00:01, 12171.56it/s]\n",
      "Processing posts: 22953it [00:01, 12247.06it/s]\n",
      "Processing posts: 22953it [00:01, 11546.89it/s]\n",
      "Processing posts: 22953it [00:01, 11742.88it/s]\n",
      "Processing posts: 22953it [00:01, 12910.39it/s]\n",
      "Processing posts: 22953it [00:01, 12235.29it/s]\n",
      "Processing posts: 22953it [00:01, 12486.87it/s]\n",
      "Processing posts: 22953it [00:01, 13472.35it/s]\n",
      "Processing posts: 22953it [00:01, 14007.35it/s]\n",
      "Processing posts: 22953it [00:01, 13039.01it/s]\n",
      "Processing posts: 22953it [00:01, 13721.87it/s]\n",
      "Processing posts: 22953it [00:01, 13390.45it/s]\n",
      "Processing posts: 22953it [00:01, 13943.75it/s]\n",
      "Processing posts: 22953it [00:01, 13125.99it/s]\n",
      "Processing posts: 22953it [00:01, 12217.04it/s]\n",
      "Processing posts: 22953it [00:01, 12297.36it/s]\n",
      "Processing posts: 22953it [00:01, 13446.87it/s]\n",
      "Processing posts: 22953it [00:01, 14082.99it/s]\n",
      "Processing posts: 22953it [00:01, 15100.47it/s]\n",
      "Processing posts: 22953it [00:01, 14215.42it/s]\n",
      "Processing posts: 22953it [00:01, 14973.27it/s]\n",
      "Processing posts: 22953it [00:01, 14495.12it/s]\n",
      "Processing posts: 22953it [00:01, 15011.18it/s]\n",
      "Processing posts: 22953it [00:01, 15117.50it/s]\n",
      "Processing posts: 22953it [00:01, 12876.53it/s]\n",
      "Processing posts: 22953it [00:01, 12022.04it/s]\n",
      "Processing posts: 22953it [00:01, 14601.72it/s]\n",
      "Processing posts: 22953it [00:01, 14643.01it/s]\n",
      "Processing posts: 22953it [00:01, 14054.14it/s]\n",
      "Processing posts: 22953it [00:01, 14103.07it/s]\n",
      "Processing posts: 22953it [00:01, 14111.14it/s]\n",
      "Processing posts: 22953it [00:01, 14516.66it/s]\n",
      "Processing posts: 22953it [00:01, 14615.80it/s]\n",
      "Processing posts: 22953it [00:01, 13976.69it/s]\n",
      "Processing posts: 22953it [00:01, 12473.30it/s]\n",
      "Processing posts: 22953it [00:01, 13662.27it/s]\n",
      "Processing posts: 22953it [00:01, 14574.71it/s]\n",
      "Processing posts: 22953it [00:01, 14134.08it/s]\n",
      "Processing posts: 22953it [00:01, 14632.33it/s]\n",
      "Processing posts: 22953it [00:01, 14304.04it/s]\n",
      "Processing posts: 22953it [00:01, 13599.86it/s]\n",
      "Processing posts: 22953it [00:01, 13207.77it/s]\n",
      "Processing posts: 22953it [00:01, 12381.34it/s]\n",
      "Processing posts: 22953it [00:01, 11799.74it/s]\n",
      "Processing posts: 22953it [00:02, 11085.24it/s]\n",
      "Processing posts: 22953it [00:01, 11827.27it/s]\n",
      "Processing posts: 22953it [00:01, 11937.78it/s]\n",
      "Processing posts: 22953it [00:01, 12244.88it/s]\n",
      "Processing posts: 22953it [00:01, 11932.71it/s]\n",
      "Processing posts: 22953it [00:01, 12169.54it/s]\n",
      "Processing posts: 22953it [00:01, 12305.58it/s]\n",
      "Processing posts: 22953it [00:01, 11612.93it/s]\n",
      "Processing posts: 22953it [00:02, 10757.12it/s]\n",
      "Processing posts: 22953it [00:01, 12149.74it/s]\n",
      "Processing posts: 22953it [00:01, 11794.08it/s]\n",
      "Processing posts: 22953it [00:01, 12264.87it/s]\n",
      "Processing posts: 22953it [00:01, 12314.05it/s]\n",
      "Processing posts: 22953it [00:02, 10658.27it/s]\n",
      "Processing posts: 22953it [00:02, 11076.21it/s]\n",
      "Processing posts: 22953it [00:02, 9790.41it/s]\n",
      "Processing posts: 22953it [00:02, 9729.89it/s]\n",
      "Processing posts: 22953it [00:02, 10835.55it/s]\n",
      "Processing posts: 22953it [00:02, 10543.25it/s]\n",
      "Processing posts: 22953it [00:02, 11230.85it/s]\n",
      "Processing posts: 22953it [00:02, 10541.50it/s]\n",
      "Processing posts: 22953it [00:02, 10484.56it/s]\n",
      "Processing posts: 22953it [00:02, 10626.16it/s]\n",
      "Processing posts: 22953it [00:02, 9971.96it/s] \n",
      "Processing posts: 22953it [00:02, 9864.01it/s]\n",
      "Processing posts: 22953it [00:02, 8373.56it/s]\n",
      "Processing posts: 22953it [00:02, 9931.20it/s] \n",
      "Processing posts: 22953it [00:02, 9733.36it/s]\n",
      "Processing posts: 22953it [00:02, 9845.37it/s]\n",
      "Processing posts: 22953it [00:02, 9998.94it/s]\n",
      "Processing posts: 22953it [00:02, 9347.57it/s]\n",
      "Processing posts: 22953it [00:02, 10390.33it/s]\n",
      "Processing posts: 22953it [00:02, 10068.87it/s]\n",
      "Processing posts: 22953it [00:02, 10079.57it/s]\n",
      "Processing posts: 22953it [00:02, 10207.20it/s]\n",
      "Processing posts: 22953it [00:02, 10301.61it/s]\n",
      "Processing posts: 22953it [00:02, 9701.19it/s]\n",
      "Processing posts: 22953it [00:02, 9571.53it/s]\n",
      "Processing posts: 22953it [00:02, 10323.52it/s]\n",
      "Processing posts: 22953it [00:02, 10655.83it/s]\n",
      "Processing posts: 22953it [00:02, 10393.63it/s]\n",
      "Processing posts: 22953it [00:02, 10540.29it/s]\n",
      "Processing posts: 22953it [00:02, 10058.49it/s]\n",
      "Processing posts: 22953it [00:02, 9825.19it/s]\n",
      "Processing posts: 22953it [00:02, 9445.57it/s]\n",
      "Processing posts: 22953it [00:02, 10097.38it/s]\n",
      "Processing posts: 109it [03:36,  1.99s/it]\n"
     ]
    }
   ],
   "source": [
    "matches_behaviours_2 = stemming_and_matching( second_half , selected_rows)\n"
   ]
  },
  {
   "cell_type": "code",
   "execution_count": 37,
   "id": "85b13e45",
   "metadata": {},
   "outputs": [],
   "source": [
    "matches_behaviours_2.to_csv(r'C:\\Users\\leona\\OneDrive\\Desktop\\Tesi\\Pipeline\\Datasets\\Pipeline\\SocialNetworksPosts\\Reddit\\Months\\12\\two_behaviours.csv')"
   ]
  },
  {
   "cell_type": "code",
   "execution_count": 38,
   "id": "ef599e5e",
   "metadata": {},
   "outputs": [
    {
     "name": "stderr",
     "output_type": "stream",
     "text": [
      "Processing posts: 22953it [00:02, 10460.53it/s]\n",
      "Processing posts: 22953it [00:02, 10826.64it/s]\n",
      "Processing posts: 22953it [00:02, 10599.12it/s]\n",
      "Processing posts: 22953it [00:02, 9499.04it/s]\n",
      "Processing posts: 22953it [00:02, 9573.51it/s]\n",
      "Processing posts: 22953it [00:02, 10239.88it/s]\n",
      "Processing posts: 22953it [00:02, 10530.22it/s]\n",
      "Processing posts: 22953it [00:02, 10755.32it/s]\n",
      "Processing posts: 22953it [00:02, 10112.69it/s]\n",
      "Processing posts: 22953it [00:02, 10749.02it/s]\n",
      "Processing posts: 22953it [00:02, 9488.91it/s]\n",
      "Processing posts: 22953it [00:02, 9758.57it/s] \n",
      "Processing posts: 22953it [00:02, 10232.73it/s]\n",
      "Processing posts: 22953it [00:02, 10638.85it/s]\n",
      "Processing posts: 22953it [00:02, 10948.92it/s]\n",
      "Processing posts: 22953it [00:02, 10171.39it/s]\n",
      "Processing posts: 22953it [00:02, 10546.38it/s]\n",
      "Processing posts: 22953it [00:02, 9877.77it/s]\n",
      "Processing posts: 22953it [00:02, 9571.66it/s]\n",
      "Processing posts: 22953it [00:02, 10658.29it/s]\n",
      "Processing posts: 22953it [00:02, 10691.24it/s]\n",
      "Processing posts: 22953it [00:02, 10295.40it/s]\n",
      "Processing posts: 22953it [00:02, 10570.07it/s]\n",
      "Processing posts: 22953it [00:02, 10321.00it/s]\n",
      "Processing posts: 22953it [00:02, 10020.67it/s]\n",
      "Processing posts: 22953it [00:02, 9596.15it/s]\n",
      "Processing posts: 22953it [00:02, 10711.01it/s]\n",
      "Processing posts: 22953it [00:02, 10570.90it/s]\n",
      "Processing posts: 22953it [00:02, 10669.25it/s]\n",
      "Processing posts: 22953it [00:02, 10615.00it/s]\n",
      "Processing posts: 22953it [00:02, 10405.17it/s]\n",
      "Processing posts: 22953it [00:02, 10058.66it/s]\n",
      "Processing posts: 22953it [00:02, 9526.87it/s]\n",
      "Processing posts: 22953it [00:02, 10628.84it/s]\n",
      "Processing posts: 22953it [00:02, 10727.40it/s]\n",
      "Processing posts: 22953it [00:02, 10514.00it/s]\n",
      "Processing posts: 22953it [00:02, 10276.91it/s]\n",
      "Processing posts: 22953it [00:02, 9865.14it/s]\n",
      "Processing posts: 22953it [00:02, 8681.18it/s]\n",
      "Processing posts: 22953it [00:02, 9208.48it/s]\n",
      "Processing posts: 22953it [00:02, 9707.72it/s]\n",
      "Processing posts: 22953it [00:02, 10851.88it/s]\n",
      "Processing posts: 22953it [00:02, 10414.29it/s]\n",
      "Processing posts: 22953it [00:02, 10313.84it/s]\n",
      "Processing posts: 22953it [00:02, 9992.21it/s]\n",
      "Processing posts: 22953it [00:02, 9558.84it/s]\n",
      "Processing posts: 22953it [00:02, 9241.46it/s]\n",
      "Processing posts: 22953it [00:02, 10207.78it/s]\n",
      "Processing posts: 22953it [00:02, 10405.93it/s]\n",
      "Processing posts: 22953it [00:02, 10575.99it/s]\n",
      "Processing posts: 22953it [00:02, 10548.90it/s]\n",
      "Processing posts: 22953it [00:02, 10493.54it/s]\n",
      "Processing posts: 22953it [00:02, 9956.36it/s]\n",
      "Processing posts: 22953it [00:02, 9362.35it/s]\n",
      "Processing posts: 22953it [00:02, 10359.75it/s]\n",
      "Processing posts: 22953it [00:02, 10596.39it/s]\n",
      "Processing posts: 22953it [00:02, 10917.90it/s]\n",
      "Processing posts: 22953it [00:02, 11110.01it/s]\n",
      "Processing posts: 22953it [00:02, 10863.77it/s]\n",
      "Processing posts: 22953it [00:02, 10836.98it/s]\n",
      "Processing posts: 22953it [00:02, 9838.45it/s]\n",
      "Processing posts: 22953it [00:02, 10447.52it/s]\n",
      "Processing posts: 22953it [00:02, 11422.76it/s]\n",
      "Processing posts: 22953it [00:02, 11457.37it/s]\n",
      "Processing posts: 22953it [00:02, 11330.59it/s]\n",
      "Processing posts: 22953it [00:01, 12541.97it/s]\n",
      "Processing posts: 22953it [00:01, 12219.64it/s]\n",
      "Processing posts: 22953it [00:01, 11644.66it/s]\n",
      "Processing posts: 22953it [00:02, 10597.23it/s]\n",
      "Processing posts: 22953it [00:01, 12085.35it/s]\n",
      "Processing posts: 22953it [00:01, 12145.07it/s]\n",
      "Processing posts: 22953it [00:01, 12442.10it/s]\n",
      "Processing posts: 22953it [00:01, 12419.51it/s]\n",
      "Processing posts: 22953it [00:01, 12018.24it/s]\n",
      "Processing posts: 22953it [00:01, 12159.94it/s]\n",
      "Processing posts: 22953it [00:01, 12291.17it/s]\n",
      "Processing posts: 22953it [00:02, 10908.85it/s]\n",
      "Processing posts: 22953it [00:01, 11526.51it/s]\n",
      "Processing posts: 22953it [00:01, 12397.69it/s]\n",
      "Processing posts: 22953it [00:01, 11564.40it/s]\n",
      "Processing posts: 22953it [00:02, 11312.75it/s]\n",
      "Processing posts: 22953it [00:01, 11650.45it/s]\n",
      "Processing posts: 22953it [00:01, 12114.66it/s]\n",
      "Processing posts: 22953it [00:01, 11766.08it/s]\n",
      "Processing posts: 22953it [00:02, 11079.19it/s]\n",
      "Processing posts: 22953it [00:02, 11425.05it/s]\n",
      "Processing posts: 22953it [00:01, 12070.44it/s]\n",
      "Processing posts: 22953it [00:02, 11030.01it/s]\n",
      "Processing posts: 22953it [00:02, 11205.39it/s]\n",
      "Processing posts: 22953it [00:01, 11985.73it/s]\n",
      "Processing posts: 22953it [00:01, 11814.15it/s]\n",
      "Processing posts: 22953it [00:01, 11941.32it/s]\n",
      "Processing posts: 22953it [00:02, 11151.25it/s]\n",
      "Processing posts: 22953it [00:02, 11287.81it/s]\n",
      "Processing posts: 22953it [00:01, 12479.60it/s]\n",
      "Processing posts: 22953it [00:01, 13770.42it/s]\n",
      "Processing posts: 22953it [00:01, 13779.49it/s]\n",
      "Processing posts: 22953it [00:01, 13608.28it/s]\n",
      "Processing posts: 22953it [00:01, 13551.03it/s]\n",
      "Processing posts: 22953it [00:01, 13540.57it/s]\n",
      "Processing posts: 22953it [00:01, 13087.64it/s]\n",
      "Processing posts: 22953it [00:01, 11981.53it/s]\n",
      "Processing posts: 22953it [00:01, 13092.52it/s]\n",
      "Processing posts: 22953it [00:01, 13787.60it/s]\n",
      "Processing posts: 22953it [00:01, 12605.45it/s]\n",
      "Processing posts: 22953it [00:01, 13842.27it/s]\n",
      "Processing posts: 22953it [00:01, 13478.05it/s]\n",
      "Processing posts: 107it [03:45,  2.11s/it]\n"
     ]
    }
   ],
   "source": [
    "matches_behaviours_3 = stemming_and_matching( third_half , selected_rows)\n"
   ]
  },
  {
   "cell_type": "code",
   "execution_count": 39,
   "id": "a81efc6d",
   "metadata": {},
   "outputs": [],
   "source": [
    "matches_behaviours_3.to_csv(r'C:\\Users\\leona\\OneDrive\\Desktop\\Tesi\\Pipeline\\Datasets\\Pipeline\\SocialNetworksPosts\\Reddit\\Months\\12\\three_behaviours.csv')"
   ]
  },
  {
   "cell_type": "code",
   "execution_count": 40,
   "id": "fb269744",
   "metadata": {},
   "outputs": [
    {
     "data": {
      "text/html": [
       "<div>\n",
       "<style scoped>\n",
       "    .dataframe tbody tr th:only-of-type {\n",
       "        vertical-align: middle;\n",
       "    }\n",
       "\n",
       "    .dataframe tbody tr th {\n",
       "        vertical-align: top;\n",
       "    }\n",
       "\n",
       "    .dataframe thead th {\n",
       "        text-align: right;\n",
       "    }\n",
       "</style>\n",
       "<table border=\"1\" class=\"dataframe\">\n",
       "  <thead>\n",
       "    <tr style=\"text-align: right;\">\n",
       "      <th></th>\n",
       "      <th>full_text</th>\n",
       "      <th>keyword</th>\n",
       "    </tr>\n",
       "  </thead>\n",
       "  <tbody>\n",
       "    <tr>\n",
       "      <th>0</th>\n",
       "      <td>wowcoco.net. [wowcoco.net](https://wowcoco.net) was basically a p0rn website that doesnt exist today. I sadly, was the victim of the site when it still existed.\\n\\nHow the website looked like:\\n\\nThe first time i got on this website there was a couple of images of naked woman with a header saying: \"Before you see naked girls please sign up\" or something like that. I dont remember it very well, i was 7 when this happened (yep, i was 7). The sign up process was mostly something like this:\\n\\n1. \"Enter email\"\\n2. \"Enter your address (im not stupid so i entered a fake address)\\n3. \"Set a password\"\\n4. \"Some questions like: Are you 18? Do you promise not to take screenshots? (the questions were fake. Even if you answered \"no\" i would still let you in.\"\\n\\nWhen you signed up, you would see the images of naked woman (there was also men option but i will talk about that later) . It was just a couple of images, always the same, nothing else. You could upgrade to premium to see videos instea...</td>\n",
       "      <td>process interest</td>\n",
       "    </tr>\n",
       "    <tr>\n",
       "      <th>1</th>\n",
       "      <td>Got a Facebook notification email a year after my account was deleted. Hi! \\n\\nLong story short, I've received an email from \"notification\\[at\\]facebookmail.com\" that a user invites me to join some FB group, with a spam link to external site inside an invitation message. The problem is, that I've deleted my FB profile a year ago  (the process was initiated on 2021-12-14 and account was deleted the month after). \\n\\nI've double-checked that my account was indeed deleted (tried to reset my password to ensure that the account is deleted). Then I contacted Data Protection Officer at Facebook who has assured me that they don't have my info (but his answer was pretty formulaic and I doubt my case was thoroughly investigated):\\n\\n&gt;\\[...\\] there is no record of a Facebook account associated with the email address you provided us.   \\n&gt;  \\n&gt;If you have previously deleted your account, please note we no longer retain any information when an account has been permanently deleted.\\n\\nThe notifi...</td>\n",
       "      <td>process interest</td>\n",
       "    </tr>\n",
       "    <tr>\n",
       "      <th>2</th>\n",
       "      <td>Question on creating cut prisms with uniform side slopes (for stability) on irregular terrain.. I'm trying to solve a pretty interesting problem that--full disclosure--is probably way above my paygrade (self-taught in QGIS, with very limited/rudimentary Python/programming knowledge).  Hopefully, you all can help or maybe offer suggestions on how to move forward? For reference, I'm using QGIS 3.30, but I'm not aware of any plugins or tools or anything that could accomplish this automatically...\\n\\nSimply put, I want to model the digging of a vertical hole 4 feet deep, and thereafter determine how far away around that hole that the sides must be cut back to result in 2H:1V slopes to the bottom of the hole. It's obviously not complicated on level ground; starting the slopes 8' from the edge of vertical hole would result in 2:1 slopes... but translating that to irregular 3D terrain gets my head spinning fast.\\n\\nBelow is an example of the terrain I'm working with. It shows a DEM where ...</td>\n",
       "      <td>process interest</td>\n",
       "    </tr>\n",
       "    <tr>\n",
       "      <th>3</th>\n",
       "      <td>Finally I got an small swich powered by USB. I've been looking for an small swich that could be powered only by the computer USB, not by their power supply, getting rid of an other device on the socket.\\n\\nIt's seems a daunting process because no one produce a cheap one and some devices that had this capability seems to be out of market.\\n\\nAfter all, I found a Zyxel GS-105B 5 port that match the USB power requirements, Output: 5 V DC, 1 A.\\n\\nThis devices comes with their power supply, but changing it with an USB cable with 5.5x2.1 mm end did the trick.\\n\\nOnly to share this research with other people interested on this setup, a swich powered only by USB.</td>\n",
       "      <td>process interest</td>\n",
       "    </tr>\n",
       "    <tr>\n",
       "      <th>4</th>\n",
       "      <td>NN / ML in Card Game. The game is Cribbage for those who may know the ruleset / structure and would like to skip that part.\\n\\n**The Game's Structure**\\n\\n2 players (in my case), each dealt 6 cards. Your goal is to accumulate as many points as possible in 4 cards. Thus, you have to choose 2 cards to discard into the 'crib' prior to the start of the hand. Currently, the class takes in a dealt 6-card hand and returns the highest scoring 4-card combination available. Once each player has tossed 2 cards to the crib, a card is flipped from the deck which acts as a fifth card, available for scoring, to both of the players. The crib, mentioned earlier, is awarded to the dealer of each hand. The dealer scores the crib and adds the awarded points to their hands total. So when the player deals, they are scoring 2 separate 4-card hands. So there is some strategy in what cards you throw into the crib. You may toss yourself points on the deal to keep certain point strategies in your hand when y...</td>\n",
       "      <td>process interest</td>\n",
       "    </tr>\n",
       "    <tr>\n",
       "      <th>...</th>\n",
       "      <td>...</td>\n",
       "      <td>...</td>\n",
       "    </tr>\n",
       "    <tr>\n",
       "      <th>802</th>\n",
       "      <td>Help needed setting up OpenVPN on LTE Routers. Hi,  \\nI'm currently trying to setup three industrial standard LTE Routers (Comtime LTE CAT6) to work within an OpenVPN network. Router 1 should be the OVPN server, while 2 and 3 should be the clients. All need to be in the same network with the same subnet mask with static ip addresses. \\n\\nI'm struggling with the complete setup. I tried to setup the server on router 1 but don't know if it's even working since router 2 and 3 won't connect.  \\nRouter 1 is connected to a DynDNS service which shows the correct IP address.\\n\\nI've create a bunch of screenshots of my config:\\n\\n&amp;#x200B;\\n\\n[DynDNS config](https://preview.redd.it/uuzz8sx8fk3b1.png?width=425&amp;format=png&amp;auto=webp&amp;v=enabled&amp;s=29ed9d8350466facb040c1f84605fa6c00997411)\\n\\n[Local IP configuration](https://preview.redd.it/0jto36iafk3b1.png?width=454&amp;format=png&amp;auto=webp&amp;v=enabled&amp;s=8beb80853308550331c69635856686c1473bf3b2)\\n\\n[OpenVPN server configuration](https://preview.redd.it/...</td>\n",
       "      <td>network dyndns</td>\n",
       "    </tr>\n",
       "    <tr>\n",
       "      <th>803</th>\n",
       "      <td>PowerShell Script to Deploy Applications to Windows 7 Devices. I am having the hardest time getting applications/files to download on Windows 7 devices. I know the invoke-WebRequest only works on PowerShell 3.0+, however a lot of the Windows 7 devices we have in our RMM (NinjaRMM) are still on PowerShell 2.0. This is the current script I have written to deploy Bitdefender GravityZone (It works on all machines apart from Windows 7):\\n```\\n#Parameters\\nparam(\\n    [string]$SetupDownloader=''\\n)\\n#Define Variables\\n$Info = {\\n************************************************************************************\\n*  Synopsis: Deploy Bitdefender GravityZone\\n*  Description:\\n\\n    &gt; Use Ninja parameters to specify the download file name\\n    &gt; Checks and if missing, creates a temporary folder with App name in C:\\Temp\\\\n    &gt; Adds regkey to disable IE first run setup (prevents downloads if it was never run on device before)\\n    &gt; Checks PowerShell version with if/else and executes correct...</td>\n",
       "      <td>powershell download</td>\n",
       "    </tr>\n",
       "    <tr>\n",
       "      <th>804</th>\n",
       "      <td>Nirsoft's webbrowserpassview, useful, but dangerous?. A lot of us are familiar with nirsoft's utilities, and I've used webbrowserpassview many times for recovering many customer's passwords from chrome. But a thought struck me. This doesn't even require admin permissions to run, as the data is available in the user's appdata folder. Could pretty much any user downloaded app include a package that includes webbrowserpassview, and run in the background? The next obvious step I believe is gaining firewall permissions for the passwords to be sent home, but I could think of a way to just call powershell to send-mailmessage the output file back home. \\n\\nOur antivirus (webroot) blocks the file, but without it, are basic windows users really this vulnerable?\\n\\nI'm probably underestimating how dangerous a .exe is even without admin permissions, but I've known never to just run random .exe without verifying the file.</td>\n",
       "      <td>powershell download</td>\n",
       "    </tr>\n",
       "    <tr>\n",
       "      <th>805</th>\n",
       "      <td>Beware new Keylogger malware called PinkwoodNegoga. I accidentally installed it through SteamUnlocked (totally my fault, will never try to download a cracked game ever again) along with a couple other viruses which were easy to get rid of. Not this one. It was a nightmare. I'm not very tech savvy so I don't know what info to prompt about the virus but, basically:\\n-The virus appeared as a parent process in task manager called \"Tiny Subaru\". Under it, PinkwoodNegoga was being executed. \\n-Trying to stop the process didn't do anything because it automatically started again \\n-The executable file was on my Program Files x86 folder. It was impossible to delete because it was always in execution. \\n-Using Msconfig and trying to uncheck the box next to \"PinkwoodNegoga.exe\" in the Startup tab was no use because when I clicked \"apply\" it automatically checked again (?????? Like how?) \\n-I told chatgpt to write a command to stop the program and delete in one go. Here it is:\\n$processName = ...</td>\n",
       "      <td>powershell download</td>\n",
       "    </tr>\n",
       "    <tr>\n",
       "      <th>806</th>\n",
       "      <td>SSL Cipher MisMatch...wtf is going on. Setup:\\n\\nWindows CA\\n\\nWindows Horizon View Server\\n\\nLinux desktop\\n\\nIn the past i've generated the .csr on the Linux system, used SubjectAltNames etc and then bumped over to my Windows CA, browsed to /certsrv webgui and just tossed in the CSR, downloaded cert and imported it where I wanted.\\n\\nWe had a GPO push to disable TLS versions and set specific ciphers, which broke /certsrv. After going in and confirming that, I removed the registry entries from the GPO and got the site back. Now granted I can use powershell so that wasn't a big deal with signing the certs.\\n\\nBut the certs signed now present a SSL\\_CIPHER\\_MISMATCH in Chrome. I went to Linux system and ran an openssl s\\_client and got the following:\\n\\nCONNECTED(00000003)\\r  \\n140311680824640:error:14094410:SSL routines:ssl3\\_read\\_bytes:sslv3 alert handshake failure:../ssl/record/rec\\_layer\\_s3.c:1543:SSL alert number 40\\r  \\n\\---\\r  \\nno peer certificate available\\r  \\n\\---\\r  \\n...</td>\n",
       "      <td>powershell download</td>\n",
       "    </tr>\n",
       "  </tbody>\n",
       "</table>\n",
       "<p>1909 rows × 2 columns</p>\n",
       "</div>"
      ],
      "text/plain": [
       "                                                                                                                                                                                                                                                                                                                                                                                                                                                                                                                                                                                                                                                                                                                                                                                                                                                                                                                                                                                                                                   full_text  \\\n",
       "0    wowcoco.net. [wowcoco.net](https://wowcoco.net) was basically a p0rn website that doesnt exist today. I sadly, was the victim of the site when it still existed.\\n\\nHow the website looked like:\\n\\nThe first time i got on this website there was a couple of images of naked woman with a header saying: \"Before you see naked girls please sign up\" or something like that. I dont remember it very well, i was 7 when this happened (yep, i was 7). The sign up process was mostly something like this:\\n\\n1. \"Enter email\"\\n2. \"Enter your address (im not stupid so i entered a fake address)\\n3. \"Set a password\"\\n4. \"Some questions like: Are you 18? Do you promise not to take screenshots? (the questions were fake. Even if you answered \"no\" i would still let you in.\"\\n\\nWhen you signed up, you would see the images of naked woman (there was also men option but i will talk about that later) . It was just a couple of images, always the same, nothing else. You could upgrade to premium to see videos instea...   \n",
       "1    Got a Facebook notification email a year after my account was deleted. Hi! \\n\\nLong story short, I've received an email from \"notification\\[at\\]facebookmail.com\" that a user invites me to join some FB group, with a spam link to external site inside an invitation message. The problem is, that I've deleted my FB profile a year ago  (the process was initiated on 2021-12-14 and account was deleted the month after). \\n\\nI've double-checked that my account was indeed deleted (tried to reset my password to ensure that the account is deleted). Then I contacted Data Protection Officer at Facebook who has assured me that they don't have my info (but his answer was pretty formulaic and I doubt my case was thoroughly investigated):\\n\\n>\\[...\\] there is no record of a Facebook account associated with the email address you provided us.   \\n>  \\n>If you have previously deleted your account, please note we no longer retain any information when an account has been permanently deleted.\\n\\nThe notifi...   \n",
       "2    Question on creating cut prisms with uniform side slopes (for stability) on irregular terrain.. I'm trying to solve a pretty interesting problem that--full disclosure--is probably way above my paygrade (self-taught in QGIS, with very limited/rudimentary Python/programming knowledge).  Hopefully, you all can help or maybe offer suggestions on how to move forward? For reference, I'm using QGIS 3.30, but I'm not aware of any plugins or tools or anything that could accomplish this automatically...\\n\\nSimply put, I want to model the digging of a vertical hole 4 feet deep, and thereafter determine how far away around that hole that the sides must be cut back to result in 2H:1V slopes to the bottom of the hole. It's obviously not complicated on level ground; starting the slopes 8' from the edge of vertical hole would result in 2:1 slopes... but translating that to irregular 3D terrain gets my head spinning fast.\\n\\nBelow is an example of the terrain I'm working with. It shows a DEM where ...   \n",
       "3                                                                                                                                                                                                                                                                                                                                                   Finally I got an small swich powered by USB. I've been looking for an small swich that could be powered only by the computer USB, not by their power supply, getting rid of an other device on the socket.\\n\\nIt's seems a daunting process because no one produce a cheap one and some devices that had this capability seems to be out of market.\\n\\nAfter all, I found a Zyxel GS-105B 5 port that match the USB power requirements, Output: 5 V DC, 1 A.\\n\\nThis devices comes with their power supply, but changing it with an USB cable with 5.5x2.1 mm end did the trick.\\n\\nOnly to share this research with other people interested on this setup, a swich powered only by USB.   \n",
       "4    NN / ML in Card Game. The game is Cribbage for those who may know the ruleset / structure and would like to skip that part.\\n\\n**The Game's Structure**\\n\\n2 players (in my case), each dealt 6 cards. Your goal is to accumulate as many points as possible in 4 cards. Thus, you have to choose 2 cards to discard into the 'crib' prior to the start of the hand. Currently, the class takes in a dealt 6-card hand and returns the highest scoring 4-card combination available. Once each player has tossed 2 cards to the crib, a card is flipped from the deck which acts as a fifth card, available for scoring, to both of the players. The crib, mentioned earlier, is awarded to the dealer of each hand. The dealer scores the crib and adds the awarded points to their hands total. So when the player deals, they are scoring 2 separate 4-card hands. So there is some strategy in what cards you throw into the crib. You may toss yourself points on the deal to keep certain point strategies in your hand when y...   \n",
       "..                                                                                                                                                                                                                                                                                                                                                                                                                                                                                                                                                                                                                                                                                                                                                                                                                                                                                                                                                                                                                                       ...   \n",
       "802  Help needed setting up OpenVPN on LTE Routers. Hi,  \\nI'm currently trying to setup three industrial standard LTE Routers (Comtime LTE CAT6) to work within an OpenVPN network. Router 1 should be the OVPN server, while 2 and 3 should be the clients. All need to be in the same network with the same subnet mask with static ip addresses. \\n\\nI'm struggling with the complete setup. I tried to setup the server on router 1 but don't know if it's even working since router 2 and 3 won't connect.  \\nRouter 1 is connected to a DynDNS service which shows the correct IP address.\\n\\nI've create a bunch of screenshots of my config:\\n\\n&#x200B;\\n\\n[DynDNS config](https://preview.redd.it/uuzz8sx8fk3b1.png?width=425&format=png&auto=webp&v=enabled&s=29ed9d8350466facb040c1f84605fa6c00997411)\\n\\n[Local IP configuration](https://preview.redd.it/0jto36iafk3b1.png?width=454&format=png&auto=webp&v=enabled&s=8beb80853308550331c69635856686c1473bf3b2)\\n\\n[OpenVPN server configuration](https://preview.redd.it/...   \n",
       "803  PowerShell Script to Deploy Applications to Windows 7 Devices. I am having the hardest time getting applications/files to download on Windows 7 devices. I know the invoke-WebRequest only works on PowerShell 3.0+, however a lot of the Windows 7 devices we have in our RMM (NinjaRMM) are still on PowerShell 2.0. This is the current script I have written to deploy Bitdefender GravityZone (It works on all machines apart from Windows 7):\\n```\\n#Parameters\\nparam(\\n    [string]$SetupDownloader=''\\n)\\n#Define Variables\\n$Info = {\\n************************************************************************************\\n*  Synopsis: Deploy Bitdefender GravityZone\\n*  Description:\\n\\n    > Use Ninja parameters to specify the download file name\\n    > Checks and if missing, creates a temporary folder with App name in C:\\Temp\\\\n    > Adds regkey to disable IE first run setup (prevents downloads if it was never run on device before)\\n    > Checks PowerShell version with if/else and executes correct...   \n",
       "804                                                                               Nirsoft's webbrowserpassview, useful, but dangerous?. A lot of us are familiar with nirsoft's utilities, and I've used webbrowserpassview many times for recovering many customer's passwords from chrome. But a thought struck me. This doesn't even require admin permissions to run, as the data is available in the user's appdata folder. Could pretty much any user downloaded app include a package that includes webbrowserpassview, and run in the background? The next obvious step I believe is gaining firewall permissions for the passwords to be sent home, but I could think of a way to just call powershell to send-mailmessage the output file back home. \\n\\nOur antivirus (webroot) blocks the file, but without it, are basic windows users really this vulnerable?\\n\\nI'm probably underestimating how dangerous a .exe is even without admin permissions, but I've known never to just run random .exe without verifying the file.   \n",
       "805  Beware new Keylogger malware called PinkwoodNegoga. I accidentally installed it through SteamUnlocked (totally my fault, will never try to download a cracked game ever again) along with a couple other viruses which were easy to get rid of. Not this one. It was a nightmare. I'm not very tech savvy so I don't know what info to prompt about the virus but, basically:\\n-The virus appeared as a parent process in task manager called \"Tiny Subaru\". Under it, PinkwoodNegoga was being executed. \\n-Trying to stop the process didn't do anything because it automatically started again \\n-The executable file was on my Program Files x86 folder. It was impossible to delete because it was always in execution. \\n-Using Msconfig and trying to uncheck the box next to \"PinkwoodNegoga.exe\" in the Startup tab was no use because when I clicked \"apply\" it automatically checked again (?????? Like how?) \\n-I told chatgpt to write a command to stop the program and delete in one go. Here it is:\\n$processName = ...   \n",
       "806  SSL Cipher MisMatch...wtf is going on. Setup:\\n\\nWindows CA\\n\\nWindows Horizon View Server\\n\\nLinux desktop\\n\\nIn the past i've generated the .csr on the Linux system, used SubjectAltNames etc and then bumped over to my Windows CA, browsed to /certsrv webgui and just tossed in the CSR, downloaded cert and imported it where I wanted.\\n\\nWe had a GPO push to disable TLS versions and set specific ciphers, which broke /certsrv. After going in and confirming that, I removed the registry entries from the GPO and got the site back. Now granted I can use powershell so that wasn't a big deal with signing the certs.\\n\\nBut the certs signed now present a SSL\\_CIPHER\\_MISMATCH in Chrome. I went to Linux system and ran an openssl s\\_client and got the following:\\n\\nCONNECTED(00000003)\\r  \\n140311680824640:error:14094410:SSL routines:ssl3\\_read\\_bytes:sslv3 alert handshake failure:../ssl/record/rec\\_layer\\_s3.c:1543:SSL alert number 40\\r  \\n\\---\\r  \\nno peer certificate available\\r  \\n\\---\\r  \\n...   \n",
       "\n",
       "                 keyword  \n",
       "0       process interest  \n",
       "1       process interest  \n",
       "2       process interest  \n",
       "3       process interest  \n",
       "4       process interest  \n",
       "..                   ...  \n",
       "802       network dyndns  \n",
       "803  powershell download  \n",
       "804  powershell download  \n",
       "805  powershell download  \n",
       "806  powershell download  \n",
       "\n",
       "[1909 rows x 2 columns]"
      ]
     },
     "execution_count": 40,
     "metadata": {},
     "output_type": "execute_result"
    }
   ],
   "source": [
    "matches = pd.concat([matches_behaviours_3, matches_behaviours_2, matches_behaviours_1])\n",
    "matches"
   ]
  },
  {
   "cell_type": "code",
   "execution_count": 41,
   "id": "38bac787",
   "metadata": {},
   "outputs": [],
   "source": [
    "matches['keyword type'] = 'behaviour'"
   ]
  },
  {
   "cell_type": "code",
   "execution_count": 42,
   "id": "2a09d111",
   "metadata": {},
   "outputs": [],
   "source": [
    "matches.to_csv(r'C:\\Users\\leona\\OneDrive\\Desktop\\Tesi\\Pipeline\\Datasets\\Pipeline\\SocialNetworksPosts\\Reddit\\Months\\12\\Behaviours.csv')"
   ]
  },
  {
   "cell_type": "markdown",
   "id": "36144587",
   "metadata": {},
   "source": [
    "### Attacks searching"
   ]
  },
  {
   "cell_type": "code",
   "execution_count": 43,
   "id": "0523f54b",
   "metadata": {},
   "outputs": [],
   "source": [
    "l = len(all_attack_name_list)\n",
    "\n",
    "index = l // 2\n",
    "\n",
    "first_half_behaviours = all_attack_name_list[:index]\n",
    "second_half_behaviours = all_attack_name_list[index:]\n"
   ]
  },
  {
   "cell_type": "code",
   "execution_count": 44,
   "id": "4918cbb9",
   "metadata": {},
   "outputs": [
    {
     "name": "stderr",
     "output_type": "stream",
     "text": [
      "Processing posts: 22953it [00:02, 10179.66it/s]\n",
      "Processing posts: 22953it [00:02, 10983.17it/s]\n",
      "Processing posts: 22953it [00:01, 11732.80it/s]\n",
      "Processing posts: 22953it [00:01, 11711.99it/s]\n",
      "Processing posts: 22953it [00:01, 11515.50it/s]\n",
      "Processing posts: 22953it [00:02, 11267.46it/s]\n",
      "Processing posts: 22953it [00:02, 11043.18it/s]\n",
      "Processing posts: 22953it [00:02, 11106.61it/s]\n",
      "Processing posts: 22953it [00:02, 10358.30it/s]\n",
      "Processing posts: 22953it [00:02, 11271.04it/s]\n",
      "Processing posts: 22953it [00:02, 11313.38it/s]\n",
      "Processing posts: 11it [00:22,  2.07s/it]\n"
     ]
    }
   ],
   "source": [
    "matches1 = pd.DataFrame()\n",
    "\n",
    "matches1 = stemming_and_matching( first_half_behaviours , selected_rows)"
   ]
  },
  {
   "cell_type": "code",
   "execution_count": 45,
   "id": "638703fa",
   "metadata": {},
   "outputs": [
    {
     "name": "stderr",
     "output_type": "stream",
     "text": [
      "Processing posts: 22953it [00:02, 10170.83it/s]\n",
      "Processing posts: 22953it [00:02, 10307.79it/s]\n",
      "Processing posts: 22953it [00:02, 10274.85it/s]\n",
      "Processing posts: 22953it [00:02, 9493.39it/s]\n",
      "Processing posts: 22953it [00:02, 9606.10it/s] \n",
      "Processing posts: 22953it [00:02, 10254.10it/s]\n",
      "Processing posts: 22953it [00:02, 10294.70it/s]\n",
      "Processing posts: 22953it [00:02, 10182.26it/s]\n",
      "Processing posts: 22953it [00:02, 10180.03it/s]\n",
      "Processing posts: 22953it [00:02, 10262.42it/s]\n",
      "Processing posts: 22953it [00:02, 9430.14it/s]\n",
      "Processing posts: 22953it [00:02, 9614.27it/s]\n",
      "Processing posts: 12it [00:27,  2.31s/it]\n"
     ]
    }
   ],
   "source": [
    "matches2 = pd.DataFrame()\n",
    "\n",
    "matches2 = stemming_and_matching( second_half_behaviours , selected_rows)"
   ]
  },
  {
   "cell_type": "code",
   "execution_count": 46,
   "id": "ac913507",
   "metadata": {},
   "outputs": [
    {
     "data": {
      "text/html": [
       "<div>\n",
       "<style scoped>\n",
       "    .dataframe tbody tr th:only-of-type {\n",
       "        vertical-align: middle;\n",
       "    }\n",
       "\n",
       "    .dataframe tbody tr th {\n",
       "        vertical-align: top;\n",
       "    }\n",
       "\n",
       "    .dataframe thead th {\n",
       "        text-align: right;\n",
       "    }\n",
       "</style>\n",
       "<table border=\"1\" class=\"dataframe\">\n",
       "  <thead>\n",
       "    <tr style=\"text-align: right;\">\n",
       "      <th></th>\n",
       "      <th>full_text</th>\n",
       "      <th>keyword</th>\n",
       "    </tr>\n",
       "  </thead>\n",
       "  <tbody>\n",
       "    <tr>\n",
       "      <th>0</th>\n",
       "      <td>How change a windows registry WITHOUT restarting system?. I haven't found a good way to turn on/off mouse acceleration so I thought to just make a python script to edit the registry, however it only seems to take effect after a system reboot. I've tried running my IDE (VSC) as admin and running it from cmd as admin. Sorry if this is more of a windows question then a python one.\\n\\nHeres my code so far:\\n```\\nimport ctypes\\nimport winreg\\n\\n# Constants for mouse registry settings\\nKEY_PATH = r\"Control Panel\\\\Mouse\"\\nACCELERATION_VALUE_NAME = \"MouseSpeed\"\\nACCELERATION_THRESHOLD_NAME = \"MouseThreshold1\"\\n\\nenable = False\\nprint(enable)\\n\\n# Open the mouse registry key\\nkey = winreg.OpenKey(winreg.HKEY_CURRENT_USER, KEY_PATH, 0, winreg.KEY_SET_VALUE)\\n\\nif enable:\\n    winreg.SetValueEx(key, ACCELERATION_VALUE_NAME, 0, winreg.REG_SZ, \"1\")\\n    winreg.SetValueEx(key, ACCELERATION_THRESHOLD_NAME, 0, winreg.REG_SZ, \"6\")\\nelse:\\n    winreg.SetValueEx(key, ACCELERATION_VALUE_NAME, 0, winre...</td>\n",
       "      <td>Registry Run Keys</td>\n",
       "    </tr>\n",
       "    <tr>\n",
       "      <th>1</th>\n",
       "      <td>Determining the Office C2R Update Channel. I've been trying to figure out how to determine what update channel a particular Office C2R install is actually using via PowerShell. In the registry key **HKEY\\_LOCAL\\_MACHINE\\\\SOFTWARE\\\\Microsoft\\\\Office\\\\ClickToRun\\\\Configuration**, there are 3 keys that contain GUIDs for Office channels. Those are **CDNBaseUrl**, **AudienceID** and **UpdateChannel**. Additionally, the **VersionToReport** value contains the installed Office version.\\n\\nMost articles reference the CDNBaseUrul key as the currently configured channel, and when you run the command ***officec2rclient.exe /changesetting Channel=&lt;channel&gt;***, it is supposed to change the Office update channel in use, and this command does change the CDNBaseUrl value. However the update channel in use can also be configured via Office 365 Tenant and likely Intune. My previous thought and general consensus was that the UpdateChannel value was what was actually in use on the machine and overrode ...</td>\n",
       "      <td>Registry Run Keys</td>\n",
       "    </tr>\n",
       "    <tr>\n",
       "      <th>2</th>\n",
       "      <td>GPO disables hibernation but doesn't delete hiberfil.sys. Windows 10 22H2\\n\\nI have a GPO that is intended to disable hibernation and delete the hibernation file. The following Policies are enabled:\\n\\n    Specify the system hibernate timeout (plugged in): 0\\n    Turn off hybrid sleep (on battery)\\n    Turn off hybrid sleep (plugged in)\\n\\nThis did not disable hibernation on some test machines, so I modified the GPO to set a couple of registry key values to 0:\\n\\n    /HKEY_LOCAL_MACHINE/SYSTEM/CurrentControlSet/Control/Power/HibernateEnabled\\n    /HKEY_LOCAL_MACHINE/SYSTEM/CurrentControlSet/Control/Power/HiberFileSizePercent\\n\\nSome testing showed that c:\\\\hiberfil.sys was still present and in use after `gpupdate /force` and a reboot, so I modified the GPO to also run a batch file on computers at startup.\\n\\n    @echo off\\n    \\n    powercfg -h off\\n    del c:\\hiberfil.sys\\n\\nAfter multiple reboots c:\\\\hiberfil.sys is still present. I can manually delete the file with no error, ind...</td>\n",
       "      <td>Registry Run Keys</td>\n",
       "    </tr>\n",
       "    <tr>\n",
       "      <th>3</th>\n",
       "      <td>Blocking Windows 11 upgrade invites on 22h2 - GPO Registry Keys not appearing. Low tier technician assisting the sysadmin/webdev/dev (The IT guy, would be the best qualifier there, really).  \\nAt least he doesn't have to worry as much about support these days, but anyway.  \\nOur small but geographically spread out organization had a GPO targeting Win10 Pro 21h2, support ended this week, so we moved to 22h2. Two more years without getting new licenses at least.\\n\\nIt was the way upgrades to Win11 were blocked, so it's only a matter of time before users are prompted to upgrade.  \\nDid communicate on that, but would still rather block it org wide.  \\nIt is extremely annoying.  \\n\\n\\nThis thread I found seems to be the most helpful one.  \\n[https://community.syncromsp.com/t/decline-windows-11-upgrade/3744/8](https://community.syncromsp.com/t/decline-windows-11-upgrade/3744/8)\\n\\n  \\n**My issue :**\\n\\nRegistry Keys are not appearing / being modified, on Domain Computers, despite Domain ...</td>\n",
       "      <td>Registry Run Keys</td>\n",
       "    </tr>\n",
       "    <tr>\n",
       "      <th>4</th>\n",
       "      <td>Windows Kernel fix CVE-2023-32019 - fix disabled by default. As user /u/SusanBradleyPatcher noted in the monthly patch Tuesday megathread this patch is disabled by default - https://www.bleepingcomputer.com/news/security/microsoft-windows-kernel-cve-2023-32019-fix-is-disabled-by-default/\\n\\n\\nHas anyone enabled the patch? Did you notice any negative impacts once enabling the registry keys? \\n\\n*Depending on the Windows version running on your device, you will have to add the following under the HKEY_LOCAL_MACHINE\\SYSTEM\\CurrentControlSet\\Policies\\Microsoft\\FeatureManagement\\Overrides registry key:*\\n\\n* Windows 10 20H2, 21H2, 22H2: Add a new DWORD registry value named 4103588492 with a value data of 1\\n* Windows 11 21H2: Add a new DWORD registry value named 4204251788 with a value data of 1\\n* Windows 11 22H2: Add a new DWORD registry value named 4237806220 with a value data of 1\\n* Windows Server 2022: Add a new DWORD registry value named 4137142924 with a value data of</td>\n",
       "      <td>Registry Run Keys</td>\n",
       "    </tr>\n",
       "    <tr>\n",
       "      <th>...</th>\n",
       "      <td>...</td>\n",
       "      <td>...</td>\n",
       "    </tr>\n",
       "    <tr>\n",
       "      <th>10</th>\n",
       "      <td>Hello is this pc good for gaming and streaming. \\nAMD Ryzen 9 5900X (3.70/4.80 GHz, 64M)\\nASUS GeForce RTX 3060 8GB Dual OC\\n2 x 16 GB DDR4 3200 MHz Silicon Power XPOWER Zenith RGB\\n250 GB SSD M.2 NVMe Silicon Power UD80, 1 TB SSD M.2 NVMe Silicon Power UD85\\nAMD 550\\nASUS TUF Gaming B550-PLUS wifi 2\\nCOUGAR Poseidon GT 240 \\n850 W Kolink Core 80 Plus \\n\\nIs this a good pc to invest, that i can do gaming and streaming or should i im for INTEL  \\n\\nIts a prebuilt</td>\n",
       "      <td>550</td>\n",
       "    </tr>\n",
       "    <tr>\n",
       "      <th>11</th>\n",
       "      <td>GPU recommendations for 550W power supply, 1440p QHD. I am looking to upgrade my GPU from a GTX 1660 Super, running on a 1440p monitor with an AMD Ryzen 3600. I have a EVGA SuperNova G3 550W PSU that is 80Plus Gold rated so I was wondering what would be the most powerful GPU that you would recommend using without breaking the bank (or the PSU lol) and without too much bottleneck (I am happy to OC the CPU if necessary). Thanks\\n\\nFull PC specs below:\\n\\nRyzen 5 3600\\n\\nGigabyte GTX 1660 Super\\n\\nMSi X470 motherboard\\n\\n16gb Corsair DDR4 @ 3600MHz\\n\\nWD Blue SN550\\n\\nSanDisk Ultra Sata SSD\\n\\nSeagate 2TB HDD\\n\\n6xCooler Master Sickleflow 120mm fans (RGB)\\n\\nEVGA SuperNova 550\\n\\nMSi C27 1440p 144Hz monitor</td>\n",
       "      <td>550</td>\n",
       "    </tr>\n",
       "    <tr>\n",
       "      <th>12</th>\n",
       "      <td>GPU problem. Hello everyone.  \\n\\n\\nFirst off - I have minimal/none knowledge in Linux.\\n\\nI'll try to be short:\\n\\nFirst I had RX 550 GPU installed in my PC which I use solely for Batocera. Things were fine.  \\nThen, I wanted to connect PC to CRT TV and found a script online that automates the process but I had to get an older card, which I did.  \\n\\n\\nI got an HD 3850 and when I swapped cards I had this weird glitch on startup splash screen but when I entered main menu everything was fine so I brushed it off.\\n\\nWhen I booted up a PSX game I was also greeted with graphical glitches (see pictures please) which I had none with previous card.\\n\\nThe HD 3850 is not faulty because I also tested it on Windows and is working fine.  \\n\\n\\nAlso I have to mention that when I launch GPARTED Live USB with 3850 I get super low resolution with things half visible, but when I launch it with RX 550 the resolution is normal.  \\n\\n\\n  \\nSo this makes me think Linux doesn't like my older GPU?  \\n\\n...</td>\n",
       "      <td>550</td>\n",
       "    </tr>\n",
       "    <tr>\n",
       "      <th>13</th>\n",
       "      <td>What's up w/ ConnectWise?. Initially we didn't think much of the rumors that ConnectWise is in talks with PE firms, but now I'm getting seriously worried. We just got invoiced for over $2,200 a month, when we were paying $550 - and without a contract renewal email or call or anything. We even got ACH debited and now we're trying to get this resolved and hitting nothing but dead ends. Our AM is non responsive... nobody from billing is getting back to me.\\n\\n  \\nThis is the last thing we need! I've had another buddy tell me they also can't get anyone to answer them. I'm really afraid this going to get worse and worse now. \\n\\n  \\nAnybody know what's going on or had a similar issue?</td>\n",
       "      <td>550</td>\n",
       "    </tr>\n",
       "    <tr>\n",
       "      <th>14</th>\n",
       "      <td>Samsung used to be my goto for drives, SD cards, and more. This is disgraceful. For a $550 USD SSD, the power lead is fully broken off, and the pins are bent to shit. The piece was not broken off in box, this had to have happened at the factory. Fix your shitty QA Samsung.. This isn't minor damage, it looked like it was drop kicked across the factory floor.</td>\n",
       "      <td>550</td>\n",
       "    </tr>\n",
       "  </tbody>\n",
       "</table>\n",
       "<p>155 rows × 2 columns</p>\n",
       "</div>"
      ],
      "text/plain": [
       "                                                                                                                                                                                                                                                                                                                                                                                                                                                                                                                                                                                                                                                                                                                                                                                                                                                                                                                                                                                                                                  full_text  \\\n",
       "0   How change a windows registry WITHOUT restarting system?. I haven't found a good way to turn on/off mouse acceleration so I thought to just make a python script to edit the registry, however it only seems to take effect after a system reboot. I've tried running my IDE (VSC) as admin and running it from cmd as admin. Sorry if this is more of a windows question then a python one.\\n\\nHeres my code so far:\\n```\\nimport ctypes\\nimport winreg\\n\\n# Constants for mouse registry settings\\nKEY_PATH = r\"Control Panel\\\\Mouse\"\\nACCELERATION_VALUE_NAME = \"MouseSpeed\"\\nACCELERATION_THRESHOLD_NAME = \"MouseThreshold1\"\\n\\nenable = False\\nprint(enable)\\n\\n# Open the mouse registry key\\nkey = winreg.OpenKey(winreg.HKEY_CURRENT_USER, KEY_PATH, 0, winreg.KEY_SET_VALUE)\\n\\nif enable:\\n    winreg.SetValueEx(key, ACCELERATION_VALUE_NAME, 0, winreg.REG_SZ, \"1\")\\n    winreg.SetValueEx(key, ACCELERATION_THRESHOLD_NAME, 0, winreg.REG_SZ, \"6\")\\nelse:\\n    winreg.SetValueEx(key, ACCELERATION_VALUE_NAME, 0, winre...   \n",
       "1   Determining the Office C2R Update Channel. I've been trying to figure out how to determine what update channel a particular Office C2R install is actually using via PowerShell. In the registry key **HKEY\\_LOCAL\\_MACHINE\\\\SOFTWARE\\\\Microsoft\\\\Office\\\\ClickToRun\\\\Configuration**, there are 3 keys that contain GUIDs for Office channels. Those are **CDNBaseUrl**, **AudienceID** and **UpdateChannel**. Additionally, the **VersionToReport** value contains the installed Office version.\\n\\nMost articles reference the CDNBaseUrul key as the currently configured channel, and when you run the command ***officec2rclient.exe /changesetting Channel=<channel>***, it is supposed to change the Office update channel in use, and this command does change the CDNBaseUrl value. However the update channel in use can also be configured via Office 365 Tenant and likely Intune. My previous thought and general consensus was that the UpdateChannel value was what was actually in use on the machine and overrode ...   \n",
       "2   GPO disables hibernation but doesn't delete hiberfil.sys. Windows 10 22H2\\n\\nI have a GPO that is intended to disable hibernation and delete the hibernation file. The following Policies are enabled:\\n\\n    Specify the system hibernate timeout (plugged in): 0\\n    Turn off hybrid sleep (on battery)\\n    Turn off hybrid sleep (plugged in)\\n\\nThis did not disable hibernation on some test machines, so I modified the GPO to set a couple of registry key values to 0:\\n\\n    /HKEY_LOCAL_MACHINE/SYSTEM/CurrentControlSet/Control/Power/HibernateEnabled\\n    /HKEY_LOCAL_MACHINE/SYSTEM/CurrentControlSet/Control/Power/HiberFileSizePercent\\n\\nSome testing showed that c:\\\\hiberfil.sys was still present and in use after `gpupdate /force` and a reboot, so I modified the GPO to also run a batch file on computers at startup.\\n\\n    @echo off\\n    \\n    powercfg -h off\\n    del c:\\hiberfil.sys\\n\\nAfter multiple reboots c:\\\\hiberfil.sys is still present. I can manually delete the file with no error, ind...   \n",
       "3   Blocking Windows 11 upgrade invites on 22h2 - GPO Registry Keys not appearing. Low tier technician assisting the sysadmin/webdev/dev (The IT guy, would be the best qualifier there, really).  \\nAt least he doesn't have to worry as much about support these days, but anyway.  \\nOur small but geographically spread out organization had a GPO targeting Win10 Pro 21h2, support ended this week, so we moved to 22h2. Two more years without getting new licenses at least.\\n\\nIt was the way upgrades to Win11 were blocked, so it's only a matter of time before users are prompted to upgrade.  \\nDid communicate on that, but would still rather block it org wide.  \\nIt is extremely annoying.  \\n\\n\\nThis thread I found seems to be the most helpful one.  \\n[https://community.syncromsp.com/t/decline-windows-11-upgrade/3744/8](https://community.syncromsp.com/t/decline-windows-11-upgrade/3744/8)\\n\\n  \\n**My issue :**\\n\\nRegistry Keys are not appearing / being modified, on Domain Computers, despite Domain ...   \n",
       "4                 Windows Kernel fix CVE-2023-32019 - fix disabled by default. As user /u/SusanBradleyPatcher noted in the monthly patch Tuesday megathread this patch is disabled by default - https://www.bleepingcomputer.com/news/security/microsoft-windows-kernel-cve-2023-32019-fix-is-disabled-by-default/\\n\\n\\nHas anyone enabled the patch? Did you notice any negative impacts once enabling the registry keys? \\n\\n*Depending on the Windows version running on your device, you will have to add the following under the HKEY_LOCAL_MACHINE\\SYSTEM\\CurrentControlSet\\Policies\\Microsoft\\FeatureManagement\\Overrides registry key:*\\n\\n* Windows 10 20H2, 21H2, 22H2: Add a new DWORD registry value named 4103588492 with a value data of 1\\n* Windows 11 21H2: Add a new DWORD registry value named 4204251788 with a value data of 1\\n* Windows 11 22H2: Add a new DWORD registry value named 4237806220 with a value data of 1\\n* Windows Server 2022: Add a new DWORD registry value named 4137142924 with a value data of   \n",
       "..                                                                                                                                                                                                                                                                                                                                                                                                                                                                                                                                                                                                                                                                                                                                                                                                                                                                                                                                                                                                                                      ...   \n",
       "10                                                                                                                                                                                                                                                                                                                                                                                                                                                                                                                                                       Hello is this pc good for gaming and streaming. \\nAMD Ryzen 9 5900X (3.70/4.80 GHz, 64M)\\nASUS GeForce RTX 3060 8GB Dual OC\\n2 x 16 GB DDR4 3200 MHz Silicon Power XPOWER Zenith RGB\\n250 GB SSD M.2 NVMe Silicon Power UD80, 1 TB SSD M.2 NVMe Silicon Power UD85\\nAMD 550\\nASUS TUF Gaming B550-PLUS wifi 2\\nCOUGAR Poseidon GT 240 \\n850 W Kolink Core 80 Plus \\n\\nIs this a good pc to invest, that i can do gaming and streaming or should i im for INTEL  \\n\\nIts a prebuilt   \n",
       "11                                                                                                                                                                                                                                                                                                GPU recommendations for 550W power supply, 1440p QHD. I am looking to upgrade my GPU from a GTX 1660 Super, running on a 1440p monitor with an AMD Ryzen 3600. I have a EVGA SuperNova G3 550W PSU that is 80Plus Gold rated so I was wondering what would be the most powerful GPU that you would recommend using without breaking the bank (or the PSU lol) and without too much bottleneck (I am happy to OC the CPU if necessary). Thanks\\n\\nFull PC specs below:\\n\\nRyzen 5 3600\\n\\nGigabyte GTX 1660 Super\\n\\nMSi X470 motherboard\\n\\n16gb Corsair DDR4 @ 3600MHz\\n\\nWD Blue SN550\\n\\nSanDisk Ultra Sata SSD\\n\\nSeagate 2TB HDD\\n\\n6xCooler Master Sickleflow 120mm fans (RGB)\\n\\nEVGA SuperNova 550\\n\\nMSi C27 1440p 144Hz monitor   \n",
       "12  GPU problem. Hello everyone.  \\n\\n\\nFirst off - I have minimal/none knowledge in Linux.\\n\\nI'll try to be short:\\n\\nFirst I had RX 550 GPU installed in my PC which I use solely for Batocera. Things were fine.  \\nThen, I wanted to connect PC to CRT TV and found a script online that automates the process but I had to get an older card, which I did.  \\n\\n\\nI got an HD 3850 and when I swapped cards I had this weird glitch on startup splash screen but when I entered main menu everything was fine so I brushed it off.\\n\\nWhen I booted up a PSX game I was also greeted with graphical glitches (see pictures please) which I had none with previous card.\\n\\nThe HD 3850 is not faulty because I also tested it on Windows and is working fine.  \\n\\n\\nAlso I have to mention that when I launch GPARTED Live USB with 3850 I get super low resolution with things half visible, but when I launch it with RX 550 the resolution is normal.  \\n\\n\\n  \\nSo this makes me think Linux doesn't like my older GPU?  \\n\\n...   \n",
       "13                                                                                                                                                                                                                                                                                                                         What's up w/ ConnectWise?. Initially we didn't think much of the rumors that ConnectWise is in talks with PE firms, but now I'm getting seriously worried. We just got invoiced for over $2,200 a month, when we were paying $550 - and without a contract renewal email or call or anything. We even got ACH debited and now we're trying to get this resolved and hitting nothing but dead ends. Our AM is non responsive... nobody from billing is getting back to me.\\n\\n  \\nThis is the last thing we need! I've had another buddy tell me they also can't get anyone to answer them. I'm really afraid this going to get worse and worse now. \\n\\n  \\nAnybody know what's going on or had a similar issue?   \n",
       "14                                                                                                                                                                                                                                                                                                                                                                                                                                                                                                                                                                                                                                                                  Samsung used to be my goto for drives, SD cards, and more. This is disgraceful. For a $550 USD SSD, the power lead is fully broken off, and the pins are bent to shit. The piece was not broken off in box, this had to have happened at the factory. Fix your shitty QA Samsung.. This isn't minor damage, it looked like it was drop kicked across the factory floor.   \n",
       "\n",
       "              keyword  \n",
       "0   Registry Run Keys  \n",
       "1   Registry Run Keys  \n",
       "2   Registry Run Keys  \n",
       "3   Registry Run Keys  \n",
       "4   Registry Run Keys  \n",
       "..                ...  \n",
       "10                550  \n",
       "11                550  \n",
       "12                550  \n",
       "13                550  \n",
       "14                550  \n",
       "\n",
       "[155 rows x 2 columns]"
      ]
     },
     "execution_count": 46,
     "metadata": {},
     "output_type": "execute_result"
    }
   ],
   "source": [
    "matches = pd.concat([matches1, matches2])\n",
    "matches"
   ]
  },
  {
   "cell_type": "code",
   "execution_count": 47,
   "id": "adb93597",
   "metadata": {},
   "outputs": [],
   "source": [
    "matches['keyword type'] = 'attack'"
   ]
  },
  {
   "cell_type": "code",
   "execution_count": 48,
   "id": "65ad27a3",
   "metadata": {},
   "outputs": [],
   "source": [
    "matches.to_csv(r'C:\\Users\\leona\\OneDrive\\Desktop\\Tesi\\Pipeline\\Datasets\\Pipeline\\SocialNetworksPosts\\Reddit\\Months\\12\\Posts_filteredby_Attacks.csv')"
   ]
  },
  {
   "cell_type": "markdown",
   "id": "e5891f03",
   "metadata": {},
   "source": [
    "### Malware names searching"
   ]
  },
  {
   "cell_type": "code",
   "execution_count": 67,
   "id": "153f5078",
   "metadata": {
    "scrolled": true
   },
   "outputs": [
    {
     "name": "stderr",
     "output_type": "stream",
     "text": [
      "Processing words:   0%|          | 0/56 [00:00<?, ?it/s]"
     ]
    },
    {
     "name": "stdout",
     "output_type": "stream",
     "text": [
      "Now: remcos \n"
     ]
    },
    {
     "name": "stderr",
     "output_type": "stream",
     "text": [
      "Processing posts: 100%|██████████| 22953/22953 [00:04<00:00, 5030.20it/s]\n",
      "Processing words:   2%|▏         | 1/56 [00:04<04:11,  4.57s/it]"
     ]
    },
    {
     "name": "stdout",
     "output_type": "stream",
     "text": [
      "Now: generic mg \n"
     ]
    },
    {
     "name": "stderr",
     "output_type": "stream",
     "text": [
      "Processing posts: 100%|██████████| 22953/22953 [00:05<00:00, 3881.75it/s]\n",
      "Processing words:   4%|▎         | 2/56 [00:10<04:49,  5.36s/it]"
     ]
    },
    {
     "name": "stdout",
     "output_type": "stream",
     "text": [
      "Now: njrat \n"
     ]
    },
    {
     "name": "stderr",
     "output_type": "stream",
     "text": [
      "Processing posts: 100%|██████████| 22953/22953 [00:04<00:00, 4802.51it/s]\n",
      "Processing words:   5%|▌         | 3/56 [00:15<04:30,  5.10s/it]"
     ]
    },
    {
     "name": "stdout",
     "output_type": "stream",
     "text": [
      "Now: bitrat \n"
     ]
    },
    {
     "name": "stderr",
     "output_type": "stream",
     "text": [
      "Processing posts: 100%|██████████| 22953/22953 [00:04<00:00, 4635.43it/s]\n",
      "Processing words:   7%|▋         | 4/56 [00:20<04:22,  5.05s/it]"
     ]
    },
    {
     "name": "stdout",
     "output_type": "stream",
     "text": [
      "Now: mirai \n"
     ]
    },
    {
     "name": "stderr",
     "output_type": "stream",
     "text": [
      "Processing posts: 100%|██████████| 22953/22953 [00:04<00:00, 4684.09it/s]\n",
      "Processing words:   9%|▉         | 5/56 [00:25<04:14,  5.00s/it]"
     ]
    },
    {
     "name": "stdout",
     "output_type": "stream",
     "text": [
      "Now: injector gen \n"
     ]
    },
    {
     "name": "stderr",
     "output_type": "stream",
     "text": [
      "Processing posts: 100%|██████████| 22953/22953 [00:05<00:00, 3935.48it/s]\n",
      "Processing words:  11%|█         | 6/56 [00:30<04:24,  5.28s/it]"
     ]
    },
    {
     "name": "stdout",
     "output_type": "stream",
     "text": [
      "Now: generickd \n"
     ]
    },
    {
     "name": "stderr",
     "output_type": "stream",
     "text": [
      "Processing posts: 100%|██████████| 22953/22953 [00:04<00:00, 4783.82it/s]\n",
      "Processing words:  12%|█▎        | 7/56 [00:35<04:11,  5.13s/it]"
     ]
    },
    {
     "name": "stdout",
     "output_type": "stream",
     "text": [
      "Now: quasar rat \n"
     ]
    },
    {
     "name": "stderr",
     "output_type": "stream",
     "text": [
      "Processing posts: 100%|██████████| 22953/22953 [00:04<00:00, 4684.43it/s]\n",
      "Processing words:  14%|█▍        | 8/56 [00:40<04:02,  5.06s/it]"
     ]
    },
    {
     "name": "stdout",
     "output_type": "stream",
     "text": [
      "Now: muldrop \n"
     ]
    },
    {
     "name": "stderr",
     "output_type": "stream",
     "text": [
      "Processing posts: 100%|██████████| 22953/22953 [00:04<00:00, 4915.92it/s]\n",
      "Processing words:  16%|█▌        | 9/56 [00:45<03:52,  4.94s/it]"
     ]
    },
    {
     "name": "stdout",
     "output_type": "stream",
     "text": [
      "Now: netwire \n"
     ]
    },
    {
     "name": "stderr",
     "output_type": "stream",
     "text": [
      "Processing posts: 100%|██████████| 22953/22953 [00:06<00:00, 3572.78it/s]\n",
      "Processing words:  18%|█▊        | 10/56 [00:51<04:08,  5.40s/it]"
     ]
    },
    {
     "name": "stdout",
     "output_type": "stream",
     "text": [
      "Now: ave maria \n"
     ]
    },
    {
     "name": "stderr",
     "output_type": "stream",
     "text": [
      "Processing posts: 100%|██████████| 22953/22953 [00:04<00:00, 4625.33it/s]\n",
      "Processing words:  20%|█▉        | 11/56 [00:56<03:57,  5.27s/it]"
     ]
    },
    {
     "name": "stdout",
     "output_type": "stream",
     "text": [
      "Now: script cryxos \n"
     ]
    },
    {
     "name": "stderr",
     "output_type": "stream",
     "text": [
      "Processing posts: 100%|██████████| 22953/22953 [00:04<00:00, 4839.54it/s]\n",
      "Processing words:  21%|██▏       | 12/56 [01:01<03:44,  5.11s/it]"
     ]
    },
    {
     "name": "stdout",
     "output_type": "stream",
     "text": [
      "Now: downloader gen \n"
     ]
    },
    {
     "name": "stderr",
     "output_type": "stream",
     "text": [
      "Processing posts: 100%|██████████| 22953/22953 [00:04<00:00, 5155.28it/s]\n",
      "Processing words:  23%|██▎       | 13/56 [01:05<03:31,  4.91s/it]"
     ]
    },
    {
     "name": "stdout",
     "output_type": "stream",
     "text": [
      "Now: orcus \n"
     ]
    },
    {
     "name": "stderr",
     "output_type": "stream",
     "text": [
      "Processing posts: 100%|██████████| 22953/22953 [00:04<00:00, 4731.27it/s]\n",
      "Processing words:  25%|██▌       | 14/56 [01:10<03:25,  4.90s/it]"
     ]
    },
    {
     "name": "stdout",
     "output_type": "stream",
     "text": [
      "Now: x gen drp \n"
     ]
    },
    {
     "name": "stderr",
     "output_type": "stream",
     "text": [
      "Processing posts: 100%|██████████| 22953/22953 [00:05<00:00, 3944.00it/s]\n",
      "Processing words:  27%|██▋       | 15/56 [01:16<03:32,  5.18s/it]"
     ]
    },
    {
     "name": "stdout",
     "output_type": "stream",
     "text": [
      "Now: agent tesla \n"
     ]
    },
    {
     "name": "stderr",
     "output_type": "stream",
     "text": [
      "Processing posts: 100%|██████████| 22953/22953 [00:04<00:00, 5032.82it/s]\n",
      "Processing words:  29%|██▊       | 16/56 [01:21<03:19,  4.99s/it]"
     ]
    },
    {
     "name": "stdout",
     "output_type": "stream",
     "text": [
      "Now: nanocore rat \n"
     ]
    },
    {
     "name": "stderr",
     "output_type": "stream",
     "text": [
      "Processing posts: 100%|██████████| 22953/22953 [00:04<00:00, 4978.58it/s]\n",
      "Processing words:  30%|███       | 17/56 [01:25<03:10,  4.88s/it]"
     ]
    },
    {
     "name": "stdout",
     "output_type": "stream",
     "text": [
      "Now: redline stealer \n"
     ]
    },
    {
     "name": "stderr",
     "output_type": "stream",
     "text": [
      "Processing posts: 100%|██████████| 22953/22953 [00:04<00:00, 4665.05it/s]\n",
      "Processing words:  32%|███▏      | 18/56 [01:30<03:05,  4.89s/it]"
     ]
    },
    {
     "name": "stdout",
     "output_type": "stream",
     "text": [
      "Now: lumma stealer \n"
     ]
    },
    {
     "name": "stderr",
     "output_type": "stream",
     "text": [
      "Processing posts: 100%|██████████| 22953/22953 [00:04<00:00, 4765.76it/s]\n",
      "Processing words:  34%|███▍      | 19/56 [01:35<03:00,  4.88s/it]"
     ]
    },
    {
     "name": "stdout",
     "output_type": "stream",
     "text": [
      "Now: siggen \n"
     ]
    },
    {
     "name": "stderr",
     "output_type": "stream",
     "text": [
      "Processing posts: 100%|██████████| 22953/22953 [00:04<00:00, 5061.81it/s]\n",
      "Processing words:  36%|███▌      | 20/56 [01:40<02:51,  4.77s/it]"
     ]
    },
    {
     "name": "stdout",
     "output_type": "stream",
     "text": [
      "Now: spynote \n"
     ]
    },
    {
     "name": "stderr",
     "output_type": "stream",
     "text": [
      "Processing posts: 100%|██████████| 22953/22953 [00:04<00:00, 4939.94it/s]\n",
      "Processing words:  38%|███▊      | 21/56 [01:44<02:45,  4.74s/it]"
     ]
    },
    {
     "name": "stdout",
     "output_type": "stream",
     "text": [
      "Now: kryptik gen \n"
     ]
    },
    {
     "name": "stderr",
     "output_type": "stream",
     "text": [
      "Processing posts: 100%|██████████| 22953/22953 [00:06<00:00, 3359.31it/s]\n",
      "Processing words:  39%|███▉      | 22/56 [01:51<03:02,  5.37s/it]"
     ]
    },
    {
     "name": "stdout",
     "output_type": "stream",
     "text": [
      "Now: obfus \n"
     ]
    },
    {
     "name": "stderr",
     "output_type": "stream",
     "text": [
      "Processing posts: 100%|██████████| 22953/22953 [00:04<00:00, 4871.98it/s]\n",
      "Processing words:  41%|████      | 23/56 [01:56<02:50,  5.18s/it]"
     ]
    },
    {
     "name": "stdout",
     "output_type": "stream",
     "text": [
      "Now: kryptik gen eldorado \n"
     ]
    },
    {
     "name": "stderr",
     "output_type": "stream",
     "text": [
      "Processing posts: 100%|██████████| 22953/22953 [00:04<00:00, 4787.81it/s]\n",
      "Processing words:  43%|████▎     | 24/56 [02:01<02:42,  5.06s/it]"
     ]
    },
    {
     "name": "stdout",
     "output_type": "stream",
     "text": [
      "Now: valyria \n"
     ]
    },
    {
     "name": "stderr",
     "output_type": "stream",
     "text": [
      "Processing posts: 100%|██████████| 22953/22953 [00:04<00:00, 4766.60it/s]\n",
      "Processing words:  45%|████▍     | 25/56 [02:06<02:34,  4.99s/it]"
     ]
    },
    {
     "name": "stdout",
     "output_type": "stream",
     "text": [
      "Now: artemis \n"
     ]
    },
    {
     "name": "stderr",
     "output_type": "stream",
     "text": [
      "Processing posts: 100%|██████████| 22953/22953 [00:04<00:00, 4907.28it/s]\n",
      "Processing words:  46%|████▋     | 26/56 [02:10<02:26,  4.90s/it]"
     ]
    },
    {
     "name": "stdout",
     "output_type": "stream",
     "text": [
      "Now: twave evil \n"
     ]
    },
    {
     "name": "stderr",
     "output_type": "stream",
     "text": [
      "Processing posts: 100%|██████████| 22953/22953 [00:04<00:00, 5021.01it/s]\n",
      "Processing words:  48%|████▊     | 27/56 [02:15<02:19,  4.81s/it]"
     ]
    },
    {
     "name": "stdout",
     "output_type": "stream",
     "text": [
      "Now: java gen \n"
     ]
    },
    {
     "name": "stderr",
     "output_type": "stream",
     "text": [
      "Processing posts: 100%|██████████| 22953/22953 [00:04<00:00, 4905.31it/s]\n",
      "Processing words:  50%|█████     | 28/56 [02:19<02:13,  4.77s/it]"
     ]
    },
    {
     "name": "stdout",
     "output_type": "stream",
     "text": [
      "Now: borlanddelphi \n"
     ]
    },
    {
     "name": "stderr",
     "output_type": "stream",
     "text": [
      "Processing posts: 100%|██████████| 22953/22953 [00:04<00:00, 4705.90it/s]\n",
      "Processing words:  52%|█████▏    | 29/56 [02:24<02:09,  4.81s/it]"
     ]
    },
    {
     "name": "stdout",
     "output_type": "stream",
     "text": [
      "Now: cobalt strike \n"
     ]
    },
    {
     "name": "stderr",
     "output_type": "stream",
     "text": [
      "Processing posts: 100%|██████████| 22953/22953 [00:07<00:00, 3052.19it/s]\n",
      "Processing words:  54%|█████▎    | 30/56 [02:32<02:26,  5.62s/it]"
     ]
    },
    {
     "name": "stdout",
     "output_type": "stream",
     "text": [
      "Now: aidetect net \n"
     ]
    },
    {
     "name": "stderr",
     "output_type": "stream",
     "text": [
      "Processing posts: 100%|██████████| 22953/22953 [00:04<00:00, 4817.43it/s]\n",
      "Processing words:  55%|█████▌    | 31/56 [02:37<02:14,  5.37s/it]"
     ]
    },
    {
     "name": "stdout",
     "output_type": "stream",
     "text": [
      "Now: miscreantpunch \n"
     ]
    },
    {
     "name": "stderr",
     "output_type": "stream",
     "text": [
      "Processing posts: 100%|██████████| 22953/22953 [00:05<00:00, 4509.62it/s]\n",
      "Processing words:  57%|█████▋    | 32/56 [02:42<02:06,  5.29s/it]"
     ]
    },
    {
     "name": "stdout",
     "output_type": "stream",
     "text": [
      "Now: perseus \n"
     ]
    },
    {
     "name": "stderr",
     "output_type": "stream",
     "text": [
      "Processing posts: 100%|██████████| 22953/22953 [00:06<00:00, 3776.32it/s]\n",
      "Processing words:  59%|█████▉    | 33/56 [02:48<02:07,  5.53s/it]"
     ]
    },
    {
     "name": "stdout",
     "output_type": "stream",
     "text": [
      "Now: behaveslike generic \n"
     ]
    },
    {
     "name": "stderr",
     "output_type": "stream",
     "text": [
      "Processing posts: 100%|██████████| 22953/22953 [00:05<00:00, 4108.03it/s]\n",
      "Processing words:  61%|██████    | 34/56 [02:53<02:02,  5.55s/it]"
     ]
    },
    {
     "name": "stdout",
     "output_type": "stream",
     "text": [
      "Now: heracles \n"
     ]
    },
    {
     "name": "stderr",
     "output_type": "stream",
     "text": [
      "Processing posts: 100%|██████████| 22953/22953 [00:05<00:00, 4024.78it/s]\n",
      "Processing words:  62%|██████▎   | 35/56 [02:59<01:57,  5.60s/it]"
     ]
    },
    {
     "name": "stdout",
     "output_type": "stream",
     "text": [
      "Now: darkcomet \n"
     ]
    },
    {
     "name": "stderr",
     "output_type": "stream",
     "text": [
      "Processing posts: 100%|██████████| 22953/22953 [00:05<00:00, 3925.80it/s]\n",
      "Processing words:  64%|██████▍   | 36/56 [03:05<01:53,  5.67s/it]"
     ]
    },
    {
     "name": "stdout",
     "output_type": "stream",
     "text": [
      "Now: crypter gen \n"
     ]
    },
    {
     "name": "stderr",
     "output_type": "stream",
     "text": [
      "Processing posts: 100%|██████████| 22953/22953 [00:06<00:00, 3735.99it/s]\n",
      "Processing words:  66%|██████▌   | 37/56 [03:11<01:50,  5.82s/it]"
     ]
    },
    {
     "name": "stdout",
     "output_type": "stream",
     "text": [
      "Now: wannacryptor \n"
     ]
    },
    {
     "name": "stderr",
     "output_type": "stream",
     "text": [
      "Processing posts: 100%|██████████| 22953/22953 [00:05<00:00, 3977.00it/s]\n",
      "Processing words:  68%|██████▊   | 38/56 [03:17<01:44,  5.81s/it]"
     ]
    },
    {
     "name": "stdout",
     "output_type": "stream",
     "text": [
      "Now: formbook \n"
     ]
    },
    {
     "name": "stderr",
     "output_type": "stream",
     "text": [
      "Processing posts: 100%|██████████| 22953/22953 [00:05<00:00, 3887.51it/s]\n",
      "Processing words:  70%|██████▉   | 39/56 [03:23<01:39,  5.84s/it]"
     ]
    },
    {
     "name": "stdout",
     "output_type": "stream",
     "text": [
      "Now: azorult \n"
     ]
    },
    {
     "name": "stderr",
     "output_type": "stream",
     "text": [
      "Processing posts: 100%|██████████| 22953/22953 [00:06<00:00, 3742.71it/s]\n",
      "Processing words:  71%|███████▏  | 40/56 [03:29<01:34,  5.93s/it]"
     ]
    },
    {
     "name": "stdout",
     "output_type": "stream",
     "text": [
      "Now: genmalicious \n"
     ]
    },
    {
     "name": "stderr",
     "output_type": "stream",
     "text": [
      "Processing posts: 100%|██████████| 22953/22953 [00:08<00:00, 2809.64it/s]\n",
      "Processing words:  73%|███████▎  | 41/56 [03:37<01:39,  6.60s/it]"
     ]
    },
    {
     "name": "stdout",
     "output_type": "stream",
     "text": [
      "Now: bv downloader drp \n"
     ]
    },
    {
     "name": "stderr",
     "output_type": "stream",
     "text": [
      "Processing posts: 100%|██████████| 22953/22953 [00:04<00:00, 4670.22it/s]\n",
      "Processing words:  75%|███████▌  | 42/56 [03:42<01:25,  6.10s/it]"
     ]
    },
    {
     "name": "stdout",
     "output_type": "stream",
     "text": [
      "Now: evo gen \n"
     ]
    },
    {
     "name": "stderr",
     "output_type": "stream",
     "text": [
      "Processing posts: 100%|██████████| 22953/22953 [00:04<00:00, 4665.03it/s]\n",
      "Processing words:  77%|███████▋  | 43/56 [03:47<01:14,  5.75s/it]"
     ]
    },
    {
     "name": "stdout",
     "output_type": "stream",
     "text": [
      "Now: ddos \n"
     ]
    },
    {
     "name": "stderr",
     "output_type": "stream",
     "text": [
      "Processing posts: 100%|██████████| 22953/22953 [00:06<00:00, 3765.42it/s]\n",
      "Processing words:  79%|███████▊  | 44/56 [03:53<01:10,  5.85s/it]"
     ]
    },
    {
     "name": "stdout",
     "output_type": "stream",
     "text": [
      "Now: gafgyt \n"
     ]
    },
    {
     "name": "stderr",
     "output_type": "stream",
     "text": [
      "Processing posts: 100%|██████████| 22953/22953 [00:05<00:00, 3909.43it/s]\n",
      "Processing words:  80%|████████  | 45/56 [03:59<01:04,  5.86s/it]"
     ]
    },
    {
     "name": "stdout",
     "output_type": "stream",
     "text": [
      "Now: keylogger gen \n"
     ]
    },
    {
     "name": "stderr",
     "output_type": "stream",
     "text": [
      "Processing posts: 100%|██████████| 22953/22953 [00:05<00:00, 4047.77it/s]\n",
      "Processing words:  82%|████████▏ | 46/56 [04:05<00:58,  5.81s/it]"
     ]
    },
    {
     "name": "stdout",
     "output_type": "stream",
     "text": [
      "Now: cve exploit \n"
     ]
    },
    {
     "name": "stderr",
     "output_type": "stream",
     "text": [
      "Processing posts: 100%|██████████| 22953/22953 [00:06<00:00, 3791.67it/s]\n",
      "Processing words:  84%|████████▍ | 47/56 [04:11<00:52,  5.88s/it]"
     ]
    },
    {
     "name": "stdout",
     "output_type": "stream",
     "text": [
      "Now: banker gen \n"
     ]
    },
    {
     "name": "stderr",
     "output_type": "stream",
     "text": [
      "Processing posts: 100%|██████████| 22953/22953 [00:06<00:00, 3602.57it/s]\n",
      "Processing words:  86%|████████▌ | 48/56 [04:17<00:48,  6.03s/it]"
     ]
    },
    {
     "name": "stdout",
     "output_type": "stream",
     "text": [
      "Now: autoit \n"
     ]
    },
    {
     "name": "stderr",
     "output_type": "stream",
     "text": [
      "Processing posts: 100%|██████████| 22953/22953 [00:06<00:00, 3282.45it/s]\n",
      "Processing words:  88%|████████▊ | 49/56 [04:24<00:44,  6.32s/it]"
     ]
    },
    {
     "name": "stdout",
     "output_type": "stream",
     "text": [
      "Now: exploitx \n"
     ]
    },
    {
     "name": "stderr",
     "output_type": "stream",
     "text": [
      "Processing posts: 100%|██████████| 22953/22953 [00:05<00:00, 4039.71it/s]\n",
      "Processing words:  89%|████████▉ | 50/56 [04:30<00:36,  6.13s/it]"
     ]
    },
    {
     "name": "stdout",
     "output_type": "stream",
     "text": [
      "Now: coinminer generic \n"
     ]
    },
    {
     "name": "stderr",
     "output_type": "stream",
     "text": [
      "Processing posts: 100%|██████████| 22953/22953 [00:04<00:00, 5015.44it/s]\n",
      "Processing words:  91%|█████████ | 51/56 [04:34<00:28,  5.67s/it]"
     ]
    },
    {
     "name": "stdout",
     "output_type": "stream",
     "text": [
      "Now: loki password stealer  pws \n"
     ]
    },
    {
     "name": "stderr",
     "output_type": "stream",
     "text": [
      "Processing posts: 100%|██████████| 22953/22953 [00:04<00:00, 4842.01it/s]\n",
      "Processing words:  93%|█████████▎| 52/56 [04:39<00:21,  5.39s/it]"
     ]
    },
    {
     "name": "stdout",
     "output_type": "stream",
     "text": [
      "Now: meterpreter \n"
     ]
    },
    {
     "name": "stderr",
     "output_type": "stream",
     "text": [
      "Processing posts: 100%|██████████| 22953/22953 [00:04<00:00, 4697.01it/s]\n",
      "Processing words:  95%|█████████▍| 53/56 [04:44<00:15,  5.24s/it]"
     ]
    },
    {
     "name": "stdout",
     "output_type": "stream",
     "text": [
      "Now: crimson rat \n"
     ]
    },
    {
     "name": "stderr",
     "output_type": "stream",
     "text": [
      "Processing posts: 100%|██████████| 22953/22953 [00:08<00:00, 2697.06it/s]\n",
      "Processing words:  96%|█████████▋| 54/56 [04:53<00:12,  6.23s/it]"
     ]
    },
    {
     "name": "stdout",
     "output_type": "stream",
     "text": [
      "Now: nanobot \n"
     ]
    },
    {
     "name": "stderr",
     "output_type": "stream",
     "text": [
      "Processing posts: 100%|██████████| 22953/22953 [00:04<00:00, 4665.65it/s]\n",
      "Processing words:  98%|█████████▊| 55/56 [04:58<00:05,  5.84s/it]"
     ]
    },
    {
     "name": "stdout",
     "output_type": "stream",
     "text": [
      "Now: ghost rat \n"
     ]
    },
    {
     "name": "stderr",
     "output_type": "stream",
     "text": [
      "Processing posts: 100%|██████████| 22953/22953 [00:05<00:00, 4439.77it/s]\n",
      "Processing words: 100%|██████████| 56/56 [05:03<00:00,  5.41s/it]\n"
     ]
    }
   ],
   "source": [
    "merged_matches = pd.DataFrame()\n",
    "\n",
    "merged_matches = malware_search( all_malware_list , selected_rows)"
   ]
  },
  {
   "cell_type": "code",
   "execution_count": 68,
   "id": "109210c2",
   "metadata": {},
   "outputs": [
    {
     "data": {
      "text/html": [
       "<div>\n",
       "<style scoped>\n",
       "    .dataframe tbody tr th:only-of-type {\n",
       "        vertical-align: middle;\n",
       "    }\n",
       "\n",
       "    .dataframe tbody tr th {\n",
       "        vertical-align: top;\n",
       "    }\n",
       "\n",
       "    .dataframe thead th {\n",
       "        text-align: right;\n",
       "    }\n",
       "</style>\n",
       "<table border=\"1\" class=\"dataframe\">\n",
       "  <thead>\n",
       "    <tr style=\"text-align: right;\">\n",
       "      <th></th>\n",
       "      <th>index</th>\n",
       "      <th>subreddit</th>\n",
       "      <th>username</th>\n",
       "      <th>date</th>\n",
       "      <th>title</th>\n",
       "      <th>text</th>\n",
       "    </tr>\n",
       "  </thead>\n",
       "  <tbody>\n",
       "    <tr>\n",
       "      <th>0</th>\n",
       "      <td>203559</td>\n",
       "      <td>msp</td>\n",
       "      <td>t3_14ndgap</td>\n",
       "      <td>2023-06-30</td>\n",
       "      <td>Obfuscate passwords for techs via password managers?</td>\n",
       "      <td>Lots of posts on password managers (currently use Bitwarden), but I am failing to find the solution for password management obfuscation for techs.\\n\\nThe Problem: All techs need access to 'crown jewel' passwords for our techs. GDAP for Microsoft is too feature limiting for our client base on the agility we need and we put security in place to CYA on this but, also is just MS using this partner portal. We have many vendors we want to employ this for. We are looking to avoid if a privileged or tenured tech leaves, we have to change the 'it' privileged account for each client so they don't have these when outside of the company.\\n\\nMy theory is that is would be great to supply the techs access to all passwords, but they can autofill with the password obfuscated. The tech wouldn't need to SEE the password, just fill it via the program. This way they can have access to everything and upon departure, have nothing they could take with them.\\n\\nIs this a product that exists that does that?...</td>\n",
       "    </tr>\n",
       "    <tr>\n",
       "      <th>1</th>\n",
       "      <td>203566</td>\n",
       "      <td>Android</td>\n",
       "      <td>t3_14nda0y</td>\n",
       "      <td>2023-06-30</td>\n",
       "      <td>Anyone else notice how terrible the official Reddit app is for Android?</td>\n",
       "      <td>Curious if anyone knows of any alternatives?</td>\n",
       "    </tr>\n",
       "    <tr>\n",
       "      <th>2</th>\n",
       "      <td>203570</td>\n",
       "      <td>gis</td>\n",
       "      <td>t3_14nd99m</td>\n",
       "      <td>2023-06-30</td>\n",
       "      <td>If you could write your own geospatial job description...</td>\n",
       "      <td>My workplace (where GIS is only a small aspect of the overall agency but supports other departments) is rewriting job descriptions and I'm looking to define the line between GIS Analyst and GIS Manager (and probably Tech eventually). I know there are tons of industry/business/agency specific tasks but, in general, how would you differentiate those? I know the obvious is supervision of staff but I think there would be more than that. Part of the current issue is that our existing job descriptions are disfunctionally broad and I'm trying to see how others narrow responsibilities and tasks down.</td>\n",
       "    </tr>\n",
       "    <tr>\n",
       "      <th>3</th>\n",
       "      <td>203573</td>\n",
       "      <td>webdev</td>\n",
       "      <td>t3_14nd9x4</td>\n",
       "      <td>2023-06-30</td>\n",
       "      <td>Those who have transitioned from being employee to freelancer, do you feel much better?</td>\n",
       "      <td>Hello everyone\\n\\nSo about a year ago, I wanted to make a transition from being a full-time employee to being a freelancer. First I've created many social media accounts, spread my business word-by-mouth and developed my own [website](https://webdevamin.com). I have to say that I am really happy I've took the step. To up til now I've had way better results when it comes to developing websites and web applications compared to being an employee: better performance, speed, accessibility, less bugs, etc. I'm just more productive doing freelancing. And normally, being happy makes a human more productive. Compared to being an employee, I feel like I am doing true craftsmanship: building apps for my clients from zero to the last feature. And later on extending them even more. And I am not only talking about making simple websites with WordPress. Some of my mid-large sized projects are custom made with code like Next.js and Laravel. I like to keep my clients under contact so they always co...</td>\n",
       "    </tr>\n",
       "    <tr>\n",
       "      <th>4</th>\n",
       "      <td>203581</td>\n",
       "      <td>linux4noobs</td>\n",
       "      <td>t3_14nd981</td>\n",
       "      <td>2023-06-30</td>\n",
       "      <td>Kde panel without kde plasma?</td>\n",
       "      <td>Or at least make cario or any alternatives kde like panel?</td>\n",
       "    </tr>\n",
       "  </tbody>\n",
       "</table>\n",
       "</div>"
      ],
      "text/plain": [
       "    index    subreddit    username        date  \\\n",
       "0  203559          msp  t3_14ndgap  2023-06-30   \n",
       "1  203566      Android  t3_14nda0y  2023-06-30   \n",
       "2  203570          gis  t3_14nd99m  2023-06-30   \n",
       "3  203573       webdev  t3_14nd9x4  2023-06-30   \n",
       "4  203581  linux4noobs  t3_14nd981  2023-06-30   \n",
       "\n",
       "                                                                                     title  \\\n",
       "0                                     Obfuscate passwords for techs via password managers?   \n",
       "1                  Anyone else notice how terrible the official Reddit app is for Android?   \n",
       "2                                If you could write your own geospatial job description...   \n",
       "3  Those who have transitioned from being employee to freelancer, do you feel much better?   \n",
       "4                                                            Kde panel without kde plasma?   \n",
       "\n",
       "                                                                                                                                                                                                                                                                                                                                                                                                                                                                                                                                                                                                                                                                                                                                                                                                                                                                                                                                                                                                                                      text  \n",
       "0  Lots of posts on password managers (currently use Bitwarden), but I am failing to find the solution for password management obfuscation for techs.\\n\\nThe Problem: All techs need access to 'crown jewel' passwords for our techs. GDAP for Microsoft is too feature limiting for our client base on the agility we need and we put security in place to CYA on this but, also is just MS using this partner portal. We have many vendors we want to employ this for. We are looking to avoid if a privileged or tenured tech leaves, we have to change the 'it' privileged account for each client so they don't have these when outside of the company.\\n\\nMy theory is that is would be great to supply the techs access to all passwords, but they can autofill with the password obfuscated. The tech wouldn't need to SEE the password, just fill it via the program. This way they can have access to everything and upon departure, have nothing they could take with them.\\n\\nIs this a product that exists that does that?...  \n",
       "1                                                                                                                                                                                                                                                                                                                                                                                                                                                                                                                                                                                                                                                                                                                                                                                                                                                                                                                                                                                             Curious if anyone knows of any alternatives?  \n",
       "2                                                                                                                                                                                                                                                                                                                                                                                                                  My workplace (where GIS is only a small aspect of the overall agency but supports other departments) is rewriting job descriptions and I'm looking to define the line between GIS Analyst and GIS Manager (and probably Tech eventually). I know there are tons of industry/business/agency specific tasks but, in general, how would you differentiate those? I know the obvious is supervision of staff but I think there would be more than that. Part of the current issue is that our existing job descriptions are disfunctionally broad and I'm trying to see how others narrow responsibilities and tasks down.  \n",
       "3  Hello everyone\\n\\nSo about a year ago, I wanted to make a transition from being a full-time employee to being a freelancer. First I've created many social media accounts, spread my business word-by-mouth and developed my own [website](https://webdevamin.com). I have to say that I am really happy I've took the step. To up til now I've had way better results when it comes to developing websites and web applications compared to being an employee: better performance, speed, accessibility, less bugs, etc. I'm just more productive doing freelancing. And normally, being happy makes a human more productive. Compared to being an employee, I feel like I am doing true craftsmanship: building apps for my clients from zero to the last feature. And later on extending them even more. And I am not only talking about making simple websites with WordPress. Some of my mid-large sized projects are custom made with code like Next.js and Laravel. I like to keep my clients under contact so they always co...  \n",
       "4                                                                                                                                                                                                                                                                                                                                                                                                                                                                                                                                                                                                                                                                                                                                                                                                                                                                                                                                                                               Or at least make cario or any alternatives kde like panel?  "
      ]
     },
     "execution_count": 68,
     "metadata": {},
     "output_type": "execute_result"
    }
   ],
   "source": [
    "selected_rows.head()"
   ]
  },
  {
   "cell_type": "code",
   "execution_count": 69,
   "id": "4a8ea30e",
   "metadata": {},
   "outputs": [],
   "source": [
    "merged_matches['keyword type'] = 'malware'"
   ]
  },
  {
   "cell_type": "code",
   "execution_count": 70,
   "id": "18df3680",
   "metadata": {},
   "outputs": [],
   "source": [
    "merged_matches.to_csv(r'C:\\Users\\leona\\OneDrive\\Desktop\\Tesi\\Pipeline\\Datasets\\Pipeline\\SocialNetworksPosts\\Reddit\\Months\\12\\Posts_filteredby_Malwares.csv')"
   ]
  },
  {
   "cell_type": "markdown",
   "id": "044f7c05",
   "metadata": {},
   "source": [
    "### Malwares Types names searching"
   ]
  },
  {
   "cell_type": "code",
   "execution_count": 55,
   "id": "8b8e9e3b",
   "metadata": {},
   "outputs": [
    {
     "name": "stderr",
     "output_type": "stream",
     "text": [
      "Processing posts: 22953it [00:02, 11148.02it/s]\n",
      "Processing posts: 22953it [00:02, 11077.61it/s]\n",
      "Processing posts: 22953it [00:02, 10740.08it/s]\n",
      "Processing posts: 22953it [00:01, 12013.99it/s]\n",
      "Processing posts: 22953it [00:01, 12088.40it/s]\n",
      "Processing posts: 22953it [00:01, 11484.98it/s]\n",
      "Processing posts: 22953it [00:02, 11163.45it/s]\n",
      "Processing posts: 22953it [00:02, 10704.45it/s]\n",
      "Processing posts: 22953it [00:02, 11453.05it/s]\n",
      "Processing posts: 22953it [00:02, 10099.40it/s]\n",
      "Processing posts: 22953it [00:02, 11026.25it/s]\n",
      "Processing posts: 11it [00:22,  2.07s/it]\n"
     ]
    }
   ],
   "source": [
    "malware_types_matches = pd.DataFrame()\n",
    "\n",
    "malware_types_matches = stemming_and_matching( all_malware_types_list , selected_rows)"
   ]
  },
  {
   "cell_type": "code",
   "execution_count": 56,
   "id": "bafd2099",
   "metadata": {},
   "outputs": [],
   "source": [
    "malware_types_matches['keyword type'] = 'malware type'"
   ]
  },
  {
   "cell_type": "code",
   "execution_count": 57,
   "id": "ad849baa",
   "metadata": {},
   "outputs": [],
   "source": [
    "malware_types_matches.to_csv(r'C:\\Users\\leona\\OneDrive\\Desktop\\Tesi\\Pipeline\\Datasets\\Pipeline\\SocialNetworksPosts\\Reddit\\Months\\12\\Posts_filteredby_MalwareType.csv')"
   ]
  },
  {
   "cell_type": "code",
   "execution_count": null,
   "id": "07395741",
   "metadata": {},
   "outputs": [],
   "source": []
  },
  {
   "cell_type": "markdown",
   "id": "65b2236f",
   "metadata": {},
   "source": [
    "### Operative System names search"
   ]
  },
  {
   "cell_type": "code",
   "execution_count": 58,
   "id": "a528e057",
   "metadata": {},
   "outputs": [
    {
     "name": "stderr",
     "output_type": "stream",
     "text": [
      "Processing posts: 22953it [00:01, 11922.11it/s]\n",
      "Processing posts: 22953it [00:02, 11226.62it/s]\n",
      "Processing posts: 22953it [00:01, 11866.35it/s]\n",
      "Processing posts: 3it [00:05,  1.98s/it]\n"
     ]
    }
   ],
   "source": [
    "words_matches = pd.DataFrame()\n",
    "\n",
    "words_matches = stemming_and_matching( all_delivery_method_list , selected_rows)"
   ]
  },
  {
   "cell_type": "code",
   "execution_count": 59,
   "id": "86b7b0a3",
   "metadata": {},
   "outputs": [
    {
     "data": {
      "text/html": [
       "<div>\n",
       "<style scoped>\n",
       "    .dataframe tbody tr th:only-of-type {\n",
       "        vertical-align: middle;\n",
       "    }\n",
       "\n",
       "    .dataframe tbody tr th {\n",
       "        vertical-align: top;\n",
       "    }\n",
       "\n",
       "    .dataframe thead th {\n",
       "        text-align: right;\n",
       "    }\n",
       "</style>\n",
       "<table border=\"1\" class=\"dataframe\">\n",
       "  <thead>\n",
       "    <tr style=\"text-align: right;\">\n",
       "      <th></th>\n",
       "      <th>full_text</th>\n",
       "      <th>keyword</th>\n",
       "    </tr>\n",
       "  </thead>\n",
       "  <tbody>\n",
       "    <tr>\n",
       "      <th>0</th>\n",
       "      <td>Sending accessToken from backend api route to frontend when logging in with passportjs (microsoft strategy). Hi.  So I have a full stack app (vue frontend, express rest api backend) and I want to log into the vue frontend using an authentication endpoint on my backend.  It's an internal application so I want to use OAuth to let users log in with their Microsoft 365 accounts.  On the backend I have `passportjs` setup with the `passport-microsoft` strategy.  Technically it works, I can open my browser and enter the url end point I've setup on my backend (.../api/auth/microsoft).  I can log in with Microsoft and it calls the callback function configured (.../api/auth/microsoft/callback).  It will then check my database to see if the user has logged in before, if not it will create the user.  Then when (or if) the user exists, it stores the session in my database (using `express-session`).  Since I'm calling the route directly in the browser it just returns a JSON object with a success...</td>\n",
       "      <td>email attachment</td>\n",
       "    </tr>\n",
       "    <tr>\n",
       "      <th>1</th>\n",
       "      <td>I think I'm being targeted?. Dear u/daddy_spez\\n\\nSomeone tried to log into a Venmo account of mine 3 days ago. I didn't do anything because I can't even log into it, the attached phone number is disconnected. Today I got a notification at 3AM that someone attempted to log into one of my Gmail accounts, so I changed the password. At 6PM someone tried to log into the Microsoft account attached to a completely different Gmail. It provided their IP, it was a VPN connected to Chicago.\\n\\nI checked haveibeenpwned and neither account was involved in a recent data breach. A couple months ago, someone also accessed my Gmail and Google Drive for one of those emails, and I changed the password.\\n\\nI scanned with Malwarebytes and no viruses were detected. I also use an iPhone. I don't think they can be infected with RATs or anything similar, but feel free to correct me if I'm wrong.</td>\n",
       "      <td>email attachment</td>\n",
       "    </tr>\n",
       "    <tr>\n",
       "      <th>2</th>\n",
       "      <td>Pre-job offer deliverables. Hello, I've been trying to apply for remote assistant positions, and I applied to one and now I have a ton of deliverables to give out before the interview. I don't know if this is weird way to test your skills or if this is just a straight up scam where they make you do free labor. \\n\\nNote: I've completed a skills assessment test before this, and went through an online screening application before they sent the email \\n\\nThe photo attached are the details of the deliverables but they seem a bit exorbitant?</td>\n",
       "      <td>email attachment</td>\n",
       "    </tr>\n",
       "    <tr>\n",
       "      <th>3</th>\n",
       "      <td>Mbox file access for users on local network. Hi all,  \\n\\n\\nIn my company we use google workspace. When a user leaves I close their account and export all their emails as an mbox file which I then archive. \\n\\nOccasionally I get requests to go looking inside those old employee emails so I end up downloading the corresponding mbox file, opening it in thunderbird on my local machine and fulfilling my request that way.I don't then share these files and attach them to mail accounts as the old users emails and the new users emails become intermingled and it's been a mess in the past to find stuff when needed.  \\n\\n\\nIs there some smarter way to manage these emails such that I can make the right defunct-user-accounts emails available to the right users at the right time? I'd love to do it without installing thunderbird on every users computer.  \\n\\n\\nI've been thinking about how I can use our synology nas to host something that can be accessed on the network by users with the appropriate...</td>\n",
       "      <td>email attachment</td>\n",
       "    </tr>\n",
       "    <tr>\n",
       "      <th>4</th>\n",
       "      <td>How to forward spam to SpamCop.net with procmail. From https://de.wikipedia.org/wiki/Procmail\\r  \\n\\r  \\n`:0fw`\\r  \\n`| /usr/bin/spamassassin`\\r  \\n\\r  \\n`:0H`\\r  \\n`* ^X-Spam-Level: \\*\\*\\*\\*\\*\\*\\*\\*\\*\\*`\\r  \\n`/dev/null`\\r  \\n\\r  \\n`:0H:`\\r  \\n`* ^X-Spam-Status: Yes`\\r  \\n`./Spam`\\r  \\n\\n\\nI would like to complement the move to /dev/null with a forward to submit.\\[id\\]@spam.spamcop.net.\\r  \\n\\r  \\nI have only found simple forwarding as an action (!). But Spamcop also needs the headers, so I would have to create an empty email with the email as attachment.\\r  \\n\\r  \\n`{`\\r  \\n`:0 c`\\r  \\n`! submit.[id]@spam.spamcop.net`\\r  \\n\\r  \\n`:0`\\r  \\n`/dev/null`\\r  \\n`}`</td>\n",
       "      <td>email attachment</td>\n",
       "    </tr>\n",
       "  </tbody>\n",
       "</table>\n",
       "</div>"
      ],
      "text/plain": [
       "                                                                                                                                                                                                                                                                                                                                                                                                                                                                                                                                                                                                                                                                                                                                                                                                                                                                                                                                                                                                                                 full_text  \\\n",
       "0  Sending accessToken from backend api route to frontend when logging in with passportjs (microsoft strategy). Hi.  So I have a full stack app (vue frontend, express rest api backend) and I want to log into the vue frontend using an authentication endpoint on my backend.  It's an internal application so I want to use OAuth to let users log in with their Microsoft 365 accounts.  On the backend I have `passportjs` setup with the `passport-microsoft` strategy.  Technically it works, I can open my browser and enter the url end point I've setup on my backend (.../api/auth/microsoft).  I can log in with Microsoft and it calls the callback function configured (.../api/auth/microsoft/callback).  It will then check my database to see if the user has logged in before, if not it will create the user.  Then when (or if) the user exists, it stores the session in my database (using `express-session`).  Since I'm calling the route directly in the browser it just returns a JSON object with a success...   \n",
       "1                                                                                                                     I think I'm being targeted?. Dear u/daddy_spez\\n\\nSomeone tried to log into a Venmo account of mine 3 days ago. I didn't do anything because I can't even log into it, the attached phone number is disconnected. Today I got a notification at 3AM that someone attempted to log into one of my Gmail accounts, so I changed the password. At 6PM someone tried to log into the Microsoft account attached to a completely different Gmail. It provided their IP, it was a VPN connected to Chicago.\\n\\nI checked haveibeenpwned and neither account was involved in a recent data breach. A couple months ago, someone also accessed my Gmail and Google Drive for one of those emails, and I changed the password.\\n\\nI scanned with Malwarebytes and no viruses were detected. I also use an iPhone. I don't think they can be infected with RATs or anything similar, but feel free to correct me if I'm wrong.   \n",
       "2                                                                                                                                                                                                                                                                                                                                                                                                                                                                            Pre-job offer deliverables. Hello, I've been trying to apply for remote assistant positions, and I applied to one and now I have a ton of deliverables to give out before the interview. I don't know if this is weird way to test your skills or if this is just a straight up scam where they make you do free labor. \\n\\nNote: I've completed a skills assessment test before this, and went through an online screening application before they sent the email \\n\\nThe photo attached are the details of the deliverables but they seem a bit exorbitant?   \n",
       "3  Mbox file access for users on local network. Hi all,  \\n\\n\\nIn my company we use google workspace. When a user leaves I close their account and export all their emails as an mbox file which I then archive. \\n\\nOccasionally I get requests to go looking inside those old employee emails so I end up downloading the corresponding mbox file, opening it in thunderbird on my local machine and fulfilling my request that way.I don't then share these files and attach them to mail accounts as the old users emails and the new users emails become intermingled and it's been a mess in the past to find stuff when needed.  \\n\\n\\nIs there some smarter way to manage these emails such that I can make the right defunct-user-accounts emails available to the right users at the right time? I'd love to do it without installing thunderbird on every users computer.  \\n\\n\\nI've been thinking about how I can use our synology nas to host something that can be accessed on the network by users with the appropriate...   \n",
       "4                                                                                                                                                                                                                                                                                                                                            How to forward spam to SpamCop.net with procmail. From https://de.wikipedia.org/wiki/Procmail\\r  \\n\\r  \\n`:0fw`\\r  \\n`| /usr/bin/spamassassin`\\r  \\n\\r  \\n`:0H`\\r  \\n`* ^X-Spam-Level: \\*\\*\\*\\*\\*\\*\\*\\*\\*\\*`\\r  \\n`/dev/null`\\r  \\n\\r  \\n`:0H:`\\r  \\n`* ^X-Spam-Status: Yes`\\r  \\n`./Spam`\\r  \\n\\n\\nI would like to complement the move to /dev/null with a forward to submit.\\[id\\]@spam.spamcop.net.\\r  \\n\\r  \\nI have only found simple forwarding as an action (!). But Spamcop also needs the headers, so I would have to create an empty email with the email as attachment.\\r  \\n\\r  \\n`{`\\r  \\n`:0 c`\\r  \\n`! submit.[id]@spam.spamcop.net`\\r  \\n\\r  \\n`:0`\\r  \\n`/dev/null`\\r  \\n`}`   \n",
       "\n",
       "            keyword  \n",
       "0  email attachment  \n",
       "1  email attachment  \n",
       "2  email attachment  \n",
       "3  email attachment  \n",
       "4  email attachment  "
      ]
     },
     "execution_count": 59,
     "metadata": {},
     "output_type": "execute_result"
    }
   ],
   "source": [
    "words_matches.head()"
   ]
  },
  {
   "cell_type": "code",
   "execution_count": 60,
   "id": "c72a2cb2",
   "metadata": {},
   "outputs": [],
   "source": [
    "words_matches['keyword type'] = 'delivery method'"
   ]
  },
  {
   "cell_type": "code",
   "execution_count": 61,
   "id": "798babac",
   "metadata": {},
   "outputs": [],
   "source": [
    "words_matches.to_csv(r'C:\\Users\\leona\\OneDrive\\Desktop\\Tesi\\Pipeline\\Datasets\\Pipeline\\SocialNetworksPosts\\Reddit\\Months\\12\\Posts_filteredby_DeliveryMethod.csv')"
   ]
  },
  {
   "cell_type": "code",
   "execution_count": 62,
   "id": "cde71f54",
   "metadata": {},
   "outputs": [
    {
     "data": {
      "text/plain": [
       "22953"
      ]
     },
     "execution_count": 62,
     "metadata": {},
     "output_type": "execute_result"
    }
   ],
   "source": [
    "len(selected_rows)"
   ]
  },
  {
   "cell_type": "code",
   "execution_count": 71,
   "id": "b5a14de8",
   "metadata": {},
   "outputs": [
    {
     "data": {
      "text/plain": [
       "3146"
      ]
     },
     "execution_count": 71,
     "metadata": {},
     "output_type": "execute_result"
    }
   ],
   "source": [
    "df = pd.concat([words_matches, malware_types_matches, merged_matches, matches_behaviours_3, matches_behaviours_2, matches_behaviours_1 ])\n",
    "len(df)"
   ]
  },
  {
   "cell_type": "code",
   "execution_count": 72,
   "id": "509502df",
   "metadata": {},
   "outputs": [],
   "source": [
    "df.to_csv(r'C:\\Users\\leona\\OneDrive\\Desktop\\Tesi\\Pipeline\\Datasets\\Pipeline\\SocialNetworksPosts\\Reddit\\Months\\12\\MatchedPosts.csv')"
   ]
  },
  {
   "cell_type": "markdown",
   "id": "78543d08",
   "metadata": {},
   "source": []
  },
  {
   "cell_type": "markdown",
   "id": "18094b19",
   "metadata": {},
   "source": []
  },
  {
   "cell_type": "markdown",
   "id": "3631129a",
   "metadata": {},
   "source": [
    "\n"
   ]
  },
  {
   "cell_type": "markdown",
   "id": "69fdd2f8",
   "metadata": {},
   "source": []
  }
 ],
 "metadata": {
  "kernelspec": {
   "display_name": "Python 3 (ipykernel)",
   "language": "python",
   "name": "python3"
  },
  "language_info": {
   "codemirror_mode": {
    "name": "ipython",
    "version": 3
   },
   "file_extension": ".py",
   "mimetype": "text/x-python",
   "name": "python",
   "nbconvert_exporter": "python",
   "pygments_lexer": "ipython3",
   "version": "3.11.5"
  }
 },
 "nbformat": 4,
 "nbformat_minor": 5
}
