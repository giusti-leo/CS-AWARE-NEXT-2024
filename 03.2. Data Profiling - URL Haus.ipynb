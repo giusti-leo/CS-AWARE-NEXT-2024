{
 "cells": [
  {
   "cell_type": "markdown",
   "id": "e604424c",
   "metadata": {},
   "source": [
    "# 3.2.0 Data Profiling\n"
   ]
  },
  {
   "cell_type": "code",
   "execution_count": 1,
   "id": "f161555b",
   "metadata": {},
   "outputs": [],
   "source": [
    "import datetime\n",
    "import os\n",
    "import time\n",
    "import pandas as pd \n",
    "import requests\n",
    "import urllib3\n",
    "import json\n",
    "import numpy as np\n",
    "import sys"
   ]
  },
  {
   "cell_type": "code",
   "execution_count": 2,
   "id": "0fdad2f8",
   "metadata": {},
   "outputs": [],
   "source": [
    "pd.options.display.max_colwidth = 1000\n",
    "pd.set_option('display.max_columns', None)"
   ]
  },
  {
   "cell_type": "code",
   "execution_count": 3,
   "id": "efdc2997",
   "metadata": {},
   "outputs": [],
   "source": [
    "entries  = r\"C:\\\\Users\\\\leona\\\\OneDrive\\\\Desktop\\\\Tesi\\\\Pipeline\\\\Datasets\\\\Pipeline\\\\IocSegnalations\\\\PostDataStructurization\\\\URL_Haus\\\\Entries.csv\"\n",
    "tags     = r\"C:\\\\Users\\\\leona\\\\OneDrive\\\\Desktop\\\\Tesi\\\\Pipeline\\\\Datasets\\\\Pipeline\\\\IocSegnalations\\\\PostDataStructurization\\\\URL_Haus\\\\Tags.csv\""
   ]
  },
  {
   "cell_type": "markdown",
   "id": "018101c4",
   "metadata": {},
   "source": [
    "## Data Profiling - Entries"
   ]
  },
  {
   "cell_type": "code",
   "execution_count": 5,
   "id": "d0d9ea18",
   "metadata": {},
   "outputs": [
    {
     "name": "stdout",
     "output_type": "stream",
     "text": [
      "Duplicates:  False\n"
     ]
    }
   ],
   "source": [
    "entries_df = pd.read_csv(entries, low_memory = False )\n",
    "print(\"Duplicates: \",entries_df.duplicated().any())"
   ]
  },
  {
   "cell_type": "code",
   "execution_count": 6,
   "id": "e6a5bf5c",
   "metadata": {},
   "outputs": [
    {
     "name": "stdout",
     "output_type": "stream",
     "text": [
      "# not null values:  62352\n"
     ]
    }
   ],
   "source": [
    "#total number of not null values\n",
    "not_null_values = entries_df.count().sum()\n",
    "print(\"# not null values: \",not_null_values)"
   ]
  },
  {
   "cell_type": "code",
   "execution_count": 7,
   "id": "11fca013",
   "metadata": {},
   "outputs": [
    {
     "name": "stdout",
     "output_type": "stream",
     "text": [
      "# null values:  1152\n"
     ]
    }
   ],
   "source": [
    "#total number of null values\n",
    "null_values = entries_df.isnull().sum().sum()\n",
    "print(\"# null values: \",null_values)"
   ]
  },
  {
   "cell_type": "code",
   "execution_count": 8,
   "id": "c57f95bb",
   "metadata": {},
   "outputs": [
    {
     "name": "stdout",
     "output_type": "stream",
     "text": [
      "# values:  63504\n"
     ]
    }
   ],
   "source": [
    "#total number of cells\n",
    "n_values = entries_df.shape[0]*entries_df.shape[1]\n",
    "print(\"# values: \",n_values)"
   ]
  },
  {
   "cell_type": "code",
   "execution_count": 9,
   "id": "c9157715",
   "metadata": {},
   "outputs": [
    {
     "name": "stdout",
     "output_type": "stream",
     "text": [
      "# missings:  1152\n"
     ]
    }
   ],
   "source": [
    "#we added to the set of missing values also 'na' and '--'\n",
    "missing_values = ['na','--', 'NaN']\n",
    "ds_property_nan = pd.read_csv(entries, na_values = missing_values)\n",
    "print(\"# missings: \",ds_property_nan.isnull().sum().sum())"
   ]
  },
  {
   "cell_type": "markdown",
   "id": "d71c192f",
   "metadata": {},
   "source": [
    "## Completeness"
   ]
  },
  {
   "cell_type": "code",
   "execution_count": 10,
   "id": "d430b6e6",
   "metadata": {},
   "outputs": [
    {
     "name": "stdout",
     "output_type": "stream",
     "text": [
      "98.2%\n"
     ]
    }
   ],
   "source": [
    "#COMPLETENESS evaluation\n",
    "completeness = not_null_values / n_values\n",
    "completeness = '{0:.1f}%'.format(completeness*100)\n",
    "print(completeness)"
   ]
  },
  {
   "cell_type": "markdown",
   "id": "57375f3f",
   "metadata": {},
   "source": [
    "## Timeliness"
   ]
  },
  {
   "cell_type": "code",
   "execution_count": 13,
   "id": "10301c40",
   "metadata": {},
   "outputs": [
    {
     "name": "stdout",
     "output_type": "stream",
     "text": [
      "Average Timeliness:  0.7573105631141346\n",
      "Maximum Timeliness: 1.0166666666666666\n",
      "Minimum Timeliness: 0.5166666666666666\n"
     ]
    },
    {
     "name": "stderr",
     "output_type": "stream",
     "text": [
      "C:\\Users\\leona\\AppData\\Local\\Temp\\ipykernel_1980\\919957181.py:4: FutureWarning: The argument 'date_parser' is deprecated and will be removed in a future version. Please use 'date_format' instead, or read your data in as 'object' dtype and then call 'to_datetime'.\n",
      "  ds_property_t = pd.read_csv(entries, parse_dates= temp_columns, date_parser=dateparse)\n"
     ]
    }
   ],
   "source": [
    "temp_columns = ['first_seen']\n",
    "from datetime import datetime\n",
    "dateparse = lambda x: datetime.strptime(str(x), '%Y-%m-%d %H:%M:%S')\n",
    "ds_property_t = pd.read_csv(entries, parse_dates= temp_columns, date_parser=dateparse)\n",
    "volatility = 60\n",
    "today = datetime(2023, 9, 15)\n",
    "ds_property_t['currency'] = (today-ds_property_t['first_seen']).dt.days\n",
    "#adding a column with the timeliness computation\n",
    "#if volatility is greater than currency the timeliness is equal to 1-currency/volatility, otherwise is 0\n",
    "ds_property_t['Timeliness'] = np.where(volatility>ds_property_t['currency'],\n",
    "                                       1-(ds_property_t['currency']/volatility),\n",
    "                                       0)\n",
    "print(\"Average Timeliness: \", ds_property_t['Timeliness'].mean())\n",
    "print(\"Maximum Timeliness:\", ds_property_t['Timeliness'].max())\n",
    "print(\"Minimum Timeliness:\", ds_property_t['Timeliness'].min())"
   ]
  },
  {
   "cell_type": "markdown",
   "id": "3b16b239",
   "metadata": {},
   "source": [
    "## Auto-report"
   ]
  },
  {
   "cell_type": "code",
   "execution_count": 14,
   "id": "b8ed9dfe",
   "metadata": {},
   "outputs": [],
   "source": [
    "from ydata_profiling import ProfileReport"
   ]
  },
  {
   "cell_type": "code",
   "execution_count": 15,
   "id": "fddc4ec5",
   "metadata": {},
   "outputs": [
    {
     "data": {
      "application/vnd.jupyter.widget-view+json": {
       "model_id": "19bb3fbed87246628a9ef961d57c19bd",
       "version_major": 2,
       "version_minor": 0
      },
      "text/plain": [
       "Summarize dataset:   0%|          | 0/5 [00:00<?, ?it/s]"
      ]
     },
     "metadata": {},
     "output_type": "display_data"
    },
    {
     "data": {
      "application/vnd.jupyter.widget-view+json": {
       "model_id": "54c5dd92fee4481a9669f3b648ee657a",
       "version_major": 2,
       "version_minor": 0
      },
      "text/plain": [
       "Generate report structure:   0%|          | 0/1 [00:00<?, ?it/s]"
      ]
     },
     "metadata": {},
     "output_type": "display_data"
    },
    {
     "data": {
      "application/vnd.jupyter.widget-view+json": {
       "model_id": "a6b363605fb34696869bbb409f88d1bc",
       "version_major": 2,
       "version_minor": 0
      },
      "text/plain": [
       "Render HTML:   0%|          | 0/1 [00:00<?, ?it/s]"
      ]
     },
     "metadata": {},
     "output_type": "display_data"
    },
    {
     "data": {
      "application/vnd.jupyter.widget-view+json": {
       "model_id": "abf18b37351348d9b28b97f9536c0843",
       "version_major": 2,
       "version_minor": 0
      },
      "text/plain": [
       "Export report to file:   0%|          | 0/1 [00:00<?, ?it/s]"
      ]
     },
     "metadata": {},
     "output_type": "display_data"
    },
    {
     "data": {
      "application/vnd.jupyter.widget-view+json": {
       "model_id": "8d44df99e06a47d48bddc6becf3e70f7",
       "version_major": 2,
       "version_minor": 0
      },
      "text/plain": [
       "Render JSON:   0%|          | 0/1 [00:00<?, ?it/s]"
      ]
     },
     "metadata": {},
     "output_type": "display_data"
    },
    {
     "data": {
      "application/vnd.jupyter.widget-view+json": {
       "model_id": "0bf2a797d0074c97b3cf7426ed2750b5",
       "version_major": 2,
       "version_minor": 0
      },
      "text/plain": [
       "Export report to file:   0%|          | 0/1 [00:00<?, ?it/s]"
      ]
     },
     "metadata": {},
     "output_type": "display_data"
    }
   ],
   "source": [
    "profile = ProfileReport(entries_df, title=\"URL Haus - Entries - Pandas Profiling Report\")\n",
    "\n",
    "profile.to_file(\"C:\\\\Users\\\\leona\\\\OneDrive\\\\Desktop\\\\Tesi\\\\Pipeline\\\\Report\\\\Profiling step 3\\\\URL_Haus\\\\Entries.html\")\n",
    "\n",
    "# As a JSON string\n",
    "json_data = profile.to_json()\n",
    "\n",
    "# As a file\n",
    "profile.to_file(\"C:\\\\Users\\\\leona\\\\OneDrive\\\\Desktop\\\\Tesi\\\\Pipeline\\\\Report\\\\Profiling step 3\\\\URL_Haus\\\\Entries.json\")"
   ]
  },
  {
   "cell_type": "markdown",
   "id": "28fb9b07",
   "metadata": {},
   "source": [
    "## Value Distribution"
   ]
  },
  {
   "cell_type": "markdown",
   "id": "3ed8765e",
   "metadata": {},
   "source": [
    "#### Distribution entries over time"
   ]
  },
  {
   "cell_type": "code",
   "execution_count": 16,
   "id": "cc74b255",
   "metadata": {},
   "outputs": [],
   "source": [
    "import seaborn as sns\n",
    "import matplotlib\n",
    "matplotlib.use('tkagg')\n",
    "import matplotlib.pyplot as plt\n",
    "\n",
    "from datetime import datetime\n",
    "\n",
    "\n",
    "\n",
    "sns.set(color_codes=True)\n",
    "sns.set_palette(sns.color_palette(\"muted\"))"
   ]
  },
  {
   "cell_type": "code",
   "execution_count": 18,
   "id": "15415e17",
   "metadata": {},
   "outputs": [],
   "source": [
    "for i in range(len(entries_df)):\n",
    "    \n",
    "    val = str(entries_df.at[i,'first_seen'])\n",
    "    parsed_datetime = datetime.strptime(val, '%Y-%m-%d %H:%M:%S')\n",
    "    date_part = parsed_datetime.strftime('%Y%m%d')\n",
    "    \n",
    "    entries_df.loc[i,'first_seen'] = date_part"
   ]
  },
  {
   "cell_type": "code",
   "execution_count": 19,
   "id": "e42f6edf",
   "metadata": {},
   "outputs": [],
   "source": [
    "# Create a time series plot with different colors for each category\n",
    "plt.figure(figsize=(10, 6))\n",
    "\n",
    "# Plot Category A with a blue color\n",
    "plt.plot(entries_df['first_seen'], label='URL Haus', marker='o', linestyle='-', color='blue')\n",
    "\n",
    "# Customize the plot\n",
    "plt.title('Time Series Data URL HAUS')\n",
    "plt.xlabel('Timestamp')\n",
    "plt.grid(True)\n",
    "\n",
    "# Add a legend to distinguish between categories\n",
    "plt.legend()\n",
    "\n",
    "# Show the plot\n",
    "plt.tight_layout()\n",
    "plt.show()"
   ]
  },
  {
   "cell_type": "markdown",
   "id": "1424bbf4",
   "metadata": {},
   "source": [
    "## Data Profiling - Tags"
   ]
  },
  {
   "cell_type": "code",
   "execution_count": 20,
   "id": "3380f341",
   "metadata": {},
   "outputs": [
    {
     "data": {
      "text/html": [
       "<div>\n",
       "<style scoped>\n",
       "    .dataframe tbody tr th:only-of-type {\n",
       "        vertical-align: middle;\n",
       "    }\n",
       "\n",
       "    .dataframe tbody tr th {\n",
       "        vertical-align: top;\n",
       "    }\n",
       "\n",
       "    .dataframe thead th {\n",
       "        text-align: right;\n",
       "    }\n",
       "</style>\n",
       "<table border=\"1\" class=\"dataframe\">\n",
       "  <thead>\n",
       "    <tr style=\"text-align: right;\">\n",
       "      <th></th>\n",
       "      <th>ID_ENTRY</th>\n",
       "      <th>source</th>\n",
       "      <th>tag</th>\n",
       "    </tr>\n",
       "  </thead>\n",
       "  <tbody>\n",
       "    <tr>\n",
       "      <th>0</th>\n",
       "      <td>2711900</td>\n",
       "      <td>URL Haus</td>\n",
       "      <td>hajime</td>\n",
       "    </tr>\n",
       "    <tr>\n",
       "      <th>1</th>\n",
       "      <td>2711899</td>\n",
       "      <td>URL Haus</td>\n",
       "      <td>SocGholish</td>\n",
       "    </tr>\n",
       "    <tr>\n",
       "      <th>2</th>\n",
       "      <td>2711898</td>\n",
       "      <td>URL Haus</td>\n",
       "      <td>Mozi</td>\n",
       "    </tr>\n",
       "    <tr>\n",
       "      <th>3</th>\n",
       "      <td>2711897</td>\n",
       "      <td>URL Haus</td>\n",
       "      <td>dropped-by-SmokeLoader</td>\n",
       "    </tr>\n",
       "    <tr>\n",
       "      <th>4</th>\n",
       "      <td>2711896</td>\n",
       "      <td>URL Haus</td>\n",
       "      <td>NanoCore</td>\n",
       "    </tr>\n",
       "    <tr>\n",
       "      <th>...</th>\n",
       "      <td>...</td>\n",
       "      <td>...</td>\n",
       "      <td>...</td>\n",
       "    </tr>\n",
       "    <tr>\n",
       "      <th>7051</th>\n",
       "      <td>2704832</td>\n",
       "      <td>URL Haus</td>\n",
       "      <td>Mozi</td>\n",
       "    </tr>\n",
       "    <tr>\n",
       "      <th>7052</th>\n",
       "      <td>2704830</td>\n",
       "      <td>URL Haus</td>\n",
       "      <td>Mozi</td>\n",
       "    </tr>\n",
       "    <tr>\n",
       "      <th>7053</th>\n",
       "      <td>2704831</td>\n",
       "      <td>URL Haus</td>\n",
       "      <td>Mozi</td>\n",
       "    </tr>\n",
       "    <tr>\n",
       "      <th>7054</th>\n",
       "      <td>2704829</td>\n",
       "      <td>URL Haus</td>\n",
       "      <td>Mozi</td>\n",
       "    </tr>\n",
       "    <tr>\n",
       "      <th>7055</th>\n",
       "      <td>2704827</td>\n",
       "      <td>URL Haus</td>\n",
       "      <td>SocGholish</td>\n",
       "    </tr>\n",
       "  </tbody>\n",
       "</table>\n",
       "<p>7056 rows × 3 columns</p>\n",
       "</div>"
      ],
      "text/plain": [
       "      ID_ENTRY    source                     tag\n",
       "0      2711900  URL Haus                  hajime\n",
       "1      2711899  URL Haus              SocGholish\n",
       "2      2711898  URL Haus                    Mozi\n",
       "3      2711897  URL Haus  dropped-by-SmokeLoader\n",
       "4      2711896  URL Haus                NanoCore\n",
       "...        ...       ...                     ...\n",
       "7051   2704832  URL Haus                    Mozi\n",
       "7052   2704830  URL Haus                    Mozi\n",
       "7053   2704831  URL Haus                    Mozi\n",
       "7054   2704829  URL Haus                    Mozi\n",
       "7055   2704827  URL Haus              SocGholish\n",
       "\n",
       "[7056 rows x 3 columns]"
      ]
     },
     "execution_count": 20,
     "metadata": {},
     "output_type": "execute_result"
    }
   ],
   "source": [
    "tags_df = pd.read_csv(tags, low_memory = False )\n",
    "tags_df"
   ]
  },
  {
   "cell_type": "code",
   "execution_count": 21,
   "id": "ee138cba",
   "metadata": {},
   "outputs": [
    {
     "name": "stdout",
     "output_type": "stream",
     "text": [
      "Duplicates:  False\n",
      "# not null values:  20917\n",
      "# null values:  251\n",
      "# values:  21168\n",
      "# missings:  251\n"
     ]
    }
   ],
   "source": [
    "print(\"Duplicates: \",tags_df.duplicated().any())\n",
    "#total number of not null values\n",
    "not_null_values = tags_df.count().sum()\n",
    "print(\"# not null values: \",not_null_values)\n",
    "#total number of null values\n",
    "null_values = tags_df.isnull().sum().sum()\n",
    "print(\"# null values: \",null_values)\n",
    "#total number of cells\n",
    "n_values = tags_df.shape[0]*tags_df.shape[1]\n",
    "print(\"# values: \",n_values)\n",
    "#we added to the set of missing values also 'na' and '--'\n",
    "missing_values = ['na','--', 'NaN']\n",
    "ds_property_nan = pd.read_csv(tags, na_values = missing_values)\n",
    "print(\"# missings: \",ds_property_nan.isnull().sum().sum())"
   ]
  },
  {
   "cell_type": "markdown",
   "id": "4d76c9fe",
   "metadata": {},
   "source": [
    "### Completeness"
   ]
  },
  {
   "cell_type": "code",
   "execution_count": 22,
   "id": "cb640e40",
   "metadata": {},
   "outputs": [
    {
     "name": "stdout",
     "output_type": "stream",
     "text": [
      "Completeness:  98.8%\n"
     ]
    }
   ],
   "source": [
    "#COMPLETENESS evaluation\n",
    "completeness = not_null_values / n_values\n",
    "completeness = '{0:.1f}%'.format(completeness*100)\n",
    "print(\"Completeness: \",completeness)"
   ]
  },
  {
   "cell_type": "markdown",
   "id": "94ae0f4d",
   "metadata": {},
   "source": [
    "### Profiling Auto-report"
   ]
  },
  {
   "cell_type": "code",
   "execution_count": null,
   "id": "9c884994",
   "metadata": {},
   "outputs": [],
   "source": []
  },
  {
   "cell_type": "code",
   "execution_count": null,
   "id": "736b17fe",
   "metadata": {},
   "outputs": [],
   "source": []
  },
  {
   "cell_type": "code",
   "execution_count": null,
   "id": "1a2ca5b4",
   "metadata": {},
   "outputs": [],
   "source": []
  },
  {
   "cell_type": "code",
   "execution_count": null,
   "id": "191e2644",
   "metadata": {},
   "outputs": [],
   "source": []
  },
  {
   "cell_type": "code",
   "execution_count": null,
   "id": "3324a8d5",
   "metadata": {},
   "outputs": [],
   "source": []
  },
  {
   "cell_type": "code",
   "execution_count": null,
   "id": "fa7a90dd",
   "metadata": {},
   "outputs": [],
   "source": []
  }
 ],
 "metadata": {
  "kernelspec": {
   "display_name": "Python 3 (ipykernel)",
   "language": "python",
   "name": "python3"
  },
  "language_info": {
   "codemirror_mode": {
    "name": "ipython",
    "version": 3
   },
   "file_extension": ".py",
   "mimetype": "text/x-python",
   "name": "python",
   "nbconvert_exporter": "python",
   "pygments_lexer": "ipython3",
   "version": "3.11.5"
  }
 },
 "nbformat": 4,
 "nbformat_minor": 5
}
