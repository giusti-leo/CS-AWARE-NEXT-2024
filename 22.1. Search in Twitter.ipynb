{
 "cells": [
  {
   "cell_type": "code",
   "execution_count": 1,
   "id": "5ba07445",
   "metadata": {},
   "outputs": [],
   "source": [
    "import os\n",
    "import time\n",
    "import pandas as pd \n",
    "import requests\n",
    "import urllib3\n",
    "import json\n",
    "import sys\n",
    "import numpy as np\n",
    "import pandas as pd\n",
    "from pathlib import Path\n",
    "from datetime import datetime, timedelta\n",
    "\n",
    "pd.options.display.max_colwidth = 1000\n",
    "pd.set_option('display.max_columns', None)"
   ]
  },
  {
   "cell_type": "markdown",
   "id": "89c4aa87",
   "metadata": {},
   "source": [
    "### Reddit posts"
   ]
  },
  {
   "cell_type": "code",
   "execution_count": 2,
   "id": "9bec6ee6",
   "metadata": {},
   "outputs": [],
   "source": [
    "file_twitter = r'C:\\Users\\leona\\OneDrive\\Desktop\\Tesi\\Pipeline\\Datasets\\Pipeline\\SocialNetworksPosts\\Twitter\\TwitterPosts.csv'"
   ]
  },
  {
   "cell_type": "code",
   "execution_count": 3,
   "id": "2432c6d8",
   "metadata": {
    "scrolled": true
   },
   "outputs": [
    {
     "data": {
      "text/html": [
       "<div>\n",
       "<style scoped>\n",
       "    .dataframe tbody tr th:only-of-type {\n",
       "        vertical-align: middle;\n",
       "    }\n",
       "\n",
       "    .dataframe tbody tr th {\n",
       "        vertical-align: top;\n",
       "    }\n",
       "\n",
       "    .dataframe thead th {\n",
       "        text-align: right;\n",
       "    }\n",
       "</style>\n",
       "<table border=\"1\" class=\"dataframe\">\n",
       "  <thead>\n",
       "    <tr style=\"text-align: right;\">\n",
       "      <th></th>\n",
       "      <th>username</th>\n",
       "      <th>name</th>\n",
       "      <th>date</th>\n",
       "      <th>text</th>\n",
       "      <th>json</th>\n",
       "    </tr>\n",
       "  </thead>\n",
       "  <tbody>\n",
       "    <tr>\n",
       "      <th>0</th>\n",
       "      <td>SwiftOnSecurity</td>\n",
       "      <td>SwiftOnSecurity</td>\n",
       "      <td>2023-07-12 19:57:11</td>\n",
       "      <td>RT @KimZetter: CISA says it's been working w/ Microsoft to determine the specific log types that are most valuable and should be made avail…</td>\n",
       "      <td>{'created_at': 'Wed Jul 12 19:57:11 +0000 2023', 'id': 1679218365296959488, 'id_str': '1679218365296959488', 'text': \"RT @KimZetter: CISA says it's been working w/ Microsoft to determine the specific log types that are most valuable and should be made avail…\", 'truncated': False, 'entities': {'hashtags': [], 'symbols': [], 'user_mentions': [{'screen_name': 'KimZetter', 'name': 'Kim Zetter', 'id': 48511236, 'id_str': '48511236', 'indices': [3, 13]}], 'urls': []}, 'source': '&lt;a href=\"http://twitter.com/download/iphone\" rel=\"nofollow\"&gt;Twitter for iPhone&lt;/a&gt;', 'in_reply_to_status_id': None, 'in_reply_to_status_id_str': None, 'in_reply_to_user_id': None, 'in_reply_to_user_id_str': None, 'in_reply_to_screen_name': None, 'user': {'id': 2436389418, 'id_str': '2436389418', 'name': 'SwiftOnSecurity', 'screen_name': 'SwiftOnSecurity', 'location': 'Cyber, USA', 'description': 'computer security person at a place. former helpdesk. @SwiftOnSecurity@infosec.exchange', 'url': None, 'entities': {'d...</td>\n",
       "    </tr>\n",
       "    <tr>\n",
       "      <th>1</th>\n",
       "      <td>SwiftOnSecurity</td>\n",
       "      <td>SwiftOnSecurity</td>\n",
       "      <td>2023-07-12 19:57:09</td>\n",
       "      <td>RT @KimZetter: In talking about fact that Microsoft cloud compromise was caught because victim had premium 365 logging, CISA says in press…</td>\n",
       "      <td>{'created_at': 'Wed Jul 12 19:57:09 +0000 2023', 'id': 1679218358237945859, 'id_str': '1679218358237945859', 'text': 'RT @KimZetter: In talking about fact that Microsoft cloud compromise was caught because victim had premium 365 logging, CISA says in press…', 'truncated': False, 'entities': {'hashtags': [], 'symbols': [], 'user_mentions': [{'screen_name': 'KimZetter', 'name': 'Kim Zetter', 'id': 48511236, 'id_str': '48511236', 'indices': [3, 13]}], 'urls': []}, 'source': '&lt;a href=\"http://twitter.com/download/iphone\" rel=\"nofollow\"&gt;Twitter for iPhone&lt;/a&gt;', 'in_reply_to_status_id': None, 'in_reply_to_status_id_str': None, 'in_reply_to_user_id': None, 'in_reply_to_user_id_str': None, 'in_reply_to_screen_name': None, 'user': {'id': 2436389418, 'id_str': '2436389418', 'name': 'SwiftOnSecurity', 'screen_name': 'SwiftOnSecurity', 'location': 'Cyber, USA', 'description': 'computer security person at a place. former helpdesk. @SwiftOnSecurity@infosec.exchange', 'url': None, 'entities': {'de...</td>\n",
       "    </tr>\n",
       "    <tr>\n",
       "      <th>2</th>\n",
       "      <td>thegrugq</td>\n",
       "      <td>thaddeus e. grugq thegrugq@infosec.exchange</td>\n",
       "      <td>2023-07-12 20:19:20</td>\n",
       "      <td>RT @lukOlejnik: NATO reaffirms that cyberattacks may mean war \"single or cumulative set of malicious cyber activities could reach the level…</td>\n",
       "      <td>{'created_at': 'Wed Jul 12 20:19:20 +0000 2023', 'id': 1679223941276270594, 'id_str': '1679223941276270594', 'text': 'RT @lukOlejnik: NATO reaffirms that cyberattacks may mean war \"single or cumulative set of malicious cyber activities could reach the level…', 'truncated': False, 'entities': {'hashtags': [], 'symbols': [], 'user_mentions': [{'screen_name': 'lukOlejnik', 'name': 'Lukasz Olejnik (@LukaszOlejnik@Mastodon.Social)', 'id': 1269670536, 'id_str': '1269670536', 'indices': [3, 14]}], 'urls': []}, 'source': '&lt;a href=\"http://twitter.com/download/iphone\" rel=\"nofollow\"&gt;Twitter for iPhone&lt;/a&gt;', 'in_reply_to_status_id': None, 'in_reply_to_status_id_str': None, 'in_reply_to_user_id': None, 'in_reply_to_user_id_str': None, 'in_reply_to_screen_name': None, 'user': {'id': 18983429, 'id_str': '18983429', 'name': 'thaddeus e. grugq thegrugq@infosec.exchange', 'screen_name': 'thegrugq', 'location': 'Boston, MA', 'description': 'Hacker :: https://t.co/km8BR8E1Ga :: thegrugq@gmail.com :: ...</td>\n",
       "    </tr>\n",
       "    <tr>\n",
       "      <th>3</th>\n",
       "      <td>thegrugq</td>\n",
       "      <td>thaddeus e. grugq thegrugq@infosec.exchange</td>\n",
       "      <td>2023-07-12 20:08:49</td>\n",
       "      <td>RT @matt_meeta: Every German company history</td>\n",
       "      <td>{'created_at': 'Wed Jul 12 20:08:49 +0000 2023', 'id': 1679221291780575232, 'id_str': '1679221291780575232', 'text': 'RT @matt_meeta: Every German company history', 'truncated': False, 'entities': {'hashtags': [], 'symbols': [], 'user_mentions': [{'screen_name': 'matt_meeta', 'name': 'Fridtjof Meeta', 'id': 14598682, 'id_str': '14598682', 'indices': [3, 14]}], 'urls': []}, 'source': '&lt;a href=\"http://twitter.com/download/iphone\" rel=\"nofollow\"&gt;Twitter for iPhone&lt;/a&gt;', 'in_reply_to_status_id': None, 'in_reply_to_status_id_str': None, 'in_reply_to_user_id': None, 'in_reply_to_user_id_str': None, 'in_reply_to_screen_name': None, 'user': {'id': 18983429, 'id_str': '18983429', 'name': 'thaddeus e. grugq thegrugq@infosec.exchange', 'screen_name': 'thegrugq', 'location': 'Boston, MA', 'description': 'Hacker :: https://t.co/km8BR8E1Ga :: thegrugq@gmail.com :: PGP https://t.co/dYipV8y3bo :: @warstudies :: https://t.co/H3dWknFCfk :: https://t.co/Z2lWqEVVua', 'url': 'https://t.co/kZwYMT7vhe', ...</td>\n",
       "    </tr>\n",
       "    <tr>\n",
       "      <th>4</th>\n",
       "      <td>k8em0</td>\n",
       "      <td>Katie🌻Moussouris (she/her) @k8em0.bsky.social</td>\n",
       "      <td>2023-07-12 20:04:54</td>\n",
       "      <td>RT @wdormann: Remember folks, don't play video games on a system that you care about.\\nI made a venn diagram to help. https://t.co/YsR22yxPgI</td>\n",
       "      <td>{'created_at': 'Wed Jul 12 20:04:54 +0000 2023', 'id': 1679220306098135040, 'id_str': '1679220306098135040', 'text': \"RT @wdormann: Remember folks, don't play video games on a system that you care about.\\nI made a venn diagram to help. https://t.co/YsR22yxPgI\", 'truncated': False, 'entities': {'hashtags': [], 'symbols': [], 'user_mentions': [{'screen_name': 'wdormann', 'name': 'Will Dormann', 'id': 792754729, 'id_str': '792754729', 'indices': [3, 12]}], 'urls': [], 'media': [{'id': 1679204571690725376, 'id_str': '1679204571690725376', 'indices': [117, 140], 'media_url': 'http://pbs.twimg.com/media/F027qUDWcAAshkb.jpg', 'media_url_https': 'https://pbs.twimg.com/media/F027qUDWcAAshkb.jpg', 'url': 'https://t.co/YsR22yxPgI', 'display_url': 'pic.twitter.com/YsR22yxPgI', 'expanded_url': 'https://twitter.com/wdormann/status/1679205097148936201/photo/1', 'type': 'photo', 'sizes': {'large': {'w': 958, 'h': 484, 'resize': 'fit'}, 'thumb': {'w': 150, 'h': 150, 'resize': 'crop'}, 'medium': {'w...</td>\n",
       "    </tr>\n",
       "    <tr>\n",
       "      <th>...</th>\n",
       "      <td>...</td>\n",
       "      <td>...</td>\n",
       "      <td>...</td>\n",
       "      <td>...</td>\n",
       "      <td>...</td>\n",
       "    </tr>\n",
       "    <tr>\n",
       "      <th>49112</th>\n",
       "      <td>PatrickCMiller</td>\n",
       "      <td>Patrick C Miller is on Mastodon</td>\n",
       "      <td>2023-01-01 00:45:01</td>\n",
       "      <td>The Lawfare Podcast: An Investigation into Russian State Media and Disinformation https://t.co/QnnOLwqXgX</td>\n",
       "      <td>{'created_at': 'Sun Jan 01 00:45:01 +0000 2023', 'id': 1609349941561884676, 'id_str': '1609349941561884676', 'text': 'The Lawfare Podcast: An Investigation into Russian State Media and Disinformation https://t.co/QnnOLwqXgX', 'truncated': False, 'entities': {'hashtags': [], 'symbols': [], 'user_mentions': [], 'urls': [{'url': 'https://t.co/QnnOLwqXgX', 'expanded_url': 'https://www.lawfareblog.com/lawfare-podcast-investigation-russian-state-media-and-disinformation', 'display_url': 'lawfareblog.com/lawfare-podcas…', 'indices': [82, 105]}]}, 'source': '&lt;a href=\"https://buffer.com\" rel=\"nofollow\"&gt;Buffer&lt;/a&gt;', 'in_reply_to_status_id': None, 'in_reply_to_status_id_str': None, 'in_reply_to_user_id': None, 'in_reply_to_user_id_str': None, 'in_reply_to_screen_name': None, 'user': {'id': 23508768, 'id_str': '23508768', 'name': 'Patrick C Miller is on Mastodon', 'screen_name': 'PatrickCMiller', 'location': 'Portland, OR', 'description': 'Infrastructure/Industrial Security Advisor. Recovering...</td>\n",
       "    </tr>\n",
       "    <tr>\n",
       "      <th>49113</th>\n",
       "      <td>BrianHonan</td>\n",
       "      <td>Brian Ó hEoghanáin (Brian Honan) #BLM He/Him</td>\n",
       "      <td>2023-01-01 00:06:34</td>\n",
       "      <td>To all those still in 2022\\n\\n2023 is already here in Ireland https://t.co/phwmigYahg</td>\n",
       "      <td>{'created_at': 'Sun Jan 01 00:06:34 +0000 2023', 'id': 1609340266107789317, 'id_str': '1609340266107789317', 'text': 'To all those still in 2022\\n\\n2023 is already here in Ireland https://t.co/phwmigYahg', 'truncated': False, 'entities': {'hashtags': [], 'symbols': [], 'user_mentions': [], 'urls': [], 'media': [{'id': 1609340238119190528, 'id_str': '1609340238119190528', 'indices': [60, 83], 'media_url': 'http://pbs.twimg.com/tweet_video_thumb/FlWGa3_WQAAV2Qe.jpg', 'media_url_https': 'https://pbs.twimg.com/tweet_video_thumb/FlWGa3_WQAAV2Qe.jpg', 'url': 'https://t.co/phwmigYahg', 'display_url': 'pic.twitter.com/phwmigYahg', 'expanded_url': 'https://twitter.com/BrianHonan/status/1609340266107789317/photo/1', 'type': 'photo', 'sizes': {'medium': {'w': 480, 'h': 258, 'resize': 'fit'}, 'thumb': {'w': 150, 'h': 150, 'resize': 'crop'}, 'small': {'w': 480, 'h': 258, 'resize': 'fit'}, 'large': {'w': 480, 'h': 258, 'resize': 'fit'}}}]}, 'extended_entities': {'media': [{'id': 1609340238119190...</td>\n",
       "    </tr>\n",
       "    <tr>\n",
       "      <th>49114</th>\n",
       "      <td>BrianHonan</td>\n",
       "      <td>Brian Ó hEoghanáin (Brian Honan) #BLM He/Him</td>\n",
       "      <td>2023-01-01 00:05:15</td>\n",
       "      <td>Happy New Year everyone</td>\n",
       "      <td>{'created_at': 'Sun Jan 01 00:05:15 +0000 2023', 'id': 1609339936720789506, 'id_str': '1609339936720789506', 'text': 'Happy New Year everyone', 'truncated': False, 'entities': {'hashtags': [], 'symbols': [], 'user_mentions': [], 'urls': []}, 'source': '&lt;a href=\"http://tapbots.com/tweetbot\" rel=\"nofollow\"&gt;Tweetbot for iΟS&lt;/a&gt;', 'in_reply_to_status_id': None, 'in_reply_to_status_id_str': None, 'in_reply_to_user_id': None, 'in_reply_to_user_id_str': None, 'in_reply_to_screen_name': None, 'user': {'id': 14277681, 'id_str': '14277681', 'name': 'Brian Ó hEoghanáin (Brian Honan) #BLM He/Him', 'screen_name': 'BrianHonan', 'location': 'Dublin, Ireland', 'description': \"CEO of @bhconsulting, Head of Ireland's CSIRT @irisscert, &amp; former Special Advisor on CyberSecurity to Europol. @brianhonan@mastodon.social  PGP ID 0xF1B5CF7D\", 'url': 'https://t.co/y2Xq7ahVZy', 'entities': {'url': {'urls': [{'url': 'https://t.co/y2Xq7ahVZy', 'expanded_url': 'http://bhconsulting.ie', 'display_url': 'bhconsult...</td>\n",
       "    </tr>\n",
       "    <tr>\n",
       "      <th>49115</th>\n",
       "      <td>PatrickCMiller</td>\n",
       "      <td>Patrick C Miller is on Mastodon</td>\n",
       "      <td>2023-01-01 00:15:00</td>\n",
       "      <td>The LastPass disclosure of leaked password vaults is being torn apart by security experts https://t.co/mn4OrkuEO3</td>\n",
       "      <td>{'created_at': 'Sun Jan 01 00:15:00 +0000 2023', 'id': 1609342390510264320, 'id_str': '1609342390510264320', 'text': 'The LastPass disclosure of leaked password vaults is being torn apart by security experts https://t.co/mn4OrkuEO3', 'truncated': False, 'entities': {'hashtags': [], 'symbols': [], 'user_mentions': [], 'urls': [{'url': 'https://t.co/mn4OrkuEO3', 'expanded_url': 'https://www.theverge.com/2022/12/28/23529547/lastpass-vault-breach-disclosure-encryption-cybersecurity-rebuttal', 'display_url': 'theverge.com/2022/12/28/235…', 'indices': [90, 113]}]}, 'source': '&lt;a href=\"https://buffer.com\" rel=\"nofollow\"&gt;Buffer&lt;/a&gt;', 'in_reply_to_status_id': None, 'in_reply_to_status_id_str': None, 'in_reply_to_user_id': None, 'in_reply_to_user_id_str': None, 'in_reply_to_screen_name': None, 'user': {'id': 23508768, 'id_str': '23508768', 'name': 'Patrick C Miller is on Mastodon', 'screen_name': 'PatrickCMiller', 'location': 'Portland, OR', 'description': 'Infrastructure/Industrial Security...</td>\n",
       "    </tr>\n",
       "    <tr>\n",
       "      <th>49116</th>\n",
       "      <td>PatrickCMiller</td>\n",
       "      <td>Patrick C Miller is on Mastodon</td>\n",
       "      <td>2022-12-31 23:45:00</td>\n",
       "      <td>Cybersecurity Leaders Outline Future Trends Ahead of Infosecurity Europe 2023 https://t.co/vt0bapeOSF</td>\n",
       "      <td>{'created_at': 'Sat Dec 31 23:45:00 +0000 2022', 'id': 1609334839366352903, 'id_str': '1609334839366352903', 'text': 'Cybersecurity Leaders Outline Future Trends Ahead of Infosecurity Europe 2023 https://t.co/vt0bapeOSF', 'truncated': False, 'entities': {'hashtags': [], 'symbols': [], 'user_mentions': [], 'urls': [{'url': 'https://t.co/vt0bapeOSF', 'expanded_url': 'https://www.infosecurity-magazine.com/news/future-trends-infosecurity-europe/', 'display_url': 'infosecurity-magazine.com/news/future-tr…', 'indices': [78, 101]}]}, 'source': '&lt;a href=\"https://buffer.com\" rel=\"nofollow\"&gt;Buffer&lt;/a&gt;', 'in_reply_to_status_id': None, 'in_reply_to_status_id_str': None, 'in_reply_to_user_id': None, 'in_reply_to_user_id_str': None, 'in_reply_to_screen_name': None, 'user': {'id': 23508768, 'id_str': '23508768', 'name': 'Patrick C Miller is on Mastodon', 'screen_name': 'PatrickCMiller', 'location': 'Portland, OR', 'description': 'Infrastructure/Industrial Security Advisor. Recovering regulator. @...</td>\n",
       "    </tr>\n",
       "  </tbody>\n",
       "</table>\n",
       "<p>49117 rows × 5 columns</p>\n",
       "</div>"
      ],
      "text/plain": [
       "              username                                           name  \\\n",
       "0      SwiftOnSecurity                                SwiftOnSecurity   \n",
       "1      SwiftOnSecurity                                SwiftOnSecurity   \n",
       "2             thegrugq    thaddeus e. grugq thegrugq@infosec.exchange   \n",
       "3             thegrugq    thaddeus e. grugq thegrugq@infosec.exchange   \n",
       "4                k8em0  Katie🌻Moussouris (she/her) @k8em0.bsky.social   \n",
       "...                ...                                            ...   \n",
       "49112   PatrickCMiller                Patrick C Miller is on Mastodon   \n",
       "49113       BrianHonan   Brian Ó hEoghanáin (Brian Honan) #BLM He/Him   \n",
       "49114       BrianHonan   Brian Ó hEoghanáin (Brian Honan) #BLM He/Him   \n",
       "49115   PatrickCMiller                Patrick C Miller is on Mastodon   \n",
       "49116   PatrickCMiller                Patrick C Miller is on Mastodon   \n",
       "\n",
       "                      date  \\\n",
       "0      2023-07-12 19:57:11   \n",
       "1      2023-07-12 19:57:09   \n",
       "2      2023-07-12 20:19:20   \n",
       "3      2023-07-12 20:08:49   \n",
       "4      2023-07-12 20:04:54   \n",
       "...                    ...   \n",
       "49112  2023-01-01 00:45:01   \n",
       "49113  2023-01-01 00:06:34   \n",
       "49114  2023-01-01 00:05:15   \n",
       "49115  2023-01-01 00:15:00   \n",
       "49116  2022-12-31 23:45:00   \n",
       "\n",
       "                                                                                                                                                text  \\\n",
       "0       RT @KimZetter: CISA says it's been working w/ Microsoft to determine the specific log types that are most valuable and should be made avail…   \n",
       "1        RT @KimZetter: In talking about fact that Microsoft cloud compromise was caught because victim had premium 365 logging, CISA says in press…   \n",
       "2       RT @lukOlejnik: NATO reaffirms that cyberattacks may mean war \"single or cumulative set of malicious cyber activities could reach the level…   \n",
       "3                                                                                                       RT @matt_meeta: Every German company history   \n",
       "4      RT @wdormann: Remember folks, don't play video games on a system that you care about.\\nI made a venn diagram to help. https://t.co/YsR22yxPgI   \n",
       "...                                                                                                                                              ...   \n",
       "49112                                      The Lawfare Podcast: An Investigation into Russian State Media and Disinformation https://t.co/QnnOLwqXgX   \n",
       "49113                                                          To all those still in 2022\\n\\n2023 is already here in Ireland https://t.co/phwmigYahg   \n",
       "49114                                                                                                                        Happy New Year everyone   \n",
       "49115                              The LastPass disclosure of leaked password vaults is being torn apart by security experts https://t.co/mn4OrkuEO3   \n",
       "49116                                          Cybersecurity Leaders Outline Future Trends Ahead of Infosecurity Europe 2023 https://t.co/vt0bapeOSF   \n",
       "\n",
       "                                                                                                                                                                                                                                                                                                                                                                                                                                                                                                                                                                                                                                                                                                                                                                                                                                                                                                                                                                                                                                          json  \n",
       "0      {'created_at': 'Wed Jul 12 19:57:11 +0000 2023', 'id': 1679218365296959488, 'id_str': '1679218365296959488', 'text': \"RT @KimZetter: CISA says it's been working w/ Microsoft to determine the specific log types that are most valuable and should be made avail…\", 'truncated': False, 'entities': {'hashtags': [], 'symbols': [], 'user_mentions': [{'screen_name': 'KimZetter', 'name': 'Kim Zetter', 'id': 48511236, 'id_str': '48511236', 'indices': [3, 13]}], 'urls': []}, 'source': '<a href=\"http://twitter.com/download/iphone\" rel=\"nofollow\">Twitter for iPhone</a>', 'in_reply_to_status_id': None, 'in_reply_to_status_id_str': None, 'in_reply_to_user_id': None, 'in_reply_to_user_id_str': None, 'in_reply_to_screen_name': None, 'user': {'id': 2436389418, 'id_str': '2436389418', 'name': 'SwiftOnSecurity', 'screen_name': 'SwiftOnSecurity', 'location': 'Cyber, USA', 'description': 'computer security person at a place. former helpdesk. @SwiftOnSecurity@infosec.exchange', 'url': None, 'entities': {'d...  \n",
       "1      {'created_at': 'Wed Jul 12 19:57:09 +0000 2023', 'id': 1679218358237945859, 'id_str': '1679218358237945859', 'text': 'RT @KimZetter: In talking about fact that Microsoft cloud compromise was caught because victim had premium 365 logging, CISA says in press…', 'truncated': False, 'entities': {'hashtags': [], 'symbols': [], 'user_mentions': [{'screen_name': 'KimZetter', 'name': 'Kim Zetter', 'id': 48511236, 'id_str': '48511236', 'indices': [3, 13]}], 'urls': []}, 'source': '<a href=\"http://twitter.com/download/iphone\" rel=\"nofollow\">Twitter for iPhone</a>', 'in_reply_to_status_id': None, 'in_reply_to_status_id_str': None, 'in_reply_to_user_id': None, 'in_reply_to_user_id_str': None, 'in_reply_to_screen_name': None, 'user': {'id': 2436389418, 'id_str': '2436389418', 'name': 'SwiftOnSecurity', 'screen_name': 'SwiftOnSecurity', 'location': 'Cyber, USA', 'description': 'computer security person at a place. former helpdesk. @SwiftOnSecurity@infosec.exchange', 'url': None, 'entities': {'de...  \n",
       "2      {'created_at': 'Wed Jul 12 20:19:20 +0000 2023', 'id': 1679223941276270594, 'id_str': '1679223941276270594', 'text': 'RT @lukOlejnik: NATO reaffirms that cyberattacks may mean war \"single or cumulative set of malicious cyber activities could reach the level…', 'truncated': False, 'entities': {'hashtags': [], 'symbols': [], 'user_mentions': [{'screen_name': 'lukOlejnik', 'name': 'Lukasz Olejnik (@LukaszOlejnik@Mastodon.Social)', 'id': 1269670536, 'id_str': '1269670536', 'indices': [3, 14]}], 'urls': []}, 'source': '<a href=\"http://twitter.com/download/iphone\" rel=\"nofollow\">Twitter for iPhone</a>', 'in_reply_to_status_id': None, 'in_reply_to_status_id_str': None, 'in_reply_to_user_id': None, 'in_reply_to_user_id_str': None, 'in_reply_to_screen_name': None, 'user': {'id': 18983429, 'id_str': '18983429', 'name': 'thaddeus e. grugq thegrugq@infosec.exchange', 'screen_name': 'thegrugq', 'location': 'Boston, MA', 'description': 'Hacker :: https://t.co/km8BR8E1Ga :: thegrugq@gmail.com :: ...  \n",
       "3      {'created_at': 'Wed Jul 12 20:08:49 +0000 2023', 'id': 1679221291780575232, 'id_str': '1679221291780575232', 'text': 'RT @matt_meeta: Every German company history', 'truncated': False, 'entities': {'hashtags': [], 'symbols': [], 'user_mentions': [{'screen_name': 'matt_meeta', 'name': 'Fridtjof Meeta', 'id': 14598682, 'id_str': '14598682', 'indices': [3, 14]}], 'urls': []}, 'source': '<a href=\"http://twitter.com/download/iphone\" rel=\"nofollow\">Twitter for iPhone</a>', 'in_reply_to_status_id': None, 'in_reply_to_status_id_str': None, 'in_reply_to_user_id': None, 'in_reply_to_user_id_str': None, 'in_reply_to_screen_name': None, 'user': {'id': 18983429, 'id_str': '18983429', 'name': 'thaddeus e. grugq thegrugq@infosec.exchange', 'screen_name': 'thegrugq', 'location': 'Boston, MA', 'description': 'Hacker :: https://t.co/km8BR8E1Ga :: thegrugq@gmail.com :: PGP https://t.co/dYipV8y3bo :: @warstudies :: https://t.co/H3dWknFCfk :: https://t.co/Z2lWqEVVua', 'url': 'https://t.co/kZwYMT7vhe', ...  \n",
       "4      {'created_at': 'Wed Jul 12 20:04:54 +0000 2023', 'id': 1679220306098135040, 'id_str': '1679220306098135040', 'text': \"RT @wdormann: Remember folks, don't play video games on a system that you care about.\\nI made a venn diagram to help. https://t.co/YsR22yxPgI\", 'truncated': False, 'entities': {'hashtags': [], 'symbols': [], 'user_mentions': [{'screen_name': 'wdormann', 'name': 'Will Dormann', 'id': 792754729, 'id_str': '792754729', 'indices': [3, 12]}], 'urls': [], 'media': [{'id': 1679204571690725376, 'id_str': '1679204571690725376', 'indices': [117, 140], 'media_url': 'http://pbs.twimg.com/media/F027qUDWcAAshkb.jpg', 'media_url_https': 'https://pbs.twimg.com/media/F027qUDWcAAshkb.jpg', 'url': 'https://t.co/YsR22yxPgI', 'display_url': 'pic.twitter.com/YsR22yxPgI', 'expanded_url': 'https://twitter.com/wdormann/status/1679205097148936201/photo/1', 'type': 'photo', 'sizes': {'large': {'w': 958, 'h': 484, 'resize': 'fit'}, 'thumb': {'w': 150, 'h': 150, 'resize': 'crop'}, 'medium': {'w...  \n",
       "...                                                                                                                                                                                                                                                                                                                                                                                                                                                                                                                                                                                                                                                                                                                                                                                                                                                                                                                                                                                                                                        ...  \n",
       "49112  {'created_at': 'Sun Jan 01 00:45:01 +0000 2023', 'id': 1609349941561884676, 'id_str': '1609349941561884676', 'text': 'The Lawfare Podcast: An Investigation into Russian State Media and Disinformation https://t.co/QnnOLwqXgX', 'truncated': False, 'entities': {'hashtags': [], 'symbols': [], 'user_mentions': [], 'urls': [{'url': 'https://t.co/QnnOLwqXgX', 'expanded_url': 'https://www.lawfareblog.com/lawfare-podcast-investigation-russian-state-media-and-disinformation', 'display_url': 'lawfareblog.com/lawfare-podcas…', 'indices': [82, 105]}]}, 'source': '<a href=\"https://buffer.com\" rel=\"nofollow\">Buffer</a>', 'in_reply_to_status_id': None, 'in_reply_to_status_id_str': None, 'in_reply_to_user_id': None, 'in_reply_to_user_id_str': None, 'in_reply_to_screen_name': None, 'user': {'id': 23508768, 'id_str': '23508768', 'name': 'Patrick C Miller is on Mastodon', 'screen_name': 'PatrickCMiller', 'location': 'Portland, OR', 'description': 'Infrastructure/Industrial Security Advisor. Recovering...  \n",
       "49113  {'created_at': 'Sun Jan 01 00:06:34 +0000 2023', 'id': 1609340266107789317, 'id_str': '1609340266107789317', 'text': 'To all those still in 2022\\n\\n2023 is already here in Ireland https://t.co/phwmigYahg', 'truncated': False, 'entities': {'hashtags': [], 'symbols': [], 'user_mentions': [], 'urls': [], 'media': [{'id': 1609340238119190528, 'id_str': '1609340238119190528', 'indices': [60, 83], 'media_url': 'http://pbs.twimg.com/tweet_video_thumb/FlWGa3_WQAAV2Qe.jpg', 'media_url_https': 'https://pbs.twimg.com/tweet_video_thumb/FlWGa3_WQAAV2Qe.jpg', 'url': 'https://t.co/phwmigYahg', 'display_url': 'pic.twitter.com/phwmigYahg', 'expanded_url': 'https://twitter.com/BrianHonan/status/1609340266107789317/photo/1', 'type': 'photo', 'sizes': {'medium': {'w': 480, 'h': 258, 'resize': 'fit'}, 'thumb': {'w': 150, 'h': 150, 'resize': 'crop'}, 'small': {'w': 480, 'h': 258, 'resize': 'fit'}, 'large': {'w': 480, 'h': 258, 'resize': 'fit'}}}]}, 'extended_entities': {'media': [{'id': 1609340238119190...  \n",
       "49114  {'created_at': 'Sun Jan 01 00:05:15 +0000 2023', 'id': 1609339936720789506, 'id_str': '1609339936720789506', 'text': 'Happy New Year everyone', 'truncated': False, 'entities': {'hashtags': [], 'symbols': [], 'user_mentions': [], 'urls': []}, 'source': '<a href=\"http://tapbots.com/tweetbot\" rel=\"nofollow\">Tweetbot for iΟS</a>', 'in_reply_to_status_id': None, 'in_reply_to_status_id_str': None, 'in_reply_to_user_id': None, 'in_reply_to_user_id_str': None, 'in_reply_to_screen_name': None, 'user': {'id': 14277681, 'id_str': '14277681', 'name': 'Brian Ó hEoghanáin (Brian Honan) #BLM He/Him', 'screen_name': 'BrianHonan', 'location': 'Dublin, Ireland', 'description': \"CEO of @bhconsulting, Head of Ireland's CSIRT @irisscert, & former Special Advisor on CyberSecurity to Europol. @brianhonan@mastodon.social  PGP ID 0xF1B5CF7D\", 'url': 'https://t.co/y2Xq7ahVZy', 'entities': {'url': {'urls': [{'url': 'https://t.co/y2Xq7ahVZy', 'expanded_url': 'http://bhconsulting.ie', 'display_url': 'bhconsult...  \n",
       "49115  {'created_at': 'Sun Jan 01 00:15:00 +0000 2023', 'id': 1609342390510264320, 'id_str': '1609342390510264320', 'text': 'The LastPass disclosure of leaked password vaults is being torn apart by security experts https://t.co/mn4OrkuEO3', 'truncated': False, 'entities': {'hashtags': [], 'symbols': [], 'user_mentions': [], 'urls': [{'url': 'https://t.co/mn4OrkuEO3', 'expanded_url': 'https://www.theverge.com/2022/12/28/23529547/lastpass-vault-breach-disclosure-encryption-cybersecurity-rebuttal', 'display_url': 'theverge.com/2022/12/28/235…', 'indices': [90, 113]}]}, 'source': '<a href=\"https://buffer.com\" rel=\"nofollow\">Buffer</a>', 'in_reply_to_status_id': None, 'in_reply_to_status_id_str': None, 'in_reply_to_user_id': None, 'in_reply_to_user_id_str': None, 'in_reply_to_screen_name': None, 'user': {'id': 23508768, 'id_str': '23508768', 'name': 'Patrick C Miller is on Mastodon', 'screen_name': 'PatrickCMiller', 'location': 'Portland, OR', 'description': 'Infrastructure/Industrial Security...  \n",
       "49116  {'created_at': 'Sat Dec 31 23:45:00 +0000 2022', 'id': 1609334839366352903, 'id_str': '1609334839366352903', 'text': 'Cybersecurity Leaders Outline Future Trends Ahead of Infosecurity Europe 2023 https://t.co/vt0bapeOSF', 'truncated': False, 'entities': {'hashtags': [], 'symbols': [], 'user_mentions': [], 'urls': [{'url': 'https://t.co/vt0bapeOSF', 'expanded_url': 'https://www.infosecurity-magazine.com/news/future-trends-infosecurity-europe/', 'display_url': 'infosecurity-magazine.com/news/future-tr…', 'indices': [78, 101]}]}, 'source': '<a href=\"https://buffer.com\" rel=\"nofollow\">Buffer</a>', 'in_reply_to_status_id': None, 'in_reply_to_status_id_str': None, 'in_reply_to_user_id': None, 'in_reply_to_user_id_str': None, 'in_reply_to_screen_name': None, 'user': {'id': 23508768, 'id_str': '23508768', 'name': 'Patrick C Miller is on Mastodon', 'screen_name': 'PatrickCMiller', 'location': 'Portland, OR', 'description': 'Infrastructure/Industrial Security Advisor. Recovering regulator. @...  \n",
       "\n",
       "[49117 rows x 5 columns]"
      ]
     },
     "execution_count": 3,
     "metadata": {},
     "output_type": "execute_result"
    }
   ],
   "source": [
    "df_twitter = pd.read_csv(file_twitter, low_memory = False)\n",
    "df_twitter = df_twitter.drop(columns=['Unnamed: 0'])\n",
    "df_twitter"
   ]
  },
  {
   "cell_type": "markdown",
   "id": "b00da74b",
   "metadata": {},
   "source": [
    "### Files "
   ]
  },
  {
   "cell_type": "code",
   "execution_count": 4,
   "id": "5a78013d",
   "metadata": {},
   "outputs": [],
   "source": [
    "file_files = r'C:\\Users\\\\leona\\\\OneDrive\\\\Desktop\\\\Tesi\\\\Pipeline\\\\Datasets\\\\Pipeline\\\\FileAnalysis\\\\ER_Schema\\\\Files.csv'"
   ]
  },
  {
   "cell_type": "code",
   "execution_count": 5,
   "id": "e8b1e980",
   "metadata": {
    "scrolled": true
   },
   "outputs": [
    {
     "data": {
      "text/html": [
       "<div>\n",
       "<style scoped>\n",
       "    .dataframe tbody tr th:only-of-type {\n",
       "        vertical-align: middle;\n",
       "    }\n",
       "\n",
       "    .dataframe tbody tr th {\n",
       "        vertical-align: top;\n",
       "    }\n",
       "\n",
       "    .dataframe thead th {\n",
       "        text-align: right;\n",
       "    }\n",
       "</style>\n",
       "<table border=\"1\" class=\"dataframe\">\n",
       "  <thead>\n",
       "    <tr style=\"text-align: right;\">\n",
       "      <th></th>\n",
       "      <th>sha1</th>\n",
       "      <th>sha256</th>\n",
       "      <th>md5</th>\n",
       "      <th>analysis_date</th>\n",
       "      <th>file_type</th>\n",
       "      <th>verdict</th>\n",
       "      <th>malware</th>\n",
       "      <th>malware_type</th>\n",
       "    </tr>\n",
       "  </thead>\n",
       "  <tbody>\n",
       "    <tr>\n",
       "      <th>0</th>\n",
       "      <td>411535c9548f86034a6a9a603de521a86a3b5466</td>\n",
       "      <td>04c53261b1220a894a02f5ffb39cdfd73f93481c0b5c8106d21c91b20205c62d</td>\n",
       "      <td>5b5a0225a2b7b9a054417662c733168a</td>\n",
       "      <td>2021-11-09</td>\n",
       "      <td>exe</td>\n",
       "      <td>malicious</td>\n",
       "      <td>remcos</td>\n",
       "      <td>trojan</td>\n",
       "    </tr>\n",
       "    <tr>\n",
       "      <th>1</th>\n",
       "      <td>1ad9e9761fd6935c0cf5048c9615d0383baac48e</td>\n",
       "      <td>ac901bf5882f14e9e07235b8488b6479b4519addda6dbfb89147401c1e9e6e4f</td>\n",
       "      <td>da9534900ee0d11c9b30cf33152ea03c</td>\n",
       "      <td>2023-07-19</td>\n",
       "      <td>exe</td>\n",
       "      <td>malicious</td>\n",
       "      <td>remcos</td>\n",
       "      <td>trojan</td>\n",
       "    </tr>\n",
       "    <tr>\n",
       "      <th>2</th>\n",
       "      <td>8ab63abfe58fb218cc001581ac0d9fe38c784157</td>\n",
       "      <td>7f514ed5e1ec262953e6252a4089531c519e95d700c5808415b0f049fc59a5f0</td>\n",
       "      <td>855232a26e8afcd0cca5f816a1919dee</td>\n",
       "      <td>2022-01-04</td>\n",
       "      <td>exe</td>\n",
       "      <td>malicious</td>\n",
       "      <td>remcos</td>\n",
       "      <td>rootkit</td>\n",
       "    </tr>\n",
       "    <tr>\n",
       "      <th>3</th>\n",
       "      <td>55cbf8dae95d350ad7e5a63b418f6cd203488f51</td>\n",
       "      <td>8b7ae9f195b075a789d6d8277d500d27754bfa3c53ecca8db7beac8ccd07884f</td>\n",
       "      <td>97d9d216f2627cb238ca6637580b1739</td>\n",
       "      <td>2022-02-09</td>\n",
       "      <td>exe</td>\n",
       "      <td>malicious</td>\n",
       "      <td>remcos</td>\n",
       "      <td>trojan</td>\n",
       "    </tr>\n",
       "    <tr>\n",
       "      <th>4</th>\n",
       "      <td>a2915c1be9e6134b7bf3ca5ca00eeb0c969bedab</td>\n",
       "      <td>6c2a2251861a6d2701814843fadac940cf4d34db9f446f0698352fd866b31739</td>\n",
       "      <td>1b09de36dfe5850d7e3fbd6b39c89a43</td>\n",
       "      <td>2021-02-11</td>\n",
       "      <td>exe</td>\n",
       "      <td>malicious</td>\n",
       "      <td>generic mg</td>\n",
       "      <td>trojan</td>\n",
       "    </tr>\n",
       "    <tr>\n",
       "      <th>...</th>\n",
       "      <td>...</td>\n",
       "      <td>...</td>\n",
       "      <td>...</td>\n",
       "      <td>...</td>\n",
       "      <td>...</td>\n",
       "      <td>...</td>\n",
       "      <td>...</td>\n",
       "      <td>...</td>\n",
       "    </tr>\n",
       "    <tr>\n",
       "      <th>2657</th>\n",
       "      <td>6b6955af591154d3f6e2db35ca9904cce7e264b1</td>\n",
       "      <td>3a9d8c693b7dc6a9c2bf876c5626ebd0923e35bd5f698baed248df7f51f67275</td>\n",
       "      <td>03872a722df0b073a84fd1aa45eb9376</td>\n",
       "      <td>2020-02-20</td>\n",
       "      <td>elf</td>\n",
       "      <td>malicious</td>\n",
       "      <td>evo gen</td>\n",
       "      <td>worm</td>\n",
       "    </tr>\n",
       "    <tr>\n",
       "      <th>2658</th>\n",
       "      <td>3ab53037e2360c42b57d213234ced58717844a71</td>\n",
       "      <td>5de4932cb0ccab3fec711135cdd1af5a09c26a870bfb2d2adc650d0fdbf16488</td>\n",
       "      <td>e0fea510c784eb0e440e99e53d83d414</td>\n",
       "      <td>2021-07-14</td>\n",
       "      <td>exe</td>\n",
       "      <td>malicious</td>\n",
       "      <td>generickd</td>\n",
       "      <td>worm</td>\n",
       "    </tr>\n",
       "    <tr>\n",
       "      <th>2659</th>\n",
       "      <td>4f9b9859a596a8bfdfee516788587ca0c0fb6ae8</td>\n",
       "      <td>f10dd5ce32d72489dd2696e5b58ee115f3cd065969a61a6613cab27bcd57de70</td>\n",
       "      <td>c9f771be253b6ca1d7a808d7d65c5e29</td>\n",
       "      <td>2020-09-08</td>\n",
       "      <td>exe</td>\n",
       "      <td>malicious</td>\n",
       "      <td>malware_tag</td>\n",
       "      <td>ransomware</td>\n",
       "    </tr>\n",
       "    <tr>\n",
       "      <th>2660</th>\n",
       "      <td>d14540087dd6d350fb49e644e53ccefc0e4c1582</td>\n",
       "      <td>dba8a4717d516772b8cc06bd258265f21f7db6ddab62328917524c5a243c67a1</td>\n",
       "      <td>fe783ff4bccd76cb215ee1f7738d9ed5</td>\n",
       "      <td>2021-12-20</td>\n",
       "      <td>exe</td>\n",
       "      <td>unknown</td>\n",
       "      <td>unknown</td>\n",
       "      <td>unknown</td>\n",
       "    </tr>\n",
       "    <tr>\n",
       "      <th>2661</th>\n",
       "      <td>98837feaac2ed17b3709e5183b660dd41e7a1e0e</td>\n",
       "      <td>5b37ddd18800dc91071db31b340e8f9997bb89d42d5a194d7ff8c980a54abe89</td>\n",
       "      <td>1b47215513edd622ba825dced07c8969</td>\n",
       "      <td>2021-11-11</td>\n",
       "      <td>exe</td>\n",
       "      <td>malicious</td>\n",
       "      <td>crypter gen</td>\n",
       "      <td>trojan</td>\n",
       "    </tr>\n",
       "  </tbody>\n",
       "</table>\n",
       "<p>2662 rows × 8 columns</p>\n",
       "</div>"
      ],
      "text/plain": [
       "                                          sha1  \\\n",
       "0     411535c9548f86034a6a9a603de521a86a3b5466   \n",
       "1     1ad9e9761fd6935c0cf5048c9615d0383baac48e   \n",
       "2     8ab63abfe58fb218cc001581ac0d9fe38c784157   \n",
       "3     55cbf8dae95d350ad7e5a63b418f6cd203488f51   \n",
       "4     a2915c1be9e6134b7bf3ca5ca00eeb0c969bedab   \n",
       "...                                        ...   \n",
       "2657  6b6955af591154d3f6e2db35ca9904cce7e264b1   \n",
       "2658  3ab53037e2360c42b57d213234ced58717844a71   \n",
       "2659  4f9b9859a596a8bfdfee516788587ca0c0fb6ae8   \n",
       "2660  d14540087dd6d350fb49e644e53ccefc0e4c1582   \n",
       "2661  98837feaac2ed17b3709e5183b660dd41e7a1e0e   \n",
       "\n",
       "                                                                sha256  \\\n",
       "0     04c53261b1220a894a02f5ffb39cdfd73f93481c0b5c8106d21c91b20205c62d   \n",
       "1     ac901bf5882f14e9e07235b8488b6479b4519addda6dbfb89147401c1e9e6e4f   \n",
       "2     7f514ed5e1ec262953e6252a4089531c519e95d700c5808415b0f049fc59a5f0   \n",
       "3     8b7ae9f195b075a789d6d8277d500d27754bfa3c53ecca8db7beac8ccd07884f   \n",
       "4     6c2a2251861a6d2701814843fadac940cf4d34db9f446f0698352fd866b31739   \n",
       "...                                                                ...   \n",
       "2657  3a9d8c693b7dc6a9c2bf876c5626ebd0923e35bd5f698baed248df7f51f67275   \n",
       "2658  5de4932cb0ccab3fec711135cdd1af5a09c26a870bfb2d2adc650d0fdbf16488   \n",
       "2659  f10dd5ce32d72489dd2696e5b58ee115f3cd065969a61a6613cab27bcd57de70   \n",
       "2660  dba8a4717d516772b8cc06bd258265f21f7db6ddab62328917524c5a243c67a1   \n",
       "2661  5b37ddd18800dc91071db31b340e8f9997bb89d42d5a194d7ff8c980a54abe89   \n",
       "\n",
       "                                   md5 analysis_date file_type    verdict  \\\n",
       "0     5b5a0225a2b7b9a054417662c733168a    2021-11-09       exe  malicious   \n",
       "1     da9534900ee0d11c9b30cf33152ea03c    2023-07-19       exe  malicious   \n",
       "2     855232a26e8afcd0cca5f816a1919dee    2022-01-04       exe  malicious   \n",
       "3     97d9d216f2627cb238ca6637580b1739    2022-02-09       exe  malicious   \n",
       "4     1b09de36dfe5850d7e3fbd6b39c89a43    2021-02-11       exe  malicious   \n",
       "...                                ...           ...       ...        ...   \n",
       "2657  03872a722df0b073a84fd1aa45eb9376    2020-02-20       elf  malicious   \n",
       "2658  e0fea510c784eb0e440e99e53d83d414    2021-07-14       exe  malicious   \n",
       "2659  c9f771be253b6ca1d7a808d7d65c5e29    2020-09-08       exe  malicious   \n",
       "2660  fe783ff4bccd76cb215ee1f7738d9ed5    2021-12-20       exe    unknown   \n",
       "2661  1b47215513edd622ba825dced07c8969    2021-11-11       exe  malicious   \n",
       "\n",
       "          malware malware_type  \n",
       "0          remcos       trojan  \n",
       "1          remcos       trojan  \n",
       "2          remcos      rootkit  \n",
       "3          remcos       trojan  \n",
       "4      generic mg       trojan  \n",
       "...           ...          ...  \n",
       "2657      evo gen         worm  \n",
       "2658    generickd         worm  \n",
       "2659  malware_tag   ransomware  \n",
       "2660      unknown      unknown  \n",
       "2661  crypter gen       trojan  \n",
       "\n",
       "[2662 rows x 8 columns]"
      ]
     },
     "execution_count": 5,
     "metadata": {},
     "output_type": "execute_result"
    }
   ],
   "source": [
    "df_files = pd.read_csv(file_files, low_memory = False)\n",
    "#df_files = df_files.drop(columns=['Unnamed: 0'])\n",
    "df_files"
   ]
  },
  {
   "cell_type": "markdown",
   "id": "dd09bef9",
   "metadata": {},
   "source": [
    "### Search by Malware name"
   ]
  },
  {
   "cell_type": "code",
   "execution_count": 6,
   "id": "dab63e0c",
   "metadata": {},
   "outputs": [
    {
     "data": {
      "text/plain": [
       "['remcos',\n",
       " 'generic mg',\n",
       " 'njrat',\n",
       " 'bitrat',\n",
       " 'mirai',\n",
       " 'injector gen',\n",
       " 'generickd',\n",
       " 'quasar rat',\n",
       " 'muldrop',\n",
       " 'netwire',\n",
       " 'ave maria',\n",
       " 'script cryxos',\n",
       " 'downloader gen',\n",
       " 'orcus',\n",
       " 'x gen drp',\n",
       " 'agent tesla',\n",
       " 'malware_tag',\n",
       " 'nanocore rat',\n",
       " 'redline stealer',\n",
       " 'lumma stealer',\n",
       " 'siggen',\n",
       " 'spynote',\n",
       " 'kryptik gen',\n",
       " 'obfus',\n",
       " 'kryptik gen eldorado',\n",
       " 'valyria',\n",
       " 'artemis',\n",
       " 'twave evil',\n",
       " 'java gen',\n",
       " 'borlanddelphi',\n",
       " 'cobalt strike',\n",
       " 'aidetect net',\n",
       " 'miscreantpunch',\n",
       " 'perseus',\n",
       " 'behaveslike generic',\n",
       " 'heracles',\n",
       " 'darkcomet',\n",
       " 'evo gen',\n",
       " 'crypter gen',\n",
       " 'wannacryptor',\n",
       " 'formbook',\n",
       " 'azorult',\n",
       " 'genmalicious',\n",
       " 'unknown',\n",
       " 'bv downloader drp',\n",
       " 'ddos',\n",
       " 'gafgyt',\n",
       " 'keylogger gen',\n",
       " 'cve exploit',\n",
       " 'banker gen',\n",
       " 'autoit',\n",
       " 'exploitx',\n",
       " 'coinminer generic',\n",
       " 'loki password stealer  pws',\n",
       " 'meterpreter',\n",
       " 'crimson rat',\n",
       " 'nanobot',\n",
       " 'ghost rat',\n",
       " 'autoitinject']"
      ]
     },
     "execution_count": 6,
     "metadata": {},
     "output_type": "execute_result"
    }
   ],
   "source": [
    "all_malware_list = list(df_files.malware.unique())\n",
    "all_malware_list"
   ]
  },
  {
   "cell_type": "markdown",
   "id": "f7628135",
   "metadata": {},
   "source": [
    "### Lemmatization"
   ]
  },
  {
   "cell_type": "code",
   "execution_count": 7,
   "id": "982020f6",
   "metadata": {},
   "outputs": [
    {
     "name": "stdout",
     "output_type": "stream",
     "text": [
      "Requirement already satisfied: spacy in c:\\users\\leona\\anaconda3\\lib\\site-packages (3.7.2)\n",
      "Requirement already satisfied: spacy-legacy<3.1.0,>=3.0.11 in c:\\users\\leona\\anaconda3\\lib\\site-packages (from spacy) (3.0.12)\n",
      "Requirement already satisfied: spacy-loggers<2.0.0,>=1.0.0 in c:\\users\\leona\\anaconda3\\lib\\site-packages (from spacy) (1.0.5)\n",
      "Requirement already satisfied: murmurhash<1.1.0,>=0.28.0 in c:\\users\\leona\\anaconda3\\lib\\site-packages (from spacy) (1.0.10)\n",
      "Requirement already satisfied: cymem<2.1.0,>=2.0.2 in c:\\users\\leona\\anaconda3\\lib\\site-packages (from spacy) (2.0.8)\n",
      "Requirement already satisfied: preshed<3.1.0,>=3.0.2 in c:\\users\\leona\\anaconda3\\lib\\site-packages (from spacy) (3.0.9)\n",
      "Requirement already satisfied: thinc<8.3.0,>=8.1.8 in c:\\users\\leona\\anaconda3\\lib\\site-packages (from spacy) (8.2.2)\n",
      "Requirement already satisfied: wasabi<1.2.0,>=0.9.1 in c:\\users\\leona\\anaconda3\\lib\\site-packages (from spacy) (1.1.2)\n",
      "Requirement already satisfied: srsly<3.0.0,>=2.4.3 in c:\\users\\leona\\anaconda3\\lib\\site-packages (from spacy) (2.4.8)\n",
      "Requirement already satisfied: catalogue<2.1.0,>=2.0.6 in c:\\users\\leona\\anaconda3\\lib\\site-packages (from spacy) (2.0.10)\n",
      "Requirement already satisfied: weasel<0.4.0,>=0.1.0 in c:\\users\\leona\\anaconda3\\lib\\site-packages (from spacy) (0.3.4)\n",
      "Requirement already satisfied: typer<0.10.0,>=0.3.0 in c:\\users\\leona\\anaconda3\\lib\\site-packages (from spacy) (0.9.0)\n",
      "Requirement already satisfied: smart-open<7.0.0,>=5.2.1 in c:\\users\\leona\\anaconda3\\lib\\site-packages (from spacy) (5.2.1)\n",
      "Requirement already satisfied: tqdm<5.0.0,>=4.38.0 in c:\\users\\leona\\anaconda3\\lib\\site-packages (from spacy) (4.65.0)\n",
      "Requirement already satisfied: requests<3.0.0,>=2.13.0 in c:\\users\\leona\\anaconda3\\lib\\site-packages (from spacy) (2.31.0)\n",
      "Requirement already satisfied: pydantic!=1.8,!=1.8.1,<3.0.0,>=1.7.4 in c:\\users\\leona\\anaconda3\\lib\\site-packages (from spacy) (2.5.3)\n",
      "Requirement already satisfied: jinja2 in c:\\users\\leona\\anaconda3\\lib\\site-packages (from spacy) (3.1.2)\n",
      "Requirement already satisfied: setuptools in c:\\users\\leona\\anaconda3\\lib\\site-packages (from spacy) (68.0.0)\n",
      "Requirement already satisfied: packaging>=20.0 in c:\\users\\leona\\anaconda3\\lib\\site-packages (from spacy) (23.1)\n",
      "Requirement already satisfied: langcodes<4.0.0,>=3.2.0 in c:\\users\\leona\\anaconda3\\lib\\site-packages (from spacy) (3.3.0)\n",
      "Requirement already satisfied: numpy>=1.19.0 in c:\\users\\leona\\anaconda3\\lib\\site-packages (from spacy) (1.24.3)\n",
      "Requirement already satisfied: annotated-types>=0.4.0 in c:\\users\\leona\\anaconda3\\lib\\site-packages (from pydantic!=1.8,!=1.8.1,<3.0.0,>=1.7.4->spacy) (0.6.0)\n",
      "Requirement already satisfied: pydantic-core==2.14.6 in c:\\users\\leona\\anaconda3\\lib\\site-packages (from pydantic!=1.8,!=1.8.1,<3.0.0,>=1.7.4->spacy) (2.14.6)\n",
      "Requirement already satisfied: typing-extensions>=4.6.1 in c:\\users\\leona\\anaconda3\\lib\\site-packages (from pydantic!=1.8,!=1.8.1,<3.0.0,>=1.7.4->spacy) (4.7.1)\n",
      "Requirement already satisfied: charset-normalizer<4,>=2 in c:\\users\\leona\\anaconda3\\lib\\site-packages (from requests<3.0.0,>=2.13.0->spacy) (2.0.4)\n",
      "Requirement already satisfied: idna<4,>=2.5 in c:\\users\\leona\\anaconda3\\lib\\site-packages (from requests<3.0.0,>=2.13.0->spacy) (2.10)\n",
      "Requirement already satisfied: urllib3<3,>=1.21.1 in c:\\users\\leona\\anaconda3\\lib\\site-packages (from requests<3.0.0,>=2.13.0->spacy) (1.26.16)\n",
      "Requirement already satisfied: certifi>=2017.4.17 in c:\\users\\leona\\anaconda3\\lib\\site-packages (from requests<3.0.0,>=2.13.0->spacy) (2023.7.22)\n",
      "Requirement already satisfied: blis<0.8.0,>=0.7.8 in c:\\users\\leona\\anaconda3\\lib\\site-packages (from thinc<8.3.0,>=8.1.8->spacy) (0.7.11)\n",
      "Requirement already satisfied: confection<1.0.0,>=0.0.1 in c:\\users\\leona\\anaconda3\\lib\\site-packages (from thinc<8.3.0,>=8.1.8->spacy) (0.1.4)\n",
      "Requirement already satisfied: colorama in c:\\users\\leona\\anaconda3\\lib\\site-packages (from tqdm<5.0.0,>=4.38.0->spacy) (0.4.6)\n",
      "Requirement already satisfied: click<9.0.0,>=7.1.1 in c:\\users\\leona\\anaconda3\\lib\\site-packages (from typer<0.10.0,>=0.3.0->spacy) (8.0.4)\n",
      "Requirement already satisfied: cloudpathlib<0.17.0,>=0.7.0 in c:\\users\\leona\\anaconda3\\lib\\site-packages (from weasel<0.4.0,>=0.1.0->spacy) (0.16.0)\n",
      "Requirement already satisfied: MarkupSafe>=2.0 in c:\\users\\leona\\anaconda3\\lib\\site-packages (from jinja2->spacy) (2.1.1)\n",
      "Note: you may need to restart the kernel to use updated packages.\n"
     ]
    }
   ],
   "source": [
    "pip install spacy\n"
   ]
  },
  {
   "cell_type": "code",
   "execution_count": 8,
   "id": "f0a24cdf",
   "metadata": {},
   "outputs": [
    {
     "name": "stdout",
     "output_type": "stream",
     "text": [
      "Collecting en-core-web-sm==3.7.1\n",
      "  Downloading https://github.com/explosion/spacy-models/releases/download/en_core_web_sm-3.7.1/en_core_web_sm-3.7.1-py3-none-any.whl (12.8 MB)\n",
      "     ---------------------------------------- 0.0/12.8 MB ? eta -:--:--\n",
      "     ---------------------------------------- 0.0/12.8 MB ? eta -:--:--\n",
      "     --------------------------------------- 0.0/12.8 MB 660.6 kB/s eta 0:00:20\n",
      "     --------------------------------------- 0.1/12.8 MB 544.7 kB/s eta 0:00:24\n",
      "     --------------------------------------- 0.1/12.8 MB 944.1 kB/s eta 0:00:14\n",
      "      --------------------------------------- 0.2/12.8 MB 1.1 MB/s eta 0:00:12\n",
      "      --------------------------------------- 0.3/12.8 MB 1.2 MB/s eta 0:00:11\n",
      "     - -------------------------------------- 0.4/12.8 MB 1.3 MB/s eta 0:00:10\n",
      "     - -------------------------------------- 0.5/12.8 MB 1.3 MB/s eta 0:00:10\n",
      "     - -------------------------------------- 0.5/12.8 MB 1.4 MB/s eta 0:00:09\n",
      "     - -------------------------------------- 0.6/12.8 MB 1.3 MB/s eta 0:00:10\n",
      "     - -------------------------------------- 0.6/12.8 MB 1.3 MB/s eta 0:00:10\n",
      "     -- ------------------------------------- 0.7/12.8 MB 1.3 MB/s eta 0:00:10\n",
      "     -- ------------------------------------- 0.7/12.8 MB 1.2 MB/s eta 0:00:10\n",
      "     -- ------------------------------------- 0.8/12.8 MB 1.3 MB/s eta 0:00:10\n",
      "     -- ------------------------------------- 0.9/12.8 MB 1.4 MB/s eta 0:00:09\n",
      "     --- ------------------------------------ 1.0/12.8 MB 1.4 MB/s eta 0:00:09\n",
      "     --- ------------------------------------ 1.1/12.8 MB 1.4 MB/s eta 0:00:09\n",
      "     --- ------------------------------------ 1.1/12.8 MB 1.4 MB/s eta 0:00:09\n",
      "     --- ------------------------------------ 1.2/12.8 MB 1.4 MB/s eta 0:00:09\n",
      "     --- ------------------------------------ 1.3/12.8 MB 1.5 MB/s eta 0:00:08\n",
      "     ---- ----------------------------------- 1.4/12.8 MB 1.5 MB/s eta 0:00:08\n",
      "     ---- ----------------------------------- 1.4/12.8 MB 1.5 MB/s eta 0:00:08\n",
      "     ---- ----------------------------------- 1.5/12.8 MB 1.5 MB/s eta 0:00:08\n",
      "     ---- ----------------------------------- 1.5/12.8 MB 1.4 MB/s eta 0:00:08\n",
      "     ---- ----------------------------------- 1.6/12.8 MB 1.5 MB/s eta 0:00:08\n",
      "     ----- ---------------------------------- 1.6/12.8 MB 1.4 MB/s eta 0:00:08\n",
      "     ----- ---------------------------------- 1.7/12.8 MB 1.5 MB/s eta 0:00:08\n",
      "     ----- ---------------------------------- 1.8/12.8 MB 1.5 MB/s eta 0:00:08\n",
      "     ----- ---------------------------------- 1.9/12.8 MB 1.5 MB/s eta 0:00:08\n",
      "     ------ --------------------------------- 1.9/12.8 MB 1.5 MB/s eta 0:00:08\n",
      "     ------ --------------------------------- 2.0/12.8 MB 1.5 MB/s eta 0:00:08\n",
      "     ------ --------------------------------- 2.1/12.8 MB 1.5 MB/s eta 0:00:08\n",
      "     ------ --------------------------------- 2.1/12.8 MB 1.5 MB/s eta 0:00:08\n",
      "     ------ --------------------------------- 2.2/12.8 MB 1.4 MB/s eta 0:00:08\n",
      "     ------ --------------------------------- 2.2/12.8 MB 1.4 MB/s eta 0:00:08\n",
      "     ------- -------------------------------- 2.3/12.8 MB 1.5 MB/s eta 0:00:08\n",
      "     ------- -------------------------------- 2.4/12.8 MB 1.5 MB/s eta 0:00:08\n",
      "     ------- -------------------------------- 2.4/12.8 MB 1.5 MB/s eta 0:00:08\n",
      "     ------- -------------------------------- 2.5/12.8 MB 1.5 MB/s eta 0:00:07\n",
      "     -------- ------------------------------- 2.6/12.8 MB 1.5 MB/s eta 0:00:07\n",
      "     -------- ------------------------------- 2.7/12.8 MB 1.5 MB/s eta 0:00:07\n",
      "     -------- ------------------------------- 2.8/12.8 MB 1.5 MB/s eta 0:00:07\n",
      "     -------- ------------------------------- 2.9/12.8 MB 1.5 MB/s eta 0:00:07\n",
      "     --------- ------------------------------ 3.0/12.8 MB 1.5 MB/s eta 0:00:07\n",
      "     --------- ------------------------------ 3.0/12.8 MB 1.5 MB/s eta 0:00:07\n",
      "     --------- ------------------------------ 3.1/12.8 MB 1.5 MB/s eta 0:00:07\n",
      "     ---------- ----------------------------- 3.2/12.8 MB 1.6 MB/s eta 0:00:07\n",
      "     ---------- ----------------------------- 3.3/12.8 MB 1.6 MB/s eta 0:00:07\n",
      "     ---------- ----------------------------- 3.4/12.8 MB 1.6 MB/s eta 0:00:07\n",
      "     ---------- ----------------------------- 3.5/12.8 MB 1.6 MB/s eta 0:00:06\n",
      "     ----------- ---------------------------- 3.6/12.8 MB 1.6 MB/s eta 0:00:06\n",
      "     ----------- ---------------------------- 3.7/12.8 MB 1.6 MB/s eta 0:00:06\n",
      "     ----------- ---------------------------- 3.7/12.8 MB 1.6 MB/s eta 0:00:06\n",
      "     ----------- ---------------------------- 3.8/12.8 MB 1.6 MB/s eta 0:00:06\n",
      "     ------------ --------------------------- 3.9/12.8 MB 1.6 MB/s eta 0:00:06\n",
      "     ------------ --------------------------- 4.0/12.8 MB 1.6 MB/s eta 0:00:06\n",
      "     ------------ --------------------------- 4.0/12.8 MB 1.6 MB/s eta 0:00:06\n",
      "     ------------ --------------------------- 4.1/12.8 MB 1.6 MB/s eta 0:00:06\n",
      "     ------------- -------------------------- 4.2/12.8 MB 1.6 MB/s eta 0:00:06\n",
      "     ------------- -------------------------- 4.3/12.8 MB 1.6 MB/s eta 0:00:06\n",
      "     ------------- -------------------------- 4.3/12.8 MB 1.6 MB/s eta 0:00:06\n",
      "     ------------- -------------------------- 4.3/12.8 MB 1.6 MB/s eta 0:00:06\n",
      "     ------------- -------------------------- 4.3/12.8 MB 1.6 MB/s eta 0:00:06\n",
      "     -------------- ------------------------- 4.6/12.8 MB 1.6 MB/s eta 0:00:06\n",
      "     -------------- ------------------------- 4.6/12.8 MB 1.6 MB/s eta 0:00:06\n",
      "     -------------- ------------------------- 4.7/12.8 MB 1.6 MB/s eta 0:00:06\n",
      "     --------------- ------------------------ 4.8/12.8 MB 1.6 MB/s eta 0:00:05\n",
      "     --------------- ------------------------ 4.8/12.8 MB 1.6 MB/s eta 0:00:06\n",
      "     --------------- ------------------------ 5.0/12.8 MB 1.6 MB/s eta 0:00:05\n",
      "     --------------- ------------------------ 5.1/12.8 MB 1.6 MB/s eta 0:00:05\n",
      "     ---------------- ----------------------- 5.2/12.8 MB 1.6 MB/s eta 0:00:05\n",
      "     ---------------- ----------------------- 5.2/12.8 MB 1.6 MB/s eta 0:00:05\n",
      "     ---------------- ----------------------- 5.3/12.8 MB 1.6 MB/s eta 0:00:05\n",
      "     ---------------- ----------------------- 5.4/12.8 MB 1.6 MB/s eta 0:00:05\n",
      "     ----------------- ---------------------- 5.5/12.8 MB 1.6 MB/s eta 0:00:05\n",
      "     ----------------- ---------------------- 5.6/12.8 MB 1.6 MB/s eta 0:00:05\n",
      "     ----------------- ---------------------- 5.7/12.8 MB 1.6 MB/s eta 0:00:05\n",
      "     ----------------- ---------------------- 5.7/12.8 MB 1.6 MB/s eta 0:00:05\n",
      "     ----------------- ---------------------- 5.8/12.8 MB 1.6 MB/s eta 0:00:05\n",
      "     ------------------ --------------------- 5.8/12.8 MB 1.6 MB/s eta 0:00:05\n",
      "     ------------------ --------------------- 5.8/12.8 MB 1.6 MB/s eta 0:00:05\n",
      "     ------------------ --------------------- 5.9/12.8 MB 1.6 MB/s eta 0:00:05\n",
      "     ------------------ --------------------- 6.0/12.8 MB 1.6 MB/s eta 0:00:05\n",
      "     ------------------ --------------------- 6.1/12.8 MB 1.6 MB/s eta 0:00:05\n",
      "     ------------------- -------------------- 6.1/12.8 MB 1.6 MB/s eta 0:00:05\n",
      "     ------------------- -------------------- 6.2/12.8 MB 1.6 MB/s eta 0:00:05\n",
      "     ------------------- -------------------- 6.3/12.8 MB 1.6 MB/s eta 0:00:05\n",
      "     ------------------- -------------------- 6.3/12.8 MB 1.6 MB/s eta 0:00:05\n",
      "     ------------------- -------------------- 6.4/12.8 MB 1.6 MB/s eta 0:00:05\n",
      "     -------------------- ------------------- 6.5/12.8 MB 1.6 MB/s eta 0:00:04\n",
      "     -------------------- ------------------- 6.6/12.8 MB 1.6 MB/s eta 0:00:04\n",
      "     -------------------- ------------------- 6.6/12.8 MB 1.6 MB/s eta 0:00:04\n",
      "     -------------------- ------------------- 6.7/12.8 MB 1.6 MB/s eta 0:00:04\n",
      "     --------------------- ------------------ 6.8/12.8 MB 1.6 MB/s eta 0:00:04\n",
      "     --------------------- ------------------ 6.9/12.8 MB 1.6 MB/s eta 0:00:04\n",
      "     ---------------------- ----------------- 7.0/12.8 MB 1.6 MB/s eta 0:00:04\n",
      "     ---------------------- ----------------- 7.1/12.8 MB 1.6 MB/s eta 0:00:04\n",
      "     ---------------------- ----------------- 7.2/12.8 MB 1.6 MB/s eta 0:00:04\n",
      "     ---------------------- ----------------- 7.3/12.8 MB 1.6 MB/s eta 0:00:04\n",
      "     ----------------------- ---------------- 7.4/12.8 MB 1.6 MB/s eta 0:00:04\n",
      "     ----------------------- ---------------- 7.5/12.8 MB 1.6 MB/s eta 0:00:04\n",
      "     ----------------------- ---------------- 7.5/12.8 MB 1.6 MB/s eta 0:00:04\n",
      "     ----------------------- ---------------- 7.7/12.8 MB 1.6 MB/s eta 0:00:04\n",
      "     ------------------------ --------------- 7.8/12.8 MB 1.6 MB/s eta 0:00:04\n",
      "     ------------------------ --------------- 7.9/12.8 MB 1.7 MB/s eta 0:00:03\n",
      "     ------------------------ --------------- 7.9/12.8 MB 1.7 MB/s eta 0:00:03\n",
      "     ------------------------- -------------- 8.0/12.8 MB 1.7 MB/s eta 0:00:03\n",
      "     ------------------------- -------------- 8.1/12.8 MB 1.7 MB/s eta 0:00:03\n",
      "     ------------------------- -------------- 8.2/12.8 MB 1.7 MB/s eta 0:00:03\n",
      "     ------------------------- -------------- 8.3/12.8 MB 1.7 MB/s eta 0:00:03\n",
      "     -------------------------- ------------- 8.4/12.8 MB 1.7 MB/s eta 0:00:03\n",
      "     -------------------------- ------------- 8.4/12.8 MB 1.7 MB/s eta 0:00:03\n",
      "     -------------------------- ------------- 8.4/12.8 MB 1.7 MB/s eta 0:00:03\n",
      "     -------------------------- ------------- 8.5/12.8 MB 1.7 MB/s eta 0:00:03\n",
      "     -------------------------- ------------- 8.5/12.8 MB 1.6 MB/s eta 0:00:03\n",
      "     -------------------------- ------------- 8.6/12.8 MB 1.6 MB/s eta 0:00:03\n",
      "     -------------------------- ------------- 8.6/12.8 MB 1.6 MB/s eta 0:00:03\n",
      "     --------------------------- ------------ 8.7/12.8 MB 1.6 MB/s eta 0:00:03\n",
      "     --------------------------- ------------ 8.8/12.8 MB 1.6 MB/s eta 0:00:03\n",
      "     --------------------------- ------------ 8.9/12.8 MB 1.6 MB/s eta 0:00:03\n",
      "     --------------------------- ------------ 9.0/12.8 MB 1.6 MB/s eta 0:00:03\n",
      "     ---------------------------- ----------- 9.1/12.8 MB 1.6 MB/s eta 0:00:03\n",
      "     ---------------------------- ----------- 9.1/12.8 MB 1.7 MB/s eta 0:00:03\n",
      "     ---------------------------- ----------- 9.2/12.8 MB 1.7 MB/s eta 0:00:03\n",
      "     ----------------------------- ---------- 9.3/12.8 MB 1.7 MB/s eta 0:00:03\n",
      "     ----------------------------- ---------- 9.4/12.8 MB 1.7 MB/s eta 0:00:03\n",
      "     ----------------------------- ---------- 9.5/12.8 MB 1.7 MB/s eta 0:00:03\n",
      "     ----------------------------- ---------- 9.6/12.8 MB 1.7 MB/s eta 0:00:02\n",
      "     ------------------------------ --------- 9.6/12.8 MB 1.7 MB/s eta 0:00:02\n",
      "     ------------------------------ --------- 9.7/12.8 MB 1.7 MB/s eta 0:00:02\n",
      "     ------------------------------ --------- 9.8/12.8 MB 1.7 MB/s eta 0:00:02\n",
      "     ------------------------------ --------- 9.9/12.8 MB 1.7 MB/s eta 0:00:02\n",
      "     ------------------------------- -------- 9.9/12.8 MB 1.7 MB/s eta 0:00:02\n",
      "     ------------------------------- -------- 10.1/12.8 MB 1.7 MB/s eta 0:00:02\n",
      "     ------------------------------- -------- 10.2/12.8 MB 1.7 MB/s eta 0:00:02\n",
      "     -------------------------------- ------- 10.3/12.8 MB 1.7 MB/s eta 0:00:02\n",
      "     -------------------------------- ------- 10.3/12.8 MB 1.7 MB/s eta 0:00:02\n",
      "     -------------------------------- ------- 10.4/12.8 MB 1.7 MB/s eta 0:00:02\n",
      "     -------------------------------- ------- 10.5/12.8 MB 1.7 MB/s eta 0:00:02\n",
      "     -------------------------------- ------- 10.6/12.8 MB 1.7 MB/s eta 0:00:02\n",
      "     --------------------------------- ------ 10.6/12.8 MB 1.7 MB/s eta 0:00:02\n",
      "     --------------------------------- ------ 10.6/12.8 MB 1.7 MB/s eta 0:00:02\n",
      "     --------------------------------- ------ 10.6/12.8 MB 1.7 MB/s eta 0:00:02\n",
      "     --------------------------------- ------ 10.7/12.8 MB 1.7 MB/s eta 0:00:02\n",
      "     --------------------------------- ------ 10.7/12.8 MB 1.7 MB/s eta 0:00:02\n",
      "     --------------------------------- ------ 10.8/12.8 MB 1.7 MB/s eta 0:00:02\n",
      "     --------------------------------- ------ 10.8/12.8 MB 1.7 MB/s eta 0:00:02\n",
      "     --------------------------------- ------ 10.8/12.8 MB 1.7 MB/s eta 0:00:02\n",
      "     ---------------------------------- ----- 10.9/12.8 MB 1.7 MB/s eta 0:00:02\n",
      "     ---------------------------------- ----- 11.0/12.8 MB 1.7 MB/s eta 0:00:02\n",
      "     ---------------------------------- ----- 11.1/12.8 MB 1.7 MB/s eta 0:00:02\n",
      "     ---------------------------------- ----- 11.2/12.8 MB 1.7 MB/s eta 0:00:01\n",
      "     ----------------------------------- ---- 11.3/12.8 MB 1.7 MB/s eta 0:00:01\n",
      "     ----------------------------------- ---- 11.3/12.8 MB 1.7 MB/s eta 0:00:01\n",
      "     ----------------------------------- ---- 11.4/12.8 MB 1.7 MB/s eta 0:00:01\n",
      "     ----------------------------------- ---- 11.4/12.8 MB 1.7 MB/s eta 0:00:01\n",
      "     ------------------------------------ --- 11.5/12.8 MB 1.7 MB/s eta 0:00:01\n",
      "     ------------------------------------ --- 11.6/12.8 MB 1.7 MB/s eta 0:00:01\n",
      "     ------------------------------------ --- 11.7/12.8 MB 1.7 MB/s eta 0:00:01\n",
      "     ------------------------------------ --- 11.8/12.8 MB 1.7 MB/s eta 0:00:01\n",
      "     ------------------------------------ --- 11.8/12.8 MB 1.7 MB/s eta 0:00:01\n",
      "     ------------------------------------- -- 11.9/12.8 MB 1.7 MB/s eta 0:00:01\n",
      "     ------------------------------------- -- 12.0/12.8 MB 1.7 MB/s eta 0:00:01\n",
      "     ------------------------------------- -- 12.1/12.8 MB 1.7 MB/s eta 0:00:01\n",
      "     ------------------------------------- -- 12.2/12.8 MB 1.7 MB/s eta 0:00:01\n",
      "     -------------------------------------- - 12.2/12.8 MB 1.7 MB/s eta 0:00:01\n",
      "     -------------------------------------- - 12.3/12.8 MB 1.7 MB/s eta 0:00:01\n",
      "     -------------------------------------- - 12.4/12.8 MB 1.7 MB/s eta 0:00:01\n",
      "     -------------------------------------- - 12.4/12.8 MB 1.7 MB/s eta 0:00:01\n",
      "     ---------------------------------------  12.5/12.8 MB 1.7 MB/s eta 0:00:01\n",
      "     ---------------------------------------  12.6/12.8 MB 1.7 MB/s eta 0:00:01\n",
      "     ---------------------------------------  12.7/12.8 MB 1.7 MB/s eta 0:00:01\n",
      "     ---------------------------------------  12.7/12.8 MB 1.7 MB/s eta 0:00:01\n",
      "     ---------------------------------------  12.8/12.8 MB 1.7 MB/s eta 0:00:01\n",
      "     ---------------------------------------  12.8/12.8 MB 1.7 MB/s eta 0:00:01\n",
      "     ---------------------------------------- 12.8/12.8 MB 1.7 MB/s eta 0:00:00\n",
      "Requirement already satisfied: spacy<3.8.0,>=3.7.2 in c:\\users\\leona\\anaconda3\\lib\\site-packages (from en-core-web-sm==3.7.1) (3.7.2)\n",
      "Requirement already satisfied: spacy-legacy<3.1.0,>=3.0.11 in c:\\users\\leona\\anaconda3\\lib\\site-packages (from spacy<3.8.0,>=3.7.2->en-core-web-sm==3.7.1) (3.0.12)\n",
      "Requirement already satisfied: spacy-loggers<2.0.0,>=1.0.0 in c:\\users\\leona\\anaconda3\\lib\\site-packages (from spacy<3.8.0,>=3.7.2->en-core-web-sm==3.7.1) (1.0.5)\n",
      "Requirement already satisfied: murmurhash<1.1.0,>=0.28.0 in c:\\users\\leona\\anaconda3\\lib\\site-packages (from spacy<3.8.0,>=3.7.2->en-core-web-sm==3.7.1) (1.0.10)\n",
      "Requirement already satisfied: cymem<2.1.0,>=2.0.2 in c:\\users\\leona\\anaconda3\\lib\\site-packages (from spacy<3.8.0,>=3.7.2->en-core-web-sm==3.7.1) (2.0.8)\n",
      "Requirement already satisfied: preshed<3.1.0,>=3.0.2 in c:\\users\\leona\\anaconda3\\lib\\site-packages (from spacy<3.8.0,>=3.7.2->en-core-web-sm==3.7.1) (3.0.9)\n",
      "Requirement already satisfied: thinc<8.3.0,>=8.1.8 in c:\\users\\leona\\anaconda3\\lib\\site-packages (from spacy<3.8.0,>=3.7.2->en-core-web-sm==3.7.1) (8.2.2)\n",
      "Requirement already satisfied: wasabi<1.2.0,>=0.9.1 in c:\\users\\leona\\anaconda3\\lib\\site-packages (from spacy<3.8.0,>=3.7.2->en-core-web-sm==3.7.1) (1.1.2)\n",
      "Requirement already satisfied: srsly<3.0.0,>=2.4.3 in c:\\users\\leona\\anaconda3\\lib\\site-packages (from spacy<3.8.0,>=3.7.2->en-core-web-sm==3.7.1) (2.4.8)\n",
      "Requirement already satisfied: catalogue<2.1.0,>=2.0.6 in c:\\users\\leona\\anaconda3\\lib\\site-packages (from spacy<3.8.0,>=3.7.2->en-core-web-sm==3.7.1) (2.0.10)\n",
      "Requirement already satisfied: weasel<0.4.0,>=0.1.0 in c:\\users\\leona\\anaconda3\\lib\\site-packages (from spacy<3.8.0,>=3.7.2->en-core-web-sm==3.7.1) (0.3.4)\n",
      "Requirement already satisfied: typer<0.10.0,>=0.3.0 in c:\\users\\leona\\anaconda3\\lib\\site-packages (from spacy<3.8.0,>=3.7.2->en-core-web-sm==3.7.1) (0.9.0)\n",
      "Requirement already satisfied: smart-open<7.0.0,>=5.2.1 in c:\\users\\leona\\anaconda3\\lib\\site-packages (from spacy<3.8.0,>=3.7.2->en-core-web-sm==3.7.1) (5.2.1)\n",
      "Requirement already satisfied: tqdm<5.0.0,>=4.38.0 in c:\\users\\leona\\anaconda3\\lib\\site-packages (from spacy<3.8.0,>=3.7.2->en-core-web-sm==3.7.1) (4.65.0)\n",
      "Requirement already satisfied: requests<3.0.0,>=2.13.0 in c:\\users\\leona\\anaconda3\\lib\\site-packages (from spacy<3.8.0,>=3.7.2->en-core-web-sm==3.7.1) (2.31.0)\n",
      "Requirement already satisfied: pydantic!=1.8,!=1.8.1,<3.0.0,>=1.7.4 in c:\\users\\leona\\anaconda3\\lib\\site-packages (from spacy<3.8.0,>=3.7.2->en-core-web-sm==3.7.1) (2.5.3)\n",
      "Requirement already satisfied: jinja2 in c:\\users\\leona\\anaconda3\\lib\\site-packages (from spacy<3.8.0,>=3.7.2->en-core-web-sm==3.7.1) (3.1.2)\n",
      "Requirement already satisfied: setuptools in c:\\users\\leona\\anaconda3\\lib\\site-packages (from spacy<3.8.0,>=3.7.2->en-core-web-sm==3.7.1) (68.0.0)\n",
      "Requirement already satisfied: packaging>=20.0 in c:\\users\\leona\\anaconda3\\lib\\site-packages (from spacy<3.8.0,>=3.7.2->en-core-web-sm==3.7.1) (23.1)\n",
      "Requirement already satisfied: langcodes<4.0.0,>=3.2.0 in c:\\users\\leona\\anaconda3\\lib\\site-packages (from spacy<3.8.0,>=3.7.2->en-core-web-sm==3.7.1) (3.3.0)\n",
      "Requirement already satisfied: numpy>=1.19.0 in c:\\users\\leona\\anaconda3\\lib\\site-packages (from spacy<3.8.0,>=3.7.2->en-core-web-sm==3.7.1) (1.24.3)\n",
      "Requirement already satisfied: annotated-types>=0.4.0 in c:\\users\\leona\\anaconda3\\lib\\site-packages (from pydantic!=1.8,!=1.8.1,<3.0.0,>=1.7.4->spacy<3.8.0,>=3.7.2->en-core-web-sm==3.7.1) (0.6.0)\n",
      "Requirement already satisfied: pydantic-core==2.14.6 in c:\\users\\leona\\anaconda3\\lib\\site-packages (from pydantic!=1.8,!=1.8.1,<3.0.0,>=1.7.4->spacy<3.8.0,>=3.7.2->en-core-web-sm==3.7.1) (2.14.6)\n",
      "Requirement already satisfied: typing-extensions>=4.6.1 in c:\\users\\leona\\anaconda3\\lib\\site-packages (from pydantic!=1.8,!=1.8.1,<3.0.0,>=1.7.4->spacy<3.8.0,>=3.7.2->en-core-web-sm==3.7.1) (4.7.1)\n",
      "Requirement already satisfied: charset-normalizer<4,>=2 in c:\\users\\leona\\anaconda3\\lib\\site-packages (from requests<3.0.0,>=2.13.0->spacy<3.8.0,>=3.7.2->en-core-web-sm==3.7.1) (2.0.4)\n",
      "Requirement already satisfied: idna<4,>=2.5 in c:\\users\\leona\\anaconda3\\lib\\site-packages (from requests<3.0.0,>=2.13.0->spacy<3.8.0,>=3.7.2->en-core-web-sm==3.7.1) (2.10)\n",
      "Requirement already satisfied: urllib3<3,>=1.21.1 in c:\\users\\leona\\anaconda3\\lib\\site-packages (from requests<3.0.0,>=2.13.0->spacy<3.8.0,>=3.7.2->en-core-web-sm==3.7.1) (1.26.16)\n",
      "Requirement already satisfied: certifi>=2017.4.17 in c:\\users\\leona\\anaconda3\\lib\\site-packages (from requests<3.0.0,>=2.13.0->spacy<3.8.0,>=3.7.2->en-core-web-sm==3.7.1) (2023.7.22)\n",
      "Requirement already satisfied: blis<0.8.0,>=0.7.8 in c:\\users\\leona\\anaconda3\\lib\\site-packages (from thinc<8.3.0,>=8.1.8->spacy<3.8.0,>=3.7.2->en-core-web-sm==3.7.1) (0.7.11)\n",
      "Requirement already satisfied: confection<1.0.0,>=0.0.1 in c:\\users\\leona\\anaconda3\\lib\\site-packages (from thinc<8.3.0,>=8.1.8->spacy<3.8.0,>=3.7.2->en-core-web-sm==3.7.1) (0.1.4)\n",
      "Requirement already satisfied: colorama in c:\\users\\leona\\anaconda3\\lib\\site-packages (from tqdm<5.0.0,>=4.38.0->spacy<3.8.0,>=3.7.2->en-core-web-sm==3.7.1) (0.4.6)\n",
      "Requirement already satisfied: click<9.0.0,>=7.1.1 in c:\\users\\leona\\anaconda3\\lib\\site-packages (from typer<0.10.0,>=0.3.0->spacy<3.8.0,>=3.7.2->en-core-web-sm==3.7.1) (8.0.4)\n",
      "Requirement already satisfied: cloudpathlib<0.17.0,>=0.7.0 in c:\\users\\leona\\anaconda3\\lib\\site-packages (from weasel<0.4.0,>=0.1.0->spacy<3.8.0,>=3.7.2->en-core-web-sm==3.7.1) (0.16.0)\n",
      "Requirement already satisfied: MarkupSafe>=2.0 in c:\\users\\leona\\anaconda3\\lib\\site-packages (from jinja2->spacy<3.8.0,>=3.7.2->en-core-web-sm==3.7.1) (2.1.1)\n",
      "\u001b[38;5;2m✔ Download and installation successful\u001b[0m\n",
      "You can now load the package via spacy.load('en_core_web_sm')\n"
     ]
    }
   ],
   "source": [
    "!python -m spacy download en_core_web_sm"
   ]
  },
  {
   "cell_type": "code",
   "execution_count": 9,
   "id": "1217f6d7",
   "metadata": {},
   "outputs": [
    {
     "name": "stdout",
     "output_type": "stream",
     "text": [
      "Results:\n",
      "- The house is big.\n",
      "- Houses are large.\n"
     ]
    }
   ],
   "source": [
    "import spacy\n",
    "\n",
    "def search_word_lemmatization(texts, word_to_search):\n",
    "    nlp = spacy.load(\"en_core_web_sm\")\n",
    "\n",
    "    analyzed_word = nlp(word_to_search)\n",
    "\n",
    "    word_lemma = analyzed_word[0].lemma_\n",
    "\n",
    "    results = []\n",
    "    for text in texts:\n",
    "        doc = nlp(text)\n",
    "        for token in doc:\n",
    "            if token.text.lower() == word_to_search.lower() or token.lemma_.lower() == word_lemma.lower():\n",
    "                results.append(text)\n",
    "                break\n",
    "\n",
    "    return results\n",
    "\n",
    "# Example of usage\n",
    "texts = [\"The house is big.\", \"Houses are large.\", \"This is an example.\"]\n",
    "word_to_search = \"houses\"\n",
    "\n",
    "results = search_word_lemmatization(texts, word_to_search)\n",
    "\n",
    "print(\"Results:\")\n",
    "for result in results:\n",
    "    print(\"-\", result)\n"
   ]
  },
  {
   "cell_type": "code",
   "execution_count": 10,
   "id": "64aca126",
   "metadata": {},
   "outputs": [
    {
     "name": "stdout",
     "output_type": "stream",
     "text": [
      "\n",
      "Frase: AgentTesla è un software dannoso utilizzato per attacchi di phishing.\n",
      "Parola: AgentTesla\n",
      "Parte del discorso: PROPN\n",
      "Lemmatizzazione: AgentTesla\n",
      "Parola: è\n",
      "Parte del discorso: ADP\n",
      "Lemmatizzazione: è\n",
      "Parola: un\n",
      "Parte del discorso: PROPN\n",
      "Lemmatizzazione: un\n",
      "Parola: software\n",
      "Parte del discorso: PROPN\n",
      "Lemmatizzazione: software\n",
      "Parola: dannoso\n",
      "Parte del discorso: PROPN\n",
      "Lemmatizzazione: dannoso\n",
      "Parola: utilizzato\n",
      "Parte del discorso: PROPN\n",
      "Lemmatizzazione: utilizzato\n",
      "Parola: per\n",
      "Parte del discorso: ADP\n",
      "Lemmatizzazione: per\n",
      "Parola: attacchi\n",
      "Parte del discorso: PROPN\n",
      "Lemmatizzazione: attacchi\n",
      "Parola: di\n",
      "Parte del discorso: NOUN\n",
      "Lemmatizzazione: di\n",
      "Parola: phishing\n",
      "Parte del discorso: NOUN\n",
      "Lemmatizzazione: phishing\n",
      "Parola: .\n",
      "Parte del discorso: PUNCT\n",
      "Lemmatizzazione: .\n",
      "\n",
      "Entità riconosciute:\n",
      "Entità: AgentTesla, Tipo: ORG\n",
      "Entità: un, Tipo: ORG\n"
     ]
    }
   ],
   "source": [
    "# Carica il modello preaddestrato di lingua inglese\n",
    "nlp = spacy.load(\"en_core_web_sm\")\n",
    "\n",
    "# Testo di esempio\n",
    "testo = \"AgentTesla è un software dannoso utilizzato per attacchi di phishing.\"\n",
    "\n",
    "# Analisi del testo utilizzando spaCy\n",
    "doc = nlp(testo)\n",
    "\n",
    "# Itera attraverso le frasi nel testo\n",
    "for frase in doc.sents:\n",
    "    print(f\"\\nFrase: {frase.text}\")\n",
    "\n",
    "    # Itera attraverso le parole nella frase\n",
    "    for token in frase:\n",
    "        print(f\"Parola: {token.text}\")\n",
    "        print(f\"Parte del discorso: {token.pos_}\")\n",
    "        print(f\"Lemmatizzazione: {token.lemma_}\")\n",
    "\n",
    "# Identifica eventuali entità presenti nel testo\n",
    "print(\"\\nEntità riconosciute:\")\n",
    "for entità in doc.ents:\n",
    "    print(f\"Entità: {entità.text}, Tipo: {entità.label_}\")\n"
   ]
  },
  {
   "cell_type": "markdown",
   "id": "74b94664",
   "metadata": {},
   "source": [
    "### Malwares Name Search "
   ]
  },
  {
   "cell_type": "code",
   "execution_count": 11,
   "id": "89fdecc7",
   "metadata": {},
   "outputs": [
    {
     "name": "stdout",
     "output_type": "stream",
     "text": [
      "Requirement already satisfied: googletrans==4.0.0-rc1 in c:\\users\\leona\\anaconda3\\lib\\site-packages (4.0.0rc1)\n",
      "Requirement already satisfied: httpx==0.13.3 in c:\\users\\leona\\anaconda3\\lib\\site-packages (from googletrans==4.0.0-rc1) (0.13.3)\n",
      "Requirement already satisfied: certifi in c:\\users\\leona\\anaconda3\\lib\\site-packages (from httpx==0.13.3->googletrans==4.0.0-rc1) (2023.7.22)\n",
      "Requirement already satisfied: hstspreload in c:\\users\\leona\\anaconda3\\lib\\site-packages (from httpx==0.13.3->googletrans==4.0.0-rc1) (2024.1.5)\n",
      "Requirement already satisfied: sniffio in c:\\users\\leona\\anaconda3\\lib\\site-packages (from httpx==0.13.3->googletrans==4.0.0-rc1) (1.2.0)\n",
      "Requirement already satisfied: chardet==3.* in c:\\users\\leona\\anaconda3\\lib\\site-packages (from httpx==0.13.3->googletrans==4.0.0-rc1) (3.0.4)\n",
      "Requirement already satisfied: idna==2.* in c:\\users\\leona\\anaconda3\\lib\\site-packages (from httpx==0.13.3->googletrans==4.0.0-rc1) (2.10)\n",
      "Requirement already satisfied: rfc3986<2,>=1.3 in c:\\users\\leona\\anaconda3\\lib\\site-packages (from httpx==0.13.3->googletrans==4.0.0-rc1) (1.5.0)\n",
      "Requirement already satisfied: httpcore==0.9.* in c:\\users\\leona\\anaconda3\\lib\\site-packages (from httpx==0.13.3->googletrans==4.0.0-rc1) (0.9.1)\n",
      "Requirement already satisfied: h11<0.10,>=0.8 in c:\\users\\leona\\anaconda3\\lib\\site-packages (from httpcore==0.9.*->httpx==0.13.3->googletrans==4.0.0-rc1) (0.9.0)\n",
      "Requirement already satisfied: h2==3.* in c:\\users\\leona\\anaconda3\\lib\\site-packages (from httpcore==0.9.*->httpx==0.13.3->googletrans==4.0.0-rc1) (3.2.0)\n",
      "Requirement already satisfied: hyperframe<6,>=5.2.0 in c:\\users\\leona\\anaconda3\\lib\\site-packages (from h2==3.*->httpcore==0.9.*->httpx==0.13.3->googletrans==4.0.0-rc1) (5.2.0)\n",
      "Requirement already satisfied: hpack<4,>=3.0 in c:\\users\\leona\\anaconda3\\lib\\site-packages (from h2==3.*->httpcore==0.9.*->httpx==0.13.3->googletrans==4.0.0-rc1) (3.0.0)\n",
      "Note: you may need to restart the kernel to use updated packages.\n"
     ]
    }
   ],
   "source": [
    "pip install googletrans==4.0.0-rc1"
   ]
  },
  {
   "cell_type": "markdown",
   "id": "adb51f09",
   "metadata": {},
   "source": [
    "### Data Cleaning"
   ]
  },
  {
   "cell_type": "code",
   "execution_count": 12,
   "id": "57e6577a",
   "metadata": {},
   "outputs": [],
   "source": [
    "from googletrans import Translator\n",
    "from requests.exceptions import HTTPError\n",
    "\n",
    "\n",
    "def translate_to_english(text, target_language='en'):\n",
    "    \n",
    "    translator = Translator()\n",
    "    try:\n",
    "        translation = translator.translate(text, dest=target_language)\n",
    "        return translation.text\n",
    "    except HTTPError as e:\n",
    "        print(f\"HTTP error occurred: {e}\")\n",
    "    except Exception as e:\n",
    "        print(f\"An error occurred: {e}\")\n",
    "\n",
    "    # Return the original text in case of an error\n",
    "    return text"
   ]
  },
  {
   "cell_type": "markdown",
   "id": "c143b6fe",
   "metadata": {},
   "source": [
    "#### Column Filtering\n",
    "- Drop 'json' column -> useless"
   ]
  },
  {
   "cell_type": "code",
   "execution_count": 13,
   "id": "9abb3876",
   "metadata": {},
   "outputs": [
    {
     "data": {
      "text/html": [
       "<div>\n",
       "<style scoped>\n",
       "    .dataframe tbody tr th:only-of-type {\n",
       "        vertical-align: middle;\n",
       "    }\n",
       "\n",
       "    .dataframe tbody tr th {\n",
       "        vertical-align: top;\n",
       "    }\n",
       "\n",
       "    .dataframe thead th {\n",
       "        text-align: right;\n",
       "    }\n",
       "</style>\n",
       "<table border=\"1\" class=\"dataframe\">\n",
       "  <thead>\n",
       "    <tr style=\"text-align: right;\">\n",
       "      <th></th>\n",
       "      <th>username</th>\n",
       "      <th>name</th>\n",
       "      <th>date</th>\n",
       "      <th>text</th>\n",
       "    </tr>\n",
       "  </thead>\n",
       "  <tbody>\n",
       "    <tr>\n",
       "      <th>0</th>\n",
       "      <td>SwiftOnSecurity</td>\n",
       "      <td>SwiftOnSecurity</td>\n",
       "      <td>2023-07-12 19:57:11</td>\n",
       "      <td>RT @KimZetter: CISA says it's been working w/ Microsoft to determine the specific log types that are most valuable and should be made avail…</td>\n",
       "    </tr>\n",
       "    <tr>\n",
       "      <th>1</th>\n",
       "      <td>SwiftOnSecurity</td>\n",
       "      <td>SwiftOnSecurity</td>\n",
       "      <td>2023-07-12 19:57:09</td>\n",
       "      <td>RT @KimZetter: In talking about fact that Microsoft cloud compromise was caught because victim had premium 365 logging, CISA says in press…</td>\n",
       "    </tr>\n",
       "    <tr>\n",
       "      <th>2</th>\n",
       "      <td>thegrugq</td>\n",
       "      <td>thaddeus e. grugq thegrugq@infosec.exchange</td>\n",
       "      <td>2023-07-12 20:19:20</td>\n",
       "      <td>RT @lukOlejnik: NATO reaffirms that cyberattacks may mean war \"single or cumulative set of malicious cyber activities could reach the level…</td>\n",
       "    </tr>\n",
       "    <tr>\n",
       "      <th>3</th>\n",
       "      <td>thegrugq</td>\n",
       "      <td>thaddeus e. grugq thegrugq@infosec.exchange</td>\n",
       "      <td>2023-07-12 20:08:49</td>\n",
       "      <td>RT @matt_meeta: Every German company history</td>\n",
       "    </tr>\n",
       "    <tr>\n",
       "      <th>4</th>\n",
       "      <td>k8em0</td>\n",
       "      <td>Katie🌻Moussouris (she/her) @k8em0.bsky.social</td>\n",
       "      <td>2023-07-12 20:04:54</td>\n",
       "      <td>RT @wdormann: Remember folks, don't play video games on a system that you care about.\\nI made a venn diagram to help. https://t.co/YsR22yxPgI</td>\n",
       "    </tr>\n",
       "    <tr>\n",
       "      <th>...</th>\n",
       "      <td>...</td>\n",
       "      <td>...</td>\n",
       "      <td>...</td>\n",
       "      <td>...</td>\n",
       "    </tr>\n",
       "    <tr>\n",
       "      <th>49112</th>\n",
       "      <td>PatrickCMiller</td>\n",
       "      <td>Patrick C Miller is on Mastodon</td>\n",
       "      <td>2023-01-01 00:45:01</td>\n",
       "      <td>The Lawfare Podcast: An Investigation into Russian State Media and Disinformation https://t.co/QnnOLwqXgX</td>\n",
       "    </tr>\n",
       "    <tr>\n",
       "      <th>49113</th>\n",
       "      <td>BrianHonan</td>\n",
       "      <td>Brian Ó hEoghanáin (Brian Honan) #BLM He/Him</td>\n",
       "      <td>2023-01-01 00:06:34</td>\n",
       "      <td>To all those still in 2022\\n\\n2023 is already here in Ireland https://t.co/phwmigYahg</td>\n",
       "    </tr>\n",
       "    <tr>\n",
       "      <th>49114</th>\n",
       "      <td>BrianHonan</td>\n",
       "      <td>Brian Ó hEoghanáin (Brian Honan) #BLM He/Him</td>\n",
       "      <td>2023-01-01 00:05:15</td>\n",
       "      <td>Happy New Year everyone</td>\n",
       "    </tr>\n",
       "    <tr>\n",
       "      <th>49115</th>\n",
       "      <td>PatrickCMiller</td>\n",
       "      <td>Patrick C Miller is on Mastodon</td>\n",
       "      <td>2023-01-01 00:15:00</td>\n",
       "      <td>The LastPass disclosure of leaked password vaults is being torn apart by security experts https://t.co/mn4OrkuEO3</td>\n",
       "    </tr>\n",
       "    <tr>\n",
       "      <th>49116</th>\n",
       "      <td>PatrickCMiller</td>\n",
       "      <td>Patrick C Miller is on Mastodon</td>\n",
       "      <td>2022-12-31 23:45:00</td>\n",
       "      <td>Cybersecurity Leaders Outline Future Trends Ahead of Infosecurity Europe 2023 https://t.co/vt0bapeOSF</td>\n",
       "    </tr>\n",
       "  </tbody>\n",
       "</table>\n",
       "<p>49117 rows × 4 columns</p>\n",
       "</div>"
      ],
      "text/plain": [
       "              username                                           name  \\\n",
       "0      SwiftOnSecurity                                SwiftOnSecurity   \n",
       "1      SwiftOnSecurity                                SwiftOnSecurity   \n",
       "2             thegrugq    thaddeus e. grugq thegrugq@infosec.exchange   \n",
       "3             thegrugq    thaddeus e. grugq thegrugq@infosec.exchange   \n",
       "4                k8em0  Katie🌻Moussouris (she/her) @k8em0.bsky.social   \n",
       "...                ...                                            ...   \n",
       "49112   PatrickCMiller                Patrick C Miller is on Mastodon   \n",
       "49113       BrianHonan   Brian Ó hEoghanáin (Brian Honan) #BLM He/Him   \n",
       "49114       BrianHonan   Brian Ó hEoghanáin (Brian Honan) #BLM He/Him   \n",
       "49115   PatrickCMiller                Patrick C Miller is on Mastodon   \n",
       "49116   PatrickCMiller                Patrick C Miller is on Mastodon   \n",
       "\n",
       "                      date  \\\n",
       "0      2023-07-12 19:57:11   \n",
       "1      2023-07-12 19:57:09   \n",
       "2      2023-07-12 20:19:20   \n",
       "3      2023-07-12 20:08:49   \n",
       "4      2023-07-12 20:04:54   \n",
       "...                    ...   \n",
       "49112  2023-01-01 00:45:01   \n",
       "49113  2023-01-01 00:06:34   \n",
       "49114  2023-01-01 00:05:15   \n",
       "49115  2023-01-01 00:15:00   \n",
       "49116  2022-12-31 23:45:00   \n",
       "\n",
       "                                                                                                                                                text  \n",
       "0       RT @KimZetter: CISA says it's been working w/ Microsoft to determine the specific log types that are most valuable and should be made avail…  \n",
       "1        RT @KimZetter: In talking about fact that Microsoft cloud compromise was caught because victim had premium 365 logging, CISA says in press…  \n",
       "2       RT @lukOlejnik: NATO reaffirms that cyberattacks may mean war \"single or cumulative set of malicious cyber activities could reach the level…  \n",
       "3                                                                                                       RT @matt_meeta: Every German company history  \n",
       "4      RT @wdormann: Remember folks, don't play video games on a system that you care about.\\nI made a venn diagram to help. https://t.co/YsR22yxPgI  \n",
       "...                                                                                                                                              ...  \n",
       "49112                                      The Lawfare Podcast: An Investigation into Russian State Media and Disinformation https://t.co/QnnOLwqXgX  \n",
       "49113                                                          To all those still in 2022\\n\\n2023 is already here in Ireland https://t.co/phwmigYahg  \n",
       "49114                                                                                                                        Happy New Year everyone  \n",
       "49115                              The LastPass disclosure of leaked password vaults is being torn apart by security experts https://t.co/mn4OrkuEO3  \n",
       "49116                                          Cybersecurity Leaders Outline Future Trends Ahead of Infosecurity Europe 2023 https://t.co/vt0bapeOSF  \n",
       "\n",
       "[49117 rows x 4 columns]"
      ]
     },
     "execution_count": 13,
     "metadata": {},
     "output_type": "execute_result"
    }
   ],
   "source": [
    "df_twitter = df_twitter.drop(columns=['json'])\n",
    "df_twitter"
   ]
  },
  {
   "cell_type": "code",
   "execution_count": 14,
   "id": "7d278f80",
   "metadata": {},
   "outputs": [
    {
     "data": {
      "text/html": [
       "<div>\n",
       "<style scoped>\n",
       "    .dataframe tbody tr th:only-of-type {\n",
       "        vertical-align: middle;\n",
       "    }\n",
       "\n",
       "    .dataframe tbody tr th {\n",
       "        vertical-align: top;\n",
       "    }\n",
       "\n",
       "    .dataframe thead th {\n",
       "        text-align: right;\n",
       "    }\n",
       "</style>\n",
       "<table border=\"1\" class=\"dataframe\">\n",
       "  <thead>\n",
       "    <tr style=\"text-align: right;\">\n",
       "      <th></th>\n",
       "      <th>username</th>\n",
       "      <th>name</th>\n",
       "      <th>date</th>\n",
       "      <th>text</th>\n",
       "    </tr>\n",
       "  </thead>\n",
       "  <tbody>\n",
       "    <tr>\n",
       "      <th>50</th>\n",
       "      <td>Anomali</td>\n",
       "      <td>Anomali</td>\n",
       "      <td>2023-07-12 19:01:13</td>\n",
       "      <td>🗞️ This edition of Anomali Cyber Watch features trending cyber and threat intelligence news related to proxyjacking… https://t.co/958z4Xjnkz</td>\n",
       "    </tr>\n",
       "  </tbody>\n",
       "</table>\n",
       "</div>"
      ],
      "text/plain": [
       "   username     name                 date  \\\n",
       "50  Anomali  Anomali  2023-07-12 19:01:13   \n",
       "\n",
       "                                                                                                                                            text  \n",
       "50  🗞️ This edition of Anomali Cyber Watch features trending cyber and threat intelligence news related to proxyjacking… https://t.co/958z4Xjnkz  "
      ]
     },
     "execution_count": 14,
     "metadata": {},
     "output_type": "execute_result"
    }
   ],
   "source": [
    "pd.DataFrame(df_twitter.loc[50]).T"
   ]
  },
  {
   "cell_type": "markdown",
   "id": "fd1bc9b0",
   "metadata": {},
   "source": [
    "#### Normalization\n",
    "- Convert each text and title of each post to the same language : english"
   ]
  },
  {
   "cell_type": "code",
   "execution_count": 15,
   "id": "dc9c5ef6",
   "metadata": {
    "scrolled": true
   },
   "outputs": [
    {
     "data": {
      "text/plain": [
       "\"\\n\\nfor i in range(len(df_twitter)):\\n    \\n    print(i)\\n    \\n    text = df_twitter.at[i, 'text']\\n    \\n    if(pd.isna(text) == False):\\n        new_text = translate_to_english(text)\\n        df_twitter.loc[i, 'text'] = new_text\\n        \\ndf_twitter \\n\\n\""
      ]
     },
     "execution_count": 15,
     "metadata": {},
     "output_type": "execute_result"
    }
   ],
   "source": [
    "'''\n",
    "\n",
    "for i in range(len(df_twitter)):\n",
    "    \n",
    "    print(i)\n",
    "    \n",
    "    text = df_twitter.at[i, 'text']\n",
    "    \n",
    "    if(pd.isna(text) == False):\n",
    "        new_text = translate_to_english(text)\n",
    "        df_twitter.loc[i, 'text'] = new_text\n",
    "        \n",
    "df_twitter \n",
    "\n",
    "'''       "
   ]
  },
  {
   "cell_type": "markdown",
   "id": "1f8ee425",
   "metadata": {},
   "source": [
    "#### Data Type conversion"
   ]
  },
  {
   "cell_type": "code",
   "execution_count": 16,
   "id": "aa2ca6fa",
   "metadata": {},
   "outputs": [
    {
     "data": {
      "text/html": [
       "<div>\n",
       "<style scoped>\n",
       "    .dataframe tbody tr th:only-of-type {\n",
       "        vertical-align: middle;\n",
       "    }\n",
       "\n",
       "    .dataframe tbody tr th {\n",
       "        vertical-align: top;\n",
       "    }\n",
       "\n",
       "    .dataframe thead th {\n",
       "        text-align: right;\n",
       "    }\n",
       "</style>\n",
       "<table border=\"1\" class=\"dataframe\">\n",
       "  <thead>\n",
       "    <tr style=\"text-align: right;\">\n",
       "      <th></th>\n",
       "      <th>username</th>\n",
       "      <th>name</th>\n",
       "      <th>date</th>\n",
       "      <th>text</th>\n",
       "    </tr>\n",
       "  </thead>\n",
       "  <tbody>\n",
       "    <tr>\n",
       "      <th>0</th>\n",
       "      <td>SwiftOnSecurity</td>\n",
       "      <td>SwiftOnSecurity</td>\n",
       "      <td>2023-07-12</td>\n",
       "      <td>RT @KimZetter: CISA says it's been working w/ Microsoft to determine the specific log types that are most valuable and should be made avail…</td>\n",
       "    </tr>\n",
       "    <tr>\n",
       "      <th>1</th>\n",
       "      <td>SwiftOnSecurity</td>\n",
       "      <td>SwiftOnSecurity</td>\n",
       "      <td>2023-07-12</td>\n",
       "      <td>RT @KimZetter: In talking about fact that Microsoft cloud compromise was caught because victim had premium 365 logging, CISA says in press…</td>\n",
       "    </tr>\n",
       "    <tr>\n",
       "      <th>2</th>\n",
       "      <td>thegrugq</td>\n",
       "      <td>thaddeus e. grugq thegrugq@infosec.exchange</td>\n",
       "      <td>2023-07-12</td>\n",
       "      <td>RT @lukOlejnik: NATO reaffirms that cyberattacks may mean war \"single or cumulative set of malicious cyber activities could reach the level…</td>\n",
       "    </tr>\n",
       "    <tr>\n",
       "      <th>3</th>\n",
       "      <td>thegrugq</td>\n",
       "      <td>thaddeus e. grugq thegrugq@infosec.exchange</td>\n",
       "      <td>2023-07-12</td>\n",
       "      <td>RT @matt_meeta: Every German company history</td>\n",
       "    </tr>\n",
       "    <tr>\n",
       "      <th>4</th>\n",
       "      <td>k8em0</td>\n",
       "      <td>Katie🌻Moussouris (she/her) @k8em0.bsky.social</td>\n",
       "      <td>2023-07-12</td>\n",
       "      <td>RT @wdormann: Remember folks, don't play video games on a system that you care about.\\nI made a venn diagram to help. https://t.co/YsR22yxPgI</td>\n",
       "    </tr>\n",
       "    <tr>\n",
       "      <th>...</th>\n",
       "      <td>...</td>\n",
       "      <td>...</td>\n",
       "      <td>...</td>\n",
       "      <td>...</td>\n",
       "    </tr>\n",
       "    <tr>\n",
       "      <th>49112</th>\n",
       "      <td>PatrickCMiller</td>\n",
       "      <td>Patrick C Miller is on Mastodon</td>\n",
       "      <td>2023-01-01</td>\n",
       "      <td>The Lawfare Podcast: An Investigation into Russian State Media and Disinformation https://t.co/QnnOLwqXgX</td>\n",
       "    </tr>\n",
       "    <tr>\n",
       "      <th>49113</th>\n",
       "      <td>BrianHonan</td>\n",
       "      <td>Brian Ó hEoghanáin (Brian Honan) #BLM He/Him</td>\n",
       "      <td>2023-01-01</td>\n",
       "      <td>To all those still in 2022\\n\\n2023 is already here in Ireland https://t.co/phwmigYahg</td>\n",
       "    </tr>\n",
       "    <tr>\n",
       "      <th>49114</th>\n",
       "      <td>BrianHonan</td>\n",
       "      <td>Brian Ó hEoghanáin (Brian Honan) #BLM He/Him</td>\n",
       "      <td>2023-01-01</td>\n",
       "      <td>Happy New Year everyone</td>\n",
       "    </tr>\n",
       "    <tr>\n",
       "      <th>49115</th>\n",
       "      <td>PatrickCMiller</td>\n",
       "      <td>Patrick C Miller is on Mastodon</td>\n",
       "      <td>2023-01-01</td>\n",
       "      <td>The LastPass disclosure of leaked password vaults is being torn apart by security experts https://t.co/mn4OrkuEO3</td>\n",
       "    </tr>\n",
       "    <tr>\n",
       "      <th>49116</th>\n",
       "      <td>PatrickCMiller</td>\n",
       "      <td>Patrick C Miller is on Mastodon</td>\n",
       "      <td>2022-12-31</td>\n",
       "      <td>Cybersecurity Leaders Outline Future Trends Ahead of Infosecurity Europe 2023 https://t.co/vt0bapeOSF</td>\n",
       "    </tr>\n",
       "  </tbody>\n",
       "</table>\n",
       "<p>49117 rows × 4 columns</p>\n",
       "</div>"
      ],
      "text/plain": [
       "              username                                           name  \\\n",
       "0      SwiftOnSecurity                                SwiftOnSecurity   \n",
       "1      SwiftOnSecurity                                SwiftOnSecurity   \n",
       "2             thegrugq    thaddeus e. grugq thegrugq@infosec.exchange   \n",
       "3             thegrugq    thaddeus e. grugq thegrugq@infosec.exchange   \n",
       "4                k8em0  Katie🌻Moussouris (she/her) @k8em0.bsky.social   \n",
       "...                ...                                            ...   \n",
       "49112   PatrickCMiller                Patrick C Miller is on Mastodon   \n",
       "49113       BrianHonan   Brian Ó hEoghanáin (Brian Honan) #BLM He/Him   \n",
       "49114       BrianHonan   Brian Ó hEoghanáin (Brian Honan) #BLM He/Him   \n",
       "49115   PatrickCMiller                Patrick C Miller is on Mastodon   \n",
       "49116   PatrickCMiller                Patrick C Miller is on Mastodon   \n",
       "\n",
       "             date  \\\n",
       "0      2023-07-12   \n",
       "1      2023-07-12   \n",
       "2      2023-07-12   \n",
       "3      2023-07-12   \n",
       "4      2023-07-12   \n",
       "...           ...   \n",
       "49112  2023-01-01   \n",
       "49113  2023-01-01   \n",
       "49114  2023-01-01   \n",
       "49115  2023-01-01   \n",
       "49116  2022-12-31   \n",
       "\n",
       "                                                                                                                                                text  \n",
       "0       RT @KimZetter: CISA says it's been working w/ Microsoft to determine the specific log types that are most valuable and should be made avail…  \n",
       "1        RT @KimZetter: In talking about fact that Microsoft cloud compromise was caught because victim had premium 365 logging, CISA says in press…  \n",
       "2       RT @lukOlejnik: NATO reaffirms that cyberattacks may mean war \"single or cumulative set of malicious cyber activities could reach the level…  \n",
       "3                                                                                                       RT @matt_meeta: Every German company history  \n",
       "4      RT @wdormann: Remember folks, don't play video games on a system that you care about.\\nI made a venn diagram to help. https://t.co/YsR22yxPgI  \n",
       "...                                                                                                                                              ...  \n",
       "49112                                      The Lawfare Podcast: An Investigation into Russian State Media and Disinformation https://t.co/QnnOLwqXgX  \n",
       "49113                                                          To all those still in 2022\\n\\n2023 is already here in Ireland https://t.co/phwmigYahg  \n",
       "49114                                                                                                                        Happy New Year everyone  \n",
       "49115                              The LastPass disclosure of leaked password vaults is being torn apart by security experts https://t.co/mn4OrkuEO3  \n",
       "49116                                          Cybersecurity Leaders Outline Future Trends Ahead of Infosecurity Europe 2023 https://t.co/vt0bapeOSF  \n",
       "\n",
       "[49117 rows x 4 columns]"
      ]
     },
     "execution_count": 16,
     "metadata": {},
     "output_type": "execute_result"
    }
   ],
   "source": [
    "df_twitter['date'] = pd.to_datetime(df_twitter['date']).dt.strftime('%Y-%m-%d')\n",
    "df_twitter"
   ]
  },
  {
   "cell_type": "markdown",
   "id": "cac43ef6",
   "metadata": {},
   "source": [
    "# Saving"
   ]
  },
  {
   "cell_type": "code",
   "execution_count": 17,
   "id": "9d6708c6",
   "metadata": {},
   "outputs": [],
   "source": [
    "df_twitter.to_csv(r'C:\\Users\\leona\\OneDrive\\Desktop\\Tesi\\Pipeline\\Datasets\\Pipeline\\SocialNetworksPosts\\Twitter\\PostDataCleaning\\TwitterPosts.csv')"
   ]
  },
  {
   "cell_type": "markdown",
   "id": "e925e81a",
   "metadata": {},
   "source": [
    "### Search Malwares"
   ]
  },
  {
   "cell_type": "code",
   "execution_count": 18,
   "id": "c505dd8e",
   "metadata": {},
   "outputs": [
    {
     "data": {
      "text/html": [
       "<div>\n",
       "<style scoped>\n",
       "    .dataframe tbody tr th:only-of-type {\n",
       "        vertical-align: middle;\n",
       "    }\n",
       "\n",
       "    .dataframe tbody tr th {\n",
       "        vertical-align: top;\n",
       "    }\n",
       "\n",
       "    .dataframe thead th {\n",
       "        text-align: right;\n",
       "    }\n",
       "</style>\n",
       "<table border=\"1\" class=\"dataframe\">\n",
       "  <thead>\n",
       "    <tr style=\"text-align: right;\">\n",
       "      <th></th>\n",
       "      <th>username</th>\n",
       "      <th>name</th>\n",
       "      <th>date</th>\n",
       "      <th>text</th>\n",
       "    </tr>\n",
       "  </thead>\n",
       "  <tbody>\n",
       "    <tr>\n",
       "      <th>0</th>\n",
       "      <td>SwiftOnSecurity</td>\n",
       "      <td>SwiftOnSecurity</td>\n",
       "      <td>2023-07-12</td>\n",
       "      <td>RT @KimZetter: CISA says it's been working w/ Microsoft to determine the specific log types that are most valuable and should be made avail…</td>\n",
       "    </tr>\n",
       "    <tr>\n",
       "      <th>1</th>\n",
       "      <td>SwiftOnSecurity</td>\n",
       "      <td>SwiftOnSecurity</td>\n",
       "      <td>2023-07-12</td>\n",
       "      <td>RT @KimZetter: In talking about fact that Microsoft cloud compromise was caught because victim had premium 365 logging, CISA says in press…</td>\n",
       "    </tr>\n",
       "    <tr>\n",
       "      <th>2</th>\n",
       "      <td>thegrugq</td>\n",
       "      <td>thaddeus e. grugq thegrugq@infosec.exchange</td>\n",
       "      <td>2023-07-12</td>\n",
       "      <td>RT @lukOlejnik: NATO reaffirms that cyberattacks may mean war \"single or cumulative set of malicious cyber activities could reach the level…</td>\n",
       "    </tr>\n",
       "    <tr>\n",
       "      <th>3</th>\n",
       "      <td>thegrugq</td>\n",
       "      <td>thaddeus e. grugq thegrugq@infosec.exchange</td>\n",
       "      <td>2023-07-12</td>\n",
       "      <td>RT @matt_meeta: Every German company history</td>\n",
       "    </tr>\n",
       "    <tr>\n",
       "      <th>4</th>\n",
       "      <td>k8em0</td>\n",
       "      <td>Katie🌻Moussouris (she/her) @k8em0.bsky.social</td>\n",
       "      <td>2023-07-12</td>\n",
       "      <td>RT @wdormann: Remember folks, don't play video games on a system that you care about.\\nI made a venn diagram to help. https://t.co/YsR22yxPgI</td>\n",
       "    </tr>\n",
       "    <tr>\n",
       "      <th>...</th>\n",
       "      <td>...</td>\n",
       "      <td>...</td>\n",
       "      <td>...</td>\n",
       "      <td>...</td>\n",
       "    </tr>\n",
       "    <tr>\n",
       "      <th>15438</th>\n",
       "      <td>CVEnew</td>\n",
       "      <td>CVE</td>\n",
       "      <td>2023-06-01</td>\n",
       "      <td>CVE-2023-2985 A use after free flaw was found in hfsplus_put_super in fs/hfsplus/super.c in the Linux Kernel. This… https://t.co/Ga3aQXZbyC</td>\n",
       "    </tr>\n",
       "    <tr>\n",
       "      <th>15439</th>\n",
       "      <td>CVEnew</td>\n",
       "      <td>CVE</td>\n",
       "      <td>2023-06-01</td>\n",
       "      <td>CVE-2023-2977 A vulnerbility was found in OpenSC. This security flaw cause a buffer overrun vulnerability in pkcs15… https://t.co/8rA1oXazvN</td>\n",
       "    </tr>\n",
       "    <tr>\n",
       "      <th>15440</th>\n",
       "      <td>runasand</td>\n",
       "      <td>Runa Sandvik</td>\n",
       "      <td>2023-06-01</td>\n",
       "      <td>@TonyaJoRiley Will they accept cats?</td>\n",
       "    </tr>\n",
       "    <tr>\n",
       "      <th>15441</th>\n",
       "      <td>runasand</td>\n",
       "      <td>Runa Sandvik</td>\n",
       "      <td>2023-06-01</td>\n",
       "      <td>@riskybusiness Audience feedback is the best.</td>\n",
       "    </tr>\n",
       "    <tr>\n",
       "      <th>15442</th>\n",
       "      <td>PatrickCMiller</td>\n",
       "      <td>Patrick C Miller is on Mastodon</td>\n",
       "      <td>2023-06-01</td>\n",
       "      <td>Research: The Flexibility Options Your On-Site Employees Want https://t.co/GPyK6RVnya</td>\n",
       "    </tr>\n",
       "  </tbody>\n",
       "</table>\n",
       "<p>15443 rows × 4 columns</p>\n",
       "</div>"
      ],
      "text/plain": [
       "              username                                           name  \\\n",
       "0      SwiftOnSecurity                                SwiftOnSecurity   \n",
       "1      SwiftOnSecurity                                SwiftOnSecurity   \n",
       "2             thegrugq    thaddeus e. grugq thegrugq@infosec.exchange   \n",
       "3             thegrugq    thaddeus e. grugq thegrugq@infosec.exchange   \n",
       "4                k8em0  Katie🌻Moussouris (she/her) @k8em0.bsky.social   \n",
       "...                ...                                            ...   \n",
       "15438           CVEnew                                            CVE   \n",
       "15439           CVEnew                                            CVE   \n",
       "15440         runasand                                   Runa Sandvik   \n",
       "15441         runasand                                   Runa Sandvik   \n",
       "15442   PatrickCMiller                Patrick C Miller is on Mastodon   \n",
       "\n",
       "             date  \\\n",
       "0      2023-07-12   \n",
       "1      2023-07-12   \n",
       "2      2023-07-12   \n",
       "3      2023-07-12   \n",
       "4      2023-07-12   \n",
       "...           ...   \n",
       "15438  2023-06-01   \n",
       "15439  2023-06-01   \n",
       "15440  2023-06-01   \n",
       "15441  2023-06-01   \n",
       "15442  2023-06-01   \n",
       "\n",
       "                                                                                                                                                text  \n",
       "0       RT @KimZetter: CISA says it's been working w/ Microsoft to determine the specific log types that are most valuable and should be made avail…  \n",
       "1        RT @KimZetter: In talking about fact that Microsoft cloud compromise was caught because victim had premium 365 logging, CISA says in press…  \n",
       "2       RT @lukOlejnik: NATO reaffirms that cyberattacks may mean war \"single or cumulative set of malicious cyber activities could reach the level…  \n",
       "3                                                                                                       RT @matt_meeta: Every German company history  \n",
       "4      RT @wdormann: Remember folks, don't play video games on a system that you care about.\\nI made a venn diagram to help. https://t.co/YsR22yxPgI  \n",
       "...                                                                                                                                              ...  \n",
       "15438    CVE-2023-2985 A use after free flaw was found in hfsplus_put_super in fs/hfsplus/super.c in the Linux Kernel. This… https://t.co/Ga3aQXZbyC  \n",
       "15439   CVE-2023-2977 A vulnerbility was found in OpenSC. This security flaw cause a buffer overrun vulnerability in pkcs15… https://t.co/8rA1oXazvN  \n",
       "15440                                                                                                           @TonyaJoRiley Will they accept cats?  \n",
       "15441                                                                                                  @riskybusiness Audience feedback is the best.  \n",
       "15442                                                          Research: The Flexibility Options Your On-Site Employees Want https://t.co/GPyK6RVnya  \n",
       "\n",
       "[15443 rows x 4 columns]"
      ]
     },
     "execution_count": 18,
     "metadata": {},
     "output_type": "execute_result"
    }
   ],
   "source": [
    "selected_rows = df_twitter.loc[(pd.to_datetime(df_twitter['date']).dt.month >= 6) & (pd.to_datetime(df_twitter['date']).dt.year == 2023) ].reset_index(drop =True)\n",
    "selected_rows"
   ]
  },
  {
   "cell_type": "code",
   "execution_count": null,
   "id": "80d4acd9",
   "metadata": {},
   "outputs": [],
   "source": []
  },
  {
   "cell_type": "code",
   "execution_count": 19,
   "id": "2c0395b1",
   "metadata": {},
   "outputs": [
    {
     "name": "stdout",
     "output_type": "stream",
     "text": [
      "Requirement already satisfied: tqdm in c:\\users\\leona\\anaconda3\\lib\\site-packages (4.65.0)\n",
      "Requirement already satisfied: colorama in c:\\users\\leona\\anaconda3\\lib\\site-packages (from tqdm) (0.4.6)\n",
      "Note: you may need to restart the kernel to use updated packages.\n"
     ]
    }
   ],
   "source": [
    "pip install tqdm"
   ]
  },
  {
   "cell_type": "code",
   "execution_count": 20,
   "id": "12f0c8e4",
   "metadata": {},
   "outputs": [],
   "source": [
    "def search_word( text, word, post_index, nlp):\n",
    "    analyzed_word = nlp(word)\n",
    "    word_lemma = analyzed_word[0].lemma_\n",
    "    \n",
    "    doc = nlp( text)\n",
    "    for token in doc:\n",
    "        if token.text.lower() == word.lower() or token.lemma_.lower() == word_lemma.lower():\n",
    "            print(f'at {post_index} line {word} -> FOUND ')\n",
    "            return pd.DataFrame({'post_index': [post_index], 'word': [word]})\n",
    "    \n",
    "    return pd.DataFrame()\n",
    "\n",
    "from tqdm import tqdm\n",
    "\n",
    "def loop_search(words_list, posts_df):\n",
    "    nlp = spacy.load(\"en_core_web_sm\")\n",
    "    combined_texts = posts_df['text']\n",
    "    result_dfs = []\n",
    "\n",
    "    for word in tqdm(words_list, desc=\"Processing words\"):\n",
    "        word_analyzed = nlp(word)\n",
    "        word_lemma = word_analyzed[0].lemma_\n",
    "        for j in tqdm(range(len(posts_df)), desc=\"Processing posts\"):\n",
    "            result_dfs.append(search_word(combined_texts[j], word_lemma, j, nlp))\n",
    "\n",
    "    result_df = pd.concat(result_dfs, ignore_index=True)\n",
    "    return result_df"
   ]
  },
  {
   "cell_type": "code",
   "execution_count": 21,
   "id": "709349db",
   "metadata": {},
   "outputs": [],
   "source": [
    "top5_malware_types_list = ['trojan', 'ransomware', 'worm', 'botnet', 'dropper']\n",
    "top5_malware_list  =  [ 'generickd', 'remcos', 'dropper', 'nanocore', 'siggen', 'mirai' ]\n",
    "top_os_list = ['macos', 'android', 'unix', 'windows', 'linux', 'ios']\n"
   ]
  },
  {
   "cell_type": "code",
   "execution_count": 22,
   "id": "a1dbe9b9",
   "metadata": {},
   "outputs": [
    {
     "data": {
      "text/plain": [
       "15443"
      ]
     },
     "execution_count": 22,
     "metadata": {},
     "output_type": "execute_result"
    }
   ],
   "source": [
    "len(selected_rows)"
   ]
  },
  {
   "cell_type": "code",
   "execution_count": 23,
   "id": "5678e451",
   "metadata": {},
   "outputs": [
    {
     "name": "stderr",
     "output_type": "stream",
     "text": [
      "Processing posts: 100%|██████████| 15443/15443 [04:12<00:00, 61.21it/s]\n",
      "Processing words:  17%|█▋        | 1/6 [04:12<21:01, 252.30s/it]\n"
     ]
    },
    {
     "name": "stdout",
     "output_type": "stream",
     "text": [
      "at 4493 line remcos -> FOUND \n"
     ]
    },
    {
     "name": "stderr",
     "output_type": "stream",
     "text": [
      "Processing posts: 100%|██████████| 15443/15443 [03:30<00:00, 73.36it/s][A\n",
      "Processing posts: 100%|██████████| 15443/15443 [03:31<00:00, 72.86it/s]\n",
      "Processing posts: 100%|██████████| 15443/15443 [03:36<00:00, 71.38it/s]\n",
      "Processing posts: 100%|██████████| 15443/15443 [03:30<00:00, 73.25it/s]\n",
      "Processing words:  83%|████████▎ | 5/6 [18:22<03:35, 215.99s/it]"
     ]
    },
    {
     "name": "stdout",
     "output_type": "stream",
     "text": [
      "at 4275 line mirai -> FOUND \n"
     ]
    },
    {
     "name": "stderr",
     "output_type": "stream",
     "text": []
    },
    {
     "name": "stdout",
     "output_type": "stream",
     "text": [
      "at 8284 line mirai -> FOUND \n"
     ]
    },
    {
     "name": "stderr",
     "output_type": "stream",
     "text": []
    },
    {
     "name": "stdout",
     "output_type": "stream",
     "text": [
      "at 15331 line mirai -> FOUND \n"
     ]
    },
    {
     "name": "stderr",
     "output_type": "stream",
     "text": [
      "Processing posts: 100%|██████████| 15443/15443 [03:27<00:00, 74.42it/s]\n",
      "Processing words: 100%|██████████| 6/6 [21:49<00:00, 218.26s/it]\n"
     ]
    }
   ],
   "source": [
    "matches = pd.DataFrame()\n",
    "\n",
    "matches = loop_search( top5_malware_list , selected_rows)"
   ]
  },
  {
   "cell_type": "code",
   "execution_count": 24,
   "id": "f1db108b",
   "metadata": {},
   "outputs": [],
   "source": [
    "selected_rows.to_csv(r'C:\\Users\\leona\\OneDrive\\Desktop\\Tesi\\Pipeline\\Datasets\\Pipeline\\SocialNetworksPosts\\Twitter\\Posts.csv')\n",
    "matches.to_csv(r'C:\\Users\\leona\\OneDrive\\Desktop\\Tesi\\Pipeline\\Datasets\\Pipeline\\SocialNetworksPosts\\Twitter\\Posts_filteredby_Malwares.csv')"
   ]
  },
  {
   "cell_type": "code",
   "execution_count": 25,
   "id": "679b5179",
   "metadata": {},
   "outputs": [
    {
     "data": {
      "text/html": [
       "<div>\n",
       "<style scoped>\n",
       "    .dataframe tbody tr th:only-of-type {\n",
       "        vertical-align: middle;\n",
       "    }\n",
       "\n",
       "    .dataframe tbody tr th {\n",
       "        vertical-align: top;\n",
       "    }\n",
       "\n",
       "    .dataframe thead th {\n",
       "        text-align: right;\n",
       "    }\n",
       "</style>\n",
       "<table border=\"1\" class=\"dataframe\">\n",
       "  <thead>\n",
       "    <tr style=\"text-align: right;\">\n",
       "      <th></th>\n",
       "      <th>username</th>\n",
       "      <th>name</th>\n",
       "      <th>date</th>\n",
       "      <th>text</th>\n",
       "      <th>post_index</th>\n",
       "      <th>word</th>\n",
       "    </tr>\n",
       "  </thead>\n",
       "  <tbody>\n",
       "    <tr>\n",
       "      <th>1</th>\n",
       "      <td>PolySwarm</td>\n",
       "      <td>PolySwarm</td>\n",
       "      <td>2023-06-30</td>\n",
       "      <td>#Condi is a #DDoS as a service #botnet based on Mirai. It has been observed leveraging CVE-2023-1389 to propagate,… https://t.co/L0J8rf8gTs</td>\n",
       "      <td>4275</td>\n",
       "      <td>mirai</td>\n",
       "    </tr>\n",
       "    <tr>\n",
       "      <th>0</th>\n",
       "      <td>sans_isc</td>\n",
       "      <td>SANS.edu Internet Storm Center</td>\n",
       "      <td>2023-06-30</td>\n",
       "      <td>From Adobe Remcos RAT; ArcServe PoC Exploit; Sysmon Update; Drone Security\\n https://t.co/yA7wosua9x https://t.co/SP33K6SUHD</td>\n",
       "      <td>4493</td>\n",
       "      <td>remcos</td>\n",
       "    </tr>\n",
       "    <tr>\n",
       "      <th>2</th>\n",
       "      <td>PatrickCMiller</td>\n",
       "      <td>Patrick C Miller is on Mastodon</td>\n",
       "      <td>2023-06-20</td>\n",
       "      <td>Romanian cybercrime gang Diicot builds DDoS botnet with Mirai variant https://t.co/IdbJQfBl2p</td>\n",
       "      <td>8284</td>\n",
       "      <td>mirai</td>\n",
       "    </tr>\n",
       "    <tr>\n",
       "      <th>3</th>\n",
       "      <td>PatrickCMiller</td>\n",
       "      <td>Patrick C Miller is on Mastodon</td>\n",
       "      <td>2023-06-01</td>\n",
       "      <td>New Mirai Variant Campaigns are Targeting IoT Devices https://t.co/il2ZR9a4tH</td>\n",
       "      <td>15331</td>\n",
       "      <td>mirai</td>\n",
       "    </tr>\n",
       "  </tbody>\n",
       "</table>\n",
       "</div>"
      ],
      "text/plain": [
       "         username                             name        date  \\\n",
       "1       PolySwarm                        PolySwarm  2023-06-30   \n",
       "0        sans_isc   SANS.edu Internet Storm Center  2023-06-30   \n",
       "2  PatrickCMiller  Patrick C Miller is on Mastodon  2023-06-20   \n",
       "3  PatrickCMiller  Patrick C Miller is on Mastodon  2023-06-01   \n",
       "\n",
       "                                                                                                                                          text  \\\n",
       "1  #Condi is a #DDoS as a service #botnet based on Mirai. It has been observed leveraging CVE-2023-1389 to propagate,… https://t.co/L0J8rf8gTs   \n",
       "0                 From Adobe Remcos RAT; ArcServe PoC Exploit; Sysmon Update; Drone Security\\n https://t.co/yA7wosua9x https://t.co/SP33K6SUHD   \n",
       "2                                                Romanian cybercrime gang Diicot builds DDoS botnet with Mirai variant https://t.co/IdbJQfBl2p   \n",
       "3                                                                New Mirai Variant Campaigns are Targeting IoT Devices https://t.co/il2ZR9a4tH   \n",
       "\n",
       "   post_index    word  \n",
       "1        4275   mirai  \n",
       "0        4493  remcos  \n",
       "2        8284   mirai  \n",
       "3       15331   mirai  "
      ]
     },
     "execution_count": 25,
     "metadata": {},
     "output_type": "execute_result"
    }
   ],
   "source": [
    "merged_matches = pd.merge(selected_rows, matches, left_index=True, right_on='post_index')\n",
    "merged_matches.head()\n"
   ]
  },
  {
   "cell_type": "code",
   "execution_count": null,
   "id": "c0a690b4",
   "metadata": {},
   "outputs": [],
   "source": [
    "merged_matches.to_csv(r'C:\\Users\\leona\\OneDrive\\Desktop\\Tesi\\Pipeline\\Datasets\\Pipeline\\SocialNetworksPosts\\Twitter\\Posts_filteredby_Malwares.csv')"
   ]
  },
  {
   "cell_type": "code",
   "execution_count": 26,
   "id": "7fcce1db",
   "metadata": {},
   "outputs": [
    {
     "name": "stderr",
     "output_type": "stream",
     "text": [
      "Processing words:   0%|          | 0/5 [00:00<?, ?it/s]"
     ]
    },
    {
     "name": "stdout",
     "output_type": "stream",
     "text": [
      "at 106 line trojan -> FOUND \n"
     ]
    },
    {
     "name": "stderr",
     "output_type": "stream",
     "text": []
    },
    {
     "name": "stdout",
     "output_type": "stream",
     "text": [
      "at 3654 line trojan -> FOUND \n"
     ]
    },
    {
     "name": "stderr",
     "output_type": "stream",
     "text": []
    },
    {
     "name": "stdout",
     "output_type": "stream",
     "text": [
      "at 5567 line trojan -> FOUND \n"
     ]
    },
    {
     "name": "stderr",
     "output_type": "stream",
     "text": []
    },
    {
     "name": "stdout",
     "output_type": "stream",
     "text": [
      "at 5623 line trojan -> FOUND \n"
     ]
    },
    {
     "name": "stderr",
     "output_type": "stream",
     "text": []
    },
    {
     "name": "stdout",
     "output_type": "stream",
     "text": [
      "at 6950 line trojan -> FOUND \n",
      "at 6951 line trojan -> FOUND \n"
     ]
    },
    {
     "name": "stderr",
     "output_type": "stream",
     "text": []
    },
    {
     "name": "stdout",
     "output_type": "stream",
     "text": [
      "at 6987 line trojan -> FOUND \n"
     ]
    },
    {
     "name": "stderr",
     "output_type": "stream",
     "text": [
      "\n"
     ]
    },
    {
     "name": "stdout",
     "output_type": "stream",
     "text": [
      "at 8182 line trojan -> FOUND \n"
     ]
    },
    {
     "name": "stderr",
     "output_type": "stream",
     "text": [
      "Processing posts:  53%|█████▎    | 8198/15443 [01:54<01:37, 74.32it/s]\u001b[A"
     ]
    },
    {
     "name": "stdout",
     "output_type": "stream",
     "text": [
      "at 13264 line trojan -> FOUND \n"
     ]
    },
    {
     "name": "stderr",
     "output_type": "stream",
     "text": []
    },
    {
     "name": "stdout",
     "output_type": "stream",
     "text": [
      "at 14862 line trojan -> FOUND \n"
     ]
    },
    {
     "name": "stderr",
     "output_type": "stream",
     "text": [
      "Processing posts: 100%|██████████| 15443/15443 [03:31<00:00, 73.17it/s]\n",
      "Processing words:  20%|██        | 1/5 [03:31<14:04, 211.09s/it]"
     ]
    },
    {
     "name": "stdout",
     "output_type": "stream",
     "text": [
      "at 16 line ransomware -> FOUND \n"
     ]
    },
    {
     "name": "stderr",
     "output_type": "stream",
     "text": []
    },
    {
     "name": "stdout",
     "output_type": "stream",
     "text": [
      "at 66 line ransomware -> FOUND \n"
     ]
    },
    {
     "name": "stderr",
     "output_type": "stream",
     "text": []
    },
    {
     "name": "stdout",
     "output_type": "stream",
     "text": [
      "at 92 line ransomware -> FOUND \n"
     ]
    },
    {
     "name": "stderr",
     "output_type": "stream",
     "text": []
    },
    {
     "name": "stdout",
     "output_type": "stream",
     "text": [
      "at 114 line ransomware -> FOUND \n",
      "at 115 line ransomware -> FOUND \n"
     ]
    },
    {
     "name": "stderr",
     "output_type": "stream",
     "text": []
    },
    {
     "name": "stdout",
     "output_type": "stream",
     "text": [
      "at 132 line ransomware -> FOUND \n",
      "at 148 line ransomware -> FOUND \n"
     ]
    },
    {
     "name": "stderr",
     "output_type": "stream",
     "text": []
    },
    {
     "name": "stdout",
     "output_type": "stream",
     "text": [
      "at 150 line ransomware -> FOUND \n",
      "at 155 line ransomware -> FOUND \n",
      "at 157 line ransomware -> FOUND \n",
      "at 159 line ransomware -> FOUND \n"
     ]
    },
    {
     "name": "stderr",
     "output_type": "stream",
     "text": []
    },
    {
     "name": "stdout",
     "output_type": "stream",
     "text": [
      "at 187 line ransomware -> FOUND \n"
     ]
    },
    {
     "name": "stderr",
     "output_type": "stream",
     "text": []
    },
    {
     "name": "stdout",
     "output_type": "stream",
     "text": [
      "at 490 line ransomware -> FOUND \n"
     ]
    },
    {
     "name": "stderr",
     "output_type": "stream",
     "text": []
    },
    {
     "name": "stdout",
     "output_type": "stream",
     "text": [
      "at 720 line ransomware -> FOUND \n",
      "at 722 line ransomware -> FOUND \n",
      "at 724 line ransomware -> FOUND \n",
      "at 725 line ransomware -> FOUND \n"
     ]
    },
    {
     "name": "stderr",
     "output_type": "stream",
     "text": []
    },
    {
     "name": "stdout",
     "output_type": "stream",
     "text": [
      "at 736 line ransomware -> FOUND \n",
      "at 737 line ransomware -> FOUND \n",
      "at 739 line ransomware -> FOUND \n"
     ]
    },
    {
     "name": "stderr",
     "output_type": "stream",
     "text": []
    },
    {
     "name": "stdout",
     "output_type": "stream",
     "text": [
      "at 932 line ransomware -> FOUND \n"
     ]
    },
    {
     "name": "stderr",
     "output_type": "stream",
     "text": []
    },
    {
     "name": "stdout",
     "output_type": "stream",
     "text": [
      "at 994 line ransomware -> FOUND \n"
     ]
    },
    {
     "name": "stderr",
     "output_type": "stream",
     "text": [
      "\n"
     ]
    },
    {
     "name": "stdout",
     "output_type": "stream",
     "text": [
      "at 1037 line ransomware -> FOUND \n"
     ]
    },
    {
     "name": "stderr",
     "output_type": "stream",
     "text": [
      "Processing posts:   7%|▋         | 1053/15443 [00:13<03:00, 79.94it/s]\u001b[A"
     ]
    },
    {
     "name": "stdout",
     "output_type": "stream",
     "text": [
      "at 1192 line ransomware -> FOUND \n"
     ]
    },
    {
     "name": "stderr",
     "output_type": "stream",
     "text": []
    },
    {
     "name": "stdout",
     "output_type": "stream",
     "text": [
      "at 1219 line ransomware -> FOUND \n"
     ]
    },
    {
     "name": "stderr",
     "output_type": "stream",
     "text": []
    },
    {
     "name": "stdout",
     "output_type": "stream",
     "text": [
      "at 1236 line ransomware -> FOUND \n"
     ]
    },
    {
     "name": "stderr",
     "output_type": "stream",
     "text": []
    },
    {
     "name": "stdout",
     "output_type": "stream",
     "text": [
      "at 1372 line ransomware -> FOUND \n"
     ]
    },
    {
     "name": "stderr",
     "output_type": "stream",
     "text": []
    },
    {
     "name": "stdout",
     "output_type": "stream",
     "text": [
      "at 1441 line ransomware -> FOUND \n",
      "at 1446 line ransomware -> FOUND \n"
     ]
    },
    {
     "name": "stderr",
     "output_type": "stream",
     "text": [
      "\n"
     ]
    },
    {
     "name": "stdout",
     "output_type": "stream",
     "text": [
      "at 1475 line ransomware -> FOUND \n"
     ]
    },
    {
     "name": "stderr",
     "output_type": "stream",
     "text": [
      "Processing posts:  10%|▉         | 1488/15443 [00:19<03:32, 65.62it/s]\u001b[A"
     ]
    },
    {
     "name": "stdout",
     "output_type": "stream",
     "text": [
      "at 1519 line ransomware -> FOUND \n",
      "at 1526 line ransomware -> FOUND \n",
      "at 1528 line ransomware -> FOUND \n",
      "at 1532 line ransomware -> FOUND \n"
     ]
    },
    {
     "name": "stderr",
     "output_type": "stream",
     "text": []
    },
    {
     "name": "stdout",
     "output_type": "stream",
     "text": [
      "at 1533 line ransomware -> FOUND \n"
     ]
    },
    {
     "name": "stderr",
     "output_type": "stream",
     "text": []
    },
    {
     "name": "stdout",
     "output_type": "stream",
     "text": [
      "at 1671 line ransomware -> FOUND \n"
     ]
    },
    {
     "name": "stderr",
     "output_type": "stream",
     "text": []
    },
    {
     "name": "stdout",
     "output_type": "stream",
     "text": [
      "at 1735 line ransomware -> FOUND \n"
     ]
    },
    {
     "name": "stderr",
     "output_type": "stream",
     "text": []
    },
    {
     "name": "stdout",
     "output_type": "stream",
     "text": [
      "at 1759 line ransomware -> FOUND \n",
      "at 1762 line ransomware -> FOUND \n",
      "at 1769 line ransomware -> FOUND \n",
      "at 1771 line ransomware -> FOUND \n"
     ]
    },
    {
     "name": "stderr",
     "output_type": "stream",
     "text": []
    },
    {
     "name": "stdout",
     "output_type": "stream",
     "text": [
      "at 1808 line ransomware -> FOUND \n",
      "at 1817 line ransomware -> FOUND \n"
     ]
    },
    {
     "name": "stderr",
     "output_type": "stream",
     "text": [
      "\n"
     ]
    },
    {
     "name": "stdout",
     "output_type": "stream",
     "text": [
      "at 1825 line ransomware -> FOUND \n",
      "at 1838 line ransomware -> FOUND \n"
     ]
    },
    {
     "name": "stderr",
     "output_type": "stream",
     "text": [
      "Processing posts:  12%|█▏        | 1841/15443 [00:24<02:53, 78.43it/s]\u001b[A"
     ]
    },
    {
     "name": "stdout",
     "output_type": "stream",
     "text": [
      "at 1852 line ransomware -> FOUND \n"
     ]
    },
    {
     "name": "stderr",
     "output_type": "stream",
     "text": [
      "\n"
     ]
    },
    {
     "name": "stdout",
     "output_type": "stream",
     "text": [
      "at 2001 line ransomware -> FOUND \n",
      "at 2014 line ransomware -> FOUND \n"
     ]
    },
    {
     "name": "stderr",
     "output_type": "stream",
     "text": [
      "Processing posts:  13%|█▎        | 2017/15443 [00:26<02:43, 82.05it/s]\u001b[A"
     ]
    },
    {
     "name": "stdout",
     "output_type": "stream",
     "text": [
      "at 2058 line ransomware -> FOUND \n"
     ]
    },
    {
     "name": "stderr",
     "output_type": "stream",
     "text": []
    },
    {
     "name": "stdout",
     "output_type": "stream",
     "text": [
      "at 2108 line ransomware -> FOUND \n",
      "at 2115 line ransomware -> FOUND \n"
     ]
    },
    {
     "name": "stderr",
     "output_type": "stream",
     "text": []
    },
    {
     "name": "stdout",
     "output_type": "stream",
     "text": [
      "at 2138 line ransomware -> FOUND \n",
      "at 2139 line ransomware -> FOUND \n",
      "at 2144 line ransomware -> FOUND \n"
     ]
    },
    {
     "name": "stderr",
     "output_type": "stream",
     "text": []
    },
    {
     "name": "stdout",
     "output_type": "stream",
     "text": [
      "at 2167 line ransomware -> FOUND \n"
     ]
    },
    {
     "name": "stderr",
     "output_type": "stream",
     "text": []
    },
    {
     "name": "stdout",
     "output_type": "stream",
     "text": [
      "at 2184 line ransomware -> FOUND \n"
     ]
    },
    {
     "name": "stderr",
     "output_type": "stream",
     "text": []
    },
    {
     "name": "stdout",
     "output_type": "stream",
     "text": [
      "at 2216 line ransomware -> FOUND \n",
      "at 2220 line ransomware -> FOUND \n"
     ]
    },
    {
     "name": "stderr",
     "output_type": "stream",
     "text": []
    },
    {
     "name": "stdout",
     "output_type": "stream",
     "text": [
      "at 2277 line ransomware -> FOUND \n"
     ]
    },
    {
     "name": "stderr",
     "output_type": "stream",
     "text": [
      "\n"
     ]
    },
    {
     "name": "stdout",
     "output_type": "stream",
     "text": [
      "at 2335 line ransomware -> FOUND \n",
      "at 2348 line ransomware -> FOUND \n"
     ]
    },
    {
     "name": "stderr",
     "output_type": "stream",
     "text": [
      "Processing posts:  15%|█▌        | 2351/15443 [00:30<02:44, 79.74it/s]\u001b[A"
     ]
    },
    {
     "name": "stdout",
     "output_type": "stream",
     "text": [
      "at 2402 line ransomware -> FOUND \n"
     ]
    },
    {
     "name": "stderr",
     "output_type": "stream",
     "text": []
    },
    {
     "name": "stdout",
     "output_type": "stream",
     "text": [
      "at 2497 line ransomware -> FOUND \n",
      "at 2500 line ransomware -> FOUND \n"
     ]
    },
    {
     "name": "stderr",
     "output_type": "stream",
     "text": []
    },
    {
     "name": "stdout",
     "output_type": "stream",
     "text": [
      "at 2536 line ransomware -> FOUND \n",
      "at 2537 line ransomware -> FOUND \n"
     ]
    },
    {
     "name": "stderr",
     "output_type": "stream",
     "text": []
    },
    {
     "name": "stdout",
     "output_type": "stream",
     "text": [
      "at 2615 line ransomware -> FOUND \n"
     ]
    },
    {
     "name": "stderr",
     "output_type": "stream",
     "text": []
    },
    {
     "name": "stdout",
     "output_type": "stream",
     "text": [
      "at 2665 line ransomware -> FOUND \n",
      "at 2671 line ransomware -> FOUND \n"
     ]
    },
    {
     "name": "stderr",
     "output_type": "stream",
     "text": []
    },
    {
     "name": "stdout",
     "output_type": "stream",
     "text": [
      "at 2681 line ransomware -> FOUND \n"
     ]
    },
    {
     "name": "stderr",
     "output_type": "stream",
     "text": []
    },
    {
     "name": "stdout",
     "output_type": "stream",
     "text": [
      "at 2907 line ransomware -> FOUND \n"
     ]
    },
    {
     "name": "stderr",
     "output_type": "stream",
     "text": []
    },
    {
     "name": "stdout",
     "output_type": "stream",
     "text": [
      "at 3006 line ransomware -> FOUND \n"
     ]
    },
    {
     "name": "stderr",
     "output_type": "stream",
     "text": []
    },
    {
     "name": "stdout",
     "output_type": "stream",
     "text": [
      "at 3029 line ransomware -> FOUND \n",
      "at 3032 line ransomware -> FOUND \n"
     ]
    },
    {
     "name": "stderr",
     "output_type": "stream",
     "text": []
    },
    {
     "name": "stdout",
     "output_type": "stream",
     "text": [
      "at 3060 line ransomware -> FOUND \n",
      "at 3065 line ransomware -> FOUND \n"
     ]
    },
    {
     "name": "stderr",
     "output_type": "stream",
     "text": []
    },
    {
     "name": "stdout",
     "output_type": "stream",
     "text": [
      "at 3096 line ransomware -> FOUND \n"
     ]
    },
    {
     "name": "stderr",
     "output_type": "stream",
     "text": []
    },
    {
     "name": "stdout",
     "output_type": "stream",
     "text": [
      "at 3184 line ransomware -> FOUND \n"
     ]
    },
    {
     "name": "stderr",
     "output_type": "stream",
     "text": []
    },
    {
     "name": "stdout",
     "output_type": "stream",
     "text": [
      "at 3254 line ransomware -> FOUND \n"
     ]
    },
    {
     "name": "stderr",
     "output_type": "stream",
     "text": []
    },
    {
     "name": "stdout",
     "output_type": "stream",
     "text": [
      "at 3289 line ransomware -> FOUND \n",
      "at 3293 line ransomware -> FOUND \n",
      "at 3301 line ransomware -> FOUND \n"
     ]
    },
    {
     "name": "stderr",
     "output_type": "stream",
     "text": []
    },
    {
     "name": "stdout",
     "output_type": "stream",
     "text": [
      "at 3380 line ransomware -> FOUND \n"
     ]
    },
    {
     "name": "stderr",
     "output_type": "stream",
     "text": [
      "\n"
     ]
    },
    {
     "name": "stdout",
     "output_type": "stream",
     "text": [
      "at 3400 line ransomware -> FOUND \n"
     ]
    },
    {
     "name": "stderr",
     "output_type": "stream",
     "text": [
      "Processing posts:  22%|██▏       | 3418/15443 [00:44<02:24, 83.01it/s]\u001b[A"
     ]
    },
    {
     "name": "stdout",
     "output_type": "stream",
     "text": [
      "at 3438 line ransomware -> FOUND \n"
     ]
    },
    {
     "name": "stderr",
     "output_type": "stream",
     "text": [
      "\n"
     ]
    },
    {
     "name": "stdout",
     "output_type": "stream",
     "text": [
      "at 3496 line ransomware -> FOUND \n"
     ]
    },
    {
     "name": "stderr",
     "output_type": "stream",
     "text": [
      "Processing posts:  23%|██▎       | 3514/15443 [00:45<02:27, 80.62it/s]\u001b[A"
     ]
    },
    {
     "name": "stdout",
     "output_type": "stream",
     "text": [
      "at 3599 line ransomware -> FOUND \n"
     ]
    },
    {
     "name": "stderr",
     "output_type": "stream",
     "text": []
    },
    {
     "name": "stdout",
     "output_type": "stream",
     "text": [
      "at 3656 line ransomware -> FOUND \n"
     ]
    },
    {
     "name": "stderr",
     "output_type": "stream",
     "text": []
    },
    {
     "name": "stdout",
     "output_type": "stream",
     "text": [
      "at 3693 line ransomware -> FOUND \n",
      "at 3704 line ransomware -> FOUND \n"
     ]
    },
    {
     "name": "stderr",
     "output_type": "stream",
     "text": []
    },
    {
     "name": "stdout",
     "output_type": "stream",
     "text": [
      "at 3831 line ransomware -> FOUND \n"
     ]
    },
    {
     "name": "stderr",
     "output_type": "stream",
     "text": []
    },
    {
     "name": "stdout",
     "output_type": "stream",
     "text": [
      "at 3858 line ransomware -> FOUND \n"
     ]
    },
    {
     "name": "stderr",
     "output_type": "stream",
     "text": []
    },
    {
     "name": "stdout",
     "output_type": "stream",
     "text": [
      "at 3901 line ransomware -> FOUND \n",
      "at 3903 line ransomware -> FOUND \n",
      "at 3908 line ransomware -> FOUND \n",
      "at 3909 line ransomware -> FOUND \n"
     ]
    },
    {
     "name": "stderr",
     "output_type": "stream",
     "text": []
    },
    {
     "name": "stdout",
     "output_type": "stream",
     "text": [
      "at 3917 line ransomware -> FOUND \n",
      "at 3918 line ransomware -> FOUND \n",
      "at 3922 line ransomware -> FOUND \n"
     ]
    },
    {
     "name": "stderr",
     "output_type": "stream",
     "text": []
    },
    {
     "name": "stdout",
     "output_type": "stream",
     "text": [
      "at 4012 line ransomware -> FOUND \n",
      "at 4026 line ransomware -> FOUND \n"
     ]
    },
    {
     "name": "stderr",
     "output_type": "stream",
     "text": []
    },
    {
     "name": "stdout",
     "output_type": "stream",
     "text": [
      "at 4055 line ransomware -> FOUND \n",
      "at 4065 line ransomware -> FOUND \n",
      "at 4070 line ransomware -> FOUND \n"
     ]
    },
    {
     "name": "stderr",
     "output_type": "stream",
     "text": [
      "\n"
     ]
    },
    {
     "name": "stdout",
     "output_type": "stream",
     "text": [
      "at 4167 line ransomware -> FOUND \n"
     ]
    },
    {
     "name": "stderr",
     "output_type": "stream",
     "text": [
      "Processing posts:  27%|██▋       | 4183/15443 [00:54<02:27, 76.37it/s]\u001b[A"
     ]
    },
    {
     "name": "stdout",
     "output_type": "stream",
     "text": [
      "at 4226 line ransomware -> FOUND \n"
     ]
    },
    {
     "name": "stderr",
     "output_type": "stream",
     "text": []
    },
    {
     "name": "stdout",
     "output_type": "stream",
     "text": [
      "at 4241 line ransomware -> FOUND \n"
     ]
    },
    {
     "name": "stderr",
     "output_type": "stream",
     "text": []
    },
    {
     "name": "stdout",
     "output_type": "stream",
     "text": [
      "at 4324 line ransomware -> FOUND \n",
      "at 4334 line ransomware -> FOUND \n"
     ]
    },
    {
     "name": "stderr",
     "output_type": "stream",
     "text": []
    },
    {
     "name": "stdout",
     "output_type": "stream",
     "text": [
      "at 4342 line ransomware -> FOUND \n",
      "at 4344 line ransomware -> FOUND \n"
     ]
    },
    {
     "name": "stderr",
     "output_type": "stream",
     "text": []
    },
    {
     "name": "stdout",
     "output_type": "stream",
     "text": [
      "at 4365 line ransomware -> FOUND \n"
     ]
    },
    {
     "name": "stderr",
     "output_type": "stream",
     "text": []
    },
    {
     "name": "stdout",
     "output_type": "stream",
     "text": [
      "at 4395 line ransomware -> FOUND \n",
      "at 4403 line ransomware -> FOUND \n",
      "at 4404 line ransomware -> FOUND \n",
      "at 4407 line ransomware -> FOUND \n",
      "at 4408 line ransomware -> FOUND \n"
     ]
    },
    {
     "name": "stderr",
     "output_type": "stream",
     "text": []
    },
    {
     "name": "stdout",
     "output_type": "stream",
     "text": [
      "at 4417 line ransomware -> FOUND \n"
     ]
    },
    {
     "name": "stderr",
     "output_type": "stream",
     "text": []
    },
    {
     "name": "stdout",
     "output_type": "stream",
     "text": [
      "at 4502 line ransomware -> FOUND \n",
      "at 4511 line ransomware -> FOUND \n"
     ]
    },
    {
     "name": "stderr",
     "output_type": "stream",
     "text": []
    },
    {
     "name": "stdout",
     "output_type": "stream",
     "text": [
      "at 4612 line ransomware -> FOUND \n",
      "at 4623 line ransomware -> FOUND \n"
     ]
    },
    {
     "name": "stderr",
     "output_type": "stream",
     "text": []
    },
    {
     "name": "stdout",
     "output_type": "stream",
     "text": [
      "at 4655 line ransomware -> FOUND \n"
     ]
    },
    {
     "name": "stderr",
     "output_type": "stream",
     "text": []
    },
    {
     "name": "stdout",
     "output_type": "stream",
     "text": [
      "at 4725 line ransomware -> FOUND \n"
     ]
    },
    {
     "name": "stderr",
     "output_type": "stream",
     "text": []
    },
    {
     "name": "stdout",
     "output_type": "stream",
     "text": [
      "at 4760 line ransomware -> FOUND \n",
      "at 4770 line ransomware -> FOUND \n"
     ]
    },
    {
     "name": "stderr",
     "output_type": "stream",
     "text": []
    },
    {
     "name": "stdout",
     "output_type": "stream",
     "text": [
      "at 4787 line ransomware -> FOUND \n",
      "at 4802 line ransomware -> FOUND \n"
     ]
    },
    {
     "name": "stderr",
     "output_type": "stream",
     "text": []
    },
    {
     "name": "stdout",
     "output_type": "stream",
     "text": [
      "at 4845 line ransomware -> FOUND \n"
     ]
    },
    {
     "name": "stderr",
     "output_type": "stream",
     "text": []
    },
    {
     "name": "stdout",
     "output_type": "stream",
     "text": [
      "at 4984 line ransomware -> FOUND \n"
     ]
    },
    {
     "name": "stderr",
     "output_type": "stream",
     "text": []
    },
    {
     "name": "stdout",
     "output_type": "stream",
     "text": [
      "at 5172 line ransomware -> FOUND \n",
      "at 5173 line ransomware -> FOUND \n"
     ]
    },
    {
     "name": "stderr",
     "output_type": "stream",
     "text": []
    },
    {
     "name": "stdout",
     "output_type": "stream",
     "text": [
      "at 5214 line ransomware -> FOUND \n",
      "at 5216 line ransomware -> FOUND \n",
      "at 5217 line ransomware -> FOUND \n"
     ]
    },
    {
     "name": "stderr",
     "output_type": "stream",
     "text": []
    },
    {
     "name": "stdout",
     "output_type": "stream",
     "text": [
      "at 5243 line ransomware -> FOUND \n"
     ]
    },
    {
     "name": "stderr",
     "output_type": "stream",
     "text": []
    },
    {
     "name": "stdout",
     "output_type": "stream",
     "text": [
      "at 5441 line ransomware -> FOUND \n"
     ]
    },
    {
     "name": "stderr",
     "output_type": "stream",
     "text": []
    },
    {
     "name": "stdout",
     "output_type": "stream",
     "text": [
      "at 5516 line ransomware -> FOUND \n"
     ]
    },
    {
     "name": "stderr",
     "output_type": "stream",
     "text": []
    },
    {
     "name": "stdout",
     "output_type": "stream",
     "text": [
      "at 5616 line ransomware -> FOUND \n",
      "at 5618 line ransomware -> FOUND \n"
     ]
    },
    {
     "name": "stderr",
     "output_type": "stream",
     "text": []
    },
    {
     "name": "stdout",
     "output_type": "stream",
     "text": [
      "at 5635 line ransomware -> FOUND \n"
     ]
    },
    {
     "name": "stderr",
     "output_type": "stream",
     "text": []
    },
    {
     "name": "stdout",
     "output_type": "stream",
     "text": [
      "at 5894 line ransomware -> FOUND \n"
     ]
    },
    {
     "name": "stderr",
     "output_type": "stream",
     "text": [
      "\n"
     ]
    },
    {
     "name": "stdout",
     "output_type": "stream",
     "text": [
      "at 5957 line ransomware -> FOUND \n"
     ]
    },
    {
     "name": "stderr",
     "output_type": "stream",
     "text": [
      "Processing posts:  39%|███▊      | 5972/15443 [01:18<02:07, 74.15it/s]\u001b[A"
     ]
    },
    {
     "name": "stdout",
     "output_type": "stream",
     "text": [
      "at 5977 line ransomware -> FOUND \n",
      "at 5991 line ransomware -> FOUND \n"
     ]
    },
    {
     "name": "stderr",
     "output_type": "stream",
     "text": []
    },
    {
     "name": "stdout",
     "output_type": "stream",
     "text": [
      "at 6040 line ransomware -> FOUND \n",
      "at 6041 line ransomware -> FOUND \n",
      "at 6054 line ransomware -> FOUND \n",
      "at 6055 line ransomware -> FOUND \n"
     ]
    },
    {
     "name": "stderr",
     "output_type": "stream",
     "text": []
    },
    {
     "name": "stdout",
     "output_type": "stream",
     "text": [
      "at 6070 line ransomware -> FOUND \n"
     ]
    },
    {
     "name": "stderr",
     "output_type": "stream",
     "text": []
    },
    {
     "name": "stdout",
     "output_type": "stream",
     "text": [
      "at 6114 line ransomware -> FOUND \n"
     ]
    },
    {
     "name": "stderr",
     "output_type": "stream",
     "text": []
    },
    {
     "name": "stdout",
     "output_type": "stream",
     "text": [
      "at 6215 line ransomware -> FOUND \n"
     ]
    },
    {
     "name": "stderr",
     "output_type": "stream",
     "text": []
    },
    {
     "name": "stdout",
     "output_type": "stream",
     "text": [
      "at 6231 line ransomware -> FOUND \n"
     ]
    },
    {
     "name": "stderr",
     "output_type": "stream",
     "text": []
    },
    {
     "name": "stdout",
     "output_type": "stream",
     "text": [
      "at 6265 line ransomware -> FOUND \n",
      "at 6281 line ransomware -> FOUND \n"
     ]
    },
    {
     "name": "stderr",
     "output_type": "stream",
     "text": [
      "\n"
     ]
    },
    {
     "name": "stdout",
     "output_type": "stream",
     "text": [
      "at 6287 line ransomware -> FOUND \n"
     ]
    },
    {
     "name": "stderr",
     "output_type": "stream",
     "text": [
      "Processing posts:  41%|████      | 6303/15443 [01:22<01:59, 76.63it/s]\u001b[A\n"
     ]
    },
    {
     "name": "stdout",
     "output_type": "stream",
     "text": [
      "at 6472 line ransomware -> FOUND \n",
      "at 6473 line ransomware -> FOUND \n",
      "at 6480 line ransomware -> FOUND \n"
     ]
    },
    {
     "name": "stderr",
     "output_type": "stream",
     "text": [
      "Processing posts:  42%|████▏     | 6488/15443 [01:25<02:02, 73.26it/s]\u001b[A"
     ]
    },
    {
     "name": "stdout",
     "output_type": "stream",
     "text": [
      "at 6578 line ransomware -> FOUND \n",
      "at 6584 line ransomware -> FOUND \n",
      "at 6585 line ransomware -> FOUND \n",
      "at 6594 line ransomware -> FOUND \n"
     ]
    },
    {
     "name": "stderr",
     "output_type": "stream",
     "text": []
    },
    {
     "name": "stdout",
     "output_type": "stream",
     "text": [
      "at 6596 line ransomware -> FOUND \n"
     ]
    },
    {
     "name": "stderr",
     "output_type": "stream",
     "text": []
    },
    {
     "name": "stdout",
     "output_type": "stream",
     "text": [
      "at 6781 line ransomware -> FOUND \n"
     ]
    },
    {
     "name": "stderr",
     "output_type": "stream",
     "text": []
    },
    {
     "name": "stdout",
     "output_type": "stream",
     "text": [
      "at 6803 line ransomware -> FOUND \n"
     ]
    },
    {
     "name": "stderr",
     "output_type": "stream",
     "text": [
      "\n"
     ]
    },
    {
     "name": "stdout",
     "output_type": "stream",
     "text": [
      "at 6857 line ransomware -> FOUND \n"
     ]
    },
    {
     "name": "stderr",
     "output_type": "stream",
     "text": [
      "Processing posts:  44%|████▍     | 6872/15443 [01:29<01:47, 80.05it/s]\u001b[A\n"
     ]
    },
    {
     "name": "stdout",
     "output_type": "stream",
     "text": [
      "at 6952 line ransomware -> FOUND \n",
      "at 6969 line ransomware -> FOUND \n"
     ]
    },
    {
     "name": "stderr",
     "output_type": "stream",
     "text": [
      "Processing posts:  45%|████▌     | 6971/15443 [01:31<01:43, 82.25it/s]\u001b[A"
     ]
    },
    {
     "name": "stdout",
     "output_type": "stream",
     "text": [
      "at 6985 line ransomware -> FOUND \n",
      "at 6986 line ransomware -> FOUND \n"
     ]
    },
    {
     "name": "stderr",
     "output_type": "stream",
     "text": []
    },
    {
     "name": "stdout",
     "output_type": "stream",
     "text": [
      "at 7062 line ransomware -> FOUND \n"
     ]
    },
    {
     "name": "stderr",
     "output_type": "stream",
     "text": []
    },
    {
     "name": "stdout",
     "output_type": "stream",
     "text": [
      "at 7129 line ransomware -> FOUND \n",
      "at 7143 line ransomware -> FOUND \n"
     ]
    },
    {
     "name": "stderr",
     "output_type": "stream",
     "text": []
    },
    {
     "name": "stdout",
     "output_type": "stream",
     "text": [
      "at 7286 line ransomware -> FOUND \n"
     ]
    },
    {
     "name": "stderr",
     "output_type": "stream",
     "text": []
    },
    {
     "name": "stdout",
     "output_type": "stream",
     "text": [
      "at 7309 line ransomware -> FOUND \n"
     ]
    },
    {
     "name": "stderr",
     "output_type": "stream",
     "text": [
      "\n"
     ]
    },
    {
     "name": "stdout",
     "output_type": "stream",
     "text": [
      "at 7399 line ransomware -> FOUND \n"
     ]
    },
    {
     "name": "stderr",
     "output_type": "stream",
     "text": [
      "Processing posts:  48%|████▊     | 7414/15443 [01:36<01:39, 80.32it/s]\u001b[A"
     ]
    },
    {
     "name": "stdout",
     "output_type": "stream",
     "text": [
      "at 7424 line ransomware -> FOUND \n",
      "at 7428 line ransomware -> FOUND \n",
      "at 7431 line ransomware -> FOUND \n"
     ]
    },
    {
     "name": "stderr",
     "output_type": "stream",
     "text": []
    },
    {
     "name": "stdout",
     "output_type": "stream",
     "text": [
      "at 7448 line ransomware -> FOUND \n"
     ]
    },
    {
     "name": "stderr",
     "output_type": "stream",
     "text": []
    },
    {
     "name": "stdout",
     "output_type": "stream",
     "text": [
      "at 7651 line ransomware -> FOUND \n"
     ]
    },
    {
     "name": "stderr",
     "output_type": "stream",
     "text": []
    },
    {
     "name": "stdout",
     "output_type": "stream",
     "text": [
      "at 7735 line ransomware -> FOUND \n"
     ]
    },
    {
     "name": "stderr",
     "output_type": "stream",
     "text": []
    },
    {
     "name": "stdout",
     "output_type": "stream",
     "text": [
      "at 7774 line ransomware -> FOUND \n",
      "at 7775 line ransomware -> FOUND \n"
     ]
    },
    {
     "name": "stderr",
     "output_type": "stream",
     "text": [
      "\n"
     ]
    },
    {
     "name": "stdout",
     "output_type": "stream",
     "text": [
      "at 7794 line ransomware -> FOUND \n",
      "at 7802 line ransomware -> FOUND \n"
     ]
    },
    {
     "name": "stderr",
     "output_type": "stream",
     "text": [
      "Processing posts:  51%|█████     | 7811/15443 [01:42<01:34, 81.18it/s]\u001b[A\n",
      "Processing posts:  51%|█████     | 7838/15443 [01:42<01:31, 82.92it/s]"
     ]
    },
    {
     "name": "stdout",
     "output_type": "stream",
     "text": [
      "at 7823 line ransomware -> FOUND \n",
      "at 7831 line ransomware -> FOUND \n",
      "at 7832 line ransomware -> FOUND \n",
      "at 7836 line ransomware -> FOUND \n"
     ]
    },
    {
     "name": "stderr",
     "output_type": "stream",
     "text": [
      "\u001b[A"
     ]
    },
    {
     "name": "stdout",
     "output_type": "stream",
     "text": [
      "at 7838 line ransomware -> FOUND \n",
      "at 7847 line ransomware -> FOUND \n",
      "at 7848 line ransomware -> FOUND \n"
     ]
    },
    {
     "name": "stderr",
     "output_type": "stream",
     "text": []
    },
    {
     "name": "stdout",
     "output_type": "stream",
     "text": [
      "at 7942 line ransomware -> FOUND \n"
     ]
    },
    {
     "name": "stderr",
     "output_type": "stream",
     "text": []
    },
    {
     "name": "stdout",
     "output_type": "stream",
     "text": [
      "at 8060 line ransomware -> FOUND \n"
     ]
    },
    {
     "name": "stderr",
     "output_type": "stream",
     "text": [
      "\n"
     ]
    },
    {
     "name": "stdout",
     "output_type": "stream",
     "text": [
      "at 8085 line ransomware -> FOUND \n",
      "at 8100 line ransomware -> FOUND \n"
     ]
    },
    {
     "name": "stderr",
     "output_type": "stream",
     "text": [
      "Processing posts:  52%|█████▏    | 8103/15443 [01:45<01:28, 82.87it/s]\u001b[A\n"
     ]
    },
    {
     "name": "stdout",
     "output_type": "stream",
     "text": [
      "at 8197 line ransomware -> FOUND \n"
     ]
    },
    {
     "name": "stderr",
     "output_type": "stream",
     "text": [
      "Processing posts:  53%|█████▎    | 8214/15443 [01:47<01:28, 81.31it/s]\u001b[A"
     ]
    },
    {
     "name": "stdout",
     "output_type": "stream",
     "text": [
      "at 8237 line ransomware -> FOUND \n",
      "at 8241 line ransomware -> FOUND \n",
      "at 8250 line ransomware -> FOUND \n",
      "at 8252 line ransomware -> FOUND \n"
     ]
    },
    {
     "name": "stderr",
     "output_type": "stream",
     "text": []
    },
    {
     "name": "stdout",
     "output_type": "stream",
     "text": [
      "at 8390 line ransomware -> FOUND \n"
     ]
    },
    {
     "name": "stderr",
     "output_type": "stream",
     "text": []
    },
    {
     "name": "stdout",
     "output_type": "stream",
     "text": [
      "at 8522 line ransomware -> FOUND \n",
      "at 8535 line ransomware -> FOUND \n",
      "at 8536 line ransomware -> FOUND \n"
     ]
    },
    {
     "name": "stderr",
     "output_type": "stream",
     "text": []
    },
    {
     "name": "stdout",
     "output_type": "stream",
     "text": [
      "at 8611 line ransomware -> FOUND \n"
     ]
    },
    {
     "name": "stderr",
     "output_type": "stream",
     "text": []
    },
    {
     "name": "stdout",
     "output_type": "stream",
     "text": [
      "at 8631 line ransomware -> FOUND \n",
      "at 8633 line ransomware -> FOUND \n",
      "at 8644 line ransomware -> FOUND \n",
      "at 8647 line ransomware -> FOUND \n"
     ]
    },
    {
     "name": "stderr",
     "output_type": "stream",
     "text": []
    },
    {
     "name": "stdout",
     "output_type": "stream",
     "text": [
      "at 8649 line ransomware -> FOUND \n"
     ]
    },
    {
     "name": "stderr",
     "output_type": "stream",
     "text": []
    },
    {
     "name": "stdout",
     "output_type": "stream",
     "text": [
      "at 8739 line ransomware -> FOUND \n"
     ]
    },
    {
     "name": "stderr",
     "output_type": "stream",
     "text": []
    },
    {
     "name": "stdout",
     "output_type": "stream",
     "text": [
      "at 8853 line ransomware -> FOUND \n",
      "at 8864 line ransomware -> FOUND \n"
     ]
    },
    {
     "name": "stderr",
     "output_type": "stream",
     "text": []
    },
    {
     "name": "stdout",
     "output_type": "stream",
     "text": [
      "at 8912 line ransomware -> FOUND \n"
     ]
    },
    {
     "name": "stderr",
     "output_type": "stream",
     "text": []
    },
    {
     "name": "stdout",
     "output_type": "stream",
     "text": [
      "at 8971 line ransomware -> FOUND \n",
      "at 8974 line ransomware -> FOUND \n",
      "at 8975 line ransomware -> FOUND \n"
     ]
    },
    {
     "name": "stderr",
     "output_type": "stream",
     "text": []
    },
    {
     "name": "stdout",
     "output_type": "stream",
     "text": [
      "at 8989 line ransomware -> FOUND \n"
     ]
    },
    {
     "name": "stderr",
     "output_type": "stream",
     "text": []
    },
    {
     "name": "stdout",
     "output_type": "stream",
     "text": [
      "at 9037 line ransomware -> FOUND \n"
     ]
    },
    {
     "name": "stderr",
     "output_type": "stream",
     "text": []
    },
    {
     "name": "stdout",
     "output_type": "stream",
     "text": [
      "at 9089 line ransomware -> FOUND \n"
     ]
    },
    {
     "name": "stderr",
     "output_type": "stream",
     "text": [
      "\n",
      "Processing posts:  59%|█████▉    | 9146/15443 [01:59<01:17, 81.12it/s]"
     ]
    },
    {
     "name": "stdout",
     "output_type": "stream",
     "text": [
      "at 9132 line ransomware -> FOUND \n"
     ]
    },
    {
     "name": "stderr",
     "output_type": "stream",
     "text": [
      "\u001b[A"
     ]
    },
    {
     "name": "stdout",
     "output_type": "stream",
     "text": [
      "at 9191 line ransomware -> FOUND \n",
      "at 9198 line ransomware -> FOUND \n"
     ]
    },
    {
     "name": "stderr",
     "output_type": "stream",
     "text": []
    },
    {
     "name": "stdout",
     "output_type": "stream",
     "text": [
      "at 9213 line ransomware -> FOUND \n",
      "at 9215 line ransomware -> FOUND \n",
      "at 9231 line ransomware -> FOUND \n"
     ]
    },
    {
     "name": "stderr",
     "output_type": "stream",
     "text": []
    },
    {
     "name": "stdout",
     "output_type": "stream",
     "text": [
      "at 9235 line ransomware -> FOUND \n",
      "at 9243 line ransomware -> FOUND \n"
     ]
    },
    {
     "name": "stderr",
     "output_type": "stream",
     "text": []
    },
    {
     "name": "stdout",
     "output_type": "stream",
     "text": [
      "at 9266 line ransomware -> FOUND \n",
      "at 9275 line ransomware -> FOUND \n"
     ]
    },
    {
     "name": "stderr",
     "output_type": "stream",
     "text": []
    },
    {
     "name": "stdout",
     "output_type": "stream",
     "text": [
      "at 9312 line ransomware -> FOUND \n"
     ]
    },
    {
     "name": "stderr",
     "output_type": "stream",
     "text": []
    },
    {
     "name": "stdout",
     "output_type": "stream",
     "text": [
      "at 9374 line ransomware -> FOUND \n",
      "at 9375 line ransomware -> FOUND \n"
     ]
    },
    {
     "name": "stderr",
     "output_type": "stream",
     "text": []
    },
    {
     "name": "stdout",
     "output_type": "stream",
     "text": [
      "at 9392 line ransomware -> FOUND \n"
     ]
    },
    {
     "name": "stderr",
     "output_type": "stream",
     "text": []
    },
    {
     "name": "stdout",
     "output_type": "stream",
     "text": [
      "at 9467 line ransomware -> FOUND \n",
      "at 9481 line ransomware -> FOUND \n"
     ]
    },
    {
     "name": "stderr",
     "output_type": "stream",
     "text": []
    },
    {
     "name": "stdout",
     "output_type": "stream",
     "text": [
      "at 9497 line ransomware -> FOUND \n",
      "at 9498 line ransomware -> FOUND \n",
      "at 9500 line ransomware -> FOUND \n"
     ]
    },
    {
     "name": "stderr",
     "output_type": "stream",
     "text": [
      "\n"
     ]
    },
    {
     "name": "stdout",
     "output_type": "stream",
     "text": [
      "at 9528 line ransomware -> FOUND \n",
      "at 9529 line ransomware -> FOUND \n",
      "at 9534 line ransomware -> FOUND \n",
      "at 9536 line ransomware -> FOUND \n"
     ]
    },
    {
     "name": "stderr",
     "output_type": "stream",
     "text": [
      "Processing posts:  62%|██████▏   | 9544/15443 [02:04<01:12, 81.37it/s]\u001b[A\n"
     ]
    },
    {
     "name": "stdout",
     "output_type": "stream",
     "text": [
      "at 9547 line ransomware -> FOUND \n",
      "at 9548 line ransomware -> FOUND \n"
     ]
    },
    {
     "name": "stderr",
     "output_type": "stream",
     "text": [
      "Processing posts:  62%|██████▏   | 9562/15443 [02:04<01:17, 75.69it/s]\u001b[A"
     ]
    },
    {
     "name": "stdout",
     "output_type": "stream",
     "text": [
      "at 9563 line ransomware -> FOUND \n",
      "at 9575 line ransomware -> FOUND \n"
     ]
    },
    {
     "name": "stderr",
     "output_type": "stream",
     "text": []
    },
    {
     "name": "stdout",
     "output_type": "stream",
     "text": [
      "at 9620 line ransomware -> FOUND \n"
     ]
    },
    {
     "name": "stderr",
     "output_type": "stream",
     "text": []
    },
    {
     "name": "stdout",
     "output_type": "stream",
     "text": [
      "at 9644 line ransomware -> FOUND \n"
     ]
    },
    {
     "name": "stderr",
     "output_type": "stream",
     "text": []
    },
    {
     "name": "stdout",
     "output_type": "stream",
     "text": [
      "at 9731 line ransomware -> FOUND \n",
      "at 9744 line ransomware -> FOUND \n"
     ]
    },
    {
     "name": "stderr",
     "output_type": "stream",
     "text": []
    },
    {
     "name": "stdout",
     "output_type": "stream",
     "text": [
      "at 9794 line ransomware -> FOUND \n"
     ]
    },
    {
     "name": "stderr",
     "output_type": "stream",
     "text": []
    },
    {
     "name": "stdout",
     "output_type": "stream",
     "text": [
      "at 9884 line ransomware -> FOUND \n"
     ]
    },
    {
     "name": "stderr",
     "output_type": "stream",
     "text": []
    },
    {
     "name": "stdout",
     "output_type": "stream",
     "text": [
      "at 9907 line ransomware -> FOUND \n"
     ]
    },
    {
     "name": "stderr",
     "output_type": "stream",
     "text": []
    },
    {
     "name": "stdout",
     "output_type": "stream",
     "text": [
      "at 9942 line ransomware -> FOUND \n",
      "at 9945 line ransomware -> FOUND \n",
      "at 9953 line ransomware -> FOUND \n"
     ]
    },
    {
     "name": "stderr",
     "output_type": "stream",
     "text": []
    },
    {
     "name": "stdout",
     "output_type": "stream",
     "text": [
      "at 9970 line ransomware -> FOUND \n",
      "at 9971 line ransomware -> FOUND \n"
     ]
    },
    {
     "name": "stderr",
     "output_type": "stream",
     "text": []
    },
    {
     "name": "stdout",
     "output_type": "stream",
     "text": [
      "at 10106 line ransomware -> FOUND \n"
     ]
    },
    {
     "name": "stderr",
     "output_type": "stream",
     "text": []
    },
    {
     "name": "stdout",
     "output_type": "stream",
     "text": [
      "at 10128 line ransomware -> FOUND \n",
      "at 10129 line ransomware -> FOUND \n",
      "at 10133 line ransomware -> FOUND \n"
     ]
    },
    {
     "name": "stderr",
     "output_type": "stream",
     "text": []
    },
    {
     "name": "stdout",
     "output_type": "stream",
     "text": [
      "at 10262 line ransomware -> FOUND \n"
     ]
    },
    {
     "name": "stderr",
     "output_type": "stream",
     "text": []
    },
    {
     "name": "stdout",
     "output_type": "stream",
     "text": [
      "at 10302 line ransomware -> FOUND \n"
     ]
    },
    {
     "name": "stderr",
     "output_type": "stream",
     "text": []
    },
    {
     "name": "stdout",
     "output_type": "stream",
     "text": [
      "at 10334 line ransomware -> FOUND \n"
     ]
    },
    {
     "name": "stderr",
     "output_type": "stream",
     "text": []
    },
    {
     "name": "stdout",
     "output_type": "stream",
     "text": [
      "at 10640 line ransomware -> FOUND \n"
     ]
    },
    {
     "name": "stderr",
     "output_type": "stream",
     "text": [
      "\n"
     ]
    },
    {
     "name": "stdout",
     "output_type": "stream",
     "text": [
      "at 10662 line ransomware -> FOUND \n"
     ]
    },
    {
     "name": "stderr",
     "output_type": "stream",
     "text": [
      "Processing posts:  69%|██████▉   | 10679/15443 [02:18<01:01, 77.50it/s]\u001b[A"
     ]
    },
    {
     "name": "stdout",
     "output_type": "stream",
     "text": [
      "at 10779 line ransomware -> FOUND \n",
      "at 10780 line ransomware -> FOUND \n"
     ]
    },
    {
     "name": "stderr",
     "output_type": "stream",
     "text": []
    },
    {
     "name": "stdout",
     "output_type": "stream",
     "text": [
      "at 10811 line ransomware -> FOUND \n"
     ]
    },
    {
     "name": "stderr",
     "output_type": "stream",
     "text": []
    },
    {
     "name": "stdout",
     "output_type": "stream",
     "text": [
      "at 10842 line ransomware -> FOUND \n"
     ]
    },
    {
     "name": "stderr",
     "output_type": "stream",
     "text": [
      "\n"
     ]
    },
    {
     "name": "stdout",
     "output_type": "stream",
     "text": [
      "at 10872 line ransomware -> FOUND \n"
     ]
    },
    {
     "name": "stderr",
     "output_type": "stream",
     "text": [
      "Processing posts:  71%|███████   | 10889/15443 [02:21<00:54, 82.99it/s]\u001b[A"
     ]
    },
    {
     "name": "stdout",
     "output_type": "stream",
     "text": [
      "at 10980 line ransomware -> FOUND \n"
     ]
    },
    {
     "name": "stderr",
     "output_type": "stream",
     "text": [
      "\n"
     ]
    },
    {
     "name": "stdout",
     "output_type": "stream",
     "text": [
      "at 11067 line ransomware -> FOUND \n"
     ]
    },
    {
     "name": "stderr",
     "output_type": "stream",
     "text": [
      "Processing posts:  72%|███████▏  | 11082/15443 [02:23<00:55, 78.26it/s]\u001b[A"
     ]
    },
    {
     "name": "stdout",
     "output_type": "stream",
     "text": [
      "at 11086 line ransomware -> FOUND \n",
      "at 11091 line ransomware -> FOUND \n"
     ]
    },
    {
     "name": "stderr",
     "output_type": "stream",
     "text": []
    },
    {
     "name": "stdout",
     "output_type": "stream",
     "text": [
      "at 11102 line ransomware -> FOUND \n",
      "at 11114 line ransomware -> FOUND \n"
     ]
    },
    {
     "name": "stderr",
     "output_type": "stream",
     "text": []
    },
    {
     "name": "stdout",
     "output_type": "stream",
     "text": [
      "at 11168 line ransomware -> FOUND \n",
      "at 11183 line ransomware -> FOUND \n"
     ]
    },
    {
     "name": "stderr",
     "output_type": "stream",
     "text": []
    },
    {
     "name": "stdout",
     "output_type": "stream",
     "text": [
      "at 11231 line ransomware -> FOUND \n",
      "at 11234 line ransomware -> FOUND \n",
      "at 11244 line ransomware -> FOUND \n"
     ]
    },
    {
     "name": "stderr",
     "output_type": "stream",
     "text": []
    },
    {
     "name": "stdout",
     "output_type": "stream",
     "text": [
      "at 11369 line ransomware -> FOUND \n"
     ]
    },
    {
     "name": "stderr",
     "output_type": "stream",
     "text": []
    },
    {
     "name": "stdout",
     "output_type": "stream",
     "text": [
      "at 11396 line ransomware -> FOUND \n"
     ]
    },
    {
     "name": "stderr",
     "output_type": "stream",
     "text": [
      "\n"
     ]
    },
    {
     "name": "stdout",
     "output_type": "stream",
     "text": [
      "at 11421 line ransomware -> FOUND \n"
     ]
    },
    {
     "name": "stderr",
     "output_type": "stream",
     "text": [
      "Processing posts:  74%|███████▍  | 11434/15443 [02:28<01:02, 64.13it/s]\u001b[A"
     ]
    },
    {
     "name": "stdout",
     "output_type": "stream",
     "text": [
      "at 11459 line ransomware -> FOUND \n"
     ]
    },
    {
     "name": "stderr",
     "output_type": "stream",
     "text": []
    },
    {
     "name": "stdout",
     "output_type": "stream",
     "text": [
      "at 11493 line ransomware -> FOUND \n",
      "at 11497 line ransomware -> FOUND \n",
      "at 11498 line ransomware -> FOUND \n",
      "at 11501 line ransomware -> FOUND \n",
      "at 11507 line ransomware -> FOUND \n",
      "at 11508 line ransomware -> FOUND \n",
      "at 11509 line ransomware -> FOUND \n"
     ]
    },
    {
     "name": "stderr",
     "output_type": "stream",
     "text": [
      "\n",
      "Processing posts:  75%|███████▍  | 11539/15443 [02:29<00:46, 84.52it/s]"
     ]
    },
    {
     "name": "stdout",
     "output_type": "stream",
     "text": [
      "at 11524 line ransomware -> FOUND \n"
     ]
    },
    {
     "name": "stderr",
     "output_type": "stream",
     "text": [
      "\u001b[A"
     ]
    },
    {
     "name": "stdout",
     "output_type": "stream",
     "text": [
      "at 11542 line ransomware -> FOUND \n"
     ]
    },
    {
     "name": "stderr",
     "output_type": "stream",
     "text": []
    },
    {
     "name": "stdout",
     "output_type": "stream",
     "text": [
      "at 11678 line ransomware -> FOUND \n"
     ]
    },
    {
     "name": "stderr",
     "output_type": "stream",
     "text": []
    },
    {
     "name": "stdout",
     "output_type": "stream",
     "text": [
      "at 11701 line ransomware -> FOUND \n",
      "at 11705 line ransomware -> FOUND \n"
     ]
    },
    {
     "name": "stderr",
     "output_type": "stream",
     "text": []
    },
    {
     "name": "stdout",
     "output_type": "stream",
     "text": [
      "at 11764 line ransomware -> FOUND \n",
      "at 11768 line ransomware -> FOUND \n",
      "at 11771 line ransomware -> FOUND \n"
     ]
    },
    {
     "name": "stderr",
     "output_type": "stream",
     "text": []
    },
    {
     "name": "stdout",
     "output_type": "stream",
     "text": [
      "at 11785 line ransomware -> FOUND \n",
      "at 11789 line ransomware -> FOUND \n",
      "at 11800 line ransomware -> FOUND \n"
     ]
    },
    {
     "name": "stderr",
     "output_type": "stream",
     "text": [
      "\n",
      "Processing posts:  77%|███████▋  | 11821/15443 [02:33<00:47, 76.32it/s]"
     ]
    },
    {
     "name": "stdout",
     "output_type": "stream",
     "text": [
      "at 11806 line ransomware -> FOUND \n"
     ]
    },
    {
     "name": "stderr",
     "output_type": "stream",
     "text": [
      "\u001b[A"
     ]
    },
    {
     "name": "stdout",
     "output_type": "stream",
     "text": [
      "at 11849 line ransomware -> FOUND \n"
     ]
    },
    {
     "name": "stderr",
     "output_type": "stream",
     "text": []
    },
    {
     "name": "stdout",
     "output_type": "stream",
     "text": [
      "at 11869 line ransomware -> FOUND \n"
     ]
    },
    {
     "name": "stderr",
     "output_type": "stream",
     "text": []
    },
    {
     "name": "stdout",
     "output_type": "stream",
     "text": [
      "at 11902 line ransomware -> FOUND \n",
      "at 11903 line ransomware -> FOUND \n"
     ]
    },
    {
     "name": "stderr",
     "output_type": "stream",
     "text": []
    },
    {
     "name": "stdout",
     "output_type": "stream",
     "text": [
      "at 11951 line ransomware -> FOUND \n"
     ]
    },
    {
     "name": "stderr",
     "output_type": "stream",
     "text": []
    },
    {
     "name": "stdout",
     "output_type": "stream",
     "text": [
      "at 11989 line ransomware -> FOUND \n",
      "at 11994 line ransomware -> FOUND \n"
     ]
    },
    {
     "name": "stderr",
     "output_type": "stream",
     "text": []
    },
    {
     "name": "stdout",
     "output_type": "stream",
     "text": [
      "at 12033 line ransomware -> FOUND \n"
     ]
    },
    {
     "name": "stderr",
     "output_type": "stream",
     "text": []
    },
    {
     "name": "stdout",
     "output_type": "stream",
     "text": [
      "at 12050 line ransomware -> FOUND \n"
     ]
    },
    {
     "name": "stderr",
     "output_type": "stream",
     "text": []
    },
    {
     "name": "stdout",
     "output_type": "stream",
     "text": [
      "at 12067 line ransomware -> FOUND \n"
     ]
    },
    {
     "name": "stderr",
     "output_type": "stream",
     "text": []
    },
    {
     "name": "stdout",
     "output_type": "stream",
     "text": [
      "at 12085 line ransomware -> FOUND \n",
      "at 12091 line ransomware -> FOUND \n"
     ]
    },
    {
     "name": "stderr",
     "output_type": "stream",
     "text": []
    },
    {
     "name": "stdout",
     "output_type": "stream",
     "text": [
      "at 12210 line ransomware -> FOUND \n",
      "at 12219 line ransomware -> FOUND \n"
     ]
    },
    {
     "name": "stderr",
     "output_type": "stream",
     "text": []
    },
    {
     "name": "stdout",
     "output_type": "stream",
     "text": [
      "at 12269 line ransomware -> FOUND \n",
      "at 12273 line ransomware -> FOUND \n"
     ]
    },
    {
     "name": "stderr",
     "output_type": "stream",
     "text": []
    },
    {
     "name": "stdout",
     "output_type": "stream",
     "text": [
      "at 12292 line ransomware -> FOUND \n"
     ]
    },
    {
     "name": "stderr",
     "output_type": "stream",
     "text": [
      "\n"
     ]
    },
    {
     "name": "stdout",
     "output_type": "stream",
     "text": [
      "at 12404 line ransomware -> FOUND \n"
     ]
    },
    {
     "name": "stderr",
     "output_type": "stream",
     "text": [
      "Processing posts:  80%|████████  | 12419/15443 [02:41<00:38, 77.65it/s]\u001b[A"
     ]
    },
    {
     "name": "stdout",
     "output_type": "stream",
     "text": [
      "at 12426 line ransomware -> FOUND \n",
      "at 12431 line ransomware -> FOUND \n",
      "at 12440 line ransomware -> FOUND \n"
     ]
    },
    {
     "name": "stderr",
     "output_type": "stream",
     "text": []
    },
    {
     "name": "stdout",
     "output_type": "stream",
     "text": [
      "at 12452 line ransomware -> FOUND \n",
      "at 12456 line ransomware -> FOUND \n"
     ]
    },
    {
     "name": "stderr",
     "output_type": "stream",
     "text": []
    },
    {
     "name": "stdout",
     "output_type": "stream",
     "text": [
      "at 12474 line ransomware -> FOUND \n"
     ]
    },
    {
     "name": "stderr",
     "output_type": "stream",
     "text": []
    },
    {
     "name": "stdout",
     "output_type": "stream",
     "text": [
      "at 12602 line ransomware -> FOUND \n"
     ]
    },
    {
     "name": "stderr",
     "output_type": "stream",
     "text": []
    },
    {
     "name": "stdout",
     "output_type": "stream",
     "text": [
      "at 12621 line ransomware -> FOUND \n",
      "at 12632 line ransomware -> FOUND \n"
     ]
    },
    {
     "name": "stderr",
     "output_type": "stream",
     "text": []
    },
    {
     "name": "stdout",
     "output_type": "stream",
     "text": [
      "at 12660 line ransomware -> FOUND \n"
     ]
    },
    {
     "name": "stderr",
     "output_type": "stream",
     "text": []
    },
    {
     "name": "stdout",
     "output_type": "stream",
     "text": [
      "at 12763 line ransomware -> FOUND \n"
     ]
    },
    {
     "name": "stderr",
     "output_type": "stream",
     "text": [
      "\n"
     ]
    },
    {
     "name": "stdout",
     "output_type": "stream",
     "text": [
      "at 12784 line ransomware -> FOUND \n",
      "at 12790 line ransomware -> FOUND \n"
     ]
    },
    {
     "name": "stderr",
     "output_type": "stream",
     "text": [
      "Processing posts:  83%|████████▎ | 12798/15443 [02:46<00:37, 70.72it/s]\u001b[A"
     ]
    },
    {
     "name": "stdout",
     "output_type": "stream",
     "text": [
      "at 12809 line ransomware -> FOUND \n",
      "at 12810 line ransomware -> FOUND \n"
     ]
    },
    {
     "name": "stderr",
     "output_type": "stream",
     "text": []
    },
    {
     "name": "stdout",
     "output_type": "stream",
     "text": [
      "at 12894 line ransomware -> FOUND \n",
      "at 12901 line ransomware -> FOUND \n"
     ]
    },
    {
     "name": "stderr",
     "output_type": "stream",
     "text": []
    },
    {
     "name": "stdout",
     "output_type": "stream",
     "text": [
      "at 13123 line ransomware -> FOUND \n"
     ]
    },
    {
     "name": "stderr",
     "output_type": "stream",
     "text": []
    },
    {
     "name": "stdout",
     "output_type": "stream",
     "text": [
      "at 13154 line ransomware -> FOUND \n"
     ]
    },
    {
     "name": "stderr",
     "output_type": "stream",
     "text": []
    },
    {
     "name": "stdout",
     "output_type": "stream",
     "text": [
      "at 13322 line ransomware -> FOUND \n",
      "at 13323 line ransomware -> FOUND \n"
     ]
    },
    {
     "name": "stderr",
     "output_type": "stream",
     "text": []
    },
    {
     "name": "stdout",
     "output_type": "stream",
     "text": [
      "at 13357 line ransomware -> FOUND \n"
     ]
    },
    {
     "name": "stderr",
     "output_type": "stream",
     "text": []
    },
    {
     "name": "stdout",
     "output_type": "stream",
     "text": [
      "at 13459 line ransomware -> FOUND \n"
     ]
    },
    {
     "name": "stderr",
     "output_type": "stream",
     "text": []
    },
    {
     "name": "stdout",
     "output_type": "stream",
     "text": [
      "at 13484 line ransomware -> FOUND \n"
     ]
    },
    {
     "name": "stderr",
     "output_type": "stream",
     "text": []
    },
    {
     "name": "stdout",
     "output_type": "stream",
     "text": [
      "at 13575 line ransomware -> FOUND \n"
     ]
    },
    {
     "name": "stderr",
     "output_type": "stream",
     "text": []
    },
    {
     "name": "stdout",
     "output_type": "stream",
     "text": [
      "at 13632 line ransomware -> FOUND \n"
     ]
    },
    {
     "name": "stderr",
     "output_type": "stream",
     "text": []
    },
    {
     "name": "stdout",
     "output_type": "stream",
     "text": [
      "at 13653 line ransomware -> FOUND \n",
      "at 13656 line ransomware -> FOUND \n",
      "at 13657 line ransomware -> FOUND \n"
     ]
    },
    {
     "name": "stderr",
     "output_type": "stream",
     "text": []
    },
    {
     "name": "stdout",
     "output_type": "stream",
     "text": [
      "at 13719 line ransomware -> FOUND \n",
      "at 13720 line ransomware -> FOUND \n"
     ]
    },
    {
     "name": "stderr",
     "output_type": "stream",
     "text": []
    },
    {
     "name": "stdout",
     "output_type": "stream",
     "text": [
      "at 13767 line ransomware -> FOUND \n"
     ]
    },
    {
     "name": "stderr",
     "output_type": "stream",
     "text": []
    },
    {
     "name": "stdout",
     "output_type": "stream",
     "text": [
      "at 13782 line ransomware -> FOUND \n",
      "at 13786 line ransomware -> FOUND \n",
      "at 13787 line ransomware -> FOUND \n",
      "at 13789 line ransomware -> FOUND \n",
      "at 13792 line ransomware -> FOUND \n"
     ]
    },
    {
     "name": "stderr",
     "output_type": "stream",
     "text": []
    },
    {
     "name": "stdout",
     "output_type": "stream",
     "text": [
      "at 13817 line ransomware -> FOUND \n"
     ]
    },
    {
     "name": "stderr",
     "output_type": "stream",
     "text": []
    },
    {
     "name": "stdout",
     "output_type": "stream",
     "text": [
      "at 13829 line ransomware -> FOUND \n"
     ]
    },
    {
     "name": "stderr",
     "output_type": "stream",
     "text": []
    },
    {
     "name": "stdout",
     "output_type": "stream",
     "text": [
      "at 13863 line ransomware -> FOUND \n"
     ]
    },
    {
     "name": "stderr",
     "output_type": "stream",
     "text": []
    },
    {
     "name": "stdout",
     "output_type": "stream",
     "text": [
      "at 13895 line ransomware -> FOUND \n"
     ]
    },
    {
     "name": "stderr",
     "output_type": "stream",
     "text": []
    },
    {
     "name": "stdout",
     "output_type": "stream",
     "text": [
      "at 14091 line ransomware -> FOUND \n",
      "at 14092 line ransomware -> FOUND \n",
      "at 14107 line ransomware -> FOUND \n"
     ]
    },
    {
     "name": "stderr",
     "output_type": "stream",
     "text": []
    },
    {
     "name": "stdout",
     "output_type": "stream",
     "text": [
      "at 14132 line ransomware -> FOUND \n"
     ]
    },
    {
     "name": "stderr",
     "output_type": "stream",
     "text": [
      "\n",
      "Processing posts:  92%|█████████▏| 14165/15443 [03:04<00:16, 79.49it/s]"
     ]
    },
    {
     "name": "stdout",
     "output_type": "stream",
     "text": [
      "at 14150 line ransomware -> FOUND \n",
      "at 14155 line ransomware -> FOUND \n",
      "at 14163 line ransomware -> FOUND \n"
     ]
    },
    {
     "name": "stderr",
     "output_type": "stream",
     "text": [
      "\u001b[A"
     ]
    },
    {
     "name": "stdout",
     "output_type": "stream",
     "text": [
      "at 14165 line ransomware -> FOUND \n"
     ]
    },
    {
     "name": "stderr",
     "output_type": "stream",
     "text": []
    },
    {
     "name": "stdout",
     "output_type": "stream",
     "text": [
      "at 14215 line ransomware -> FOUND \n"
     ]
    },
    {
     "name": "stderr",
     "output_type": "stream",
     "text": []
    },
    {
     "name": "stdout",
     "output_type": "stream",
     "text": [
      "at 14282 line ransomware -> FOUND \n"
     ]
    },
    {
     "name": "stderr",
     "output_type": "stream",
     "text": []
    },
    {
     "name": "stdout",
     "output_type": "stream",
     "text": [
      "at 14330 line ransomware -> FOUND \n",
      "at 14339 line ransomware -> FOUND \n"
     ]
    },
    {
     "name": "stderr",
     "output_type": "stream",
     "text": []
    },
    {
     "name": "stdout",
     "output_type": "stream",
     "text": [
      "at 14375 line ransomware -> FOUND \n"
     ]
    },
    {
     "name": "stderr",
     "output_type": "stream",
     "text": []
    },
    {
     "name": "stdout",
     "output_type": "stream",
     "text": [
      "at 14404 line ransomware -> FOUND \n",
      "at 14406 line ransomware -> FOUND \n"
     ]
    },
    {
     "name": "stderr",
     "output_type": "stream",
     "text": [
      "\n"
     ]
    },
    {
     "name": "stdout",
     "output_type": "stream",
     "text": [
      "at 14422 line ransomware -> FOUND \n"
     ]
    },
    {
     "name": "stderr",
     "output_type": "stream",
     "text": [
      "Processing posts:  93%|█████████▎| 14436/15443 [03:07<00:13, 74.80it/s]\u001b[A"
     ]
    },
    {
     "name": "stdout",
     "output_type": "stream",
     "text": [
      "at 14541 line ransomware -> FOUND \n"
     ]
    },
    {
     "name": "stderr",
     "output_type": "stream",
     "text": []
    },
    {
     "name": "stdout",
     "output_type": "stream",
     "text": [
      "at 14589 line ransomware -> FOUND \n",
      "at 14602 line ransomware -> FOUND \n"
     ]
    },
    {
     "name": "stderr",
     "output_type": "stream",
     "text": []
    },
    {
     "name": "stdout",
     "output_type": "stream",
     "text": [
      "at 14626 line ransomware -> FOUND \n"
     ]
    },
    {
     "name": "stderr",
     "output_type": "stream",
     "text": []
    },
    {
     "name": "stdout",
     "output_type": "stream",
     "text": [
      "at 14707 line ransomware -> FOUND \n"
     ]
    },
    {
     "name": "stderr",
     "output_type": "stream",
     "text": []
    },
    {
     "name": "stdout",
     "output_type": "stream",
     "text": [
      "at 14733 line ransomware -> FOUND \n",
      "at 14736 line ransomware -> FOUND \n"
     ]
    },
    {
     "name": "stderr",
     "output_type": "stream",
     "text": []
    },
    {
     "name": "stdout",
     "output_type": "stream",
     "text": [
      "at 14765 line ransomware -> FOUND \n",
      "at 14767 line ransomware -> FOUND \n"
     ]
    },
    {
     "name": "stderr",
     "output_type": "stream",
     "text": []
    },
    {
     "name": "stdout",
     "output_type": "stream",
     "text": [
      "at 14803 line ransomware -> FOUND \n"
     ]
    },
    {
     "name": "stderr",
     "output_type": "stream",
     "text": []
    },
    {
     "name": "stdout",
     "output_type": "stream",
     "text": [
      "at 14916 line ransomware -> FOUND \n",
      "at 14920 line ransomware -> FOUND \n"
     ]
    },
    {
     "name": "stderr",
     "output_type": "stream",
     "text": []
    },
    {
     "name": "stdout",
     "output_type": "stream",
     "text": [
      "at 15026 line ransomware -> FOUND \n"
     ]
    },
    {
     "name": "stderr",
     "output_type": "stream",
     "text": []
    },
    {
     "name": "stdout",
     "output_type": "stream",
     "text": [
      "at 15056 line ransomware -> FOUND \n"
     ]
    },
    {
     "name": "stderr",
     "output_type": "stream",
     "text": []
    },
    {
     "name": "stdout",
     "output_type": "stream",
     "text": [
      "at 15116 line ransomware -> FOUND \n"
     ]
    },
    {
     "name": "stderr",
     "output_type": "stream",
     "text": []
    },
    {
     "name": "stdout",
     "output_type": "stream",
     "text": [
      "at 15162 line ransomware -> FOUND \n",
      "at 15176 line ransomware -> FOUND \n"
     ]
    },
    {
     "name": "stderr",
     "output_type": "stream",
     "text": [
      "\n"
     ]
    },
    {
     "name": "stdout",
     "output_type": "stream",
     "text": [
      "at 15186 line ransomware -> FOUND \n",
      "at 15193 line ransomware -> FOUND \n"
     ]
    },
    {
     "name": "stderr",
     "output_type": "stream",
     "text": [
      "Processing posts:  98%|█████████▊| 15202/15443 [03:17<00:03, 77.53it/s]\u001b[A"
     ]
    },
    {
     "name": "stdout",
     "output_type": "stream",
     "text": [
      "at 15206 line ransomware -> FOUND \n"
     ]
    },
    {
     "name": "stderr",
     "output_type": "stream",
     "text": []
    },
    {
     "name": "stdout",
     "output_type": "stream",
     "text": [
      "at 15295 line ransomware -> FOUND \n"
     ]
    },
    {
     "name": "stderr",
     "output_type": "stream",
     "text": [
      "Processing posts: 100%|██████████| 15443/15443 [03:20<00:00, 76.87it/s]\n",
      "Processing words:  40%|████      | 2/5 [06:51<10:15, 205.10s/it]"
     ]
    },
    {
     "name": "stdout",
     "output_type": "stream",
     "text": [
      "at 8478 line worm -> FOUND \n"
     ]
    },
    {
     "name": "stderr",
     "output_type": "stream",
     "text": [
      "Processing posts: 100%|██████████| 15443/15443 [03:19<00:00, 77.45it/s]\n",
      "Processing words:  60%|██████    | 3/5 [10:11<06:45, 202.50s/it]"
     ]
    },
    {
     "name": "stdout",
     "output_type": "stream",
     "text": [
      "at 4275 line botnet -> FOUND \n"
     ]
    },
    {
     "name": "stderr",
     "output_type": "stream",
     "text": [
      "\n"
     ]
    },
    {
     "name": "stdout",
     "output_type": "stream",
     "text": [
      "at 7430 line botnet -> FOUND \n"
     ]
    },
    {
     "name": "stderr",
     "output_type": "stream",
     "text": [
      "Processing posts:  48%|████▊     | 7447/15443 [01:36<01:37, 82.30it/s]\u001b[A"
     ]
    },
    {
     "name": "stdout",
     "output_type": "stream",
     "text": [
      "at 7539 line botnet -> FOUND \n"
     ]
    },
    {
     "name": "stderr",
     "output_type": "stream",
     "text": []
    },
    {
     "name": "stdout",
     "output_type": "stream",
     "text": [
      "at 7602 line botnet -> FOUND \n"
     ]
    },
    {
     "name": "stderr",
     "output_type": "stream",
     "text": []
    },
    {
     "name": "stdout",
     "output_type": "stream",
     "text": [
      "at 7803 line botnet -> FOUND \n"
     ]
    },
    {
     "name": "stderr",
     "output_type": "stream",
     "text": [
      "\n"
     ]
    },
    {
     "name": "stdout",
     "output_type": "stream",
     "text": [
      "at 8284 line botnet -> FOUND \n"
     ]
    },
    {
     "name": "stderr",
     "output_type": "stream",
     "text": [
      "Processing posts:  54%|█████▍    | 8301/15443 [01:47<01:25, 83.62it/s]\u001b[A"
     ]
    },
    {
     "name": "stdout",
     "output_type": "stream",
     "text": [
      "at 9180 line botnet -> FOUND \n"
     ]
    },
    {
     "name": "stderr",
     "output_type": "stream",
     "text": []
    },
    {
     "name": "stdout",
     "output_type": "stream",
     "text": [
      "at 11339 line botnet -> FOUND \n"
     ]
    },
    {
     "name": "stderr",
     "output_type": "stream",
     "text": []
    },
    {
     "name": "stdout",
     "output_type": "stream",
     "text": [
      "at 13554 line botnet -> FOUND \n"
     ]
    },
    {
     "name": "stderr",
     "output_type": "stream",
     "text": []
    },
    {
     "name": "stdout",
     "output_type": "stream",
     "text": [
      "at 14438 line botnet -> FOUND \n"
     ]
    },
    {
     "name": "stderr",
     "output_type": "stream",
     "text": []
    },
    {
     "name": "stdout",
     "output_type": "stream",
     "text": [
      "at 14917 line botnet -> FOUND \n"
     ]
    },
    {
     "name": "stderr",
     "output_type": "stream",
     "text": [
      "Processing posts: 100%|██████████| 15443/15443 [03:20<00:00, 77.12it/s]\n",
      "Processing posts: 100%|██████████| 15443/15443 [03:20<00:00, 76.96it/s]\n",
      "Processing words: 100%|██████████| 5/5 [16:52<00:00, 202.47s/it]\n"
     ]
    }
   ],
   "source": [
    "malware_types_matches = pd.DataFrame()\n",
    "\n",
    "malware_types_matches = loop_search(top5_malware_types_list , selected_rows)"
   ]
  },
  {
   "cell_type": "code",
   "execution_count": 27,
   "id": "78d99aac",
   "metadata": {},
   "outputs": [
    {
     "data": {
      "text/html": [
       "<div>\n",
       "<style scoped>\n",
       "    .dataframe tbody tr th:only-of-type {\n",
       "        vertical-align: middle;\n",
       "    }\n",
       "\n",
       "    .dataframe tbody tr th {\n",
       "        vertical-align: top;\n",
       "    }\n",
       "\n",
       "    .dataframe thead th {\n",
       "        text-align: right;\n",
       "    }\n",
       "</style>\n",
       "<table border=\"1\" class=\"dataframe\">\n",
       "  <thead>\n",
       "    <tr style=\"text-align: right;\">\n",
       "      <th></th>\n",
       "      <th>post_index</th>\n",
       "      <th>word</th>\n",
       "    </tr>\n",
       "  </thead>\n",
       "  <tbody>\n",
       "    <tr>\n",
       "      <th>0</th>\n",
       "      <td>106</td>\n",
       "      <td>trojan</td>\n",
       "    </tr>\n",
       "    <tr>\n",
       "      <th>1</th>\n",
       "      <td>3654</td>\n",
       "      <td>trojan</td>\n",
       "    </tr>\n",
       "    <tr>\n",
       "      <th>2</th>\n",
       "      <td>5567</td>\n",
       "      <td>trojan</td>\n",
       "    </tr>\n",
       "    <tr>\n",
       "      <th>3</th>\n",
       "      <td>5623</td>\n",
       "      <td>trojan</td>\n",
       "    </tr>\n",
       "    <tr>\n",
       "      <th>4</th>\n",
       "      <td>6950</td>\n",
       "      <td>trojan</td>\n",
       "    </tr>\n",
       "  </tbody>\n",
       "</table>\n",
       "</div>"
      ],
      "text/plain": [
       "   post_index    word\n",
       "0         106  trojan\n",
       "1        3654  trojan\n",
       "2        5567  trojan\n",
       "3        5623  trojan\n",
       "4        6950  trojan"
      ]
     },
     "execution_count": 27,
     "metadata": {},
     "output_type": "execute_result"
    }
   ],
   "source": [
    "malware_types_matches.head()"
   ]
  },
  {
   "cell_type": "code",
   "execution_count": 28,
   "id": "21a8a8c2",
   "metadata": {},
   "outputs": [
    {
     "data": {
      "text/html": [
       "<div>\n",
       "<style scoped>\n",
       "    .dataframe tbody tr th:only-of-type {\n",
       "        vertical-align: middle;\n",
       "    }\n",
       "\n",
       "    .dataframe tbody tr th {\n",
       "        vertical-align: top;\n",
       "    }\n",
       "\n",
       "    .dataframe thead th {\n",
       "        text-align: right;\n",
       "    }\n",
       "</style>\n",
       "<table border=\"1\" class=\"dataframe\">\n",
       "  <thead>\n",
       "    <tr style=\"text-align: right;\">\n",
       "      <th></th>\n",
       "      <th>username</th>\n",
       "      <th>name</th>\n",
       "      <th>date</th>\n",
       "      <th>text</th>\n",
       "      <th>post_index</th>\n",
       "      <th>word</th>\n",
       "    </tr>\n",
       "  </thead>\n",
       "  <tbody>\n",
       "    <tr>\n",
       "      <th>10</th>\n",
       "      <td>evanderburg</td>\n",
       "      <td>Eric Vanderburg</td>\n",
       "      <td>2023-07-12</td>\n",
       "      <td>Newest #Ransomware has Polished, Professional Look https://t.co/p1hUZM6zIS @Carbonite #security</td>\n",
       "      <td>16</td>\n",
       "      <td>ransomware</td>\n",
       "    </tr>\n",
       "    <tr>\n",
       "      <th>11</th>\n",
       "      <td>gcluley</td>\n",
       "      <td>Graham Cluley 🐘 @gcluley@mastodon.green</td>\n",
       "      <td>2023-07-12</td>\n",
       "      <td>Rogue IT security worker who impersonated ransomware gang is sentenced to jail \\n\\nhttps://t.co/hUjeNLYeMZ</td>\n",
       "      <td>66</td>\n",
       "      <td>ransomware</td>\n",
       "    </tr>\n",
       "    <tr>\n",
       "      <th>12</th>\n",
       "      <td>PatrickCMiller</td>\n",
       "      <td>Patrick C Miller</td>\n",
       "      <td>2023-07-12</td>\n",
       "      <td>Ransomware Attacks Are on the Rise, Again https://t.co/wGe3x9aQCK</td>\n",
       "      <td>92</td>\n",
       "      <td>ransomware</td>\n",
       "    </tr>\n",
       "    <tr>\n",
       "      <th>0</th>\n",
       "      <td>e_kaspersky</td>\n",
       "      <td>Eugene Kaspersky</td>\n",
       "      <td>2023-07-12</td>\n",
       "      <td>RT @Seifreed: Researchers at @Kaspersky have found a new remote access trojan (RAT) called ‘EarlyRat’ which is being used by #Lazarus in at…</td>\n",
       "      <td>106</td>\n",
       "      <td>trojan</td>\n",
       "    </tr>\n",
       "    <tr>\n",
       "      <th>13</th>\n",
       "      <td>evanderburg</td>\n",
       "      <td>Eric Vanderburg</td>\n",
       "      <td>2023-07-12</td>\n",
       "      <td>Backups Saved 16,000 Patient Records from #Ransomware https://t.co/t8dSVvMaSZ #recovery #cybersecurity</td>\n",
       "      <td>114</td>\n",
       "      <td>ransomware</td>\n",
       "    </tr>\n",
       "  </tbody>\n",
       "</table>\n",
       "</div>"
      ],
      "text/plain": [
       "          username                                     name        date  \\\n",
       "10     evanderburg                          Eric Vanderburg  2023-07-12   \n",
       "11         gcluley  Graham Cluley 🐘 @gcluley@mastodon.green  2023-07-12   \n",
       "12  PatrickCMiller                         Patrick C Miller  2023-07-12   \n",
       "0      e_kaspersky                         Eugene Kaspersky  2023-07-12   \n",
       "13     evanderburg                          Eric Vanderburg  2023-07-12   \n",
       "\n",
       "                                                                                                                                            text  \\\n",
       "10                                               Newest #Ransomware has Polished, Professional Look https://t.co/p1hUZM6zIS @Carbonite #security   \n",
       "11                                    Rogue IT security worker who impersonated ransomware gang is sentenced to jail \\n\\nhttps://t.co/hUjeNLYeMZ   \n",
       "12                                                                             Ransomware Attacks Are on the Rise, Again https://t.co/wGe3x9aQCK   \n",
       "0   RT @Seifreed: Researchers at @Kaspersky have found a new remote access trojan (RAT) called ‘EarlyRat’ which is being used by #Lazarus in at…   \n",
       "13                                        Backups Saved 16,000 Patient Records from #Ransomware https://t.co/t8dSVvMaSZ #recovery #cybersecurity   \n",
       "\n",
       "    post_index        word  \n",
       "10          16  ransomware  \n",
       "11          66  ransomware  \n",
       "12          92  ransomware  \n",
       "0          106      trojan  \n",
       "13         114  ransomware  "
      ]
     },
     "execution_count": 28,
     "metadata": {},
     "output_type": "execute_result"
    }
   ],
   "source": [
    "merged_malware_types_matches = pd.merge(selected_rows, malware_types_matches, left_index=True, right_on='post_index')\n",
    "merged_malware_types_matches.head()\n"
   ]
  },
  {
   "cell_type": "code",
   "execution_count": 29,
   "id": "44237881",
   "metadata": {},
   "outputs": [],
   "source": [
    "malware_types_matches.to_csv(r'C:\\Users\\leona\\OneDrive\\Desktop\\Tesi\\Pipeline\\Datasets\\Pipeline\\SocialNetworksPosts\\Twitter\\MalwaresTypePosts_filteredby_Malwares.csv')"
   ]
  },
  {
   "cell_type": "code",
   "execution_count": 30,
   "id": "37232826",
   "metadata": {},
   "outputs": [
    {
     "name": "stderr",
     "output_type": "stream",
     "text": [
      "Processing words:   0%|          | 0/6 [00:00<?, ?it/s]"
     ]
    },
    {
     "name": "stdout",
     "output_type": "stream",
     "text": [
      "at 996 line macos -> FOUND \n"
     ]
    },
    {
     "name": "stderr",
     "output_type": "stream",
     "text": []
    },
    {
     "name": "stdout",
     "output_type": "stream",
     "text": [
      "at 1056 line macos -> FOUND \n",
      "at 1057 line macos -> FOUND \n"
     ]
    },
    {
     "name": "stderr",
     "output_type": "stream",
     "text": []
    },
    {
     "name": "stdout",
     "output_type": "stream",
     "text": [
      "at 1114 line macos -> FOUND \n"
     ]
    },
    {
     "name": "stderr",
     "output_type": "stream",
     "text": []
    },
    {
     "name": "stdout",
     "output_type": "stream",
     "text": [
      "at 1301 line macos -> FOUND \n"
     ]
    },
    {
     "name": "stderr",
     "output_type": "stream",
     "text": [
      "\n"
     ]
    },
    {
     "name": "stdout",
     "output_type": "stream",
     "text": [
      "at 3745 line macos -> FOUND \n"
     ]
    },
    {
     "name": "stderr",
     "output_type": "stream",
     "text": [
      "Processing posts:  24%|██▍       | 3761/15443 [00:54<02:39, 73.11it/s]\u001b[A\n"
     ]
    },
    {
     "name": "stdout",
     "output_type": "stream",
     "text": [
      "at 4216 line macos -> FOUND \n"
     ]
    },
    {
     "name": "stderr",
     "output_type": "stream",
     "text": [
      "Processing posts:  27%|██▋       | 4231/15443 [01:01<02:38, 70.59it/s]\u001b[A"
     ]
    },
    {
     "name": "stdout",
     "output_type": "stream",
     "text": [
      "at 5188 line macos -> FOUND \n"
     ]
    },
    {
     "name": "stderr",
     "output_type": "stream",
     "text": []
    },
    {
     "name": "stdout",
     "output_type": "stream",
     "text": [
      "at 5400 line macos -> FOUND \n"
     ]
    },
    {
     "name": "stderr",
     "output_type": "stream",
     "text": []
    },
    {
     "name": "stdout",
     "output_type": "stream",
     "text": [
      "at 5514 line macos -> FOUND \n"
     ]
    },
    {
     "name": "stderr",
     "output_type": "stream",
     "text": []
    },
    {
     "name": "stdout",
     "output_type": "stream",
     "text": [
      "at 6740 line macos -> FOUND \n"
     ]
    },
    {
     "name": "stderr",
     "output_type": "stream",
     "text": []
    },
    {
     "name": "stdout",
     "output_type": "stream",
     "text": [
      "at 6865 line macos -> FOUND \n",
      "at 6866 line macos -> FOUND \n",
      "at 6867 line macos -> FOUND \n",
      "at 6869 line macos -> FOUND \n",
      "at 6872 line macos -> FOUND \n",
      "at 6874 line macos -> FOUND \n",
      "at 6876 line macos -> FOUND \n"
     ]
    },
    {
     "name": "stderr",
     "output_type": "stream",
     "text": []
    },
    {
     "name": "stdout",
     "output_type": "stream",
     "text": [
      "at 6880 line macos -> FOUND \n",
      "at 6881 line macos -> FOUND \n",
      "at 6883 line macos -> FOUND \n",
      "at 6891 line macos -> FOUND \n",
      "at 6892 line macos -> FOUND \n",
      "at 6895 line macos -> FOUND \n"
     ]
    },
    {
     "name": "stderr",
     "output_type": "stream",
     "text": []
    },
    {
     "name": "stdout",
     "output_type": "stream",
     "text": [
      "at 6896 line macos -> FOUND \n",
      "at 6897 line macos -> FOUND \n",
      "at 6907 line macos -> FOUND \n",
      "at 6909 line macos -> FOUND \n"
     ]
    },
    {
     "name": "stderr",
     "output_type": "stream",
     "text": []
    },
    {
     "name": "stdout",
     "output_type": "stream",
     "text": [
      "at 6910 line macos -> FOUND \n"
     ]
    },
    {
     "name": "stderr",
     "output_type": "stream",
     "text": []
    },
    {
     "name": "stdout",
     "output_type": "stream",
     "text": [
      "at 7266 line macos -> FOUND \n"
     ]
    },
    {
     "name": "stderr",
     "output_type": "stream",
     "text": []
    },
    {
     "name": "stdout",
     "output_type": "stream",
     "text": [
      "at 7368 line macos -> FOUND \n"
     ]
    },
    {
     "name": "stderr",
     "output_type": "stream",
     "text": []
    },
    {
     "name": "stdout",
     "output_type": "stream",
     "text": [
      "at 7401 line macos -> FOUND \n"
     ]
    },
    {
     "name": "stderr",
     "output_type": "stream",
     "text": []
    },
    {
     "name": "stdout",
     "output_type": "stream",
     "text": [
      "at 7594 line macos -> FOUND \n"
     ]
    },
    {
     "name": "stderr",
     "output_type": "stream",
     "text": []
    },
    {
     "name": "stdout",
     "output_type": "stream",
     "text": [
      "at 8488 line macos -> FOUND \n",
      "at 8495 line macos -> FOUND \n"
     ]
    },
    {
     "name": "stderr",
     "output_type": "stream",
     "text": []
    },
    {
     "name": "stdout",
     "output_type": "stream",
     "text": [
      "at 10704 line macos -> FOUND \n"
     ]
    },
    {
     "name": "stderr",
     "output_type": "stream",
     "text": []
    },
    {
     "name": "stdout",
     "output_type": "stream",
     "text": [
      "at 14424 line macos -> FOUND \n"
     ]
    },
    {
     "name": "stderr",
     "output_type": "stream",
     "text": []
    },
    {
     "name": "stdout",
     "output_type": "stream",
     "text": [
      "at 15117 line macos -> FOUND \n"
     ]
    },
    {
     "name": "stderr",
     "output_type": "stream",
     "text": [
      "Processing posts: 100%|██████████| 15443/15443 [03:38<00:00, 70.68it/s]\n",
      "Processing words:  17%|█▋        | 1/6 [03:38<18:12, 218.52s/it]"
     ]
    },
    {
     "name": "stdout",
     "output_type": "stream",
     "text": [
      "at 63 line android -> FOUND \n"
     ]
    },
    {
     "name": "stderr",
     "output_type": "stream",
     "text": [
      "\n",
      "Processing posts:   2%|▏         | 354/15443 [00:04<03:20, 75.30it/s]"
     ]
    },
    {
     "name": "stdout",
     "output_type": "stream",
     "text": [
      "at 339 line android -> FOUND \n"
     ]
    },
    {
     "name": "stderr",
     "output_type": "stream",
     "text": [
      "\u001b[A"
     ]
    },
    {
     "name": "stdout",
     "output_type": "stream",
     "text": [
      "at 364 line android -> FOUND \n"
     ]
    },
    {
     "name": "stderr",
     "output_type": "stream",
     "text": []
    },
    {
     "name": "stdout",
     "output_type": "stream",
     "text": [
      "at 1178 line android -> FOUND \n"
     ]
    },
    {
     "name": "stderr",
     "output_type": "stream",
     "text": []
    },
    {
     "name": "stdout",
     "output_type": "stream",
     "text": [
      "at 1651 line android -> FOUND \n"
     ]
    },
    {
     "name": "stderr",
     "output_type": "stream",
     "text": []
    },
    {
     "name": "stdout",
     "output_type": "stream",
     "text": [
      "at 1906 line android -> FOUND \n"
     ]
    },
    {
     "name": "stderr",
     "output_type": "stream",
     "text": []
    },
    {
     "name": "stdout",
     "output_type": "stream",
     "text": [
      "at 2852 line android -> FOUND \n"
     ]
    },
    {
     "name": "stderr",
     "output_type": "stream",
     "text": []
    },
    {
     "name": "stdout",
     "output_type": "stream",
     "text": [
      "at 3371 line android -> FOUND \n"
     ]
    },
    {
     "name": "stderr",
     "output_type": "stream",
     "text": []
    },
    {
     "name": "stdout",
     "output_type": "stream",
     "text": [
      "at 3402 line android -> FOUND \n"
     ]
    },
    {
     "name": "stderr",
     "output_type": "stream",
     "text": []
    },
    {
     "name": "stdout",
     "output_type": "stream",
     "text": [
      "at 3654 line android -> FOUND \n"
     ]
    },
    {
     "name": "stderr",
     "output_type": "stream",
     "text": []
    },
    {
     "name": "stdout",
     "output_type": "stream",
     "text": [
      "at 4415 line android -> FOUND \n"
     ]
    },
    {
     "name": "stderr",
     "output_type": "stream",
     "text": []
    },
    {
     "name": "stdout",
     "output_type": "stream",
     "text": [
      "at 5019 line android -> FOUND \n"
     ]
    },
    {
     "name": "stderr",
     "output_type": "stream",
     "text": []
    },
    {
     "name": "stdout",
     "output_type": "stream",
     "text": [
      "at 5352 line android -> FOUND \n",
      "at 5364 line android -> FOUND \n"
     ]
    },
    {
     "name": "stderr",
     "output_type": "stream",
     "text": []
    },
    {
     "name": "stdout",
     "output_type": "stream",
     "text": [
      "at 5377 line android -> FOUND \n"
     ]
    },
    {
     "name": "stderr",
     "output_type": "stream",
     "text": []
    },
    {
     "name": "stdout",
     "output_type": "stream",
     "text": [
      "at 6028 line android -> FOUND \n"
     ]
    },
    {
     "name": "stderr",
     "output_type": "stream",
     "text": []
    },
    {
     "name": "stdout",
     "output_type": "stream",
     "text": [
      "at 6367 line android -> FOUND \n"
     ]
    },
    {
     "name": "stderr",
     "output_type": "stream",
     "text": [
      "\n"
     ]
    },
    {
     "name": "stdout",
     "output_type": "stream",
     "text": [
      "at 7973 line android -> FOUND \n"
     ]
    },
    {
     "name": "stderr",
     "output_type": "stream",
     "text": [
      "Processing posts:  52%|█████▏    | 7988/15443 [01:44<01:38, 75.65it/s]\u001b[A"
     ]
    },
    {
     "name": "stdout",
     "output_type": "stream",
     "text": [
      "at 8182 line android -> FOUND \n"
     ]
    },
    {
     "name": "stderr",
     "output_type": "stream",
     "text": []
    },
    {
     "name": "stdout",
     "output_type": "stream",
     "text": [
      "at 8732 line android -> FOUND \n"
     ]
    },
    {
     "name": "stderr",
     "output_type": "stream",
     "text": []
    },
    {
     "name": "stdout",
     "output_type": "stream",
     "text": [
      "at 9508 line android -> FOUND \n"
     ]
    },
    {
     "name": "stderr",
     "output_type": "stream",
     "text": [
      "\n"
     ]
    },
    {
     "name": "stdout",
     "output_type": "stream",
     "text": [
      "at 9845 line android -> FOUND \n"
     ]
    },
    {
     "name": "stderr",
     "output_type": "stream",
     "text": [
      "Processing posts:  64%|██████▍   | 9862/15443 [02:08<01:10, 78.72it/s]\u001b[A"
     ]
    },
    {
     "name": "stdout",
     "output_type": "stream",
     "text": [
      "at 10364 line android -> FOUND \n"
     ]
    },
    {
     "name": "stderr",
     "output_type": "stream",
     "text": []
    },
    {
     "name": "stdout",
     "output_type": "stream",
     "text": [
      "at 11907 line android -> FOUND \n",
      "at 11908 line android -> FOUND \n",
      "at 11909 line android -> FOUND \n",
      "at 11910 line android -> FOUND \n",
      "at 11913 line android -> FOUND \n",
      "at 11914 line android -> FOUND \n",
      "at 11915 line android -> FOUND \n",
      "at 11916 line android -> FOUND \n"
     ]
    },
    {
     "name": "stderr",
     "output_type": "stream",
     "text": []
    },
    {
     "name": "stdout",
     "output_type": "stream",
     "text": [
      "at 11953 line android -> FOUND \n"
     ]
    },
    {
     "name": "stderr",
     "output_type": "stream",
     "text": []
    },
    {
     "name": "stdout",
     "output_type": "stream",
     "text": [
      "at 12512 line android -> FOUND \n"
     ]
    },
    {
     "name": "stderr",
     "output_type": "stream",
     "text": []
    },
    {
     "name": "stdout",
     "output_type": "stream",
     "text": [
      "at 12702 line android -> FOUND \n"
     ]
    },
    {
     "name": "stderr",
     "output_type": "stream",
     "text": []
    },
    {
     "name": "stdout",
     "output_type": "stream",
     "text": [
      "at 12831 line android -> FOUND \n"
     ]
    },
    {
     "name": "stderr",
     "output_type": "stream",
     "text": []
    },
    {
     "name": "stdout",
     "output_type": "stream",
     "text": [
      "at 12940 line android -> FOUND \n"
     ]
    },
    {
     "name": "stderr",
     "output_type": "stream",
     "text": [
      "\n"
     ]
    },
    {
     "name": "stdout",
     "output_type": "stream",
     "text": [
      "at 13086 line android -> FOUND \n"
     ]
    },
    {
     "name": "stderr",
     "output_type": "stream",
     "text": [
      "Processing posts:  85%|████████▍ | 13102/15443 [02:50<00:31, 74.82it/s]\u001b[A"
     ]
    },
    {
     "name": "stdout",
     "output_type": "stream",
     "text": [
      "at 13502 line android -> FOUND \n"
     ]
    },
    {
     "name": "stderr",
     "output_type": "stream",
     "text": []
    },
    {
     "name": "stdout",
     "output_type": "stream",
     "text": [
      "at 13958 line android -> FOUND \n"
     ]
    },
    {
     "name": "stderr",
     "output_type": "stream",
     "text": []
    },
    {
     "name": "stdout",
     "output_type": "stream",
     "text": [
      "at 14206 line android -> FOUND \n"
     ]
    },
    {
     "name": "stderr",
     "output_type": "stream",
     "text": []
    },
    {
     "name": "stdout",
     "output_type": "stream",
     "text": [
      "at 14597 line android -> FOUND \n"
     ]
    },
    {
     "name": "stderr",
     "output_type": "stream",
     "text": []
    },
    {
     "name": "stdout",
     "output_type": "stream",
     "text": [
      "at 14655 line android -> FOUND \n",
      "at 14658 line android -> FOUND \n"
     ]
    },
    {
     "name": "stderr",
     "output_type": "stream",
     "text": [
      "\n"
     ]
    },
    {
     "name": "stdout",
     "output_type": "stream",
     "text": [
      "at 14862 line android -> FOUND \n"
     ]
    },
    {
     "name": "stderr",
     "output_type": "stream",
     "text": [
      "Processing posts:  96%|█████████▋| 14878/15443 [03:13<00:07, 79.46it/s]\u001b[A"
     ]
    },
    {
     "name": "stdout",
     "output_type": "stream",
     "text": [
      "at 14933 line android -> FOUND \n",
      "at 14934 line android -> FOUND \n"
     ]
    },
    {
     "name": "stderr",
     "output_type": "stream",
     "text": [
      "\n"
     ]
    },
    {
     "name": "stdout",
     "output_type": "stream",
     "text": [
      "at 15034 line android -> FOUND \n",
      "at 15035 line android -> FOUND \n",
      "at 15036 line android -> FOUND \n"
     ]
    },
    {
     "name": "stderr",
     "output_type": "stream",
     "text": [
      "Processing posts:  97%|█████████▋| 15050/15443 [03:15<00:05, 74.78it/s]\u001b[A"
     ]
    },
    {
     "name": "stdout",
     "output_type": "stream",
     "text": [
      "at 15385 line android -> FOUND \n"
     ]
    },
    {
     "name": "stderr",
     "output_type": "stream",
     "text": [
      "Processing posts: 100%|██████████| 15443/15443 [03:20<00:00, 76.87it/s]\n",
      "Processing words:  33%|███▎      | 2/6 [06:59<13:52, 208.16s/it]"
     ]
    },
    {
     "name": "stdout",
     "output_type": "stream",
     "text": [
      "at 1415 line unix -> FOUND \n",
      "at 1416 line unix -> FOUND \n",
      "at 1417 line unix -> FOUND \n",
      "at 1419 line unix -> FOUND \n"
     ]
    },
    {
     "name": "stderr",
     "output_type": "stream",
     "text": []
    },
    {
     "name": "stdout",
     "output_type": "stream",
     "text": [
      "at 1711 line unix -> FOUND \n",
      "at 1712 line unix -> FOUND \n",
      "at 1713 line unix -> FOUND \n",
      "at 1714 line unix -> FOUND \n",
      "at 1715 line unix -> FOUND \n",
      "at 1716 line unix -> FOUND \n"
     ]
    },
    {
     "name": "stderr",
     "output_type": "stream",
     "text": []
    },
    {
     "name": "stdout",
     "output_type": "stream",
     "text": [
      "at 7249 line unix -> FOUND \n"
     ]
    },
    {
     "name": "stderr",
     "output_type": "stream",
     "text": []
    },
    {
     "name": "stdout",
     "output_type": "stream",
     "text": [
      "at 12299 line unix -> FOUND \n"
     ]
    },
    {
     "name": "stderr",
     "output_type": "stream",
     "text": [
      "Processing posts: 100%|██████████| 15443/15443 [03:33<00:00, 72.26it/s]\n",
      "Processing words:  50%|█████     | 3/6 [10:33<10:32, 210.70s/it]"
     ]
    },
    {
     "name": "stdout",
     "output_type": "stream",
     "text": [
      "at 365 line window -> FOUND \n"
     ]
    },
    {
     "name": "stderr",
     "output_type": "stream",
     "text": [
      "\n"
     ]
    },
    {
     "name": "stdout",
     "output_type": "stream",
     "text": [
      "at 489 line window -> FOUND \n"
     ]
    },
    {
     "name": "stderr",
     "output_type": "stream",
     "text": [
      "Processing posts:   3%|▎         | 504/15443 [00:06<03:14, 76.72it/s]\u001b[A"
     ]
    },
    {
     "name": "stdout",
     "output_type": "stream",
     "text": [
      "at 4661 line window -> FOUND \n"
     ]
    },
    {
     "name": "stderr",
     "output_type": "stream",
     "text": []
    },
    {
     "name": "stdout",
     "output_type": "stream",
     "text": [
      "at 6079 line window -> FOUND \n"
     ]
    },
    {
     "name": "stderr",
     "output_type": "stream",
     "text": []
    },
    {
     "name": "stdout",
     "output_type": "stream",
     "text": [
      "at 6106 line window -> FOUND \n"
     ]
    },
    {
     "name": "stderr",
     "output_type": "stream",
     "text": [
      "\n"
     ]
    },
    {
     "name": "stdout",
     "output_type": "stream",
     "text": [
      "at 6737 line window -> FOUND \n"
     ]
    },
    {
     "name": "stderr",
     "output_type": "stream",
     "text": [
      "Processing posts:  44%|████▎     | 6751/15443 [01:27<02:04, 69.76it/s]\u001b[A"
     ]
    },
    {
     "name": "stdout",
     "output_type": "stream",
     "text": [
      "at 8027 line window -> FOUND \n"
     ]
    },
    {
     "name": "stderr",
     "output_type": "stream",
     "text": [
      "\n",
      "Processing posts:  52%|█████▏    | 8058/15443 [01:45<01:43, 71.31it/s]"
     ]
    },
    {
     "name": "stdout",
     "output_type": "stream",
     "text": [
      "at 8045 line window -> FOUND \n"
     ]
    },
    {
     "name": "stderr",
     "output_type": "stream",
     "text": [
      "\u001b[A"
     ]
    },
    {
     "name": "stdout",
     "output_type": "stream",
     "text": [
      "at 8164 line window -> FOUND \n",
      "at 8170 line window -> FOUND \n"
     ]
    },
    {
     "name": "stderr",
     "output_type": "stream",
     "text": []
    },
    {
     "name": "stdout",
     "output_type": "stream",
     "text": [
      "at 8227 line window -> FOUND \n",
      "at 8234 line window -> FOUND \n"
     ]
    },
    {
     "name": "stderr",
     "output_type": "stream",
     "text": [
      "\n"
     ]
    },
    {
     "name": "stdout",
     "output_type": "stream",
     "text": [
      "at 8600 line window -> FOUND \n",
      "at 8605 line window -> FOUND \n"
     ]
    },
    {
     "name": "stderr",
     "output_type": "stream",
     "text": [
      "Processing posts:  56%|█████▌    | 8618/15443 [01:52<01:26, 79.02it/s]\u001b[A"
     ]
    },
    {
     "name": "stdout",
     "output_type": "stream",
     "text": [
      "at 9153 line window -> FOUND \n"
     ]
    },
    {
     "name": "stderr",
     "output_type": "stream",
     "text": []
    },
    {
     "name": "stdout",
     "output_type": "stream",
     "text": [
      "at 10105 line window -> FOUND \n"
     ]
    },
    {
     "name": "stderr",
     "output_type": "stream",
     "text": []
    },
    {
     "name": "stdout",
     "output_type": "stream",
     "text": [
      "at 10225 line window -> FOUND \n"
     ]
    },
    {
     "name": "stderr",
     "output_type": "stream",
     "text": []
    },
    {
     "name": "stdout",
     "output_type": "stream",
     "text": [
      "at 11102 line window -> FOUND \n"
     ]
    },
    {
     "name": "stderr",
     "output_type": "stream",
     "text": [
      "\n"
     ]
    },
    {
     "name": "stdout",
     "output_type": "stream",
     "text": [
      "at 11478 line window -> FOUND \n",
      "at 11488 line window -> FOUND \n"
     ]
    },
    {
     "name": "stderr",
     "output_type": "stream",
     "text": [
      "Processing posts:  74%|███████▍  | 11497/15443 [02:29<00:47, 82.81it/s]\u001b[A"
     ]
    },
    {
     "name": "stdout",
     "output_type": "stream",
     "text": [
      "at 13894 line window -> FOUND \n"
     ]
    },
    {
     "name": "stderr",
     "output_type": "stream",
     "text": []
    },
    {
     "name": "stdout",
     "output_type": "stream",
     "text": [
      "at 14251 line window -> FOUND \n"
     ]
    },
    {
     "name": "stderr",
     "output_type": "stream",
     "text": []
    },
    {
     "name": "stdout",
     "output_type": "stream",
     "text": [
      "at 14533 line window -> FOUND \n"
     ]
    },
    {
     "name": "stderr",
     "output_type": "stream",
     "text": [
      "Processing posts: 100%|██████████| 15443/15443 [03:20<00:00, 76.95it/s]\n",
      "Processing words:  67%|██████▋   | 4/6 [13:53<06:53, 206.75s/it]\n"
     ]
    },
    {
     "name": "stdout",
     "output_type": "stream",
     "text": [
      "at 711 line linux -> FOUND \n"
     ]
    },
    {
     "name": "stderr",
     "output_type": "stream",
     "text": [
      "Processing posts:   5%|▍         | 726/15443 [00:09<03:24, 72.07it/s]\u001b[A"
     ]
    },
    {
     "name": "stdout",
     "output_type": "stream",
     "text": [
      "at 806 line linux -> FOUND \n"
     ]
    },
    {
     "name": "stderr",
     "output_type": "stream",
     "text": []
    },
    {
     "name": "stdout",
     "output_type": "stream",
     "text": [
      "at 1047 line linux -> FOUND \n"
     ]
    },
    {
     "name": "stderr",
     "output_type": "stream",
     "text": []
    },
    {
     "name": "stdout",
     "output_type": "stream",
     "text": [
      "at 1162 line linux -> FOUND \n",
      "at 1163 line linux -> FOUND \n"
     ]
    },
    {
     "name": "stderr",
     "output_type": "stream",
     "text": [
      "\n"
     ]
    },
    {
     "name": "stdout",
     "output_type": "stream",
     "text": [
      "at 1415 line linux -> FOUND \n",
      "at 1416 line linux -> FOUND \n",
      "at 1417 line linux -> FOUND \n",
      "at 1419 line linux -> FOUND \n"
     ]
    },
    {
     "name": "stderr",
     "output_type": "stream",
     "text": [
      "Processing posts:   9%|▉         | 1431/15443 [00:18<02:59, 77.93it/s]\u001b[A"
     ]
    },
    {
     "name": "stdout",
     "output_type": "stream",
     "text": [
      "at 1711 line linux -> FOUND \n",
      "at 1712 line linux -> FOUND \n",
      "at 1713 line linux -> FOUND \n",
      "at 1714 line linux -> FOUND \n",
      "at 1715 line linux -> FOUND \n",
      "at 1716 line linux -> FOUND \n"
     ]
    },
    {
     "name": "stderr",
     "output_type": "stream",
     "text": []
    },
    {
     "name": "stdout",
     "output_type": "stream",
     "text": [
      "at 2108 line linux -> FOUND \n"
     ]
    },
    {
     "name": "stderr",
     "output_type": "stream",
     "text": []
    },
    {
     "name": "stdout",
     "output_type": "stream",
     "text": [
      "at 2474 line linux -> FOUND \n",
      "at 2475 line linux -> FOUND \n"
     ]
    },
    {
     "name": "stderr",
     "output_type": "stream",
     "text": []
    },
    {
     "name": "stdout",
     "output_type": "stream",
     "text": [
      "at 2681 line linux -> FOUND \n"
     ]
    },
    {
     "name": "stderr",
     "output_type": "stream",
     "text": []
    },
    {
     "name": "stdout",
     "output_type": "stream",
     "text": [
      "at 2912 line linux -> FOUND \n",
      "at 2913 line linux -> FOUND \n"
     ]
    },
    {
     "name": "stderr",
     "output_type": "stream",
     "text": []
    },
    {
     "name": "stdout",
     "output_type": "stream",
     "text": [
      "at 2956 line linux -> FOUND \n"
     ]
    },
    {
     "name": "stderr",
     "output_type": "stream",
     "text": []
    },
    {
     "name": "stdout",
     "output_type": "stream",
     "text": [
      "at 3476 line linux -> FOUND \n",
      "at 3477 line linux -> FOUND \n"
     ]
    },
    {
     "name": "stderr",
     "output_type": "stream",
     "text": []
    },
    {
     "name": "stdout",
     "output_type": "stream",
     "text": [
      "at 3553 line linux -> FOUND \n",
      "at 3556 line linux -> FOUND \n"
     ]
    },
    {
     "name": "stderr",
     "output_type": "stream",
     "text": []
    },
    {
     "name": "stdout",
     "output_type": "stream",
     "text": [
      "at 4213 line linux -> FOUND \n",
      "at 4214 line linux -> FOUND \n",
      "at 4217 line linux -> FOUND \n"
     ]
    },
    {
     "name": "stderr",
     "output_type": "stream",
     "text": []
    },
    {
     "name": "stdout",
     "output_type": "stream",
     "text": [
      "at 4248 line linux -> FOUND \n",
      "at 4249 line linux -> FOUND \n"
     ]
    },
    {
     "name": "stderr",
     "output_type": "stream",
     "text": []
    },
    {
     "name": "stdout",
     "output_type": "stream",
     "text": [
      "at 4786 line linux -> FOUND \n"
     ]
    },
    {
     "name": "stderr",
     "output_type": "stream",
     "text": []
    },
    {
     "name": "stdout",
     "output_type": "stream",
     "text": [
      "at 4809 line linux -> FOUND \n"
     ]
    },
    {
     "name": "stderr",
     "output_type": "stream",
     "text": []
    },
    {
     "name": "stdout",
     "output_type": "stream",
     "text": [
      "at 4825 line linux -> FOUND \n",
      "at 4831 line linux -> FOUND \n",
      "at 4832 line linux -> FOUND \n",
      "at 4836 line linux -> FOUND \n",
      "at 4837 line linux -> FOUND \n"
     ]
    },
    {
     "name": "stderr",
     "output_type": "stream",
     "text": []
    },
    {
     "name": "stdout",
     "output_type": "stream",
     "text": [
      "at 4975 line linux -> FOUND \n",
      "at 4976 line linux -> FOUND \n"
     ]
    },
    {
     "name": "stderr",
     "output_type": "stream",
     "text": []
    },
    {
     "name": "stdout",
     "output_type": "stream",
     "text": [
      "at 4993 line linux -> FOUND \n",
      "at 4994 line linux -> FOUND \n"
     ]
    },
    {
     "name": "stderr",
     "output_type": "stream",
     "text": []
    },
    {
     "name": "stdout",
     "output_type": "stream",
     "text": [
      "at 5028 line linux -> FOUND \n",
      "at 5029 line linux -> FOUND \n",
      "at 5031 line linux -> FOUND \n"
     ]
    },
    {
     "name": "stderr",
     "output_type": "stream",
     "text": []
    },
    {
     "name": "stdout",
     "output_type": "stream",
     "text": [
      "at 5251 line linux -> FOUND \n",
      "at 5261 line linux -> FOUND \n"
     ]
    },
    {
     "name": "stderr",
     "output_type": "stream",
     "text": []
    },
    {
     "name": "stdout",
     "output_type": "stream",
     "text": [
      "at 6809 line linux -> FOUND \n"
     ]
    },
    {
     "name": "stderr",
     "output_type": "stream",
     "text": []
    },
    {
     "name": "stdout",
     "output_type": "stream",
     "text": [
      "at 6889 line linux -> FOUND \n"
     ]
    },
    {
     "name": "stderr",
     "output_type": "stream",
     "text": []
    },
    {
     "name": "stdout",
     "output_type": "stream",
     "text": [
      "at 6950 line linux -> FOUND \n"
     ]
    },
    {
     "name": "stderr",
     "output_type": "stream",
     "text": []
    },
    {
     "name": "stdout",
     "output_type": "stream",
     "text": [
      "at 7249 line linux -> FOUND \n"
     ]
    },
    {
     "name": "stderr",
     "output_type": "stream",
     "text": []
    },
    {
     "name": "stdout",
     "output_type": "stream",
     "text": [
      "at 7314 line linux -> FOUND \n"
     ]
    },
    {
     "name": "stderr",
     "output_type": "stream",
     "text": []
    },
    {
     "name": "stdout",
     "output_type": "stream",
     "text": [
      "at 7430 line linux -> FOUND \n"
     ]
    },
    {
     "name": "stderr",
     "output_type": "stream",
     "text": []
    },
    {
     "name": "stdout",
     "output_type": "stream",
     "text": [
      "at 7753 line linux -> FOUND \n"
     ]
    },
    {
     "name": "stderr",
     "output_type": "stream",
     "text": []
    },
    {
     "name": "stdout",
     "output_type": "stream",
     "text": [
      "at 7794 line linux -> FOUND \n",
      "at 7803 line linux -> FOUND \n"
     ]
    },
    {
     "name": "stderr",
     "output_type": "stream",
     "text": [
      "\n"
     ]
    },
    {
     "name": "stdout",
     "output_type": "stream",
     "text": [
      "at 8481 line linux -> FOUND \n"
     ]
    },
    {
     "name": "stderr",
     "output_type": "stream",
     "text": [
      "Processing posts:  55%|█████▌    | 8494/15443 [01:51<01:42, 67.99it/s]\u001b[A"
     ]
    },
    {
     "name": "stdout",
     "output_type": "stream",
     "text": [
      "at 8564 line linux -> FOUND \n"
     ]
    },
    {
     "name": "stderr",
     "output_type": "stream",
     "text": []
    },
    {
     "name": "stdout",
     "output_type": "stream",
     "text": [
      "at 8784 line linux -> FOUND \n"
     ]
    },
    {
     "name": "stderr",
     "output_type": "stream",
     "text": []
    },
    {
     "name": "stdout",
     "output_type": "stream",
     "text": [
      "at 8799 line linux -> FOUND \n"
     ]
    },
    {
     "name": "stderr",
     "output_type": "stream",
     "text": []
    },
    {
     "name": "stdout",
     "output_type": "stream",
     "text": [
      "at 8866 line linux -> FOUND \n",
      "at 8867 line linux -> FOUND \n",
      "at 8868 line linux -> FOUND \n",
      "at 8869 line linux -> FOUND \n",
      "at 8870 line linux -> FOUND \n"
     ]
    },
    {
     "name": "stderr",
     "output_type": "stream",
     "text": []
    },
    {
     "name": "stdout",
     "output_type": "stream",
     "text": [
      "at 9153 line linux -> FOUND \n"
     ]
    },
    {
     "name": "stderr",
     "output_type": "stream",
     "text": []
    },
    {
     "name": "stdout",
     "output_type": "stream",
     "text": [
      "at 9379 line linux -> FOUND \n"
     ]
    },
    {
     "name": "stderr",
     "output_type": "stream",
     "text": []
    },
    {
     "name": "stdout",
     "output_type": "stream",
     "text": [
      "at 9418 line linux -> FOUND \n"
     ]
    },
    {
     "name": "stderr",
     "output_type": "stream",
     "text": []
    },
    {
     "name": "stdout",
     "output_type": "stream",
     "text": [
      "at 9436 line linux -> FOUND \n",
      "at 9442 line linux -> FOUND \n",
      "at 9449 line linux -> FOUND \n"
     ]
    },
    {
     "name": "stderr",
     "output_type": "stream",
     "text": [
      "\n"
     ]
    },
    {
     "name": "stdout",
     "output_type": "stream",
     "text": [
      "at 9679 line linux -> FOUND \n"
     ]
    },
    {
     "name": "stderr",
     "output_type": "stream",
     "text": [
      "Processing posts:  63%|██████▎   | 9695/15443 [02:07<01:17, 74.00it/s]\u001b[A"
     ]
    },
    {
     "name": "stdout",
     "output_type": "stream",
     "text": [
      "at 10749 line linux -> FOUND \n"
     ]
    },
    {
     "name": "stderr",
     "output_type": "stream",
     "text": [
      "\n"
     ]
    },
    {
     "name": "stdout",
     "output_type": "stream",
     "text": [
      "at 11102 line linux -> FOUND \n"
     ]
    },
    {
     "name": "stderr",
     "output_type": "stream",
     "text": [
      "Processing posts:  72%|███████▏  | 11117/15443 [02:25<00:54, 79.26it/s]\u001b[A"
     ]
    },
    {
     "name": "stdout",
     "output_type": "stream",
     "text": [
      "at 11122 line linux -> FOUND \n"
     ]
    },
    {
     "name": "stderr",
     "output_type": "stream",
     "text": []
    },
    {
     "name": "stdout",
     "output_type": "stream",
     "text": [
      "at 12245 line linux -> FOUND \n"
     ]
    },
    {
     "name": "stderr",
     "output_type": "stream",
     "text": []
    },
    {
     "name": "stdout",
     "output_type": "stream",
     "text": [
      "at 13484 line linux -> FOUND \n",
      "at 13497 line linux -> FOUND \n"
     ]
    },
    {
     "name": "stderr",
     "output_type": "stream",
     "text": []
    },
    {
     "name": "stdout",
     "output_type": "stream",
     "text": [
      "at 13499 line linux -> FOUND \n",
      "at 13502 line linux -> FOUND \n",
      "at 13505 line linux -> FOUND \n",
      "at 13507 line linux -> FOUND \n"
     ]
    },
    {
     "name": "stderr",
     "output_type": "stream",
     "text": []
    },
    {
     "name": "stdout",
     "output_type": "stream",
     "text": [
      "at 13767 line linux -> FOUND \n"
     ]
    },
    {
     "name": "stderr",
     "output_type": "stream",
     "text": []
    },
    {
     "name": "stdout",
     "output_type": "stream",
     "text": [
      "at 13895 line linux -> FOUND \n"
     ]
    },
    {
     "name": "stderr",
     "output_type": "stream",
     "text": []
    },
    {
     "name": "stdout",
     "output_type": "stream",
     "text": [
      "at 13981 line linux -> FOUND \n"
     ]
    },
    {
     "name": "stderr",
     "output_type": "stream",
     "text": []
    },
    {
     "name": "stdout",
     "output_type": "stream",
     "text": [
      "at 14262 line linux -> FOUND \n"
     ]
    },
    {
     "name": "stderr",
     "output_type": "stream",
     "text": []
    },
    {
     "name": "stdout",
     "output_type": "stream",
     "text": [
      "at 15339 line linux -> FOUND \n"
     ]
    },
    {
     "name": "stderr",
     "output_type": "stream",
     "text": [
      "Processing posts: 100%|██████████| 15443/15443 [03:21<00:00, 76.55it/s]\n",
      "Processing words:  83%|████████▎ | 5/6 [17:15<03:24, 204.95s/it]"
     ]
    },
    {
     "name": "stdout",
     "output_type": "stream",
     "text": [
      "at 15438 line linux -> FOUND \n"
     ]
    },
    {
     "name": "stderr",
     "output_type": "stream",
     "text": []
    },
    {
     "name": "stdout",
     "output_type": "stream",
     "text": [
      "at 1114 line io -> FOUND \n"
     ]
    },
    {
     "name": "stderr",
     "output_type": "stream",
     "text": []
    },
    {
     "name": "stdout",
     "output_type": "stream",
     "text": [
      "at 2581 line io -> FOUND \n"
     ]
    },
    {
     "name": "stderr",
     "output_type": "stream",
     "text": []
    },
    {
     "name": "stdout",
     "output_type": "stream",
     "text": [
      "at 6868 line io -> FOUND \n"
     ]
    },
    {
     "name": "stderr",
     "output_type": "stream",
     "text": []
    },
    {
     "name": "stdout",
     "output_type": "stream",
     "text": [
      "at 6890 line io -> FOUND \n",
      "at 6904 line io -> FOUND \n"
     ]
    },
    {
     "name": "stderr",
     "output_type": "stream",
     "text": []
    },
    {
     "name": "stdout",
     "output_type": "stream",
     "text": [
      "at 10353 line io -> FOUND \n"
     ]
    },
    {
     "name": "stderr",
     "output_type": "stream",
     "text": []
    },
    {
     "name": "stdout",
     "output_type": "stream",
     "text": [
      "at 13503 line io -> FOUND \n"
     ]
    },
    {
     "name": "stderr",
     "output_type": "stream",
     "text": [
      "Processing posts: 100%|██████████| 15443/15443 [03:21<00:00, 76.53it/s]\n",
      "Processing words: 100%|██████████| 6/6 [20:37<00:00, 206.23s/it]\n"
     ]
    }
   ],
   "source": [
    "words_matches = pd.DataFrame()\n",
    "\n",
    "words_matches = loop_search( top_os_list , selected_rows)"
   ]
  },
  {
   "cell_type": "code",
   "execution_count": 31,
   "id": "9b128974",
   "metadata": {},
   "outputs": [
    {
     "data": {
      "text/html": [
       "<div>\n",
       "<style scoped>\n",
       "    .dataframe tbody tr th:only-of-type {\n",
       "        vertical-align: middle;\n",
       "    }\n",
       "\n",
       "    .dataframe tbody tr th {\n",
       "        vertical-align: top;\n",
       "    }\n",
       "\n",
       "    .dataframe thead th {\n",
       "        text-align: right;\n",
       "    }\n",
       "</style>\n",
       "<table border=\"1\" class=\"dataframe\">\n",
       "  <thead>\n",
       "    <tr style=\"text-align: right;\">\n",
       "      <th></th>\n",
       "      <th>post_index</th>\n",
       "      <th>word</th>\n",
       "    </tr>\n",
       "  </thead>\n",
       "  <tbody>\n",
       "    <tr>\n",
       "      <th>0</th>\n",
       "      <td>996</td>\n",
       "      <td>macos</td>\n",
       "    </tr>\n",
       "    <tr>\n",
       "      <th>1</th>\n",
       "      <td>1056</td>\n",
       "      <td>macos</td>\n",
       "    </tr>\n",
       "    <tr>\n",
       "      <th>2</th>\n",
       "      <td>1057</td>\n",
       "      <td>macos</td>\n",
       "    </tr>\n",
       "    <tr>\n",
       "      <th>3</th>\n",
       "      <td>1114</td>\n",
       "      <td>macos</td>\n",
       "    </tr>\n",
       "    <tr>\n",
       "      <th>4</th>\n",
       "      <td>1301</td>\n",
       "      <td>macos</td>\n",
       "    </tr>\n",
       "  </tbody>\n",
       "</table>\n",
       "</div>"
      ],
      "text/plain": [
       "   post_index   word\n",
       "0         996  macos\n",
       "1        1056  macos\n",
       "2        1057  macos\n",
       "3        1114  macos\n",
       "4        1301  macos"
      ]
     },
     "execution_count": 31,
     "metadata": {},
     "output_type": "execute_result"
    }
   ],
   "source": [
    "words_matches.head()"
   ]
  },
  {
   "cell_type": "code",
   "execution_count": 32,
   "id": "3f4b0223",
   "metadata": {},
   "outputs": [
    {
     "data": {
      "text/html": [
       "<div>\n",
       "<style scoped>\n",
       "    .dataframe tbody tr th:only-of-type {\n",
       "        vertical-align: middle;\n",
       "    }\n",
       "\n",
       "    .dataframe tbody tr th {\n",
       "        vertical-align: top;\n",
       "    }\n",
       "\n",
       "    .dataframe thead th {\n",
       "        text-align: right;\n",
       "    }\n",
       "</style>\n",
       "<table border=\"1\" class=\"dataframe\">\n",
       "  <thead>\n",
       "    <tr style=\"text-align: right;\">\n",
       "      <th></th>\n",
       "      <th>username</th>\n",
       "      <th>name</th>\n",
       "      <th>date</th>\n",
       "      <th>text</th>\n",
       "      <th>post_index</th>\n",
       "      <th>word</th>\n",
       "    </tr>\n",
       "  </thead>\n",
       "  <tbody>\n",
       "    <tr>\n",
       "      <th>38</th>\n",
       "      <td>PatrickCMiller</td>\n",
       "      <td>Patrick C Miller</td>\n",
       "      <td>2023-07-12</td>\n",
       "      <td>Triada Malware Infects Android Devices via Fake Telegram App https://t.co/8hpGIa4xjm</td>\n",
       "      <td>63</td>\n",
       "      <td>android</td>\n",
       "    </tr>\n",
       "    <tr>\n",
       "      <th>39</th>\n",
       "      <td>PatrickCMiller</td>\n",
       "      <td>Patrick C Miller</td>\n",
       "      <td>2023-07-12</td>\n",
       "      <td>Android OS Tools Fuel Cybercrime Spree, Prey on Digital Users https://t.co/VyOTRR7TBZ</td>\n",
       "      <td>339</td>\n",
       "      <td>android</td>\n",
       "    </tr>\n",
       "    <tr>\n",
       "      <th>40</th>\n",
       "      <td>PatrickCMiller</td>\n",
       "      <td>Patrick C Miller</td>\n",
       "      <td>2023-07-12</td>\n",
       "      <td>Fairphone 3 gets seven years of updates, besting every other Android OEM https://t.co/9qlk9ydrDh</td>\n",
       "      <td>364</td>\n",
       "      <td>android</td>\n",
       "    </tr>\n",
       "    <tr>\n",
       "      <th>100</th>\n",
       "      <td>PatrickCMiller</td>\n",
       "      <td>Patrick C Miller</td>\n",
       "      <td>2023-07-12</td>\n",
       "      <td>RedDriver Abuses Windows Driver Policy Loophole https://t.co/wY5vQAAM1D</td>\n",
       "      <td>365</td>\n",
       "      <td>window</td>\n",
       "    </tr>\n",
       "    <tr>\n",
       "      <th>101</th>\n",
       "      <td>evanderburg</td>\n",
       "      <td>Eric Vanderburg</td>\n",
       "      <td>2023-07-11</td>\n",
       "      <td>#Windows 10 Security and #Privacy Tips https://t.co/LD8MAovipW #security #Microsoft</td>\n",
       "      <td>489</td>\n",
       "      <td>window</td>\n",
       "    </tr>\n",
       "  </tbody>\n",
       "</table>\n",
       "</div>"
      ],
      "text/plain": [
       "           username              name        date  \\\n",
       "38   PatrickCMiller  Patrick C Miller  2023-07-12   \n",
       "39   PatrickCMiller  Patrick C Miller  2023-07-12   \n",
       "40   PatrickCMiller  Patrick C Miller  2023-07-12   \n",
       "100  PatrickCMiller  Patrick C Miller  2023-07-12   \n",
       "101     evanderburg   Eric Vanderburg  2023-07-11   \n",
       "\n",
       "                                                                                                 text  \\\n",
       "38               Triada Malware Infects Android Devices via Fake Telegram App https://t.co/8hpGIa4xjm   \n",
       "39              Android OS Tools Fuel Cybercrime Spree, Prey on Digital Users https://t.co/VyOTRR7TBZ   \n",
       "40   Fairphone 3 gets seven years of updates, besting every other Android OEM https://t.co/9qlk9ydrDh   \n",
       "100                           RedDriver Abuses Windows Driver Policy Loophole https://t.co/wY5vQAAM1D   \n",
       "101               #Windows 10 Security and #Privacy Tips https://t.co/LD8MAovipW #security #Microsoft   \n",
       "\n",
       "     post_index     word  \n",
       "38           63  android  \n",
       "39          339  android  \n",
       "40          364  android  \n",
       "100         365   window  \n",
       "101         489   window  "
      ]
     },
     "execution_count": 32,
     "metadata": {},
     "output_type": "execute_result"
    }
   ],
   "source": [
    "merged_words_matches_matches = pd.merge(selected_rows, words_matches, left_index=True, right_on='post_index')\n",
    "merged_words_matches_matches.head()\n"
   ]
  },
  {
   "cell_type": "code",
   "execution_count": 33,
   "id": "f9952dc6",
   "metadata": {},
   "outputs": [],
   "source": [
    "merged_words_matches_matches.to_csv(r'C:\\Users\\leona\\OneDrive\\Desktop\\Tesi\\Pipeline\\Datasets\\Pipeline\\SocialNetworksPosts\\Twitter\\Posts_filteredby_OperativeSystems.csv')"
   ]
  },
  {
   "cell_type": "code",
   "execution_count": null,
   "id": "4e84f983",
   "metadata": {},
   "outputs": [],
   "source": []
  },
  {
   "cell_type": "code",
   "execution_count": 34,
   "id": "499d9c7e",
   "metadata": {},
   "outputs": [
    {
     "name": "stdout",
     "output_type": "stream",
     "text": [
      "Os matches are 218 using 6 os\n",
      "Malware Types matches are 428 using 5 malware types\n",
      "Malware matches are 4 using 6 malawares\n"
     ]
    }
   ],
   "source": [
    "print(f'Os matches are {len(merged_words_matches_matches)} using {len(top_os_list)} os')\n",
    "print(f'Malware Types matches are {len(malware_types_matches)} using {len(top5_malware_types_list)} malware types')\n",
    "print(f'Malware matches are {len(matches)} using {len(top5_malware_list)} malawares')"
   ]
  },
  {
   "cell_type": "code",
   "execution_count": null,
   "id": "cd24b27b",
   "metadata": {},
   "outputs": [],
   "source": []
  }
 ],
 "metadata": {
  "kernelspec": {
   "display_name": "Python 3 (ipykernel)",
   "language": "python",
   "name": "python3"
  },
  "language_info": {
   "codemirror_mode": {
    "name": "ipython",
    "version": 3
   },
   "file_extension": ".py",
   "mimetype": "text/x-python",
   "name": "python",
   "nbconvert_exporter": "python",
   "pygments_lexer": "ipython3",
   "version": "3.11.5"
  }
 },
 "nbformat": 4,
 "nbformat_minor": 5
}
