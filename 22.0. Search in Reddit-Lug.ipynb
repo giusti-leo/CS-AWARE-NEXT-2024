{
 "cells": [
  {
   "cell_type": "code",
   "execution_count": 1,
   "id": "dcb3095b",
   "metadata": {},
   "outputs": [],
   "source": [
    "import os\n",
    "import time\n",
    "import pandas as pd \n",
    "import requests\n",
    "import urllib3\n",
    "import json\n",
    "import sys\n",
    "import numpy as np\n",
    "import pandas as pd\n",
    "from pathlib import Path\n",
    "from datetime import datetime, timedelta"
   ]
  },
  {
   "cell_type": "code",
   "execution_count": 2,
   "id": "5222ef90",
   "metadata": {},
   "outputs": [
    {
     "name": "stdout",
     "output_type": "stream",
     "text": [
      "Requirement already satisfied: nltk in c:\\users\\leona\\anaconda3\\lib\\site-packages (3.8.1)\n",
      "Requirement already satisfied: click in c:\\users\\leona\\anaconda3\\lib\\site-packages (from nltk) (8.0.4)\n",
      "Requirement already satisfied: joblib in c:\\users\\leona\\anaconda3\\lib\\site-packages (from nltk) (1.1.1)\n",
      "Requirement already satisfied: regex>=2021.8.3 in c:\\users\\leona\\anaconda3\\lib\\site-packages (from nltk) (2022.7.9)\n",
      "Requirement already satisfied: tqdm in c:\\users\\leona\\anaconda3\\lib\\site-packages (from nltk) (4.65.0)\n",
      "Requirement already satisfied: colorama in c:\\users\\leona\\anaconda3\\lib\\site-packages (from click->nltk) (0.4.6)\n",
      "Note: you may need to restart the kernel to use updated packages.\n"
     ]
    }
   ],
   "source": [
    "pip install nltk"
   ]
  },
  {
   "cell_type": "code",
   "execution_count": 3,
   "id": "ad1729c7",
   "metadata": {},
   "outputs": [],
   "source": [
    "import nltk"
   ]
  },
  {
   "cell_type": "code",
   "execution_count": 4,
   "id": "8eb93b1b",
   "metadata": {},
   "outputs": [],
   "source": [
    "pd.options.display.max_colwidth = 1000\n",
    "pd.set_option('display.max_columns', None)"
   ]
  },
  {
   "cell_type": "code",
   "execution_count": 5,
   "id": "f5042c66",
   "metadata": {},
   "outputs": [
    {
     "name": "stderr",
     "output_type": "stream",
     "text": [
      "[nltk_data] Downloading package wordnet to\n",
      "[nltk_data]     C:\\Users\\leona\\AppData\\Roaming\\nltk_data...\n",
      "[nltk_data]   Package wordnet is already up-to-date!\n"
     ]
    },
    {
     "data": {
      "text/plain": [
       "True"
      ]
     },
     "execution_count": 5,
     "metadata": {},
     "output_type": "execute_result"
    }
   ],
   "source": [
    "\n",
    "nltk.download('wordnet')"
   ]
  },
  {
   "cell_type": "code",
   "execution_count": 6,
   "id": "86a8e902",
   "metadata": {},
   "outputs": [
    {
     "name": "stdout",
     "output_type": "stream",
     "text": [
      "0    True\n",
      "1    True\n",
      "2    True\n",
      "Name: match, dtype: bool\n"
     ]
    },
    {
     "name": "stderr",
     "output_type": "stream",
     "text": [
      "[nltk_data] Downloading package punkt to\n",
      "[nltk_data]     C:\\Users\\leona\\AppData\\Roaming\\nltk_data...\n",
      "[nltk_data]   Package punkt is already up-to-date!\n",
      "[nltk_data] Downloading package stopwords to\n",
      "[nltk_data]     C:\\Users\\leona\\AppData\\Roaming\\nltk_data...\n",
      "[nltk_data]   Package stopwords is already up-to-date!\n"
     ]
    }
   ],
   "source": [
    "import pandas as pd\n",
    "from nltk.stem import PorterStemmer\n",
    "from nltk.tokenize import word_tokenize\n",
    "from nltk.corpus import stopwords\n",
    "import nltk\n",
    "nltk.download('punkt')\n",
    "nltk.download('stopwords')\n",
    "\n",
    "def stemming_and_matching(df_A, df_B):\n",
    "    # Inizializzazione del PorterStemmer\n",
    "    stemmer = PorterStemmer()\n",
    "\n",
    "    # Funzione per eseguire stemming e lemmatization su una riga di testo\n",
    "    def process_text(text):\n",
    "        # Tokenizzazione\n",
    "        tokens = word_tokenize(text.lower())\n",
    "        # Rimozione delle stop words\n",
    "        stop_words = set(stopwords.words('english'))\n",
    "        filtered_tokens = [token for token in tokens if token.isalnum() and token not in stop_words]\n",
    "        # Stemming\n",
    "        stemmed_tokens = [stemmer.stem(token) for token in filtered_tokens]\n",
    "        return stemmed_tokens\n",
    "\n",
    "    # Applicare la funzione a ciascuna riga dei dataframe A e B\n",
    "    df_A['lemmatized_tokens'] = df_A['testo'].apply(process_text)\n",
    "    df_B['lemmatized_tokens'] = df_B['testo'].apply(process_text)\n",
    "\n",
    "    # Verificare la corrispondenza\n",
    "    def check_match(row):\n",
    "        return all(token in row['lemmatized_tokens'] for token in df_B.loc[row.name, 'lemmatized_tokens'])\n",
    "\n",
    "    # Applicare la funzione di verifica alla riga di ciascun dataframe B\n",
    "    df_B['match'] = df_B.apply(check_match, axis=1)\n",
    "\n",
    "    return df_B['match']\n",
    "\n",
    "# Esempio di utilizzo\n",
    "data_A = {'testo': [\"La casa è grande.\", \"Il cane corre veloce.\", \"Gli uccelli volano alto.\"]}\n",
    "data_B = {'testo': [\"La casa grande\", \"Il cane veloce\", \"uccelli alti\"]}\n",
    "df_A = pd.DataFrame(data_A)\n",
    "df_B = pd.DataFrame(data_B)\n",
    "\n",
    "risultato = stemming_and_matching(df_A, df_B)\n",
    "print(risultato)\n"
   ]
  },
  {
   "cell_type": "markdown",
   "id": "f82a2dff",
   "metadata": {},
   "source": [
    "### Reddit posts"
   ]
  },
  {
   "cell_type": "code",
   "execution_count": 7,
   "id": "df7e9509",
   "metadata": {},
   "outputs": [],
   "source": [
    "file_reddit = r'C:\\Users\\leona\\OneDrive\\Desktop\\Tesi\\Pipeline\\Datasets\\Pipeline\\SocialNetworksPosts\\Reddit\\RedditPosts.csv'"
   ]
  },
  {
   "cell_type": "code",
   "execution_count": 8,
   "id": "a070364e",
   "metadata": {
    "scrolled": true
   },
   "outputs": [
    {
     "data": {
      "text/html": [
       "<div>\n",
       "<style scoped>\n",
       "    .dataframe tbody tr th:only-of-type {\n",
       "        vertical-align: middle;\n",
       "    }\n",
       "\n",
       "    .dataframe tbody tr th {\n",
       "        vertical-align: top;\n",
       "    }\n",
       "\n",
       "    .dataframe thead th {\n",
       "        text-align: right;\n",
       "    }\n",
       "</style>\n",
       "<table border=\"1\" class=\"dataframe\">\n",
       "  <thead>\n",
       "    <tr style=\"text-align: right;\">\n",
       "      <th></th>\n",
       "      <th>subreddit</th>\n",
       "      <th>username</th>\n",
       "      <th>date</th>\n",
       "      <th>title</th>\n",
       "      <th>text</th>\n",
       "    </tr>\n",
       "  </thead>\n",
       "  <tbody>\n",
       "    <tr>\n",
       "      <th>0</th>\n",
       "      <td>netsec</td>\n",
       "      <td>t3_18i5ups</td>\n",
       "      <td>2023-12-14 11:36:39</td>\n",
       "      <td>Nim implementation of Old Dll Unlinking Technique</td>\n",
       "      <td>NaN</td>\n",
       "    </tr>\n",
       "    <tr>\n",
       "      <th>1</th>\n",
       "      <td>cybersecurity</td>\n",
       "      <td>t3_18i5v5x</td>\n",
       "      <td>2023-12-14 11:37:34</td>\n",
       "      <td>How to prevent employees from using unauthorized web tools?</td>\n",
       "      <td>I work as an IT manager for a business. Some time ago, a group of my colleagues decided to use a web productivity tool, created accounts using their work emails, and started introducing data.\\n\\nI had no knowledge they had been using such a tool at all. I did not even know it existed.\\n\\nToday, I received an email from my boss asking why an ex-employee still had access to the data in such a web platform, as their account hadn't been deactivated. Needless to say, I don't have access to revoke their account or anything.\\n\\nHow can I prevent them from registering on another unauthorized webpage?\\n\\nI feel like a firewall blacklist would be useless since I would have to be constantly researching and updating it with new tools, and I can't make a whitelist since my company uses a ton of different pages for intense web research.\\n\\nAny help or advice would be appreciated.\\n\\n&amp;#x200B;</td>\n",
       "    </tr>\n",
       "    <tr>\n",
       "      <th>2</th>\n",
       "      <td>MacOS</td>\n",
       "      <td>t3_18i5kyd</td>\n",
       "      <td>2023-12-14 11:17:47</td>\n",
       "      <td>Teams call pop up window blocked by reminders/calendar entries on top right corner</td>\n",
       "      <td>Hi\\n\\nDo you know this issue that when I have reminders or calendar alarms set to stick to the top right corner, that they then block the notification window for incoming Teams calls.\\n\\nDoes someone know if there is a setting for having the teams call pop up in on another location on the screen or knows another work around?</td>\n",
       "    </tr>\n",
       "    <tr>\n",
       "      <th>3</th>\n",
       "      <td>MacOS</td>\n",
       "      <td>t3_18i5koq</td>\n",
       "      <td>2023-12-14 11:17:16</td>\n",
       "      <td>Disable middle mouse button drag to other desktop</td>\n",
       "      <td>So I have been using windows for a while and now I am stumped. The middle mouse button of my logi mouse has the following functionailty: On drage change desktop, on click show all windows. That's nice and all, but I can't use fusion 360 because the dragging functionality is the middle mouse button but that just changes the desktop. How can I disable that?\\n\\n&amp;#x200B;\\n\\nSo I found this, but there is no button selected. If I select the secondary mouse button for example, it will open mission control on both right click and middle mouse button:\\n\\nhttps://preview.redd.it/bmqnrpw0m86c1.png?width=476&amp;format=png&amp;auto=webp&amp;s=97ae662fcca43bf146537393fc6a13705a0a9351\\n\\n&amp;#x200B;</td>\n",
       "    </tr>\n",
       "    <tr>\n",
       "      <th>4</th>\n",
       "      <td>windows</td>\n",
       "      <td>t3_18i5gqv</td>\n",
       "      <td>2023-12-14 11:09:52</td>\n",
       "      <td>Playing 4k videos on 2k display</td>\n",
       "      <td>Hello guys does playing 4k content on a 2k display has any benefit? For example while playing YouTube videos I set 1440p resolution on my 2k laptop and 2k smartphone despite having a option of selecting 2160p option. So i wanted to ask if i get better video quality if i select 2160p option while playing on a 2k display?</td>\n",
       "    </tr>\n",
       "    <tr>\n",
       "      <th>...</th>\n",
       "      <td>...</td>\n",
       "      <td>...</td>\n",
       "      <td>...</td>\n",
       "      <td>...</td>\n",
       "      <td>...</td>\n",
       "    </tr>\n",
       "    <tr>\n",
       "      <th>387066</th>\n",
       "      <td>pcmasterrace</td>\n",
       "      <td>t3_1006rmg</td>\n",
       "      <td>2023-01-01 00:41:37</td>\n",
       "      <td>Build Almost Done</td>\n",
       "      <td>Is this a good build? Any recommendations?\\n\\nBUILD - https://pcpartpicker.com/list/FL6hwc</td>\n",
       "    </tr>\n",
       "    <tr>\n",
       "      <th>387067</th>\n",
       "      <td>pcmasterrace</td>\n",
       "      <td>t3_1006qur</td>\n",
       "      <td>2023-01-01 00:40:30</td>\n",
       "      <td>problem arming pc, I have a Mother a320m-k, ryzen 4650g, and doesnt work the video, the motherboard have Orange leds. Its my first time arming</td>\n",
       "      <td>NaN</td>\n",
       "    </tr>\n",
       "    <tr>\n",
       "      <th>387068</th>\n",
       "      <td>pcmasterrace</td>\n",
       "      <td>t3_1006pzy</td>\n",
       "      <td>2023-01-01 00:39:17</td>\n",
       "      <td>PCMR Truckers</td>\n",
       "      <td>Those that bring their rigs with them in the truck: \\n\\nHow does the computer fare? \\nIs there any orientation it works better with when you go through the areas with poor maintenance? \\nAnd lastly: if you liquid cool, have you noticed any issues over time?\\n\\nI'm building a new rig here soon and am curious if anything is to note so I don't make a large $$$$ mistake</td>\n",
       "    </tr>\n",
       "    <tr>\n",
       "      <th>387069</th>\n",
       "      <td>pcmasterrace</td>\n",
       "      <td>t3_1006orx</td>\n",
       "      <td>2023-01-01 00:37:29</td>\n",
       "      <td>New case for Christmas, also spray painted my GPU to match</td>\n",
       "      <td>Got the Hyte y60 as a gift, what a great case to build in. Running a 5600x with a 3080. The tree probably blocks some airflow but I'll take that tradeoff.</td>\n",
       "    </tr>\n",
       "    <tr>\n",
       "      <th>387070</th>\n",
       "      <td>linuxquestions</td>\n",
       "      <td>t3_1006n20</td>\n",
       "      <td>2023-01-01 00:34:59</td>\n",
       "      <td>Ignore \"not enough space to copy these file\" errors in KDE Plasma/Dolphin?</td>\n",
       "      <td>When copying files with Dolphin (KDE Plasma's file manager), if there is not enough free space to copy the incoming files entirely, the file manager refuses to copy even a single file. However, a lot of the time I'll be skipping name conflicts or overwriting existing files with new ones, so either I don't need as much space than it seems to the system, or space is freed up as I copy. Also, KDE seems to have trouble accurately determining the free space on drives on a network file server that I have mounted with SSHFS, so it will say there is not enough space even when there is. \\n\\nIs there a way to get Dolphin to ignore this error and attempt to copy the files anyway? Like the way the cp command does it, where it doesn't really care how much space is on the drive, and will only throw an error if it actually fills up before it's done copying. Or better yet, is there a way to get Dolphin to still warn me about potential space issues, but have the option to ignore it and attempt to c...</td>\n",
       "    </tr>\n",
       "  </tbody>\n",
       "</table>\n",
       "<p>387071 rows × 5 columns</p>\n",
       "</div>"
      ],
      "text/plain": [
       "             subreddit    username                 date  \\\n",
       "0               netsec  t3_18i5ups  2023-12-14 11:36:39   \n",
       "1        cybersecurity  t3_18i5v5x  2023-12-14 11:37:34   \n",
       "2                MacOS  t3_18i5kyd  2023-12-14 11:17:47   \n",
       "3                MacOS  t3_18i5koq  2023-12-14 11:17:16   \n",
       "4              windows  t3_18i5gqv  2023-12-14 11:09:52   \n",
       "...                ...         ...                  ...   \n",
       "387066    pcmasterrace  t3_1006rmg  2023-01-01 00:41:37   \n",
       "387067    pcmasterrace  t3_1006qur  2023-01-01 00:40:30   \n",
       "387068    pcmasterrace  t3_1006pzy  2023-01-01 00:39:17   \n",
       "387069    pcmasterrace  t3_1006orx  2023-01-01 00:37:29   \n",
       "387070  linuxquestions  t3_1006n20  2023-01-01 00:34:59   \n",
       "\n",
       "                                                                                                                                                 title  \\\n",
       "0                                                                                                    Nim implementation of Old Dll Unlinking Technique   \n",
       "1                                                                                          How to prevent employees from using unauthorized web tools?   \n",
       "2                                                                   Teams call pop up window blocked by reminders/calendar entries on top right corner   \n",
       "3                                                                                                    Disable middle mouse button drag to other desktop   \n",
       "4                                                                                                                      Playing 4k videos on 2k display   \n",
       "...                                                                                                                                                ...   \n",
       "387066                                                                                                                               Build Almost Done   \n",
       "387067  problem arming pc, I have a Mother a320m-k, ryzen 4650g, and doesnt work the video, the motherboard have Orange leds. Its my first time arming   \n",
       "387068                                                                                                                                   PCMR Truckers   \n",
       "387069                                                                                      New case for Christmas, also spray painted my GPU to match   \n",
       "387070                                                                      Ignore \"not enough space to copy these file\" errors in KDE Plasma/Dolphin?   \n",
       "\n",
       "                                                                                                                                                                                                                                                                                                                                                                                                                                                                                                                                                                                                                                                                                                                                                                                                                                                                                                                                                                                                                                           text  \n",
       "0                                                                                                                                                                                                                                                                                                                                                                                                                                                                                                                                                                                                                                                                                                                                                                                                                                                                                                                                                                                                                                           NaN  \n",
       "1                                                                                                                    I work as an IT manager for a business. Some time ago, a group of my colleagues decided to use a web productivity tool, created accounts using their work emails, and started introducing data.\\n\\nI had no knowledge they had been using such a tool at all. I did not even know it existed.\\n\\nToday, I received an email from my boss asking why an ex-employee still had access to the data in such a web platform, as their account hadn't been deactivated. Needless to say, I don't have access to revoke their account or anything.\\n\\nHow can I prevent them from registering on another unauthorized webpage?\\n\\nI feel like a firewall blacklist would be useless since I would have to be constantly researching and updating it with new tools, and I can't make a whitelist since my company uses a ton of different pages for intense web research.\\n\\nAny help or advice would be appreciated.\\n\\n&#x200B;  \n",
       "2                                                                                                                                                                                                                                                                                                                                                                                                                                                                                                                                                                                                                                                                                                        Hi\\n\\nDo you know this issue that when I have reminders or calendar alarms set to stick to the top right corner, that they then block the notification window for incoming Teams calls.\\n\\nDoes someone know if there is a setting for having the teams call pop up in on another location on the screen or knows another work around?  \n",
       "3                                                                                                                                                                                                                                                                                                                                       So I have been using windows for a while and now I am stumped. The middle mouse button of my logi mouse has the following functionailty: On drage change desktop, on click show all windows. That's nice and all, but I can't use fusion 360 because the dragging functionality is the middle mouse button but that just changes the desktop. How can I disable that?\\n\\n&#x200B;\\n\\nSo I found this, but there is no button selected. If I select the secondary mouse button for example, it will open mission control on both right click and middle mouse button:\\n\\nhttps://preview.redd.it/bmqnrpw0m86c1.png?width=476&format=png&auto=webp&s=97ae662fcca43bf146537393fc6a13705a0a9351\\n\\n&#x200B;  \n",
       "4                                                                                                                                                                                                                                                                                                                                                                                                                                                                                                                                                                                                                                                                                                             Hello guys does playing 4k content on a 2k display has any benefit? For example while playing YouTube videos I set 1440p resolution on my 2k laptop and 2k smartphone despite having a option of selecting 2160p option. So i wanted to ask if i get better video quality if i select 2160p option while playing on a 2k display?  \n",
       "...                                                                                                                                                                                                                                                                                                                                                                                                                                                                                                                                                                                                                                                                                                                                                                                                                                                                                                                                                                                                                                         ...  \n",
       "387066                                                                                                                                                                                                                                                                                                                                                                                                                                                                                                                                                                                                                                                                                                                                                                                                                                                                                                                                               Is this a good build? Any recommendations?\\n\\nBUILD - https://pcpartpicker.com/list/FL6hwc  \n",
       "387067                                                                                                                                                                                                                                                                                                                                                                                                                                                                                                                                                                                                                                                                                                                                                                                                                                                                                                                                                                                                                                      NaN  \n",
       "387068                                                                                                                                                                                                                                                                                                                                                                                                                                                                                                                                                                                                                                                         Those that bring their rigs with them in the truck: \\n\\nHow does the computer fare? \\nIs there any orientation it works better with when you go through the areas with poor maintenance? \\nAnd lastly: if you liquid cool, have you noticed any issues over time?\\n\\nI'm building a new rig here soon and am curious if anything is to note so I don't make a large $$$$ mistake  \n",
       "387069                                                                                                                                                                                                                                                                                                                                                                                                                                                                                                                                                                                                                                                                                                                                                                                                                                                                               Got the Hyte y60 as a gift, what a great case to build in. Running a 5600x with a 3080. The tree probably blocks some airflow but I'll take that tradeoff.  \n",
       "387070  When copying files with Dolphin (KDE Plasma's file manager), if there is not enough free space to copy the incoming files entirely, the file manager refuses to copy even a single file. However, a lot of the time I'll be skipping name conflicts or overwriting existing files with new ones, so either I don't need as much space than it seems to the system, or space is freed up as I copy. Also, KDE seems to have trouble accurately determining the free space on drives on a network file server that I have mounted with SSHFS, so it will say there is not enough space even when there is. \\n\\nIs there a way to get Dolphin to ignore this error and attempt to copy the files anyway? Like the way the cp command does it, where it doesn't really care how much space is on the drive, and will only throw an error if it actually fills up before it's done copying. Or better yet, is there a way to get Dolphin to still warn me about potential space issues, but have the option to ignore it and attempt to c...  \n",
       "\n",
       "[387071 rows x 5 columns]"
      ]
     },
     "execution_count": 8,
     "metadata": {},
     "output_type": "execute_result"
    }
   ],
   "source": [
    "df_reddit = pd.read_csv(file_reddit)\n",
    "df_reddit = df_reddit.drop(columns=['Unnamed: 0', 'json'])\n",
    "df_reddit"
   ]
  },
  {
   "cell_type": "markdown",
   "id": "8ac41545",
   "metadata": {},
   "source": [
    "### Files "
   ]
  },
  {
   "cell_type": "code",
   "execution_count": 9,
   "id": "d7ecdb03",
   "metadata": {},
   "outputs": [],
   "source": [
    "file_files = r'C:\\Users\\\\leona\\\\OneDrive\\\\Desktop\\\\Tesi\\\\Pipeline\\\\Datasets\\\\Pipeline\\\\FileAnalysis\\\\ER_Schema\\\\Entries.csv'\n",
    "attack_files = r'C:\\Users\\\\leona\\\\OneDrive\\\\Desktop\\\\Tesi\\\\Pipeline\\\\Datasets\\\\Pipeline\\\\FileAnalysis\\\\ER_Schema\\\\Attacks.csv'\n",
    "behaviour_files = r'C:\\Users\\\\leona\\\\OneDrive\\\\Desktop\\\\Tesi\\\\Pipeline\\\\Datasets\\\\Pipeline\\\\FileAnalysis\\\\ER_Schema\\\\Behaviours.csv'"
   ]
  },
  {
   "cell_type": "code",
   "execution_count": 10,
   "id": "589cf0b5",
   "metadata": {
    "scrolled": true
   },
   "outputs": [
    {
     "data": {
      "text/html": [
       "<div>\n",
       "<style scoped>\n",
       "    .dataframe tbody tr th:only-of-type {\n",
       "        vertical-align: middle;\n",
       "    }\n",
       "\n",
       "    .dataframe tbody tr th {\n",
       "        vertical-align: top;\n",
       "    }\n",
       "\n",
       "    .dataframe thead th {\n",
       "        text-align: right;\n",
       "    }\n",
       "</style>\n",
       "<table border=\"1\" class=\"dataframe\">\n",
       "  <thead>\n",
       "    <tr style=\"text-align: right;\">\n",
       "      <th></th>\n",
       "      <th>sha1</th>\n",
       "      <th>sha256</th>\n",
       "      <th>md5</th>\n",
       "      <th>analysis_date</th>\n",
       "      <th>file_type</th>\n",
       "      <th>delivery_method</th>\n",
       "      <th>verdict</th>\n",
       "      <th>malware_type</th>\n",
       "      <th>malware</th>\n",
       "    </tr>\n",
       "  </thead>\n",
       "  <tbody>\n",
       "    <tr>\n",
       "      <th>0</th>\n",
       "      <td>411535c9548f86034a6a9a603de521a86a3b5466</td>\n",
       "      <td>04c53261b1220a894a02f5ffb39cdfd73f93481c0b5c8106d21c91b20205c62d</td>\n",
       "      <td>5b5a0225a2b7b9a054417662c733168a</td>\n",
       "      <td>2021-11-09</td>\n",
       "      <td>exe</td>\n",
       "      <td>email attachment</td>\n",
       "      <td>malicious</td>\n",
       "      <td>trojan</td>\n",
       "      <td>remcos</td>\n",
       "    </tr>\n",
       "    <tr>\n",
       "      <th>1</th>\n",
       "      <td>1ad9e9761fd6935c0cf5048c9615d0383baac48e</td>\n",
       "      <td>ac901bf5882f14e9e07235b8488b6479b4519addda6dbfb89147401c1e9e6e4f</td>\n",
       "      <td>da9534900ee0d11c9b30cf33152ea03c</td>\n",
       "      <td>2023-07-19</td>\n",
       "      <td>exe</td>\n",
       "      <td>web download</td>\n",
       "      <td>malicious</td>\n",
       "      <td>trojan</td>\n",
       "      <td>remcos</td>\n",
       "    </tr>\n",
       "    <tr>\n",
       "      <th>2</th>\n",
       "      <td>8ab63abfe58fb218cc001581ac0d9fe38c784157</td>\n",
       "      <td>7f514ed5e1ec262953e6252a4089531c519e95d700c5808415b0f049fc59a5f0</td>\n",
       "      <td>855232a26e8afcd0cca5f816a1919dee</td>\n",
       "      <td>2022-01-04</td>\n",
       "      <td>exe</td>\n",
       "      <td>unknown</td>\n",
       "      <td>malicious</td>\n",
       "      <td>ransomware</td>\n",
       "      <td>remcos</td>\n",
       "    </tr>\n",
       "    <tr>\n",
       "      <th>3</th>\n",
       "      <td>55cbf8dae95d350ad7e5a63b418f6cd203488f51</td>\n",
       "      <td>8b7ae9f195b075a789d6d8277d500d27754bfa3c53ecca8db7beac8ccd07884f</td>\n",
       "      <td>97d9d216f2627cb238ca6637580b1739</td>\n",
       "      <td>2022-02-09</td>\n",
       "      <td>exe</td>\n",
       "      <td>unknown</td>\n",
       "      <td>malicious</td>\n",
       "      <td>trojan</td>\n",
       "      <td>remcos</td>\n",
       "    </tr>\n",
       "    <tr>\n",
       "      <th>4</th>\n",
       "      <td>a2915c1be9e6134b7bf3ca5ca00eeb0c969bedab</td>\n",
       "      <td>6c2a2251861a6d2701814843fadac940cf4d34db9f446f0698352fd866b31739</td>\n",
       "      <td>1b09de36dfe5850d7e3fbd6b39c89a43</td>\n",
       "      <td>2021-02-11</td>\n",
       "      <td>exe</td>\n",
       "      <td>web download</td>\n",
       "      <td>malicious</td>\n",
       "      <td>trojan</td>\n",
       "      <td>generic mg</td>\n",
       "    </tr>\n",
       "    <tr>\n",
       "      <th>...</th>\n",
       "      <td>...</td>\n",
       "      <td>...</td>\n",
       "      <td>...</td>\n",
       "      <td>...</td>\n",
       "      <td>...</td>\n",
       "      <td>...</td>\n",
       "      <td>...</td>\n",
       "      <td>...</td>\n",
       "      <td>...</td>\n",
       "    </tr>\n",
       "    <tr>\n",
       "      <th>2657</th>\n",
       "      <td>6b6955af591154d3f6e2db35ca9904cce7e264b1</td>\n",
       "      <td>3a9d8c693b7dc6a9c2bf876c5626ebd0923e35bd5f698baed248df7f51f67275</td>\n",
       "      <td>03872a722df0b073a84fd1aa45eb9376</td>\n",
       "      <td>2020-02-20</td>\n",
       "      <td>elf</td>\n",
       "      <td>unknown</td>\n",
       "      <td>malicious</td>\n",
       "      <td>worm</td>\n",
       "      <td>agent tesla</td>\n",
       "    </tr>\n",
       "    <tr>\n",
       "      <th>2658</th>\n",
       "      <td>3ab53037e2360c42b57d213234ced58717844a71</td>\n",
       "      <td>5de4932cb0ccab3fec711135cdd1af5a09c26a870bfb2d2adc650d0fdbf16488</td>\n",
       "      <td>e0fea510c784eb0e440e99e53d83d414</td>\n",
       "      <td>2021-07-14</td>\n",
       "      <td>exe</td>\n",
       "      <td>unknown</td>\n",
       "      <td>malicious</td>\n",
       "      <td>spyware</td>\n",
       "      <td>generickd</td>\n",
       "    </tr>\n",
       "    <tr>\n",
       "      <th>2659</th>\n",
       "      <td>4f9b9859a596a8bfdfee516788587ca0c0fb6ae8</td>\n",
       "      <td>f10dd5ce32d72489dd2696e5b58ee115f3cd065969a61a6613cab27bcd57de70</td>\n",
       "      <td>c9f771be253b6ca1d7a808d7d65c5e29</td>\n",
       "      <td>2020-09-08</td>\n",
       "      <td>exe</td>\n",
       "      <td>unknown</td>\n",
       "      <td>malicious</td>\n",
       "      <td>trojan</td>\n",
       "      <td>unknown</td>\n",
       "    </tr>\n",
       "    <tr>\n",
       "      <th>2660</th>\n",
       "      <td>d14540087dd6d350fb49e644e53ccefc0e4c1582</td>\n",
       "      <td>dba8a4717d516772b8cc06bd258265f21f7db6ddab62328917524c5a243c67a1</td>\n",
       "      <td>fe783ff4bccd76cb215ee1f7738d9ed5</td>\n",
       "      <td>2021-12-20</td>\n",
       "      <td>exe</td>\n",
       "      <td>unknown</td>\n",
       "      <td>unknown</td>\n",
       "      <td>unknown</td>\n",
       "      <td>unknown</td>\n",
       "    </tr>\n",
       "    <tr>\n",
       "      <th>2661</th>\n",
       "      <td>98837feaac2ed17b3709e5183b660dd41e7a1e0e</td>\n",
       "      <td>5b37ddd18800dc91071db31b340e8f9997bb89d42d5a194d7ff8c980a54abe89</td>\n",
       "      <td>1b47215513edd622ba825dced07c8969</td>\n",
       "      <td>2021-11-11</td>\n",
       "      <td>exe</td>\n",
       "      <td>unknown</td>\n",
       "      <td>malicious</td>\n",
       "      <td>trojan</td>\n",
       "      <td>crypter gen</td>\n",
       "    </tr>\n",
       "  </tbody>\n",
       "</table>\n",
       "<p>2662 rows × 9 columns</p>\n",
       "</div>"
      ],
      "text/plain": [
       "                                          sha1  \\\n",
       "0     411535c9548f86034a6a9a603de521a86a3b5466   \n",
       "1     1ad9e9761fd6935c0cf5048c9615d0383baac48e   \n",
       "2     8ab63abfe58fb218cc001581ac0d9fe38c784157   \n",
       "3     55cbf8dae95d350ad7e5a63b418f6cd203488f51   \n",
       "4     a2915c1be9e6134b7bf3ca5ca00eeb0c969bedab   \n",
       "...                                        ...   \n",
       "2657  6b6955af591154d3f6e2db35ca9904cce7e264b1   \n",
       "2658  3ab53037e2360c42b57d213234ced58717844a71   \n",
       "2659  4f9b9859a596a8bfdfee516788587ca0c0fb6ae8   \n",
       "2660  d14540087dd6d350fb49e644e53ccefc0e4c1582   \n",
       "2661  98837feaac2ed17b3709e5183b660dd41e7a1e0e   \n",
       "\n",
       "                                                                sha256  \\\n",
       "0     04c53261b1220a894a02f5ffb39cdfd73f93481c0b5c8106d21c91b20205c62d   \n",
       "1     ac901bf5882f14e9e07235b8488b6479b4519addda6dbfb89147401c1e9e6e4f   \n",
       "2     7f514ed5e1ec262953e6252a4089531c519e95d700c5808415b0f049fc59a5f0   \n",
       "3     8b7ae9f195b075a789d6d8277d500d27754bfa3c53ecca8db7beac8ccd07884f   \n",
       "4     6c2a2251861a6d2701814843fadac940cf4d34db9f446f0698352fd866b31739   \n",
       "...                                                                ...   \n",
       "2657  3a9d8c693b7dc6a9c2bf876c5626ebd0923e35bd5f698baed248df7f51f67275   \n",
       "2658  5de4932cb0ccab3fec711135cdd1af5a09c26a870bfb2d2adc650d0fdbf16488   \n",
       "2659  f10dd5ce32d72489dd2696e5b58ee115f3cd065969a61a6613cab27bcd57de70   \n",
       "2660  dba8a4717d516772b8cc06bd258265f21f7db6ddab62328917524c5a243c67a1   \n",
       "2661  5b37ddd18800dc91071db31b340e8f9997bb89d42d5a194d7ff8c980a54abe89   \n",
       "\n",
       "                                   md5 analysis_date file_type  \\\n",
       "0     5b5a0225a2b7b9a054417662c733168a    2021-11-09       exe   \n",
       "1     da9534900ee0d11c9b30cf33152ea03c    2023-07-19       exe   \n",
       "2     855232a26e8afcd0cca5f816a1919dee    2022-01-04       exe   \n",
       "3     97d9d216f2627cb238ca6637580b1739    2022-02-09       exe   \n",
       "4     1b09de36dfe5850d7e3fbd6b39c89a43    2021-02-11       exe   \n",
       "...                                ...           ...       ...   \n",
       "2657  03872a722df0b073a84fd1aa45eb9376    2020-02-20       elf   \n",
       "2658  e0fea510c784eb0e440e99e53d83d414    2021-07-14       exe   \n",
       "2659  c9f771be253b6ca1d7a808d7d65c5e29    2020-09-08       exe   \n",
       "2660  fe783ff4bccd76cb215ee1f7738d9ed5    2021-12-20       exe   \n",
       "2661  1b47215513edd622ba825dced07c8969    2021-11-11       exe   \n",
       "\n",
       "       delivery_method    verdict malware_type      malware  \n",
       "0     email attachment  malicious       trojan       remcos  \n",
       "1         web download  malicious       trojan       remcos  \n",
       "2              unknown  malicious   ransomware       remcos  \n",
       "3              unknown  malicious       trojan       remcos  \n",
       "4         web download  malicious       trojan   generic mg  \n",
       "...                ...        ...          ...          ...  \n",
       "2657           unknown  malicious         worm  agent tesla  \n",
       "2658           unknown  malicious      spyware    generickd  \n",
       "2659           unknown  malicious       trojan      unknown  \n",
       "2660           unknown    unknown      unknown      unknown  \n",
       "2661           unknown  malicious       trojan  crypter gen  \n",
       "\n",
       "[2662 rows x 9 columns]"
      ]
     },
     "execution_count": 10,
     "metadata": {},
     "output_type": "execute_result"
    }
   ],
   "source": [
    "df_files = pd.read_csv(file_files, low_memory = False)\n",
    "#df_files = df_files.drop(columns=['Unnamed: 0'])\n",
    "df_files"
   ]
  },
  {
   "cell_type": "markdown",
   "id": "5c976ab9",
   "metadata": {},
   "source": [
    "### Malwares"
   ]
  },
  {
   "cell_type": "code",
   "execution_count": 11,
   "id": "ca543511",
   "metadata": {},
   "outputs": [
    {
     "data": {
      "text/plain": [
       "['trojan',\n",
       " 'ransomware',\n",
       " 'adware',\n",
       " 'worm',\n",
       " 'dropper',\n",
       " 'rootkit',\n",
       " 'spyware',\n",
       " 'keylogger',\n",
       " 'backdoor',\n",
       " 'downloader',\n",
       " 'botnet']"
      ]
     },
     "execution_count": 11,
     "metadata": {},
     "output_type": "execute_result"
    }
   ],
   "source": [
    "all_malware_types_list = list(df_files.malware_type.unique())\n",
    "all_malware_types_list = [item for item in all_malware_types_list if item != 'unknown']\n",
    "\n",
    "all_malware_types_list"
   ]
  },
  {
   "cell_type": "markdown",
   "id": "03f6cc08",
   "metadata": {},
   "source": [
    "#### Malwares"
   ]
  },
  {
   "cell_type": "code",
   "execution_count": 12,
   "id": "f336b70b",
   "metadata": {},
   "outputs": [
    {
     "data": {
      "text/plain": [
       "['remcos',\n",
       " 'generic mg',\n",
       " 'njrat',\n",
       " 'bitrat',\n",
       " 'mirai',\n",
       " 'injector gen',\n",
       " 'generickd',\n",
       " 'quasar rat',\n",
       " 'muldrop',\n",
       " 'netwire',\n",
       " 'ave maria',\n",
       " 'script cryxos',\n",
       " 'downloader gen',\n",
       " 'orcus',\n",
       " 'x gen drp',\n",
       " 'agent tesla',\n",
       " 'nanocore rat',\n",
       " 'redline stealer',\n",
       " 'lumma stealer',\n",
       " 'siggen',\n",
       " 'spynote',\n",
       " 'kryptik gen',\n",
       " 'obfus',\n",
       " 'kryptik gen eldorado',\n",
       " 'valyria',\n",
       " 'artemis',\n",
       " 'twave evil',\n",
       " 'java gen',\n",
       " 'borlanddelphi',\n",
       " 'cobalt strike',\n",
       " 'aidetect net',\n",
       " 'miscreantpunch',\n",
       " 'perseus',\n",
       " 'behaveslike generic',\n",
       " 'heracles',\n",
       " 'darkcomet',\n",
       " 'crypter gen',\n",
       " 'wannacryptor',\n",
       " 'formbook',\n",
       " 'azorult',\n",
       " 'genmalicious',\n",
       " 'bv downloader drp',\n",
       " 'evo gen',\n",
       " 'ddos',\n",
       " 'gafgyt',\n",
       " 'keylogger gen',\n",
       " 'cve exploit',\n",
       " 'banker gen',\n",
       " 'autoit',\n",
       " 'exploitx',\n",
       " 'coinminer generic',\n",
       " 'loki password stealer  pws',\n",
       " 'meterpreter',\n",
       " 'crimson rat',\n",
       " 'nanobot',\n",
       " 'ghost rat']"
      ]
     },
     "execution_count": 12,
     "metadata": {},
     "output_type": "execute_result"
    }
   ],
   "source": [
    "all_malware_list = list(df_files.malware.unique())\n",
    "all_malware_list = [item for item in all_malware_list if (item != 'unknown') & (item != 'malware_tag')]\n",
    "all_malware_list"
   ]
  },
  {
   "cell_type": "markdown",
   "id": "9a67df1c",
   "metadata": {},
   "source": [
    "#### Delivery Methods"
   ]
  },
  {
   "cell_type": "code",
   "execution_count": 13,
   "id": "4600cac9",
   "metadata": {},
   "outputs": [
    {
     "data": {
      "text/plain": [
       "['email attachment', 'web download', 'email link']"
      ]
     },
     "execution_count": 13,
     "metadata": {},
     "output_type": "execute_result"
    }
   ],
   "source": [
    "all_delivery_method_list = list(df_files.delivery_method.unique())\n",
    "all_delivery_method_list = [ item for item in all_delivery_method_list if (item != 'unknown') ]\n",
    "all_delivery_method_list"
   ]
  },
  {
   "cell_type": "markdown",
   "id": "fd527b44",
   "metadata": {},
   "source": [
    "#### Behaviours"
   ]
  },
  {
   "cell_type": "code",
   "execution_count": 14,
   "id": "e667156c",
   "metadata": {},
   "outputs": [
    {
     "data": {
      "text/html": [
       "<div>\n",
       "<style scoped>\n",
       "    .dataframe tbody tr th:only-of-type {\n",
       "        vertical-align: middle;\n",
       "    }\n",
       "\n",
       "    .dataframe tbody tr th {\n",
       "        vertical-align: top;\n",
       "    }\n",
       "\n",
       "    .dataframe thead th {\n",
       "        text-align: right;\n",
       "    }\n",
       "</style>\n",
       "<table border=\"1\" class=\"dataframe\">\n",
       "  <thead>\n",
       "    <tr style=\"text-align: right;\">\n",
       "      <th></th>\n",
       "      <th>sha1</th>\n",
       "      <th>sha256</th>\n",
       "      <th>md5</th>\n",
       "      <th>action_name</th>\n",
       "      <th>action_description</th>\n",
       "      <th>maliciousness_level</th>\n",
       "      <th>area</th>\n",
       "    </tr>\n",
       "  </thead>\n",
       "  <tbody>\n",
       "    <tr>\n",
       "      <th>0</th>\n",
       "      <td>007416f9ba10d2e2951a9dcd104b7206ad20d433</td>\n",
       "      <td>094b57a07096fb1f866a104c0b14c84aa99815b613587780765c8c6cd6ef1a42</td>\n",
       "      <td>7baa4836bd81113c16960501f679a81b</td>\n",
       "      <td>antidebug guardpages</td>\n",
       "      <td>guard pages use detected - possible anti-debugging.</td>\n",
       "      <td>neutral</td>\n",
       "      <td>System Processes</td>\n",
       "    </tr>\n",
       "    <tr>\n",
       "      <th>1</th>\n",
       "      <td>007416f9ba10d2e2951a9dcd104b7206ad20d433</td>\n",
       "      <td>094b57a07096fb1f866a104c0b14c84aa99815b613587780765c8c6cd6ef1a42</td>\n",
       "      <td>7baa4836bd81113c16960501f679a81b</td>\n",
       "      <td>antidebug setunhandledexceptionfilter</td>\n",
       "      <td>setunhandledexceptionfilter detected (possible anti-debug)</td>\n",
       "      <td>neutral</td>\n",
       "      <td>System Processes</td>\n",
       "    </tr>\n",
       "    <tr>\n",
       "      <th>2</th>\n",
       "      <td>007416f9ba10d2e2951a9dcd104b7206ad20d433</td>\n",
       "      <td>094b57a07096fb1f866a104c0b14c84aa99815b613587780765c8c6cd6ef1a42</td>\n",
       "      <td>7baa4836bd81113c16960501f679a81b</td>\n",
       "      <td>cape detected threat</td>\n",
       "      <td>cape detected the asyncrat malware</td>\n",
       "      <td>suspicious</td>\n",
       "      <td>Network Activity</td>\n",
       "    </tr>\n",
       "    <tr>\n",
       "      <th>3</th>\n",
       "      <td>007416f9ba10d2e2951a9dcd104b7206ad20d433</td>\n",
       "      <td>094b57a07096fb1f866a104c0b14c84aa99815b613587780765c8c6cd6ef1a42</td>\n",
       "      <td>7baa4836bd81113c16960501f679a81b</td>\n",
       "      <td>cmdline terminate</td>\n",
       "      <td>executed a command line with /c or /r argument to terminate command shell on completion which can be used to hide execution</td>\n",
       "      <td>neutral</td>\n",
       "      <td>System Processes</td>\n",
       "    </tr>\n",
       "    <tr>\n",
       "      <th>4</th>\n",
       "      <td>007416f9ba10d2e2951a9dcd104b7206ad20d433</td>\n",
       "      <td>094b57a07096fb1f866a104c0b14c84aa99815b613587780765c8c6cd6ef1a42</td>\n",
       "      <td>7baa4836bd81113c16960501f679a81b</td>\n",
       "      <td>dead connect</td>\n",
       "      <td>attempts to connect to a dead ip:port (1 unique times)</td>\n",
       "      <td>neutral</td>\n",
       "      <td>Network Communications</td>\n",
       "    </tr>\n",
       "  </tbody>\n",
       "</table>\n",
       "</div>"
      ],
      "text/plain": [
       "                                       sha1  \\\n",
       "0  007416f9ba10d2e2951a9dcd104b7206ad20d433   \n",
       "1  007416f9ba10d2e2951a9dcd104b7206ad20d433   \n",
       "2  007416f9ba10d2e2951a9dcd104b7206ad20d433   \n",
       "3  007416f9ba10d2e2951a9dcd104b7206ad20d433   \n",
       "4  007416f9ba10d2e2951a9dcd104b7206ad20d433   \n",
       "\n",
       "                                                             sha256  \\\n",
       "0  094b57a07096fb1f866a104c0b14c84aa99815b613587780765c8c6cd6ef1a42   \n",
       "1  094b57a07096fb1f866a104c0b14c84aa99815b613587780765c8c6cd6ef1a42   \n",
       "2  094b57a07096fb1f866a104c0b14c84aa99815b613587780765c8c6cd6ef1a42   \n",
       "3  094b57a07096fb1f866a104c0b14c84aa99815b613587780765c8c6cd6ef1a42   \n",
       "4  094b57a07096fb1f866a104c0b14c84aa99815b613587780765c8c6cd6ef1a42   \n",
       "\n",
       "                                md5                            action_name  \\\n",
       "0  7baa4836bd81113c16960501f679a81b                   antidebug guardpages   \n",
       "1  7baa4836bd81113c16960501f679a81b  antidebug setunhandledexceptionfilter   \n",
       "2  7baa4836bd81113c16960501f679a81b                   cape detected threat   \n",
       "3  7baa4836bd81113c16960501f679a81b                      cmdline terminate   \n",
       "4  7baa4836bd81113c16960501f679a81b                           dead connect   \n",
       "\n",
       "                                                                                                            action_description  \\\n",
       "0                                                                          guard pages use detected - possible anti-debugging.   \n",
       "1                                                                   setunhandledexceptionfilter detected (possible anti-debug)   \n",
       "2                                                                                           cape detected the asyncrat malware   \n",
       "3  executed a command line with /c or /r argument to terminate command shell on completion which can be used to hide execution   \n",
       "4                                                                       attempts to connect to a dead ip:port (1 unique times)   \n",
       "\n",
       "  maliciousness_level                    area  \n",
       "0             neutral        System Processes  \n",
       "1             neutral        System Processes  \n",
       "2          suspicious        Network Activity  \n",
       "3             neutral        System Processes  \n",
       "4             neutral  Network Communications  "
      ]
     },
     "execution_count": 14,
     "metadata": {},
     "output_type": "execute_result"
    }
   ],
   "source": [
    "behaviours = pd.read_csv(behaviour_files)\n",
    "#behaviours = behaviours.drop(columns=['Unnamed: 0'])\n",
    "behaviours.head()"
   ]
  },
  {
   "cell_type": "code",
   "execution_count": 15,
   "id": "111e57f5",
   "metadata": {},
   "outputs": [
    {
     "data": {
      "text/plain": [
       "['antidebug guardpages',\n",
       " 'antidebug setunhandledexceptionfilter',\n",
       " 'cape detected threat',\n",
       " 'cmdline terminate',\n",
       " 'dead connect',\n",
       " 'deletes executed files',\n",
       " 'dynamic function loading',\n",
       " 'injection rwx',\n",
       " 'persistence autorun tasks',\n",
       " 'process creation suspicious location',\n",
       " 'reads self',\n",
       " 'stealth timeout',\n",
       " 'stealth window',\n",
       " 'suspicious command tools',\n",
       " 'uses windows utilities',\n",
       " 'uses windows utilities to create scheduled task',\n",
       " 'allocates execute remote process',\n",
       " 'allocates rwx',\n",
       " 'antivm memory available',\n",
       " 'antivm network adapters',\n",
       " 'antivm queries computername',\n",
       " 'checks debugger',\n",
       " 'creates exe',\n",
       " 'dead host',\n",
       " 'dumped buffer',\n",
       " 'exe appdata',\n",
       " 'generates crypto key',\n",
       " 'has pdb',\n",
       " 'injection ntsetcontextthread',\n",
       " 'injection resumethread',\n",
       " 'injection runpe',\n",
       " 'injection write memory',\n",
       " 'injection write memory exe',\n",
       " 'nolookup communication',\n",
       " 'packer entropy',\n",
       " 'persistence autorun',\n",
       " 'privilege luid check',\n",
       " 'removes zoneid ads',\n",
       " 'schtask create',\n",
       " 'suspicious process',\n",
       " 'network icmp',\n",
       " 'osquery detection',\n",
       " 'dumped buffer2',\n",
       " 'infostealer keylogger',\n",
       " 'networkdyndns checkip',\n",
       " 'nids alert',\n",
       " 'infostealer ftp',\n",
       " 'queries programs',\n",
       " 'raises exception',\n",
       " 'recon programs',\n",
       " 'antisandbox sleep',\n",
       " 'console output',\n",
       " 'packer polymorphic',\n",
       " 'protection rx',\n",
       " 'antisandbox foregroundwindows',\n",
       " 'process martian',\n",
       " 'suspicious write exe',\n",
       " 'antisandbox idletime',\n",
       " 'antisandbox mouse hook',\n",
       " 'pe features',\n",
       " 'powershell reg add',\n",
       " 'infostealer browser',\n",
       " 'infostealer im',\n",
       " 'infostealer mail',\n",
       " 'injection process search',\n",
       " 'locates browser',\n",
       " 'network downloader exe',\n",
       " 'infostealer keylog',\n",
       " 'ransomware file modifications',\n",
       " 'disables security',\n",
       " 'dropper',\n",
       " 'creates hidden file',\n",
       " 'document open',\n",
       " 'network cnc http',\n",
       " 'network http',\n",
       " 'nids malware alert',\n",
       " 'stealth system procname',\n",
       " 'network multiple direct ip connections',\n",
       " 'accesses recyclebin',\n",
       " 'anomalous deletefile',\n",
       " 'antivm generic bios',\n",
       " 'antivm generic disk',\n",
       " 'creates largekey',\n",
       " 'enumerates physical drives',\n",
       " 'exec crash',\n",
       " 'infostealer cookies',\n",
       " 'injection inter process',\n",
       " 'injection process hollowing',\n",
       " 'modify desktop wallpaper',\n",
       " 'physical drive access',\n",
       " 'powershell request',\n",
       " 'recon fingerprint',\n",
       " 'terminates remote process',\n",
       " 'antivm generic services',\n",
       " 'modifies proxy wpad',\n",
       " 'http request',\n",
       " 'infostealer bitcoin',\n",
       " 'network cnc https generic',\n",
       " 'network dyndns',\n",
       " 'powershell download',\n",
       " 'procmem yara',\n",
       " 'recon checkip',\n",
       " 'antivm disk size',\n",
       " 'origin langid',\n",
       " 'peid packer',\n",
       " 'antidbg windows',\n",
       " 'antivm vmware in instruction',\n",
       " 'injection network trafic',\n",
       " 'process interest',\n",
       " 'stealth hiddenfile',\n",
       " 'stops service',\n",
       " 'https urls',\n",
       " 'injection createremotethread',\n",
       " 'injection modifies memory',\n",
       " 'multiple useragents',\n",
       " 'antivm generic cpu',\n",
       " 'persistence ads',\n",
       " 'registry credential store access',\n",
       " 'cloud google',\n",
       " 'rat spynet',\n",
       " 'creates shortcut',\n",
       " 'encrypt pcinfo',\n",
       " 'suricata alert',\n",
       " 'disables proxy',\n",
       " 'has wmi',\n",
       " 'network bind',\n",
       " 'process needed',\n",
       " 'ransomware appends extensions',\n",
       " 'ransomware file moves',\n",
       " 'rat teamviewer',\n",
       " 'wmi antivm',\n",
       " 'pe unknown resource name',\n",
       " 'modifies certificates',\n",
       " 'powershell dfsp',\n",
       " 'suspicious powershell',\n",
       " 'antiemu wine',\n",
       " 'antivm generic scsi',\n",
       " 'antivm vbox keys',\n",
       " 'antivm vmware keys',\n",
       " 'creates service',\n",
       " 'cape extracted content',\n",
       " 'injection create remote thread',\n",
       " 'rat nanocore',\n",
       " 'spawns dev util',\n",
       " 'packer upx',\n",
       " 'accesses public folder',\n",
       " 'encrypted ioc',\n",
       " 'antiav detectfile',\n",
       " 'tcp syn scan',\n",
       " 'powershell command suspicious',\n",
       " 'powershell scriptblock logging',\n",
       " 'script tool executed',\n",
       " 'ransomware extensions',\n",
       " 'suspicious tld',\n",
       " 'remcos files',\n",
       " 'remcos mutexes',\n",
       " 'remcos regkeys',\n",
       " 'antidbg devices',\n",
       " 'cybergate',\n",
       " 'antisandbox unhook',\n",
       " 'creates doc',\n",
       " 'locker taskmgr',\n",
       " 'darkcomet regkeys',\n",
       " 'deletes self',\n",
       " 'dotnet csc build',\n",
       " 'network dns reverse proxy',\n",
       " 'rat fynloski mutexes',\n",
       " 'sysinternals tools usage',\n",
       " 'modifies security center warnings',\n",
       " 'rat fynloski',\n",
       " 'p2p cnc',\n",
       " 'writes to stdout',\n",
       " 'network document file',\n",
       " 'network http post',\n",
       " 'rat bifrose',\n",
       " 'antisandbox sboxie libs',\n",
       " 'dll load uncommon file types',\n",
       " 'moves self',\n",
       " 'persistence registry javascript',\n",
       " 'persistence registry powershell',\n",
       " 'network irc',\n",
       " 'process crash',\n",
       " 'antiav avast libs',\n",
       " 'applcation raises exception',\n",
       " 'creates user folder exe',\n",
       " 'enumerates running processes',\n",
       " 'spooler svc start',\n",
       " 'stealth hiddenreg',\n",
       " 'stealth network',\n",
       " 'rat quasar mutexes',\n",
       " 'sniffer winpcap',\n",
       " 'banker bancos',\n",
       " 'network fake useragent',\n",
       " 'network questionable http path',\n",
       " 'stop ransom mutexes',\n",
       " 'stop ransomware cmd',\n",
       " 'stop ransomware registry',\n",
       " 'disables uac',\n",
       " 'script created process',\n",
       " 'nids exploit alert',\n",
       " 'long commandline',\n",
       " 'antivm firmware',\n",
       " 'modifies zoneid',\n",
       " 'disables windows defender',\n",
       " 'network cnc https free webshoting',\n",
       " 'network cnc https socialmedia',\n",
       " 'network ip exe',\n",
       " 'venomrat mutexes',\n",
       " 'virus',\n",
       " 'malicious document urls',\n",
       " 'network wscript downloader',\n",
       " 'bladabindi mutexes',\n",
       " 'ransomware mass file delete',\n",
       " 'netwire',\n",
       " 'antisandbox suspend',\n",
       " 'network dns paste site',\n",
       " 'antivm generic system',\n",
       " 'warzonerat files',\n",
       " 'windows defender powershell',\n",
       " 'antivm vbox files',\n",
       " 'antivm vmware files',\n",
       " 'bypass firewall',\n",
       " 'injection network traffic',\n",
       " 'modify security center warnings',\n",
       " 'rat sdbot',\n",
       " 'antidebug ntsetinformationthread',\n",
       " 'antiav detectreg',\n",
       " 'network dns blockchain',\n",
       " 'rtf unknown character set',\n",
       " 'network cnc https payload',\n",
       " 'renostrojan',\n",
       " 'plugx',\n",
       " 'network tor',\n",
       " 'js eval',\n",
       " 'antiemu wine func',\n",
       " 'injection queueapcthread',\n",
       " 'njrat regkeys',\n",
       " 'disables system restore',\n",
       " 'accesses netlogon regkey',\n",
       " 'createtoolhelp32snapshot module enumeration',\n",
       " 'mimics agent',\n",
       " 'suspicious ping use',\n",
       " 'uses windows utilities nltest',\n",
       " 'spreading autoruninf',\n",
       " 'antivm vbox devices',\n",
       " 'rat rbot',\n",
       " 'network excessive udp',\n",
       " 'chmod 777 perm',\n",
       " 'browser security',\n",
       " 'detect putty',\n",
       " 'memdump urls',\n",
       " 'ransomware dropped files',\n",
       " 'rat xtreme',\n",
       " 'modify uac prompt',\n",
       " 'packer vmprotect',\n",
       " 'banker zeus p2p',\n",
       " 'orcusrat behavior',\n",
       " 'exploit heapspray',\n",
       " 'persists dev util',\n",
       " 'rtf unknown version',\n",
       " 'antisandbox sunbelt libs',\n",
       " 'network anomaly',\n",
       " 'spoofs procname',\n",
       " 'antidebug windows',\n",
       " 'recon beacon',\n",
       " 'network cnc https pastesite',\n",
       " 'suspicious certutil use',\n",
       " 'alters windows utility',\n",
       " 'powershell renamed',\n",
       " 'nitol',\n",
       " 'warzonerat regkeys',\n",
       " 'exec waitfor',\n",
       " 'martian command process',\n",
       " 'antivirus virustotal',\n",
       " 'banker zeus mutex',\n",
       " 'copies self',\n",
       " 'cryptopool domains',\n",
       " 'antiav servicestop',\n",
       " 'masquerade process name',\n",
       " 'antivm sandboxie',\n",
       " 'recon systeminfo',\n",
       " 'modify certs',\n",
       " 'cryptomining stratum command',\n",
       " 'network dns txt lookup',\n",
       " 'antisandbox file',\n",
       " 'antisandbox joe anubis files',\n",
       " 'captures screenshot',\n",
       " 'netwire behavior',\n",
       " 'cypherit mutexes',\n",
       " 'network dga',\n",
       " 'stealth childproc',\n",
       " 'cmdline long string',\n",
       " 'crontab persistency',\n",
       " 'antivm generic diskreg',\n",
       " 'win32 process create',\n",
       " 'suspicious js script',\n",
       " 'cmdline obfuscation',\n",
       " 'cmdline http link',\n",
       " 'network cnc https opensource',\n",
       " 'antisandbox cuckoo files',\n",
       " 'blackrat apis',\n",
       " 'persistence registry exe',\n",
       " 'trojan jorik',\n",
       " 'andromeda',\n",
       " 'uses powershell copyitem',\n",
       " 'polymorphic',\n",
       " 'stealth hidden extension',\n",
       " 'network cnc https useragent',\n",
       " 'browser helper object',\n",
       " 'browser startpage',\n",
       " 'dns freehosting domain',\n",
       " 'packer themida',\n",
       " 'dyreza',\n",
       " 'upatre',\n",
       " 'modify proxy',\n",
       " 'static pe anomaly',\n",
       " 'stealth file',\n",
       " 'powershell network connection',\n",
       " 'disables windows file protection',\n",
       " 'antidebug devices',\n",
       " 'antiemu wine reg',\n",
       " 'rat buzus mutexes',\n",
       " 'office cve2017 11882 network']"
      ]
     },
     "execution_count": 15,
     "metadata": {},
     "output_type": "execute_result"
    }
   ],
   "source": [
    "all_behaviours_name_list = list(behaviours.action_name.unique())\n",
    "all_behaviours_name_list = [ item for item in all_behaviours_name_list if (item != 'unknown') ]\n",
    "all_behaviours_name_list"
   ]
  },
  {
   "cell_type": "markdown",
   "id": "2e3f8788",
   "metadata": {},
   "source": [
    "#### Attacks"
   ]
  },
  {
   "cell_type": "code",
   "execution_count": 16,
   "id": "3afab840",
   "metadata": {},
   "outputs": [
    {
     "data": {
      "text/html": [
       "<div>\n",
       "<style scoped>\n",
       "    .dataframe tbody tr th:only-of-type {\n",
       "        vertical-align: middle;\n",
       "    }\n",
       "\n",
       "    .dataframe tbody tr th {\n",
       "        vertical-align: top;\n",
       "    }\n",
       "\n",
       "    .dataframe thead th {\n",
       "        text-align: right;\n",
       "    }\n",
       "</style>\n",
       "<table border=\"1\" class=\"dataframe\">\n",
       "  <thead>\n",
       "    <tr style=\"text-align: right;\">\n",
       "      <th></th>\n",
       "      <th>sha1</th>\n",
       "      <th>sha256</th>\n",
       "      <th>md5</th>\n",
       "      <th>attack_id</th>\n",
       "      <th>attack_name</th>\n",
       "      <th>attack_type</th>\n",
       "    </tr>\n",
       "  </thead>\n",
       "  <tbody>\n",
       "    <tr>\n",
       "      <th>0</th>\n",
       "      <td>713a00b13a87c52b43404cd32d0f4645844709d9</td>\n",
       "      <td>3b96a384f9989f28315eb374eae991e70ed07b88665cbf831f24bd574502feac</td>\n",
       "      <td>97ad0714b0245825407dd25d7d168d31</td>\n",
       "      <td>T1060</td>\n",
       "      <td>Registry Run Keys / Start Folder</td>\n",
       "      <td>Installation</td>\n",
       "    </tr>\n",
       "    <tr>\n",
       "      <th>1</th>\n",
       "      <td>713a00b13a87c52b43404cd32d0f4645844709d9</td>\n",
       "      <td>3b96a384f9989f28315eb374eae991e70ed07b88665cbf831f24bd574502feac</td>\n",
       "      <td>97ad0714b0245825407dd25d7d168d31</td>\n",
       "      <td>T1056</td>\n",
       "      <td>Input Capture</td>\n",
       "      <td>Objectives</td>\n",
       "    </tr>\n",
       "    <tr>\n",
       "      <th>2</th>\n",
       "      <td>e900de5aea86567fadc7507a6811596eb4b86a14</td>\n",
       "      <td>3363270a2950c8518e7883ea147b3f947b3a96aa31d37a990c73f975946335ce</td>\n",
       "      <td>e076afd88fe6a708d91a3f771754e860</td>\n",
       "      <td>T1060</td>\n",
       "      <td>Registry Run Keys / Start Folder</td>\n",
       "      <td>Installation</td>\n",
       "    </tr>\n",
       "    <tr>\n",
       "      <th>3</th>\n",
       "      <td>12d263832d7f08122fbfc4431da22016e0823539</td>\n",
       "      <td>cf1260b1d0686dbee4a5c9e3bcd09eff07bfae0a53d17356b72150f59ad1a497</td>\n",
       "      <td>497d3c4d08b80e03f622064dced10135</td>\n",
       "      <td>T1119</td>\n",
       "      <td>Automated Collection</td>\n",
       "      <td>Objectives</td>\n",
       "    </tr>\n",
       "    <tr>\n",
       "      <th>4</th>\n",
       "      <td>12d263832d7f08122fbfc4431da22016e0823539</td>\n",
       "      <td>cf1260b1d0686dbee4a5c9e3bcd09eff07bfae0a53d17356b72150f59ad1a497</td>\n",
       "      <td>497d3c4d08b80e03f622064dced10135</td>\n",
       "      <td>T1045</td>\n",
       "      <td>Software Packing</td>\n",
       "      <td>Installation</td>\n",
       "    </tr>\n",
       "  </tbody>\n",
       "</table>\n",
       "</div>"
      ],
      "text/plain": [
       "                                       sha1  \\\n",
       "0  713a00b13a87c52b43404cd32d0f4645844709d9   \n",
       "1  713a00b13a87c52b43404cd32d0f4645844709d9   \n",
       "2  e900de5aea86567fadc7507a6811596eb4b86a14   \n",
       "3  12d263832d7f08122fbfc4431da22016e0823539   \n",
       "4  12d263832d7f08122fbfc4431da22016e0823539   \n",
       "\n",
       "                                                             sha256  \\\n",
       "0  3b96a384f9989f28315eb374eae991e70ed07b88665cbf831f24bd574502feac   \n",
       "1  3b96a384f9989f28315eb374eae991e70ed07b88665cbf831f24bd574502feac   \n",
       "2  3363270a2950c8518e7883ea147b3f947b3a96aa31d37a990c73f975946335ce   \n",
       "3  cf1260b1d0686dbee4a5c9e3bcd09eff07bfae0a53d17356b72150f59ad1a497   \n",
       "4  cf1260b1d0686dbee4a5c9e3bcd09eff07bfae0a53d17356b72150f59ad1a497   \n",
       "\n",
       "                                md5 attack_id  \\\n",
       "0  97ad0714b0245825407dd25d7d168d31     T1060   \n",
       "1  97ad0714b0245825407dd25d7d168d31     T1056   \n",
       "2  e076afd88fe6a708d91a3f771754e860     T1060   \n",
       "3  497d3c4d08b80e03f622064dced10135     T1119   \n",
       "4  497d3c4d08b80e03f622064dced10135     T1045   \n",
       "\n",
       "                        attack_name   attack_type  \n",
       "0  Registry Run Keys / Start Folder  Installation  \n",
       "1                     Input Capture    Objectives  \n",
       "2  Registry Run Keys / Start Folder  Installation  \n",
       "3              Automated Collection    Objectives  \n",
       "4                  Software Packing  Installation  "
      ]
     },
     "execution_count": 16,
     "metadata": {},
     "output_type": "execute_result"
    }
   ],
   "source": [
    "attacks = pd.read_csv(attack_files)\n",
    "#attacks = attacks.drop(columns=['Unnamed: 0'])\n",
    "attacks.head()"
   ]
  },
  {
   "cell_type": "code",
   "execution_count": 17,
   "id": "cb17b3e0",
   "metadata": {},
   "outputs": [
    {
     "data": {
      "text/plain": [
       "['Registry Run Keys',\n",
       " 'Start Folder',\n",
       " 'Input Capture',\n",
       " 'Automated Collection',\n",
       " 'Software Packing',\n",
       " 'Process Discovery',\n",
       " 'Defense Evasion, Privilege Escalation',\n",
       " 'Masquerading',\n",
       " 'Disable Security Software',\n",
       " 'Windows Management Instrumentation',\n",
       " 'Install New Service',\n",
       " 'Security Software Discovery',\n",
       " 'T1060',\n",
       " 'T1056',\n",
       " 'T1119',\n",
       " 'T1045',\n",
       " 'T1057',\n",
       " 'T1055',\n",
       " 'T1036',\n",
       " '578',\n",
       " 'T1047',\n",
       " '550',\n",
       " 'T1063']"
      ]
     },
     "execution_count": 17,
     "metadata": {},
     "output_type": "execute_result"
    }
   ],
   "source": [
    "all_attack_name_list = list(attacks.attack_name.unique()) + list(attacks.attack_id.unique())\n",
    "all_attack_name_list = [ item for item in all_attack_name_list if (item != 'unknown') ]\n",
    "new_list = []\n",
    "\n",
    "for element in all_attack_name_list:\n",
    "    if '/' in element:\n",
    "        parts = element.split('/')\n",
    "        # Add non-empty parts after removing leading and trailing spaces\n",
    "        new_list.extend([part.strip() for part in parts if part])\n",
    "    else:\n",
    "        # If there is no '/', simply add the element after removing leading and trailing spaces\n",
    "        new_list.append(element.strip())\n",
    "\n",
    "all_attack_name_list = new_list\n",
    "all_attack_name_list\n"
   ]
  },
  {
   "cell_type": "markdown",
   "id": "131548a7",
   "metadata": {},
   "source": [
    "### Lemmatization"
   ]
  },
  {
   "cell_type": "code",
   "execution_count": 18,
   "id": "d2a0b362",
   "metadata": {},
   "outputs": [
    {
     "name": "stdout",
     "output_type": "stream",
     "text": [
      "Requirement already satisfied: spacy in c:\\users\\leona\\anaconda3\\lib\\site-packages (3.7.2)\n",
      "Requirement already satisfied: spacy-legacy<3.1.0,>=3.0.11 in c:\\users\\leona\\anaconda3\\lib\\site-packages (from spacy) (3.0.12)\n",
      "Requirement already satisfied: spacy-loggers<2.0.0,>=1.0.0 in c:\\users\\leona\\anaconda3\\lib\\site-packages (from spacy) (1.0.5)\n",
      "Requirement already satisfied: murmurhash<1.1.0,>=0.28.0 in c:\\users\\leona\\anaconda3\\lib\\site-packages (from spacy) (1.0.10)\n",
      "Requirement already satisfied: cymem<2.1.0,>=2.0.2 in c:\\users\\leona\\anaconda3\\lib\\site-packages (from spacy) (2.0.8)\n",
      "Requirement already satisfied: preshed<3.1.0,>=3.0.2 in c:\\users\\leona\\anaconda3\\lib\\site-packages (from spacy) (3.0.9)\n",
      "Requirement already satisfied: thinc<8.3.0,>=8.1.8 in c:\\users\\leona\\anaconda3\\lib\\site-packages (from spacy) (8.2.2)\n",
      "Requirement already satisfied: wasabi<1.2.0,>=0.9.1 in c:\\users\\leona\\anaconda3\\lib\\site-packages (from spacy) (1.1.2)\n",
      "Requirement already satisfied: srsly<3.0.0,>=2.4.3 in c:\\users\\leona\\anaconda3\\lib\\site-packages (from spacy) (2.4.8)\n",
      "Requirement already satisfied: catalogue<2.1.0,>=2.0.6 in c:\\users\\leona\\anaconda3\\lib\\site-packages (from spacy) (2.0.10)\n",
      "Requirement already satisfied: weasel<0.4.0,>=0.1.0 in c:\\users\\leona\\anaconda3\\lib\\site-packages (from spacy) (0.3.4)\n",
      "Requirement already satisfied: typer<0.10.0,>=0.3.0 in c:\\users\\leona\\anaconda3\\lib\\site-packages (from spacy) (0.9.0)\n",
      "Requirement already satisfied: smart-open<7.0.0,>=5.2.1 in c:\\users\\leona\\anaconda3\\lib\\site-packages (from spacy) (5.2.1)\n",
      "Requirement already satisfied: tqdm<5.0.0,>=4.38.0 in c:\\users\\leona\\anaconda3\\lib\\site-packages (from spacy) (4.65.0)\n",
      "Requirement already satisfied: requests<3.0.0,>=2.13.0 in c:\\users\\leona\\anaconda3\\lib\\site-packages (from spacy) (2.31.0)\n",
      "Requirement already satisfied: pydantic!=1.8,!=1.8.1,<3.0.0,>=1.7.4 in c:\\users\\leona\\anaconda3\\lib\\site-packages (from spacy) (2.5.3)\n",
      "Requirement already satisfied: jinja2 in c:\\users\\leona\\anaconda3\\lib\\site-packages (from spacy) (3.1.2)\n",
      "Requirement already satisfied: setuptools in c:\\users\\leona\\anaconda3\\lib\\site-packages (from spacy) (68.0.0)\n",
      "Requirement already satisfied: packaging>=20.0 in c:\\users\\leona\\anaconda3\\lib\\site-packages (from spacy) (23.1)\n",
      "Requirement already satisfied: langcodes<4.0.0,>=3.2.0 in c:\\users\\leona\\anaconda3\\lib\\site-packages (from spacy) (3.3.0)\n",
      "Requirement already satisfied: numpy>=1.19.0 in c:\\users\\leona\\anaconda3\\lib\\site-packages (from spacy) (1.23.5)\n",
      "Requirement already satisfied: annotated-types>=0.4.0 in c:\\users\\leona\\anaconda3\\lib\\site-packages (from pydantic!=1.8,!=1.8.1,<3.0.0,>=1.7.4->spacy) (0.6.0)\n",
      "Requirement already satisfied: pydantic-core==2.14.6 in c:\\users\\leona\\anaconda3\\lib\\site-packages (from pydantic!=1.8,!=1.8.1,<3.0.0,>=1.7.4->spacy) (2.14.6)\n",
      "Requirement already satisfied: typing-extensions>=4.6.1 in c:\\users\\leona\\anaconda3\\lib\\site-packages (from pydantic!=1.8,!=1.8.1,<3.0.0,>=1.7.4->spacy) (4.7.1)\n",
      "Requirement already satisfied: charset-normalizer<4,>=2 in c:\\users\\leona\\anaconda3\\lib\\site-packages (from requests<3.0.0,>=2.13.0->spacy) (2.0.4)\n",
      "Requirement already satisfied: idna<4,>=2.5 in c:\\users\\leona\\anaconda3\\lib\\site-packages (from requests<3.0.0,>=2.13.0->spacy) (2.10)\n",
      "Requirement already satisfied: urllib3<3,>=1.21.1 in c:\\users\\leona\\anaconda3\\lib\\site-packages (from requests<3.0.0,>=2.13.0->spacy) (1.26.16)\n",
      "Requirement already satisfied: certifi>=2017.4.17 in c:\\users\\leona\\anaconda3\\lib\\site-packages (from requests<3.0.0,>=2.13.0->spacy) (2023.7.22)\n",
      "Requirement already satisfied: blis<0.8.0,>=0.7.8 in c:\\users\\leona\\anaconda3\\lib\\site-packages (from thinc<8.3.0,>=8.1.8->spacy) (0.7.11)\n",
      "Requirement already satisfied: confection<1.0.0,>=0.0.1 in c:\\users\\leona\\anaconda3\\lib\\site-packages (from thinc<8.3.0,>=8.1.8->spacy) (0.1.4)\n",
      "Requirement already satisfied: colorama in c:\\users\\leona\\anaconda3\\lib\\site-packages (from tqdm<5.0.0,>=4.38.0->spacy) (0.4.6)\n",
      "Requirement already satisfied: click<9.0.0,>=7.1.1 in c:\\users\\leona\\anaconda3\\lib\\site-packages (from typer<0.10.0,>=0.3.0->spacy) (8.0.4)\n",
      "Requirement already satisfied: cloudpathlib<0.17.0,>=0.7.0 in c:\\users\\leona\\anaconda3\\lib\\site-packages (from weasel<0.4.0,>=0.1.0->spacy) (0.16.0)\n",
      "Requirement already satisfied: MarkupSafe>=2.0 in c:\\users\\leona\\anaconda3\\lib\\site-packages (from jinja2->spacy) (2.1.1)\n",
      "Note: you may need to restart the kernel to use updated packages.\n"
     ]
    }
   ],
   "source": [
    "pip install spacy\n"
   ]
  },
  {
   "cell_type": "code",
   "execution_count": 19,
   "id": "304fc3a4",
   "metadata": {},
   "outputs": [
    {
     "name": "stdout",
     "output_type": "stream",
     "text": [
      "Collecting en-core-web-sm==3.7.1\n",
      "  Using cached https://github.com/explosion/spacy-models/releases/download/en_core_web_sm-3.7.1/en_core_web_sm-3.7.1-py3-none-any.whl (12.8 MB)\n",
      "Requirement already satisfied: spacy<3.8.0,>=3.7.2 in c:\\users\\leona\\anaconda3\\lib\\site-packages (from en-core-web-sm==3.7.1) (3.7.2)\n",
      "Requirement already satisfied: spacy-legacy<3.1.0,>=3.0.11 in c:\\users\\leona\\anaconda3\\lib\\site-packages (from spacy<3.8.0,>=3.7.2->en-core-web-sm==3.7.1) (3.0.12)\n",
      "Requirement already satisfied: spacy-loggers<2.0.0,>=1.0.0 in c:\\users\\leona\\anaconda3\\lib\\site-packages (from spacy<3.8.0,>=3.7.2->en-core-web-sm==3.7.1) (1.0.5)\n",
      "Requirement already satisfied: murmurhash<1.1.0,>=0.28.0 in c:\\users\\leona\\anaconda3\\lib\\site-packages (from spacy<3.8.0,>=3.7.2->en-core-web-sm==3.7.1) (1.0.10)\n",
      "Requirement already satisfied: cymem<2.1.0,>=2.0.2 in c:\\users\\leona\\anaconda3\\lib\\site-packages (from spacy<3.8.0,>=3.7.2->en-core-web-sm==3.7.1) (2.0.8)\n",
      "Requirement already satisfied: preshed<3.1.0,>=3.0.2 in c:\\users\\leona\\anaconda3\\lib\\site-packages (from spacy<3.8.0,>=3.7.2->en-core-web-sm==3.7.1) (3.0.9)\n",
      "Requirement already satisfied: thinc<8.3.0,>=8.1.8 in c:\\users\\leona\\anaconda3\\lib\\site-packages (from spacy<3.8.0,>=3.7.2->en-core-web-sm==3.7.1) (8.2.2)\n",
      "Requirement already satisfied: wasabi<1.2.0,>=0.9.1 in c:\\users\\leona\\anaconda3\\lib\\site-packages (from spacy<3.8.0,>=3.7.2->en-core-web-sm==3.7.1) (1.1.2)\n",
      "Requirement already satisfied: srsly<3.0.0,>=2.4.3 in c:\\users\\leona\\anaconda3\\lib\\site-packages (from spacy<3.8.0,>=3.7.2->en-core-web-sm==3.7.1) (2.4.8)\n",
      "Requirement already satisfied: catalogue<2.1.0,>=2.0.6 in c:\\users\\leona\\anaconda3\\lib\\site-packages (from spacy<3.8.0,>=3.7.2->en-core-web-sm==3.7.1) (2.0.10)\n",
      "Requirement already satisfied: weasel<0.4.0,>=0.1.0 in c:\\users\\leona\\anaconda3\\lib\\site-packages (from spacy<3.8.0,>=3.7.2->en-core-web-sm==3.7.1) (0.3.4)\n",
      "Requirement already satisfied: typer<0.10.0,>=0.3.0 in c:\\users\\leona\\anaconda3\\lib\\site-packages (from spacy<3.8.0,>=3.7.2->en-core-web-sm==3.7.1) (0.9.0)\n",
      "Requirement already satisfied: smart-open<7.0.0,>=5.2.1 in c:\\users\\leona\\anaconda3\\lib\\site-packages (from spacy<3.8.0,>=3.7.2->en-core-web-sm==3.7.1) (5.2.1)\n",
      "Requirement already satisfied: tqdm<5.0.0,>=4.38.0 in c:\\users\\leona\\anaconda3\\lib\\site-packages (from spacy<3.8.0,>=3.7.2->en-core-web-sm==3.7.1) (4.65.0)\n",
      "Requirement already satisfied: requests<3.0.0,>=2.13.0 in c:\\users\\leona\\anaconda3\\lib\\site-packages (from spacy<3.8.0,>=3.7.2->en-core-web-sm==3.7.1) (2.31.0)\n",
      "Requirement already satisfied: pydantic!=1.8,!=1.8.1,<3.0.0,>=1.7.4 in c:\\users\\leona\\anaconda3\\lib\\site-packages (from spacy<3.8.0,>=3.7.2->en-core-web-sm==3.7.1) (2.5.3)\n",
      "Requirement already satisfied: jinja2 in c:\\users\\leona\\anaconda3\\lib\\site-packages (from spacy<3.8.0,>=3.7.2->en-core-web-sm==3.7.1) (3.1.2)\n",
      "Requirement already satisfied: setuptools in c:\\users\\leona\\anaconda3\\lib\\site-packages (from spacy<3.8.0,>=3.7.2->en-core-web-sm==3.7.1) (68.0.0)\n",
      "Requirement already satisfied: packaging>=20.0 in c:\\users\\leona\\anaconda3\\lib\\site-packages (from spacy<3.8.0,>=3.7.2->en-core-web-sm==3.7.1) (23.1)\n",
      "Requirement already satisfied: langcodes<4.0.0,>=3.2.0 in c:\\users\\leona\\anaconda3\\lib\\site-packages (from spacy<3.8.0,>=3.7.2->en-core-web-sm==3.7.1) (3.3.0)\n",
      "Requirement already satisfied: numpy>=1.19.0 in c:\\users\\leona\\anaconda3\\lib\\site-packages (from spacy<3.8.0,>=3.7.2->en-core-web-sm==3.7.1) (1.23.5)\n",
      "Requirement already satisfied: annotated-types>=0.4.0 in c:\\users\\leona\\anaconda3\\lib\\site-packages (from pydantic!=1.8,!=1.8.1,<3.0.0,>=1.7.4->spacy<3.8.0,>=3.7.2->en-core-web-sm==3.7.1) (0.6.0)\n",
      "Requirement already satisfied: pydantic-core==2.14.6 in c:\\users\\leona\\anaconda3\\lib\\site-packages (from pydantic!=1.8,!=1.8.1,<3.0.0,>=1.7.4->spacy<3.8.0,>=3.7.2->en-core-web-sm==3.7.1) (2.14.6)\n",
      "Requirement already satisfied: typing-extensions>=4.6.1 in c:\\users\\leona\\anaconda3\\lib\\site-packages (from pydantic!=1.8,!=1.8.1,<3.0.0,>=1.7.4->spacy<3.8.0,>=3.7.2->en-core-web-sm==3.7.1) (4.7.1)\n",
      "Requirement already satisfied: charset-normalizer<4,>=2 in c:\\users\\leona\\anaconda3\\lib\\site-packages (from requests<3.0.0,>=2.13.0->spacy<3.8.0,>=3.7.2->en-core-web-sm==3.7.1) (2.0.4)\n",
      "Requirement already satisfied: idna<4,>=2.5 in c:\\users\\leona\\anaconda3\\lib\\site-packages (from requests<3.0.0,>=2.13.0->spacy<3.8.0,>=3.7.2->en-core-web-sm==3.7.1) (2.10)\n",
      "Requirement already satisfied: urllib3<3,>=1.21.1 in c:\\users\\leona\\anaconda3\\lib\\site-packages (from requests<3.0.0,>=2.13.0->spacy<3.8.0,>=3.7.2->en-core-web-sm==3.7.1) (1.26.16)\n",
      "Requirement already satisfied: certifi>=2017.4.17 in c:\\users\\leona\\anaconda3\\lib\\site-packages (from requests<3.0.0,>=2.13.0->spacy<3.8.0,>=3.7.2->en-core-web-sm==3.7.1) (2023.7.22)\n",
      "Requirement already satisfied: blis<0.8.0,>=0.7.8 in c:\\users\\leona\\anaconda3\\lib\\site-packages (from thinc<8.3.0,>=8.1.8->spacy<3.8.0,>=3.7.2->en-core-web-sm==3.7.1) (0.7.11)\n",
      "Requirement already satisfied: confection<1.0.0,>=0.0.1 in c:\\users\\leona\\anaconda3\\lib\\site-packages (from thinc<8.3.0,>=8.1.8->spacy<3.8.0,>=3.7.2->en-core-web-sm==3.7.1) (0.1.4)\n",
      "Requirement already satisfied: colorama in c:\\users\\leona\\anaconda3\\lib\\site-packages (from tqdm<5.0.0,>=4.38.0->spacy<3.8.0,>=3.7.2->en-core-web-sm==3.7.1) (0.4.6)\n",
      "Requirement already satisfied: click<9.0.0,>=7.1.1 in c:\\users\\leona\\anaconda3\\lib\\site-packages (from typer<0.10.0,>=0.3.0->spacy<3.8.0,>=3.7.2->en-core-web-sm==3.7.1) (8.0.4)\n",
      "Requirement already satisfied: cloudpathlib<0.17.0,>=0.7.0 in c:\\users\\leona\\anaconda3\\lib\\site-packages (from weasel<0.4.0,>=0.1.0->spacy<3.8.0,>=3.7.2->en-core-web-sm==3.7.1) (0.16.0)\n",
      "Requirement already satisfied: MarkupSafe>=2.0 in c:\\users\\leona\\anaconda3\\lib\\site-packages (from jinja2->spacy<3.8.0,>=3.7.2->en-core-web-sm==3.7.1) (2.1.1)\n",
      "\u001b[38;5;2m✔ Download and installation successful\u001b[0m\n",
      "You can now load the package via spacy.load('en_core_web_sm')\n"
     ]
    }
   ],
   "source": [
    "!python -m spacy download en_core_web_sm"
   ]
  },
  {
   "cell_type": "code",
   "execution_count": 20,
   "id": "343db00b",
   "metadata": {},
   "outputs": [
    {
     "name": "stdout",
     "output_type": "stream",
     "text": [
      "Results:\n",
      "- The house is big.\n",
      "- Houses are large.\n"
     ]
    }
   ],
   "source": [
    "import spacy\n",
    "\n",
    "def search_word_lemmatization(texts, word_to_search):\n",
    "    nlp = spacy.load(\"en_core_web_sm\")\n",
    "\n",
    "    analyzed_word = nlp(word_to_search)\n",
    "\n",
    "    word_lemma = analyzed_word[0].lemma_\n",
    "\n",
    "    results = []\n",
    "    for text in texts:\n",
    "        doc = nlp(text)\n",
    "        for token in doc:\n",
    "            if token.text.lower() == word_to_search.lower() or token.lemma_.lower() == word_lemma.lower():\n",
    "                results.append(text)\n",
    "                break\n",
    "\n",
    "    return results\n",
    "\n",
    "# Example of usage\n",
    "texts = [\"The house is big.\", \"Houses are large.\", \"This is an example.\"]\n",
    "word_to_search = \"houses\"\n",
    "\n",
    "results = search_word_lemmatization(texts, word_to_search)\n",
    "\n",
    "print(\"Results:\")\n",
    "for result in results:\n",
    "    print(\"-\", result)\n"
   ]
  },
  {
   "cell_type": "markdown",
   "id": "3accd9a7",
   "metadata": {},
   "source": [
    "### Malwares Name Search "
   ]
  },
  {
   "cell_type": "code",
   "execution_count": 21,
   "id": "332e7b97",
   "metadata": {},
   "outputs": [
    {
     "name": "stdout",
     "output_type": "stream",
     "text": [
      "Requirement already satisfied: googletrans==4.0.0-rc1 in c:\\users\\leona\\anaconda3\\lib\\site-packages (4.0.0rc1)\n",
      "Requirement already satisfied: httpx==0.13.3 in c:\\users\\leona\\anaconda3\\lib\\site-packages (from googletrans==4.0.0-rc1) (0.13.3)\n",
      "Requirement already satisfied: certifi in c:\\users\\leona\\anaconda3\\lib\\site-packages (from httpx==0.13.3->googletrans==4.0.0-rc1) (2023.7.22)\n",
      "Requirement already satisfied: hstspreload in c:\\users\\leona\\anaconda3\\lib\\site-packages (from httpx==0.13.3->googletrans==4.0.0-rc1) (2024.1.5)\n",
      "Requirement already satisfied: sniffio in c:\\users\\leona\\anaconda3\\lib\\site-packages (from httpx==0.13.3->googletrans==4.0.0-rc1) (1.2.0)\n",
      "Requirement already satisfied: chardet==3.* in c:\\users\\leona\\anaconda3\\lib\\site-packages (from httpx==0.13.3->googletrans==4.0.0-rc1) (3.0.4)\n",
      "Requirement already satisfied: idna==2.* in c:\\users\\leona\\anaconda3\\lib\\site-packages (from httpx==0.13.3->googletrans==4.0.0-rc1) (2.10)\n",
      "Requirement already satisfied: rfc3986<2,>=1.3 in c:\\users\\leona\\anaconda3\\lib\\site-packages (from httpx==0.13.3->googletrans==4.0.0-rc1) (1.5.0)\n",
      "Requirement already satisfied: httpcore==0.9.* in c:\\users\\leona\\anaconda3\\lib\\site-packages (from httpx==0.13.3->googletrans==4.0.0-rc1) (0.9.1)\n",
      "Requirement already satisfied: h11<0.10,>=0.8 in c:\\users\\leona\\anaconda3\\lib\\site-packages (from httpcore==0.9.*->httpx==0.13.3->googletrans==4.0.0-rc1) (0.9.0)\n",
      "Requirement already satisfied: h2==3.* in c:\\users\\leona\\anaconda3\\lib\\site-packages (from httpcore==0.9.*->httpx==0.13.3->googletrans==4.0.0-rc1) (3.2.0)\n",
      "Requirement already satisfied: hyperframe<6,>=5.2.0 in c:\\users\\leona\\anaconda3\\lib\\site-packages (from h2==3.*->httpcore==0.9.*->httpx==0.13.3->googletrans==4.0.0-rc1) (5.2.0)\n",
      "Requirement already satisfied: hpack<4,>=3.0 in c:\\users\\leona\\anaconda3\\lib\\site-packages (from h2==3.*->httpcore==0.9.*->httpx==0.13.3->googletrans==4.0.0-rc1) (3.0.0)\n",
      "Note: you may need to restart the kernel to use updated packages.\n"
     ]
    }
   ],
   "source": [
    "pip install googletrans==4.0.0-rc1"
   ]
  },
  {
   "cell_type": "markdown",
   "id": "4cf21dea",
   "metadata": {},
   "source": [
    "### Data Cleaning"
   ]
  },
  {
   "cell_type": "code",
   "execution_count": 22,
   "id": "8cb3d738",
   "metadata": {},
   "outputs": [],
   "source": [
    "from googletrans import Translator\n",
    "from requests.exceptions import HTTPError\n",
    "\n",
    "\n",
    "def translate_to_english(text, target_language='en'):\n",
    "    \n",
    "    translator = Translator()\n",
    "    try:\n",
    "\n",
    "        translation = translator.translate(text, dest=target_language)\n",
    "        time.sleep(1) \n",
    "        return translation.text\n",
    "    \n",
    "    except HTTPError as e:\n",
    "        print(f\"HTTP error occurred: {e}\")\n",
    "        \n",
    "    except Exception as e:\n",
    "        print(f\"An error occurred: {e}\")\n",
    "        time.sleep(1) \n",
    "\n",
    "    # Return the original text in case of an error\n",
    "    return text"
   ]
  },
  {
   "cell_type": "markdown",
   "id": "eecdc737",
   "metadata": {},
   "source": [
    "#### Imputation"
   ]
  },
  {
   "cell_type": "code",
   "execution_count": 23,
   "id": "e43cbf58",
   "metadata": {},
   "outputs": [
    {
     "data": {
      "text/html": [
       "<div>\n",
       "<style scoped>\n",
       "    .dataframe tbody tr th:only-of-type {\n",
       "        vertical-align: middle;\n",
       "    }\n",
       "\n",
       "    .dataframe tbody tr th {\n",
       "        vertical-align: top;\n",
       "    }\n",
       "\n",
       "    .dataframe thead th {\n",
       "        text-align: right;\n",
       "    }\n",
       "</style>\n",
       "<table border=\"1\" class=\"dataframe\">\n",
       "  <thead>\n",
       "    <tr style=\"text-align: right;\">\n",
       "      <th></th>\n",
       "      <th>subreddit</th>\n",
       "      <th>username</th>\n",
       "      <th>date</th>\n",
       "      <th>title</th>\n",
       "      <th>text</th>\n",
       "    </tr>\n",
       "  </thead>\n",
       "  <tbody>\n",
       "    <tr>\n",
       "      <th>0</th>\n",
       "      <td>netsec</td>\n",
       "      <td>t3_18i5ups</td>\n",
       "      <td>2023-12-14 11:36:39</td>\n",
       "      <td>Nim implementation of Old Dll Unlinking Technique</td>\n",
       "      <td></td>\n",
       "    </tr>\n",
       "    <tr>\n",
       "      <th>1</th>\n",
       "      <td>cybersecurity</td>\n",
       "      <td>t3_18i5v5x</td>\n",
       "      <td>2023-12-14 11:37:34</td>\n",
       "      <td>How to prevent employees from using unauthorized web tools?</td>\n",
       "      <td>I work as an IT manager for a business. Some time ago, a group of my colleagues decided to use a web productivity tool, created accounts using their work emails, and started introducing data.\\n\\nI had no knowledge they had been using such a tool at all. I did not even know it existed.\\n\\nToday, I received an email from my boss asking why an ex-employee still had access to the data in such a web platform, as their account hadn't been deactivated. Needless to say, I don't have access to revoke their account or anything.\\n\\nHow can I prevent them from registering on another unauthorized webpage?\\n\\nI feel like a firewall blacklist would be useless since I would have to be constantly researching and updating it with new tools, and I can't make a whitelist since my company uses a ton of different pages for intense web research.\\n\\nAny help or advice would be appreciated.\\n\\n&amp;#x200B;</td>\n",
       "    </tr>\n",
       "    <tr>\n",
       "      <th>2</th>\n",
       "      <td>MacOS</td>\n",
       "      <td>t3_18i5kyd</td>\n",
       "      <td>2023-12-14 11:17:47</td>\n",
       "      <td>Teams call pop up window blocked by reminders/calendar entries on top right corner</td>\n",
       "      <td>Hi\\n\\nDo you know this issue that when I have reminders or calendar alarms set to stick to the top right corner, that they then block the notification window for incoming Teams calls.\\n\\nDoes someone know if there is a setting for having the teams call pop up in on another location on the screen or knows another work around?</td>\n",
       "    </tr>\n",
       "    <tr>\n",
       "      <th>3</th>\n",
       "      <td>MacOS</td>\n",
       "      <td>t3_18i5koq</td>\n",
       "      <td>2023-12-14 11:17:16</td>\n",
       "      <td>Disable middle mouse button drag to other desktop</td>\n",
       "      <td>So I have been using windows for a while and now I am stumped. The middle mouse button of my logi mouse has the following functionailty: On drage change desktop, on click show all windows. That's nice and all, but I can't use fusion 360 because the dragging functionality is the middle mouse button but that just changes the desktop. How can I disable that?\\n\\n&amp;#x200B;\\n\\nSo I found this, but there is no button selected. If I select the secondary mouse button for example, it will open mission control on both right click and middle mouse button:\\n\\nhttps://preview.redd.it/bmqnrpw0m86c1.png?width=476&amp;format=png&amp;auto=webp&amp;s=97ae662fcca43bf146537393fc6a13705a0a9351\\n\\n&amp;#x200B;</td>\n",
       "    </tr>\n",
       "    <tr>\n",
       "      <th>4</th>\n",
       "      <td>windows</td>\n",
       "      <td>t3_18i5gqv</td>\n",
       "      <td>2023-12-14 11:09:52</td>\n",
       "      <td>Playing 4k videos on 2k display</td>\n",
       "      <td>Hello guys does playing 4k content on a 2k display has any benefit? For example while playing YouTube videos I set 1440p resolution on my 2k laptop and 2k smartphone despite having a option of selecting 2160p option. So i wanted to ask if i get better video quality if i select 2160p option while playing on a 2k display?</td>\n",
       "    </tr>\n",
       "  </tbody>\n",
       "</table>\n",
       "</div>"
      ],
      "text/plain": [
       "       subreddit    username                 date  \\\n",
       "0         netsec  t3_18i5ups  2023-12-14 11:36:39   \n",
       "1  cybersecurity  t3_18i5v5x  2023-12-14 11:37:34   \n",
       "2          MacOS  t3_18i5kyd  2023-12-14 11:17:47   \n",
       "3          MacOS  t3_18i5koq  2023-12-14 11:17:16   \n",
       "4        windows  t3_18i5gqv  2023-12-14 11:09:52   \n",
       "\n",
       "                                                                                title  \\\n",
       "0                                   Nim implementation of Old Dll Unlinking Technique   \n",
       "1                         How to prevent employees from using unauthorized web tools?   \n",
       "2  Teams call pop up window blocked by reminders/calendar entries on top right corner   \n",
       "3                                   Disable middle mouse button drag to other desktop   \n",
       "4                                                     Playing 4k videos on 2k display   \n",
       "\n",
       "                                                                                                                                                                                                                                                                                                                                                                                                                                                                                                                                                                                                                                                                                                                                                                                                                                                                                                                         text  \n",
       "0                                                                                                                                                                                                                                                                                                                                                                                                                                                                                                                                                                                                                                                                                                                                                                                                                                                                                                                              \n",
       "1  I work as an IT manager for a business. Some time ago, a group of my colleagues decided to use a web productivity tool, created accounts using their work emails, and started introducing data.\\n\\nI had no knowledge they had been using such a tool at all. I did not even know it existed.\\n\\nToday, I received an email from my boss asking why an ex-employee still had access to the data in such a web platform, as their account hadn't been deactivated. Needless to say, I don't have access to revoke their account or anything.\\n\\nHow can I prevent them from registering on another unauthorized webpage?\\n\\nI feel like a firewall blacklist would be useless since I would have to be constantly researching and updating it with new tools, and I can't make a whitelist since my company uses a ton of different pages for intense web research.\\n\\nAny help or advice would be appreciated.\\n\\n&#x200B;  \n",
       "2                                                                                                                                                                                                                                                                                                                                                                                                                                                                                                                                                                                      Hi\\n\\nDo you know this issue that when I have reminders or calendar alarms set to stick to the top right corner, that they then block the notification window for incoming Teams calls.\\n\\nDoes someone know if there is a setting for having the teams call pop up in on another location on the screen or knows another work around?  \n",
       "3                                                                                                                                                                                                                     So I have been using windows for a while and now I am stumped. The middle mouse button of my logi mouse has the following functionailty: On drage change desktop, on click show all windows. That's nice and all, but I can't use fusion 360 because the dragging functionality is the middle mouse button but that just changes the desktop. How can I disable that?\\n\\n&#x200B;\\n\\nSo I found this, but there is no button selected. If I select the secondary mouse button for example, it will open mission control on both right click and middle mouse button:\\n\\nhttps://preview.redd.it/bmqnrpw0m86c1.png?width=476&format=png&auto=webp&s=97ae662fcca43bf146537393fc6a13705a0a9351\\n\\n&#x200B;  \n",
       "4                                                                                                                                                                                                                                                                                                                                                                                                                                                                                                                                                                                           Hello guys does playing 4k content on a 2k display has any benefit? For example while playing YouTube videos I set 1440p resolution on my 2k laptop and 2k smartphone despite having a option of selecting 2160p option. So i wanted to ask if i get better video quality if i select 2160p option while playing on a 2k display?  "
      ]
     },
     "execution_count": 23,
     "metadata": {},
     "output_type": "execute_result"
    }
   ],
   "source": [
    "df_reddit['text'] = df_reddit['text'].fillna('')\n",
    "df_reddit['title'] = df_reddit['title'].fillna('')\n",
    "df_reddit.head()"
   ]
  },
  {
   "cell_type": "markdown",
   "id": "a09616b8",
   "metadata": {},
   "source": [
    "#### Column Filtering\n",
    "- Drop 'json' column -> useless"
   ]
  },
  {
   "cell_type": "code",
   "execution_count": 24,
   "id": "51257216",
   "metadata": {},
   "outputs": [
    {
     "data": {
      "text/html": [
       "<div>\n",
       "<style scoped>\n",
       "    .dataframe tbody tr th:only-of-type {\n",
       "        vertical-align: middle;\n",
       "    }\n",
       "\n",
       "    .dataframe tbody tr th {\n",
       "        vertical-align: top;\n",
       "    }\n",
       "\n",
       "    .dataframe thead th {\n",
       "        text-align: right;\n",
       "    }\n",
       "</style>\n",
       "<table border=\"1\" class=\"dataframe\">\n",
       "  <thead>\n",
       "    <tr style=\"text-align: right;\">\n",
       "      <th></th>\n",
       "      <th>subreddit</th>\n",
       "      <th>username</th>\n",
       "      <th>date</th>\n",
       "      <th>title</th>\n",
       "      <th>text</th>\n",
       "    </tr>\n",
       "  </thead>\n",
       "  <tbody>\n",
       "    <tr>\n",
       "      <th>50</th>\n",
       "      <td>hacking</td>\n",
       "      <td>t3_18i4tio</td>\n",
       "      <td>2023-12-14 10:22:21</td>\n",
       "      <td>Trains were designed to break down after third-party repairs, hackers find</td>\n",
       "      <td>https://arstechnica.com/tech-policy/2023/12/manufacturer-deliberately-bricked-trains-repaired-by-competitors-hackers-find/</td>\n",
       "    </tr>\n",
       "  </tbody>\n",
       "</table>\n",
       "</div>"
      ],
      "text/plain": [
       "   subreddit    username                 date  \\\n",
       "50   hacking  t3_18i4tio  2023-12-14 10:22:21   \n",
       "\n",
       "                                                                         title  \\\n",
       "50  Trains were designed to break down after third-party repairs, hackers find   \n",
       "\n",
       "                                                                                                                          text  \n",
       "50  https://arstechnica.com/tech-policy/2023/12/manufacturer-deliberately-bricked-trains-repaired-by-competitors-hackers-find/  "
      ]
     },
     "execution_count": 24,
     "metadata": {},
     "output_type": "execute_result"
    }
   ],
   "source": [
    "pd.DataFrame(df_reddit.loc[50]).T"
   ]
  },
  {
   "cell_type": "markdown",
   "id": "918df88e",
   "metadata": {},
   "source": [
    "#### Normalization\n",
    "- Convert each text and title of each post to the same language : english"
   ]
  },
  {
   "cell_type": "code",
   "execution_count": 25,
   "id": "c3d8f35e",
   "metadata": {},
   "outputs": [
    {
     "data": {
      "text/plain": [
       "\"\\n\\nfor i in range(len(df_reddit)):\\n    \\n    print(i)\\n    \\n    title = df_reddit.at[i, 'title']\\n    text = df_reddit.at[i, 'text']\\n    \\n    if(pd.isna(text) == False):\\n        new_text = translate_to_english(text)\\n        df_reddit.loc[i, 'text'] = new_text\\n\\n\\n    if(pd.isna(title) == False):\\n        new_title = translate_to_english(title)\\n        df_reddit.loc[i, 'title'] = new_title\\n        \\ndf_reddit        \\n\\n\""
      ]
     },
     "execution_count": 25,
     "metadata": {},
     "output_type": "execute_result"
    }
   ],
   "source": [
    "'''\n",
    "\n",
    "for i in range(len(df_reddit)):\n",
    "    \n",
    "    print(i)\n",
    "    \n",
    "    title = df_reddit.at[i, 'title']\n",
    "    text = df_reddit.at[i, 'text']\n",
    "    \n",
    "    if(pd.isna(text) == False):\n",
    "        new_text = translate_to_english(text)\n",
    "        df_reddit.loc[i, 'text'] = new_text\n",
    "\n",
    "\n",
    "    if(pd.isna(title) == False):\n",
    "        new_title = translate_to_english(title)\n",
    "        df_reddit.loc[i, 'title'] = new_title\n",
    "        \n",
    "df_reddit        \n",
    "\n",
    "'''"
   ]
  },
  {
   "cell_type": "markdown",
   "id": "383140c4",
   "metadata": {},
   "source": [
    "#### Data Type Conversion"
   ]
  },
  {
   "cell_type": "code",
   "execution_count": 26,
   "id": "765b9ce0",
   "metadata": {},
   "outputs": [
    {
     "data": {
      "text/html": [
       "<div>\n",
       "<style scoped>\n",
       "    .dataframe tbody tr th:only-of-type {\n",
       "        vertical-align: middle;\n",
       "    }\n",
       "\n",
       "    .dataframe tbody tr th {\n",
       "        vertical-align: top;\n",
       "    }\n",
       "\n",
       "    .dataframe thead th {\n",
       "        text-align: right;\n",
       "    }\n",
       "</style>\n",
       "<table border=\"1\" class=\"dataframe\">\n",
       "  <thead>\n",
       "    <tr style=\"text-align: right;\">\n",
       "      <th></th>\n",
       "      <th>subreddit</th>\n",
       "      <th>username</th>\n",
       "      <th>date</th>\n",
       "      <th>title</th>\n",
       "      <th>text</th>\n",
       "    </tr>\n",
       "  </thead>\n",
       "  <tbody>\n",
       "    <tr>\n",
       "      <th>0</th>\n",
       "      <td>netsec</td>\n",
       "      <td>t3_18i5ups</td>\n",
       "      <td>2023-12-14</td>\n",
       "      <td>Nim implementation of Old Dll Unlinking Technique</td>\n",
       "      <td></td>\n",
       "    </tr>\n",
       "    <tr>\n",
       "      <th>1</th>\n",
       "      <td>cybersecurity</td>\n",
       "      <td>t3_18i5v5x</td>\n",
       "      <td>2023-12-14</td>\n",
       "      <td>How to prevent employees from using unauthorized web tools?</td>\n",
       "      <td>I work as an IT manager for a business. Some time ago, a group of my colleagues decided to use a web productivity tool, created accounts using their work emails, and started introducing data.\\n\\nI had no knowledge they had been using such a tool at all. I did not even know it existed.\\n\\nToday, I received an email from my boss asking why an ex-employee still had access to the data in such a web platform, as their account hadn't been deactivated. Needless to say, I don't have access to revoke their account or anything.\\n\\nHow can I prevent them from registering on another unauthorized webpage?\\n\\nI feel like a firewall blacklist would be useless since I would have to be constantly researching and updating it with new tools, and I can't make a whitelist since my company uses a ton of different pages for intense web research.\\n\\nAny help or advice would be appreciated.\\n\\n&amp;#x200B;</td>\n",
       "    </tr>\n",
       "    <tr>\n",
       "      <th>2</th>\n",
       "      <td>MacOS</td>\n",
       "      <td>t3_18i5kyd</td>\n",
       "      <td>2023-12-14</td>\n",
       "      <td>Teams call pop up window blocked by reminders/calendar entries on top right corner</td>\n",
       "      <td>Hi\\n\\nDo you know this issue that when I have reminders or calendar alarms set to stick to the top right corner, that they then block the notification window for incoming Teams calls.\\n\\nDoes someone know if there is a setting for having the teams call pop up in on another location on the screen or knows another work around?</td>\n",
       "    </tr>\n",
       "    <tr>\n",
       "      <th>3</th>\n",
       "      <td>MacOS</td>\n",
       "      <td>t3_18i5koq</td>\n",
       "      <td>2023-12-14</td>\n",
       "      <td>Disable middle mouse button drag to other desktop</td>\n",
       "      <td>So I have been using windows for a while and now I am stumped. The middle mouse button of my logi mouse has the following functionailty: On drage change desktop, on click show all windows. That's nice and all, but I can't use fusion 360 because the dragging functionality is the middle mouse button but that just changes the desktop. How can I disable that?\\n\\n&amp;#x200B;\\n\\nSo I found this, but there is no button selected. If I select the secondary mouse button for example, it will open mission control on both right click and middle mouse button:\\n\\nhttps://preview.redd.it/bmqnrpw0m86c1.png?width=476&amp;format=png&amp;auto=webp&amp;s=97ae662fcca43bf146537393fc6a13705a0a9351\\n\\n&amp;#x200B;</td>\n",
       "    </tr>\n",
       "    <tr>\n",
       "      <th>4</th>\n",
       "      <td>windows</td>\n",
       "      <td>t3_18i5gqv</td>\n",
       "      <td>2023-12-14</td>\n",
       "      <td>Playing 4k videos on 2k display</td>\n",
       "      <td>Hello guys does playing 4k content on a 2k display has any benefit? For example while playing YouTube videos I set 1440p resolution on my 2k laptop and 2k smartphone despite having a option of selecting 2160p option. So i wanted to ask if i get better video quality if i select 2160p option while playing on a 2k display?</td>\n",
       "    </tr>\n",
       "  </tbody>\n",
       "</table>\n",
       "</div>"
      ],
      "text/plain": [
       "       subreddit    username        date  \\\n",
       "0         netsec  t3_18i5ups  2023-12-14   \n",
       "1  cybersecurity  t3_18i5v5x  2023-12-14   \n",
       "2          MacOS  t3_18i5kyd  2023-12-14   \n",
       "3          MacOS  t3_18i5koq  2023-12-14   \n",
       "4        windows  t3_18i5gqv  2023-12-14   \n",
       "\n",
       "                                                                                title  \\\n",
       "0                                   Nim implementation of Old Dll Unlinking Technique   \n",
       "1                         How to prevent employees from using unauthorized web tools?   \n",
       "2  Teams call pop up window blocked by reminders/calendar entries on top right corner   \n",
       "3                                   Disable middle mouse button drag to other desktop   \n",
       "4                                                     Playing 4k videos on 2k display   \n",
       "\n",
       "                                                                                                                                                                                                                                                                                                                                                                                                                                                                                                                                                                                                                                                                                                                                                                                                                                                                                                                         text  \n",
       "0                                                                                                                                                                                                                                                                                                                                                                                                                                                                                                                                                                                                                                                                                                                                                                                                                                                                                                                              \n",
       "1  I work as an IT manager for a business. Some time ago, a group of my colleagues decided to use a web productivity tool, created accounts using their work emails, and started introducing data.\\n\\nI had no knowledge they had been using such a tool at all. I did not even know it existed.\\n\\nToday, I received an email from my boss asking why an ex-employee still had access to the data in such a web platform, as their account hadn't been deactivated. Needless to say, I don't have access to revoke their account or anything.\\n\\nHow can I prevent them from registering on another unauthorized webpage?\\n\\nI feel like a firewall blacklist would be useless since I would have to be constantly researching and updating it with new tools, and I can't make a whitelist since my company uses a ton of different pages for intense web research.\\n\\nAny help or advice would be appreciated.\\n\\n&#x200B;  \n",
       "2                                                                                                                                                                                                                                                                                                                                                                                                                                                                                                                                                                                      Hi\\n\\nDo you know this issue that when I have reminders or calendar alarms set to stick to the top right corner, that they then block the notification window for incoming Teams calls.\\n\\nDoes someone know if there is a setting for having the teams call pop up in on another location on the screen or knows another work around?  \n",
       "3                                                                                                                                                                                                                     So I have been using windows for a while and now I am stumped. The middle mouse button of my logi mouse has the following functionailty: On drage change desktop, on click show all windows. That's nice and all, but I can't use fusion 360 because the dragging functionality is the middle mouse button but that just changes the desktop. How can I disable that?\\n\\n&#x200B;\\n\\nSo I found this, but there is no button selected. If I select the secondary mouse button for example, it will open mission control on both right click and middle mouse button:\\n\\nhttps://preview.redd.it/bmqnrpw0m86c1.png?width=476&format=png&auto=webp&s=97ae662fcca43bf146537393fc6a13705a0a9351\\n\\n&#x200B;  \n",
       "4                                                                                                                                                                                                                                                                                                                                                                                                                                                                                                                                                                                           Hello guys does playing 4k content on a 2k display has any benefit? For example while playing YouTube videos I set 1440p resolution on my 2k laptop and 2k smartphone despite having a option of selecting 2160p option. So i wanted to ask if i get better video quality if i select 2160p option while playing on a 2k display?  "
      ]
     },
     "execution_count": 26,
     "metadata": {},
     "output_type": "execute_result"
    }
   ],
   "source": [
    "df_reddit['date'] = pd.to_datetime(df_reddit['date']).dt.strftime('%Y-%m-%d')\n",
    "df_reddit.head()"
   ]
  },
  {
   "cell_type": "code",
   "execution_count": 27,
   "id": "af60db77",
   "metadata": {},
   "outputs": [],
   "source": [
    "df_reddit.to_csv(r'C:\\Users\\leona\\OneDrive\\Desktop\\Tesi\\Pipeline\\Datasets\\Pipeline\\SocialNetworksPosts\\Reddit\\PostDataCleaning\\RedditPosts.csv')"
   ]
  },
  {
   "cell_type": "markdown",
   "id": "04a7a902",
   "metadata": {},
   "source": [
    "#### Find a Match"
   ]
  },
  {
   "cell_type": "markdown",
   "id": "3c8432e1",
   "metadata": {},
   "source": [
    "##### Specify a Data of Analysis from a *starting_date* to an *ending_date*"
   ]
  },
  {
   "cell_type": "code",
   "execution_count": 28,
   "id": "431a4754",
   "metadata": {},
   "outputs": [],
   "source": [
    "start_date = datetime(2023, 7, 1)\n",
    "end_date   = datetime(2023, 7, 31)"
   ]
  },
  {
   "cell_type": "code",
   "execution_count": 29,
   "id": "c9fd9e94",
   "metadata": {},
   "outputs": [
    {
     "data": {
      "text/html": [
       "<div>\n",
       "<style scoped>\n",
       "    .dataframe tbody tr th:only-of-type {\n",
       "        vertical-align: middle;\n",
       "    }\n",
       "\n",
       "    .dataframe tbody tr th {\n",
       "        vertical-align: top;\n",
       "    }\n",
       "\n",
       "    .dataframe thead th {\n",
       "        text-align: right;\n",
       "    }\n",
       "</style>\n",
       "<table border=\"1\" class=\"dataframe\">\n",
       "  <thead>\n",
       "    <tr style=\"text-align: right;\">\n",
       "      <th></th>\n",
       "      <th>index</th>\n",
       "      <th>subreddit</th>\n",
       "      <th>username</th>\n",
       "      <th>date</th>\n",
       "      <th>title</th>\n",
       "      <th>text</th>\n",
       "    </tr>\n",
       "  </thead>\n",
       "  <tbody>\n",
       "    <tr>\n",
       "      <th>0</th>\n",
       "      <td>352604</td>\n",
       "      <td>windows</td>\n",
       "      <td>t3_10qd06w</td>\n",
       "      <td>2023-01-31</td>\n",
       "      <td>I need to resintall windows. Help would be appreciated</td>\n",
       "      <td>So my SSD, where my OS is installed, is coming to its end, not surprisingly however, and I need to reinstall windows on a new SSD. My question is, can I save the entire system as it is, including games etc, on the OneDrive or do I need to \"backup\" the PC. I am honestly somewhat new to backing up my PC and am oblivious to what that actually means. Basically I want to, if it is at all possible, back up everything including games, the wallpaper that currently sits on my screen, settings, etc.... but I dont know how to do that. Anyone care to provide their personal experiences or maybe some anecdotal experiences? Thanks for any help and time that you have provided in finding my answer for such a tarnished as I. \\*\\*\\*been playing Elden Ring as of late sooo yea, let me nerd bro\\*\\*\\*</td>\n",
       "    </tr>\n",
       "    <tr>\n",
       "      <th>1</th>\n",
       "      <td>352606</td>\n",
       "      <td>cybersecurity_help</td>\n",
       "      <td>t3_10qd2wn</td>\n",
       "      <td>2023-01-31</td>\n",
       "      <td>Searching for an All-In-One Security</td>\n",
       "      <td>Is there a security service that offers a Firewall, Antivirus and a VPN?\\n\\nIs it redundant to have all three? \\n\\nMy understanding is that they all function differently and provide different types of protection. However it seems most products I find offer only 2 out of 3.</td>\n",
       "    </tr>\n",
       "    <tr>\n",
       "      <th>2</th>\n",
       "      <td>352614</td>\n",
       "      <td>AndroidQuestions</td>\n",
       "      <td>t3_10qd8qf</td>\n",
       "      <td>2023-01-31</td>\n",
       "      <td>is there a way to control Audible app on my phone using my Samsung Smartwatch?</td>\n",
       "      <td>I  would really like the option to control the Audible app using my watch instead of pulling out my phone when I want to rewind or take a text note using my keyboard's voice to text feature. \\n             \\n          \\nwould make using it at work better since I dont have to pull out my phone and can keep working and listening without anybody noticing.           \\n                  \\nfeel like there is not much I can do with my watch honestly other than answering phone calls and turning off alarms and stuff like that. But to be able to control my phone's apps would be cool.</td>\n",
       "    </tr>\n",
       "    <tr>\n",
       "      <th>3</th>\n",
       "      <td>352630</td>\n",
       "      <td>androidapps</td>\n",
       "      <td>t3_10qd9kp</td>\n",
       "      <td>2023-01-31</td>\n",
       "      <td>is there a way to control Audible app on my phone using my Samsung Smartwatch?</td>\n",
       "      <td>I  would really like the option to control the Audible app using my watch instead of pulling out my phone when I want to rewind or take a text note using my keyboard's voice to text feature. \\n             \\n          \\nwould make using it at work better since I dont have to pull out my phone and can keep working and listening without anybody noticing.           \\n                  \\nfeel like there is not much I can do with my watch honestly other than answering phone calls and turning off alarms and stuff like that. But to be able to control my phone's apps would be cool.</td>\n",
       "    </tr>\n",
       "    <tr>\n",
       "      <th>4</th>\n",
       "      <td>352631</td>\n",
       "      <td>androidapps</td>\n",
       "      <td>t3_10qczkq</td>\n",
       "      <td>2023-01-31</td>\n",
       "      <td>Please, need help with WhatsApp incoming group calls not ringing.</td>\n",
       "      <td>Incoming group call initiates only single  notification tone (similar to message notification) but not ringtone, so phone does not actually ring. As a result I have a lot of missed group calls. \\nSame happens on other participants phones in the group when we call each other. All phones behave similarly, it's not only mine ... Call from and to single contact makes the phone ring here as well as on the other end when we make whatsapp calls. \\n\\nAnother detail is that when I make a call to the group there is no ringing happening on my end while I am waiting for another party to answer.\\nSo, please, can anyone advise how can I asign ringtones to whatsapp groups, if it is possible at all!  Thanks.</td>\n",
       "    </tr>\n",
       "    <tr>\n",
       "      <th>...</th>\n",
       "      <td>...</td>\n",
       "      <td>...</td>\n",
       "      <td>...</td>\n",
       "      <td>...</td>\n",
       "      <td>...</td>\n",
       "      <td>...</td>\n",
       "    </tr>\n",
       "    <tr>\n",
       "      <th>34426</th>\n",
       "      <td>387066</td>\n",
       "      <td>pcmasterrace</td>\n",
       "      <td>t3_1006rmg</td>\n",
       "      <td>2023-01-01</td>\n",
       "      <td>Build Almost Done</td>\n",
       "      <td>Is this a good build? Any recommendations?\\n\\nBUILD - https://pcpartpicker.com/list/FL6hwc</td>\n",
       "    </tr>\n",
       "    <tr>\n",
       "      <th>34427</th>\n",
       "      <td>387067</td>\n",
       "      <td>pcmasterrace</td>\n",
       "      <td>t3_1006qur</td>\n",
       "      <td>2023-01-01</td>\n",
       "      <td>problem arming pc, I have a Mother a320m-k, ryzen 4650g, and doesnt work the video, the motherboard have Orange leds. Its my first time arming</td>\n",
       "      <td></td>\n",
       "    </tr>\n",
       "    <tr>\n",
       "      <th>34428</th>\n",
       "      <td>387068</td>\n",
       "      <td>pcmasterrace</td>\n",
       "      <td>t3_1006pzy</td>\n",
       "      <td>2023-01-01</td>\n",
       "      <td>PCMR Truckers</td>\n",
       "      <td>Those that bring their rigs with them in the truck: \\n\\nHow does the computer fare? \\nIs there any orientation it works better with when you go through the areas with poor maintenance? \\nAnd lastly: if you liquid cool, have you noticed any issues over time?\\n\\nI'm building a new rig here soon and am curious if anything is to note so I don't make a large $$$$ mistake</td>\n",
       "    </tr>\n",
       "    <tr>\n",
       "      <th>34429</th>\n",
       "      <td>387069</td>\n",
       "      <td>pcmasterrace</td>\n",
       "      <td>t3_1006orx</td>\n",
       "      <td>2023-01-01</td>\n",
       "      <td>New case for Christmas, also spray painted my GPU to match</td>\n",
       "      <td>Got the Hyte y60 as a gift, what a great case to build in. Running a 5600x with a 3080. The tree probably blocks some airflow but I'll take that tradeoff.</td>\n",
       "    </tr>\n",
       "    <tr>\n",
       "      <th>34430</th>\n",
       "      <td>387070</td>\n",
       "      <td>linuxquestions</td>\n",
       "      <td>t3_1006n20</td>\n",
       "      <td>2023-01-01</td>\n",
       "      <td>Ignore \"not enough space to copy these file\" errors in KDE Plasma/Dolphin?</td>\n",
       "      <td>When copying files with Dolphin (KDE Plasma's file manager), if there is not enough free space to copy the incoming files entirely, the file manager refuses to copy even a single file. However, a lot of the time I'll be skipping name conflicts or overwriting existing files with new ones, so either I don't need as much space than it seems to the system, or space is freed up as I copy. Also, KDE seems to have trouble accurately determining the free space on drives on a network file server that I have mounted with SSHFS, so it will say there is not enough space even when there is. \\n\\nIs there a way to get Dolphin to ignore this error and attempt to copy the files anyway? Like the way the cp command does it, where it doesn't really care how much space is on the drive, and will only throw an error if it actually fills up before it's done copying. Or better yet, is there a way to get Dolphin to still warn me about potential space issues, but have the option to ignore it and attempt to c...</td>\n",
       "    </tr>\n",
       "  </tbody>\n",
       "</table>\n",
       "<p>34431 rows × 6 columns</p>\n",
       "</div>"
      ],
      "text/plain": [
       "        index           subreddit    username        date  \\\n",
       "0      352604             windows  t3_10qd06w  2023-01-31   \n",
       "1      352606  cybersecurity_help  t3_10qd2wn  2023-01-31   \n",
       "2      352614    AndroidQuestions  t3_10qd8qf  2023-01-31   \n",
       "3      352630         androidapps  t3_10qd9kp  2023-01-31   \n",
       "4      352631         androidapps  t3_10qczkq  2023-01-31   \n",
       "...       ...                 ...         ...         ...   \n",
       "34426  387066        pcmasterrace  t3_1006rmg  2023-01-01   \n",
       "34427  387067        pcmasterrace  t3_1006qur  2023-01-01   \n",
       "34428  387068        pcmasterrace  t3_1006pzy  2023-01-01   \n",
       "34429  387069        pcmasterrace  t3_1006orx  2023-01-01   \n",
       "34430  387070      linuxquestions  t3_1006n20  2023-01-01   \n",
       "\n",
       "                                                                                                                                                title  \\\n",
       "0                                                                                              I need to resintall windows. Help would be appreciated   \n",
       "1                                                                                                                Searching for an All-In-One Security   \n",
       "2                                                                      is there a way to control Audible app on my phone using my Samsung Smartwatch?   \n",
       "3                                                                      is there a way to control Audible app on my phone using my Samsung Smartwatch?   \n",
       "4                                                                                   Please, need help with WhatsApp incoming group calls not ringing.   \n",
       "...                                                                                                                                               ...   \n",
       "34426                                                                                                                               Build Almost Done   \n",
       "34427  problem arming pc, I have a Mother a320m-k, ryzen 4650g, and doesnt work the video, the motherboard have Orange leds. Its my first time arming   \n",
       "34428                                                                                                                                   PCMR Truckers   \n",
       "34429                                                                                      New case for Christmas, also spray painted my GPU to match   \n",
       "34430                                                                      Ignore \"not enough space to copy these file\" errors in KDE Plasma/Dolphin?   \n",
       "\n",
       "                                                                                                                                                                                                                                                                                                                                                                                                                                                                                                                                                                                                                                                                                                                                                                                                                                                                                                                                                                                                                                          text  \n",
       "0                                                                                                                                                                                                                        So my SSD, where my OS is installed, is coming to its end, not surprisingly however, and I need to reinstall windows on a new SSD. My question is, can I save the entire system as it is, including games etc, on the OneDrive or do I need to \"backup\" the PC. I am honestly somewhat new to backing up my PC and am oblivious to what that actually means. Basically I want to, if it is at all possible, back up everything including games, the wallpaper that currently sits on my screen, settings, etc.... but I dont know how to do that. Anyone care to provide their personal experiences or maybe some anecdotal experiences? Thanks for any help and time that you have provided in finding my answer for such a tarnished as I. \\*\\*\\*been playing Elden Ring as of late sooo yea, let me nerd bro\\*\\*\\*  \n",
       "1                                                                                                                                                                                                                                                                                                                                                                                                                                                                                                                                                                                                                                                                                                                                                            Is there a security service that offers a Firewall, Antivirus and a VPN?\\n\\nIs it redundant to have all three? \\n\\nMy understanding is that they all function differently and provide different types of protection. However it seems most products I find offer only 2 out of 3.  \n",
       "2                                                                                                                                                                                                                                                                                                                                                                                                                                         I  would really like the option to control the Audible app using my watch instead of pulling out my phone when I want to rewind or take a text note using my keyboard's voice to text feature. \\n             \\n          \\nwould make using it at work better since I dont have to pull out my phone and can keep working and listening without anybody noticing.           \\n                  \\nfeel like there is not much I can do with my watch honestly other than answering phone calls and turning off alarms and stuff like that. But to be able to control my phone's apps would be cool.  \n",
       "3                                                                                                                                                                                                                                                                                                                                                                                                                                         I  would really like the option to control the Audible app using my watch instead of pulling out my phone when I want to rewind or take a text note using my keyboard's voice to text feature. \\n             \\n          \\nwould make using it at work better since I dont have to pull out my phone and can keep working and listening without anybody noticing.           \\n                  \\nfeel like there is not much I can do with my watch honestly other than answering phone calls and turning off alarms and stuff like that. But to be able to control my phone's apps would be cool.  \n",
       "4                                                                                                                                                                                                                                                                                                                Incoming group call initiates only single  notification tone (similar to message notification) but not ringtone, so phone does not actually ring. As a result I have a lot of missed group calls. \\nSame happens on other participants phones in the group when we call each other. All phones behave similarly, it's not only mine ... Call from and to single contact makes the phone ring here as well as on the other end when we make whatsapp calls. \\n\\nAnother detail is that when I make a call to the group there is no ringing happening on my end while I am waiting for another party to answer.\\nSo, please, can anyone advise how can I asign ringtones to whatsapp groups, if it is possible at all!  Thanks.  \n",
       "...                                                                                                                                                                                                                                                                                                                                                                                                                                                                                                                                                                                                                                                                                                                                                                                                                                                                                                                                                                                                                                        ...  \n",
       "34426                                                                                                                                                                                                                                                                                                                                                                                                                                                                                                                                                                                                                                                                                                                                                                                                                                                                                                                                               Is this a good build? Any recommendations?\\n\\nBUILD - https://pcpartpicker.com/list/FL6hwc  \n",
       "34427                                                                                                                                                                                                                                                                                                                                                                                                                                                                                                                                                                                                                                                                                                                                                                                                                                                                                                                                                                                                                                           \n",
       "34428                                                                                                                                                                                                                                                                                                                                                                                                                                                                                                                                                                                                                                                         Those that bring their rigs with them in the truck: \\n\\nHow does the computer fare? \\nIs there any orientation it works better with when you go through the areas with poor maintenance? \\nAnd lastly: if you liquid cool, have you noticed any issues over time?\\n\\nI'm building a new rig here soon and am curious if anything is to note so I don't make a large $$$$ mistake  \n",
       "34429                                                                                                                                                                                                                                                                                                                                                                                                                                                                                                                                                                                                                                                                                                                                                                                                                                                                               Got the Hyte y60 as a gift, what a great case to build in. Running a 5600x with a 3080. The tree probably blocks some airflow but I'll take that tradeoff.  \n",
       "34430  When copying files with Dolphin (KDE Plasma's file manager), if there is not enough free space to copy the incoming files entirely, the file manager refuses to copy even a single file. However, a lot of the time I'll be skipping name conflicts or overwriting existing files with new ones, so either I don't need as much space than it seems to the system, or space is freed up as I copy. Also, KDE seems to have trouble accurately determining the free space on drives on a network file server that I have mounted with SSHFS, so it will say there is not enough space even when there is. \\n\\nIs there a way to get Dolphin to ignore this error and attempt to copy the files anyway? Like the way the cp command does it, where it doesn't really care how much space is on the drive, and will only throw an error if it actually fills up before it's done copying. Or better yet, is there a way to get Dolphin to still warn me about potential space issues, but have the option to ignore it and attempt to c...  \n",
       "\n",
       "[34431 rows x 6 columns]"
      ]
     },
     "execution_count": 29,
     "metadata": {},
     "output_type": "execute_result"
    }
   ],
   "source": [
    "selected_rows = df_reddit[(pd.to_datetime(df_reddit['date']) >= start_date) & (pd.to_datetime(df_reddit['date']) <= end_date)].reset_index()\n",
    "selected_rows"
   ]
  },
  {
   "cell_type": "code",
   "execution_count": 30,
   "id": "e6cd262f",
   "metadata": {},
   "outputs": [
    {
     "name": "stdout",
     "output_type": "stream",
     "text": [
      "Requirement already satisfied: tqdm in c:\\users\\leona\\anaconda3\\lib\\site-packages (4.65.0)Note: you may need to restart the kernel to use updated packages.\n",
      "\n",
      "Requirement already satisfied: colorama in c:\\users\\leona\\anaconda3\\lib\\site-packages (from tqdm) (0.4.6)\n"
     ]
    }
   ],
   "source": [
    "pip install tqdm"
   ]
  },
  {
   "cell_type": "code",
   "execution_count": 31,
   "id": "37233b8e",
   "metadata": {},
   "outputs": [
    {
     "name": "stdout",
     "output_type": "stream",
     "text": [
      "                 Testo_A         Testo_B  Match\n",
      "0      La casa è grande.  La casa grande   True\n",
      "1  Il cane corre veloce.  Il cane veloce   True\n"
     ]
    },
    {
     "name": "stderr",
     "output_type": "stream",
     "text": [
      "[nltk_data] Downloading package punkt to\n",
      "[nltk_data]     C:\\Users\\leona\\AppData\\Roaming\\nltk_data...\n",
      "[nltk_data]   Package punkt is already up-to-date!\n",
      "[nltk_data] Downloading package stopwords to\n",
      "[nltk_data]     C:\\Users\\leona\\AppData\\Roaming\\nltk_data...\n",
      "[nltk_data]   Package stopwords is already up-to-date!\n"
     ]
    }
   ],
   "source": [
    "import pandas as pd\n",
    "from nltk.stem import PorterStemmer\n",
    "from nltk.tokenize import word_tokenize\n",
    "from nltk.corpus import stopwords\n",
    "import nltk\n",
    "nltk.download('punkt')\n",
    "nltk.download('stopwords')\n",
    "\n",
    "def stemming_and_matching(df_A, df_B):\n",
    "    # Inizializzazione del PorterStemmer\n",
    "    stemmer = PorterStemmer()\n",
    "\n",
    "    # Funzione per eseguire stemming e lemmatization su una riga di testo\n",
    "    def process_text(text):\n",
    "        # Tokenizzazione\n",
    "        tokens = word_tokenize(text.lower())\n",
    "        # Rimozione delle stop words\n",
    "        stop_words = set(stopwords.words('english'))\n",
    "        filtered_tokens = [token for token in tokens if token.isalnum() and token not in stop_words]\n",
    "        # Stemming\n",
    "        stemmed_tokens = [stemmer.stem(token) for token in filtered_tokens]\n",
    "        return stemmed_tokens\n",
    "\n",
    "    # Applicare la funzione a ciascuna riga dei dataframe A e B\n",
    "    df_A['lemmatized_tokens'] = df_A['testo'].apply(process_text)\n",
    "    df_B['lemmatized_tokens'] = df_B['testo'].apply(process_text)\n",
    "\n",
    "    # Creare una lista per i risultati\n",
    "    risultati_list = []\n",
    "\n",
    "    # Calcolare la corrispondenza per ogni coppia di righe tra B e A\n",
    "    for idx_B, row_B in df_B.iterrows():\n",
    "        for idx_A, row_A in df_A.iterrows():\n",
    "            match = all(token in row_A['lemmatized_tokens'] for token in row_B['lemmatized_tokens'])\n",
    "            if match:\n",
    "                risultati_list.append({'Testo_A': row_A['testo'], 'Testo_B': row_B['testo'], 'Match': match})\n",
    "\n",
    "    # Convertire la lista di risultati in un DataFrame\n",
    "    risultati_df = pd.DataFrame(risultati_list)\n",
    "    return risultati_df\n",
    "\n",
    "# Esempio di utilizzo\n",
    "data_A = {'testo': [\"La casa è grande.\", \"Il cane corre veloce.\", \"Gli uccelli volano alto.\"]}\n",
    "data_B = {'testo': [\"La casa grande\", \"Il cane veloce\", \"uccelli alti\"]}\n",
    "df_A = pd.DataFrame(data_A)\n",
    "df_B = pd.DataFrame(data_B)\n",
    "\n",
    "risultato = stemming_and_matching(df_A, df_B)\n",
    "print(risultato)\n"
   ]
  },
  {
   "cell_type": "code",
   "execution_count": 32,
   "id": "5dfd0d80",
   "metadata": {},
   "outputs": [],
   "source": [
    "def stemming_and_matching(words_list, posts_df):\n",
    "    \n",
    "    combined_texts = posts_df['title'] + '. ' + posts_df['text']\n",
    "\n",
    "    stemmer = PorterStemmer()\n",
    "\n",
    "    def process_text(text):\n",
    "        # Tokenization\n",
    "        tokens = word_tokenize(text.lower())\n",
    "        # Delete stop words\n",
    "        stop_words = set(stopwords.words('english'))\n",
    "        filtered_tokens = [token for token in tokens if token.isalnum() and token not in stop_words]\n",
    "        # Stemming\n",
    "        stemmed_tokens = [stemmer.stem(token) for token in filtered_tokens]\n",
    "        return stemmed_tokens\n",
    "    \n",
    "    df_A = pd.DataFrame()\n",
    "    df_B = pd.DataFrame()\n",
    "    \n",
    "    df_A['text'] = combined_texts\n",
    "    df_B['text'] = words_list\n",
    "\n",
    "    df_A['lemmatized_tokens'] = df_A['text'].apply(process_text)\n",
    "    df_B['lemmatized_tokens'] = df_B['text'].apply(process_text)\n",
    "\n",
    "    risultati_list = []\n",
    "\n",
    "    for idx_B, row_B in tqdm(df_B.iterrows(), desc=\"Processing posts\"):\n",
    "        for idx_A, row_A in tqdm(df_A.iterrows(), desc=\"Processing posts\"):\n",
    "            match = all(token in row_A['lemmatized_tokens'] for token in row_B['lemmatized_tokens'])\n",
    "            if match:\n",
    "                risultati_list.append({'full_text': row_A['text'], 'keyword': row_B['text']})\n",
    "\n",
    "    # Convertire la lista di risultati in un DataFrame\n",
    "    risultati_df = pd.DataFrame(risultati_list)\n",
    "    return risultati_df"
   ]
  },
  {
   "cell_type": "code",
   "execution_count": 70,
   "id": "426364a1",
   "metadata": {},
   "outputs": [],
   "source": [
    "def search_lemma_word(title, text, word, post_index, nlp, doc):\n",
    "    analyzed_word = nlp(word)\n",
    "    word_lemma = analyzed_word[0].lemma_\n",
    "    \n",
    "    for token in doc:\n",
    "        if token.text.lower() == word.lower() or token.lemma_.lower() == word_lemma.lower():\n",
    "            return pd.DataFrame({'post_index': [post_index], 'word': [word]})\n",
    "    \n",
    "    return pd.DataFrame()\n",
    "\n",
    "def search_entire_word( text, word, post_index):\n",
    "       \n",
    "    if word.lower() in text.lower() :\n",
    "\n",
    "        return pd.DataFrame({'full_text': [text], 'keyword': [word]})\n",
    "    \n",
    "    return pd.DataFrame()\n",
    "\n",
    "from tqdm import tqdm\n",
    "\n",
    "def loop_search(words_list, posts_df):\n",
    "    nlp = spacy.load(\"en_core_web_sm\")\n",
    "    combined_texts = posts_df['title'] + '. ' + posts_df['text']\n",
    "    list_nlp = [nlp(text) for text in combined_texts]\n",
    "    result_dfs = []\n",
    "\n",
    "    for word in tqdm(words_list, desc=\"Processing words\"):\n",
    "\n",
    "        print(f'Now: {word} ')\n",
    "\n",
    "        if(len(word.split()) == 1):\n",
    "            word_analyzed = nlp(word)\n",
    "            word_lemma = word_analyzed[0].lemma_\n",
    "            for j in tqdm(range(len(posts_df)), desc=\"Processing posts\"):\n",
    "                result_dfs.append(search_lemma_word(posts_df.at[j, 'title'], combined_texts[j], word_lemma, j, nlp, list_nlp[j]))\n",
    "        \n",
    "        else:\n",
    "            for j in tqdm(range(len(posts_df)), desc=\"Processing posts\"):\n",
    "                result_dfs.append(search_entire_word(combined_texts[j], word, j))\n",
    "\n",
    "    result_df = pd.concat(result_dfs, ignore_index=True)\n",
    "    return result_df\n",
    "\n",
    "def malware_search(words_list, posts_df):\n",
    "    nlp = spacy.load(\"en_core_web_sm\")\n",
    "    combined_texts = posts_df['title'] + '. ' + posts_df['text']\n",
    "    result_dfs = []\n",
    "\n",
    "    for word in tqdm(words_list, desc=\"Processing words\"):\n",
    "\n",
    "        print(f'Now: {word} ')\n",
    "\n",
    "        for j in tqdm(range(len(posts_df)), desc=\"Processing posts\"):\n",
    "            result_dfs.append(search_entire_word(combined_texts[j], word, j))\n",
    "\n",
    "    result_df = pd.concat(result_dfs, ignore_index=True)\n",
    "    return result_df"
   ]
  },
  {
   "cell_type": "markdown",
   "id": "bb71e409",
   "metadata": {},
   "source": [
    "### Behaviours searching"
   ]
  },
  {
   "cell_type": "code",
   "execution_count": 34,
   "id": "3a8ccf67",
   "metadata": {},
   "outputs": [],
   "source": [
    "l = len(all_behaviours_name_list)\n",
    "\n",
    "index = l // 3\n",
    "\n",
    "first_half = all_behaviours_name_list[:index]\n",
    "third_half = all_behaviours_name_list[index:index*2]\n",
    "second_half = all_behaviours_name_list[index*2:]"
   ]
  },
  {
   "cell_type": "code",
   "execution_count": 35,
   "id": "41c578b6",
   "metadata": {},
   "outputs": [
    {
     "name": "stderr",
     "output_type": "stream",
     "text": [
      "Processing posts: 34431it [00:03, 10832.65it/s]\n",
      "Processing posts: 34431it [00:03, 10678.38it/s]\n",
      "Processing posts: 34431it [00:03, 9734.78it/s]\n",
      "Processing posts: 34431it [00:03, 10438.48it/s]\n",
      "Processing posts: 34431it [00:03, 10665.78it/s]\n",
      "Processing posts: 34431it [00:03, 10828.36it/s]\n",
      "Processing posts: 34431it [00:03, 10872.34it/s]\n",
      "Processing posts: 34431it [00:03, 9409.31it/s]\n",
      "Processing posts: 34431it [00:03, 10236.76it/s]\n",
      "Processing posts: 34431it [00:03, 10551.40it/s]\n",
      "Processing posts: 34431it [00:03, 10679.70it/s]\n",
      "Processing posts: 34431it [00:03, 9847.63it/s]\n",
      "Processing posts: 34431it [00:03, 9564.43it/s] \n",
      "Processing posts: 34431it [00:03, 10620.72it/s]\n",
      "Processing posts: 34431it [00:03, 9978.56it/s]\n",
      "Processing posts: 34431it [00:03, 10150.08it/s]\n",
      "Processing posts: 34431it [00:03, 9533.02it/s]\n",
      "Processing posts: 34431it [00:03, 10077.38it/s]\n",
      "Processing posts: 34431it [00:03, 9964.53it/s]\n",
      "Processing posts: 34431it [00:03, 10287.00it/s]\n",
      "Processing posts: 34431it [00:03, 10208.57it/s]\n",
      "Processing posts: 34431it [00:03, 9361.62it/s]\n",
      "Processing posts: 34431it [00:03, 10631.74it/s]\n",
      "Processing posts: 34431it [00:03, 10531.05it/s]\n",
      "Processing posts: 34431it [00:03, 10681.11it/s]\n",
      "Processing posts: 34431it [00:03, 9996.48it/s]\n",
      "Processing posts: 34431it [00:03, 9556.17it/s]\n",
      "Processing posts: 34431it [00:03, 10660.86it/s]\n",
      "Processing posts: 34431it [00:03, 10538.78it/s]\n",
      "Processing posts: 34431it [00:03, 10503.00it/s]\n",
      "Processing posts: 34431it [00:03, 9552.71it/s]\n",
      "Processing posts: 34431it [00:03, 10258.49it/s]\n",
      "Processing posts: 34431it [00:03, 10514.96it/s]\n",
      "Processing posts: 34431it [00:03, 10732.17it/s]\n",
      "Processing posts: 34431it [00:03, 10736.06it/s]\n",
      "Processing posts: 34431it [00:03, 9753.70it/s]\n",
      "Processing posts: 34431it [00:03, 9969.87it/s] \n",
      "Processing posts: 34431it [00:03, 10340.01it/s]\n",
      "Processing posts: 34431it [00:03, 10559.87it/s]\n",
      "Processing posts: 34431it [00:03, 9754.47it/s]\n",
      "Processing posts: 34431it [00:03, 9429.78it/s]\n",
      "Processing posts: 34431it [00:03, 10607.84it/s]\n",
      "Processing posts: 34431it [00:03, 10630.76it/s]\n",
      "Processing posts: 34431it [00:03, 8792.45it/s]\n",
      "Processing posts: 34431it [00:03, 10026.99it/s]\n",
      "Processing posts: 34431it [00:03, 9957.38it/s] \n",
      "Processing posts: 34431it [00:03, 10904.25it/s]\n",
      "Processing posts: 34431it [00:03, 10795.65it/s]\n",
      "Processing posts: 34431it [00:03, 10630.15it/s]\n",
      "Processing posts: 34431it [00:03, 9926.40it/s]\n",
      "Processing posts: 34431it [00:03, 10287.84it/s]\n",
      "Processing posts: 34431it [00:03, 10743.28it/s]\n",
      "Processing posts: 34431it [00:03, 10585.65it/s]\n",
      "Processing posts: 34431it [00:03, 10863.89it/s]\n",
      "Processing posts: 34431it [00:03, 10048.46it/s]\n",
      "Processing posts: 34431it [00:03, 10450.88it/s]\n",
      "Processing posts: 34431it [00:03, 10363.94it/s]\n",
      "Processing posts: 34431it [00:03, 10515.50it/s]\n",
      "Processing posts: 34431it [00:03, 10920.81it/s]\n",
      "Processing posts: 34431it [00:03, 10307.08it/s]\n",
      "Processing posts: 34431it [00:03, 10986.09it/s]\n",
      "Processing posts: 34431it [00:03, 11056.40it/s]\n",
      "Processing posts: 34431it [00:03, 11150.97it/s]\n",
      "Processing posts: 34431it [00:03, 11078.02it/s]\n",
      "Processing posts: 34431it [00:03, 10222.89it/s]\n",
      "Processing posts: 34431it [00:03, 10780.93it/s]\n",
      "Processing posts: 34431it [00:03, 10969.41it/s]\n",
      "Processing posts: 34431it [00:03, 11134.17it/s]\n",
      "Processing posts: 34431it [00:03, 11195.55it/s]\n",
      "Processing posts: 34431it [00:03, 10028.79it/s]\n",
      "Processing posts: 34431it [00:03, 10884.50it/s]\n",
      "Processing posts: 34431it [00:03, 11181.81it/s]\n",
      "Processing posts: 34431it [00:03, 11093.21it/s]\n",
      "Processing posts: 34431it [00:03, 10772.16it/s]\n",
      "Processing posts: 34431it [00:03, 9884.49it/s] \n",
      "Processing posts: 34431it [00:03, 11261.50it/s]\n",
      "Processing posts: 34431it [00:02, 11599.66it/s]\n",
      "Processing posts: 34431it [00:03, 11256.46it/s]\n",
      "Processing posts: 34431it [00:03, 11204.01it/s]\n",
      "Processing posts: 34431it [00:03, 9966.46it/s]\n",
      "Processing posts: 34431it [00:03, 10677.60it/s]\n",
      "Processing posts: 34431it [00:03, 10858.38it/s]\n",
      "Processing posts: 34431it [00:03, 11305.28it/s]\n",
      "Processing posts: 34431it [00:03, 10475.42it/s]\n",
      "Processing posts: 34431it [00:03, 9385.89it/s]\n",
      "Processing posts: 34431it [00:03, 10459.83it/s]\n",
      "Processing posts: 34431it [00:03, 10468.28it/s]\n",
      "Processing posts: 34431it [00:03, 10850.27it/s]\n",
      "Processing posts: 34431it [00:03, 10076.51it/s]\n",
      "Processing posts: 34431it [00:03, 10110.14it/s]\n",
      "Processing posts: 34431it [00:02, 11669.34it/s]\n",
      "Processing posts: 34431it [00:02, 12136.32it/s]\n",
      "Processing posts: 34431it [00:03, 11394.27it/s]\n",
      "Processing posts: 34431it [00:02, 12591.13it/s]\n",
      "Processing posts: 34431it [00:03, 10845.41it/s]\n",
      "Processing posts: 34431it [00:02, 12219.61it/s]\n",
      "Processing posts: 34431it [00:02, 12355.11it/s]\n",
      "Processing posts: 34431it [00:02, 11914.30it/s]\n",
      "Processing posts: 34431it [00:02, 11947.51it/s]\n",
      "Processing posts: 34431it [00:02, 12821.37it/s]\n",
      "Processing posts: 34431it [00:02, 12980.63it/s]\n",
      "Processing posts: 34431it [00:02, 13855.16it/s]\n",
      "Processing posts: 34431it [00:02, 13261.90it/s]\n",
      "Processing posts: 34431it [00:02, 13490.82it/s]\n",
      "Processing posts: 34431it [00:02, 14470.95it/s]\n",
      "Processing posts: 34431it [00:02, 12764.90it/s]\n",
      "Processing posts: 34431it [00:02, 12467.30it/s]\n",
      "Processing posts: 107it [05:45,  3.23s/it]\n"
     ]
    }
   ],
   "source": [
    "matches_behaviours_1 = stemming_and_matching( first_half , selected_rows)\n"
   ]
  },
  {
   "cell_type": "code",
   "execution_count": 36,
   "id": "3bf3f051",
   "metadata": {},
   "outputs": [],
   "source": [
    "matches_behaviours_1.to_csv(r'C:\\Users\\leona\\OneDrive\\Desktop\\Tesi\\Pipeline\\Datasets\\Pipeline\\SocialNetworksPosts\\Reddit\\Months\\07\\one_behaviours.csv')"
   ]
  },
  {
   "cell_type": "code",
   "execution_count": 37,
   "id": "0cb63bc5",
   "metadata": {},
   "outputs": [
    {
     "name": "stderr",
     "output_type": "stream",
     "text": [
      "Processing posts: 34431it [00:03, 10090.03it/s]\n",
      "Processing posts: 34431it [00:03, 9817.37it/s]\n",
      "Processing posts: 34431it [00:03, 9408.25it/s]\n",
      "Processing posts: 34431it [00:03, 10289.32it/s]\n",
      "Processing posts: 34431it [00:03, 10083.82it/s]\n",
      "Processing posts: 34431it [00:03, 10496.19it/s]\n",
      "Processing posts: 34431it [00:03, 9857.61it/s]\n",
      "Processing posts: 34431it [00:03, 9613.86it/s] \n",
      "Processing posts: 34431it [00:03, 10399.62it/s]\n",
      "Processing posts: 34431it [00:03, 10659.42it/s]\n",
      "Processing posts: 34431it [00:03, 10100.39it/s]\n",
      "Processing posts: 34431it [00:03, 9320.16it/s]\n",
      "Processing posts: 34431it [00:03, 10286.20it/s]\n",
      "Processing posts: 34431it [00:03, 10665.44it/s]\n",
      "Processing posts: 34431it [00:03, 11298.22it/s]\n",
      "Processing posts: 34431it [00:03, 10677.27it/s]\n",
      "Processing posts: 34431it [00:03, 10507.51it/s]\n",
      "Processing posts: 34431it [00:03, 10871.47it/s]\n",
      "Processing posts: 34431it [00:03, 10669.77it/s]\n",
      "Processing posts: 34431it [00:03, 10120.81it/s]\n",
      "Processing posts: 34431it [00:03, 10404.74it/s]\n",
      "Processing posts: 34431it [00:03, 10100.11it/s]\n",
      "Processing posts: 34431it [00:03, 11228.39it/s]\n",
      "Processing posts: 34431it [00:03, 11244.04it/s]\n",
      "Processing posts: 34431it [00:03, 11289.69it/s]\n",
      "Processing posts: 34431it [00:03, 10949.65it/s]\n",
      "Processing posts: 34431it [00:03, 10047.04it/s]\n",
      "Processing posts: 34431it [00:03, 10754.16it/s]\n",
      "Processing posts: 34431it [00:03, 10804.81it/s]\n",
      "Processing posts: 34431it [00:03, 10973.90it/s]\n",
      "Processing posts: 34431it [00:03, 10448.26it/s]\n",
      "Processing posts: 34431it [00:03, 10453.28it/s]\n",
      "Processing posts: 34431it [00:03, 11000.18it/s]\n",
      "Processing posts: 34431it [00:03, 11243.04it/s]\n",
      "Processing posts: 34431it [00:03, 10593.83it/s]\n",
      "Processing posts: 34431it [00:03, 10717.71it/s]\n",
      "Processing posts: 34431it [00:03, 10171.51it/s]\n",
      "Processing posts: 34431it [00:03, 11131.69it/s]\n",
      "Processing posts: 34431it [00:03, 10691.71it/s]\n",
      "Processing posts: 34431it [00:03, 10690.55it/s]\n",
      "Processing posts: 34431it [00:03, 9974.15it/s]\n",
      "Processing posts: 34431it [00:03, 10195.19it/s]\n",
      "Processing posts: 34431it [00:03, 10461.66it/s]\n",
      "Processing posts: 34431it [00:03, 10300.07it/s]\n",
      "Processing posts: 34431it [00:03, 10575.16it/s]\n",
      "Processing posts: 34431it [00:03, 9880.95it/s]\n",
      "Processing posts: 34431it [00:03, 9882.88it/s]\n",
      "Processing posts: 34431it [00:03, 10840.94it/s]\n",
      "Processing posts: 34431it [00:03, 10567.30it/s]\n",
      "Processing posts: 34431it [00:03, 10701.67it/s]\n",
      "Processing posts: 34431it [00:03, 9514.14it/s]\n",
      "Processing posts: 34431it [00:03, 10328.95it/s]\n",
      "Processing posts: 34431it [00:03, 10443.97it/s]\n",
      "Processing posts: 34431it [00:03, 10232.85it/s]\n",
      "Processing posts: 34431it [00:03, 10449.31it/s]\n",
      "Processing posts: 34431it [00:03, 9647.87it/s] \n",
      "Processing posts: 34431it [00:03, 10964.77it/s]\n",
      "Processing posts: 34431it [00:03, 10400.42it/s]\n",
      "Processing posts: 34431it [00:03, 10475.29it/s]\n",
      "Processing posts: 34431it [00:03, 10160.90it/s]\n",
      "Processing posts: 34431it [00:03, 10083.41it/s]\n",
      "Processing posts: 34431it [00:03, 10402.89it/s]\n",
      "Processing posts: 34431it [00:03, 10246.88it/s]\n",
      "Processing posts: 34431it [00:03, 10090.63it/s]\n",
      "Processing posts: 34431it [00:03, 8681.26it/s]\n",
      "Processing posts: 34431it [00:03, 10404.52it/s]\n",
      "Processing posts: 34431it [00:03, 10622.40it/s]\n",
      "Processing posts: 34431it [00:03, 10497.49it/s]\n",
      "Processing posts: 34431it [00:03, 10514.72it/s]\n",
      "Processing posts: 34431it [00:03, 9390.30it/s]\n",
      "Processing posts: 34431it [00:03, 10198.01it/s]\n",
      "Processing posts: 34431it [00:03, 10706.04it/s]\n",
      "Processing posts: 34431it [00:03, 10357.24it/s]\n",
      "Processing posts: 34431it [00:03, 10634.82it/s]\n",
      "Processing posts: 34431it [00:03, 9702.34it/s] \n",
      "Processing posts: 34431it [00:03, 10498.92it/s]\n",
      "Processing posts: 34431it [00:03, 11284.61it/s]\n",
      "Processing posts: 34431it [00:03, 10850.96it/s]\n",
      "Processing posts: 34431it [00:03, 10616.73it/s]\n",
      "Processing posts: 34431it [00:03, 10369.35it/s]\n",
      "Processing posts: 34431it [00:03, 11353.50it/s]\n",
      "Processing posts: 34431it [00:03, 11458.37it/s]\n",
      "Processing posts: 34431it [00:02, 12088.32it/s]\n",
      "Processing posts: 34431it [00:02, 12154.64it/s]\n",
      "Processing posts: 34431it [00:03, 10753.54it/s]\n",
      "Processing posts: 34431it [00:02, 12578.55it/s]\n",
      "Processing posts: 34431it [00:02, 12106.00it/s]\n",
      "Processing posts: 34431it [00:02, 12352.23it/s]\n",
      "Processing posts: 34431it [00:02, 12181.53it/s]\n",
      "Processing posts: 34431it [00:03, 11294.84it/s]\n",
      "Processing posts: 34431it [00:02, 11595.60it/s]\n",
      "Processing posts: 34431it [00:02, 12050.34it/s]\n",
      "Processing posts: 34431it [00:02, 11541.56it/s]\n",
      "Processing posts: 34431it [00:02, 12517.25it/s]\n",
      "Processing posts: 34431it [00:02, 12073.97it/s]\n",
      "Processing posts: 34431it [00:03, 11035.76it/s]\n",
      "Processing posts: 34431it [00:02, 12296.14it/s]\n",
      "Processing posts: 34431it [00:03, 11367.59it/s]\n",
      "Processing posts: 34431it [00:02, 12142.62it/s]\n",
      "Processing posts: 34431it [00:02, 12362.74it/s]\n",
      "Processing posts: 34431it [00:03, 11156.26it/s]\n",
      "Processing posts: 34431it [00:02, 11584.85it/s]\n",
      "Processing posts: 34431it [00:02, 13641.63it/s]\n",
      "Processing posts: 34431it [00:02, 13908.32it/s]\n",
      "Processing posts: 34431it [00:02, 13456.73it/s]\n",
      "Processing posts: 34431it [00:02, 14231.63it/s]\n",
      "Processing posts: 34431it [00:02, 12655.48it/s]\n",
      "Processing posts: 34431it [00:02, 13147.00it/s]\n",
      "Processing posts: 34431it [00:02, 12991.22it/s]\n",
      "Processing posts: 109it [05:48,  3.20s/it]\n"
     ]
    }
   ],
   "source": [
    "matches_behaviours_2 = stemming_and_matching( second_half , selected_rows)\n"
   ]
  },
  {
   "cell_type": "code",
   "execution_count": 38,
   "id": "85b13e45",
   "metadata": {},
   "outputs": [],
   "source": [
    "matches_behaviours_2.to_csv(r'C:\\Users\\leona\\OneDrive\\Desktop\\Tesi\\Pipeline\\Datasets\\Pipeline\\SocialNetworksPosts\\Reddit\\Months\\07\\two_behaviours.csv')"
   ]
  },
  {
   "cell_type": "code",
   "execution_count": 39,
   "id": "ef599e5e",
   "metadata": {},
   "outputs": [
    {
     "name": "stderr",
     "output_type": "stream",
     "text": [
      "Processing posts: 34431it [00:03, 11118.57it/s]\n",
      "Processing posts: 34431it [00:03, 10617.22it/s]\n",
      "Processing posts: 34431it [00:03, 10971.11it/s]\n",
      "Processing posts: 34431it [00:02, 11758.86it/s]\n",
      "Processing posts: 34431it [00:03, 11004.95it/s]\n",
      "Processing posts: 34431it [00:02, 11604.48it/s]\n",
      "Processing posts: 34431it [00:03, 10215.50it/s]\n",
      "Processing posts: 34431it [00:03, 10753.54it/s]\n",
      "Processing posts: 34431it [00:03, 11464.68it/s]\n",
      "Processing posts: 34431it [00:02, 11963.55it/s]\n",
      "Processing posts: 34431it [00:02, 11652.11it/s]\n",
      "Processing posts: 34431it [00:03, 11006.79it/s]\n",
      "Processing posts: 34431it [00:03, 10590.27it/s]\n",
      "Processing posts: 34431it [00:03, 10529.63it/s]\n",
      "Processing posts: 34431it [00:03, 10511.99it/s]\n",
      "Processing posts: 34431it [00:03, 10846.16it/s]\n",
      "Processing posts: 34431it [00:03, 10070.74it/s]\n",
      "Processing posts: 34431it [00:03, 10147.92it/s]\n",
      "Processing posts: 34431it [00:03, 10839.27it/s]\n",
      "Processing posts: 34431it [00:03, 11149.33it/s]\n",
      "Processing posts: 34431it [00:03, 11081.38it/s]\n",
      "Processing posts: 34431it [00:03, 10738.13it/s]\n",
      "Processing posts: 34431it [00:03, 10146.36it/s]\n",
      "Processing posts: 34431it [00:03, 10902.96it/s]\n",
      "Processing posts: 34431it [00:03, 10422.45it/s]\n",
      "Processing posts: 34431it [00:03, 10289.35it/s]\n",
      "Processing posts: 34431it [00:03, 9843.01it/s]\n",
      "Processing posts: 34431it [00:03, 9690.67it/s]\n",
      "Processing posts: 34431it [00:03, 10561.01it/s]\n",
      "Processing posts: 34431it [00:03, 10579.13it/s]\n",
      "Processing posts: 34431it [00:03, 10928.77it/s]\n",
      "Processing posts: 34431it [00:03, 9519.22it/s]\n",
      "Processing posts: 34431it [00:03, 10221.63it/s]\n",
      "Processing posts: 34431it [00:03, 10455.73it/s]\n",
      "Processing posts: 34431it [00:03, 10498.41it/s]\n",
      "Processing posts: 34431it [00:03, 10115.52it/s]\n",
      "Processing posts: 34431it [00:03, 9424.23it/s]\n",
      "Processing posts: 34431it [00:03, 9717.50it/s] \n",
      "Processing posts: 34431it [00:03, 10700.14it/s]\n",
      "Processing posts: 34431it [00:03, 10630.27it/s]\n",
      "Processing posts: 34431it [00:03, 10108.93it/s]\n",
      "Processing posts: 34431it [00:03, 10114.38it/s]\n",
      "Processing posts: 34431it [00:03, 10577.32it/s]\n",
      "Processing posts: 34431it [00:03, 10329.16it/s]\n",
      "Processing posts: 34431it [00:03, 10488.60it/s]\n",
      "Processing posts: 34431it [00:03, 9979.65it/s]\n",
      "Processing posts: 34431it [00:03, 10125.82it/s]\n",
      "Processing posts: 34431it [00:03, 10381.41it/s]\n",
      "Processing posts: 34431it [00:03, 10475.84it/s]\n",
      "Processing posts: 34431it [00:03, 10654.21it/s]\n",
      "Processing posts: 34431it [00:03, 9557.57it/s]\n",
      "Processing posts: 34431it [00:03, 10496.32it/s]\n",
      "Processing posts: 34431it [00:03, 10917.32it/s]\n",
      "Processing posts: 34431it [00:03, 10346.07it/s]\n",
      "Processing posts: 34431it [00:03, 9802.07it/s]\n",
      "Processing posts: 34431it [00:03, 9043.25it/s]\n",
      "Processing posts: 34431it [00:03, 10057.20it/s]\n",
      "Processing posts: 34431it [00:03, 9571.51it/s]\n",
      "Processing posts: 34431it [00:03, 10029.69it/s]\n",
      "Processing posts: 34431it [00:03, 10196.41it/s]\n",
      "Processing posts: 34431it [00:03, 9886.46it/s]\n",
      "Processing posts: 34431it [00:03, 10607.01it/s]\n",
      "Processing posts: 34431it [00:03, 10945.24it/s]\n",
      "Processing posts: 34431it [00:03, 10982.28it/s]\n",
      "Processing posts: 34431it [00:03, 9944.67it/s]\n",
      "Processing posts: 34431it [00:03, 10384.06it/s]\n",
      "Processing posts: 34431it [00:03, 10446.80it/s]\n",
      "Processing posts: 34431it [00:03, 10807.59it/s]\n",
      "Processing posts: 34431it [00:02, 12000.22it/s]\n",
      "Processing posts: 34431it [00:03, 10853.14it/s]\n",
      "Processing posts: 34431it [00:02, 11613.81it/s]\n",
      "Processing posts: 34431it [00:02, 12372.71it/s]\n",
      "Processing posts: 34431it [00:02, 12401.59it/s]\n",
      "Processing posts: 34431it [00:02, 12369.65it/s]\n",
      "Processing posts: 34431it [00:02, 11661.37it/s]\n",
      "Processing posts: 34431it [00:03, 11018.78it/s]\n",
      "Processing posts: 34431it [00:02, 11950.22it/s]\n",
      "Processing posts: 34431it [00:02, 11933.86it/s]\n",
      "Processing posts: 34431it [00:02, 12388.14it/s]\n",
      "Processing posts: 34431it [00:02, 12266.13it/s]\n",
      "Processing posts: 34431it [00:03, 10969.87it/s]\n",
      "Processing posts: 34431it [00:02, 11647.57it/s]\n",
      "Processing posts: 34431it [00:02, 12169.88it/s]\n",
      "Processing posts: 34431it [00:02, 12297.36it/s]\n",
      "Processing posts: 34431it [00:02, 11757.51it/s]\n",
      "Processing posts: 34431it [00:02, 11578.46it/s]\n",
      "Processing posts: 34431it [00:03, 10685.50it/s]\n",
      "Processing posts: 34431it [00:02, 12132.40it/s]\n",
      "Processing posts: 34431it [00:02, 12028.79it/s]\n",
      "Processing posts: 34431it [00:02, 12263.08it/s]\n",
      "Processing posts: 34431it [00:02, 12295.29it/s]\n",
      "Processing posts: 34431it [00:03, 10471.65it/s]\n",
      "Processing posts: 34431it [00:03, 11035.43it/s]\n",
      "Processing posts: 34431it [00:02, 11725.93it/s]\n",
      "Processing posts: 34431it [00:03, 11416.00it/s]\n",
      "Processing posts: 34431it [00:03, 11304.88it/s]\n",
      "Processing posts: 34431it [00:03, 11039.77it/s]\n",
      "Processing posts: 34431it [00:02, 12306.56it/s]\n",
      "Processing posts: 34431it [00:02, 12096.60it/s]\n",
      "Processing posts: 34431it [00:02, 11923.61it/s]\n",
      "Processing posts: 34431it [00:02, 11719.57it/s]\n",
      "Processing posts: 34431it [00:03, 11420.47it/s]\n",
      "Processing posts: 34431it [00:03, 10380.01it/s]\n",
      "Processing posts: 34431it [00:02, 11845.60it/s]\n",
      "Processing posts: 34431it [00:03, 11385.96it/s]\n",
      "Processing posts: 34431it [00:02, 11735.06it/s]\n",
      "Processing posts: 34431it [00:02, 11661.98it/s]\n",
      "Processing posts: 107it [05:40,  3.18s/it]\n"
     ]
    }
   ],
   "source": [
    "matches_behaviours_3 = stemming_and_matching( third_half , selected_rows)\n"
   ]
  },
  {
   "cell_type": "code",
   "execution_count": 40,
   "id": "a81efc6d",
   "metadata": {},
   "outputs": [],
   "source": [
    "matches_behaviours_3.to_csv(r'C:\\Users\\leona\\OneDrive\\Desktop\\Tesi\\Pipeline\\Datasets\\Pipeline\\SocialNetworksPosts\\Reddit\\Months\\07\\three_behaviours.csv')"
   ]
  },
  {
   "cell_type": "code",
   "execution_count": 41,
   "id": "fb269744",
   "metadata": {},
   "outputs": [
    {
     "data": {
      "text/html": [
       "<div>\n",
       "<style scoped>\n",
       "    .dataframe tbody tr th:only-of-type {\n",
       "        vertical-align: middle;\n",
       "    }\n",
       "\n",
       "    .dataframe tbody tr th {\n",
       "        vertical-align: top;\n",
       "    }\n",
       "\n",
       "    .dataframe thead th {\n",
       "        text-align: right;\n",
       "    }\n",
       "</style>\n",
       "<table border=\"1\" class=\"dataframe\">\n",
       "  <thead>\n",
       "    <tr style=\"text-align: right;\">\n",
       "      <th></th>\n",
       "      <th>full_text</th>\n",
       "      <th>keyword</th>\n",
       "    </tr>\n",
       "  </thead>\n",
       "  <tbody>\n",
       "    <tr>\n",
       "      <th>0</th>\n",
       "      <td>Tools and methodology for sharing information security news within a GRC team. For those practicing in **governance, risk and compliance**. I'd like to know what are the best practices for sharing news and developments regarding standards, laws, frameworks, etc. within a team.\\n\\nI'm not talking about vulnerabilities, exploits, or other technical developments. I'm talking about, for example, new privacy laws, new standards applicable to a given industry, trends in cybersecurity management and architecture, updates to cybersecurity frameworks, etc.\\n\\nMy GRC team members have various backgrounds (technical, management, complicance, etc). Currently, each person is individually subscribed to RSS feeds, newsletters, depending on its topics of interest. When someone deems a news or publication relevant, it is published on a Teams channel. Important topics are sometimes presented. I would like to standardize the process to ensure a common knowledge base.\\n\\nWhat is your methodology and t...</td>\n",
       "      <td>process interest</td>\n",
       "    </tr>\n",
       "    <tr>\n",
       "      <th>1</th>\n",
       "      <td>Transitioning into DevOps from a fullstack application dev/generalist?. Hey all,\\n\\nBeen making CRUD apps for about 7 years and I'm getting bored. Exposed to almost all popular application stacks, many 3-tier web architectures, and some more exotic approaches via distributed systems.\\n\\nI'm interested in having a more holistic understanding of how the software I write is operated and taking responsibility for the complete software delivery lifecycle. I've done an entry level AWS cert (AWS SA - Associate), write my own pipelines, and have screwed around with terraform/k8s/helm/prom/grafana many times in my career. Particularly interested in specializing in AWS since I see it as good niche for now and for the future.\\n\\nI am detailed and process oriented - I often end up unofficially maintaining our docs, driving client meetings, and distilling high level goals into actionable work units in addition to whatever deliverables I have. Ran a team at one point because of this.\\n\\nMy favou...</td>\n",
       "      <td>process interest</td>\n",
       "    </tr>\n",
       "    <tr>\n",
       "      <th>2</th>\n",
       "      <td>Bug Bounty Tip: Look for so called latency sinks, they can lead to and help with critical bugs like temporal RC session puzzles or LFI things like regular expression DoS for example or a billion laugh attack on an XML parser or even nested JSON in a JSON parsers. A lot of people think things like regexdos are useless and just slow or crash the server but I want to introduce people to instruction latency. All computers have a serial bus that allowes the motherboard to communicate with various components like the cpu ram hdd gpu etc. When a computer has to work harder latency increases causing other instructions to process slower. Most amateur bug bounty hunters don't combine all these seemingly useful pieces of knowledge in a security context so today I'll explain why high latency is good. They can lead to all sorts of issues for one you can use them as a latency oracle essentially in some scenarios you can use the server loading slower to reveal info on some endpoints another thing...</td>\n",
       "      <td>process interest</td>\n",
       "    </tr>\n",
       "    <tr>\n",
       "      <th>3</th>\n",
       "      <td>Toggle Button doesn't work on mobile Astra theme.. Hello, everyone.\\n\\n&amp;#x200B;\\n\\nI come here as a last resource since I've been trying to solve this issue for the past two weeks with no results. I've seen many YouTube videos and been to the WordPress and Elementor/Astra official page, and nothing I see seems to solve the issue.\\n\\n&amp;#x200B;\\n\\nThe weird thing is, when I was in the process of building the website, the toggle button did work, and then it just stopped working. I want to launch my blog, but I can only launch with this problem being solved first. Anyway, I feel I am losing my mind! lol\\n\\n&amp;#x200B;\\n\\nHas anyone here encountered something similar and can help me? On a side note, I don't have Elementor/ Astra Pro, and I am not interested in upgrading any WordPress plugin, as I am sure something could be done for free.\\n\\nThank you.\\n\\n&amp;#x200B;\\n\\nI recorded my screen below for you guys to see what I mean by \"not working\".\\n\\n&amp;#x200B;\\n\\n&amp;#x200B;\\n\\nhttps://reddit.com/lin...</td>\n",
       "      <td>process interest</td>\n",
       "    </tr>\n",
       "    <tr>\n",
       "      <th>4</th>\n",
       "      <td>How did I start Learning Data Engineering?. &amp;#x200B;\\n\\n[Data Engineering](https://preview.redd.it/6zh1t6cj6oea1.jpg?width=4195&amp;format=pjpg&amp;auto=webp&amp;v=enabled&amp;s=259ba73be9341c81f800f34343ede342db092121)\\n\\nI'm excited to share my journey of how I started learning data engineering. It all began when I stumbled upon [WiseTechCat](https://wisetechcat.com/), an online community of data enthusiasts. I was immediately drawn to the abundance of resources and support available for those interested in data science.\\n\\nAs a beginner, I knew that I needed a clear roadmap to guide my learning. I started by familiarizing myself with the basics of SQL, the backbone of data engineering. I found a [SQL roadmap](https://wisetechcat.com/sql-roadmap/) that helped me understand the foundational concepts and build a strong foundation.\\n\\nFrom there, I delved deeper into the world of data science by following a [data science roadmap](https://wisetechcat.com/data-science-roadmap/). This roadmap provided...</td>\n",
       "      <td>process interest</td>\n",
       "    </tr>\n",
       "    <tr>\n",
       "      <th>...</th>\n",
       "      <td>...</td>\n",
       "      <td>...</td>\n",
       "    </tr>\n",
       "    <tr>\n",
       "      <th>1077</th>\n",
       "      <td>[Caddy] Blank page on Firefox and access denied on Chromium. Hi all!\\n\\nI want to self-host my personal blog/website on a Raspberry PI running Raspbian. I installed Caddy, set up dynamic DNS (it works according to [DNS Checker](https://dnschecker.org/)) and copied my index.xhtml to `/var/www/html`.\\n\\nWhen I visit the site on Chromium and my phone running Brave (tested visiting it with my cellular network to see if DynDNS works), I get a 403 error. On Firefox (GNU IceCat to be exact), I get a blank page (it could be because of an extension though).\\n\\nMy Caddyfile in `/etc/caddy` looks like the following:\\n\\n```\\nexample.com {\\n    root * /var/www/html\\n    file_server\\n}\\n```\\n\\nWith `example.com` being my site's domain of course. So far, I tried running `caddy file-server`, which gives an `admin endpoint disabled` and a `server is listening only on the HTTP port, so no automatic HTTPS will be applied to this server` warning.\\n\\nWhat can I do in this situation? Thank you for your ...</td>\n",
       "      <td>network dyndns</td>\n",
       "    </tr>\n",
       "    <tr>\n",
       "      <th>1078</th>\n",
       "      <td>What's the best way to implement a reverse proxy in my scenario?. So here's where I'm at: I have a Raspi 4 running NextcloudPi and a desktop PC running as my home server, currently only for Jellyfin in my LAN. I have a domain for the Raspi as well as the respective DynDNS and port forwarding.\\n\\nNow I want to host more services on my main server (the desktop PC running Jellyfin) with the least amount of additional configuration. I know that I need a reverse proxy, but I'm unsure what the best way of it's implementation might be.\\n\\nHere's what I though of so far:\\n\\n1. Install a reverse proxy on the Raspi and point it to my main server. The whole domain, DynDNS and port forwarding setup stays roughly the same, all I have to do it check whether the reverse proxy I choose works nicely with NextcloudPi, maybe manage some default ports and use a CNAME/subdomain for the Nextcloud instead of the TLD.\\n2. Install a reverse proxy on my main server, move the whole domain/DynDNS/port forward...</td>\n",
       "      <td>network dyndns</td>\n",
       "    </tr>\n",
       "    <tr>\n",
       "      <th>1079</th>\n",
       "      <td>junior dev ops here - need to configure Linux and Windows build/dev workstations on demand, for CI/CD pipelines and on-premise developers with special drivers/install processes that sometimes take 2-3 days manually. ML/AI. What tech stacks would you advise for config?. small shop. i'm currently working with devs in Machine Learning/AI and often we need to configure computers that utilize GPU/CUDA manually.\\n\\ni'm in the process of setting up our build pipelines on gitlab with on prem workstations, but even that is taking quite a bit of time - we need both windows and linux runners and whenever a developer wants to integrate a new tool, we're going into each runner and going through the manual install process - AND ensuring each dev workstation is also updated. it just seems to be getting worse and worse each time and i'm struggling to keep up.\\n\\nmy knowledge of devops is really limited up to automated testing/build of applications and now it's going into IT infrastructure and I'm ...</td>\n",
       "      <td>powershell download</td>\n",
       "    </tr>\n",
       "    <tr>\n",
       "      <th>1080</th>\n",
       "      <td>Micorosoft Store Application(s) not working/starting; process \"wsappx\" peggs CPU at above 50% utitization - problem occurs on a user basis, not machine wide, abd seems to spread over the network. Hello Guys, maybe someone of you also experienced this problem and knows a fix for it.  \\nThe following problem occurs on several computers in our network:  \\nStart menu does not open, taskbar search bar does not respond. Right-clicking on taskbar icons to open a separate window or a recently used file does not work. UWP apps such as the Microsoft Store do not open or crash immediately after opening. The Teams desktop app cannot connect to Microsoft servers, and the user cannot use the local Teams installation (if Teams is opened in the browser on the same computer, logging in and using it is possible without hindrance).  \\nThe problem picture is accompanied by a strongly increased CPU utilization by the task \"*wsappx*\" and the underlying service \"*AppxSvc*\" - This process/service alone oc...</td>\n",
       "      <td>powershell download</td>\n",
       "    </tr>\n",
       "    <tr>\n",
       "      <th>1081</th>\n",
       "      <td>WSL problem on \"new\" Windows 10 laptop. Just got a refurbished Windows 10 laptop. One of the first few times I try to connect it online I noticed there's something about WSL on it already. As soon as I open it, it crashes. It appears as if it will do something, then it disappears.\\n\\nMost questions I've seen pop up about this are people who have been using it and suddenly develop problems. In my case I've never used it before, and I just have a basic idea what Windows Subsystem for Linux is.\\n\\nWas I incorrect to assume I already have it, maybe I still need to download it? I just read something on a page about using PowerShell to get it. There's definitely something on here about WSL though, which supported my assumption that it comes installed.</td>\n",
       "      <td>powershell download</td>\n",
       "    </tr>\n",
       "  </tbody>\n",
       "</table>\n",
       "<p>2478 rows × 2 columns</p>\n",
       "</div>"
      ],
      "text/plain": [
       "                                                                                                                                                                                                                                                                                                                                                                                                                                                                                                                                                                                                                                                                                                                                                                                                                                                                                                                                                                                                                                    full_text  \\\n",
       "0     Tools and methodology for sharing information security news within a GRC team. For those practicing in **governance, risk and compliance**. I'd like to know what are the best practices for sharing news and developments regarding standards, laws, frameworks, etc. within a team.\\n\\nI'm not talking about vulnerabilities, exploits, or other technical developments. I'm talking about, for example, new privacy laws, new standards applicable to a given industry, trends in cybersecurity management and architecture, updates to cybersecurity frameworks, etc.\\n\\nMy GRC team members have various backgrounds (technical, management, complicance, etc). Currently, each person is individually subscribed to RSS feeds, newsletters, depending on its topics of interest. When someone deems a news or publication relevant, it is published on a Teams channel. Important topics are sometimes presented. I would like to standardize the process to ensure a common knowledge base.\\n\\nWhat is your methodology and t...   \n",
       "1     Transitioning into DevOps from a fullstack application dev/generalist?. Hey all,\\n\\nBeen making CRUD apps for about 7 years and I'm getting bored. Exposed to almost all popular application stacks, many 3-tier web architectures, and some more exotic approaches via distributed systems.\\n\\nI'm interested in having a more holistic understanding of how the software I write is operated and taking responsibility for the complete software delivery lifecycle. I've done an entry level AWS cert (AWS SA - Associate), write my own pipelines, and have screwed around with terraform/k8s/helm/prom/grafana many times in my career. Particularly interested in specializing in AWS since I see it as good niche for now and for the future.\\n\\nI am detailed and process oriented - I often end up unofficially maintaining our docs, driving client meetings, and distilling high level goals into actionable work units in addition to whatever deliverables I have. Ran a team at one point because of this.\\n\\nMy favou...   \n",
       "2     Bug Bounty Tip: Look for so called latency sinks, they can lead to and help with critical bugs like temporal RC session puzzles or LFI things like regular expression DoS for example or a billion laugh attack on an XML parser or even nested JSON in a JSON parsers. A lot of people think things like regexdos are useless and just slow or crash the server but I want to introduce people to instruction latency. All computers have a serial bus that allowes the motherboard to communicate with various components like the cpu ram hdd gpu etc. When a computer has to work harder latency increases causing other instructions to process slower. Most amateur bug bounty hunters don't combine all these seemingly useful pieces of knowledge in a security context so today I'll explain why high latency is good. They can lead to all sorts of issues for one you can use them as a latency oracle essentially in some scenarios you can use the server loading slower to reveal info on some endpoints another thing...   \n",
       "3     Toggle Button doesn't work on mobile Astra theme.. Hello, everyone.\\n\\n&#x200B;\\n\\nI come here as a last resource since I've been trying to solve this issue for the past two weeks with no results. I've seen many YouTube videos and been to the WordPress and Elementor/Astra official page, and nothing I see seems to solve the issue.\\n\\n&#x200B;\\n\\nThe weird thing is, when I was in the process of building the website, the toggle button did work, and then it just stopped working. I want to launch my blog, but I can only launch with this problem being solved first. Anyway, I feel I am losing my mind! lol\\n\\n&#x200B;\\n\\nHas anyone here encountered something similar and can help me? On a side note, I don't have Elementor/ Astra Pro, and I am not interested in upgrading any WordPress plugin, as I am sure something could be done for free.\\n\\nThank you.\\n\\n&#x200B;\\n\\nI recorded my screen below for you guys to see what I mean by \"not working\".\\n\\n&#x200B;\\n\\n&#x200B;\\n\\nhttps://reddit.com/lin...   \n",
       "4     How did I start Learning Data Engineering?. &#x200B;\\n\\n[Data Engineering](https://preview.redd.it/6zh1t6cj6oea1.jpg?width=4195&format=pjpg&auto=webp&v=enabled&s=259ba73be9341c81f800f34343ede342db092121)\\n\\nI'm excited to share my journey of how I started learning data engineering. It all began when I stumbled upon [WiseTechCat](https://wisetechcat.com/), an online community of data enthusiasts. I was immediately drawn to the abundance of resources and support available for those interested in data science.\\n\\nAs a beginner, I knew that I needed a clear roadmap to guide my learning. I started by familiarizing myself with the basics of SQL, the backbone of data engineering. I found a [SQL roadmap](https://wisetechcat.com/sql-roadmap/) that helped me understand the foundational concepts and build a strong foundation.\\n\\nFrom there, I delved deeper into the world of data science by following a [data science roadmap](https://wisetechcat.com/data-science-roadmap/). This roadmap provided...   \n",
       "...                                                                                                                                                                                                                                                                                                                                                                                                                                                                                                                                                                                                                                                                                                                                                                                                                                                                                                                                                                                                                                       ...   \n",
       "1077  [Caddy] Blank page on Firefox and access denied on Chromium. Hi all!\\n\\nI want to self-host my personal blog/website on a Raspberry PI running Raspbian. I installed Caddy, set up dynamic DNS (it works according to [DNS Checker](https://dnschecker.org/)) and copied my index.xhtml to `/var/www/html`.\\n\\nWhen I visit the site on Chromium and my phone running Brave (tested visiting it with my cellular network to see if DynDNS works), I get a 403 error. On Firefox (GNU IceCat to be exact), I get a blank page (it could be because of an extension though).\\n\\nMy Caddyfile in `/etc/caddy` looks like the following:\\n\\n```\\nexample.com {\\n    root * /var/www/html\\n    file_server\\n}\\n```\\n\\nWith `example.com` being my site's domain of course. So far, I tried running `caddy file-server`, which gives an `admin endpoint disabled` and a `server is listening only on the HTTP port, so no automatic HTTPS will be applied to this server` warning.\\n\\nWhat can I do in this situation? Thank you for your ...   \n",
       "1078  What's the best way to implement a reverse proxy in my scenario?. So here's where I'm at: I have a Raspi 4 running NextcloudPi and a desktop PC running as my home server, currently only for Jellyfin in my LAN. I have a domain for the Raspi as well as the respective DynDNS and port forwarding.\\n\\nNow I want to host more services on my main server (the desktop PC running Jellyfin) with the least amount of additional configuration. I know that I need a reverse proxy, but I'm unsure what the best way of it's implementation might be.\\n\\nHere's what I though of so far:\\n\\n1. Install a reverse proxy on the Raspi and point it to my main server. The whole domain, DynDNS and port forwarding setup stays roughly the same, all I have to do it check whether the reverse proxy I choose works nicely with NextcloudPi, maybe manage some default ports and use a CNAME/subdomain for the Nextcloud instead of the TLD.\\n2. Install a reverse proxy on my main server, move the whole domain/DynDNS/port forward...   \n",
       "1079  junior dev ops here - need to configure Linux and Windows build/dev workstations on demand, for CI/CD pipelines and on-premise developers with special drivers/install processes that sometimes take 2-3 days manually. ML/AI. What tech stacks would you advise for config?. small shop. i'm currently working with devs in Machine Learning/AI and often we need to configure computers that utilize GPU/CUDA manually.\\n\\ni'm in the process of setting up our build pipelines on gitlab with on prem workstations, but even that is taking quite a bit of time - we need both windows and linux runners and whenever a developer wants to integrate a new tool, we're going into each runner and going through the manual install process - AND ensuring each dev workstation is also updated. it just seems to be getting worse and worse each time and i'm struggling to keep up.\\n\\nmy knowledge of devops is really limited up to automated testing/build of applications and now it's going into IT infrastructure and I'm ...   \n",
       "1080  Micorosoft Store Application(s) not working/starting; process \"wsappx\" peggs CPU at above 50% utitization - problem occurs on a user basis, not machine wide, abd seems to spread over the network. Hello Guys, maybe someone of you also experienced this problem and knows a fix for it.  \\nThe following problem occurs on several computers in our network:  \\nStart menu does not open, taskbar search bar does not respond. Right-clicking on taskbar icons to open a separate window or a recently used file does not work. UWP apps such as the Microsoft Store do not open or crash immediately after opening. The Teams desktop app cannot connect to Microsoft servers, and the user cannot use the local Teams installation (if Teams is opened in the browser on the same computer, logging in and using it is possible without hindrance).  \\nThe problem picture is accompanied by a strongly increased CPU utilization by the task \"*wsappx*\" and the underlying service \"*AppxSvc*\" - This process/service alone oc...   \n",
       "1081                                                                                                                                                                                                                                                      WSL problem on \"new\" Windows 10 laptop. Just got a refurbished Windows 10 laptop. One of the first few times I try to connect it online I noticed there's something about WSL on it already. As soon as I open it, it crashes. It appears as if it will do something, then it disappears.\\n\\nMost questions I've seen pop up about this are people who have been using it and suddenly develop problems. In my case I've never used it before, and I just have a basic idea what Windows Subsystem for Linux is.\\n\\nWas I incorrect to assume I already have it, maybe I still need to download it? I just read something on a page about using PowerShell to get it. There's definitely something on here about WSL though, which supported my assumption that it comes installed.   \n",
       "\n",
       "                  keyword  \n",
       "0        process interest  \n",
       "1        process interest  \n",
       "2        process interest  \n",
       "3        process interest  \n",
       "4        process interest  \n",
       "...                   ...  \n",
       "1077       network dyndns  \n",
       "1078       network dyndns  \n",
       "1079  powershell download  \n",
       "1080  powershell download  \n",
       "1081  powershell download  \n",
       "\n",
       "[2478 rows x 2 columns]"
      ]
     },
     "execution_count": 41,
     "metadata": {},
     "output_type": "execute_result"
    }
   ],
   "source": [
    "matches = pd.concat([matches_behaviours_3, matches_behaviours_2, matches_behaviours_1])\n",
    "matches"
   ]
  },
  {
   "cell_type": "code",
   "execution_count": 42,
   "id": "38bac787",
   "metadata": {},
   "outputs": [],
   "source": [
    "matches['keyword type'] = 'behaviour'"
   ]
  },
  {
   "cell_type": "code",
   "execution_count": 43,
   "id": "2a09d111",
   "metadata": {},
   "outputs": [],
   "source": [
    "matches.to_csv(r'C:\\Users\\leona\\OneDrive\\Desktop\\Tesi\\Pipeline\\Datasets\\Pipeline\\SocialNetworksPosts\\Reddit\\Months\\07\\Behaviours.csv')"
   ]
  },
  {
   "cell_type": "markdown",
   "id": "36144587",
   "metadata": {},
   "source": [
    "### Attacks searching"
   ]
  },
  {
   "cell_type": "code",
   "execution_count": 44,
   "id": "0523f54b",
   "metadata": {},
   "outputs": [],
   "source": [
    "l = len(all_attack_name_list)\n",
    "\n",
    "index = l // 2\n",
    "\n",
    "first_half_behaviours = all_attack_name_list[:index]\n",
    "second_half_behaviours = all_attack_name_list[index:]\n"
   ]
  },
  {
   "cell_type": "code",
   "execution_count": 45,
   "id": "4918cbb9",
   "metadata": {},
   "outputs": [
    {
     "name": "stderr",
     "output_type": "stream",
     "text": [
      "Processing posts: 34431it [00:03, 10911.97it/s]\n",
      "Processing posts: 34431it [00:02, 11848.27it/s]\n",
      "Processing posts: 34431it [00:02, 11882.55it/s]\n",
      "Processing posts: 34431it [00:02, 11667.33it/s]\n",
      "Processing posts: 34431it [00:02, 11562.01it/s]\n",
      "Processing posts: 34431it [00:03, 9789.27it/s] \n",
      "Processing posts: 34431it [00:03, 10841.11it/s]\n",
      "Processing posts: 34431it [00:03, 10400.00it/s]\n",
      "Processing posts: 34431it [00:03, 10885.04it/s]\n",
      "Processing posts: 34431it [00:03, 10514.54it/s]\n",
      "Processing posts: 34431it [00:03, 10169.54it/s]\n",
      "Processing posts: 11it [00:34,  3.17s/it]\n"
     ]
    }
   ],
   "source": [
    "matches1 = pd.DataFrame()\n",
    "\n",
    "matches1 = stemming_and_matching( first_half_behaviours , selected_rows)"
   ]
  },
  {
   "cell_type": "code",
   "execution_count": 46,
   "id": "7b035357",
   "metadata": {},
   "outputs": [],
   "source": [
    "matches1['keyword type'] = 'malware'"
   ]
  },
  {
   "cell_type": "code",
   "execution_count": 47,
   "id": "638703fa",
   "metadata": {},
   "outputs": [
    {
     "name": "stderr",
     "output_type": "stream",
     "text": [
      "Processing posts: 34431it [00:02, 12062.02it/s]\n",
      "Processing posts: 34431it [00:03, 11204.50it/s]\n",
      "Processing posts: 34431it [00:03, 10904.22it/s]\n",
      "Processing posts: 34431it [00:03, 11355.88it/s]\n",
      "Processing posts: 34431it [00:02, 11797.97it/s]\n",
      "Processing posts: 34431it [00:02, 11918.36it/s]\n",
      "Processing posts: 34431it [00:02, 11797.81it/s]\n",
      "Processing posts: 34431it [00:03, 10711.83it/s]\n",
      "Processing posts: 34431it [00:02, 11757.14it/s]\n",
      "Processing posts: 34431it [00:02, 11963.88it/s]\n",
      "Processing posts: 34431it [00:02, 12146.88it/s]\n",
      "Processing posts: 34431it [00:02, 12112.79it/s]\n",
      "Processing posts: 12it [00:35,  2.98s/it]\n"
     ]
    }
   ],
   "source": [
    "matches2 = pd.DataFrame()\n",
    "\n",
    "matches2 = stemming_and_matching( second_half_behaviours , selected_rows)"
   ]
  },
  {
   "cell_type": "code",
   "execution_count": 48,
   "id": "b66fba5a",
   "metadata": {},
   "outputs": [],
   "source": [
    "matches2['keyword type'] = 'malware'"
   ]
  },
  {
   "cell_type": "code",
   "execution_count": 49,
   "id": "ac913507",
   "metadata": {},
   "outputs": [
    {
     "data": {
      "text/html": [
       "<div>\n",
       "<style scoped>\n",
       "    .dataframe tbody tr th:only-of-type {\n",
       "        vertical-align: middle;\n",
       "    }\n",
       "\n",
       "    .dataframe tbody tr th {\n",
       "        vertical-align: top;\n",
       "    }\n",
       "\n",
       "    .dataframe thead th {\n",
       "        text-align: right;\n",
       "    }\n",
       "</style>\n",
       "<table border=\"1\" class=\"dataframe\">\n",
       "  <thead>\n",
       "    <tr style=\"text-align: right;\">\n",
       "      <th></th>\n",
       "      <th>full_text</th>\n",
       "      <th>keyword</th>\n",
       "      <th>keyword type</th>\n",
       "    </tr>\n",
       "  </thead>\n",
       "  <tbody>\n",
       "    <tr>\n",
       "      <th>0</th>\n",
       "      <td>Applyprinting defaults for local printer via script. We have USB receipt printers that **must** have the paper size set to a specific non-default value within printing preferences or printing defaults in order to work with our core software. I've been exploring methods to accomplish this via script but am not having complete success. \\n\\nMy current method is to run a command (found at the bottom of this post) in CMD as admin to create a REG\\_BINARY entry in *HKLM\\\\SYSTEM\\\\CurrentControlSet\\\\Control\\\\Print\\\\Printers\\\\Receipt Printer* with specific value data. This is successful, however the value data found in the REG\\_BINARY are not reflected in the receipt printer's printing preferences or printing defaults once applied. \\n\\nMy assumption is that the print object and its printing defaults registry key do not communicate bidirectionally, but only one way. I'm not sure if this is normal interaction or a limitation by the device manufacturer. \\n\\nOnce I can apply the printing default...</td>\n",
       "      <td>Registry Run Keys</td>\n",
       "      <td>malware</td>\n",
       "    </tr>\n",
       "    <tr>\n",
       "      <th>1</th>\n",
       "      <td>Kerberos and Server 2003. Hoping I'm not alone in still needing to keep a Windows Server 2003 computer connected to the domain.  Looking for what I must be overlooking.  We had paused updates on our DCs after the November update broke Kerberos for us.  This weekend I tried applying the Jan rollup update to a DC.  After I added the 'KrbtgtFullPacSignature' registry dword with a value of 2. I've also changed the msds-supportedencryptiontypes to 0x4 (RC4) on the AD object of the 2003 server.  After each change I've rebooted, even though the registry setting says a reboot isn't required.  \\nIf I try to connect from the DC to the 2003 server though through explorer I still can't browse the shares, I'll get the same error that it cannot find the computer.  I notice if I run a klist command on the updated DC the kerberos ticket shows as RSADSI RC4-HMAC for the KerbTicket Encryption Type, but below that Session Key Type is showing AES-256.  If I run klist on a DC that hasn't been updated t...</td>\n",
       "      <td>Registry Run Keys</td>\n",
       "      <td>malware</td>\n",
       "    </tr>\n",
       "    <tr>\n",
       "      <th>2</th>\n",
       "      <td>Stumped on PDC Time Sync. Hello All,  \\n\\n\\nI work at an MSP managing various types of networks, I've never run into a Time Sync issue I haven't been able to solve until now.  \\n\\n\\nI've been all over the internet researching various topics but have not found a solution. Here is a summary of the issue and steps taken so far:  \\n\\n\\nIssue:  \\nThe PDC in a domain environment recently fell out of sync by \\~1 minute. Multiple other DC's in the environment that sync via GPO to the PDC are showing the same \\~1 minute delay. The PDC is a VM on a physical HV machine running. The error received when attempted to re-sync time is \"The computer did not resync because no time data was available\" with all tested time sources. If manually testing against the time sync the error code given is 0x800705B4.\\n\\nSteps Taken:\\n\\n\\-Followed various different articles referencing different potential solutions\\n\\n\\-Removed the GPO to stop the time sync from spreading\\n\\n\\-Ran through the typical net start ...</td>\n",
       "      <td>Registry Run Keys</td>\n",
       "      <td>malware</td>\n",
       "    </tr>\n",
       "    <tr>\n",
       "      <th>3</th>\n",
       "      <td>January 2023 Patch - Kerberos Hardening questions. Hi,\\n\\n&amp;#x200B;\\n\\n&amp;#x200B;\\n\\nDC's are 2016 as is functional level.\\n\\n&amp;#x200B;\\n\\nDCs are 2016.\\n\\n&amp;#x200B;\\n\\nWe have a legacy systems like XP,2000,2003,2008 server.\\n\\n&amp;#x200B;\\n\\nI know everyone says to decom the old servers, but our go live to replace them is like First week of april\\n\\n&amp;#x200B;\\n\\nI have not applied the patches to our DC.  I also our network security:configure encryption types allowed GPO is NOT defined.\\n\\n&amp;#x200B;\\n\\n&amp;#x200B;\\n\\nMy questions are :\\n\\n&amp;#x200B;\\n\\n1 -  **Lets say ,  when applying Microsoft's January patch it would break the Kerberos authentication for Legacy OSes ?** \\n\\n&amp;#x200B;\\n\\n2 -  **In ADUC,  can I resolve the issue by explictly setting RC4 (0x4 (RC4\\_HMAC\\_MD5)) in msDS-SupportedEncryptionTypes for the computer objects of the target ( legacy OS) ?**\\n\\n&amp;#x200B;\\n\\n3-   **I have noticed that when I run the script I get a report that There are 63 objects that do not have AES Keys gener...</td>\n",
       "      <td>Registry Run Keys</td>\n",
       "      <td>malware</td>\n",
       "    </tr>\n",
       "    <tr>\n",
       "      <th>4</th>\n",
       "      <td>Computer loses monitor inputs under load, and needs to hard reboot to be used (WinDbg output attached). My computer suddenly loses the monitor inputs when under load, but I can tell the computer is still running as the audio from the game I'm playing continues, my Discord call is uninterrupted, and everything seems to be functioning aside from my visual output.\\n\\nI am on 516.94 for stability. I have ruled out wire issues given I am on dual display and the issue always knocks out both monitors, while audio is still intact, and I've also tried reconnecting the cables. Temperatures are also rarely excessive; the issue of course tends to happen after I've been under load for, but GPU temps peak at around 65 degrees even when the issue happens.\\n\\nThe below crash log was when I loaded Apex, but it was literally 2 minutes into the game. \\n\\nI have also set the registry TDRDelay to 10. Before the critical error (BugcheckCode 307 as per below), it continues to show nvlddmkm errors which I...</td>\n",
       "      <td>Registry Run Keys</td>\n",
       "      <td>malware</td>\n",
       "    </tr>\n",
       "    <tr>\n",
       "      <th>...</th>\n",
       "      <td>...</td>\n",
       "      <td>...</td>\n",
       "      <td>...</td>\n",
       "    </tr>\n",
       "    <tr>\n",
       "      <th>16</th>\n",
       "      <td>Black screen while playing Guild Wars 2. Hey! \\n\\nIt's the second time I get a black screen (with the sound freezing) playing Gw2 in the last 6 months. Had to restart the computer both times using the power button as I couldn't do anything. I don't have this problem playing any other games so I'd like to know if the problem comes from me / the game or something else. Everytime it happened the temps / usage looked normal and I wasn't doing something particularly heavy for the pc. I've played games that were way harder on the usage / temps for longer but never had this problem.\\n\\nComponents:\\n \\n* Motherboard: B450 Tomahawk Max (MS-7C02) *Bios Version : 3.70*\\n \\n* CPU: Ryzen 5 3600\\n* CPU cooler: Base one \\n* GPU: GeForce GTX 1660 Super *Driver Version : 516.94*\\n* RAM: Corsair Vengeance LPX 16 GB (2 x 8 GB) DDR4-3200 CL16 Memory \\n* Power supply: Corsair TX550M Gold 550 W\\n* OS: Windows 10\\n\\nDump Files:\\n\\nhttps://www.mediafire.com/file/w6r0s7z1civ690z/011823-6953-01.dmp/file\\n\\n...</td>\n",
       "      <td>550</td>\n",
       "      <td>malware</td>\n",
       "    </tr>\n",
       "    <tr>\n",
       "      <th>17</th>\n",
       "      <td>HDD causing boot problems on SSD?. So I have a B560 Aorus Pro AX with a BC511 512GB drive from Hynix. I also have a 500GB Tobisha HDD. But when I added a 1TB version of that drive, I get an 0x00000f error. But removing both HDDs (haven't tried removing only 1) and changing which M.2 slot it goes in fixes it. \\nAlso my system specs are here.\\nIntel i5-10400\\n2x8 GB of 3200 megahertz RAM (limited to 2666 cus of CPU) (1 is crucial and other is Hynix)\\nBC511 512 m.2 ssd\\nRX 550 GPU</td>\n",
       "      <td>550</td>\n",
       "      <td>malware</td>\n",
       "    </tr>\n",
       "    <tr>\n",
       "      <th>18</th>\n",
       "      <td>Investigating Google Workspace Email Logs for INCOMING bounced emails. I know that in the basic email log search I can see the past 30 days logs. If I export that to Sheets I can filter the 550's. However I'm looking for a way to look beyond those 30 days. Is there a way to accomplish this with the security &amp; investigation tool?</td>\n",
       "      <td>550</td>\n",
       "      <td>malware</td>\n",
       "    </tr>\n",
       "    <tr>\n",
       "      <th>19</th>\n",
       "      <td>Question about studying for the exam. Hi guys, \\n\\nI was wondering if its normal to feel rather tired after practicing many multiple choice questions &amp; flashcards to the point where even thinking of doing 'one more' is met with eye spasm reading words between questions and then failing a simple question because you didn't read it right. \\n\\n&amp;#x200B;\\n\\nFYI I use Wiley Efficient Learning for the questions. I have 550 MCQ questions and 215 flashcards. I studied all MCQ questions and some flashcards. \\n\\nI have my exam on Friday.</td>\n",
       "      <td>550</td>\n",
       "      <td>malware</td>\n",
       "    </tr>\n",
       "    <tr>\n",
       "      <th>20</th>\n",
       "      <td>PC suddenly died. Hi everybody, happy new year to all.\\n\\nAfter about 3 weeks without powering on my PC it suddenly stopped booting. It was ok when I last turned it off but now it refuses to boot. I can power it on and event enter SETUP but it won't go further POST screen followed by a blinking underscore and then a reset. I tested my two RAM slots and tried a brand new one. Also my disk are ok. Only thing I am able to do is open the system setup, and everything seems to be ok there. The changes I do are persistent across cold reboots so CMOS battery is probably fine. I have a year old RX 550 plugged in the PCI slot, haven't tested it yet because I would need a VGA cable to use the onboard video. CPU is not overheating according to BIOS but I don't know whether it is faulty or not (or how to test it). Even tried to unplug everything including keyboard but it was of no help.\\n\\nI need to boot it least to be able to backup important files that are in my disk.\\n\\n[video demonstration]...</td>\n",
       "      <td>550</td>\n",
       "      <td>malware</td>\n",
       "    </tr>\n",
       "  </tbody>\n",
       "</table>\n",
       "<p>211 rows × 3 columns</p>\n",
       "</div>"
      ],
      "text/plain": [
       "                                                                                                                                                                                                                                                                                                                                                                                                                                                                                                                                                                                                                                                                                                                                                                                                                                                                                                                                                                                                                                  full_text  \\\n",
       "0   Applyprinting defaults for local printer via script. We have USB receipt printers that **must** have the paper size set to a specific non-default value within printing preferences or printing defaults in order to work with our core software. I've been exploring methods to accomplish this via script but am not having complete success. \\n\\nMy current method is to run a command (found at the bottom of this post) in CMD as admin to create a REG\\_BINARY entry in *HKLM\\\\SYSTEM\\\\CurrentControlSet\\\\Control\\\\Print\\\\Printers\\\\Receipt Printer* with specific value data. This is successful, however the value data found in the REG\\_BINARY are not reflected in the receipt printer's printing preferences or printing defaults once applied. \\n\\nMy assumption is that the print object and its printing defaults registry key do not communicate bidirectionally, but only one way. I'm not sure if this is normal interaction or a limitation by the device manufacturer. \\n\\nOnce I can apply the printing default...   \n",
       "1   Kerberos and Server 2003. Hoping I'm not alone in still needing to keep a Windows Server 2003 computer connected to the domain.  Looking for what I must be overlooking.  We had paused updates on our DCs after the November update broke Kerberos for us.  This weekend I tried applying the Jan rollup update to a DC.  After I added the 'KrbtgtFullPacSignature' registry dword with a value of 2. I've also changed the msds-supportedencryptiontypes to 0x4 (RC4) on the AD object of the 2003 server.  After each change I've rebooted, even though the registry setting says a reboot isn't required.  \\nIf I try to connect from the DC to the 2003 server though through explorer I still can't browse the shares, I'll get the same error that it cannot find the computer.  I notice if I run a klist command on the updated DC the kerberos ticket shows as RSADSI RC4-HMAC for the KerbTicket Encryption Type, but below that Session Key Type is showing AES-256.  If I run klist on a DC that hasn't been updated t...   \n",
       "2   Stumped on PDC Time Sync. Hello All,  \\n\\n\\nI work at an MSP managing various types of networks, I've never run into a Time Sync issue I haven't been able to solve until now.  \\n\\n\\nI've been all over the internet researching various topics but have not found a solution. Here is a summary of the issue and steps taken so far:  \\n\\n\\nIssue:  \\nThe PDC in a domain environment recently fell out of sync by \\~1 minute. Multiple other DC's in the environment that sync via GPO to the PDC are showing the same \\~1 minute delay. The PDC is a VM on a physical HV machine running. The error received when attempted to re-sync time is \"The computer did not resync because no time data was available\" with all tested time sources. If manually testing against the time sync the error code given is 0x800705B4.\\n\\nSteps Taken:\\n\\n\\-Followed various different articles referencing different potential solutions\\n\\n\\-Removed the GPO to stop the time sync from spreading\\n\\n\\-Ran through the typical net start ...   \n",
       "3   January 2023 Patch - Kerberos Hardening questions. Hi,\\n\\n&#x200B;\\n\\n&#x200B;\\n\\nDC's are 2016 as is functional level.\\n\\n&#x200B;\\n\\nDCs are 2016.\\n\\n&#x200B;\\n\\nWe have a legacy systems like XP,2000,2003,2008 server.\\n\\n&#x200B;\\n\\nI know everyone says to decom the old servers, but our go live to replace them is like First week of april\\n\\n&#x200B;\\n\\nI have not applied the patches to our DC.  I also our network security:configure encryption types allowed GPO is NOT defined.\\n\\n&#x200B;\\n\\n&#x200B;\\n\\nMy questions are :\\n\\n&#x200B;\\n\\n1 -  **Lets say ,  when applying Microsoft's January patch it would break the Kerberos authentication for Legacy OSes ?** \\n\\n&#x200B;\\n\\n2 -  **In ADUC,  can I resolve the issue by explictly setting RC4 (0x4 (RC4\\_HMAC\\_MD5)) in msDS-SupportedEncryptionTypes for the computer objects of the target ( legacy OS) ?**\\n\\n&#x200B;\\n\\n3-   **I have noticed that when I run the script I get a report that There are 63 objects that do not have AES Keys gener...   \n",
       "4   Computer loses monitor inputs under load, and needs to hard reboot to be used (WinDbg output attached). My computer suddenly loses the monitor inputs when under load, but I can tell the computer is still running as the audio from the game I'm playing continues, my Discord call is uninterrupted, and everything seems to be functioning aside from my visual output.\\n\\nI am on 516.94 for stability. I have ruled out wire issues given I am on dual display and the issue always knocks out both monitors, while audio is still intact, and I've also tried reconnecting the cables. Temperatures are also rarely excessive; the issue of course tends to happen after I've been under load for, but GPU temps peak at around 65 degrees even when the issue happens.\\n\\nThe below crash log was when I loaded Apex, but it was literally 2 minutes into the game. \\n\\nI have also set the registry TDRDelay to 10. Before the critical error (BugcheckCode 307 as per below), it continues to show nvlddmkm errors which I...   \n",
       "..                                                                                                                                                                                                                                                                                                                                                                                                                                                                                                                                                                                                                                                                                                                                                                                                                                                                                                                                                                                                                                      ...   \n",
       "16  Black screen while playing Guild Wars 2. Hey! \\n\\nIt's the second time I get a black screen (with the sound freezing) playing Gw2 in the last 6 months. Had to restart the computer both times using the power button as I couldn't do anything. I don't have this problem playing any other games so I'd like to know if the problem comes from me / the game or something else. Everytime it happened the temps / usage looked normal and I wasn't doing something particularly heavy for the pc. I've played games that were way harder on the usage / temps for longer but never had this problem.\\n\\nComponents:\\n \\n* Motherboard: B450 Tomahawk Max (MS-7C02) *Bios Version : 3.70*\\n \\n* CPU: Ryzen 5 3600\\n* CPU cooler: Base one \\n* GPU: GeForce GTX 1660 Super *Driver Version : 516.94*\\n* RAM: Corsair Vengeance LPX 16 GB (2 x 8 GB) DDR4-3200 CL16 Memory \\n* Power supply: Corsair TX550M Gold 550 W\\n* OS: Windows 10\\n\\nDump Files:\\n\\nhttps://www.mediafire.com/file/w6r0s7z1civ690z/011823-6953-01.dmp/file\\n\\n...   \n",
       "17                                                                                                                                                                                                                                                                                                                                                                                                                                                                                                                                       HDD causing boot problems on SSD?. So I have a B560 Aorus Pro AX with a BC511 512GB drive from Hynix. I also have a 500GB Tobisha HDD. But when I added a 1TB version of that drive, I get an 0x00000f error. But removing both HDDs (haven't tried removing only 1) and changing which M.2 slot it goes in fixes it. \\nAlso my system specs are here.\\nIntel i5-10400\\n2x8 GB of 3200 megahertz RAM (limited to 2666 cus of CPU) (1 is crucial and other is Hynix)\\nBC511 512 m.2 ssd\\nRX 550 GPU   \n",
       "18                                                                                                                                                                                                                                                                                                                                                                                                                                                                                                                                                                                                                                                                                               Investigating Google Workspace Email Logs for INCOMING bounced emails. I know that in the basic email log search I can see the past 30 days logs. If I export that to Sheets I can filter the 550's. However I'm looking for a way to look beyond those 30 days. Is there a way to accomplish this with the security & investigation tool?   \n",
       "19                                                                                                                                                                                                                                                                                                                                                                                                                                                                                     Question about studying for the exam. Hi guys, \\n\\nI was wondering if its normal to feel rather tired after practicing many multiple choice questions & flashcards to the point where even thinking of doing 'one more' is met with eye spasm reading words between questions and then failing a simple question because you didn't read it right. \\n\\n&#x200B;\\n\\nFYI I use Wiley Efficient Learning for the questions. I have 550 MCQ questions and 215 flashcards. I studied all MCQ questions and some flashcards. \\n\\nI have my exam on Friday.   \n",
       "20  PC suddenly died. Hi everybody, happy new year to all.\\n\\nAfter about 3 weeks without powering on my PC it suddenly stopped booting. It was ok when I last turned it off but now it refuses to boot. I can power it on and event enter SETUP but it won't go further POST screen followed by a blinking underscore and then a reset. I tested my two RAM slots and tried a brand new one. Also my disk are ok. Only thing I am able to do is open the system setup, and everything seems to be ok there. The changes I do are persistent across cold reboots so CMOS battery is probably fine. I have a year old RX 550 plugged in the PCI slot, haven't tested it yet because I would need a VGA cable to use the onboard video. CPU is not overheating according to BIOS but I don't know whether it is faulty or not (or how to test it). Even tried to unplug everything including keyboard but it was of no help.\\n\\nI need to boot it least to be able to backup important files that are in my disk.\\n\\n[video demonstration]...   \n",
       "\n",
       "              keyword keyword type  \n",
       "0   Registry Run Keys      malware  \n",
       "1   Registry Run Keys      malware  \n",
       "2   Registry Run Keys      malware  \n",
       "3   Registry Run Keys      malware  \n",
       "4   Registry Run Keys      malware  \n",
       "..                ...          ...  \n",
       "16                550      malware  \n",
       "17                550      malware  \n",
       "18                550      malware  \n",
       "19                550      malware  \n",
       "20                550      malware  \n",
       "\n",
       "[211 rows x 3 columns]"
      ]
     },
     "execution_count": 49,
     "metadata": {},
     "output_type": "execute_result"
    }
   ],
   "source": [
    "matches_attack = pd.concat([matches1, matches2])\n",
    "matches_attack"
   ]
  },
  {
   "cell_type": "code",
   "execution_count": 50,
   "id": "adb93597",
   "metadata": {},
   "outputs": [],
   "source": [
    "matches_attack['keyword type'] = 'attack'"
   ]
  },
  {
   "cell_type": "code",
   "execution_count": 51,
   "id": "65ad27a3",
   "metadata": {},
   "outputs": [],
   "source": [
    "matches_attack.to_csv(r'C:\\Users\\leona\\OneDrive\\Desktop\\Tesi\\Pipeline\\Datasets\\Pipeline\\SocialNetworksPosts\\Reddit\\Months\\07\\Posts_filteredby_Attacks.csv')"
   ]
  },
  {
   "cell_type": "markdown",
   "id": "e5891f03",
   "metadata": {},
   "source": [
    "### Malware names searching"
   ]
  },
  {
   "cell_type": "code",
   "execution_count": 71,
   "id": "153f5078",
   "metadata": {
    "scrolled": true
   },
   "outputs": [
    {
     "name": "stderr",
     "output_type": "stream",
     "text": [
      "Processing words:   0%|          | 0/56 [00:00<?, ?it/s]"
     ]
    },
    {
     "name": "stdout",
     "output_type": "stream",
     "text": [
      "Now: remcos \n"
     ]
    },
    {
     "name": "stderr",
     "output_type": "stream",
     "text": [
      "Processing posts: 100%|██████████| 34431/34431 [00:06<00:00, 5080.69it/s]\n",
      "Processing words:   2%|▏         | 1/56 [00:06<06:13,  6.79s/it]"
     ]
    },
    {
     "name": "stdout",
     "output_type": "stream",
     "text": [
      "Now: generic mg \n"
     ]
    },
    {
     "name": "stderr",
     "output_type": "stream",
     "text": [
      "Processing posts: 100%|██████████| 34431/34431 [00:06<00:00, 5189.94it/s]\n",
      "Processing words:   4%|▎         | 2/56 [00:13<06:01,  6.70s/it]"
     ]
    },
    {
     "name": "stdout",
     "output_type": "stream",
     "text": [
      "Now: njrat \n"
     ]
    },
    {
     "name": "stderr",
     "output_type": "stream",
     "text": [
      "Processing posts: 100%|██████████| 34431/34431 [00:06<00:00, 5112.18it/s]\n",
      "Processing words:   5%|▌         | 3/56 [00:20<05:56,  6.72s/it]"
     ]
    },
    {
     "name": "stdout",
     "output_type": "stream",
     "text": [
      "Now: bitrat \n"
     ]
    },
    {
     "name": "stderr",
     "output_type": "stream",
     "text": [
      "Processing posts: 100%|██████████| 34431/34431 [00:06<00:00, 5037.68it/s]\n",
      "Processing words:   7%|▋         | 4/56 [00:27<05:51,  6.77s/it]"
     ]
    },
    {
     "name": "stdout",
     "output_type": "stream",
     "text": [
      "Now: mirai \n"
     ]
    },
    {
     "name": "stderr",
     "output_type": "stream",
     "text": [
      "Processing posts: 100%|██████████| 34431/34431 [00:06<00:00, 5204.08it/s]\n",
      "Processing words:   9%|▉         | 5/56 [00:33<05:42,  6.72s/it]"
     ]
    },
    {
     "name": "stdout",
     "output_type": "stream",
     "text": [
      "Now: injector gen \n"
     ]
    },
    {
     "name": "stderr",
     "output_type": "stream",
     "text": [
      "Processing posts: 100%|██████████| 34431/34431 [00:07<00:00, 4904.22it/s]\n",
      "Processing words:  11%|█         | 6/56 [00:40<05:41,  6.82s/it]"
     ]
    },
    {
     "name": "stdout",
     "output_type": "stream",
     "text": [
      "Now: generickd \n"
     ]
    },
    {
     "name": "stderr",
     "output_type": "stream",
     "text": [
      "Processing posts: 100%|██████████| 34431/34431 [00:06<00:00, 5118.70it/s]\n",
      "Processing words:  12%|█▎        | 7/56 [00:47<05:32,  6.79s/it]"
     ]
    },
    {
     "name": "stdout",
     "output_type": "stream",
     "text": [
      "Now: quasar rat \n"
     ]
    },
    {
     "name": "stderr",
     "output_type": "stream",
     "text": [
      "Processing posts: 100%|██████████| 34431/34431 [00:06<00:00, 5109.64it/s]\n",
      "Processing words:  14%|█▍        | 8/56 [00:54<05:25,  6.78s/it]"
     ]
    },
    {
     "name": "stdout",
     "output_type": "stream",
     "text": [
      "Now: muldrop \n"
     ]
    },
    {
     "name": "stderr",
     "output_type": "stream",
     "text": [
      "Processing posts: 100%|██████████| 34431/34431 [00:06<00:00, 5365.25it/s]\n",
      "Processing words:  16%|█▌        | 9/56 [01:00<05:13,  6.67s/it]"
     ]
    },
    {
     "name": "stdout",
     "output_type": "stream",
     "text": [
      "Now: netwire \n"
     ]
    },
    {
     "name": "stderr",
     "output_type": "stream",
     "text": [
      "Processing posts: 100%|██████████| 34431/34431 [00:06<00:00, 4942.71it/s]\n",
      "Processing words:  18%|█▊        | 10/56 [01:07<05:11,  6.76s/it]"
     ]
    },
    {
     "name": "stdout",
     "output_type": "stream",
     "text": [
      "Now: ave maria \n"
     ]
    },
    {
     "name": "stderr",
     "output_type": "stream",
     "text": [
      "Processing posts: 100%|██████████| 34431/34431 [00:07<00:00, 4732.20it/s]\n",
      "Processing words:  20%|█▉        | 11/56 [01:14<05:11,  6.92s/it]"
     ]
    },
    {
     "name": "stdout",
     "output_type": "stream",
     "text": [
      "Now: script cryxos \n"
     ]
    },
    {
     "name": "stderr",
     "output_type": "stream",
     "text": [
      "Processing posts: 100%|██████████| 34431/34431 [00:07<00:00, 4667.20it/s]\n",
      "Processing words:  21%|██▏       | 12/56 [01:22<05:10,  7.06s/it]"
     ]
    },
    {
     "name": "stdout",
     "output_type": "stream",
     "text": [
      "Now: downloader gen \n"
     ]
    },
    {
     "name": "stderr",
     "output_type": "stream",
     "text": [
      "Processing posts: 100%|██████████| 34431/34431 [00:07<00:00, 4760.47it/s]\n",
      "Processing words:  23%|██▎       | 13/56 [01:29<05:05,  7.12s/it]"
     ]
    },
    {
     "name": "stdout",
     "output_type": "stream",
     "text": [
      "Now: orcus \n"
     ]
    },
    {
     "name": "stderr",
     "output_type": "stream",
     "text": [
      "Processing posts: 100%|██████████| 34431/34431 [00:07<00:00, 4536.87it/s]\n",
      "Processing words:  25%|██▌       | 14/56 [01:37<05:05,  7.26s/it]"
     ]
    },
    {
     "name": "stdout",
     "output_type": "stream",
     "text": [
      "Now: x gen drp \n"
     ]
    },
    {
     "name": "stderr",
     "output_type": "stream",
     "text": [
      "Processing posts: 100%|██████████| 34431/34431 [00:07<00:00, 4856.03it/s]\n",
      "Processing words:  27%|██▋       | 15/56 [01:44<04:55,  7.21s/it]"
     ]
    },
    {
     "name": "stdout",
     "output_type": "stream",
     "text": [
      "Now: agent tesla \n"
     ]
    },
    {
     "name": "stderr",
     "output_type": "stream",
     "text": [
      "Processing posts: 100%|██████████| 34431/34431 [00:06<00:00, 5053.69it/s]\n",
      "Processing words:  29%|██▊       | 16/56 [01:50<04:43,  7.10s/it]"
     ]
    },
    {
     "name": "stdout",
     "output_type": "stream",
     "text": [
      "Now: nanocore rat \n"
     ]
    },
    {
     "name": "stderr",
     "output_type": "stream",
     "text": [
      "Processing posts: 100%|██████████| 34431/34431 [00:08<00:00, 4003.49it/s]\n",
      "Processing words:  30%|███       | 17/56 [01:59<04:54,  7.55s/it]"
     ]
    },
    {
     "name": "stdout",
     "output_type": "stream",
     "text": [
      "Now: redline stealer \n"
     ]
    },
    {
     "name": "stderr",
     "output_type": "stream",
     "text": [
      "Processing posts: 100%|██████████| 34431/34431 [00:07<00:00, 4910.47it/s]\n",
      "Processing words:  32%|███▏      | 18/56 [02:06<04:40,  7.39s/it]"
     ]
    },
    {
     "name": "stdout",
     "output_type": "stream",
     "text": [
      "Now: lumma stealer \n"
     ]
    },
    {
     "name": "stderr",
     "output_type": "stream",
     "text": [
      "Processing posts: 100%|██████████| 34431/34431 [00:07<00:00, 4472.30it/s]\n",
      "Processing words:  34%|███▍      | 19/56 [02:14<04:37,  7.49s/it]"
     ]
    },
    {
     "name": "stdout",
     "output_type": "stream",
     "text": [
      "Now: siggen \n"
     ]
    },
    {
     "name": "stderr",
     "output_type": "stream",
     "text": [
      "Processing posts: 100%|██████████| 34431/34431 [00:07<00:00, 4609.60it/s]\n",
      "Processing words:  36%|███▌      | 20/56 [02:21<04:29,  7.48s/it]"
     ]
    },
    {
     "name": "stdout",
     "output_type": "stream",
     "text": [
      "Now: spynote \n"
     ]
    },
    {
     "name": "stderr",
     "output_type": "stream",
     "text": [
      "Processing posts: 100%|██████████| 34431/34431 [00:07<00:00, 4611.27it/s]\n",
      "Processing words:  38%|███▊      | 21/56 [02:29<04:21,  7.48s/it]"
     ]
    },
    {
     "name": "stdout",
     "output_type": "stream",
     "text": [
      "Now: kryptik gen \n"
     ]
    },
    {
     "name": "stderr",
     "output_type": "stream",
     "text": [
      "Processing posts: 100%|██████████| 34431/34431 [00:09<00:00, 3789.72it/s]\n",
      "Processing words:  39%|███▉      | 22/56 [02:38<04:30,  7.96s/it]"
     ]
    },
    {
     "name": "stdout",
     "output_type": "stream",
     "text": [
      "Now: obfus \n"
     ]
    },
    {
     "name": "stderr",
     "output_type": "stream",
     "text": [
      "Processing posts: 100%|██████████| 34431/34431 [00:07<00:00, 4497.75it/s]\n",
      "Processing words:  41%|████      | 23/56 [02:46<04:19,  7.87s/it]"
     ]
    },
    {
     "name": "stdout",
     "output_type": "stream",
     "text": [
      "Now: kryptik gen eldorado \n"
     ]
    },
    {
     "name": "stderr",
     "output_type": "stream",
     "text": [
      "Processing posts: 100%|██████████| 34431/34431 [00:06<00:00, 4975.96it/s]\n",
      "Processing words:  43%|████▎     | 24/56 [02:52<04:02,  7.59s/it]"
     ]
    },
    {
     "name": "stdout",
     "output_type": "stream",
     "text": [
      "Now: valyria \n"
     ]
    },
    {
     "name": "stderr",
     "output_type": "stream",
     "text": [
      "Processing posts: 100%|██████████| 34431/34431 [00:07<00:00, 4913.30it/s]\n",
      "Processing words:  45%|████▍     | 25/56 [02:59<03:50,  7.42s/it]"
     ]
    },
    {
     "name": "stdout",
     "output_type": "stream",
     "text": [
      "Now: artemis \n"
     ]
    },
    {
     "name": "stderr",
     "output_type": "stream",
     "text": [
      "Processing posts: 100%|██████████| 34431/34431 [00:07<00:00, 4813.66it/s]\n",
      "Processing words:  46%|████▋     | 26/56 [03:07<03:40,  7.34s/it]"
     ]
    },
    {
     "name": "stdout",
     "output_type": "stream",
     "text": [
      "Now: twave evil \n"
     ]
    },
    {
     "name": "stderr",
     "output_type": "stream",
     "text": [
      "Processing posts: 100%|██████████| 34431/34431 [00:07<00:00, 4602.94it/s]\n",
      "Processing words:  48%|████▊     | 27/56 [03:14<03:34,  7.39s/it]"
     ]
    },
    {
     "name": "stdout",
     "output_type": "stream",
     "text": [
      "Now: java gen \n"
     ]
    },
    {
     "name": "stderr",
     "output_type": "stream",
     "text": [
      "Processing posts: 100%|██████████| 34431/34431 [00:09<00:00, 3684.10it/s]\n",
      "Processing words:  50%|█████     | 28/56 [03:23<03:43,  7.98s/it]"
     ]
    },
    {
     "name": "stdout",
     "output_type": "stream",
     "text": [
      "Now: borlanddelphi \n"
     ]
    },
    {
     "name": "stderr",
     "output_type": "stream",
     "text": [
      "Processing posts: 100%|██████████| 34431/34431 [00:07<00:00, 4803.79it/s]\n",
      "Processing words:  52%|█████▏    | 29/56 [03:31<03:28,  7.74s/it]"
     ]
    },
    {
     "name": "stdout",
     "output_type": "stream",
     "text": [
      "Now: cobalt strike \n"
     ]
    },
    {
     "name": "stderr",
     "output_type": "stream",
     "text": [
      "Processing posts: 100%|██████████| 34431/34431 [00:07<00:00, 4699.87it/s]\n",
      "Processing words:  54%|█████▎    | 30/56 [03:38<03:18,  7.62s/it]"
     ]
    },
    {
     "name": "stdout",
     "output_type": "stream",
     "text": [
      "Now: aidetect net \n"
     ]
    },
    {
     "name": "stderr",
     "output_type": "stream",
     "text": [
      "Processing posts: 100%|██████████| 34431/34431 [00:07<00:00, 4692.37it/s]\n",
      "Processing words:  55%|█████▌    | 31/56 [03:45<03:08,  7.54s/it]"
     ]
    },
    {
     "name": "stdout",
     "output_type": "stream",
     "text": [
      "Now: miscreantpunch \n"
     ]
    },
    {
     "name": "stderr",
     "output_type": "stream",
     "text": [
      "Processing posts: 100%|██████████| 34431/34431 [00:07<00:00, 4645.53it/s]\n",
      "Processing words:  57%|█████▋    | 32/56 [03:53<02:59,  7.50s/it]"
     ]
    },
    {
     "name": "stdout",
     "output_type": "stream",
     "text": [
      "Now: perseus \n"
     ]
    },
    {
     "name": "stderr",
     "output_type": "stream",
     "text": [
      "Processing posts: 100%|██████████| 34431/34431 [00:06<00:00, 5033.28it/s]\n",
      "Processing words:  59%|█████▉    | 33/56 [04:00<02:47,  7.30s/it]"
     ]
    },
    {
     "name": "stdout",
     "output_type": "stream",
     "text": [
      "Now: behaveslike generic \n"
     ]
    },
    {
     "name": "stderr",
     "output_type": "stream",
     "text": [
      "Processing posts: 100%|██████████| 34431/34431 [00:07<00:00, 4840.20it/s]\n",
      "Processing words:  61%|██████    | 34/56 [04:07<02:39,  7.25s/it]"
     ]
    },
    {
     "name": "stdout",
     "output_type": "stream",
     "text": [
      "Now: heracles \n"
     ]
    },
    {
     "name": "stderr",
     "output_type": "stream",
     "text": [
      "Processing posts: 100%|██████████| 34431/34431 [00:09<00:00, 3799.21it/s]\n",
      "Processing words:  62%|██████▎   | 35/56 [04:16<02:43,  7.80s/it]"
     ]
    },
    {
     "name": "stdout",
     "output_type": "stream",
     "text": [
      "Now: darkcomet \n"
     ]
    },
    {
     "name": "stderr",
     "output_type": "stream",
     "text": [
      "Processing posts: 100%|██████████| 34431/34431 [00:07<00:00, 4773.73it/s]\n",
      "Processing words:  64%|██████▍   | 36/56 [04:23<02:32,  7.63s/it]"
     ]
    },
    {
     "name": "stdout",
     "output_type": "stream",
     "text": [
      "Now: crypter gen \n"
     ]
    },
    {
     "name": "stderr",
     "output_type": "stream",
     "text": [
      "Processing posts: 100%|██████████| 34431/34431 [00:07<00:00, 4718.33it/s]\n",
      "Processing words:  66%|██████▌   | 37/56 [04:30<02:23,  7.53s/it]"
     ]
    },
    {
     "name": "stdout",
     "output_type": "stream",
     "text": [
      "Now: wannacryptor \n"
     ]
    },
    {
     "name": "stderr",
     "output_type": "stream",
     "text": [
      "Processing posts: 100%|██████████| 34431/34431 [00:06<00:00, 4955.16it/s]\n",
      "Processing words:  68%|██████▊   | 38/56 [04:37<02:12,  7.36s/it]"
     ]
    },
    {
     "name": "stdout",
     "output_type": "stream",
     "text": [
      "Now: formbook \n"
     ]
    },
    {
     "name": "stderr",
     "output_type": "stream",
     "text": [
      "Processing posts: 100%|██████████| 34431/34431 [00:07<00:00, 4771.43it/s]\n",
      "Processing words:  70%|██████▉   | 39/56 [04:45<02:04,  7.32s/it]"
     ]
    },
    {
     "name": "stdout",
     "output_type": "stream",
     "text": [
      "Now: azorult \n"
     ]
    },
    {
     "name": "stderr",
     "output_type": "stream",
     "text": [
      "Processing posts: 100%|██████████| 34431/34431 [00:07<00:00, 4794.70it/s]\n",
      "Processing words:  71%|███████▏  | 40/56 [04:52<01:56,  7.28s/it]"
     ]
    },
    {
     "name": "stdout",
     "output_type": "stream",
     "text": [
      "Now: genmalicious \n"
     ]
    },
    {
     "name": "stderr",
     "output_type": "stream",
     "text": [
      "Processing posts: 100%|██████████| 34431/34431 [00:07<00:00, 4821.27it/s]\n",
      "Processing words:  73%|███████▎  | 41/56 [04:59<01:48,  7.24s/it]"
     ]
    },
    {
     "name": "stdout",
     "output_type": "stream",
     "text": [
      "Now: bv downloader drp \n"
     ]
    },
    {
     "name": "stderr",
     "output_type": "stream",
     "text": [
      "Processing posts: 100%|██████████| 34431/34431 [00:07<00:00, 4855.19it/s]\n",
      "Processing words:  75%|███████▌  | 42/56 [05:06<01:40,  7.20s/it]"
     ]
    },
    {
     "name": "stdout",
     "output_type": "stream",
     "text": [
      "Now: evo gen \n"
     ]
    },
    {
     "name": "stderr",
     "output_type": "stream",
     "text": [
      "Processing posts: 100%|██████████| 34431/34431 [00:07<00:00, 4918.64it/s]\n",
      "Processing words:  77%|███████▋  | 43/56 [05:13<01:32,  7.14s/it]"
     ]
    },
    {
     "name": "stdout",
     "output_type": "stream",
     "text": [
      "Now: ddos \n"
     ]
    },
    {
     "name": "stderr",
     "output_type": "stream",
     "text": [
      "Processing posts: 100%|██████████| 34431/34431 [00:10<00:00, 3243.65it/s]\n",
      "Processing words:  79%|███████▊  | 44/56 [05:24<01:38,  8.19s/it]"
     ]
    },
    {
     "name": "stdout",
     "output_type": "stream",
     "text": [
      "Now: gafgyt \n"
     ]
    },
    {
     "name": "stderr",
     "output_type": "stream",
     "text": [
      "Processing posts: 100%|██████████| 34431/34431 [00:07<00:00, 4680.17it/s]\n",
      "Processing words:  80%|████████  | 45/56 [05:31<01:27,  7.94s/it]"
     ]
    },
    {
     "name": "stdout",
     "output_type": "stream",
     "text": [
      "Now: keylogger gen \n"
     ]
    },
    {
     "name": "stderr",
     "output_type": "stream",
     "text": [
      "Processing posts: 100%|██████████| 34431/34431 [00:08<00:00, 4257.69it/s]\n",
      "Processing words:  82%|████████▏ | 46/56 [05:39<01:19,  7.98s/it]"
     ]
    },
    {
     "name": "stdout",
     "output_type": "stream",
     "text": [
      "Now: cve exploit \n"
     ]
    },
    {
     "name": "stderr",
     "output_type": "stream",
     "text": [
      "Processing posts: 100%|██████████| 34431/34431 [00:08<00:00, 3884.66it/s]\n",
      "Processing words:  84%|████████▍ | 47/56 [05:48<01:14,  8.25s/it]"
     ]
    },
    {
     "name": "stdout",
     "output_type": "stream",
     "text": [
      "Now: banker gen \n"
     ]
    },
    {
     "name": "stderr",
     "output_type": "stream",
     "text": [
      "Processing posts: 100%|██████████| 34431/34431 [00:08<00:00, 3907.43it/s]\n",
      "Processing words:  86%|████████▌ | 48/56 [05:57<01:07,  8.42s/it]"
     ]
    },
    {
     "name": "stdout",
     "output_type": "stream",
     "text": [
      "Now: autoit \n"
     ]
    },
    {
     "name": "stderr",
     "output_type": "stream",
     "text": [
      "Processing posts: 100%|██████████| 34431/34431 [00:08<00:00, 3847.97it/s]\n",
      "Processing words:  88%|████████▊ | 49/56 [06:06<01:00,  8.58s/it]"
     ]
    },
    {
     "name": "stdout",
     "output_type": "stream",
     "text": [
      "Now: exploitx \n"
     ]
    },
    {
     "name": "stderr",
     "output_type": "stream",
     "text": [
      "Processing posts: 100%|██████████| 34431/34431 [00:09<00:00, 3787.89it/s]\n",
      "Processing words:  89%|████████▉ | 50/56 [06:15<00:52,  8.74s/it]"
     ]
    },
    {
     "name": "stdout",
     "output_type": "stream",
     "text": [
      "Now: coinminer generic \n"
     ]
    },
    {
     "name": "stderr",
     "output_type": "stream",
     "text": [
      "Processing posts: 100%|██████████| 34431/34431 [00:09<00:00, 3792.90it/s]\n",
      "Processing words:  91%|█████████ | 51/56 [06:24<00:44,  8.84s/it]"
     ]
    },
    {
     "name": "stdout",
     "output_type": "stream",
     "text": [
      "Now: loki password stealer  pws \n"
     ]
    },
    {
     "name": "stderr",
     "output_type": "stream",
     "text": [
      "Processing posts: 100%|██████████| 34431/34431 [00:07<00:00, 4520.48it/s]\n",
      "Processing words:  93%|█████████▎| 52/56 [06:32<00:33,  8.48s/it]"
     ]
    },
    {
     "name": "stdout",
     "output_type": "stream",
     "text": [
      "Now: meterpreter \n"
     ]
    },
    {
     "name": "stderr",
     "output_type": "stream",
     "text": [
      "Processing posts: 100%|██████████| 34431/34431 [00:07<00:00, 4755.52it/s]\n",
      "Processing words:  95%|█████████▍| 53/56 [06:39<00:24,  8.11s/it]"
     ]
    },
    {
     "name": "stdout",
     "output_type": "stream",
     "text": [
      "Now: crimson rat \n"
     ]
    },
    {
     "name": "stderr",
     "output_type": "stream",
     "text": [
      "Processing posts: 100%|██████████| 34431/34431 [00:08<00:00, 3942.80it/s]\n",
      "Processing words:  96%|█████████▋| 54/56 [06:47<00:16,  8.30s/it]"
     ]
    },
    {
     "name": "stdout",
     "output_type": "stream",
     "text": [
      "Now: nanobot \n"
     ]
    },
    {
     "name": "stderr",
     "output_type": "stream",
     "text": [
      "Processing posts: 100%|██████████| 34431/34431 [00:13<00:00, 2538.74it/s]\n",
      "Processing words:  98%|█████████▊| 55/56 [07:01<00:09,  9.88s/it]"
     ]
    },
    {
     "name": "stdout",
     "output_type": "stream",
     "text": [
      "Now: ghost rat \n"
     ]
    },
    {
     "name": "stderr",
     "output_type": "stream",
     "text": [
      "Processing posts: 100%|██████████| 34431/34431 [00:09<00:00, 3588.01it/s]\n",
      "Processing words: 100%|██████████| 56/56 [07:11<00:00,  7.70s/it]\n"
     ]
    }
   ],
   "source": [
    "matches_malware = pd.DataFrame()\n",
    "\n",
    "matches_malware = malware_search( all_malware_list , selected_rows)"
   ]
  },
  {
   "cell_type": "code",
   "execution_count": 72,
   "id": "109210c2",
   "metadata": {},
   "outputs": [
    {
     "data": {
      "text/html": [
       "<div>\n",
       "<style scoped>\n",
       "    .dataframe tbody tr th:only-of-type {\n",
       "        vertical-align: middle;\n",
       "    }\n",
       "\n",
       "    .dataframe tbody tr th {\n",
       "        vertical-align: top;\n",
       "    }\n",
       "\n",
       "    .dataframe thead th {\n",
       "        text-align: right;\n",
       "    }\n",
       "</style>\n",
       "<table border=\"1\" class=\"dataframe\">\n",
       "  <thead>\n",
       "    <tr style=\"text-align: right;\">\n",
       "      <th></th>\n",
       "      <th>index</th>\n",
       "      <th>subreddit</th>\n",
       "      <th>username</th>\n",
       "      <th>date</th>\n",
       "      <th>title</th>\n",
       "      <th>text</th>\n",
       "    </tr>\n",
       "  </thead>\n",
       "  <tbody>\n",
       "    <tr>\n",
       "      <th>0</th>\n",
       "      <td>352604</td>\n",
       "      <td>windows</td>\n",
       "      <td>t3_10qd06w</td>\n",
       "      <td>2023-01-31</td>\n",
       "      <td>I need to resintall windows. Help would be appreciated</td>\n",
       "      <td>So my SSD, where my OS is installed, is coming to its end, not surprisingly however, and I need to reinstall windows on a new SSD. My question is, can I save the entire system as it is, including games etc, on the OneDrive or do I need to \"backup\" the PC. I am honestly somewhat new to backing up my PC and am oblivious to what that actually means. Basically I want to, if it is at all possible, back up everything including games, the wallpaper that currently sits on my screen, settings, etc.... but I dont know how to do that. Anyone care to provide their personal experiences or maybe some anecdotal experiences? Thanks for any help and time that you have provided in finding my answer for such a tarnished as I. \\*\\*\\*been playing Elden Ring as of late sooo yea, let me nerd bro\\*\\*\\*</td>\n",
       "    </tr>\n",
       "    <tr>\n",
       "      <th>1</th>\n",
       "      <td>352606</td>\n",
       "      <td>cybersecurity_help</td>\n",
       "      <td>t3_10qd2wn</td>\n",
       "      <td>2023-01-31</td>\n",
       "      <td>Searching for an All-In-One Security</td>\n",
       "      <td>Is there a security service that offers a Firewall, Antivirus and a VPN?\\n\\nIs it redundant to have all three? \\n\\nMy understanding is that they all function differently and provide different types of protection. However it seems most products I find offer only 2 out of 3.</td>\n",
       "    </tr>\n",
       "    <tr>\n",
       "      <th>2</th>\n",
       "      <td>352614</td>\n",
       "      <td>AndroidQuestions</td>\n",
       "      <td>t3_10qd8qf</td>\n",
       "      <td>2023-01-31</td>\n",
       "      <td>is there a way to control Audible app on my phone using my Samsung Smartwatch?</td>\n",
       "      <td>I  would really like the option to control the Audible app using my watch instead of pulling out my phone when I want to rewind or take a text note using my keyboard's voice to text feature. \\n             \\n          \\nwould make using it at work better since I dont have to pull out my phone and can keep working and listening without anybody noticing.           \\n                  \\nfeel like there is not much I can do with my watch honestly other than answering phone calls and turning off alarms and stuff like that. But to be able to control my phone's apps would be cool.</td>\n",
       "    </tr>\n",
       "    <tr>\n",
       "      <th>3</th>\n",
       "      <td>352630</td>\n",
       "      <td>androidapps</td>\n",
       "      <td>t3_10qd9kp</td>\n",
       "      <td>2023-01-31</td>\n",
       "      <td>is there a way to control Audible app on my phone using my Samsung Smartwatch?</td>\n",
       "      <td>I  would really like the option to control the Audible app using my watch instead of pulling out my phone when I want to rewind or take a text note using my keyboard's voice to text feature. \\n             \\n          \\nwould make using it at work better since I dont have to pull out my phone and can keep working and listening without anybody noticing.           \\n                  \\nfeel like there is not much I can do with my watch honestly other than answering phone calls and turning off alarms and stuff like that. But to be able to control my phone's apps would be cool.</td>\n",
       "    </tr>\n",
       "    <tr>\n",
       "      <th>4</th>\n",
       "      <td>352631</td>\n",
       "      <td>androidapps</td>\n",
       "      <td>t3_10qczkq</td>\n",
       "      <td>2023-01-31</td>\n",
       "      <td>Please, need help with WhatsApp incoming group calls not ringing.</td>\n",
       "      <td>Incoming group call initiates only single  notification tone (similar to message notification) but not ringtone, so phone does not actually ring. As a result I have a lot of missed group calls. \\nSame happens on other participants phones in the group when we call each other. All phones behave similarly, it's not only mine ... Call from and to single contact makes the phone ring here as well as on the other end when we make whatsapp calls. \\n\\nAnother detail is that when I make a call to the group there is no ringing happening on my end while I am waiting for another party to answer.\\nSo, please, can anyone advise how can I asign ringtones to whatsapp groups, if it is possible at all!  Thanks.</td>\n",
       "    </tr>\n",
       "  </tbody>\n",
       "</table>\n",
       "</div>"
      ],
      "text/plain": [
       "    index           subreddit    username        date  \\\n",
       "0  352604             windows  t3_10qd06w  2023-01-31   \n",
       "1  352606  cybersecurity_help  t3_10qd2wn  2023-01-31   \n",
       "2  352614    AndroidQuestions  t3_10qd8qf  2023-01-31   \n",
       "3  352630         androidapps  t3_10qd9kp  2023-01-31   \n",
       "4  352631         androidapps  t3_10qczkq  2023-01-31   \n",
       "\n",
       "                                                                            title  \\\n",
       "0                          I need to resintall windows. Help would be appreciated   \n",
       "1                                            Searching for an All-In-One Security   \n",
       "2  is there a way to control Audible app on my phone using my Samsung Smartwatch?   \n",
       "3  is there a way to control Audible app on my phone using my Samsung Smartwatch?   \n",
       "4               Please, need help with WhatsApp incoming group calls not ringing.   \n",
       "\n",
       "                                                                                                                                                                                                                                                                                                                                                                                                                                                                                                                                                                                                                                                                                                                                                                                                                    text  \n",
       "0  So my SSD, where my OS is installed, is coming to its end, not surprisingly however, and I need to reinstall windows on a new SSD. My question is, can I save the entire system as it is, including games etc, on the OneDrive or do I need to \"backup\" the PC. I am honestly somewhat new to backing up my PC and am oblivious to what that actually means. Basically I want to, if it is at all possible, back up everything including games, the wallpaper that currently sits on my screen, settings, etc.... but I dont know how to do that. Anyone care to provide their personal experiences or maybe some anecdotal experiences? Thanks for any help and time that you have provided in finding my answer for such a tarnished as I. \\*\\*\\*been playing Elden Ring as of late sooo yea, let me nerd bro\\*\\*\\*  \n",
       "1                                                                                                                                                                                                                                                                                                                                                                                                                                                                                                                                      Is there a security service that offers a Firewall, Antivirus and a VPN?\\n\\nIs it redundant to have all three? \\n\\nMy understanding is that they all function differently and provide different types of protection. However it seems most products I find offer only 2 out of 3.  \n",
       "2                                                                                                                                                                                                                   I  would really like the option to control the Audible app using my watch instead of pulling out my phone when I want to rewind or take a text note using my keyboard's voice to text feature. \\n             \\n          \\nwould make using it at work better since I dont have to pull out my phone and can keep working and listening without anybody noticing.           \\n                  \\nfeel like there is not much I can do with my watch honestly other than answering phone calls and turning off alarms and stuff like that. But to be able to control my phone's apps would be cool.  \n",
       "3                                                                                                                                                                                                                   I  would really like the option to control the Audible app using my watch instead of pulling out my phone when I want to rewind or take a text note using my keyboard's voice to text feature. \\n             \\n          \\nwould make using it at work better since I dont have to pull out my phone and can keep working and listening without anybody noticing.           \\n                  \\nfeel like there is not much I can do with my watch honestly other than answering phone calls and turning off alarms and stuff like that. But to be able to control my phone's apps would be cool.  \n",
       "4                                                                                          Incoming group call initiates only single  notification tone (similar to message notification) but not ringtone, so phone does not actually ring. As a result I have a lot of missed group calls. \\nSame happens on other participants phones in the group when we call each other. All phones behave similarly, it's not only mine ... Call from and to single contact makes the phone ring here as well as on the other end when we make whatsapp calls. \\n\\nAnother detail is that when I make a call to the group there is no ringing happening on my end while I am waiting for another party to answer.\\nSo, please, can anyone advise how can I asign ringtones to whatsapp groups, if it is possible at all!  Thanks.  "
      ]
     },
     "execution_count": 72,
     "metadata": {},
     "output_type": "execute_result"
    }
   ],
   "source": [
    "selected_rows.head()"
   ]
  },
  {
   "cell_type": "code",
   "execution_count": 73,
   "id": "4a8ea30e",
   "metadata": {},
   "outputs": [
    {
     "data": {
      "text/html": [
       "<div>\n",
       "<style scoped>\n",
       "    .dataframe tbody tr th:only-of-type {\n",
       "        vertical-align: middle;\n",
       "    }\n",
       "\n",
       "    .dataframe tbody tr th {\n",
       "        vertical-align: top;\n",
       "    }\n",
       "\n",
       "    .dataframe thead th {\n",
       "        text-align: right;\n",
       "    }\n",
       "</style>\n",
       "<table border=\"1\" class=\"dataframe\">\n",
       "  <thead>\n",
       "    <tr style=\"text-align: right;\">\n",
       "      <th></th>\n",
       "      <th>full_text</th>\n",
       "      <th>keyword</th>\n",
       "      <th>keyword type</th>\n",
       "    </tr>\n",
       "  </thead>\n",
       "  <tbody>\n",
       "    <tr>\n",
       "      <th>0</th>\n",
       "      <td>Why are tools like Remcos RAT that are used for malicious objectives openly available online?. Hey, I am researching Remote Access Trojans also called Remote Access Tools and one thing I dont understand that there are these RATs fully accessible on the clearnet even with pricing included that I have read about being used in cyber attacks. How is this possible? What am I missing here?  \\nWhy isnt police closing these websites and catching everyone behind this software?  \\nIs it enough of them to claim that this is for \"remote operations and control remote computers\" despite these tools having bundled software like keylogger, which is yet another type of malware?</td>\n",
       "      <td>remcos</td>\n",
       "      <td>malware</td>\n",
       "    </tr>\n",
       "    <tr>\n",
       "      <th>1</th>\n",
       "      <td>New Remcos RATversion uses direct syscalls to evade detection..</td>\n",
       "      <td>remcos</td>\n",
       "      <td>malware</td>\n",
       "    </tr>\n",
       "    <tr>\n",
       "      <th>2</th>\n",
       "      <td>RegAsm.exe trying to access malicious domain. Disclaimer: I do not have technical knowledge of cybersecurity, just a layperson's intuition on how computers work.\\n\\nI stupidly clicked on a script file that I didn't recognize on my laptop, and quickly realized my error. Malwarebytes helped me quarantine the script file and continues to keep blocking my RegAsm.exe from connecting to this harmful domain.\\n\\nI did some digging on the blocked IP address, and according to [https://www.joesandbox.com/analysis/677877/0/html](https://www.joesandbox.com/analysis/677877/0/html)\\n\\nthe site harbors an NJRAT. So I ran MB's scan, adwarecleaner, FRST for logs, and tdsskiller. All the scans turned out clean, but I'm concerned as to whether the script is still running, or if it modified my RegAsm.exe to keep trying to access the domain.\\n\\n[Here's an image to the MB notification I continue to get](https://imgur.com/a/oWvKvWo)\\n\\n&amp;#x200B;\\n\\nSo what I did next was create inbound and outbound rules t...</td>\n",
       "      <td>njrat</td>\n",
       "      <td>malware</td>\n",
       "    </tr>\n",
       "    <tr>\n",
       "      <th>3</th>\n",
       "      <td>I downloaded a malware. Please help!!. \\nPlease read this all and help me. I need experts to help.\\n\\nAbout a week ago, I was just watching movies on website with pop-up ads. Suddenly a zip file was downloaded when a pop-up appeared. I was using a new chrome profile so the downloads weren't asking where to save. I know its my mistake. I am not sure if it was a zip or just a picture but in bottom of screen where chrome shows downloads there was zip type folder ( I mean it had books as a zip archive ). It was titled ( Use_2022_as_password ) I got flustered and scared as it auto downloaded so first I went to file explorer and right clicked on the zip. Clicked on properties and viewed them. After closing properties, I deleted the zip in instant. In google downloads it showed deleted too. Then cleared recycle bin. I then checked in chrome downloads where the web address was something ( https:// cdn. discordapp. com/ attachments/ \" and whole bunch of numbers \" ) I googled it then came to...</td>\n",
       "      <td>njrat</td>\n",
       "      <td>malware</td>\n",
       "    </tr>\n",
       "    <tr>\n",
       "      <th>4</th>\n",
       "      <td>Solution : Unbearable popping sound from earphones. I am using Ubuntu 20.04. The popping sound from the earphone was unbearable. Even when I play video I could hear it clearly. I tried all the solutions from the internet. Sound mixer, matching bitrate, disable power settings, tinkering pulseaudio settings etc.\\n\\nAt last I installed pipewire and the popping sound is almost gone. So, if someone is having the same problem. Please don't waste your time. Just install pipewire.</td>\n",
       "      <td>bitrat</td>\n",
       "      <td>malware</td>\n",
       "    </tr>\n",
       "    <tr>\n",
       "      <th>...</th>\n",
       "      <td>...</td>\n",
       "      <td>...</td>\n",
       "      <td>...</td>\n",
       "    </tr>\n",
       "    <tr>\n",
       "      <th>65</th>\n",
       "      <td>How can I wake monitor from sleep using ssh in Ubuntu 22.10 now that it's using wayland ? (server does not have extension for dpms option). Hi,\\n\\nI tried the old way of doing this\\n\\nDISPLAY=:0 xset dpms force on\\n\\nThis fails with error\\n\\n    screen@screenll:~$ DISPLAY=:0 xset dpms force on\\n    server does not have extension for dpms option\\n    xset:  unknown option force\\n\\n\\nI want to wake the monitor, same as if I just moved the mouse. I don't want to disable monitor sleeping or screensaver or whatever else. I just want this monitor to wake.\\n\\nIt is part of four computers running four adjacent display and I want to use a script to wake them all together.\\n\\nThere is one alternative I have found, but it is so clunky \\n\\nhttps://unix.stackexchange.com/questions/608187/xephyr-server-does-not-have-extension-for-dpms-option\\n\\nBasically faking a mouse wiggle with something similar to AutoIT.\\n\\nI asked chatgpt instead of google\\n\\nIt says\\n\\n    wl-shell --xdg-output eDP-1 dpms...</td>\n",
       "      <td>autoit</td>\n",
       "      <td>malware</td>\n",
       "    </tr>\n",
       "    <tr>\n",
       "      <th>66</th>\n",
       "      <td>What options are they to access an Iphone iOS (not jailbreaked)?. I have done a research on it and it seems that not even with meterpreter (msfvenom) nor EggShell allows to do penetration on IOS devices if the device is not jailbreaken.\\n\\nAll apps from ios need to be installed through the \"Appstore\". So I was wondering what alternatives are they out there? \\n\\nWhat can I do a research on?</td>\n",
       "      <td>meterpreter</td>\n",
       "      <td>malware</td>\n",
       "    </tr>\n",
       "    <tr>\n",
       "      <th>67</th>\n",
       "      <td>(Kali Linux) Any similar meterpreters to this one that works on windows 11?. The meterpreter/rat for reference: [https://github.com/tiagorlampert/CHAOS](https://github.com/tiagorlampert/CHAOS)\\n\\n&amp;#x200B;\\n\\nI've tested it and it perfectly makes a connection to the computer running windows 10, however when the generated client is ran on a windows 11 computer the terminal does state that it's connected but it doesn't show up on the sessions page so I can't make any changes to the target. (sorry if it sounds newbie i just got into this)</td>\n",
       "      <td>meterpreter</td>\n",
       "      <td>malware</td>\n",
       "    </tr>\n",
       "    <tr>\n",
       "      <th>68</th>\n",
       "      <td>How do you recon against an indian call centre?. So,  I've been inspired by Jim Browning. Yadda yadda. All that stuff. I hate  call centers just as much as y'all probably do. However, I figured  hacking into them like how he does would be kind of fun to do myself.  The hacking part itself isn't an issue though; it's just the recon part.  I don't exactly know what I'm up against.\\n\\nI  don't really know of a plausible way to get the operating system used  by most indian scammers. I plan on designing a RAT (ideally the  meterpreter since i'd like to not reinvent the wheel; but if that truly won't work i take no issue making one of my own), but since Windows  10 and up comes with Defender while stuff like Win7 (which may still be  used) doesn't, I don't know what exactly to do.\\n\\nI  understand scammers are dumb and it's not exactly going to be the same  to a pentest or something, but I'd also like to not underestimate them  since that'd have a high possibility of backfiring. Is there...</td>\n",
       "      <td>meterpreter</td>\n",
       "      <td>malware</td>\n",
       "    </tr>\n",
       "    <tr>\n",
       "      <th>69</th>\n",
       "      <td>Windows 7 backdoor. First post, don't be harsh.\\n\\nContext: teaching myself the basics of penetration testing using a Kali VM and a Windows 7 VM connected via NAT network. \\n\\nLooking to further my penetration testing skills and want to create a permanent backdoor in a windows 7 VM. I already have usernames and passwords for this VM collected using MSFW, reverse\\_tcp session (basically every YT video on hacking Windows 7). I want to either, create this meterpreter session every time the user boots up so I have constant access or find another way to access the vm whenever it is turned on using the credentials. The reverse\\_tcp session (meterpreter) requires the user to run the .exe, hence if the exe could be run upon boot - I would always have a connection...? Do you know where I'm coming from? \\n\\nI'm pretty new to Kali so if there's a way for me to remote connect to the windows VM using the Windows creds that would be ideal as it seems more 'professional'.</td>\n",
       "      <td>meterpreter</td>\n",
       "      <td>malware</td>\n",
       "    </tr>\n",
       "  </tbody>\n",
       "</table>\n",
       "<p>70 rows × 3 columns</p>\n",
       "</div>"
      ],
      "text/plain": [
       "                                                                                                                                                                                                                                                                                                                                                                                                                                                                                                                                                                                                                                                                                                                                                                                                                                                                                                                                                                                                                                  full_text  \\\n",
       "0                                                                                                                                                                                                                                                                                                                                             Why are tools like Remcos RAT that are used for malicious objectives openly available online?. Hey, I am researching Remote Access Trojans also called Remote Access Tools and one thing I dont understand that there are these RATs fully accessible on the clearnet even with pricing included that I have read about being used in cyber attacks. How is this possible? What am I missing here?  \\nWhy isnt police closing these websites and catching everyone behind this software?  \\nIs it enough of them to claim that this is for \"remote operations and control remote computers\" despite these tools having bundled software like keylogger, which is yet another type of malware?   \n",
       "1                                                                                                                                                                                                                                                                                                                                                                                                                                                                                                                                                                                                                                                                                                                                                                                                                                                                                                                                                                          New Remcos RATversion uses direct syscalls to evade detection..    \n",
       "2   RegAsm.exe trying to access malicious domain. Disclaimer: I do not have technical knowledge of cybersecurity, just a layperson's intuition on how computers work.\\n\\nI stupidly clicked on a script file that I didn't recognize on my laptop, and quickly realized my error. Malwarebytes helped me quarantine the script file and continues to keep blocking my RegAsm.exe from connecting to this harmful domain.\\n\\nI did some digging on the blocked IP address, and according to [https://www.joesandbox.com/analysis/677877/0/html](https://www.joesandbox.com/analysis/677877/0/html)\\n\\nthe site harbors an NJRAT. So I ran MB's scan, adwarecleaner, FRST for logs, and tdsskiller. All the scans turned out clean, but I'm concerned as to whether the script is still running, or if it modified my RegAsm.exe to keep trying to access the domain.\\n\\n[Here's an image to the MB notification I continue to get](https://imgur.com/a/oWvKvWo)\\n\\n&#x200B;\\n\\nSo what I did next was create inbound and outbound rules t...   \n",
       "3   I downloaded a malware. Please help!!. \\nPlease read this all and help me. I need experts to help.\\n\\nAbout a week ago, I was just watching movies on website with pop-up ads. Suddenly a zip file was downloaded when a pop-up appeared. I was using a new chrome profile so the downloads weren't asking where to save. I know its my mistake. I am not sure if it was a zip or just a picture but in bottom of screen where chrome shows downloads there was zip type folder ( I mean it had books as a zip archive ). It was titled ( Use_2022_as_password ) I got flustered and scared as it auto downloaded so first I went to file explorer and right clicked on the zip. Clicked on properties and viewed them. After closing properties, I deleted the zip in instant. In google downloads it showed deleted too. Then cleared recycle bin. I then checked in chrome downloads where the web address was something ( https:// cdn. discordapp. com/ attachments/ \" and whole bunch of numbers \" ) I googled it then came to...   \n",
       "4                                                                                                                                                                                                                                                                                                                                                                                                                                                                                                                                             Solution : Unbearable popping sound from earphones. I am using Ubuntu 20.04. The popping sound from the earphone was unbearable. Even when I play video I could hear it clearly. I tried all the solutions from the internet. Sound mixer, matching bitrate, disable power settings, tinkering pulseaudio settings etc.\\n\\nAt last I installed pipewire and the popping sound is almost gone. So, if someone is having the same problem. Please don't waste your time. Just install pipewire.   \n",
       "..                                                                                                                                                                                                                                                                                                                                                                                                                                                                                                                                                                                                                                                                                                                                                                                                                                                                                                                                                                                                                                      ...   \n",
       "65  How can I wake monitor from sleep using ssh in Ubuntu 22.10 now that it's using wayland ? (server does not have extension for dpms option). Hi,\\n\\nI tried the old way of doing this\\n\\nDISPLAY=:0 xset dpms force on\\n\\nThis fails with error\\n\\n    screen@screenll:~$ DISPLAY=:0 xset dpms force on\\n    server does not have extension for dpms option\\n    xset:  unknown option force\\n\\n\\nI want to wake the monitor, same as if I just moved the mouse. I don't want to disable monitor sleeping or screensaver or whatever else. I just want this monitor to wake.\\n\\nIt is part of four computers running four adjacent display and I want to use a script to wake them all together.\\n\\nThere is one alternative I have found, but it is so clunky \\n\\nhttps://unix.stackexchange.com/questions/608187/xephyr-server-does-not-have-extension-for-dpms-option\\n\\nBasically faking a mouse wiggle with something similar to AutoIT.\\n\\nI asked chatgpt instead of google\\n\\nIt says\\n\\n    wl-shell --xdg-output eDP-1 dpms...   \n",
       "66                                                                                                                                                                                                                                                                                                                                                                                                                                                                                                                                                                                                                                 What options are they to access an Iphone iOS (not jailbreaked)?. I have done a research on it and it seems that not even with meterpreter (msfvenom) nor EggShell allows to do penetration on IOS devices if the device is not jailbreaken.\\n\\nAll apps from ios need to be installed through the \"Appstore\". So I was wondering what alternatives are they out there? \\n\\nWhat can I do a research on?   \n",
       "67                                                                                                                                                                                                                                                                                                                                                                                                                                                                             (Kali Linux) Any similar meterpreters to this one that works on windows 11?. The meterpreter/rat for reference: [https://github.com/tiagorlampert/CHAOS](https://github.com/tiagorlampert/CHAOS)\\n\\n&#x200B;\\n\\nI've tested it and it perfectly makes a connection to the computer running windows 10, however when the generated client is ran on a windows 11 computer the terminal does state that it's connected but it doesn't show up on the sessions page so I can't make any changes to the target. (sorry if it sounds newbie i just got into this)   \n",
       "68  How do you recon against an indian call centre?. So,  I've been inspired by Jim Browning. Yadda yadda. All that stuff. I hate  call centers just as much as y'all probably do. However, I figured  hacking into them like how he does would be kind of fun to do myself.  The hacking part itself isn't an issue though; it's just the recon part.  I don't exactly know what I'm up against.\\n\\nI  don't really know of a plausible way to get the operating system used  by most indian scammers. I plan on designing a RAT (ideally the  meterpreter since i'd like to not reinvent the wheel; but if that truly won't work i take no issue making one of my own), but since Windows  10 and up comes with Defender while stuff like Win7 (which may still be  used) doesn't, I don't know what exactly to do.\\n\\nI  understand scammers are dumb and it's not exactly going to be the same  to a pentest or something, but I'd also like to not underestimate them  since that'd have a high possibility of backfiring. Is there...   \n",
       "69                              Windows 7 backdoor. First post, don't be harsh.\\n\\nContext: teaching myself the basics of penetration testing using a Kali VM and a Windows 7 VM connected via NAT network. \\n\\nLooking to further my penetration testing skills and want to create a permanent backdoor in a windows 7 VM. I already have usernames and passwords for this VM collected using MSFW, reverse\\_tcp session (basically every YT video on hacking Windows 7). I want to either, create this meterpreter session every time the user boots up so I have constant access or find another way to access the vm whenever it is turned on using the credentials. The reverse\\_tcp session (meterpreter) requires the user to run the .exe, hence if the exe could be run upon boot - I would always have a connection...? Do you know where I'm coming from? \\n\\nI'm pretty new to Kali so if there's a way for me to remote connect to the windows VM using the Windows creds that would be ideal as it seems more 'professional'.   \n",
       "\n",
       "        keyword keyword type  \n",
       "0        remcos      malware  \n",
       "1        remcos      malware  \n",
       "2         njrat      malware  \n",
       "3         njrat      malware  \n",
       "4        bitrat      malware  \n",
       "..          ...          ...  \n",
       "65       autoit      malware  \n",
       "66  meterpreter      malware  \n",
       "67  meterpreter      malware  \n",
       "68  meterpreter      malware  \n",
       "69  meterpreter      malware  \n",
       "\n",
       "[70 rows x 3 columns]"
      ]
     },
     "execution_count": 73,
     "metadata": {},
     "output_type": "execute_result"
    }
   ],
   "source": [
    "matches_malware['keyword type'] = 'malware'\n",
    "matches_malware"
   ]
  },
  {
   "cell_type": "code",
   "execution_count": 74,
   "id": "18df3680",
   "metadata": {},
   "outputs": [],
   "source": [
    "matches_malware.to_csv(r'C:\\Users\\leona\\OneDrive\\Desktop\\Tesi\\Pipeline\\Datasets\\Pipeline\\SocialNetworksPosts\\Reddit\\Months\\07\\Posts_filteredby_Malwares.csv')"
   ]
  },
  {
   "cell_type": "markdown",
   "id": "044f7c05",
   "metadata": {},
   "source": [
    "### Malwares Types names searching"
   ]
  },
  {
   "cell_type": "code",
   "execution_count": 56,
   "id": "8b8e9e3b",
   "metadata": {},
   "outputs": [
    {
     "name": "stderr",
     "output_type": "stream",
     "text": [
      "Processing posts: 34431it [00:01, 19025.20it/s]\n",
      "Processing posts: 34431it [00:01, 18943.44it/s]\n",
      "Processing posts: 34431it [00:01, 19205.57it/s]\n",
      "Processing posts: 34431it [00:01, 18723.58it/s]\n",
      "Processing posts: 34431it [00:01, 19045.53it/s]\n",
      "Processing posts: 34431it [00:01, 19142.34it/s]\n",
      "Processing posts: 34431it [00:01, 18637.76it/s]\n",
      "Processing posts: 34431it [00:01, 19190.69it/s]\n",
      "Processing posts: 34431it [00:01, 19159.13it/s]\n",
      "Processing posts: 34431it [00:01, 18919.54it/s]\n",
      "Processing posts: 34431it [00:01, 18752.96it/s]\n",
      "Processing posts: 11it [00:20,  1.82s/it]\n"
     ]
    }
   ],
   "source": [
    "malware_types_matches = pd.DataFrame()\n",
    "\n",
    "malware_types_matches = stemming_and_matching( all_malware_types_list , selected_rows)"
   ]
  },
  {
   "cell_type": "code",
   "execution_count": 57,
   "id": "bafd2099",
   "metadata": {},
   "outputs": [],
   "source": [
    "malware_types_matches['keyword type'] = 'malware type'"
   ]
  },
  {
   "cell_type": "code",
   "execution_count": 58,
   "id": "ad849baa",
   "metadata": {},
   "outputs": [],
   "source": [
    "malware_types_matches.to_csv(r'C:\\Users\\leona\\OneDrive\\Desktop\\Tesi\\Pipeline\\Datasets\\Pipeline\\SocialNetworksPosts\\Reddit\\Months\\07\\Posts_filteredby_MalwareType.csv')"
   ]
  },
  {
   "cell_type": "code",
   "execution_count": null,
   "id": "07395741",
   "metadata": {},
   "outputs": [],
   "source": []
  },
  {
   "cell_type": "markdown",
   "id": "65b2236f",
   "metadata": {},
   "source": [
    "### Operative System names search"
   ]
  },
  {
   "cell_type": "code",
   "execution_count": 59,
   "id": "a528e057",
   "metadata": {},
   "outputs": [
    {
     "name": "stderr",
     "output_type": "stream",
     "text": [
      "Processing posts: 34431it [00:01, 18747.12it/s]\n",
      "Processing posts: 34431it [00:01, 18452.54it/s]\n",
      "Processing posts: 34431it [00:01, 18241.45it/s]\n",
      "Processing posts: 3it [00:05,  1.87s/it]\n"
     ]
    }
   ],
   "source": [
    "words_matches = pd.DataFrame()\n",
    "\n",
    "words_matches = stemming_and_matching( all_delivery_method_list , selected_rows)"
   ]
  },
  {
   "cell_type": "code",
   "execution_count": 60,
   "id": "86b7b0a3",
   "metadata": {},
   "outputs": [
    {
     "data": {
      "text/html": [
       "<div>\n",
       "<style scoped>\n",
       "    .dataframe tbody tr th:only-of-type {\n",
       "        vertical-align: middle;\n",
       "    }\n",
       "\n",
       "    .dataframe tbody tr th {\n",
       "        vertical-align: top;\n",
       "    }\n",
       "\n",
       "    .dataframe thead th {\n",
       "        text-align: right;\n",
       "    }\n",
       "</style>\n",
       "<table border=\"1\" class=\"dataframe\">\n",
       "  <thead>\n",
       "    <tr style=\"text-align: right;\">\n",
       "      <th></th>\n",
       "      <th>full_text</th>\n",
       "      <th>keyword</th>\n",
       "    </tr>\n",
       "  </thead>\n",
       "  <tbody>\n",
       "    <tr>\n",
       "      <th>0</th>\n",
       "      <td>whats the harm in this kind of email? (picture). I have started getting this kind of email recently  \\n\\n\\nits obviously something fishy coming from that domain, nothing relevant to me in the body and a PDF attachment.   \\n\\n\\nit is in fact a pdf file. not an exe file with \".pdf\" in its name.   \\n\\n\\nso this must be a new way (for me at least) to infect computers.   \\n\\n\\ncan a pdf be corrupted? how is it possible? and what kind on dangers does it impy?\\n\\n  \\nPicture link since i cant upload pics here\\n\\n[https://i.postimg.cc/WprdqCZT/Sin-t-tulo.png](https://i.postimg.cc/WprdqCZT/Sin-t-tulo.png)</td>\n",
       "      <td>email attachment</td>\n",
       "    </tr>\n",
       "    <tr>\n",
       "      <th>1</th>\n",
       "      <td>I'm done with Standard Notes: Why I'm abandoning Standard Notes. Standard Notes is a good note-taking software. However, I've been facing issues with it and I'd like to share them because these issues wasted enough of my time, and this is the ethos of this sub. Maybe I'm wrong; make what you will out of this :-)\\n\\n- **The straw that broke that back - The introduced paid subscription for self-hosted users (money isn't the problem, really)**: After having introduced their \"paid subscription\" for the self-hosted plan (yes, you heard that right, you have to pay for self-hosted now, and it won't work anymore without a key, so you're locked out), it's become impossible to rely on the software. They were nice enough to offer me a \"free key\", which they offer for free to those who had been using the software before they introduced self-hosted subscription... well, good luck getting it. Because their email server is listed as spam by many spam lists services for some reason, I simply could...</td>\n",
       "      <td>email attachment</td>\n",
       "    </tr>\n",
       "    <tr>\n",
       "      <th>2</th>\n",
       "      <td>Clicked on an attachment from a phishing email, but did not click on the link on it to share any information.. I am embarrassed to admit to this, because I'm usually careful with these things, but today I suffered from a momentary lapse of judgement. I received an email from \"Xfinity\", which is a service I do use regarding a failed payment. Without thinking more and do my due diligence such as trying to see the address, I clicked and opened the attachment on the phishing email. I immediately realized my mistake, and did not go through with clicking on the link provided by the attachment to provide any information. To be safe, I changed my bank passwords and is currently using malwarebytes to scan my device. \\n\\nCommon sense is telling me I'm fine, because I have not provided any actual information, and I heard being able to infest an android device with an attachment is very rare, and so far I have not received any request for permission from my phone. But I just want to make sure ...</td>\n",
       "      <td>email attachment</td>\n",
       "    </tr>\n",
       "    <tr>\n",
       "      <th>3</th>\n",
       "      <td>Opened an attachment from a phishing email on android, but did not click on the link to provide any information.. I am embarrassed to admit to this, because I'm usually careful with these things, but today I suffered from a momentary lapse of judgement. I received an email from \"Xfinity\", which is a service I do use regarding a failed payment. Without thinking more and do my due diligence such as trying to see the address, I clicked and opened the attachment on the phishing email. I immediately realized my mistake, and did not go through with clicking on the link provided by the attachment to provide any information. To be safe, I changed my bank passwords and is currently using malwarebytes to scan my device. \\n\\nCommon sense is telling me I'm fine, because I have not provided any actual information, and I heard being able to infest an android device with an attachment is very rare, and so far I have not received any request for permission from my phone. But I just want to make su...</td>\n",
       "      <td>email attachment</td>\n",
       "    </tr>\n",
       "    <tr>\n",
       "      <th>4</th>\n",
       "      <td>Professional / enterprise experience with EmailEngine?. Hey guys,\\n\\nI'd like to know if anyone here can share some experience using [https://emailengine.app](https://emailengine.app) in a larger environment, e.g. managing / watching 100-200 email accounts and processing \\~50.000-100.000 mails per day?\\n\\nWe're basically up to building our own solution and evaluate\\n\\n* a serverless solution based on AWS SES inbound email processing\\n* a Node.js application using node-fetch\\n* EmailEngine + webhooks\\n\\nMain task is basically to receive the emails when they enter the inbox, parse them and store email metadata as well as attachments into a Postgres database.\\n\\nI'm curious if someone has ever used EmailEngine (formerly IMAP API) at that scale and could share some insights.\\n\\nThanks a ton!</td>\n",
       "      <td>email attachment</td>\n",
       "    </tr>\n",
       "  </tbody>\n",
       "</table>\n",
       "</div>"
      ],
      "text/plain": [
       "                                                                                                                                                                                                                                                                                                                                                                                                                                                                                                                                                                                                                                                                                                                                                                                                                                                                                                                                                                                                                                 full_text  \\\n",
       "0                                                                                                                                                                                                                                                                                                                                                                                                              whats the harm in this kind of email? (picture). I have started getting this kind of email recently  \\n\\n\\nits obviously something fishy coming from that domain, nothing relevant to me in the body and a PDF attachment.   \\n\\n\\nit is in fact a pdf file. not an exe file with \".pdf\" in its name.   \\n\\n\\nso this must be a new way (for me at least) to infect computers.   \\n\\n\\ncan a pdf be corrupted? how is it possible? and what kind on dangers does it impy?\\n\\n  \\nPicture link since i cant upload pics here\\n\\n[https://i.postimg.cc/WprdqCZT/Sin-t-tulo.png](https://i.postimg.cc/WprdqCZT/Sin-t-tulo.png)   \n",
       "1  I'm done with Standard Notes: Why I'm abandoning Standard Notes. Standard Notes is a good note-taking software. However, I've been facing issues with it and I'd like to share them because these issues wasted enough of my time, and this is the ethos of this sub. Maybe I'm wrong; make what you will out of this :-)\\n\\n- **The straw that broke that back - The introduced paid subscription for self-hosted users (money isn't the problem, really)**: After having introduced their \"paid subscription\" for the self-hosted plan (yes, you heard that right, you have to pay for self-hosted now, and it won't work anymore without a key, so you're locked out), it's become impossible to rely on the software. They were nice enough to offer me a \"free key\", which they offer for free to those who had been using the software before they introduced self-hosted subscription... well, good luck getting it. Because their email server is listed as spam by many spam lists services for some reason, I simply could...   \n",
       "2  Clicked on an attachment from a phishing email, but did not click on the link on it to share any information.. I am embarrassed to admit to this, because I'm usually careful with these things, but today I suffered from a momentary lapse of judgement. I received an email from \"Xfinity\", which is a service I do use regarding a failed payment. Without thinking more and do my due diligence such as trying to see the address, I clicked and opened the attachment on the phishing email. I immediately realized my mistake, and did not go through with clicking on the link provided by the attachment to provide any information. To be safe, I changed my bank passwords and is currently using malwarebytes to scan my device. \\n\\nCommon sense is telling me I'm fine, because I have not provided any actual information, and I heard being able to infest an android device with an attachment is very rare, and so far I have not received any request for permission from my phone. But I just want to make sure ...   \n",
       "3  Opened an attachment from a phishing email on android, but did not click on the link to provide any information.. I am embarrassed to admit to this, because I'm usually careful with these things, but today I suffered from a momentary lapse of judgement. I received an email from \"Xfinity\", which is a service I do use regarding a failed payment. Without thinking more and do my due diligence such as trying to see the address, I clicked and opened the attachment on the phishing email. I immediately realized my mistake, and did not go through with clicking on the link provided by the attachment to provide any information. To be safe, I changed my bank passwords and is currently using malwarebytes to scan my device. \\n\\nCommon sense is telling me I'm fine, because I have not provided any actual information, and I heard being able to infest an android device with an attachment is very rare, and so far I have not received any request for permission from my phone. But I just want to make su...   \n",
       "4                                                                                                                                                                                                           Professional / enterprise experience with EmailEngine?. Hey guys,\\n\\nI'd like to know if anyone here can share some experience using [https://emailengine.app](https://emailengine.app) in a larger environment, e.g. managing / watching 100-200 email accounts and processing \\~50.000-100.000 mails per day?\\n\\nWe're basically up to building our own solution and evaluate\\n\\n* a serverless solution based on AWS SES inbound email processing\\n* a Node.js application using node-fetch\\n* EmailEngine + webhooks\\n\\nMain task is basically to receive the emails when they enter the inbox, parse them and store email metadata as well as attachments into a Postgres database.\\n\\nI'm curious if someone has ever used EmailEngine (formerly IMAP API) at that scale and could share some insights.\\n\\nThanks a ton!   \n",
       "\n",
       "            keyword  \n",
       "0  email attachment  \n",
       "1  email attachment  \n",
       "2  email attachment  \n",
       "3  email attachment  \n",
       "4  email attachment  "
      ]
     },
     "execution_count": 60,
     "metadata": {},
     "output_type": "execute_result"
    }
   ],
   "source": [
    "words_matches.head()"
   ]
  },
  {
   "cell_type": "code",
   "execution_count": 61,
   "id": "c72a2cb2",
   "metadata": {},
   "outputs": [],
   "source": [
    "words_matches['keyword type'] = 'delivery method'"
   ]
  },
  {
   "cell_type": "code",
   "execution_count": 62,
   "id": "798babac",
   "metadata": {},
   "outputs": [],
   "source": [
    "words_matches.to_csv(r'C:\\Users\\leona\\OneDrive\\Desktop\\Tesi\\Pipeline\\Datasets\\Pipeline\\SocialNetworksPosts\\Reddit\\Months\\07\\Posts_filteredby_DeliveryMethod.csv')"
   ]
  },
  {
   "cell_type": "code",
   "execution_count": 75,
   "id": "6924b53e",
   "metadata": {},
   "outputs": [
    {
     "data": {
      "text/plain": [
       "2017"
      ]
     },
     "execution_count": 75,
     "metadata": {},
     "output_type": "execute_result"
    }
   ],
   "source": [
    "df = pd.concat([words_matches, malware_types_matches, matches_malware, matches_attack ])\n",
    "len(df)"
   ]
  },
  {
   "cell_type": "code",
   "execution_count": 76,
   "id": "8badffa5",
   "metadata": {},
   "outputs": [],
   "source": [
    "df.to_csv(r'C:\\Users\\leona\\OneDrive\\Desktop\\Tesi\\Pipeline\\Datasets\\Pipeline\\SocialNetworksPosts\\Reddit\\Months\\07\\MatchedPosts.csv')"
   ]
  },
  {
   "cell_type": "code",
   "execution_count": 65,
   "id": "cde71f54",
   "metadata": {},
   "outputs": [
    {
     "data": {
      "text/plain": [
       "34431"
      ]
     },
     "execution_count": 65,
     "metadata": {},
     "output_type": "execute_result"
    }
   ],
   "source": [
    "len(selected_rows)"
   ]
  },
  {
   "cell_type": "markdown",
   "id": "78543d08",
   "metadata": {},
   "source": []
  },
  {
   "cell_type": "markdown",
   "id": "18094b19",
   "metadata": {},
   "source": []
  },
  {
   "cell_type": "markdown",
   "id": "3631129a",
   "metadata": {},
   "source": [
    "\n"
   ]
  },
  {
   "cell_type": "markdown",
   "id": "69fdd2f8",
   "metadata": {},
   "source": []
  }
 ],
 "metadata": {
  "kernelspec": {
   "display_name": "Python 3 (ipykernel)",
   "language": "python",
   "name": "python3"
  },
  "language_info": {
   "codemirror_mode": {
    "name": "ipython",
    "version": 3
   },
   "file_extension": ".py",
   "mimetype": "text/x-python",
   "name": "python",
   "nbconvert_exporter": "python",
   "pygments_lexer": "ipython3",
   "version": "3.11.5"
  }
 },
 "nbformat": 4,
 "nbformat_minor": 5
}
