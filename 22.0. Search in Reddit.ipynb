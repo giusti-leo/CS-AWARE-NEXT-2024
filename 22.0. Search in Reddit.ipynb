{
 "cells": [
  {
   "cell_type": "code",
   "execution_count": 1,
   "id": "dcb3095b",
   "metadata": {},
   "outputs": [],
   "source": [
    "import os\n",
    "import time\n",
    "import pandas as pd \n",
    "import requests\n",
    "import urllib3\n",
    "import json\n",
    "import sys\n",
    "import numpy as np\n",
    "import pandas as pd\n",
    "from pathlib import Path\n",
    "from datetime import datetime, timedelta"
   ]
  },
  {
   "cell_type": "code",
   "execution_count": 2,
   "id": "8eb93b1b",
   "metadata": {},
   "outputs": [],
   "source": [
    "pd.options.display.max_colwidth = 1000\n",
    "pd.set_option('display.max_columns', None)"
   ]
  },
  {
   "cell_type": "markdown",
   "id": "f82a2dff",
   "metadata": {},
   "source": [
    "### Reddit posts"
   ]
  },
  {
   "cell_type": "code",
   "execution_count": 3,
   "id": "df7e9509",
   "metadata": {},
   "outputs": [],
   "source": [
    "file_reddit = r'C:\\Users\\leona\\OneDrive\\Desktop\\Tesi\\Pipeline\\Datasets\\Pipeline\\SocialNetworksPosts\\Reddit\\RedditPosts.csv'"
   ]
  },
  {
   "cell_type": "code",
   "execution_count": 4,
   "id": "a070364e",
   "metadata": {
    "scrolled": true
   },
   "outputs": [
    {
     "data": {
      "text/html": [
       "<div>\n",
       "<style scoped>\n",
       "    .dataframe tbody tr th:only-of-type {\n",
       "        vertical-align: middle;\n",
       "    }\n",
       "\n",
       "    .dataframe tbody tr th {\n",
       "        vertical-align: top;\n",
       "    }\n",
       "\n",
       "    .dataframe thead th {\n",
       "        text-align: right;\n",
       "    }\n",
       "</style>\n",
       "<table border=\"1\" class=\"dataframe\">\n",
       "  <thead>\n",
       "    <tr style=\"text-align: right;\">\n",
       "      <th></th>\n",
       "      <th>subreddit</th>\n",
       "      <th>username</th>\n",
       "      <th>date</th>\n",
       "      <th>title</th>\n",
       "      <th>text</th>\n",
       "    </tr>\n",
       "  </thead>\n",
       "  <tbody>\n",
       "    <tr>\n",
       "      <th>0</th>\n",
       "      <td>netsec</td>\n",
       "      <td>t3_18i5ups</td>\n",
       "      <td>2023-12-14 11:36:39</td>\n",
       "      <td>Nim implementation of Old Dll Unlinking Technique</td>\n",
       "      <td>NaN</td>\n",
       "    </tr>\n",
       "    <tr>\n",
       "      <th>1</th>\n",
       "      <td>cybersecurity</td>\n",
       "      <td>t3_18i5v5x</td>\n",
       "      <td>2023-12-14 11:37:34</td>\n",
       "      <td>How to prevent employees from using unauthorized web tools?</td>\n",
       "      <td>I work as an IT manager for a business. Some time ago, a group of my colleagues decided to use a web productivity tool, created accounts using their work emails, and started introducing data.\\n\\nI had no knowledge they had been using such a tool at all. I did not even know it existed.\\n\\nToday, I received an email from my boss asking why an ex-employee still had access to the data in such a web platform, as their account hadn't been deactivated. Needless to say, I don't have access to revoke their account or anything.\\n\\nHow can I prevent them from registering on another unauthorized webpage?\\n\\nI feel like a firewall blacklist would be useless since I would have to be constantly researching and updating it with new tools, and I can't make a whitelist since my company uses a ton of different pages for intense web research.\\n\\nAny help or advice would be appreciated.\\n\\n&amp;#x200B;</td>\n",
       "    </tr>\n",
       "    <tr>\n",
       "      <th>2</th>\n",
       "      <td>MacOS</td>\n",
       "      <td>t3_18i5kyd</td>\n",
       "      <td>2023-12-14 11:17:47</td>\n",
       "      <td>Teams call pop up window blocked by reminders/calendar entries on top right corner</td>\n",
       "      <td>Hi\\n\\nDo you know this issue that when I have reminders or calendar alarms set to stick to the top right corner, that they then block the notification window for incoming Teams calls.\\n\\nDoes someone know if there is a setting for having the teams call pop up in on another location on the screen or knows another work around?</td>\n",
       "    </tr>\n",
       "    <tr>\n",
       "      <th>3</th>\n",
       "      <td>MacOS</td>\n",
       "      <td>t3_18i5koq</td>\n",
       "      <td>2023-12-14 11:17:16</td>\n",
       "      <td>Disable middle mouse button drag to other desktop</td>\n",
       "      <td>So I have been using windows for a while and now I am stumped. The middle mouse button of my logi mouse has the following functionailty: On drage change desktop, on click show all windows. That's nice and all, but I can't use fusion 360 because the dragging functionality is the middle mouse button but that just changes the desktop. How can I disable that?\\n\\n&amp;#x200B;\\n\\nSo I found this, but there is no button selected. If I select the secondary mouse button for example, it will open mission control on both right click and middle mouse button:\\n\\nhttps://preview.redd.it/bmqnrpw0m86c1.png?width=476&amp;format=png&amp;auto=webp&amp;s=97ae662fcca43bf146537393fc6a13705a0a9351\\n\\n&amp;#x200B;</td>\n",
       "    </tr>\n",
       "    <tr>\n",
       "      <th>4</th>\n",
       "      <td>windows</td>\n",
       "      <td>t3_18i5gqv</td>\n",
       "      <td>2023-12-14 11:09:52</td>\n",
       "      <td>Playing 4k videos on 2k display</td>\n",
       "      <td>Hello guys does playing 4k content on a 2k display has any benefit? For example while playing YouTube videos I set 1440p resolution on my 2k laptop and 2k smartphone despite having a option of selecting 2160p option. So i wanted to ask if i get better video quality if i select 2160p option while playing on a 2k display?</td>\n",
       "    </tr>\n",
       "    <tr>\n",
       "      <th>...</th>\n",
       "      <td>...</td>\n",
       "      <td>...</td>\n",
       "      <td>...</td>\n",
       "      <td>...</td>\n",
       "      <td>...</td>\n",
       "    </tr>\n",
       "    <tr>\n",
       "      <th>387066</th>\n",
       "      <td>pcmasterrace</td>\n",
       "      <td>t3_1006rmg</td>\n",
       "      <td>2023-01-01 00:41:37</td>\n",
       "      <td>Build Almost Done</td>\n",
       "      <td>Is this a good build? Any recommendations?\\n\\nBUILD - https://pcpartpicker.com/list/FL6hwc</td>\n",
       "    </tr>\n",
       "    <tr>\n",
       "      <th>387067</th>\n",
       "      <td>pcmasterrace</td>\n",
       "      <td>t3_1006qur</td>\n",
       "      <td>2023-01-01 00:40:30</td>\n",
       "      <td>problem arming pc, I have a Mother a320m-k, ryzen 4650g, and doesnt work the video, the motherboard have Orange leds. Its my first time arming</td>\n",
       "      <td>NaN</td>\n",
       "    </tr>\n",
       "    <tr>\n",
       "      <th>387068</th>\n",
       "      <td>pcmasterrace</td>\n",
       "      <td>t3_1006pzy</td>\n",
       "      <td>2023-01-01 00:39:17</td>\n",
       "      <td>PCMR Truckers</td>\n",
       "      <td>Those that bring their rigs with them in the truck: \\n\\nHow does the computer fare? \\nIs there any orientation it works better with when you go through the areas with poor maintenance? \\nAnd lastly: if you liquid cool, have you noticed any issues over time?\\n\\nI'm building a new rig here soon and am curious if anything is to note so I don't make a large $$$$ mistake</td>\n",
       "    </tr>\n",
       "    <tr>\n",
       "      <th>387069</th>\n",
       "      <td>pcmasterrace</td>\n",
       "      <td>t3_1006orx</td>\n",
       "      <td>2023-01-01 00:37:29</td>\n",
       "      <td>New case for Christmas, also spray painted my GPU to match</td>\n",
       "      <td>Got the Hyte y60 as a gift, what a great case to build in. Running a 5600x with a 3080. The tree probably blocks some airflow but I'll take that tradeoff.</td>\n",
       "    </tr>\n",
       "    <tr>\n",
       "      <th>387070</th>\n",
       "      <td>linuxquestions</td>\n",
       "      <td>t3_1006n20</td>\n",
       "      <td>2023-01-01 00:34:59</td>\n",
       "      <td>Ignore \"not enough space to copy these file\" errors in KDE Plasma/Dolphin?</td>\n",
       "      <td>When copying files with Dolphin (KDE Plasma's file manager), if there is not enough free space to copy the incoming files entirely, the file manager refuses to copy even a single file. However, a lot of the time I'll be skipping name conflicts or overwriting existing files with new ones, so either I don't need as much space than it seems to the system, or space is freed up as I copy. Also, KDE seems to have trouble accurately determining the free space on drives on a network file server that I have mounted with SSHFS, so it will say there is not enough space even when there is. \\n\\nIs there a way to get Dolphin to ignore this error and attempt to copy the files anyway? Like the way the cp command does it, where it doesn't really care how much space is on the drive, and will only throw an error if it actually fills up before it's done copying. Or better yet, is there a way to get Dolphin to still warn me about potential space issues, but have the option to ignore it and attempt to c...</td>\n",
       "    </tr>\n",
       "  </tbody>\n",
       "</table>\n",
       "<p>387071 rows × 5 columns</p>\n",
       "</div>"
      ],
      "text/plain": [
       "             subreddit    username                 date  \\\n",
       "0               netsec  t3_18i5ups  2023-12-14 11:36:39   \n",
       "1        cybersecurity  t3_18i5v5x  2023-12-14 11:37:34   \n",
       "2                MacOS  t3_18i5kyd  2023-12-14 11:17:47   \n",
       "3                MacOS  t3_18i5koq  2023-12-14 11:17:16   \n",
       "4              windows  t3_18i5gqv  2023-12-14 11:09:52   \n",
       "...                ...         ...                  ...   \n",
       "387066    pcmasterrace  t3_1006rmg  2023-01-01 00:41:37   \n",
       "387067    pcmasterrace  t3_1006qur  2023-01-01 00:40:30   \n",
       "387068    pcmasterrace  t3_1006pzy  2023-01-01 00:39:17   \n",
       "387069    pcmasterrace  t3_1006orx  2023-01-01 00:37:29   \n",
       "387070  linuxquestions  t3_1006n20  2023-01-01 00:34:59   \n",
       "\n",
       "                                                                                                                                                 title  \\\n",
       "0                                                                                                    Nim implementation of Old Dll Unlinking Technique   \n",
       "1                                                                                          How to prevent employees from using unauthorized web tools?   \n",
       "2                                                                   Teams call pop up window blocked by reminders/calendar entries on top right corner   \n",
       "3                                                                                                    Disable middle mouse button drag to other desktop   \n",
       "4                                                                                                                      Playing 4k videos on 2k display   \n",
       "...                                                                                                                                                ...   \n",
       "387066                                                                                                                               Build Almost Done   \n",
       "387067  problem arming pc, I have a Mother a320m-k, ryzen 4650g, and doesnt work the video, the motherboard have Orange leds. Its my first time arming   \n",
       "387068                                                                                                                                   PCMR Truckers   \n",
       "387069                                                                                      New case for Christmas, also spray painted my GPU to match   \n",
       "387070                                                                      Ignore \"not enough space to copy these file\" errors in KDE Plasma/Dolphin?   \n",
       "\n",
       "                                                                                                                                                                                                                                                                                                                                                                                                                                                                                                                                                                                                                                                                                                                                                                                                                                                                                                                                                                                                                                           text  \n",
       "0                                                                                                                                                                                                                                                                                                                                                                                                                                                                                                                                                                                                                                                                                                                                                                                                                                                                                                                                                                                                                                           NaN  \n",
       "1                                                                                                                    I work as an IT manager for a business. Some time ago, a group of my colleagues decided to use a web productivity tool, created accounts using their work emails, and started introducing data.\\n\\nI had no knowledge they had been using such a tool at all. I did not even know it existed.\\n\\nToday, I received an email from my boss asking why an ex-employee still had access to the data in such a web platform, as their account hadn't been deactivated. Needless to say, I don't have access to revoke their account or anything.\\n\\nHow can I prevent them from registering on another unauthorized webpage?\\n\\nI feel like a firewall blacklist would be useless since I would have to be constantly researching and updating it with new tools, and I can't make a whitelist since my company uses a ton of different pages for intense web research.\\n\\nAny help or advice would be appreciated.\\n\\n&#x200B;  \n",
       "2                                                                                                                                                                                                                                                                                                                                                                                                                                                                                                                                                                                                                                                                                                        Hi\\n\\nDo you know this issue that when I have reminders or calendar alarms set to stick to the top right corner, that they then block the notification window for incoming Teams calls.\\n\\nDoes someone know if there is a setting for having the teams call pop up in on another location on the screen or knows another work around?  \n",
       "3                                                                                                                                                                                                                                                                                                                                       So I have been using windows for a while and now I am stumped. The middle mouse button of my logi mouse has the following functionailty: On drage change desktop, on click show all windows. That's nice and all, but I can't use fusion 360 because the dragging functionality is the middle mouse button but that just changes the desktop. How can I disable that?\\n\\n&#x200B;\\n\\nSo I found this, but there is no button selected. If I select the secondary mouse button for example, it will open mission control on both right click and middle mouse button:\\n\\nhttps://preview.redd.it/bmqnrpw0m86c1.png?width=476&format=png&auto=webp&s=97ae662fcca43bf146537393fc6a13705a0a9351\\n\\n&#x200B;  \n",
       "4                                                                                                                                                                                                                                                                                                                                                                                                                                                                                                                                                                                                                                                                                                             Hello guys does playing 4k content on a 2k display has any benefit? For example while playing YouTube videos I set 1440p resolution on my 2k laptop and 2k smartphone despite having a option of selecting 2160p option. So i wanted to ask if i get better video quality if i select 2160p option while playing on a 2k display?  \n",
       "...                                                                                                                                                                                                                                                                                                                                                                                                                                                                                                                                                                                                                                                                                                                                                                                                                                                                                                                                                                                                                                         ...  \n",
       "387066                                                                                                                                                                                                                                                                                                                                                                                                                                                                                                                                                                                                                                                                                                                                                                                                                                                                                                                                               Is this a good build? Any recommendations?\\n\\nBUILD - https://pcpartpicker.com/list/FL6hwc  \n",
       "387067                                                                                                                                                                                                                                                                                                                                                                                                                                                                                                                                                                                                                                                                                                                                                                                                                                                                                                                                                                                                                                      NaN  \n",
       "387068                                                                                                                                                                                                                                                                                                                                                                                                                                                                                                                                                                                                                                                         Those that bring their rigs with them in the truck: \\n\\nHow does the computer fare? \\nIs there any orientation it works better with when you go through the areas with poor maintenance? \\nAnd lastly: if you liquid cool, have you noticed any issues over time?\\n\\nI'm building a new rig here soon and am curious if anything is to note so I don't make a large $$$$ mistake  \n",
       "387069                                                                                                                                                                                                                                                                                                                                                                                                                                                                                                                                                                                                                                                                                                                                                                                                                                                                               Got the Hyte y60 as a gift, what a great case to build in. Running a 5600x with a 3080. The tree probably blocks some airflow but I'll take that tradeoff.  \n",
       "387070  When copying files with Dolphin (KDE Plasma's file manager), if there is not enough free space to copy the incoming files entirely, the file manager refuses to copy even a single file. However, a lot of the time I'll be skipping name conflicts or overwriting existing files with new ones, so either I don't need as much space than it seems to the system, or space is freed up as I copy. Also, KDE seems to have trouble accurately determining the free space on drives on a network file server that I have mounted with SSHFS, so it will say there is not enough space even when there is. \\n\\nIs there a way to get Dolphin to ignore this error and attempt to copy the files anyway? Like the way the cp command does it, where it doesn't really care how much space is on the drive, and will only throw an error if it actually fills up before it's done copying. Or better yet, is there a way to get Dolphin to still warn me about potential space issues, but have the option to ignore it and attempt to c...  \n",
       "\n",
       "[387071 rows x 5 columns]"
      ]
     },
     "execution_count": 4,
     "metadata": {},
     "output_type": "execute_result"
    }
   ],
   "source": [
    "df_reddit = pd.read_csv(file_reddit)\n",
    "df_reddit = df_reddit.drop(columns=['Unnamed: 0', 'json'])\n",
    "df_reddit"
   ]
  },
  {
   "cell_type": "markdown",
   "id": "8ac41545",
   "metadata": {},
   "source": [
    "### Files "
   ]
  },
  {
   "cell_type": "code",
   "execution_count": 5,
   "id": "d7ecdb03",
   "metadata": {},
   "outputs": [],
   "source": [
    "file_files = r'C:\\Users\\\\leona\\\\OneDrive\\\\Desktop\\\\Tesi\\\\Pipeline\\\\Datasets\\\\Pipeline\\\\FileAnalysis\\\\ER_Schema\\\\Entries.csv'\n",
    "attack_files = r'C:\\Users\\\\leona\\\\OneDrive\\\\Desktop\\\\Tesi\\\\Pipeline\\\\Datasets\\\\Pipeline\\\\FileAnalysis\\\\ER_Schema\\\\Attacks.csv'\n",
    "behaviour_files = r'C:\\Users\\\\leona\\\\OneDrive\\\\Desktop\\\\Tesi\\\\Pipeline\\\\Datasets\\\\Pipeline\\\\FileAnalysis\\\\ER_Schema\\\\Behaviours.csv'"
   ]
  },
  {
   "cell_type": "code",
   "execution_count": 6,
   "id": "589cf0b5",
   "metadata": {
    "scrolled": true
   },
   "outputs": [
    {
     "data": {
      "text/html": [
       "<div>\n",
       "<style scoped>\n",
       "    .dataframe tbody tr th:only-of-type {\n",
       "        vertical-align: middle;\n",
       "    }\n",
       "\n",
       "    .dataframe tbody tr th {\n",
       "        vertical-align: top;\n",
       "    }\n",
       "\n",
       "    .dataframe thead th {\n",
       "        text-align: right;\n",
       "    }\n",
       "</style>\n",
       "<table border=\"1\" class=\"dataframe\">\n",
       "  <thead>\n",
       "    <tr style=\"text-align: right;\">\n",
       "      <th></th>\n",
       "      <th>sha1</th>\n",
       "      <th>sha256</th>\n",
       "      <th>md5</th>\n",
       "      <th>analysis_date</th>\n",
       "      <th>file_type</th>\n",
       "      <th>delivery_method</th>\n",
       "      <th>verdict</th>\n",
       "      <th>malware_type</th>\n",
       "      <th>malware</th>\n",
       "    </tr>\n",
       "  </thead>\n",
       "  <tbody>\n",
       "    <tr>\n",
       "      <th>0</th>\n",
       "      <td>411535c9548f86034a6a9a603de521a86a3b5466</td>\n",
       "      <td>04c53261b1220a894a02f5ffb39cdfd73f93481c0b5c8106d21c91b20205c62d</td>\n",
       "      <td>5b5a0225a2b7b9a054417662c733168a</td>\n",
       "      <td>2021-11-09</td>\n",
       "      <td>exe</td>\n",
       "      <td>email attachment</td>\n",
       "      <td>malicious</td>\n",
       "      <td>trojan</td>\n",
       "      <td>remcos</td>\n",
       "    </tr>\n",
       "    <tr>\n",
       "      <th>1</th>\n",
       "      <td>1ad9e9761fd6935c0cf5048c9615d0383baac48e</td>\n",
       "      <td>ac901bf5882f14e9e07235b8488b6479b4519addda6dbfb89147401c1e9e6e4f</td>\n",
       "      <td>da9534900ee0d11c9b30cf33152ea03c</td>\n",
       "      <td>2023-07-19</td>\n",
       "      <td>exe</td>\n",
       "      <td>web download</td>\n",
       "      <td>malicious</td>\n",
       "      <td>trojan</td>\n",
       "      <td>remcos</td>\n",
       "    </tr>\n",
       "    <tr>\n",
       "      <th>2</th>\n",
       "      <td>8ab63abfe58fb218cc001581ac0d9fe38c784157</td>\n",
       "      <td>7f514ed5e1ec262953e6252a4089531c519e95d700c5808415b0f049fc59a5f0</td>\n",
       "      <td>855232a26e8afcd0cca5f816a1919dee</td>\n",
       "      <td>2022-01-04</td>\n",
       "      <td>exe</td>\n",
       "      <td>unknown</td>\n",
       "      <td>malicious</td>\n",
       "      <td>ransomware</td>\n",
       "      <td>remcos</td>\n",
       "    </tr>\n",
       "    <tr>\n",
       "      <th>3</th>\n",
       "      <td>55cbf8dae95d350ad7e5a63b418f6cd203488f51</td>\n",
       "      <td>8b7ae9f195b075a789d6d8277d500d27754bfa3c53ecca8db7beac8ccd07884f</td>\n",
       "      <td>97d9d216f2627cb238ca6637580b1739</td>\n",
       "      <td>2022-02-09</td>\n",
       "      <td>exe</td>\n",
       "      <td>unknown</td>\n",
       "      <td>malicious</td>\n",
       "      <td>trojan</td>\n",
       "      <td>remcos</td>\n",
       "    </tr>\n",
       "    <tr>\n",
       "      <th>4</th>\n",
       "      <td>a2915c1be9e6134b7bf3ca5ca00eeb0c969bedab</td>\n",
       "      <td>6c2a2251861a6d2701814843fadac940cf4d34db9f446f0698352fd866b31739</td>\n",
       "      <td>1b09de36dfe5850d7e3fbd6b39c89a43</td>\n",
       "      <td>2021-02-11</td>\n",
       "      <td>exe</td>\n",
       "      <td>web download</td>\n",
       "      <td>malicious</td>\n",
       "      <td>trojan</td>\n",
       "      <td>generic mg</td>\n",
       "    </tr>\n",
       "    <tr>\n",
       "      <th>...</th>\n",
       "      <td>...</td>\n",
       "      <td>...</td>\n",
       "      <td>...</td>\n",
       "      <td>...</td>\n",
       "      <td>...</td>\n",
       "      <td>...</td>\n",
       "      <td>...</td>\n",
       "      <td>...</td>\n",
       "      <td>...</td>\n",
       "    </tr>\n",
       "    <tr>\n",
       "      <th>2657</th>\n",
       "      <td>6b6955af591154d3f6e2db35ca9904cce7e264b1</td>\n",
       "      <td>3a9d8c693b7dc6a9c2bf876c5626ebd0923e35bd5f698baed248df7f51f67275</td>\n",
       "      <td>03872a722df0b073a84fd1aa45eb9376</td>\n",
       "      <td>2020-02-20</td>\n",
       "      <td>elf</td>\n",
       "      <td>unknown</td>\n",
       "      <td>malicious</td>\n",
       "      <td>worm</td>\n",
       "      <td>agent tesla</td>\n",
       "    </tr>\n",
       "    <tr>\n",
       "      <th>2658</th>\n",
       "      <td>3ab53037e2360c42b57d213234ced58717844a71</td>\n",
       "      <td>5de4932cb0ccab3fec711135cdd1af5a09c26a870bfb2d2adc650d0fdbf16488</td>\n",
       "      <td>e0fea510c784eb0e440e99e53d83d414</td>\n",
       "      <td>2021-07-14</td>\n",
       "      <td>exe</td>\n",
       "      <td>unknown</td>\n",
       "      <td>malicious</td>\n",
       "      <td>spyware</td>\n",
       "      <td>generickd</td>\n",
       "    </tr>\n",
       "    <tr>\n",
       "      <th>2659</th>\n",
       "      <td>4f9b9859a596a8bfdfee516788587ca0c0fb6ae8</td>\n",
       "      <td>f10dd5ce32d72489dd2696e5b58ee115f3cd065969a61a6613cab27bcd57de70</td>\n",
       "      <td>c9f771be253b6ca1d7a808d7d65c5e29</td>\n",
       "      <td>2020-09-08</td>\n",
       "      <td>exe</td>\n",
       "      <td>unknown</td>\n",
       "      <td>malicious</td>\n",
       "      <td>trojan</td>\n",
       "      <td>unknown</td>\n",
       "    </tr>\n",
       "    <tr>\n",
       "      <th>2660</th>\n",
       "      <td>d14540087dd6d350fb49e644e53ccefc0e4c1582</td>\n",
       "      <td>dba8a4717d516772b8cc06bd258265f21f7db6ddab62328917524c5a243c67a1</td>\n",
       "      <td>fe783ff4bccd76cb215ee1f7738d9ed5</td>\n",
       "      <td>2021-12-20</td>\n",
       "      <td>exe</td>\n",
       "      <td>unknown</td>\n",
       "      <td>unknown</td>\n",
       "      <td>unknown</td>\n",
       "      <td>unknown</td>\n",
       "    </tr>\n",
       "    <tr>\n",
       "      <th>2661</th>\n",
       "      <td>98837feaac2ed17b3709e5183b660dd41e7a1e0e</td>\n",
       "      <td>5b37ddd18800dc91071db31b340e8f9997bb89d42d5a194d7ff8c980a54abe89</td>\n",
       "      <td>1b47215513edd622ba825dced07c8969</td>\n",
       "      <td>2021-11-11</td>\n",
       "      <td>exe</td>\n",
       "      <td>unknown</td>\n",
       "      <td>malicious</td>\n",
       "      <td>trojan</td>\n",
       "      <td>crypter gen</td>\n",
       "    </tr>\n",
       "  </tbody>\n",
       "</table>\n",
       "<p>2662 rows × 9 columns</p>\n",
       "</div>"
      ],
      "text/plain": [
       "                                          sha1  \\\n",
       "0     411535c9548f86034a6a9a603de521a86a3b5466   \n",
       "1     1ad9e9761fd6935c0cf5048c9615d0383baac48e   \n",
       "2     8ab63abfe58fb218cc001581ac0d9fe38c784157   \n",
       "3     55cbf8dae95d350ad7e5a63b418f6cd203488f51   \n",
       "4     a2915c1be9e6134b7bf3ca5ca00eeb0c969bedab   \n",
       "...                                        ...   \n",
       "2657  6b6955af591154d3f6e2db35ca9904cce7e264b1   \n",
       "2658  3ab53037e2360c42b57d213234ced58717844a71   \n",
       "2659  4f9b9859a596a8bfdfee516788587ca0c0fb6ae8   \n",
       "2660  d14540087dd6d350fb49e644e53ccefc0e4c1582   \n",
       "2661  98837feaac2ed17b3709e5183b660dd41e7a1e0e   \n",
       "\n",
       "                                                                sha256  \\\n",
       "0     04c53261b1220a894a02f5ffb39cdfd73f93481c0b5c8106d21c91b20205c62d   \n",
       "1     ac901bf5882f14e9e07235b8488b6479b4519addda6dbfb89147401c1e9e6e4f   \n",
       "2     7f514ed5e1ec262953e6252a4089531c519e95d700c5808415b0f049fc59a5f0   \n",
       "3     8b7ae9f195b075a789d6d8277d500d27754bfa3c53ecca8db7beac8ccd07884f   \n",
       "4     6c2a2251861a6d2701814843fadac940cf4d34db9f446f0698352fd866b31739   \n",
       "...                                                                ...   \n",
       "2657  3a9d8c693b7dc6a9c2bf876c5626ebd0923e35bd5f698baed248df7f51f67275   \n",
       "2658  5de4932cb0ccab3fec711135cdd1af5a09c26a870bfb2d2adc650d0fdbf16488   \n",
       "2659  f10dd5ce32d72489dd2696e5b58ee115f3cd065969a61a6613cab27bcd57de70   \n",
       "2660  dba8a4717d516772b8cc06bd258265f21f7db6ddab62328917524c5a243c67a1   \n",
       "2661  5b37ddd18800dc91071db31b340e8f9997bb89d42d5a194d7ff8c980a54abe89   \n",
       "\n",
       "                                   md5 analysis_date file_type  \\\n",
       "0     5b5a0225a2b7b9a054417662c733168a    2021-11-09       exe   \n",
       "1     da9534900ee0d11c9b30cf33152ea03c    2023-07-19       exe   \n",
       "2     855232a26e8afcd0cca5f816a1919dee    2022-01-04       exe   \n",
       "3     97d9d216f2627cb238ca6637580b1739    2022-02-09       exe   \n",
       "4     1b09de36dfe5850d7e3fbd6b39c89a43    2021-02-11       exe   \n",
       "...                                ...           ...       ...   \n",
       "2657  03872a722df0b073a84fd1aa45eb9376    2020-02-20       elf   \n",
       "2658  e0fea510c784eb0e440e99e53d83d414    2021-07-14       exe   \n",
       "2659  c9f771be253b6ca1d7a808d7d65c5e29    2020-09-08       exe   \n",
       "2660  fe783ff4bccd76cb215ee1f7738d9ed5    2021-12-20       exe   \n",
       "2661  1b47215513edd622ba825dced07c8969    2021-11-11       exe   \n",
       "\n",
       "       delivery_method    verdict malware_type      malware  \n",
       "0     email attachment  malicious       trojan       remcos  \n",
       "1         web download  malicious       trojan       remcos  \n",
       "2              unknown  malicious   ransomware       remcos  \n",
       "3              unknown  malicious       trojan       remcos  \n",
       "4         web download  malicious       trojan   generic mg  \n",
       "...                ...        ...          ...          ...  \n",
       "2657           unknown  malicious         worm  agent tesla  \n",
       "2658           unknown  malicious      spyware    generickd  \n",
       "2659           unknown  malicious       trojan      unknown  \n",
       "2660           unknown    unknown      unknown      unknown  \n",
       "2661           unknown  malicious       trojan  crypter gen  \n",
       "\n",
       "[2662 rows x 9 columns]"
      ]
     },
     "execution_count": 6,
     "metadata": {},
     "output_type": "execute_result"
    }
   ],
   "source": [
    "df_files = pd.read_csv(file_files, low_memory = False)\n",
    "#df_files = df_files.drop(columns=['Unnamed: 0'])\n",
    "df_files"
   ]
  },
  {
   "cell_type": "markdown",
   "id": "5c976ab9",
   "metadata": {},
   "source": [
    "### Malwares"
   ]
  },
  {
   "cell_type": "code",
   "execution_count": 7,
   "id": "ca543511",
   "metadata": {},
   "outputs": [
    {
     "data": {
      "text/plain": [
       "['trojan',\n",
       " 'ransomware',\n",
       " 'adware',\n",
       " 'worm',\n",
       " 'dropper',\n",
       " 'rootkit',\n",
       " 'spyware',\n",
       " 'keylogger',\n",
       " 'backdoor',\n",
       " 'downloader',\n",
       " 'botnet']"
      ]
     },
     "execution_count": 7,
     "metadata": {},
     "output_type": "execute_result"
    }
   ],
   "source": [
    "all_malware_types_list = list(df_files.malware_type.unique())\n",
    "all_malware_types_list = [item for item in all_malware_types_list if item != 'unknown']\n",
    "\n",
    "all_malware_types_list"
   ]
  },
  {
   "cell_type": "markdown",
   "id": "03f6cc08",
   "metadata": {},
   "source": [
    "#### Malwares"
   ]
  },
  {
   "cell_type": "code",
   "execution_count": 8,
   "id": "f336b70b",
   "metadata": {},
   "outputs": [
    {
     "data": {
      "text/plain": [
       "['remcos',\n",
       " 'generic mg',\n",
       " 'njrat',\n",
       " 'bitrat',\n",
       " 'mirai',\n",
       " 'injector gen',\n",
       " 'generickd',\n",
       " 'quasar rat',\n",
       " 'muldrop',\n",
       " 'netwire',\n",
       " 'ave maria',\n",
       " 'script cryxos',\n",
       " 'downloader gen',\n",
       " 'orcus',\n",
       " 'x gen drp',\n",
       " 'agent tesla',\n",
       " 'nanocore rat',\n",
       " 'redline stealer',\n",
       " 'lumma stealer',\n",
       " 'siggen',\n",
       " 'spynote',\n",
       " 'kryptik gen',\n",
       " 'obfus',\n",
       " 'kryptik gen eldorado',\n",
       " 'valyria',\n",
       " 'artemis',\n",
       " 'twave evil',\n",
       " 'java gen',\n",
       " 'borlanddelphi',\n",
       " 'cobalt strike',\n",
       " 'aidetect net',\n",
       " 'miscreantpunch',\n",
       " 'perseus',\n",
       " 'behaveslike generic',\n",
       " 'heracles',\n",
       " 'darkcomet',\n",
       " 'crypter gen',\n",
       " 'wannacryptor',\n",
       " 'formbook',\n",
       " 'azorult',\n",
       " 'genmalicious',\n",
       " 'bv downloader drp',\n",
       " 'evo gen',\n",
       " 'ddos',\n",
       " 'gafgyt',\n",
       " 'keylogger gen',\n",
       " 'cve exploit',\n",
       " 'banker gen',\n",
       " 'autoit',\n",
       " 'exploitx',\n",
       " 'coinminer generic',\n",
       " 'loki password stealer  pws',\n",
       " 'meterpreter',\n",
       " 'crimson rat',\n",
       " 'nanobot',\n",
       " 'ghost rat']"
      ]
     },
     "execution_count": 8,
     "metadata": {},
     "output_type": "execute_result"
    }
   ],
   "source": [
    "all_malware_list = list(df_files.malware.unique())\n",
    "all_malware_list = [item for item in all_malware_list if (item != 'unknown') & (item != 'malware_tag')]\n",
    "all_malware_list"
   ]
  },
  {
   "cell_type": "markdown",
   "id": "9a67df1c",
   "metadata": {},
   "source": [
    "#### Delivery Methods"
   ]
  },
  {
   "cell_type": "code",
   "execution_count": 9,
   "id": "4600cac9",
   "metadata": {},
   "outputs": [
    {
     "data": {
      "text/plain": [
       "['email attachment', 'web download', 'email link']"
      ]
     },
     "execution_count": 9,
     "metadata": {},
     "output_type": "execute_result"
    }
   ],
   "source": [
    "all_delivery_method_list = list(df_files.delivery_method.unique())\n",
    "all_delivery_method_list = [ item for item in all_delivery_method_list if (item != 'unknown') ]\n",
    "all_delivery_method_list"
   ]
  },
  {
   "cell_type": "markdown",
   "id": "fd527b44",
   "metadata": {},
   "source": [
    "#### Behaviours"
   ]
  },
  {
   "cell_type": "code",
   "execution_count": 10,
   "id": "e667156c",
   "metadata": {},
   "outputs": [
    {
     "data": {
      "text/html": [
       "<div>\n",
       "<style scoped>\n",
       "    .dataframe tbody tr th:only-of-type {\n",
       "        vertical-align: middle;\n",
       "    }\n",
       "\n",
       "    .dataframe tbody tr th {\n",
       "        vertical-align: top;\n",
       "    }\n",
       "\n",
       "    .dataframe thead th {\n",
       "        text-align: right;\n",
       "    }\n",
       "</style>\n",
       "<table border=\"1\" class=\"dataframe\">\n",
       "  <thead>\n",
       "    <tr style=\"text-align: right;\">\n",
       "      <th></th>\n",
       "      <th>sha1</th>\n",
       "      <th>sha256</th>\n",
       "      <th>md5</th>\n",
       "      <th>action_name</th>\n",
       "      <th>action_description</th>\n",
       "      <th>maliciousness_level</th>\n",
       "      <th>area</th>\n",
       "    </tr>\n",
       "  </thead>\n",
       "  <tbody>\n",
       "    <tr>\n",
       "      <th>0</th>\n",
       "      <td>007416f9ba10d2e2951a9dcd104b7206ad20d433</td>\n",
       "      <td>094b57a07096fb1f866a104c0b14c84aa99815b613587780765c8c6cd6ef1a42</td>\n",
       "      <td>7baa4836bd81113c16960501f679a81b</td>\n",
       "      <td>antidebug guardpages</td>\n",
       "      <td>guard pages use detected - possible anti-debugging.</td>\n",
       "      <td>neutral</td>\n",
       "      <td>System Processes</td>\n",
       "    </tr>\n",
       "    <tr>\n",
       "      <th>1</th>\n",
       "      <td>007416f9ba10d2e2951a9dcd104b7206ad20d433</td>\n",
       "      <td>094b57a07096fb1f866a104c0b14c84aa99815b613587780765c8c6cd6ef1a42</td>\n",
       "      <td>7baa4836bd81113c16960501f679a81b</td>\n",
       "      <td>antidebug setunhandledexceptionfilter</td>\n",
       "      <td>setunhandledexceptionfilter detected (possible anti-debug)</td>\n",
       "      <td>neutral</td>\n",
       "      <td>System Processes</td>\n",
       "    </tr>\n",
       "    <tr>\n",
       "      <th>2</th>\n",
       "      <td>007416f9ba10d2e2951a9dcd104b7206ad20d433</td>\n",
       "      <td>094b57a07096fb1f866a104c0b14c84aa99815b613587780765c8c6cd6ef1a42</td>\n",
       "      <td>7baa4836bd81113c16960501f679a81b</td>\n",
       "      <td>cape detected threat</td>\n",
       "      <td>cape detected the asyncrat malware</td>\n",
       "      <td>suspicious</td>\n",
       "      <td>Network Activity</td>\n",
       "    </tr>\n",
       "    <tr>\n",
       "      <th>3</th>\n",
       "      <td>007416f9ba10d2e2951a9dcd104b7206ad20d433</td>\n",
       "      <td>094b57a07096fb1f866a104c0b14c84aa99815b613587780765c8c6cd6ef1a42</td>\n",
       "      <td>7baa4836bd81113c16960501f679a81b</td>\n",
       "      <td>cmdline terminate</td>\n",
       "      <td>executed a command line with /c or /r argument to terminate command shell on completion which can be used to hide execution</td>\n",
       "      <td>neutral</td>\n",
       "      <td>System Processes</td>\n",
       "    </tr>\n",
       "    <tr>\n",
       "      <th>4</th>\n",
       "      <td>007416f9ba10d2e2951a9dcd104b7206ad20d433</td>\n",
       "      <td>094b57a07096fb1f866a104c0b14c84aa99815b613587780765c8c6cd6ef1a42</td>\n",
       "      <td>7baa4836bd81113c16960501f679a81b</td>\n",
       "      <td>dead connect</td>\n",
       "      <td>attempts to connect to a dead ip:port (1 unique times)</td>\n",
       "      <td>neutral</td>\n",
       "      <td>Network Communications</td>\n",
       "    </tr>\n",
       "  </tbody>\n",
       "</table>\n",
       "</div>"
      ],
      "text/plain": [
       "                                       sha1  \\\n",
       "0  007416f9ba10d2e2951a9dcd104b7206ad20d433   \n",
       "1  007416f9ba10d2e2951a9dcd104b7206ad20d433   \n",
       "2  007416f9ba10d2e2951a9dcd104b7206ad20d433   \n",
       "3  007416f9ba10d2e2951a9dcd104b7206ad20d433   \n",
       "4  007416f9ba10d2e2951a9dcd104b7206ad20d433   \n",
       "\n",
       "                                                             sha256  \\\n",
       "0  094b57a07096fb1f866a104c0b14c84aa99815b613587780765c8c6cd6ef1a42   \n",
       "1  094b57a07096fb1f866a104c0b14c84aa99815b613587780765c8c6cd6ef1a42   \n",
       "2  094b57a07096fb1f866a104c0b14c84aa99815b613587780765c8c6cd6ef1a42   \n",
       "3  094b57a07096fb1f866a104c0b14c84aa99815b613587780765c8c6cd6ef1a42   \n",
       "4  094b57a07096fb1f866a104c0b14c84aa99815b613587780765c8c6cd6ef1a42   \n",
       "\n",
       "                                md5                            action_name  \\\n",
       "0  7baa4836bd81113c16960501f679a81b                   antidebug guardpages   \n",
       "1  7baa4836bd81113c16960501f679a81b  antidebug setunhandledexceptionfilter   \n",
       "2  7baa4836bd81113c16960501f679a81b                   cape detected threat   \n",
       "3  7baa4836bd81113c16960501f679a81b                      cmdline terminate   \n",
       "4  7baa4836bd81113c16960501f679a81b                           dead connect   \n",
       "\n",
       "                                                                                                            action_description  \\\n",
       "0                                                                          guard pages use detected - possible anti-debugging.   \n",
       "1                                                                   setunhandledexceptionfilter detected (possible anti-debug)   \n",
       "2                                                                                           cape detected the asyncrat malware   \n",
       "3  executed a command line with /c or /r argument to terminate command shell on completion which can be used to hide execution   \n",
       "4                                                                       attempts to connect to a dead ip:port (1 unique times)   \n",
       "\n",
       "  maliciousness_level                    area  \n",
       "0             neutral        System Processes  \n",
       "1             neutral        System Processes  \n",
       "2          suspicious        Network Activity  \n",
       "3             neutral        System Processes  \n",
       "4             neutral  Network Communications  "
      ]
     },
     "execution_count": 10,
     "metadata": {},
     "output_type": "execute_result"
    }
   ],
   "source": [
    "behaviours = pd.read_csv(behaviour_files)\n",
    "#behaviours = behaviours.drop(columns=['Unnamed: 0'])\n",
    "behaviours.head()"
   ]
  },
  {
   "cell_type": "code",
   "execution_count": 11,
   "id": "111e57f5",
   "metadata": {},
   "outputs": [
    {
     "data": {
      "text/plain": [
       "['antidebug guardpages',\n",
       " 'antidebug setunhandledexceptionfilter',\n",
       " 'cape detected threat',\n",
       " 'cmdline terminate',\n",
       " 'dead connect',\n",
       " 'deletes executed files',\n",
       " 'dynamic function loading',\n",
       " 'injection rwx',\n",
       " 'persistence autorun tasks',\n",
       " 'process creation suspicious location',\n",
       " 'reads self',\n",
       " 'stealth timeout',\n",
       " 'stealth window',\n",
       " 'suspicious command tools',\n",
       " 'uses windows utilities',\n",
       " 'uses windows utilities to create scheduled task',\n",
       " 'allocates execute remote process',\n",
       " 'allocates rwx',\n",
       " 'antivm memory available',\n",
       " 'antivm network adapters',\n",
       " 'antivm queries computername',\n",
       " 'checks debugger',\n",
       " 'creates exe',\n",
       " 'dead host',\n",
       " 'dumped buffer',\n",
       " 'exe appdata',\n",
       " 'generates crypto key',\n",
       " 'has pdb',\n",
       " 'injection ntsetcontextthread',\n",
       " 'injection resumethread',\n",
       " 'injection runpe',\n",
       " 'injection write memory',\n",
       " 'injection write memory exe',\n",
       " 'nolookup communication',\n",
       " 'packer entropy',\n",
       " 'persistence autorun',\n",
       " 'privilege luid check',\n",
       " 'removes zoneid ads',\n",
       " 'schtask create',\n",
       " 'suspicious process',\n",
       " 'network icmp',\n",
       " 'osquery detection',\n",
       " 'dumped buffer2',\n",
       " 'infostealer keylogger',\n",
       " 'networkdyndns checkip',\n",
       " 'nids alert',\n",
       " 'infostealer ftp',\n",
       " 'queries programs',\n",
       " 'raises exception',\n",
       " 'recon programs',\n",
       " 'antisandbox sleep',\n",
       " 'console output',\n",
       " 'packer polymorphic',\n",
       " 'protection rx',\n",
       " 'antisandbox foregroundwindows',\n",
       " 'process martian',\n",
       " 'suspicious write exe',\n",
       " 'antisandbox idletime',\n",
       " 'antisandbox mouse hook',\n",
       " 'pe features',\n",
       " 'powershell reg add',\n",
       " 'infostealer browser',\n",
       " 'infostealer im',\n",
       " 'infostealer mail',\n",
       " 'injection process search',\n",
       " 'locates browser',\n",
       " 'network downloader exe',\n",
       " 'infostealer keylog',\n",
       " 'ransomware file modifications',\n",
       " 'disables security',\n",
       " 'dropper',\n",
       " 'creates hidden file',\n",
       " 'document open',\n",
       " 'network cnc http',\n",
       " 'network http',\n",
       " 'nids malware alert',\n",
       " 'stealth system procname',\n",
       " 'network multiple direct ip connections',\n",
       " 'accesses recyclebin',\n",
       " 'anomalous deletefile',\n",
       " 'antivm generic bios',\n",
       " 'antivm generic disk',\n",
       " 'creates largekey',\n",
       " 'enumerates physical drives',\n",
       " 'exec crash',\n",
       " 'infostealer cookies',\n",
       " 'injection inter process',\n",
       " 'injection process hollowing',\n",
       " 'modify desktop wallpaper',\n",
       " 'physical drive access',\n",
       " 'powershell request',\n",
       " 'recon fingerprint',\n",
       " 'terminates remote process',\n",
       " 'antivm generic services',\n",
       " 'modifies proxy wpad',\n",
       " 'http request',\n",
       " 'infostealer bitcoin',\n",
       " 'network cnc https generic',\n",
       " 'network dyndns',\n",
       " 'powershell download',\n",
       " 'procmem yara',\n",
       " 'recon checkip',\n",
       " 'antivm disk size',\n",
       " 'origin langid',\n",
       " 'peid packer',\n",
       " 'antidbg windows',\n",
       " 'antivm vmware in instruction',\n",
       " 'injection network trafic',\n",
       " 'process interest',\n",
       " 'stealth hiddenfile',\n",
       " 'stops service',\n",
       " 'https urls',\n",
       " 'injection createremotethread',\n",
       " 'injection modifies memory',\n",
       " 'multiple useragents',\n",
       " 'antivm generic cpu',\n",
       " 'persistence ads',\n",
       " 'registry credential store access',\n",
       " 'cloud google',\n",
       " 'rat spynet',\n",
       " 'creates shortcut',\n",
       " 'encrypt pcinfo',\n",
       " 'suricata alert',\n",
       " 'disables proxy',\n",
       " 'has wmi',\n",
       " 'network bind',\n",
       " 'process needed',\n",
       " 'ransomware appends extensions',\n",
       " 'ransomware file moves',\n",
       " 'rat teamviewer',\n",
       " 'wmi antivm',\n",
       " 'pe unknown resource name',\n",
       " 'modifies certificates',\n",
       " 'powershell dfsp',\n",
       " 'suspicious powershell',\n",
       " 'antiemu wine',\n",
       " 'antivm generic scsi',\n",
       " 'antivm vbox keys',\n",
       " 'antivm vmware keys',\n",
       " 'creates service',\n",
       " 'cape extracted content',\n",
       " 'injection create remote thread',\n",
       " 'rat nanocore',\n",
       " 'spawns dev util',\n",
       " 'packer upx',\n",
       " 'accesses public folder',\n",
       " 'encrypted ioc',\n",
       " 'antiav detectfile',\n",
       " 'tcp syn scan',\n",
       " 'powershell command suspicious',\n",
       " 'powershell scriptblock logging',\n",
       " 'script tool executed',\n",
       " 'ransomware extensions',\n",
       " 'suspicious tld',\n",
       " 'remcos files',\n",
       " 'remcos mutexes',\n",
       " 'remcos regkeys',\n",
       " 'antidbg devices',\n",
       " 'cybergate',\n",
       " 'antisandbox unhook',\n",
       " 'creates doc',\n",
       " 'locker taskmgr',\n",
       " 'darkcomet regkeys',\n",
       " 'deletes self',\n",
       " 'dotnet csc build',\n",
       " 'network dns reverse proxy',\n",
       " 'rat fynloski mutexes',\n",
       " 'sysinternals tools usage',\n",
       " 'modifies security center warnings',\n",
       " 'rat fynloski',\n",
       " 'p2p cnc',\n",
       " 'writes to stdout',\n",
       " 'network document file',\n",
       " 'network http post',\n",
       " 'rat bifrose',\n",
       " 'antisandbox sboxie libs',\n",
       " 'dll load uncommon file types',\n",
       " 'moves self',\n",
       " 'persistence registry javascript',\n",
       " 'persistence registry powershell',\n",
       " 'network irc',\n",
       " 'process crash',\n",
       " 'antiav avast libs',\n",
       " 'applcation raises exception',\n",
       " 'creates user folder exe',\n",
       " 'enumerates running processes',\n",
       " 'spooler svc start',\n",
       " 'stealth hiddenreg',\n",
       " 'stealth network',\n",
       " 'rat quasar mutexes',\n",
       " 'sniffer winpcap',\n",
       " 'banker bancos',\n",
       " 'network fake useragent',\n",
       " 'network questionable http path',\n",
       " 'stop ransom mutexes',\n",
       " 'stop ransomware cmd',\n",
       " 'stop ransomware registry',\n",
       " 'disables uac',\n",
       " 'script created process',\n",
       " 'nids exploit alert',\n",
       " 'long commandline',\n",
       " 'antivm firmware',\n",
       " 'modifies zoneid',\n",
       " 'disables windows defender',\n",
       " 'network cnc https free webshoting',\n",
       " 'network cnc https socialmedia',\n",
       " 'network ip exe',\n",
       " 'venomrat mutexes',\n",
       " 'virus',\n",
       " 'malicious document urls',\n",
       " 'network wscript downloader',\n",
       " 'bladabindi mutexes',\n",
       " 'ransomware mass file delete',\n",
       " 'netwire',\n",
       " 'antisandbox suspend',\n",
       " 'network dns paste site',\n",
       " 'antivm generic system',\n",
       " 'warzonerat files',\n",
       " 'windows defender powershell',\n",
       " 'antivm vbox files',\n",
       " 'antivm vmware files',\n",
       " 'bypass firewall',\n",
       " 'injection network traffic',\n",
       " 'modify security center warnings',\n",
       " 'rat sdbot',\n",
       " 'antidebug ntsetinformationthread',\n",
       " 'antiav detectreg',\n",
       " 'network dns blockchain',\n",
       " 'rtf unknown character set',\n",
       " 'network cnc https payload',\n",
       " 'renostrojan',\n",
       " 'plugx',\n",
       " 'network tor',\n",
       " 'js eval',\n",
       " 'antiemu wine func',\n",
       " 'injection queueapcthread',\n",
       " 'njrat regkeys',\n",
       " 'disables system restore',\n",
       " 'accesses netlogon regkey',\n",
       " 'createtoolhelp32snapshot module enumeration',\n",
       " 'mimics agent',\n",
       " 'suspicious ping use',\n",
       " 'uses windows utilities nltest',\n",
       " 'spreading autoruninf',\n",
       " 'antivm vbox devices',\n",
       " 'rat rbot',\n",
       " 'network excessive udp',\n",
       " 'chmod 777 perm',\n",
       " 'browser security',\n",
       " 'detect putty',\n",
       " 'memdump urls',\n",
       " 'ransomware dropped files',\n",
       " 'rat xtreme',\n",
       " 'modify uac prompt',\n",
       " 'packer vmprotect',\n",
       " 'banker zeus p2p',\n",
       " 'orcusrat behavior',\n",
       " 'exploit heapspray',\n",
       " 'persists dev util',\n",
       " 'rtf unknown version',\n",
       " 'antisandbox sunbelt libs',\n",
       " 'network anomaly',\n",
       " 'spoofs procname',\n",
       " 'antidebug windows',\n",
       " 'recon beacon',\n",
       " 'network cnc https pastesite',\n",
       " 'suspicious certutil use',\n",
       " 'alters windows utility',\n",
       " 'powershell renamed',\n",
       " 'nitol',\n",
       " 'warzonerat regkeys',\n",
       " 'exec waitfor',\n",
       " 'martian command process',\n",
       " 'antivirus virustotal',\n",
       " 'banker zeus mutex',\n",
       " 'copies self',\n",
       " 'cryptopool domains',\n",
       " 'antiav servicestop',\n",
       " 'masquerade process name',\n",
       " 'antivm sandboxie',\n",
       " 'recon systeminfo',\n",
       " 'modify certs',\n",
       " 'cryptomining stratum command',\n",
       " 'network dns txt lookup',\n",
       " 'antisandbox file',\n",
       " 'antisandbox joe anubis files',\n",
       " 'captures screenshot',\n",
       " 'netwire behavior',\n",
       " 'cypherit mutexes',\n",
       " 'network dga',\n",
       " 'stealth childproc',\n",
       " 'cmdline long string',\n",
       " 'crontab persistency',\n",
       " 'antivm generic diskreg',\n",
       " 'win32 process create',\n",
       " 'suspicious js script',\n",
       " 'cmdline obfuscation',\n",
       " 'cmdline http link',\n",
       " 'network cnc https opensource',\n",
       " 'antisandbox cuckoo files',\n",
       " 'blackrat apis',\n",
       " 'persistence registry exe',\n",
       " 'trojan jorik',\n",
       " 'andromeda',\n",
       " 'uses powershell copyitem',\n",
       " 'polymorphic',\n",
       " 'stealth hidden extension',\n",
       " 'network cnc https useragent',\n",
       " 'browser helper object',\n",
       " 'browser startpage',\n",
       " 'dns freehosting domain',\n",
       " 'packer themida',\n",
       " 'dyreza',\n",
       " 'upatre',\n",
       " 'modify proxy',\n",
       " 'static pe anomaly',\n",
       " 'stealth file',\n",
       " 'powershell network connection',\n",
       " 'disables windows file protection',\n",
       " 'antidebug devices',\n",
       " 'antiemu wine reg',\n",
       " 'rat buzus mutexes',\n",
       " 'office cve2017 11882 network']"
      ]
     },
     "execution_count": 11,
     "metadata": {},
     "output_type": "execute_result"
    }
   ],
   "source": [
    "all_behaviours_name_list = list(behaviours.action_name.unique())\n",
    "all_behaviours_name_list = [ item for item in all_behaviours_name_list if (item != 'unknown') ]\n",
    "all_behaviours_name_list"
   ]
  },
  {
   "cell_type": "markdown",
   "id": "2e3f8788",
   "metadata": {},
   "source": [
    "#### Attacks"
   ]
  },
  {
   "cell_type": "code",
   "execution_count": 12,
   "id": "3afab840",
   "metadata": {},
   "outputs": [
    {
     "data": {
      "text/html": [
       "<div>\n",
       "<style scoped>\n",
       "    .dataframe tbody tr th:only-of-type {\n",
       "        vertical-align: middle;\n",
       "    }\n",
       "\n",
       "    .dataframe tbody tr th {\n",
       "        vertical-align: top;\n",
       "    }\n",
       "\n",
       "    .dataframe thead th {\n",
       "        text-align: right;\n",
       "    }\n",
       "</style>\n",
       "<table border=\"1\" class=\"dataframe\">\n",
       "  <thead>\n",
       "    <tr style=\"text-align: right;\">\n",
       "      <th></th>\n",
       "      <th>sha1</th>\n",
       "      <th>sha256</th>\n",
       "      <th>md5</th>\n",
       "      <th>attack_id</th>\n",
       "      <th>attack_name</th>\n",
       "      <th>attack_type</th>\n",
       "    </tr>\n",
       "  </thead>\n",
       "  <tbody>\n",
       "    <tr>\n",
       "      <th>0</th>\n",
       "      <td>713a00b13a87c52b43404cd32d0f4645844709d9</td>\n",
       "      <td>3b96a384f9989f28315eb374eae991e70ed07b88665cbf831f24bd574502feac</td>\n",
       "      <td>97ad0714b0245825407dd25d7d168d31</td>\n",
       "      <td>T1060</td>\n",
       "      <td>Registry Run Keys / Start Folder</td>\n",
       "      <td>Installation</td>\n",
       "    </tr>\n",
       "    <tr>\n",
       "      <th>1</th>\n",
       "      <td>713a00b13a87c52b43404cd32d0f4645844709d9</td>\n",
       "      <td>3b96a384f9989f28315eb374eae991e70ed07b88665cbf831f24bd574502feac</td>\n",
       "      <td>97ad0714b0245825407dd25d7d168d31</td>\n",
       "      <td>T1056</td>\n",
       "      <td>Input Capture</td>\n",
       "      <td>Objectives</td>\n",
       "    </tr>\n",
       "    <tr>\n",
       "      <th>2</th>\n",
       "      <td>e900de5aea86567fadc7507a6811596eb4b86a14</td>\n",
       "      <td>3363270a2950c8518e7883ea147b3f947b3a96aa31d37a990c73f975946335ce</td>\n",
       "      <td>e076afd88fe6a708d91a3f771754e860</td>\n",
       "      <td>T1060</td>\n",
       "      <td>Registry Run Keys / Start Folder</td>\n",
       "      <td>Installation</td>\n",
       "    </tr>\n",
       "    <tr>\n",
       "      <th>3</th>\n",
       "      <td>12d263832d7f08122fbfc4431da22016e0823539</td>\n",
       "      <td>cf1260b1d0686dbee4a5c9e3bcd09eff07bfae0a53d17356b72150f59ad1a497</td>\n",
       "      <td>497d3c4d08b80e03f622064dced10135</td>\n",
       "      <td>T1119</td>\n",
       "      <td>Automated Collection</td>\n",
       "      <td>Objectives</td>\n",
       "    </tr>\n",
       "    <tr>\n",
       "      <th>4</th>\n",
       "      <td>12d263832d7f08122fbfc4431da22016e0823539</td>\n",
       "      <td>cf1260b1d0686dbee4a5c9e3bcd09eff07bfae0a53d17356b72150f59ad1a497</td>\n",
       "      <td>497d3c4d08b80e03f622064dced10135</td>\n",
       "      <td>T1045</td>\n",
       "      <td>Software Packing</td>\n",
       "      <td>Installation</td>\n",
       "    </tr>\n",
       "  </tbody>\n",
       "</table>\n",
       "</div>"
      ],
      "text/plain": [
       "                                       sha1  \\\n",
       "0  713a00b13a87c52b43404cd32d0f4645844709d9   \n",
       "1  713a00b13a87c52b43404cd32d0f4645844709d9   \n",
       "2  e900de5aea86567fadc7507a6811596eb4b86a14   \n",
       "3  12d263832d7f08122fbfc4431da22016e0823539   \n",
       "4  12d263832d7f08122fbfc4431da22016e0823539   \n",
       "\n",
       "                                                             sha256  \\\n",
       "0  3b96a384f9989f28315eb374eae991e70ed07b88665cbf831f24bd574502feac   \n",
       "1  3b96a384f9989f28315eb374eae991e70ed07b88665cbf831f24bd574502feac   \n",
       "2  3363270a2950c8518e7883ea147b3f947b3a96aa31d37a990c73f975946335ce   \n",
       "3  cf1260b1d0686dbee4a5c9e3bcd09eff07bfae0a53d17356b72150f59ad1a497   \n",
       "4  cf1260b1d0686dbee4a5c9e3bcd09eff07bfae0a53d17356b72150f59ad1a497   \n",
       "\n",
       "                                md5 attack_id  \\\n",
       "0  97ad0714b0245825407dd25d7d168d31     T1060   \n",
       "1  97ad0714b0245825407dd25d7d168d31     T1056   \n",
       "2  e076afd88fe6a708d91a3f771754e860     T1060   \n",
       "3  497d3c4d08b80e03f622064dced10135     T1119   \n",
       "4  497d3c4d08b80e03f622064dced10135     T1045   \n",
       "\n",
       "                        attack_name   attack_type  \n",
       "0  Registry Run Keys / Start Folder  Installation  \n",
       "1                     Input Capture    Objectives  \n",
       "2  Registry Run Keys / Start Folder  Installation  \n",
       "3              Automated Collection    Objectives  \n",
       "4                  Software Packing  Installation  "
      ]
     },
     "execution_count": 12,
     "metadata": {},
     "output_type": "execute_result"
    }
   ],
   "source": [
    "attacks = pd.read_csv(attack_files)\n",
    "#attacks = attacks.drop(columns=['Unnamed: 0'])\n",
    "attacks.head()"
   ]
  },
  {
   "cell_type": "code",
   "execution_count": 13,
   "id": "cb17b3e0",
   "metadata": {},
   "outputs": [
    {
     "data": {
      "text/plain": [
       "['Registry Run Keys',\n",
       " 'Start Folder',\n",
       " 'Input Capture',\n",
       " 'Automated Collection',\n",
       " 'Software Packing',\n",
       " 'Process Discovery',\n",
       " 'Defense Evasion, Privilege Escalation',\n",
       " 'Masquerading',\n",
       " 'Disable Security Software',\n",
       " 'Windows Management Instrumentation',\n",
       " 'Install New Service',\n",
       " 'Security Software Discovery',\n",
       " 'T1060',\n",
       " 'T1056',\n",
       " 'T1119',\n",
       " 'T1045',\n",
       " 'T1057',\n",
       " 'T1055',\n",
       " 'T1036',\n",
       " '578',\n",
       " 'T1047',\n",
       " '550',\n",
       " 'T1063']"
      ]
     },
     "execution_count": 13,
     "metadata": {},
     "output_type": "execute_result"
    }
   ],
   "source": [
    "all_attack_name_list = list(attacks.attack_name.unique()) + list(attacks.attack_id.unique())\n",
    "all_attack_name_list = [ item for item in all_attack_name_list if (item != 'unknown') ]\n",
    "new_list = []\n",
    "\n",
    "for element in all_attack_name_list:\n",
    "    if '/' in element:\n",
    "        parts = element.split('/')\n",
    "        # Add non-empty parts after removing leading and trailing spaces\n",
    "        new_list.extend([part.strip() for part in parts if part])\n",
    "    else:\n",
    "        # If there is no '/', simply add the element after removing leading and trailing spaces\n",
    "        new_list.append(element.strip())\n",
    "\n",
    "all_attack_name_list = new_list\n",
    "all_attack_name_list\n"
   ]
  },
  {
   "cell_type": "markdown",
   "id": "131548a7",
   "metadata": {},
   "source": [
    "### Lemmatization"
   ]
  },
  {
   "cell_type": "code",
   "execution_count": 14,
   "id": "d2a0b362",
   "metadata": {},
   "outputs": [
    {
     "name": "stdout",
     "output_type": "stream",
     "text": [
      "Requirement already satisfied: spacy in c:\\users\\leona\\anaconda3\\lib\\site-packages (3.7.2)Note: you may need to restart the kernel to use updated packages.\n",
      "\n",
      "Requirement already satisfied: spacy-legacy<3.1.0,>=3.0.11 in c:\\users\\leona\\anaconda3\\lib\\site-packages (from spacy) (3.0.12)\n",
      "Requirement already satisfied: spacy-loggers<2.0.0,>=1.0.0 in c:\\users\\leona\\anaconda3\\lib\\site-packages (from spacy) (1.0.5)\n",
      "Requirement already satisfied: murmurhash<1.1.0,>=0.28.0 in c:\\users\\leona\\anaconda3\\lib\\site-packages (from spacy) (1.0.10)\n",
      "Requirement already satisfied: cymem<2.1.0,>=2.0.2 in c:\\users\\leona\\anaconda3\\lib\\site-packages (from spacy) (2.0.8)\n",
      "Requirement already satisfied: preshed<3.1.0,>=3.0.2 in c:\\users\\leona\\anaconda3\\lib\\site-packages (from spacy) (3.0.9)\n",
      "Requirement already satisfied: thinc<8.3.0,>=8.1.8 in c:\\users\\leona\\anaconda3\\lib\\site-packages (from spacy) (8.2.2)\n",
      "Requirement already satisfied: wasabi<1.2.0,>=0.9.1 in c:\\users\\leona\\anaconda3\\lib\\site-packages (from spacy) (1.1.2)\n",
      "Requirement already satisfied: srsly<3.0.0,>=2.4.3 in c:\\users\\leona\\anaconda3\\lib\\site-packages (from spacy) (2.4.8)\n",
      "Requirement already satisfied: catalogue<2.1.0,>=2.0.6 in c:\\users\\leona\\anaconda3\\lib\\site-packages (from spacy) (2.0.10)\n",
      "Requirement already satisfied: weasel<0.4.0,>=0.1.0 in c:\\users\\leona\\anaconda3\\lib\\site-packages (from spacy) (0.3.4)\n",
      "Requirement already satisfied: typer<0.10.0,>=0.3.0 in c:\\users\\leona\\anaconda3\\lib\\site-packages (from spacy) (0.9.0)\n",
      "Requirement already satisfied: smart-open<7.0.0,>=5.2.1 in c:\\users\\leona\\anaconda3\\lib\\site-packages (from spacy) (5.2.1)\n",
      "Requirement already satisfied: tqdm<5.0.0,>=4.38.0 in c:\\users\\leona\\anaconda3\\lib\\site-packages (from spacy) (4.65.0)\n",
      "Requirement already satisfied: requests<3.0.0,>=2.13.0 in c:\\users\\leona\\anaconda3\\lib\\site-packages (from spacy) (2.31.0)\n",
      "Requirement already satisfied: pydantic!=1.8,!=1.8.1,<3.0.0,>=1.7.4 in c:\\users\\leona\\anaconda3\\lib\\site-packages (from spacy) (2.5.3)\n",
      "Requirement already satisfied: jinja2 in c:\\users\\leona\\anaconda3\\lib\\site-packages (from spacy) (3.1.2)\n",
      "Requirement already satisfied: setuptools in c:\\users\\leona\\anaconda3\\lib\\site-packages (from spacy) (68.0.0)\n",
      "Requirement already satisfied: packaging>=20.0 in c:\\users\\leona\\anaconda3\\lib\\site-packages (from spacy) (23.1)\n",
      "Requirement already satisfied: langcodes<4.0.0,>=3.2.0 in c:\\users\\leona\\anaconda3\\lib\\site-packages (from spacy) (3.3.0)\n",
      "Requirement already satisfied: numpy>=1.19.0 in c:\\users\\leona\\anaconda3\\lib\\site-packages (from spacy) (1.23.5)\n",
      "Requirement already satisfied: annotated-types>=0.4.0 in c:\\users\\leona\\anaconda3\\lib\\site-packages (from pydantic!=1.8,!=1.8.1,<3.0.0,>=1.7.4->spacy) (0.6.0)\n",
      "Requirement already satisfied: pydantic-core==2.14.6 in c:\\users\\leona\\anaconda3\\lib\\site-packages (from pydantic!=1.8,!=1.8.1,<3.0.0,>=1.7.4->spacy) (2.14.6)\n",
      "Requirement already satisfied: typing-extensions>=4.6.1 in c:\\users\\leona\\anaconda3\\lib\\site-packages (from pydantic!=1.8,!=1.8.1,<3.0.0,>=1.7.4->spacy) (4.7.1)\n",
      "Requirement already satisfied: charset-normalizer<4,>=2 in c:\\users\\leona\\anaconda3\\lib\\site-packages (from requests<3.0.0,>=2.13.0->spacy) (2.0.4)\n",
      "Requirement already satisfied: idna<4,>=2.5 in c:\\users\\leona\\anaconda3\\lib\\site-packages (from requests<3.0.0,>=2.13.0->spacy) (2.10)\n",
      "Requirement already satisfied: urllib3<3,>=1.21.1 in c:\\users\\leona\\anaconda3\\lib\\site-packages (from requests<3.0.0,>=2.13.0->spacy) (1.26.16)\n",
      "Requirement already satisfied: certifi>=2017.4.17 in c:\\users\\leona\\anaconda3\\lib\\site-packages (from requests<3.0.0,>=2.13.0->spacy) (2023.7.22)\n",
      "Requirement already satisfied: blis<0.8.0,>=0.7.8 in c:\\users\\leona\\anaconda3\\lib\\site-packages (from thinc<8.3.0,>=8.1.8->spacy) (0.7.11)\n",
      "Requirement already satisfied: confection<1.0.0,>=0.0.1 in c:\\users\\leona\\anaconda3\\lib\\site-packages (from thinc<8.3.0,>=8.1.8->spacy) (0.1.4)\n",
      "Requirement already satisfied: colorama in c:\\users\\leona\\anaconda3\\lib\\site-packages (from tqdm<5.0.0,>=4.38.0->spacy) (0.4.6)\n",
      "Requirement already satisfied: click<9.0.0,>=7.1.1 in c:\\users\\leona\\anaconda3\\lib\\site-packages (from typer<0.10.0,>=0.3.0->spacy) (8.0.4)\n",
      "Requirement already satisfied: cloudpathlib<0.17.0,>=0.7.0 in c:\\users\\leona\\anaconda3\\lib\\site-packages (from weasel<0.4.0,>=0.1.0->spacy) (0.16.0)\n",
      "Requirement already satisfied: MarkupSafe>=2.0 in c:\\users\\leona\\anaconda3\\lib\\site-packages (from jinja2->spacy) (2.1.1)\n"
     ]
    }
   ],
   "source": [
    "pip install spacy\n"
   ]
  },
  {
   "cell_type": "code",
   "execution_count": 15,
   "id": "304fc3a4",
   "metadata": {},
   "outputs": [
    {
     "name": "stdout",
     "output_type": "stream",
     "text": [
      "Collecting en-core-web-sm==3.7.1\n",
      "  Downloading https://github.com/explosion/spacy-models/releases/download/en_core_web_sm-3.7.1/en_core_web_sm-3.7.1-py3-none-any.whl (12.8 MB)\n",
      "     ---------------------------------------- 0.0/12.8 MB ? eta -:--:--\n",
      "     ---------------------------------------- 0.0/12.8 MB ? eta -:--:--\n",
      "     ---------------------------------------- 0.0/12.8 MB ? eta -:--:--\n",
      "     --------------------------------------- 0.0/12.8 MB 281.8 kB/s eta 0:00:46\n",
      "     - -------------------------------------- 0.4/12.8 MB 2.6 MB/s eta 0:00:05\n",
      "     ---- ----------------------------------- 1.4/12.8 MB 7.0 MB/s eta 0:00:02\n",
      "     -------- ------------------------------- 2.7/12.8 MB 10.6 MB/s eta 0:00:01\n",
      "     ----------- ---------------------------- 3.7/12.8 MB 13.0 MB/s eta 0:00:01\n",
      "     --------------- ------------------------ 5.1/12.8 MB 14.9 MB/s eta 0:00:01\n",
      "     --------------------- ------------------ 6.7/12.8 MB 18.0 MB/s eta 0:00:01\n",
      "     --------------------------- ------------ 8.7/12.8 MB 20.7 MB/s eta 0:00:01\n",
      "     ---------------------------------- ---- 11.3/12.8 MB 36.4 MB/s eta 0:00:01\n",
      "     --------------------------------------  12.8/12.8 MB 40.9 MB/s eta 0:00:01\n",
      "     --------------------------------------- 12.8/12.8 MB 36.4 MB/s eta 0:00:00\n",
      "Requirement already satisfied: spacy<3.8.0,>=3.7.2 in c:\\users\\leona\\anaconda3\\lib\\site-packages (from en-core-web-sm==3.7.1) (3.7.2)\n",
      "Requirement already satisfied: spacy-legacy<3.1.0,>=3.0.11 in c:\\users\\leona\\anaconda3\\lib\\site-packages (from spacy<3.8.0,>=3.7.2->en-core-web-sm==3.7.1) (3.0.12)\n",
      "Requirement already satisfied: spacy-loggers<2.0.0,>=1.0.0 in c:\\users\\leona\\anaconda3\\lib\\site-packages (from spacy<3.8.0,>=3.7.2->en-core-web-sm==3.7.1) (1.0.5)\n",
      "Requirement already satisfied: murmurhash<1.1.0,>=0.28.0 in c:\\users\\leona\\anaconda3\\lib\\site-packages (from spacy<3.8.0,>=3.7.2->en-core-web-sm==3.7.1) (1.0.10)\n",
      "Requirement already satisfied: cymem<2.1.0,>=2.0.2 in c:\\users\\leona\\anaconda3\\lib\\site-packages (from spacy<3.8.0,>=3.7.2->en-core-web-sm==3.7.1) (2.0.8)\n",
      "Requirement already satisfied: preshed<3.1.0,>=3.0.2 in c:\\users\\leona\\anaconda3\\lib\\site-packages (from spacy<3.8.0,>=3.7.2->en-core-web-sm==3.7.1) (3.0.9)\n",
      "Requirement already satisfied: thinc<8.3.0,>=8.1.8 in c:\\users\\leona\\anaconda3\\lib\\site-packages (from spacy<3.8.0,>=3.7.2->en-core-web-sm==3.7.1) (8.2.2)\n",
      "Requirement already satisfied: wasabi<1.2.0,>=0.9.1 in c:\\users\\leona\\anaconda3\\lib\\site-packages (from spacy<3.8.0,>=3.7.2->en-core-web-sm==3.7.1) (1.1.2)\n",
      "Requirement already satisfied: srsly<3.0.0,>=2.4.3 in c:\\users\\leona\\anaconda3\\lib\\site-packages (from spacy<3.8.0,>=3.7.2->en-core-web-sm==3.7.1) (2.4.8)\n",
      "Requirement already satisfied: catalogue<2.1.0,>=2.0.6 in c:\\users\\leona\\anaconda3\\lib\\site-packages (from spacy<3.8.0,>=3.7.2->en-core-web-sm==3.7.1) (2.0.10)\n",
      "Requirement already satisfied: weasel<0.4.0,>=0.1.0 in c:\\users\\leona\\anaconda3\\lib\\site-packages (from spacy<3.8.0,>=3.7.2->en-core-web-sm==3.7.1) (0.3.4)\n",
      "Requirement already satisfied: typer<0.10.0,>=0.3.0 in c:\\users\\leona\\anaconda3\\lib\\site-packages (from spacy<3.8.0,>=3.7.2->en-core-web-sm==3.7.1) (0.9.0)\n",
      "Requirement already satisfied: smart-open<7.0.0,>=5.2.1 in c:\\users\\leona\\anaconda3\\lib\\site-packages (from spacy<3.8.0,>=3.7.2->en-core-web-sm==3.7.1) (5.2.1)\n",
      "Requirement already satisfied: tqdm<5.0.0,>=4.38.0 in c:\\users\\leona\\anaconda3\\lib\\site-packages (from spacy<3.8.0,>=3.7.2->en-core-web-sm==3.7.1) (4.65.0)\n",
      "Requirement already satisfied: requests<3.0.0,>=2.13.0 in c:\\users\\leona\\anaconda3\\lib\\site-packages (from spacy<3.8.0,>=3.7.2->en-core-web-sm==3.7.1) (2.31.0)\n",
      "Requirement already satisfied: pydantic!=1.8,!=1.8.1,<3.0.0,>=1.7.4 in c:\\users\\leona\\anaconda3\\lib\\site-packages (from spacy<3.8.0,>=3.7.2->en-core-web-sm==3.7.1) (2.5.3)\n",
      "Requirement already satisfied: jinja2 in c:\\users\\leona\\anaconda3\\lib\\site-packages (from spacy<3.8.0,>=3.7.2->en-core-web-sm==3.7.1) (3.1.2)\n",
      "Requirement already satisfied: setuptools in c:\\users\\leona\\anaconda3\\lib\\site-packages (from spacy<3.8.0,>=3.7.2->en-core-web-sm==3.7.1) (68.0.0)\n",
      "Requirement already satisfied: packaging>=20.0 in c:\\users\\leona\\anaconda3\\lib\\site-packages (from spacy<3.8.0,>=3.7.2->en-core-web-sm==3.7.1) (23.1)\n",
      "Requirement already satisfied: langcodes<4.0.0,>=3.2.0 in c:\\users\\leona\\anaconda3\\lib\\site-packages (from spacy<3.8.0,>=3.7.2->en-core-web-sm==3.7.1) (3.3.0)\n",
      "Requirement already satisfied: numpy>=1.19.0 in c:\\users\\leona\\anaconda3\\lib\\site-packages (from spacy<3.8.0,>=3.7.2->en-core-web-sm==3.7.1) (1.23.5)\n",
      "Requirement already satisfied: annotated-types>=0.4.0 in c:\\users\\leona\\anaconda3\\lib\\site-packages (from pydantic!=1.8,!=1.8.1,<3.0.0,>=1.7.4->spacy<3.8.0,>=3.7.2->en-core-web-sm==3.7.1) (0.6.0)\n",
      "Requirement already satisfied: pydantic-core==2.14.6 in c:\\users\\leona\\anaconda3\\lib\\site-packages (from pydantic!=1.8,!=1.8.1,<3.0.0,>=1.7.4->spacy<3.8.0,>=3.7.2->en-core-web-sm==3.7.1) (2.14.6)\n",
      "Requirement already satisfied: typing-extensions>=4.6.1 in c:\\users\\leona\\anaconda3\\lib\\site-packages (from pydantic!=1.8,!=1.8.1,<3.0.0,>=1.7.4->spacy<3.8.0,>=3.7.2->en-core-web-sm==3.7.1) (4.7.1)\n",
      "Requirement already satisfied: charset-normalizer<4,>=2 in c:\\users\\leona\\anaconda3\\lib\\site-packages (from requests<3.0.0,>=2.13.0->spacy<3.8.0,>=3.7.2->en-core-web-sm==3.7.1) (2.0.4)\n",
      "Requirement already satisfied: idna<4,>=2.5 in c:\\users\\leona\\anaconda3\\lib\\site-packages (from requests<3.0.0,>=2.13.0->spacy<3.8.0,>=3.7.2->en-core-web-sm==3.7.1) (2.10)\n",
      "Requirement already satisfied: urllib3<3,>=1.21.1 in c:\\users\\leona\\anaconda3\\lib\\site-packages (from requests<3.0.0,>=2.13.0->spacy<3.8.0,>=3.7.2->en-core-web-sm==3.7.1) (1.26.16)\n",
      "Requirement already satisfied: certifi>=2017.4.17 in c:\\users\\leona\\anaconda3\\lib\\site-packages (from requests<3.0.0,>=2.13.0->spacy<3.8.0,>=3.7.2->en-core-web-sm==3.7.1) (2023.7.22)\n",
      "Requirement already satisfied: blis<0.8.0,>=0.7.8 in c:\\users\\leona\\anaconda3\\lib\\site-packages (from thinc<8.3.0,>=8.1.8->spacy<3.8.0,>=3.7.2->en-core-web-sm==3.7.1) (0.7.11)\n",
      "Requirement already satisfied: confection<1.0.0,>=0.0.1 in c:\\users\\leona\\anaconda3\\lib\\site-packages (from thinc<8.3.0,>=8.1.8->spacy<3.8.0,>=3.7.2->en-core-web-sm==3.7.1) (0.1.4)\n",
      "Requirement already satisfied: colorama in c:\\users\\leona\\anaconda3\\lib\\site-packages (from tqdm<5.0.0,>=4.38.0->spacy<3.8.0,>=3.7.2->en-core-web-sm==3.7.1) (0.4.6)\n",
      "Requirement already satisfied: click<9.0.0,>=7.1.1 in c:\\users\\leona\\anaconda3\\lib\\site-packages (from typer<0.10.0,>=0.3.0->spacy<3.8.0,>=3.7.2->en-core-web-sm==3.7.1) (8.0.4)\n",
      "Requirement already satisfied: cloudpathlib<0.17.0,>=0.7.0 in c:\\users\\leona\\anaconda3\\lib\\site-packages (from weasel<0.4.0,>=0.1.0->spacy<3.8.0,>=3.7.2->en-core-web-sm==3.7.1) (0.16.0)\n",
      "Requirement already satisfied: MarkupSafe>=2.0 in c:\\users\\leona\\anaconda3\\lib\\site-packages (from jinja2->spacy<3.8.0,>=3.7.2->en-core-web-sm==3.7.1) (2.1.1)\n",
      "\u001b[38;5;2m✔ Download and installation successful\u001b[0m\n",
      "You can now load the package via spacy.load('en_core_web_sm')\n"
     ]
    }
   ],
   "source": [
    "!python -m spacy download en_core_web_sm"
   ]
  },
  {
   "cell_type": "code",
   "execution_count": 16,
   "id": "343db00b",
   "metadata": {},
   "outputs": [
    {
     "name": "stdout",
     "output_type": "stream",
     "text": [
      "Results:\n",
      "- The house is big.\n",
      "- Houses are large.\n"
     ]
    }
   ],
   "source": [
    "import spacy\n",
    "\n",
    "def search_word_lemmatization(texts, word_to_search):\n",
    "    nlp = spacy.load(\"en_core_web_sm\")\n",
    "\n",
    "    analyzed_word = nlp(word_to_search)\n",
    "\n",
    "    word_lemma = analyzed_word[0].lemma_\n",
    "\n",
    "    results = []\n",
    "    for text in texts:\n",
    "        doc = nlp(text)\n",
    "        for token in doc:\n",
    "            if token.text.lower() == word_to_search.lower() or token.lemma_.lower() == word_lemma.lower():\n",
    "                results.append(text)\n",
    "                break\n",
    "\n",
    "    return results\n",
    "\n",
    "# Example of usage\n",
    "texts = [\"The house is big.\", \"Houses are large.\", \"This is an example.\"]\n",
    "word_to_search = \"houses\"\n",
    "\n",
    "results = search_word_lemmatization(texts, word_to_search)\n",
    "\n",
    "print(\"Results:\")\n",
    "for result in results:\n",
    "    print(\"-\", result)\n"
   ]
  },
  {
   "cell_type": "markdown",
   "id": "3accd9a7",
   "metadata": {},
   "source": [
    "### Malwares Name Search "
   ]
  },
  {
   "cell_type": "code",
   "execution_count": 17,
   "id": "332e7b97",
   "metadata": {},
   "outputs": [
    {
     "name": "stdout",
     "output_type": "stream",
     "text": [
      "Requirement already satisfied: googletrans==4.0.0-rc1 in c:\\users\\leona\\anaconda3\\lib\\site-packages (4.0.0rc1)\n",
      "Requirement already satisfied: httpx==0.13.3 in c:\\users\\leona\\anaconda3\\lib\\site-packages (from googletrans==4.0.0-rc1) (0.13.3)\n",
      "Requirement already satisfied: certifi in c:\\users\\leona\\anaconda3\\lib\\site-packages (from httpx==0.13.3->googletrans==4.0.0-rc1) (2023.7.22)\n",
      "Requirement already satisfied: hstspreload in c:\\users\\leona\\anaconda3\\lib\\site-packages (from httpx==0.13.3->googletrans==4.0.0-rc1) (2024.1.5)\n",
      "Requirement already satisfied: sniffio in c:\\users\\leona\\anaconda3\\lib\\site-packages (from httpx==0.13.3->googletrans==4.0.0-rc1) (1.2.0)\n",
      "Requirement already satisfied: chardet==3.* in c:\\users\\leona\\anaconda3\\lib\\site-packages (from httpx==0.13.3->googletrans==4.0.0-rc1) (3.0.4)\n",
      "Requirement already satisfied: idna==2.* in c:\\users\\leona\\anaconda3\\lib\\site-packages (from httpx==0.13.3->googletrans==4.0.0-rc1) (2.10)\n",
      "Requirement already satisfied: rfc3986<2,>=1.3 in c:\\users\\leona\\anaconda3\\lib\\site-packages (from httpx==0.13.3->googletrans==4.0.0-rc1) (1.5.0)\n",
      "Requirement already satisfied: httpcore==0.9.* in c:\\users\\leona\\anaconda3\\lib\\site-packages (from httpx==0.13.3->googletrans==4.0.0-rc1) (0.9.1)\n",
      "Requirement already satisfied: h11<0.10,>=0.8 in c:\\users\\leona\\anaconda3\\lib\\site-packages (from httpcore==0.9.*->httpx==0.13.3->googletrans==4.0.0-rc1) (0.9.0)\n",
      "Requirement already satisfied: h2==3.* in c:\\users\\leona\\anaconda3\\lib\\site-packages (from httpcore==0.9.*->httpx==0.13.3->googletrans==4.0.0-rc1) (3.2.0)\n",
      "Requirement already satisfied: hyperframe<6,>=5.2.0 in c:\\users\\leona\\anaconda3\\lib\\site-packages (from h2==3.*->httpcore==0.9.*->httpx==0.13.3->googletrans==4.0.0-rc1) (5.2.0)\n",
      "Requirement already satisfied: hpack<4,>=3.0 in c:\\users\\leona\\anaconda3\\lib\\site-packages (from h2==3.*->httpcore==0.9.*->httpx==0.13.3->googletrans==4.0.0-rc1) (3.0.0)\n",
      "Note: you may need to restart the kernel to use updated packages.\n"
     ]
    }
   ],
   "source": [
    "pip install googletrans==4.0.0-rc1"
   ]
  },
  {
   "cell_type": "markdown",
   "id": "4cf21dea",
   "metadata": {},
   "source": [
    "### Data Cleaning"
   ]
  },
  {
   "cell_type": "code",
   "execution_count": 18,
   "id": "8cb3d738",
   "metadata": {},
   "outputs": [],
   "source": [
    "from googletrans import Translator\n",
    "from requests.exceptions import HTTPError\n",
    "\n",
    "\n",
    "def translate_to_english(text, target_language='en'):\n",
    "    \n",
    "    translator = Translator()\n",
    "    try:\n",
    "\n",
    "        translation = translator.translate(text, dest=target_language)\n",
    "        time.sleep(1) \n",
    "        return translation.text\n",
    "    \n",
    "    except HTTPError as e:\n",
    "        print(f\"HTTP error occurred: {e}\")\n",
    "        \n",
    "    except Exception as e:\n",
    "        print(f\"An error occurred: {e}\")\n",
    "        time.sleep(1) \n",
    "\n",
    "    # Return the original text in case of an error\n",
    "    return text"
   ]
  },
  {
   "cell_type": "markdown",
   "id": "eecdc737",
   "metadata": {},
   "source": [
    "#### Imputation"
   ]
  },
  {
   "cell_type": "code",
   "execution_count": 19,
   "id": "e43cbf58",
   "metadata": {},
   "outputs": [
    {
     "data": {
      "text/html": [
       "<div>\n",
       "<style scoped>\n",
       "    .dataframe tbody tr th:only-of-type {\n",
       "        vertical-align: middle;\n",
       "    }\n",
       "\n",
       "    .dataframe tbody tr th {\n",
       "        vertical-align: top;\n",
       "    }\n",
       "\n",
       "    .dataframe thead th {\n",
       "        text-align: right;\n",
       "    }\n",
       "</style>\n",
       "<table border=\"1\" class=\"dataframe\">\n",
       "  <thead>\n",
       "    <tr style=\"text-align: right;\">\n",
       "      <th></th>\n",
       "      <th>subreddit</th>\n",
       "      <th>username</th>\n",
       "      <th>date</th>\n",
       "      <th>title</th>\n",
       "      <th>text</th>\n",
       "    </tr>\n",
       "  </thead>\n",
       "  <tbody>\n",
       "    <tr>\n",
       "      <th>0</th>\n",
       "      <td>netsec</td>\n",
       "      <td>t3_18i5ups</td>\n",
       "      <td>2023-12-14 11:36:39</td>\n",
       "      <td>Nim implementation of Old Dll Unlinking Technique</td>\n",
       "      <td></td>\n",
       "    </tr>\n",
       "    <tr>\n",
       "      <th>1</th>\n",
       "      <td>cybersecurity</td>\n",
       "      <td>t3_18i5v5x</td>\n",
       "      <td>2023-12-14 11:37:34</td>\n",
       "      <td>How to prevent employees from using unauthorized web tools?</td>\n",
       "      <td>I work as an IT manager for a business. Some time ago, a group of my colleagues decided to use a web productivity tool, created accounts using their work emails, and started introducing data.\\n\\nI had no knowledge they had been using such a tool at all. I did not even know it existed.\\n\\nToday, I received an email from my boss asking why an ex-employee still had access to the data in such a web platform, as their account hadn't been deactivated. Needless to say, I don't have access to revoke their account or anything.\\n\\nHow can I prevent them from registering on another unauthorized webpage?\\n\\nI feel like a firewall blacklist would be useless since I would have to be constantly researching and updating it with new tools, and I can't make a whitelist since my company uses a ton of different pages for intense web research.\\n\\nAny help or advice would be appreciated.\\n\\n&amp;#x200B;</td>\n",
       "    </tr>\n",
       "    <tr>\n",
       "      <th>2</th>\n",
       "      <td>MacOS</td>\n",
       "      <td>t3_18i5kyd</td>\n",
       "      <td>2023-12-14 11:17:47</td>\n",
       "      <td>Teams call pop up window blocked by reminders/calendar entries on top right corner</td>\n",
       "      <td>Hi\\n\\nDo you know this issue that when I have reminders or calendar alarms set to stick to the top right corner, that they then block the notification window for incoming Teams calls.\\n\\nDoes someone know if there is a setting for having the teams call pop up in on another location on the screen or knows another work around?</td>\n",
       "    </tr>\n",
       "    <tr>\n",
       "      <th>3</th>\n",
       "      <td>MacOS</td>\n",
       "      <td>t3_18i5koq</td>\n",
       "      <td>2023-12-14 11:17:16</td>\n",
       "      <td>Disable middle mouse button drag to other desktop</td>\n",
       "      <td>So I have been using windows for a while and now I am stumped. The middle mouse button of my logi mouse has the following functionailty: On drage change desktop, on click show all windows. That's nice and all, but I can't use fusion 360 because the dragging functionality is the middle mouse button but that just changes the desktop. How can I disable that?\\n\\n&amp;#x200B;\\n\\nSo I found this, but there is no button selected. If I select the secondary mouse button for example, it will open mission control on both right click and middle mouse button:\\n\\nhttps://preview.redd.it/bmqnrpw0m86c1.png?width=476&amp;format=png&amp;auto=webp&amp;s=97ae662fcca43bf146537393fc6a13705a0a9351\\n\\n&amp;#x200B;</td>\n",
       "    </tr>\n",
       "    <tr>\n",
       "      <th>4</th>\n",
       "      <td>windows</td>\n",
       "      <td>t3_18i5gqv</td>\n",
       "      <td>2023-12-14 11:09:52</td>\n",
       "      <td>Playing 4k videos on 2k display</td>\n",
       "      <td>Hello guys does playing 4k content on a 2k display has any benefit? For example while playing YouTube videos I set 1440p resolution on my 2k laptop and 2k smartphone despite having a option of selecting 2160p option. So i wanted to ask if i get better video quality if i select 2160p option while playing on a 2k display?</td>\n",
       "    </tr>\n",
       "  </tbody>\n",
       "</table>\n",
       "</div>"
      ],
      "text/plain": [
       "       subreddit    username                 date  \\\n",
       "0         netsec  t3_18i5ups  2023-12-14 11:36:39   \n",
       "1  cybersecurity  t3_18i5v5x  2023-12-14 11:37:34   \n",
       "2          MacOS  t3_18i5kyd  2023-12-14 11:17:47   \n",
       "3          MacOS  t3_18i5koq  2023-12-14 11:17:16   \n",
       "4        windows  t3_18i5gqv  2023-12-14 11:09:52   \n",
       "\n",
       "                                                                                title  \\\n",
       "0                                   Nim implementation of Old Dll Unlinking Technique   \n",
       "1                         How to prevent employees from using unauthorized web tools?   \n",
       "2  Teams call pop up window blocked by reminders/calendar entries on top right corner   \n",
       "3                                   Disable middle mouse button drag to other desktop   \n",
       "4                                                     Playing 4k videos on 2k display   \n",
       "\n",
       "                                                                                                                                                                                                                                                                                                                                                                                                                                                                                                                                                                                                                                                                                                                                                                                                                                                                                                                         text  \n",
       "0                                                                                                                                                                                                                                                                                                                                                                                                                                                                                                                                                                                                                                                                                                                                                                                                                                                                                                                              \n",
       "1  I work as an IT manager for a business. Some time ago, a group of my colleagues decided to use a web productivity tool, created accounts using their work emails, and started introducing data.\\n\\nI had no knowledge they had been using such a tool at all. I did not even know it existed.\\n\\nToday, I received an email from my boss asking why an ex-employee still had access to the data in such a web platform, as their account hadn't been deactivated. Needless to say, I don't have access to revoke their account or anything.\\n\\nHow can I prevent them from registering on another unauthorized webpage?\\n\\nI feel like a firewall blacklist would be useless since I would have to be constantly researching and updating it with new tools, and I can't make a whitelist since my company uses a ton of different pages for intense web research.\\n\\nAny help or advice would be appreciated.\\n\\n&#x200B;  \n",
       "2                                                                                                                                                                                                                                                                                                                                                                                                                                                                                                                                                                                      Hi\\n\\nDo you know this issue that when I have reminders or calendar alarms set to stick to the top right corner, that they then block the notification window for incoming Teams calls.\\n\\nDoes someone know if there is a setting for having the teams call pop up in on another location on the screen or knows another work around?  \n",
       "3                                                                                                                                                                                                                     So I have been using windows for a while and now I am stumped. The middle mouse button of my logi mouse has the following functionailty: On drage change desktop, on click show all windows. That's nice and all, but I can't use fusion 360 because the dragging functionality is the middle mouse button but that just changes the desktop. How can I disable that?\\n\\n&#x200B;\\n\\nSo I found this, but there is no button selected. If I select the secondary mouse button for example, it will open mission control on both right click and middle mouse button:\\n\\nhttps://preview.redd.it/bmqnrpw0m86c1.png?width=476&format=png&auto=webp&s=97ae662fcca43bf146537393fc6a13705a0a9351\\n\\n&#x200B;  \n",
       "4                                                                                                                                                                                                                                                                                                                                                                                                                                                                                                                                                                                           Hello guys does playing 4k content on a 2k display has any benefit? For example while playing YouTube videos I set 1440p resolution on my 2k laptop and 2k smartphone despite having a option of selecting 2160p option. So i wanted to ask if i get better video quality if i select 2160p option while playing on a 2k display?  "
      ]
     },
     "execution_count": 19,
     "metadata": {},
     "output_type": "execute_result"
    }
   ],
   "source": [
    "df_reddit['text'] = df_reddit['text'].fillna('')\n",
    "df_reddit['title'] = df_reddit['title'].fillna('')\n",
    "df_reddit.head()"
   ]
  },
  {
   "cell_type": "markdown",
   "id": "a09616b8",
   "metadata": {},
   "source": [
    "#### Column Filtering\n",
    "- Drop 'json' column -> useless"
   ]
  },
  {
   "cell_type": "code",
   "execution_count": 20,
   "id": "51257216",
   "metadata": {},
   "outputs": [
    {
     "data": {
      "text/html": [
       "<div>\n",
       "<style scoped>\n",
       "    .dataframe tbody tr th:only-of-type {\n",
       "        vertical-align: middle;\n",
       "    }\n",
       "\n",
       "    .dataframe tbody tr th {\n",
       "        vertical-align: top;\n",
       "    }\n",
       "\n",
       "    .dataframe thead th {\n",
       "        text-align: right;\n",
       "    }\n",
       "</style>\n",
       "<table border=\"1\" class=\"dataframe\">\n",
       "  <thead>\n",
       "    <tr style=\"text-align: right;\">\n",
       "      <th></th>\n",
       "      <th>subreddit</th>\n",
       "      <th>username</th>\n",
       "      <th>date</th>\n",
       "      <th>title</th>\n",
       "      <th>text</th>\n",
       "    </tr>\n",
       "  </thead>\n",
       "  <tbody>\n",
       "    <tr>\n",
       "      <th>50</th>\n",
       "      <td>hacking</td>\n",
       "      <td>t3_18i4tio</td>\n",
       "      <td>2023-12-14 10:22:21</td>\n",
       "      <td>Trains were designed to break down after third-party repairs, hackers find</td>\n",
       "      <td>https://arstechnica.com/tech-policy/2023/12/manufacturer-deliberately-bricked-trains-repaired-by-competitors-hackers-find/</td>\n",
       "    </tr>\n",
       "  </tbody>\n",
       "</table>\n",
       "</div>"
      ],
      "text/plain": [
       "   subreddit    username                 date  \\\n",
       "50   hacking  t3_18i4tio  2023-12-14 10:22:21   \n",
       "\n",
       "                                                                         title  \\\n",
       "50  Trains were designed to break down after third-party repairs, hackers find   \n",
       "\n",
       "                                                                                                                          text  \n",
       "50  https://arstechnica.com/tech-policy/2023/12/manufacturer-deliberately-bricked-trains-repaired-by-competitors-hackers-find/  "
      ]
     },
     "execution_count": 20,
     "metadata": {},
     "output_type": "execute_result"
    }
   ],
   "source": [
    "pd.DataFrame(df_reddit.loc[50]).T"
   ]
  },
  {
   "cell_type": "markdown",
   "id": "918df88e",
   "metadata": {},
   "source": [
    "#### Normalization\n",
    "- Convert each text and title of each post to the same language : english"
   ]
  },
  {
   "cell_type": "code",
   "execution_count": 21,
   "id": "c3d8f35e",
   "metadata": {},
   "outputs": [
    {
     "data": {
      "text/plain": [
       "\"\\n\\nfor i in range(len(df_reddit)):\\n    \\n    print(i)\\n    \\n    title = df_reddit.at[i, 'title']\\n    text = df_reddit.at[i, 'text']\\n    \\n    if(pd.isna(text) == False):\\n        new_text = translate_to_english(text)\\n        df_reddit.loc[i, 'text'] = new_text\\n\\n\\n    if(pd.isna(title) == False):\\n        new_title = translate_to_english(title)\\n        df_reddit.loc[i, 'title'] = new_title\\n        \\ndf_reddit        \\n\\n\""
      ]
     },
     "execution_count": 21,
     "metadata": {},
     "output_type": "execute_result"
    }
   ],
   "source": [
    "'''\n",
    "\n",
    "for i in range(len(df_reddit)):\n",
    "    \n",
    "    print(i)\n",
    "    \n",
    "    title = df_reddit.at[i, 'title']\n",
    "    text = df_reddit.at[i, 'text']\n",
    "    \n",
    "    if(pd.isna(text) == False):\n",
    "        new_text = translate_to_english(text)\n",
    "        df_reddit.loc[i, 'text'] = new_text\n",
    "\n",
    "\n",
    "    if(pd.isna(title) == False):\n",
    "        new_title = translate_to_english(title)\n",
    "        df_reddit.loc[i, 'title'] = new_title\n",
    "        \n",
    "df_reddit        \n",
    "\n",
    "'''"
   ]
  },
  {
   "cell_type": "markdown",
   "id": "383140c4",
   "metadata": {},
   "source": [
    "#### Data Type Conversion"
   ]
  },
  {
   "cell_type": "code",
   "execution_count": 22,
   "id": "765b9ce0",
   "metadata": {},
   "outputs": [
    {
     "data": {
      "text/html": [
       "<div>\n",
       "<style scoped>\n",
       "    .dataframe tbody tr th:only-of-type {\n",
       "        vertical-align: middle;\n",
       "    }\n",
       "\n",
       "    .dataframe tbody tr th {\n",
       "        vertical-align: top;\n",
       "    }\n",
       "\n",
       "    .dataframe thead th {\n",
       "        text-align: right;\n",
       "    }\n",
       "</style>\n",
       "<table border=\"1\" class=\"dataframe\">\n",
       "  <thead>\n",
       "    <tr style=\"text-align: right;\">\n",
       "      <th></th>\n",
       "      <th>subreddit</th>\n",
       "      <th>username</th>\n",
       "      <th>date</th>\n",
       "      <th>title</th>\n",
       "      <th>text</th>\n",
       "    </tr>\n",
       "  </thead>\n",
       "  <tbody>\n",
       "    <tr>\n",
       "      <th>0</th>\n",
       "      <td>netsec</td>\n",
       "      <td>t3_18i5ups</td>\n",
       "      <td>2023-12-14</td>\n",
       "      <td>Nim implementation of Old Dll Unlinking Technique</td>\n",
       "      <td></td>\n",
       "    </tr>\n",
       "    <tr>\n",
       "      <th>1</th>\n",
       "      <td>cybersecurity</td>\n",
       "      <td>t3_18i5v5x</td>\n",
       "      <td>2023-12-14</td>\n",
       "      <td>How to prevent employees from using unauthorized web tools?</td>\n",
       "      <td>I work as an IT manager for a business. Some time ago, a group of my colleagues decided to use a web productivity tool, created accounts using their work emails, and started introducing data.\\n\\nI had no knowledge they had been using such a tool at all. I did not even know it existed.\\n\\nToday, I received an email from my boss asking why an ex-employee still had access to the data in such a web platform, as their account hadn't been deactivated. Needless to say, I don't have access to revoke their account or anything.\\n\\nHow can I prevent them from registering on another unauthorized webpage?\\n\\nI feel like a firewall blacklist would be useless since I would have to be constantly researching and updating it with new tools, and I can't make a whitelist since my company uses a ton of different pages for intense web research.\\n\\nAny help or advice would be appreciated.\\n\\n&amp;#x200B;</td>\n",
       "    </tr>\n",
       "    <tr>\n",
       "      <th>2</th>\n",
       "      <td>MacOS</td>\n",
       "      <td>t3_18i5kyd</td>\n",
       "      <td>2023-12-14</td>\n",
       "      <td>Teams call pop up window blocked by reminders/calendar entries on top right corner</td>\n",
       "      <td>Hi\\n\\nDo you know this issue that when I have reminders or calendar alarms set to stick to the top right corner, that they then block the notification window for incoming Teams calls.\\n\\nDoes someone know if there is a setting for having the teams call pop up in on another location on the screen or knows another work around?</td>\n",
       "    </tr>\n",
       "    <tr>\n",
       "      <th>3</th>\n",
       "      <td>MacOS</td>\n",
       "      <td>t3_18i5koq</td>\n",
       "      <td>2023-12-14</td>\n",
       "      <td>Disable middle mouse button drag to other desktop</td>\n",
       "      <td>So I have been using windows for a while and now I am stumped. The middle mouse button of my logi mouse has the following functionailty: On drage change desktop, on click show all windows. That's nice and all, but I can't use fusion 360 because the dragging functionality is the middle mouse button but that just changes the desktop. How can I disable that?\\n\\n&amp;#x200B;\\n\\nSo I found this, but there is no button selected. If I select the secondary mouse button for example, it will open mission control on both right click and middle mouse button:\\n\\nhttps://preview.redd.it/bmqnrpw0m86c1.png?width=476&amp;format=png&amp;auto=webp&amp;s=97ae662fcca43bf146537393fc6a13705a0a9351\\n\\n&amp;#x200B;</td>\n",
       "    </tr>\n",
       "    <tr>\n",
       "      <th>4</th>\n",
       "      <td>windows</td>\n",
       "      <td>t3_18i5gqv</td>\n",
       "      <td>2023-12-14</td>\n",
       "      <td>Playing 4k videos on 2k display</td>\n",
       "      <td>Hello guys does playing 4k content on a 2k display has any benefit? For example while playing YouTube videos I set 1440p resolution on my 2k laptop and 2k smartphone despite having a option of selecting 2160p option. So i wanted to ask if i get better video quality if i select 2160p option while playing on a 2k display?</td>\n",
       "    </tr>\n",
       "  </tbody>\n",
       "</table>\n",
       "</div>"
      ],
      "text/plain": [
       "       subreddit    username        date  \\\n",
       "0         netsec  t3_18i5ups  2023-12-14   \n",
       "1  cybersecurity  t3_18i5v5x  2023-12-14   \n",
       "2          MacOS  t3_18i5kyd  2023-12-14   \n",
       "3          MacOS  t3_18i5koq  2023-12-14   \n",
       "4        windows  t3_18i5gqv  2023-12-14   \n",
       "\n",
       "                                                                                title  \\\n",
       "0                                   Nim implementation of Old Dll Unlinking Technique   \n",
       "1                         How to prevent employees from using unauthorized web tools?   \n",
       "2  Teams call pop up window blocked by reminders/calendar entries on top right corner   \n",
       "3                                   Disable middle mouse button drag to other desktop   \n",
       "4                                                     Playing 4k videos on 2k display   \n",
       "\n",
       "                                                                                                                                                                                                                                                                                                                                                                                                                                                                                                                                                                                                                                                                                                                                                                                                                                                                                                                         text  \n",
       "0                                                                                                                                                                                                                                                                                                                                                                                                                                                                                                                                                                                                                                                                                                                                                                                                                                                                                                                              \n",
       "1  I work as an IT manager for a business. Some time ago, a group of my colleagues decided to use a web productivity tool, created accounts using their work emails, and started introducing data.\\n\\nI had no knowledge they had been using such a tool at all. I did not even know it existed.\\n\\nToday, I received an email from my boss asking why an ex-employee still had access to the data in such a web platform, as their account hadn't been deactivated. Needless to say, I don't have access to revoke their account or anything.\\n\\nHow can I prevent them from registering on another unauthorized webpage?\\n\\nI feel like a firewall blacklist would be useless since I would have to be constantly researching and updating it with new tools, and I can't make a whitelist since my company uses a ton of different pages for intense web research.\\n\\nAny help or advice would be appreciated.\\n\\n&#x200B;  \n",
       "2                                                                                                                                                                                                                                                                                                                                                                                                                                                                                                                                                                                      Hi\\n\\nDo you know this issue that when I have reminders or calendar alarms set to stick to the top right corner, that they then block the notification window for incoming Teams calls.\\n\\nDoes someone know if there is a setting for having the teams call pop up in on another location on the screen or knows another work around?  \n",
       "3                                                                                                                                                                                                                     So I have been using windows for a while and now I am stumped. The middle mouse button of my logi mouse has the following functionailty: On drage change desktop, on click show all windows. That's nice and all, but I can't use fusion 360 because the dragging functionality is the middle mouse button but that just changes the desktop. How can I disable that?\\n\\n&#x200B;\\n\\nSo I found this, but there is no button selected. If I select the secondary mouse button for example, it will open mission control on both right click and middle mouse button:\\n\\nhttps://preview.redd.it/bmqnrpw0m86c1.png?width=476&format=png&auto=webp&s=97ae662fcca43bf146537393fc6a13705a0a9351\\n\\n&#x200B;  \n",
       "4                                                                                                                                                                                                                                                                                                                                                                                                                                                                                                                                                                                           Hello guys does playing 4k content on a 2k display has any benefit? For example while playing YouTube videos I set 1440p resolution on my 2k laptop and 2k smartphone despite having a option of selecting 2160p option. So i wanted to ask if i get better video quality if i select 2160p option while playing on a 2k display?  "
      ]
     },
     "execution_count": 22,
     "metadata": {},
     "output_type": "execute_result"
    }
   ],
   "source": [
    "df_reddit['date'] = pd.to_datetime(df_reddit['date']).dt.strftime('%Y-%m-%d')\n",
    "df_reddit.head()"
   ]
  },
  {
   "cell_type": "code",
   "execution_count": 23,
   "id": "af60db77",
   "metadata": {},
   "outputs": [],
   "source": [
    "df_reddit.to_csv(r'C:\\Users\\leona\\OneDrive\\Desktop\\Tesi\\Pipeline\\Datasets\\Pipeline\\SocialNetworksPosts\\Reddit\\PostDataCleaning\\RedditPosts.csv')"
   ]
  },
  {
   "cell_type": "markdown",
   "id": "04a7a902",
   "metadata": {},
   "source": [
    "#### Find a Match"
   ]
  },
  {
   "cell_type": "markdown",
   "id": "3c8432e1",
   "metadata": {},
   "source": [
    "##### Specify a Data of Analysis from a *starting_date* to an *ending_date*"
   ]
  },
  {
   "cell_type": "code",
   "execution_count": 24,
   "id": "431a4754",
   "metadata": {},
   "outputs": [],
   "source": [
    "start_date = datetime(2023, 8, 1)\n",
    "end_date   = datetime(2023, 9, 30)"
   ]
  },
  {
   "cell_type": "code",
   "execution_count": 25,
   "id": "c9fd9e94",
   "metadata": {},
   "outputs": [
    {
     "data": {
      "text/html": [
       "<div>\n",
       "<style scoped>\n",
       "    .dataframe tbody tr th:only-of-type {\n",
       "        vertical-align: middle;\n",
       "    }\n",
       "\n",
       "    .dataframe tbody tr th {\n",
       "        vertical-align: top;\n",
       "    }\n",
       "\n",
       "    .dataframe thead th {\n",
       "        text-align: right;\n",
       "    }\n",
       "</style>\n",
       "<table border=\"1\" class=\"dataframe\">\n",
       "  <thead>\n",
       "    <tr style=\"text-align: right;\">\n",
       "      <th></th>\n",
       "      <th>index</th>\n",
       "      <th>subreddit</th>\n",
       "      <th>username</th>\n",
       "      <th>date</th>\n",
       "      <th>title</th>\n",
       "      <th>text</th>\n",
       "    </tr>\n",
       "  </thead>\n",
       "  <tbody>\n",
       "    <tr>\n",
       "      <th>0</th>\n",
       "      <td>105421</td>\n",
       "      <td>MacOS</td>\n",
       "      <td>t3_16wj4st</td>\n",
       "      <td>2023-09-30</td>\n",
       "      <td>Quick Reminder/Task to Inbox from Mac?</td>\n",
       "      <td>Hi Folks, \\n\\n&amp;#x200B;\\n\\nI'm looking to find a way of being able to super quickly add a quick reminder in to my inbox on the Apple Reminders App.  Frequently at works somebody quick very quickly ask me if i can do / look in to something and i would like to very quickly be able to take note of that. \\n\\n&amp;#x200B;\\n\\nIt would be great if there was just a quick little keyboard shortcut i could do etc.  \\n\\n&amp;#x200B;\\n\\nNote - I do use Alfred but i don't want to pay for Workflows for this sole reason.</td>\n",
       "    </tr>\n",
       "    <tr>\n",
       "      <th>1</th>\n",
       "      <td>105427</td>\n",
       "      <td>Python</td>\n",
       "      <td>t3_16wj5oc</td>\n",
       "      <td>2023-09-30</td>\n",
       "      <td>Swiss Army Llama: Do tons of useful stuff with local LLMs with a REST API (written in Python)</td>\n",
       "      <td>GitHub Repo: [https://github.com/Dicklesworthstone/swiss\\_army\\_llama](https://github.com/Dicklesworthstone/swiss_army_llama)\\n\\nThis project originally started out with a focus on easily generating embeddings from Llama2 and other llama\\_cpp (gguf) models and storing them in a database, all exposed via a convenient REST api. But since then, I've added a lot more functionality:\\n\\n1. New endpoint for generating text completions (including specifying custom grammars, like JSON).\\n2. Get all the embeddings for an entire document-- can be any kind of document (plaintext, PDFs, .doc/.docx, etc.) and it will do OCR on PDFs and images.\\n3. Submit an audio file (wav/mp3) and it uses whisper to transcribe it into text, then gets the embeddings for the text (after combining the transcription segments into complete sentences).\\n4. Integrates with my new vector similarity library (\\`pip install fast\\_vector\\_similarity\\`) to provide an \"advanced\" semantic search endpoint. This uses a 2-step p...</td>\n",
       "    </tr>\n",
       "    <tr>\n",
       "      <th>2</th>\n",
       "      <td>105428</td>\n",
       "      <td>Python</td>\n",
       "      <td>t3_16wj14c</td>\n",
       "      <td>2023-09-30</td>\n",
       "      <td>I wrote browser_cookie3 in Rust for Python!</td>\n",
       "      <td>I made a library in Rust for extracting cookies from every web browser on the PC with cross platform support and you can use it from Python directly\\n\\nIt supports Windows, Linux, MacOS\\n\\nand all modern web browsers like Chrome, Firefox, Brave\\n\\nI would love to hear you opinion about it :)\\n\\n[https://github.com/thewh1teagle/rookie](https://github.com/thewh1teagle/rookie)</td>\n",
       "    </tr>\n",
       "    <tr>\n",
       "      <th>3</th>\n",
       "      <td>105436</td>\n",
       "      <td>software</td>\n",
       "      <td>t3_16wj57a</td>\n",
       "      <td>2023-09-30</td>\n",
       "      <td>Anything that can scan a YouTube playlist of music to profile me or summarize my personality?</td>\n",
       "      <td>Or, if not make a profile about me, then at least make strong recommendations for other music I might like.\\n\\nIt'd likely have to be powered by AI to understand all the lyrics of each of the videos.</td>\n",
       "    </tr>\n",
       "    <tr>\n",
       "      <th>4</th>\n",
       "      <td>105452</td>\n",
       "      <td>techsupport</td>\n",
       "      <td>t3_16wj6fw</td>\n",
       "      <td>2023-09-30</td>\n",
       "      <td>1TB 840 EVO exceding his TBW. Should I replace it?</td>\n",
       "      <td>Last year I updated my PC and now I'm using M.2 SSD as a main for the OS and 3x4TB for video edits as my 16 TB HDD super helio enterprise mega realiable uber endurable blablabla died in 4 MONTHS!!!\\n\\nNow I'm using my old 1TB 840 EVO for some games and media. The issue is that even if Samsung Magician is saying that is still in good shape the TBW is exceding the recommended 72TBW (82.5). Should I worry about it or is still in good shape for some light use?\\n\\n&amp;#x200B;\\n\\nhttps://i.imgur.com/xU9vGyq.jpg\\n\\n&amp;#x200B;\\n\\n\\*The number are overinflated because RAPID is on and I don't have a clue if these numbers from S.M.A.R.T are good or bad.\\n\\n&amp;#x200B;</td>\n",
       "    </tr>\n",
       "    <tr>\n",
       "      <th>...</th>\n",
       "      <td>...</td>\n",
       "      <td>...</td>\n",
       "      <td>...</td>\n",
       "      <td>...</td>\n",
       "      <td>...</td>\n",
       "      <td>...</td>\n",
       "    </tr>\n",
       "    <tr>\n",
       "      <th>71214</th>\n",
       "      <td>176696</td>\n",
       "      <td>Wordpress</td>\n",
       "      <td>t3_15etv3t</td>\n",
       "      <td>2023-08-01</td>\n",
       "      <td>Help Needed</td>\n",
       "      <td>I currently have a custom post type with two custom taxonomies. The first taxonomy represents different services, while the second one represents various regions. What I need is the ability to display the custom taxonomy  (e.g., \"Service\") and apply filters based on the custom taxonomy (e.g., \"Region\"). Additionally, it's essential for my workflow that users can search and further filter the custom taxonomy results.\\n\\nCan someone help me please! :)</td>\n",
       "    </tr>\n",
       "    <tr>\n",
       "      <th>71215</th>\n",
       "      <td>176697</td>\n",
       "      <td>linux</td>\n",
       "      <td>t3_15eu108</td>\n",
       "      <td>2023-08-01</td>\n",
       "      <td>using a Chromebook as my Linux laptop</td>\n",
       "      <td>I've had my Chromebook for a year now and it was something, for the first month I was trying to make use of chromeos but I just couldn't use it for my day to day live, it was to slow for me so I found a way to install Ubuntu on it and ever since then I've been happy with my experience, I just wanted to say all of this.</td>\n",
       "    </tr>\n",
       "    <tr>\n",
       "      <th>71216</th>\n",
       "      <td>176698</td>\n",
       "      <td>website</td>\n",
       "      <td>t3_15etihy</td>\n",
       "      <td>2023-08-01</td>\n",
       "      <td>Need a little tutorial for building a simple website</td>\n",
       "      <td>(Idk if this is the right subreddit) So basically, I'm trying to build a website where you first land on a clean landing page, once you click a \"Click here!\" button you'll be redirected to a page with only a search box, and if you search something in that search box, For example: Shoes. Then a whole bunch of pictures will pop up with links underneath them and you can click on these links and it'll redirect you to another website where you can buy the shoe shown in the picture. I know barely anything about website building but this doesn't seem too hard for a beginner, could someone help</td>\n",
       "    </tr>\n",
       "    <tr>\n",
       "      <th>71217</th>\n",
       "      <td>176699</td>\n",
       "      <td>dataengineering</td>\n",
       "      <td>t3_15etn2w</td>\n",
       "      <td>2023-08-01</td>\n",
       "      <td>Advice on improving the data architecture at a company I just joined?</td>\n",
       "      <td>A few weeks ago I started a new job at a small company, and due to several people leaving, I'm about to become a data team of one. Before you tell me to leave immediately, I took the job because I'm going back to school soon and the work life balance afforded at this company should allow me to balance studying with a full time job. If it doesn't, I'll quit because school is the higher priority for me at the moment. And I was fully prepared to work part-time before I had this job offer.\\n\\nBut that being said, I would like to give an honest attempt at improving the state of the company's data pipelines. Currently there are a ton of pipelines all running via airflow, and the airflow site itself is consistently going down, dags will fail and have to be manually re-run, some dags seems to run in an order such that a downstream table will build prior to one it relies on, resulting in missing data in some columns.\\n\\nI'm coming from a very large company that builds data analytics softwar...</td>\n",
       "    </tr>\n",
       "    <tr>\n",
       "      <th>71218</th>\n",
       "      <td>176700</td>\n",
       "      <td>realtech</td>\n",
       "      <td>t3_15etgrk</td>\n",
       "      <td>2023-08-01</td>\n",
       "      <td>Lenovo is working on a Windows PC gaming handheld called the 'Legion Go'</td>\n",
       "      <td></td>\n",
       "    </tr>\n",
       "  </tbody>\n",
       "</table>\n",
       "<p>71219 rows × 6 columns</p>\n",
       "</div>"
      ],
      "text/plain": [
       "        index        subreddit    username        date  \\\n",
       "0      105421            MacOS  t3_16wj4st  2023-09-30   \n",
       "1      105427           Python  t3_16wj5oc  2023-09-30   \n",
       "2      105428           Python  t3_16wj14c  2023-09-30   \n",
       "3      105436         software  t3_16wj57a  2023-09-30   \n",
       "4      105452      techsupport  t3_16wj6fw  2023-09-30   \n",
       "...       ...              ...         ...         ...   \n",
       "71214  176696        Wordpress  t3_15etv3t  2023-08-01   \n",
       "71215  176697            linux  t3_15eu108  2023-08-01   \n",
       "71216  176698          website  t3_15etihy  2023-08-01   \n",
       "71217  176699  dataengineering  t3_15etn2w  2023-08-01   \n",
       "71218  176700         realtech  t3_15etgrk  2023-08-01   \n",
       "\n",
       "                                                                                               title  \\\n",
       "0                                                             Quick Reminder/Task to Inbox from Mac?   \n",
       "1      Swiss Army Llama: Do tons of useful stuff with local LLMs with a REST API (written in Python)   \n",
       "2                                                        I wrote browser_cookie3 in Rust for Python!   \n",
       "3      Anything that can scan a YouTube playlist of music to profile me or summarize my personality?   \n",
       "4                                                 1TB 840 EVO exceding his TBW. Should I replace it?   \n",
       "...                                                                                              ...   \n",
       "71214                                                                                    Help Needed   \n",
       "71215                                                          using a Chromebook as my Linux laptop   \n",
       "71216                                           Need a little tutorial for building a simple website   \n",
       "71217                          Advice on improving the data architecture at a company I just joined?   \n",
       "71218                       Lenovo is working on a Windows PC gaming handheld called the 'Legion Go'   \n",
       "\n",
       "                                                                                                                                                                                                                                                                                                                                                                                                                                                                                                                                                                                                                                                                                                                                                                                                                                                                                                                                                                                                                                          text  \n",
       "0                                                                                                                                                                                                                                                                                                                                                                                                                                                                                                                       Hi Folks, \\n\\n&#x200B;\\n\\nI'm looking to find a way of being able to super quickly add a quick reminder in to my inbox on the Apple Reminders App.  Frequently at works somebody quick very quickly ask me if i can do / look in to something and i would like to very quickly be able to take note of that. \\n\\n&#x200B;\\n\\nIt would be great if there was just a quick little keyboard shortcut i could do etc.  \\n\\n&#x200B;\\n\\nNote - I do use Alfred but i don't want to pay for Workflows for this sole reason.   \n",
       "1      GitHub Repo: [https://github.com/Dicklesworthstone/swiss\\_army\\_llama](https://github.com/Dicklesworthstone/swiss_army_llama)\\n\\nThis project originally started out with a focus on easily generating embeddings from Llama2 and other llama\\_cpp (gguf) models and storing them in a database, all exposed via a convenient REST api. But since then, I've added a lot more functionality:\\n\\n1. New endpoint for generating text completions (including specifying custom grammars, like JSON).\\n2. Get all the embeddings for an entire document-- can be any kind of document (plaintext, PDFs, .doc/.docx, etc.) and it will do OCR on PDFs and images.\\n3. Submit an audio file (wav/mp3) and it uses whisper to transcribe it into text, then gets the embeddings for the text (after combining the transcription segments into complete sentences).\\n4. Integrates with my new vector similarity library (\\`pip install fast\\_vector\\_similarity\\`) to provide an \"advanced\" semantic search endpoint. This uses a 2-step p...  \n",
       "2                                                                                                                                                                                                                                                                                                                                                                                                                                                                                                                                                                                                                                                     I made a library in Rust for extracting cookies from every web browser on the PC with cross platform support and you can use it from Python directly\\n\\nIt supports Windows, Linux, MacOS\\n\\nand all modern web browsers like Chrome, Firefox, Brave\\n\\nI would love to hear you opinion about it :)\\n\\n[https://github.com/thewh1teagle/rookie](https://github.com/thewh1teagle/rookie)  \n",
       "3                                                                                                                                                                                                                                                                                                                                                                                                                                                                                                                                                                                                                                                                                                                                                                                                                                      Or, if not make a profile about me, then at least make strong recommendations for other music I might like.\\n\\nIt'd likely have to be powered by AI to understand all the lyrics of each of the videos.  \n",
       "4                                                                                                                                                                                                                                                                                                                                                            Last year I updated my PC and now I'm using M.2 SSD as a main for the OS and 3x4TB for video edits as my 16 TB HDD super helio enterprise mega realiable uber endurable blablabla died in 4 MONTHS!!!\\n\\nNow I'm using my old 1TB 840 EVO for some games and media. The issue is that even if Samsung Magician is saying that is still in good shape the TBW is exceding the recommended 72TBW (82.5). Should I worry about it or is still in good shape for some light use?\\n\\n&#x200B;\\n\\nhttps://i.imgur.com/xU9vGyq.jpg\\n\\n&#x200B;\\n\\n\\*The number are overinflated because RAPID is on and I don't have a clue if these numbers from S.M.A.R.T are good or bad.\\n\\n&#x200B;  \n",
       "...                                                                                                                                                                                                                                                                                                                                                                                                                                                                                                                                                                                                                                                                                                                                                                                                                                                                                                                                                                                                                                        ...  \n",
       "71214                                                                                                                                                                                                                                                                                                                                                                                                                                                                                                                                                                   I currently have a custom post type with two custom taxonomies. The first taxonomy represents different services, while the second one represents various regions. What I need is the ability to display the custom taxonomy  (e.g., \"Service\") and apply filters based on the custom taxonomy (e.g., \"Region\"). Additionally, it's essential for my workflow that users can search and further filter the custom taxonomy results.\\n\\nCan someone help me please! :)   \n",
       "71215                                                                                                                                                                                                                                                                                                                                                                                                                                                                                                                                                                                                                                                                                                         I've had my Chromebook for a year now and it was something, for the first month I was trying to make use of chromeos but I just couldn't use it for my day to day live, it was to slow for me so I found a way to install Ubuntu on it and ever since then I've been happy with my experience, I just wanted to say all of this.  \n",
       "71216                                                                                                                                                                                                                                                                                                                                                                                                                        (Idk if this is the right subreddit) So basically, I'm trying to build a website where you first land on a clean landing page, once you click a \"Click here!\" button you'll be redirected to a page with only a search box, and if you search something in that search box, For example: Shoes. Then a whole bunch of pictures will pop up with links underneath them and you can click on these links and it'll redirect you to another website where you can buy the shoe shown in the picture. I know barely anything about website building but this doesn't seem too hard for a beginner, could someone help  \n",
       "71217  A few weeks ago I started a new job at a small company, and due to several people leaving, I'm about to become a data team of one. Before you tell me to leave immediately, I took the job because I'm going back to school soon and the work life balance afforded at this company should allow me to balance studying with a full time job. If it doesn't, I'll quit because school is the higher priority for me at the moment. And I was fully prepared to work part-time before I had this job offer.\\n\\nBut that being said, I would like to give an honest attempt at improving the state of the company's data pipelines. Currently there are a ton of pipelines all running via airflow, and the airflow site itself is consistently going down, dags will fail and have to be manually re-run, some dags seems to run in an order such that a downstream table will build prior to one it relies on, resulting in missing data in some columns.\\n\\nI'm coming from a very large company that builds data analytics softwar...  \n",
       "71218                                                                                                                                                                                                                                                                                                                                                                                                                                                                                                                                                                                                                                                                                                                                                                                                                                                                                                                                                                                                                                           \n",
       "\n",
       "[71219 rows x 6 columns]"
      ]
     },
     "execution_count": 25,
     "metadata": {},
     "output_type": "execute_result"
    }
   ],
   "source": [
    "selected_rows = df_reddit[(pd.to_datetime(df_reddit['date']) >= start_date) & (pd.to_datetime(df_reddit['date']) <= end_date)].reset_index()\n",
    "selected_rows"
   ]
  },
  {
   "cell_type": "code",
   "execution_count": 26,
   "id": "e6cd262f",
   "metadata": {},
   "outputs": [
    {
     "name": "stdout",
     "output_type": "stream",
     "text": [
      "Requirement already satisfied: tqdm in c:\\users\\leona\\anaconda3\\lib\\site-packages (4.65.0)Note: you may need to restart the kernel to use updated packages.\n",
      "\n",
      "Requirement already satisfied: colorama in c:\\users\\leona\\anaconda3\\lib\\site-packages (from tqdm) (0.4.6)\n"
     ]
    }
   ],
   "source": [
    "pip install tqdm"
   ]
  },
  {
   "cell_type": "code",
   "execution_count": 27,
   "id": "426364a1",
   "metadata": {},
   "outputs": [],
   "source": [
    "def search_lemma_word(title, text, word, post_index, nlp):\n",
    "    analyzed_word = nlp(word)\n",
    "    word_lemma = analyzed_word[0].lemma_\n",
    "    \n",
    "    doc = nlp(title + ' ' + text)\n",
    "    for token in doc:\n",
    "        if token.text.lower() == word.lower() or token.lemma_.lower() == word_lemma.lower():\n",
    "            #print(f'at {post_index} line {word} -> FOUND ')\n",
    "            return pd.DataFrame({'post_index': [post_index], 'keyword': [word]})\n",
    "    \n",
    "    return pd.DataFrame()\n",
    "\n",
    "def search_entire_word( text, word, post_index):\n",
    "       \n",
    "    if word.lower() in text.lower() :\n",
    "        return pd.DataFrame({'post_index': [post_index], 'keyword': [word]})\n",
    "    \n",
    "    return pd.DataFrame()\n",
    "\n",
    "from tqdm import tqdm\n",
    "\n",
    "def loop_search(words_list, posts_df):\n",
    "    nlp = spacy.load(\"en_core_web_sm\")\n",
    "    combined_texts = posts_df['title'] + '. ' + posts_df['text']\n",
    "    result_dfs = []\n",
    "\n",
    "    for word in tqdm(words_list, desc=\"Processing words\"):\n",
    "\n",
    "        print(f'Now: {word} ')\n",
    "\n",
    "        if(len(word.split()) == 1):\n",
    "            word_analyzed = nlp(word)\n",
    "            word_lemma = word_analyzed[0].lemma_\n",
    "            for j in tqdm(range(len(posts_df)), desc=\"Processing posts\"):\n",
    "                result_dfs.append(search_lemma_word(posts_df.at[j, 'title'], combined_texts[j], word_lemma, j, nlp))\n",
    "        \n",
    "        else:\n",
    "            for j in tqdm(range(len(posts_df)), desc=\"Processing posts\"):\n",
    "                result_dfs.append(search_entire_word(combined_texts[j], word, j))\n",
    "\n",
    "    result_df = pd.concat(result_dfs, ignore_index=True)\n",
    "    return result_df"
   ]
  },
  {
   "cell_type": "markdown",
   "id": "bb71e409",
   "metadata": {},
   "source": [
    "### Behaviours searching"
   ]
  },
  {
   "cell_type": "code",
   "execution_count": 28,
   "id": "3a8ccf67",
   "metadata": {},
   "outputs": [],
   "source": [
    "l = len(all_behaviours_name_list)\n",
    "\n",
    "index = l // 3\n",
    "\n",
    "first_half = all_behaviours_name_list[:index]\n",
    "third_half = all_behaviours_name_list[index:index*2]\n",
    "second_half = all_behaviours_name_list[index*2:]"
   ]
  },
  {
   "cell_type": "code",
   "execution_count": 29,
   "id": "41c578b6",
   "metadata": {},
   "outputs": [
    {
     "name": "stderr",
     "output_type": "stream",
     "text": [
      "Processing words:   0%|          | 0/107 [00:00<?, ?it/s]"
     ]
    },
    {
     "name": "stdout",
     "output_type": "stream",
     "text": [
      "Now: antidebug guardpages \n"
     ]
    },
    {
     "name": "stderr",
     "output_type": "stream",
     "text": [
      "Processing posts: 100%|██████████| 71219/71219 [00:20<00:00, 3477.53it/s]\n",
      "Processing words:   1%|          | 1/107 [00:20<36:11, 20.48s/it]"
     ]
    },
    {
     "name": "stdout",
     "output_type": "stream",
     "text": [
      "Now: antidebug setunhandledexceptionfilter \n"
     ]
    },
    {
     "name": "stderr",
     "output_type": "stream",
     "text": [
      "Processing posts: 100%|██████████| 71219/71219 [00:19<00:00, 3568.74it/s]\n",
      "Processing words:   2%|▏         | 2/107 [00:40<35:18, 20.18s/it]"
     ]
    },
    {
     "name": "stdout",
     "output_type": "stream",
     "text": [
      "Now: cape detected threat \n"
     ]
    },
    {
     "name": "stderr",
     "output_type": "stream",
     "text": [
      "Processing posts: 100%|██████████| 71219/71219 [00:20<00:00, 3502.86it/s]\n",
      "Processing words:   3%|▎         | 3/107 [01:00<35:06, 20.25s/it]"
     ]
    },
    {
     "name": "stdout",
     "output_type": "stream",
     "text": [
      "Now: cmdline terminate \n"
     ]
    },
    {
     "name": "stderr",
     "output_type": "stream",
     "text": [
      "Processing posts: 100%|██████████| 71219/71219 [00:19<00:00, 3606.86it/s]\n",
      "Processing words:   4%|▎         | 4/107 [01:20<34:25, 20.06s/it]"
     ]
    },
    {
     "name": "stdout",
     "output_type": "stream",
     "text": [
      "Now: dead connect \n"
     ]
    },
    {
     "name": "stderr",
     "output_type": "stream",
     "text": [
      "Processing posts: 100%|██████████| 71219/71219 [00:19<00:00, 3565.76it/s]\n",
      "Processing words:   5%|▍         | 5/107 [01:40<34:02, 20.03s/it]"
     ]
    },
    {
     "name": "stdout",
     "output_type": "stream",
     "text": [
      "Now: deletes executed files \n"
     ]
    },
    {
     "name": "stderr",
     "output_type": "stream",
     "text": [
      "Processing posts: 100%|██████████| 71219/71219 [00:20<00:00, 3531.16it/s]\n",
      "Processing words:   6%|▌         | 6/107 [02:00<33:48, 20.08s/it]"
     ]
    },
    {
     "name": "stdout",
     "output_type": "stream",
     "text": [
      "Now: dynamic function loading \n"
     ]
    },
    {
     "name": "stderr",
     "output_type": "stream",
     "text": [
      "Processing posts: 100%|██████████| 71219/71219 [00:18<00:00, 3769.37it/s]\n",
      "Processing words:   7%|▋         | 7/107 [02:19<32:49, 19.70s/it]"
     ]
    },
    {
     "name": "stdout",
     "output_type": "stream",
     "text": [
      "Now: injection rwx \n"
     ]
    },
    {
     "name": "stderr",
     "output_type": "stream",
     "text": [
      "Processing posts: 100%|██████████| 71219/71219 [00:20<00:00, 3525.89it/s]\n",
      "Processing words:   7%|▋         | 8/107 [02:39<32:45, 19.86s/it]"
     ]
    },
    {
     "name": "stdout",
     "output_type": "stream",
     "text": [
      "Now: persistence autorun tasks \n"
     ]
    },
    {
     "name": "stderr",
     "output_type": "stream",
     "text": [
      "Processing posts: 100%|██████████| 71219/71219 [00:19<00:00, 3745.05it/s]\n",
      "Processing words:   8%|▊         | 9/107 [02:58<32:00, 19.60s/it]"
     ]
    },
    {
     "name": "stdout",
     "output_type": "stream",
     "text": [
      "Now: process creation suspicious location \n"
     ]
    },
    {
     "name": "stderr",
     "output_type": "stream",
     "text": [
      "Processing posts: 100%|██████████| 71219/71219 [00:20<00:00, 3473.03it/s]\n",
      "Processing words:   9%|▉         | 10/107 [03:19<32:08, 19.88s/it]"
     ]
    },
    {
     "name": "stdout",
     "output_type": "stream",
     "text": [
      "Now: reads self \n"
     ]
    },
    {
     "name": "stderr",
     "output_type": "stream",
     "text": [
      "Processing posts: 100%|██████████| 71219/71219 [00:19<00:00, 3741.58it/s]\n",
      "Processing words:  10%|█         | 11/107 [03:38<31:24, 19.63s/it]"
     ]
    },
    {
     "name": "stdout",
     "output_type": "stream",
     "text": [
      "Now: stealth timeout \n"
     ]
    },
    {
     "name": "stderr",
     "output_type": "stream",
     "text": [
      "Processing posts: 100%|██████████| 71219/71219 [00:19<00:00, 3656.49it/s]\n",
      "Processing words:  11%|█         | 12/107 [03:57<31:00, 19.58s/it]"
     ]
    },
    {
     "name": "stdout",
     "output_type": "stream",
     "text": [
      "Now: stealth window \n"
     ]
    },
    {
     "name": "stderr",
     "output_type": "stream",
     "text": [
      "Processing posts: 100%|██████████| 71219/71219 [00:21<00:00, 3383.47it/s]\n",
      "Processing words:  12%|█▏        | 13/107 [04:18<31:22, 20.03s/it]"
     ]
    },
    {
     "name": "stdout",
     "output_type": "stream",
     "text": [
      "Now: suspicious command tools \n"
     ]
    },
    {
     "name": "stderr",
     "output_type": "stream",
     "text": [
      "Processing posts: 100%|██████████| 71219/71219 [00:19<00:00, 3639.87it/s]\n",
      "Processing words:  13%|█▎        | 14/107 [04:38<30:50, 19.89s/it]"
     ]
    },
    {
     "name": "stdout",
     "output_type": "stream",
     "text": [
      "Now: uses windows utilities \n"
     ]
    },
    {
     "name": "stderr",
     "output_type": "stream",
     "text": [
      "Processing posts: 100%|██████████| 71219/71219 [00:19<00:00, 3589.81it/s]\n",
      "Processing words:  14%|█▍        | 15/107 [04:58<30:28, 19.88s/it]"
     ]
    },
    {
     "name": "stdout",
     "output_type": "stream",
     "text": [
      "Now: uses windows utilities to create scheduled task \n"
     ]
    },
    {
     "name": "stderr",
     "output_type": "stream",
     "text": [
      "Processing posts: 100%|██████████| 71219/71219 [00:21<00:00, 3256.69it/s]\n",
      "Processing words:  15%|█▍        | 16/107 [05:20<31:03, 20.48s/it]"
     ]
    },
    {
     "name": "stdout",
     "output_type": "stream",
     "text": [
      "Now: allocates execute remote process \n"
     ]
    },
    {
     "name": "stderr",
     "output_type": "stream",
     "text": [
      "Processing posts: 100%|██████████| 71219/71219 [00:19<00:00, 3627.11it/s]\n",
      "Processing words:  16%|█▌        | 17/107 [05:39<30:20, 20.23s/it]"
     ]
    },
    {
     "name": "stdout",
     "output_type": "stream",
     "text": [
      "Now: allocates rwx \n"
     ]
    },
    {
     "name": "stderr",
     "output_type": "stream",
     "text": [
      "Processing posts: 100%|██████████| 71219/71219 [00:19<00:00, 3666.17it/s]\n",
      "Processing words:  17%|█▋        | 18/107 [05:59<29:39, 19.99s/it]"
     ]
    },
    {
     "name": "stdout",
     "output_type": "stream",
     "text": [
      "Now: antivm memory available \n"
     ]
    },
    {
     "name": "stderr",
     "output_type": "stream",
     "text": [
      "Processing posts: 100%|██████████| 71219/71219 [00:19<00:00, 3714.03it/s]\n",
      "Processing words:  18%|█▊        | 19/107 [06:18<28:57, 19.75s/it]"
     ]
    },
    {
     "name": "stdout",
     "output_type": "stream",
     "text": [
      "Now: antivm network adapters \n"
     ]
    },
    {
     "name": "stderr",
     "output_type": "stream",
     "text": [
      "Processing posts: 100%|██████████| 71219/71219 [00:21<00:00, 3260.59it/s]\n",
      "Processing words:  19%|█▊        | 20/107 [06:40<29:32, 20.38s/it]"
     ]
    },
    {
     "name": "stdout",
     "output_type": "stream",
     "text": [
      "Now: antivm queries computername \n"
     ]
    },
    {
     "name": "stderr",
     "output_type": "stream",
     "text": [
      "Processing posts: 100%|██████████| 71219/71219 [00:19<00:00, 3671.83it/s]\n",
      "Processing words:  20%|█▉        | 21/107 [06:59<28:47, 20.09s/it]"
     ]
    },
    {
     "name": "stdout",
     "output_type": "stream",
     "text": [
      "Now: checks debugger \n"
     ]
    },
    {
     "name": "stderr",
     "output_type": "stream",
     "text": [
      "Processing posts: 100%|██████████| 71219/71219 [00:19<00:00, 3690.83it/s]\n",
      "Processing words:  21%|██        | 22/107 [07:19<28:07, 19.85s/it]"
     ]
    },
    {
     "name": "stdout",
     "output_type": "stream",
     "text": [
      "Now: creates exe \n"
     ]
    },
    {
     "name": "stderr",
     "output_type": "stream",
     "text": [
      "Processing posts: 100%|██████████| 71219/71219 [00:19<00:00, 3649.05it/s]\n",
      "Processing words:  21%|██▏       | 23/107 [07:38<27:39, 19.75s/it]"
     ]
    },
    {
     "name": "stdout",
     "output_type": "stream",
     "text": [
      "Now: dead host \n"
     ]
    },
    {
     "name": "stderr",
     "output_type": "stream",
     "text": [
      "Processing posts: 100%|██████████| 71219/71219 [00:23<00:00, 3070.94it/s]\n",
      "Processing words:  22%|██▏       | 24/107 [08:01<28:45, 20.79s/it]"
     ]
    },
    {
     "name": "stdout",
     "output_type": "stream",
     "text": [
      "Now: dumped buffer \n"
     ]
    },
    {
     "name": "stderr",
     "output_type": "stream",
     "text": [
      "Processing posts: 100%|██████████| 71219/71219 [00:19<00:00, 3579.33it/s]\n",
      "Processing words:  23%|██▎       | 25/107 [08:21<28:02, 20.52s/it]"
     ]
    },
    {
     "name": "stdout",
     "output_type": "stream",
     "text": [
      "Now: exe appdata \n"
     ]
    },
    {
     "name": "stderr",
     "output_type": "stream",
     "text": [
      "Processing posts: 100%|██████████| 71219/71219 [00:18<00:00, 3796.82it/s]\n",
      "Processing words:  24%|██▍       | 26/107 [08:40<26:59, 20.00s/it]"
     ]
    },
    {
     "name": "stdout",
     "output_type": "stream",
     "text": [
      "Now: generates crypto key \n"
     ]
    },
    {
     "name": "stderr",
     "output_type": "stream",
     "text": [
      "Processing posts: 100%|██████████| 71219/71219 [00:18<00:00, 3913.25it/s]\n",
      "Processing words:  25%|██▌       | 27/107 [08:58<25:56, 19.46s/it]"
     ]
    },
    {
     "name": "stdout",
     "output_type": "stream",
     "text": [
      "Now: has pdb \n"
     ]
    },
    {
     "name": "stderr",
     "output_type": "stream",
     "text": [
      "Processing posts: 100%|██████████| 71219/71219 [00:18<00:00, 3800.85it/s]\n",
      "Processing words:  26%|██▌       | 28/107 [09:17<25:20, 19.25s/it]"
     ]
    },
    {
     "name": "stdout",
     "output_type": "stream",
     "text": [
      "Now: injection ntsetcontextthread \n"
     ]
    },
    {
     "name": "stderr",
     "output_type": "stream",
     "text": [
      "Processing posts: 100%|██████████| 71219/71219 [00:18<00:00, 3785.87it/s]\n",
      "Processing words:  27%|██▋       | 29/107 [09:36<24:51, 19.12s/it]"
     ]
    },
    {
     "name": "stdout",
     "output_type": "stream",
     "text": [
      "Now: injection resumethread \n"
     ]
    },
    {
     "name": "stderr",
     "output_type": "stream",
     "text": [
      "Processing posts: 100%|██████████| 71219/71219 [00:18<00:00, 3844.08it/s]\n",
      "Processing words:  28%|██▊       | 30/107 [09:54<24:18, 18.94s/it]"
     ]
    },
    {
     "name": "stdout",
     "output_type": "stream",
     "text": [
      "Now: injection runpe \n"
     ]
    },
    {
     "name": "stderr",
     "output_type": "stream",
     "text": [
      "Processing posts: 100%|██████████| 71219/71219 [00:22<00:00, 3129.30it/s]\n",
      "Processing words:  29%|██▉       | 31/107 [10:17<25:26, 20.09s/it]"
     ]
    },
    {
     "name": "stdout",
     "output_type": "stream",
     "text": [
      "Now: injection write memory \n"
     ]
    },
    {
     "name": "stderr",
     "output_type": "stream",
     "text": [
      "Processing posts: 100%|██████████| 71219/71219 [00:18<00:00, 3830.52it/s]\n",
      "Processing words:  30%|██▉       | 32/107 [10:36<24:33, 19.64s/it]"
     ]
    },
    {
     "name": "stdout",
     "output_type": "stream",
     "text": [
      "Now: injection write memory exe \n"
     ]
    },
    {
     "name": "stderr",
     "output_type": "stream",
     "text": [
      "Processing posts: 100%|██████████| 71219/71219 [00:18<00:00, 3814.19it/s]\n",
      "Processing words:  31%|███       | 33/107 [10:54<23:52, 19.35s/it]"
     ]
    },
    {
     "name": "stdout",
     "output_type": "stream",
     "text": [
      "Now: nolookup communication \n"
     ]
    },
    {
     "name": "stderr",
     "output_type": "stream",
     "text": [
      "Processing posts: 100%|██████████| 71219/71219 [00:18<00:00, 3762.63it/s]\n",
      "Processing words:  32%|███▏      | 34/107 [11:13<23:23, 19.23s/it]"
     ]
    },
    {
     "name": "stdout",
     "output_type": "stream",
     "text": [
      "Now: packer entropy \n"
     ]
    },
    {
     "name": "stderr",
     "output_type": "stream",
     "text": [
      "Processing posts: 100%|██████████| 71219/71219 [00:18<00:00, 3796.31it/s]\n",
      "Processing words:  33%|███▎      | 35/107 [11:32<22:54, 19.09s/it]"
     ]
    },
    {
     "name": "stdout",
     "output_type": "stream",
     "text": [
      "Now: persistence autorun \n"
     ]
    },
    {
     "name": "stderr",
     "output_type": "stream",
     "text": [
      "Processing posts: 100%|██████████| 71219/71219 [00:18<00:00, 3771.42it/s]\n",
      "Processing words:  34%|███▎      | 36/107 [11:51<22:31, 19.03s/it]"
     ]
    },
    {
     "name": "stdout",
     "output_type": "stream",
     "text": [
      "Now: privilege luid check \n"
     ]
    },
    {
     "name": "stderr",
     "output_type": "stream",
     "text": [
      "Processing posts: 100%|██████████| 71219/71219 [00:18<00:00, 3853.09it/s]\n",
      "Processing words:  35%|███▍      | 37/107 [12:09<22:00, 18.87s/it]"
     ]
    },
    {
     "name": "stdout",
     "output_type": "stream",
     "text": [
      "Now: removes zoneid ads \n"
     ]
    },
    {
     "name": "stderr",
     "output_type": "stream",
     "text": [
      "Processing posts: 100%|██████████| 71219/71219 [00:24<00:00, 2964.33it/s]\n",
      "Processing words:  36%|███▌      | 38/107 [12:33<23:28, 20.42s/it]"
     ]
    },
    {
     "name": "stdout",
     "output_type": "stream",
     "text": [
      "Now: schtask create \n"
     ]
    },
    {
     "name": "stderr",
     "output_type": "stream",
     "text": [
      "Processing posts: 100%|██████████| 71219/71219 [00:18<00:00, 3772.04it/s]\n",
      "Processing words:  36%|███▋      | 39/107 [12:52<22:37, 19.96s/it]"
     ]
    },
    {
     "name": "stdout",
     "output_type": "stream",
     "text": [
      "Now: suspicious process \n"
     ]
    },
    {
     "name": "stderr",
     "output_type": "stream",
     "text": [
      "Processing posts: 100%|██████████| 71219/71219 [00:18<00:00, 3815.56it/s]\n",
      "Processing words:  37%|███▋      | 40/107 [13:11<21:51, 19.58s/it]"
     ]
    },
    {
     "name": "stdout",
     "output_type": "stream",
     "text": [
      "Now: network icmp \n"
     ]
    },
    {
     "name": "stderr",
     "output_type": "stream",
     "text": [
      "Processing posts: 100%|██████████| 71219/71219 [00:19<00:00, 3616.98it/s]\n",
      "Processing words:  38%|███▊      | 41/107 [13:31<21:34, 19.61s/it]"
     ]
    },
    {
     "name": "stdout",
     "output_type": "stream",
     "text": [
      "Now: osquery detection \n"
     ]
    },
    {
     "name": "stderr",
     "output_type": "stream",
     "text": [
      "Processing posts: 100%|██████████| 71219/71219 [00:19<00:00, 3578.86it/s]\n",
      "Processing words:  39%|███▉      | 42/107 [13:51<21:20, 19.70s/it]"
     ]
    },
    {
     "name": "stdout",
     "output_type": "stream",
     "text": [
      "Now: dumped buffer2 \n"
     ]
    },
    {
     "name": "stderr",
     "output_type": "stream",
     "text": [
      "Processing posts: 100%|██████████| 71219/71219 [00:20<00:00, 3546.96it/s]\n",
      "Processing words:  40%|████      | 43/107 [14:11<21:08, 19.82s/it]"
     ]
    },
    {
     "name": "stdout",
     "output_type": "stream",
     "text": [
      "Now: infostealer keylogger \n"
     ]
    },
    {
     "name": "stderr",
     "output_type": "stream",
     "text": [
      "Processing posts: 100%|██████████| 71219/71219 [00:19<00:00, 3591.33it/s]\n",
      "Processing words:  41%|████      | 44/107 [14:31<20:48, 19.82s/it]"
     ]
    },
    {
     "name": "stdout",
     "output_type": "stream",
     "text": [
      "Now: networkdyndns checkip \n"
     ]
    },
    {
     "name": "stderr",
     "output_type": "stream",
     "text": [
      "Processing posts: 100%|██████████| 71219/71219 [00:19<00:00, 3650.37it/s]\n",
      "Processing words:  42%|████▏     | 45/107 [14:50<20:23, 19.73s/it]"
     ]
    },
    {
     "name": "stdout",
     "output_type": "stream",
     "text": [
      "Now: nids alert \n"
     ]
    },
    {
     "name": "stderr",
     "output_type": "stream",
     "text": [
      "Processing posts: 100%|██████████| 71219/71219 [00:19<00:00, 3610.26it/s]\n",
      "Processing words:  43%|████▎     | 46/107 [15:10<20:03, 19.73s/it]"
     ]
    },
    {
     "name": "stdout",
     "output_type": "stream",
     "text": [
      "Now: infostealer ftp \n"
     ]
    },
    {
     "name": "stderr",
     "output_type": "stream",
     "text": [
      "Processing posts: 100%|██████████| 71219/71219 [00:27<00:00, 2547.77it/s]\n",
      "Processing words:  44%|████▍     | 47/107 [15:38<22:12, 22.20s/it]"
     ]
    },
    {
     "name": "stdout",
     "output_type": "stream",
     "text": [
      "Now: queries programs \n"
     ]
    },
    {
     "name": "stderr",
     "output_type": "stream",
     "text": [
      "Processing posts: 100%|██████████| 71219/71219 [00:19<00:00, 3695.28it/s]\n",
      "Processing words:  45%|████▍     | 48/107 [15:57<20:58, 21.32s/it]"
     ]
    },
    {
     "name": "stdout",
     "output_type": "stream",
     "text": [
      "Now: raises exception \n"
     ]
    },
    {
     "name": "stderr",
     "output_type": "stream",
     "text": [
      "Processing posts: 100%|██████████| 71219/71219 [00:19<00:00, 3731.13it/s]\n",
      "Processing words:  46%|████▌     | 49/107 [16:16<19:58, 20.66s/it]"
     ]
    },
    {
     "name": "stdout",
     "output_type": "stream",
     "text": [
      "Now: recon programs \n"
     ]
    },
    {
     "name": "stderr",
     "output_type": "stream",
     "text": [
      "Processing posts: 100%|██████████| 71219/71219 [00:19<00:00, 3712.17it/s]\n",
      "Processing words:  47%|████▋     | 50/107 [16:35<19:12, 20.22s/it]"
     ]
    },
    {
     "name": "stdout",
     "output_type": "stream",
     "text": [
      "Now: antisandbox sleep \n"
     ]
    },
    {
     "name": "stderr",
     "output_type": "stream",
     "text": [
      "Processing posts: 100%|██████████| 71219/71219 [00:18<00:00, 3805.75it/s]\n",
      "Processing words:  48%|████▊     | 51/107 [16:54<18:27, 19.77s/it]"
     ]
    },
    {
     "name": "stdout",
     "output_type": "stream",
     "text": [
      "Now: console output \n"
     ]
    },
    {
     "name": "stderr",
     "output_type": "stream",
     "text": [
      "Processing posts: 100%|██████████| 71219/71219 [00:18<00:00, 3791.24it/s]\n",
      "Processing words:  49%|████▊     | 52/107 [17:13<17:51, 19.48s/it]"
     ]
    },
    {
     "name": "stdout",
     "output_type": "stream",
     "text": [
      "Now: packer polymorphic \n"
     ]
    },
    {
     "name": "stderr",
     "output_type": "stream",
     "text": [
      "Processing posts: 100%|██████████| 71219/71219 [00:18<00:00, 3794.85it/s]\n",
      "Processing words:  50%|████▉     | 53/107 [17:32<17:20, 19.27s/it]"
     ]
    },
    {
     "name": "stdout",
     "output_type": "stream",
     "text": [
      "Now: protection rx \n"
     ]
    },
    {
     "name": "stderr",
     "output_type": "stream",
     "text": [
      "Processing posts: 100%|██████████| 71219/71219 [00:18<00:00, 3769.11it/s]\n",
      "Processing words:  50%|█████     | 54/107 [17:51<16:55, 19.16s/it]"
     ]
    },
    {
     "name": "stdout",
     "output_type": "stream",
     "text": [
      "Now: antisandbox foregroundwindows \n"
     ]
    },
    {
     "name": "stderr",
     "output_type": "stream",
     "text": [
      "Processing posts: 100%|██████████| 71219/71219 [00:18<00:00, 3795.63it/s]\n",
      "Processing words:  51%|█████▏    | 55/107 [18:09<16:30, 19.04s/it]"
     ]
    },
    {
     "name": "stdout",
     "output_type": "stream",
     "text": [
      "Now: process martian \n"
     ]
    },
    {
     "name": "stderr",
     "output_type": "stream",
     "text": [
      "Processing posts: 100%|██████████| 71219/71219 [00:18<00:00, 3813.43it/s]\n",
      "Processing words:  52%|█████▏    | 56/107 [18:28<16:05, 18.93s/it]"
     ]
    },
    {
     "name": "stdout",
     "output_type": "stream",
     "text": [
      "Now: suspicious write exe \n"
     ]
    },
    {
     "name": "stderr",
     "output_type": "stream",
     "text": [
      "Processing posts: 100%|██████████| 71219/71219 [00:18<00:00, 3776.11it/s]\n",
      "Processing words:  53%|█████▎    | 57/107 [18:47<15:45, 18.92s/it]"
     ]
    },
    {
     "name": "stdout",
     "output_type": "stream",
     "text": [
      "Now: antisandbox idletime \n"
     ]
    },
    {
     "name": "stderr",
     "output_type": "stream",
     "text": [
      "Processing posts: 100%|██████████| 71219/71219 [00:18<00:00, 3788.53it/s]\n",
      "Processing words:  54%|█████▍    | 58/107 [19:06<15:25, 18.88s/it]"
     ]
    },
    {
     "name": "stdout",
     "output_type": "stream",
     "text": [
      "Now: antisandbox mouse hook \n"
     ]
    },
    {
     "name": "stderr",
     "output_type": "stream",
     "text": [
      "Processing posts: 100%|██████████| 71219/71219 [00:27<00:00, 2595.77it/s]\n",
      "Processing words:  55%|█████▌    | 59/107 [19:33<17:09, 21.45s/it]"
     ]
    },
    {
     "name": "stdout",
     "output_type": "stream",
     "text": [
      "Now: pe features \n"
     ]
    },
    {
     "name": "stderr",
     "output_type": "stream",
     "text": [
      "Processing posts: 100%|██████████| 71219/71219 [00:18<00:00, 3751.52it/s]\n",
      "Processing words:  56%|█████▌    | 60/107 [19:52<16:13, 20.71s/it]"
     ]
    },
    {
     "name": "stdout",
     "output_type": "stream",
     "text": [
      "Now: powershell reg add \n"
     ]
    },
    {
     "name": "stderr",
     "output_type": "stream",
     "text": [
      "Processing posts: 100%|██████████| 71219/71219 [00:19<00:00, 3734.07it/s]\n",
      "Processing words:  57%|█████▋    | 61/107 [20:11<15:30, 20.22s/it]"
     ]
    },
    {
     "name": "stdout",
     "output_type": "stream",
     "text": [
      "Now: infostealer browser \n"
     ]
    },
    {
     "name": "stderr",
     "output_type": "stream",
     "text": [
      "Processing posts: 100%|██████████| 71219/71219 [00:18<00:00, 3832.43it/s]\n",
      "Processing words:  58%|█████▊    | 62/107 [20:30<14:48, 19.73s/it]"
     ]
    },
    {
     "name": "stdout",
     "output_type": "stream",
     "text": [
      "Now: infostealer im \n"
     ]
    },
    {
     "name": "stderr",
     "output_type": "stream",
     "text": [
      "Processing posts: 100%|██████████| 71219/71219 [00:18<00:00, 3816.03it/s]\n",
      "Processing words:  59%|█████▉    | 63/107 [20:48<14:14, 19.42s/it]"
     ]
    },
    {
     "name": "stdout",
     "output_type": "stream",
     "text": [
      "Now: infostealer mail \n"
     ]
    },
    {
     "name": "stderr",
     "output_type": "stream",
     "text": [
      "Processing posts: 100%|██████████| 71219/71219 [00:18<00:00, 3763.08it/s]\n",
      "Processing words:  60%|█████▉    | 64/107 [21:07<13:48, 19.27s/it]"
     ]
    },
    {
     "name": "stdout",
     "output_type": "stream",
     "text": [
      "Now: injection process search \n"
     ]
    },
    {
     "name": "stderr",
     "output_type": "stream",
     "text": [
      "Processing posts: 100%|██████████| 71219/71219 [00:18<00:00, 3756.19it/s]\n",
      "Processing words:  61%|██████    | 65/107 [21:26<13:25, 19.18s/it]"
     ]
    },
    {
     "name": "stdout",
     "output_type": "stream",
     "text": [
      "Now: locates browser \n"
     ]
    },
    {
     "name": "stderr",
     "output_type": "stream",
     "text": [
      "Processing posts: 100%|██████████| 71219/71219 [00:18<00:00, 3768.49it/s]\n",
      "Processing words:  62%|██████▏   | 66/107 [21:45<13:02, 19.10s/it]"
     ]
    },
    {
     "name": "stdout",
     "output_type": "stream",
     "text": [
      "Now: network downloader exe \n"
     ]
    },
    {
     "name": "stderr",
     "output_type": "stream",
     "text": [
      "Processing posts: 100%|██████████| 71219/71219 [00:18<00:00, 3821.63it/s]\n",
      "Processing words:  63%|██████▎   | 67/107 [22:04<12:38, 18.96s/it]"
     ]
    },
    {
     "name": "stdout",
     "output_type": "stream",
     "text": [
      "Now: infostealer keylog \n"
     ]
    },
    {
     "name": "stderr",
     "output_type": "stream",
     "text": [
      "Processing posts: 100%|██████████| 71219/71219 [00:18<00:00, 3865.51it/s]\n",
      "Processing words:  64%|██████▎   | 68/107 [22:22<12:13, 18.80s/it]"
     ]
    },
    {
     "name": "stdout",
     "output_type": "stream",
     "text": [
      "Now: ransomware file modifications \n"
     ]
    },
    {
     "name": "stderr",
     "output_type": "stream",
     "text": [
      "Processing posts: 100%|██████████| 71219/71219 [00:19<00:00, 3731.66it/s]\n",
      "Processing words:  64%|██████▍   | 69/107 [22:41<11:57, 18.89s/it]"
     ]
    },
    {
     "name": "stdout",
     "output_type": "stream",
     "text": [
      "Now: disables security \n"
     ]
    },
    {
     "name": "stderr",
     "output_type": "stream",
     "text": [
      "Processing posts: 100%|██████████| 71219/71219 [00:18<00:00, 3872.76it/s]\n",
      "Processing words:  65%|██████▌   | 70/107 [23:00<11:33, 18.74s/it]"
     ]
    },
    {
     "name": "stdout",
     "output_type": "stream",
     "text": [
      "Now: dropper \n"
     ]
    },
    {
     "name": "stderr",
     "output_type": "stream",
     "text": [
      "Processing posts: 100%|██████████| 71219/71219 [35:52<00:00, 33.08it/s]\n",
      "Processing words:  66%|██████▋   | 71/107 [58:53<6:35:24, 659.03s/it]"
     ]
    },
    {
     "name": "stdout",
     "output_type": "stream",
     "text": [
      "Now: creates hidden file \n"
     ]
    },
    {
     "name": "stderr",
     "output_type": "stream",
     "text": [
      "Processing posts: 100%|██████████| 71219/71219 [00:20<00:00, 3409.58it/s]\n",
      "Processing words:  67%|██████▋   | 72/107 [59:14<4:32:45, 467.59s/it]"
     ]
    },
    {
     "name": "stdout",
     "output_type": "stream",
     "text": [
      "Now: document open \n"
     ]
    },
    {
     "name": "stderr",
     "output_type": "stream",
     "text": [
      "Processing posts: 100%|██████████| 71219/71219 [00:43<00:00, 1626.57it/s]\n",
      "Processing words:  68%|██████▊   | 73/107 [59:58<3:12:55, 340.45s/it]"
     ]
    },
    {
     "name": "stdout",
     "output_type": "stream",
     "text": [
      "Now: network cnc http \n"
     ]
    },
    {
     "name": "stderr",
     "output_type": "stream",
     "text": [
      "Processing posts: 100%|██████████| 71219/71219 [00:19<00:00, 3671.54it/s]\n",
      "Processing words:  69%|██████▉   | 74/107 [1:00:17<2:14:16, 244.14s/it]"
     ]
    },
    {
     "name": "stdout",
     "output_type": "stream",
     "text": [
      "Now: network http \n"
     ]
    },
    {
     "name": "stderr",
     "output_type": "stream",
     "text": [
      "Processing posts: 100%|██████████| 71219/71219 [00:19<00:00, 3575.02it/s]\n",
      "Processing words:  70%|███████   | 75/107 [1:00:37<1:34:20, 176.88s/it]"
     ]
    },
    {
     "name": "stdout",
     "output_type": "stream",
     "text": [
      "Now: nids malware alert \n"
     ]
    },
    {
     "name": "stderr",
     "output_type": "stream",
     "text": [
      "Processing posts: 100%|██████████| 71219/71219 [00:19<00:00, 3696.93it/s]\n",
      "Processing words:  71%|███████   | 76/107 [1:00:56<1:06:57, 129.59s/it]"
     ]
    },
    {
     "name": "stdout",
     "output_type": "stream",
     "text": [
      "Now: stealth system procname \n"
     ]
    },
    {
     "name": "stderr",
     "output_type": "stream",
     "text": [
      "Processing posts: 100%|██████████| 71219/71219 [00:19<00:00, 3658.53it/s]\n",
      "Processing words:  72%|███████▏  | 77/107 [1:01:16<48:16, 96.56s/it]   "
     ]
    },
    {
     "name": "stdout",
     "output_type": "stream",
     "text": [
      "Now: network multiple direct ip connections \n"
     ]
    },
    {
     "name": "stderr",
     "output_type": "stream",
     "text": [
      "Processing posts: 100%|██████████| 71219/71219 [00:20<00:00, 3541.70it/s]\n",
      "Processing words:  73%|███████▎  | 78/107 [1:01:36<35:35, 73.63s/it]"
     ]
    },
    {
     "name": "stdout",
     "output_type": "stream",
     "text": [
      "Now: accesses recyclebin \n"
     ]
    },
    {
     "name": "stderr",
     "output_type": "stream",
     "text": [
      "Processing posts: 100%|██████████| 71219/71219 [00:19<00:00, 3658.29it/s]\n",
      "Processing words:  74%|███████▍  | 79/107 [1:01:55<26:46, 57.38s/it]"
     ]
    },
    {
     "name": "stdout",
     "output_type": "stream",
     "text": [
      "Now: anomalous deletefile \n"
     ]
    },
    {
     "name": "stderr",
     "output_type": "stream",
     "text": [
      "Processing posts: 100%|██████████| 71219/71219 [00:18<00:00, 3757.00it/s]\n",
      "Processing words:  75%|███████▍  | 80/107 [1:02:14<20:38, 45.86s/it]"
     ]
    },
    {
     "name": "stdout",
     "output_type": "stream",
     "text": [
      "Now: antivm generic bios \n"
     ]
    },
    {
     "name": "stderr",
     "output_type": "stream",
     "text": [
      "Processing posts: 100%|██████████| 71219/71219 [00:18<00:00, 3763.70it/s]\n",
      "Processing words:  76%|███████▌  | 81/107 [1:02:33<16:22, 37.78s/it]"
     ]
    },
    {
     "name": "stdout",
     "output_type": "stream",
     "text": [
      "Now: antivm generic disk \n"
     ]
    },
    {
     "name": "stderr",
     "output_type": "stream",
     "text": [
      "Processing posts: 100%|██████████| 71219/71219 [00:19<00:00, 3744.02it/s]\n",
      "Processing words:  77%|███████▋  | 82/107 [1:02:52<13:23, 32.16s/it]"
     ]
    },
    {
     "name": "stdout",
     "output_type": "stream",
     "text": [
      "Now: creates largekey \n"
     ]
    },
    {
     "name": "stderr",
     "output_type": "stream",
     "text": [
      "Processing posts: 100%|██████████| 71219/71219 [00:19<00:00, 3725.43it/s]\n",
      "Processing words:  78%|███████▊  | 83/107 [1:03:11<11:17, 28.25s/it]"
     ]
    },
    {
     "name": "stdout",
     "output_type": "stream",
     "text": [
      "Now: enumerates physical drives \n"
     ]
    },
    {
     "name": "stderr",
     "output_type": "stream",
     "text": [
      "Processing posts: 100%|██████████| 71219/71219 [00:19<00:00, 3596.11it/s]\n",
      "Processing words:  79%|███████▊  | 84/107 [1:03:31<09:51, 25.72s/it]"
     ]
    },
    {
     "name": "stdout",
     "output_type": "stream",
     "text": [
      "Now: exec crash \n"
     ]
    },
    {
     "name": "stderr",
     "output_type": "stream",
     "text": [
      "Processing posts: 100%|██████████| 71219/71219 [00:19<00:00, 3670.72it/s]\n",
      "Processing words:  79%|███████▉  | 85/107 [1:03:50<08:44, 23.82s/it]"
     ]
    },
    {
     "name": "stdout",
     "output_type": "stream",
     "text": [
      "Now: infostealer cookies \n"
     ]
    },
    {
     "name": "stderr",
     "output_type": "stream",
     "text": [
      "Processing posts: 100%|██████████| 71219/71219 [00:19<00:00, 3619.16it/s]\n",
      "Processing words:  80%|████████  | 86/107 [1:04:10<07:54, 22.58s/it]"
     ]
    },
    {
     "name": "stdout",
     "output_type": "stream",
     "text": [
      "Now: injection inter process \n"
     ]
    },
    {
     "name": "stderr",
     "output_type": "stream",
     "text": [
      "Processing posts: 100%|██████████| 71219/71219 [00:18<00:00, 3768.31it/s]\n",
      "Processing words:  81%|████████▏ | 87/107 [1:04:29<07:09, 21.48s/it]"
     ]
    },
    {
     "name": "stdout",
     "output_type": "stream",
     "text": [
      "Now: injection process hollowing \n"
     ]
    },
    {
     "name": "stderr",
     "output_type": "stream",
     "text": [
      "Processing posts: 100%|██████████| 71219/71219 [00:19<00:00, 3736.08it/s]\n",
      "Processing words:  82%|████████▏ | 88/107 [1:04:48<06:34, 20.76s/it]"
     ]
    },
    {
     "name": "stdout",
     "output_type": "stream",
     "text": [
      "Now: modify desktop wallpaper \n"
     ]
    },
    {
     "name": "stderr",
     "output_type": "stream",
     "text": [
      "Processing posts: 100%|██████████| 71219/71219 [00:19<00:00, 3728.85it/s]\n",
      "Processing words:  83%|████████▎ | 89/107 [1:05:07<06:04, 20.26s/it]"
     ]
    },
    {
     "name": "stdout",
     "output_type": "stream",
     "text": [
      "Now: physical drive access \n"
     ]
    },
    {
     "name": "stderr",
     "output_type": "stream",
     "text": [
      "Processing posts: 100%|██████████| 71219/71219 [00:19<00:00, 3702.25it/s]\n",
      "Processing words:  84%|████████▍ | 90/107 [1:05:27<05:39, 19.96s/it]"
     ]
    },
    {
     "name": "stdout",
     "output_type": "stream",
     "text": [
      "Now: powershell request \n"
     ]
    },
    {
     "name": "stderr",
     "output_type": "stream",
     "text": [
      "Processing posts: 100%|██████████| 71219/71219 [00:32<00:00, 2195.67it/s]\n",
      "Processing words:  85%|████████▌ | 91/107 [1:05:59<06:19, 23.70s/it]"
     ]
    },
    {
     "name": "stdout",
     "output_type": "stream",
     "text": [
      "Now: recon fingerprint \n"
     ]
    },
    {
     "name": "stderr",
     "output_type": "stream",
     "text": [
      "Processing posts: 100%|██████████| 71219/71219 [00:18<00:00, 3767.49it/s]\n",
      "Processing words:  86%|████████▌ | 92/107 [1:06:18<05:33, 22.27s/it]"
     ]
    },
    {
     "name": "stdout",
     "output_type": "stream",
     "text": [
      "Now: terminates remote process \n"
     ]
    },
    {
     "name": "stderr",
     "output_type": "stream",
     "text": [
      "Processing posts: 100%|██████████| 71219/71219 [00:19<00:00, 3722.85it/s]\n",
      "Processing words:  87%|████████▋ | 93/107 [1:06:37<04:58, 21.33s/it]"
     ]
    },
    {
     "name": "stdout",
     "output_type": "stream",
     "text": [
      "Now: antivm generic services \n"
     ]
    },
    {
     "name": "stderr",
     "output_type": "stream",
     "text": [
      "Processing posts: 100%|██████████| 71219/71219 [00:19<00:00, 3746.08it/s]\n",
      "Processing words:  88%|████████▊ | 94/107 [1:06:56<04:28, 20.64s/it]"
     ]
    },
    {
     "name": "stdout",
     "output_type": "stream",
     "text": [
      "Now: modifies proxy wpad \n"
     ]
    },
    {
     "name": "stderr",
     "output_type": "stream",
     "text": [
      "Processing posts: 100%|██████████| 71219/71219 [00:19<00:00, 3725.28it/s]\n",
      "Processing words:  89%|████████▉ | 95/107 [1:07:15<04:02, 20.18s/it]"
     ]
    },
    {
     "name": "stdout",
     "output_type": "stream",
     "text": [
      "Now: http request \n"
     ]
    },
    {
     "name": "stderr",
     "output_type": "stream",
     "text": [
      "Processing posts: 100%|██████████| 71219/71219 [00:19<00:00, 3723.92it/s]\n",
      "Processing words:  90%|████████▉ | 96/107 [1:07:34<03:38, 19.87s/it]"
     ]
    },
    {
     "name": "stdout",
     "output_type": "stream",
     "text": [
      "Now: infostealer bitcoin \n"
     ]
    },
    {
     "name": "stderr",
     "output_type": "stream",
     "text": [
      "Processing posts: 100%|██████████| 71219/71219 [00:19<00:00, 3582.46it/s]\n",
      "Processing words:  91%|█████████ | 97/107 [1:07:54<03:18, 19.87s/it]"
     ]
    },
    {
     "name": "stdout",
     "output_type": "stream",
     "text": [
      "Now: network cnc https generic \n"
     ]
    },
    {
     "name": "stderr",
     "output_type": "stream",
     "text": [
      "Processing posts: 100%|██████████| 71219/71219 [00:19<00:00, 3645.26it/s]\n",
      "Processing words:  92%|█████████▏| 98/107 [1:08:14<02:57, 19.78s/it]"
     ]
    },
    {
     "name": "stdout",
     "output_type": "stream",
     "text": [
      "Now: network dyndns \n"
     ]
    },
    {
     "name": "stderr",
     "output_type": "stream",
     "text": [
      "Processing posts: 100%|██████████| 71219/71219 [00:19<00:00, 3713.43it/s]\n",
      "Processing words:  93%|█████████▎| 99/107 [1:08:33<02:36, 19.60s/it]"
     ]
    },
    {
     "name": "stdout",
     "output_type": "stream",
     "text": [
      "Now: powershell download \n"
     ]
    },
    {
     "name": "stderr",
     "output_type": "stream",
     "text": [
      "Processing posts: 100%|██████████| 71219/71219 [00:19<00:00, 3688.87it/s]\n",
      "Processing words:  93%|█████████▎| 100/107 [1:08:52<02:16, 19.51s/it]"
     ]
    },
    {
     "name": "stdout",
     "output_type": "stream",
     "text": [
      "Now: procmem yara \n"
     ]
    },
    {
     "name": "stderr",
     "output_type": "stream",
     "text": [
      "Processing posts: 100%|██████████| 71219/71219 [00:19<00:00, 3656.20it/s]\n",
      "Processing words:  94%|█████████▍| 101/107 [1:09:12<01:57, 19.51s/it]"
     ]
    },
    {
     "name": "stdout",
     "output_type": "stream",
     "text": [
      "Now: recon checkip \n"
     ]
    },
    {
     "name": "stderr",
     "output_type": "stream",
     "text": [
      "Processing posts: 100%|██████████| 71219/71219 [00:19<00:00, 3688.53it/s]\n",
      "Processing words:  95%|█████████▌| 102/107 [1:09:31<01:37, 19.45s/it]"
     ]
    },
    {
     "name": "stdout",
     "output_type": "stream",
     "text": [
      "Now: antivm disk size \n"
     ]
    },
    {
     "name": "stderr",
     "output_type": "stream",
     "text": [
      "Processing posts: 100%|██████████| 71219/71219 [00:19<00:00, 3692.72it/s]\n",
      "Processing words:  96%|█████████▋| 103/107 [1:09:50<01:17, 19.40s/it]"
     ]
    },
    {
     "name": "stdout",
     "output_type": "stream",
     "text": [
      "Now: origin langid \n"
     ]
    },
    {
     "name": "stderr",
     "output_type": "stream",
     "text": [
      "Processing posts: 100%|██████████| 71219/71219 [00:19<00:00, 3706.72it/s]\n",
      "Processing words:  97%|█████████▋| 104/107 [1:10:10<00:58, 19.35s/it]"
     ]
    },
    {
     "name": "stdout",
     "output_type": "stream",
     "text": [
      "Now: peid packer \n"
     ]
    },
    {
     "name": "stderr",
     "output_type": "stream",
     "text": [
      "Processing posts: 100%|██████████| 71219/71219 [00:18<00:00, 3760.98it/s]\n",
      "Processing words:  98%|█████████▊| 105/107 [1:10:28<00:38, 19.23s/it]"
     ]
    },
    {
     "name": "stdout",
     "output_type": "stream",
     "text": [
      "Now: antidbg windows \n"
     ]
    },
    {
     "name": "stderr",
     "output_type": "stream",
     "text": [
      "Processing posts: 100%|██████████| 71219/71219 [00:19<00:00, 3617.63it/s]\n",
      "Processing words:  99%|█████████▉| 106/107 [1:10:48<00:19, 19.37s/it]"
     ]
    },
    {
     "name": "stdout",
     "output_type": "stream",
     "text": [
      "Now: antivm vmware in instruction \n"
     ]
    },
    {
     "name": "stderr",
     "output_type": "stream",
     "text": [
      "Processing posts: 100%|██████████| 71219/71219 [00:19<00:00, 3721.42it/s]\n",
      "Processing words: 100%|██████████| 107/107 [1:11:07<00:00, 39.89s/it]\n"
     ]
    }
   ],
   "source": [
    "matches_behaviours_1 = loop_search( first_half , selected_rows)\n"
   ]
  },
  {
   "cell_type": "code",
   "execution_count": null,
   "id": "3bf3f051",
   "metadata": {},
   "outputs": [],
   "source": [
    "matches_behaviours_1.to_csv(r'C:\\Users\\leona\\OneDrive\\Desktop\\Tesi\\Pipeline\\Datasets\\Pipeline\\SocialNetworksPosts\\Reddit\\one_behaviours.csv')"
   ]
  },
  {
   "cell_type": "code",
   "execution_count": 30,
   "id": "0cb63bc5",
   "metadata": {},
   "outputs": [
    {
     "name": "stderr",
     "output_type": "stream",
     "text": [
      "Processing words:   0%|          | 0/109 [00:00<?, ?it/s]"
     ]
    },
    {
     "name": "stdout",
     "output_type": "stream",
     "text": [
      "Now: antisandbox suspend \n"
     ]
    },
    {
     "name": "stderr",
     "output_type": "stream",
     "text": [
      "Processing posts: 100%|██████████| 71219/71219 [00:18<00:00, 3791.02it/s]\n",
      "Processing words:   1%|          | 1/109 [00:18<33:51, 18.81s/it]"
     ]
    },
    {
     "name": "stdout",
     "output_type": "stream",
     "text": [
      "Now: network dns paste site \n"
     ]
    },
    {
     "name": "stderr",
     "output_type": "stream",
     "text": [
      "Processing posts: 100%|██████████| 71219/71219 [00:18<00:00, 3791.65it/s]\n",
      "Processing words:   2%|▏         | 2/109 [00:37<33:31, 18.80s/it]"
     ]
    },
    {
     "name": "stdout",
     "output_type": "stream",
     "text": [
      "Now: antivm generic system \n"
     ]
    },
    {
     "name": "stderr",
     "output_type": "stream",
     "text": [
      "Processing posts: 100%|██████████| 71219/71219 [00:18<00:00, 3846.24it/s]\n",
      "Processing words:   3%|▎         | 3/109 [00:56<32:59, 18.68s/it]"
     ]
    },
    {
     "name": "stdout",
     "output_type": "stream",
     "text": [
      "Now: warzonerat files \n"
     ]
    },
    {
     "name": "stderr",
     "output_type": "stream",
     "text": [
      "Processing posts: 100%|██████████| 71219/71219 [00:18<00:00, 3783.31it/s]\n",
      "Processing words:   4%|▎         | 4/109 [01:14<32:47, 18.74s/it]"
     ]
    },
    {
     "name": "stdout",
     "output_type": "stream",
     "text": [
      "Now: windows defender powershell \n"
     ]
    },
    {
     "name": "stderr",
     "output_type": "stream",
     "text": [
      "Processing posts: 100%|██████████| 71219/71219 [00:18<00:00, 3794.85it/s]\n",
      "Processing words:   5%|▍         | 5/109 [01:33<32:30, 18.75s/it]"
     ]
    },
    {
     "name": "stdout",
     "output_type": "stream",
     "text": [
      "Now: antivm vbox files \n"
     ]
    },
    {
     "name": "stderr",
     "output_type": "stream",
     "text": [
      "Processing posts: 100%|██████████| 71219/71219 [00:19<00:00, 3743.45it/s]\n",
      "Processing words:   6%|▌         | 6/109 [01:52<32:21, 18.85s/it]"
     ]
    },
    {
     "name": "stdout",
     "output_type": "stream",
     "text": [
      "Now: antivm vmware files \n"
     ]
    },
    {
     "name": "stderr",
     "output_type": "stream",
     "text": [
      "Processing posts: 100%|██████████| 71219/71219 [00:20<00:00, 3528.33it/s]\n",
      "Processing words:   6%|▋         | 7/109 [02:12<32:47, 19.29s/it]"
     ]
    },
    {
     "name": "stdout",
     "output_type": "stream",
     "text": [
      "Now: bypass firewall \n"
     ]
    },
    {
     "name": "stderr",
     "output_type": "stream",
     "text": [
      "Processing posts: 100%|██████████| 71219/71219 [00:19<00:00, 3573.47it/s]\n",
      "Processing words:   7%|▋         | 8/109 [02:32<32:49, 19.50s/it]"
     ]
    },
    {
     "name": "stdout",
     "output_type": "stream",
     "text": [
      "Now: injection network traffic \n"
     ]
    },
    {
     "name": "stderr",
     "output_type": "stream",
     "text": [
      "Processing posts: 100%|██████████| 71219/71219 [00:18<00:00, 3799.30it/s]\n",
      "Processing words:   8%|▊         | 9/109 [02:51<32:06, 19.27s/it]"
     ]
    },
    {
     "name": "stdout",
     "output_type": "stream",
     "text": [
      "Now: modify security center warnings \n"
     ]
    },
    {
     "name": "stderr",
     "output_type": "stream",
     "text": [
      "Processing posts: 100%|██████████| 71219/71219 [00:20<00:00, 3458.25it/s]\n",
      "Processing words:   9%|▉         | 10/109 [03:12<32:28, 19.68s/it]"
     ]
    },
    {
     "name": "stdout",
     "output_type": "stream",
     "text": [
      "Now: rat sdbot \n"
     ]
    },
    {
     "name": "stderr",
     "output_type": "stream",
     "text": [
      "Processing posts: 100%|██████████| 71219/71219 [00:18<00:00, 3767.72it/s]\n",
      "Processing words:  10%|█         | 11/109 [03:31<31:45, 19.44s/it]"
     ]
    },
    {
     "name": "stdout",
     "output_type": "stream",
     "text": [
      "Now: antidebug ntsetinformationthread \n"
     ]
    },
    {
     "name": "stderr",
     "output_type": "stream",
     "text": [
      "Processing posts: 100%|██████████| 71219/71219 [00:18<00:00, 3780.31it/s]\n",
      "Processing words:  11%|█         | 12/109 [03:50<31:08, 19.26s/it]"
     ]
    },
    {
     "name": "stdout",
     "output_type": "stream",
     "text": [
      "Now: antiav detectreg \n"
     ]
    },
    {
     "name": "stderr",
     "output_type": "stream",
     "text": [
      "Processing posts: 100%|██████████| 71219/71219 [00:20<00:00, 3416.23it/s]\n",
      "Processing words:  12%|█▏        | 13/109 [04:10<31:35, 19.74s/it]"
     ]
    },
    {
     "name": "stdout",
     "output_type": "stream",
     "text": [
      "Now: network dns blockchain \n"
     ]
    },
    {
     "name": "stderr",
     "output_type": "stream",
     "text": [
      "Processing posts: 100%|██████████| 71219/71219 [00:19<00:00, 3722.91it/s]\n",
      "Processing words:  13%|█▎        | 14/109 [04:30<30:58, 19.56s/it]"
     ]
    },
    {
     "name": "stdout",
     "output_type": "stream",
     "text": [
      "Now: rtf unknown character set \n"
     ]
    },
    {
     "name": "stderr",
     "output_type": "stream",
     "text": [
      "Processing posts: 100%|██████████| 71219/71219 [00:19<00:00, 3683.71it/s]\n",
      "Processing words:  14%|█▍        | 15/109 [04:49<30:32, 19.50s/it]"
     ]
    },
    {
     "name": "stdout",
     "output_type": "stream",
     "text": [
      "Now: network cnc https payload \n"
     ]
    },
    {
     "name": "stderr",
     "output_type": "stream",
     "text": [
      "Processing posts: 100%|██████████| 71219/71219 [00:21<00:00, 3294.53it/s]\n",
      "Processing words:  15%|█▍        | 16/109 [05:10<31:12, 20.14s/it]"
     ]
    },
    {
     "name": "stdout",
     "output_type": "stream",
     "text": [
      "Now: renostrojan \n"
     ]
    },
    {
     "name": "stderr",
     "output_type": "stream",
     "text": [
      "Processing posts: 100%|██████████| 71219/71219 [34:13<00:00, 34.68it/s]\n",
      "Processing words:  16%|█▌        | 17/109 [39:24<16:08:33, 631.67s/it]"
     ]
    },
    {
     "name": "stdout",
     "output_type": "stream",
     "text": [
      "Now: plugx \n"
     ]
    },
    {
     "name": "stderr",
     "output_type": "stream",
     "text": [
      "Processing posts: 100%|██████████| 71219/71219 [30:56<00:00, 38.37it/s]\n",
      "Processing words:  17%|█▋        | 18/109 [1:10:21<25:16:09, 999.67s/it]"
     ]
    },
    {
     "name": "stdout",
     "output_type": "stream",
     "text": [
      "Now: network tor \n"
     ]
    },
    {
     "name": "stderr",
     "output_type": "stream",
     "text": [
      "Processing posts: 100%|██████████| 71219/71219 [00:22<00:00, 3146.07it/s]\n",
      "Processing words:  17%|█▋        | 19/109 [1:10:43<17:39:20, 706.23s/it]"
     ]
    },
    {
     "name": "stdout",
     "output_type": "stream",
     "text": [
      "Now: js eval \n"
     ]
    },
    {
     "name": "stderr",
     "output_type": "stream",
     "text": [
      "Processing posts: 100%|██████████| 71219/71219 [00:18<00:00, 3902.39it/s]\n",
      "Processing words:  18%|█▊        | 20/109 [1:11:02<12:21:10, 499.67s/it]"
     ]
    },
    {
     "name": "stdout",
     "output_type": "stream",
     "text": [
      "Now: antiemu wine func \n"
     ]
    },
    {
     "name": "stderr",
     "output_type": "stream",
     "text": [
      "Processing posts: 100%|██████████| 71219/71219 [00:17<00:00, 4151.60it/s]\n",
      "Processing words:  19%|█▉        | 21/109 [1:11:19<8:40:25, 354.84s/it] "
     ]
    },
    {
     "name": "stdout",
     "output_type": "stream",
     "text": [
      "Now: injection queueapcthread \n"
     ]
    },
    {
     "name": "stderr",
     "output_type": "stream",
     "text": [
      "Processing posts: 100%|██████████| 71219/71219 [00:16<00:00, 4308.38it/s]\n",
      "Processing words:  20%|██        | 22/109 [1:11:35<6:07:17, 253.31s/it]"
     ]
    },
    {
     "name": "stdout",
     "output_type": "stream",
     "text": [
      "Now: njrat regkeys \n"
     ]
    },
    {
     "name": "stderr",
     "output_type": "stream",
     "text": [
      "Processing posts: 100%|██████████| 71219/71219 [00:19<00:00, 3589.49it/s]\n",
      "Processing words:  21%|██        | 23/109 [1:11:55<4:22:39, 183.25s/it]"
     ]
    },
    {
     "name": "stdout",
     "output_type": "stream",
     "text": [
      "Now: disables system restore \n"
     ]
    },
    {
     "name": "stderr",
     "output_type": "stream",
     "text": [
      "Processing posts: 100%|██████████| 71219/71219 [00:16<00:00, 4341.82it/s]\n",
      "Processing words:  22%|██▏       | 24/109 [1:12:12<3:08:41, 133.19s/it]"
     ]
    },
    {
     "name": "stdout",
     "output_type": "stream",
     "text": [
      "Now: accesses netlogon regkey \n"
     ]
    },
    {
     "name": "stderr",
     "output_type": "stream",
     "text": [
      "Processing posts: 100%|██████████| 71219/71219 [00:16<00:00, 4384.08it/s]\n",
      "Processing words:  23%|██▎       | 25/109 [1:12:28<2:17:21, 98.11s/it] "
     ]
    },
    {
     "name": "stdout",
     "output_type": "stream",
     "text": [
      "Now: createtoolhelp32snapshot module enumeration \n"
     ]
    },
    {
     "name": "stderr",
     "output_type": "stream",
     "text": [
      "Processing posts: 100%|██████████| 71219/71219 [00:16<00:00, 4300.92it/s]\n",
      "Processing words:  24%|██▍       | 26/109 [1:12:44<1:41:52, 73.65s/it]"
     ]
    },
    {
     "name": "stdout",
     "output_type": "stream",
     "text": [
      "Now: mimics agent \n"
     ]
    },
    {
     "name": "stderr",
     "output_type": "stream",
     "text": [
      "Processing posts: 100%|██████████| 71219/71219 [00:16<00:00, 4259.78it/s]\n",
      "Processing words:  25%|██▍       | 27/109 [1:13:01<1:17:18, 56.57s/it]"
     ]
    },
    {
     "name": "stdout",
     "output_type": "stream",
     "text": [
      "Now: suspicious ping use \n"
     ]
    },
    {
     "name": "stderr",
     "output_type": "stream",
     "text": [
      "Processing posts: 100%|██████████| 71219/71219 [00:16<00:00, 4284.28it/s]\n",
      "Processing words:  26%|██▌       | 28/109 [1:13:18<1:00:11, 44.59s/it]"
     ]
    },
    {
     "name": "stdout",
     "output_type": "stream",
     "text": [
      "Now: uses windows utilities nltest \n"
     ]
    },
    {
     "name": "stderr",
     "output_type": "stream",
     "text": [
      "Processing posts: 100%|██████████| 71219/71219 [00:21<00:00, 3353.27it/s]\n",
      "Processing words:  27%|██▋       | 29/109 [1:13:39<50:06, 37.59s/it]  "
     ]
    },
    {
     "name": "stdout",
     "output_type": "stream",
     "text": [
      "Now: spreading autoruninf \n"
     ]
    },
    {
     "name": "stderr",
     "output_type": "stream",
     "text": [
      "Processing posts: 100%|██████████| 71219/71219 [00:16<00:00, 4298.08it/s]\n",
      "Processing words:  28%|██▊       | 30/109 [1:13:56<41:11, 31.28s/it]"
     ]
    },
    {
     "name": "stdout",
     "output_type": "stream",
     "text": [
      "Now: antivm vbox devices \n"
     ]
    },
    {
     "name": "stderr",
     "output_type": "stream",
     "text": [
      "Processing posts: 100%|██████████| 71219/71219 [00:16<00:00, 4322.64it/s]\n",
      "Processing words:  28%|██▊       | 31/109 [1:14:12<34:53, 26.84s/it]"
     ]
    },
    {
     "name": "stdout",
     "output_type": "stream",
     "text": [
      "Now: rat rbot \n"
     ]
    },
    {
     "name": "stderr",
     "output_type": "stream",
     "text": [
      "Processing posts: 100%|██████████| 71219/71219 [00:17<00:00, 4171.92it/s]\n",
      "Processing words:  29%|██▉       | 32/109 [1:14:29<30:41, 23.92s/it]"
     ]
    },
    {
     "name": "stdout",
     "output_type": "stream",
     "text": [
      "Now: network excessive udp \n"
     ]
    },
    {
     "name": "stderr",
     "output_type": "stream",
     "text": [
      "Processing posts: 100%|██████████| 71219/71219 [00:16<00:00, 4340.78it/s]\n",
      "Processing words:  30%|███       | 33/109 [1:14:46<27:26, 21.66s/it]"
     ]
    },
    {
     "name": "stdout",
     "output_type": "stream",
     "text": [
      "Now: chmod 777 perm \n"
     ]
    },
    {
     "name": "stderr",
     "output_type": "stream",
     "text": [
      "Processing posts: 100%|██████████| 71219/71219 [00:16<00:00, 4258.48it/s]\n",
      "Processing words:  31%|███       | 34/109 [1:15:02<25:13, 20.19s/it]"
     ]
    },
    {
     "name": "stdout",
     "output_type": "stream",
     "text": [
      "Now: browser security \n"
     ]
    },
    {
     "name": "stderr",
     "output_type": "stream",
     "text": [
      "Processing posts: 100%|██████████| 71219/71219 [00:17<00:00, 4101.24it/s]\n",
      "Processing words:  32%|███▏      | 35/109 [1:15:20<23:51, 19.34s/it]"
     ]
    },
    {
     "name": "stdout",
     "output_type": "stream",
     "text": [
      "Now: detect putty \n"
     ]
    },
    {
     "name": "stderr",
     "output_type": "stream",
     "text": [
      "Processing posts: 100%|██████████| 71219/71219 [00:21<00:00, 3302.77it/s]\n",
      "Processing words:  33%|███▎      | 36/109 [1:15:41<24:20, 20.01s/it]"
     ]
    },
    {
     "name": "stdout",
     "output_type": "stream",
     "text": [
      "Now: memdump urls \n"
     ]
    },
    {
     "name": "stderr",
     "output_type": "stream",
     "text": [
      "Processing posts: 100%|██████████| 71219/71219 [00:16<00:00, 4355.77it/s]\n",
      "Processing words:  34%|███▍      | 37/109 [1:15:58<22:42, 18.92s/it]"
     ]
    },
    {
     "name": "stdout",
     "output_type": "stream",
     "text": [
      "Now: ransomware dropped files \n"
     ]
    },
    {
     "name": "stderr",
     "output_type": "stream",
     "text": [
      "Processing posts: 100%|██████████| 71219/71219 [00:16<00:00, 4272.95it/s]\n",
      "Processing words:  35%|███▍      | 38/109 [1:16:14<21:35, 18.25s/it]"
     ]
    },
    {
     "name": "stdout",
     "output_type": "stream",
     "text": [
      "Now: rat xtreme \n"
     ]
    },
    {
     "name": "stderr",
     "output_type": "stream",
     "text": [
      "Processing posts: 100%|██████████| 71219/71219 [00:16<00:00, 4351.94it/s]\n",
      "Processing words:  36%|███▌      | 39/109 [1:16:31<20:37, 17.68s/it]"
     ]
    },
    {
     "name": "stdout",
     "output_type": "stream",
     "text": [
      "Now: modify uac prompt \n"
     ]
    },
    {
     "name": "stderr",
     "output_type": "stream",
     "text": [
      "Processing posts: 100%|██████████| 71219/71219 [00:16<00:00, 4276.50it/s]\n",
      "Processing words:  37%|███▋      | 40/109 [1:16:47<19:58, 17.38s/it]"
     ]
    },
    {
     "name": "stdout",
     "output_type": "stream",
     "text": [
      "Now: packer vmprotect \n"
     ]
    },
    {
     "name": "stderr",
     "output_type": "stream",
     "text": [
      "Processing posts: 100%|██████████| 71219/71219 [00:16<00:00, 4350.84it/s]\n",
      "Processing words:  38%|███▊      | 41/109 [1:17:04<19:21, 17.08s/it]"
     ]
    },
    {
     "name": "stdout",
     "output_type": "stream",
     "text": [
      "Now: banker zeus p2p \n"
     ]
    },
    {
     "name": "stderr",
     "output_type": "stream",
     "text": [
      "Processing posts: 100%|██████████| 71219/71219 [00:16<00:00, 4306.52it/s]\n",
      "Processing words:  39%|███▊      | 42/109 [1:17:20<18:53, 16.92s/it]"
     ]
    },
    {
     "name": "stdout",
     "output_type": "stream",
     "text": [
      "Now: orcusrat behavior \n"
     ]
    },
    {
     "name": "stderr",
     "output_type": "stream",
     "text": [
      "Processing posts: 100%|██████████| 71219/71219 [00:16<00:00, 4260.62it/s]\n",
      "Processing words:  39%|███▉      | 43/109 [1:17:37<18:32, 16.86s/it]"
     ]
    },
    {
     "name": "stdout",
     "output_type": "stream",
     "text": [
      "Now: exploit heapspray \n"
     ]
    },
    {
     "name": "stderr",
     "output_type": "stream",
     "text": [
      "Processing posts: 100%|██████████| 71219/71219 [00:16<00:00, 4303.30it/s]\n",
      "Processing words:  40%|████      | 44/109 [1:17:53<18:09, 16.77s/it]"
     ]
    },
    {
     "name": "stdout",
     "output_type": "stream",
     "text": [
      "Now: persists dev util \n"
     ]
    },
    {
     "name": "stderr",
     "output_type": "stream",
     "text": [
      "Processing posts: 100%|██████████| 71219/71219 [00:22<00:00, 3105.22it/s]\n",
      "Processing words:  41%|████▏     | 45/109 [1:18:16<19:51, 18.62s/it]"
     ]
    },
    {
     "name": "stdout",
     "output_type": "stream",
     "text": [
      "Now: rtf unknown version \n"
     ]
    },
    {
     "name": "stderr",
     "output_type": "stream",
     "text": [
      "Processing posts: 100%|██████████| 71219/71219 [00:16<00:00, 4341.17it/s]\n",
      "Processing words:  42%|████▏     | 46/109 [1:18:33<18:51, 17.96s/it]"
     ]
    },
    {
     "name": "stdout",
     "output_type": "stream",
     "text": [
      "Now: antisandbox sunbelt libs \n"
     ]
    },
    {
     "name": "stderr",
     "output_type": "stream",
     "text": [
      "Processing posts: 100%|██████████| 71219/71219 [00:17<00:00, 4095.36it/s]\n",
      "Processing words:  43%|████▎     | 47/109 [1:18:50<18:23, 17.79s/it]"
     ]
    },
    {
     "name": "stdout",
     "output_type": "stream",
     "text": [
      "Now: network anomaly \n"
     ]
    },
    {
     "name": "stderr",
     "output_type": "stream",
     "text": [
      "Processing posts: 100%|██████████| 71219/71219 [00:16<00:00, 4296.58it/s]\n",
      "Processing words:  44%|████▍     | 48/109 [1:19:07<17:43, 17.43s/it]"
     ]
    },
    {
     "name": "stdout",
     "output_type": "stream",
     "text": [
      "Now: spoofs procname \n"
     ]
    },
    {
     "name": "stderr",
     "output_type": "stream",
     "text": [
      "Processing posts: 100%|██████████| 71219/71219 [00:17<00:00, 4116.50it/s]\n",
      "Processing words:  45%|████▍     | 49/109 [1:19:24<17:23, 17.39s/it]"
     ]
    },
    {
     "name": "stdout",
     "output_type": "stream",
     "text": [
      "Now: antidebug windows \n"
     ]
    },
    {
     "name": "stderr",
     "output_type": "stream",
     "text": [
      "Processing posts: 100%|██████████| 71219/71219 [00:16<00:00, 4234.49it/s]\n",
      "Processing words:  46%|████▌     | 50/109 [1:19:41<16:56, 17.22s/it]"
     ]
    },
    {
     "name": "stdout",
     "output_type": "stream",
     "text": [
      "Now: recon beacon \n"
     ]
    },
    {
     "name": "stderr",
     "output_type": "stream",
     "text": [
      "Processing posts: 100%|██████████| 71219/71219 [00:16<00:00, 4301.01it/s]\n",
      "Processing words:  47%|████▋     | 51/109 [1:19:58<16:27, 17.03s/it]"
     ]
    },
    {
     "name": "stdout",
     "output_type": "stream",
     "text": [
      "Now: network cnc https pastesite \n"
     ]
    },
    {
     "name": "stderr",
     "output_type": "stream",
     "text": [
      "Processing posts: 100%|██████████| 71219/71219 [00:16<00:00, 4217.55it/s]\n",
      "Processing words:  48%|████▊     | 52/109 [1:20:14<16:08, 16.99s/it]"
     ]
    },
    {
     "name": "stdout",
     "output_type": "stream",
     "text": [
      "Now: suspicious certutil use \n"
     ]
    },
    {
     "name": "stderr",
     "output_type": "stream",
     "text": [
      "Processing posts: 100%|██████████| 71219/71219 [00:16<00:00, 4263.18it/s]\n",
      "Processing words:  49%|████▊     | 53/109 [1:20:31<15:46, 16.90s/it]"
     ]
    },
    {
     "name": "stdout",
     "output_type": "stream",
     "text": [
      "Now: alters windows utility \n"
     ]
    },
    {
     "name": "stderr",
     "output_type": "stream",
     "text": [
      "Processing posts: 100%|██████████| 71219/71219 [00:16<00:00, 4307.10it/s]\n",
      "Processing words:  50%|████▉     | 54/109 [1:20:48<15:23, 16.80s/it]"
     ]
    },
    {
     "name": "stdout",
     "output_type": "stream",
     "text": [
      "Now: powershell renamed \n"
     ]
    },
    {
     "name": "stderr",
     "output_type": "stream",
     "text": [
      "Processing posts: 100%|██████████| 71219/71219 [00:16<00:00, 4292.26it/s]\n",
      "Processing words:  50%|█████     | 55/109 [1:21:04<15:03, 16.74s/it]"
     ]
    },
    {
     "name": "stdout",
     "output_type": "stream",
     "text": [
      "Now: nitol \n"
     ]
    },
    {
     "name": "stderr",
     "output_type": "stream",
     "text": [
      "Processing posts: 100%|██████████| 71219/71219 [29:24<00:00, 40.36it/s]\n",
      "Processing words:  51%|█████▏    | 56/109 [1:50:29<7:58:01, 541.17s/it]"
     ]
    },
    {
     "name": "stdout",
     "output_type": "stream",
     "text": [
      "Now: warzonerat regkeys \n"
     ]
    },
    {
     "name": "stderr",
     "output_type": "stream",
     "text": [
      "Processing posts: 100%|██████████| 71219/71219 [00:15<00:00, 4593.14it/s]\n",
      "Processing words:  52%|█████▏    | 57/109 [1:50:45<5:32:20, 383.47s/it]"
     ]
    },
    {
     "name": "stdout",
     "output_type": "stream",
     "text": [
      "Now: exec waitfor \n"
     ]
    },
    {
     "name": "stderr",
     "output_type": "stream",
     "text": [
      "Processing posts: 100%|██████████| 71219/71219 [00:15<00:00, 4631.48it/s]\n",
      "Processing words:  53%|█████▎    | 58/109 [1:51:00<3:52:05, 273.05s/it]"
     ]
    },
    {
     "name": "stdout",
     "output_type": "stream",
     "text": [
      "Now: martian command process \n"
     ]
    },
    {
     "name": "stderr",
     "output_type": "stream",
     "text": [
      "Processing posts: 100%|██████████| 71219/71219 [00:14<00:00, 4811.61it/s]\n",
      "Processing words:  54%|█████▍    | 59/109 [1:51:15<2:42:58, 195.57s/it]"
     ]
    },
    {
     "name": "stdout",
     "output_type": "stream",
     "text": [
      "Now: antivirus virustotal \n"
     ]
    },
    {
     "name": "stderr",
     "output_type": "stream",
     "text": [
      "Processing posts: 100%|██████████| 71219/71219 [00:14<00:00, 4772.44it/s]\n",
      "Processing words:  55%|█████▌    | 60/109 [1:51:30<1:55:27, 141.38s/it]"
     ]
    },
    {
     "name": "stdout",
     "output_type": "stream",
     "text": [
      "Now: banker zeus mutex \n"
     ]
    },
    {
     "name": "stderr",
     "output_type": "stream",
     "text": [
      "Processing posts: 100%|██████████| 71219/71219 [00:15<00:00, 4725.06it/s]\n",
      "Processing words:  56%|█████▌    | 61/109 [1:51:45<1:22:47, 103.49s/it]"
     ]
    },
    {
     "name": "stdout",
     "output_type": "stream",
     "text": [
      "Now: copies self \n"
     ]
    },
    {
     "name": "stderr",
     "output_type": "stream",
     "text": [
      "Processing posts: 100%|██████████| 71219/71219 [00:14<00:00, 4779.26it/s]\n",
      "Processing words:  57%|█████▋    | 62/109 [1:52:00<1:00:15, 76.92s/it] "
     ]
    },
    {
     "name": "stdout",
     "output_type": "stream",
     "text": [
      "Now: cryptopool domains \n"
     ]
    },
    {
     "name": "stderr",
     "output_type": "stream",
     "text": [
      "Processing posts: 100%|██████████| 71219/71219 [00:15<00:00, 4743.76it/s]\n",
      "Processing words:  58%|█████▊    | 63/109 [1:52:15<44:44, 58.35s/it]  "
     ]
    },
    {
     "name": "stdout",
     "output_type": "stream",
     "text": [
      "Now: antiav servicestop \n"
     ]
    },
    {
     "name": "stderr",
     "output_type": "stream",
     "text": [
      "Processing posts: 100%|██████████| 71219/71219 [00:14<00:00, 4823.94it/s]\n",
      "Processing words:  59%|█████▊    | 64/109 [1:52:30<33:57, 45.27s/it]"
     ]
    },
    {
     "name": "stdout",
     "output_type": "stream",
     "text": [
      "Now: masquerade process name \n"
     ]
    },
    {
     "name": "stderr",
     "output_type": "stream",
     "text": [
      "Processing posts: 100%|██████████| 71219/71219 [00:14<00:00, 4763.24it/s]\n",
      "Processing words:  60%|█████▉    | 65/109 [1:52:45<26:31, 36.18s/it]"
     ]
    },
    {
     "name": "stdout",
     "output_type": "stream",
     "text": [
      "Now: antivm sandboxie \n"
     ]
    },
    {
     "name": "stderr",
     "output_type": "stream",
     "text": [
      "Processing posts: 100%|██████████| 71219/71219 [00:14<00:00, 4803.77it/s]\n",
      "Processing words:  61%|██████    | 66/109 [1:52:59<21:20, 29.78s/it]"
     ]
    },
    {
     "name": "stdout",
     "output_type": "stream",
     "text": [
      "Now: recon systeminfo \n"
     ]
    },
    {
     "name": "stderr",
     "output_type": "stream",
     "text": [
      "Processing posts: 100%|██████████| 71219/71219 [00:14<00:00, 4754.74it/s]\n",
      "Processing words:  61%|██████▏   | 67/109 [1:53:14<17:44, 25.34s/it]"
     ]
    },
    {
     "name": "stdout",
     "output_type": "stream",
     "text": [
      "Now: modify certs \n"
     ]
    },
    {
     "name": "stderr",
     "output_type": "stream",
     "text": [
      "Processing posts: 100%|██████████| 71219/71219 [00:14<00:00, 4760.89it/s]\n",
      "Processing words:  62%|██████▏   | 68/109 [1:53:29<15:11, 22.23s/it]"
     ]
    },
    {
     "name": "stdout",
     "output_type": "stream",
     "text": [
      "Now: cryptomining stratum command \n"
     ]
    },
    {
     "name": "stderr",
     "output_type": "stream",
     "text": [
      "Processing posts: 100%|██████████| 71219/71219 [00:14<00:00, 4769.54it/s]\n",
      "Processing words:  63%|██████▎   | 69/109 [1:53:44<13:21, 20.04s/it]"
     ]
    },
    {
     "name": "stdout",
     "output_type": "stream",
     "text": [
      "Now: network dns txt lookup \n"
     ]
    },
    {
     "name": "stderr",
     "output_type": "stream",
     "text": [
      "Processing posts: 100%|██████████| 71219/71219 [00:24<00:00, 2923.80it/s]\n",
      "Processing words:  64%|██████▍   | 70/109 [1:54:09<13:52, 21.34s/it]"
     ]
    },
    {
     "name": "stdout",
     "output_type": "stream",
     "text": [
      "Now: antisandbox file \n"
     ]
    },
    {
     "name": "stderr",
     "output_type": "stream",
     "text": [
      "Processing posts: 100%|██████████| 71219/71219 [00:14<00:00, 4777.23it/s]\n",
      "Processing words:  65%|██████▌   | 71/109 [1:54:24<12:17, 19.41s/it]"
     ]
    },
    {
     "name": "stdout",
     "output_type": "stream",
     "text": [
      "Now: antisandbox joe anubis files \n"
     ]
    },
    {
     "name": "stderr",
     "output_type": "stream",
     "text": [
      "Processing posts: 100%|██████████| 71219/71219 [00:14<00:00, 4799.07it/s]\n",
      "Processing words:  66%|██████▌   | 72/109 [1:54:38<11:07, 18.04s/it]"
     ]
    },
    {
     "name": "stdout",
     "output_type": "stream",
     "text": [
      "Now: captures screenshot \n"
     ]
    },
    {
     "name": "stderr",
     "output_type": "stream",
     "text": [
      "Processing posts: 100%|██████████| 71219/71219 [00:14<00:00, 4760.61it/s]\n",
      "Processing words:  67%|██████▋   | 73/109 [1:54:53<10:16, 17.12s/it]"
     ]
    },
    {
     "name": "stdout",
     "output_type": "stream",
     "text": [
      "Now: netwire behavior \n"
     ]
    },
    {
     "name": "stderr",
     "output_type": "stream",
     "text": [
      "Processing posts: 100%|██████████| 71219/71219 [00:14<00:00, 4791.40it/s]\n",
      "Processing words:  68%|██████▊   | 74/109 [1:55:08<09:35, 16.45s/it]"
     ]
    },
    {
     "name": "stdout",
     "output_type": "stream",
     "text": [
      "Now: cypherit mutexes \n"
     ]
    },
    {
     "name": "stderr",
     "output_type": "stream",
     "text": [
      "Processing posts: 100%|██████████| 71219/71219 [00:14<00:00, 4770.47it/s]\n",
      "Processing words:  69%|██████▉   | 75/109 [1:55:23<09:03, 16.00s/it]"
     ]
    },
    {
     "name": "stdout",
     "output_type": "stream",
     "text": [
      "Now: network dga \n"
     ]
    },
    {
     "name": "stderr",
     "output_type": "stream",
     "text": [
      "Processing posts: 100%|██████████| 71219/71219 [00:14<00:00, 4796.35it/s]\n",
      "Processing words:  70%|██████▉   | 76/109 [1:55:38<08:36, 15.65s/it]"
     ]
    },
    {
     "name": "stdout",
     "output_type": "stream",
     "text": [
      "Now: stealth childproc \n"
     ]
    },
    {
     "name": "stderr",
     "output_type": "stream",
     "text": [
      "Processing posts: 100%|██████████| 71219/71219 [00:14<00:00, 4775.01it/s]\n",
      "Processing words:  71%|███████   | 77/109 [1:55:53<08:14, 15.44s/it]"
     ]
    },
    {
     "name": "stdout",
     "output_type": "stream",
     "text": [
      "Now: cmdline long string \n"
     ]
    },
    {
     "name": "stderr",
     "output_type": "stream",
     "text": [
      "Processing posts: 100%|██████████| 71219/71219 [00:14<00:00, 4818.14it/s]\n",
      "Processing words:  72%|███████▏  | 78/109 [1:56:08<07:52, 15.24s/it]"
     ]
    },
    {
     "name": "stdout",
     "output_type": "stream",
     "text": [
      "Now: crontab persistency \n"
     ]
    },
    {
     "name": "stderr",
     "output_type": "stream",
     "text": [
      "Processing posts: 100%|██████████| 71219/71219 [00:14<00:00, 4767.19it/s]\n",
      "Processing words:  72%|███████▏  | 79/109 [1:56:23<07:34, 15.15s/it]"
     ]
    },
    {
     "name": "stdout",
     "output_type": "stream",
     "text": [
      "Now: antivm generic diskreg \n"
     ]
    },
    {
     "name": "stderr",
     "output_type": "stream",
     "text": [
      "Processing posts: 100%|██████████| 71219/71219 [00:14<00:00, 4794.45it/s]\n",
      "Processing words:  73%|███████▎  | 80/109 [1:56:38<07:17, 15.07s/it]"
     ]
    },
    {
     "name": "stdout",
     "output_type": "stream",
     "text": [
      "Now: win32 process create \n"
     ]
    },
    {
     "name": "stderr",
     "output_type": "stream",
     "text": [
      "Processing posts: 100%|██████████| 71219/71219 [00:14<00:00, 4792.43it/s]\n",
      "Processing words:  74%|███████▍  | 81/109 [1:56:52<07:00, 15.01s/it]"
     ]
    },
    {
     "name": "stdout",
     "output_type": "stream",
     "text": [
      "Now: suspicious js script \n"
     ]
    },
    {
     "name": "stderr",
     "output_type": "stream",
     "text": [
      "Processing posts: 100%|██████████| 71219/71219 [00:14<00:00, 4826.61it/s]\n",
      "Processing words:  75%|███████▌  | 82/109 [1:57:07<06:43, 14.94s/it]"
     ]
    },
    {
     "name": "stdout",
     "output_type": "stream",
     "text": [
      "Now: cmdline obfuscation \n"
     ]
    },
    {
     "name": "stderr",
     "output_type": "stream",
     "text": [
      "Processing posts: 100%|██████████| 71219/71219 [00:14<00:00, 4841.97it/s]\n",
      "Processing words:  76%|███████▌  | 83/109 [1:57:22<06:26, 14.87s/it]"
     ]
    },
    {
     "name": "stdout",
     "output_type": "stream",
     "text": [
      "Now: cmdline http link \n"
     ]
    },
    {
     "name": "stderr",
     "output_type": "stream",
     "text": [
      "Processing posts: 100%|██████████| 71219/71219 [00:14<00:00, 4791.45it/s]\n",
      "Processing words:  77%|███████▋  | 84/109 [1:57:37<06:11, 14.87s/it]"
     ]
    },
    {
     "name": "stdout",
     "output_type": "stream",
     "text": [
      "Now: network cnc https opensource \n"
     ]
    },
    {
     "name": "stderr",
     "output_type": "stream",
     "text": [
      "Processing posts: 100%|██████████| 71219/71219 [00:14<00:00, 4805.78it/s]\n",
      "Processing words:  78%|███████▊  | 85/109 [1:57:52<05:56, 14.86s/it]"
     ]
    },
    {
     "name": "stdout",
     "output_type": "stream",
     "text": [
      "Now: antisandbox cuckoo files \n"
     ]
    },
    {
     "name": "stderr",
     "output_type": "stream",
     "text": [
      "Processing posts: 100%|██████████| 71219/71219 [00:14<00:00, 4791.58it/s]\n",
      "Processing words:  79%|███████▉  | 86/109 [1:58:06<05:41, 14.86s/it]"
     ]
    },
    {
     "name": "stdout",
     "output_type": "stream",
     "text": [
      "Now: blackrat apis \n"
     ]
    },
    {
     "name": "stderr",
     "output_type": "stream",
     "text": [
      "Processing posts: 100%|██████████| 71219/71219 [00:26<00:00, 2676.12it/s]\n",
      "Processing words:  80%|███████▉  | 87/109 [1:58:33<06:44, 18.39s/it]"
     ]
    },
    {
     "name": "stdout",
     "output_type": "stream",
     "text": [
      "Now: persistence registry exe \n"
     ]
    },
    {
     "name": "stderr",
     "output_type": "stream",
     "text": [
      "Processing posts: 100%|██████████| 71219/71219 [00:15<00:00, 4625.36it/s]\n",
      "Processing words:  81%|████████  | 88/109 [1:58:49<06:07, 17.49s/it]"
     ]
    },
    {
     "name": "stdout",
     "output_type": "stream",
     "text": [
      "Now: trojan jorik \n"
     ]
    },
    {
     "name": "stderr",
     "output_type": "stream",
     "text": [
      "Processing posts: 100%|██████████| 71219/71219 [00:15<00:00, 4687.75it/s]\n",
      "Processing words:  82%|████████▏ | 89/109 [1:59:04<05:36, 16.81s/it]"
     ]
    },
    {
     "name": "stdout",
     "output_type": "stream",
     "text": [
      "Now: andromeda \n"
     ]
    },
    {
     "name": "stderr",
     "output_type": "stream",
     "text": [
      "Processing posts: 100%|██████████| 71219/71219 [27:25<00:00, 43.28it/s]\n",
      "Processing words:  83%|████████▎ | 90/109 [2:26:29<2:40:02, 505.40s/it]"
     ]
    },
    {
     "name": "stdout",
     "output_type": "stream",
     "text": [
      "Now: uses powershell copyitem \n"
     ]
    },
    {
     "name": "stderr",
     "output_type": "stream",
     "text": [
      "Processing posts: 100%|██████████| 71219/71219 [00:13<00:00, 5268.09it/s]\n",
      "Processing words:  83%|████████▎ | 91/109 [2:26:43<1:47:21, 357.84s/it]"
     ]
    },
    {
     "name": "stdout",
     "output_type": "stream",
     "text": [
      "Now: polymorphic \n"
     ]
    },
    {
     "name": "stderr",
     "output_type": "stream",
     "text": [
      "Processing posts: 100%|██████████| 71219/71219 [26:01<00:00, 45.60it/s]\n",
      "Processing words:  84%|████████▍ | 92/109 [2:52:44<3:23:42, 719.00s/it]"
     ]
    },
    {
     "name": "stdout",
     "output_type": "stream",
     "text": [
      "Now: stealth hidden extension \n"
     ]
    },
    {
     "name": "stderr",
     "output_type": "stream",
     "text": [
      "Processing posts: 100%|██████████| 71219/71219 [00:13<00:00, 5106.56it/s]\n",
      "Processing words:  85%|████████▌ | 93/109 [2:52:58<2:15:19, 507.48s/it]"
     ]
    },
    {
     "name": "stdout",
     "output_type": "stream",
     "text": [
      "Now: network cnc https useragent \n"
     ]
    },
    {
     "name": "stderr",
     "output_type": "stream",
     "text": [
      "Processing posts: 100%|██████████| 71219/71219 [00:13<00:00, 5309.10it/s]\n",
      "Processing words:  86%|████████▌ | 94/109 [2:53:12<1:29:48, 359.26s/it]"
     ]
    },
    {
     "name": "stdout",
     "output_type": "stream",
     "text": [
      "Now: browser helper object \n"
     ]
    },
    {
     "name": "stderr",
     "output_type": "stream",
     "text": [
      "Processing posts: 100%|██████████| 71219/71219 [00:13<00:00, 5167.29it/s]\n",
      "Processing words:  87%|████████▋ | 95/109 [2:53:26<59:38, 255.62s/it]  "
     ]
    },
    {
     "name": "stdout",
     "output_type": "stream",
     "text": [
      "Now: browser startpage \n"
     ]
    },
    {
     "name": "stderr",
     "output_type": "stream",
     "text": [
      "Processing posts: 100%|██████████| 71219/71219 [00:13<00:00, 5266.02it/s]\n",
      "Processing words:  88%|████████▊ | 96/109 [2:53:39<39:38, 182.99s/it]"
     ]
    },
    {
     "name": "stdout",
     "output_type": "stream",
     "text": [
      "Now: dns freehosting domain \n"
     ]
    },
    {
     "name": "stderr",
     "output_type": "stream",
     "text": [
      "Processing posts: 100%|██████████| 71219/71219 [00:13<00:00, 5290.05it/s]\n",
      "Processing words:  89%|████████▉ | 97/109 [2:53:53<26:25, 132.14s/it]"
     ]
    },
    {
     "name": "stdout",
     "output_type": "stream",
     "text": [
      "Now: packer themida \n"
     ]
    },
    {
     "name": "stderr",
     "output_type": "stream",
     "text": [
      "Processing posts: 100%|██████████| 71219/71219 [00:13<00:00, 5267.75it/s]\n",
      "Processing words:  90%|████████▉ | 98/109 [2:54:06<17:42, 96.55s/it] "
     ]
    },
    {
     "name": "stdout",
     "output_type": "stream",
     "text": [
      "Now: dyreza \n"
     ]
    },
    {
     "name": "stderr",
     "output_type": "stream",
     "text": [
      "Processing posts: 100%|██████████| 71219/71219 [26:04<00:00, 45.53it/s]\n",
      "Processing words:  91%|█████████ | 99/109 [3:20:10<1:29:28, 536.83s/it]"
     ]
    },
    {
     "name": "stdout",
     "output_type": "stream",
     "text": [
      "Now: upatre \n"
     ]
    },
    {
     "name": "stderr",
     "output_type": "stream",
     "text": [
      "Processing posts: 100%|██████████| 71219/71219 [25:55<00:00, 45.80it/s]\n",
      "Processing words:  92%|█████████▏| 100/109 [3:46:05<2:06:20, 842.32s/it]"
     ]
    },
    {
     "name": "stdout",
     "output_type": "stream",
     "text": [
      "Now: modify proxy \n"
     ]
    },
    {
     "name": "stderr",
     "output_type": "stream",
     "text": [
      "Processing posts: 100%|██████████| 71219/71219 [00:13<00:00, 5288.34it/s]\n",
      "Processing words:  93%|█████████▎| 101/109 [3:46:19<1:19:09, 593.66s/it]"
     ]
    },
    {
     "name": "stdout",
     "output_type": "stream",
     "text": [
      "Now: static pe anomaly \n"
     ]
    },
    {
     "name": "stderr",
     "output_type": "stream",
     "text": [
      "Processing posts: 100%|██████████| 71219/71219 [00:13<00:00, 5271.89it/s]\n",
      "Processing words:  94%|█████████▎| 102/109 [3:46:32<48:57, 419.62s/it]  "
     ]
    },
    {
     "name": "stdout",
     "output_type": "stream",
     "text": [
      "Now: stealth file \n"
     ]
    },
    {
     "name": "stderr",
     "output_type": "stream",
     "text": [
      "Processing posts: 100%|██████████| 71219/71219 [00:13<00:00, 5269.82it/s]\n",
      "Processing words:  94%|█████████▍| 103/109 [3:46:46<29:46, 297.79s/it]"
     ]
    },
    {
     "name": "stdout",
     "output_type": "stream",
     "text": [
      "Now: powershell network connection \n"
     ]
    },
    {
     "name": "stderr",
     "output_type": "stream",
     "text": [
      "Processing posts: 100%|██████████| 71219/71219 [00:13<00:00, 5239.88it/s]\n",
      "Processing words:  95%|█████████▌| 104/109 [3:46:59<17:42, 212.53s/it]"
     ]
    },
    {
     "name": "stdout",
     "output_type": "stream",
     "text": [
      "Now: disables windows file protection \n"
     ]
    },
    {
     "name": "stderr",
     "output_type": "stream",
     "text": [
      "Processing posts: 100%|██████████| 71219/71219 [00:13<00:00, 5139.72it/s]\n",
      "Processing words:  96%|█████████▋| 105/109 [3:47:13<10:11, 152.93s/it]"
     ]
    },
    {
     "name": "stdout",
     "output_type": "stream",
     "text": [
      "Now: antidebug devices \n"
     ]
    },
    {
     "name": "stderr",
     "output_type": "stream",
     "text": [
      "Processing posts: 100%|██████████| 71219/71219 [00:31<00:00, 2294.33it/s]\n",
      "Processing words:  97%|█████████▋| 106/109 [3:47:44<05:49, 116.37s/it]"
     ]
    },
    {
     "name": "stdout",
     "output_type": "stream",
     "text": [
      "Now: antiemu wine reg \n"
     ]
    },
    {
     "name": "stderr",
     "output_type": "stream",
     "text": [
      "Processing posts: 100%|██████████| 71219/71219 [00:13<00:00, 5269.96it/s]\n",
      "Processing words:  98%|█████████▊| 107/109 [3:47:58<02:51, 85.52s/it] "
     ]
    },
    {
     "name": "stdout",
     "output_type": "stream",
     "text": [
      "Now: rat buzus mutexes \n"
     ]
    },
    {
     "name": "stderr",
     "output_type": "stream",
     "text": [
      "Processing posts: 100%|██████████| 71219/71219 [00:13<00:00, 5295.24it/s]\n",
      "Processing words:  99%|█████████▉| 108/109 [3:48:11<01:03, 63.90s/it]"
     ]
    },
    {
     "name": "stdout",
     "output_type": "stream",
     "text": [
      "Now: office cve2017 11882 network \n"
     ]
    },
    {
     "name": "stderr",
     "output_type": "stream",
     "text": [
      "Processing posts: 100%|██████████| 71219/71219 [00:13<00:00, 5260.56it/s]\n",
      "Processing words: 100%|██████████| 109/109 [3:48:25<00:00, 125.74s/it]\n"
     ]
    }
   ],
   "source": [
    "matches_behaviours_2 = loop_search( second_half , selected_rows)\n"
   ]
  },
  {
   "cell_type": "code",
   "execution_count": null,
   "id": "85b13e45",
   "metadata": {},
   "outputs": [],
   "source": [
    "matches_behaviours_2.to_csv(r'C:\\Users\\leona\\OneDrive\\Desktop\\Tesi\\Pipeline\\Datasets\\Pipeline\\SocialNetworksPosts\\Reddit\\two_behaviours.csv')"
   ]
  },
  {
   "cell_type": "code",
   "execution_count": 31,
   "id": "ef599e5e",
   "metadata": {},
   "outputs": [
    {
     "name": "stderr",
     "output_type": "stream",
     "text": [
      "Processing words:   0%|          | 0/107 [00:00<?, ?it/s]"
     ]
    },
    {
     "name": "stdout",
     "output_type": "stream",
     "text": [
      "Now: injection network trafic \n"
     ]
    },
    {
     "name": "stderr",
     "output_type": "stream",
     "text": [
      "Processing posts: 100%|██████████| 71219/71219 [00:13<00:00, 5390.53it/s]\n",
      "Processing words:   1%|          | 1/107 [00:13<23:20, 13.22s/it]"
     ]
    },
    {
     "name": "stdout",
     "output_type": "stream",
     "text": [
      "Now: process interest \n"
     ]
    },
    {
     "name": "stderr",
     "output_type": "stream",
     "text": [
      "Processing posts: 100%|██████████| 71219/71219 [00:13<00:00, 5399.20it/s]\n",
      "Processing words:   2%|▏         | 2/107 [00:26<23:07, 13.21s/it]"
     ]
    },
    {
     "name": "stdout",
     "output_type": "stream",
     "text": [
      "Now: stealth hiddenfile \n"
     ]
    },
    {
     "name": "stderr",
     "output_type": "stream",
     "text": [
      "Processing posts: 100%|██████████| 71219/71219 [00:13<00:00, 5436.98it/s]\n",
      "Processing words:   3%|▎         | 3/107 [00:39<22:48, 13.16s/it]"
     ]
    },
    {
     "name": "stdout",
     "output_type": "stream",
     "text": [
      "Now: stops service \n"
     ]
    },
    {
     "name": "stderr",
     "output_type": "stream",
     "text": [
      "Processing posts: 100%|██████████| 71219/71219 [00:13<00:00, 5430.61it/s]\n",
      "Processing words:   4%|▎         | 4/107 [00:52<22:34, 13.15s/it]"
     ]
    },
    {
     "name": "stdout",
     "output_type": "stream",
     "text": [
      "Now: https urls \n"
     ]
    },
    {
     "name": "stderr",
     "output_type": "stream",
     "text": [
      "Processing posts: 100%|██████████| 71219/71219 [00:13<00:00, 5446.45it/s]\n",
      "Processing words:   5%|▍         | 5/107 [01:05<22:18, 13.12s/it]"
     ]
    },
    {
     "name": "stdout",
     "output_type": "stream",
     "text": [
      "Now: injection createremotethread \n"
     ]
    },
    {
     "name": "stderr",
     "output_type": "stream",
     "text": [
      "Processing posts: 100%|██████████| 71219/71219 [00:13<00:00, 5430.46it/s]\n",
      "Processing words:   6%|▌         | 6/107 [01:18<22:05, 13.13s/it]"
     ]
    },
    {
     "name": "stdout",
     "output_type": "stream",
     "text": [
      "Now: injection modifies memory \n"
     ]
    },
    {
     "name": "stderr",
     "output_type": "stream",
     "text": [
      "Processing posts: 100%|██████████| 71219/71219 [00:13<00:00, 5393.94it/s]\n",
      "Processing words:   7%|▋         | 7/107 [01:32<21:55, 13.16s/it]"
     ]
    },
    {
     "name": "stdout",
     "output_type": "stream",
     "text": [
      "Now: multiple useragents \n"
     ]
    },
    {
     "name": "stderr",
     "output_type": "stream",
     "text": [
      "Processing posts: 100%|██████████| 71219/71219 [00:13<00:00, 5410.02it/s]\n",
      "Processing words:   7%|▋         | 8/107 [01:45<21:42, 13.16s/it]"
     ]
    },
    {
     "name": "stdout",
     "output_type": "stream",
     "text": [
      "Now: antivm generic cpu \n"
     ]
    },
    {
     "name": "stderr",
     "output_type": "stream",
     "text": [
      "Processing posts: 100%|██████████| 71219/71219 [00:13<00:00, 5450.12it/s]\n",
      "Processing words:   8%|▊         | 9/107 [01:58<21:27, 13.13s/it]"
     ]
    },
    {
     "name": "stdout",
     "output_type": "stream",
     "text": [
      "Now: persistence ads \n"
     ]
    },
    {
     "name": "stderr",
     "output_type": "stream",
     "text": [
      "Processing posts: 100%|██████████| 71219/71219 [00:13<00:00, 5436.07it/s]\n",
      "Processing words:   9%|▉         | 10/107 [02:11<21:13, 13.13s/it]"
     ]
    },
    {
     "name": "stdout",
     "output_type": "stream",
     "text": [
      "Now: registry credential store access \n"
     ]
    },
    {
     "name": "stderr",
     "output_type": "stream",
     "text": [
      "Processing posts: 100%|██████████| 71219/71219 [00:13<00:00, 5408.73it/s]\n",
      "Processing words:  10%|█         | 11/107 [02:24<21:01, 13.14s/it]"
     ]
    },
    {
     "name": "stdout",
     "output_type": "stream",
     "text": [
      "Now: cloud google \n"
     ]
    },
    {
     "name": "stderr",
     "output_type": "stream",
     "text": [
      "Processing posts: 100%|██████████| 71219/71219 [00:13<00:00, 5417.07it/s]\n",
      "Processing words:  11%|█         | 12/107 [02:37<20:49, 13.15s/it]"
     ]
    },
    {
     "name": "stdout",
     "output_type": "stream",
     "text": [
      "Now: rat spynet \n"
     ]
    },
    {
     "name": "stderr",
     "output_type": "stream",
     "text": [
      "Processing posts: 100%|██████████| 71219/71219 [00:13<00:00, 5393.88it/s]\n",
      "Processing words:  12%|█▏        | 13/107 [02:50<20:37, 13.17s/it]"
     ]
    },
    {
     "name": "stdout",
     "output_type": "stream",
     "text": [
      "Now: creates shortcut \n"
     ]
    },
    {
     "name": "stderr",
     "output_type": "stream",
     "text": [
      "Processing posts: 100%|██████████| 71219/71219 [00:13<00:00, 5394.36it/s]\n",
      "Processing words:  13%|█▎        | 14/107 [03:04<20:25, 13.18s/it]"
     ]
    },
    {
     "name": "stdout",
     "output_type": "stream",
     "text": [
      "Now: encrypt pcinfo \n"
     ]
    },
    {
     "name": "stderr",
     "output_type": "stream",
     "text": [
      "Processing posts: 100%|██████████| 71219/71219 [00:13<00:00, 5398.81it/s]\n",
      "Processing words:  14%|█▍        | 15/107 [03:17<20:13, 13.19s/it]"
     ]
    },
    {
     "name": "stdout",
     "output_type": "stream",
     "text": [
      "Now: suricata alert \n"
     ]
    },
    {
     "name": "stderr",
     "output_type": "stream",
     "text": [
      "Processing posts: 100%|██████████| 71219/71219 [00:13<00:00, 5410.34it/s]\n",
      "Processing words:  15%|█▍        | 16/107 [03:30<19:59, 13.18s/it]"
     ]
    },
    {
     "name": "stdout",
     "output_type": "stream",
     "text": [
      "Now: disables proxy \n"
     ]
    },
    {
     "name": "stderr",
     "output_type": "stream",
     "text": [
      "Processing posts: 100%|██████████| 71219/71219 [00:13<00:00, 5402.45it/s]\n",
      "Processing words:  16%|█▌        | 17/107 [03:43<19:46, 13.19s/it]"
     ]
    },
    {
     "name": "stdout",
     "output_type": "stream",
     "text": [
      "Now: has wmi \n"
     ]
    },
    {
     "name": "stderr",
     "output_type": "stream",
     "text": [
      "Processing posts: 100%|██████████| 71219/71219 [00:13<00:00, 5442.96it/s]\n",
      "Processing words:  17%|█▋        | 18/107 [03:56<19:31, 13.16s/it]"
     ]
    },
    {
     "name": "stdout",
     "output_type": "stream",
     "text": [
      "Now: network bind \n"
     ]
    },
    {
     "name": "stderr",
     "output_type": "stream",
     "text": [
      "Processing posts: 100%|██████████| 71219/71219 [00:13<00:00, 5405.32it/s]\n",
      "Processing words:  18%|█▊        | 19/107 [04:10<19:18, 13.17s/it]"
     ]
    },
    {
     "name": "stdout",
     "output_type": "stream",
     "text": [
      "Now: process needed \n"
     ]
    },
    {
     "name": "stderr",
     "output_type": "stream",
     "text": [
      "Processing posts: 100%|██████████| 71219/71219 [00:13<00:00, 5404.13it/s]\n",
      "Processing words:  19%|█▊        | 20/107 [04:23<19:05, 13.17s/it]"
     ]
    },
    {
     "name": "stdout",
     "output_type": "stream",
     "text": [
      "Now: ransomware appends extensions \n"
     ]
    },
    {
     "name": "stderr",
     "output_type": "stream",
     "text": [
      "Processing posts: 100%|██████████| 71219/71219 [00:13<00:00, 5440.31it/s]\n",
      "Processing words:  20%|█▉        | 21/107 [04:36<18:50, 13.15s/it]"
     ]
    },
    {
     "name": "stdout",
     "output_type": "stream",
     "text": [
      "Now: ransomware file moves \n"
     ]
    },
    {
     "name": "stderr",
     "output_type": "stream",
     "text": [
      "Processing posts: 100%|██████████| 71219/71219 [00:13<00:00, 5420.85it/s]\n",
      "Processing words:  21%|██        | 22/107 [04:49<18:37, 13.15s/it]"
     ]
    },
    {
     "name": "stdout",
     "output_type": "stream",
     "text": [
      "Now: rat teamviewer \n"
     ]
    },
    {
     "name": "stderr",
     "output_type": "stream",
     "text": [
      "Processing posts: 100%|██████████| 71219/71219 [00:16<00:00, 4383.76it/s]\n",
      "Processing words:  21%|██▏       | 23/107 [05:05<19:42, 14.08s/it]"
     ]
    },
    {
     "name": "stdout",
     "output_type": "stream",
     "text": [
      "Now: wmi antivm \n"
     ]
    },
    {
     "name": "stderr",
     "output_type": "stream",
     "text": [
      "Processing posts: 100%|██████████| 71219/71219 [00:13<00:00, 5385.04it/s]\n",
      "Processing words:  22%|██▏       | 24/107 [05:18<19:07, 13.82s/it]"
     ]
    },
    {
     "name": "stdout",
     "output_type": "stream",
     "text": [
      "Now: pe unknown resource name \n"
     ]
    },
    {
     "name": "stderr",
     "output_type": "stream",
     "text": [
      "Processing posts: 100%|██████████| 71219/71219 [00:13<00:00, 5380.08it/s]\n",
      "Processing words:  23%|██▎       | 25/107 [05:32<18:39, 13.65s/it]"
     ]
    },
    {
     "name": "stdout",
     "output_type": "stream",
     "text": [
      "Now: modifies certificates \n"
     ]
    },
    {
     "name": "stderr",
     "output_type": "stream",
     "text": [
      "Processing posts: 100%|██████████| 71219/71219 [00:13<00:00, 5376.43it/s]\n",
      "Processing words:  24%|██▍       | 26/107 [05:45<18:15, 13.53s/it]"
     ]
    },
    {
     "name": "stdout",
     "output_type": "stream",
     "text": [
      "Now: powershell dfsp \n"
     ]
    },
    {
     "name": "stderr",
     "output_type": "stream",
     "text": [
      "Processing posts: 100%|██████████| 71219/71219 [00:13<00:00, 5359.55it/s]\n",
      "Processing words:  25%|██▌       | 27/107 [05:58<17:56, 13.46s/it]"
     ]
    },
    {
     "name": "stdout",
     "output_type": "stream",
     "text": [
      "Now: suspicious powershell \n"
     ]
    },
    {
     "name": "stderr",
     "output_type": "stream",
     "text": [
      "Processing posts: 100%|██████████| 71219/71219 [00:13<00:00, 5394.97it/s]\n",
      "Processing words:  26%|██▌       | 28/107 [06:11<17:37, 13.39s/it]"
     ]
    },
    {
     "name": "stdout",
     "output_type": "stream",
     "text": [
      "Now: antiemu wine \n"
     ]
    },
    {
     "name": "stderr",
     "output_type": "stream",
     "text": [
      "Processing posts: 100%|██████████| 71219/71219 [00:16<00:00, 4247.42it/s]\n",
      "Processing words:  27%|██▋       | 29/107 [06:28<18:43, 14.41s/it]"
     ]
    },
    {
     "name": "stdout",
     "output_type": "stream",
     "text": [
      "Now: antivm generic scsi \n"
     ]
    },
    {
     "name": "stderr",
     "output_type": "stream",
     "text": [
      "Processing posts: 100%|██████████| 71219/71219 [00:13<00:00, 5377.67it/s]\n",
      "Processing words:  28%|██▊       | 30/107 [06:41<18:02, 14.06s/it]"
     ]
    },
    {
     "name": "stdout",
     "output_type": "stream",
     "text": [
      "Now: antivm vbox keys \n"
     ]
    },
    {
     "name": "stderr",
     "output_type": "stream",
     "text": [
      "Processing posts: 100%|██████████| 71219/71219 [00:13<00:00, 5402.17it/s]\n",
      "Processing words:  29%|██▉       | 31/107 [06:55<17:28, 13.80s/it]"
     ]
    },
    {
     "name": "stdout",
     "output_type": "stream",
     "text": [
      "Now: antivm vmware keys \n"
     ]
    },
    {
     "name": "stderr",
     "output_type": "stream",
     "text": [
      "Processing posts: 100%|██████████| 71219/71219 [00:13<00:00, 5409.24it/s]\n",
      "Processing words:  30%|██▉       | 32/107 [07:08<17:01, 13.61s/it]"
     ]
    },
    {
     "name": "stdout",
     "output_type": "stream",
     "text": [
      "Now: creates service \n"
     ]
    },
    {
     "name": "stderr",
     "output_type": "stream",
     "text": [
      "Processing posts: 100%|██████████| 71219/71219 [00:13<00:00, 5373.73it/s]\n",
      "Processing words:  31%|███       | 33/107 [07:21<16:39, 13.51s/it]"
     ]
    },
    {
     "name": "stdout",
     "output_type": "stream",
     "text": [
      "Now: cape extracted content \n"
     ]
    },
    {
     "name": "stderr",
     "output_type": "stream",
     "text": [
      "Processing posts: 100%|██████████| 71219/71219 [00:13<00:00, 5410.84it/s]\n",
      "Processing words:  32%|███▏      | 34/107 [07:34<16:18, 13.41s/it]"
     ]
    },
    {
     "name": "stdout",
     "output_type": "stream",
     "text": [
      "Now: injection create remote thread \n"
     ]
    },
    {
     "name": "stderr",
     "output_type": "stream",
     "text": [
      "Processing posts: 100%|██████████| 71219/71219 [00:13<00:00, 5399.04it/s]\n",
      "Processing words:  33%|███▎      | 35/107 [07:47<16:00, 13.34s/it]"
     ]
    },
    {
     "name": "stdout",
     "output_type": "stream",
     "text": [
      "Now: rat nanocore \n"
     ]
    },
    {
     "name": "stderr",
     "output_type": "stream",
     "text": [
      "Processing posts: 100%|██████████| 71219/71219 [00:17<00:00, 4048.28it/s]\n",
      "Processing words:  34%|███▎      | 36/107 [08:05<17:18, 14.62s/it]"
     ]
    },
    {
     "name": "stdout",
     "output_type": "stream",
     "text": [
      "Now: spawns dev util \n"
     ]
    },
    {
     "name": "stderr",
     "output_type": "stream",
     "text": [
      "Processing posts: 100%|██████████| 71219/71219 [00:13<00:00, 5410.42it/s]\n",
      "Processing words:  35%|███▍      | 37/107 [08:18<16:32, 14.18s/it]"
     ]
    },
    {
     "name": "stdout",
     "output_type": "stream",
     "text": [
      "Now: packer upx \n"
     ]
    },
    {
     "name": "stderr",
     "output_type": "stream",
     "text": [
      "Processing posts: 100%|██████████| 71219/71219 [00:13<00:00, 5427.25it/s]\n",
      "Processing words:  36%|███▌      | 38/107 [08:31<15:56, 13.87s/it]"
     ]
    },
    {
     "name": "stdout",
     "output_type": "stream",
     "text": [
      "Now: accesses public folder \n"
     ]
    },
    {
     "name": "stderr",
     "output_type": "stream",
     "text": [
      "Processing posts: 100%|██████████| 71219/71219 [00:13<00:00, 5398.68it/s]\n",
      "Processing words:  36%|███▋      | 39/107 [08:45<15:29, 13.67s/it]"
     ]
    },
    {
     "name": "stdout",
     "output_type": "stream",
     "text": [
      "Now: encrypted ioc \n"
     ]
    },
    {
     "name": "stderr",
     "output_type": "stream",
     "text": [
      "Processing posts: 100%|██████████| 71219/71219 [00:13<00:00, 5395.94it/s]\n",
      "Processing words:  37%|███▋      | 40/107 [08:58<15:06, 13.53s/it]"
     ]
    },
    {
     "name": "stdout",
     "output_type": "stream",
     "text": [
      "Now: antiav detectfile \n"
     ]
    },
    {
     "name": "stderr",
     "output_type": "stream",
     "text": [
      "Processing posts: 100%|██████████| 71219/71219 [00:13<00:00, 5380.36it/s]\n",
      "Processing words:  38%|███▊      | 41/107 [09:11<14:47, 13.45s/it]"
     ]
    },
    {
     "name": "stdout",
     "output_type": "stream",
     "text": [
      "Now: tcp syn scan \n"
     ]
    },
    {
     "name": "stderr",
     "output_type": "stream",
     "text": [
      "Processing posts: 100%|██████████| 71219/71219 [00:13<00:00, 5374.76it/s]\n",
      "Processing words:  39%|███▉      | 42/107 [09:24<14:30, 13.39s/it]"
     ]
    },
    {
     "name": "stdout",
     "output_type": "stream",
     "text": [
      "Now: powershell command suspicious \n"
     ]
    },
    {
     "name": "stderr",
     "output_type": "stream",
     "text": [
      "Processing posts: 100%|██████████| 71219/71219 [00:13<00:00, 5397.16it/s]\n",
      "Processing words:  40%|████      | 43/107 [09:38<14:13, 13.34s/it]"
     ]
    },
    {
     "name": "stdout",
     "output_type": "stream",
     "text": [
      "Now: powershell scriptblock logging \n"
     ]
    },
    {
     "name": "stderr",
     "output_type": "stream",
     "text": [
      "Processing posts: 100%|██████████| 71219/71219 [00:18<00:00, 3798.21it/s]\n",
      "Processing words:  41%|████      | 44/107 [09:56<15:42, 14.96s/it]"
     ]
    },
    {
     "name": "stdout",
     "output_type": "stream",
     "text": [
      "Now: script tool executed \n"
     ]
    },
    {
     "name": "stderr",
     "output_type": "stream",
     "text": [
      "Processing posts: 100%|██████████| 71219/71219 [00:13<00:00, 5401.88it/s]\n",
      "Processing words:  42%|████▏     | 45/107 [10:09<14:54, 14.43s/it]"
     ]
    },
    {
     "name": "stdout",
     "output_type": "stream",
     "text": [
      "Now: ransomware extensions \n"
     ]
    },
    {
     "name": "stderr",
     "output_type": "stream",
     "text": [
      "Processing posts: 100%|██████████| 71219/71219 [00:13<00:00, 5417.19it/s]\n",
      "Processing words:  43%|████▎     | 46/107 [10:23<14:17, 14.05s/it]"
     ]
    },
    {
     "name": "stdout",
     "output_type": "stream",
     "text": [
      "Now: suspicious tld \n"
     ]
    },
    {
     "name": "stderr",
     "output_type": "stream",
     "text": [
      "Processing posts: 100%|██████████| 71219/71219 [00:14<00:00, 4869.60it/s]\n",
      "Processing words:  44%|████▍     | 47/107 [10:37<14:13, 14.23s/it]"
     ]
    },
    {
     "name": "stdout",
     "output_type": "stream",
     "text": [
      "Now: remcos files \n"
     ]
    },
    {
     "name": "stderr",
     "output_type": "stream",
     "text": [
      "Processing posts: 100%|██████████| 71219/71219 [00:13<00:00, 5404.36it/s]\n",
      "Processing words:  45%|████▍     | 48/107 [10:50<13:40, 13.91s/it]"
     ]
    },
    {
     "name": "stdout",
     "output_type": "stream",
     "text": [
      "Now: remcos mutexes \n"
     ]
    },
    {
     "name": "stderr",
     "output_type": "stream",
     "text": [
      "Processing posts: 100%|██████████| 71219/71219 [00:13<00:00, 5388.41it/s]\n",
      "Processing words:  46%|████▌     | 49/107 [11:04<13:15, 13.71s/it]"
     ]
    },
    {
     "name": "stdout",
     "output_type": "stream",
     "text": [
      "Now: remcos regkeys \n"
     ]
    },
    {
     "name": "stderr",
     "output_type": "stream",
     "text": [
      "Processing posts: 100%|██████████| 71219/71219 [00:13<00:00, 5386.93it/s]\n",
      "Processing words:  47%|████▋     | 50/107 [11:17<12:53, 13.56s/it]"
     ]
    },
    {
     "name": "stdout",
     "output_type": "stream",
     "text": [
      "Now: antidbg devices \n"
     ]
    },
    {
     "name": "stderr",
     "output_type": "stream",
     "text": [
      "Processing posts: 100%|██████████| 71219/71219 [00:13<00:00, 5378.03it/s]\n",
      "Processing words:  48%|████▊     | 51/107 [11:30<12:34, 13.47s/it]"
     ]
    },
    {
     "name": "stdout",
     "output_type": "stream",
     "text": [
      "Now: cybergate \n"
     ]
    },
    {
     "name": "stderr",
     "output_type": "stream",
     "text": [
      "Processing posts: 100%|██████████| 71219/71219 [26:05<00:00, 45.49it/s]\n",
      "Processing words:  49%|████▊     | 52/107 [37:36<7:19:10, 479.10s/it]"
     ]
    },
    {
     "name": "stdout",
     "output_type": "stream",
     "text": [
      "Now: antisandbox unhook \n"
     ]
    },
    {
     "name": "stderr",
     "output_type": "stream",
     "text": [
      "Processing posts: 100%|██████████| 71219/71219 [00:13<00:00, 5401.50it/s]\n",
      "Processing words:  50%|████▉     | 53/107 [37:49<5:05:23, 339.33s/it]"
     ]
    },
    {
     "name": "stdout",
     "output_type": "stream",
     "text": [
      "Now: creates doc \n"
     ]
    },
    {
     "name": "stderr",
     "output_type": "stream",
     "text": [
      "Processing posts: 100%|██████████| 71219/71219 [00:13<00:00, 5396.11it/s]\n",
      "Processing words:  50%|█████     | 54/107 [38:02<3:33:19, 241.49s/it]"
     ]
    },
    {
     "name": "stdout",
     "output_type": "stream",
     "text": [
      "Now: locker taskmgr \n"
     ]
    },
    {
     "name": "stderr",
     "output_type": "stream",
     "text": [
      "Processing posts: 100%|██████████| 71219/71219 [00:20<00:00, 3553.59it/s]\n",
      "Processing words:  51%|█████▏    | 55/107 [38:22<2:31:43, 175.06s/it]"
     ]
    },
    {
     "name": "stdout",
     "output_type": "stream",
     "text": [
      "Now: darkcomet regkeys \n"
     ]
    },
    {
     "name": "stderr",
     "output_type": "stream",
     "text": [
      "Processing posts: 100%|██████████| 71219/71219 [00:13<00:00, 5236.13it/s]\n",
      "Processing words:  52%|█████▏    | 56/107 [38:36<1:47:37, 126.63s/it]"
     ]
    },
    {
     "name": "stdout",
     "output_type": "stream",
     "text": [
      "Now: deletes self \n"
     ]
    },
    {
     "name": "stderr",
     "output_type": "stream",
     "text": [
      "Processing posts: 100%|██████████| 71219/71219 [00:13<00:00, 5229.62it/s]\n",
      "Processing words:  53%|█████▎    | 57/107 [38:49<1:17:16, 92.73s/it] "
     ]
    },
    {
     "name": "stdout",
     "output_type": "stream",
     "text": [
      "Now: dotnet csc build \n"
     ]
    },
    {
     "name": "stderr",
     "output_type": "stream",
     "text": [
      "Processing posts: 100%|██████████| 71219/71219 [00:13<00:00, 5255.40it/s]\n",
      "Processing words:  54%|█████▍    | 58/107 [39:03<56:19, 68.98s/it]  "
     ]
    },
    {
     "name": "stdout",
     "output_type": "stream",
     "text": [
      "Now: network dns reverse proxy \n"
     ]
    },
    {
     "name": "stderr",
     "output_type": "stream",
     "text": [
      "Processing posts: 100%|██████████| 71219/71219 [00:13<00:00, 5232.81it/s]\n",
      "Processing words:  55%|█████▌    | 59/107 [39:17<41:53, 52.37s/it]"
     ]
    },
    {
     "name": "stdout",
     "output_type": "stream",
     "text": [
      "Now: rat fynloski mutexes \n"
     ]
    },
    {
     "name": "stderr",
     "output_type": "stream",
     "text": [
      "Processing posts: 100%|██████████| 71219/71219 [00:13<00:00, 5238.80it/s]\n",
      "Processing words:  56%|█████▌    | 60/107 [39:30<31:54, 40.74s/it]"
     ]
    },
    {
     "name": "stdout",
     "output_type": "stream",
     "text": [
      "Now: sysinternals tools usage \n"
     ]
    },
    {
     "name": "stderr",
     "output_type": "stream",
     "text": [
      "Processing posts: 100%|██████████| 71219/71219 [00:13<00:00, 5279.80it/s]\n",
      "Processing words:  57%|█████▋    | 61/107 [39:44<24:58, 32.57s/it]"
     ]
    },
    {
     "name": "stdout",
     "output_type": "stream",
     "text": [
      "Now: modifies security center warnings \n"
     ]
    },
    {
     "name": "stderr",
     "output_type": "stream",
     "text": [
      "Processing posts: 100%|██████████| 71219/71219 [00:13<00:00, 5316.24it/s]\n",
      "Processing words:  58%|█████▊    | 62/107 [39:57<20:06, 26.82s/it]"
     ]
    },
    {
     "name": "stdout",
     "output_type": "stream",
     "text": [
      "Now: rat fynloski \n"
     ]
    },
    {
     "name": "stderr",
     "output_type": "stream",
     "text": [
      "Processing posts: 100%|██████████| 71219/71219 [00:13<00:00, 5273.30it/s]\n",
      "Processing words:  59%|█████▉    | 63/107 [40:11<16:44, 22.83s/it]"
     ]
    },
    {
     "name": "stdout",
     "output_type": "stream",
     "text": [
      "Now: p2p cnc \n"
     ]
    },
    {
     "name": "stderr",
     "output_type": "stream",
     "text": [
      "Processing posts: 100%|██████████| 71219/71219 [00:13<00:00, 5211.85it/s]\n",
      "Processing words:  60%|█████▉    | 64/107 [40:24<14:23, 20.09s/it]"
     ]
    },
    {
     "name": "stdout",
     "output_type": "stream",
     "text": [
      "Now: writes to stdout \n"
     ]
    },
    {
     "name": "stderr",
     "output_type": "stream",
     "text": [
      "Processing posts: 100%|██████████| 71219/71219 [00:13<00:00, 5200.20it/s]\n",
      "Processing words:  61%|██████    | 65/107 [40:38<12:43, 18.17s/it]"
     ]
    },
    {
     "name": "stdout",
     "output_type": "stream",
     "text": [
      "Now: network document file \n"
     ]
    },
    {
     "name": "stderr",
     "output_type": "stream",
     "text": [
      "Processing posts: 100%|██████████| 71219/71219 [00:13<00:00, 5217.28it/s]\n",
      "Processing words:  62%|██████▏   | 66/107 [40:52<11:29, 16.82s/it]"
     ]
    },
    {
     "name": "stdout",
     "output_type": "stream",
     "text": [
      "Now: network http post \n"
     ]
    },
    {
     "name": "stderr",
     "output_type": "stream",
     "text": [
      "Processing posts: 100%|██████████| 71219/71219 [00:13<00:00, 5240.42it/s]\n",
      "Processing words:  63%|██████▎   | 67/107 [41:05<10:34, 15.85s/it]"
     ]
    },
    {
     "name": "stdout",
     "output_type": "stream",
     "text": [
      "Now: rat bifrose \n"
     ]
    },
    {
     "name": "stderr",
     "output_type": "stream",
     "text": [
      "Processing posts: 100%|██████████| 71219/71219 [00:21<00:00, 3291.37it/s]\n",
      "Processing words:  64%|██████▎   | 68/107 [41:27<11:26, 17.59s/it]"
     ]
    },
    {
     "name": "stdout",
     "output_type": "stream",
     "text": [
      "Now: antisandbox sboxie libs \n"
     ]
    },
    {
     "name": "stderr",
     "output_type": "stream",
     "text": [
      "Processing posts: 100%|██████████| 71219/71219 [00:13<00:00, 5278.26it/s]\n",
      "Processing words:  64%|██████▍   | 69/107 [41:40<10:21, 16.36s/it]"
     ]
    },
    {
     "name": "stdout",
     "output_type": "stream",
     "text": [
      "Now: dll load uncommon file types \n"
     ]
    },
    {
     "name": "stderr",
     "output_type": "stream",
     "text": [
      "Processing posts: 100%|██████████| 71219/71219 [00:13<00:00, 5226.27it/s]\n",
      "Processing words:  65%|██████▌   | 70/107 [41:54<09:35, 15.55s/it]"
     ]
    },
    {
     "name": "stdout",
     "output_type": "stream",
     "text": [
      "Now: moves self \n"
     ]
    },
    {
     "name": "stderr",
     "output_type": "stream",
     "text": [
      "Processing posts: 100%|██████████| 71219/71219 [00:13<00:00, 5258.44it/s]\n",
      "Processing words:  66%|██████▋   | 71/107 [42:08<08:58, 14.95s/it]"
     ]
    },
    {
     "name": "stdout",
     "output_type": "stream",
     "text": [
      "Now: persistence registry javascript \n"
     ]
    },
    {
     "name": "stderr",
     "output_type": "stream",
     "text": [
      "Processing posts: 100%|██████████| 71219/71219 [00:13<00:00, 5292.89it/s]\n",
      "Processing words:  67%|██████▋   | 72/107 [42:21<08:27, 14.50s/it]"
     ]
    },
    {
     "name": "stdout",
     "output_type": "stream",
     "text": [
      "Now: persistence registry powershell \n"
     ]
    },
    {
     "name": "stderr",
     "output_type": "stream",
     "text": [
      "Processing posts: 100%|██████████| 71219/71219 [00:13<00:00, 5300.92it/s]\n",
      "Processing words:  68%|██████▊   | 73/107 [42:35<08:02, 14.19s/it]"
     ]
    },
    {
     "name": "stdout",
     "output_type": "stream",
     "text": [
      "Now: network irc \n"
     ]
    },
    {
     "name": "stderr",
     "output_type": "stream",
     "text": [
      "Processing posts: 100%|██████████| 71219/71219 [00:13<00:00, 5217.78it/s]\n",
      "Processing words:  69%|██████▉   | 74/107 [42:48<07:42, 14.03s/it]"
     ]
    },
    {
     "name": "stdout",
     "output_type": "stream",
     "text": [
      "Now: process crash \n"
     ]
    },
    {
     "name": "stderr",
     "output_type": "stream",
     "text": [
      "Processing posts: 100%|██████████| 71219/71219 [00:13<00:00, 5247.11it/s]\n",
      "Processing words:  70%|███████   | 75/107 [43:02<07:24, 13.89s/it]"
     ]
    },
    {
     "name": "stdout",
     "output_type": "stream",
     "text": [
      "Now: antiav avast libs \n"
     ]
    },
    {
     "name": "stderr",
     "output_type": "stream",
     "text": [
      "Processing posts: 100%|██████████| 71219/71219 [00:13<00:00, 5244.79it/s]\n",
      "Processing words:  71%|███████   | 76/107 [43:15<07:07, 13.80s/it]"
     ]
    },
    {
     "name": "stdout",
     "output_type": "stream",
     "text": [
      "Now: applcation raises exception \n"
     ]
    },
    {
     "name": "stderr",
     "output_type": "stream",
     "text": [
      "Processing posts: 100%|██████████| 71219/71219 [00:13<00:00, 5213.52it/s]\n",
      "Processing words:  72%|███████▏  | 77/107 [43:29<06:52, 13.76s/it]"
     ]
    },
    {
     "name": "stdout",
     "output_type": "stream",
     "text": [
      "Now: creates user folder exe \n"
     ]
    },
    {
     "name": "stderr",
     "output_type": "stream",
     "text": [
      "Processing posts: 100%|██████████| 71219/71219 [00:13<00:00, 5382.89it/s]\n",
      "Processing words:  73%|███████▎  | 78/107 [43:42<06:34, 13.61s/it]"
     ]
    },
    {
     "name": "stdout",
     "output_type": "stream",
     "text": [
      "Now: enumerates running processes \n"
     ]
    },
    {
     "name": "stderr",
     "output_type": "stream",
     "text": [
      "Processing posts: 100%|██████████| 71219/71219 [00:13<00:00, 5369.10it/s]\n",
      "Processing words:  74%|███████▍  | 79/107 [43:56<06:18, 13.50s/it]"
     ]
    },
    {
     "name": "stdout",
     "output_type": "stream",
     "text": [
      "Now: spooler svc start \n"
     ]
    },
    {
     "name": "stderr",
     "output_type": "stream",
     "text": [
      "Processing posts: 100%|██████████| 71219/71219 [00:13<00:00, 5294.75it/s]\n",
      "Processing words:  75%|███████▍  | 80/107 [44:09<06:04, 13.50s/it]"
     ]
    },
    {
     "name": "stdout",
     "output_type": "stream",
     "text": [
      "Now: stealth hiddenreg \n"
     ]
    },
    {
     "name": "stderr",
     "output_type": "stream",
     "text": [
      "Processing posts: 100%|██████████| 71219/71219 [00:13<00:00, 5238.26it/s]\n",
      "Processing words:  76%|███████▌  | 81/107 [44:23<05:51, 13.53s/it]"
     ]
    },
    {
     "name": "stdout",
     "output_type": "stream",
     "text": [
      "Now: stealth network \n"
     ]
    },
    {
     "name": "stderr",
     "output_type": "stream",
     "text": [
      "Processing posts: 100%|██████████| 71219/71219 [00:13<00:00, 5147.43it/s]\n",
      "Processing words:  77%|███████▋  | 82/107 [44:37<05:40, 13.63s/it]"
     ]
    },
    {
     "name": "stdout",
     "output_type": "stream",
     "text": [
      "Now: rat quasar mutexes \n"
     ]
    },
    {
     "name": "stderr",
     "output_type": "stream",
     "text": [
      "Processing posts: 100%|██████████| 71219/71219 [00:13<00:00, 5225.91it/s]\n",
      "Processing words:  78%|███████▊  | 83/107 [44:50<05:27, 13.63s/it]"
     ]
    },
    {
     "name": "stdout",
     "output_type": "stream",
     "text": [
      "Now: sniffer winpcap \n"
     ]
    },
    {
     "name": "stderr",
     "output_type": "stream",
     "text": [
      "Processing posts: 100%|██████████| 71219/71219 [00:13<00:00, 5281.86it/s]\n",
      "Processing words:  79%|███████▊  | 84/107 [45:04<05:12, 13.59s/it]"
     ]
    },
    {
     "name": "stdout",
     "output_type": "stream",
     "text": [
      "Now: banker bancos \n"
     ]
    },
    {
     "name": "stderr",
     "output_type": "stream",
     "text": [
      "Processing posts: 100%|██████████| 71219/71219 [00:23<00:00, 2989.38it/s]\n",
      "Processing words:  79%|███████▉  | 85/107 [45:27<06:06, 16.66s/it]"
     ]
    },
    {
     "name": "stdout",
     "output_type": "stream",
     "text": [
      "Now: network fake useragent \n"
     ]
    },
    {
     "name": "stderr",
     "output_type": "stream",
     "text": [
      "Processing posts: 100%|██████████| 71219/71219 [00:13<00:00, 5249.45it/s]\n",
      "Processing words:  80%|████████  | 86/107 [45:41<05:30, 15.74s/it]"
     ]
    },
    {
     "name": "stdout",
     "output_type": "stream",
     "text": [
      "Now: network questionable http path \n"
     ]
    },
    {
     "name": "stderr",
     "output_type": "stream",
     "text": [
      "Processing posts: 100%|██████████| 71219/71219 [00:13<00:00, 5307.05it/s]\n",
      "Processing words:  81%|████████▏ | 87/107 [45:54<05:00, 15.05s/it]"
     ]
    },
    {
     "name": "stdout",
     "output_type": "stream",
     "text": [
      "Now: stop ransom mutexes \n"
     ]
    },
    {
     "name": "stderr",
     "output_type": "stream",
     "text": [
      "Processing posts: 100%|██████████| 71219/71219 [00:13<00:00, 5380.12it/s]\n",
      "Processing words:  82%|████████▏ | 88/107 [46:08<04:35, 14.51s/it]"
     ]
    },
    {
     "name": "stdout",
     "output_type": "stream",
     "text": [
      "Now: stop ransomware cmd \n"
     ]
    },
    {
     "name": "stderr",
     "output_type": "stream",
     "text": [
      "Processing posts: 100%|██████████| 71219/71219 [00:13<00:00, 5376.97it/s]\n",
      "Processing words:  83%|████████▎ | 89/107 [46:21<04:14, 14.13s/it]"
     ]
    },
    {
     "name": "stdout",
     "output_type": "stream",
     "text": [
      "Now: stop ransomware registry \n"
     ]
    },
    {
     "name": "stderr",
     "output_type": "stream",
     "text": [
      "Processing posts: 100%|██████████| 71219/71219 [00:13<00:00, 5393.30it/s]\n",
      "Processing words:  84%|████████▍ | 90/107 [46:34<03:55, 13.86s/it]"
     ]
    },
    {
     "name": "stdout",
     "output_type": "stream",
     "text": [
      "Now: disables uac \n"
     ]
    },
    {
     "name": "stderr",
     "output_type": "stream",
     "text": [
      "Processing posts: 100%|██████████| 71219/71219 [00:13<00:00, 5388.71it/s]\n",
      "Processing words:  85%|████████▌ | 91/107 [46:47<03:38, 13.67s/it]"
     ]
    },
    {
     "name": "stdout",
     "output_type": "stream",
     "text": [
      "Now: script created process \n"
     ]
    },
    {
     "name": "stderr",
     "output_type": "stream",
     "text": [
      "Processing posts: 100%|██████████| 71219/71219 [00:13<00:00, 5385.00it/s]\n",
      "Processing words:  86%|████████▌ | 92/107 [47:01<03:23, 13.54s/it]"
     ]
    },
    {
     "name": "stdout",
     "output_type": "stream",
     "text": [
      "Now: nids exploit alert \n"
     ]
    },
    {
     "name": "stderr",
     "output_type": "stream",
     "text": [
      "Processing posts: 100%|██████████| 71219/71219 [00:13<00:00, 5392.12it/s]\n",
      "Processing words:  87%|████████▋ | 93/107 [47:14<03:08, 13.44s/it]"
     ]
    },
    {
     "name": "stdout",
     "output_type": "stream",
     "text": [
      "Now: long commandline \n"
     ]
    },
    {
     "name": "stderr",
     "output_type": "stream",
     "text": [
      "Processing posts: 100%|██████████| 71219/71219 [00:13<00:00, 5422.76it/s]\n",
      "Processing words:  88%|████████▊ | 94/107 [47:27<02:53, 13.35s/it]"
     ]
    },
    {
     "name": "stdout",
     "output_type": "stream",
     "text": [
      "Now: antivm firmware \n"
     ]
    },
    {
     "name": "stderr",
     "output_type": "stream",
     "text": [
      "Processing posts: 100%|██████████| 71219/71219 [00:13<00:00, 5377.06it/s]\n",
      "Processing words:  89%|████████▉ | 95/107 [47:40<02:39, 13.33s/it]"
     ]
    },
    {
     "name": "stdout",
     "output_type": "stream",
     "text": [
      "Now: modifies zoneid \n"
     ]
    },
    {
     "name": "stderr",
     "output_type": "stream",
     "text": [
      "Processing posts: 100%|██████████| 71219/71219 [00:13<00:00, 5321.52it/s]\n",
      "Processing words:  90%|████████▉ | 96/107 [47:54<02:26, 13.35s/it]"
     ]
    },
    {
     "name": "stdout",
     "output_type": "stream",
     "text": [
      "Now: disables windows defender \n"
     ]
    },
    {
     "name": "stderr",
     "output_type": "stream",
     "text": [
      "Processing posts: 100%|██████████| 71219/71219 [00:13<00:00, 5406.95it/s]\n",
      "Processing words:  91%|█████████ | 97/107 [48:07<02:13, 13.30s/it]"
     ]
    },
    {
     "name": "stdout",
     "output_type": "stream",
     "text": [
      "Now: network cnc https free webshoting \n"
     ]
    },
    {
     "name": "stderr",
     "output_type": "stream",
     "text": [
      "Processing posts: 100%|██████████| 71219/71219 [00:13<00:00, 5378.15it/s]\n",
      "Processing words:  92%|█████████▏| 98/107 [48:20<01:59, 13.29s/it]"
     ]
    },
    {
     "name": "stdout",
     "output_type": "stream",
     "text": [
      "Now: network cnc https socialmedia \n"
     ]
    },
    {
     "name": "stderr",
     "output_type": "stream",
     "text": [
      "Processing posts: 100%|██████████| 71219/71219 [00:13<00:00, 5363.38it/s]\n",
      "Processing words:  93%|█████████▎| 99/107 [48:33<01:46, 13.29s/it]"
     ]
    },
    {
     "name": "stdout",
     "output_type": "stream",
     "text": [
      "Now: network ip exe \n"
     ]
    },
    {
     "name": "stderr",
     "output_type": "stream",
     "text": [
      "Processing posts: 100%|██████████| 71219/71219 [00:13<00:00, 5252.31it/s]\n",
      "Processing words:  93%|█████████▎| 100/107 [48:47<01:33, 13.37s/it]"
     ]
    },
    {
     "name": "stdout",
     "output_type": "stream",
     "text": [
      "Now: venomrat mutexes \n"
     ]
    },
    {
     "name": "stderr",
     "output_type": "stream",
     "text": [
      "Processing posts: 100%|██████████| 71219/71219 [00:13<00:00, 5385.31it/s]\n",
      "Processing words:  94%|█████████▍| 101/107 [49:00<01:19, 13.33s/it]"
     ]
    },
    {
     "name": "stdout",
     "output_type": "stream",
     "text": [
      "Now: virus \n"
     ]
    },
    {
     "name": "stderr",
     "output_type": "stream",
     "text": [
      "Processing posts: 100%|██████████| 71219/71219 [25:38<00:00, 46.28it/s]\n",
      "Processing words:  95%|█████████▌| 102/107 [1:14:39<39:14, 470.97s/it]"
     ]
    },
    {
     "name": "stdout",
     "output_type": "stream",
     "text": [
      "Now: malicious document urls \n"
     ]
    },
    {
     "name": "stderr",
     "output_type": "stream",
     "text": [
      "Processing posts: 100%|██████████| 71219/71219 [00:13<00:00, 5390.47it/s]\n",
      "Processing words:  96%|█████████▋| 103/107 [1:14:52<22:14, 333.64s/it]"
     ]
    },
    {
     "name": "stdout",
     "output_type": "stream",
     "text": [
      "Now: network wscript downloader \n"
     ]
    },
    {
     "name": "stderr",
     "output_type": "stream",
     "text": [
      "Processing posts: 100%|██████████| 71219/71219 [00:13<00:00, 5381.93it/s]\n",
      "Processing words:  97%|█████████▋| 104/107 [1:15:05<11:52, 237.52s/it]"
     ]
    },
    {
     "name": "stdout",
     "output_type": "stream",
     "text": [
      "Now: bladabindi mutexes \n"
     ]
    },
    {
     "name": "stderr",
     "output_type": "stream",
     "text": [
      "Processing posts: 100%|██████████| 71219/71219 [00:25<00:00, 2742.84it/s]\n",
      "Processing words:  98%|█████████▊| 105/107 [1:15:31<05:48, 174.06s/it]"
     ]
    },
    {
     "name": "stdout",
     "output_type": "stream",
     "text": [
      "Now: ransomware mass file delete \n"
     ]
    },
    {
     "name": "stderr",
     "output_type": "stream",
     "text": [
      "Processing posts: 100%|██████████| 71219/71219 [00:13<00:00, 5370.82it/s]\n",
      "Processing words:  99%|█████████▉| 106/107 [1:15:45<02:05, 125.82s/it]"
     ]
    },
    {
     "name": "stdout",
     "output_type": "stream",
     "text": [
      "Now: netwire \n"
     ]
    },
    {
     "name": "stderr",
     "output_type": "stream",
     "text": [
      "Processing posts: 100%|██████████| 71219/71219 [25:38<00:00, 46.30it/s]\n",
      "Processing words: 100%|██████████| 107/107 [1:41:23<00:00, 56.85s/it] \n"
     ]
    }
   ],
   "source": [
    "matches_behaviours_3 = loop_search( third_half , selected_rows)\n"
   ]
  },
  {
   "cell_type": "code",
   "execution_count": null,
   "id": "a81efc6d",
   "metadata": {},
   "outputs": [],
   "source": [
    "matches_behaviours_3.to_csv(r'C:\\Users\\leona\\OneDrive\\Desktop\\Tesi\\Pipeline\\Datasets\\Pipeline\\SocialNetworksPosts\\Reddit\\three_behaviours.csv')"
   ]
  },
  {
   "cell_type": "code",
   "execution_count": 32,
   "id": "2f181443",
   "metadata": {},
   "outputs": [
    {
     "data": {
      "text/html": [
       "<div>\n",
       "<style scoped>\n",
       "    .dataframe tbody tr th:only-of-type {\n",
       "        vertical-align: middle;\n",
       "    }\n",
       "\n",
       "    .dataframe tbody tr th {\n",
       "        vertical-align: top;\n",
       "    }\n",
       "\n",
       "    .dataframe thead th {\n",
       "        text-align: right;\n",
       "    }\n",
       "</style>\n",
       "<table border=\"1\" class=\"dataframe\">\n",
       "  <thead>\n",
       "    <tr style=\"text-align: right;\">\n",
       "      <th></th>\n",
       "      <th>post_index</th>\n",
       "      <th>keyword</th>\n",
       "    </tr>\n",
       "  </thead>\n",
       "  <tbody>\n",
       "    <tr>\n",
       "      <th>0</th>\n",
       "      <td>3739</td>\n",
       "      <td>console output</td>\n",
       "    </tr>\n",
       "    <tr>\n",
       "      <th>1</th>\n",
       "      <td>44653</td>\n",
       "      <td>console output</td>\n",
       "    </tr>\n",
       "    <tr>\n",
       "      <th>2</th>\n",
       "      <td>42788</td>\n",
       "      <td>pe features</td>\n",
       "    </tr>\n",
       "    <tr>\n",
       "      <th>3</th>\n",
       "      <td>62507</td>\n",
       "      <td>dropper</td>\n",
       "    </tr>\n",
       "    <tr>\n",
       "      <th>4</th>\n",
       "      <td>3045</td>\n",
       "      <td>http request</td>\n",
       "    </tr>\n",
       "    <tr>\n",
       "      <th>...</th>\n",
       "      <td>...</td>\n",
       "      <td>...</td>\n",
       "    </tr>\n",
       "    <tr>\n",
       "      <th>522</th>\n",
       "      <td>70868</td>\n",
       "      <td>virus</td>\n",
       "    </tr>\n",
       "    <tr>\n",
       "      <th>523</th>\n",
       "      <td>70924</td>\n",
       "      <td>virus</td>\n",
       "    </tr>\n",
       "    <tr>\n",
       "      <th>524</th>\n",
       "      <td>71104</td>\n",
       "      <td>virus</td>\n",
       "    </tr>\n",
       "    <tr>\n",
       "      <th>525</th>\n",
       "      <td>71135</td>\n",
       "      <td>virus</td>\n",
       "    </tr>\n",
       "    <tr>\n",
       "      <th>526</th>\n",
       "      <td>71139</td>\n",
       "      <td>virus</td>\n",
       "    </tr>\n",
       "  </tbody>\n",
       "</table>\n",
       "<p>578 rows × 2 columns</p>\n",
       "</div>"
      ],
      "text/plain": [
       "     post_index         keyword\n",
       "0          3739  console output\n",
       "1         44653  console output\n",
       "2         42788     pe features\n",
       "3         62507         dropper\n",
       "4          3045    http request\n",
       "..          ...             ...\n",
       "522       70868           virus\n",
       "523       70924           virus\n",
       "524       71104           virus\n",
       "525       71135           virus\n",
       "526       71139           virus\n",
       "\n",
       "[578 rows x 2 columns]"
      ]
     },
     "execution_count": 32,
     "metadata": {},
     "output_type": "execute_result"
    }
   ],
   "source": [
    "\n",
    "matches_behaviours = pd.DataFrame()\n",
    "\n",
    "matches_behaviours = pd.concat([matches_behaviours_1, matches_behaviours_2, matches_behaviours_3])\n",
    "matches_behaviours"
   ]
  },
  {
   "cell_type": "code",
   "execution_count": 33,
   "id": "3e29d8be",
   "metadata": {},
   "outputs": [],
   "source": [
    "matches_behaviours['keyword type'] = 'behaviour'"
   ]
  },
  {
   "cell_type": "code",
   "execution_count": 34,
   "id": "f899fc5f",
   "metadata": {},
   "outputs": [
    {
     "data": {
      "text/html": [
       "<div>\n",
       "<style scoped>\n",
       "    .dataframe tbody tr th:only-of-type {\n",
       "        vertical-align: middle;\n",
       "    }\n",
       "\n",
       "    .dataframe tbody tr th {\n",
       "        vertical-align: top;\n",
       "    }\n",
       "\n",
       "    .dataframe thead th {\n",
       "        text-align: right;\n",
       "    }\n",
       "</style>\n",
       "<table border=\"1\" class=\"dataframe\">\n",
       "  <thead>\n",
       "    <tr style=\"text-align: right;\">\n",
       "      <th></th>\n",
       "      <th>index</th>\n",
       "      <th>subreddit</th>\n",
       "      <th>username</th>\n",
       "      <th>date</th>\n",
       "      <th>title</th>\n",
       "      <th>text</th>\n",
       "      <th>post_index</th>\n",
       "      <th>keyword</th>\n",
       "      <th>keyword type</th>\n",
       "    </tr>\n",
       "  </thead>\n",
       "  <tbody>\n",
       "    <tr>\n",
       "      <th>1</th>\n",
       "      <td>105626</td>\n",
       "      <td>Scams</td>\n",
       "      <td>t3_16whd1g</td>\n",
       "      <td>2023-09-30</td>\n",
       "      <td>Androids scam pop ups</td>\n",
       "      <td>I was checking my mum's phone and noticed she had A LOT of recent notifications saying \"Is someone accessing you device?\" \"Someone accessed your device from 300\" and lots more. Unknowingly I clicked one to see what it was and it brought me to a download link so I clicked off and then a \"cleaning Device notification\" popped up but I cleared them all and nothing strange happened after. \\n\\nI cleared her chrome site settings and did a play store scan (no result). \\n\\nShe only uses her phone for some games and to call people, she doesn't even use chrome. \\n\\nThe notifications came from a site called \"taipohulsurvey.\"\\n\\nI've told her to update her phone and bring it in to a store to see if they can check it for any malware or viruses. \\n\\nIs there anything else to be done? A bit worried as the phone has a lot of her personal data on it.</td>\n",
       "      <td>151</td>\n",
       "      <td>virus</td>\n",
       "      <td>behaviour</td>\n",
       "    </tr>\n",
       "    <tr>\n",
       "      <th>2</th>\n",
       "      <td>105857</td>\n",
       "      <td>selfhosted</td>\n",
       "      <td>t3_16wbg6w</td>\n",
       "      <td>2023-09-30</td>\n",
       "      <td>Anyone here use Parsec? Did it install a virus on my computer? ViGEm Bus Driver</td>\n",
       "      <td>Logged into my windows VM today that I also use Parsec on and I got this weird update notification for a ViGEm Bus Driver.  After doing some research it looks like a tool for trying to get Playstation controllers to work properly.\\n\\nI never installed DS4W or whatever its called. I have only used XBOX controllers locally, or Xbox/playstation over parsec (and parsec handles the set up afaik).\\n\\nIm thinking Parsec uses an implementaion of DS4W to get controllers recognized. From my research the company \"Nefarius Software Solutions\" seemed a bit shady and had someone thought they had malware in their software: https://www.reddit.com/r/DS4Windows/comments/sv588t/hi_guys_i_would_like_to_disscus_somthing/\\n\\nTurned out to be nothing, but Im a little worried now that parsec is installing random crap on my PC.  \\n\\nIts just a gaming VM, so nothing that important on it, but it does have access to my full network....\\n\\nScreenshots attached: https://imgur.com/a/dCAgPq0\\n\\nI just removed all...</td>\n",
       "      <td>382</td>\n",
       "      <td>virus</td>\n",
       "      <td>behaviour</td>\n",
       "    </tr>\n",
       "    <tr>\n",
       "      <th>3</th>\n",
       "      <td>105972</td>\n",
       "      <td>pcmasterrace</td>\n",
       "      <td>t3_16w9f35</td>\n",
       "      <td>2023-09-30</td>\n",
       "      <td>I went away for a month and now my PC is running slower, and it crashes some games. Never did before</td>\n",
       "      <td>What can I do to check, already did an all-file scan and no viruses?\\n\\n&amp;#x200B;</td>\n",
       "      <td>497</td>\n",
       "      <td>virus</td>\n",
       "      <td>behaviour</td>\n",
       "    </tr>\n",
       "    <tr>\n",
       "      <th>4</th>\n",
       "      <td>105982</td>\n",
       "      <td>pcmasterrace</td>\n",
       "      <td>t3_16w90rl</td>\n",
       "      <td>2023-09-30</td>\n",
       "      <td>Why is my computer actling like it has a virus?</td>\n",
       "      <td>Every 2nd click/keystroke will make the computer freeze for like 30 seconds. This has been going on for about a week, ever since I installed fortnite/epic games launcher at my friend's insistence, as well as installing a second antivirus (I currently use avast free, but I installed pcprotect as well- for some reason). Task Manager says everything is OK (except for the random CPU spikes when my pc freezes), and avast says everything is OK as well. (I have since uninstalled both epic games launcher and pcprotect). I restarted my pc and updated my drivers. I am using windows 10, and have a relatively recent pc (ryzen 5 5600g + rx 6600 xt) with 16gb of ram, although ram usage usually won'y get much higher than 13. Anyone know why this is happening?</td>\n",
       "      <td>507</td>\n",
       "      <td>virus</td>\n",
       "      <td>behaviour</td>\n",
       "    </tr>\n",
       "    <tr>\n",
       "      <th>5</th>\n",
       "      <td>106065</td>\n",
       "      <td>Wordpress</td>\n",
       "      <td>t3_16w79ft</td>\n",
       "      <td>2023-09-30</td>\n",
       "      <td>Avoid Wordpress Free Theme Website WPTRY.ORG - Files Contain Viruses</td>\n",
       "      <td>Wanted to try out a theme, downloaded from WPTRY and immediately detected a virus. Don't use this site if you want a free theme.</td>\n",
       "      <td>590</td>\n",
       "      <td>virus</td>\n",
       "      <td>behaviour</td>\n",
       "    </tr>\n",
       "  </tbody>\n",
       "</table>\n",
       "</div>"
      ],
      "text/plain": [
       "    index     subreddit    username        date  \\\n",
       "1  105626         Scams  t3_16whd1g  2023-09-30   \n",
       "2  105857    selfhosted  t3_16wbg6w  2023-09-30   \n",
       "3  105972  pcmasterrace  t3_16w9f35  2023-09-30   \n",
       "4  105982  pcmasterrace  t3_16w90rl  2023-09-30   \n",
       "5  106065     Wordpress  t3_16w79ft  2023-09-30   \n",
       "\n",
       "                                                                                                  title  \\\n",
       "1                                                                                 Androids scam pop ups   \n",
       "2                       Anyone here use Parsec? Did it install a virus on my computer? ViGEm Bus Driver   \n",
       "3  I went away for a month and now my PC is running slower, and it crashes some games. Never did before   \n",
       "4                                                       Why is my computer actling like it has a virus?   \n",
       "5                                  Avoid Wordpress Free Theme Website WPTRY.ORG - Files Contain Viruses   \n",
       "\n",
       "                                                                                                                                                                                                                                                                                                                                                                                                                                                                                                                                                                                                                                                                                                                                                                                                                                                                                                                                                                                                                                      text  \\\n",
       "1                                                                                                                                                             I was checking my mum's phone and noticed she had A LOT of recent notifications saying \"Is someone accessing you device?\" \"Someone accessed your device from 300\" and lots more. Unknowingly I clicked one to see what it was and it brought me to a download link so I clicked off and then a \"cleaning Device notification\" popped up but I cleared them all and nothing strange happened after. \\n\\nI cleared her chrome site settings and did a play store scan (no result). \\n\\nShe only uses her phone for some games and to call people, she doesn't even use chrome. \\n\\nThe notifications came from a site called \"taipohulsurvey.\"\\n\\nI've told her to update her phone and bring it in to a store to see if they can check it for any malware or viruses. \\n\\nIs there anything else to be done? A bit worried as the phone has a lot of her personal data on it.   \n",
       "2  Logged into my windows VM today that I also use Parsec on and I got this weird update notification for a ViGEm Bus Driver.  After doing some research it looks like a tool for trying to get Playstation controllers to work properly.\\n\\nI never installed DS4W or whatever its called. I have only used XBOX controllers locally, or Xbox/playstation over parsec (and parsec handles the set up afaik).\\n\\nIm thinking Parsec uses an implementaion of DS4W to get controllers recognized. From my research the company \"Nefarius Software Solutions\" seemed a bit shady and had someone thought they had malware in their software: https://www.reddit.com/r/DS4Windows/comments/sv588t/hi_guys_i_would_like_to_disscus_somthing/\\n\\nTurned out to be nothing, but Im a little worried now that parsec is installing random crap on my PC.  \\n\\nIts just a gaming VM, so nothing that important on it, but it does have access to my full network....\\n\\nScreenshots attached: https://imgur.com/a/dCAgPq0\\n\\nI just removed all...   \n",
       "3                                                                                                                                                                                                                                                                                                                                                                                                                                                                                                                                                                                                                                                                                                                                                                                                                                                                                                                                                         What can I do to check, already did an all-file scan and no viruses?\\n\\n&#x200B;   \n",
       "4                                                                                                                                                                                                                                                       Every 2nd click/keystroke will make the computer freeze for like 30 seconds. This has been going on for about a week, ever since I installed fortnite/epic games launcher at my friend's insistence, as well as installing a second antivirus (I currently use avast free, but I installed pcprotect as well- for some reason). Task Manager says everything is OK (except for the random CPU spikes when my pc freezes), and avast says everything is OK as well. (I have since uninstalled both epic games launcher and pcprotect). I restarted my pc and updated my drivers. I am using windows 10, and have a relatively recent pc (ryzen 5 5600g + rx 6600 xt) with 16gb of ram, although ram usage usually won'y get much higher than 13. Anyone know why this is happening?   \n",
       "5                                                                                                                                                                                                                                                                                                                                                                                                                                                                                                                                                                                                                                                                                                                                                                                                                                                                                                         Wanted to try out a theme, downloaded from WPTRY and immediately detected a virus. Don't use this site if you want a free theme.   \n",
       "\n",
       "   post_index keyword keyword type  \n",
       "1         151   virus    behaviour  \n",
       "2         382   virus    behaviour  \n",
       "3         497   virus    behaviour  \n",
       "4         507   virus    behaviour  \n",
       "5         590   virus    behaviour  "
      ]
     },
     "execution_count": 34,
     "metadata": {},
     "output_type": "execute_result"
    }
   ],
   "source": [
    "merged_matches_behaviours = pd.merge(selected_rows, matches_behaviours, left_index=True, right_on='post_index')\n",
    "merged_matches_behaviours.head()"
   ]
  },
  {
   "cell_type": "code",
   "execution_count": 35,
   "id": "fb491b30",
   "metadata": {},
   "outputs": [],
   "source": [
    "merged_matches_behaviours.to_csv(r'C:\\Users\\leona\\OneDrive\\Desktop\\Tesi\\Pipeline\\Datasets\\Pipeline\\SocialNetworksPosts\\Reddit\\Posts_filteredby_Behaviours.csv')"
   ]
  },
  {
   "cell_type": "markdown",
   "id": "36144587",
   "metadata": {},
   "source": [
    "### Attacks searching"
   ]
  },
  {
   "cell_type": "code",
   "execution_count": 28,
   "id": "0523f54b",
   "metadata": {},
   "outputs": [],
   "source": [
    "l = len(all_attack_name_list)\n",
    "\n",
    "index = l // 2\n",
    "\n",
    "first_half_behaviours = all_attack_name_list[:index]\n",
    "second_half_behaviours = all_attack_name_list[index:]\n"
   ]
  },
  {
   "cell_type": "code",
   "execution_count": 29,
   "id": "4918cbb9",
   "metadata": {},
   "outputs": [
    {
     "name": "stderr",
     "output_type": "stream",
     "text": [
      "Processing words:   0%|          | 0/11 [00:00<?, ?it/s]"
     ]
    },
    {
     "name": "stdout",
     "output_type": "stream",
     "text": [
      "Now: Registry Run Keys \n"
     ]
    },
    {
     "name": "stderr",
     "output_type": "stream",
     "text": [
      "Processing posts: 100%|██████████| 71219/71219 [00:19<00:00, 3699.10it/s]\n",
      "Processing words:   9%|▉         | 1/11 [00:19<03:12, 19.26s/it]"
     ]
    },
    {
     "name": "stdout",
     "output_type": "stream",
     "text": [
      "Now: Start Folder \n"
     ]
    },
    {
     "name": "stderr",
     "output_type": "stream",
     "text": [
      "Processing posts: 100%|██████████| 71219/71219 [00:19<00:00, 3734.79it/s]\n",
      "Processing words:  18%|█▊        | 2/11 [00:38<02:52, 19.15s/it]"
     ]
    },
    {
     "name": "stdout",
     "output_type": "stream",
     "text": [
      "Now: Input Capture \n"
     ]
    },
    {
     "name": "stderr",
     "output_type": "stream",
     "text": [
      "Processing posts: 100%|██████████| 71219/71219 [00:18<00:00, 3752.81it/s]\n",
      "Processing words:  27%|██▋       | 3/11 [00:57<02:32, 19.07s/it]"
     ]
    },
    {
     "name": "stdout",
     "output_type": "stream",
     "text": [
      "Now: Automated Collection \n"
     ]
    },
    {
     "name": "stderr",
     "output_type": "stream",
     "text": [
      "Processing posts: 100%|██████████| 71219/71219 [00:18<00:00, 3856.60it/s]\n",
      "Processing words:  36%|███▋      | 4/11 [01:15<02:11, 18.84s/it]"
     ]
    },
    {
     "name": "stdout",
     "output_type": "stream",
     "text": [
      "Now: Software Packing \n"
     ]
    },
    {
     "name": "stderr",
     "output_type": "stream",
     "text": [
      "Processing posts: 100%|██████████| 71219/71219 [00:18<00:00, 3807.96it/s]\n",
      "Processing words:  45%|████▌     | 5/11 [01:34<01:52, 18.79s/it]"
     ]
    },
    {
     "name": "stdout",
     "output_type": "stream",
     "text": [
      "Now: Process Discovery \n"
     ]
    },
    {
     "name": "stderr",
     "output_type": "stream",
     "text": [
      "Processing posts: 100%|██████████| 71219/71219 [00:18<00:00, 3776.23it/s]\n",
      "Processing words:  55%|█████▍    | 6/11 [01:53<01:34, 18.82s/it]"
     ]
    },
    {
     "name": "stdout",
     "output_type": "stream",
     "text": [
      "Now: Defense Evasion, Privilege Escalation \n"
     ]
    },
    {
     "name": "stderr",
     "output_type": "stream",
     "text": [
      "Processing posts: 100%|██████████| 71219/71219 [00:18<00:00, 3950.65it/s]\n",
      "Processing words:  64%|██████▎   | 7/11 [02:11<01:14, 18.56s/it]"
     ]
    },
    {
     "name": "stdout",
     "output_type": "stream",
     "text": [
      "Now: Masquerading \n"
     ]
    },
    {
     "name": "stderr",
     "output_type": "stream",
     "text": [
      "Processing posts: 100%|██████████| 71219/71219 [34:49<00:00, 34.09it/s]\n",
      "Processing words:  73%|███████▎  | 8/11 [37:00<33:53, 677.83s/it]"
     ]
    },
    {
     "name": "stdout",
     "output_type": "stream",
     "text": [
      "Now: Disable Security Software \n"
     ]
    },
    {
     "name": "stderr",
     "output_type": "stream",
     "text": [
      "Processing posts: 100%|██████████| 71219/71219 [00:19<00:00, 3680.21it/s]\n",
      "Processing words:  82%|████████▏ | 9/11 [37:20<15:43, 471.99s/it]"
     ]
    },
    {
     "name": "stdout",
     "output_type": "stream",
     "text": [
      "Now: Windows Management Instrumentation \n"
     ]
    },
    {
     "name": "stderr",
     "output_type": "stream",
     "text": [
      "Processing posts: 100%|██████████| 71219/71219 [00:17<00:00, 3962.61it/s]\n",
      "Processing words:  91%|█████████ | 10/11 [37:38<05:31, 331.83s/it]"
     ]
    },
    {
     "name": "stdout",
     "output_type": "stream",
     "text": [
      "Now: Install New Service \n"
     ]
    },
    {
     "name": "stderr",
     "output_type": "stream",
     "text": [
      "Processing posts: 100%|██████████| 71219/71219 [00:17<00:00, 3964.29it/s]\n",
      "Processing words: 100%|██████████| 11/11 [37:56<00:00, 206.93s/it]\n"
     ]
    }
   ],
   "source": [
    "matches1 = pd.DataFrame()\n",
    "\n",
    "matches1 = loop_search( first_half_behaviours , selected_rows)"
   ]
  },
  {
   "cell_type": "code",
   "execution_count": 30,
   "id": "638703fa",
   "metadata": {},
   "outputs": [
    {
     "name": "stderr",
     "output_type": "stream",
     "text": [
      "Processing words:   0%|          | 0/12 [00:00<?, ?it/s]"
     ]
    },
    {
     "name": "stdout",
     "output_type": "stream",
     "text": [
      "Now: Security Software Discovery \n"
     ]
    },
    {
     "name": "stderr",
     "output_type": "stream",
     "text": [
      "Processing posts: 100%|██████████| 71219/71219 [00:18<00:00, 3808.63it/s]\n",
      "Processing words:   8%|▊         | 1/12 [00:18<03:25, 18.70s/it]"
     ]
    },
    {
     "name": "stdout",
     "output_type": "stream",
     "text": [
      "Now: T1060 \n"
     ]
    },
    {
     "name": "stderr",
     "output_type": "stream",
     "text": [
      "Processing posts: 100%|██████████| 71219/71219 [29:38<00:00, 40.04it/s]\n",
      "Processing words:  17%|█▋        | 2/12 [29:57<2:55:39, 1053.92s/it]"
     ]
    },
    {
     "name": "stdout",
     "output_type": "stream",
     "text": [
      "Now: T1056 \n"
     ]
    },
    {
     "name": "stderr",
     "output_type": "stream",
     "text": [
      "Processing posts: 100%|██████████| 71219/71219 [26:51<00:00, 44.19it/s]\n",
      "Processing words:  25%|██▌       | 3/12 [56:48<3:16:17, 1308.57s/it]"
     ]
    },
    {
     "name": "stdout",
     "output_type": "stream",
     "text": [
      "Now: T1119 \n"
     ]
    },
    {
     "name": "stderr",
     "output_type": "stream",
     "text": [
      "Processing posts: 100%|██████████| 71219/71219 [27:23<00:00, 43.34it/s]\n",
      "Processing words:  33%|███▎      | 4/12 [1:24:12<3:12:05, 1440.69s/it]"
     ]
    },
    {
     "name": "stdout",
     "output_type": "stream",
     "text": [
      "Now: T1045 \n"
     ]
    },
    {
     "name": "stderr",
     "output_type": "stream",
     "text": [
      "Processing posts: 100%|██████████| 71219/71219 [26:48<00:00, 44.29it/s]\n",
      "Processing words:  42%|████▏     | 5/12 [1:51:00<2:55:07, 1501.05s/it]"
     ]
    },
    {
     "name": "stdout",
     "output_type": "stream",
     "text": [
      "Now: T1057 \n"
     ]
    },
    {
     "name": "stderr",
     "output_type": "stream",
     "text": [
      "Processing posts: 100%|██████████| 71219/71219 [26:48<00:00, 44.26it/s]\n",
      "Processing words:  50%|█████     | 6/12 [2:17:49<2:33:46, 1537.74s/it]"
     ]
    },
    {
     "name": "stdout",
     "output_type": "stream",
     "text": [
      "Now: T1055 \n"
     ]
    },
    {
     "name": "stderr",
     "output_type": "stream",
     "text": [
      "Processing posts: 100%|██████████| 71219/71219 [26:43<00:00, 44.41it/s]\n",
      "Processing words:  58%|█████▊    | 7/12 [2:44:32<2:09:56, 1559.26s/it]"
     ]
    },
    {
     "name": "stdout",
     "output_type": "stream",
     "text": [
      "Now: T1036 \n"
     ]
    },
    {
     "name": "stderr",
     "output_type": "stream",
     "text": [
      "Processing posts: 100%|██████████| 71219/71219 [26:44<00:00, 44.38it/s]\n",
      "Processing words:  67%|██████▋   | 8/12 [3:11:17<1:44:54, 1573.71s/it]"
     ]
    },
    {
     "name": "stdout",
     "output_type": "stream",
     "text": [
      "Now: 578 \n"
     ]
    },
    {
     "name": "stderr",
     "output_type": "stream",
     "text": [
      "Processing posts: 100%|██████████| 71219/71219 [27:11<00:00, 43.66it/s]\n",
      "Processing words:  75%|███████▌  | 9/12 [3:38:28<1:19:35, 1591.70s/it]"
     ]
    },
    {
     "name": "stdout",
     "output_type": "stream",
     "text": [
      "Now: T1047 \n"
     ]
    },
    {
     "name": "stderr",
     "output_type": "stream",
     "text": [
      "Processing posts: 100%|██████████| 71219/71219 [26:43<00:00, 44.41it/s]\n",
      "Processing words:  83%|████████▎ | 10/12 [4:05:12<53:10, 1595.42s/it] "
     ]
    },
    {
     "name": "stdout",
     "output_type": "stream",
     "text": [
      "Now: 550 \n"
     ]
    },
    {
     "name": "stderr",
     "output_type": "stream",
     "text": [
      "Processing posts: 100%|██████████| 71219/71219 [26:43<00:00, 44.42it/s]\n",
      "Processing words:  92%|█████████▏| 11/12 [4:31:55<26:37, 1597.88s/it]"
     ]
    },
    {
     "name": "stdout",
     "output_type": "stream",
     "text": [
      "Now: T1063 \n"
     ]
    },
    {
     "name": "stderr",
     "output_type": "stream",
     "text": [
      "Processing posts: 100%|██████████| 71219/71219 [26:40<00:00, 44.50it/s]\n",
      "Processing words: 100%|██████████| 12/12 [4:58:36<00:00, 1493.03s/it]\n"
     ]
    }
   ],
   "source": [
    "matches2 = pd.DataFrame()\n",
    "\n",
    "matches2 = loop_search( second_half_behaviours , selected_rows)"
   ]
  },
  {
   "cell_type": "code",
   "execution_count": 31,
   "id": "ac913507",
   "metadata": {},
   "outputs": [
    {
     "data": {
      "text/html": [
       "<div>\n",
       "<style scoped>\n",
       "    .dataframe tbody tr th:only-of-type {\n",
       "        vertical-align: middle;\n",
       "    }\n",
       "\n",
       "    .dataframe tbody tr th {\n",
       "        vertical-align: top;\n",
       "    }\n",
       "\n",
       "    .dataframe thead th {\n",
       "        text-align: right;\n",
       "    }\n",
       "</style>\n",
       "<table border=\"1\" class=\"dataframe\">\n",
       "  <thead>\n",
       "    <tr style=\"text-align: right;\">\n",
       "      <th></th>\n",
       "      <th>post_index</th>\n",
       "      <th>keyword</th>\n",
       "    </tr>\n",
       "  </thead>\n",
       "  <tbody>\n",
       "    <tr>\n",
       "      <th>0</th>\n",
       "      <td>54619</td>\n",
       "      <td>Input Capture</td>\n",
       "    </tr>\n",
       "    <tr>\n",
       "      <th>1</th>\n",
       "      <td>1589</td>\n",
       "      <td>masquerade</td>\n",
       "    </tr>\n",
       "    <tr>\n",
       "      <th>2</th>\n",
       "      <td>18939</td>\n",
       "      <td>masquerade</td>\n",
       "    </tr>\n",
       "    <tr>\n",
       "      <th>3</th>\n",
       "      <td>21795</td>\n",
       "      <td>masquerade</td>\n",
       "    </tr>\n",
       "    <tr>\n",
       "      <th>4</th>\n",
       "      <td>23563</td>\n",
       "      <td>masquerade</td>\n",
       "    </tr>\n",
       "    <tr>\n",
       "      <th>...</th>\n",
       "      <td>...</td>\n",
       "      <td>...</td>\n",
       "    </tr>\n",
       "    <tr>\n",
       "      <th>47</th>\n",
       "      <td>58416</td>\n",
       "      <td>550</td>\n",
       "    </tr>\n",
       "    <tr>\n",
       "      <th>48</th>\n",
       "      <td>58673</td>\n",
       "      <td>550</td>\n",
       "    </tr>\n",
       "    <tr>\n",
       "      <th>49</th>\n",
       "      <td>59233</td>\n",
       "      <td>550</td>\n",
       "    </tr>\n",
       "    <tr>\n",
       "      <th>50</th>\n",
       "      <td>60967</td>\n",
       "      <td>550</td>\n",
       "    </tr>\n",
       "    <tr>\n",
       "      <th>51</th>\n",
       "      <td>69519</td>\n",
       "      <td>550</td>\n",
       "    </tr>\n",
       "  </tbody>\n",
       "</table>\n",
       "<p>68 rows × 2 columns</p>\n",
       "</div>"
      ],
      "text/plain": [
       "    post_index        keyword\n",
       "0        54619  Input Capture\n",
       "1         1589     masquerade\n",
       "2        18939     masquerade\n",
       "3        21795     masquerade\n",
       "4        23563     masquerade\n",
       "..         ...            ...\n",
       "47       58416            550\n",
       "48       58673            550\n",
       "49       59233            550\n",
       "50       60967            550\n",
       "51       69519            550\n",
       "\n",
       "[68 rows x 2 columns]"
      ]
     },
     "execution_count": 31,
     "metadata": {},
     "output_type": "execute_result"
    }
   ],
   "source": [
    "matches = pd.concat([matches1, matches2])\n",
    "matches"
   ]
  },
  {
   "cell_type": "code",
   "execution_count": 32,
   "id": "adb93597",
   "metadata": {},
   "outputs": [],
   "source": [
    "matches['keyword type'] = 'attack'"
   ]
  },
  {
   "cell_type": "code",
   "execution_count": 33,
   "id": "04a4727d",
   "metadata": {},
   "outputs": [
    {
     "data": {
      "text/html": [
       "<div>\n",
       "<style scoped>\n",
       "    .dataframe tbody tr th:only-of-type {\n",
       "        vertical-align: middle;\n",
       "    }\n",
       "\n",
       "    .dataframe tbody tr th {\n",
       "        vertical-align: top;\n",
       "    }\n",
       "\n",
       "    .dataframe thead th {\n",
       "        text-align: right;\n",
       "    }\n",
       "</style>\n",
       "<table border=\"1\" class=\"dataframe\">\n",
       "  <thead>\n",
       "    <tr style=\"text-align: right;\">\n",
       "      <th></th>\n",
       "      <th>index</th>\n",
       "      <th>subreddit</th>\n",
       "      <th>username</th>\n",
       "      <th>date</th>\n",
       "      <th>title</th>\n",
       "      <th>text</th>\n",
       "      <th>post_index</th>\n",
       "      <th>keyword</th>\n",
       "      <th>keyword type</th>\n",
       "    </tr>\n",
       "  </thead>\n",
       "  <tbody>\n",
       "    <tr>\n",
       "      <th>0</th>\n",
       "      <td>105453</td>\n",
       "      <td>techsupport</td>\n",
       "      <td>t3_16wj572</td>\n",
       "      <td>2023-09-30</td>\n",
       "      <td>RAM issue or a Motherboard issue?</td>\n",
       "      <td>Having issues with a system where one stick of RAM is not being recognized, sometimes... This has been a system that has been built for a handful of years now and has not had this issue until this week.  A new GPU (ADM Radeon RX 6750 XT) was installed this week and since then the RAM issue has begun. I don't think that it is related to the new GPU rather a very unfortunate coincidence.\\n\\n&amp;#x200B;\\n\\n**The Issue:** \\n\\nAfter installing the new GPU we booted it up to test on some games. Upon running a game, the system hard froze and required a hard reset. Restarting prompted the mobo to produce a beep code of 3 long beeps. After looking up the code for a MSI mobo it was determined that it was a RAM issue. At this point, BIOS was not recognizing the RAM. Well, it kind of was. BIOS was able to tell there were two sticks of RAM inserted. It let me know there was a Corsair stick in both slots 2 and 4 which was correct. The problem was it was also showing that only 8 of the 16gb was bein...</td>\n",
       "      <td>5</td>\n",
       "      <td>550</td>\n",
       "      <td>attack</td>\n",
       "    </tr>\n",
       "    <tr>\n",
       "      <th>1</th>\n",
       "      <td>107064</td>\n",
       "      <td>HomeNetworking</td>\n",
       "      <td>t3_16vkm4u</td>\n",
       "      <td>2023-09-29</td>\n",
       "      <td>How can I segment two networks/interfaces in Debian based VM, namespaces or something else?</td>\n",
       "      <td>Posted on Networking and they flagged it as Home (it's not) but here we go.\\n\\nAsked here as well but got no response: [https://superuser.com/questions/1810410/how-can-i-segment-two-networks-interfaces-in-debian-based-vm-namespaces-or-some](https://superuser.com/questions/1810410/how-can-i-segment-two-networks-interfaces-in-debian-based-vm-namespaces-or-some)\\n\\nCopying the question to good ol' reddit.\\n\\n**Background information:** I have a Windows 10 (soon to be 11) work laptop with VMware Workstation Pro 17. This laptop is connected to my home network via Ethernet and connects to my work network via Cisco AnyConnect VPN. I have a Debian based VM that I added two network interfaces to through VMware workstation (one is NAT and the other is bridged). eth0 is NAT and it successfully connects and allows me to reach devices on my work network and the internet (its IP is in the range of the VMware network adapter on the host machine); eth1 is bridged and it successfully connects and ...</td>\n",
       "      <td>1589</td>\n",
       "      <td>masquerade</td>\n",
       "      <td>attack</td>\n",
       "    </tr>\n",
       "    <tr>\n",
       "      <th>1</th>\n",
       "      <td>108171</td>\n",
       "      <td>pcmasterrace</td>\n",
       "      <td>t3_16v05r3</td>\n",
       "      <td>2023-09-29</td>\n",
       "      <td>From 550 to 6600XT</td>\n",
       "      <td>Upgraded my rig earlier this year. Had to get a new PSU since the old one only had one 8-pin connector. Change was day and night for me.</td>\n",
       "      <td>2696</td>\n",
       "      <td>550</td>\n",
       "      <td>attack</td>\n",
       "    </tr>\n",
       "    <tr>\n",
       "      <th>2</th>\n",
       "      <td>113538</td>\n",
       "      <td>pcmasterrace</td>\n",
       "      <td>t3_16s21hi</td>\n",
       "      <td>2023-09-25</td>\n",
       "      <td>Does the black GPU match?</td>\n",
       "      <td>Specs\\nROG 550-A Gaming\\nRyzen 5800x3d\\nRx6800XT\\n64gb Vengeance RAM\\nh150i elite Capellix\\n9x Lian-Li SL Infinity fans\\nROG 850W PSU(White)\\nLian Li O11 Evo\\nAsiahorse Sleeved cables</td>\n",
       "      <td>8063</td>\n",
       "      <td>550</td>\n",
       "      <td>attack</td>\n",
       "    </tr>\n",
       "    <tr>\n",
       "      <th>3</th>\n",
       "      <td>113761</td>\n",
       "      <td>techsupport</td>\n",
       "      <td>t3_16rxqhw</td>\n",
       "      <td>2023-09-25</td>\n",
       "      <td>How do I troublshoot a bad motherboard</td>\n",
       "      <td>I'm thinking about getting into micro-soldering. I've been working IT about 20 years and have replaced a lot of motherboards but have never repaired one. I have an acer spin-3 model n20W1 I got for nothing. It is out of Acer's warranty and they want $550 to repair it. I found the motherboard on newegg but its like $400.  It won't power on, it won't charge with either a usb-c or a normal charger.  I've tried disconnecting both the CMOS battery and the normal battery. I would like to trace the circuit and figure out \\*what\\* is causing it to have issues but don't know where to start. Any suggestions?</td>\n",
       "      <td>8286</td>\n",
       "      <td>550</td>\n",
       "      <td>attack</td>\n",
       "    </tr>\n",
       "  </tbody>\n",
       "</table>\n",
       "</div>"
      ],
      "text/plain": [
       "    index       subreddit    username        date  \\\n",
       "0  105453     techsupport  t3_16wj572  2023-09-30   \n",
       "1  107064  HomeNetworking  t3_16vkm4u  2023-09-29   \n",
       "1  108171    pcmasterrace  t3_16v05r3  2023-09-29   \n",
       "2  113538    pcmasterrace  t3_16s21hi  2023-09-25   \n",
       "3  113761     techsupport  t3_16rxqhw  2023-09-25   \n",
       "\n",
       "                                                                                         title  \\\n",
       "0                                                            RAM issue or a Motherboard issue?   \n",
       "1  How can I segment two networks/interfaces in Debian based VM, namespaces or something else?   \n",
       "1                                                                           From 550 to 6600XT   \n",
       "2                                                                    Does the black GPU match?   \n",
       "3                                                       How do I troublshoot a bad motherboard   \n",
       "\n",
       "                                                                                                                                                                                                                                                                                                                                                                                                                                                                                                                                                                                                                                                                                                                                                                                                                                                                                                                                                                                                                                      text  \\\n",
       "0  Having issues with a system where one stick of RAM is not being recognized, sometimes... This has been a system that has been built for a handful of years now and has not had this issue until this week.  A new GPU (ADM Radeon RX 6750 XT) was installed this week and since then the RAM issue has begun. I don't think that it is related to the new GPU rather a very unfortunate coincidence.\\n\\n&#x200B;\\n\\n**The Issue:** \\n\\nAfter installing the new GPU we booted it up to test on some games. Upon running a game, the system hard froze and required a hard reset. Restarting prompted the mobo to produce a beep code of 3 long beeps. After looking up the code for a MSI mobo it was determined that it was a RAM issue. At this point, BIOS was not recognizing the RAM. Well, it kind of was. BIOS was able to tell there were two sticks of RAM inserted. It let me know there was a Corsair stick in both slots 2 and 4 which was correct. The problem was it was also showing that only 8 of the 16gb was bein...   \n",
       "1   Posted on Networking and they flagged it as Home (it's not) but here we go.\\n\\nAsked here as well but got no response: [https://superuser.com/questions/1810410/how-can-i-segment-two-networks-interfaces-in-debian-based-vm-namespaces-or-some](https://superuser.com/questions/1810410/how-can-i-segment-two-networks-interfaces-in-debian-based-vm-namespaces-or-some)\\n\\nCopying the question to good ol' reddit.\\n\\n**Background information:** I have a Windows 10 (soon to be 11) work laptop with VMware Workstation Pro 17. This laptop is connected to my home network via Ethernet and connects to my work network via Cisco AnyConnect VPN. I have a Debian based VM that I added two network interfaces to through VMware workstation (one is NAT and the other is bridged). eth0 is NAT and it successfully connects and allows me to reach devices on my work network and the internet (its IP is in the range of the VMware network adapter on the host machine); eth1 is bridged and it successfully connects and ...   \n",
       "1                                                                                                                                                                                                                                                                                                                                                                                                                                                                                                                                                                                                                                                                                                                                                                                                                                                                                                 Upgraded my rig earlier this year. Had to get a new PSU since the old one only had one 8-pin connector. Change was day and night for me.   \n",
       "2                                                                                                                                                                                                                                                                                                                                                                                                                                                                                                                                                                                                                                                                                                                                                                                                                                                  Specs\\nROG 550-A Gaming\\nRyzen 5800x3d\\nRx6800XT\\n64gb Vengeance RAM\\nh150i elite Capellix\\n9x Lian-Li SL Infinity fans\\nROG 850W PSU(White)\\nLian Li O11 Evo\\nAsiahorse Sleeved cables   \n",
       "3                                                                                                                                                                                                                                                                                                                                                                                                            I'm thinking about getting into micro-soldering. I've been working IT about 20 years and have replaced a lot of motherboards but have never repaired one. I have an acer spin-3 model n20W1 I got for nothing. It is out of Acer's warranty and they want $550 to repair it. I found the motherboard on newegg but its like $400.  It won't power on, it won't charge with either a usb-c or a normal charger.  I've tried disconnecting both the CMOS battery and the normal battery. I would like to trace the circuit and figure out \\*what\\* is causing it to have issues but don't know where to start. Any suggestions?   \n",
       "\n",
       "   post_index     keyword keyword type  \n",
       "0           5         550       attack  \n",
       "1        1589  masquerade       attack  \n",
       "1        2696         550       attack  \n",
       "2        8063         550       attack  \n",
       "3        8286         550       attack  "
      ]
     },
     "execution_count": 33,
     "metadata": {},
     "output_type": "execute_result"
    }
   ],
   "source": [
    "merged_matches_attacks = pd.merge(selected_rows, matches, left_index=True, right_on='post_index')\n",
    "merged_matches_attacks.head()"
   ]
  },
  {
   "cell_type": "code",
   "execution_count": 34,
   "id": "65ad27a3",
   "metadata": {},
   "outputs": [],
   "source": [
    "merged_matches_attacks.to_csv(r'C:\\Users\\leona\\OneDrive\\Desktop\\Tesi\\Pipeline\\Datasets\\Pipeline\\SocialNetworksPosts\\Reddit\\Posts_filteredby_Attacks.csv')"
   ]
  },
  {
   "cell_type": "markdown",
   "id": "e5891f03",
   "metadata": {},
   "source": [
    "### Malware names searching"
   ]
  },
  {
   "cell_type": "code",
   "execution_count": null,
   "id": "153f5078",
   "metadata": {
    "scrolled": true
   },
   "outputs": [
    {
     "name": "stderr",
     "output_type": "stream",
     "text": [
      "Processing words:   0%|          | 0/57 [00:00<?, ?it/s]"
     ]
    },
    {
     "name": "stdout",
     "output_type": "stream",
     "text": [
      "Now: remcos \n"
     ]
    },
    {
     "name": "stderr",
     "output_type": "stream",
     "text": [
      "Processing posts: 100%|██████████| 71219/71219 [28:10<00:00, 42.13it/s]\n",
      "Processing words:   2%|▏         | 1/57 [28:10<26:17:46, 1690.48s/it]"
     ]
    },
    {
     "name": "stdout",
     "output_type": "stream",
     "text": [
      "Now: generic mg \n"
     ]
    },
    {
     "name": "stderr",
     "output_type": "stream",
     "text": [
      "Processing posts: 100%|██████████| 71219/71219 [00:14<00:00, 5026.49it/s]\n",
      "Processing words:   4%|▎         | 2/57 [28:24<10:45:42, 704.42s/it] "
     ]
    },
    {
     "name": "stdout",
     "output_type": "stream",
     "text": [
      "Now: njrat \n"
     ]
    },
    {
     "name": "stderr",
     "output_type": "stream",
     "text": [
      "Processing posts: 100%|██████████| 71219/71219 [26:37<00:00, 44.59it/s]\n",
      "Processing words:   5%|▌         | 3/57 [55:02<16:40:56, 1112.16s/it]"
     ]
    },
    {
     "name": "stdout",
     "output_type": "stream",
     "text": [
      "Now: bitrat \n"
     ]
    },
    {
     "name": "stderr",
     "output_type": "stream",
     "text": [
      "Processing posts: 100%|██████████| 71219/71219 [26:44<00:00, 44.40it/s]\n",
      "Processing words:   7%|▋         | 4/57 [1:21:46<19:13:57, 1306.37s/it]"
     ]
    },
    {
     "name": "stdout",
     "output_type": "stream",
     "text": [
      "Now: mirai \n"
     ]
    },
    {
     "name": "stderr",
     "output_type": "stream",
     "text": [
      "Processing posts: 100%|██████████| 71219/71219 [25:47<00:00, 46.02it/s]\n",
      "Processing words:   9%|▉         | 5/57 [1:47:33<20:07:35, 1393.37s/it]"
     ]
    },
    {
     "name": "stdout",
     "output_type": "stream",
     "text": [
      "Now: injector gen \n"
     ]
    },
    {
     "name": "stderr",
     "output_type": "stream",
     "text": [
      "Processing posts: 100%|██████████| 71219/71219 [00:14<00:00, 4897.89it/s]\n",
      "Processing words:  11%|█         | 6/57 [1:47:48<13:05:53, 924.57s/it] "
     ]
    },
    {
     "name": "stdout",
     "output_type": "stream",
     "text": [
      "Now: generickd \n"
     ]
    },
    {
     "name": "stderr",
     "output_type": "stream",
     "text": [
      "Processing posts: 100%|██████████| 71219/71219 [26:13<00:00, 45.27it/s]\n",
      "Processing words:  12%|█▏        | 7/57 [2:14:01<15:47:11, 1136.63s/it]"
     ]
    },
    {
     "name": "stdout",
     "output_type": "stream",
     "text": [
      "Now: quasar rat \n"
     ]
    },
    {
     "name": "stderr",
     "output_type": "stream",
     "text": [
      "Processing posts: 100%|██████████| 71219/71219 [00:15<00:00, 4454.94it/s]\n",
      "Processing words:  14%|█▍        | 8/57 [2:14:17<10:36:53, 779.88s/it] "
     ]
    },
    {
     "name": "stdout",
     "output_type": "stream",
     "text": [
      "Now: muldrop \n"
     ]
    },
    {
     "name": "stderr",
     "output_type": "stream",
     "text": [
      "Processing posts: 100%|██████████| 71219/71219 [26:41<00:00, 44.48it/s]\n",
      "Processing words:  16%|█▌        | 9/57 [2:40:58<13:49:15, 1036.58s/it]"
     ]
    },
    {
     "name": "stdout",
     "output_type": "stream",
     "text": [
      "Now: netwire \n"
     ]
    },
    {
     "name": "stderr",
     "output_type": "stream",
     "text": [
      "Processing posts: 100%|██████████| 71219/71219 [26:45<00:00, 44.35it/s]\n",
      "Processing words:  18%|█▊        | 10/57 [3:07:44<15:49:39, 1212.34s/it]"
     ]
    },
    {
     "name": "stdout",
     "output_type": "stream",
     "text": [
      "Now: ave maria \n"
     ]
    },
    {
     "name": "stderr",
     "output_type": "stream",
     "text": [
      "Processing posts: 100%|██████████| 71219/71219 [00:14<00:00, 5014.28it/s]\n",
      "Processing words:  19%|█▉        | 11/57 [3:07:58<10:48:20, 845.65s/it] "
     ]
    },
    {
     "name": "stdout",
     "output_type": "stream",
     "text": [
      "Now: script cryxos \n"
     ]
    },
    {
     "name": "stderr",
     "output_type": "stream",
     "text": [
      "Processing posts: 100%|██████████| 71219/71219 [00:16<00:00, 4410.62it/s]\n",
      "Processing words:  21%|██        | 12/57 [3:08:14<7:24:58, 593.31s/it] "
     ]
    },
    {
     "name": "stdout",
     "output_type": "stream",
     "text": [
      "Now: downloader gen \n"
     ]
    },
    {
     "name": "stderr",
     "output_type": "stream",
     "text": [
      "Processing posts: 100%|██████████| 71219/71219 [00:13<00:00, 5112.37it/s]\n",
      "Processing words:  23%|██▎       | 13/57 [3:08:28<5:06:23, 417.80s/it]"
     ]
    },
    {
     "name": "stdout",
     "output_type": "stream",
     "text": [
      "Now: orcus \n"
     ]
    },
    {
     "name": "stderr",
     "output_type": "stream",
     "text": [
      "Processing posts: 100%|██████████| 71219/71219 [26:45<00:00, 44.36it/s]\n",
      "Processing words:  25%|██▍       | 14/57 [3:35:14<9:16:31, 776.55s/it]"
     ]
    },
    {
     "name": "stdout",
     "output_type": "stream",
     "text": [
      "Now: x gen drp \n"
     ]
    },
    {
     "name": "stderr",
     "output_type": "stream",
     "text": [
      "Processing posts: 100%|██████████| 71219/71219 [00:14<00:00, 5079.13it/s]\n",
      "Processing words:  26%|██▋       | 15/57 [3:35:28<6:22:41, 546.71s/it]"
     ]
    },
    {
     "name": "stdout",
     "output_type": "stream",
     "text": [
      "Now: agent tesla \n"
     ]
    },
    {
     "name": "stderr",
     "output_type": "stream",
     "text": [
      "Processing posts: 100%|██████████| 71219/71219 [00:13<00:00, 5148.44it/s]\n",
      "Processing words:  28%|██▊       | 16/57 [3:35:42<4:23:58, 386.31s/it]"
     ]
    },
    {
     "name": "stdout",
     "output_type": "stream",
     "text": [
      "Now: nanocore rat \n"
     ]
    },
    {
     "name": "stderr",
     "output_type": "stream",
     "text": [
      "Processing posts: 100%|██████████| 71219/71219 [00:13<00:00, 5138.64it/s]\n",
      "Processing words:  30%|██▉       | 17/57 [3:35:56<3:02:52, 274.32s/it]"
     ]
    },
    {
     "name": "stdout",
     "output_type": "stream",
     "text": [
      "Now: redline stealer \n"
     ]
    },
    {
     "name": "stderr",
     "output_type": "stream",
     "text": [
      "Processing posts: 100%|██████████| 71219/71219 [00:16<00:00, 4241.60it/s]\n",
      "Processing words:  32%|███▏      | 18/57 [3:36:12<2:08:00, 196.94s/it]"
     ]
    },
    {
     "name": "stdout",
     "output_type": "stream",
     "text": [
      "Now: lumma stealer \n"
     ]
    },
    {
     "name": "stderr",
     "output_type": "stream",
     "text": [
      "Processing posts: 100%|██████████| 71219/71219 [00:13<00:00, 5141.85it/s]\n",
      "Processing words:  33%|███▎      | 19/57 [3:36:26<1:29:54, 141.95s/it]"
     ]
    },
    {
     "name": "stdout",
     "output_type": "stream",
     "text": [
      "Now: siggen \n"
     ]
    },
    {
     "name": "stderr",
     "output_type": "stream",
     "text": [
      "Processing posts: 100%|██████████| 71219/71219 [31:58<00:00, 37.12it/s]\n",
      "Processing words:  35%|███▌      | 20/57 [4:08:25<6:56:30, 675.43s/it]"
     ]
    },
    {
     "name": "stdout",
     "output_type": "stream",
     "text": [
      "Now: spynote \n"
     ]
    },
    {
     "name": "stderr",
     "output_type": "stream",
     "text": [
      "Processing posts: 100%|██████████| 71219/71219 [33:23<00:00, 35.55it/s]\n",
      "Processing words:  37%|███▋      | 21/57 [4:41:48<10:44:23, 1073.97s/it]"
     ]
    },
    {
     "name": "stdout",
     "output_type": "stream",
     "text": [
      "Now: kryptik gen \n"
     ]
    },
    {
     "name": "stderr",
     "output_type": "stream",
     "text": [
      "Processing posts: 100%|██████████| 71219/71219 [00:15<00:00, 4561.14it/s]\n",
      "Processing words:  39%|███▊      | 22/57 [4:42:04<7:21:12, 756.34s/it]  "
     ]
    },
    {
     "name": "stdout",
     "output_type": "stream",
     "text": [
      "Now: obfus \n"
     ]
    },
    {
     "name": "stderr",
     "output_type": "stream",
     "text": [
      "Processing posts: 100%|██████████| 71219/71219 [31:06<00:00, 38.15it/s]\n",
      "Processing words:  40%|████      | 23/57 [5:13:11<10:17:26, 1089.60s/it]"
     ]
    },
    {
     "name": "stdout",
     "output_type": "stream",
     "text": [
      "Now: kryptik gen eldorado \n"
     ]
    },
    {
     "name": "stderr",
     "output_type": "stream",
     "text": [
      "Processing posts: 100%|██████████| 71219/71219 [00:15<00:00, 4612.74it/s]\n",
      "Processing words:  42%|████▏     | 24/57 [5:13:26<7:02:00, 767.29s/it]  "
     ]
    },
    {
     "name": "stdout",
     "output_type": "stream",
     "text": [
      "Now: valyria \n"
     ]
    },
    {
     "name": "stderr",
     "output_type": "stream",
     "text": [
      "Processing posts: 100%|██████████| 71219/71219 [32:26<00:00, 36.59it/s]\n",
      "Processing words:  44%|████▍     | 25/57 [5:45:52<9:57:52, 1121.02s/it]"
     ]
    },
    {
     "name": "stdout",
     "output_type": "stream",
     "text": [
      "Now: artemis \n"
     ]
    },
    {
     "name": "stderr",
     "output_type": "stream",
     "text": [
      "Processing posts: 100%|██████████| 71219/71219 [32:21<00:00, 36.68it/s]\n",
      "Processing words:  46%|████▌     | 26/57 [6:18:14<11:46:23, 1367.22s/it]"
     ]
    },
    {
     "name": "stdout",
     "output_type": "stream",
     "text": [
      "Now: twave evil \n"
     ]
    },
    {
     "name": "stderr",
     "output_type": "stream",
     "text": [
      "Processing posts: 100%|██████████| 71219/71219 [00:16<00:00, 4389.90it/s]\n",
      "Processing words:  47%|████▋     | 27/57 [6:18:30<8:00:56, 961.90s/it]  "
     ]
    },
    {
     "name": "stdout",
     "output_type": "stream",
     "text": [
      "Now: java gen \n"
     ]
    },
    {
     "name": "stderr",
     "output_type": "stream",
     "text": [
      "Processing posts: 100%|██████████| 71219/71219 [00:16<00:00, 4370.14it/s]\n",
      "Processing words:  49%|████▉     | 28/57 [6:18:47<5:27:48, 678.21s/it]"
     ]
    },
    {
     "name": "stdout",
     "output_type": "stream",
     "text": [
      "Now: borlanddelphi \n"
     ]
    },
    {
     "name": "stderr",
     "output_type": "stream",
     "text": [
      "Processing posts: 100%|██████████| 71219/71219 [30:22<00:00, 39.08it/s]\n",
      "Processing words:  51%|█████     | 29/57 [6:49:09<7:56:42, 1021.52s/it]"
     ]
    },
    {
     "name": "stdout",
     "output_type": "stream",
     "text": [
      "Now: cobalt strike \n"
     ]
    },
    {
     "name": "stderr",
     "output_type": "stream",
     "text": [
      "Processing posts: 100%|██████████| 71219/71219 [00:15<00:00, 4580.78it/s]\n",
      "Processing words:  53%|█████▎    | 30/57 [6:49:25<5:23:52, 719.72s/it] "
     ]
    },
    {
     "name": "stdout",
     "output_type": "stream",
     "text": [
      "Now: aidetect net \n"
     ]
    },
    {
     "name": "stderr",
     "output_type": "stream",
     "text": [
      "Processing posts: 100%|██████████| 71219/71219 [00:20<00:00, 3456.86it/s]\n",
      "Processing words:  54%|█████▍    | 31/57 [6:49:45<3:40:59, 509.99s/it]"
     ]
    },
    {
     "name": "stdout",
     "output_type": "stream",
     "text": [
      "Now: miscreantpunch \n"
     ]
    },
    {
     "name": "stderr",
     "output_type": "stream",
     "text": [
      "Processing posts: 100%|██████████| 71219/71219 [29:29<00:00, 40.24it/s]\n",
      "Processing words:  56%|█████▌    | 32/57 [7:19:15<6:09:58, 887.94s/it]"
     ]
    },
    {
     "name": "stdout",
     "output_type": "stream",
     "text": [
      "Now: perseus \n"
     ]
    },
    {
     "name": "stderr",
     "output_type": "stream",
     "text": [
      "Processing posts: 100%|██████████| 71219/71219 [28:16<00:00, 41.98it/s]\n",
      "Processing words:  58%|█████▊    | 33/57 [7:47:32<7:32:13, 1130.55s/it]"
     ]
    },
    {
     "name": "stdout",
     "output_type": "stream",
     "text": [
      "Now: behaveslike generic \n"
     ]
    },
    {
     "name": "stderr",
     "output_type": "stream",
     "text": [
      "Processing posts: 100%|██████████| 71219/71219 [00:14<00:00, 4883.27it/s]\n",
      "Processing words:  60%|█████▉    | 34/57 [7:47:46<5:05:02, 795.77s/it] "
     ]
    },
    {
     "name": "stdout",
     "output_type": "stream",
     "text": [
      "Now: heracles \n"
     ]
    },
    {
     "name": "stderr",
     "output_type": "stream",
     "text": [
      "Processing posts: 100%|██████████| 71219/71219 [27:16<00:00, 43.53it/s]\n",
      "Processing words:  61%|██████▏   | 35/57 [8:15:02<6:24:13, 1047.87s/it]"
     ]
    },
    {
     "name": "stdout",
     "output_type": "stream",
     "text": [
      "Now: darkcomet \n"
     ]
    },
    {
     "name": "stderr",
     "output_type": "stream",
     "text": [
      "Processing posts: 100%|██████████| 71219/71219 [27:22<00:00, 43.35it/s]\n",
      "Processing words:  63%|██████▎   | 36/57 [8:42:25<7:09:13, 1226.35s/it]"
     ]
    },
    {
     "name": "stdout",
     "output_type": "stream",
     "text": [
      "Now: evo gen \n"
     ]
    },
    {
     "name": "stderr",
     "output_type": "stream",
     "text": [
      "Processing posts: 100%|██████████| 71219/71219 [00:14<00:00, 4883.46it/s]\n",
      "Processing words:  65%|██████▍   | 37/57 [8:42:40<4:47:36, 862.82s/it] "
     ]
    },
    {
     "name": "stdout",
     "output_type": "stream",
     "text": [
      "Now: crypter gen \n"
     ]
    },
    {
     "name": "stderr",
     "output_type": "stream",
     "text": [
      "Processing posts: 100%|██████████| 71219/71219 [00:14<00:00, 4888.93it/s]\n",
      "Processing words:  67%|██████▋   | 38/57 [8:42:54<3:12:38, 608.35s/it]"
     ]
    },
    {
     "name": "stdout",
     "output_type": "stream",
     "text": [
      "Now: wannacryptor \n"
     ]
    },
    {
     "name": "stderr",
     "output_type": "stream",
     "text": [
      "Processing posts: 100%|██████████| 71219/71219 [28:25<00:00, 41.76it/s]\n",
      "Processing words:  68%|██████▊   | 39/57 [9:11:20<4:41:15, 937.52s/it]"
     ]
    },
    {
     "name": "stdout",
     "output_type": "stream",
     "text": [
      "Now: formbook \n"
     ]
    },
    {
     "name": "stderr",
     "output_type": "stream",
     "text": []
    },
    {
     "ename": "",
     "evalue": "",
     "output_type": "error",
     "traceback": [
      "\u001b[1;31mThe Kernel crashed while executing code in the the current cell or a previous cell. Please review the code in the cell(s) to identify a possible cause of the failure. Click <a href='https://aka.ms/vscodeJupyterKernelCrash'>here</a> for more info. View Jupyter <a href='command:jupyter.viewOutput'>log</a> for further details."
     ]
    }
   ],
   "source": [
    "matches = pd.DataFrame()\n",
    "\n",
    "matches = loop_search( all_malware_list , selected_rows)"
   ]
  },
  {
   "cell_type": "code",
   "execution_count": null,
   "id": "109210c2",
   "metadata": {},
   "outputs": [
    {
     "data": {
      "text/html": [
       "<div>\n",
       "<style scoped>\n",
       "    .dataframe tbody tr th:only-of-type {\n",
       "        vertical-align: middle;\n",
       "    }\n",
       "\n",
       "    .dataframe tbody tr th {\n",
       "        vertical-align: top;\n",
       "    }\n",
       "\n",
       "    .dataframe thead th {\n",
       "        text-align: right;\n",
       "    }\n",
       "</style>\n",
       "<table border=\"1\" class=\"dataframe\">\n",
       "  <thead>\n",
       "    <tr style=\"text-align: right;\">\n",
       "      <th></th>\n",
       "      <th>index</th>\n",
       "      <th>subreddit</th>\n",
       "      <th>username</th>\n",
       "      <th>date</th>\n",
       "      <th>title</th>\n",
       "      <th>text</th>\n",
       "    </tr>\n",
       "  </thead>\n",
       "  <tbody>\n",
       "    <tr>\n",
       "      <th>0</th>\n",
       "      <td>105421</td>\n",
       "      <td>MacOS</td>\n",
       "      <td>t3_16wj4st</td>\n",
       "      <td>2023-09-30</td>\n",
       "      <td>Quick Reminder/Task to Inbox from Mac?</td>\n",
       "      <td>Hi Folks, \\n\\n&amp;#x200B;\\n\\nI'm looking to find a way of being able to super quickly add a quick reminder in to my inbox on the Apple Reminders App.  Frequently at works somebody quick very quickly ask me if i can do / look in to something and i would like to very quickly be able to take note of that. \\n\\n&amp;#x200B;\\n\\nIt would be great if there was just a quick little keyboard shortcut i could do etc.  \\n\\n&amp;#x200B;\\n\\nNote - I do use Alfred but i don't want to pay for Workflows for this sole reason.</td>\n",
       "    </tr>\n",
       "    <tr>\n",
       "      <th>1</th>\n",
       "      <td>105427</td>\n",
       "      <td>Python</td>\n",
       "      <td>t3_16wj5oc</td>\n",
       "      <td>2023-09-30</td>\n",
       "      <td>Swiss Army Llama: Do tons of useful stuff with local LLMs with a REST API (written in Python)</td>\n",
       "      <td>GitHub Repo: [https://github.com/Dicklesworthstone/swiss\\_army\\_llama](https://github.com/Dicklesworthstone/swiss_army_llama)\\n\\nThis project originally started out with a focus on easily generating embeddings from Llama2 and other llama\\_cpp (gguf) models and storing them in a database, all exposed via a convenient REST api. But since then, I've added a lot more functionality:\\n\\n1. New endpoint for generating text completions (including specifying custom grammars, like JSON).\\n2. Get all the embeddings for an entire document-- can be any kind of document (plaintext, PDFs, .doc/.docx, etc.) and it will do OCR on PDFs and images.\\n3. Submit an audio file (wav/mp3) and it uses whisper to transcribe it into text, then gets the embeddings for the text (after combining the transcription segments into complete sentences).\\n4. Integrates with my new vector similarity library (\\`pip install fast\\_vector\\_similarity\\`) to provide an \"advanced\" semantic search endpoint. This uses a 2-step p...</td>\n",
       "    </tr>\n",
       "    <tr>\n",
       "      <th>2</th>\n",
       "      <td>105428</td>\n",
       "      <td>Python</td>\n",
       "      <td>t3_16wj14c</td>\n",
       "      <td>2023-09-30</td>\n",
       "      <td>I wrote browser_cookie3 in Rust for Python!</td>\n",
       "      <td>I made a library in Rust for extracting cookies from every web browser on the PC with cross platform support and you can use it from Python directly\\n\\nIt supports Windows, Linux, MacOS\\n\\nand all modern web browsers like Chrome, Firefox, Brave\\n\\nI would love to hear you opinion about it :)\\n\\n[https://github.com/thewh1teagle/rookie](https://github.com/thewh1teagle/rookie)</td>\n",
       "    </tr>\n",
       "    <tr>\n",
       "      <th>3</th>\n",
       "      <td>105436</td>\n",
       "      <td>software</td>\n",
       "      <td>t3_16wj57a</td>\n",
       "      <td>2023-09-30</td>\n",
       "      <td>Anything that can scan a YouTube playlist of music to profile me or summarize my personality?</td>\n",
       "      <td>Or, if not make a profile about me, then at least make strong recommendations for other music I might like.\\n\\nIt'd likely have to be powered by AI to understand all the lyrics of each of the videos.</td>\n",
       "    </tr>\n",
       "    <tr>\n",
       "      <th>4</th>\n",
       "      <td>105452</td>\n",
       "      <td>techsupport</td>\n",
       "      <td>t3_16wj6fw</td>\n",
       "      <td>2023-09-30</td>\n",
       "      <td>1TB 840 EVO exceding his TBW. Should I replace it?</td>\n",
       "      <td>Last year I updated my PC and now I'm using M.2 SSD as a main for the OS and 3x4TB for video edits as my 16 TB HDD super helio enterprise mega realiable uber endurable blablabla died in 4 MONTHS!!!\\n\\nNow I'm using my old 1TB 840 EVO for some games and media. The issue is that even if Samsung Magician is saying that is still in good shape the TBW is exceding the recommended 72TBW (82.5). Should I worry about it or is still in good shape for some light use?\\n\\n&amp;#x200B;\\n\\nhttps://i.imgur.com/xU9vGyq.jpg\\n\\n&amp;#x200B;\\n\\n\\*The number are overinflated because RAPID is on and I don't have a clue if these numbers from S.M.A.R.T are good or bad.\\n\\n&amp;#x200B;</td>\n",
       "    </tr>\n",
       "  </tbody>\n",
       "</table>\n",
       "</div>"
      ],
      "text/plain": [
       "    index    subreddit    username        date  \\\n",
       "0  105421        MacOS  t3_16wj4st  2023-09-30   \n",
       "1  105427       Python  t3_16wj5oc  2023-09-30   \n",
       "2  105428       Python  t3_16wj14c  2023-09-30   \n",
       "3  105436     software  t3_16wj57a  2023-09-30   \n",
       "4  105452  techsupport  t3_16wj6fw  2023-09-30   \n",
       "\n",
       "                                                                                           title  \\\n",
       "0                                                         Quick Reminder/Task to Inbox from Mac?   \n",
       "1  Swiss Army Llama: Do tons of useful stuff with local LLMs with a REST API (written in Python)   \n",
       "2                                                    I wrote browser_cookie3 in Rust for Python!   \n",
       "3  Anything that can scan a YouTube playlist of music to profile me or summarize my personality?   \n",
       "4                                             1TB 840 EVO exceding his TBW. Should I replace it?   \n",
       "\n",
       "                                                                                                                                                                                                                                                                                                                                                                                                                                                                                                                                                                                                                                                                                                                                                                                                                                                                                                                                                                                                                                      text  \n",
       "0                                                                                                                                                                                                                                                                                                                                                                                                                                                                                                                   Hi Folks, \\n\\n&#x200B;\\n\\nI'm looking to find a way of being able to super quickly add a quick reminder in to my inbox on the Apple Reminders App.  Frequently at works somebody quick very quickly ask me if i can do / look in to something and i would like to very quickly be able to take note of that. \\n\\n&#x200B;\\n\\nIt would be great if there was just a quick little keyboard shortcut i could do etc.  \\n\\n&#x200B;\\n\\nNote - I do use Alfred but i don't want to pay for Workflows for this sole reason.   \n",
       "1  GitHub Repo: [https://github.com/Dicklesworthstone/swiss\\_army\\_llama](https://github.com/Dicklesworthstone/swiss_army_llama)\\n\\nThis project originally started out with a focus on easily generating embeddings from Llama2 and other llama\\_cpp (gguf) models and storing them in a database, all exposed via a convenient REST api. But since then, I've added a lot more functionality:\\n\\n1. New endpoint for generating text completions (including specifying custom grammars, like JSON).\\n2. Get all the embeddings for an entire document-- can be any kind of document (plaintext, PDFs, .doc/.docx, etc.) and it will do OCR on PDFs and images.\\n3. Submit an audio file (wav/mp3) and it uses whisper to transcribe it into text, then gets the embeddings for the text (after combining the transcription segments into complete sentences).\\n4. Integrates with my new vector similarity library (\\`pip install fast\\_vector\\_similarity\\`) to provide an \"advanced\" semantic search endpoint. This uses a 2-step p...  \n",
       "2                                                                                                                                                                                                                                                                                                                                                                                                                                                                                                                                                                                                                                                 I made a library in Rust for extracting cookies from every web browser on the PC with cross platform support and you can use it from Python directly\\n\\nIt supports Windows, Linux, MacOS\\n\\nand all modern web browsers like Chrome, Firefox, Brave\\n\\nI would love to hear you opinion about it :)\\n\\n[https://github.com/thewh1teagle/rookie](https://github.com/thewh1teagle/rookie)  \n",
       "3                                                                                                                                                                                                                                                                                                                                                                                                                                                                                                                                                                                                                                                                                                                                                                                                                                  Or, if not make a profile about me, then at least make strong recommendations for other music I might like.\\n\\nIt'd likely have to be powered by AI to understand all the lyrics of each of the videos.  \n",
       "4                                                                                                                                                                                                                                                                                                                                                        Last year I updated my PC and now I'm using M.2 SSD as a main for the OS and 3x4TB for video edits as my 16 TB HDD super helio enterprise mega realiable uber endurable blablabla died in 4 MONTHS!!!\\n\\nNow I'm using my old 1TB 840 EVO for some games and media. The issue is that even if Samsung Magician is saying that is still in good shape the TBW is exceding the recommended 72TBW (82.5). Should I worry about it or is still in good shape for some light use?\\n\\n&#x200B;\\n\\nhttps://i.imgur.com/xU9vGyq.jpg\\n\\n&#x200B;\\n\\n\\*The number are overinflated because RAPID is on and I don't have a clue if these numbers from S.M.A.R.T are good or bad.\\n\\n&#x200B;  "
      ]
     },
     "execution_count": 34,
     "metadata": {},
     "output_type": "execute_result"
    }
   ],
   "source": [
    "selected_rows.head()"
   ]
  },
  {
   "cell_type": "code",
   "execution_count": null,
   "id": "2b2b43a4",
   "metadata": {},
   "outputs": [],
   "source": [
    "selected_rows.to_csv(r'C:\\Users\\leona\\OneDrive\\Desktop\\Tesi\\Pipeline\\Datasets\\Pipeline\\SocialNetworksPosts\\Reddit\\Posts.csv')\n"
   ]
  },
  {
   "cell_type": "code",
   "execution_count": null,
   "id": "e92cd332",
   "metadata": {},
   "outputs": [
    {
     "data": {
      "text/html": [
       "<div>\n",
       "<style scoped>\n",
       "    .dataframe tbody tr th:only-of-type {\n",
       "        vertical-align: middle;\n",
       "    }\n",
       "\n",
       "    .dataframe tbody tr th {\n",
       "        vertical-align: top;\n",
       "    }\n",
       "\n",
       "    .dataframe thead th {\n",
       "        text-align: right;\n",
       "    }\n",
       "</style>\n",
       "<table border=\"1\" class=\"dataframe\">\n",
       "  <thead>\n",
       "    <tr style=\"text-align: right;\">\n",
       "      <th></th>\n",
       "      <th>index</th>\n",
       "      <th>subreddit</th>\n",
       "      <th>username</th>\n",
       "      <th>date</th>\n",
       "      <th>title</th>\n",
       "      <th>text</th>\n",
       "      <th>post_index</th>\n",
       "      <th>word</th>\n",
       "    </tr>\n",
       "  </thead>\n",
       "  <tbody>\n",
       "    <tr>\n",
       "      <th>71</th>\n",
       "      <td>107494</td>\n",
       "      <td>AskNetsec</td>\n",
       "      <td>t3_16vci58</td>\n",
       "      <td>2023-09-29</td>\n",
       "      <td>Webcam access from Shell for presentation</td>\n",
       "      <td>Hey all,\\r  \\n\\r  \\nThanks for taking the time to read this post.\\r  \\n\\r  \\nI've been tasked with setting up a sort of demo to get young people interested in infosec.\\r  \\n\\r  \\nI've worked in the industry for years but my actual pentesting experience is about a 0.\\r  \\n\\r  \\nMy leadership wants me to show how one can take over a computer and use it's webcam. I've got an entire AD network setup with SMB signing disabled so we can do all the standard LLMNR, NTLM relay, shells, Kerboroasting, cracking, etc.\\r  \\n\\r  \\nBut this webcam thing has got me flummoxed. Getting a shell with psexec or smbexec is no problem. For some reason a meterpreter shell is near impossible even with a/v disabled via gpo. \\r  \\n\\r  \\nMy plan was to place ffmpeg.exe on a share using smbclient then execute the command to take a picture via a shell. But it simply doesn't work. I believe it's due to psexec running as NT Authority\\\\system. I assume that account has no access to the webcam. I could be wrong.\\r ...</td>\n",
       "      <td>2019</td>\n",
       "      <td>meterpreter</td>\n",
       "    </tr>\n",
       "    <tr>\n",
       "      <th>75</th>\n",
       "      <td>107494</td>\n",
       "      <td>AskNetsec</td>\n",
       "      <td>t3_16vci58</td>\n",
       "      <td>2023-09-29</td>\n",
       "      <td>Webcam access from Shell for presentation</td>\n",
       "      <td>Hey all,\\r  \\n\\r  \\nThanks for taking the time to read this post.\\r  \\n\\r  \\nI've been tasked with setting up a sort of demo to get young people interested in infosec.\\r  \\n\\r  \\nI've worked in the industry for years but my actual pentesting experience is about a 0.\\r  \\n\\r  \\nMy leadership wants me to show how one can take over a computer and use it's webcam. I've got an entire AD network setup with SMB signing disabled so we can do all the standard LLMNR, NTLM relay, shells, Kerboroasting, cracking, etc.\\r  \\n\\r  \\nBut this webcam thing has got me flummoxed. Getting a shell with psexec or smbexec is no problem. For some reason a meterpreter shell is near impossible even with a/v disabled via gpo. \\r  \\n\\r  \\nMy plan was to place ffmpeg.exe on a share using smbclient then execute the command to take a picture via a shell. But it simply doesn't work. I believe it's due to psexec running as NT Authority\\\\system. I assume that account has no access to the webcam. I could be wrong.\\r ...</td>\n",
       "      <td>2019</td>\n",
       "      <td>meterpreter</td>\n",
       "    </tr>\n",
       "    <tr>\n",
       "      <th>10</th>\n",
       "      <td>108570</td>\n",
       "      <td>Malware</td>\n",
       "      <td>t3_16uqozg</td>\n",
       "      <td>2023-09-28</td>\n",
       "      <td>Exploring ScamClub Payloads via Deobfuscation Using Abstract Syntax Trees</td>\n",
       "      <td></td>\n",
       "      <td>3095</td>\n",
       "      <td>obfus</td>\n",
       "    </tr>\n",
       "    <tr>\n",
       "      <th>11</th>\n",
       "      <td>108571</td>\n",
       "      <td>ReverseEngineering</td>\n",
       "      <td>t3_16uqfj0</td>\n",
       "      <td>2023-09-28</td>\n",
       "      <td>Exploring ScamClub Payloads via Deobfuscation Using Abstract Syntax Trees</td>\n",
       "      <td></td>\n",
       "      <td>3096</td>\n",
       "      <td>obfus</td>\n",
       "    </tr>\n",
       "    <tr>\n",
       "      <th>12</th>\n",
       "      <td>108572</td>\n",
       "      <td>netsec</td>\n",
       "      <td>t3_16uqeyg</td>\n",
       "      <td>2023-09-28</td>\n",
       "      <td>Exploring ScamClub Payloads via Deobfuscation Using Abstract Syntax Trees</td>\n",
       "      <td></td>\n",
       "      <td>3097</td>\n",
       "      <td>obfus</td>\n",
       "    </tr>\n",
       "  </tbody>\n",
       "</table>\n",
       "</div>"
      ],
      "text/plain": [
       "     index           subreddit    username        date  \\\n",
       "71  107494           AskNetsec  t3_16vci58  2023-09-29   \n",
       "75  107494           AskNetsec  t3_16vci58  2023-09-29   \n",
       "10  108570             Malware  t3_16uqozg  2023-09-28   \n",
       "11  108571  ReverseEngineering  t3_16uqfj0  2023-09-28   \n",
       "12  108572              netsec  t3_16uqeyg  2023-09-28   \n",
       "\n",
       "                                                                        title  \\\n",
       "71                                  Webcam access from Shell for presentation   \n",
       "75                                  Webcam access from Shell for presentation   \n",
       "10  Exploring ScamClub Payloads via Deobfuscation Using Abstract Syntax Trees   \n",
       "11  Exploring ScamClub Payloads via Deobfuscation Using Abstract Syntax Trees   \n",
       "12  Exploring ScamClub Payloads via Deobfuscation Using Abstract Syntax Trees   \n",
       "\n",
       "                                                                                                                                                                                                                                                                                                                                                                                                                                                                                                                                                                                                                                                                                                                                                                                                                                                                                                                                                                                                                                       text  \\\n",
       "71  Hey all,\\r  \\n\\r  \\nThanks for taking the time to read this post.\\r  \\n\\r  \\nI've been tasked with setting up a sort of demo to get young people interested in infosec.\\r  \\n\\r  \\nI've worked in the industry for years but my actual pentesting experience is about a 0.\\r  \\n\\r  \\nMy leadership wants me to show how one can take over a computer and use it's webcam. I've got an entire AD network setup with SMB signing disabled so we can do all the standard LLMNR, NTLM relay, shells, Kerboroasting, cracking, etc.\\r  \\n\\r  \\nBut this webcam thing has got me flummoxed. Getting a shell with psexec or smbexec is no problem. For some reason a meterpreter shell is near impossible even with a/v disabled via gpo. \\r  \\n\\r  \\nMy plan was to place ffmpeg.exe on a share using smbclient then execute the command to take a picture via a shell. But it simply doesn't work. I believe it's due to psexec running as NT Authority\\\\system. I assume that account has no access to the webcam. I could be wrong.\\r ...   \n",
       "75  Hey all,\\r  \\n\\r  \\nThanks for taking the time to read this post.\\r  \\n\\r  \\nI've been tasked with setting up a sort of demo to get young people interested in infosec.\\r  \\n\\r  \\nI've worked in the industry for years but my actual pentesting experience is about a 0.\\r  \\n\\r  \\nMy leadership wants me to show how one can take over a computer and use it's webcam. I've got an entire AD network setup with SMB signing disabled so we can do all the standard LLMNR, NTLM relay, shells, Kerboroasting, cracking, etc.\\r  \\n\\r  \\nBut this webcam thing has got me flummoxed. Getting a shell with psexec or smbexec is no problem. For some reason a meterpreter shell is near impossible even with a/v disabled via gpo. \\r  \\n\\r  \\nMy plan was to place ffmpeg.exe on a share using smbclient then execute the command to take a picture via a shell. But it simply doesn't work. I believe it's due to psexec running as NT Authority\\\\system. I assume that account has no access to the webcam. I could be wrong.\\r ...   \n",
       "10                                                                                                                                                                                                                                                                                                                                                                                                                                                                                                                                                                                                                                                                                                                                                                                                                                                                                                                                                                                                                                            \n",
       "11                                                                                                                                                                                                                                                                                                                                                                                                                                                                                                                                                                                                                                                                                                                                                                                                                                                                                                                                                                                                                                            \n",
       "12                                                                                                                                                                                                                                                                                                                                                                                                                                                                                                                                                                                                                                                                                                                                                                                                                                                                                                                                                                                                                                            \n",
       "\n",
       "    post_index         word  \n",
       "71        2019  meterpreter  \n",
       "75        2019  meterpreter  \n",
       "10        3095        obfus  \n",
       "11        3096        obfus  \n",
       "12        3097        obfus  "
      ]
     },
     "execution_count": 36,
     "metadata": {},
     "output_type": "execute_result"
    }
   ],
   "source": [
    "merged_matches = pd.merge(selected_rows, matches, left_index=True, right_on='post_index')\n",
    "merged_matches.head()\n"
   ]
  },
  {
   "cell_type": "code",
   "execution_count": null,
   "id": "4a8ea30e",
   "metadata": {},
   "outputs": [],
   "source": [
    "merged_matches['keyword type'] = 'malware'"
   ]
  },
  {
   "cell_type": "code",
   "execution_count": null,
   "id": "18df3680",
   "metadata": {},
   "outputs": [],
   "source": [
    "merged_matches.to_csv(r'C:\\Users\\leona\\OneDrive\\Desktop\\Tesi\\Pipeline\\Datasets\\Pipeline\\SocialNetworksPosts\\Reddit\\Posts_filteredby_Malwares.csv')"
   ]
  },
  {
   "cell_type": "markdown",
   "id": "044f7c05",
   "metadata": {},
   "source": [
    "### Malwares Types names searching"
   ]
  },
  {
   "cell_type": "code",
   "execution_count": null,
   "id": "8b8e9e3b",
   "metadata": {},
   "outputs": [
    {
     "name": "stderr",
     "output_type": "stream",
     "text": [
      "Processing words:   0%|          | 0/11 [00:00<?, ?it/s]"
     ]
    },
    {
     "name": "stdout",
     "output_type": "stream",
     "text": [
      "Now: trojan \n"
     ]
    },
    {
     "name": "stderr",
     "output_type": "stream",
     "text": [
      "Processing posts: 100%|██████████| 71219/71219 [27:29<00:00, 43.17it/s]\n",
      "Processing words:   9%|▉         | 1/11 [27:29<4:34:56, 1649.63s/it]"
     ]
    },
    {
     "name": "stdout",
     "output_type": "stream",
     "text": [
      "Now: rootkit \n"
     ]
    },
    {
     "name": "stderr",
     "output_type": "stream",
     "text": [
      "Processing posts: 100%|██████████| 71219/71219 [26:38<00:00, 44.57it/s]\n",
      "Processing words:  18%|█▊        | 2/11 [54:07<4:02:53, 1619.32s/it]"
     ]
    },
    {
     "name": "stdout",
     "output_type": "stream",
     "text": [
      "Now: botnet \n"
     ]
    },
    {
     "name": "stderr",
     "output_type": "stream",
     "text": [
      "Processing posts: 100%|██████████| 71219/71219 [26:36<00:00, 44.61it/s]\n",
      "Processing words:  27%|██▋       | 3/11 [1:20:44<3:34:30, 1608.83s/it]"
     ]
    },
    {
     "name": "stdout",
     "output_type": "stream",
     "text": [
      "Now: dropper \n"
     ]
    },
    {
     "name": "stderr",
     "output_type": "stream",
     "text": [
      "Processing posts: 100%|██████████| 71219/71219 [26:33<00:00, 44.69it/s]\n",
      "Processing words:  36%|███▋      | 4/11 [1:47:17<3:07:00, 1602.86s/it]"
     ]
    },
    {
     "name": "stdout",
     "output_type": "stream",
     "text": [
      "Now: worm \n"
     ]
    },
    {
     "name": "stderr",
     "output_type": "stream",
     "text": [
      "Processing posts: 100%|██████████| 71219/71219 [26:33<00:00, 44.69it/s]\n",
      "Processing words:  45%|████▌     | 5/11 [2:13:51<2:39:57, 1599.51s/it]"
     ]
    },
    {
     "name": "stdout",
     "output_type": "stream",
     "text": [
      "Now: keylogger \n"
     ]
    },
    {
     "name": "stderr",
     "output_type": "stream",
     "text": [
      "Processing posts: 100%|██████████| 71219/71219 [26:32<00:00, 44.73it/s]\n",
      "Processing words:  55%|█████▍    | 6/11 [2:40:23<2:13:05, 1597.00s/it]"
     ]
    },
    {
     "name": "stdout",
     "output_type": "stream",
     "text": [
      "Now: spyware \n"
     ]
    },
    {
     "name": "stderr",
     "output_type": "stream",
     "text": [
      "Processing posts: 100%|██████████| 71219/71219 [27:46<00:00, 42.75it/s]\n",
      "Processing words:  64%|██████▎   | 7/11 [3:08:09<1:47:58, 1619.58s/it]"
     ]
    },
    {
     "name": "stdout",
     "output_type": "stream",
     "text": [
      "Now: backdoor \n"
     ]
    },
    {
     "name": "stderr",
     "output_type": "stream",
     "text": [
      "Processing posts: 100%|██████████| 71219/71219 [30:53<00:00, 38.42it/s]\n",
      "Processing words:  73%|███████▎  | 8/11 [3:39:03<1:24:42, 1694.09s/it]"
     ]
    },
    {
     "name": "stdout",
     "output_type": "stream",
     "text": [
      "Now: adware \n"
     ]
    },
    {
     "name": "stderr",
     "output_type": "stream",
     "text": [
      "Processing posts: 100%|██████████| 71219/71219 [28:40<00:00, 41.40it/s]\n",
      "Processing words:  82%|████████▏ | 9/11 [4:07:43<56:44, 1702.25s/it]  "
     ]
    },
    {
     "name": "stdout",
     "output_type": "stream",
     "text": [
      "Now: downloader \n"
     ]
    },
    {
     "name": "stderr",
     "output_type": "stream",
     "text": [
      "Processing posts: 100%|██████████| 71219/71219 [28:06<00:00, 42.22it/s]\n",
      "Processing words:  91%|█████████ | 10/11 [4:35:50<28:17, 1697.52s/it]"
     ]
    },
    {
     "name": "stdout",
     "output_type": "stream",
     "text": [
      "Now: ransomware \n"
     ]
    },
    {
     "name": "stderr",
     "output_type": "stream",
     "text": [
      "Processing posts: 100%|██████████| 71219/71219 [26:29<00:00, 44.79it/s]\n",
      "Processing words: 100%|██████████| 11/11 [5:02:20<00:00, 1649.12s/it]\n"
     ]
    }
   ],
   "source": [
    "malware_types_matches = pd.DataFrame()\n",
    "\n",
    "malware_types_matches = loop_search( all_malware_types_list , selected_rows)"
   ]
  },
  {
   "cell_type": "code",
   "execution_count": null,
   "id": "c063305f",
   "metadata": {},
   "outputs": [
    {
     "data": {
      "text/html": [
       "<div>\n",
       "<style scoped>\n",
       "    .dataframe tbody tr th:only-of-type {\n",
       "        vertical-align: middle;\n",
       "    }\n",
       "\n",
       "    .dataframe tbody tr th {\n",
       "        vertical-align: top;\n",
       "    }\n",
       "\n",
       "    .dataframe thead th {\n",
       "        text-align: right;\n",
       "    }\n",
       "</style>\n",
       "<table border=\"1\" class=\"dataframe\">\n",
       "  <thead>\n",
       "    <tr style=\"text-align: right;\">\n",
       "      <th></th>\n",
       "      <th>post_index</th>\n",
       "      <th>word</th>\n",
       "    </tr>\n",
       "  </thead>\n",
       "  <tbody>\n",
       "    <tr>\n",
       "      <th>0</th>\n",
       "      <td>712</td>\n",
       "      <td>trojan</td>\n",
       "    </tr>\n",
       "    <tr>\n",
       "      <th>1</th>\n",
       "      <td>797</td>\n",
       "      <td>trojan</td>\n",
       "    </tr>\n",
       "    <tr>\n",
       "      <th>2</th>\n",
       "      <td>880</td>\n",
       "      <td>trojan</td>\n",
       "    </tr>\n",
       "    <tr>\n",
       "      <th>3</th>\n",
       "      <td>2706</td>\n",
       "      <td>trojan</td>\n",
       "    </tr>\n",
       "    <tr>\n",
       "      <th>4</th>\n",
       "      <td>5982</td>\n",
       "      <td>trojan</td>\n",
       "    </tr>\n",
       "  </tbody>\n",
       "</table>\n",
       "</div>"
      ],
      "text/plain": [
       "   post_index    word\n",
       "0         712  trojan\n",
       "1         797  trojan\n",
       "2         880  trojan\n",
       "3        2706  trojan\n",
       "4        5982  trojan"
      ]
     },
     "execution_count": 39,
     "metadata": {},
     "output_type": "execute_result"
    }
   ],
   "source": [
    "malware_types_matches.head()"
   ]
  },
  {
   "cell_type": "code",
   "execution_count": null,
   "id": "97b378ef",
   "metadata": {},
   "outputs": [
    {
     "data": {
      "text/html": [
       "<div>\n",
       "<style scoped>\n",
       "    .dataframe tbody tr th:only-of-type {\n",
       "        vertical-align: middle;\n",
       "    }\n",
       "\n",
       "    .dataframe tbody tr th {\n",
       "        vertical-align: top;\n",
       "    }\n",
       "\n",
       "    .dataframe thead th {\n",
       "        text-align: right;\n",
       "    }\n",
       "</style>\n",
       "<table border=\"1\" class=\"dataframe\">\n",
       "  <thead>\n",
       "    <tr style=\"text-align: right;\">\n",
       "      <th></th>\n",
       "      <th>index</th>\n",
       "      <th>subreddit</th>\n",
       "      <th>username</th>\n",
       "      <th>date</th>\n",
       "      <th>title</th>\n",
       "      <th>text</th>\n",
       "      <th>post_index</th>\n",
       "      <th>word</th>\n",
       "    </tr>\n",
       "  </thead>\n",
       "  <tbody>\n",
       "    <tr>\n",
       "      <th>179</th>\n",
       "      <td>105518</td>\n",
       "      <td>AndroidQuestions</td>\n",
       "      <td>t3_16whytb</td>\n",
       "      <td>2023-09-30</td>\n",
       "      <td>How do i figure out why my android is losing power so quickly?</td>\n",
       "      <td>My android went from 16% to 12% in 20 minutes when i wasnt using it at all. When i usually use it normally when playing games or watching videos it would take 25 minutes to use 4% of my battery and when i check battery usage the combined total of all the apps that used the battery during the day combine to 1.2% usage and it only showed apps that arent like service apps or background processes. So how do i figure out what other apps were using so much. Im worried it could be spyware.</td>\n",
       "      <td>43</td>\n",
       "      <td>spyware</td>\n",
       "    </tr>\n",
       "    <tr>\n",
       "      <th>296</th>\n",
       "      <td>105711</td>\n",
       "      <td>privacy</td>\n",
       "      <td>t3_16wd983</td>\n",
       "      <td>2023-09-30</td>\n",
       "      <td>Anyone heard of \"UP SUITE\" for privacy on android phones? Would you suggest this or totally different OS for true privacy protection?</td>\n",
       "      <td>Say I'm a \"somewhat\" privacy minded person in the sense that I don't really have shit to hide, but I dont find comfort knowing that I have a \"digital ID\" on my regular android OS and I don't like knowing all these big companies sell all my data. I put most of my apps like Instagram, Snap, FB and intrusive apps in a sepetate work profile so they can't gather data from the rest of my phone. \\n\\nWell I've known about different \"android OS\" that are supposed to be way more privacy focused and less intrusive when it comes to google trackers, backdoors, bloatware you cant delete, etc for a while. Im not super knowledgable about them and don't want a super difficult OS, I just want a phone that I know all my data isnt being sold to 3rd parties. \\n\\nI recently also found out about this \"Up Suite (https://unplugged.com)\"software from a guy on a podcast saying that the dude who created this software and their new phones was basically the same dude who created the Pegasus software used by Gov...</td>\n",
       "      <td>236</td>\n",
       "      <td>backdoor</td>\n",
       "    </tr>\n",
       "    <tr>\n",
       "      <th>0</th>\n",
       "      <td>106187</td>\n",
       "      <td>techsupport</td>\n",
       "      <td>t3_16w490m</td>\n",
       "      <td>2023-09-30</td>\n",
       "      <td>found trojan</td>\n",
       "      <td>Just booted the pc too see windows defender quarantining ''Trojan:Win32/Malgent!MTB'' no suprise, im kinda stupid  \\nIts my first time dealing with a trojan and i feel like im gonna puke every second. anyway what am i supposed to do now? Right now im working on changing all passwords and also told my mom that her devices could be compromised to, so she should better change the most important .....  \\nI did several scans with windows defender afterwards and it could not detect new dangers, btw i run windows 10.  \\nI also scanned the contaminated file: https://www.virustotal.com/gui/file/58976ff975fa59bca1c9d42ee1fafaf250adc8a748baa9f88fccbd6964d3d068/behavior  \\nSo what should i do know? my plan was to change all passwords and reset my Pc to factory settings. will i be save afterwards? Also how to know if my network is compromised and could other devices be affected in any way? if so what are the next steps to secure it?</td>\n",
       "      <td>712</td>\n",
       "      <td>trojan</td>\n",
       "    </tr>\n",
       "    <tr>\n",
       "      <th>1</th>\n",
       "      <td>106272</td>\n",
       "      <td>firefox</td>\n",
       "      <td>t3_16w2qc2</td>\n",
       "      <td>2023-09-30</td>\n",
       "      <td>Anyone else got an extension flagged as trojan? Should I be worried?</td>\n",
       "      <td></td>\n",
       "      <td>797</td>\n",
       "      <td>trojan</td>\n",
       "    </tr>\n",
       "    <tr>\n",
       "      <th>2</th>\n",
       "      <td>106355</td>\n",
       "      <td>techsupport</td>\n",
       "      <td>t3_16w1hz0</td>\n",
       "      <td>2023-09-30</td>\n",
       "      <td>Detected Trojan:Win32/Malgent!MTB by Windows defender. What should I do?</td>\n",
       "      <td>It happened when I opened TOR. Should I be worried. \\n\\nattaching a screen shot: [https://imgur.com/a/e7j0GKt](https://imgur.com/a/e7j0GKt)\\n\\n&amp;#x200B;</td>\n",
       "      <td>880</td>\n",
       "      <td>trojan</td>\n",
       "    </tr>\n",
       "  </tbody>\n",
       "</table>\n",
       "</div>"
      ],
      "text/plain": [
       "      index         subreddit    username        date  \\\n",
       "179  105518  AndroidQuestions  t3_16whytb  2023-09-30   \n",
       "296  105711           privacy  t3_16wd983  2023-09-30   \n",
       "0    106187       techsupport  t3_16w490m  2023-09-30   \n",
       "1    106272           firefox  t3_16w2qc2  2023-09-30   \n",
       "2    106355       techsupport  t3_16w1hz0  2023-09-30   \n",
       "\n",
       "                                                                                                                                     title  \\\n",
       "179                                                                         How do i figure out why my android is losing power so quickly?   \n",
       "296  Anyone heard of \"UP SUITE\" for privacy on android phones? Would you suggest this or totally different OS for true privacy protection?   \n",
       "0                                                                                                                             found trojan   \n",
       "1                                                                     Anyone else got an extension flagged as trojan? Should I be worried?   \n",
       "2                                                                 Detected Trojan:Win32/Malgent!MTB by Windows defender. What should I do?   \n",
       "\n",
       "                                                                                                                                                                                                                                                                                                                                                                                                                                                                                                                                                                                                                                                                                                                                                                                                                                                                                                                                                                                                                                        text  \\\n",
       "179                                                                                                                                                                                                                                                                                                                                                                                                                                                                                                                                  My android went from 16% to 12% in 20 minutes when i wasnt using it at all. When i usually use it normally when playing games or watching videos it would take 25 minutes to use 4% of my battery and when i check battery usage the combined total of all the apps that used the battery during the day combine to 1.2% usage and it only showed apps that arent like service apps or background processes. So how do i figure out what other apps were using so much. Im worried it could be spyware.   \n",
       "296  Say I'm a \"somewhat\" privacy minded person in the sense that I don't really have shit to hide, but I dont find comfort knowing that I have a \"digital ID\" on my regular android OS and I don't like knowing all these big companies sell all my data. I put most of my apps like Instagram, Snap, FB and intrusive apps in a sepetate work profile so they can't gather data from the rest of my phone. \\n\\nWell I've known about different \"android OS\" that are supposed to be way more privacy focused and less intrusive when it comes to google trackers, backdoors, bloatware you cant delete, etc for a while. Im not super knowledgable about them and don't want a super difficult OS, I just want a phone that I know all my data isnt being sold to 3rd parties. \\n\\nI recently also found out about this \"Up Suite (https://unplugged.com)\"software from a guy on a podcast saying that the dude who created this software and their new phones was basically the same dude who created the Pegasus software used by Gov...   \n",
       "0                                                                      Just booted the pc too see windows defender quarantining ''Trojan:Win32/Malgent!MTB'' no suprise, im kinda stupid  \\nIts my first time dealing with a trojan and i feel like im gonna puke every second. anyway what am i supposed to do now? Right now im working on changing all passwords and also told my mom that her devices could be compromised to, so she should better change the most important .....  \\nI did several scans with windows defender afterwards and it could not detect new dangers, btw i run windows 10.  \\nI also scanned the contaminated file: https://www.virustotal.com/gui/file/58976ff975fa59bca1c9d42ee1fafaf250adc8a748baa9f88fccbd6964d3d068/behavior  \\nSo what should i do know? my plan was to change all passwords and reset my Pc to factory settings. will i be save afterwards? Also how to know if my network is compromised and could other devices be affected in any way? if so what are the next steps to secure it?   \n",
       "1                                                                                                                                                                                                                                                                                                                                                                                                                                                                                                                                                                                                                                                                                                                                                                                                                                                                                                                                                                                                                                              \n",
       "2                                                                                                                                                                                                                                                                                                                                                                                                                                                                                                                                                                                                                                                                                                                                                                                                                                                                                    It happened when I opened TOR. Should I be worried. \\n\\nattaching a screen shot: [https://imgur.com/a/e7j0GKt](https://imgur.com/a/e7j0GKt)\\n\\n&#x200B;   \n",
       "\n",
       "     post_index      word  \n",
       "179          43   spyware  \n",
       "296         236  backdoor  \n",
       "0           712    trojan  \n",
       "1           797    trojan  \n",
       "2           880    trojan  "
      ]
     },
     "execution_count": 40,
     "metadata": {},
     "output_type": "execute_result"
    }
   ],
   "source": [
    "merged_malware_types_matches = pd.merge(selected_rows, malware_types_matches, left_index=True, right_on='post_index')\n",
    "merged_malware_types_matches.head()\n"
   ]
  },
  {
   "cell_type": "code",
   "execution_count": null,
   "id": "bafd2099",
   "metadata": {},
   "outputs": [],
   "source": [
    "merged_malware_types_matches['keyword type'] = 'malware type'"
   ]
  },
  {
   "cell_type": "code",
   "execution_count": null,
   "id": "ad849baa",
   "metadata": {},
   "outputs": [],
   "source": [
    "merged_malware_types_matches.to_csv(r'C:\\Users\\leona\\OneDrive\\Desktop\\Tesi\\Pipeline\\Datasets\\Pipeline\\SocialNetworksPosts\\Reddit\\Posts_filteredby_MalwareType.csv')"
   ]
  },
  {
   "cell_type": "code",
   "execution_count": null,
   "id": "07395741",
   "metadata": {},
   "outputs": [],
   "source": []
  },
  {
   "cell_type": "markdown",
   "id": "65b2236f",
   "metadata": {},
   "source": [
    "### Operative System names search"
   ]
  },
  {
   "cell_type": "code",
   "execution_count": null,
   "id": "a528e057",
   "metadata": {},
   "outputs": [
    {
     "name": "stderr",
     "output_type": "stream",
     "text": [
      "Processing words:   0%|          | 0/3 [00:00<?, ?it/s]"
     ]
    },
    {
     "name": "stdout",
     "output_type": "stream",
     "text": [
      "Now: email attachment \n"
     ]
    },
    {
     "name": "stderr",
     "output_type": "stream",
     "text": [
      "Processing posts: 100%|██████████| 71219/71219 [00:19<00:00, 3726.27it/s]\n",
      "Processing words:  33%|███▎      | 1/3 [00:19<00:38, 19.12s/it]"
     ]
    },
    {
     "name": "stdout",
     "output_type": "stream",
     "text": [
      "Now: web download \n"
     ]
    },
    {
     "name": "stderr",
     "output_type": "stream",
     "text": [
      "Processing posts: 100%|██████████| 71219/71219 [00:18<00:00, 3845.67it/s]\n",
      "Processing words:  67%|██████▋   | 2/3 [00:37<00:18, 18.77s/it]"
     ]
    },
    {
     "name": "stdout",
     "output_type": "stream",
     "text": [
      "Now: email link \n"
     ]
    },
    {
     "name": "stderr",
     "output_type": "stream",
     "text": [
      "Processing posts: 100%|██████████| 71219/71219 [00:20<00:00, 3498.80it/s]\n",
      "Processing words: 100%|██████████| 3/3 [00:58<00:00, 19.34s/it]\n"
     ]
    }
   ],
   "source": [
    "words_matches = pd.DataFrame()\n",
    "\n",
    "words_matches = loop_search( all_delivery_method_list , selected_rows)"
   ]
  },
  {
   "cell_type": "code",
   "execution_count": null,
   "id": "86b7b0a3",
   "metadata": {},
   "outputs": [
    {
     "data": {
      "text/html": [
       "<div>\n",
       "<style scoped>\n",
       "    .dataframe tbody tr th:only-of-type {\n",
       "        vertical-align: middle;\n",
       "    }\n",
       "\n",
       "    .dataframe tbody tr th {\n",
       "        vertical-align: top;\n",
       "    }\n",
       "\n",
       "    .dataframe thead th {\n",
       "        text-align: right;\n",
       "    }\n",
       "</style>\n",
       "<table border=\"1\" class=\"dataframe\">\n",
       "  <thead>\n",
       "    <tr style=\"text-align: right;\">\n",
       "      <th></th>\n",
       "      <th>post_index</th>\n",
       "      <th>word</th>\n",
       "    </tr>\n",
       "  </thead>\n",
       "  <tbody>\n",
       "    <tr>\n",
       "      <th>0</th>\n",
       "      <td>8090</td>\n",
       "      <td>email attachment</td>\n",
       "    </tr>\n",
       "    <tr>\n",
       "      <th>1</th>\n",
       "      <td>34822</td>\n",
       "      <td>email attachment</td>\n",
       "    </tr>\n",
       "    <tr>\n",
       "      <th>2</th>\n",
       "      <td>47311</td>\n",
       "      <td>email attachment</td>\n",
       "    </tr>\n",
       "    <tr>\n",
       "      <th>3</th>\n",
       "      <td>64327</td>\n",
       "      <td>email attachment</td>\n",
       "    </tr>\n",
       "    <tr>\n",
       "      <th>4</th>\n",
       "      <td>27520</td>\n",
       "      <td>web download</td>\n",
       "    </tr>\n",
       "  </tbody>\n",
       "</table>\n",
       "</div>"
      ],
      "text/plain": [
       "   post_index              word\n",
       "0        8090  email attachment\n",
       "1       34822  email attachment\n",
       "2       47311  email attachment\n",
       "3       64327  email attachment\n",
       "4       27520      web download"
      ]
     },
     "execution_count": 24,
     "metadata": {},
     "output_type": "execute_result"
    }
   ],
   "source": [
    "words_matches.head()"
   ]
  },
  {
   "cell_type": "code",
   "execution_count": null,
   "id": "f682f764",
   "metadata": {},
   "outputs": [
    {
     "data": {
      "text/html": [
       "<div>\n",
       "<style scoped>\n",
       "    .dataframe tbody tr th:only-of-type {\n",
       "        vertical-align: middle;\n",
       "    }\n",
       "\n",
       "    .dataframe tbody tr th {\n",
       "        vertical-align: top;\n",
       "    }\n",
       "\n",
       "    .dataframe thead th {\n",
       "        text-align: right;\n",
       "    }\n",
       "</style>\n",
       "<table border=\"1\" class=\"dataframe\">\n",
       "  <thead>\n",
       "    <tr style=\"text-align: right;\">\n",
       "      <th></th>\n",
       "      <th>index</th>\n",
       "      <th>subreddit</th>\n",
       "      <th>username</th>\n",
       "      <th>date</th>\n",
       "      <th>title</th>\n",
       "      <th>text</th>\n",
       "      <th>post_index</th>\n",
       "      <th>word</th>\n",
       "    </tr>\n",
       "  </thead>\n",
       "  <tbody>\n",
       "    <tr>\n",
       "      <th>5</th>\n",
       "      <td>108347</td>\n",
       "      <td>cybersecurity</td>\n",
       "      <td>t3_16uva85</td>\n",
       "      <td>2023-09-29</td>\n",
       "      <td>QR Codes Phishing Emails</td>\n",
       "      <td>Hello,\\n\\nLately, our business has been the target of a unique phishing campaign. We've received a deluge of emails containing embedded images with QR codes. \\n\\nWhat's interesting is that the redirection URL within QR code carries a malicious URL with a Base64 string at the end. When we decode the Base64 string, it translates to our employees' email addresses.\\n\\nWe have good email security set up and our employees have been diligent in not interacting with these emails through our robust security awareness and training.\\n\\n Upon inspecting these QR codes in a sandboxed environment, we've made a few observations:\\n\\n1. Some URLs direct us to a site impersonating Microsoft O365, presumably to harvest login details or other sensitive info.\\n2. Surprisingly, some of the URLs lead to seemingly random pages that don't appear to contain any malware or malicious scripts.\\n\\nGiven this, I have a few questions that I hope some of you might be able to shed light on:\\n\\n1. How might the att...</td>\n",
       "      <td>2872</td>\n",
       "      <td>email link</td>\n",
       "    </tr>\n",
       "    <tr>\n",
       "      <th>0</th>\n",
       "      <td>113565</td>\n",
       "      <td>cybersecurity</td>\n",
       "      <td>t3_16s166y</td>\n",
       "      <td>2023-09-25</td>\n",
       "      <td>Are you blocking HTML file attachments?</td>\n",
       "      <td>On 3 March 2022, Microsoft announced that the default behavior of Office applications on Windows will be changed to block macros in files from the internet (such as email attachment). Threat actors have pivoted to other techniques such as HTML smuggling via HTML attachments. Is your org blocking HTML attachments at the mail gateway ?\\n\\n[View Poll](https://www.reddit.com/poll/16s166y)</td>\n",
       "      <td>8090</td>\n",
       "      <td>email attachment</td>\n",
       "    </tr>\n",
       "    <tr>\n",
       "      <th>6</th>\n",
       "      <td>115241</td>\n",
       "      <td>Scams</td>\n",
       "      <td>t3_16r076f</td>\n",
       "      <td>2023-09-24</td>\n",
       "      <td>Wells Fargo phishing email</td>\n",
       "      <td>I received an email on my work account (that I never give out), and it had some odd addresses when moused over.  It was from wellsfargo.secure-bank-alerts .com which seemed entirely non-legit.  Any links in the email when moused over had some insanely long email link, which when checked online, said they were registered out of Ireland and a funny one was that they said to call the phone number below if I had questions...and there was no phone number in the email.\\n\\nI never clicked on any links (for obvious reasons), but just wanted to make sure this was a big ol' scam.</td>\n",
       "      <td>9766</td>\n",
       "      <td>email link</td>\n",
       "    </tr>\n",
       "    <tr>\n",
       "      <th>7</th>\n",
       "      <td>117786</td>\n",
       "      <td>Scams</td>\n",
       "      <td>t3_16peenr</td>\n",
       "      <td>2023-09-22</td>\n",
       "      <td>I got a Wizzair email and it makes no sense</td>\n",
       "      <td>&amp;#x200B;\\n\\n[the email](https://preview.redd.it/r8nshsfjztpb1.png?width=3375&amp;format=png&amp;auto=webp&amp;s=53e5bbc61d7e6d8acc97dc7011d2d04a3dbbf14e)\\n\\nOkay so I woke up to this email in my inbox. I'm a software engineer so I'm pretty technically minded, but this one is just confusing.\\n\\n1. I checked my bank account, no charges from wizz\\n2. I didn't click anything in the email, I went to wizzair from my browser, went to sign in, and then clicked \"forgot password\" and typed in my email (which is info they'd already have). I did this cause I've never even heard of the site so if its fake then I didn't wanna enter any info.\\n3. I didn't get a recovery email. So I started inspecting the email links for suspicious links with the browser tools. They all go to wizzair, the site I put into the browser.\\n4. The email looks legitimate (noreply@wizzair)\\n5. My email was in a single data breach according to haveibeenpwned (jefit in 2020)\\n\\nSo.. what is the aim here? It screams \"phishing email\". Be...</td>\n",
       "      <td>12311</td>\n",
       "      <td>email link</td>\n",
       "    </tr>\n",
       "    <tr>\n",
       "      <th>8</th>\n",
       "      <td>119600</td>\n",
       "      <td>techsupport</td>\n",
       "      <td>t3_16odh4o</td>\n",
       "      <td>2023-09-21</td>\n",
       "      <td>can someone help me figure this out??</td>\n",
       "      <td>I'm not sure it belongs here but the playstore won't let me log into my email and it automatically has an email linked to it which I have never used and deleted a while back. so what do I do cause it won't let me change the email to log in</td>\n",
       "      <td>14125</td>\n",
       "      <td>email link</td>\n",
       "    </tr>\n",
       "  </tbody>\n",
       "</table>\n",
       "</div>"
      ],
      "text/plain": [
       "    index      subreddit    username        date  \\\n",
       "5  108347  cybersecurity  t3_16uva85  2023-09-29   \n",
       "0  113565  cybersecurity  t3_16s166y  2023-09-25   \n",
       "6  115241          Scams  t3_16r076f  2023-09-24   \n",
       "7  117786          Scams  t3_16peenr  2023-09-22   \n",
       "8  119600    techsupport  t3_16odh4o  2023-09-21   \n",
       "\n",
       "                                         title  \\\n",
       "5                     QR Codes Phishing Emails   \n",
       "0      Are you blocking HTML file attachments?   \n",
       "6                   Wells Fargo phishing email   \n",
       "7  I got a Wizzair email and it makes no sense   \n",
       "8        can someone help me figure this out??   \n",
       "\n",
       "                                                                                                                                                                                                                                                                                                                                                                                                                                                                                                                                                                                                                                                                                                                                                                                                                                                                                                                                                                                                                                      text  \\\n",
       "5   Hello,\\n\\nLately, our business has been the target of a unique phishing campaign. We've received a deluge of emails containing embedded images with QR codes. \\n\\nWhat's interesting is that the redirection URL within QR code carries a malicious URL with a Base64 string at the end. When we decode the Base64 string, it translates to our employees' email addresses.\\n\\nWe have good email security set up and our employees have been diligent in not interacting with these emails through our robust security awareness and training.\\n\\n Upon inspecting these QR codes in a sandboxed environment, we've made a few observations:\\n\\n1. Some URLs direct us to a site impersonating Microsoft O365, presumably to harvest login details or other sensitive info.\\n2. Surprisingly, some of the URLs lead to seemingly random pages that don't appear to contain any malware or malicious scripts.\\n\\nGiven this, I have a few questions that I hope some of you might be able to shed light on:\\n\\n1. How might the att...   \n",
       "0                                                                                                                                                                                                                                                                                                                                                                                                                                                                                                                                                                                                                                      On 3 March 2022, Microsoft announced that the default behavior of Office applications on Windows will be changed to block macros in files from the internet (such as email attachment). Threat actors have pivoted to other techniques such as HTML smuggling via HTML attachments. Is your org blocking HTML attachments at the mail gateway ?\\n\\n[View Poll](https://www.reddit.com/poll/16s166y)   \n",
       "6                                                                                                                                                                                                                                                                                                                                                                                                                                         I received an email on my work account (that I never give out), and it had some odd addresses when moused over.  It was from wellsfargo.secure-bank-alerts .com which seemed entirely non-legit.  Any links in the email when moused over had some insanely long email link, which when checked online, said they were registered out of Ireland and a funny one was that they said to call the phone number below if I had questions...and there was no phone number in the email.\\n\\nI never clicked on any links (for obvious reasons), but just wanted to make sure this was a big ol' scam.   \n",
       "7  &#x200B;\\n\\n[the email](https://preview.redd.it/r8nshsfjztpb1.png?width=3375&format=png&auto=webp&s=53e5bbc61d7e6d8acc97dc7011d2d04a3dbbf14e)\\n\\nOkay so I woke up to this email in my inbox. I'm a software engineer so I'm pretty technically minded, but this one is just confusing.\\n\\n1. I checked my bank account, no charges from wizz\\n2. I didn't click anything in the email, I went to wizzair from my browser, went to sign in, and then clicked \"forgot password\" and typed in my email (which is info they'd already have). I did this cause I've never even heard of the site so if its fake then I didn't wanna enter any info.\\n3. I didn't get a recovery email. So I started inspecting the email links for suspicious links with the browser tools. They all go to wizzair, the site I put into the browser.\\n4. The email looks legitimate (noreply@wizzair)\\n5. My email was in a single data breach according to haveibeenpwned (jefit in 2020)\\n\\nSo.. what is the aim here? It screams \"phishing email\". Be...   \n",
       "8                                                                                                                                                                                                                                                                                                                                                                                                                                                                                                                                                                                                                                                                                                                                                                                          I'm not sure it belongs here but the playstore won't let me log into my email and it automatically has an email linked to it which I have never used and deleted a while back. so what do I do cause it won't let me change the email to log in   \n",
       "\n",
       "   post_index              word  \n",
       "5        2872        email link  \n",
       "0        8090  email attachment  \n",
       "6        9766        email link  \n",
       "7       12311        email link  \n",
       "8       14125        email link  "
      ]
     },
     "execution_count": 25,
     "metadata": {},
     "output_type": "execute_result"
    }
   ],
   "source": [
    "merged_words_matches_matches = pd.merge(selected_rows, words_matches, left_index=True, right_on='post_index')\n",
    "merged_words_matches_matches.head()\n"
   ]
  },
  {
   "cell_type": "code",
   "execution_count": null,
   "id": "c72a2cb2",
   "metadata": {},
   "outputs": [],
   "source": [
    "merged_words_matches_matches['keyword type'] = 'delivery method'"
   ]
  },
  {
   "cell_type": "code",
   "execution_count": null,
   "id": "798babac",
   "metadata": {},
   "outputs": [],
   "source": [
    "merged_words_matches_matches.to_csv(r'C:\\Users\\leona\\OneDrive\\Desktop\\Tesi\\Pipeline\\Datasets\\Pipeline\\SocialNetworksPosts\\Reddit\\Posts_filteredby_DeliveryMethod.csv')"
   ]
  },
  {
   "cell_type": "code",
   "execution_count": null,
   "id": "cde71f54",
   "metadata": {},
   "outputs": [
    {
     "data": {
      "text/plain": [
       "71219"
      ]
     },
     "execution_count": 27,
     "metadata": {},
     "output_type": "execute_result"
    }
   ],
   "source": [
    "len(selected_rows)"
   ]
  },
  {
   "cell_type": "markdown",
   "id": "78543d08",
   "metadata": {},
   "source": []
  },
  {
   "cell_type": "markdown",
   "id": "18094b19",
   "metadata": {},
   "source": []
  },
  {
   "cell_type": "markdown",
   "id": "3631129a",
   "metadata": {},
   "source": [
    "\n"
   ]
  },
  {
   "cell_type": "markdown",
   "id": "69fdd2f8",
   "metadata": {},
   "source": []
  }
 ],
 "metadata": {
  "kernelspec": {
   "display_name": "Python 3 (ipykernel)",
   "language": "python",
   "name": "python3"
  },
  "language_info": {
   "codemirror_mode": {
    "name": "ipython",
    "version": 3
   },
   "file_extension": ".py",
   "mimetype": "text/x-python",
   "name": "python",
   "nbconvert_exporter": "python",
   "pygments_lexer": "ipython3",
   "version": "3.11.5"
  }
 },
 "nbformat": 4,
 "nbformat_minor": 5
}
