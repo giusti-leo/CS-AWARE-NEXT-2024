{
 "cells": [
  {
   "cell_type": "markdown",
   "id": "7c5b6581",
   "metadata": {},
   "source": [
    "# 15.1. Data Profiling - Malware Bazaar"
   ]
  },
  {
   "cell_type": "code",
   "execution_count": 1,
   "id": "d0f57648",
   "metadata": {},
   "outputs": [],
   "source": [
    "from datetime import datetime\n",
    "import os\n",
    "import time\n",
    "import pandas as pd \n",
    "import requests\n",
    "import urllib3\n",
    "import json\n",
    "import sys\n",
    "import numpy as np\n",
    "\n",
    "pd.options.display.max_colwidth = 1000\n",
    "pd.set_option('display.max_columns', None)"
   ]
  },
  {
   "cell_type": "code",
   "execution_count": 2,
   "id": "643310d1",
   "metadata": {},
   "outputs": [],
   "source": [
    "from ydata_profiling import ProfileReport"
   ]
  },
  {
   "cell_type": "markdown",
   "id": "ea7623d5",
   "metadata": {},
   "source": [
    "### Data Profiling - ENTRIES"
   ]
  },
  {
   "cell_type": "code",
   "execution_count": 3,
   "id": "6c4b1fdd",
   "metadata": {},
   "outputs": [],
   "source": [
    "path_Entries = r\"C:\\Users\\leona\\OneDrive\\Desktop\\Tesi\\Pipeline\\Datasets\\Pipeline\\DataAnalysis\\malware_bazaar\\Entries.csv\""
   ]
  },
  {
   "cell_type": "code",
   "execution_count": 4,
   "id": "919784a0",
   "metadata": {
    "scrolled": false
   },
   "outputs": [
    {
     "data": {
      "text/html": [
       "<div>\n",
       "<style scoped>\n",
       "    .dataframe tbody tr th:only-of-type {\n",
       "        vertical-align: middle;\n",
       "    }\n",
       "\n",
       "    .dataframe tbody tr th {\n",
       "        vertical-align: top;\n",
       "    }\n",
       "\n",
       "    .dataframe thead th {\n",
       "        text-align: right;\n",
       "    }\n",
       "</style>\n",
       "<table border=\"1\" class=\"dataframe\">\n",
       "  <thead>\n",
       "    <tr style=\"text-align: right;\">\n",
       "      <th></th>\n",
       "      <th>sha1_hash</th>\n",
       "      <th>sha256_hash</th>\n",
       "      <th>md5_hash</th>\n",
       "      <th>first_seen</th>\n",
       "      <th>last_seen</th>\n",
       "      <th>file_type</th>\n",
       "      <th>delivery_method</th>\n",
       "    </tr>\n",
       "  </thead>\n",
       "  <tbody>\n",
       "    <tr>\n",
       "      <th>0</th>\n",
       "      <td>411535c9548f86034a6a9a603de521a86a3b5466</td>\n",
       "      <td>04c53261b1220a894a02f5ffb39cdfd73f93481c0b5c8106d21c91b20205c62d</td>\n",
       "      <td>5b5a0225a2b7b9a054417662c733168a</td>\n",
       "      <td>2021-11-09 10:55:58</td>\n",
       "      <td>2021-11-09 11:47:31</td>\n",
       "      <td>exe</td>\n",
       "      <td>email_attachment</td>\n",
       "    </tr>\n",
       "    <tr>\n",
       "      <th>1</th>\n",
       "      <td>1ad9e9761fd6935c0cf5048c9615d0383baac48e</td>\n",
       "      <td>ac901bf5882f14e9e07235b8488b6479b4519addda6dbfb89147401c1e9e6e4f</td>\n",
       "      <td>da9534900ee0d11c9b30cf33152ea03c</td>\n",
       "      <td>2023-07-19 07:41:13</td>\n",
       "      <td>2023-08-25 17:28:03</td>\n",
       "      <td>exe</td>\n",
       "      <td>web_download</td>\n",
       "    </tr>\n",
       "    <tr>\n",
       "      <th>2</th>\n",
       "      <td>8ab63abfe58fb218cc001581ac0d9fe38c784157</td>\n",
       "      <td>7f514ed5e1ec262953e6252a4089531c519e95d700c5808415b0f049fc59a5f0</td>\n",
       "      <td>855232a26e8afcd0cca5f816a1919dee</td>\n",
       "      <td>2022-01-04 20:46:14</td>\n",
       "      <td>2022-02-04 16:00:00</td>\n",
       "      <td>exe</td>\n",
       "      <td>other</td>\n",
       "    </tr>\n",
       "    <tr>\n",
       "      <th>3</th>\n",
       "      <td>55cbf8dae95d350ad7e5a63b418f6cd203488f51</td>\n",
       "      <td>8b7ae9f195b075a789d6d8277d500d27754bfa3c53ecca8db7beac8ccd07884f</td>\n",
       "      <td>97d9d216f2627cb238ca6637580b1739</td>\n",
       "      <td>2022-02-09 15:18:45</td>\n",
       "      <td>NaN</td>\n",
       "      <td>exe</td>\n",
       "      <td>other</td>\n",
       "    </tr>\n",
       "    <tr>\n",
       "      <th>4</th>\n",
       "      <td>a2915c1be9e6134b7bf3ca5ca00eeb0c969bedab</td>\n",
       "      <td>6c2a2251861a6d2701814843fadac940cf4d34db9f446f0698352fd866b31739</td>\n",
       "      <td>1b09de36dfe5850d7e3fbd6b39c89a43</td>\n",
       "      <td>2021-02-11 09:58:16</td>\n",
       "      <td>NaN</td>\n",
       "      <td>exe</td>\n",
       "      <td>web_download</td>\n",
       "    </tr>\n",
       "    <tr>\n",
       "      <th>...</th>\n",
       "      <td>...</td>\n",
       "      <td>...</td>\n",
       "      <td>...</td>\n",
       "      <td>...</td>\n",
       "      <td>...</td>\n",
       "      <td>...</td>\n",
       "      <td>...</td>\n",
       "    </tr>\n",
       "    <tr>\n",
       "      <th>619</th>\n",
       "      <td>45c4340c4bfcf6145638b6a9556c42b25a07db76</td>\n",
       "      <td>eff2bda9797c042cbae44c8aed29b31b853733c0676a687dc62676752197c05d</td>\n",
       "      <td>7ebd8264cdecb8f522b51b0490a3f901</td>\n",
       "      <td>2020-11-10 07:24:48</td>\n",
       "      <td>2020-11-10 08:40:04</td>\n",
       "      <td>exe</td>\n",
       "      <td>web_download</td>\n",
       "    </tr>\n",
       "    <tr>\n",
       "      <th>620</th>\n",
       "      <td>dc040262f90dd233b35fe922ec98834eb9f44f9b</td>\n",
       "      <td>7f7670c31d0f9eb80f8839e8e063aa01d44c77712d90066323fe155480f5f69c</td>\n",
       "      <td>6d7e39aeeb28c8352269a6357f583c11</td>\n",
       "      <td>2020-12-23 18:50:37</td>\n",
       "      <td>2020-12-23 20:34:50</td>\n",
       "      <td>exe</td>\n",
       "      <td>email_attachment</td>\n",
       "    </tr>\n",
       "    <tr>\n",
       "      <th>621</th>\n",
       "      <td>b70e2199703c316465af96540561bcd002321045</td>\n",
       "      <td>0252937e5af74369499c21efe832306dccf718402b08c67b2d338061ba1e67a0</td>\n",
       "      <td>69b64df678f3e397ab18b4e3db830d96</td>\n",
       "      <td>2021-02-28 07:22:14</td>\n",
       "      <td>2021-02-28 08:59:44</td>\n",
       "      <td>exe</td>\n",
       "      <td>NaN</td>\n",
       "    </tr>\n",
       "    <tr>\n",
       "      <th>622</th>\n",
       "      <td>5d0cf2954a43c613f270ee9c6ea2e74798787725</td>\n",
       "      <td>eaf087b8fe0cf69bed568070ae460d63483525842d4c84c7750ef87c4985e622</td>\n",
       "      <td>7b25379caa4340a714b210dfd01fd5f9</td>\n",
       "      <td>2021-06-21 15:19:58</td>\n",
       "      <td>NaN</td>\n",
       "      <td>exe</td>\n",
       "      <td>other</td>\n",
       "    </tr>\n",
       "    <tr>\n",
       "      <th>623</th>\n",
       "      <td>4b3f7c7b3d8f6748505115fc291b6ac02e1b99a0</td>\n",
       "      <td>c3217157c0ab2d83047f679a073d19d296a03306072ef9636a8c8be52858347d</td>\n",
       "      <td>aff1636c687b809a106aadf5eb0e40ee</td>\n",
       "      <td>2022-07-01 09:20:37</td>\n",
       "      <td>2022-07-01 09:38:22</td>\n",
       "      <td>elf</td>\n",
       "      <td>NaN</td>\n",
       "    </tr>\n",
       "  </tbody>\n",
       "</table>\n",
       "<p>624 rows × 7 columns</p>\n",
       "</div>"
      ],
      "text/plain": [
       "                                    sha1_hash  \\\n",
       "0    411535c9548f86034a6a9a603de521a86a3b5466   \n",
       "1    1ad9e9761fd6935c0cf5048c9615d0383baac48e   \n",
       "2    8ab63abfe58fb218cc001581ac0d9fe38c784157   \n",
       "3    55cbf8dae95d350ad7e5a63b418f6cd203488f51   \n",
       "4    a2915c1be9e6134b7bf3ca5ca00eeb0c969bedab   \n",
       "..                                        ...   \n",
       "619  45c4340c4bfcf6145638b6a9556c42b25a07db76   \n",
       "620  dc040262f90dd233b35fe922ec98834eb9f44f9b   \n",
       "621  b70e2199703c316465af96540561bcd002321045   \n",
       "622  5d0cf2954a43c613f270ee9c6ea2e74798787725   \n",
       "623  4b3f7c7b3d8f6748505115fc291b6ac02e1b99a0   \n",
       "\n",
       "                                                          sha256_hash  \\\n",
       "0    04c53261b1220a894a02f5ffb39cdfd73f93481c0b5c8106d21c91b20205c62d   \n",
       "1    ac901bf5882f14e9e07235b8488b6479b4519addda6dbfb89147401c1e9e6e4f   \n",
       "2    7f514ed5e1ec262953e6252a4089531c519e95d700c5808415b0f049fc59a5f0   \n",
       "3    8b7ae9f195b075a789d6d8277d500d27754bfa3c53ecca8db7beac8ccd07884f   \n",
       "4    6c2a2251861a6d2701814843fadac940cf4d34db9f446f0698352fd866b31739   \n",
       "..                                                                ...   \n",
       "619  eff2bda9797c042cbae44c8aed29b31b853733c0676a687dc62676752197c05d   \n",
       "620  7f7670c31d0f9eb80f8839e8e063aa01d44c77712d90066323fe155480f5f69c   \n",
       "621  0252937e5af74369499c21efe832306dccf718402b08c67b2d338061ba1e67a0   \n",
       "622  eaf087b8fe0cf69bed568070ae460d63483525842d4c84c7750ef87c4985e622   \n",
       "623  c3217157c0ab2d83047f679a073d19d296a03306072ef9636a8c8be52858347d   \n",
       "\n",
       "                             md5_hash           first_seen  \\\n",
       "0    5b5a0225a2b7b9a054417662c733168a  2021-11-09 10:55:58   \n",
       "1    da9534900ee0d11c9b30cf33152ea03c  2023-07-19 07:41:13   \n",
       "2    855232a26e8afcd0cca5f816a1919dee  2022-01-04 20:46:14   \n",
       "3    97d9d216f2627cb238ca6637580b1739  2022-02-09 15:18:45   \n",
       "4    1b09de36dfe5850d7e3fbd6b39c89a43  2021-02-11 09:58:16   \n",
       "..                                ...                  ...   \n",
       "619  7ebd8264cdecb8f522b51b0490a3f901  2020-11-10 07:24:48   \n",
       "620  6d7e39aeeb28c8352269a6357f583c11  2020-12-23 18:50:37   \n",
       "621  69b64df678f3e397ab18b4e3db830d96  2021-02-28 07:22:14   \n",
       "622  7b25379caa4340a714b210dfd01fd5f9  2021-06-21 15:19:58   \n",
       "623  aff1636c687b809a106aadf5eb0e40ee  2022-07-01 09:20:37   \n",
       "\n",
       "               last_seen file_type   delivery_method  \n",
       "0    2021-11-09 11:47:31       exe  email_attachment  \n",
       "1    2023-08-25 17:28:03       exe      web_download  \n",
       "2    2022-02-04 16:00:00       exe             other  \n",
       "3                    NaN       exe             other  \n",
       "4                    NaN       exe      web_download  \n",
       "..                   ...       ...               ...  \n",
       "619  2020-11-10 08:40:04       exe      web_download  \n",
       "620  2020-12-23 20:34:50       exe  email_attachment  \n",
       "621  2021-02-28 08:59:44       exe               NaN  \n",
       "622                  NaN       exe             other  \n",
       "623  2022-07-01 09:38:22       elf               NaN  \n",
       "\n",
       "[624 rows x 7 columns]"
      ]
     },
     "execution_count": 4,
     "metadata": {},
     "output_type": "execute_result"
    }
   ],
   "source": [
    "entries = pd.read_csv(path_Entries, low_memory = False)\n",
    "entries"
   ]
  },
  {
   "cell_type": "code",
   "execution_count": 5,
   "id": "10c305d7",
   "metadata": {},
   "outputs": [
    {
     "data": {
      "text/html": [
       "<div>\n",
       "<style scoped>\n",
       "    .dataframe tbody tr th:only-of-type {\n",
       "        vertical-align: middle;\n",
       "    }\n",
       "\n",
       "    .dataframe tbody tr th {\n",
       "        vertical-align: top;\n",
       "    }\n",
       "\n",
       "    .dataframe thead th {\n",
       "        text-align: right;\n",
       "    }\n",
       "</style>\n",
       "<table border=\"1\" class=\"dataframe\">\n",
       "  <thead>\n",
       "    <tr style=\"text-align: right;\">\n",
       "      <th></th>\n",
       "      <th>sha1_hash</th>\n",
       "      <th>sha256_hash</th>\n",
       "      <th>md5_hash</th>\n",
       "    </tr>\n",
       "  </thead>\n",
       "  <tbody>\n",
       "    <tr>\n",
       "      <th>0</th>\n",
       "      <td>411535c9548f86034a6a9a603de521a86a3b5466</td>\n",
       "      <td>04c53261b1220a894a02f5ffb39cdfd73f93481c0b5c8106d21c91b20205c62d</td>\n",
       "      <td>5b5a0225a2b7b9a054417662c733168a</td>\n",
       "    </tr>\n",
       "    <tr>\n",
       "      <th>1</th>\n",
       "      <td>1ad9e9761fd6935c0cf5048c9615d0383baac48e</td>\n",
       "      <td>ac901bf5882f14e9e07235b8488b6479b4519addda6dbfb89147401c1e9e6e4f</td>\n",
       "      <td>da9534900ee0d11c9b30cf33152ea03c</td>\n",
       "    </tr>\n",
       "    <tr>\n",
       "      <th>2</th>\n",
       "      <td>8ab63abfe58fb218cc001581ac0d9fe38c784157</td>\n",
       "      <td>7f514ed5e1ec262953e6252a4089531c519e95d700c5808415b0f049fc59a5f0</td>\n",
       "      <td>855232a26e8afcd0cca5f816a1919dee</td>\n",
       "    </tr>\n",
       "    <tr>\n",
       "      <th>3</th>\n",
       "      <td>55cbf8dae95d350ad7e5a63b418f6cd203488f51</td>\n",
       "      <td>8b7ae9f195b075a789d6d8277d500d27754bfa3c53ecca8db7beac8ccd07884f</td>\n",
       "      <td>97d9d216f2627cb238ca6637580b1739</td>\n",
       "    </tr>\n",
       "    <tr>\n",
       "      <th>4</th>\n",
       "      <td>a2915c1be9e6134b7bf3ca5ca00eeb0c969bedab</td>\n",
       "      <td>6c2a2251861a6d2701814843fadac940cf4d34db9f446f0698352fd866b31739</td>\n",
       "      <td>1b09de36dfe5850d7e3fbd6b39c89a43</td>\n",
       "    </tr>\n",
       "    <tr>\n",
       "      <th>...</th>\n",
       "      <td>...</td>\n",
       "      <td>...</td>\n",
       "      <td>...</td>\n",
       "    </tr>\n",
       "    <tr>\n",
       "      <th>619</th>\n",
       "      <td>45c4340c4bfcf6145638b6a9556c42b25a07db76</td>\n",
       "      <td>eff2bda9797c042cbae44c8aed29b31b853733c0676a687dc62676752197c05d</td>\n",
       "      <td>7ebd8264cdecb8f522b51b0490a3f901</td>\n",
       "    </tr>\n",
       "    <tr>\n",
       "      <th>620</th>\n",
       "      <td>dc040262f90dd233b35fe922ec98834eb9f44f9b</td>\n",
       "      <td>7f7670c31d0f9eb80f8839e8e063aa01d44c77712d90066323fe155480f5f69c</td>\n",
       "      <td>6d7e39aeeb28c8352269a6357f583c11</td>\n",
       "    </tr>\n",
       "    <tr>\n",
       "      <th>621</th>\n",
       "      <td>b70e2199703c316465af96540561bcd002321045</td>\n",
       "      <td>0252937e5af74369499c21efe832306dccf718402b08c67b2d338061ba1e67a0</td>\n",
       "      <td>69b64df678f3e397ab18b4e3db830d96</td>\n",
       "    </tr>\n",
       "    <tr>\n",
       "      <th>622</th>\n",
       "      <td>5d0cf2954a43c613f270ee9c6ea2e74798787725</td>\n",
       "      <td>eaf087b8fe0cf69bed568070ae460d63483525842d4c84c7750ef87c4985e622</td>\n",
       "      <td>7b25379caa4340a714b210dfd01fd5f9</td>\n",
       "    </tr>\n",
       "    <tr>\n",
       "      <th>623</th>\n",
       "      <td>4b3f7c7b3d8f6748505115fc291b6ac02e1b99a0</td>\n",
       "      <td>c3217157c0ab2d83047f679a073d19d296a03306072ef9636a8c8be52858347d</td>\n",
       "      <td>aff1636c687b809a106aadf5eb0e40ee</td>\n",
       "    </tr>\n",
       "  </tbody>\n",
       "</table>\n",
       "<p>624 rows × 3 columns</p>\n",
       "</div>"
      ],
      "text/plain": [
       "                                    sha1_hash  \\\n",
       "0    411535c9548f86034a6a9a603de521a86a3b5466   \n",
       "1    1ad9e9761fd6935c0cf5048c9615d0383baac48e   \n",
       "2    8ab63abfe58fb218cc001581ac0d9fe38c784157   \n",
       "3    55cbf8dae95d350ad7e5a63b418f6cd203488f51   \n",
       "4    a2915c1be9e6134b7bf3ca5ca00eeb0c969bedab   \n",
       "..                                        ...   \n",
       "619  45c4340c4bfcf6145638b6a9556c42b25a07db76   \n",
       "620  dc040262f90dd233b35fe922ec98834eb9f44f9b   \n",
       "621  b70e2199703c316465af96540561bcd002321045   \n",
       "622  5d0cf2954a43c613f270ee9c6ea2e74798787725   \n",
       "623  4b3f7c7b3d8f6748505115fc291b6ac02e1b99a0   \n",
       "\n",
       "                                                          sha256_hash  \\\n",
       "0    04c53261b1220a894a02f5ffb39cdfd73f93481c0b5c8106d21c91b20205c62d   \n",
       "1    ac901bf5882f14e9e07235b8488b6479b4519addda6dbfb89147401c1e9e6e4f   \n",
       "2    7f514ed5e1ec262953e6252a4089531c519e95d700c5808415b0f049fc59a5f0   \n",
       "3    8b7ae9f195b075a789d6d8277d500d27754bfa3c53ecca8db7beac8ccd07884f   \n",
       "4    6c2a2251861a6d2701814843fadac940cf4d34db9f446f0698352fd866b31739   \n",
       "..                                                                ...   \n",
       "619  eff2bda9797c042cbae44c8aed29b31b853733c0676a687dc62676752197c05d   \n",
       "620  7f7670c31d0f9eb80f8839e8e063aa01d44c77712d90066323fe155480f5f69c   \n",
       "621  0252937e5af74369499c21efe832306dccf718402b08c67b2d338061ba1e67a0   \n",
       "622  eaf087b8fe0cf69bed568070ae460d63483525842d4c84c7750ef87c4985e622   \n",
       "623  c3217157c0ab2d83047f679a073d19d296a03306072ef9636a8c8be52858347d   \n",
       "\n",
       "                             md5_hash  \n",
       "0    5b5a0225a2b7b9a054417662c733168a  \n",
       "1    da9534900ee0d11c9b30cf33152ea03c  \n",
       "2    855232a26e8afcd0cca5f816a1919dee  \n",
       "3    97d9d216f2627cb238ca6637580b1739  \n",
       "4    1b09de36dfe5850d7e3fbd6b39c89a43  \n",
       "..                                ...  \n",
       "619  7ebd8264cdecb8f522b51b0490a3f901  \n",
       "620  6d7e39aeeb28c8352269a6357f583c11  \n",
       "621  69b64df678f3e397ab18b4e3db830d96  \n",
       "622  7b25379caa4340a714b210dfd01fd5f9  \n",
       "623  aff1636c687b809a106aadf5eb0e40ee  \n",
       "\n",
       "[624 rows x 3 columns]"
      ]
     },
     "execution_count": 5,
     "metadata": {},
     "output_type": "execute_result"
    }
   ],
   "source": [
    "hashes = entries[['sha1_hash', 'sha256_hash', 'md5_hash']]\n",
    "hashes"
   ]
  },
  {
   "cell_type": "code",
   "execution_count": 17,
   "id": "21bb915d",
   "metadata": {},
   "outputs": [
    {
     "name": "stdout",
     "output_type": "stream",
     "text": [
      "Duplicates:  True\n",
      "Number of Duplicates:  6\n",
      "Duplicates are: \n"
     ]
    },
    {
     "data": {
      "text/html": [
       "<div>\n",
       "<style scoped>\n",
       "    .dataframe tbody tr th:only-of-type {\n",
       "        vertical-align: middle;\n",
       "    }\n",
       "\n",
       "    .dataframe tbody tr th {\n",
       "        vertical-align: top;\n",
       "    }\n",
       "\n",
       "    .dataframe thead th {\n",
       "        text-align: right;\n",
       "    }\n",
       "</style>\n",
       "<table border=\"1\" class=\"dataframe\">\n",
       "  <thead>\n",
       "    <tr style=\"text-align: right;\">\n",
       "      <th></th>\n",
       "      <th>sha1_hash</th>\n",
       "      <th>sha256_hash</th>\n",
       "      <th>md5_hash</th>\n",
       "      <th>first_seen</th>\n",
       "      <th>last_seen</th>\n",
       "      <th>file_type</th>\n",
       "      <th>delivery_method</th>\n",
       "    </tr>\n",
       "  </thead>\n",
       "  <tbody>\n",
       "    <tr>\n",
       "      <th>11</th>\n",
       "      <td>b5619bda677a9bddc555027e7790cea35a925f62</td>\n",
       "      <td>18b60825348e063c719f443680ba8425dc968ad9cfb4f07f91fea89e2b2d1f0a</td>\n",
       "      <td>c5521f937b54a93aaafd7ee393c8c598</td>\n",
       "      <td>2023-09-14 23:05:33</td>\n",
       "      <td>NaN</td>\n",
       "      <td>apk</td>\n",
       "      <td>web_download</td>\n",
       "    </tr>\n",
       "    <tr>\n",
       "      <th>177</th>\n",
       "      <td>7351195d0cb21569a083dd70a68903766922be3d</td>\n",
       "      <td>2f53f658185eaa4ddcaf6e9ca529559a371b8720db09d53103cf6a9e9c0c3e2a</td>\n",
       "      <td>e52ef1f6efa8f51c077ffebc9e56b598</td>\n",
       "      <td>2023-09-10 19:29:52</td>\n",
       "      <td>NaN</td>\n",
       "      <td>apk</td>\n",
       "      <td>web_download</td>\n",
       "    </tr>\n",
       "    <tr>\n",
       "      <th>229</th>\n",
       "      <td>5f4dc16cf6b907aacebe0ee7189e1a465dccce1d</td>\n",
       "      <td>f403f15de411e46b588b0454694a868adf692ac5e7294d07bd3216d500971d3f</td>\n",
       "      <td>4f96080575bad35118f7639b75be224c</td>\n",
       "      <td>2023-09-09 15:35:45</td>\n",
       "      <td>NaN</td>\n",
       "      <td>apk</td>\n",
       "      <td>web_download</td>\n",
       "    </tr>\n",
       "    <tr>\n",
       "      <th>340</th>\n",
       "      <td>78805a1d5b1f9c9c2c6dbf83752d39f27c795b3b</td>\n",
       "      <td>91e5c5dbb6e64f5399cd4786f2e91192525b6582a088a8b583a7599a82838567</td>\n",
       "      <td>e9476ead29f19bde9b3d61f166e63aef</td>\n",
       "      <td>2023-09-14 23:45:28</td>\n",
       "      <td>NaN</td>\n",
       "      <td>apk</td>\n",
       "      <td>web_download</td>\n",
       "    </tr>\n",
       "    <tr>\n",
       "      <th>357</th>\n",
       "      <td>b5619bda677a9bddc555027e7790cea35a925f62</td>\n",
       "      <td>18b60825348e063c719f443680ba8425dc968ad9cfb4f07f91fea89e2b2d1f0a</td>\n",
       "      <td>c5521f937b54a93aaafd7ee393c8c598</td>\n",
       "      <td>2023-09-14 23:05:33</td>\n",
       "      <td>NaN</td>\n",
       "      <td>apk</td>\n",
       "      <td>web_download</td>\n",
       "    </tr>\n",
       "    <tr>\n",
       "      <th>378</th>\n",
       "      <td>5f4dc16cf6b907aacebe0ee7189e1a465dccce1d</td>\n",
       "      <td>f403f15de411e46b588b0454694a868adf692ac5e7294d07bd3216d500971d3f</td>\n",
       "      <td>4f96080575bad35118f7639b75be224c</td>\n",
       "      <td>2023-09-09 15:35:45</td>\n",
       "      <td>NaN</td>\n",
       "      <td>apk</td>\n",
       "      <td>web_download</td>\n",
       "    </tr>\n",
       "    <tr>\n",
       "      <th>386</th>\n",
       "      <td>78805a1d5b1f9c9c2c6dbf83752d39f27c795b3b</td>\n",
       "      <td>91e5c5dbb6e64f5399cd4786f2e91192525b6582a088a8b583a7599a82838567</td>\n",
       "      <td>e9476ead29f19bde9b3d61f166e63aef</td>\n",
       "      <td>2023-09-14 23:45:28</td>\n",
       "      <td>NaN</td>\n",
       "      <td>apk</td>\n",
       "      <td>web_download</td>\n",
       "    </tr>\n",
       "    <tr>\n",
       "      <th>446</th>\n",
       "      <td>7351195d0cb21569a083dd70a68903766922be3d</td>\n",
       "      <td>2f53f658185eaa4ddcaf6e9ca529559a371b8720db09d53103cf6a9e9c0c3e2a</td>\n",
       "      <td>e52ef1f6efa8f51c077ffebc9e56b598</td>\n",
       "      <td>2023-09-10 19:29:52</td>\n",
       "      <td>NaN</td>\n",
       "      <td>apk</td>\n",
       "      <td>web_download</td>\n",
       "    </tr>\n",
       "    <tr>\n",
       "      <th>498</th>\n",
       "      <td>fc1d45f0f81b6da49dd57d4342d5510dff5dbee7</td>\n",
       "      <td>91a2d790366e433f18036a85d935d7e628c652c35b00427f6ef809fa9ec1f69e</td>\n",
       "      <td>7ca82baa3e7eddce41a25bf071216d1b</td>\n",
       "      <td>2023-09-14 22:35:06</td>\n",
       "      <td>2023-09-14 22:35:33</td>\n",
       "      <td>apk</td>\n",
       "      <td>web_download</td>\n",
       "    </tr>\n",
       "    <tr>\n",
       "      <th>501</th>\n",
       "      <td>7211bd56ac1466abc6a6202b800156c38e111c9d</td>\n",
       "      <td>be6716415c8f117ac0d290833825ac7ddab7f18666cd6e68218db31f3da357c2</td>\n",
       "      <td>8b8d7db29e70be64c18a1cc8d02da680</td>\n",
       "      <td>2023-09-14 22:48:49</td>\n",
       "      <td>NaN</td>\n",
       "      <td>apk</td>\n",
       "      <td>web_download</td>\n",
       "    </tr>\n",
       "    <tr>\n",
       "      <th>552</th>\n",
       "      <td>7211bd56ac1466abc6a6202b800156c38e111c9d</td>\n",
       "      <td>be6716415c8f117ac0d290833825ac7ddab7f18666cd6e68218db31f3da357c2</td>\n",
       "      <td>8b8d7db29e70be64c18a1cc8d02da680</td>\n",
       "      <td>2023-09-14 22:48:49</td>\n",
       "      <td>NaN</td>\n",
       "      <td>apk</td>\n",
       "      <td>web_download</td>\n",
       "    </tr>\n",
       "    <tr>\n",
       "      <th>559</th>\n",
       "      <td>fc1d45f0f81b6da49dd57d4342d5510dff5dbee7</td>\n",
       "      <td>91a2d790366e433f18036a85d935d7e628c652c35b00427f6ef809fa9ec1f69e</td>\n",
       "      <td>7ca82baa3e7eddce41a25bf071216d1b</td>\n",
       "      <td>2023-09-14 22:35:06</td>\n",
       "      <td>2023-09-14 22:35:33</td>\n",
       "      <td>apk</td>\n",
       "      <td>web_download</td>\n",
       "    </tr>\n",
       "  </tbody>\n",
       "</table>\n",
       "</div>"
      ],
      "text/plain": [
       "                                    sha1_hash  \\\n",
       "11   b5619bda677a9bddc555027e7790cea35a925f62   \n",
       "177  7351195d0cb21569a083dd70a68903766922be3d   \n",
       "229  5f4dc16cf6b907aacebe0ee7189e1a465dccce1d   \n",
       "340  78805a1d5b1f9c9c2c6dbf83752d39f27c795b3b   \n",
       "357  b5619bda677a9bddc555027e7790cea35a925f62   \n",
       "378  5f4dc16cf6b907aacebe0ee7189e1a465dccce1d   \n",
       "386  78805a1d5b1f9c9c2c6dbf83752d39f27c795b3b   \n",
       "446  7351195d0cb21569a083dd70a68903766922be3d   \n",
       "498  fc1d45f0f81b6da49dd57d4342d5510dff5dbee7   \n",
       "501  7211bd56ac1466abc6a6202b800156c38e111c9d   \n",
       "552  7211bd56ac1466abc6a6202b800156c38e111c9d   \n",
       "559  fc1d45f0f81b6da49dd57d4342d5510dff5dbee7   \n",
       "\n",
       "                                                          sha256_hash  \\\n",
       "11   18b60825348e063c719f443680ba8425dc968ad9cfb4f07f91fea89e2b2d1f0a   \n",
       "177  2f53f658185eaa4ddcaf6e9ca529559a371b8720db09d53103cf6a9e9c0c3e2a   \n",
       "229  f403f15de411e46b588b0454694a868adf692ac5e7294d07bd3216d500971d3f   \n",
       "340  91e5c5dbb6e64f5399cd4786f2e91192525b6582a088a8b583a7599a82838567   \n",
       "357  18b60825348e063c719f443680ba8425dc968ad9cfb4f07f91fea89e2b2d1f0a   \n",
       "378  f403f15de411e46b588b0454694a868adf692ac5e7294d07bd3216d500971d3f   \n",
       "386  91e5c5dbb6e64f5399cd4786f2e91192525b6582a088a8b583a7599a82838567   \n",
       "446  2f53f658185eaa4ddcaf6e9ca529559a371b8720db09d53103cf6a9e9c0c3e2a   \n",
       "498  91a2d790366e433f18036a85d935d7e628c652c35b00427f6ef809fa9ec1f69e   \n",
       "501  be6716415c8f117ac0d290833825ac7ddab7f18666cd6e68218db31f3da357c2   \n",
       "552  be6716415c8f117ac0d290833825ac7ddab7f18666cd6e68218db31f3da357c2   \n",
       "559  91a2d790366e433f18036a85d935d7e628c652c35b00427f6ef809fa9ec1f69e   \n",
       "\n",
       "                             md5_hash           first_seen  \\\n",
       "11   c5521f937b54a93aaafd7ee393c8c598  2023-09-14 23:05:33   \n",
       "177  e52ef1f6efa8f51c077ffebc9e56b598  2023-09-10 19:29:52   \n",
       "229  4f96080575bad35118f7639b75be224c  2023-09-09 15:35:45   \n",
       "340  e9476ead29f19bde9b3d61f166e63aef  2023-09-14 23:45:28   \n",
       "357  c5521f937b54a93aaafd7ee393c8c598  2023-09-14 23:05:33   \n",
       "378  4f96080575bad35118f7639b75be224c  2023-09-09 15:35:45   \n",
       "386  e9476ead29f19bde9b3d61f166e63aef  2023-09-14 23:45:28   \n",
       "446  e52ef1f6efa8f51c077ffebc9e56b598  2023-09-10 19:29:52   \n",
       "498  7ca82baa3e7eddce41a25bf071216d1b  2023-09-14 22:35:06   \n",
       "501  8b8d7db29e70be64c18a1cc8d02da680  2023-09-14 22:48:49   \n",
       "552  8b8d7db29e70be64c18a1cc8d02da680  2023-09-14 22:48:49   \n",
       "559  7ca82baa3e7eddce41a25bf071216d1b  2023-09-14 22:35:06   \n",
       "\n",
       "               last_seen file_type delivery_method  \n",
       "11                   NaN       apk    web_download  \n",
       "177                  NaN       apk    web_download  \n",
       "229                  NaN       apk    web_download  \n",
       "340                  NaN       apk    web_download  \n",
       "357                  NaN       apk    web_download  \n",
       "378                  NaN       apk    web_download  \n",
       "386                  NaN       apk    web_download  \n",
       "446                  NaN       apk    web_download  \n",
       "498  2023-09-14 22:35:33       apk    web_download  \n",
       "501                  NaN       apk    web_download  \n",
       "552                  NaN       apk    web_download  \n",
       "559  2023-09-14 22:35:33       apk    web_download  "
      ]
     },
     "execution_count": 17,
     "metadata": {},
     "output_type": "execute_result"
    }
   ],
   "source": [
    "print(\"Duplicates: \",hashes.duplicated().any())\n",
    "print(\"Number of Duplicates: \",hashes.duplicated().sum())\n",
    "righe_duplicate = entries[entries[['sha1_hash', 'sha256_hash', 'md5_hash']].duplicated(keep=False)]\n",
    "df_duplicate = pd.DataFrame(righe_duplicate, columns=entries.columns)\n",
    "\n",
    "print(\"Duplicates are: \")\n",
    "\n",
    "df_duplicate\n"
   ]
  },
  {
   "cell_type": "code",
   "execution_count": 12,
   "id": "5dd212e1",
   "metadata": {},
   "outputs": [
    {
     "name": "stdout",
     "output_type": "stream",
     "text": [
      "Duplicates:  True\n",
      "# not null values:  3825\n",
      "# null values:  543\n",
      "# values:  4368\n",
      "# missings:  543\n",
      "Completeness:  87.6%\n"
     ]
    }
   ],
   "source": [
    "print(\"Duplicates: \",entries.duplicated().any())\n",
    "#total number of not null values\n",
    "not_null_values = entries.count().sum()\n",
    "print(\"# not null values: \",not_null_values)\n",
    "#total number of null values\n",
    "null_values = entries.isnull().sum().sum()\n",
    "print(\"# null values: \",null_values)\n",
    "#total number of cells\n",
    "n_values = entries.shape[0]*entries.shape[1]\n",
    "print(\"# values: \",n_values)\n",
    "#we added to the set of missing values also 'na' and '--'\n",
    "missing_values = ['na','--', 'NaN', 'None', '']\n",
    "ds_property_nan = pd.read_csv(path_Entries, na_values = missing_values)\n",
    "print(\"# missings: \",ds_property_nan.isnull().sum().sum())\n",
    "\n",
    "#COMPLETENESS evaluation\n",
    "completeness = not_null_values / n_values\n",
    "completeness = '{0:.1f}%'.format(completeness*100)\n",
    "print(\"Completeness: \",completeness)"
   ]
  },
  {
   "cell_type": "code",
   "execution_count": 7,
   "id": "88c70a8b",
   "metadata": {},
   "outputs": [
    {
     "name": "stdout",
     "output_type": "stream",
     "text": [
      "Completeness for 'sha1_hash': 100.00%\n",
      "Completeness for 'sha256_hash': 100.00%\n",
      "Completeness for 'md5_hash': 100.00%\n",
      "Completeness for 'first_seen': 100.00%\n",
      "Completeness for 'last_seen': 41.99%\n",
      "Completeness for 'file_type': 100.00%\n",
      "Completeness for 'delivery_method': 70.99%\n"
     ]
    }
   ],
   "source": [
    "completeness = 1 - entries['sha1_hash'].isna().mean()\n",
    "\n",
    "# Print the completeness percentage\n",
    "print(f\"Completeness for 'sha1_hash': {completeness * 100:.2f}%\")\n",
    "\n",
    "completeness = 1 - entries['sha256_hash'].isna().mean()\n",
    "\n",
    "# Print the completeness percentage\n",
    "print(f\"Completeness for 'sha256_hash': {completeness * 100:.2f}%\")\n",
    "\n",
    "completeness = 1 - entries['md5_hash'].isna().mean()\n",
    "\n",
    "# Print the completeness percentage\n",
    "print(f\"Completeness for 'md5_hash': {completeness * 100:.2f}%\")\n",
    "\n",
    "completeness = 1 - entries['first_seen'].isna().mean()\n",
    "\n",
    "# Print the completeness percentage\n",
    "print(f\"Completeness for 'first_seen': {completeness * 100:.2f}%\")\n",
    "\n",
    "completeness = 1 - entries['last_seen'].isna().mean()\n",
    "\n",
    "# Print the completeness percentage\n",
    "print(f\"Completeness for 'last_seen': {completeness * 100:.2f}%\")\n",
    "\n",
    "completeness = 1 - entries['file_type'].isna().mean()\n",
    "\n",
    "# Print the completeness percentage\n",
    "print(f\"Completeness for 'file_type': {completeness * 100:.2f}%\")\n",
    "\n",
    "completeness = 1 - entries['delivery_method'].isna().mean()\n",
    "\n",
    "# Print the completeness percentage\n",
    "print(f\"Completeness for 'delivery_method': {completeness * 100:.2f}%\")\n"
   ]
  },
  {
   "cell_type": "code",
   "execution_count": 8,
   "id": "bd85d95a",
   "metadata": {},
   "outputs": [
    {
     "data": {
      "application/vnd.jupyter.widget-view+json": {
       "model_id": "470273182565431b82908dae214f4d22",
       "version_major": 2,
       "version_minor": 0
      },
      "text/plain": [
       "Summarize dataset:   0%|          | 0/5 [00:00<?, ?it/s]"
      ]
     },
     "metadata": {},
     "output_type": "display_data"
    },
    {
     "data": {
      "application/vnd.jupyter.widget-view+json": {
       "model_id": "112f2fba05414749bc47ceb5cb0973e5",
       "version_major": 2,
       "version_minor": 0
      },
      "text/plain": [
       "Generate report structure:   0%|          | 0/1 [00:00<?, ?it/s]"
      ]
     },
     "metadata": {},
     "output_type": "display_data"
    },
    {
     "data": {
      "application/vnd.jupyter.widget-view+json": {
       "model_id": "12ced4ed40f34eecae456b6dc9875893",
       "version_major": 2,
       "version_minor": 0
      },
      "text/plain": [
       "Render HTML:   0%|          | 0/1 [00:00<?, ?it/s]"
      ]
     },
     "metadata": {},
     "output_type": "display_data"
    },
    {
     "data": {
      "application/vnd.jupyter.widget-view+json": {
       "model_id": "a47558fc1ca4447795c32c53245d3d31",
       "version_major": 2,
       "version_minor": 0
      },
      "text/plain": [
       "Export report to file:   0%|          | 0/1 [00:00<?, ?it/s]"
      ]
     },
     "metadata": {},
     "output_type": "display_data"
    },
    {
     "data": {
      "application/vnd.jupyter.widget-view+json": {
       "model_id": "caad6d5b1e3548a9b01f98f8f9fb87ce",
       "version_major": 2,
       "version_minor": 0
      },
      "text/plain": [
       "Render JSON:   0%|          | 0/1 [00:00<?, ?it/s]"
      ]
     },
     "metadata": {},
     "output_type": "display_data"
    },
    {
     "data": {
      "application/vnd.jupyter.widget-view+json": {
       "model_id": "8d709014a9024ca89877dad45d40922f",
       "version_major": 2,
       "version_minor": 0
      },
      "text/plain": [
       "Export report to file:   0%|          | 0/1 [00:00<?, ?it/s]"
      ]
     },
     "metadata": {},
     "output_type": "display_data"
    }
   ],
   "source": [
    "profile = ProfileReport(entries, title=\"Malware Bazaar - Hash Analysis - Entries Report\", minimal=True)\n",
    "profile.to_file(\"C:\\\\Users\\\\leona\\\\OneDrive\\\\Desktop\\\\Tesi\\\\Pipeline\\\\Report\\\\Profiling step 15\\\\Malware_Bazaar\\\\MalwareBazaar_EntriesReport.html\")\n",
    "\n",
    "# As a JSON string\n",
    "json_data = profile.to_json()\n",
    "\n",
    "# As a file\n",
    "profile.to_file(\"C:\\\\Users\\\\leona\\\\OneDrive\\\\Desktop\\\\Tesi\\\\Pipeline\\\\Report\\\\Profiling step 15\\\\Malware_Bazaar\\\\MalwareBazaar_EntriesReport.json\")"
   ]
  },
  {
   "cell_type": "markdown",
   "id": "046343de",
   "metadata": {},
   "source": [
    "### Data Profiling - YARA RULES"
   ]
  },
  {
   "cell_type": "code",
   "execution_count": 9,
   "id": "ef2714bf",
   "metadata": {},
   "outputs": [],
   "source": [
    "path_YaraRules = r\"C:\\\\Users\\\\leona\\\\OneDrive\\\\Desktop\\\\Tesi\\\\Pipeline\\\\Datasets\\\\Pipeline\\\\DataAnalysis\\\\malware_bazaar\\\\Yara_Rules.csv\""
   ]
  },
  {
   "cell_type": "code",
   "execution_count": 10,
   "id": "109ab74d",
   "metadata": {
    "scrolled": false
   },
   "outputs": [
    {
     "data": {
      "text/html": [
       "<div>\n",
       "<style scoped>\n",
       "    .dataframe tbody tr th:only-of-type {\n",
       "        vertical-align: middle;\n",
       "    }\n",
       "\n",
       "    .dataframe tbody tr th {\n",
       "        vertical-align: top;\n",
       "    }\n",
       "\n",
       "    .dataframe thead th {\n",
       "        text-align: right;\n",
       "    }\n",
       "</style>\n",
       "<table border=\"1\" class=\"dataframe\">\n",
       "  <thead>\n",
       "    <tr style=\"text-align: right;\">\n",
       "      <th></th>\n",
       "      <th>sha1</th>\n",
       "      <th>sha256</th>\n",
       "      <th>md5</th>\n",
       "      <th>rule_name</th>\n",
       "      <th>description</th>\n",
       "      <th>author</th>\n",
       "      <th>reference</th>\n",
       "    </tr>\n",
       "  </thead>\n",
       "  <tbody>\n",
       "    <tr>\n",
       "      <th>0</th>\n",
       "      <td>1ad9e9761fd6935c0cf5048c9615d0383baac48e</td>\n",
       "      <td>ac901bf5882f14e9e07235b8488b6479b4519addda6dbfb89147401c1e9e6e4f</td>\n",
       "      <td>da9534900ee0d11c9b30cf33152ea03c</td>\n",
       "      <td>iexplorer_remcos</td>\n",
       "      <td>Detect iexplorer being taken over by Remcos</td>\n",
       "      <td>iam-py-test</td>\n",
       "      <td>NaN</td>\n",
       "    </tr>\n",
       "    <tr>\n",
       "      <th>1</th>\n",
       "      <td>1ad9e9761fd6935c0cf5048c9615d0383baac48e</td>\n",
       "      <td>ac901bf5882f14e9e07235b8488b6479b4519addda6dbfb89147401c1e9e6e4f</td>\n",
       "      <td>da9534900ee0d11c9b30cf33152ea03c</td>\n",
       "      <td>INDICATOR_SUSPICIOUS_EXE_UACBypass_CMSTPCOM</td>\n",
       "      <td>Detects Windows exceutables bypassing UAC using CMSTP COM interfaces. MITRE (T1218.003)</td>\n",
       "      <td>ditekSHen</td>\n",
       "      <td>NaN</td>\n",
       "    </tr>\n",
       "    <tr>\n",
       "      <th>2</th>\n",
       "      <td>1ad9e9761fd6935c0cf5048c9615d0383baac48e</td>\n",
       "      <td>ac901bf5882f14e9e07235b8488b6479b4519addda6dbfb89147401c1e9e6e4f</td>\n",
       "      <td>da9534900ee0d11c9b30cf33152ea03c</td>\n",
       "      <td>pe_imphash</td>\n",
       "      <td>NaN</td>\n",
       "      <td>NaN</td>\n",
       "      <td>NaN</td>\n",
       "    </tr>\n",
       "  </tbody>\n",
       "</table>\n",
       "</div>"
      ],
      "text/plain": [
       "                                       sha1  \\\n",
       "0  1ad9e9761fd6935c0cf5048c9615d0383baac48e   \n",
       "1  1ad9e9761fd6935c0cf5048c9615d0383baac48e   \n",
       "2  1ad9e9761fd6935c0cf5048c9615d0383baac48e   \n",
       "\n",
       "                                                             sha256  \\\n",
       "0  ac901bf5882f14e9e07235b8488b6479b4519addda6dbfb89147401c1e9e6e4f   \n",
       "1  ac901bf5882f14e9e07235b8488b6479b4519addda6dbfb89147401c1e9e6e4f   \n",
       "2  ac901bf5882f14e9e07235b8488b6479b4519addda6dbfb89147401c1e9e6e4f   \n",
       "\n",
       "                                md5  \\\n",
       "0  da9534900ee0d11c9b30cf33152ea03c   \n",
       "1  da9534900ee0d11c9b30cf33152ea03c   \n",
       "2  da9534900ee0d11c9b30cf33152ea03c   \n",
       "\n",
       "                                     rule_name  \\\n",
       "0                             iexplorer_remcos   \n",
       "1  INDICATOR_SUSPICIOUS_EXE_UACBypass_CMSTPCOM   \n",
       "2                                   pe_imphash   \n",
       "\n",
       "                                                                               description  \\\n",
       "0                                              Detect iexplorer being taken over by Remcos   \n",
       "1  Detects Windows exceutables bypassing UAC using CMSTP COM interfaces. MITRE (T1218.003)   \n",
       "2                                                                                      NaN   \n",
       "\n",
       "        author reference  \n",
       "0  iam-py-test       NaN  \n",
       "1    ditekSHen       NaN  \n",
       "2          NaN       NaN  "
      ]
     },
     "execution_count": 10,
     "metadata": {},
     "output_type": "execute_result"
    }
   ],
   "source": [
    "yara_rules = pd.read_csv(path_YaraRules, low_memory = False)\n",
    "yara_rules.head(3)"
   ]
  },
  {
   "cell_type": "code",
   "execution_count": 11,
   "id": "3bb3e961",
   "metadata": {},
   "outputs": [
    {
     "name": "stdout",
     "output_type": "stream",
     "text": [
      "Duplicates:  True\n",
      "# not null values:  19716\n",
      "# null values:  4350\n",
      "# values:  24066\n",
      "# missings:  4350\n",
      "Completeness:  81.9%\n"
     ]
    }
   ],
   "source": [
    "print(\"Duplicates: \",yara_rules.duplicated().any())\n",
    "#total number of not null values\n",
    "not_null_values = yara_rules.count().sum()\n",
    "print(\"# not null values: \",not_null_values)\n",
    "#total number of null values\n",
    "null_values = yara_rules.isnull().sum().sum()\n",
    "print(\"# null values: \",null_values)\n",
    "#total number of cells\n",
    "n_values = yara_rules.shape[0]*yara_rules.shape[1]\n",
    "print(\"# values: \",n_values)\n",
    "#we added to the set of missing values also 'na' and '--'\n",
    "missing_values = ['na','--', 'NaN', 'None', '']\n",
    "ds_property_nan = pd.read_csv(path_YaraRules, na_values = missing_values)\n",
    "print(\"# missings: \",ds_property_nan.isnull().sum().sum())\n",
    "\n",
    "#COMPLETENESS evaluation\n",
    "completeness = not_null_values / n_values\n",
    "completeness = '{0:.1f}%'.format(completeness*100)\n",
    "print(\"Completeness: \",completeness)"
   ]
  },
  {
   "cell_type": "code",
   "execution_count": 12,
   "id": "538e0972",
   "metadata": {},
   "outputs": [
    {
     "name": "stdout",
     "output_type": "stream",
     "text": [
      "Completeness for 'sha1': 100.00%\n",
      "Completeness for 'sha256': 100.00%\n",
      "Completeness for 'md5_hash': 100.00%\n",
      "Completeness for 'rule_name': 100.00%\n",
      "Completeness for 'description': 70.39%\n",
      "Completeness for 'author': 84.21%\n",
      "Completeness for 'reference': 18.88%\n"
     ]
    }
   ],
   "source": [
    "completeness = 1 - yara_rules['sha1'].isna().mean()\n",
    "\n",
    "# Print the completeness percentage\n",
    "print(f\"Completeness for 'sha1': {completeness * 100:.2f}%\")\n",
    "\n",
    "completeness = 1 - yara_rules['sha256'].isna().mean()\n",
    "\n",
    "# Print the completeness percentage\n",
    "print(f\"Completeness for 'sha256': {completeness * 100:.2f}%\")\n",
    "\n",
    "completeness = 1 - yara_rules['md5'].isna().mean()\n",
    "\n",
    "# Print the completeness percentage\n",
    "print(f\"Completeness for 'md5_hash': {completeness * 100:.2f}%\")\n",
    "\n",
    "completeness = 1 - yara_rules['rule_name'].isna().mean()\n",
    "\n",
    "# Print the completeness percentage\n",
    "print(f\"Completeness for 'rule_name': {completeness * 100:.2f}%\")\n",
    "\n",
    "completeness = 1 - yara_rules['description'].isna().mean()\n",
    "\n",
    "# Print the completeness percentage\n",
    "print(f\"Completeness for 'description': {completeness * 100:.2f}%\")\n",
    "\n",
    "completeness = 1 - yara_rules['author'].isna().mean()\n",
    "\n",
    "# Print the completeness percentage\n",
    "print(f\"Completeness for 'author': {completeness * 100:.2f}%\")\n",
    "\n",
    "completeness = 1 - yara_rules['reference'].isna().mean()\n",
    "\n",
    "# Print the completeness percentage\n",
    "print(f\"Completeness for 'reference': {completeness * 100:.2f}%\")"
   ]
  },
  {
   "cell_type": "code",
   "execution_count": 13,
   "id": "bdde6bcb",
   "metadata": {},
   "outputs": [
    {
     "data": {
      "application/vnd.jupyter.widget-view+json": {
       "model_id": "7315d439e0744f1a82bae8bc921cff50",
       "version_major": 2,
       "version_minor": 0
      },
      "text/plain": [
       "Summarize dataset:   0%|          | 0/5 [00:00<?, ?it/s]"
      ]
     },
     "metadata": {},
     "output_type": "display_data"
    },
    {
     "data": {
      "application/vnd.jupyter.widget-view+json": {
       "model_id": "1a4a609c8931402ca21464a5abf41399",
       "version_major": 2,
       "version_minor": 0
      },
      "text/plain": [
       "Generate report structure:   0%|          | 0/1 [00:00<?, ?it/s]"
      ]
     },
     "metadata": {},
     "output_type": "display_data"
    },
    {
     "data": {
      "application/vnd.jupyter.widget-view+json": {
       "model_id": "33ce64bce4a64b728cc4cfdca2225a09",
       "version_major": 2,
       "version_minor": 0
      },
      "text/plain": [
       "Render HTML:   0%|          | 0/1 [00:00<?, ?it/s]"
      ]
     },
     "metadata": {},
     "output_type": "display_data"
    },
    {
     "data": {
      "application/vnd.jupyter.widget-view+json": {
       "model_id": "ecd4b05bde2f46559a83018080116779",
       "version_major": 2,
       "version_minor": 0
      },
      "text/plain": [
       "Export report to file:   0%|          | 0/1 [00:00<?, ?it/s]"
      ]
     },
     "metadata": {},
     "output_type": "display_data"
    },
    {
     "data": {
      "application/vnd.jupyter.widget-view+json": {
       "model_id": "32a336ac88204d19af203f3a8601d367",
       "version_major": 2,
       "version_minor": 0
      },
      "text/plain": [
       "Render JSON:   0%|          | 0/1 [00:00<?, ?it/s]"
      ]
     },
     "metadata": {},
     "output_type": "display_data"
    },
    {
     "data": {
      "application/vnd.jupyter.widget-view+json": {
       "model_id": "0c0220e5a04746db93a9b19c161bd493",
       "version_major": 2,
       "version_minor": 0
      },
      "text/plain": [
       "Export report to file:   0%|          | 0/1 [00:00<?, ?it/s]"
      ]
     },
     "metadata": {},
     "output_type": "display_data"
    }
   ],
   "source": [
    "profile = ProfileReport(yara_rules, title=\"Malware Bazaar - Hash Analysis - Yara Rules Report\", minimal=True)\n",
    "profile.to_file(\"C:\\\\Users\\\\leona\\\\OneDrive\\\\Desktop\\\\Tesi\\\\Pipeline\\\\Report\\\\Profiling step 15\\\\Malware_Bazaar\\\\MalwareBazaar_YaraRulesReport.html\")\n",
    "\n",
    "# As a JSON string\n",
    "json_data = profile.to_json()\n",
    "\n",
    "# As a file\n",
    "profile.to_file(\"C:\\\\Users\\\\leona\\\\OneDrive\\\\Desktop\\\\Tesi\\\\Pipeline\\\\Report\\\\Profiling step 15\\\\Malware_Bazaar\\\\MalwareBazaar_YaraRulesReport.json\")"
   ]
  },
  {
   "cell_type": "markdown",
   "id": "74e9bdf5",
   "metadata": {},
   "source": [
    "### Data Profiling - TAGS"
   ]
  },
  {
   "cell_type": "code",
   "execution_count": 14,
   "id": "c696e6de",
   "metadata": {},
   "outputs": [],
   "source": [
    "path_Tags = r\"C:\\\\Users\\\\leona\\\\OneDrive\\\\Desktop\\\\Tesi\\\\Pipeline\\\\Datasets\\\\Pipeline\\\\DataAnalysis\\\\malware_bazaar\\\\Tags.csv\""
   ]
  },
  {
   "cell_type": "code",
   "execution_count": 15,
   "id": "ce04552b",
   "metadata": {
    "scrolled": false
   },
   "outputs": [
    {
     "data": {
      "text/html": [
       "<div>\n",
       "<style scoped>\n",
       "    .dataframe tbody tr th:only-of-type {\n",
       "        vertical-align: middle;\n",
       "    }\n",
       "\n",
       "    .dataframe tbody tr th {\n",
       "        vertical-align: top;\n",
       "    }\n",
       "\n",
       "    .dataframe thead th {\n",
       "        text-align: right;\n",
       "    }\n",
       "</style>\n",
       "<table border=\"1\" class=\"dataframe\">\n",
       "  <thead>\n",
       "    <tr style=\"text-align: right;\">\n",
       "      <th></th>\n",
       "      <th>sha1</th>\n",
       "      <th>sha256</th>\n",
       "      <th>md5</th>\n",
       "      <th>tag_name</th>\n",
       "    </tr>\n",
       "  </thead>\n",
       "  <tbody>\n",
       "    <tr>\n",
       "      <th>0</th>\n",
       "      <td>411535c9548f86034a6a9a603de521a86a3b5466</td>\n",
       "      <td>04c53261b1220a894a02f5ffb39cdfd73f93481c0b5c8106d21c91b20205c62d</td>\n",
       "      <td>5b5a0225a2b7b9a054417662c733168a</td>\n",
       "      <td>exe</td>\n",
       "    </tr>\n",
       "    <tr>\n",
       "      <th>1</th>\n",
       "      <td>411535c9548f86034a6a9a603de521a86a3b5466</td>\n",
       "      <td>04c53261b1220a894a02f5ffb39cdfd73f93481c0b5c8106d21c91b20205c62d</td>\n",
       "      <td>5b5a0225a2b7b9a054417662c733168a</td>\n",
       "      <td>RemcosRAT</td>\n",
       "    </tr>\n",
       "    <tr>\n",
       "      <th>2</th>\n",
       "      <td>1ad9e9761fd6935c0cf5048c9615d0383baac48e</td>\n",
       "      <td>ac901bf5882f14e9e07235b8488b6479b4519addda6dbfb89147401c1e9e6e4f</td>\n",
       "      <td>da9534900ee0d11c9b30cf33152ea03c</td>\n",
       "      <td>32</td>\n",
       "    </tr>\n",
       "  </tbody>\n",
       "</table>\n",
       "</div>"
      ],
      "text/plain": [
       "                                       sha1  \\\n",
       "0  411535c9548f86034a6a9a603de521a86a3b5466   \n",
       "1  411535c9548f86034a6a9a603de521a86a3b5466   \n",
       "2  1ad9e9761fd6935c0cf5048c9615d0383baac48e   \n",
       "\n",
       "                                                             sha256  \\\n",
       "0  04c53261b1220a894a02f5ffb39cdfd73f93481c0b5c8106d21c91b20205c62d   \n",
       "1  04c53261b1220a894a02f5ffb39cdfd73f93481c0b5c8106d21c91b20205c62d   \n",
       "2  ac901bf5882f14e9e07235b8488b6479b4519addda6dbfb89147401c1e9e6e4f   \n",
       "\n",
       "                                md5   tag_name  \n",
       "0  5b5a0225a2b7b9a054417662c733168a        exe  \n",
       "1  5b5a0225a2b7b9a054417662c733168a  RemcosRAT  \n",
       "2  da9534900ee0d11c9b30cf33152ea03c         32  "
      ]
     },
     "execution_count": 15,
     "metadata": {},
     "output_type": "execute_result"
    }
   ],
   "source": [
    "tags = pd.read_csv(path_Tags, low_memory = False)\n",
    "tags.head(3)"
   ]
  },
  {
   "cell_type": "code",
   "execution_count": 16,
   "id": "62fce62d",
   "metadata": {},
   "outputs": [
    {
     "name": "stdout",
     "output_type": "stream",
     "text": [
      "Duplicates:  True\n",
      "# not null values:  6500\n",
      "# null values:  0\n",
      "# values:  6500\n",
      "# missings:  0\n",
      "Completeness:  100.0%\n"
     ]
    }
   ],
   "source": [
    "print(\"Duplicates: \",tags.duplicated().any())\n",
    "#total number of not null values\n",
    "not_null_values = tags.count().sum()\n",
    "print(\"# not null values: \",not_null_values)\n",
    "#total number of null values\n",
    "null_values = tags.isnull().sum().sum()\n",
    "print(\"# null values: \",null_values)\n",
    "#total number of cells\n",
    "n_values = tags.shape[0]*tags.shape[1]\n",
    "print(\"# values: \",n_values)\n",
    "#we added to the set of missing values also 'na' and '--'\n",
    "missing_values = ['na','--', 'NaN', 'None', '']\n",
    "ds_property_nan = pd.read_csv(path_Tags, na_values = missing_values)\n",
    "print(\"# missings: \",ds_property_nan.isnull().sum().sum())\n",
    "\n",
    "#COMPLETENESS evaluation\n",
    "completeness = not_null_values / n_values\n",
    "completeness = '{0:.1f}%'.format(completeness*100)\n",
    "print(\"Completeness: \",completeness)"
   ]
  },
  {
   "cell_type": "code",
   "execution_count": 17,
   "id": "7892551f",
   "metadata": {},
   "outputs": [
    {
     "data": {
      "application/vnd.jupyter.widget-view+json": {
       "model_id": "d37742423a43443ba936fa014cbc01dd",
       "version_major": 2,
       "version_minor": 0
      },
      "text/plain": [
       "Summarize dataset:   0%|          | 0/5 [00:00<?, ?it/s]"
      ]
     },
     "metadata": {},
     "output_type": "display_data"
    },
    {
     "data": {
      "application/vnd.jupyter.widget-view+json": {
       "model_id": "23885f8bc3a7445d8bf3a4a8bc7e80cc",
       "version_major": 2,
       "version_minor": 0
      },
      "text/plain": [
       "Generate report structure:   0%|          | 0/1 [00:00<?, ?it/s]"
      ]
     },
     "metadata": {},
     "output_type": "display_data"
    },
    {
     "data": {
      "application/vnd.jupyter.widget-view+json": {
       "model_id": "0c8c4839c3eb41f1bbb1a22d72202fb7",
       "version_major": 2,
       "version_minor": 0
      },
      "text/plain": [
       "Render HTML:   0%|          | 0/1 [00:00<?, ?it/s]"
      ]
     },
     "metadata": {},
     "output_type": "display_data"
    },
    {
     "data": {
      "application/vnd.jupyter.widget-view+json": {
       "model_id": "a819ab51c7f54d60893a98db4167f0d1",
       "version_major": 2,
       "version_minor": 0
      },
      "text/plain": [
       "Export report to file:   0%|          | 0/1 [00:00<?, ?it/s]"
      ]
     },
     "metadata": {},
     "output_type": "display_data"
    },
    {
     "data": {
      "application/vnd.jupyter.widget-view+json": {
       "model_id": "92f957b62bd644f3b54439e5bfbf9af2",
       "version_major": 2,
       "version_minor": 0
      },
      "text/plain": [
       "Render JSON:   0%|          | 0/1 [00:00<?, ?it/s]"
      ]
     },
     "metadata": {},
     "output_type": "display_data"
    },
    {
     "data": {
      "application/vnd.jupyter.widget-view+json": {
       "model_id": "c5699c8b33b847fab2d1c741b9f2ec30",
       "version_major": 2,
       "version_minor": 0
      },
      "text/plain": [
       "Export report to file:   0%|          | 0/1 [00:00<?, ?it/s]"
      ]
     },
     "metadata": {},
     "output_type": "display_data"
    }
   ],
   "source": [
    "profile = ProfileReport(tags, title=\"Malware Bazaar - Hash Analysis - Tags Report\", minimal=True)\n",
    "profile.to_file(\"C:\\\\Users\\\\leona\\\\OneDrive\\\\Desktop\\\\Tesi\\\\Pipeline\\\\Report\\\\Profiling step 15\\\\Malware_Bazaar\\\\MalwareBazaar_TagsReport.html\")\n",
    "\n",
    "# As a JSON string\n",
    "json_data = profile.to_json()\n",
    "\n",
    "# As a file\n",
    "profile.to_file(\"C:\\\\Users\\\\leona\\\\OneDrive\\\\Desktop\\\\Tesi\\\\Pipeline\\\\Report\\\\Profiling step 15\\\\Malware_Bazaar\\\\MalwareBazaar_TagsReport.json\")"
   ]
  },
  {
   "cell_type": "markdown",
   "id": "c2271ce0",
   "metadata": {},
   "source": [
    "### Data Profiling - BEHAVIOURS"
   ]
  },
  {
   "cell_type": "code",
   "execution_count": 18,
   "id": "a5c567ff",
   "metadata": {},
   "outputs": [],
   "source": [
    "path_Behaviours = r\"C:\\\\Users\\\\leona\\\\OneDrive\\\\Desktop\\\\Tesi\\\\Pipeline\\\\Datasets\\\\Pipeline\\\\DataAnalysis\\\\malware_bazaar\\\\Behaviours.csv\""
   ]
  },
  {
   "cell_type": "code",
   "execution_count": 19,
   "id": "62a875a8",
   "metadata": {
    "scrolled": false
   },
   "outputs": [
    {
     "data": {
      "text/html": [
       "<div>\n",
       "<style scoped>\n",
       "    .dataframe tbody tr th:only-of-type {\n",
       "        vertical-align: middle;\n",
       "    }\n",
       "\n",
       "    .dataframe tbody tr th {\n",
       "        vertical-align: top;\n",
       "    }\n",
       "\n",
       "    .dataframe thead th {\n",
       "        text-align: right;\n",
       "    }\n",
       "</style>\n",
       "<table border=\"1\" class=\"dataframe\">\n",
       "  <thead>\n",
       "    <tr style=\"text-align: right;\">\n",
       "      <th></th>\n",
       "      <th>sha1</th>\n",
       "      <th>sha256</th>\n",
       "      <th>md5</th>\n",
       "      <th>threat_name</th>\n",
       "      <th>threat_level</th>\n",
       "      <th>score</th>\n",
       "    </tr>\n",
       "  </thead>\n",
       "  <tbody>\n",
       "    <tr>\n",
       "      <th>0</th>\n",
       "      <td>8ab63abfe58fb218cc001581ac0d9fe38c784157</td>\n",
       "      <td>7f514ed5e1ec262953e6252a4089531c519e95d700c5808415b0f049fc59a5f0</td>\n",
       "      <td>855232a26e8afcd0cca5f816a1919dee</td>\n",
       "      <td>Searching for the window</td>\n",
       "      <td>neutral</td>\n",
       "      <td>NaN</td>\n",
       "    </tr>\n",
       "    <tr>\n",
       "      <th>1</th>\n",
       "      <td>8ab63abfe58fb218cc001581ac0d9fe38c784157</td>\n",
       "      <td>7f514ed5e1ec262953e6252a4089531c519e95d700c5808415b0f049fc59a5f0</td>\n",
       "      <td>855232a26e8afcd0cca5f816a1919dee</td>\n",
       "      <td>Сreating synchronization primitives</td>\n",
       "      <td>neutral</td>\n",
       "      <td>NaN</td>\n",
       "    </tr>\n",
       "    <tr>\n",
       "      <th>2</th>\n",
       "      <td>8ab63abfe58fb218cc001581ac0d9fe38c784157</td>\n",
       "      <td>7f514ed5e1ec262953e6252a4089531c519e95d700c5808415b0f049fc59a5f0</td>\n",
       "      <td>855232a26e8afcd0cca5f816a1919dee</td>\n",
       "      <td>Unauthorized injection to a recently created process</td>\n",
       "      <td>neutral</td>\n",
       "      <td>NaN</td>\n",
       "    </tr>\n",
       "  </tbody>\n",
       "</table>\n",
       "</div>"
      ],
      "text/plain": [
       "                                       sha1  \\\n",
       "0  8ab63abfe58fb218cc001581ac0d9fe38c784157   \n",
       "1  8ab63abfe58fb218cc001581ac0d9fe38c784157   \n",
       "2  8ab63abfe58fb218cc001581ac0d9fe38c784157   \n",
       "\n",
       "                                                             sha256  \\\n",
       "0  7f514ed5e1ec262953e6252a4089531c519e95d700c5808415b0f049fc59a5f0   \n",
       "1  7f514ed5e1ec262953e6252a4089531c519e95d700c5808415b0f049fc59a5f0   \n",
       "2  7f514ed5e1ec262953e6252a4089531c519e95d700c5808415b0f049fc59a5f0   \n",
       "\n",
       "                                md5  \\\n",
       "0  855232a26e8afcd0cca5f816a1919dee   \n",
       "1  855232a26e8afcd0cca5f816a1919dee   \n",
       "2  855232a26e8afcd0cca5f816a1919dee   \n",
       "\n",
       "                                            threat_name threat_level  score  \n",
       "0                              Searching for the window      neutral    NaN  \n",
       "1                   Сreating synchronization primitives      neutral    NaN  \n",
       "2  Unauthorized injection to a recently created process      neutral    NaN  "
      ]
     },
     "execution_count": 19,
     "metadata": {},
     "output_type": "execute_result"
    }
   ],
   "source": [
    "behaviours = pd.read_csv(path_Behaviours, low_memory = False)\n",
    "behaviours.head(3)"
   ]
  },
  {
   "cell_type": "code",
   "execution_count": 20,
   "id": "d890c397",
   "metadata": {},
   "outputs": [
    {
     "name": "stdout",
     "output_type": "stream",
     "text": [
      "Duplicates:  True\n",
      "# not null values:  45665\n",
      "# null values:  11647\n",
      "# values:  57312\n",
      "# missings:  11647\n",
      "Completeness:  79.7%\n"
     ]
    }
   ],
   "source": [
    "print(\"Duplicates: \",behaviours.duplicated().any())\n",
    "#total number of not null values\n",
    "not_null_values = behaviours.count().sum()\n",
    "print(\"# not null values: \",not_null_values)\n",
    "#total number of null values\n",
    "null_values = behaviours.isnull().sum().sum()\n",
    "print(\"# null values: \",null_values)\n",
    "#total number of cells\n",
    "n_values = behaviours.shape[0]*behaviours.shape[1]\n",
    "print(\"# values: \",n_values)\n",
    "#we added to the set of missing values also 'na' and '--'\n",
    "missing_values = ['na','--', 'NaN', 'None', '']\n",
    "ds_property_nan = pd.read_csv(path_Behaviours, na_values = missing_values)\n",
    "print(\"# missings: \",ds_property_nan.isnull().sum().sum())\n",
    "\n",
    "#COMPLETENESS evaluation\n",
    "completeness = not_null_values / n_values\n",
    "completeness = '{0:.1f}%'.format(completeness*100)\n",
    "print(\"Completeness: \",completeness)"
   ]
  },
  {
   "cell_type": "code",
   "execution_count": 21,
   "id": "f0572eb7",
   "metadata": {},
   "outputs": [
    {
     "name": "stdout",
     "output_type": "stream",
     "text": [
      "Completeness for 'sha1': 100.00%\n",
      "Completeness for 'sha256': 100.00%\n",
      "Completeness for 'md5_hash': 100.00%\n",
      "Completeness for 'threat_name': 100.00%\n",
      "Completeness for 'threat_level': 47.45%\n",
      "Completeness for 'score': 30.62%\n"
     ]
    }
   ],
   "source": [
    "completeness = 1 - behaviours['sha1'].isna().mean()\n",
    "\n",
    "# Print the completeness percentage\n",
    "print(f\"Completeness for 'sha1': {completeness * 100:.2f}%\")\n",
    "\n",
    "completeness = 1 - behaviours['sha256'].isna().mean()\n",
    "\n",
    "# Print the completeness percentage\n",
    "print(f\"Completeness for 'sha256': {completeness * 100:.2f}%\")\n",
    "\n",
    "completeness = 1 - behaviours['md5'].isna().mean()\n",
    "\n",
    "# Print the completeness percentage\n",
    "print(f\"Completeness for 'md5_hash': {completeness * 100:.2f}%\")\n",
    "\n",
    "completeness = 1 - behaviours['threat_name'].isna().mean()\n",
    "\n",
    "# Print the completeness percentage\n",
    "print(f\"Completeness for 'threat_name': {completeness * 100:.2f}%\")\n",
    "\n",
    "completeness = 1 - behaviours['threat_level'].isna().mean()\n",
    "\n",
    "# Print the completeness percentage\n",
    "print(f\"Completeness for 'threat_level': {completeness * 100:.2f}%\")\n",
    "\n",
    "completeness = 1 - behaviours['score'].isna().mean()\n",
    "\n",
    "# Print the completeness percentage\n",
    "print(f\"Completeness for 'score': {completeness * 100:.2f}%\")"
   ]
  },
  {
   "cell_type": "code",
   "execution_count": 22,
   "id": "902ad734",
   "metadata": {},
   "outputs": [
    {
     "data": {
      "application/vnd.jupyter.widget-view+json": {
       "model_id": "dbe0fab872384b0fba87fce03f5aeaa4",
       "version_major": 2,
       "version_minor": 0
      },
      "text/plain": [
       "Summarize dataset:   0%|          | 0/5 [00:00<?, ?it/s]"
      ]
     },
     "metadata": {},
     "output_type": "display_data"
    },
    {
     "data": {
      "application/vnd.jupyter.widget-view+json": {
       "model_id": "4e6510aca7af409d9316d78417b0a560",
       "version_major": 2,
       "version_minor": 0
      },
      "text/plain": [
       "Generate report structure:   0%|          | 0/1 [00:00<?, ?it/s]"
      ]
     },
     "metadata": {},
     "output_type": "display_data"
    },
    {
     "data": {
      "application/vnd.jupyter.widget-view+json": {
       "model_id": "57ed99a8869244ebbfe95b4475409fc2",
       "version_major": 2,
       "version_minor": 0
      },
      "text/plain": [
       "Render HTML:   0%|          | 0/1 [00:00<?, ?it/s]"
      ]
     },
     "metadata": {},
     "output_type": "display_data"
    },
    {
     "data": {
      "application/vnd.jupyter.widget-view+json": {
       "model_id": "fd9fa129c9524fcb9a3a17861c0f669e",
       "version_major": 2,
       "version_minor": 0
      },
      "text/plain": [
       "Export report to file:   0%|          | 0/1 [00:00<?, ?it/s]"
      ]
     },
     "metadata": {},
     "output_type": "display_data"
    },
    {
     "data": {
      "application/vnd.jupyter.widget-view+json": {
       "model_id": "a0f50d825b4742c085e0a68fdcf76243",
       "version_major": 2,
       "version_minor": 0
      },
      "text/plain": [
       "Render JSON:   0%|          | 0/1 [00:00<?, ?it/s]"
      ]
     },
     "metadata": {},
     "output_type": "display_data"
    },
    {
     "data": {
      "application/vnd.jupyter.widget-view+json": {
       "model_id": "229717b48bbe456d8ab06384657fd949",
       "version_major": 2,
       "version_minor": 0
      },
      "text/plain": [
       "Export report to file:   0%|          | 0/1 [00:00<?, ?it/s]"
      ]
     },
     "metadata": {},
     "output_type": "display_data"
    }
   ],
   "source": [
    "profile = ProfileReport(behaviours, title=\"Malware Bazaar - Hash Analysis - Behaviours Report\", minimal=True)\n",
    "profile.to_file(\"C:\\\\Users\\\\leona\\\\OneDrive\\\\Desktop\\\\Tesi\\\\Pipeline\\\\Report\\\\Profiling step 15\\\\Malware_Bazaar\\\\MalwareBazaar_BehavioursReport.html\")\n",
    "\n",
    "# As a JSON string\n",
    "json_data = profile.to_json()\n",
    "\n",
    "# As a file\n",
    "profile.to_file(\"C:\\\\Users\\\\leona\\\\OneDrive\\\\Desktop\\\\Tesi\\\\Pipeline\\\\Report\\\\Profiling step 15\\\\Malware_Bazaar\\\\MalwareBazaar_BehavioursReport.json\")"
   ]
  },
  {
   "cell_type": "markdown",
   "id": "ce3f9c21",
   "metadata": {},
   "source": [
    "### Data Profiling - THREAT_VENDOR_ANALYSIS"
   ]
  },
  {
   "cell_type": "code",
   "execution_count": 23,
   "id": "95f2b1b1",
   "metadata": {},
   "outputs": [],
   "source": [
    "path_TV_Analysis = r\"C:\\\\Users\\\\leona\\\\OneDrive\\\\Desktop\\\\Tesi\\\\Pipeline\\\\Datasets\\\\Pipeline\\\\DataAnalysis\\\\malware_bazaar\\\\TV_Analysis.csv\""
   ]
  },
  {
   "cell_type": "code",
   "execution_count": 24,
   "id": "9169b5c3",
   "metadata": {
    "scrolled": false
   },
   "outputs": [
    {
     "data": {
      "text/html": [
       "<div>\n",
       "<style scoped>\n",
       "    .dataframe tbody tr th:only-of-type {\n",
       "        vertical-align: middle;\n",
       "    }\n",
       "\n",
       "    .dataframe tbody tr th {\n",
       "        vertical-align: top;\n",
       "    }\n",
       "\n",
       "    .dataframe thead th {\n",
       "        text-align: right;\n",
       "    }\n",
       "</style>\n",
       "<table border=\"1\" class=\"dataframe\">\n",
       "  <thead>\n",
       "    <tr style=\"text-align: right;\">\n",
       "      <th></th>\n",
       "      <th>sha1</th>\n",
       "      <th>sha256</th>\n",
       "      <th>md5</th>\n",
       "      <th>malware</th>\n",
       "      <th>verdict</th>\n",
       "      <th>threat_vendor_name</th>\n",
       "    </tr>\n",
       "  </thead>\n",
       "  <tbody>\n",
       "    <tr>\n",
       "      <th>0</th>\n",
       "      <td>411535c9548f86034a6a9a603de521a86a3b5466</td>\n",
       "      <td>04c53261b1220a894a02f5ffb39cdfd73f93481c0b5c8106d21c91b20205c62d</td>\n",
       "      <td>5b5a0225a2b7b9a054417662c733168a</td>\n",
       "      <td>PUA.Win.Packer.BorlandDelphi-15</td>\n",
       "      <td>NaN</td>\n",
       "      <td>clamav</td>\n",
       "    </tr>\n",
       "    <tr>\n",
       "      <th>1</th>\n",
       "      <td>1ad9e9761fd6935c0cf5048c9615d0383baac48e</td>\n",
       "      <td>ac901bf5882f14e9e07235b8488b6479b4519addda6dbfb89147401c1e9e6e4f</td>\n",
       "      <td>da9534900ee0d11c9b30cf33152ea03c</td>\n",
       "      <td>SecuriteInfo.com.Trojan.GenericKD.68242337.20401.3632.UNOFFICIAL</td>\n",
       "      <td>NaN</td>\n",
       "      <td>clamav</td>\n",
       "    </tr>\n",
       "    <tr>\n",
       "      <th>2</th>\n",
       "      <td>8ab63abfe58fb218cc001581ac0d9fe38c784157</td>\n",
       "      <td>7f514ed5e1ec262953e6252a4089531c519e95d700c5808415b0f049fc59a5f0</td>\n",
       "      <td>855232a26e8afcd0cca5f816a1919dee</td>\n",
       "      <td>Win.Trojan.Remcos-9753190-0</td>\n",
       "      <td>NaN</td>\n",
       "      <td>clamav</td>\n",
       "    </tr>\n",
       "  </tbody>\n",
       "</table>\n",
       "</div>"
      ],
      "text/plain": [
       "                                       sha1  \\\n",
       "0  411535c9548f86034a6a9a603de521a86a3b5466   \n",
       "1  1ad9e9761fd6935c0cf5048c9615d0383baac48e   \n",
       "2  8ab63abfe58fb218cc001581ac0d9fe38c784157   \n",
       "\n",
       "                                                             sha256  \\\n",
       "0  04c53261b1220a894a02f5ffb39cdfd73f93481c0b5c8106d21c91b20205c62d   \n",
       "1  ac901bf5882f14e9e07235b8488b6479b4519addda6dbfb89147401c1e9e6e4f   \n",
       "2  7f514ed5e1ec262953e6252a4089531c519e95d700c5808415b0f049fc59a5f0   \n",
       "\n",
       "                                md5  \\\n",
       "0  5b5a0225a2b7b9a054417662c733168a   \n",
       "1  da9534900ee0d11c9b30cf33152ea03c   \n",
       "2  855232a26e8afcd0cca5f816a1919dee   \n",
       "\n",
       "                                                            malware verdict  \\\n",
       "0                                   PUA.Win.Packer.BorlandDelphi-15     NaN   \n",
       "1  SecuriteInfo.com.Trojan.GenericKD.68242337.20401.3632.UNOFFICIAL     NaN   \n",
       "2                                       Win.Trojan.Remcos-9753190-0     NaN   \n",
       "\n",
       "  threat_vendor_name  \n",
       "0             clamav  \n",
       "1             clamav  \n",
       "2             clamav  "
      ]
     },
     "execution_count": 24,
     "metadata": {},
     "output_type": "execute_result"
    }
   ],
   "source": [
    "tv_analysis = pd.read_csv(path_TV_Analysis, low_memory = False)\n",
    "tv_analysis.head(3)"
   ]
  },
  {
   "cell_type": "code",
   "execution_count": 25,
   "id": "ae47fe63",
   "metadata": {},
   "outputs": [
    {
     "name": "stdout",
     "output_type": "stream",
     "text": [
      "Duplicates:  True\n",
      "# not null values:  35214\n",
      "# null values:  7830\n",
      "# values:  43044\n",
      "# missings:  7830\n",
      "Completeness:  81.8%\n"
     ]
    }
   ],
   "source": [
    "print(\"Duplicates: \",tv_analysis.duplicated().any())\n",
    "#total number of not null values\n",
    "not_null_values = tv_analysis.count().sum()\n",
    "print(\"# not null values: \",not_null_values)\n",
    "#total number of null values\n",
    "null_values = tv_analysis.isnull().sum().sum()\n",
    "print(\"# null values: \",null_values)\n",
    "#total number of cells\n",
    "n_values = tv_analysis.shape[0]*tv_analysis.shape[1]\n",
    "print(\"# values: \",n_values)\n",
    "#we added to the set of missing values also 'na' and '--'\n",
    "missing_values = ['na','--', 'NaN', 'None', '']\n",
    "ds_property_nan = pd.read_csv(path_TV_Analysis, na_values = missing_values)\n",
    "print(\"# missings: \",ds_property_nan.isnull().sum().sum())\n",
    "\n",
    "#COMPLETENESS evaluation\n",
    "completeness = not_null_values / n_values\n",
    "completeness = '{0:.1f}%'.format(completeness*100)\n",
    "print(\"Completeness: \",completeness)"
   ]
  },
  {
   "cell_type": "code",
   "execution_count": 26,
   "id": "886ae688",
   "metadata": {},
   "outputs": [
    {
     "name": "stdout",
     "output_type": "stream",
     "text": [
      "Completeness for 'sha1': 100.00%\n",
      "Completeness for 'sha256': 100.00%\n",
      "Completeness for 'md5': 100.00%\n",
      "Completeness for 'malware': 48.42%\n",
      "Completeness for 'verdict': 42.43%\n",
      "Completeness for 'threat_vendor_name': 100.00%\n"
     ]
    }
   ],
   "source": [
    "completeness = 1 - tv_analysis['sha1'].isna().mean()\n",
    "\n",
    "# Print the completeness percentage\n",
    "print(f\"Completeness for 'sha1': {completeness * 100:.2f}%\")\n",
    "\n",
    "completeness = 1 - tv_analysis['sha256'].isna().mean()\n",
    "\n",
    "# Print the completeness percentage\n",
    "print(f\"Completeness for 'sha256': {completeness * 100:.2f}%\")\n",
    "\n",
    "completeness = 1 - tv_analysis['md5'].isna().mean()\n",
    "\n",
    "# Print the completeness percentage\n",
    "print(f\"Completeness for 'md5': {completeness * 100:.2f}%\")\n",
    "\n",
    "completeness = 1 - tv_analysis['malware'].isna().mean()\n",
    "\n",
    "# Print the completeness percentage\n",
    "print(f\"Completeness for 'malware': {completeness * 100:.2f}%\")\n",
    "\n",
    "completeness = 1 - tv_analysis['verdict'].isna().mean()\n",
    "\n",
    "# Print the completeness percentage\n",
    "print(f\"Completeness for 'verdict': {completeness * 100:.2f}%\")\n",
    "\n",
    "completeness = 1 - tv_analysis['threat_vendor_name'].isna().mean()\n",
    "\n",
    "# Print the completeness percentage\n",
    "print(f\"Completeness for 'threat_vendor_name': {completeness * 100:.2f}%\")"
   ]
  },
  {
   "cell_type": "code",
   "execution_count": 27,
   "id": "0210bdd4",
   "metadata": {},
   "outputs": [
    {
     "data": {
      "application/vnd.jupyter.widget-view+json": {
       "model_id": "3b0970ac118a4f8abc9f8890ae3aba15",
       "version_major": 2,
       "version_minor": 0
      },
      "text/plain": [
       "Summarize dataset:   0%|          | 0/5 [00:00<?, ?it/s]"
      ]
     },
     "metadata": {},
     "output_type": "display_data"
    },
    {
     "data": {
      "application/vnd.jupyter.widget-view+json": {
       "model_id": "5cbc940ef8a94613acdf67774d055eb3",
       "version_major": 2,
       "version_minor": 0
      },
      "text/plain": [
       "Generate report structure:   0%|          | 0/1 [00:00<?, ?it/s]"
      ]
     },
     "metadata": {},
     "output_type": "display_data"
    },
    {
     "data": {
      "application/vnd.jupyter.widget-view+json": {
       "model_id": "8e6582f042b845d5ab01f7fd02e36406",
       "version_major": 2,
       "version_minor": 0
      },
      "text/plain": [
       "Render HTML:   0%|          | 0/1 [00:00<?, ?it/s]"
      ]
     },
     "metadata": {},
     "output_type": "display_data"
    },
    {
     "data": {
      "application/vnd.jupyter.widget-view+json": {
       "model_id": "9eb8ec08274f46ce971dee336bb904c6",
       "version_major": 2,
       "version_minor": 0
      },
      "text/plain": [
       "Export report to file:   0%|          | 0/1 [00:00<?, ?it/s]"
      ]
     },
     "metadata": {},
     "output_type": "display_data"
    },
    {
     "data": {
      "application/vnd.jupyter.widget-view+json": {
       "model_id": "dbe0afff896244e3a1c80958457f4440",
       "version_major": 2,
       "version_minor": 0
      },
      "text/plain": [
       "Render JSON:   0%|          | 0/1 [00:00<?, ?it/s]"
      ]
     },
     "metadata": {},
     "output_type": "display_data"
    },
    {
     "data": {
      "application/vnd.jupyter.widget-view+json": {
       "model_id": "fa41b40cdb914660b23a6828713f6061",
       "version_major": 2,
       "version_minor": 0
      },
      "text/plain": [
       "Export report to file:   0%|          | 0/1 [00:00<?, ?it/s]"
      ]
     },
     "metadata": {},
     "output_type": "display_data"
    }
   ],
   "source": [
    "profile = ProfileReport(tv_analysis, title=\"Malware Bazaar - Hash Analysis - Threat Vendor Analysis Report\", minimal=True)\n",
    "profile.to_file(\"C:\\\\Users\\\\leona\\\\OneDrive\\\\Desktop\\\\Tesi\\\\Pipeline\\\\Report\\\\Profiling step 15\\\\Malware_Bazaar\\\\MalwareBazaar_ThreatVendorAnalysisReport.html\")\n",
    "\n",
    "# As a JSON string\n",
    "json_data = profile.to_json()\n",
    "\n",
    "# As a file\n",
    "profile.to_file(\"C:\\\\Users\\\\leona\\\\OneDrive\\\\Desktop\\\\Tesi\\\\Pipeline\\\\Report\\\\Profiling step 15\\\\Malware_Bazaar\\\\MalwareBazaar_ThreatVendorAnalysisReport.json\")"
   ]
  },
  {
   "cell_type": "code",
   "execution_count": null,
   "id": "08ee98e5",
   "metadata": {},
   "outputs": [],
   "source": []
  },
  {
   "cell_type": "code",
   "execution_count": null,
   "id": "c090c22d",
   "metadata": {},
   "outputs": [],
   "source": []
  }
 ],
 "metadata": {
  "kernelspec": {
   "display_name": "Python 3 (ipykernel)",
   "language": "python",
   "name": "python3"
  },
  "language_info": {
   "codemirror_mode": {
    "name": "ipython",
    "version": 3
   },
   "file_extension": ".py",
   "mimetype": "text/x-python",
   "name": "python",
   "nbconvert_exporter": "python",
   "pygments_lexer": "ipython3",
   "version": "3.11.5"
  }
 },
 "nbformat": 4,
 "nbformat_minor": 5
}
