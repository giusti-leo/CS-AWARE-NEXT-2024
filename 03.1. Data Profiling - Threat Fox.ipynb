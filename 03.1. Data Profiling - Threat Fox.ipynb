{
 "cells": [
  {
   "cell_type": "markdown",
   "id": "7c5b6581",
   "metadata": {},
   "source": [
    "# 3.1. Data Profiling - Threat Fox"
   ]
  },
  {
   "cell_type": "code",
   "execution_count": 1,
   "id": "d0f57648",
   "metadata": {},
   "outputs": [],
   "source": [
    "import datetime\n",
    "import os\n",
    "import time\n",
    "import pandas as pd \n",
    "import requests\n",
    "import urllib3\n",
    "import json\n",
    "import sys\n",
    "import numpy as np\n",
    "\n",
    "pd.options.display.max_colwidth = 1000\n",
    "pd.set_option('display.max_columns', None)"
   ]
  },
  {
   "cell_type": "code",
   "execution_count": 2,
   "id": "dea2ef4b",
   "metadata": {},
   "outputs": [],
   "source": [
    "entries  = r\"C:\\\\Users\\\\leona\\\\OneDrive\\\\Desktop\\\\Tesi\\\\Pipeline\\\\Datasets\\\\Pipeline\\\\IocSegnalations\\\\PostDataStructurization\\\\Threat_Fox\\\\Entries.csv\"\n",
    "tags     = r\"C:\\\\Users\\\\leona\\\\OneDrive\\\\Desktop\\\\Tesi\\\\Pipeline\\\\Datasets\\\\Pipeline\\\\IocSegnalations\\\\PostDataStructurization\\\\Threat_Fox\\\\Tags.csv\"\n",
    "malwares = r\"C:\\\\Users\\\\leona\\\\OneDrive\\\\Desktop\\\\Tesi\\\\Pipeline\\\\Datasets\\\\Pipeline\\\\IocSegnalations\\\\PostDataStructurization\\\\Threat_Fox\\\\Malwares.csv\"\n",
    "alias    = r\"C:\\\\Users\\\\leona\\\\OneDrive\\\\Desktop\\\\Tesi\\\\Pipeline\\\\Datasets\\\\Pipeline\\\\IocSegnalations\\\\PostDataStructurization\\\\Threat_Fox\\\\Alias.csv\""
   ]
  },
  {
   "cell_type": "markdown",
   "id": "82a9cf3e",
   "metadata": {},
   "source": [
    "## Data Profiling - Entries"
   ]
  },
  {
   "cell_type": "code",
   "execution_count": 3,
   "id": "919784a0",
   "metadata": {},
   "outputs": [
    {
     "data": {
      "text/html": [
       "<div>\n",
       "<style scoped>\n",
       "    .dataframe tbody tr th:only-of-type {\n",
       "        vertical-align: middle;\n",
       "    }\n",
       "\n",
       "    .dataframe tbody tr th {\n",
       "        vertical-align: top;\n",
       "    }\n",
       "\n",
       "    .dataframe thead th {\n",
       "        text-align: right;\n",
       "    }\n",
       "</style>\n",
       "<table border=\"1\" class=\"dataframe\">\n",
       "  <thead>\n",
       "    <tr style=\"text-align: right;\">\n",
       "      <th></th>\n",
       "      <th>id</th>\n",
       "      <th>ioc</th>\n",
       "      <th>threat_type</th>\n",
       "      <th>ioc_type</th>\n",
       "      <th>malware_printable</th>\n",
       "      <th>malware_malpedia</th>\n",
       "      <th>first_seen</th>\n",
       "      <th>last_seen</th>\n",
       "      <th>reference</th>\n",
       "      <th>reporter</th>\n",
       "    </tr>\n",
       "  </thead>\n",
       "  <tbody>\n",
       "    <tr>\n",
       "      <th>0</th>\n",
       "      <td>1163856</td>\n",
       "      <td>146.56.118.82:443</td>\n",
       "      <td>botnet_cc</td>\n",
       "      <td>ip:port</td>\n",
       "      <td>Cobalt Strike</td>\n",
       "      <td>https://malpedia.caad.fkie.fraunhofer.de/details/win.cobalt_strike</td>\n",
       "      <td>2023-09-15 12:17:38 UTC</td>\n",
       "      <td>NaN</td>\n",
       "      <td>NaN</td>\n",
       "      <td>malpulse</td>\n",
       "    </tr>\n",
       "    <tr>\n",
       "      <th>1</th>\n",
       "      <td>1163857</td>\n",
       "      <td>47.94.206.253:8090</td>\n",
       "      <td>botnet_cc</td>\n",
       "      <td>ip:port</td>\n",
       "      <td>Cobalt Strike</td>\n",
       "      <td>https://malpedia.caad.fkie.fraunhofer.de/details/win.cobalt_strike</td>\n",
       "      <td>2023-09-15 12:17:37 UTC</td>\n",
       "      <td>NaN</td>\n",
       "      <td>NaN</td>\n",
       "      <td>malpulse</td>\n",
       "    </tr>\n",
       "    <tr>\n",
       "      <th>2</th>\n",
       "      <td>1163858</td>\n",
       "      <td>80.96.156.43:444</td>\n",
       "      <td>botnet_cc</td>\n",
       "      <td>ip:port</td>\n",
       "      <td>Cobalt Strike</td>\n",
       "      <td>https://malpedia.caad.fkie.fraunhofer.de/details/win.cobalt_strike</td>\n",
       "      <td>2023-09-15 12:17:37 UTC</td>\n",
       "      <td>NaN</td>\n",
       "      <td>NaN</td>\n",
       "      <td>malpulse</td>\n",
       "    </tr>\n",
       "    <tr>\n",
       "      <th>3</th>\n",
       "      <td>1163859</td>\n",
       "      <td>91.193.75.135:7245</td>\n",
       "      <td>botnet_cc</td>\n",
       "      <td>ip:port</td>\n",
       "      <td>Nanocore RAT</td>\n",
       "      <td>https://malpedia.caad.fkie.fraunhofer.de/details/win.nanocore</td>\n",
       "      <td>2023-09-15 12:17:37 UTC</td>\n",
       "      <td>NaN</td>\n",
       "      <td>NaN</td>\n",
       "      <td>SarlackLab</td>\n",
       "    </tr>\n",
       "    <tr>\n",
       "      <th>4</th>\n",
       "      <td>1163860</td>\n",
       "      <td>7245.ddns.net</td>\n",
       "      <td>botnet_cc</td>\n",
       "      <td>domain</td>\n",
       "      <td>Nanocore RAT</td>\n",
       "      <td>https://malpedia.caad.fkie.fraunhofer.de/details/win.nanocore</td>\n",
       "      <td>2023-09-15 12:17:36 UTC</td>\n",
       "      <td>NaN</td>\n",
       "      <td>NaN</td>\n",
       "      <td>SarlackLab</td>\n",
       "    </tr>\n",
       "    <tr>\n",
       "      <th>...</th>\n",
       "      <td>...</td>\n",
       "      <td>...</td>\n",
       "      <td>...</td>\n",
       "      <td>...</td>\n",
       "      <td>...</td>\n",
       "      <td>...</td>\n",
       "      <td>...</td>\n",
       "      <td>...</td>\n",
       "      <td>...</td>\n",
       "      <td>...</td>\n",
       "    </tr>\n",
       "    <tr>\n",
       "      <th>8186</th>\n",
       "      <td>1155702</td>\n",
       "      <td>41.68.165.218:1177</td>\n",
       "      <td>botnet_cc</td>\n",
       "      <td>ip:port</td>\n",
       "      <td>NjRAT</td>\n",
       "      <td>https://malpedia.caad.fkie.fraunhofer.de/details/win.njrat</td>\n",
       "      <td>2023-09-08 14:45:14 UTC</td>\n",
       "      <td>NaN</td>\n",
       "      <td>NaN</td>\n",
       "      <td>abuse_ch</td>\n",
       "    </tr>\n",
       "    <tr>\n",
       "      <th>8187</th>\n",
       "      <td>1155701</td>\n",
       "      <td>41.216.188.29:5200</td>\n",
       "      <td>botnet_cc</td>\n",
       "      <td>ip:port</td>\n",
       "      <td>Ave Maria</td>\n",
       "      <td>https://malpedia.caad.fkie.fraunhofer.de/details/win.ave_maria</td>\n",
       "      <td>2023-09-08 14:00:16 UTC</td>\n",
       "      <td>NaN</td>\n",
       "      <td>NaN</td>\n",
       "      <td>abuse_ch</td>\n",
       "    </tr>\n",
       "    <tr>\n",
       "      <th>8188</th>\n",
       "      <td>1155700</td>\n",
       "      <td>193.31.28.123:4444</td>\n",
       "      <td>botnet_cc</td>\n",
       "      <td>ip:port</td>\n",
       "      <td>Meterpreter</td>\n",
       "      <td>https://malpedia.caad.fkie.fraunhofer.de/details/win.meterpreter</td>\n",
       "      <td>2023-09-08 13:35:13 UTC</td>\n",
       "      <td>NaN</td>\n",
       "      <td>NaN</td>\n",
       "      <td>abuse_ch</td>\n",
       "    </tr>\n",
       "    <tr>\n",
       "      <th>8189</th>\n",
       "      <td>1155698</td>\n",
       "      <td>162.33.179.240:433</td>\n",
       "      <td>botnet_cc</td>\n",
       "      <td>ip:port</td>\n",
       "      <td>IcedID</td>\n",
       "      <td>https://malpedia.caad.fkie.fraunhofer.de/details/win.icedid</td>\n",
       "      <td>2023-09-08 13:33:51 UTC</td>\n",
       "      <td>NaN</td>\n",
       "      <td>NaN</td>\n",
       "      <td>abuse_ch</td>\n",
       "    </tr>\n",
       "    <tr>\n",
       "      <th>8190</th>\n",
       "      <td>1155699</td>\n",
       "      <td>45.61.138.12:443</td>\n",
       "      <td>botnet_cc</td>\n",
       "      <td>ip:port</td>\n",
       "      <td>IcedID</td>\n",
       "      <td>https://malpedia.caad.fkie.fraunhofer.de/details/win.icedid</td>\n",
       "      <td>2023-09-08 13:33:51 UTC</td>\n",
       "      <td>2023-09-14 15:33:40 UTC</td>\n",
       "      <td>NaN</td>\n",
       "      <td>abuse_ch</td>\n",
       "    </tr>\n",
       "  </tbody>\n",
       "</table>\n",
       "<p>8191 rows × 10 columns</p>\n",
       "</div>"
      ],
      "text/plain": [
       "           id                 ioc threat_type ioc_type malware_printable  \\\n",
       "0     1163856   146.56.118.82:443   botnet_cc  ip:port     Cobalt Strike   \n",
       "1     1163857  47.94.206.253:8090   botnet_cc  ip:port     Cobalt Strike   \n",
       "2     1163858    80.96.156.43:444   botnet_cc  ip:port     Cobalt Strike   \n",
       "3     1163859  91.193.75.135:7245   botnet_cc  ip:port      Nanocore RAT   \n",
       "4     1163860       7245.ddns.net   botnet_cc   domain      Nanocore RAT   \n",
       "...       ...                 ...         ...      ...               ...   \n",
       "8186  1155702  41.68.165.218:1177   botnet_cc  ip:port             NjRAT   \n",
       "8187  1155701  41.216.188.29:5200   botnet_cc  ip:port         Ave Maria   \n",
       "8188  1155700  193.31.28.123:4444   botnet_cc  ip:port       Meterpreter   \n",
       "8189  1155698  162.33.179.240:433   botnet_cc  ip:port            IcedID   \n",
       "8190  1155699    45.61.138.12:443   botnet_cc  ip:port            IcedID   \n",
       "\n",
       "                                                        malware_malpedia  \\\n",
       "0     https://malpedia.caad.fkie.fraunhofer.de/details/win.cobalt_strike   \n",
       "1     https://malpedia.caad.fkie.fraunhofer.de/details/win.cobalt_strike   \n",
       "2     https://malpedia.caad.fkie.fraunhofer.de/details/win.cobalt_strike   \n",
       "3          https://malpedia.caad.fkie.fraunhofer.de/details/win.nanocore   \n",
       "4          https://malpedia.caad.fkie.fraunhofer.de/details/win.nanocore   \n",
       "...                                                                  ...   \n",
       "8186          https://malpedia.caad.fkie.fraunhofer.de/details/win.njrat   \n",
       "8187      https://malpedia.caad.fkie.fraunhofer.de/details/win.ave_maria   \n",
       "8188    https://malpedia.caad.fkie.fraunhofer.de/details/win.meterpreter   \n",
       "8189         https://malpedia.caad.fkie.fraunhofer.de/details/win.icedid   \n",
       "8190         https://malpedia.caad.fkie.fraunhofer.de/details/win.icedid   \n",
       "\n",
       "                   first_seen                last_seen reference    reporter  \n",
       "0     2023-09-15 12:17:38 UTC                      NaN       NaN    malpulse  \n",
       "1     2023-09-15 12:17:37 UTC                      NaN       NaN    malpulse  \n",
       "2     2023-09-15 12:17:37 UTC                      NaN       NaN    malpulse  \n",
       "3     2023-09-15 12:17:37 UTC                      NaN       NaN  SarlackLab  \n",
       "4     2023-09-15 12:17:36 UTC                      NaN       NaN  SarlackLab  \n",
       "...                       ...                      ...       ...         ...  \n",
       "8186  2023-09-08 14:45:14 UTC                      NaN       NaN    abuse_ch  \n",
       "8187  2023-09-08 14:00:16 UTC                      NaN       NaN    abuse_ch  \n",
       "8188  2023-09-08 13:35:13 UTC                      NaN       NaN    abuse_ch  \n",
       "8189  2023-09-08 13:33:51 UTC                      NaN       NaN    abuse_ch  \n",
       "8190  2023-09-08 13:33:51 UTC  2023-09-14 15:33:40 UTC       NaN    abuse_ch  \n",
       "\n",
       "[8191 rows x 10 columns]"
      ]
     },
     "execution_count": 3,
     "metadata": {},
     "output_type": "execute_result"
    }
   ],
   "source": [
    "entries_df = pd.read_csv(entries, low_memory = False )\n",
    "entries_df"
   ]
  },
  {
   "cell_type": "code",
   "execution_count": 4,
   "id": "11a59fe9",
   "metadata": {},
   "outputs": [
    {
     "name": "stdout",
     "output_type": "stream",
     "text": [
      "Duplicates:  False\n",
      "# not null values:  67235\n",
      "# null values:  14675\n",
      "# values:  81910\n",
      "# missings:  14675\n"
     ]
    }
   ],
   "source": [
    "print(\"Duplicates: \",entries_df.duplicated().any())\n",
    "#total number of not null values\n",
    "not_null_values = entries_df.count().sum()\n",
    "print(\"# not null values: \",not_null_values)\n",
    "#total number of null values\n",
    "null_values = entries_df.isnull().sum().sum()\n",
    "print(\"# null values: \",null_values)\n",
    "#total number of cells\n",
    "n_values = entries_df.shape[0]*entries_df.shape[1]\n",
    "print(\"# values: \",n_values)\n",
    "#we added to the set of missing values also 'na' and '--'\n",
    "missing_values = ['na','--', 'NaN']\n",
    "ds_property_nan = pd.read_csv(entries, na_values = missing_values)\n",
    "print(\"# missings: \",ds_property_nan.isnull().sum().sum())"
   ]
  },
  {
   "cell_type": "markdown",
   "id": "caff1026",
   "metadata": {},
   "source": [
    "## Completeness"
   ]
  },
  {
   "cell_type": "code",
   "execution_count": 5,
   "id": "a306e666",
   "metadata": {},
   "outputs": [
    {
     "name": "stdout",
     "output_type": "stream",
     "text": [
      "Completeness:  82.1%\n"
     ]
    }
   ],
   "source": [
    "#COMPLETENESS evaluation\n",
    "completeness = not_null_values / n_values\n",
    "completeness = '{0:.1f}%'.format(completeness*100)\n",
    "print(\"Completeness: \",completeness)"
   ]
  },
  {
   "cell_type": "markdown",
   "id": "8f74d9e5",
   "metadata": {},
   "source": [
    "## Timeliness"
   ]
  },
  {
   "cell_type": "code",
   "execution_count": 6,
   "id": "e57a37d0",
   "metadata": {},
   "outputs": [
    {
     "name": "stderr",
     "output_type": "stream",
     "text": [
      "C:\\Users\\leona\\AppData\\Local\\Temp\\ipykernel_18824\\1926436964.py:6: FutureWarning: The argument 'date_parser' is deprecated and will be removed in a future version. Please use 'date_format' instead, or read your data in as 'object' dtype and then call 'to_datetime'.\n",
      "  ds_property_t = pd.read_csv(entries, parse_dates= temp_columns, date_parser=dateparse)\n"
     ]
    }
   ],
   "source": [
    "from datetime import datetime\n",
    "\n",
    "temp_columns = ['first_seen']\n",
    "\n",
    "dateparse = lambda x: datetime.strptime(str(x), '%Y-%m-%d %H:%M:%S UTC')\n",
    "ds_property_t = pd.read_csv(entries, parse_dates= temp_columns, date_parser=dateparse)\n",
    "\n",
    "volatility = 20\n",
    "today = datetime(2023, 9, 15)\n",
    "ds_property_t['currency'] = (today-ds_property_t['first_seen']).dt.days\n",
    "\n",
    "#adding a column with the timeliness computation\n",
    "#if volatility is greater than currency the timeliness is equal to 1-currency/volatility, otherwise is 0\n",
    "ds_property_t['Timeliness'] = np.where(volatility>ds_property_t['currency'],\n",
    "                                       1-(ds_property_t['currency']/volatility),\n",
    "                                       0)"
   ]
  },
  {
   "cell_type": "code",
   "execution_count": 7,
   "id": "5f956493",
   "metadata": {},
   "outputs": [
    {
     "name": "stdout",
     "output_type": "stream",
     "text": [
      "Average Timeliness:  0.8165852765230133\n",
      "Maximum Timeliness: 1.05\n",
      "Minimum Timeliness: 0.7\n"
     ]
    }
   ],
   "source": [
    "print(\"Average Timeliness: \", ds_property_t['Timeliness'].mean())\n",
    "print(\"Maximum Timeliness:\", ds_property_t['Timeliness'].max())\n",
    "print(\"Minimum Timeliness:\", ds_property_t['Timeliness'].min())"
   ]
  },
  {
   "cell_type": "markdown",
   "id": "3b16b239",
   "metadata": {},
   "source": [
    "### Profiling Auto-report"
   ]
  },
  {
   "cell_type": "code",
   "execution_count": 8,
   "id": "9b44f77d",
   "metadata": {},
   "outputs": [
    {
     "name": "stdout",
     "output_type": "stream",
     "text": [
      "Requirement already satisfied: pandas-profiling in c:\\users\\leona\\anaconda3\\lib\\site-packages (3.2.0)\n",
      "Requirement already satisfied: joblib~=1.1.0 in c:\\users\\leona\\anaconda3\\lib\\site-packages (from pandas-profiling) (1.1.1)\n",
      "Requirement already satisfied: scipy>=1.4.1 in c:\\users\\leona\\anaconda3\\lib\\site-packages (from pandas-profiling) (1.11.1)\n",
      "Requirement already satisfied: pandas!=1.0.0,!=1.0.1,!=1.0.2,!=1.1.0,>=0.25.3 in c:\\users\\leona\\anaconda3\\lib\\site-packages (from pandas-profiling) (2.0.3)\n",
      "Requirement already satisfied: matplotlib>=3.2.0 in c:\\users\\leona\\anaconda3\\lib\\site-packages (from pandas-profiling) (3.7.2)\n",
      "Requirement already satisfied: pydantic>=1.8.1 in c:\\users\\leona\\anaconda3\\lib\\site-packages (from pandas-profiling) (2.5.3)\n",
      "Requirement already satisfied: PyYAML>=5.0.0 in c:\\users\\leona\\anaconda3\\lib\\site-packages (from pandas-profiling) (6.0)\n",
      "Requirement already satisfied: jinja2>=2.11.1 in c:\\users\\leona\\anaconda3\\lib\\site-packages (from pandas-profiling) (3.1.2)\n",
      "Requirement already satisfied: markupsafe~=2.1.1 in c:\\users\\leona\\anaconda3\\lib\\site-packages (from pandas-profiling) (2.1.1)\n",
      "Collecting visions[type_image_path]==0.7.4 (from pandas-profiling)\n",
      "  Using cached visions-0.7.4-py3-none-any.whl (102 kB)\n",
      "Requirement already satisfied: numpy>=1.16.0 in c:\\users\\leona\\anaconda3\\lib\\site-packages (from pandas-profiling) (1.24.3)\n",
      "Requirement already satisfied: htmlmin>=0.1.12 in c:\\users\\leona\\anaconda3\\lib\\site-packages (from pandas-profiling) (0.1.12)\n",
      "Requirement already satisfied: missingno>=0.4.2 in c:\\users\\leona\\anaconda3\\lib\\site-packages (from pandas-profiling) (0.5.2)\n",
      "Requirement already satisfied: phik>=0.11.1 in c:\\users\\leona\\anaconda3\\lib\\site-packages (from pandas-profiling) (0.12.3)\n",
      "Requirement already satisfied: tangled-up-in-unicode==0.2.0 in c:\\users\\leona\\anaconda3\\lib\\site-packages (from pandas-profiling) (0.2.0)\n",
      "Requirement already satisfied: requests>=2.24.0 in c:\\users\\leona\\anaconda3\\lib\\site-packages (from pandas-profiling) (2.31.0)\n",
      "Requirement already satisfied: tqdm>=4.48.2 in c:\\users\\leona\\anaconda3\\lib\\site-packages (from pandas-profiling) (4.65.0)\n",
      "Requirement already satisfied: seaborn>=0.10.1 in c:\\users\\leona\\anaconda3\\lib\\site-packages (from pandas-profiling) (0.12.2)\n",
      "Requirement already satisfied: multimethod>=1.4 in c:\\users\\leona\\anaconda3\\lib\\site-packages (from pandas-profiling) (1.10)\n",
      "Requirement already satisfied: attrs>=19.3.0 in c:\\users\\leona\\anaconda3\\lib\\site-packages (from visions[type_image_path]==0.7.4->pandas-profiling) (23.1.0)\n",
      "Requirement already satisfied: networkx>=2.4 in c:\\users\\leona\\anaconda3\\lib\\site-packages (from visions[type_image_path]==0.7.4->pandas-profiling) (3.1)\n",
      "Requirement already satisfied: imagehash in c:\\users\\leona\\anaconda3\\lib\\site-packages (from visions[type_image_path]==0.7.4->pandas-profiling) (4.3.1)\n",
      "Requirement already satisfied: Pillow in c:\\users\\leona\\anaconda3\\lib\\site-packages (from visions[type_image_path]==0.7.4->pandas-profiling) (9.4.0)\n",
      "Requirement already satisfied: contourpy>=1.0.1 in c:\\users\\leona\\anaconda3\\lib\\site-packages (from matplotlib>=3.2.0->pandas-profiling) (1.0.5)\n",
      "Requirement already satisfied: cycler>=0.10 in c:\\users\\leona\\anaconda3\\lib\\site-packages (from matplotlib>=3.2.0->pandas-profiling) (0.11.0)\n",
      "Requirement already satisfied: fonttools>=4.22.0 in c:\\users\\leona\\anaconda3\\lib\\site-packages (from matplotlib>=3.2.0->pandas-profiling) (4.25.0)\n",
      "Requirement already satisfied: kiwisolver>=1.0.1 in c:\\users\\leona\\anaconda3\\lib\\site-packages (from matplotlib>=3.2.0->pandas-profiling) (1.4.4)\n",
      "Requirement already satisfied: packaging>=20.0 in c:\\users\\leona\\anaconda3\\lib\\site-packages (from matplotlib>=3.2.0->pandas-profiling) (23.1)\n",
      "Requirement already satisfied: pyparsing<3.1,>=2.3.1 in c:\\users\\leona\\anaconda3\\lib\\site-packages (from matplotlib>=3.2.0->pandas-profiling) (3.0.9)\n",
      "Requirement already satisfied: python-dateutil>=2.7 in c:\\users\\leona\\anaconda3\\lib\\site-packages (from matplotlib>=3.2.0->pandas-profiling) (2.8.2)\n",
      "Requirement already satisfied: pytz>=2020.1 in c:\\users\\leona\\anaconda3\\lib\\site-packages (from pandas!=1.0.0,!=1.0.1,!=1.0.2,!=1.1.0,>=0.25.3->pandas-profiling) (2023.3.post1)\n",
      "Requirement already satisfied: tzdata>=2022.1 in c:\\users\\leona\\anaconda3\\lib\\site-packages (from pandas!=1.0.0,!=1.0.1,!=1.0.2,!=1.1.0,>=0.25.3->pandas-profiling) (2023.3)\n",
      "Requirement already satisfied: annotated-types>=0.4.0 in c:\\users\\leona\\anaconda3\\lib\\site-packages (from pydantic>=1.8.1->pandas-profiling) (0.6.0)\n",
      "Requirement already satisfied: pydantic-core==2.14.6 in c:\\users\\leona\\anaconda3\\lib\\site-packages (from pydantic>=1.8.1->pandas-profiling) (2.14.6)\n",
      "Requirement already satisfied: typing-extensions>=4.6.1 in c:\\users\\leona\\anaconda3\\lib\\site-packages (from pydantic>=1.8.1->pandas-profiling) (4.7.1)\n",
      "Requirement already satisfied: charset-normalizer<4,>=2 in c:\\users\\leona\\anaconda3\\lib\\site-packages (from requests>=2.24.0->pandas-profiling) (2.0.4)\n",
      "Requirement already satisfied: idna<4,>=2.5 in c:\\users\\leona\\anaconda3\\lib\\site-packages (from requests>=2.24.0->pandas-profiling) (3.4)\n",
      "Requirement already satisfied: urllib3<3,>=1.21.1 in c:\\users\\leona\\anaconda3\\lib\\site-packages (from requests>=2.24.0->pandas-profiling) (1.26.16)\n",
      "Requirement already satisfied: certifi>=2017.4.17 in c:\\users\\leona\\anaconda3\\lib\\site-packages (from requests>=2.24.0->pandas-profiling) (2023.7.22)\n",
      "Requirement already satisfied: colorama in c:\\users\\leona\\anaconda3\\lib\\site-packages (from tqdm>=4.48.2->pandas-profiling) (0.4.6)\n",
      "Requirement already satisfied: six>=1.5 in c:\\users\\leona\\anaconda3\\lib\\site-packages (from python-dateutil>=2.7->matplotlib>=3.2.0->pandas-profiling) (1.16.0)\n",
      "Requirement already satisfied: PyWavelets in c:\\users\\leona\\anaconda3\\lib\\site-packages (from imagehash->visions[type_image_path]==0.7.4->pandas-profiling) (1.4.1)\n",
      "Installing collected packages: visions\n",
      "  Attempting uninstall: visions\n",
      "    Found existing installation: visions 0.7.5\n",
      "    Uninstalling visions-0.7.5:\n",
      "      Successfully uninstalled visions-0.7.5\n",
      "Successfully installed visions-0.7.4\n",
      "Note: you may need to restart the kernel to use updated packages.\n"
     ]
    },
    {
     "name": "stderr",
     "output_type": "stream",
     "text": [
      "ERROR: pip's dependency resolver does not currently take into account all the packages that are installed. This behaviour is the source of the following dependency conflicts.\n",
      "ydata-profiling 4.6.3 requires visions[type_image_path]==0.7.5, but you have visions 0.7.4 which is incompatible.\n"
     ]
    }
   ],
   "source": [
    "pip install pandas-profiling"
   ]
  },
  {
   "cell_type": "code",
   "execution_count": 9,
   "id": "823754d6",
   "metadata": {},
   "outputs": [
    {
     "name": "stdout",
     "output_type": "stream",
     "text": [
      "Requirement already satisfied: numba in c:\\users\\leona\\anaconda3\\lib\\site-packages (0.58.1)\n",
      "Requirement already satisfied: llvmlite<0.42,>=0.41.0dev0 in c:\\users\\leona\\anaconda3\\lib\\site-packages (from numba) (0.41.1)\n",
      "Requirement already satisfied: numpy<1.27,>=1.22 in c:\\users\\leona\\anaconda3\\lib\\site-packages (from numba) (1.24.3)\n",
      "Note: you may need to restart the kernel to use updated packages.\n"
     ]
    }
   ],
   "source": [
    "pip install --upgrade numba"
   ]
  },
  {
   "cell_type": "code",
   "execution_count": 10,
   "id": "50062f71",
   "metadata": {},
   "outputs": [
    {
     "name": "stdout",
     "output_type": "stream",
     "text": [
      "Requirement already satisfied: visions==0.7.4 in c:\\users\\leona\\anaconda3\\lib\\site-packages (0.7.4)\n",
      "Requirement already satisfied: numpy in c:\\users\\leona\\anaconda3\\lib\\site-packages (from visions==0.7.4) (1.24.3)\n",
      "Requirement already satisfied: pandas>=0.25.3 in c:\\users\\leona\\anaconda3\\lib\\site-packages (from visions==0.7.4) (2.0.3)\n",
      "Requirement already satisfied: attrs>=19.3.0 in c:\\users\\leona\\anaconda3\\lib\\site-packages (from visions==0.7.4) (23.1.0)\n",
      "Requirement already satisfied: networkx>=2.4 in c:\\users\\leona\\anaconda3\\lib\\site-packages (from visions==0.7.4) (3.1)\n",
      "Requirement already satisfied: tangled-up-in-unicode>=0.0.4 in c:\\users\\leona\\anaconda3\\lib\\site-packages (from visions==0.7.4) (0.2.0)\n",
      "Requirement already satisfied: multimethod>=1.4 in c:\\users\\leona\\anaconda3\\lib\\site-packages (from visions==0.7.4) (1.10)\n",
      "Requirement already satisfied: python-dateutil>=2.8.2 in c:\\users\\leona\\anaconda3\\lib\\site-packages (from pandas>=0.25.3->visions==0.7.4) (2.8.2)\n",
      "Requirement already satisfied: pytz>=2020.1 in c:\\users\\leona\\anaconda3\\lib\\site-packages (from pandas>=0.25.3->visions==0.7.4) (2023.3.post1)\n",
      "Requirement already satisfied: tzdata>=2022.1 in c:\\users\\leona\\anaconda3\\lib\\site-packages (from pandas>=0.25.3->visions==0.7.4) (2023.3)\n",
      "Requirement already satisfied: six>=1.5 in c:\\users\\leona\\anaconda3\\lib\\site-packages (from python-dateutil>=2.8.2->pandas>=0.25.3->visions==0.7.4) (1.16.0)\n",
      "Note: you may need to restart the kernel to use updated packages.\n"
     ]
    }
   ],
   "source": [
    "pip install visions==0.7.4"
   ]
  },
  {
   "cell_type": "code",
   "execution_count": 11,
   "id": "20083b50",
   "metadata": {},
   "outputs": [
    {
     "name": "stdout",
     "output_type": "stream",
     "text": [
      "Requirement already satisfied: pydantic in c:\\users\\leona\\anaconda3\\lib\\site-packages (2.5.3)\n",
      "Requirement already satisfied: pydantic-settings in c:\\users\\leona\\anaconda3\\lib\\site-packages (2.1.0)\n",
      "Requirement already satisfied: annotated-types>=0.4.0 in c:\\users\\leona\\anaconda3\\lib\\site-packages (from pydantic) (0.6.0)\n",
      "Requirement already satisfied: pydantic-core==2.14.6 in c:\\users\\leona\\anaconda3\\lib\\site-packages (from pydantic) (2.14.6)\n",
      "Requirement already satisfied: typing-extensions>=4.6.1 in c:\\users\\leona\\anaconda3\\lib\\site-packages (from pydantic) (4.7.1)\n",
      "Requirement already satisfied: python-dotenv>=0.21.0 in c:\\users\\leona\\anaconda3\\lib\\site-packages (from pydantic-settings) (0.21.0)\n",
      "Note: you may need to restart the kernel to use updated packages.\n"
     ]
    }
   ],
   "source": [
    "pip install --upgrade pydantic pydantic-settings"
   ]
  },
  {
   "cell_type": "code",
   "execution_count": 12,
   "id": "6e9193d3",
   "metadata": {},
   "outputs": [
    {
     "name": "stdout",
     "output_type": "stream",
     "text": [
      "Requirement already satisfied: ydata-profiling in c:\\users\\leona\\anaconda3\\lib\\site-packages (4.6.3)\n",
      "Requirement already satisfied: scipy<1.12,>=1.4.1 in c:\\users\\leona\\anaconda3\\lib\\site-packages (from ydata-profiling) (1.11.1)\n",
      "Requirement already satisfied: pandas!=1.4.0,<3,>1.1 in c:\\users\\leona\\anaconda3\\lib\\site-packages (from ydata-profiling) (2.0.3)\n",
      "Requirement already satisfied: matplotlib<3.9,>=3.2 in c:\\users\\leona\\anaconda3\\lib\\site-packages (from ydata-profiling) (3.7.2)\n",
      "Requirement already satisfied: pydantic>=2 in c:\\users\\leona\\anaconda3\\lib\\site-packages (from ydata-profiling) (2.5.3)\n",
      "Requirement already satisfied: PyYAML<6.1,>=5.0.0 in c:\\users\\leona\\anaconda3\\lib\\site-packages (from ydata-profiling) (6.0)\n",
      "Requirement already satisfied: jinja2<3.2,>=2.11.1 in c:\\users\\leona\\anaconda3\\lib\\site-packages (from ydata-profiling) (3.1.2)\n",
      "Collecting visions[type_image_path]==0.7.5 (from ydata-profiling)\n",
      "  Using cached visions-0.7.5-py3-none-any.whl (102 kB)\n",
      "Requirement already satisfied: numpy<1.26,>=1.16.0 in c:\\users\\leona\\anaconda3\\lib\\site-packages (from ydata-profiling) (1.24.3)\n",
      "Requirement already satisfied: htmlmin==0.1.12 in c:\\users\\leona\\anaconda3\\lib\\site-packages (from ydata-profiling) (0.1.12)\n",
      "Requirement already satisfied: phik<0.13,>=0.11.1 in c:\\users\\leona\\anaconda3\\lib\\site-packages (from ydata-profiling) (0.12.3)\n",
      "Requirement already satisfied: requests<3,>=2.24.0 in c:\\users\\leona\\anaconda3\\lib\\site-packages (from ydata-profiling) (2.31.0)\n",
      "Requirement already satisfied: tqdm<5,>=4.48.2 in c:\\users\\leona\\anaconda3\\lib\\site-packages (from ydata-profiling) (4.65.0)\n",
      "Requirement already satisfied: seaborn<0.13,>=0.10.1 in c:\\users\\leona\\anaconda3\\lib\\site-packages (from ydata-profiling) (0.12.2)\n",
      "Requirement already satisfied: multimethod<2,>=1.4 in c:\\users\\leona\\anaconda3\\lib\\site-packages (from ydata-profiling) (1.10)\n",
      "Requirement already satisfied: statsmodels<1,>=0.13.2 in c:\\users\\leona\\anaconda3\\lib\\site-packages (from ydata-profiling) (0.14.0)\n",
      "Requirement already satisfied: typeguard<5,>=4.1.2 in c:\\users\\leona\\anaconda3\\lib\\site-packages (from ydata-profiling) (4.1.5)\n",
      "Requirement already satisfied: imagehash==4.3.1 in c:\\users\\leona\\anaconda3\\lib\\site-packages (from ydata-profiling) (4.3.1)\n",
      "Requirement already satisfied: wordcloud>=1.9.1 in c:\\users\\leona\\anaconda3\\lib\\site-packages (from ydata-profiling) (1.9.3)\n",
      "Requirement already satisfied: dacite>=1.8 in c:\\users\\leona\\anaconda3\\lib\\site-packages (from ydata-profiling) (1.8.1)\n",
      "Requirement already satisfied: numba<0.59.0,>=0.56.0 in c:\\users\\leona\\anaconda3\\lib\\site-packages (from ydata-profiling) (0.58.1)\n",
      "Requirement already satisfied: PyWavelets in c:\\users\\leona\\anaconda3\\lib\\site-packages (from imagehash==4.3.1->ydata-profiling) (1.4.1)\n",
      "Requirement already satisfied: pillow in c:\\users\\leona\\anaconda3\\lib\\site-packages (from imagehash==4.3.1->ydata-profiling) (9.4.0)\n",
      "Requirement already satisfied: attrs>=19.3.0 in c:\\users\\leona\\anaconda3\\lib\\site-packages (from visions[type_image_path]==0.7.5->ydata-profiling) (23.1.0)\n",
      "Requirement already satisfied: networkx>=2.4 in c:\\users\\leona\\anaconda3\\lib\\site-packages (from visions[type_image_path]==0.7.5->ydata-profiling) (3.1)\n",
      "Requirement already satisfied: tangled-up-in-unicode>=0.0.4 in c:\\users\\leona\\anaconda3\\lib\\site-packages (from visions[type_image_path]==0.7.5->ydata-profiling) (0.2.0)\n",
      "Requirement already satisfied: MarkupSafe>=2.0 in c:\\users\\leona\\anaconda3\\lib\\site-packages (from jinja2<3.2,>=2.11.1->ydata-profiling) (2.1.1)\n",
      "Requirement already satisfied: contourpy>=1.0.1 in c:\\users\\leona\\anaconda3\\lib\\site-packages (from matplotlib<3.9,>=3.2->ydata-profiling) (1.0.5)\n",
      "Requirement already satisfied: cycler>=0.10 in c:\\users\\leona\\anaconda3\\lib\\site-packages (from matplotlib<3.9,>=3.2->ydata-profiling) (0.11.0)\n",
      "Requirement already satisfied: fonttools>=4.22.0 in c:\\users\\leona\\anaconda3\\lib\\site-packages (from matplotlib<3.9,>=3.2->ydata-profiling) (4.25.0)\n",
      "Requirement already satisfied: kiwisolver>=1.0.1 in c:\\users\\leona\\anaconda3\\lib\\site-packages (from matplotlib<3.9,>=3.2->ydata-profiling) (1.4.4)\n",
      "Requirement already satisfied: packaging>=20.0 in c:\\users\\leona\\anaconda3\\lib\\site-packages (from matplotlib<3.9,>=3.2->ydata-profiling) (23.1)\n",
      "Requirement already satisfied: pyparsing<3.1,>=2.3.1 in c:\\users\\leona\\anaconda3\\lib\\site-packages (from matplotlib<3.9,>=3.2->ydata-profiling) (3.0.9)\n",
      "Requirement already satisfied: python-dateutil>=2.7 in c:\\users\\leona\\anaconda3\\lib\\site-packages (from matplotlib<3.9,>=3.2->ydata-profiling) (2.8.2)\n",
      "Requirement already satisfied: llvmlite<0.42,>=0.41.0dev0 in c:\\users\\leona\\anaconda3\\lib\\site-packages (from numba<0.59.0,>=0.56.0->ydata-profiling) (0.41.1)\n",
      "Requirement already satisfied: pytz>=2020.1 in c:\\users\\leona\\anaconda3\\lib\\site-packages (from pandas!=1.4.0,<3,>1.1->ydata-profiling) (2023.3.post1)\n",
      "Requirement already satisfied: tzdata>=2022.1 in c:\\users\\leona\\anaconda3\\lib\\site-packages (from pandas!=1.4.0,<3,>1.1->ydata-profiling) (2023.3)\n",
      "Requirement already satisfied: joblib>=0.14.1 in c:\\users\\leona\\anaconda3\\lib\\site-packages (from phik<0.13,>=0.11.1->ydata-profiling) (1.1.1)\n",
      "Requirement already satisfied: annotated-types>=0.4.0 in c:\\users\\leona\\anaconda3\\lib\\site-packages (from pydantic>=2->ydata-profiling) (0.6.0)\n",
      "Requirement already satisfied: pydantic-core==2.14.6 in c:\\users\\leona\\anaconda3\\lib\\site-packages (from pydantic>=2->ydata-profiling) (2.14.6)\n",
      "Requirement already satisfied: typing-extensions>=4.6.1 in c:\\users\\leona\\anaconda3\\lib\\site-packages (from pydantic>=2->ydata-profiling) (4.7.1)\n",
      "Requirement already satisfied: charset-normalizer<4,>=2 in c:\\users\\leona\\anaconda3\\lib\\site-packages (from requests<3,>=2.24.0->ydata-profiling) (2.0.4)\n",
      "Requirement already satisfied: idna<4,>=2.5 in c:\\users\\leona\\anaconda3\\lib\\site-packages (from requests<3,>=2.24.0->ydata-profiling) (3.4)\n",
      "Requirement already satisfied: urllib3<3,>=1.21.1 in c:\\users\\leona\\anaconda3\\lib\\site-packages (from requests<3,>=2.24.0->ydata-profiling) (1.26.16)\n",
      "Requirement already satisfied: certifi>=2017.4.17 in c:\\users\\leona\\anaconda3\\lib\\site-packages (from requests<3,>=2.24.0->ydata-profiling) (2023.7.22)\n",
      "Requirement already satisfied: patsy>=0.5.2 in c:\\users\\leona\\anaconda3\\lib\\site-packages (from statsmodels<1,>=0.13.2->ydata-profiling) (0.5.3)\n",
      "Requirement already satisfied: colorama in c:\\users\\leona\\anaconda3\\lib\\site-packages (from tqdm<5,>=4.48.2->ydata-profiling) (0.4.6)\n",
      "Requirement already satisfied: six in c:\\users\\leona\\anaconda3\\lib\\site-packages (from patsy>=0.5.2->statsmodels<1,>=0.13.2->ydata-profiling) (1.16.0)\n",
      "Installing collected packages: visions\n",
      "  Attempting uninstall: visions\n",
      "    Found existing installation: visions 0.7.4\n",
      "    Uninstalling visions-0.7.4:\n",
      "      Successfully uninstalled visions-0.7.4\n",
      "Successfully installed visions-0.7.5\n",
      "Note: you may need to restart the kernel to use updated packages.\n"
     ]
    },
    {
     "name": "stderr",
     "output_type": "stream",
     "text": [
      "ERROR: pip's dependency resolver does not currently take into account all the packages that are installed. This behaviour is the source of the following dependency conflicts.\n",
      "pandas-profiling 3.2.0 requires visions[type_image_path]==0.7.4, but you have visions 0.7.5 which is incompatible.\n"
     ]
    }
   ],
   "source": [
    "pip install ydata-profiling"
   ]
  },
  {
   "cell_type": "code",
   "execution_count": 13,
   "id": "13fe5d35",
   "metadata": {},
   "outputs": [],
   "source": [
    "from ydata_profiling import ProfileReport"
   ]
  },
  {
   "cell_type": "code",
   "execution_count": 14,
   "id": "645ed382",
   "metadata": {},
   "outputs": [
    {
     "data": {
      "application/vnd.jupyter.widget-view+json": {
       "model_id": "dfc4fae7e3d54e26a06c587f7660cc6f",
       "version_major": 2,
       "version_minor": 0
      },
      "text/plain": [
       "Summarize dataset:   0%|          | 0/5 [00:00<?, ?it/s]"
      ]
     },
     "metadata": {},
     "output_type": "display_data"
    },
    {
     "data": {
      "application/vnd.jupyter.widget-view+json": {
       "model_id": "0cd8927e5ed346bbb8efb18797c2030a",
       "version_major": 2,
       "version_minor": 0
      },
      "text/plain": [
       "Generate report structure:   0%|          | 0/1 [00:00<?, ?it/s]"
      ]
     },
     "metadata": {},
     "output_type": "display_data"
    },
    {
     "data": {
      "application/vnd.jupyter.widget-view+json": {
       "model_id": "92a40753d82e46d4b9637dc94e29dc10",
       "version_major": 2,
       "version_minor": 0
      },
      "text/plain": [
       "Render HTML:   0%|          | 0/1 [00:00<?, ?it/s]"
      ]
     },
     "metadata": {},
     "output_type": "display_data"
    },
    {
     "data": {
      "application/vnd.jupyter.widget-view+json": {
       "model_id": "90253900ae9e475ea9cd0b54e25c13e4",
       "version_major": 2,
       "version_minor": 0
      },
      "text/plain": [
       "Export report to file:   0%|          | 0/1 [00:00<?, ?it/s]"
      ]
     },
     "metadata": {},
     "output_type": "display_data"
    },
    {
     "data": {
      "application/vnd.jupyter.widget-view+json": {
       "model_id": "9dbf5fac0d8647b6a4b848f4b00ba1f5",
       "version_major": 2,
       "version_minor": 0
      },
      "text/plain": [
       "Render JSON:   0%|          | 0/1 [00:00<?, ?it/s]"
      ]
     },
     "metadata": {},
     "output_type": "display_data"
    },
    {
     "data": {
      "application/vnd.jupyter.widget-view+json": {
       "model_id": "c69f1f5624d2488d8af6b4e8516fc08c",
       "version_major": 2,
       "version_minor": 0
      },
      "text/plain": [
       "Export report to file:   0%|          | 0/1 [00:00<?, ?it/s]"
      ]
     },
     "metadata": {},
     "output_type": "display_data"
    }
   ],
   "source": [
    "profile = ProfileReport(entries_df, title=\"Threat Fox - Entries - Pandas Profiling Report\")\n",
    "\n",
    "profile.to_file(\"C:\\\\Users\\\\leona\\\\OneDrive\\\\Desktop\\\\Tesi\\\\Pipeline\\\\Report\\\\Profiling step 3\\\\Threat_Fox\\\\Entries.html\")\n",
    "\n",
    "# As a JSON string\n",
    "json_data = profile.to_json()\n",
    "\n",
    "# As a file\n",
    "profile.to_file(\"C:\\\\Users\\\\leona\\\\OneDrive\\\\Desktop\\\\Tesi\\\\Pipeline\\\\Report\\\\Profiling step 3\\\\Threat_Fox\\\\Entries.json\")"
   ]
  },
  {
   "cell_type": "markdown",
   "id": "0b742aad",
   "metadata": {},
   "source": [
    "## Value Distribution"
   ]
  },
  {
   "cell_type": "markdown",
   "id": "5fb61ab3",
   "metadata": {},
   "source": [
    "#### Distribution of malwares"
   ]
  },
  {
   "cell_type": "code",
   "execution_count": 15,
   "id": "0fa69089",
   "metadata": {},
   "outputs": [],
   "source": [
    "#import libraries and set up\n",
    "import seaborn as sns\n",
    "import matplotlib\n",
    "matplotlib.use('tkagg')\n",
    "\n",
    "import matplotlib.pyplot as plt\n",
    "\n",
    "\n",
    "sns.set(color_codes=True)\n",
    "sns.set_palette(sns.color_palette(\"muted\"))"
   ]
  },
  {
   "cell_type": "code",
   "execution_count": 16,
   "id": "d3fd85c2",
   "metadata": {},
   "outputs": [],
   "source": [
    "entries_df['first_seen'] = pd.to_datetime(entries_df['first_seen'], utc=True)\n"
   ]
  },
  {
   "cell_type": "code",
   "execution_count": 17,
   "id": "e733a56d",
   "metadata": {},
   "outputs": [],
   "source": [
    "def distibution_plot(df, field):\n",
    "    \n",
    "    unique_malwares = df[field].unique()\n",
    "    \n",
    "    new = pd.DataFrame()\n",
    "    \n",
    "    s = 0\n",
    "    \n",
    "    nunique = len(unique_malwares)\n",
    "    \n",
    "    for i in range(nunique):\n",
    "        \n",
    "        malware = unique_malwares[i]\n",
    "        \n",
    "        s = s + len(df[df[field] == malware ])\n",
    "    \n",
    "    avg = ( s / nunique )\n",
    "    \n",
    "    for i in range(nunique):\n",
    "        \n",
    "        malware = unique_malwares[i]\n",
    "        \n",
    "        tmp = df[df[field] == malware ]\n",
    "    \n",
    "        if(len(tmp) > avg):\n",
    "            \n",
    "            new = pd.concat([new, tmp])       \n",
    "            \n",
    "    return new       "
   ]
  },
  {
   "cell_type": "code",
   "execution_count": 18,
   "id": "53197125",
   "metadata": {},
   "outputs": [
    {
     "data": {
      "text/plain": [
       "<Axes: >"
      ]
     },
     "execution_count": 18,
     "metadata": {},
     "output_type": "execute_result"
    }
   ],
   "source": [
    "distibution_plot(entries_df, 'malware_printable')['malware_printable'].hist()\n"
   ]
  },
  {
   "cell_type": "markdown",
   "id": "ba67eae2",
   "metadata": {},
   "source": [
    "#### Distribution entries over time"
   ]
  },
  {
   "cell_type": "code",
   "execution_count": 19,
   "id": "b83c539d",
   "metadata": {},
   "outputs": [],
   "source": [
    "# Create a time series plot with different colors for each category\n",
    "plt.figure(figsize=(10, 6))\n",
    "\n",
    "# Plot Category A with a blue color\n",
    "plt.plot(entries_df['first_seen'], label='Threat Fox', marker='o', linestyle='-', color='blue')\n",
    "\n",
    "# Customize the plot\n",
    "plt.title('Time Series Data Threat Fox')\n",
    "plt.xlabel('Timestamp')\n",
    "plt.grid(True)\n",
    "\n",
    "# Add a legend to distinguish between categories\n",
    "plt.legend()\n",
    "\n",
    "# Show the plot\n",
    "plt.tight_layout()\n",
    "plt.show()"
   ]
  },
  {
   "cell_type": "markdown",
   "id": "8d518334",
   "metadata": {},
   "source": [
    "## Data Profiling - Malwares"
   ]
  },
  {
   "cell_type": "code",
   "execution_count": 20,
   "id": "f2fa8b64",
   "metadata": {},
   "outputs": [
    {
     "data": {
      "text/html": [
       "<div>\n",
       "<style scoped>\n",
       "    .dataframe tbody tr th:only-of-type {\n",
       "        vertical-align: middle;\n",
       "    }\n",
       "\n",
       "    .dataframe tbody tr th {\n",
       "        vertical-align: top;\n",
       "    }\n",
       "\n",
       "    .dataframe thead th {\n",
       "        text-align: right;\n",
       "    }\n",
       "</style>\n",
       "<table border=\"1\" class=\"dataframe\">\n",
       "  <thead>\n",
       "    <tr style=\"text-align: right;\">\n",
       "      <th></th>\n",
       "      <th>malware</th>\n",
       "      <th>type</th>\n",
       "    </tr>\n",
       "  </thead>\n",
       "  <tbody>\n",
       "    <tr>\n",
       "      <th>0</th>\n",
       "      <td>Cobalt Strike</td>\n",
       "      <td>unknown</td>\n",
       "    </tr>\n",
       "    <tr>\n",
       "      <th>1</th>\n",
       "      <td>Nanocore RAT</td>\n",
       "      <td>unknown</td>\n",
       "    </tr>\n",
       "    <tr>\n",
       "      <th>2</th>\n",
       "      <td>Remcos</td>\n",
       "      <td>unknown</td>\n",
       "    </tr>\n",
       "    <tr>\n",
       "      <th>3</th>\n",
       "      <td>Loki Password Stealer (PWS)</td>\n",
       "      <td>unknown</td>\n",
       "    </tr>\n",
       "    <tr>\n",
       "      <th>4</th>\n",
       "      <td>DCRat</td>\n",
       "      <td>unknown</td>\n",
       "    </tr>\n",
       "    <tr>\n",
       "      <th>...</th>\n",
       "      <td>...</td>\n",
       "      <td>...</td>\n",
       "    </tr>\n",
       "    <tr>\n",
       "      <th>63</th>\n",
       "      <td>Loda</td>\n",
       "      <td>unknown</td>\n",
       "    </tr>\n",
       "    <tr>\n",
       "      <th>64</th>\n",
       "      <td>SpyNote</td>\n",
       "      <td>unknown</td>\n",
       "    </tr>\n",
       "    <tr>\n",
       "      <th>65</th>\n",
       "      <td>SectopRAT</td>\n",
       "      <td>unknown</td>\n",
       "    </tr>\n",
       "    <tr>\n",
       "      <th>66</th>\n",
       "      <td>Ghost RAT</td>\n",
       "      <td>unknown</td>\n",
       "    </tr>\n",
       "    <tr>\n",
       "      <th>67</th>\n",
       "      <td>WhiteSnake Stealer</td>\n",
       "      <td>unknown</td>\n",
       "    </tr>\n",
       "  </tbody>\n",
       "</table>\n",
       "<p>68 rows × 2 columns</p>\n",
       "</div>"
      ],
      "text/plain": [
       "                        malware     type\n",
       "0                 Cobalt Strike  unknown\n",
       "1                  Nanocore RAT  unknown\n",
       "2                        Remcos  unknown\n",
       "3   Loki Password Stealer (PWS)  unknown\n",
       "4                         DCRat  unknown\n",
       "..                          ...      ...\n",
       "63                         Loda  unknown\n",
       "64                      SpyNote  unknown\n",
       "65                    SectopRAT  unknown\n",
       "66                    Ghost RAT  unknown\n",
       "67           WhiteSnake Stealer  unknown\n",
       "\n",
       "[68 rows x 2 columns]"
      ]
     },
     "execution_count": 20,
     "metadata": {},
     "output_type": "execute_result"
    }
   ],
   "source": [
    "malwares_df = pd.read_csv(malwares, low_memory = False )\n",
    "malwares_df"
   ]
  },
  {
   "cell_type": "code",
   "execution_count": 21,
   "id": "0e3ea8d6",
   "metadata": {},
   "outputs": [
    {
     "name": "stdout",
     "output_type": "stream",
     "text": [
      "Duplicates:  False\n",
      "# not null values:  136\n",
      "# null values:  0\n",
      "# values:  136\n",
      "# missings:  0\n"
     ]
    }
   ],
   "source": [
    "print(\"Duplicates: \",malwares_df.duplicated().any())\n",
    "#total number of not null values\n",
    "not_null_values = malwares_df.count().sum()\n",
    "print(\"# not null values: \",not_null_values)\n",
    "#total number of null values\n",
    "null_values = malwares_df.isnull().sum().sum()\n",
    "print(\"# null values: \",null_values)\n",
    "#total number of cells\n",
    "n_values = malwares_df.shape[0]*malwares_df.shape[1]\n",
    "print(\"# values: \",n_values)\n",
    "#we added to the set of missing values also 'na' and '--'\n",
    "missing_values = ['na','--', 'NaN']\n",
    "ds_property_nan = pd.read_csv(malwares, na_values = missing_values)\n",
    "print(\"# missings: \",ds_property_nan.isnull().sum().sum())"
   ]
  },
  {
   "cell_type": "markdown",
   "id": "5f90dc62",
   "metadata": {},
   "source": [
    "## Completeness"
   ]
  },
  {
   "cell_type": "code",
   "execution_count": 22,
   "id": "316fab2a",
   "metadata": {},
   "outputs": [
    {
     "name": "stdout",
     "output_type": "stream",
     "text": [
      "Completeness:  100.0%\n"
     ]
    }
   ],
   "source": [
    "#COMPLETENESS evaluation\n",
    "completeness = not_null_values / n_values\n",
    "completeness = '{0:.1f}%'.format(completeness*100)\n",
    "print(\"Completeness: \",completeness)"
   ]
  },
  {
   "cell_type": "markdown",
   "id": "1a9efa6e",
   "metadata": {},
   "source": [
    "### Profiling Auto-report"
   ]
  },
  {
   "cell_type": "code",
   "execution_count": 23,
   "id": "0a7b10da",
   "metadata": {},
   "outputs": [
    {
     "data": {
      "application/vnd.jupyter.widget-view+json": {
       "model_id": "1a5b23b77bad418e97ac83d7096be029",
       "version_major": 2,
       "version_minor": 0
      },
      "text/plain": [
       "Summarize dataset:   0%|          | 0/5 [00:00<?, ?it/s]"
      ]
     },
     "metadata": {},
     "output_type": "display_data"
    },
    {
     "data": {
      "application/vnd.jupyter.widget-view+json": {
       "model_id": "9979c0facc0e4e0f8f9ae25c3338c57d",
       "version_major": 2,
       "version_minor": 0
      },
      "text/plain": [
       "Generate report structure:   0%|          | 0/1 [00:00<?, ?it/s]"
      ]
     },
     "metadata": {},
     "output_type": "display_data"
    },
    {
     "data": {
      "application/vnd.jupyter.widget-view+json": {
       "model_id": "7f235f3fc2a84ef084a3ca923255c748",
       "version_major": 2,
       "version_minor": 0
      },
      "text/plain": [
       "Render HTML:   0%|          | 0/1 [00:00<?, ?it/s]"
      ]
     },
     "metadata": {},
     "output_type": "display_data"
    },
    {
     "data": {
      "application/vnd.jupyter.widget-view+json": {
       "model_id": "255b4c324db647b7929102845f312fa2",
       "version_major": 2,
       "version_minor": 0
      },
      "text/plain": [
       "Export report to file:   0%|          | 0/1 [00:00<?, ?it/s]"
      ]
     },
     "metadata": {},
     "output_type": "display_data"
    },
    {
     "data": {
      "application/vnd.jupyter.widget-view+json": {
       "model_id": "4fecf8bd62474fbca35ebe2bb6fc651f",
       "version_major": 2,
       "version_minor": 0
      },
      "text/plain": [
       "Render JSON:   0%|          | 0/1 [00:00<?, ?it/s]"
      ]
     },
     "metadata": {},
     "output_type": "display_data"
    },
    {
     "data": {
      "application/vnd.jupyter.widget-view+json": {
       "model_id": "03908f35d6da4c259557c7f6552c8b4f",
       "version_major": 2,
       "version_minor": 0
      },
      "text/plain": [
       "Export report to file:   0%|          | 0/1 [00:00<?, ?it/s]"
      ]
     },
     "metadata": {},
     "output_type": "display_data"
    }
   ],
   "source": [
    "profile = ProfileReport(entries_df, title=\"Threat Fox - Malwares - Pandas Profiling Report\")\n",
    "\n",
    "profile.to_file(\"C:\\\\Users\\\\leona\\\\OneDrive\\\\Desktop\\\\Tesi\\\\Pipeline\\\\Report\\\\Profiling step 3\\\\Threat_Fox\\\\Malwares.html\")\n",
    "\n",
    "# As a JSON string\n",
    "json_data = profile.to_json()\n",
    "\n",
    "# As a file\n",
    "profile.to_file(\"C:\\\\Users\\\\leona\\\\OneDrive\\\\Desktop\\\\Tesi\\\\Pipeline\\\\Report\\\\Profiling step 3\\\\Threat_Fox\\\\Malwares.json\")"
   ]
  },
  {
   "cell_type": "markdown",
   "id": "984f9f32",
   "metadata": {},
   "source": [
    "## Data Profiling - Alias"
   ]
  },
  {
   "cell_type": "code",
   "execution_count": 24,
   "id": "5f1eafc9",
   "metadata": {},
   "outputs": [
    {
     "data": {
      "text/html": [
       "<div>\n",
       "<style scoped>\n",
       "    .dataframe tbody tr th:only-of-type {\n",
       "        vertical-align: middle;\n",
       "    }\n",
       "\n",
       "    .dataframe tbody tr th {\n",
       "        vertical-align: top;\n",
       "    }\n",
       "\n",
       "    .dataframe thead th {\n",
       "        text-align: right;\n",
       "    }\n",
       "</style>\n",
       "<table border=\"1\" class=\"dataframe\">\n",
       "  <thead>\n",
       "    <tr style=\"text-align: right;\">\n",
       "      <th></th>\n",
       "      <th>malware</th>\n",
       "      <th>alias</th>\n",
       "    </tr>\n",
       "  </thead>\n",
       "  <tbody>\n",
       "    <tr>\n",
       "      <th>0</th>\n",
       "      <td>Cobalt Strike</td>\n",
       "      <td>Agentemis</td>\n",
       "    </tr>\n",
       "    <tr>\n",
       "      <th>1</th>\n",
       "      <td>Nanocore RAT</td>\n",
       "      <td>Nancrat</td>\n",
       "    </tr>\n",
       "    <tr>\n",
       "      <th>2</th>\n",
       "      <td>Remcos</td>\n",
       "      <td>RemcosRAT</td>\n",
       "    </tr>\n",
       "    <tr>\n",
       "      <th>3</th>\n",
       "      <td>Loki Password Stealer (PWS)</td>\n",
       "      <td>Burkina</td>\n",
       "    </tr>\n",
       "    <tr>\n",
       "      <th>4</th>\n",
       "      <td>DCRat</td>\n",
       "      <td>DarkCrystal RAT</td>\n",
       "    </tr>\n",
       "    <tr>\n",
       "      <th>...</th>\n",
       "      <td>...</td>\n",
       "      <td>...</td>\n",
       "    </tr>\n",
       "    <tr>\n",
       "      <th>171</th>\n",
       "      <td>Houdini</td>\n",
       "      <td>WSHRAT</td>\n",
       "    </tr>\n",
       "    <tr>\n",
       "      <th>172</th>\n",
       "      <td>SmokeLoader</td>\n",
       "      <td>NaN</td>\n",
       "    </tr>\n",
       "    <tr>\n",
       "      <th>173</th>\n",
       "      <td>Ave Maria</td>\n",
       "      <td>NaN</td>\n",
       "    </tr>\n",
       "    <tr>\n",
       "      <th>174</th>\n",
       "      <td>Houdini</td>\n",
       "      <td>dinihou</td>\n",
       "    </tr>\n",
       "    <tr>\n",
       "      <th>175</th>\n",
       "      <td>Houdini</td>\n",
       "      <td>dunihi</td>\n",
       "    </tr>\n",
       "  </tbody>\n",
       "</table>\n",
       "<p>176 rows × 2 columns</p>\n",
       "</div>"
      ],
      "text/plain": [
       "                         malware            alias\n",
       "0                  Cobalt Strike        Agentemis\n",
       "1                   Nanocore RAT          Nancrat\n",
       "2                         Remcos        RemcosRAT\n",
       "3    Loki Password Stealer (PWS)          Burkina\n",
       "4                          DCRat  DarkCrystal RAT\n",
       "..                           ...              ...\n",
       "171                      Houdini           WSHRAT\n",
       "172                  SmokeLoader              NaN\n",
       "173                    Ave Maria              NaN\n",
       "174                      Houdini          dinihou\n",
       "175                      Houdini           dunihi\n",
       "\n",
       "[176 rows x 2 columns]"
      ]
     },
     "execution_count": 24,
     "metadata": {},
     "output_type": "execute_result"
    }
   ],
   "source": [
    "alias_df = pd.read_csv(alias, low_memory = False )\n",
    "alias_df"
   ]
  },
  {
   "cell_type": "code",
   "execution_count": 25,
   "id": "a0c2cdf8",
   "metadata": {},
   "outputs": [
    {
     "name": "stdout",
     "output_type": "stream",
     "text": [
      "Duplicates:  True\n",
      "# not null values:  252\n",
      "# null values:  100\n",
      "# values:  352\n",
      "# missings:  100\n"
     ]
    }
   ],
   "source": [
    "print(\"Duplicates: \",alias_df.duplicated().any())\n",
    "#total number of not null values\n",
    "not_null_values = alias_df.count().sum()\n",
    "print(\"# not null values: \",not_null_values)\n",
    "#total number of null values\n",
    "null_values = alias_df.isnull().sum().sum()\n",
    "print(\"# null values: \",null_values)\n",
    "#total number of cells\n",
    "n_values = alias_df.shape[0]*alias_df.shape[1]\n",
    "print(\"# values: \",n_values)\n",
    "#we added to the set of missing values also 'na' and '--'\n",
    "missing_values = ['na','--', 'NaN']\n",
    "ds_property_nan = pd.read_csv(alias, na_values = missing_values)\n",
    "print(\"# missings: \",ds_property_nan.isnull().sum().sum())"
   ]
  },
  {
   "cell_type": "markdown",
   "id": "a536757d",
   "metadata": {},
   "source": [
    "## Completeness"
   ]
  },
  {
   "cell_type": "code",
   "execution_count": 26,
   "id": "3eb3c44c",
   "metadata": {},
   "outputs": [
    {
     "name": "stdout",
     "output_type": "stream",
     "text": [
      "Completeness:  71.6%\n"
     ]
    }
   ],
   "source": [
    "#COMPLETENESS evaluation\n",
    "completeness = not_null_values / n_values\n",
    "completeness = '{0:.1f}%'.format(completeness*100)\n",
    "print(\"Completeness: \",completeness)"
   ]
  },
  {
   "cell_type": "markdown",
   "id": "c27a43f4",
   "metadata": {},
   "source": [
    "### Profiling Auto-report"
   ]
  },
  {
   "cell_type": "code",
   "execution_count": 27,
   "id": "14e1384d",
   "metadata": {},
   "outputs": [
    {
     "data": {
      "application/vnd.jupyter.widget-view+json": {
       "model_id": "aaae0dc94a81407d80c0d2205eed5d39",
       "version_major": 2,
       "version_minor": 0
      },
      "text/plain": [
       "Summarize dataset:   0%|          | 0/5 [00:00<?, ?it/s]"
      ]
     },
     "metadata": {},
     "output_type": "display_data"
    },
    {
     "data": {
      "application/vnd.jupyter.widget-view+json": {
       "model_id": "52d97999c8df41b397a882337648b5ac",
       "version_major": 2,
       "version_minor": 0
      },
      "text/plain": [
       "Generate report structure:   0%|          | 0/1 [00:00<?, ?it/s]"
      ]
     },
     "metadata": {},
     "output_type": "display_data"
    },
    {
     "data": {
      "application/vnd.jupyter.widget-view+json": {
       "model_id": "6812c13db0604044b9aeffd6784cfaf9",
       "version_major": 2,
       "version_minor": 0
      },
      "text/plain": [
       "Render HTML:   0%|          | 0/1 [00:00<?, ?it/s]"
      ]
     },
     "metadata": {},
     "output_type": "display_data"
    },
    {
     "data": {
      "application/vnd.jupyter.widget-view+json": {
       "model_id": "5000869dc3d94122a2be1ee9dd15113c",
       "version_major": 2,
       "version_minor": 0
      },
      "text/plain": [
       "Export report to file:   0%|          | 0/1 [00:00<?, ?it/s]"
      ]
     },
     "metadata": {},
     "output_type": "display_data"
    },
    {
     "data": {
      "application/vnd.jupyter.widget-view+json": {
       "model_id": "2029dae80d3b4aa4bb8b8b84a8d68708",
       "version_major": 2,
       "version_minor": 0
      },
      "text/plain": [
       "Render JSON:   0%|          | 0/1 [00:00<?, ?it/s]"
      ]
     },
     "metadata": {},
     "output_type": "display_data"
    },
    {
     "data": {
      "application/vnd.jupyter.widget-view+json": {
       "model_id": "bfd7e5966ff1496bb5640ba8088fae48",
       "version_major": 2,
       "version_minor": 0
      },
      "text/plain": [
       "Export report to file:   0%|          | 0/1 [00:00<?, ?it/s]"
      ]
     },
     "metadata": {},
     "output_type": "display_data"
    }
   ],
   "source": [
    "profile = ProfileReport(entries_df, title=\"Threat Fox - Alias - Pandas Profiling Report\")\n",
    "\n",
    "profile.to_file(\"C:\\\\Users\\\\leona\\\\OneDrive\\\\Desktop\\\\Tesi\\\\Pipeline\\\\Report\\\\Profiling step 3\\\\Threat_Fox\\\\Alias.html\")\n",
    "\n",
    "# As a JSON string\n",
    "json_data = profile.to_json()\n",
    "\n",
    "# As a file\n",
    "profile.to_file(\"C:\\\\Users\\\\leona\\\\OneDrive\\\\Desktop\\\\Tesi\\\\Pipeline\\\\Report\\\\Profiling step 3\\\\Threat_Fox\\\\Alias.json\")"
   ]
  },
  {
   "cell_type": "markdown",
   "id": "f2be7469",
   "metadata": {},
   "source": [
    "## Data Profiling - Tags"
   ]
  },
  {
   "cell_type": "code",
   "execution_count": 28,
   "id": "9fdd2014",
   "metadata": {},
   "outputs": [
    {
     "data": {
      "text/html": [
       "<div>\n",
       "<style scoped>\n",
       "    .dataframe tbody tr th:only-of-type {\n",
       "        vertical-align: middle;\n",
       "    }\n",
       "\n",
       "    .dataframe tbody tr th {\n",
       "        vertical-align: top;\n",
       "    }\n",
       "\n",
       "    .dataframe thead th {\n",
       "        text-align: right;\n",
       "    }\n",
       "</style>\n",
       "<table border=\"1\" class=\"dataframe\">\n",
       "  <thead>\n",
       "    <tr style=\"text-align: right;\">\n",
       "      <th></th>\n",
       "      <th>ID_ENTRY</th>\n",
       "      <th>source</th>\n",
       "      <th>tag</th>\n",
       "    </tr>\n",
       "  </thead>\n",
       "  <tbody>\n",
       "    <tr>\n",
       "      <th>0</th>\n",
       "      <td>1155537</td>\n",
       "      <td>Threat Fox</td>\n",
       "      <td>redline_stealer</td>\n",
       "    </tr>\n",
       "    <tr>\n",
       "      <th>1</th>\n",
       "      <td>1155537</td>\n",
       "      <td>Threat Fox</td>\n",
       "      <td>infostealer</td>\n",
       "    </tr>\n",
       "    <tr>\n",
       "      <th>2</th>\n",
       "      <td>1155537</td>\n",
       "      <td>Threat Fox</td>\n",
       "      <td>stealer</td>\n",
       "    </tr>\n",
       "    <tr>\n",
       "      <th>3</th>\n",
       "      <td>1155538</td>\n",
       "      <td>Threat Fox</td>\n",
       "      <td>redline_stealer</td>\n",
       "    </tr>\n",
       "    <tr>\n",
       "      <th>4</th>\n",
       "      <td>1155538</td>\n",
       "      <td>Threat Fox</td>\n",
       "      <td>RAT</td>\n",
       "    </tr>\n",
       "    <tr>\n",
       "      <th>...</th>\n",
       "      <td>...</td>\n",
       "      <td>...</td>\n",
       "      <td>...</td>\n",
       "    </tr>\n",
       "    <tr>\n",
       "      <th>25034</th>\n",
       "      <td>1163859</td>\n",
       "      <td>Threat Fox</td>\n",
       "      <td>RAT</td>\n",
       "    </tr>\n",
       "    <tr>\n",
       "      <th>25035</th>\n",
       "      <td>1163860</td>\n",
       "      <td>Threat Fox</td>\n",
       "      <td>RAT</td>\n",
       "    </tr>\n",
       "    <tr>\n",
       "      <th>25036</th>\n",
       "      <td>1163860</td>\n",
       "      <td>Threat Fox</td>\n",
       "      <td>NanoCore</td>\n",
       "    </tr>\n",
       "    <tr>\n",
       "      <th>25037</th>\n",
       "      <td>1163861</td>\n",
       "      <td>Threat Fox</td>\n",
       "      <td>RemcosRAT</td>\n",
       "    </tr>\n",
       "    <tr>\n",
       "      <th>25038</th>\n",
       "      <td>1163861</td>\n",
       "      <td>Threat Fox</td>\n",
       "      <td>RAT</td>\n",
       "    </tr>\n",
       "  </tbody>\n",
       "</table>\n",
       "<p>25039 rows × 3 columns</p>\n",
       "</div>"
      ],
      "text/plain": [
       "       ID_ENTRY      source               tag\n",
       "0       1155537  Threat Fox   redline_stealer\n",
       "1       1155537  Threat Fox       infostealer\n",
       "2       1155537  Threat Fox           stealer\n",
       "3       1155538  Threat Fox   redline_stealer\n",
       "4       1155538  Threat Fox               RAT\n",
       "...         ...         ...               ...\n",
       "25034   1163859  Threat Fox               RAT\n",
       "25035   1163860  Threat Fox               RAT\n",
       "25036   1163860  Threat Fox          NanoCore\n",
       "25037   1163861  Threat Fox         RemcosRAT\n",
       "25038   1163861  Threat Fox               RAT\n",
       "\n",
       "[25039 rows x 3 columns]"
      ]
     },
     "execution_count": 28,
     "metadata": {},
     "output_type": "execute_result"
    }
   ],
   "source": [
    "tags_df = pd.read_csv(tags, low_memory = False )\n",
    "tags_df"
   ]
  },
  {
   "cell_type": "code",
   "execution_count": 29,
   "id": "3aaacca3",
   "metadata": {},
   "outputs": [
    {
     "name": "stdout",
     "output_type": "stream",
     "text": [
      "Duplicates:  False\n",
      "# not null values:  74825\n",
      "# null values:  292\n",
      "# values:  50078\n",
      "# missings:  292\n"
     ]
    }
   ],
   "source": [
    "print(\"Duplicates: \",tags_df.duplicated().any())\n",
    "#total number of not null values\n",
    "not_null_values = tags_df.count().sum()\n",
    "print(\"# not null values: \",not_null_values)\n",
    "#total number of null values\n",
    "null_values = tags_df.isnull().sum().sum()\n",
    "print(\"# null values: \",null_values)\n",
    "#total number of cells\n",
    "n_values = tags_df.shape[0]*alias_df.shape[1]\n",
    "print(\"# values: \",n_values)\n",
    "#we added to the set of missing values also 'na' and '--'\n",
    "missing_values = ['na','--', 'NaN']\n",
    "ds_property_nan = pd.read_csv(tags, na_values = missing_values)\n",
    "print(\"# missings: \",ds_property_nan.isnull().sum().sum())"
   ]
  },
  {
   "cell_type": "markdown",
   "id": "57d387da",
   "metadata": {},
   "source": [
    "## Completeness"
   ]
  },
  {
   "cell_type": "code",
   "execution_count": 30,
   "id": "6630cde2",
   "metadata": {},
   "outputs": [
    {
     "name": "stdout",
     "output_type": "stream",
     "text": [
      "Completeness:  149.4%\n"
     ]
    }
   ],
   "source": [
    "#COMPLETENESS evaluation\n",
    "completeness = not_null_values / n_values\n",
    "completeness = '{0:.1f}%'.format(completeness*100)\n",
    "print(\"Completeness: \",completeness)"
   ]
  },
  {
   "cell_type": "markdown",
   "id": "dc9c0db4",
   "metadata": {},
   "source": [
    "### Profiling Auto-report"
   ]
  },
  {
   "cell_type": "code",
   "execution_count": 31,
   "id": "96a9121d",
   "metadata": {},
   "outputs": [
    {
     "data": {
      "application/vnd.jupyter.widget-view+json": {
       "model_id": "4fd815c2b7ca434dae38555f58b541a9",
       "version_major": 2,
       "version_minor": 0
      },
      "text/plain": [
       "Summarize dataset:   0%|          | 0/5 [00:00<?, ?it/s]"
      ]
     },
     "metadata": {},
     "output_type": "display_data"
    },
    {
     "data": {
      "application/vnd.jupyter.widget-view+json": {
       "model_id": "9f8b251173554698bd091f2a5b3c3365",
       "version_major": 2,
       "version_minor": 0
      },
      "text/plain": [
       "Generate report structure:   0%|          | 0/1 [00:00<?, ?it/s]"
      ]
     },
     "metadata": {},
     "output_type": "display_data"
    },
    {
     "data": {
      "application/vnd.jupyter.widget-view+json": {
       "model_id": "1cf3ebe5d4c645debc444d0861d037c1",
       "version_major": 2,
       "version_minor": 0
      },
      "text/plain": [
       "Render HTML:   0%|          | 0/1 [00:00<?, ?it/s]"
      ]
     },
     "metadata": {},
     "output_type": "display_data"
    },
    {
     "data": {
      "application/vnd.jupyter.widget-view+json": {
       "model_id": "4e88edc6bfcc4c0aa75a28b54c124711",
       "version_major": 2,
       "version_minor": 0
      },
      "text/plain": [
       "Export report to file:   0%|          | 0/1 [00:00<?, ?it/s]"
      ]
     },
     "metadata": {},
     "output_type": "display_data"
    },
    {
     "data": {
      "application/vnd.jupyter.widget-view+json": {
       "model_id": "587b099977a0484c95726af177fb6ace",
       "version_major": 2,
       "version_minor": 0
      },
      "text/plain": [
       "Render JSON:   0%|          | 0/1 [00:00<?, ?it/s]"
      ]
     },
     "metadata": {},
     "output_type": "display_data"
    },
    {
     "data": {
      "application/vnd.jupyter.widget-view+json": {
       "model_id": "f45e6478448a4449b83fdfe121f3ac06",
       "version_major": 2,
       "version_minor": 0
      },
      "text/plain": [
       "Export report to file:   0%|          | 0/1 [00:00<?, ?it/s]"
      ]
     },
     "metadata": {},
     "output_type": "display_data"
    }
   ],
   "source": [
    "profile = ProfileReport(entries_df, title=\"Threat Fox - Tags - Pandas Profiling Report\")\n",
    "\n",
    "profile.to_file(\"C:\\\\Users\\\\leona\\\\OneDrive\\\\Desktop\\\\Tesi\\\\Pipeline\\\\Report\\\\Profiling step 3\\\\Threat_Fox\\\\Tags.html\")\n",
    "\n",
    "# As a JSON string\n",
    "json_data = profile.to_json()\n",
    "\n",
    "# As a file\n",
    "profile.to_file(\"C:\\\\Users\\\\leona\\\\OneDrive\\\\Desktop\\\\Tesi\\\\Pipeline\\\\Report\\\\Profiling step 3\\\\Threat_Fox\\\\Tags.json\")"
   ]
  },
  {
   "cell_type": "code",
   "execution_count": null,
   "id": "8c03ebad",
   "metadata": {},
   "outputs": [],
   "source": []
  },
  {
   "cell_type": "code",
   "execution_count": null,
   "id": "9b5513fc",
   "metadata": {},
   "outputs": [],
   "source": []
  }
 ],
 "metadata": {
  "kernelspec": {
   "display_name": "Python 3 (ipykernel)",
   "language": "python",
   "name": "python3"
  },
  "language_info": {
   "codemirror_mode": {
    "name": "ipython",
    "version": 3
   },
   "file_extension": ".py",
   "mimetype": "text/x-python",
   "name": "python",
   "nbconvert_exporter": "python",
   "pygments_lexer": "ipython3",
   "version": "3.11.5"
  }
 },
 "nbformat": 4,
 "nbformat_minor": 5
}
