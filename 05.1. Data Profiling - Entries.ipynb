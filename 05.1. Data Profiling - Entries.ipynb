{
 "cells": [
  {
   "cell_type": "markdown",
   "id": "7c5b6581",
   "metadata": {},
   "source": [
    "# 5.1 Data Profiling - Integrated Dataset - Entries"
   ]
  },
  {
   "cell_type": "code",
   "execution_count": 1,
   "id": "d0f57648",
   "metadata": {},
   "outputs": [],
   "source": [
    "import datetime\n",
    "import os\n",
    "import time\n",
    "import pandas as pd \n",
    "import requests\n",
    "import urllib3\n",
    "import json\n",
    "import sys\n",
    "import numpy as np\n",
    "\n",
    "pd.options.display.max_colwidth = 1000\n",
    "pd.set_option('display.max_columns', None)"
   ]
  },
  {
   "cell_type": "code",
   "execution_count": 2,
   "id": "dea2ef4b",
   "metadata": {},
   "outputs": [],
   "source": [
    "file = r'C:\\Users\\leona\\OneDrive\\Desktop\\Tesi\\Pipeline\\Datasets\\Pipeline\\IocSegnalations\\PostDataIntegration\\Entries.csv'"
   ]
  },
  {
   "cell_type": "code",
   "execution_count": 3,
   "id": "919784a0",
   "metadata": {},
   "outputs": [
    {
     "data": {
      "text/html": [
       "<div>\n",
       "<style scoped>\n",
       "    .dataframe tbody tr th:only-of-type {\n",
       "        vertical-align: middle;\n",
       "    }\n",
       "\n",
       "    .dataframe tbody tr th {\n",
       "        vertical-align: top;\n",
       "    }\n",
       "\n",
       "    .dataframe thead th {\n",
       "        text-align: right;\n",
       "    }\n",
       "</style>\n",
       "<table border=\"1\" class=\"dataframe\">\n",
       "  <thead>\n",
       "    <tr style=\"text-align: right;\">\n",
       "      <th></th>\n",
       "      <th>ID_ENTRY</th>\n",
       "      <th>source</th>\n",
       "      <th>ioc</th>\n",
       "      <th>ioc_type</th>\n",
       "      <th>threat_type</th>\n",
       "      <th>malware</th>\n",
       "      <th>first_seen</th>\n",
       "      <th>last_seen</th>\n",
       "      <th>reporter</th>\n",
       "      <th>reference</th>\n",
       "      <th>status</th>\n",
       "    </tr>\n",
       "  </thead>\n",
       "  <tbody>\n",
       "    <tr>\n",
       "      <th>0</th>\n",
       "      <td>0</td>\n",
       "      <td>Feodo Tracker</td>\n",
       "      <td>89.101.97.139:443</td>\n",
       "      <td>ip:port</td>\n",
       "      <td>botnet</td>\n",
       "      <td>qakbot</td>\n",
       "      <td>2021-09-29 08:42:47</td>\n",
       "      <td>2023-08-25</td>\n",
       "      <td>Feodo Tracker blocklist</td>\n",
       "      <td>https://feodotracker.abuse.ch/</td>\n",
       "      <td>NaN</td>\n",
       "    </tr>\n",
       "    <tr>\n",
       "      <th>1</th>\n",
       "      <td>1</td>\n",
       "      <td>Feodo Tracker</td>\n",
       "      <td>41.228.22.180:443</td>\n",
       "      <td>ip:port</td>\n",
       "      <td>botnet</td>\n",
       "      <td>qakbot</td>\n",
       "      <td>2021-09-29 08:42:51</td>\n",
       "      <td>2023-08-25</td>\n",
       "      <td>Feodo Tracker blocklist</td>\n",
       "      <td>https://feodotracker.abuse.ch/</td>\n",
       "      <td>NaN</td>\n",
       "    </tr>\n",
       "    <tr>\n",
       "      <th>2</th>\n",
       "      <td>2</td>\n",
       "      <td>Feodo Tracker</td>\n",
       "      <td>144.139.47.206:443</td>\n",
       "      <td>ip:port</td>\n",
       "      <td>botnet</td>\n",
       "      <td>qakbot</td>\n",
       "      <td>2021-09-30 21:25:38</td>\n",
       "      <td>2023-08-25</td>\n",
       "      <td>Feodo Tracker blocklist</td>\n",
       "      <td>https://feodotracker.abuse.ch/</td>\n",
       "      <td>NaN</td>\n",
       "    </tr>\n",
       "    <tr>\n",
       "      <th>3</th>\n",
       "      <td>3</td>\n",
       "      <td>Feodo Tracker</td>\n",
       "      <td>41.86.42.158:995</td>\n",
       "      <td>ip:port</td>\n",
       "      <td>botnet</td>\n",
       "      <td>qakbot</td>\n",
       "      <td>2021-10-08 14:48:30</td>\n",
       "      <td>2023-08-25</td>\n",
       "      <td>Feodo Tracker blocklist</td>\n",
       "      <td>https://feodotracker.abuse.ch/</td>\n",
       "      <td>NaN</td>\n",
       "    </tr>\n",
       "    <tr>\n",
       "      <th>4</th>\n",
       "      <td>4</td>\n",
       "      <td>Feodo Tracker</td>\n",
       "      <td>63.143.92.99:995</td>\n",
       "      <td>ip:port</td>\n",
       "      <td>botnet</td>\n",
       "      <td>qakbot</td>\n",
       "      <td>2021-10-08 14:48:31</td>\n",
       "      <td>2023-08-25</td>\n",
       "      <td>Feodo Tracker blocklist</td>\n",
       "      <td>https://feodotracker.abuse.ch/</td>\n",
       "      <td>NaN</td>\n",
       "    </tr>\n",
       "    <tr>\n",
       "      <th>...</th>\n",
       "      <td>...</td>\n",
       "      <td>...</td>\n",
       "      <td>...</td>\n",
       "      <td>...</td>\n",
       "      <td>...</td>\n",
       "      <td>...</td>\n",
       "      <td>...</td>\n",
       "      <td>...</td>\n",
       "      <td>...</td>\n",
       "      <td>...</td>\n",
       "      <td>...</td>\n",
       "    </tr>\n",
       "    <tr>\n",
       "      <th>15580</th>\n",
       "      <td>2704832</td>\n",
       "      <td>URL Haus</td>\n",
       "      <td>http://219.157.141.108:59808/Mozi.m</td>\n",
       "      <td>NaN</td>\n",
       "      <td>payload_delivery</td>\n",
       "      <td>NaN</td>\n",
       "      <td>2023-08-16 00:03:35</td>\n",
       "      <td>2023-08-16 00:03:35</td>\n",
       "      <td>Gandylyan1</td>\n",
       "      <td>https://urlhaus.abuse.ch/url/2704832/</td>\n",
       "      <td>offline</td>\n",
       "    </tr>\n",
       "    <tr>\n",
       "      <th>15581</th>\n",
       "      <td>2704830</td>\n",
       "      <td>URL Haus</td>\n",
       "      <td>http://175.107.13.143:38812/Mozi.m</td>\n",
       "      <td>NaN</td>\n",
       "      <td>payload_delivery</td>\n",
       "      <td>NaN</td>\n",
       "      <td>2023-08-16 00:03:34</td>\n",
       "      <td>2023-08-16 00:03:34</td>\n",
       "      <td>Gandylyan1</td>\n",
       "      <td>https://urlhaus.abuse.ch/url/2704830/</td>\n",
       "      <td>offline</td>\n",
       "    </tr>\n",
       "    <tr>\n",
       "      <th>15582</th>\n",
       "      <td>2704831</td>\n",
       "      <td>URL Haus</td>\n",
       "      <td>http://102.33.46.237:54730/Mozi.m</td>\n",
       "      <td>NaN</td>\n",
       "      <td>payload_delivery</td>\n",
       "      <td>NaN</td>\n",
       "      <td>2023-08-16 00:03:34</td>\n",
       "      <td>2023-08-16 00:03:34</td>\n",
       "      <td>Gandylyan1</td>\n",
       "      <td>https://urlhaus.abuse.ch/url/2704831/</td>\n",
       "      <td>offline</td>\n",
       "    </tr>\n",
       "    <tr>\n",
       "      <th>15583</th>\n",
       "      <td>2704829</td>\n",
       "      <td>URL Haus</td>\n",
       "      <td>http://158.255.82.182:48683/Mozi.m</td>\n",
       "      <td>NaN</td>\n",
       "      <td>payload_delivery</td>\n",
       "      <td>NaN</td>\n",
       "      <td>2023-08-16 00:03:06</td>\n",
       "      <td>2023-08-18 09:12:32</td>\n",
       "      <td>Gandylyan1</td>\n",
       "      <td>https://urlhaus.abuse.ch/url/2704829/</td>\n",
       "      <td>offline</td>\n",
       "    </tr>\n",
       "    <tr>\n",
       "      <th>15584</th>\n",
       "      <td>2704827</td>\n",
       "      <td>URL Haus</td>\n",
       "      <td>https://esteticalocarno.com/wp-content/uploads/2016/11/PadNoter.zip</td>\n",
       "      <td>NaN</td>\n",
       "      <td>payload_delivery</td>\n",
       "      <td>NaN</td>\n",
       "      <td>2023-08-16 00:01:06</td>\n",
       "      <td>2023-08-16 00:01:06</td>\n",
       "      <td>Cryptolaemus1</td>\n",
       "      <td>https://urlhaus.abuse.ch/url/2704827/</td>\n",
       "      <td>offline</td>\n",
       "    </tr>\n",
       "  </tbody>\n",
       "</table>\n",
       "<p>15585 rows × 11 columns</p>\n",
       "</div>"
      ],
      "text/plain": [
       "       ID_ENTRY         source  \\\n",
       "0             0  Feodo Tracker   \n",
       "1             1  Feodo Tracker   \n",
       "2             2  Feodo Tracker   \n",
       "3             3  Feodo Tracker   \n",
       "4             4  Feodo Tracker   \n",
       "...         ...            ...   \n",
       "15580   2704832       URL Haus   \n",
       "15581   2704830       URL Haus   \n",
       "15582   2704831       URL Haus   \n",
       "15583   2704829       URL Haus   \n",
       "15584   2704827       URL Haus   \n",
       "\n",
       "                                                                       ioc  \\\n",
       "0                                                        89.101.97.139:443   \n",
       "1                                                        41.228.22.180:443   \n",
       "2                                                       144.139.47.206:443   \n",
       "3                                                         41.86.42.158:995   \n",
       "4                                                         63.143.92.99:995   \n",
       "...                                                                    ...   \n",
       "15580                                  http://219.157.141.108:59808/Mozi.m   \n",
       "15581                                   http://175.107.13.143:38812/Mozi.m   \n",
       "15582                                    http://102.33.46.237:54730/Mozi.m   \n",
       "15583                                   http://158.255.82.182:48683/Mozi.m   \n",
       "15584  https://esteticalocarno.com/wp-content/uploads/2016/11/PadNoter.zip   \n",
       "\n",
       "      ioc_type       threat_type malware           first_seen  \\\n",
       "0      ip:port            botnet  qakbot  2021-09-29 08:42:47   \n",
       "1      ip:port            botnet  qakbot  2021-09-29 08:42:51   \n",
       "2      ip:port            botnet  qakbot  2021-09-30 21:25:38   \n",
       "3      ip:port            botnet  qakbot  2021-10-08 14:48:30   \n",
       "4      ip:port            botnet  qakbot  2021-10-08 14:48:31   \n",
       "...        ...               ...     ...                  ...   \n",
       "15580      NaN  payload_delivery     NaN  2023-08-16 00:03:35   \n",
       "15581      NaN  payload_delivery     NaN  2023-08-16 00:03:34   \n",
       "15582      NaN  payload_delivery     NaN  2023-08-16 00:03:34   \n",
       "15583      NaN  payload_delivery     NaN  2023-08-16 00:03:06   \n",
       "15584      NaN  payload_delivery     NaN  2023-08-16 00:01:06   \n",
       "\n",
       "                 last_seen                 reporter  \\\n",
       "0               2023-08-25  Feodo Tracker blocklist   \n",
       "1               2023-08-25  Feodo Tracker blocklist   \n",
       "2               2023-08-25  Feodo Tracker blocklist   \n",
       "3               2023-08-25  Feodo Tracker blocklist   \n",
       "4               2023-08-25  Feodo Tracker blocklist   \n",
       "...                    ...                      ...   \n",
       "15580  2023-08-16 00:03:35               Gandylyan1   \n",
       "15581  2023-08-16 00:03:34               Gandylyan1   \n",
       "15582  2023-08-16 00:03:34               Gandylyan1   \n",
       "15583  2023-08-18 09:12:32               Gandylyan1   \n",
       "15584  2023-08-16 00:01:06            Cryptolaemus1   \n",
       "\n",
       "                                   reference   status  \n",
       "0             https://feodotracker.abuse.ch/      NaN  \n",
       "1             https://feodotracker.abuse.ch/      NaN  \n",
       "2             https://feodotracker.abuse.ch/      NaN  \n",
       "3             https://feodotracker.abuse.ch/      NaN  \n",
       "4             https://feodotracker.abuse.ch/      NaN  \n",
       "...                                      ...      ...  \n",
       "15580  https://urlhaus.abuse.ch/url/2704832/  offline  \n",
       "15581  https://urlhaus.abuse.ch/url/2704830/  offline  \n",
       "15582  https://urlhaus.abuse.ch/url/2704831/  offline  \n",
       "15583  https://urlhaus.abuse.ch/url/2704829/  offline  \n",
       "15584  https://urlhaus.abuse.ch/url/2704827/  offline  \n",
       "\n",
       "[15585 rows x 11 columns]"
      ]
     },
     "execution_count": 3,
     "metadata": {},
     "output_type": "execute_result"
    }
   ],
   "source": [
    "df = pd.read_csv(file, low_memory = False )\n",
    "df"
   ]
  },
  {
   "cell_type": "code",
   "execution_count": 4,
   "id": "11a59fe9",
   "metadata": {},
   "outputs": [
    {
     "name": "stdout",
     "output_type": "stream",
     "text": [
      "Duplicates:  False\n",
      "# not null values:  148728\n",
      "# null values:  22707\n",
      "# values:  171435\n",
      "# missings:  22707\n"
     ]
    }
   ],
   "source": [
    "print(\"Duplicates: \",df.duplicated().any())\n",
    "#total number of not null values\n",
    "not_null_values = df.count().sum()\n",
    "print(\"# not null values: \",not_null_values)\n",
    "#total number of null values\n",
    "null_values = df.isnull().sum().sum()\n",
    "print(\"# null values: \",null_values)\n",
    "#total number of cells\n",
    "n_values = df.shape[0]*df.shape[1]\n",
    "print(\"# values: \",n_values)\n",
    "#we added to the set of missing values also 'na' and '--'\n",
    "missing_values = ['na','--', 'NaN']\n",
    "ds_property_nan = pd.read_csv(file, na_values = missing_values)\n",
    "print(\"# missings: \",ds_property_nan.isnull().sum().sum())"
   ]
  },
  {
   "cell_type": "markdown",
   "id": "caff1026",
   "metadata": {},
   "source": [
    "## Completeness"
   ]
  },
  {
   "cell_type": "code",
   "execution_count": 5,
   "id": "a306e666",
   "metadata": {},
   "outputs": [
    {
     "name": "stdout",
     "output_type": "stream",
     "text": [
      "86.8%\n"
     ]
    }
   ],
   "source": [
    "#COMPLETENESS evaluation\n",
    "completeness = not_null_values / n_values\n",
    "completeness = '{0:.1f}%'.format(completeness*100)\n",
    "print(completeness)"
   ]
  },
  {
   "cell_type": "markdown",
   "id": "c11d9079",
   "metadata": {},
   "source": [
    "# Single column analysis"
   ]
  },
  {
   "cell_type": "markdown",
   "id": "92f45726",
   "metadata": {},
   "source": [
    "# 1 : ioc"
   ]
  },
  {
   "cell_type": "markdown",
   "id": "42b8cdfc",
   "metadata": {},
   "source": [
    "## CARDINALITIES"
   ]
  },
  {
   "cell_type": "code",
   "execution_count": 6,
   "id": "046b531b",
   "metadata": {},
   "outputs": [
    {
     "name": "stdout",
     "output_type": "stream",
     "text": [
      "# rows:  15585\n"
     ]
    }
   ],
   "source": [
    "#len command counts the number of rows\n",
    "n_rows = len(df['ioc'])\n",
    "print(\"# rows: \", n_rows)"
   ]
  },
  {
   "cell_type": "code",
   "execution_count": 7,
   "id": "ac95448c",
   "metadata": {},
   "outputs": [
    {
     "name": "stdout",
     "output_type": "stream",
     "text": [
      "# non-null:  15585\n"
     ]
    }
   ],
   "source": [
    "#number of non—null observation in \"ioc\" column\n",
    "count_values = df['ioc'].count()\n",
    "print(\"# non-null: \", n_rows)"
   ]
  },
  {
   "cell_type": "code",
   "execution_count": 8,
   "id": "8eb27c52",
   "metadata": {},
   "outputs": [
    {
     "data": {
      "text/plain": [
       "ioc\n",
       "gapi-node.io                                                           3\n",
       "blockall-my.xyz                                                        2\n",
       "mycollection-my.xyz                                                    2\n",
       "coinflore-my.xyz                                                       2\n",
       "https://scauditora.cl/absorbability                                    2\n",
       "                                                                      ..\n",
       "rmlkin.duckdns.org                                                     1\n",
       "autobasecars4040.ddns.net                                              1\n",
       "icando.ug                                                              1\n",
       "marioddns.hopto.org                                                    1\n",
       "https://esteticalocarno.com/wp-content/uploads/2016/11/PadNoter.zip    1\n",
       "Name: count, Length: 15547, dtype: int64"
      ]
     },
     "execution_count": 8,
     "metadata": {},
     "output_type": "execute_result"
    }
   ],
   "source": [
    "#value counts is the same of a group by (attribute \"ibu\")\n",
    "df['ioc'].value_counts()"
   ]
  },
  {
   "cell_type": "markdown",
   "id": "3fad4165",
   "metadata": {},
   "source": [
    "## Cardinality"
   ]
  },
  {
   "cell_type": "code",
   "execution_count": 9,
   "id": "e7129070",
   "metadata": {},
   "outputs": [
    {
     "name": "stdout",
     "output_type": "stream",
     "text": [
      "Cardinality:  15547\n"
     ]
    }
   ],
   "source": [
    "#nunique is the number of distict values for an attribute (attribute \"ibu\")\n",
    "distinct_values = (df['ioc'].nunique())\n",
    "print(\"Cardinality: \", distinct_values)"
   ]
  },
  {
   "cell_type": "markdown",
   "id": "a4e5c09a",
   "metadata": {},
   "source": [
    "## Uniqueness"
   ]
  },
  {
   "cell_type": "code",
   "execution_count": 10,
   "id": "b7663b76",
   "metadata": {},
   "outputs": [
    {
     "name": "stdout",
     "output_type": "stream",
     "text": [
      "Uniqueness:  0.9975617581007379\n"
     ]
    }
   ],
   "source": [
    "#Uniqueness evaluation (attribute \"ioc\")\n",
    "uniqueness = distinct_values / n_rows\n",
    "print(\"Uniqueness: \", uniqueness)"
   ]
  },
  {
   "cell_type": "markdown",
   "id": "e428d0a6",
   "metadata": {},
   "source": [
    "## Distinctness"
   ]
  },
  {
   "cell_type": "code",
   "execution_count": 11,
   "id": "937b87c4",
   "metadata": {
    "scrolled": false
   },
   "outputs": [
    {
     "name": "stdout",
     "output_type": "stream",
     "text": [
      "Distinctness:  0.9975617581007379\n"
     ]
    }
   ],
   "source": [
    "#Distinctness evaluation (attribute \"ioc\")\n",
    "distinctness = distinct_values / count_values\n",
    "print(\"Distinctness: \", distinctness)"
   ]
  },
  {
   "cell_type": "markdown",
   "id": "58172661",
   "metadata": {},
   "source": [
    "# 2 : threat_type\n"
   ]
  },
  {
   "cell_type": "markdown",
   "id": "c2f82dba",
   "metadata": {},
   "source": [
    "## CARDINALITIES\n"
   ]
  },
  {
   "cell_type": "code",
   "execution_count": 12,
   "id": "1714b30e",
   "metadata": {},
   "outputs": [],
   "source": [
    "col = 'threat_type'"
   ]
  },
  {
   "cell_type": "code",
   "execution_count": 13,
   "id": "2de39d4b",
   "metadata": {},
   "outputs": [
    {
     "name": "stdout",
     "output_type": "stream",
     "text": [
      "# rows:  15585\n"
     ]
    }
   ],
   "source": [
    "n_rows = len(df[col])\n",
    "print(\"# rows: \", n_rows)"
   ]
  },
  {
   "cell_type": "code",
   "execution_count": 14,
   "id": "3bfd5bee",
   "metadata": {},
   "outputs": [
    {
     "name": "stdout",
     "output_type": "stream",
     "text": [
      "# non-null:  15585\n"
     ]
    }
   ],
   "source": [
    "count_values = df[col].count()\n",
    "print(\"# non-null: \", n_rows)"
   ]
  },
  {
   "cell_type": "code",
   "execution_count": 15,
   "id": "cbddcb3c",
   "metadata": {},
   "outputs": [
    {
     "data": {
      "text/plain": [
       "threat_type\n",
       "botnet              8355\n",
       "payload_delivery    7213\n",
       "payload               17\n",
       "Name: count, dtype: int64"
      ]
     },
     "execution_count": 15,
     "metadata": {},
     "output_type": "execute_result"
    }
   ],
   "source": [
    "df[col].value_counts()"
   ]
  },
  {
   "cell_type": "markdown",
   "id": "c5692686",
   "metadata": {},
   "source": [
    "## Cardinality"
   ]
  },
  {
   "cell_type": "code",
   "execution_count": 16,
   "id": "c0557053",
   "metadata": {},
   "outputs": [
    {
     "name": "stdout",
     "output_type": "stream",
     "text": [
      "Cardinality:  3\n"
     ]
    }
   ],
   "source": [
    "distinct_values = (df[col].nunique())\n",
    "print(\"Cardinality: \", distinct_values)"
   ]
  },
  {
   "cell_type": "markdown",
   "id": "dcaffb24",
   "metadata": {},
   "source": [
    "## Uniqueness"
   ]
  },
  {
   "cell_type": "code",
   "execution_count": 17,
   "id": "0ff0b016",
   "metadata": {},
   "outputs": [
    {
     "name": "stdout",
     "output_type": "stream",
     "text": [
      "Uniqueness:  0.00019249278152069297\n"
     ]
    }
   ],
   "source": [
    "uniqueness = distinct_values / n_rows\n",
    "print(\"Uniqueness: \", uniqueness)"
   ]
  },
  {
   "cell_type": "markdown",
   "id": "e575d29f",
   "metadata": {},
   "source": [
    "## Distinctness"
   ]
  },
  {
   "cell_type": "code",
   "execution_count": 18,
   "id": "b58e85b4",
   "metadata": {},
   "outputs": [
    {
     "name": "stdout",
     "output_type": "stream",
     "text": [
      "Distinctness:  0.00019249278152069297\n"
     ]
    }
   ],
   "source": [
    "distinctness = distinct_values / count_values\n",
    "print(\"Distinctness: \", distinctness)"
   ]
  },
  {
   "cell_type": "markdown",
   "id": "03000048",
   "metadata": {},
   "source": [
    "# 2 : ioc_type\n"
   ]
  },
  {
   "cell_type": "markdown",
   "id": "21a6aa74",
   "metadata": {},
   "source": [
    "## CARDINALITIES\n"
   ]
  },
  {
   "cell_type": "code",
   "execution_count": 19,
   "id": "66113fc7",
   "metadata": {},
   "outputs": [],
   "source": [
    "col = 'ioc_type'"
   ]
  },
  {
   "cell_type": "code",
   "execution_count": 20,
   "id": "ba9b3d3a",
   "metadata": {},
   "outputs": [
    {
     "name": "stdout",
     "output_type": "stream",
     "text": [
      "# rows:  15585\n"
     ]
    }
   ],
   "source": [
    "n_rows = len(df[col])\n",
    "print(\"# rows: \", n_rows)"
   ]
  },
  {
   "cell_type": "code",
   "execution_count": 21,
   "id": "bb4f6064",
   "metadata": {},
   "outputs": [
    {
     "name": "stdout",
     "output_type": "stream",
     "text": [
      "# non-null:  15585\n"
     ]
    }
   ],
   "source": [
    "count_values = df[col].count()\n",
    "print(\"# non-null: \", n_rows)"
   ]
  },
  {
   "cell_type": "code",
   "execution_count": 22,
   "id": "3a46fc99",
   "metadata": {},
   "outputs": [
    {
     "data": {
      "text/plain": [
       "ioc_type\n",
       "domain         4857\n",
       "ip:port        3067\n",
       "url             588\n",
       "sha256_hash       9\n",
       "md5_hash          8\n",
       "Name: count, dtype: int64"
      ]
     },
     "execution_count": 22,
     "metadata": {},
     "output_type": "execute_result"
    }
   ],
   "source": [
    "df[col].value_counts()"
   ]
  },
  {
   "cell_type": "markdown",
   "id": "e4e933ad",
   "metadata": {},
   "source": [
    "## Cardinality"
   ]
  },
  {
   "cell_type": "code",
   "execution_count": 23,
   "id": "b626d72a",
   "metadata": {},
   "outputs": [
    {
     "name": "stdout",
     "output_type": "stream",
     "text": [
      "Cardinality:  5\n"
     ]
    }
   ],
   "source": [
    "distinct_values = (df[col].nunique())\n",
    "print(\"Cardinality: \", distinct_values)"
   ]
  },
  {
   "cell_type": "markdown",
   "id": "67c10313",
   "metadata": {},
   "source": [
    "## Uniqueness"
   ]
  },
  {
   "cell_type": "code",
   "execution_count": 24,
   "id": "35039e7b",
   "metadata": {},
   "outputs": [
    {
     "name": "stdout",
     "output_type": "stream",
     "text": [
      "Uniqueness:  0.0003208213025344883\n"
     ]
    }
   ],
   "source": [
    "uniqueness = distinct_values / n_rows\n",
    "print(\"Uniqueness: \", uniqueness)"
   ]
  },
  {
   "cell_type": "markdown",
   "id": "b8b0cf75",
   "metadata": {},
   "source": [
    "## Distinctness"
   ]
  },
  {
   "cell_type": "code",
   "execution_count": 25,
   "id": "c44c1b88",
   "metadata": {},
   "outputs": [
    {
     "name": "stdout",
     "output_type": "stream",
     "text": [
      "Distinctness:  0.0005862351975612616\n"
     ]
    }
   ],
   "source": [
    "distinctness = distinct_values / count_values\n",
    "print(\"Distinctness: \", distinctness)"
   ]
  },
  {
   "cell_type": "markdown",
   "id": "12e712b4",
   "metadata": {},
   "source": [
    "# 3 : malware\n"
   ]
  },
  {
   "cell_type": "markdown",
   "id": "9ebd290b",
   "metadata": {},
   "source": [
    "## CARDINALITIES\n"
   ]
  },
  {
   "cell_type": "code",
   "execution_count": 26,
   "id": "366ac562",
   "metadata": {},
   "outputs": [],
   "source": [
    "col = 'malware'"
   ]
  },
  {
   "cell_type": "code",
   "execution_count": 27,
   "id": "17f52a38",
   "metadata": {},
   "outputs": [
    {
     "name": "stdout",
     "output_type": "stream",
     "text": [
      "# rows:  15585\n"
     ]
    }
   ],
   "source": [
    "n_rows = len(df[col])\n",
    "print(\"# rows: \", n_rows)"
   ]
  },
  {
   "cell_type": "code",
   "execution_count": 28,
   "id": "ccc0edd2",
   "metadata": {},
   "outputs": [
    {
     "name": "stdout",
     "output_type": "stream",
     "text": [
      "# non-null:  15585\n"
     ]
    }
   ],
   "source": [
    "count_values = df[col].count()\n",
    "print(\"# non-null: \", n_rows)"
   ]
  },
  {
   "cell_type": "code",
   "execution_count": 29,
   "id": "9628dd47",
   "metadata": {},
   "outputs": [
    {
     "data": {
      "text/plain": [
       "malware\n",
       "remcos            2537\n",
       "asyncrat          2252\n",
       "quasar rat        1120\n",
       "cobalt strike      682\n",
       "bitrat             355\n",
       "                  ... \n",
       "mystic stealer       1\n",
       "kimsuky              1\n",
       "supremebot           1\n",
       "sectoprat            1\n",
       "ghost rat            1\n",
       "Name: count, Length: 69, dtype: int64"
      ]
     },
     "execution_count": 29,
     "metadata": {},
     "output_type": "execute_result"
    }
   ],
   "source": [
    "df[col].value_counts()"
   ]
  },
  {
   "cell_type": "markdown",
   "id": "875f6e02",
   "metadata": {},
   "source": [
    "## Cardinality"
   ]
  },
  {
   "cell_type": "code",
   "execution_count": 30,
   "id": "559d6560",
   "metadata": {},
   "outputs": [
    {
     "name": "stdout",
     "output_type": "stream",
     "text": [
      "Cardinality:  69\n"
     ]
    }
   ],
   "source": [
    "distinct_values = (df[col].nunique())\n",
    "print(\"Cardinality: \", distinct_values)"
   ]
  },
  {
   "cell_type": "markdown",
   "id": "87374bdc",
   "metadata": {},
   "source": [
    "## Uniqueness"
   ]
  },
  {
   "cell_type": "code",
   "execution_count": 31,
   "id": "30a87c98",
   "metadata": {},
   "outputs": [
    {
     "name": "stdout",
     "output_type": "stream",
     "text": [
      "Uniqueness:  0.004427333974975939\n"
     ]
    }
   ],
   "source": [
    "uniqueness = distinct_values / n_rows\n",
    "print(\"Uniqueness: \", uniqueness)"
   ]
  },
  {
   "cell_type": "markdown",
   "id": "586658f6",
   "metadata": {},
   "source": [
    "## Distinctness"
   ]
  },
  {
   "cell_type": "code",
   "execution_count": 32,
   "id": "0efb5ad6",
   "metadata": {},
   "outputs": [
    {
     "name": "stdout",
     "output_type": "stream",
     "text": [
      "Distinctness:  0.00815313718539525\n"
     ]
    }
   ],
   "source": [
    "distinctness = distinct_values / count_values\n",
    "print(\"Distinctness: \", distinctness)"
   ]
  },
  {
   "cell_type": "markdown",
   "id": "0feff893",
   "metadata": {},
   "source": [
    "# 4 : reporter"
   ]
  },
  {
   "cell_type": "markdown",
   "id": "abbcc257",
   "metadata": {},
   "source": [
    "## CARDINALITIES\n"
   ]
  },
  {
   "cell_type": "code",
   "execution_count": 33,
   "id": "e9e36b58",
   "metadata": {},
   "outputs": [],
   "source": [
    "col = 'reporter'"
   ]
  },
  {
   "cell_type": "code",
   "execution_count": 34,
   "id": "73ac2f21",
   "metadata": {},
   "outputs": [
    {
     "name": "stdout",
     "output_type": "stream",
     "text": [
      "# rows:  15585\n"
     ]
    }
   ],
   "source": [
    "n_rows = len(df[col])\n",
    "print(\"# rows: \", n_rows)"
   ]
  },
  {
   "cell_type": "code",
   "execution_count": 35,
   "id": "8f56a9d7",
   "metadata": {},
   "outputs": [
    {
     "name": "stdout",
     "output_type": "stream",
     "text": [
      "# non-null:  15585\n"
     ]
    }
   ],
   "source": [
    "count_values = df[col].count()\n",
    "print(\"# non-null: \", n_rows)"
   ]
  },
  {
   "cell_type": "code",
   "execution_count": 36,
   "id": "fada6cb2",
   "metadata": {},
   "outputs": [
    {
     "data": {
      "text/plain": [
       "reporter\n",
       "Gi7w0rm         6496\n",
       "tolisec         2343\n",
       "geenensp         884\n",
       "abuse_ch         875\n",
       "zbetcheckin      756\n",
       "                ... \n",
       "Chengetai          1\n",
       "teamcymru_S2       1\n",
       "sicehicetf         1\n",
       "ACVaessen          1\n",
       "stoerchl           1\n",
       "Name: count, Length: 62, dtype: int64"
      ]
     },
     "execution_count": 36,
     "metadata": {},
     "output_type": "execute_result"
    }
   ],
   "source": [
    "df[col].value_counts()"
   ]
  },
  {
   "cell_type": "markdown",
   "id": "01003c88",
   "metadata": {},
   "source": [
    "## Cardinality"
   ]
  },
  {
   "cell_type": "code",
   "execution_count": 37,
   "id": "89c2626e",
   "metadata": {},
   "outputs": [
    {
     "name": "stdout",
     "output_type": "stream",
     "text": [
      "Cardinality:  62\n"
     ]
    }
   ],
   "source": [
    "distinct_values = (df[col].nunique())\n",
    "print(\"Cardinality: \", distinct_values)"
   ]
  },
  {
   "cell_type": "markdown",
   "id": "15c114b8",
   "metadata": {},
   "source": [
    "## Uniqueness"
   ]
  },
  {
   "cell_type": "code",
   "execution_count": 38,
   "id": "598691f1",
   "metadata": {},
   "outputs": [
    {
     "name": "stdout",
     "output_type": "stream",
     "text": [
      "Uniqueness:  0.003978184151427655\n"
     ]
    }
   ],
   "source": [
    "uniqueness = distinct_values / n_rows\n",
    "print(\"Uniqueness: \", uniqueness)"
   ]
  },
  {
   "cell_type": "markdown",
   "id": "357e802e",
   "metadata": {},
   "source": [
    "## Distinctness"
   ]
  },
  {
   "cell_type": "code",
   "execution_count": 39,
   "id": "0e2e69cb",
   "metadata": {},
   "outputs": [
    {
     "name": "stdout",
     "output_type": "stream",
     "text": [
      "Distinctness:  0.003978184151427655\n"
     ]
    }
   ],
   "source": [
    "distinctness = distinct_values / count_values\n",
    "print(\"Distinctness: \", distinctness)"
   ]
  },
  {
   "cell_type": "markdown",
   "id": "3b16b239",
   "metadata": {},
   "source": [
    "# Profiling Auto-report"
   ]
  },
  {
   "cell_type": "code",
   "execution_count": 40,
   "id": "05204b9d",
   "metadata": {},
   "outputs": [
    {
     "name": "stdout",
     "output_type": "stream",
     "text": [
      "Requirement already satisfied: pandas-profiling in c:\\users\\leona\\anaconda3\\lib\\site-packages (3.2.0)\n",
      "Requirement already satisfied: joblib~=1.1.0 in c:\\users\\leona\\anaconda3\\lib\\site-packages (from pandas-profiling) (1.1.1)\n",
      "Requirement already satisfied: scipy>=1.4.1 in c:\\users\\leona\\anaconda3\\lib\\site-packages (from pandas-profiling) (1.11.1)\n",
      "Requirement already satisfied: pandas!=1.0.0,!=1.0.1,!=1.0.2,!=1.1.0,>=0.25.3 in c:\\users\\leona\\anaconda3\\lib\\site-packages (from pandas-profiling) (2.0.3)\n",
      "Requirement already satisfied: matplotlib>=3.2.0 in c:\\users\\leona\\anaconda3\\lib\\site-packages (from pandas-profiling) (3.7.2)\n",
      "Requirement already satisfied: pydantic>=1.8.1 in c:\\users\\leona\\anaconda3\\lib\\site-packages (from pandas-profiling) (2.5.3)\n",
      "Requirement already satisfied: PyYAML>=5.0.0 in c:\\users\\leona\\anaconda3\\lib\\site-packages (from pandas-profiling) (6.0)\n",
      "Requirement already satisfied: jinja2>=2.11.1 in c:\\users\\leona\\anaconda3\\lib\\site-packages (from pandas-profiling) (3.1.2)\n",
      "Requirement already satisfied: markupsafe~=2.1.1 in c:\\users\\leona\\anaconda3\\lib\\site-packages (from pandas-profiling) (2.1.1)\n",
      "Collecting visions[type_image_path]==0.7.4 (from pandas-profiling)\n",
      "  Using cached visions-0.7.4-py3-none-any.whl (102 kB)\n",
      "Requirement already satisfied: numpy>=1.16.0 in c:\\users\\leona\\anaconda3\\lib\\site-packages (from pandas-profiling) (1.24.3)\n",
      "Requirement already satisfied: htmlmin>=0.1.12 in c:\\users\\leona\\anaconda3\\lib\\site-packages (from pandas-profiling) (0.1.12)\n",
      "Requirement already satisfied: missingno>=0.4.2 in c:\\users\\leona\\anaconda3\\lib\\site-packages (from pandas-profiling) (0.5.2)\n",
      "Requirement already satisfied: phik>=0.11.1 in c:\\users\\leona\\anaconda3\\lib\\site-packages (from pandas-profiling) (0.12.3)\n",
      "Requirement already satisfied: tangled-up-in-unicode==0.2.0 in c:\\users\\leona\\anaconda3\\lib\\site-packages (from pandas-profiling) (0.2.0)\n",
      "Requirement already satisfied: requests>=2.24.0 in c:\\users\\leona\\anaconda3\\lib\\site-packages (from pandas-profiling) (2.31.0)\n",
      "Requirement already satisfied: tqdm>=4.48.2 in c:\\users\\leona\\anaconda3\\lib\\site-packages (from pandas-profiling) (4.65.0)\n",
      "Requirement already satisfied: seaborn>=0.10.1 in c:\\users\\leona\\anaconda3\\lib\\site-packages (from pandas-profiling) (0.12.2)\n",
      "Requirement already satisfied: multimethod>=1.4 in c:\\users\\leona\\anaconda3\\lib\\site-packages (from pandas-profiling) (1.10)\n",
      "Requirement already satisfied: attrs>=19.3.0 in c:\\users\\leona\\anaconda3\\lib\\site-packages (from visions[type_image_path]==0.7.4->pandas-profiling) (23.1.0)\n",
      "Requirement already satisfied: networkx>=2.4 in c:\\users\\leona\\anaconda3\\lib\\site-packages (from visions[type_image_path]==0.7.4->pandas-profiling) (3.1)\n",
      "Requirement already satisfied: imagehash in c:\\users\\leona\\anaconda3\\lib\\site-packages (from visions[type_image_path]==0.7.4->pandas-profiling) (4.3.1)\n",
      "Requirement already satisfied: Pillow in c:\\users\\leona\\anaconda3\\lib\\site-packages (from visions[type_image_path]==0.7.4->pandas-profiling) (9.4.0)\n",
      "Requirement already satisfied: contourpy>=1.0.1 in c:\\users\\leona\\anaconda3\\lib\\site-packages (from matplotlib>=3.2.0->pandas-profiling) (1.0.5)\n",
      "Requirement already satisfied: cycler>=0.10 in c:\\users\\leona\\anaconda3\\lib\\site-packages (from matplotlib>=3.2.0->pandas-profiling) (0.11.0)\n",
      "Requirement already satisfied: fonttools>=4.22.0 in c:\\users\\leona\\anaconda3\\lib\\site-packages (from matplotlib>=3.2.0->pandas-profiling) (4.25.0)\n",
      "Requirement already satisfied: kiwisolver>=1.0.1 in c:\\users\\leona\\anaconda3\\lib\\site-packages (from matplotlib>=3.2.0->pandas-profiling) (1.4.4)\n",
      "Requirement already satisfied: packaging>=20.0 in c:\\users\\leona\\anaconda3\\lib\\site-packages (from matplotlib>=3.2.0->pandas-profiling) (23.1)\n",
      "Requirement already satisfied: pyparsing<3.1,>=2.3.1 in c:\\users\\leona\\anaconda3\\lib\\site-packages (from matplotlib>=3.2.0->pandas-profiling) (3.0.9)\n",
      "Requirement already satisfied: python-dateutil>=2.7 in c:\\users\\leona\\anaconda3\\lib\\site-packages (from matplotlib>=3.2.0->pandas-profiling) (2.8.2)\n",
      "Requirement already satisfied: pytz>=2020.1 in c:\\users\\leona\\anaconda3\\lib\\site-packages (from pandas!=1.0.0,!=1.0.1,!=1.0.2,!=1.1.0,>=0.25.3->pandas-profiling) (2023.3.post1)\n",
      "Requirement already satisfied: tzdata>=2022.1 in c:\\users\\leona\\anaconda3\\lib\\site-packages (from pandas!=1.0.0,!=1.0.1,!=1.0.2,!=1.1.0,>=0.25.3->pandas-profiling) (2023.3)\n",
      "Requirement already satisfied: annotated-types>=0.4.0 in c:\\users\\leona\\anaconda3\\lib\\site-packages (from pydantic>=1.8.1->pandas-profiling) (0.6.0)\n",
      "Requirement already satisfied: pydantic-core==2.14.6 in c:\\users\\leona\\anaconda3\\lib\\site-packages (from pydantic>=1.8.1->pandas-profiling) (2.14.6)\n",
      "Requirement already satisfied: typing-extensions>=4.6.1 in c:\\users\\leona\\anaconda3\\lib\\site-packages (from pydantic>=1.8.1->pandas-profiling) (4.7.1)\n",
      "Requirement already satisfied: charset-normalizer<4,>=2 in c:\\users\\leona\\anaconda3\\lib\\site-packages (from requests>=2.24.0->pandas-profiling) (2.0.4)\n",
      "Requirement already satisfied: idna<4,>=2.5 in c:\\users\\leona\\anaconda3\\lib\\site-packages (from requests>=2.24.0->pandas-profiling) (3.4)\n",
      "Requirement already satisfied: urllib3<3,>=1.21.1 in c:\\users\\leona\\anaconda3\\lib\\site-packages (from requests>=2.24.0->pandas-profiling) (1.26.16)\n",
      "Requirement already satisfied: certifi>=2017.4.17 in c:\\users\\leona\\anaconda3\\lib\\site-packages (from requests>=2.24.0->pandas-profiling) (2023.7.22)\n",
      "Requirement already satisfied: colorama in c:\\users\\leona\\anaconda3\\lib\\site-packages (from tqdm>=4.48.2->pandas-profiling) (0.4.6)\n",
      "Requirement already satisfied: six>=1.5 in c:\\users\\leona\\anaconda3\\lib\\site-packages (from python-dateutil>=2.7->matplotlib>=3.2.0->pandas-profiling) (1.16.0)\n",
      "Requirement already satisfied: PyWavelets in c:\\users\\leona\\anaconda3\\lib\\site-packages (from imagehash->visions[type_image_path]==0.7.4->pandas-profiling) (1.4.1)\n",
      "Installing collected packages: visions\n",
      "  Attempting uninstall: visions\n",
      "    Found existing installation: visions 0.7.5\n",
      "    Uninstalling visions-0.7.5:\n",
      "      Successfully uninstalled visions-0.7.5\n",
      "Successfully installed visions-0.7.4\n",
      "Note: you may need to restart the kernel to use updated packages.\n"
     ]
    },
    {
     "name": "stderr",
     "output_type": "stream",
     "text": [
      "ERROR: pip's dependency resolver does not currently take into account all the packages that are installed. This behaviour is the source of the following dependency conflicts.\n",
      "ydata-profiling 4.6.3 requires visions[type_image_path]==0.7.5, but you have visions 0.7.4 which is incompatible.\n"
     ]
    }
   ],
   "source": [
    "pip install pandas-profiling"
   ]
  },
  {
   "cell_type": "code",
   "execution_count": 41,
   "id": "26c00c19",
   "metadata": {},
   "outputs": [
    {
     "name": "stdout",
     "output_type": "stream",
     "text": [
      "Requirement already satisfied: numba in c:\\users\\leona\\anaconda3\\lib\\site-packages (0.58.1)\n",
      "Requirement already satisfied: llvmlite<0.42,>=0.41.0dev0 in c:\\users\\leona\\anaconda3\\lib\\site-packages (from numba) (0.41.1)\n",
      "Requirement already satisfied: numpy<1.27,>=1.22 in c:\\users\\leona\\anaconda3\\lib\\site-packages (from numba) (1.24.3)\n",
      "Note: you may need to restart the kernel to use updated packages.\n"
     ]
    }
   ],
   "source": [
    "pip install --upgrade numba"
   ]
  },
  {
   "cell_type": "code",
   "execution_count": 42,
   "id": "ab176de6",
   "metadata": {},
   "outputs": [
    {
     "name": "stdout",
     "output_type": "stream",
     "text": [
      "Requirement already satisfied: visions==0.7.4 in c:\\users\\leona\\anaconda3\\lib\\site-packages (0.7.4)\n",
      "Requirement already satisfied: numpy in c:\\users\\leona\\anaconda3\\lib\\site-packages (from visions==0.7.4) (1.24.3)\n",
      "Requirement already satisfied: pandas>=0.25.3 in c:\\users\\leona\\anaconda3\\lib\\site-packages (from visions==0.7.4) (2.0.3)\n",
      "Requirement already satisfied: attrs>=19.3.0 in c:\\users\\leona\\anaconda3\\lib\\site-packages (from visions==0.7.4) (23.1.0)\n",
      "Requirement already satisfied: networkx>=2.4 in c:\\users\\leona\\anaconda3\\lib\\site-packages (from visions==0.7.4) (3.1)\n",
      "Requirement already satisfied: tangled-up-in-unicode>=0.0.4 in c:\\users\\leona\\anaconda3\\lib\\site-packages (from visions==0.7.4) (0.2.0)\n",
      "Requirement already satisfied: multimethod>=1.4 in c:\\users\\leona\\anaconda3\\lib\\site-packages (from visions==0.7.4) (1.10)\n",
      "Requirement already satisfied: python-dateutil>=2.8.2 in c:\\users\\leona\\anaconda3\\lib\\site-packages (from pandas>=0.25.3->visions==0.7.4) (2.8.2)\n",
      "Requirement already satisfied: pytz>=2020.1 in c:\\users\\leona\\anaconda3\\lib\\site-packages (from pandas>=0.25.3->visions==0.7.4) (2023.3.post1)\n",
      "Requirement already satisfied: tzdata>=2022.1 in c:\\users\\leona\\anaconda3\\lib\\site-packages (from pandas>=0.25.3->visions==0.7.4) (2023.3)\n",
      "Requirement already satisfied: six>=1.5 in c:\\users\\leona\\anaconda3\\lib\\site-packages (from python-dateutil>=2.8.2->pandas>=0.25.3->visions==0.7.4) (1.16.0)\n",
      "Note: you may need to restart the kernel to use updated packages.\n"
     ]
    }
   ],
   "source": [
    "pip install visions==0.7.4"
   ]
  },
  {
   "cell_type": "code",
   "execution_count": 43,
   "id": "5291b55b",
   "metadata": {},
   "outputs": [
    {
     "name": "stdout",
     "output_type": "stream",
     "text": [
      "Requirement already satisfied: pydantic in c:\\users\\leona\\anaconda3\\lib\\site-packages (2.5.3)\n",
      "Requirement already satisfied: pydantic-settings in c:\\users\\leona\\anaconda3\\lib\\site-packages (2.1.0)\n",
      "Requirement already satisfied: annotated-types>=0.4.0 in c:\\users\\leona\\anaconda3\\lib\\site-packages (from pydantic) (0.6.0)\n",
      "Requirement already satisfied: pydantic-core==2.14.6 in c:\\users\\leona\\anaconda3\\lib\\site-packages (from pydantic) (2.14.6)\n",
      "Requirement already satisfied: typing-extensions>=4.6.1 in c:\\users\\leona\\anaconda3\\lib\\site-packages (from pydantic) (4.7.1)\n",
      "Requirement already satisfied: python-dotenv>=0.21.0 in c:\\users\\leona\\anaconda3\\lib\\site-packages (from pydantic-settings) (0.21.0)\n",
      "Note: you may need to restart the kernel to use updated packages.\n"
     ]
    }
   ],
   "source": [
    "pip install --upgrade pydantic pydantic-settings"
   ]
  },
  {
   "cell_type": "code",
   "execution_count": 44,
   "id": "e8e31483",
   "metadata": {},
   "outputs": [
    {
     "name": "stdout",
     "output_type": "stream",
     "text": [
      "Requirement already satisfied: ydata-profiling in c:\\users\\leona\\anaconda3\\lib\\site-packages (4.6.3)\n",
      "Requirement already satisfied: scipy<1.12,>=1.4.1 in c:\\users\\leona\\anaconda3\\lib\\site-packages (from ydata-profiling) (1.11.1)\n",
      "Requirement already satisfied: pandas!=1.4.0,<3,>1.1 in c:\\users\\leona\\anaconda3\\lib\\site-packages (from ydata-profiling) (2.0.3)\n",
      "Requirement already satisfied: matplotlib<3.9,>=3.2 in c:\\users\\leona\\anaconda3\\lib\\site-packages (from ydata-profiling) (3.7.2)\n",
      "Requirement already satisfied: pydantic>=2 in c:\\users\\leona\\anaconda3\\lib\\site-packages (from ydata-profiling) (2.5.3)\n",
      "Requirement already satisfied: PyYAML<6.1,>=5.0.0 in c:\\users\\leona\\anaconda3\\lib\\site-packages (from ydata-profiling) (6.0)\n",
      "Requirement already satisfied: jinja2<3.2,>=2.11.1 in c:\\users\\leona\\anaconda3\\lib\\site-packages (from ydata-profiling) (3.1.2)\n",
      "Collecting visions[type_image_path]==0.7.5 (from ydata-profiling)\n",
      "  Using cached visions-0.7.5-py3-none-any.whl (102 kB)\n",
      "Requirement already satisfied: numpy<1.26,>=1.16.0 in c:\\users\\leona\\anaconda3\\lib\\site-packages (from ydata-profiling) (1.24.3)\n",
      "Requirement already satisfied: htmlmin==0.1.12 in c:\\users\\leona\\anaconda3\\lib\\site-packages (from ydata-profiling) (0.1.12)\n",
      "Requirement already satisfied: phik<0.13,>=0.11.1 in c:\\users\\leona\\anaconda3\\lib\\site-packages (from ydata-profiling) (0.12.3)\n",
      "Requirement already satisfied: requests<3,>=2.24.0 in c:\\users\\leona\\anaconda3\\lib\\site-packages (from ydata-profiling) (2.31.0)\n",
      "Requirement already satisfied: tqdm<5,>=4.48.2 in c:\\users\\leona\\anaconda3\\lib\\site-packages (from ydata-profiling) (4.65.0)\n",
      "Requirement already satisfied: seaborn<0.13,>=0.10.1 in c:\\users\\leona\\anaconda3\\lib\\site-packages (from ydata-profiling) (0.12.2)\n",
      "Requirement already satisfied: multimethod<2,>=1.4 in c:\\users\\leona\\anaconda3\\lib\\site-packages (from ydata-profiling) (1.10)\n",
      "Requirement already satisfied: statsmodels<1,>=0.13.2 in c:\\users\\leona\\anaconda3\\lib\\site-packages (from ydata-profiling) (0.14.0)\n",
      "Requirement already satisfied: typeguard<5,>=4.1.2 in c:\\users\\leona\\anaconda3\\lib\\site-packages (from ydata-profiling) (4.1.5)\n",
      "Requirement already satisfied: imagehash==4.3.1 in c:\\users\\leona\\anaconda3\\lib\\site-packages (from ydata-profiling) (4.3.1)\n",
      "Requirement already satisfied: wordcloud>=1.9.1 in c:\\users\\leona\\anaconda3\\lib\\site-packages (from ydata-profiling) (1.9.3)\n",
      "Requirement already satisfied: dacite>=1.8 in c:\\users\\leona\\anaconda3\\lib\\site-packages (from ydata-profiling) (1.8.1)\n",
      "Requirement already satisfied: numba<0.59.0,>=0.56.0 in c:\\users\\leona\\anaconda3\\lib\\site-packages (from ydata-profiling) (0.58.1)\n",
      "Requirement already satisfied: PyWavelets in c:\\users\\leona\\anaconda3\\lib\\site-packages (from imagehash==4.3.1->ydata-profiling) (1.4.1)\n",
      "Requirement already satisfied: pillow in c:\\users\\leona\\anaconda3\\lib\\site-packages (from imagehash==4.3.1->ydata-profiling) (9.4.0)\n",
      "Requirement already satisfied: attrs>=19.3.0 in c:\\users\\leona\\anaconda3\\lib\\site-packages (from visions[type_image_path]==0.7.5->ydata-profiling) (23.1.0)\n",
      "Requirement already satisfied: networkx>=2.4 in c:\\users\\leona\\anaconda3\\lib\\site-packages (from visions[type_image_path]==0.7.5->ydata-profiling) (3.1)\n",
      "Requirement already satisfied: tangled-up-in-unicode>=0.0.4 in c:\\users\\leona\\anaconda3\\lib\\site-packages (from visions[type_image_path]==0.7.5->ydata-profiling) (0.2.0)\n",
      "Requirement already satisfied: MarkupSafe>=2.0 in c:\\users\\leona\\anaconda3\\lib\\site-packages (from jinja2<3.2,>=2.11.1->ydata-profiling) (2.1.1)\n",
      "Requirement already satisfied: contourpy>=1.0.1 in c:\\users\\leona\\anaconda3\\lib\\site-packages (from matplotlib<3.9,>=3.2->ydata-profiling) (1.0.5)\n",
      "Requirement already satisfied: cycler>=0.10 in c:\\users\\leona\\anaconda3\\lib\\site-packages (from matplotlib<3.9,>=3.2->ydata-profiling) (0.11.0)\n",
      "Requirement already satisfied: fonttools>=4.22.0 in c:\\users\\leona\\anaconda3\\lib\\site-packages (from matplotlib<3.9,>=3.2->ydata-profiling) (4.25.0)\n",
      "Requirement already satisfied: kiwisolver>=1.0.1 in c:\\users\\leona\\anaconda3\\lib\\site-packages (from matplotlib<3.9,>=3.2->ydata-profiling) (1.4.4)\n",
      "Requirement already satisfied: packaging>=20.0 in c:\\users\\leona\\anaconda3\\lib\\site-packages (from matplotlib<3.9,>=3.2->ydata-profiling) (23.1)\n",
      "Requirement already satisfied: pyparsing<3.1,>=2.3.1 in c:\\users\\leona\\anaconda3\\lib\\site-packages (from matplotlib<3.9,>=3.2->ydata-profiling) (3.0.9)\n",
      "Requirement already satisfied: python-dateutil>=2.7 in c:\\users\\leona\\anaconda3\\lib\\site-packages (from matplotlib<3.9,>=3.2->ydata-profiling) (2.8.2)\n",
      "Requirement already satisfied: llvmlite<0.42,>=0.41.0dev0 in c:\\users\\leona\\anaconda3\\lib\\site-packages (from numba<0.59.0,>=0.56.0->ydata-profiling) (0.41.1)\n",
      "Requirement already satisfied: pytz>=2020.1 in c:\\users\\leona\\anaconda3\\lib\\site-packages (from pandas!=1.4.0,<3,>1.1->ydata-profiling) (2023.3.post1)\n",
      "Requirement already satisfied: tzdata>=2022.1 in c:\\users\\leona\\anaconda3\\lib\\site-packages (from pandas!=1.4.0,<3,>1.1->ydata-profiling) (2023.3)\n",
      "Requirement already satisfied: joblib>=0.14.1 in c:\\users\\leona\\anaconda3\\lib\\site-packages (from phik<0.13,>=0.11.1->ydata-profiling) (1.1.1)\n",
      "Requirement already satisfied: annotated-types>=0.4.0 in c:\\users\\leona\\anaconda3\\lib\\site-packages (from pydantic>=2->ydata-profiling) (0.6.0)\n",
      "Requirement already satisfied: pydantic-core==2.14.6 in c:\\users\\leona\\anaconda3\\lib\\site-packages (from pydantic>=2->ydata-profiling) (2.14.6)\n",
      "Requirement already satisfied: typing-extensions>=4.6.1 in c:\\users\\leona\\anaconda3\\lib\\site-packages (from pydantic>=2->ydata-profiling) (4.7.1)\n",
      "Requirement already satisfied: charset-normalizer<4,>=2 in c:\\users\\leona\\anaconda3\\lib\\site-packages (from requests<3,>=2.24.0->ydata-profiling) (2.0.4)\n",
      "Requirement already satisfied: idna<4,>=2.5 in c:\\users\\leona\\anaconda3\\lib\\site-packages (from requests<3,>=2.24.0->ydata-profiling) (3.4)\n",
      "Requirement already satisfied: urllib3<3,>=1.21.1 in c:\\users\\leona\\anaconda3\\lib\\site-packages (from requests<3,>=2.24.0->ydata-profiling) (1.26.16)\n",
      "Requirement already satisfied: certifi>=2017.4.17 in c:\\users\\leona\\anaconda3\\lib\\site-packages (from requests<3,>=2.24.0->ydata-profiling) (2023.7.22)\n",
      "Requirement already satisfied: patsy>=0.5.2 in c:\\users\\leona\\anaconda3\\lib\\site-packages (from statsmodels<1,>=0.13.2->ydata-profiling) (0.5.3)\n",
      "Requirement already satisfied: colorama in c:\\users\\leona\\anaconda3\\lib\\site-packages (from tqdm<5,>=4.48.2->ydata-profiling) (0.4.6)\n",
      "Requirement already satisfied: six in c:\\users\\leona\\anaconda3\\lib\\site-packages (from patsy>=0.5.2->statsmodels<1,>=0.13.2->ydata-profiling) (1.16.0)\n",
      "Installing collected packages: visions\n",
      "  Attempting uninstall: visions\n",
      "    Found existing installation: visions 0.7.4\n",
      "    Uninstalling visions-0.7.4:\n",
      "      Successfully uninstalled visions-0.7.4\n",
      "Successfully installed visions-0.7.5\n",
      "Note: you may need to restart the kernel to use updated packages.\n"
     ]
    },
    {
     "name": "stderr",
     "output_type": "stream",
     "text": [
      "ERROR: pip's dependency resolver does not currently take into account all the packages that are installed. This behaviour is the source of the following dependency conflicts.\n",
      "pandas-profiling 3.2.0 requires visions[type_image_path]==0.7.4, but you have visions 0.7.5 which is incompatible.\n"
     ]
    }
   ],
   "source": [
    "pip install ydata-profiling"
   ]
  },
  {
   "cell_type": "code",
   "execution_count": 45,
   "id": "24c73c68",
   "metadata": {},
   "outputs": [],
   "source": [
    "from ydata_profiling import ProfileReport"
   ]
  },
  {
   "cell_type": "code",
   "execution_count": 53,
   "id": "ffe6b77e",
   "metadata": {},
   "outputs": [
    {
     "data": {
      "application/vnd.jupyter.widget-view+json": {
       "model_id": "d653e3e1ea0a44a0a410aead20974113",
       "version_major": 2,
       "version_minor": 0
      },
      "text/plain": [
       "Summarize dataset:   0%|          | 0/5 [00:00<?, ?it/s]"
      ]
     },
     "metadata": {},
     "output_type": "display_data"
    },
    {
     "data": {
      "application/vnd.jupyter.widget-view+json": {
       "model_id": "8896ef125d084017906af747691c06e9",
       "version_major": 2,
       "version_minor": 0
      },
      "text/plain": [
       "Generate report structure:   0%|          | 0/1 [00:00<?, ?it/s]"
      ]
     },
     "metadata": {},
     "output_type": "display_data"
    },
    {
     "data": {
      "application/vnd.jupyter.widget-view+json": {
       "model_id": "7db0be4d51f1481ebb312834133d6989",
       "version_major": 2,
       "version_minor": 0
      },
      "text/plain": [
       "Render HTML:   0%|          | 0/1 [00:00<?, ?it/s]"
      ]
     },
     "metadata": {},
     "output_type": "display_data"
    },
    {
     "data": {
      "application/vnd.jupyter.widget-view+json": {
       "model_id": "99d67432471d43a2928fb4dc8d4267bb",
       "version_major": 2,
       "version_minor": 0
      },
      "text/plain": [
       "Export report to file:   0%|          | 0/1 [00:00<?, ?it/s]"
      ]
     },
     "metadata": {},
     "output_type": "display_data"
    },
    {
     "data": {
      "application/vnd.jupyter.widget-view+json": {
       "model_id": "870563a71e914b0299a2d50520aed8f2",
       "version_major": 2,
       "version_minor": 0
      },
      "text/plain": [
       "Render JSON:   0%|          | 0/1 [00:00<?, ?it/s]"
      ]
     },
     "metadata": {},
     "output_type": "display_data"
    },
    {
     "data": {
      "application/vnd.jupyter.widget-view+json": {
       "model_id": "76cca70419be4880a2dec088cfbdb970",
       "version_major": 2,
       "version_minor": 0
      },
      "text/plain": [
       "Export report to file:   0%|          | 0/1 [00:00<?, ?it/s]"
      ]
     },
     "metadata": {},
     "output_type": "display_data"
    }
   ],
   "source": [
    "df['first_seen'] = pd.to_datetime(df['first_seen'], format='mixed', utc = True)\n",
    "df['last_seen'] = pd.to_datetime(df['last_seen'], format='mixed', utc = True)\n",
    "\n",
    "df = df.dropna(subset=['first_seen', 'last_seen'])\n",
    "\n",
    "profile = ProfileReport(df, title=\"Integrated Dataset - Entries - Pandas Profiling Report\")\n",
    "\n",
    "profile.to_file(\"C:\\\\Users\\\\leona\\\\OneDrive\\\\Desktop\\\\Tesi\\\\Pipeline\\\\Report\\\\Profiling step 5\\\\IntegratedDataset\\\\Entries.html\")\n",
    "\n",
    "# As a JSON string\n",
    "json_data = profile.to_json()\n",
    "\n",
    "# As a file\n",
    "profile.to_file(\"C:\\\\Users\\\\leona\\\\OneDrive\\\\Desktop\\\\Tesi\\\\Pipeline\\\\Report\\\\Profiling step 5\\\\IntegratedDataset\\\\Entries.json\")"
   ]
  },
  {
   "cell_type": "markdown",
   "id": "a12f9a71",
   "metadata": {},
   "source": [
    "## Value Distribution\n",
    "\n",
    "Histograms representing the source and the timeline of the data"
   ]
  },
  {
   "cell_type": "markdown",
   "id": "5d7b6f63",
   "metadata": {},
   "source": [
    "#### Distribution of malwares"
   ]
  },
  {
   "cell_type": "code",
   "execution_count": 59,
   "id": "91f522b3",
   "metadata": {},
   "outputs": [],
   "source": [
    "#import libraries and set up\n",
    "import seaborn as sns\n",
    "import matplotlib\n",
    "matplotlib.use('tkagg')\n",
    "import matplotlib.pyplot as plt\n",
    "\n",
    "\n",
    "sns.set(color_codes=True)\n",
    "sns.set_palette(sns.color_palette(\"muted\"))"
   ]
  },
  {
   "cell_type": "code",
   "execution_count": 60,
   "id": "9d09b27b",
   "metadata": {},
   "outputs": [],
   "source": [
    "df['first_seen'] = pd.to_datetime(df['first_seen'], utc=True, format='mixed')\n",
    "\n",
    "threat_fox_df = df[ df['source'] == 'Threat Fox' ]\n",
    "url_haus_df = df[ df['source'] == 'URL Haus' ]\n",
    "feodo_tracker_df = df[ df['source'] == 'Feodo Tracker' ]"
   ]
  },
  {
   "cell_type": "code",
   "execution_count": 61,
   "id": "37e22d77",
   "metadata": {},
   "outputs": [],
   "source": [
    "def distibution_plot(df, field):\n",
    "    \n",
    "    unique_malwares = df[field].unique()\n",
    "    \n",
    "    new = pd.DataFrame()\n",
    "    \n",
    "    s = 0\n",
    "    \n",
    "    nunique = len(unique_malwares)\n",
    "    \n",
    "    for i in range(nunique):\n",
    "        \n",
    "        malware = unique_malwares[i]\n",
    "        \n",
    "        s = s + len(df[df[field] == malware ])\n",
    "    \n",
    "    avg = ( s / nunique )\n",
    "    \n",
    "    for i in range(nunique):\n",
    "        \n",
    "        malware = unique_malwares[i]\n",
    "        \n",
    "        tmp = df[df[field] == malware ]\n",
    "    \n",
    "        if(len(tmp) > avg):\n",
    "            \n",
    "            new = pd.concat([new, tmp])       \n",
    "            \n",
    "    return new       "
   ]
  },
  {
   "cell_type": "code",
   "execution_count": 62,
   "id": "50d03fc3",
   "metadata": {},
   "outputs": [
    {
     "data": {
      "text/plain": [
       "<Axes: >"
      ]
     },
     "execution_count": 62,
     "metadata": {},
     "output_type": "execute_result"
    }
   ],
   "source": [
    "distibution_plot(df, 'malware')['malware'].hist()"
   ]
  },
  {
   "cell_type": "markdown",
   "id": "bd418b5d",
   "metadata": {},
   "source": [
    "#### Distribution of entries over time"
   ]
  },
  {
   "cell_type": "code",
   "execution_count": 63,
   "id": "1d5bd64a",
   "metadata": {},
   "outputs": [],
   "source": [
    "# Create a time series plot with different colors for each category\n",
    "plt.figure(figsize=(10, 6))\n",
    "\n",
    "# Plot Category A with a blue color\n",
    "plt.plot(threat_fox_df['first_seen'], label='Threat Fox', marker='o', linestyle='-', color='blue')\n",
    "\n",
    "# Plot Category B with a green color\n",
    "plt.plot(url_haus_df['first_seen'], label='URL Haus', marker='x', linestyle='-', color='green')\n",
    "\n",
    "# Plot Category C with a red color\n",
    "plt.plot(feodo_tracker_df['first_seen'], label='Feodo Tracker', marker='s', linestyle='-', color='red')\n",
    "\n",
    "# Customize the plot\n",
    "plt.title('Time Series Data by Category')\n",
    "plt.xlabel('Timestamp')\n",
    "plt.grid(True)\n",
    "\n",
    "# Add a legend to distinguish between categories\n",
    "plt.legend()\n",
    "\n",
    "# Show the plot\n",
    "plt.tight_layout()\n",
    "plt.show()\n"
   ]
  },
  {
   "cell_type": "code",
   "execution_count": null,
   "id": "70c4975e",
   "metadata": {},
   "outputs": [],
   "source": []
  }
 ],
 "metadata": {
  "kernelspec": {
   "display_name": "Python 3 (ipykernel)",
   "language": "python",
   "name": "python3"
  },
  "language_info": {
   "codemirror_mode": {
    "name": "ipython",
    "version": 3
   },
   "file_extension": ".py",
   "mimetype": "text/x-python",
   "name": "python",
   "nbconvert_exporter": "python",
   "pygments_lexer": "ipython3",
   "version": "3.11.5"
  }
 },
 "nbformat": 4,
 "nbformat_minor": 5
}
