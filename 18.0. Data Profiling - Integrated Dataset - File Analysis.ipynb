{
 "cells": [
  {
   "cell_type": "markdown",
   "id": "7c5b6581",
   "metadata": {},
   "source": [
    "# 18.0. Data Profiling - Integrated Dataset "
   ]
  },
  {
   "cell_type": "code",
   "execution_count": 1,
   "id": "d0f57648",
   "metadata": {},
   "outputs": [],
   "source": [
    "from datetime import datetime\n",
    "import os\n",
    "import time\n",
    "import pandas as pd \n",
    "import requests\n",
    "import urllib3\n",
    "import json\n",
    "import sys\n",
    "import numpy as np\n",
    "\n",
    "pd.options.display.max_colwidth = 1000\n",
    "pd.set_option('display.max_columns', None)"
   ]
  },
  {
   "cell_type": "code",
   "execution_count": 2,
   "id": "4a45dd55",
   "metadata": {},
   "outputs": [],
   "source": [
    "from ydata_profiling import ProfileReport"
   ]
  },
  {
   "cell_type": "markdown",
   "id": "0687b3b5",
   "metadata": {},
   "source": [
    "### Data Profiling - ENTRIES"
   ]
  },
  {
   "cell_type": "code",
   "execution_count": 3,
   "id": "9aabe8f0",
   "metadata": {},
   "outputs": [],
   "source": [
    "path_Entries = r\"C:\\\\Users\\\\leona\\\\OneDrive\\\\Desktop\\\\Tesi\\\\Pipeline\\\\Datasets\\\\Pipeline\\\\FileAnalysis\\\\PostDataIntegration\\\\Entries.csv\""
   ]
  },
  {
   "cell_type": "code",
   "execution_count": 4,
   "id": "919784a0",
   "metadata": {
    "scrolled": false
   },
   "outputs": [
    {
     "data": {
      "text/html": [
       "<div>\n",
       "<style scoped>\n",
       "    .dataframe tbody tr th:only-of-type {\n",
       "        vertical-align: middle;\n",
       "    }\n",
       "\n",
       "    .dataframe tbody tr th {\n",
       "        vertical-align: top;\n",
       "    }\n",
       "\n",
       "    .dataframe thead th {\n",
       "        text-align: right;\n",
       "    }\n",
       "</style>\n",
       "<table border=\"1\" class=\"dataframe\">\n",
       "  <thead>\n",
       "    <tr style=\"text-align: right;\">\n",
       "      <th></th>\n",
       "      <th>sha1</th>\n",
       "      <th>sha256</th>\n",
       "      <th>md5</th>\n",
       "      <th>first_seen</th>\n",
       "      <th>last_seen</th>\n",
       "      <th>analysis_date</th>\n",
       "      <th>file_type</th>\n",
       "      <th>delivery_method</th>\n",
       "    </tr>\n",
       "  </thead>\n",
       "  <tbody>\n",
       "    <tr>\n",
       "      <th>0</th>\n",
       "      <td>411535c9548f86034a6a9a603de521a86a3b5466</td>\n",
       "      <td>04c53261b1220a894a02f5ffb39cdfd73f93481c0b5c8106d21c91b20205c62d</td>\n",
       "      <td>5b5a0225a2b7b9a054417662c733168a</td>\n",
       "      <td>2021-11-09</td>\n",
       "      <td>2021-11-09</td>\n",
       "      <td>2021-11-09</td>\n",
       "      <td>exe</td>\n",
       "      <td>email attachment</td>\n",
       "    </tr>\n",
       "    <tr>\n",
       "      <th>1</th>\n",
       "      <td>1ad9e9761fd6935c0cf5048c9615d0383baac48e</td>\n",
       "      <td>ac901bf5882f14e9e07235b8488b6479b4519addda6dbfb89147401c1e9e6e4f</td>\n",
       "      <td>da9534900ee0d11c9b30cf33152ea03c</td>\n",
       "      <td>2023-07-19</td>\n",
       "      <td>2023-08-25</td>\n",
       "      <td>2023-07-19</td>\n",
       "      <td>exe</td>\n",
       "      <td>web download</td>\n",
       "    </tr>\n",
       "    <tr>\n",
       "      <th>2</th>\n",
       "      <td>8ab63abfe58fb218cc001581ac0d9fe38c784157</td>\n",
       "      <td>7f514ed5e1ec262953e6252a4089531c519e95d700c5808415b0f049fc59a5f0</td>\n",
       "      <td>855232a26e8afcd0cca5f816a1919dee</td>\n",
       "      <td>2022-01-04</td>\n",
       "      <td>2022-02-04</td>\n",
       "      <td>2022-01-04</td>\n",
       "      <td>exe</td>\n",
       "      <td>unknown</td>\n",
       "    </tr>\n",
       "    <tr>\n",
       "      <th>3</th>\n",
       "      <td>55cbf8dae95d350ad7e5a63b418f6cd203488f51</td>\n",
       "      <td>8b7ae9f195b075a789d6d8277d500d27754bfa3c53ecca8db7beac8ccd07884f</td>\n",
       "      <td>97d9d216f2627cb238ca6637580b1739</td>\n",
       "      <td>2023-06-13</td>\n",
       "      <td>2023-06-13</td>\n",
       "      <td>2022-02-09</td>\n",
       "      <td>exe</td>\n",
       "      <td>unknown</td>\n",
       "    </tr>\n",
       "    <tr>\n",
       "      <th>4</th>\n",
       "      <td>a2915c1be9e6134b7bf3ca5ca00eeb0c969bedab</td>\n",
       "      <td>6c2a2251861a6d2701814843fadac940cf4d34db9f446f0698352fd866b31739</td>\n",
       "      <td>1b09de36dfe5850d7e3fbd6b39c89a43</td>\n",
       "      <td>2022-03-27</td>\n",
       "      <td>2022-04-06</td>\n",
       "      <td>2021-02-11</td>\n",
       "      <td>exe</td>\n",
       "      <td>web download</td>\n",
       "    </tr>\n",
       "    <tr>\n",
       "      <th>...</th>\n",
       "      <td>...</td>\n",
       "      <td>...</td>\n",
       "      <td>...</td>\n",
       "      <td>...</td>\n",
       "      <td>...</td>\n",
       "      <td>...</td>\n",
       "      <td>...</td>\n",
       "      <td>...</td>\n",
       "    </tr>\n",
       "    <tr>\n",
       "      <th>2657</th>\n",
       "      <td>6b6955af591154d3f6e2db35ca9904cce7e264b1</td>\n",
       "      <td>3a9d8c693b7dc6a9c2bf876c5626ebd0923e35bd5f698baed248df7f51f67275</td>\n",
       "      <td>03872a722df0b073a84fd1aa45eb9376</td>\n",
       "      <td>NaN</td>\n",
       "      <td>NaN</td>\n",
       "      <td>2020-02-20</td>\n",
       "      <td>elf</td>\n",
       "      <td>NaN</td>\n",
       "    </tr>\n",
       "    <tr>\n",
       "      <th>2658</th>\n",
       "      <td>3ab53037e2360c42b57d213234ced58717844a71</td>\n",
       "      <td>5de4932cb0ccab3fec711135cdd1af5a09c26a870bfb2d2adc650d0fdbf16488</td>\n",
       "      <td>e0fea510c784eb0e440e99e53d83d414</td>\n",
       "      <td>NaN</td>\n",
       "      <td>NaN</td>\n",
       "      <td>2021-07-14</td>\n",
       "      <td>exe</td>\n",
       "      <td>NaN</td>\n",
       "    </tr>\n",
       "    <tr>\n",
       "      <th>2659</th>\n",
       "      <td>4f9b9859a596a8bfdfee516788587ca0c0fb6ae8</td>\n",
       "      <td>f10dd5ce32d72489dd2696e5b58ee115f3cd065969a61a6613cab27bcd57de70</td>\n",
       "      <td>c9f771be253b6ca1d7a808d7d65c5e29</td>\n",
       "      <td>NaN</td>\n",
       "      <td>NaN</td>\n",
       "      <td>2020-09-08</td>\n",
       "      <td>exe</td>\n",
       "      <td>NaN</td>\n",
       "    </tr>\n",
       "    <tr>\n",
       "      <th>2660</th>\n",
       "      <td>d14540087dd6d350fb49e644e53ccefc0e4c1582</td>\n",
       "      <td>dba8a4717d516772b8cc06bd258265f21f7db6ddab62328917524c5a243c67a1</td>\n",
       "      <td>fe783ff4bccd76cb215ee1f7738d9ed5</td>\n",
       "      <td>NaN</td>\n",
       "      <td>NaN</td>\n",
       "      <td>2021-12-20</td>\n",
       "      <td>exe</td>\n",
       "      <td>NaN</td>\n",
       "    </tr>\n",
       "    <tr>\n",
       "      <th>2661</th>\n",
       "      <td>98837feaac2ed17b3709e5183b660dd41e7a1e0e</td>\n",
       "      <td>5b37ddd18800dc91071db31b340e8f9997bb89d42d5a194d7ff8c980a54abe89</td>\n",
       "      <td>1b47215513edd622ba825dced07c8969</td>\n",
       "      <td>NaN</td>\n",
       "      <td>NaN</td>\n",
       "      <td>2021-11-11</td>\n",
       "      <td>exe</td>\n",
       "      <td>NaN</td>\n",
       "    </tr>\n",
       "  </tbody>\n",
       "</table>\n",
       "<p>2662 rows × 8 columns</p>\n",
       "</div>"
      ],
      "text/plain": [
       "                                          sha1  \\\n",
       "0     411535c9548f86034a6a9a603de521a86a3b5466   \n",
       "1     1ad9e9761fd6935c0cf5048c9615d0383baac48e   \n",
       "2     8ab63abfe58fb218cc001581ac0d9fe38c784157   \n",
       "3     55cbf8dae95d350ad7e5a63b418f6cd203488f51   \n",
       "4     a2915c1be9e6134b7bf3ca5ca00eeb0c969bedab   \n",
       "...                                        ...   \n",
       "2657  6b6955af591154d3f6e2db35ca9904cce7e264b1   \n",
       "2658  3ab53037e2360c42b57d213234ced58717844a71   \n",
       "2659  4f9b9859a596a8bfdfee516788587ca0c0fb6ae8   \n",
       "2660  d14540087dd6d350fb49e644e53ccefc0e4c1582   \n",
       "2661  98837feaac2ed17b3709e5183b660dd41e7a1e0e   \n",
       "\n",
       "                                                                sha256  \\\n",
       "0     04c53261b1220a894a02f5ffb39cdfd73f93481c0b5c8106d21c91b20205c62d   \n",
       "1     ac901bf5882f14e9e07235b8488b6479b4519addda6dbfb89147401c1e9e6e4f   \n",
       "2     7f514ed5e1ec262953e6252a4089531c519e95d700c5808415b0f049fc59a5f0   \n",
       "3     8b7ae9f195b075a789d6d8277d500d27754bfa3c53ecca8db7beac8ccd07884f   \n",
       "4     6c2a2251861a6d2701814843fadac940cf4d34db9f446f0698352fd866b31739   \n",
       "...                                                                ...   \n",
       "2657  3a9d8c693b7dc6a9c2bf876c5626ebd0923e35bd5f698baed248df7f51f67275   \n",
       "2658  5de4932cb0ccab3fec711135cdd1af5a09c26a870bfb2d2adc650d0fdbf16488   \n",
       "2659  f10dd5ce32d72489dd2696e5b58ee115f3cd065969a61a6613cab27bcd57de70   \n",
       "2660  dba8a4717d516772b8cc06bd258265f21f7db6ddab62328917524c5a243c67a1   \n",
       "2661  5b37ddd18800dc91071db31b340e8f9997bb89d42d5a194d7ff8c980a54abe89   \n",
       "\n",
       "                                   md5  first_seen   last_seen analysis_date  \\\n",
       "0     5b5a0225a2b7b9a054417662c733168a  2021-11-09  2021-11-09    2021-11-09   \n",
       "1     da9534900ee0d11c9b30cf33152ea03c  2023-07-19  2023-08-25    2023-07-19   \n",
       "2     855232a26e8afcd0cca5f816a1919dee  2022-01-04  2022-02-04    2022-01-04   \n",
       "3     97d9d216f2627cb238ca6637580b1739  2023-06-13  2023-06-13    2022-02-09   \n",
       "4     1b09de36dfe5850d7e3fbd6b39c89a43  2022-03-27  2022-04-06    2021-02-11   \n",
       "...                                ...         ...         ...           ...   \n",
       "2657  03872a722df0b073a84fd1aa45eb9376         NaN         NaN    2020-02-20   \n",
       "2658  e0fea510c784eb0e440e99e53d83d414         NaN         NaN    2021-07-14   \n",
       "2659  c9f771be253b6ca1d7a808d7d65c5e29         NaN         NaN    2020-09-08   \n",
       "2660  fe783ff4bccd76cb215ee1f7738d9ed5         NaN         NaN    2021-12-20   \n",
       "2661  1b47215513edd622ba825dced07c8969         NaN         NaN    2021-11-11   \n",
       "\n",
       "     file_type   delivery_method  \n",
       "0          exe  email attachment  \n",
       "1          exe      web download  \n",
       "2          exe           unknown  \n",
       "3          exe           unknown  \n",
       "4          exe      web download  \n",
       "...        ...               ...  \n",
       "2657       elf               NaN  \n",
       "2658       exe               NaN  \n",
       "2659       exe               NaN  \n",
       "2660       exe               NaN  \n",
       "2661       exe               NaN  \n",
       "\n",
       "[2662 rows x 8 columns]"
      ]
     },
     "execution_count": 4,
     "metadata": {},
     "output_type": "execute_result"
    }
   ],
   "source": [
    "entries = pd.read_csv(path_Entries, low_memory = False)\n",
    "entries"
   ]
  },
  {
   "cell_type": "code",
   "execution_count": 5,
   "id": "232f6da4",
   "metadata": {},
   "outputs": [
    {
     "name": "stdout",
     "output_type": "stream",
     "text": [
      "Duplicates:  True\n",
      "# not null values:  15206\n",
      "# null values:  6090\n",
      "# values:  21296\n",
      "# missings:  6090\n"
     ]
    }
   ],
   "source": [
    "print(\"Duplicates: \",entries.duplicated().any())\n",
    "#total number of not null values\n",
    "not_null_values = entries.count().sum()\n",
    "print(\"# not null values: \",not_null_values)\n",
    "#total number of null values\n",
    "null_values = entries.isnull().sum().sum()\n",
    "print(\"# null values: \",null_values)\n",
    "#total number of cells\n",
    "n_values = entries.shape[0]*entries.shape[1]\n",
    "print(\"# values: \",n_values)\n",
    "#we added to the set of missing values also 'na' and '--'\n",
    "missing_values = ['na','--', 'NaN', 'None', '']\n",
    "ds_property_nan = pd.read_csv(path_Entries, na_values = missing_values)\n",
    "print(\"# missings: \",ds_property_nan.isnull().sum().sum())"
   ]
  },
  {
   "cell_type": "code",
   "execution_count": 6,
   "id": "468e27e0",
   "metadata": {},
   "outputs": [
    {
     "name": "stdout",
     "output_type": "stream",
     "text": [
      "Completeness:  71.4%\n"
     ]
    }
   ],
   "source": [
    "#COMPLETENESS evaluation\n",
    "completeness = not_null_values / n_values\n",
    "completeness = '{0:.1f}%'.format(completeness*100)\n",
    "print(\"Completeness: \",completeness)"
   ]
  },
  {
   "cell_type": "code",
   "execution_count": 8,
   "id": "014288b4",
   "metadata": {},
   "outputs": [],
   "source": [
    "def analyse_columns(df):\n",
    "    \n",
    "    columns = df.columns\n",
    "    for i in range(len(columns)):\n",
    "        \n",
    "        compute_completeness(df, columns[i])\n",
    "\n",
    "def compute_completeness(df, col):\n",
    "    completeness = 1 - df[col].isna().mean()\n",
    "\n",
    "    # Print the completeness percentage\n",
    "    print(f\"Completeness for '{(col)}': {completeness * 100:.2f}%\")"
   ]
  },
  {
   "cell_type": "code",
   "execution_count": 9,
   "id": "b9319b12",
   "metadata": {},
   "outputs": [
    {
     "name": "stdout",
     "output_type": "stream",
     "text": [
      "Completeness for 'sha1': 100.00%\n",
      "Completeness for 'sha256': 100.00%\n",
      "Completeness for 'md5': 100.00%\n",
      "Completeness for 'first_seen': 23.82%\n",
      "Completeness for 'last_seen': 23.82%\n",
      "Completeness for 'analysis_date': 99.77%\n",
      "Completeness for 'file_type': 100.00%\n",
      "Completeness for 'delivery_method': 23.82%\n"
     ]
    }
   ],
   "source": [
    "analyse_columns(entries)"
   ]
  },
  {
   "cell_type": "code",
   "execution_count": 10,
   "id": "1f7da857",
   "metadata": {
    "scrolled": false
   },
   "outputs": [
    {
     "data": {
      "application/vnd.jupyter.widget-view+json": {
       "model_id": "9d5a5ed756504263aac2c1fb69c2b0a5",
       "version_major": 2,
       "version_minor": 0
      },
      "text/plain": [
       "Summarize dataset:   0%|          | 0/5 [00:00<?, ?it/s]"
      ]
     },
     "metadata": {},
     "output_type": "display_data"
    },
    {
     "data": {
      "application/vnd.jupyter.widget-view+json": {
       "model_id": "c196346189da47939be6fcb68f9fd982",
       "version_major": 2,
       "version_minor": 0
      },
      "text/plain": [
       "Generate report structure:   0%|          | 0/1 [00:00<?, ?it/s]"
      ]
     },
     "metadata": {},
     "output_type": "display_data"
    },
    {
     "data": {
      "application/vnd.jupyter.widget-view+json": {
       "model_id": "a3d71103000048e898015d652b31374f",
       "version_major": 2,
       "version_minor": 0
      },
      "text/plain": [
       "Render HTML:   0%|          | 0/1 [00:00<?, ?it/s]"
      ]
     },
     "metadata": {},
     "output_type": "display_data"
    },
    {
     "data": {
      "application/vnd.jupyter.widget-view+json": {
       "model_id": "0cb5fe0abaf94e1789109d5e930ad5c9",
       "version_major": 2,
       "version_minor": 0
      },
      "text/plain": [
       "Export report to file:   0%|          | 0/1 [00:00<?, ?it/s]"
      ]
     },
     "metadata": {},
     "output_type": "display_data"
    },
    {
     "data": {
      "application/vnd.jupyter.widget-view+json": {
       "model_id": "296b6be7d39849cfb5e34f95f07989c1",
       "version_major": 2,
       "version_minor": 0
      },
      "text/plain": [
       "Render JSON:   0%|          | 0/1 [00:00<?, ?it/s]"
      ]
     },
     "metadata": {},
     "output_type": "display_data"
    },
    {
     "data": {
      "application/vnd.jupyter.widget-view+json": {
       "model_id": "3455a947e1704fb4979cc835810caf0c",
       "version_major": 2,
       "version_minor": 0
      },
      "text/plain": [
       "Export report to file:   0%|          | 0/1 [00:00<?, ?it/s]"
      ]
     },
     "metadata": {},
     "output_type": "display_data"
    }
   ],
   "source": [
    "profile = ProfileReport(entries, title=\"Entries - Pandas Profiling Report\", minimal=True)\n",
    "profile.to_file(\"C:\\\\Users\\\\leona\\\\OneDrive\\\\Desktop\\\\Tesi\\\\Pipeline\\\\Report\\\\Profiling step 18\\\\Integrated_Dataset\\\\Entries_Report.html\")\n",
    "\n",
    "# As a JSON string\n",
    "json_data = profile.to_json()\n",
    "\n",
    "# As a file\n",
    "profile.to_file(\"C:\\\\Users\\\\leona\\\\OneDrive\\\\Desktop\\\\Tesi\\\\Pipeline\\\\Report\\\\Profiling step 18\\\\Integrated_Dataset\\\\Entries_Report.json\")"
   ]
  },
  {
   "cell_type": "markdown",
   "id": "6759d623",
   "metadata": {},
   "source": [
    "### Data Profiling - ANOMALIES"
   ]
  },
  {
   "cell_type": "code",
   "execution_count": 11,
   "id": "cc31e4ff",
   "metadata": {},
   "outputs": [],
   "source": [
    "path_Anomalies = r\"C:\\\\Users\\\\leona\\\\OneDrive\\\\Desktop\\\\Tesi\\\\Pipeline\\\\Datasets\\\\Pipeline\\\\FileAnalysis\\\\PostDataIntegration\\\\Anomalies.csv\""
   ]
  },
  {
   "cell_type": "code",
   "execution_count": 12,
   "id": "06a94581",
   "metadata": {
    "scrolled": false
   },
   "outputs": [
    {
     "data": {
      "text/html": [
       "<div>\n",
       "<style scoped>\n",
       "    .dataframe tbody tr th:only-of-type {\n",
       "        vertical-align: middle;\n",
       "    }\n",
       "\n",
       "    .dataframe tbody tr th {\n",
       "        vertical-align: top;\n",
       "    }\n",
       "\n",
       "    .dataframe thead th {\n",
       "        text-align: right;\n",
       "    }\n",
       "</style>\n",
       "<table border=\"1\" class=\"dataframe\">\n",
       "  <thead>\n",
       "    <tr style=\"text-align: right;\">\n",
       "      <th></th>\n",
       "      <th>sha1</th>\n",
       "      <th>sha256</th>\n",
       "      <th>md5</th>\n",
       "      <th>anomaly_name</th>\n",
       "    </tr>\n",
       "  </thead>\n",
       "  <tbody>\n",
       "    <tr>\n",
       "      <th>0</th>\n",
       "      <td>b701b181de8e595225668cb65d5b975e5b300a39</td>\n",
       "      <td>58edde581177c6f96caa4da4cd73396afee160b9152692a664b28aa67dd0d100</td>\n",
       "      <td>d6cda532ce834b973d5292e05e1d6c38</td>\n",
       "      <td>checksum header zero</td>\n",
       "    </tr>\n",
       "    <tr>\n",
       "      <th>1</th>\n",
       "      <td>e900de5aea86567fadc7507a6811596eb4b86a14</td>\n",
       "      <td>3363270a2950c8518e7883ea147b3f947b3a96aa31d37a990c73f975946335ce</td>\n",
       "      <td>e076afd88fe6a708d91a3f771754e860</td>\n",
       "      <td>checksum header zero</td>\n",
       "    </tr>\n",
       "    <tr>\n",
       "      <th>2</th>\n",
       "      <td>12d263832d7f08122fbfc4431da22016e0823539</td>\n",
       "      <td>cf1260b1d0686dbee4a5c9e3bcd09eff07bfae0a53d17356b72150f59ad1a497</td>\n",
       "      <td>497d3c4d08b80e03f622064dced10135</td>\n",
       "      <td>entropy based</td>\n",
       "    </tr>\n",
       "  </tbody>\n",
       "</table>\n",
       "</div>"
      ],
      "text/plain": [
       "                                       sha1  \\\n",
       "0  b701b181de8e595225668cb65d5b975e5b300a39   \n",
       "1  e900de5aea86567fadc7507a6811596eb4b86a14   \n",
       "2  12d263832d7f08122fbfc4431da22016e0823539   \n",
       "\n",
       "                                                             sha256  \\\n",
       "0  58edde581177c6f96caa4da4cd73396afee160b9152692a664b28aa67dd0d100   \n",
       "1  3363270a2950c8518e7883ea147b3f947b3a96aa31d37a990c73f975946335ce   \n",
       "2  cf1260b1d0686dbee4a5c9e3bcd09eff07bfae0a53d17356b72150f59ad1a497   \n",
       "\n",
       "                                md5          anomaly_name  \n",
       "0  d6cda532ce834b973d5292e05e1d6c38  checksum header zero  \n",
       "1  e076afd88fe6a708d91a3f771754e860  checksum header zero  \n",
       "2  497d3c4d08b80e03f622064dced10135         entropy based  "
      ]
     },
     "execution_count": 12,
     "metadata": {},
     "output_type": "execute_result"
    }
   ],
   "source": [
    "anomalies = pd.read_csv(path_Anomalies, low_memory = False)\n",
    "anomalies.head(3)"
   ]
  },
  {
   "cell_type": "code",
   "execution_count": 13,
   "id": "58e9ab87",
   "metadata": {},
   "outputs": [
    {
     "name": "stdout",
     "output_type": "stream",
     "text": [
      "Duplicates:  False\n",
      "# not null values:  12952\n",
      "# null values:  0\n",
      "# values:  12952\n",
      "# missings:  0\n"
     ]
    }
   ],
   "source": [
    "print(\"Duplicates: \",anomalies.duplicated().any())\n",
    "#total number of not null values\n",
    "not_null_values = anomalies.count().sum()\n",
    "print(\"# not null values: \",not_null_values)\n",
    "#total number of null values\n",
    "null_values = anomalies.isnull().sum().sum()\n",
    "print(\"# null values: \",null_values)\n",
    "#total number of cells\n",
    "n_values = anomalies.shape[0]*anomalies.shape[1]\n",
    "print(\"# values: \",n_values)\n",
    "#we added to the set of missing values also 'na' and '--'\n",
    "missing_values = ['na','--', 'NaN', 'None', '']\n",
    "ds_property_nan = pd.read_csv(path_Anomalies, na_values = missing_values)\n",
    "print(\"# missings: \",ds_property_nan.isnull().sum().sum())"
   ]
  },
  {
   "cell_type": "code",
   "execution_count": 14,
   "id": "28c50a79",
   "metadata": {},
   "outputs": [
    {
     "name": "stdout",
     "output_type": "stream",
     "text": [
      "Completeness:  100.0%\n"
     ]
    }
   ],
   "source": [
    "#COMPLETENESS evaluation\n",
    "completeness = not_null_values / n_values\n",
    "completeness = '{0:.1f}%'.format(completeness*100)\n",
    "print(\"Completeness: \",completeness)"
   ]
  },
  {
   "cell_type": "code",
   "execution_count": 15,
   "id": "3c148ee0",
   "metadata": {},
   "outputs": [
    {
     "name": "stdout",
     "output_type": "stream",
     "text": [
      "Completeness for 'sha1': 100.00%\n",
      "Completeness for 'sha256': 100.00%\n",
      "Completeness for 'md5': 100.00%\n",
      "Completeness for 'anomaly_name': 100.00%\n"
     ]
    }
   ],
   "source": [
    "analyse_columns(anomalies)"
   ]
  },
  {
   "cell_type": "code",
   "execution_count": 16,
   "id": "82ff254d",
   "metadata": {},
   "outputs": [
    {
     "data": {
      "application/vnd.jupyter.widget-view+json": {
       "model_id": "612df0044e3b43bc892542efe90607ca",
       "version_major": 2,
       "version_minor": 0
      },
      "text/plain": [
       "Summarize dataset:   0%|          | 0/5 [00:00<?, ?it/s]"
      ]
     },
     "metadata": {},
     "output_type": "display_data"
    },
    {
     "data": {
      "application/vnd.jupyter.widget-view+json": {
       "model_id": "1397cac0f2d2422297bc4e52bb60af79",
       "version_major": 2,
       "version_minor": 0
      },
      "text/plain": [
       "Generate report structure:   0%|          | 0/1 [00:00<?, ?it/s]"
      ]
     },
     "metadata": {},
     "output_type": "display_data"
    },
    {
     "data": {
      "application/vnd.jupyter.widget-view+json": {
       "model_id": "e687bf7441cc4dd789badd2cfd9e6938",
       "version_major": 2,
       "version_minor": 0
      },
      "text/plain": [
       "Render HTML:   0%|          | 0/1 [00:00<?, ?it/s]"
      ]
     },
     "metadata": {},
     "output_type": "display_data"
    },
    {
     "data": {
      "application/vnd.jupyter.widget-view+json": {
       "model_id": "978e7cb1496e49ca8f5da4b2f64c3db8",
       "version_major": 2,
       "version_minor": 0
      },
      "text/plain": [
       "Export report to file:   0%|          | 0/1 [00:00<?, ?it/s]"
      ]
     },
     "metadata": {},
     "output_type": "display_data"
    },
    {
     "data": {
      "application/vnd.jupyter.widget-view+json": {
       "model_id": "0af9aceb18e74f2cbc9baec930e22e1a",
       "version_major": 2,
       "version_minor": 0
      },
      "text/plain": [
       "Render JSON:   0%|          | 0/1 [00:00<?, ?it/s]"
      ]
     },
     "metadata": {},
     "output_type": "display_data"
    },
    {
     "data": {
      "application/vnd.jupyter.widget-view+json": {
       "model_id": "37dbcbde14eb43859c434f7d0536e48d",
       "version_major": 2,
       "version_minor": 0
      },
      "text/plain": [
       "Export report to file:   0%|          | 0/1 [00:00<?, ?it/s]"
      ]
     },
     "metadata": {},
     "output_type": "display_data"
    }
   ],
   "source": [
    "profile = ProfileReport(anomalies, title=\"Anomalies - Pandas Profiling Report\", minimal=True)\n",
    "profile.to_file(\"C:\\\\Users\\\\leona\\\\OneDrive\\\\Desktop\\\\Tesi\\\\Pipeline\\\\Report\\\\Profiling step 18\\\\Integrated_Dataset\\\\Anomalies_Report.html\")\n",
    "\n",
    "# As a JSON string\n",
    "json_data = profile.to_json()\n",
    "\n",
    "# As a file\n",
    "profile.to_file(\"C:\\\\Users\\\\leona\\\\OneDrive\\\\Desktop\\\\Tesi\\\\Pipeline\\\\Report\\\\Profiling step 18\\\\Integrated_Dataset\\\\Anomalies_Report.json\")"
   ]
  },
  {
   "cell_type": "markdown",
   "id": "0cb95b2b",
   "metadata": {},
   "source": [
    "### Data Profiling - ATTACKS"
   ]
  },
  {
   "cell_type": "code",
   "execution_count": 17,
   "id": "4856c1f8",
   "metadata": {},
   "outputs": [],
   "source": [
    "path_Attacks = r\"C:\\\\Users\\\\leona\\\\OneDrive\\\\Desktop\\\\Tesi\\\\Pipeline\\\\Datasets\\\\Pipeline\\\\FileAnalysis\\\\PostDataIntegration\\\\Attacks.csv\""
   ]
  },
  {
   "cell_type": "code",
   "execution_count": 18,
   "id": "cba766a1",
   "metadata": {
    "scrolled": false
   },
   "outputs": [
    {
     "data": {
      "text/html": [
       "<div>\n",
       "<style scoped>\n",
       "    .dataframe tbody tr th:only-of-type {\n",
       "        vertical-align: middle;\n",
       "    }\n",
       "\n",
       "    .dataframe tbody tr th {\n",
       "        vertical-align: top;\n",
       "    }\n",
       "\n",
       "    .dataframe thead th {\n",
       "        text-align: right;\n",
       "    }\n",
       "</style>\n",
       "<table border=\"1\" class=\"dataframe\">\n",
       "  <thead>\n",
       "    <tr style=\"text-align: right;\">\n",
       "      <th></th>\n",
       "      <th>sha1</th>\n",
       "      <th>sha256</th>\n",
       "      <th>md5</th>\n",
       "      <th>attack_id</th>\n",
       "      <th>attack_name</th>\n",
       "      <th>attack_type</th>\n",
       "    </tr>\n",
       "  </thead>\n",
       "  <tbody>\n",
       "    <tr>\n",
       "      <th>0</th>\n",
       "      <td>713a00b13a87c52b43404cd32d0f4645844709d9</td>\n",
       "      <td>3b96a384f9989f28315eb374eae991e70ed07b88665cbf831f24bd574502feac</td>\n",
       "      <td>97ad0714b0245825407dd25d7d168d31</td>\n",
       "      <td>T1060</td>\n",
       "      <td>Registry Run Keys / Start Folder</td>\n",
       "      <td>Installation</td>\n",
       "    </tr>\n",
       "    <tr>\n",
       "      <th>1</th>\n",
       "      <td>713a00b13a87c52b43404cd32d0f4645844709d9</td>\n",
       "      <td>3b96a384f9989f28315eb374eae991e70ed07b88665cbf831f24bd574502feac</td>\n",
       "      <td>97ad0714b0245825407dd25d7d168d31</td>\n",
       "      <td>T1056</td>\n",
       "      <td>Input Capture</td>\n",
       "      <td>Objectives</td>\n",
       "    </tr>\n",
       "    <tr>\n",
       "      <th>2</th>\n",
       "      <td>e900de5aea86567fadc7507a6811596eb4b86a14</td>\n",
       "      <td>3363270a2950c8518e7883ea147b3f947b3a96aa31d37a990c73f975946335ce</td>\n",
       "      <td>e076afd88fe6a708d91a3f771754e860</td>\n",
       "      <td>T1060</td>\n",
       "      <td>Registry Run Keys / Start Folder</td>\n",
       "      <td>Installation</td>\n",
       "    </tr>\n",
       "  </tbody>\n",
       "</table>\n",
       "</div>"
      ],
      "text/plain": [
       "                                       sha1  \\\n",
       "0  713a00b13a87c52b43404cd32d0f4645844709d9   \n",
       "1  713a00b13a87c52b43404cd32d0f4645844709d9   \n",
       "2  e900de5aea86567fadc7507a6811596eb4b86a14   \n",
       "\n",
       "                                                             sha256  \\\n",
       "0  3b96a384f9989f28315eb374eae991e70ed07b88665cbf831f24bd574502feac   \n",
       "1  3b96a384f9989f28315eb374eae991e70ed07b88665cbf831f24bd574502feac   \n",
       "2  3363270a2950c8518e7883ea147b3f947b3a96aa31d37a990c73f975946335ce   \n",
       "\n",
       "                                md5 attack_id  \\\n",
       "0  97ad0714b0245825407dd25d7d168d31     T1060   \n",
       "1  97ad0714b0245825407dd25d7d168d31     T1056   \n",
       "2  e076afd88fe6a708d91a3f771754e860     T1060   \n",
       "\n",
       "                        attack_name   attack_type  \n",
       "0  Registry Run Keys / Start Folder  Installation  \n",
       "1                     Input Capture    Objectives  \n",
       "2  Registry Run Keys / Start Folder  Installation  "
      ]
     },
     "execution_count": 18,
     "metadata": {},
     "output_type": "execute_result"
    }
   ],
   "source": [
    "attacks = pd.read_csv(path_Attacks, low_memory = False)\n",
    "attacks.head(3)"
   ]
  },
  {
   "cell_type": "code",
   "execution_count": 19,
   "id": "998d7e15",
   "metadata": {},
   "outputs": [
    {
     "name": "stdout",
     "output_type": "stream",
     "text": [
      "Duplicates:  False\n",
      "# not null values:  32376\n",
      "# null values:  0\n",
      "# values:  32376\n",
      "# missings:  0\n"
     ]
    }
   ],
   "source": [
    "print(\"Duplicates: \",attacks.duplicated().any())\n",
    "#total number of not null values\n",
    "not_null_values = attacks.count().sum()\n",
    "print(\"# not null values: \",not_null_values)\n",
    "#total number of null values\n",
    "null_values = attacks.isnull().sum().sum()\n",
    "print(\"# null values: \",null_values)\n",
    "#total number of cells\n",
    "n_values = attacks.shape[0]*attacks.shape[1]\n",
    "print(\"# values: \",n_values)\n",
    "#we added to the set of missing values also 'na' and '--'\n",
    "missing_values = ['na','--', 'NaN', 'None', '']\n",
    "ds_property_nan = pd.read_csv(path_Attacks, na_values = missing_values)\n",
    "print(\"# missings: \",ds_property_nan.isnull().sum().sum())"
   ]
  },
  {
   "cell_type": "code",
   "execution_count": 20,
   "id": "19fa634b",
   "metadata": {},
   "outputs": [
    {
     "name": "stdout",
     "output_type": "stream",
     "text": [
      "Completeness:  100.0%\n"
     ]
    }
   ],
   "source": [
    "#COMPLETENESS evaluation\n",
    "completeness = not_null_values / n_values\n",
    "completeness = '{0:.1f}%'.format(completeness*100)\n",
    "print(\"Completeness: \",completeness)"
   ]
  },
  {
   "cell_type": "code",
   "execution_count": 21,
   "id": "2dbd9f1e",
   "metadata": {},
   "outputs": [
    {
     "name": "stdout",
     "output_type": "stream",
     "text": [
      "Completeness for 'sha1': 100.00%\n",
      "Completeness for 'sha256': 100.00%\n",
      "Completeness for 'md5': 100.00%\n",
      "Completeness for 'attack_id': 100.00%\n",
      "Completeness for 'attack_name': 100.00%\n",
      "Completeness for 'attack_type': 100.00%\n"
     ]
    }
   ],
   "source": [
    "analyse_columns(attacks)"
   ]
  },
  {
   "cell_type": "code",
   "execution_count": 22,
   "id": "8fd2aee9",
   "metadata": {},
   "outputs": [
    {
     "data": {
      "application/vnd.jupyter.widget-view+json": {
       "model_id": "5b2b63f8d0e044a1b263448de6d5877f",
       "version_major": 2,
       "version_minor": 0
      },
      "text/plain": [
       "Summarize dataset:   0%|          | 0/5 [00:00<?, ?it/s]"
      ]
     },
     "metadata": {},
     "output_type": "display_data"
    },
    {
     "data": {
      "application/vnd.jupyter.widget-view+json": {
       "model_id": "9bcfb7cadfb84c4dbfa0f4d250846347",
       "version_major": 2,
       "version_minor": 0
      },
      "text/plain": [
       "Generate report structure:   0%|          | 0/1 [00:00<?, ?it/s]"
      ]
     },
     "metadata": {},
     "output_type": "display_data"
    },
    {
     "data": {
      "application/vnd.jupyter.widget-view+json": {
       "model_id": "63a84e9ca9c14d2094762372635cef05",
       "version_major": 2,
       "version_minor": 0
      },
      "text/plain": [
       "Render HTML:   0%|          | 0/1 [00:00<?, ?it/s]"
      ]
     },
     "metadata": {},
     "output_type": "display_data"
    },
    {
     "data": {
      "application/vnd.jupyter.widget-view+json": {
       "model_id": "e7f717d323314c40b542955248d704f3",
       "version_major": 2,
       "version_minor": 0
      },
      "text/plain": [
       "Export report to file:   0%|          | 0/1 [00:00<?, ?it/s]"
      ]
     },
     "metadata": {},
     "output_type": "display_data"
    },
    {
     "data": {
      "application/vnd.jupyter.widget-view+json": {
       "model_id": "6c5ef41288684ee79bde3a2a723f03ba",
       "version_major": 2,
       "version_minor": 0
      },
      "text/plain": [
       "Render JSON:   0%|          | 0/1 [00:00<?, ?it/s]"
      ]
     },
     "metadata": {},
     "output_type": "display_data"
    },
    {
     "data": {
      "application/vnd.jupyter.widget-view+json": {
       "model_id": "0ef16f1532d34f379e3e059f8304209e",
       "version_major": 2,
       "version_minor": 0
      },
      "text/plain": [
       "Export report to file:   0%|          | 0/1 [00:00<?, ?it/s]"
      ]
     },
     "metadata": {},
     "output_type": "display_data"
    }
   ],
   "source": [
    "profile = ProfileReport(attacks, title=\"Attacks - Pandas Profiling Report\", minimal=True)\n",
    "profile.to_file(\"C:\\\\Users\\\\leona\\\\OneDrive\\\\Desktop\\\\Tesi\\\\Pipeline\\\\Report\\\\Profiling step 18\\\\Integrated_Dataset\\\\Attacks_Report.html\")\n",
    "\n",
    "# As a JSON string\n",
    "json_data = profile.to_json()\n",
    "\n",
    "# As a file\n",
    "profile.to_file(\"C:\\\\Users\\\\leona\\\\OneDrive\\\\Desktop\\\\Tesi\\\\Pipeline\\\\Report\\\\Profiling step 18\\\\Integrated_Dataset\\\\Attacks_Report.json\")"
   ]
  },
  {
   "cell_type": "markdown",
   "id": "66e793e2",
   "metadata": {},
   "source": [
    "### Data Profiling - BEHAVIOURS"
   ]
  },
  {
   "cell_type": "code",
   "execution_count": 23,
   "id": "032f220f",
   "metadata": {},
   "outputs": [],
   "source": [
    "path_Behaviours = r\"C:\\\\Users\\\\leona\\\\OneDrive\\\\Desktop\\\\Tesi\\\\Pipeline\\\\Datasets\\\\Pipeline\\\\FileAnalysis\\\\PostDataIntegration\\\\Behaviours.csv\""
   ]
  },
  {
   "cell_type": "code",
   "execution_count": 24,
   "id": "85d0f733",
   "metadata": {
    "scrolled": false
   },
   "outputs": [
    {
     "data": {
      "text/html": [
       "<div>\n",
       "<style scoped>\n",
       "    .dataframe tbody tr th:only-of-type {\n",
       "        vertical-align: middle;\n",
       "    }\n",
       "\n",
       "    .dataframe tbody tr th {\n",
       "        vertical-align: top;\n",
       "    }\n",
       "\n",
       "    .dataframe thead th {\n",
       "        text-align: right;\n",
       "    }\n",
       "</style>\n",
       "<table border=\"1\" class=\"dataframe\">\n",
       "  <thead>\n",
       "    <tr style=\"text-align: right;\">\n",
       "      <th></th>\n",
       "      <th>sha1</th>\n",
       "      <th>sha256</th>\n",
       "      <th>md5</th>\n",
       "      <th>action_name</th>\n",
       "      <th>action_description</th>\n",
       "      <th>maliciousness_level</th>\n",
       "    </tr>\n",
       "  </thead>\n",
       "  <tbody>\n",
       "    <tr>\n",
       "      <th>0</th>\n",
       "      <td>b701b181de8e595225668cb65d5b975e5b300a39</td>\n",
       "      <td>58edde581177c6f96caa4da4cd73396afee160b9152692a664b28aa67dd0d100</td>\n",
       "      <td>d6cda532ce834b973d5292e05e1d6c38</td>\n",
       "      <td>checks debugger</td>\n",
       "      <td>checks if process is being debugged by a debugger</td>\n",
       "      <td>neutral</td>\n",
       "    </tr>\n",
       "    <tr>\n",
       "      <th>1</th>\n",
       "      <td>b701b181de8e595225668cb65d5b975e5b300a39</td>\n",
       "      <td>58edde581177c6f96caa4da4cd73396afee160b9152692a664b28aa67dd0d100</td>\n",
       "      <td>d6cda532ce834b973d5292e05e1d6c38</td>\n",
       "      <td>generates crypto key</td>\n",
       "      <td>uses windows apis to generate a cryptographic key</td>\n",
       "      <td>neutral</td>\n",
       "    </tr>\n",
       "    <tr>\n",
       "      <th>2</th>\n",
       "      <td>b701b181de8e595225668cb65d5b975e5b300a39</td>\n",
       "      <td>58edde581177c6f96caa4da4cd73396afee160b9152692a664b28aa67dd0d100</td>\n",
       "      <td>d6cda532ce834b973d5292e05e1d6c38</td>\n",
       "      <td>antivm memory available</td>\n",
       "      <td>checks amount of memory in system, this can be used to detect virtual machines that have a low amount of memory available</td>\n",
       "      <td>neutral</td>\n",
       "    </tr>\n",
       "  </tbody>\n",
       "</table>\n",
       "</div>"
      ],
      "text/plain": [
       "                                       sha1  \\\n",
       "0  b701b181de8e595225668cb65d5b975e5b300a39   \n",
       "1  b701b181de8e595225668cb65d5b975e5b300a39   \n",
       "2  b701b181de8e595225668cb65d5b975e5b300a39   \n",
       "\n",
       "                                                             sha256  \\\n",
       "0  58edde581177c6f96caa4da4cd73396afee160b9152692a664b28aa67dd0d100   \n",
       "1  58edde581177c6f96caa4da4cd73396afee160b9152692a664b28aa67dd0d100   \n",
       "2  58edde581177c6f96caa4da4cd73396afee160b9152692a664b28aa67dd0d100   \n",
       "\n",
       "                                md5              action_name  \\\n",
       "0  d6cda532ce834b973d5292e05e1d6c38          checks debugger   \n",
       "1  d6cda532ce834b973d5292e05e1d6c38     generates crypto key   \n",
       "2  d6cda532ce834b973d5292e05e1d6c38  antivm memory available   \n",
       "\n",
       "                                                                                                          action_description  \\\n",
       "0                                                                          checks if process is being debugged by a debugger   \n",
       "1                                                                          uses windows apis to generate a cryptographic key   \n",
       "2  checks amount of memory in system, this can be used to detect virtual machines that have a low amount of memory available   \n",
       "\n",
       "  maliciousness_level  \n",
       "0             neutral  \n",
       "1             neutral  \n",
       "2             neutral  "
      ]
     },
     "execution_count": 24,
     "metadata": {},
     "output_type": "execute_result"
    }
   ],
   "source": [
    "behaviours = pd.read_csv(path_Behaviours, low_memory = False)\n",
    "behaviours.head(3)"
   ]
  },
  {
   "cell_type": "code",
   "execution_count": 25,
   "id": "7146b4f3",
   "metadata": {},
   "outputs": [
    {
     "name": "stdout",
     "output_type": "stream",
     "text": [
      "Duplicates:  True\n",
      "# not null values:  317562\n",
      "# null values:  9552\n",
      "# values:  327114\n",
      "# missings:  9552\n"
     ]
    }
   ],
   "source": [
    "print(\"Duplicates: \",behaviours.duplicated().any())\n",
    "#total number of not null values\n",
    "not_null_values = behaviours.count().sum()\n",
    "print(\"# not null values: \",not_null_values)\n",
    "#total number of null values\n",
    "null_values = behaviours.isnull().sum().sum()\n",
    "print(\"# null values: \",null_values)\n",
    "#total number of cells\n",
    "n_values = behaviours.shape[0]*behaviours.shape[1]\n",
    "print(\"# values: \",n_values)\n",
    "#we added to the set of missing values also 'na' and '--'\n",
    "missing_values = ['na','--', 'NaN', 'None', '']\n",
    "ds_property_nan = pd.read_csv(path_Behaviours, na_values = missing_values)\n",
    "print(\"# missings: \",ds_property_nan.isnull().sum().sum())"
   ]
  },
  {
   "cell_type": "code",
   "execution_count": 26,
   "id": "3e06d5b5",
   "metadata": {},
   "outputs": [
    {
     "name": "stdout",
     "output_type": "stream",
     "text": [
      "Completeness:  97.1%\n"
     ]
    }
   ],
   "source": [
    "#COMPLETENESS evaluation\n",
    "completeness = not_null_values / n_values\n",
    "completeness = '{0:.1f}%'.format(completeness*100)\n",
    "print(\"Completeness: \",completeness)"
   ]
  },
  {
   "cell_type": "code",
   "execution_count": 27,
   "id": "242bdaf5",
   "metadata": {
    "scrolled": true
   },
   "outputs": [
    {
     "name": "stdout",
     "output_type": "stream",
     "text": [
      "Completeness for 'sha1': 100.00%\n",
      "Completeness for 'sha256': 100.00%\n",
      "Completeness for 'md5': 100.00%\n",
      "Completeness for 'action_name': 100.00%\n",
      "Completeness for 'action_description': 82.48%\n",
      "Completeness for 'maliciousness_level': 100.00%\n"
     ]
    }
   ],
   "source": [
    "analyse_columns(behaviours)"
   ]
  },
  {
   "cell_type": "code",
   "execution_count": 28,
   "id": "eaec35d5",
   "metadata": {},
   "outputs": [
    {
     "data": {
      "application/vnd.jupyter.widget-view+json": {
       "model_id": "3dabf1028d4142269792217260cbe00b",
       "version_major": 2,
       "version_minor": 0
      },
      "text/plain": [
       "Summarize dataset:   0%|          | 0/5 [00:00<?, ?it/s]"
      ]
     },
     "metadata": {},
     "output_type": "display_data"
    },
    {
     "data": {
      "application/vnd.jupyter.widget-view+json": {
       "model_id": "68077d16f47448519257863876338494",
       "version_major": 2,
       "version_minor": 0
      },
      "text/plain": [
       "Generate report structure:   0%|          | 0/1 [00:00<?, ?it/s]"
      ]
     },
     "metadata": {},
     "output_type": "display_data"
    },
    {
     "data": {
      "application/vnd.jupyter.widget-view+json": {
       "model_id": "937e0784081a4f0685c8971ddc8430cd",
       "version_major": 2,
       "version_minor": 0
      },
      "text/plain": [
       "Render HTML:   0%|          | 0/1 [00:00<?, ?it/s]"
      ]
     },
     "metadata": {},
     "output_type": "display_data"
    },
    {
     "data": {
      "application/vnd.jupyter.widget-view+json": {
       "model_id": "7317517da4c340a18266b6d25f007ac1",
       "version_major": 2,
       "version_minor": 0
      },
      "text/plain": [
       "Export report to file:   0%|          | 0/1 [00:00<?, ?it/s]"
      ]
     },
     "metadata": {},
     "output_type": "display_data"
    },
    {
     "data": {
      "application/vnd.jupyter.widget-view+json": {
       "model_id": "def84b53fe294f80af678fa7e62ed1b5",
       "version_major": 2,
       "version_minor": 0
      },
      "text/plain": [
       "Render JSON:   0%|          | 0/1 [00:00<?, ?it/s]"
      ]
     },
     "metadata": {},
     "output_type": "display_data"
    },
    {
     "data": {
      "application/vnd.jupyter.widget-view+json": {
       "model_id": "608041f834894a439ccc19f716a32b67",
       "version_major": 2,
       "version_minor": 0
      },
      "text/plain": [
       "Export report to file:   0%|          | 0/1 [00:00<?, ?it/s]"
      ]
     },
     "metadata": {},
     "output_type": "display_data"
    }
   ],
   "source": [
    "profile = ProfileReport(behaviours, title=\"Behaviours - Pandas Profiling Report\", minimal=True)\n",
    "profile.to_file(\"C:\\\\Users\\\\leona\\\\OneDrive\\\\Desktop\\\\Tesi\\\\Pipeline\\\\Report\\\\Profiling step 18\\\\Integrated_Dataset\\\\Behaviours_Report.html\")\n",
    "\n",
    "# As a JSON string\n",
    "json_data = profile.to_json()\n",
    "\n",
    "# As a file\n",
    "profile.to_file(\"C:\\\\Users\\\\leona\\\\OneDrive\\\\Desktop\\\\Tesi\\\\Pipeline\\\\Report\\\\Profiling step 18\\\\Integrated_Dataset\\\\Behaviours_Report.json\")"
   ]
  },
  {
   "cell_type": "markdown",
   "id": "dcc38fc9",
   "metadata": {},
   "source": [
    "### Data Profiling - THREAT_VENDOR_ANALYSIS"
   ]
  },
  {
   "cell_type": "code",
   "execution_count": 29,
   "id": "771aaed7",
   "metadata": {},
   "outputs": [],
   "source": [
    "path_TV_Analysis = r\"C:\\\\Users\\\\leona\\\\OneDrive\\\\Desktop\\\\Tesi\\\\Pipeline\\\\Datasets\\\\Pipeline\\\\FileAnalysis\\\\PostDataIntegration\\\\TV_Analysis.csv\""
   ]
  },
  {
   "cell_type": "code",
   "execution_count": 30,
   "id": "18a20c36",
   "metadata": {
    "scrolled": false
   },
   "outputs": [
    {
     "data": {
      "text/html": [
       "<div>\n",
       "<style scoped>\n",
       "    .dataframe tbody tr th:only-of-type {\n",
       "        vertical-align: middle;\n",
       "    }\n",
       "\n",
       "    .dataframe tbody tr th {\n",
       "        vertical-align: top;\n",
       "    }\n",
       "\n",
       "    .dataframe thead th {\n",
       "        text-align: right;\n",
       "    }\n",
       "</style>\n",
       "<table border=\"1\" class=\"dataframe\">\n",
       "  <thead>\n",
       "    <tr style=\"text-align: right;\">\n",
       "      <th></th>\n",
       "      <th>sha1</th>\n",
       "      <th>sha256</th>\n",
       "      <th>md5</th>\n",
       "      <th>malware</th>\n",
       "      <th>verdict</th>\n",
       "      <th>threat_vendor_name</th>\n",
       "    </tr>\n",
       "  </thead>\n",
       "  <tbody>\n",
       "    <tr>\n",
       "      <th>0</th>\n",
       "      <td>411535c9548f86034a6a9a603de521a86a3b5466</td>\n",
       "      <td>04c53261b1220a894a02f5ffb39cdfd73f93481c0b5c8106d21c91b20205c62d</td>\n",
       "      <td>5b5a0225a2b7b9a054417662c733168a</td>\n",
       "      <td>pua.win.packer.borlanddelphi-15</td>\n",
       "      <td>NaN</td>\n",
       "      <td>clamav</td>\n",
       "    </tr>\n",
       "    <tr>\n",
       "      <th>1</th>\n",
       "      <td>1ad9e9761fd6935c0cf5048c9615d0383baac48e</td>\n",
       "      <td>ac901bf5882f14e9e07235b8488b6479b4519addda6dbfb89147401c1e9e6e4f</td>\n",
       "      <td>da9534900ee0d11c9b30cf33152ea03c</td>\n",
       "      <td>securiteinfo.com.trojan.generickd.68242337.20401.3632.unofficial</td>\n",
       "      <td>NaN</td>\n",
       "      <td>clamav</td>\n",
       "    </tr>\n",
       "    <tr>\n",
       "      <th>2</th>\n",
       "      <td>8ab63abfe58fb218cc001581ac0d9fe38c784157</td>\n",
       "      <td>7f514ed5e1ec262953e6252a4089531c519e95d700c5808415b0f049fc59a5f0</td>\n",
       "      <td>855232a26e8afcd0cca5f816a1919dee</td>\n",
       "      <td>win.trojan.remcos-9753190-0</td>\n",
       "      <td>NaN</td>\n",
       "      <td>clamav</td>\n",
       "    </tr>\n",
       "  </tbody>\n",
       "</table>\n",
       "</div>"
      ],
      "text/plain": [
       "                                       sha1  \\\n",
       "0  411535c9548f86034a6a9a603de521a86a3b5466   \n",
       "1  1ad9e9761fd6935c0cf5048c9615d0383baac48e   \n",
       "2  8ab63abfe58fb218cc001581ac0d9fe38c784157   \n",
       "\n",
       "                                                             sha256  \\\n",
       "0  04c53261b1220a894a02f5ffb39cdfd73f93481c0b5c8106d21c91b20205c62d   \n",
       "1  ac901bf5882f14e9e07235b8488b6479b4519addda6dbfb89147401c1e9e6e4f   \n",
       "2  7f514ed5e1ec262953e6252a4089531c519e95d700c5808415b0f049fc59a5f0   \n",
       "\n",
       "                                md5  \\\n",
       "0  5b5a0225a2b7b9a054417662c733168a   \n",
       "1  da9534900ee0d11c9b30cf33152ea03c   \n",
       "2  855232a26e8afcd0cca5f816a1919dee   \n",
       "\n",
       "                                                            malware verdict  \\\n",
       "0                                   pua.win.packer.borlanddelphi-15     NaN   \n",
       "1  securiteinfo.com.trojan.generickd.68242337.20401.3632.unofficial     NaN   \n",
       "2                                       win.trojan.remcos-9753190-0     NaN   \n",
       "\n",
       "  threat_vendor_name  \n",
       "0             clamav  \n",
       "1             clamav  \n",
       "2             clamav  "
      ]
     },
     "execution_count": 30,
     "metadata": {},
     "output_type": "execute_result"
    }
   ],
   "source": [
    "tv_analysis = pd.read_csv(path_TV_Analysis, low_memory = False)\n",
    "tv_analysis.head(3)"
   ]
  },
  {
   "cell_type": "code",
   "execution_count": 31,
   "id": "5711a6a2",
   "metadata": {},
   "outputs": [
    {
     "name": "stdout",
     "output_type": "stream",
     "text": [
      "Duplicates:  True\n",
      "# not null values:  52641\n",
      "# null values:  5637\n",
      "# values:  58278\n",
      "# missings:  5637\n",
      "Completeness:  90.3%\n"
     ]
    }
   ],
   "source": [
    "print(\"Duplicates: \",tv_analysis.duplicated().any())\n",
    "#total number of not null values\n",
    "not_null_values = tv_analysis.count().sum()\n",
    "print(\"# not null values: \",not_null_values)\n",
    "#total number of null values\n",
    "null_values = tv_analysis.isnull().sum().sum()\n",
    "print(\"# null values: \",null_values)\n",
    "#total number of cells\n",
    "n_values = tv_analysis.shape[0]*tv_analysis.shape[1]\n",
    "print(\"# values: \",n_values)\n",
    "#we added to the set of missing values also 'na' and '--'\n",
    "missing_values = ['na','--', 'NaN', 'None', '']\n",
    "ds_property_nan = pd.read_csv(path_TV_Analysis, na_values = missing_values)\n",
    "print(\"# missings: \",ds_property_nan.isnull().sum().sum())\n",
    "\n",
    "#COMPLETENESS evaluation\n",
    "completeness = not_null_values / n_values\n",
    "completeness = '{0:.1f}%'.format(completeness*100)\n",
    "print(\"Completeness: \",completeness)"
   ]
  },
  {
   "cell_type": "code",
   "execution_count": 32,
   "id": "826855a1",
   "metadata": {},
   "outputs": [
    {
     "name": "stdout",
     "output_type": "stream",
     "text": [
      "Completeness:  90.3%\n"
     ]
    }
   ],
   "source": [
    "#COMPLETENESS evaluation\n",
    "completeness = not_null_values / n_values\n",
    "completeness = '{0:.1f}%'.format(completeness*100)\n",
    "print(\"Completeness: \",completeness)"
   ]
  },
  {
   "cell_type": "code",
   "execution_count": 33,
   "id": "26c7c46a",
   "metadata": {},
   "outputs": [
    {
     "name": "stdout",
     "output_type": "stream",
     "text": [
      "Completeness for 'sha1': 100.00%\n",
      "Completeness for 'sha256': 100.00%\n",
      "Completeness for 'md5': 100.00%\n",
      "Completeness for 'malware': 64.62%\n",
      "Completeness for 'verdict': 77.34%\n",
      "Completeness for 'threat_vendor_name': 100.00%\n"
     ]
    }
   ],
   "source": [
    "analyse_columns(tv_analysis)"
   ]
  },
  {
   "cell_type": "code",
   "execution_count": 34,
   "id": "2b8e8529",
   "metadata": {},
   "outputs": [
    {
     "data": {
      "application/vnd.jupyter.widget-view+json": {
       "model_id": "919dc20521fe464a854190376fc50160",
       "version_major": 2,
       "version_minor": 0
      },
      "text/plain": [
       "Summarize dataset:   0%|          | 0/5 [00:00<?, ?it/s]"
      ]
     },
     "metadata": {},
     "output_type": "display_data"
    },
    {
     "data": {
      "application/vnd.jupyter.widget-view+json": {
       "model_id": "fd49dd6495ce4ecb9366eca40ae1b67e",
       "version_major": 2,
       "version_minor": 0
      },
      "text/plain": [
       "Generate report structure:   0%|          | 0/1 [00:00<?, ?it/s]"
      ]
     },
     "metadata": {},
     "output_type": "display_data"
    },
    {
     "data": {
      "application/vnd.jupyter.widget-view+json": {
       "model_id": "180244fc8a7543edbedaeadd0e079f6c",
       "version_major": 2,
       "version_minor": 0
      },
      "text/plain": [
       "Render HTML:   0%|          | 0/1 [00:00<?, ?it/s]"
      ]
     },
     "metadata": {},
     "output_type": "display_data"
    },
    {
     "data": {
      "application/vnd.jupyter.widget-view+json": {
       "model_id": "b7e1c3f0aa5b48eaad009ebcc868f007",
       "version_major": 2,
       "version_minor": 0
      },
      "text/plain": [
       "Export report to file:   0%|          | 0/1 [00:00<?, ?it/s]"
      ]
     },
     "metadata": {},
     "output_type": "display_data"
    },
    {
     "data": {
      "application/vnd.jupyter.widget-view+json": {
       "model_id": "92f14d9ae6e8470c8d73097b32e73abd",
       "version_major": 2,
       "version_minor": 0
      },
      "text/plain": [
       "Render JSON:   0%|          | 0/1 [00:00<?, ?it/s]"
      ]
     },
     "metadata": {},
     "output_type": "display_data"
    },
    {
     "data": {
      "application/vnd.jupyter.widget-view+json": {
       "model_id": "54107be7df8c43799baace5098d09c35",
       "version_major": 2,
       "version_minor": 0
      },
      "text/plain": [
       "Export report to file:   0%|          | 0/1 [00:00<?, ?it/s]"
      ]
     },
     "metadata": {},
     "output_type": "display_data"
    }
   ],
   "source": [
    "profile = ProfileReport(tv_analysis, title=\"Threat Vendor Analysis - Pandas Profiling Report\", minimal=True)\n",
    "profile.to_file(\"C:\\\\Users\\\\leona\\\\OneDrive\\\\Desktop\\\\Tesi\\\\Pipeline\\\\Report\\\\Profiling step 18\\\\Integrated_Dataset\\\\TV_Analysis_Report.html\")\n",
    "\n",
    "# As a JSON string\n",
    "json_data = profile.to_json()\n",
    "\n",
    "# As a file\n",
    "profile.to_file(\"C:\\\\Users\\\\leona\\\\OneDrive\\\\Desktop\\\\Tesi\\\\Pipeline\\\\Report\\\\Profiling step 18\\\\Integrated_Dataset\\\\TV_Analysis_Report.json\")"
   ]
  },
  {
   "cell_type": "markdown",
   "id": "0d213a0e",
   "metadata": {},
   "source": [
    "### Data Profiling - TAGS"
   ]
  },
  {
   "cell_type": "code",
   "execution_count": 35,
   "id": "ae4f1d58",
   "metadata": {},
   "outputs": [],
   "source": [
    "path_Tags = r\"C:\\\\Users\\\\leona\\\\OneDrive\\\\Desktop\\\\Tesi\\\\Pipeline\\\\Datasets\\\\Pipeline\\\\FileAnalysis\\\\PostDataIntegration\\\\Tags.csv\""
   ]
  },
  {
   "cell_type": "code",
   "execution_count": 36,
   "id": "6706de60",
   "metadata": {
    "scrolled": false
   },
   "outputs": [
    {
     "data": {
      "text/html": [
       "<div>\n",
       "<style scoped>\n",
       "    .dataframe tbody tr th:only-of-type {\n",
       "        vertical-align: middle;\n",
       "    }\n",
       "\n",
       "    .dataframe tbody tr th {\n",
       "        vertical-align: top;\n",
       "    }\n",
       "\n",
       "    .dataframe thead th {\n",
       "        text-align: right;\n",
       "    }\n",
       "</style>\n",
       "<table border=\"1\" class=\"dataframe\">\n",
       "  <thead>\n",
       "    <tr style=\"text-align: right;\">\n",
       "      <th></th>\n",
       "      <th>sha1</th>\n",
       "      <th>sha256</th>\n",
       "      <th>md5</th>\n",
       "      <th>tag_name</th>\n",
       "    </tr>\n",
       "  </thead>\n",
       "  <tbody>\n",
       "    <tr>\n",
       "      <th>0</th>\n",
       "      <td>411535c9548f86034a6a9a603de521a86a3b5466</td>\n",
       "      <td>04c53261b1220a894a02f5ffb39cdfd73f93481c0b5c8106d21c91b20205c62d</td>\n",
       "      <td>5b5a0225a2b7b9a054417662c733168a</td>\n",
       "      <td>exe</td>\n",
       "    </tr>\n",
       "    <tr>\n",
       "      <th>1</th>\n",
       "      <td>411535c9548f86034a6a9a603de521a86a3b5466</td>\n",
       "      <td>04c53261b1220a894a02f5ffb39cdfd73f93481c0b5c8106d21c91b20205c62d</td>\n",
       "      <td>5b5a0225a2b7b9a054417662c733168a</td>\n",
       "      <td>remcosrat</td>\n",
       "    </tr>\n",
       "    <tr>\n",
       "      <th>2</th>\n",
       "      <td>1ad9e9761fd6935c0cf5048c9615d0383baac48e</td>\n",
       "      <td>ac901bf5882f14e9e07235b8488b6479b4519addda6dbfb89147401c1e9e6e4f</td>\n",
       "      <td>da9534900ee0d11c9b30cf33152ea03c</td>\n",
       "      <td>32</td>\n",
       "    </tr>\n",
       "  </tbody>\n",
       "</table>\n",
       "</div>"
      ],
      "text/plain": [
       "                                       sha1  \\\n",
       "0  411535c9548f86034a6a9a603de521a86a3b5466   \n",
       "1  411535c9548f86034a6a9a603de521a86a3b5466   \n",
       "2  1ad9e9761fd6935c0cf5048c9615d0383baac48e   \n",
       "\n",
       "                                                             sha256  \\\n",
       "0  04c53261b1220a894a02f5ffb39cdfd73f93481c0b5c8106d21c91b20205c62d   \n",
       "1  04c53261b1220a894a02f5ffb39cdfd73f93481c0b5c8106d21c91b20205c62d   \n",
       "2  ac901bf5882f14e9e07235b8488b6479b4519addda6dbfb89147401c1e9e6e4f   \n",
       "\n",
       "                                md5   tag_name  \n",
       "0  5b5a0225a2b7b9a054417662c733168a        exe  \n",
       "1  5b5a0225a2b7b9a054417662c733168a  remcosrat  \n",
       "2  da9534900ee0d11c9b30cf33152ea03c         32  "
      ]
     },
     "execution_count": 36,
     "metadata": {},
     "output_type": "execute_result"
    }
   ],
   "source": [
    "tags = pd.read_csv(path_Tags, low_memory = False)\n",
    "tags.head(3)"
   ]
  },
  {
   "cell_type": "code",
   "execution_count": 37,
   "id": "d522f1f5",
   "metadata": {},
   "outputs": [
    {
     "name": "stdout",
     "output_type": "stream",
     "text": [
      "Duplicates:  True\n",
      "# not null values:  6500\n",
      "# null values:  0\n",
      "# values:  6500\n",
      "# missings:  0\n"
     ]
    }
   ],
   "source": [
    "print(\"Duplicates: \",tags.duplicated().any())\n",
    "#total number of not null values\n",
    "not_null_values = tags.count().sum()\n",
    "print(\"# not null values: \",not_null_values)\n",
    "#total number of null values\n",
    "null_values = tags.isnull().sum().sum()\n",
    "print(\"# null values: \",null_values)\n",
    "#total number of cells\n",
    "n_values = tags.shape[0]*tags.shape[1]\n",
    "print(\"# values: \",n_values)\n",
    "#we added to the set of missing values also 'na' and '--'\n",
    "missing_values = ['na','--', 'NaN', 'None', '']\n",
    "ds_property_nan = pd.read_csv(path_Tags, na_values = missing_values)\n",
    "print(\"# missings: \",ds_property_nan.isnull().sum().sum())"
   ]
  },
  {
   "cell_type": "code",
   "execution_count": 38,
   "id": "635754ba",
   "metadata": {},
   "outputs": [
    {
     "name": "stdout",
     "output_type": "stream",
     "text": [
      "Completeness:  100.0%\n"
     ]
    }
   ],
   "source": [
    "#COMPLETENESS evaluation\n",
    "completeness = not_null_values / n_values\n",
    "completeness = '{0:.1f}%'.format(completeness*100)\n",
    "print(\"Completeness: \",completeness)"
   ]
  },
  {
   "cell_type": "code",
   "execution_count": 39,
   "id": "9683672d",
   "metadata": {},
   "outputs": [
    {
     "name": "stdout",
     "output_type": "stream",
     "text": [
      "Completeness for 'sha1': 100.00%\n",
      "Completeness for 'sha256': 100.00%\n",
      "Completeness for 'md5': 100.00%\n",
      "Completeness for 'tag_name': 100.00%\n"
     ]
    }
   ],
   "source": [
    "analyse_columns(tags)"
   ]
  },
  {
   "cell_type": "code",
   "execution_count": 40,
   "id": "ca99eb2f",
   "metadata": {},
   "outputs": [
    {
     "data": {
      "application/vnd.jupyter.widget-view+json": {
       "model_id": "2de06f81ab084d5fa2155b5e2a09c35b",
       "version_major": 2,
       "version_minor": 0
      },
      "text/plain": [
       "Summarize dataset:   0%|          | 0/5 [00:00<?, ?it/s]"
      ]
     },
     "metadata": {},
     "output_type": "display_data"
    },
    {
     "data": {
      "application/vnd.jupyter.widget-view+json": {
       "model_id": "20fe55e848eb42d082425dad959c8259",
       "version_major": 2,
       "version_minor": 0
      },
      "text/plain": [
       "Generate report structure:   0%|          | 0/1 [00:00<?, ?it/s]"
      ]
     },
     "metadata": {},
     "output_type": "display_data"
    },
    {
     "data": {
      "application/vnd.jupyter.widget-view+json": {
       "model_id": "2a3603fc4edb423b914a78d3a527a41e",
       "version_major": 2,
       "version_minor": 0
      },
      "text/plain": [
       "Render HTML:   0%|          | 0/1 [00:00<?, ?it/s]"
      ]
     },
     "metadata": {},
     "output_type": "display_data"
    },
    {
     "data": {
      "application/vnd.jupyter.widget-view+json": {
       "model_id": "bc80889e2ca04d6192971b7de550d0b6",
       "version_major": 2,
       "version_minor": 0
      },
      "text/plain": [
       "Export report to file:   0%|          | 0/1 [00:00<?, ?it/s]"
      ]
     },
     "metadata": {},
     "output_type": "display_data"
    },
    {
     "data": {
      "application/vnd.jupyter.widget-view+json": {
       "model_id": "6aba943a97494917953f1c3b89f5a0a7",
       "version_major": 2,
       "version_minor": 0
      },
      "text/plain": [
       "Render JSON:   0%|          | 0/1 [00:00<?, ?it/s]"
      ]
     },
     "metadata": {},
     "output_type": "display_data"
    },
    {
     "data": {
      "application/vnd.jupyter.widget-view+json": {
       "model_id": "5746a72371904ef0939398d52be8e1bd",
       "version_major": 2,
       "version_minor": 0
      },
      "text/plain": [
       "Export report to file:   0%|          | 0/1 [00:00<?, ?it/s]"
      ]
     },
     "metadata": {},
     "output_type": "display_data"
    }
   ],
   "source": [
    "profile = ProfileReport(tags, title=\"Tags - Pandas Profiling Report\", minimal=True)\n",
    "profile.to_file(\"C:\\\\Users\\\\leona\\\\OneDrive\\\\Desktop\\\\Tesi\\\\Pipeline\\\\Report\\\\Profiling step 18\\\\Integrated_Dataset\\\\Tags_Report.html\")\n",
    "\n",
    "# As a JSON string\n",
    "json_data = profile.to_json()\n",
    "\n",
    "# As a file\n",
    "profile.to_file(\"C:\\\\Users\\\\leona\\\\OneDrive\\\\Desktop\\\\Tesi\\\\Pipeline\\\\Report\\\\Profiling step 18\\\\Integrated_Dataset\\\\Tags_Report.json\")"
   ]
  },
  {
   "cell_type": "markdown",
   "id": "b4211092",
   "metadata": {},
   "source": [
    "### Data Profiling - Yara Rules"
   ]
  },
  {
   "cell_type": "code",
   "execution_count": 41,
   "id": "a3fe9811",
   "metadata": {},
   "outputs": [],
   "source": [
    "path_yaraRules = r\"C:\\\\Users\\\\leona\\\\OneDrive\\\\Desktop\\\\Tesi\\\\Pipeline\\\\Datasets\\\\Pipeline\\\\FileAnalysis\\\\PostDataIntegration\\\\Yara_Rules.csv\""
   ]
  },
  {
   "cell_type": "code",
   "execution_count": 42,
   "id": "490cff92",
   "metadata": {
    "scrolled": false
   },
   "outputs": [
    {
     "data": {
      "text/html": [
       "<div>\n",
       "<style scoped>\n",
       "    .dataframe tbody tr th:only-of-type {\n",
       "        vertical-align: middle;\n",
       "    }\n",
       "\n",
       "    .dataframe tbody tr th {\n",
       "        vertical-align: top;\n",
       "    }\n",
       "\n",
       "    .dataframe thead th {\n",
       "        text-align: right;\n",
       "    }\n",
       "</style>\n",
       "<table border=\"1\" class=\"dataframe\">\n",
       "  <thead>\n",
       "    <tr style=\"text-align: right;\">\n",
       "      <th></th>\n",
       "      <th>sha1</th>\n",
       "      <th>sha256</th>\n",
       "      <th>md5</th>\n",
       "      <th>yara_rule_name</th>\n",
       "      <th>yara_rule_description</th>\n",
       "      <th>yara_rule_author</th>\n",
       "    </tr>\n",
       "  </thead>\n",
       "  <tbody>\n",
       "    <tr>\n",
       "      <th>0</th>\n",
       "      <td>1ad9e9761fd6935c0cf5048c9615d0383baac48e</td>\n",
       "      <td>ac901bf5882f14e9e07235b8488b6479b4519addda6dbfb89147401c1e9e6e4f</td>\n",
       "      <td>da9534900ee0d11c9b30cf33152ea03c</td>\n",
       "      <td>iexplorer remcos</td>\n",
       "      <td>detect iexplorer being taken over by remcos</td>\n",
       "      <td>iam-py-test</td>\n",
       "    </tr>\n",
       "    <tr>\n",
       "      <th>1</th>\n",
       "      <td>1ad9e9761fd6935c0cf5048c9615d0383baac48e</td>\n",
       "      <td>ac901bf5882f14e9e07235b8488b6479b4519addda6dbfb89147401c1e9e6e4f</td>\n",
       "      <td>da9534900ee0d11c9b30cf33152ea03c</td>\n",
       "      <td>indicator suspicious exe uacbypass cmstpcom</td>\n",
       "      <td>detects windows exceutables bypassing uac using cmstp com interfaces. mitre (t1218.003)</td>\n",
       "      <td>ditekSHen</td>\n",
       "    </tr>\n",
       "    <tr>\n",
       "      <th>2</th>\n",
       "      <td>1ad9e9761fd6935c0cf5048c9615d0383baac48e</td>\n",
       "      <td>ac901bf5882f14e9e07235b8488b6479b4519addda6dbfb89147401c1e9e6e4f</td>\n",
       "      <td>da9534900ee0d11c9b30cf33152ea03c</td>\n",
       "      <td>pe imphash</td>\n",
       "      <td>NaN</td>\n",
       "      <td>NaN</td>\n",
       "    </tr>\n",
       "  </tbody>\n",
       "</table>\n",
       "</div>"
      ],
      "text/plain": [
       "                                       sha1  \\\n",
       "0  1ad9e9761fd6935c0cf5048c9615d0383baac48e   \n",
       "1  1ad9e9761fd6935c0cf5048c9615d0383baac48e   \n",
       "2  1ad9e9761fd6935c0cf5048c9615d0383baac48e   \n",
       "\n",
       "                                                             sha256  \\\n",
       "0  ac901bf5882f14e9e07235b8488b6479b4519addda6dbfb89147401c1e9e6e4f   \n",
       "1  ac901bf5882f14e9e07235b8488b6479b4519addda6dbfb89147401c1e9e6e4f   \n",
       "2  ac901bf5882f14e9e07235b8488b6479b4519addda6dbfb89147401c1e9e6e4f   \n",
       "\n",
       "                                md5  \\\n",
       "0  da9534900ee0d11c9b30cf33152ea03c   \n",
       "1  da9534900ee0d11c9b30cf33152ea03c   \n",
       "2  da9534900ee0d11c9b30cf33152ea03c   \n",
       "\n",
       "                                yara_rule_name  \\\n",
       "0                             iexplorer remcos   \n",
       "1  indicator suspicious exe uacbypass cmstpcom   \n",
       "2                                   pe imphash   \n",
       "\n",
       "                                                                     yara_rule_description  \\\n",
       "0                                              detect iexplorer being taken over by remcos   \n",
       "1  detects windows exceutables bypassing uac using cmstp com interfaces. mitre (t1218.003)   \n",
       "2                                                                                      NaN   \n",
       "\n",
       "  yara_rule_author  \n",
       "0      iam-py-test  \n",
       "1        ditekSHen  \n",
       "2              NaN  "
      ]
     },
     "execution_count": 42,
     "metadata": {},
     "output_type": "execute_result"
    }
   ],
   "source": [
    "yaraRules = pd.read_csv(path_yaraRules, low_memory = False)\n",
    "yaraRules.head(3)"
   ]
  },
  {
   "cell_type": "code",
   "execution_count": 43,
   "id": "07d9b0a5",
   "metadata": {},
   "outputs": [
    {
     "name": "stdout",
     "output_type": "stream",
     "text": [
      "Duplicates:  True\n",
      "# not null values:  19067\n",
      "# null values:  1561\n",
      "# values:  20628\n",
      "# missings:  1561\n"
     ]
    }
   ],
   "source": [
    "print(\"Duplicates: \",yaraRules.duplicated().any())\n",
    "#total number of not null values\n",
    "not_null_values = yaraRules.count().sum()\n",
    "print(\"# not null values: \",not_null_values)\n",
    "#total number of null values\n",
    "null_values = yaraRules.isnull().sum().sum()\n",
    "print(\"# null values: \",null_values)\n",
    "#total number of cells\n",
    "n_values = yaraRules.shape[0]*yaraRules.shape[1]\n",
    "print(\"# values: \",n_values)\n",
    "#we added to the set of missing values also 'na' and '--'\n",
    "missing_values = ['na','--', 'NaN', 'None', '']\n",
    "ds_property_nan = pd.read_csv(path_yaraRules, na_values = missing_values)\n",
    "print(\"# missings: \",ds_property_nan.isnull().sum().sum())"
   ]
  },
  {
   "cell_type": "code",
   "execution_count": 44,
   "id": "abcbd457",
   "metadata": {},
   "outputs": [
    {
     "name": "stdout",
     "output_type": "stream",
     "text": [
      "Completeness:  92.4%\n"
     ]
    }
   ],
   "source": [
    "#COMPLETENESS evaluation\n",
    "completeness = not_null_values / n_values\n",
    "completeness = '{0:.1f}%'.format(completeness*100)\n",
    "print(\"Completeness: \",completeness)"
   ]
  },
  {
   "cell_type": "code",
   "execution_count": 45,
   "id": "e5847f90",
   "metadata": {},
   "outputs": [
    {
     "name": "stdout",
     "output_type": "stream",
     "text": [
      "Completeness for 'sha1': 100.00%\n",
      "Completeness for 'sha256': 100.00%\n",
      "Completeness for 'md5': 100.00%\n",
      "Completeness for 'yara_rule_name': 100.00%\n",
      "Completeness for 'yara_rule_description': 70.39%\n",
      "Completeness for 'yara_rule_author': 84.21%\n"
     ]
    }
   ],
   "source": [
    "analyse_columns(yaraRules)"
   ]
  },
  {
   "cell_type": "code",
   "execution_count": 46,
   "id": "1336cff1",
   "metadata": {},
   "outputs": [
    {
     "data": {
      "application/vnd.jupyter.widget-view+json": {
       "model_id": "ef3e94c631904ecebbfb2975b71e9a87",
       "version_major": 2,
       "version_minor": 0
      },
      "text/plain": [
       "Summarize dataset:   0%|          | 0/5 [00:00<?, ?it/s]"
      ]
     },
     "metadata": {},
     "output_type": "display_data"
    },
    {
     "data": {
      "application/vnd.jupyter.widget-view+json": {
       "model_id": "00916e835a7c4906a6732e97fd6b118d",
       "version_major": 2,
       "version_minor": 0
      },
      "text/plain": [
       "Generate report structure:   0%|          | 0/1 [00:00<?, ?it/s]"
      ]
     },
     "metadata": {},
     "output_type": "display_data"
    },
    {
     "data": {
      "application/vnd.jupyter.widget-view+json": {
       "model_id": "f4388bd9b1b145f08e7fd13b623bfbbc",
       "version_major": 2,
       "version_minor": 0
      },
      "text/plain": [
       "Render HTML:   0%|          | 0/1 [00:00<?, ?it/s]"
      ]
     },
     "metadata": {},
     "output_type": "display_data"
    },
    {
     "data": {
      "application/vnd.jupyter.widget-view+json": {
       "model_id": "1e97ea60604e415ea72c44c477b534b4",
       "version_major": 2,
       "version_minor": 0
      },
      "text/plain": [
       "Export report to file:   0%|          | 0/1 [00:00<?, ?it/s]"
      ]
     },
     "metadata": {},
     "output_type": "display_data"
    },
    {
     "data": {
      "application/vnd.jupyter.widget-view+json": {
       "model_id": "7a79187f47664946b563a7b90148aab2",
       "version_major": 2,
       "version_minor": 0
      },
      "text/plain": [
       "Render JSON:   0%|          | 0/1 [00:00<?, ?it/s]"
      ]
     },
     "metadata": {},
     "output_type": "display_data"
    },
    {
     "data": {
      "application/vnd.jupyter.widget-view+json": {
       "model_id": "dab15efdc11040309303826244805275",
       "version_major": 2,
       "version_minor": 0
      },
      "text/plain": [
       "Export report to file:   0%|          | 0/1 [00:00<?, ?it/s]"
      ]
     },
     "metadata": {},
     "output_type": "display_data"
    }
   ],
   "source": [
    "profile = ProfileReport(yaraRules, title=\"Yara Rules - Pandas Profiling Report\", minimal=True)\n",
    "profile.to_file(\"C:\\\\Users\\\\leona\\\\OneDrive\\\\Desktop\\\\Tesi\\\\Pipeline\\\\Report\\\\Profiling step 18\\\\Integrated_Dataset\\\\Yara_Rules_Report.html\")\n",
    "\n",
    "# As a JSON string\n",
    "json_data = profile.to_json()\n",
    "\n",
    "# As a file\n",
    "profile.to_file(\"C:\\\\Users\\\\leona\\\\OneDrive\\\\Desktop\\\\Tesi\\\\Pipeline\\\\Report\\\\Profiling step 18\\\\Integrated_Dataset\\\\Yara_Rules_Report.json\")"
   ]
  },
  {
   "cell_type": "code",
   "execution_count": null,
   "id": "70bddad7",
   "metadata": {},
   "outputs": [],
   "source": []
  },
  {
   "cell_type": "code",
   "execution_count": null,
   "id": "dcb8d3a8",
   "metadata": {},
   "outputs": [],
   "source": []
  }
 ],
 "metadata": {
  "kernelspec": {
   "display_name": "Python 3 (ipykernel)",
   "language": "python",
   "name": "python3"
  },
  "language_info": {
   "codemirror_mode": {
    "name": "ipython",
    "version": 3
   },
   "file_extension": ".py",
   "mimetype": "text/x-python",
   "name": "python",
   "nbconvert_exporter": "python",
   "pygments_lexer": "ipython3",
   "version": "3.11.5"
  }
 },
 "nbformat": 4,
 "nbformat_minor": 5
}
