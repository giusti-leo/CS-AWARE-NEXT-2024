{
 "cells": [
  {
   "cell_type": "markdown",
   "id": "7c5b6581",
   "metadata": {},
   "source": [
    "# 15.0. Data Profiling - OTX Alien Vault"
   ]
  },
  {
   "cell_type": "code",
   "execution_count": 1,
   "id": "d0f57648",
   "metadata": {},
   "outputs": [],
   "source": [
    "from datetime import datetime\n",
    "import os\n",
    "import time\n",
    "import pandas as pd \n",
    "import requests\n",
    "import urllib3\n",
    "import json\n",
    "import sys\n",
    "import numpy as np\n",
    "\n",
    "pd.options.display.max_colwidth = 1000\n",
    "pd.set_option('display.max_columns', None)"
   ]
  },
  {
   "cell_type": "code",
   "execution_count": 2,
   "id": "309a1cbd",
   "metadata": {},
   "outputs": [
    {
     "name": "stdout",
     "output_type": "stream",
     "text": [
      "Requirement already satisfied: pandas-profiling in c:\\users\\leona\\anaconda3\\lib\\site-packages (3.2.0)\n",
      "Requirement already satisfied: joblib~=1.1.0 in c:\\users\\leona\\anaconda3\\lib\\site-packages (from pandas-profiling) (1.1.1)\n",
      "Requirement already satisfied: scipy>=1.4.1 in c:\\users\\leona\\anaconda3\\lib\\site-packages (from pandas-profiling) (1.11.1)\n",
      "Requirement already satisfied: pandas!=1.0.0,!=1.0.1,!=1.0.2,!=1.1.0,>=0.25.3 in c:\\users\\leona\\anaconda3\\lib\\site-packages (from pandas-profiling) (2.0.3)\n",
      "Requirement already satisfied: matplotlib>=3.2.0 in c:\\users\\leona\\anaconda3\\lib\\site-packages (from pandas-profiling) (3.7.2)\n",
      "Requirement already satisfied: pydantic>=1.8.1 in c:\\users\\leona\\anaconda3\\lib\\site-packages (from pandas-profiling) (2.5.3)\n",
      "Requirement already satisfied: PyYAML>=5.0.0 in c:\\users\\leona\\anaconda3\\lib\\site-packages (from pandas-profiling) (6.0)\n",
      "Requirement already satisfied: jinja2>=2.11.1 in c:\\users\\leona\\anaconda3\\lib\\site-packages (from pandas-profiling) (3.1.2)\n",
      "Requirement already satisfied: markupsafe~=2.1.1 in c:\\users\\leona\\anaconda3\\lib\\site-packages (from pandas-profiling) (2.1.1)\n",
      "Collecting visions[type_image_path]==0.7.4 (from pandas-profiling)\n",
      "  Using cached visions-0.7.4-py3-none-any.whl (102 kB)\n",
      "Requirement already satisfied: numpy>=1.16.0 in c:\\users\\leona\\anaconda3\\lib\\site-packages (from pandas-profiling) (1.24.3)\n",
      "Requirement already satisfied: htmlmin>=0.1.12 in c:\\users\\leona\\anaconda3\\lib\\site-packages (from pandas-profiling) (0.1.12)\n",
      "Requirement already satisfied: missingno>=0.4.2 in c:\\users\\leona\\anaconda3\\lib\\site-packages (from pandas-profiling) (0.5.2)\n",
      "Requirement already satisfied: phik>=0.11.1 in c:\\users\\leona\\anaconda3\\lib\\site-packages (from pandas-profiling) (0.12.3)\n",
      "Requirement already satisfied: tangled-up-in-unicode==0.2.0 in c:\\users\\leona\\anaconda3\\lib\\site-packages (from pandas-profiling) (0.2.0)\n",
      "Requirement already satisfied: requests>=2.24.0 in c:\\users\\leona\\anaconda3\\lib\\site-packages (from pandas-profiling) (2.31.0)\n",
      "Requirement already satisfied: tqdm>=4.48.2 in c:\\users\\leona\\anaconda3\\lib\\site-packages (from pandas-profiling) (4.65.0)\n",
      "Requirement already satisfied: seaborn>=0.10.1 in c:\\users\\leona\\anaconda3\\lib\\site-packages (from pandas-profiling) (0.12.2)\n",
      "Requirement already satisfied: multimethod>=1.4 in c:\\users\\leona\\anaconda3\\lib\\site-packages (from pandas-profiling) (1.10)\n",
      "Requirement already satisfied: attrs>=19.3.0 in c:\\users\\leona\\anaconda3\\lib\\site-packages (from visions[type_image_path]==0.7.4->pandas-profiling) (23.1.0)\n",
      "Requirement already satisfied: networkx>=2.4 in c:\\users\\leona\\anaconda3\\lib\\site-packages (from visions[type_image_path]==0.7.4->pandas-profiling) (3.1)\n",
      "Requirement already satisfied: imagehash in c:\\users\\leona\\anaconda3\\lib\\site-packages (from visions[type_image_path]==0.7.4->pandas-profiling) (4.3.1)\n",
      "Requirement already satisfied: Pillow in c:\\users\\leona\\anaconda3\\lib\\site-packages (from visions[type_image_path]==0.7.4->pandas-profiling) (9.4.0)\n",
      "Requirement already satisfied: contourpy>=1.0.1 in c:\\users\\leona\\anaconda3\\lib\\site-packages (from matplotlib>=3.2.0->pandas-profiling) (1.0.5)\n",
      "Requirement already satisfied: cycler>=0.10 in c:\\users\\leona\\anaconda3\\lib\\site-packages (from matplotlib>=3.2.0->pandas-profiling) (0.11.0)\n",
      "Requirement already satisfied: fonttools>=4.22.0 in c:\\users\\leona\\anaconda3\\lib\\site-packages (from matplotlib>=3.2.0->pandas-profiling) (4.25.0)\n",
      "Requirement already satisfied: kiwisolver>=1.0.1 in c:\\users\\leona\\anaconda3\\lib\\site-packages (from matplotlib>=3.2.0->pandas-profiling) (1.4.4)\n",
      "Requirement already satisfied: packaging>=20.0 in c:\\users\\leona\\anaconda3\\lib\\site-packages (from matplotlib>=3.2.0->pandas-profiling) (23.1)\n",
      "Requirement already satisfied: pyparsing<3.1,>=2.3.1 in c:\\users\\leona\\anaconda3\\lib\\site-packages (from matplotlib>=3.2.0->pandas-profiling) (3.0.9)\n",
      "Requirement already satisfied: python-dateutil>=2.7 in c:\\users\\leona\\anaconda3\\lib\\site-packages (from matplotlib>=3.2.0->pandas-profiling) (2.8.2)\n",
      "Requirement already satisfied: pytz>=2020.1 in c:\\users\\leona\\anaconda3\\lib\\site-packages (from pandas!=1.0.0,!=1.0.1,!=1.0.2,!=1.1.0,>=0.25.3->pandas-profiling) (2023.3.post1)\n",
      "Requirement already satisfied: tzdata>=2022.1 in c:\\users\\leona\\anaconda3\\lib\\site-packages (from pandas!=1.0.0,!=1.0.1,!=1.0.2,!=1.1.0,>=0.25.3->pandas-profiling) (2023.3)\n",
      "Requirement already satisfied: annotated-types>=0.4.0 in c:\\users\\leona\\anaconda3\\lib\\site-packages (from pydantic>=1.8.1->pandas-profiling) (0.6.0)\n",
      "Requirement already satisfied: pydantic-core==2.14.6 in c:\\users\\leona\\anaconda3\\lib\\site-packages (from pydantic>=1.8.1->pandas-profiling) (2.14.6)\n",
      "Requirement already satisfied: typing-extensions>=4.6.1 in c:\\users\\leona\\anaconda3\\lib\\site-packages (from pydantic>=1.8.1->pandas-profiling) (4.7.1)\n",
      "Requirement already satisfied: charset-normalizer<4,>=2 in c:\\users\\leona\\anaconda3\\lib\\site-packages (from requests>=2.24.0->pandas-profiling) (2.0.4)\n",
      "Requirement already satisfied: idna<4,>=2.5 in c:\\users\\leona\\anaconda3\\lib\\site-packages (from requests>=2.24.0->pandas-profiling) (3.4)\n",
      "Requirement already satisfied: urllib3<3,>=1.21.1 in c:\\users\\leona\\anaconda3\\lib\\site-packages (from requests>=2.24.0->pandas-profiling) (1.26.16)\n",
      "Requirement already satisfied: certifi>=2017.4.17 in c:\\users\\leona\\anaconda3\\lib\\site-packages (from requests>=2.24.0->pandas-profiling) (2023.7.22)\n",
      "Requirement already satisfied: colorama in c:\\users\\leona\\anaconda3\\lib\\site-packages (from tqdm>=4.48.2->pandas-profiling) (0.4.6)\n",
      "Requirement already satisfied: six>=1.5 in c:\\users\\leona\\anaconda3\\lib\\site-packages (from python-dateutil>=2.7->matplotlib>=3.2.0->pandas-profiling) (1.16.0)\n",
      "Requirement already satisfied: PyWavelets in c:\\users\\leona\\anaconda3\\lib\\site-packages (from imagehash->visions[type_image_path]==0.7.4->pandas-profiling) (1.4.1)\n",
      "Installing collected packages: visions\n",
      "  Attempting uninstall: visions\n",
      "    Found existing installation: visions 0.7.5\n",
      "    Uninstalling visions-0.7.5:\n",
      "      Successfully uninstalled visions-0.7.5\n",
      "Successfully installed visions-0.7.4\n",
      "Note: you may need to restart the kernel to use updated packages.\n"
     ]
    },
    {
     "name": "stderr",
     "output_type": "stream",
     "text": [
      "ERROR: pip's dependency resolver does not currently take into account all the packages that are installed. This behaviour is the source of the following dependency conflicts.\n",
      "ydata-profiling 4.6.3 requires visions[type_image_path]==0.7.5, but you have visions 0.7.4 which is incompatible.\n"
     ]
    }
   ],
   "source": [
    "pip install pandas-profiling"
   ]
  },
  {
   "cell_type": "code",
   "execution_count": 3,
   "id": "75b20f7f",
   "metadata": {},
   "outputs": [
    {
     "name": "stdout",
     "output_type": "stream",
     "text": [
      "Requirement already satisfied: numba in c:\\users\\leona\\anaconda3\\lib\\site-packages (0.58.1)\n",
      "Requirement already satisfied: llvmlite<0.42,>=0.41.0dev0 in c:\\users\\leona\\anaconda3\\lib\\site-packages (from numba) (0.41.1)\n",
      "Requirement already satisfied: numpy<1.27,>=1.22 in c:\\users\\leona\\anaconda3\\lib\\site-packages (from numba) (1.24.3)\n",
      "Note: you may need to restart the kernel to use updated packages.\n"
     ]
    }
   ],
   "source": [
    "pip install --upgrade numba"
   ]
  },
  {
   "cell_type": "code",
   "execution_count": 4,
   "id": "d2135c63",
   "metadata": {},
   "outputs": [
    {
     "name": "stdout",
     "output_type": "stream",
     "text": [
      "Requirement already satisfied: visions==0.7.4 in c:\\users\\leona\\anaconda3\\lib\\site-packages (0.7.4)\n",
      "Requirement already satisfied: numpy in c:\\users\\leona\\anaconda3\\lib\\site-packages (from visions==0.7.4) (1.24.3)\n",
      "Requirement already satisfied: pandas>=0.25.3 in c:\\users\\leona\\anaconda3\\lib\\site-packages (from visions==0.7.4) (2.0.3)\n",
      "Requirement already satisfied: attrs>=19.3.0 in c:\\users\\leona\\anaconda3\\lib\\site-packages (from visions==0.7.4) (23.1.0)\n",
      "Requirement already satisfied: networkx>=2.4 in c:\\users\\leona\\anaconda3\\lib\\site-packages (from visions==0.7.4) (3.1)\n",
      "Requirement already satisfied: tangled-up-in-unicode>=0.0.4 in c:\\users\\leona\\anaconda3\\lib\\site-packages (from visions==0.7.4) (0.2.0)\n",
      "Requirement already satisfied: multimethod>=1.4 in c:\\users\\leona\\anaconda3\\lib\\site-packages (from visions==0.7.4) (1.10)\n",
      "Requirement already satisfied: python-dateutil>=2.8.2 in c:\\users\\leona\\anaconda3\\lib\\site-packages (from pandas>=0.25.3->visions==0.7.4) (2.8.2)\n",
      "Requirement already satisfied: pytz>=2020.1 in c:\\users\\leona\\anaconda3\\lib\\site-packages (from pandas>=0.25.3->visions==0.7.4) (2023.3.post1)\n",
      "Requirement already satisfied: tzdata>=2022.1 in c:\\users\\leona\\anaconda3\\lib\\site-packages (from pandas>=0.25.3->visions==0.7.4) (2023.3)\n",
      "Requirement already satisfied: six>=1.5 in c:\\users\\leona\\anaconda3\\lib\\site-packages (from python-dateutil>=2.8.2->pandas>=0.25.3->visions==0.7.4) (1.16.0)\n",
      "Note: you may need to restart the kernel to use updated packages.\n"
     ]
    }
   ],
   "source": [
    "pip install visions==0.7.4"
   ]
  },
  {
   "cell_type": "code",
   "execution_count": 5,
   "id": "72b939e9",
   "metadata": {},
   "outputs": [
    {
     "name": "stdout",
     "output_type": "stream",
     "text": [
      "Requirement already satisfied: pydantic in c:\\users\\leona\\anaconda3\\lib\\site-packages (2.5.3)Note: you may need to restart the kernel to use updated packages.\n",
      "\n",
      "Requirement already satisfied: pydantic-settings in c:\\users\\leona\\anaconda3\\lib\\site-packages (2.1.0)\n",
      "Requirement already satisfied: annotated-types>=0.4.0 in c:\\users\\leona\\anaconda3\\lib\\site-packages (from pydantic) (0.6.0)\n",
      "Requirement already satisfied: pydantic-core==2.14.6 in c:\\users\\leona\\anaconda3\\lib\\site-packages (from pydantic) (2.14.6)\n",
      "Requirement already satisfied: typing-extensions>=4.6.1 in c:\\users\\leona\\anaconda3\\lib\\site-packages (from pydantic) (4.7.1)\n",
      "Requirement already satisfied: python-dotenv>=0.21.0 in c:\\users\\leona\\anaconda3\\lib\\site-packages (from pydantic-settings) (0.21.0)\n"
     ]
    }
   ],
   "source": [
    "pip install --upgrade pydantic pydantic-settings"
   ]
  },
  {
   "cell_type": "code",
   "execution_count": 6,
   "id": "75edc195",
   "metadata": {},
   "outputs": [
    {
     "name": "stdout",
     "output_type": "stream",
     "text": [
      "Requirement already satisfied: ydata-profiling in c:\\users\\leona\\anaconda3\\lib\\site-packages (4.6.3)\n",
      "Requirement already satisfied: scipy<1.12,>=1.4.1 in c:\\users\\leona\\anaconda3\\lib\\site-packages (from ydata-profiling) (1.11.1)\n",
      "Requirement already satisfied: pandas!=1.4.0,<3,>1.1 in c:\\users\\leona\\anaconda3\\lib\\site-packages (from ydata-profiling) (2.0.3)\n",
      "Requirement already satisfied: matplotlib<3.9,>=3.2 in c:\\users\\leona\\anaconda3\\lib\\site-packages (from ydata-profiling) (3.7.2)\n",
      "Requirement already satisfied: pydantic>=2 in c:\\users\\leona\\anaconda3\\lib\\site-packages (from ydata-profiling) (2.5.3)\n",
      "Requirement already satisfied: PyYAML<6.1,>=5.0.0 in c:\\users\\leona\\anaconda3\\lib\\site-packages (from ydata-profiling) (6.0)\n",
      "Requirement already satisfied: jinja2<3.2,>=2.11.1 in c:\\users\\leona\\anaconda3\\lib\\site-packages (from ydata-profiling) (3.1.2)\n",
      "Collecting visions[type_image_path]==0.7.5 (from ydata-profiling)\n",
      "  Using cached visions-0.7.5-py3-none-any.whl (102 kB)\n",
      "Requirement already satisfied: numpy<1.26,>=1.16.0 in c:\\users\\leona\\anaconda3\\lib\\site-packages (from ydata-profiling) (1.24.3)\n",
      "Requirement already satisfied: htmlmin==0.1.12 in c:\\users\\leona\\anaconda3\\lib\\site-packages (from ydata-profiling) (0.1.12)\n",
      "Requirement already satisfied: phik<0.13,>=0.11.1 in c:\\users\\leona\\anaconda3\\lib\\site-packages (from ydata-profiling) (0.12.3)\n",
      "Requirement already satisfied: requests<3,>=2.24.0 in c:\\users\\leona\\anaconda3\\lib\\site-packages (from ydata-profiling) (2.31.0)\n",
      "Requirement already satisfied: tqdm<5,>=4.48.2 in c:\\users\\leona\\anaconda3\\lib\\site-packages (from ydata-profiling) (4.65.0)\n",
      "Requirement already satisfied: seaborn<0.13,>=0.10.1 in c:\\users\\leona\\anaconda3\\lib\\site-packages (from ydata-profiling) (0.12.2)\n",
      "Requirement already satisfied: multimethod<2,>=1.4 in c:\\users\\leona\\anaconda3\\lib\\site-packages (from ydata-profiling) (1.10)\n",
      "Requirement already satisfied: statsmodels<1,>=0.13.2 in c:\\users\\leona\\anaconda3\\lib\\site-packages (from ydata-profiling) (0.14.0)\n",
      "Requirement already satisfied: typeguard<5,>=4.1.2 in c:\\users\\leona\\anaconda3\\lib\\site-packages (from ydata-profiling) (4.1.5)\n",
      "Requirement already satisfied: imagehash==4.3.1 in c:\\users\\leona\\anaconda3\\lib\\site-packages (from ydata-profiling) (4.3.1)\n",
      "Requirement already satisfied: wordcloud>=1.9.1 in c:\\users\\leona\\anaconda3\\lib\\site-packages (from ydata-profiling) (1.9.3)\n",
      "Requirement already satisfied: dacite>=1.8 in c:\\users\\leona\\anaconda3\\lib\\site-packages (from ydata-profiling) (1.8.1)\n",
      "Requirement already satisfied: numba<0.59.0,>=0.56.0 in c:\\users\\leona\\anaconda3\\lib\\site-packages (from ydata-profiling) (0.58.1)\n",
      "Requirement already satisfied: PyWavelets in c:\\users\\leona\\anaconda3\\lib\\site-packages (from imagehash==4.3.1->ydata-profiling) (1.4.1)\n",
      "Requirement already satisfied: pillow in c:\\users\\leona\\anaconda3\\lib\\site-packages (from imagehash==4.3.1->ydata-profiling) (9.4.0)\n",
      "Requirement already satisfied: attrs>=19.3.0 in c:\\users\\leona\\anaconda3\\lib\\site-packages (from visions[type_image_path]==0.7.5->ydata-profiling) (23.1.0)\n",
      "Requirement already satisfied: networkx>=2.4 in c:\\users\\leona\\anaconda3\\lib\\site-packages (from visions[type_image_path]==0.7.5->ydata-profiling) (3.1)\n",
      "Requirement already satisfied: tangled-up-in-unicode>=0.0.4 in c:\\users\\leona\\anaconda3\\lib\\site-packages (from visions[type_image_path]==0.7.5->ydata-profiling) (0.2.0)\n",
      "Requirement already satisfied: MarkupSafe>=2.0 in c:\\users\\leona\\anaconda3\\lib\\site-packages (from jinja2<3.2,>=2.11.1->ydata-profiling) (2.1.1)\n",
      "Requirement already satisfied: contourpy>=1.0.1 in c:\\users\\leona\\anaconda3\\lib\\site-packages (from matplotlib<3.9,>=3.2->ydata-profiling) (1.0.5)\n",
      "Requirement already satisfied: cycler>=0.10 in c:\\users\\leona\\anaconda3\\lib\\site-packages (from matplotlib<3.9,>=3.2->ydata-profiling) (0.11.0)\n",
      "Requirement already satisfied: fonttools>=4.22.0 in c:\\users\\leona\\anaconda3\\lib\\site-packages (from matplotlib<3.9,>=3.2->ydata-profiling) (4.25.0)\n",
      "Requirement already satisfied: kiwisolver>=1.0.1 in c:\\users\\leona\\anaconda3\\lib\\site-packages (from matplotlib<3.9,>=3.2->ydata-profiling) (1.4.4)\n",
      "Requirement already satisfied: packaging>=20.0 in c:\\users\\leona\\anaconda3\\lib\\site-packages (from matplotlib<3.9,>=3.2->ydata-profiling) (23.1)\n",
      "Requirement already satisfied: pyparsing<3.1,>=2.3.1 in c:\\users\\leona\\anaconda3\\lib\\site-packages (from matplotlib<3.9,>=3.2->ydata-profiling) (3.0.9)\n",
      "Requirement already satisfied: python-dateutil>=2.7 in c:\\users\\leona\\anaconda3\\lib\\site-packages (from matplotlib<3.9,>=3.2->ydata-profiling) (2.8.2)\n",
      "Requirement already satisfied: llvmlite<0.42,>=0.41.0dev0 in c:\\users\\leona\\anaconda3\\lib\\site-packages (from numba<0.59.0,>=0.56.0->ydata-profiling) (0.41.1)\n",
      "Requirement already satisfied: pytz>=2020.1 in c:\\users\\leona\\anaconda3\\lib\\site-packages (from pandas!=1.4.0,<3,>1.1->ydata-profiling) (2023.3.post1)\n",
      "Requirement already satisfied: tzdata>=2022.1 in c:\\users\\leona\\anaconda3\\lib\\site-packages (from pandas!=1.4.0,<3,>1.1->ydata-profiling) (2023.3)\n",
      "Requirement already satisfied: joblib>=0.14.1 in c:\\users\\leona\\anaconda3\\lib\\site-packages (from phik<0.13,>=0.11.1->ydata-profiling) (1.1.1)\n",
      "Requirement already satisfied: annotated-types>=0.4.0 in c:\\users\\leona\\anaconda3\\lib\\site-packages (from pydantic>=2->ydata-profiling) (0.6.0)\n",
      "Requirement already satisfied: pydantic-core==2.14.6 in c:\\users\\leona\\anaconda3\\lib\\site-packages (from pydantic>=2->ydata-profiling) (2.14.6)\n",
      "Requirement already satisfied: typing-extensions>=4.6.1 in c:\\users\\leona\\anaconda3\\lib\\site-packages (from pydantic>=2->ydata-profiling) (4.7.1)\n",
      "Requirement already satisfied: charset-normalizer<4,>=2 in c:\\users\\leona\\anaconda3\\lib\\site-packages (from requests<3,>=2.24.0->ydata-profiling) (2.0.4)\n",
      "Requirement already satisfied: idna<4,>=2.5 in c:\\users\\leona\\anaconda3\\lib\\site-packages (from requests<3,>=2.24.0->ydata-profiling) (3.4)\n",
      "Requirement already satisfied: urllib3<3,>=1.21.1 in c:\\users\\leona\\anaconda3\\lib\\site-packages (from requests<3,>=2.24.0->ydata-profiling) (1.26.16)\n",
      "Requirement already satisfied: certifi>=2017.4.17 in c:\\users\\leona\\anaconda3\\lib\\site-packages (from requests<3,>=2.24.0->ydata-profiling) (2023.7.22)\n",
      "Requirement already satisfied: patsy>=0.5.2 in c:\\users\\leona\\anaconda3\\lib\\site-packages (from statsmodels<1,>=0.13.2->ydata-profiling) (0.5.3)\n",
      "Requirement already satisfied: colorama in c:\\users\\leona\\anaconda3\\lib\\site-packages (from tqdm<5,>=4.48.2->ydata-profiling) (0.4.6)\n",
      "Requirement already satisfied: six in c:\\users\\leona\\anaconda3\\lib\\site-packages (from patsy>=0.5.2->statsmodels<1,>=0.13.2->ydata-profiling) (1.16.0)\n",
      "Installing collected packages: visions\n",
      "  Attempting uninstall: visions\n",
      "    Found existing installation: visions 0.7.4\n",
      "    Uninstalling visions-0.7.4:\n",
      "      Successfully uninstalled visions-0.7.4\n",
      "Successfully installed visions-0.7.5\n",
      "Note: you may need to restart the kernel to use updated packages.\n"
     ]
    },
    {
     "name": "stderr",
     "output_type": "stream",
     "text": [
      "ERROR: pip's dependency resolver does not currently take into account all the packages that are installed. This behaviour is the source of the following dependency conflicts.\n",
      "pandas-profiling 3.2.0 requires visions[type_image_path]==0.7.4, but you have visions 0.7.5 which is incompatible.\n"
     ]
    }
   ],
   "source": [
    "pip install ydata-profiling"
   ]
  },
  {
   "cell_type": "code",
   "execution_count": 7,
   "id": "4a45dd55",
   "metadata": {},
   "outputs": [],
   "source": [
    "from ydata_profiling import ProfileReport"
   ]
  },
  {
   "cell_type": "code",
   "execution_count": 8,
   "id": "330b435c",
   "metadata": {},
   "outputs": [],
   "source": [
    "sys.path.append(\"C:\\\\Users\\\\leona\\\\OneDrive\\\\Desktop\\\\Tesi\\\\Pipeline\\\\Report\\\\Profiling step 15\\\\\")"
   ]
  },
  {
   "cell_type": "markdown",
   "id": "0687b3b5",
   "metadata": {},
   "source": [
    "### Data Profiling - ENTRIES"
   ]
  },
  {
   "cell_type": "code",
   "execution_count": 9,
   "id": "9aabe8f0",
   "metadata": {},
   "outputs": [],
   "source": [
    "path_Entries = r\"C:\\Users\\leona\\OneDrive\\Desktop\\Tesi\\Pipeline\\Datasets\\Pipeline\\DataAnalysis\\otx_alien_vault\\Entries.csv\""
   ]
  },
  {
   "cell_type": "code",
   "execution_count": 10,
   "id": "919784a0",
   "metadata": {
    "scrolled": false
   },
   "outputs": [
    {
     "data": {
      "text/html": [
       "<div>\n",
       "<style scoped>\n",
       "    .dataframe tbody tr th:only-of-type {\n",
       "        vertical-align: middle;\n",
       "    }\n",
       "\n",
       "    .dataframe tbody tr th {\n",
       "        vertical-align: top;\n",
       "    }\n",
       "\n",
       "    .dataframe thead th {\n",
       "        text-align: right;\n",
       "    }\n",
       "</style>\n",
       "<table border=\"1\" class=\"dataframe\">\n",
       "  <thead>\n",
       "    <tr style=\"text-align: right;\">\n",
       "      <th></th>\n",
       "      <th>analysis.info.results.sha1</th>\n",
       "      <th>analysis.info.results.sha256</th>\n",
       "      <th>analysis.info.results.md5</th>\n",
       "      <th>page_type</th>\n",
       "      <th>analysis.datetime_int</th>\n",
       "    </tr>\n",
       "  </thead>\n",
       "  <tbody>\n",
       "    <tr>\n",
       "      <th>0</th>\n",
       "      <td>b701b181de8e595225668cb65d5b975e5b300a39</td>\n",
       "      <td>58edde581177c6f96caa4da4cd73396afee160b9152692a664b28aa67dd0d100</td>\n",
       "      <td>d6cda532ce834b973d5292e05e1d6c38</td>\n",
       "      <td>PEXE</td>\n",
       "      <td>2022-02-25T20:30:34</td>\n",
       "    </tr>\n",
       "    <tr>\n",
       "      <th>1</th>\n",
       "      <td>713a00b13a87c52b43404cd32d0f4645844709d9</td>\n",
       "      <td>3b96a384f9989f28315eb374eae991e70ed07b88665cbf831f24bd574502feac</td>\n",
       "      <td>97ad0714b0245825407dd25d7d168d31</td>\n",
       "      <td>PEXE</td>\n",
       "      <td>2018-11-21T00:58:28</td>\n",
       "    </tr>\n",
       "    <tr>\n",
       "      <th>2</th>\n",
       "      <td>e900de5aea86567fadc7507a6811596eb4b86a14</td>\n",
       "      <td>3363270a2950c8518e7883ea147b3f947b3a96aa31d37a990c73f975946335ce</td>\n",
       "      <td>e076afd88fe6a708d91a3f771754e860</td>\n",
       "      <td>PEXE</td>\n",
       "      <td>2022-07-07T00:45:04</td>\n",
       "    </tr>\n",
       "    <tr>\n",
       "      <th>3</th>\n",
       "      <td>12d263832d7f08122fbfc4431da22016e0823539</td>\n",
       "      <td>cf1260b1d0686dbee4a5c9e3bcd09eff07bfae0a53d17356b72150f59ad1a497</td>\n",
       "      <td>497d3c4d08b80e03f622064dced10135</td>\n",
       "      <td>PEXE</td>\n",
       "      <td>2021-12-20T02:27:16</td>\n",
       "    </tr>\n",
       "    <tr>\n",
       "      <th>4</th>\n",
       "      <td>18a703514e47e1c3b59cf12de95f1ea5c7475083</td>\n",
       "      <td>28b6bbc6b1d6ee21ccdc25c5eefccad5e21556954542cd19a0a87f7dde91df78</td>\n",
       "      <td>260bf0106c006d4e988a2685df71a758</td>\n",
       "      <td>PEXE</td>\n",
       "      <td>2020-10-09T19:29:05</td>\n",
       "    </tr>\n",
       "    <tr>\n",
       "      <th>...</th>\n",
       "      <td>...</td>\n",
       "      <td>...</td>\n",
       "      <td>...</td>\n",
       "      <td>...</td>\n",
       "      <td>...</td>\n",
       "    </tr>\n",
       "    <tr>\n",
       "      <th>2653</th>\n",
       "      <td>3ab53037e2360c42b57d213234ced58717844a71</td>\n",
       "      <td>5de4932cb0ccab3fec711135cdd1af5a09c26a870bfb2d2adc650d0fdbf16488</td>\n",
       "      <td>e0fea510c784eb0e440e99e53d83d414</td>\n",
       "      <td>PEXE</td>\n",
       "      <td>2021-07-14T04:25:36</td>\n",
       "    </tr>\n",
       "    <tr>\n",
       "      <th>2654</th>\n",
       "      <td>4f9b9859a596a8bfdfee516788587ca0c0fb6ae8</td>\n",
       "      <td>f10dd5ce32d72489dd2696e5b58ee115f3cd065969a61a6613cab27bcd57de70</td>\n",
       "      <td>c9f771be253b6ca1d7a808d7d65c5e29</td>\n",
       "      <td>PEXE</td>\n",
       "      <td>2020-09-08T06:08:36</td>\n",
       "    </tr>\n",
       "    <tr>\n",
       "      <th>2655</th>\n",
       "      <td>ba5e50a39d1502e38196724ec9d844ee4bf8d002</td>\n",
       "      <td>f3fcbb0fedb1e3b732185aebbf845ca185c950ca3635026d8a754312220577c9</td>\n",
       "      <td>0550342e66698384f232ac39b700dd14</td>\n",
       "      <td>PEXE</td>\n",
       "      <td>2020-11-21T16:28:28</td>\n",
       "    </tr>\n",
       "    <tr>\n",
       "      <th>2656</th>\n",
       "      <td>d14540087dd6d350fb49e644e53ccefc0e4c1582</td>\n",
       "      <td>dba8a4717d516772b8cc06bd258265f21f7db6ddab62328917524c5a243c67a1</td>\n",
       "      <td>fe783ff4bccd76cb215ee1f7738d9ed5</td>\n",
       "      <td>PEXE</td>\n",
       "      <td>2021-12-20T19:52:42</td>\n",
       "    </tr>\n",
       "    <tr>\n",
       "      <th>2657</th>\n",
       "      <td>98837feaac2ed17b3709e5183b660dd41e7a1e0e</td>\n",
       "      <td>5b37ddd18800dc91071db31b340e8f9997bb89d42d5a194d7ff8c980a54abe89</td>\n",
       "      <td>1b47215513edd622ba825dced07c8969</td>\n",
       "      <td>PEXE</td>\n",
       "      <td>2021-11-11T22:17:54</td>\n",
       "    </tr>\n",
       "  </tbody>\n",
       "</table>\n",
       "<p>2658 rows × 5 columns</p>\n",
       "</div>"
      ],
      "text/plain": [
       "                    analysis.info.results.sha1  \\\n",
       "0     b701b181de8e595225668cb65d5b975e5b300a39   \n",
       "1     713a00b13a87c52b43404cd32d0f4645844709d9   \n",
       "2     e900de5aea86567fadc7507a6811596eb4b86a14   \n",
       "3     12d263832d7f08122fbfc4431da22016e0823539   \n",
       "4     18a703514e47e1c3b59cf12de95f1ea5c7475083   \n",
       "...                                        ...   \n",
       "2653  3ab53037e2360c42b57d213234ced58717844a71   \n",
       "2654  4f9b9859a596a8bfdfee516788587ca0c0fb6ae8   \n",
       "2655  ba5e50a39d1502e38196724ec9d844ee4bf8d002   \n",
       "2656  d14540087dd6d350fb49e644e53ccefc0e4c1582   \n",
       "2657  98837feaac2ed17b3709e5183b660dd41e7a1e0e   \n",
       "\n",
       "                                          analysis.info.results.sha256  \\\n",
       "0     58edde581177c6f96caa4da4cd73396afee160b9152692a664b28aa67dd0d100   \n",
       "1     3b96a384f9989f28315eb374eae991e70ed07b88665cbf831f24bd574502feac   \n",
       "2     3363270a2950c8518e7883ea147b3f947b3a96aa31d37a990c73f975946335ce   \n",
       "3     cf1260b1d0686dbee4a5c9e3bcd09eff07bfae0a53d17356b72150f59ad1a497   \n",
       "4     28b6bbc6b1d6ee21ccdc25c5eefccad5e21556954542cd19a0a87f7dde91df78   \n",
       "...                                                                ...   \n",
       "2653  5de4932cb0ccab3fec711135cdd1af5a09c26a870bfb2d2adc650d0fdbf16488   \n",
       "2654  f10dd5ce32d72489dd2696e5b58ee115f3cd065969a61a6613cab27bcd57de70   \n",
       "2655  f3fcbb0fedb1e3b732185aebbf845ca185c950ca3635026d8a754312220577c9   \n",
       "2656  dba8a4717d516772b8cc06bd258265f21f7db6ddab62328917524c5a243c67a1   \n",
       "2657  5b37ddd18800dc91071db31b340e8f9997bb89d42d5a194d7ff8c980a54abe89   \n",
       "\n",
       "             analysis.info.results.md5 page_type analysis.datetime_int  \n",
       "0     d6cda532ce834b973d5292e05e1d6c38      PEXE   2022-02-25T20:30:34  \n",
       "1     97ad0714b0245825407dd25d7d168d31      PEXE   2018-11-21T00:58:28  \n",
       "2     e076afd88fe6a708d91a3f771754e860      PEXE   2022-07-07T00:45:04  \n",
       "3     497d3c4d08b80e03f622064dced10135      PEXE   2021-12-20T02:27:16  \n",
       "4     260bf0106c006d4e988a2685df71a758      PEXE   2020-10-09T19:29:05  \n",
       "...                                ...       ...                   ...  \n",
       "2653  e0fea510c784eb0e440e99e53d83d414      PEXE   2021-07-14T04:25:36  \n",
       "2654  c9f771be253b6ca1d7a808d7d65c5e29      PEXE   2020-09-08T06:08:36  \n",
       "2655  0550342e66698384f232ac39b700dd14      PEXE   2020-11-21T16:28:28  \n",
       "2656  fe783ff4bccd76cb215ee1f7738d9ed5      PEXE   2021-12-20T19:52:42  \n",
       "2657  1b47215513edd622ba825dced07c8969      PEXE   2021-11-11T22:17:54  \n",
       "\n",
       "[2658 rows x 5 columns]"
      ]
     },
     "execution_count": 10,
     "metadata": {},
     "output_type": "execute_result"
    }
   ],
   "source": [
    "entries = pd.read_csv(path_Entries, low_memory = False)\n",
    "entries"
   ]
  },
  {
   "cell_type": "code",
   "execution_count": 11,
   "id": "7be74750",
   "metadata": {},
   "outputs": [],
   "source": [
    "# Define new column names\n",
    "columns = ['analysis.info.results.sha1', 'analysis.info.results.sha256', 'analysis.info.results.md5', 'analysis.datetime_int', 'page_type']\n",
    "entries_df = entries[columns]"
   ]
  },
  {
   "cell_type": "code",
   "execution_count": 12,
   "id": "232f6da4",
   "metadata": {},
   "outputs": [
    {
     "name": "stdout",
     "output_type": "stream",
     "text": [
      "Duplicates:  True\n",
      "# not null values:  13237\n",
      "# null values:  53\n",
      "# values:  13290\n",
      "# missings:  53\n"
     ]
    }
   ],
   "source": [
    "print(\"Duplicates: \",entries.duplicated().any())\n",
    "#total number of not null values\n",
    "not_null_values = entries.count().sum()\n",
    "print(\"# not null values: \",not_null_values)\n",
    "#total number of null values\n",
    "null_values = entries.isnull().sum().sum()\n",
    "print(\"# null values: \",null_values)\n",
    "#total number of cells\n",
    "n_values = entries.shape[0]*entries.shape[1]\n",
    "print(\"# values: \",n_values)\n",
    "#we added to the set of missing values also 'na' and '--'\n",
    "missing_values = ['na','--', 'NaN', 'None', '']\n",
    "ds_property_nan = pd.read_csv(path_Entries, na_values = missing_values)\n",
    "print(\"# missings: \",ds_property_nan.isnull().sum().sum())"
   ]
  },
  {
   "cell_type": "code",
   "execution_count": 13,
   "id": "468e27e0",
   "metadata": {},
   "outputs": [
    {
     "name": "stdout",
     "output_type": "stream",
     "text": [
      "Completeness:  99.6%\n"
     ]
    }
   ],
   "source": [
    "#COMPLETENESS evaluation\n",
    "completeness = not_null_values / n_values\n",
    "completeness = '{0:.1f}%'.format(completeness*100)\n",
    "print(\"Completeness: \",completeness)"
   ]
  },
  {
   "cell_type": "code",
   "execution_count": 16,
   "id": "18bb93ea",
   "metadata": {},
   "outputs": [
    {
     "name": "stdout",
     "output_type": "stream",
     "text": [
      "Completeness for 'analysis.info.results.sha1': 99.55%\n",
      "Completeness for 'analysis.info.results.sha256': 99.55%\n",
      "Completeness for 'analysis.info.results.md5': 99.55%\n",
      "Completeness for 'analysis.datetime_int': 99.55%\n",
      "Completeness for 'page_type': 99.81%\n"
     ]
    }
   ],
   "source": [
    "completeness = 1 - entries['analysis.info.results.sha1'].isna().mean()\n",
    "\n",
    "# Print the completeness percentage\n",
    "print(f\"Completeness for 'analysis.info.results.sha1': {completeness * 100:.2f}%\")\n",
    "\n",
    "completeness = 1 - entries['analysis.info.results.sha256'].isna().mean()\n",
    "\n",
    "# Print the completeness percentage\n",
    "print(f\"Completeness for 'analysis.info.results.sha256': {completeness * 100:.2f}%\")\n",
    "\n",
    "completeness = 1 - entries['analysis.info.results.md5'].isna().mean()\n",
    "\n",
    "# Print the completeness percentage\n",
    "print(f\"Completeness for 'analysis.info.results.md5': {completeness * 100:.2f}%\")\n",
    "\n",
    "completeness = 1 - entries['analysis.datetime_int'].isna().mean()\n",
    "\n",
    "# Print the completeness percentage\n",
    "print(f\"Completeness for 'analysis.datetime_int': {completeness * 100:.2f}%\")\n",
    "\n",
    "completeness = 1 - entries['page_type'].isna().mean()\n",
    "\n",
    "# Print the completeness percentage\n",
    "print(f\"Completeness for 'page_type': {completeness * 100:.2f}%\")"
   ]
  },
  {
   "cell_type": "code",
   "execution_count": 18,
   "id": "1f7da857",
   "metadata": {
    "scrolled": false
   },
   "outputs": [
    {
     "data": {
      "application/vnd.jupyter.widget-view+json": {
       "model_id": "1c2061ccf04544bd8fad790bda148707",
       "version_major": 2,
       "version_minor": 0
      },
      "text/plain": [
       "Summarize dataset:   0%|          | 0/5 [00:00<?, ?it/s]"
      ]
     },
     "metadata": {},
     "output_type": "display_data"
    },
    {
     "data": {
      "application/vnd.jupyter.widget-view+json": {
       "model_id": "67490d94a92844d3873ba801fb367d4a",
       "version_major": 2,
       "version_minor": 0
      },
      "text/plain": [
       "Generate report structure:   0%|          | 0/1 [00:00<?, ?it/s]"
      ]
     },
     "metadata": {},
     "output_type": "display_data"
    },
    {
     "data": {
      "application/vnd.jupyter.widget-view+json": {
       "model_id": "f1079987c9a14260a0465bf467617bcf",
       "version_major": 2,
       "version_minor": 0
      },
      "text/plain": [
       "Render HTML:   0%|          | 0/1 [00:00<?, ?it/s]"
      ]
     },
     "metadata": {},
     "output_type": "display_data"
    },
    {
     "data": {
      "application/vnd.jupyter.widget-view+json": {
       "model_id": "940dc7662af24bb08e9e384880a439cf",
       "version_major": 2,
       "version_minor": 0
      },
      "text/plain": [
       "Export report to file:   0%|          | 0/1 [00:00<?, ?it/s]"
      ]
     },
     "metadata": {},
     "output_type": "display_data"
    },
    {
     "data": {
      "application/vnd.jupyter.widget-view+json": {
       "model_id": "067b9fbcc1904b92ae70dff06df19280",
       "version_major": 2,
       "version_minor": 0
      },
      "text/plain": [
       "Render JSON:   0%|          | 0/1 [00:00<?, ?it/s]"
      ]
     },
     "metadata": {},
     "output_type": "display_data"
    },
    {
     "data": {
      "application/vnd.jupyter.widget-view+json": {
       "model_id": "b5108154a70b43a3925f68b96aa65e60",
       "version_major": 2,
       "version_minor": 0
      },
      "text/plain": [
       "Export report to file:   0%|          | 0/1 [00:00<?, ?it/s]"
      ]
     },
     "metadata": {},
     "output_type": "display_data"
    }
   ],
   "source": [
    "profile = ProfileReport(entries, title=\"OTX Alien Vault - IP Addresses - Pandas Profiling Report\", minimal=True)\n",
    "profile.to_file(\"C:\\\\Users\\\\leona\\\\OneDrive\\\\Desktop\\\\Tesi\\\\Pipeline\\\\Report\\\\Profiling step 15\\\\OTX_Alien_Vault\\\\OTX_Alien_Vault-IP_Addresses.html\")\n",
    "\n",
    "# As a JSON string\n",
    "json_data = profile.to_json()\n",
    "\n",
    "# As a file\n",
    "profile.to_file(\"C:\\\\Users\\\\leona\\\\OneDrive\\\\Desktop\\\\Tesi\\\\Pipeline\\\\Report\\\\Profiling step 15\\\\OTX_Alien_Vault\\\\OTX_Alien_Vault-IP_Addresses.json\")"
   ]
  },
  {
   "cell_type": "markdown",
   "id": "6759d623",
   "metadata": {},
   "source": [
    "### Data Profiling - ANOMALIES"
   ]
  },
  {
   "cell_type": "code",
   "execution_count": 19,
   "id": "cc31e4ff",
   "metadata": {},
   "outputs": [],
   "source": [
    "path_Anomalies = r\"C:\\\\Users\\\\leona\\\\OneDrive\\\\Desktop\\\\Tesi\\\\Pipeline\\\\Datasets\\\\Pipeline\\\\DataAnalysis\\\\otx_alien_vault\\\\Anomalies.csv\""
   ]
  },
  {
   "cell_type": "code",
   "execution_count": 20,
   "id": "06a94581",
   "metadata": {
    "scrolled": false
   },
   "outputs": [
    {
     "data": {
      "text/html": [
       "<div>\n",
       "<style scoped>\n",
       "    .dataframe tbody tr th:only-of-type {\n",
       "        vertical-align: middle;\n",
       "    }\n",
       "\n",
       "    .dataframe tbody tr th {\n",
       "        vertical-align: top;\n",
       "    }\n",
       "\n",
       "    .dataframe thead th {\n",
       "        text-align: right;\n",
       "    }\n",
       "</style>\n",
       "<table border=\"1\" class=\"dataframe\">\n",
       "  <thead>\n",
       "    <tr style=\"text-align: right;\">\n",
       "      <th></th>\n",
       "      <th>name</th>\n",
       "      <th>sha1</th>\n",
       "      <th>sha256</th>\n",
       "      <th>md5</th>\n",
       "    </tr>\n",
       "  </thead>\n",
       "  <tbody>\n",
       "    <tr>\n",
       "      <th>0</th>\n",
       "      <td>checksum_header_zero</td>\n",
       "      <td>b701b181de8e595225668cb65d5b975e5b300a39</td>\n",
       "      <td>58edde581177c6f96caa4da4cd73396afee160b9152692a664b28aa67dd0d100</td>\n",
       "      <td>d6cda532ce834b973d5292e05e1d6c38</td>\n",
       "    </tr>\n",
       "    <tr>\n",
       "      <th>1</th>\n",
       "      <td>checksum_header_zero</td>\n",
       "      <td>e900de5aea86567fadc7507a6811596eb4b86a14</td>\n",
       "      <td>3363270a2950c8518e7883ea147b3f947b3a96aa31d37a990c73f975946335ce</td>\n",
       "      <td>e076afd88fe6a708d91a3f771754e860</td>\n",
       "    </tr>\n",
       "    <tr>\n",
       "      <th>2</th>\n",
       "      <td>entropy_based</td>\n",
       "      <td>12d263832d7f08122fbfc4431da22016e0823539</td>\n",
       "      <td>cf1260b1d0686dbee4a5c9e3bcd09eff07bfae0a53d17356b72150f59ad1a497</td>\n",
       "      <td>497d3c4d08b80e03f622064dced10135</td>\n",
       "    </tr>\n",
       "  </tbody>\n",
       "</table>\n",
       "</div>"
      ],
      "text/plain": [
       "                   name                                      sha1  \\\n",
       "0  checksum_header_zero  b701b181de8e595225668cb65d5b975e5b300a39   \n",
       "1  checksum_header_zero  e900de5aea86567fadc7507a6811596eb4b86a14   \n",
       "2         entropy_based  12d263832d7f08122fbfc4431da22016e0823539   \n",
       "\n",
       "                                                             sha256  \\\n",
       "0  58edde581177c6f96caa4da4cd73396afee160b9152692a664b28aa67dd0d100   \n",
       "1  3363270a2950c8518e7883ea147b3f947b3a96aa31d37a990c73f975946335ce   \n",
       "2  cf1260b1d0686dbee4a5c9e3bcd09eff07bfae0a53d17356b72150f59ad1a497   \n",
       "\n",
       "                                md5  \n",
       "0  d6cda532ce834b973d5292e05e1d6c38  \n",
       "1  e076afd88fe6a708d91a3f771754e860  \n",
       "2  497d3c4d08b80e03f622064dced10135  "
      ]
     },
     "execution_count": 20,
     "metadata": {},
     "output_type": "execute_result"
    }
   ],
   "source": [
    "anomalies = pd.read_csv(path_Anomalies, low_memory = False)\n",
    "anomalies.head(3)"
   ]
  },
  {
   "cell_type": "code",
   "execution_count": 21,
   "id": "58e9ab87",
   "metadata": {},
   "outputs": [
    {
     "name": "stdout",
     "output_type": "stream",
     "text": [
      "Duplicates:  False\n",
      "# not null values:  12952\n",
      "# null values:  0\n",
      "# values:  12952\n",
      "# missings:  0\n"
     ]
    }
   ],
   "source": [
    "print(\"Duplicates: \",anomalies.duplicated().any())\n",
    "#total number of not null values\n",
    "not_null_values = anomalies.count().sum()\n",
    "print(\"# not null values: \",not_null_values)\n",
    "#total number of null values\n",
    "null_values = anomalies.isnull().sum().sum()\n",
    "print(\"# null values: \",null_values)\n",
    "#total number of cells\n",
    "n_values = anomalies.shape[0]*anomalies.shape[1]\n",
    "print(\"# values: \",n_values)\n",
    "#we added to the set of missing values also 'na' and '--'\n",
    "missing_values = ['na','--', 'NaN', 'None', '']\n",
    "ds_property_nan = pd.read_csv(path_Anomalies, na_values = missing_values)\n",
    "print(\"# missings: \",ds_property_nan.isnull().sum().sum())"
   ]
  },
  {
   "cell_type": "code",
   "execution_count": 22,
   "id": "28c50a79",
   "metadata": {},
   "outputs": [
    {
     "name": "stdout",
     "output_type": "stream",
     "text": [
      "Completeness:  100.0%\n"
     ]
    }
   ],
   "source": [
    "#COMPLETENESS evaluation\n",
    "completeness = not_null_values / n_values\n",
    "completeness = '{0:.1f}%'.format(completeness*100)\n",
    "print(\"Completeness: \",completeness)"
   ]
  },
  {
   "cell_type": "code",
   "execution_count": 23,
   "id": "afd94b93",
   "metadata": {},
   "outputs": [
    {
     "data": {
      "application/vnd.jupyter.widget-view+json": {
       "model_id": "680bf99263974bd39cfacb3c2b5ffae0",
       "version_major": 2,
       "version_minor": 0
      },
      "text/plain": [
       "Summarize dataset:   0%|          | 0/5 [00:00<?, ?it/s]"
      ]
     },
     "metadata": {},
     "output_type": "display_data"
    },
    {
     "data": {
      "application/vnd.jupyter.widget-view+json": {
       "model_id": "412539467ad345aa962f98077a89dd09",
       "version_major": 2,
       "version_minor": 0
      },
      "text/plain": [
       "Generate report structure:   0%|          | 0/1 [00:00<?, ?it/s]"
      ]
     },
     "metadata": {},
     "output_type": "display_data"
    },
    {
     "data": {
      "application/vnd.jupyter.widget-view+json": {
       "model_id": "a1787fe5bf3c46e0b7a26cb0317eb484",
       "version_major": 2,
       "version_minor": 0
      },
      "text/plain": [
       "Render HTML:   0%|          | 0/1 [00:00<?, ?it/s]"
      ]
     },
     "metadata": {},
     "output_type": "display_data"
    },
    {
     "data": {
      "application/vnd.jupyter.widget-view+json": {
       "model_id": "4a81b9bf7dd3482bbf445371d067295c",
       "version_major": 2,
       "version_minor": 0
      },
      "text/plain": [
       "Export report to file:   0%|          | 0/1 [00:00<?, ?it/s]"
      ]
     },
     "metadata": {},
     "output_type": "display_data"
    },
    {
     "data": {
      "application/vnd.jupyter.widget-view+json": {
       "model_id": "ac989988e4194e45bc6a6abb11dde54e",
       "version_major": 2,
       "version_minor": 0
      },
      "text/plain": [
       "Render JSON:   0%|          | 0/1 [00:00<?, ?it/s]"
      ]
     },
     "metadata": {},
     "output_type": "display_data"
    },
    {
     "data": {
      "application/vnd.jupyter.widget-view+json": {
       "model_id": "6435bc62bff94399986a0bbc90818c77",
       "version_major": 2,
       "version_minor": 0
      },
      "text/plain": [
       "Export report to file:   0%|          | 0/1 [00:00<?, ?it/s]"
      ]
     },
     "metadata": {},
     "output_type": "display_data"
    }
   ],
   "source": [
    "profile = ProfileReport(anomalies, title=\"OTX Alien Vault - Hash Analysis - Anomalies Report\")\n",
    "profile.to_file(\"C:\\\\Users\\\\leona\\\\OneDrive\\\\Desktop\\\\Tesi\\\\Pipeline\\\\Report\\\\Profiling step 15\\\\OTX_Alien_Vault\\\\OTXAlienVault_AnomaliesReport.html\")\n",
    "\n",
    "# As a JSON string\n",
    "json_data = profile.to_json()\n",
    "\n",
    "# As a file\n",
    "profile.to_file(\"C:\\\\Users\\\\leona\\\\OneDrive\\\\Desktop\\\\Tesi\\\\Pipeline\\\\Report\\\\Profiling step 15\\\\OTX_Alien_Vault\\\\OTXAlienVault_AnomaliesReport.json\")"
   ]
  },
  {
   "cell_type": "markdown",
   "id": "0cb95b2b",
   "metadata": {},
   "source": [
    "### Data Profiling - ATTACKS"
   ]
  },
  {
   "cell_type": "code",
   "execution_count": 24,
   "id": "4856c1f8",
   "metadata": {},
   "outputs": [],
   "source": [
    "path_Attacks = r\"C:\\\\Users\\\\leona\\\\OneDrive\\\\Desktop\\\\Tesi\\\\Pipeline\\\\Datasets\\\\Pipeline\\\\DataAnalysis\\\\otx_alien_vault\\\\Attacks.csv\""
   ]
  },
  {
   "cell_type": "code",
   "execution_count": 25,
   "id": "cba766a1",
   "metadata": {
    "scrolled": false
   },
   "outputs": [
    {
     "data": {
      "text/html": [
       "<div>\n",
       "<style scoped>\n",
       "    .dataframe tbody tr th:only-of-type {\n",
       "        vertical-align: middle;\n",
       "    }\n",
       "\n",
       "    .dataframe tbody tr th {\n",
       "        vertical-align: top;\n",
       "    }\n",
       "\n",
       "    .dataframe thead th {\n",
       "        text-align: right;\n",
       "    }\n",
       "</style>\n",
       "<table border=\"1\" class=\"dataframe\">\n",
       "  <thead>\n",
       "    <tr style=\"text-align: right;\">\n",
       "      <th></th>\n",
       "      <th>attack_type</th>\n",
       "      <th>attack_name</th>\n",
       "      <th>attack_id</th>\n",
       "      <th>sha1</th>\n",
       "      <th>sha256</th>\n",
       "      <th>md5</th>\n",
       "    </tr>\n",
       "  </thead>\n",
       "  <tbody>\n",
       "    <tr>\n",
       "      <th>0</th>\n",
       "      <td>Installation</td>\n",
       "      <td>Registry Run Keys / Start Folder</td>\n",
       "      <td>T1060</td>\n",
       "      <td>713a00b13a87c52b43404cd32d0f4645844709d9</td>\n",
       "      <td>3b96a384f9989f28315eb374eae991e70ed07b88665cbf831f24bd574502feac</td>\n",
       "      <td>97ad0714b0245825407dd25d7d168d31</td>\n",
       "    </tr>\n",
       "    <tr>\n",
       "      <th>1</th>\n",
       "      <td>Objectives</td>\n",
       "      <td>Input Capture</td>\n",
       "      <td>T1056</td>\n",
       "      <td>713a00b13a87c52b43404cd32d0f4645844709d9</td>\n",
       "      <td>3b96a384f9989f28315eb374eae991e70ed07b88665cbf831f24bd574502feac</td>\n",
       "      <td>97ad0714b0245825407dd25d7d168d31</td>\n",
       "    </tr>\n",
       "    <tr>\n",
       "      <th>2</th>\n",
       "      <td>Installation</td>\n",
       "      <td>Registry Run Keys / Start Folder</td>\n",
       "      <td>T1060</td>\n",
       "      <td>e900de5aea86567fadc7507a6811596eb4b86a14</td>\n",
       "      <td>3363270a2950c8518e7883ea147b3f947b3a96aa31d37a990c73f975946335ce</td>\n",
       "      <td>e076afd88fe6a708d91a3f771754e860</td>\n",
       "    </tr>\n",
       "  </tbody>\n",
       "</table>\n",
       "</div>"
      ],
      "text/plain": [
       "    attack_type                       attack_name attack_id  \\\n",
       "0  Installation  Registry Run Keys / Start Folder     T1060   \n",
       "1    Objectives                     Input Capture     T1056   \n",
       "2  Installation  Registry Run Keys / Start Folder     T1060   \n",
       "\n",
       "                                       sha1  \\\n",
       "0  713a00b13a87c52b43404cd32d0f4645844709d9   \n",
       "1  713a00b13a87c52b43404cd32d0f4645844709d9   \n",
       "2  e900de5aea86567fadc7507a6811596eb4b86a14   \n",
       "\n",
       "                                                             sha256  \\\n",
       "0  3b96a384f9989f28315eb374eae991e70ed07b88665cbf831f24bd574502feac   \n",
       "1  3b96a384f9989f28315eb374eae991e70ed07b88665cbf831f24bd574502feac   \n",
       "2  3363270a2950c8518e7883ea147b3f947b3a96aa31d37a990c73f975946335ce   \n",
       "\n",
       "                                md5  \n",
       "0  97ad0714b0245825407dd25d7d168d31  \n",
       "1  97ad0714b0245825407dd25d7d168d31  \n",
       "2  e076afd88fe6a708d91a3f771754e860  "
      ]
     },
     "execution_count": 25,
     "metadata": {},
     "output_type": "execute_result"
    }
   ],
   "source": [
    "attacks = pd.read_csv(path_Attacks, low_memory = False)\n",
    "attacks.head(3)"
   ]
  },
  {
   "cell_type": "code",
   "execution_count": 26,
   "id": "998d7e15",
   "metadata": {},
   "outputs": [
    {
     "name": "stdout",
     "output_type": "stream",
     "text": [
      "Duplicates:  False\n",
      "# not null values:  32376\n",
      "# null values:  0\n",
      "# values:  32376\n",
      "# missings:  0\n"
     ]
    }
   ],
   "source": [
    "print(\"Duplicates: \",attacks.duplicated().any())\n",
    "#total number of not null values\n",
    "not_null_values = attacks.count().sum()\n",
    "print(\"# not null values: \",not_null_values)\n",
    "#total number of null values\n",
    "null_values = attacks.isnull().sum().sum()\n",
    "print(\"# null values: \",null_values)\n",
    "#total number of cells\n",
    "n_values = attacks.shape[0]*attacks.shape[1]\n",
    "print(\"# values: \",n_values)\n",
    "#we added to the set of missing values also 'na' and '--'\n",
    "missing_values = ['na','--', 'NaN', 'None', '']\n",
    "ds_property_nan = pd.read_csv(path_Attacks, na_values = missing_values)\n",
    "print(\"# missings: \",ds_property_nan.isnull().sum().sum())"
   ]
  },
  {
   "cell_type": "code",
   "execution_count": 27,
   "id": "19fa634b",
   "metadata": {},
   "outputs": [
    {
     "name": "stdout",
     "output_type": "stream",
     "text": [
      "Completeness:  100.0%\n"
     ]
    }
   ],
   "source": [
    "#COMPLETENESS evaluation\n",
    "completeness = not_null_values / n_values\n",
    "completeness = '{0:.1f}%'.format(completeness*100)\n",
    "print(\"Completeness: \",completeness)"
   ]
  },
  {
   "cell_type": "code",
   "execution_count": 28,
   "id": "43c40d86",
   "metadata": {},
   "outputs": [
    {
     "data": {
      "application/vnd.jupyter.widget-view+json": {
       "model_id": "946c7230b7a64d25a012a9fbaf632e4e",
       "version_major": 2,
       "version_minor": 0
      },
      "text/plain": [
       "Summarize dataset:   0%|          | 0/5 [00:00<?, ?it/s]"
      ]
     },
     "metadata": {},
     "output_type": "display_data"
    },
    {
     "data": {
      "application/vnd.jupyter.widget-view+json": {
       "model_id": "9a5ecbf8058b4cd2a2f286cd4960dbd1",
       "version_major": 2,
       "version_minor": 0
      },
      "text/plain": [
       "Generate report structure:   0%|          | 0/1 [00:00<?, ?it/s]"
      ]
     },
     "metadata": {},
     "output_type": "display_data"
    },
    {
     "data": {
      "application/vnd.jupyter.widget-view+json": {
       "model_id": "a25c9586bdeb47bd91d4084731122e29",
       "version_major": 2,
       "version_minor": 0
      },
      "text/plain": [
       "Render HTML:   0%|          | 0/1 [00:00<?, ?it/s]"
      ]
     },
     "metadata": {},
     "output_type": "display_data"
    },
    {
     "data": {
      "application/vnd.jupyter.widget-view+json": {
       "model_id": "5b783b1fb3474228b2128ad3594bcd06",
       "version_major": 2,
       "version_minor": 0
      },
      "text/plain": [
       "Export report to file:   0%|          | 0/1 [00:00<?, ?it/s]"
      ]
     },
     "metadata": {},
     "output_type": "display_data"
    },
    {
     "data": {
      "application/vnd.jupyter.widget-view+json": {
       "model_id": "0e109a220a1f4043a2188fa2709403ec",
       "version_major": 2,
       "version_minor": 0
      },
      "text/plain": [
       "Render JSON:   0%|          | 0/1 [00:00<?, ?it/s]"
      ]
     },
     "metadata": {},
     "output_type": "display_data"
    },
    {
     "data": {
      "application/vnd.jupyter.widget-view+json": {
       "model_id": "bbbb1672cf4d4e4d8512cb943c3c4b6c",
       "version_major": 2,
       "version_minor": 0
      },
      "text/plain": [
       "Export report to file:   0%|          | 0/1 [00:00<?, ?it/s]"
      ]
     },
     "metadata": {},
     "output_type": "display_data"
    }
   ],
   "source": [
    "profile = ProfileReport(attacks, title=\"OTX Alien Vault - Hash Analysis - Attacks Report\")\n",
    "profile.to_file(\"C:\\\\Users\\\\leona\\\\OneDrive\\\\Desktop\\\\Tesi\\\\Pipeline\\\\Report\\\\Profiling step 15\\\\OTX_Alien_Vault\\\\OTXAlienVault_AttacksReport.html\")\n",
    "\n",
    "# As a JSON string\n",
    "json_data = profile.to_json()\n",
    "\n",
    "# As a file\n",
    "profile.to_file(\"C:\\\\Users\\\\leona\\\\OneDrive\\\\Desktop\\\\Tesi\\\\Pipeline\\\\Report\\\\Profiling step 15\\\\OTX_Alien_Vault\\\\OTXAlienVault_AttacksReport.json\")"
   ]
  },
  {
   "cell_type": "markdown",
   "id": "66e793e2",
   "metadata": {},
   "source": [
    "### Data Profiling - BEHAVIOURS"
   ]
  },
  {
   "cell_type": "code",
   "execution_count": 29,
   "id": "032f220f",
   "metadata": {},
   "outputs": [],
   "source": [
    "path_Behaviours = r\"C:\\\\Users\\\\leona\\\\OneDrive\\\\Desktop\\\\Tesi\\\\Pipeline\\\\Datasets\\\\Pipeline\\\\DataAnalysis\\\\otx_alien_vault\\\\Behaviours.csv\""
   ]
  },
  {
   "cell_type": "code",
   "execution_count": 30,
   "id": "85d0f733",
   "metadata": {
    "scrolled": false
   },
   "outputs": [
    {
     "data": {
      "text/html": [
       "<div>\n",
       "<style scoped>\n",
       "    .dataframe tbody tr th:only-of-type {\n",
       "        vertical-align: middle;\n",
       "    }\n",
       "\n",
       "    .dataframe tbody tr th {\n",
       "        vertical-align: top;\n",
       "    }\n",
       "\n",
       "    .dataframe thead th {\n",
       "        text-align: right;\n",
       "    }\n",
       "</style>\n",
       "<table border=\"1\" class=\"dataframe\">\n",
       "  <thead>\n",
       "    <tr style=\"text-align: right;\">\n",
       "      <th></th>\n",
       "      <th>sha1</th>\n",
       "      <th>sha256</th>\n",
       "      <th>md5</th>\n",
       "      <th>name</th>\n",
       "      <th>description</th>\n",
       "      <th>severity</th>\n",
       "      <th>markcount</th>\n",
       "    </tr>\n",
       "  </thead>\n",
       "  <tbody>\n",
       "    <tr>\n",
       "      <th>0</th>\n",
       "      <td>b701b181de8e595225668cb65d5b975e5b300a39</td>\n",
       "      <td>58edde581177c6f96caa4da4cd73396afee160b9152692a664b28aa67dd0d100</td>\n",
       "      <td>d6cda532ce834b973d5292e05e1d6c38</td>\n",
       "      <td>checks_debugger</td>\n",
       "      <td>Checks if process is being debugged by a debugger</td>\n",
       "      <td>1.0</td>\n",
       "      <td>2.0</td>\n",
       "    </tr>\n",
       "    <tr>\n",
       "      <th>1</th>\n",
       "      <td>b701b181de8e595225668cb65d5b975e5b300a39</td>\n",
       "      <td>58edde581177c6f96caa4da4cd73396afee160b9152692a664b28aa67dd0d100</td>\n",
       "      <td>d6cda532ce834b973d5292e05e1d6c38</td>\n",
       "      <td>generates_crypto_key</td>\n",
       "      <td>Uses Windows APIs to generate a cryptographic key</td>\n",
       "      <td>1.0</td>\n",
       "      <td>3.0</td>\n",
       "    </tr>\n",
       "    <tr>\n",
       "      <th>2</th>\n",
       "      <td>b701b181de8e595225668cb65d5b975e5b300a39</td>\n",
       "      <td>58edde581177c6f96caa4da4cd73396afee160b9152692a664b28aa67dd0d100</td>\n",
       "      <td>d6cda532ce834b973d5292e05e1d6c38</td>\n",
       "      <td>antivm_memory_available</td>\n",
       "      <td>Checks amount of memory in system, this can be used to detect virtual machines that have a low amount of memory available</td>\n",
       "      <td>1.0</td>\n",
       "      <td>1.0</td>\n",
       "    </tr>\n",
       "  </tbody>\n",
       "</table>\n",
       "</div>"
      ],
      "text/plain": [
       "                                       sha1  \\\n",
       "0  b701b181de8e595225668cb65d5b975e5b300a39   \n",
       "1  b701b181de8e595225668cb65d5b975e5b300a39   \n",
       "2  b701b181de8e595225668cb65d5b975e5b300a39   \n",
       "\n",
       "                                                             sha256  \\\n",
       "0  58edde581177c6f96caa4da4cd73396afee160b9152692a664b28aa67dd0d100   \n",
       "1  58edde581177c6f96caa4da4cd73396afee160b9152692a664b28aa67dd0d100   \n",
       "2  58edde581177c6f96caa4da4cd73396afee160b9152692a664b28aa67dd0d100   \n",
       "\n",
       "                                md5                     name  \\\n",
       "0  d6cda532ce834b973d5292e05e1d6c38          checks_debugger   \n",
       "1  d6cda532ce834b973d5292e05e1d6c38     generates_crypto_key   \n",
       "2  d6cda532ce834b973d5292e05e1d6c38  antivm_memory_available   \n",
       "\n",
       "                                                                                                                 description  \\\n",
       "0                                                                          Checks if process is being debugged by a debugger   \n",
       "1                                                                          Uses Windows APIs to generate a cryptographic key   \n",
       "2  Checks amount of memory in system, this can be used to detect virtual machines that have a low amount of memory available   \n",
       "\n",
       "   severity  markcount  \n",
       "0       1.0        2.0  \n",
       "1       1.0        3.0  \n",
       "2       1.0        1.0  "
      ]
     },
     "execution_count": 30,
     "metadata": {},
     "output_type": "execute_result"
    }
   ],
   "source": [
    "behaviours = pd.read_csv(path_Behaviours, low_memory = False)\n",
    "behaviours.head(3)"
   ]
  },
  {
   "cell_type": "code",
   "execution_count": 31,
   "id": "7146b4f3",
   "metadata": {},
   "outputs": [
    {
     "name": "stdout",
     "output_type": "stream",
     "text": [
      "Duplicates:  False\n",
      "# not null values:  307733\n",
      "# null values:  7036\n",
      "# values:  314769\n",
      "# missings:  7036\n"
     ]
    }
   ],
   "source": [
    "print(\"Duplicates: \",behaviours.duplicated().any())\n",
    "#total number of not null values\n",
    "not_null_values = behaviours.count().sum()\n",
    "print(\"# not null values: \",not_null_values)\n",
    "#total number of null values\n",
    "null_values = behaviours.isnull().sum().sum()\n",
    "print(\"# null values: \",null_values)\n",
    "#total number of cells\n",
    "n_values = behaviours.shape[0]*behaviours.shape[1]\n",
    "print(\"# values: \",n_values)\n",
    "#we added to the set of missing values also 'na' and '--'\n",
    "missing_values = ['na','--', 'NaN', 'None', '']\n",
    "ds_property_nan = pd.read_csv(path_Behaviours, na_values = missing_values)\n",
    "print(\"# missings: \",ds_property_nan.isnull().sum().sum())"
   ]
  },
  {
   "cell_type": "code",
   "execution_count": 32,
   "id": "3e06d5b5",
   "metadata": {},
   "outputs": [
    {
     "name": "stdout",
     "output_type": "stream",
     "text": [
      "Completeness:  97.8%\n"
     ]
    }
   ],
   "source": [
    "#COMPLETENESS evaluation\n",
    "completeness = not_null_values / n_values\n",
    "completeness = '{0:.1f}%'.format(completeness*100)\n",
    "print(\"Completeness: \",completeness)"
   ]
  },
  {
   "cell_type": "code",
   "execution_count": 33,
   "id": "6178349b",
   "metadata": {},
   "outputs": [
    {
     "name": "stdout",
     "output_type": "stream",
     "text": [
      "Completeness for 'sha1': 100.00%\n",
      "Completeness for 'sha256': 100.00%\n",
      "Completeness for 'md5': 100.00%\n",
      "Completeness for 'name': 100.00%\n",
      "Completeness for 'description': 100.00%\n",
      "Completeness for 'severity': 100.00%\n",
      "Completeness for 'markcount': 84.35%\n"
     ]
    }
   ],
   "source": [
    "completeness = 1 - behaviours['sha1'].isna().mean()\n",
    "\n",
    "# Print the completeness percentage\n",
    "print(f\"Completeness for 'sha1': {completeness * 100:.2f}%\")\n",
    "\n",
    "completeness = 1 - behaviours['sha256'].isna().mean()\n",
    "\n",
    "# Print the completeness percentage\n",
    "print(f\"Completeness for 'sha256': {completeness * 100:.2f}%\")\n",
    "\n",
    "completeness = 1 - behaviours['md5'].isna().mean()\n",
    "\n",
    "# Print the completeness percentage\n",
    "print(f\"Completeness for 'md5': {completeness * 100:.2f}%\")\n",
    "\n",
    "completeness = 1 - behaviours['name'].isna().mean()\n",
    "\n",
    "# Print the completeness percentage\n",
    "print(f\"Completeness for 'name': {completeness * 100:.2f}%\")\n",
    "\n",
    "completeness = 1 - behaviours['description'].isna().mean()\n",
    "\n",
    "# Print the completeness percentage\n",
    "print(f\"Completeness for 'description': {completeness * 100:.2f}%\")\n",
    "\n",
    "completeness = 1 - behaviours['severity'].isna().mean()\n",
    "\n",
    "# Print the completeness percentage\n",
    "print(f\"Completeness for 'severity': {completeness * 100:.2f}%\")\n",
    "\n",
    "completeness = 1 - behaviours['markcount'].isna().mean()\n",
    "\n",
    "# Print the completeness percentage\n",
    "print(f\"Completeness for 'markcount': {completeness * 100:.2f}%\")"
   ]
  },
  {
   "cell_type": "code",
   "execution_count": 34,
   "id": "b40afa8e",
   "metadata": {},
   "outputs": [
    {
     "data": {
      "application/vnd.jupyter.widget-view+json": {
       "model_id": "2dffe6cc41b24ea5806073bdbafd4ce5",
       "version_major": 2,
       "version_minor": 0
      },
      "text/plain": [
       "Summarize dataset:   0%|          | 0/5 [00:00<?, ?it/s]"
      ]
     },
     "metadata": {},
     "output_type": "display_data"
    },
    {
     "data": {
      "application/vnd.jupyter.widget-view+json": {
       "model_id": "eacf02e9c8f446e18f6e265566cb05cc",
       "version_major": 2,
       "version_minor": 0
      },
      "text/plain": [
       "Generate report structure:   0%|          | 0/1 [00:00<?, ?it/s]"
      ]
     },
     "metadata": {},
     "output_type": "display_data"
    },
    {
     "data": {
      "application/vnd.jupyter.widget-view+json": {
       "model_id": "dc00493c88b049b8a9a66b02d6ed1fee",
       "version_major": 2,
       "version_minor": 0
      },
      "text/plain": [
       "Render HTML:   0%|          | 0/1 [00:00<?, ?it/s]"
      ]
     },
     "metadata": {},
     "output_type": "display_data"
    },
    {
     "data": {
      "application/vnd.jupyter.widget-view+json": {
       "model_id": "6e7bc14c67474deda3f8e554473be454",
       "version_major": 2,
       "version_minor": 0
      },
      "text/plain": [
       "Export report to file:   0%|          | 0/1 [00:00<?, ?it/s]"
      ]
     },
     "metadata": {},
     "output_type": "display_data"
    },
    {
     "data": {
      "application/vnd.jupyter.widget-view+json": {
       "model_id": "66ad9711de1e4723880b0165685136a7",
       "version_major": 2,
       "version_minor": 0
      },
      "text/plain": [
       "Render JSON:   0%|          | 0/1 [00:00<?, ?it/s]"
      ]
     },
     "metadata": {},
     "output_type": "display_data"
    },
    {
     "data": {
      "application/vnd.jupyter.widget-view+json": {
       "model_id": "3f6133e775bf4b479bf3ea638628f9e7",
       "version_major": 2,
       "version_minor": 0
      },
      "text/plain": [
       "Export report to file:   0%|          | 0/1 [00:00<?, ?it/s]"
      ]
     },
     "metadata": {},
     "output_type": "display_data"
    }
   ],
   "source": [
    "profile = ProfileReport(behaviours, title=\"OTX Alien Vault - Hash Analysis - Behaviours Report\")\n",
    "profile.to_file(\"C:\\\\Users\\\\leona\\\\OneDrive\\\\Desktop\\\\Tesi\\\\Pipeline\\\\Report\\\\Profiling step 15\\\\OTX_Alien_Vault\\\\OTXAlienVault_BehavioursReport.html\")\n",
    "\n",
    "# As a JSON string\n",
    "json_data = profile.to_json()\n",
    "\n",
    "# As a file\n",
    "profile.to_file(\"C:\\\\Users\\\\leona\\\\OneDrive\\\\Desktop\\\\Tesi\\\\Pipeline\\\\Report\\\\Profiling step 15\\\\OTX_Alien_Vault\\\\OTXAlienVault_BehavioursReport.json\")"
   ]
  },
  {
   "cell_type": "markdown",
   "id": "dcc38fc9",
   "metadata": {},
   "source": [
    "### Data Profiling - THREAT_VENDOR_ANALYSIS"
   ]
  },
  {
   "cell_type": "code",
   "execution_count": 35,
   "id": "771aaed7",
   "metadata": {},
   "outputs": [],
   "source": [
    "path_TV_Analysis = r\"C:\\\\Users\\\\leona\\\\OneDrive\\\\Desktop\\\\Tesi\\\\Pipeline\\\\Datasets\\\\Pipeline\\\\DataAnalysis\\\\otx_alien_vault\\\\TV_Analysis.csv\""
   ]
  },
  {
   "cell_type": "code",
   "execution_count": 36,
   "id": "18a20c36",
   "metadata": {
    "scrolled": false
   },
   "outputs": [
    {
     "data": {
      "text/html": [
       "<div>\n",
       "<style scoped>\n",
       "    .dataframe tbody tr th:only-of-type {\n",
       "        vertical-align: middle;\n",
       "    }\n",
       "\n",
       "    .dataframe tbody tr th {\n",
       "        vertical-align: top;\n",
       "    }\n",
       "\n",
       "    .dataframe thead th {\n",
       "        text-align: right;\n",
       "    }\n",
       "</style>\n",
       "<table border=\"1\" class=\"dataframe\">\n",
       "  <thead>\n",
       "    <tr style=\"text-align: right;\">\n",
       "      <th></th>\n",
       "      <th>sha1</th>\n",
       "      <th>sha256</th>\n",
       "      <th>md5</th>\n",
       "      <th>malware</th>\n",
       "      <th>verdict</th>\n",
       "      <th>threat_vendor_name</th>\n",
       "    </tr>\n",
       "  </thead>\n",
       "  <tbody>\n",
       "    <tr>\n",
       "      <th>0</th>\n",
       "      <td>b701b181de8e595225668cb65d5b975e5b300a39</td>\n",
       "      <td>58edde581177c6f96caa4da4cd73396afee160b9152692a664b28aa67dd0d100</td>\n",
       "      <td>d6cda532ce834b973d5292e05e1d6c38</td>\n",
       "      <td>Win32:PWSX-gen\\ [Trj]</td>\n",
       "      <td>['Malware infection']</td>\n",
       "      <td>avast</td>\n",
       "    </tr>\n",
       "    <tr>\n",
       "      <th>1</th>\n",
       "      <td>713a00b13a87c52b43404cd32d0f4645844709d9</td>\n",
       "      <td>3b96a384f9989f28315eb374eae991e70ed07b88665cbf831f24bd574502feac</td>\n",
       "      <td>97ad0714b0245825407dd25d7d168d31</td>\n",
       "      <td>Win32:Malware-gen</td>\n",
       "      <td>['Malware infection']</td>\n",
       "      <td>avast</td>\n",
       "    </tr>\n",
       "    <tr>\n",
       "      <th>2</th>\n",
       "      <td>e900de5aea86567fadc7507a6811596eb4b86a14</td>\n",
       "      <td>3363270a2950c8518e7883ea147b3f947b3a96aa31d37a990c73f975946335ce</td>\n",
       "      <td>e076afd88fe6a708d91a3f771754e860</td>\n",
       "      <td>Win32:BackdoorX-gen\\ [Trj]</td>\n",
       "      <td>['Malware infection']</td>\n",
       "      <td>avast</td>\n",
       "    </tr>\n",
       "  </tbody>\n",
       "</table>\n",
       "</div>"
      ],
      "text/plain": [
       "                                       sha1  \\\n",
       "0  b701b181de8e595225668cb65d5b975e5b300a39   \n",
       "1  713a00b13a87c52b43404cd32d0f4645844709d9   \n",
       "2  e900de5aea86567fadc7507a6811596eb4b86a14   \n",
       "\n",
       "                                                             sha256  \\\n",
       "0  58edde581177c6f96caa4da4cd73396afee160b9152692a664b28aa67dd0d100   \n",
       "1  3b96a384f9989f28315eb374eae991e70ed07b88665cbf831f24bd574502feac   \n",
       "2  3363270a2950c8518e7883ea147b3f947b3a96aa31d37a990c73f975946335ce   \n",
       "\n",
       "                                md5                     malware  \\\n",
       "0  d6cda532ce834b973d5292e05e1d6c38       Win32:PWSX-gen\\ [Trj]   \n",
       "1  97ad0714b0245825407dd25d7d168d31           Win32:Malware-gen   \n",
       "2  e076afd88fe6a708d91a3f771754e860  Win32:BackdoorX-gen\\ [Trj]   \n",
       "\n",
       "                 verdict threat_vendor_name  \n",
       "0  ['Malware infection']              avast  \n",
       "1  ['Malware infection']              avast  \n",
       "2  ['Malware infection']              avast  "
      ]
     },
     "execution_count": 36,
     "metadata": {},
     "output_type": "execute_result"
    }
   ],
   "source": [
    "tv_analysis = pd.read_csv(path_TV_Analysis, low_memory = False)\n",
    "tv_analysis.head(3)"
   ]
  },
  {
   "cell_type": "code",
   "execution_count": 37,
   "id": "5711a6a2",
   "metadata": {},
   "outputs": [
    {
     "name": "stdout",
     "output_type": "stream",
     "text": [
      "Duplicates:  True\n",
      "# not null values:  39059\n",
      "# null values:  8785\n",
      "# values:  47844\n",
      "# missings:  8785\n",
      "Completeness:  81.6%\n"
     ]
    }
   ],
   "source": [
    "print(\"Duplicates: \",tv_analysis.duplicated().any())\n",
    "#total number of not null values\n",
    "not_null_values = tv_analysis.count().sum()\n",
    "print(\"# not null values: \",not_null_values)\n",
    "#total number of null values\n",
    "null_values = tv_analysis.isnull().sum().sum()\n",
    "print(\"# null values: \",null_values)\n",
    "#total number of cells\n",
    "n_values = tv_analysis.shape[0]*tv_analysis.shape[1]\n",
    "print(\"# values: \",n_values)\n",
    "#we added to the set of missing values also 'na' and '--'\n",
    "missing_values = ['na','--', 'NaN', 'None', '']\n",
    "ds_property_nan = pd.read_csv(path_TV_Analysis, na_values = missing_values)\n",
    "print(\"# missings: \",ds_property_nan.isnull().sum().sum())\n",
    "\n",
    "#COMPLETENESS evaluation\n",
    "completeness = not_null_values / n_values\n",
    "completeness = '{0:.1f}%'.format(completeness*100)\n",
    "print(\"Completeness: \",completeness)"
   ]
  },
  {
   "cell_type": "code",
   "execution_count": 38,
   "id": "826855a1",
   "metadata": {},
   "outputs": [
    {
     "name": "stdout",
     "output_type": "stream",
     "text": [
      "Completeness:  81.6%\n"
     ]
    }
   ],
   "source": [
    "#COMPLETENESS evaluation\n",
    "completeness = not_null_values / n_values\n",
    "completeness = '{0:.1f}%'.format(completeness*100)\n",
    "print(\"Completeness: \",completeness)"
   ]
  },
  {
   "cell_type": "code",
   "execution_count": 39,
   "id": "71d6c944",
   "metadata": {},
   "outputs": [
    {
     "name": "stdout",
     "output_type": "stream",
     "text": [
      "Completeness for 'sha1': 99.55%\n",
      "Completeness for 'sha256': 99.55%\n",
      "Completeness for 'md5': 99.55%\n",
      "Completeness for 'malware': 35.15%\n",
      "Completeness for 'verdict': 56.03%\n",
      "Completeness for 'threat_vendor_name': 100.00%\n"
     ]
    }
   ],
   "source": [
    "completeness = 1 - tv_analysis['sha1'].isna().mean()\n",
    "\n",
    "# Print the completeness percentage\n",
    "print(f\"Completeness for 'sha1': {completeness * 100:.2f}%\")\n",
    "\n",
    "completeness = 1 - tv_analysis['sha256'].isna().mean()\n",
    "\n",
    "# Print the completeness percentage\n",
    "print(f\"Completeness for 'sha256': {completeness * 100:.2f}%\")\n",
    "\n",
    "completeness = 1 - tv_analysis['md5'].isna().mean()\n",
    "\n",
    "# Print the completeness percentage\n",
    "print(f\"Completeness for 'md5': {completeness * 100:.2f}%\")\n",
    "\n",
    "completeness = 1 - tv_analysis['malware'].isna().mean()\n",
    "\n",
    "# Print the completeness percentage\n",
    "print(f\"Completeness for 'malware': {completeness * 100:.2f}%\")\n",
    "\n",
    "completeness = 1 - tv_analysis['verdict'].isna().mean()\n",
    "\n",
    "# Print the completeness percentage\n",
    "print(f\"Completeness for 'verdict': {completeness * 100:.2f}%\")\n",
    "\n",
    "completeness = 1 - tv_analysis['threat_vendor_name'].isna().mean()\n",
    "\n",
    "# Print the completeness percentage\n",
    "print(f\"Completeness for 'threat_vendor_name': {completeness * 100:.2f}%\")"
   ]
  },
  {
   "cell_type": "code",
   "execution_count": 40,
   "id": "58f0a5fe",
   "metadata": {},
   "outputs": [
    {
     "data": {
      "application/vnd.jupyter.widget-view+json": {
       "model_id": "dc4d44aa85364703a4ba1f4a964dc1a5",
       "version_major": 2,
       "version_minor": 0
      },
      "text/plain": [
       "Summarize dataset:   0%|          | 0/5 [00:00<?, ?it/s]"
      ]
     },
     "metadata": {},
     "output_type": "display_data"
    },
    {
     "data": {
      "application/vnd.jupyter.widget-view+json": {
       "model_id": "cb24e4b5dfc74a088615804d4f097422",
       "version_major": 2,
       "version_minor": 0
      },
      "text/plain": [
       "Generate report structure:   0%|          | 0/1 [00:00<?, ?it/s]"
      ]
     },
     "metadata": {},
     "output_type": "display_data"
    },
    {
     "data": {
      "application/vnd.jupyter.widget-view+json": {
       "model_id": "74e57335d17947a9ac3183d5ed57381b",
       "version_major": 2,
       "version_minor": 0
      },
      "text/plain": [
       "Render HTML:   0%|          | 0/1 [00:00<?, ?it/s]"
      ]
     },
     "metadata": {},
     "output_type": "display_data"
    },
    {
     "data": {
      "application/vnd.jupyter.widget-view+json": {
       "model_id": "c99a0df1ffbf4299894307a183d0211a",
       "version_major": 2,
       "version_minor": 0
      },
      "text/plain": [
       "Export report to file:   0%|          | 0/1 [00:00<?, ?it/s]"
      ]
     },
     "metadata": {},
     "output_type": "display_data"
    },
    {
     "data": {
      "application/vnd.jupyter.widget-view+json": {
       "model_id": "b76c166d656947c6b8442a3d677f1e2b",
       "version_major": 2,
       "version_minor": 0
      },
      "text/plain": [
       "Render JSON:   0%|          | 0/1 [00:00<?, ?it/s]"
      ]
     },
     "metadata": {},
     "output_type": "display_data"
    },
    {
     "data": {
      "application/vnd.jupyter.widget-view+json": {
       "model_id": "c7edbcef9934409f912b71d4af2e88e5",
       "version_major": 2,
       "version_minor": 0
      },
      "text/plain": [
       "Export report to file:   0%|          | 0/1 [00:00<?, ?it/s]"
      ]
     },
     "metadata": {},
     "output_type": "display_data"
    }
   ],
   "source": [
    "profile = ProfileReport(tv_analysis, title=\"OTX Alien Vault - Hash Analysis - Threat Vendor Analysis Report\")\n",
    "profile.to_file(\"C:\\\\Users\\\\leona\\\\OneDrive\\\\Desktop\\\\Tesi\\\\Pipeline\\\\Report\\\\Profiling step 15\\\\OTX_Alien_Vault\\\\OTXAlienVault_ThreatVendorAnalysisReport.html\")\n",
    "\n",
    "# As a JSON string\n",
    "json_data = profile.to_json()\n",
    "\n",
    "# As a file\n",
    "profile.to_file(\"C:\\\\Users\\\\leona\\\\OneDrive\\\\Desktop\\\\Tesi\\\\Pipeline\\\\Report\\\\Profiling step 15\\\\OTX_Alien_Vault\\\\OTXAlienVault_ThreatVendorAnalysisReport.json\")"
   ]
  },
  {
   "cell_type": "code",
   "execution_count": null,
   "id": "70bddad7",
   "metadata": {},
   "outputs": [],
   "source": []
  }
 ],
 "metadata": {
  "kernelspec": {
   "display_name": "Python 3 (ipykernel)",
   "language": "python",
   "name": "python3"
  },
  "language_info": {
   "codemirror_mode": {
    "name": "ipython",
    "version": 3
   },
   "file_extension": ".py",
   "mimetype": "text/x-python",
   "name": "python",
   "nbconvert_exporter": "python",
   "pygments_lexer": "ipython3",
   "version": "3.11.5"
  }
 },
 "nbformat": 4,
 "nbformat_minor": 5
}
