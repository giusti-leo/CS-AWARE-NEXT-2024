{
 "cells": [
  {
   "cell_type": "code",
   "execution_count": 1,
   "id": "dcb3095b",
   "metadata": {},
   "outputs": [],
   "source": [
    "import os\n",
    "import time\n",
    "import pandas as pd \n",
    "import requests\n",
    "import urllib3\n",
    "import json\n",
    "import sys\n",
    "import numpy as np\n",
    "import pandas as pd\n",
    "from pathlib import Path\n",
    "from datetime import datetime, timedelta"
   ]
  },
  {
   "cell_type": "code",
   "execution_count": 2,
   "id": "5222ef90",
   "metadata": {},
   "outputs": [
    {
     "name": "stdout",
     "output_type": "stream",
     "text": [
      "Requirement already satisfied: nltk in c:\\users\\leona\\anaconda3\\lib\\site-packages (3.8.1)\n",
      "Requirement already satisfied: click in c:\\users\\leona\\anaconda3\\lib\\site-packages (from nltk) (8.0.4)\n",
      "Requirement already satisfied: joblib in c:\\users\\leona\\anaconda3\\lib\\site-packages (from nltk) (1.1.1)\n",
      "Requirement already satisfied: regex>=2021.8.3 in c:\\users\\leona\\anaconda3\\lib\\site-packages (from nltk) (2022.7.9)\n",
      "Requirement already satisfied: tqdm in c:\\users\\leona\\anaconda3\\lib\\site-packages (from nltk) (4.65.0)\n",
      "Requirement already satisfied: colorama in c:\\users\\leona\\anaconda3\\lib\\site-packages (from click->nltk) (0.4.6)\n",
      "Note: you may need to restart the kernel to use updated packages.\n"
     ]
    }
   ],
   "source": [
    "pip install nltk"
   ]
  },
  {
   "cell_type": "code",
   "execution_count": 3,
   "id": "ad1729c7",
   "metadata": {},
   "outputs": [],
   "source": [
    "import nltk"
   ]
  },
  {
   "cell_type": "code",
   "execution_count": 4,
   "id": "8eb93b1b",
   "metadata": {},
   "outputs": [],
   "source": [
    "pd.options.display.max_colwidth = 1000\n",
    "pd.set_option('display.max_columns', None)"
   ]
  },
  {
   "cell_type": "code",
   "execution_count": 5,
   "id": "f5042c66",
   "metadata": {},
   "outputs": [
    {
     "name": "stderr",
     "output_type": "stream",
     "text": [
      "[nltk_data] Downloading package wordnet to\n",
      "[nltk_data]     C:\\Users\\leona\\AppData\\Roaming\\nltk_data...\n",
      "[nltk_data]   Package wordnet is already up-to-date!\n"
     ]
    },
    {
     "data": {
      "text/plain": [
       "True"
      ]
     },
     "execution_count": 5,
     "metadata": {},
     "output_type": "execute_result"
    }
   ],
   "source": [
    "\n",
    "nltk.download('wordnet')"
   ]
  },
  {
   "cell_type": "code",
   "execution_count": 6,
   "id": "86a8e902",
   "metadata": {},
   "outputs": [
    {
     "name": "stdout",
     "output_type": "stream",
     "text": [
      "0    True\n",
      "1    True\n",
      "2    True\n",
      "Name: match, dtype: bool\n"
     ]
    },
    {
     "name": "stderr",
     "output_type": "stream",
     "text": [
      "[nltk_data] Downloading package punkt to\n",
      "[nltk_data]     C:\\Users\\leona\\AppData\\Roaming\\nltk_data...\n",
      "[nltk_data]   Package punkt is already up-to-date!\n",
      "[nltk_data] Downloading package stopwords to\n",
      "[nltk_data]     C:\\Users\\leona\\AppData\\Roaming\\nltk_data...\n",
      "[nltk_data]   Package stopwords is already up-to-date!\n"
     ]
    }
   ],
   "source": [
    "import pandas as pd\n",
    "from nltk.stem import PorterStemmer\n",
    "from nltk.tokenize import word_tokenize\n",
    "from nltk.corpus import stopwords\n",
    "import nltk\n",
    "nltk.download('punkt')\n",
    "nltk.download('stopwords')\n",
    "\n",
    "def stemming_and_matching(df_A, df_B):\n",
    "    # Inizializzazione del PorterStemmer\n",
    "    stemmer = PorterStemmer()\n",
    "\n",
    "    # Funzione per eseguire stemming e lemmatization su una riga di testo\n",
    "    def process_text(text):\n",
    "        # Tokenizzazione\n",
    "        tokens = word_tokenize(text.lower())\n",
    "        # Rimozione delle stop words\n",
    "        stop_words = set(stopwords.words('english'))\n",
    "        filtered_tokens = [token for token in tokens if token.isalnum() and token not in stop_words]\n",
    "        # Stemming\n",
    "        stemmed_tokens = [stemmer.stem(token) for token in filtered_tokens]\n",
    "        return stemmed_tokens\n",
    "\n",
    "    # Applicare la funzione a ciascuna riga dei dataframe A e B\n",
    "    df_A['lemmatized_tokens'] = df_A['testo'].apply(process_text)\n",
    "    df_B['lemmatized_tokens'] = df_B['testo'].apply(process_text)\n",
    "\n",
    "    # Verificare la corrispondenza\n",
    "    def check_match(row):\n",
    "        return all(token in row['lemmatized_tokens'] for token in df_B.loc[row.name, 'lemmatized_tokens'])\n",
    "\n",
    "    # Applicare la funzione di verifica alla riga di ciascun dataframe B\n",
    "    df_B['match'] = df_B.apply(check_match, axis=1)\n",
    "\n",
    "    return df_B['match']\n",
    "\n",
    "# Esempio di utilizzo\n",
    "data_A = {'testo': [\"La casa è grande.\", \"Il cane corre veloce.\", \"Gli uccelli volano alto.\"]}\n",
    "data_B = {'testo': [\"La casa grande\", \"Il cane veloce\", \"uccelli alti\"]}\n",
    "df_A = pd.DataFrame(data_A)\n",
    "df_B = pd.DataFrame(data_B)\n",
    "\n",
    "risultato = stemming_and_matching(df_A, df_B)\n",
    "print(risultato)\n"
   ]
  },
  {
   "cell_type": "markdown",
   "id": "f82a2dff",
   "metadata": {},
   "source": [
    "### Reddit posts"
   ]
  },
  {
   "cell_type": "code",
   "execution_count": 7,
   "id": "df7e9509",
   "metadata": {},
   "outputs": [],
   "source": [
    "file_reddit = r'C:\\Users\\leona\\OneDrive\\Desktop\\Tesi\\Pipeline\\Datasets\\Pipeline\\SocialNetworksPosts\\Reddit\\RedditPosts.csv'"
   ]
  },
  {
   "cell_type": "code",
   "execution_count": 8,
   "id": "a070364e",
   "metadata": {
    "scrolled": true
   },
   "outputs": [
    {
     "data": {
      "text/html": [
       "<div>\n",
       "<style scoped>\n",
       "    .dataframe tbody tr th:only-of-type {\n",
       "        vertical-align: middle;\n",
       "    }\n",
       "\n",
       "    .dataframe tbody tr th {\n",
       "        vertical-align: top;\n",
       "    }\n",
       "\n",
       "    .dataframe thead th {\n",
       "        text-align: right;\n",
       "    }\n",
       "</style>\n",
       "<table border=\"1\" class=\"dataframe\">\n",
       "  <thead>\n",
       "    <tr style=\"text-align: right;\">\n",
       "      <th></th>\n",
       "      <th>subreddit</th>\n",
       "      <th>username</th>\n",
       "      <th>date</th>\n",
       "      <th>title</th>\n",
       "      <th>text</th>\n",
       "    </tr>\n",
       "  </thead>\n",
       "  <tbody>\n",
       "    <tr>\n",
       "      <th>0</th>\n",
       "      <td>netsec</td>\n",
       "      <td>t3_18i5ups</td>\n",
       "      <td>2023-12-14 11:36:39</td>\n",
       "      <td>Nim implementation of Old Dll Unlinking Technique</td>\n",
       "      <td>NaN</td>\n",
       "    </tr>\n",
       "    <tr>\n",
       "      <th>1</th>\n",
       "      <td>cybersecurity</td>\n",
       "      <td>t3_18i5v5x</td>\n",
       "      <td>2023-12-14 11:37:34</td>\n",
       "      <td>How to prevent employees from using unauthorized web tools?</td>\n",
       "      <td>I work as an IT manager for a business. Some time ago, a group of my colleagues decided to use a web productivity tool, created accounts using their work emails, and started introducing data.\\n\\nI had no knowledge they had been using such a tool at all. I did not even know it existed.\\n\\nToday, I received an email from my boss asking why an ex-employee still had access to the data in such a web platform, as their account hadn't been deactivated. Needless to say, I don't have access to revoke their account or anything.\\n\\nHow can I prevent them from registering on another unauthorized webpage?\\n\\nI feel like a firewall blacklist would be useless since I would have to be constantly researching and updating it with new tools, and I can't make a whitelist since my company uses a ton of different pages for intense web research.\\n\\nAny help or advice would be appreciated.\\n\\n&amp;#x200B;</td>\n",
       "    </tr>\n",
       "    <tr>\n",
       "      <th>2</th>\n",
       "      <td>MacOS</td>\n",
       "      <td>t3_18i5kyd</td>\n",
       "      <td>2023-12-14 11:17:47</td>\n",
       "      <td>Teams call pop up window blocked by reminders/calendar entries on top right corner</td>\n",
       "      <td>Hi\\n\\nDo you know this issue that when I have reminders or calendar alarms set to stick to the top right corner, that they then block the notification window for incoming Teams calls.\\n\\nDoes someone know if there is a setting for having the teams call pop up in on another location on the screen or knows another work around?</td>\n",
       "    </tr>\n",
       "    <tr>\n",
       "      <th>3</th>\n",
       "      <td>MacOS</td>\n",
       "      <td>t3_18i5koq</td>\n",
       "      <td>2023-12-14 11:17:16</td>\n",
       "      <td>Disable middle mouse button drag to other desktop</td>\n",
       "      <td>So I have been using windows for a while and now I am stumped. The middle mouse button of my logi mouse has the following functionailty: On drage change desktop, on click show all windows. That's nice and all, but I can't use fusion 360 because the dragging functionality is the middle mouse button but that just changes the desktop. How can I disable that?\\n\\n&amp;#x200B;\\n\\nSo I found this, but there is no button selected. If I select the secondary mouse button for example, it will open mission control on both right click and middle mouse button:\\n\\nhttps://preview.redd.it/bmqnrpw0m86c1.png?width=476&amp;format=png&amp;auto=webp&amp;s=97ae662fcca43bf146537393fc6a13705a0a9351\\n\\n&amp;#x200B;</td>\n",
       "    </tr>\n",
       "    <tr>\n",
       "      <th>4</th>\n",
       "      <td>windows</td>\n",
       "      <td>t3_18i5gqv</td>\n",
       "      <td>2023-12-14 11:09:52</td>\n",
       "      <td>Playing 4k videos on 2k display</td>\n",
       "      <td>Hello guys does playing 4k content on a 2k display has any benefit? For example while playing YouTube videos I set 1440p resolution on my 2k laptop and 2k smartphone despite having a option of selecting 2160p option. So i wanted to ask if i get better video quality if i select 2160p option while playing on a 2k display?</td>\n",
       "    </tr>\n",
       "    <tr>\n",
       "      <th>...</th>\n",
       "      <td>...</td>\n",
       "      <td>...</td>\n",
       "      <td>...</td>\n",
       "      <td>...</td>\n",
       "      <td>...</td>\n",
       "    </tr>\n",
       "    <tr>\n",
       "      <th>387066</th>\n",
       "      <td>pcmasterrace</td>\n",
       "      <td>t3_1006rmg</td>\n",
       "      <td>2023-01-01 00:41:37</td>\n",
       "      <td>Build Almost Done</td>\n",
       "      <td>Is this a good build? Any recommendations?\\n\\nBUILD - https://pcpartpicker.com/list/FL6hwc</td>\n",
       "    </tr>\n",
       "    <tr>\n",
       "      <th>387067</th>\n",
       "      <td>pcmasterrace</td>\n",
       "      <td>t3_1006qur</td>\n",
       "      <td>2023-01-01 00:40:30</td>\n",
       "      <td>problem arming pc, I have a Mother a320m-k, ryzen 4650g, and doesnt work the video, the motherboard have Orange leds. Its my first time arming</td>\n",
       "      <td>NaN</td>\n",
       "    </tr>\n",
       "    <tr>\n",
       "      <th>387068</th>\n",
       "      <td>pcmasterrace</td>\n",
       "      <td>t3_1006pzy</td>\n",
       "      <td>2023-01-01 00:39:17</td>\n",
       "      <td>PCMR Truckers</td>\n",
       "      <td>Those that bring their rigs with them in the truck: \\n\\nHow does the computer fare? \\nIs there any orientation it works better with when you go through the areas with poor maintenance? \\nAnd lastly: if you liquid cool, have you noticed any issues over time?\\n\\nI'm building a new rig here soon and am curious if anything is to note so I don't make a large $$$$ mistake</td>\n",
       "    </tr>\n",
       "    <tr>\n",
       "      <th>387069</th>\n",
       "      <td>pcmasterrace</td>\n",
       "      <td>t3_1006orx</td>\n",
       "      <td>2023-01-01 00:37:29</td>\n",
       "      <td>New case for Christmas, also spray painted my GPU to match</td>\n",
       "      <td>Got the Hyte y60 as a gift, what a great case to build in. Running a 5600x with a 3080. The tree probably blocks some airflow but I'll take that tradeoff.</td>\n",
       "    </tr>\n",
       "    <tr>\n",
       "      <th>387070</th>\n",
       "      <td>linuxquestions</td>\n",
       "      <td>t3_1006n20</td>\n",
       "      <td>2023-01-01 00:34:59</td>\n",
       "      <td>Ignore \"not enough space to copy these file\" errors in KDE Plasma/Dolphin?</td>\n",
       "      <td>When copying files with Dolphin (KDE Plasma's file manager), if there is not enough free space to copy the incoming files entirely, the file manager refuses to copy even a single file. However, a lot of the time I'll be skipping name conflicts or overwriting existing files with new ones, so either I don't need as much space than it seems to the system, or space is freed up as I copy. Also, KDE seems to have trouble accurately determining the free space on drives on a network file server that I have mounted with SSHFS, so it will say there is not enough space even when there is. \\n\\nIs there a way to get Dolphin to ignore this error and attempt to copy the files anyway? Like the way the cp command does it, where it doesn't really care how much space is on the drive, and will only throw an error if it actually fills up before it's done copying. Or better yet, is there a way to get Dolphin to still warn me about potential space issues, but have the option to ignore it and attempt to c...</td>\n",
       "    </tr>\n",
       "  </tbody>\n",
       "</table>\n",
       "<p>387071 rows × 5 columns</p>\n",
       "</div>"
      ],
      "text/plain": [
       "             subreddit    username                 date  \\\n",
       "0               netsec  t3_18i5ups  2023-12-14 11:36:39   \n",
       "1        cybersecurity  t3_18i5v5x  2023-12-14 11:37:34   \n",
       "2                MacOS  t3_18i5kyd  2023-12-14 11:17:47   \n",
       "3                MacOS  t3_18i5koq  2023-12-14 11:17:16   \n",
       "4              windows  t3_18i5gqv  2023-12-14 11:09:52   \n",
       "...                ...         ...                  ...   \n",
       "387066    pcmasterrace  t3_1006rmg  2023-01-01 00:41:37   \n",
       "387067    pcmasterrace  t3_1006qur  2023-01-01 00:40:30   \n",
       "387068    pcmasterrace  t3_1006pzy  2023-01-01 00:39:17   \n",
       "387069    pcmasterrace  t3_1006orx  2023-01-01 00:37:29   \n",
       "387070  linuxquestions  t3_1006n20  2023-01-01 00:34:59   \n",
       "\n",
       "                                                                                                                                                 title  \\\n",
       "0                                                                                                    Nim implementation of Old Dll Unlinking Technique   \n",
       "1                                                                                          How to prevent employees from using unauthorized web tools?   \n",
       "2                                                                   Teams call pop up window blocked by reminders/calendar entries on top right corner   \n",
       "3                                                                                                    Disable middle mouse button drag to other desktop   \n",
       "4                                                                                                                      Playing 4k videos on 2k display   \n",
       "...                                                                                                                                                ...   \n",
       "387066                                                                                                                               Build Almost Done   \n",
       "387067  problem arming pc, I have a Mother a320m-k, ryzen 4650g, and doesnt work the video, the motherboard have Orange leds. Its my first time arming   \n",
       "387068                                                                                                                                   PCMR Truckers   \n",
       "387069                                                                                      New case for Christmas, also spray painted my GPU to match   \n",
       "387070                                                                      Ignore \"not enough space to copy these file\" errors in KDE Plasma/Dolphin?   \n",
       "\n",
       "                                                                                                                                                                                                                                                                                                                                                                                                                                                                                                                                                                                                                                                                                                                                                                                                                                                                                                                                                                                                                                           text  \n",
       "0                                                                                                                                                                                                                                                                                                                                                                                                                                                                                                                                                                                                                                                                                                                                                                                                                                                                                                                                                                                                                                           NaN  \n",
       "1                                                                                                                    I work as an IT manager for a business. Some time ago, a group of my colleagues decided to use a web productivity tool, created accounts using their work emails, and started introducing data.\\n\\nI had no knowledge they had been using such a tool at all. I did not even know it existed.\\n\\nToday, I received an email from my boss asking why an ex-employee still had access to the data in such a web platform, as their account hadn't been deactivated. Needless to say, I don't have access to revoke their account or anything.\\n\\nHow can I prevent them from registering on another unauthorized webpage?\\n\\nI feel like a firewall blacklist would be useless since I would have to be constantly researching and updating it with new tools, and I can't make a whitelist since my company uses a ton of different pages for intense web research.\\n\\nAny help or advice would be appreciated.\\n\\n&#x200B;  \n",
       "2                                                                                                                                                                                                                                                                                                                                                                                                                                                                                                                                                                                                                                                                                                        Hi\\n\\nDo you know this issue that when I have reminders or calendar alarms set to stick to the top right corner, that they then block the notification window for incoming Teams calls.\\n\\nDoes someone know if there is a setting for having the teams call pop up in on another location on the screen or knows another work around?  \n",
       "3                                                                                                                                                                                                                                                                                                                                       So I have been using windows for a while and now I am stumped. The middle mouse button of my logi mouse has the following functionailty: On drage change desktop, on click show all windows. That's nice and all, but I can't use fusion 360 because the dragging functionality is the middle mouse button but that just changes the desktop. How can I disable that?\\n\\n&#x200B;\\n\\nSo I found this, but there is no button selected. If I select the secondary mouse button for example, it will open mission control on both right click and middle mouse button:\\n\\nhttps://preview.redd.it/bmqnrpw0m86c1.png?width=476&format=png&auto=webp&s=97ae662fcca43bf146537393fc6a13705a0a9351\\n\\n&#x200B;  \n",
       "4                                                                                                                                                                                                                                                                                                                                                                                                                                                                                                                                                                                                                                                                                                             Hello guys does playing 4k content on a 2k display has any benefit? For example while playing YouTube videos I set 1440p resolution on my 2k laptop and 2k smartphone despite having a option of selecting 2160p option. So i wanted to ask if i get better video quality if i select 2160p option while playing on a 2k display?  \n",
       "...                                                                                                                                                                                                                                                                                                                                                                                                                                                                                                                                                                                                                                                                                                                                                                                                                                                                                                                                                                                                                                         ...  \n",
       "387066                                                                                                                                                                                                                                                                                                                                                                                                                                                                                                                                                                                                                                                                                                                                                                                                                                                                                                                                               Is this a good build? Any recommendations?\\n\\nBUILD - https://pcpartpicker.com/list/FL6hwc  \n",
       "387067                                                                                                                                                                                                                                                                                                                                                                                                                                                                                                                                                                                                                                                                                                                                                                                                                                                                                                                                                                                                                                      NaN  \n",
       "387068                                                                                                                                                                                                                                                                                                                                                                                                                                                                                                                                                                                                                                                         Those that bring their rigs with them in the truck: \\n\\nHow does the computer fare? \\nIs there any orientation it works better with when you go through the areas with poor maintenance? \\nAnd lastly: if you liquid cool, have you noticed any issues over time?\\n\\nI'm building a new rig here soon and am curious if anything is to note so I don't make a large $$$$ mistake  \n",
       "387069                                                                                                                                                                                                                                                                                                                                                                                                                                                                                                                                                                                                                                                                                                                                                                                                                                                                               Got the Hyte y60 as a gift, what a great case to build in. Running a 5600x with a 3080. The tree probably blocks some airflow but I'll take that tradeoff.  \n",
       "387070  When copying files with Dolphin (KDE Plasma's file manager), if there is not enough free space to copy the incoming files entirely, the file manager refuses to copy even a single file. However, a lot of the time I'll be skipping name conflicts or overwriting existing files with new ones, so either I don't need as much space than it seems to the system, or space is freed up as I copy. Also, KDE seems to have trouble accurately determining the free space on drives on a network file server that I have mounted with SSHFS, so it will say there is not enough space even when there is. \\n\\nIs there a way to get Dolphin to ignore this error and attempt to copy the files anyway? Like the way the cp command does it, where it doesn't really care how much space is on the drive, and will only throw an error if it actually fills up before it's done copying. Or better yet, is there a way to get Dolphin to still warn me about potential space issues, but have the option to ignore it and attempt to c...  \n",
       "\n",
       "[387071 rows x 5 columns]"
      ]
     },
     "execution_count": 8,
     "metadata": {},
     "output_type": "execute_result"
    }
   ],
   "source": [
    "df_reddit = pd.read_csv(file_reddit)\n",
    "df_reddit = df_reddit.drop(columns=['Unnamed: 0', 'json'])\n",
    "df_reddit"
   ]
  },
  {
   "cell_type": "markdown",
   "id": "8ac41545",
   "metadata": {},
   "source": [
    "### Files "
   ]
  },
  {
   "cell_type": "code",
   "execution_count": 9,
   "id": "d7ecdb03",
   "metadata": {},
   "outputs": [],
   "source": [
    "file_files = r'C:\\Users\\\\leona\\\\OneDrive\\\\Desktop\\\\Tesi\\\\Pipeline\\\\Datasets\\\\Pipeline\\\\FileAnalysis\\\\ER_Schema\\\\Entries.csv'\n",
    "attack_files = r'C:\\Users\\\\leona\\\\OneDrive\\\\Desktop\\\\Tesi\\\\Pipeline\\\\Datasets\\\\Pipeline\\\\FileAnalysis\\\\ER_Schema\\\\Attacks.csv'\n",
    "behaviour_files = r'C:\\Users\\\\leona\\\\OneDrive\\\\Desktop\\\\Tesi\\\\Pipeline\\\\Datasets\\\\Pipeline\\\\FileAnalysis\\\\ER_Schema\\\\Behaviours.csv'"
   ]
  },
  {
   "cell_type": "code",
   "execution_count": 10,
   "id": "589cf0b5",
   "metadata": {
    "scrolled": true
   },
   "outputs": [
    {
     "data": {
      "text/html": [
       "<div>\n",
       "<style scoped>\n",
       "    .dataframe tbody tr th:only-of-type {\n",
       "        vertical-align: middle;\n",
       "    }\n",
       "\n",
       "    .dataframe tbody tr th {\n",
       "        vertical-align: top;\n",
       "    }\n",
       "\n",
       "    .dataframe thead th {\n",
       "        text-align: right;\n",
       "    }\n",
       "</style>\n",
       "<table border=\"1\" class=\"dataframe\">\n",
       "  <thead>\n",
       "    <tr style=\"text-align: right;\">\n",
       "      <th></th>\n",
       "      <th>sha1</th>\n",
       "      <th>sha256</th>\n",
       "      <th>md5</th>\n",
       "      <th>analysis_date</th>\n",
       "      <th>file_type</th>\n",
       "      <th>delivery_method</th>\n",
       "      <th>verdict</th>\n",
       "      <th>malware_type</th>\n",
       "      <th>malware</th>\n",
       "    </tr>\n",
       "  </thead>\n",
       "  <tbody>\n",
       "    <tr>\n",
       "      <th>0</th>\n",
       "      <td>411535c9548f86034a6a9a603de521a86a3b5466</td>\n",
       "      <td>04c53261b1220a894a02f5ffb39cdfd73f93481c0b5c8106d21c91b20205c62d</td>\n",
       "      <td>5b5a0225a2b7b9a054417662c733168a</td>\n",
       "      <td>2021-11-09</td>\n",
       "      <td>exe</td>\n",
       "      <td>email attachment</td>\n",
       "      <td>malicious</td>\n",
       "      <td>trojan</td>\n",
       "      <td>remcos</td>\n",
       "    </tr>\n",
       "    <tr>\n",
       "      <th>1</th>\n",
       "      <td>1ad9e9761fd6935c0cf5048c9615d0383baac48e</td>\n",
       "      <td>ac901bf5882f14e9e07235b8488b6479b4519addda6dbfb89147401c1e9e6e4f</td>\n",
       "      <td>da9534900ee0d11c9b30cf33152ea03c</td>\n",
       "      <td>2023-07-19</td>\n",
       "      <td>exe</td>\n",
       "      <td>web download</td>\n",
       "      <td>malicious</td>\n",
       "      <td>trojan</td>\n",
       "      <td>remcos</td>\n",
       "    </tr>\n",
       "    <tr>\n",
       "      <th>2</th>\n",
       "      <td>8ab63abfe58fb218cc001581ac0d9fe38c784157</td>\n",
       "      <td>7f514ed5e1ec262953e6252a4089531c519e95d700c5808415b0f049fc59a5f0</td>\n",
       "      <td>855232a26e8afcd0cca5f816a1919dee</td>\n",
       "      <td>2022-01-04</td>\n",
       "      <td>exe</td>\n",
       "      <td>unknown</td>\n",
       "      <td>malicious</td>\n",
       "      <td>ransomware</td>\n",
       "      <td>remcos</td>\n",
       "    </tr>\n",
       "    <tr>\n",
       "      <th>3</th>\n",
       "      <td>55cbf8dae95d350ad7e5a63b418f6cd203488f51</td>\n",
       "      <td>8b7ae9f195b075a789d6d8277d500d27754bfa3c53ecca8db7beac8ccd07884f</td>\n",
       "      <td>97d9d216f2627cb238ca6637580b1739</td>\n",
       "      <td>2022-02-09</td>\n",
       "      <td>exe</td>\n",
       "      <td>unknown</td>\n",
       "      <td>malicious</td>\n",
       "      <td>trojan</td>\n",
       "      <td>remcos</td>\n",
       "    </tr>\n",
       "    <tr>\n",
       "      <th>4</th>\n",
       "      <td>a2915c1be9e6134b7bf3ca5ca00eeb0c969bedab</td>\n",
       "      <td>6c2a2251861a6d2701814843fadac940cf4d34db9f446f0698352fd866b31739</td>\n",
       "      <td>1b09de36dfe5850d7e3fbd6b39c89a43</td>\n",
       "      <td>2021-02-11</td>\n",
       "      <td>exe</td>\n",
       "      <td>web download</td>\n",
       "      <td>malicious</td>\n",
       "      <td>trojan</td>\n",
       "      <td>generic mg</td>\n",
       "    </tr>\n",
       "    <tr>\n",
       "      <th>...</th>\n",
       "      <td>...</td>\n",
       "      <td>...</td>\n",
       "      <td>...</td>\n",
       "      <td>...</td>\n",
       "      <td>...</td>\n",
       "      <td>...</td>\n",
       "      <td>...</td>\n",
       "      <td>...</td>\n",
       "      <td>...</td>\n",
       "    </tr>\n",
       "    <tr>\n",
       "      <th>2657</th>\n",
       "      <td>6b6955af591154d3f6e2db35ca9904cce7e264b1</td>\n",
       "      <td>3a9d8c693b7dc6a9c2bf876c5626ebd0923e35bd5f698baed248df7f51f67275</td>\n",
       "      <td>03872a722df0b073a84fd1aa45eb9376</td>\n",
       "      <td>2020-02-20</td>\n",
       "      <td>elf</td>\n",
       "      <td>unknown</td>\n",
       "      <td>malicious</td>\n",
       "      <td>worm</td>\n",
       "      <td>agent tesla</td>\n",
       "    </tr>\n",
       "    <tr>\n",
       "      <th>2658</th>\n",
       "      <td>3ab53037e2360c42b57d213234ced58717844a71</td>\n",
       "      <td>5de4932cb0ccab3fec711135cdd1af5a09c26a870bfb2d2adc650d0fdbf16488</td>\n",
       "      <td>e0fea510c784eb0e440e99e53d83d414</td>\n",
       "      <td>2021-07-14</td>\n",
       "      <td>exe</td>\n",
       "      <td>unknown</td>\n",
       "      <td>malicious</td>\n",
       "      <td>spyware</td>\n",
       "      <td>generickd</td>\n",
       "    </tr>\n",
       "    <tr>\n",
       "      <th>2659</th>\n",
       "      <td>4f9b9859a596a8bfdfee516788587ca0c0fb6ae8</td>\n",
       "      <td>f10dd5ce32d72489dd2696e5b58ee115f3cd065969a61a6613cab27bcd57de70</td>\n",
       "      <td>c9f771be253b6ca1d7a808d7d65c5e29</td>\n",
       "      <td>2020-09-08</td>\n",
       "      <td>exe</td>\n",
       "      <td>unknown</td>\n",
       "      <td>malicious</td>\n",
       "      <td>trojan</td>\n",
       "      <td>unknown</td>\n",
       "    </tr>\n",
       "    <tr>\n",
       "      <th>2660</th>\n",
       "      <td>d14540087dd6d350fb49e644e53ccefc0e4c1582</td>\n",
       "      <td>dba8a4717d516772b8cc06bd258265f21f7db6ddab62328917524c5a243c67a1</td>\n",
       "      <td>fe783ff4bccd76cb215ee1f7738d9ed5</td>\n",
       "      <td>2021-12-20</td>\n",
       "      <td>exe</td>\n",
       "      <td>unknown</td>\n",
       "      <td>unknown</td>\n",
       "      <td>unknown</td>\n",
       "      <td>unknown</td>\n",
       "    </tr>\n",
       "    <tr>\n",
       "      <th>2661</th>\n",
       "      <td>98837feaac2ed17b3709e5183b660dd41e7a1e0e</td>\n",
       "      <td>5b37ddd18800dc91071db31b340e8f9997bb89d42d5a194d7ff8c980a54abe89</td>\n",
       "      <td>1b47215513edd622ba825dced07c8969</td>\n",
       "      <td>2021-11-11</td>\n",
       "      <td>exe</td>\n",
       "      <td>unknown</td>\n",
       "      <td>malicious</td>\n",
       "      <td>trojan</td>\n",
       "      <td>crypter gen</td>\n",
       "    </tr>\n",
       "  </tbody>\n",
       "</table>\n",
       "<p>2662 rows × 9 columns</p>\n",
       "</div>"
      ],
      "text/plain": [
       "                                          sha1  \\\n",
       "0     411535c9548f86034a6a9a603de521a86a3b5466   \n",
       "1     1ad9e9761fd6935c0cf5048c9615d0383baac48e   \n",
       "2     8ab63abfe58fb218cc001581ac0d9fe38c784157   \n",
       "3     55cbf8dae95d350ad7e5a63b418f6cd203488f51   \n",
       "4     a2915c1be9e6134b7bf3ca5ca00eeb0c969bedab   \n",
       "...                                        ...   \n",
       "2657  6b6955af591154d3f6e2db35ca9904cce7e264b1   \n",
       "2658  3ab53037e2360c42b57d213234ced58717844a71   \n",
       "2659  4f9b9859a596a8bfdfee516788587ca0c0fb6ae8   \n",
       "2660  d14540087dd6d350fb49e644e53ccefc0e4c1582   \n",
       "2661  98837feaac2ed17b3709e5183b660dd41e7a1e0e   \n",
       "\n",
       "                                                                sha256  \\\n",
       "0     04c53261b1220a894a02f5ffb39cdfd73f93481c0b5c8106d21c91b20205c62d   \n",
       "1     ac901bf5882f14e9e07235b8488b6479b4519addda6dbfb89147401c1e9e6e4f   \n",
       "2     7f514ed5e1ec262953e6252a4089531c519e95d700c5808415b0f049fc59a5f0   \n",
       "3     8b7ae9f195b075a789d6d8277d500d27754bfa3c53ecca8db7beac8ccd07884f   \n",
       "4     6c2a2251861a6d2701814843fadac940cf4d34db9f446f0698352fd866b31739   \n",
       "...                                                                ...   \n",
       "2657  3a9d8c693b7dc6a9c2bf876c5626ebd0923e35bd5f698baed248df7f51f67275   \n",
       "2658  5de4932cb0ccab3fec711135cdd1af5a09c26a870bfb2d2adc650d0fdbf16488   \n",
       "2659  f10dd5ce32d72489dd2696e5b58ee115f3cd065969a61a6613cab27bcd57de70   \n",
       "2660  dba8a4717d516772b8cc06bd258265f21f7db6ddab62328917524c5a243c67a1   \n",
       "2661  5b37ddd18800dc91071db31b340e8f9997bb89d42d5a194d7ff8c980a54abe89   \n",
       "\n",
       "                                   md5 analysis_date file_type  \\\n",
       "0     5b5a0225a2b7b9a054417662c733168a    2021-11-09       exe   \n",
       "1     da9534900ee0d11c9b30cf33152ea03c    2023-07-19       exe   \n",
       "2     855232a26e8afcd0cca5f816a1919dee    2022-01-04       exe   \n",
       "3     97d9d216f2627cb238ca6637580b1739    2022-02-09       exe   \n",
       "4     1b09de36dfe5850d7e3fbd6b39c89a43    2021-02-11       exe   \n",
       "...                                ...           ...       ...   \n",
       "2657  03872a722df0b073a84fd1aa45eb9376    2020-02-20       elf   \n",
       "2658  e0fea510c784eb0e440e99e53d83d414    2021-07-14       exe   \n",
       "2659  c9f771be253b6ca1d7a808d7d65c5e29    2020-09-08       exe   \n",
       "2660  fe783ff4bccd76cb215ee1f7738d9ed5    2021-12-20       exe   \n",
       "2661  1b47215513edd622ba825dced07c8969    2021-11-11       exe   \n",
       "\n",
       "       delivery_method    verdict malware_type      malware  \n",
       "0     email attachment  malicious       trojan       remcos  \n",
       "1         web download  malicious       trojan       remcos  \n",
       "2              unknown  malicious   ransomware       remcos  \n",
       "3              unknown  malicious       trojan       remcos  \n",
       "4         web download  malicious       trojan   generic mg  \n",
       "...                ...        ...          ...          ...  \n",
       "2657           unknown  malicious         worm  agent tesla  \n",
       "2658           unknown  malicious      spyware    generickd  \n",
       "2659           unknown  malicious       trojan      unknown  \n",
       "2660           unknown    unknown      unknown      unknown  \n",
       "2661           unknown  malicious       trojan  crypter gen  \n",
       "\n",
       "[2662 rows x 9 columns]"
      ]
     },
     "execution_count": 10,
     "metadata": {},
     "output_type": "execute_result"
    }
   ],
   "source": [
    "df_files = pd.read_csv(file_files, low_memory = False)\n",
    "#df_files = df_files.drop(columns=['Unnamed: 0'])\n",
    "df_files"
   ]
  },
  {
   "cell_type": "markdown",
   "id": "5c976ab9",
   "metadata": {},
   "source": [
    "### Malwares"
   ]
  },
  {
   "cell_type": "code",
   "execution_count": 11,
   "id": "ca543511",
   "metadata": {},
   "outputs": [
    {
     "data": {
      "text/plain": [
       "['trojan',\n",
       " 'ransomware',\n",
       " 'adware',\n",
       " 'worm',\n",
       " 'dropper',\n",
       " 'rootkit',\n",
       " 'spyware',\n",
       " 'keylogger',\n",
       " 'backdoor',\n",
       " 'downloader',\n",
       " 'botnet']"
      ]
     },
     "execution_count": 11,
     "metadata": {},
     "output_type": "execute_result"
    }
   ],
   "source": [
    "all_malware_types_list = list(df_files.malware_type.unique())\n",
    "all_malware_types_list = [item for item in all_malware_types_list if item != 'unknown']\n",
    "\n",
    "all_malware_types_list"
   ]
  },
  {
   "cell_type": "markdown",
   "id": "03f6cc08",
   "metadata": {},
   "source": [
    "#### Malwares"
   ]
  },
  {
   "cell_type": "code",
   "execution_count": 12,
   "id": "f336b70b",
   "metadata": {},
   "outputs": [
    {
     "data": {
      "text/plain": [
       "['remcos',\n",
       " 'generic mg',\n",
       " 'njrat',\n",
       " 'bitrat',\n",
       " 'mirai',\n",
       " 'injector gen',\n",
       " 'generickd',\n",
       " 'quasar rat',\n",
       " 'muldrop',\n",
       " 'netwire',\n",
       " 'ave maria',\n",
       " 'script cryxos',\n",
       " 'downloader gen',\n",
       " 'orcus',\n",
       " 'x gen drp',\n",
       " 'agent tesla',\n",
       " 'nanocore rat',\n",
       " 'redline stealer',\n",
       " 'lumma stealer',\n",
       " 'siggen',\n",
       " 'spynote',\n",
       " 'kryptik gen',\n",
       " 'obfus',\n",
       " 'kryptik gen eldorado',\n",
       " 'valyria',\n",
       " 'artemis',\n",
       " 'twave evil',\n",
       " 'java gen',\n",
       " 'borlanddelphi',\n",
       " 'cobalt strike',\n",
       " 'aidetect net',\n",
       " 'miscreantpunch',\n",
       " 'perseus',\n",
       " 'behaveslike generic',\n",
       " 'heracles',\n",
       " 'darkcomet',\n",
       " 'crypter gen',\n",
       " 'wannacryptor',\n",
       " 'formbook',\n",
       " 'azorult',\n",
       " 'genmalicious',\n",
       " 'bv downloader drp',\n",
       " 'evo gen',\n",
       " 'ddos',\n",
       " 'gafgyt',\n",
       " 'keylogger gen',\n",
       " 'cve exploit',\n",
       " 'banker gen',\n",
       " 'autoit',\n",
       " 'exploitx',\n",
       " 'coinminer generic',\n",
       " 'loki password stealer  pws',\n",
       " 'meterpreter',\n",
       " 'crimson rat',\n",
       " 'nanobot',\n",
       " 'ghost rat']"
      ]
     },
     "execution_count": 12,
     "metadata": {},
     "output_type": "execute_result"
    }
   ],
   "source": [
    "all_malware_list = list(df_files.malware.unique())\n",
    "all_malware_list = [item for item in all_malware_list if (item != 'unknown') & (item != 'malware_tag')]\n",
    "all_malware_list"
   ]
  },
  {
   "cell_type": "markdown",
   "id": "9a67df1c",
   "metadata": {},
   "source": [
    "#### Delivery Methods"
   ]
  },
  {
   "cell_type": "code",
   "execution_count": 13,
   "id": "4600cac9",
   "metadata": {},
   "outputs": [
    {
     "data": {
      "text/plain": [
       "['email attachment', 'web download', 'email link']"
      ]
     },
     "execution_count": 13,
     "metadata": {},
     "output_type": "execute_result"
    }
   ],
   "source": [
    "all_delivery_method_list = list(df_files.delivery_method.unique())\n",
    "all_delivery_method_list = [ item for item in all_delivery_method_list if (item != 'unknown') ]\n",
    "all_delivery_method_list"
   ]
  },
  {
   "cell_type": "markdown",
   "id": "fd527b44",
   "metadata": {},
   "source": [
    "#### Behaviours"
   ]
  },
  {
   "cell_type": "code",
   "execution_count": 14,
   "id": "e667156c",
   "metadata": {},
   "outputs": [
    {
     "data": {
      "text/html": [
       "<div>\n",
       "<style scoped>\n",
       "    .dataframe tbody tr th:only-of-type {\n",
       "        vertical-align: middle;\n",
       "    }\n",
       "\n",
       "    .dataframe tbody tr th {\n",
       "        vertical-align: top;\n",
       "    }\n",
       "\n",
       "    .dataframe thead th {\n",
       "        text-align: right;\n",
       "    }\n",
       "</style>\n",
       "<table border=\"1\" class=\"dataframe\">\n",
       "  <thead>\n",
       "    <tr style=\"text-align: right;\">\n",
       "      <th></th>\n",
       "      <th>sha1</th>\n",
       "      <th>sha256</th>\n",
       "      <th>md5</th>\n",
       "      <th>action_name</th>\n",
       "      <th>action_description</th>\n",
       "      <th>maliciousness_level</th>\n",
       "      <th>area</th>\n",
       "    </tr>\n",
       "  </thead>\n",
       "  <tbody>\n",
       "    <tr>\n",
       "      <th>0</th>\n",
       "      <td>007416f9ba10d2e2951a9dcd104b7206ad20d433</td>\n",
       "      <td>094b57a07096fb1f866a104c0b14c84aa99815b613587780765c8c6cd6ef1a42</td>\n",
       "      <td>7baa4836bd81113c16960501f679a81b</td>\n",
       "      <td>antidebug guardpages</td>\n",
       "      <td>guard pages use detected - possible anti-debugging.</td>\n",
       "      <td>neutral</td>\n",
       "      <td>System Processes</td>\n",
       "    </tr>\n",
       "    <tr>\n",
       "      <th>1</th>\n",
       "      <td>007416f9ba10d2e2951a9dcd104b7206ad20d433</td>\n",
       "      <td>094b57a07096fb1f866a104c0b14c84aa99815b613587780765c8c6cd6ef1a42</td>\n",
       "      <td>7baa4836bd81113c16960501f679a81b</td>\n",
       "      <td>antidebug setunhandledexceptionfilter</td>\n",
       "      <td>setunhandledexceptionfilter detected (possible anti-debug)</td>\n",
       "      <td>neutral</td>\n",
       "      <td>System Processes</td>\n",
       "    </tr>\n",
       "    <tr>\n",
       "      <th>2</th>\n",
       "      <td>007416f9ba10d2e2951a9dcd104b7206ad20d433</td>\n",
       "      <td>094b57a07096fb1f866a104c0b14c84aa99815b613587780765c8c6cd6ef1a42</td>\n",
       "      <td>7baa4836bd81113c16960501f679a81b</td>\n",
       "      <td>cape detected threat</td>\n",
       "      <td>cape detected the asyncrat malware</td>\n",
       "      <td>suspicious</td>\n",
       "      <td>Network Activity</td>\n",
       "    </tr>\n",
       "    <tr>\n",
       "      <th>3</th>\n",
       "      <td>007416f9ba10d2e2951a9dcd104b7206ad20d433</td>\n",
       "      <td>094b57a07096fb1f866a104c0b14c84aa99815b613587780765c8c6cd6ef1a42</td>\n",
       "      <td>7baa4836bd81113c16960501f679a81b</td>\n",
       "      <td>cmdline terminate</td>\n",
       "      <td>executed a command line with /c or /r argument to terminate command shell on completion which can be used to hide execution</td>\n",
       "      <td>neutral</td>\n",
       "      <td>System Processes</td>\n",
       "    </tr>\n",
       "    <tr>\n",
       "      <th>4</th>\n",
       "      <td>007416f9ba10d2e2951a9dcd104b7206ad20d433</td>\n",
       "      <td>094b57a07096fb1f866a104c0b14c84aa99815b613587780765c8c6cd6ef1a42</td>\n",
       "      <td>7baa4836bd81113c16960501f679a81b</td>\n",
       "      <td>dead connect</td>\n",
       "      <td>attempts to connect to a dead ip:port (1 unique times)</td>\n",
       "      <td>neutral</td>\n",
       "      <td>Network Communications</td>\n",
       "    </tr>\n",
       "  </tbody>\n",
       "</table>\n",
       "</div>"
      ],
      "text/plain": [
       "                                       sha1  \\\n",
       "0  007416f9ba10d2e2951a9dcd104b7206ad20d433   \n",
       "1  007416f9ba10d2e2951a9dcd104b7206ad20d433   \n",
       "2  007416f9ba10d2e2951a9dcd104b7206ad20d433   \n",
       "3  007416f9ba10d2e2951a9dcd104b7206ad20d433   \n",
       "4  007416f9ba10d2e2951a9dcd104b7206ad20d433   \n",
       "\n",
       "                                                             sha256  \\\n",
       "0  094b57a07096fb1f866a104c0b14c84aa99815b613587780765c8c6cd6ef1a42   \n",
       "1  094b57a07096fb1f866a104c0b14c84aa99815b613587780765c8c6cd6ef1a42   \n",
       "2  094b57a07096fb1f866a104c0b14c84aa99815b613587780765c8c6cd6ef1a42   \n",
       "3  094b57a07096fb1f866a104c0b14c84aa99815b613587780765c8c6cd6ef1a42   \n",
       "4  094b57a07096fb1f866a104c0b14c84aa99815b613587780765c8c6cd6ef1a42   \n",
       "\n",
       "                                md5                            action_name  \\\n",
       "0  7baa4836bd81113c16960501f679a81b                   antidebug guardpages   \n",
       "1  7baa4836bd81113c16960501f679a81b  antidebug setunhandledexceptionfilter   \n",
       "2  7baa4836bd81113c16960501f679a81b                   cape detected threat   \n",
       "3  7baa4836bd81113c16960501f679a81b                      cmdline terminate   \n",
       "4  7baa4836bd81113c16960501f679a81b                           dead connect   \n",
       "\n",
       "                                                                                                            action_description  \\\n",
       "0                                                                          guard pages use detected - possible anti-debugging.   \n",
       "1                                                                   setunhandledexceptionfilter detected (possible anti-debug)   \n",
       "2                                                                                           cape detected the asyncrat malware   \n",
       "3  executed a command line with /c or /r argument to terminate command shell on completion which can be used to hide execution   \n",
       "4                                                                       attempts to connect to a dead ip:port (1 unique times)   \n",
       "\n",
       "  maliciousness_level                    area  \n",
       "0             neutral        System Processes  \n",
       "1             neutral        System Processes  \n",
       "2          suspicious        Network Activity  \n",
       "3             neutral        System Processes  \n",
       "4             neutral  Network Communications  "
      ]
     },
     "execution_count": 14,
     "metadata": {},
     "output_type": "execute_result"
    }
   ],
   "source": [
    "behaviours = pd.read_csv(behaviour_files)\n",
    "#behaviours = behaviours.drop(columns=['Unnamed: 0'])\n",
    "behaviours.head()"
   ]
  },
  {
   "cell_type": "code",
   "execution_count": 15,
   "id": "111e57f5",
   "metadata": {},
   "outputs": [
    {
     "data": {
      "text/plain": [
       "['antidebug guardpages',\n",
       " 'antidebug setunhandledexceptionfilter',\n",
       " 'cape detected threat',\n",
       " 'cmdline terminate',\n",
       " 'dead connect',\n",
       " 'deletes executed files',\n",
       " 'dynamic function loading',\n",
       " 'injection rwx',\n",
       " 'persistence autorun tasks',\n",
       " 'process creation suspicious location',\n",
       " 'reads self',\n",
       " 'stealth timeout',\n",
       " 'stealth window',\n",
       " 'suspicious command tools',\n",
       " 'uses windows utilities',\n",
       " 'uses windows utilities to create scheduled task',\n",
       " 'allocates execute remote process',\n",
       " 'allocates rwx',\n",
       " 'antivm memory available',\n",
       " 'antivm network adapters',\n",
       " 'antivm queries computername',\n",
       " 'checks debugger',\n",
       " 'creates exe',\n",
       " 'dead host',\n",
       " 'dumped buffer',\n",
       " 'exe appdata',\n",
       " 'generates crypto key',\n",
       " 'has pdb',\n",
       " 'injection ntsetcontextthread',\n",
       " 'injection resumethread',\n",
       " 'injection runpe',\n",
       " 'injection write memory',\n",
       " 'injection write memory exe',\n",
       " 'nolookup communication',\n",
       " 'packer entropy',\n",
       " 'persistence autorun',\n",
       " 'privilege luid check',\n",
       " 'removes zoneid ads',\n",
       " 'schtask create',\n",
       " 'suspicious process',\n",
       " 'network icmp',\n",
       " 'osquery detection',\n",
       " 'dumped buffer2',\n",
       " 'infostealer keylogger',\n",
       " 'networkdyndns checkip',\n",
       " 'nids alert',\n",
       " 'infostealer ftp',\n",
       " 'queries programs',\n",
       " 'raises exception',\n",
       " 'recon programs',\n",
       " 'antisandbox sleep',\n",
       " 'console output',\n",
       " 'packer polymorphic',\n",
       " 'protection rx',\n",
       " 'antisandbox foregroundwindows',\n",
       " 'process martian',\n",
       " 'suspicious write exe',\n",
       " 'antisandbox idletime',\n",
       " 'antisandbox mouse hook',\n",
       " 'pe features',\n",
       " 'powershell reg add',\n",
       " 'infostealer browser',\n",
       " 'infostealer im',\n",
       " 'infostealer mail',\n",
       " 'injection process search',\n",
       " 'locates browser',\n",
       " 'network downloader exe',\n",
       " 'infostealer keylog',\n",
       " 'ransomware file modifications',\n",
       " 'disables security',\n",
       " 'dropper',\n",
       " 'creates hidden file',\n",
       " 'document open',\n",
       " 'network cnc http',\n",
       " 'network http',\n",
       " 'nids malware alert',\n",
       " 'stealth system procname',\n",
       " 'network multiple direct ip connections',\n",
       " 'accesses recyclebin',\n",
       " 'anomalous deletefile',\n",
       " 'antivm generic bios',\n",
       " 'antivm generic disk',\n",
       " 'creates largekey',\n",
       " 'enumerates physical drives',\n",
       " 'exec crash',\n",
       " 'infostealer cookies',\n",
       " 'injection inter process',\n",
       " 'injection process hollowing',\n",
       " 'modify desktop wallpaper',\n",
       " 'physical drive access',\n",
       " 'powershell request',\n",
       " 'recon fingerprint',\n",
       " 'terminates remote process',\n",
       " 'antivm generic services',\n",
       " 'modifies proxy wpad',\n",
       " 'http request',\n",
       " 'infostealer bitcoin',\n",
       " 'network cnc https generic',\n",
       " 'network dyndns',\n",
       " 'powershell download',\n",
       " 'procmem yara',\n",
       " 'recon checkip',\n",
       " 'antivm disk size',\n",
       " 'origin langid',\n",
       " 'peid packer',\n",
       " 'antidbg windows',\n",
       " 'antivm vmware in instruction',\n",
       " 'injection network trafic',\n",
       " 'process interest',\n",
       " 'stealth hiddenfile',\n",
       " 'stops service',\n",
       " 'https urls',\n",
       " 'injection createremotethread',\n",
       " 'injection modifies memory',\n",
       " 'multiple useragents',\n",
       " 'antivm generic cpu',\n",
       " 'persistence ads',\n",
       " 'registry credential store access',\n",
       " 'cloud google',\n",
       " 'rat spynet',\n",
       " 'creates shortcut',\n",
       " 'encrypt pcinfo',\n",
       " 'suricata alert',\n",
       " 'disables proxy',\n",
       " 'has wmi',\n",
       " 'network bind',\n",
       " 'process needed',\n",
       " 'ransomware appends extensions',\n",
       " 'ransomware file moves',\n",
       " 'rat teamviewer',\n",
       " 'wmi antivm',\n",
       " 'pe unknown resource name',\n",
       " 'modifies certificates',\n",
       " 'powershell dfsp',\n",
       " 'suspicious powershell',\n",
       " 'antiemu wine',\n",
       " 'antivm generic scsi',\n",
       " 'antivm vbox keys',\n",
       " 'antivm vmware keys',\n",
       " 'creates service',\n",
       " 'cape extracted content',\n",
       " 'injection create remote thread',\n",
       " 'rat nanocore',\n",
       " 'spawns dev util',\n",
       " 'packer upx',\n",
       " 'accesses public folder',\n",
       " 'encrypted ioc',\n",
       " 'antiav detectfile',\n",
       " 'tcp syn scan',\n",
       " 'powershell command suspicious',\n",
       " 'powershell scriptblock logging',\n",
       " 'script tool executed',\n",
       " 'ransomware extensions',\n",
       " 'suspicious tld',\n",
       " 'remcos files',\n",
       " 'remcos mutexes',\n",
       " 'remcos regkeys',\n",
       " 'antidbg devices',\n",
       " 'cybergate',\n",
       " 'antisandbox unhook',\n",
       " 'creates doc',\n",
       " 'locker taskmgr',\n",
       " 'darkcomet regkeys',\n",
       " 'deletes self',\n",
       " 'dotnet csc build',\n",
       " 'network dns reverse proxy',\n",
       " 'rat fynloski mutexes',\n",
       " 'sysinternals tools usage',\n",
       " 'modifies security center warnings',\n",
       " 'rat fynloski',\n",
       " 'p2p cnc',\n",
       " 'writes to stdout',\n",
       " 'network document file',\n",
       " 'network http post',\n",
       " 'rat bifrose',\n",
       " 'antisandbox sboxie libs',\n",
       " 'dll load uncommon file types',\n",
       " 'moves self',\n",
       " 'persistence registry javascript',\n",
       " 'persistence registry powershell',\n",
       " 'network irc',\n",
       " 'process crash',\n",
       " 'antiav avast libs',\n",
       " 'applcation raises exception',\n",
       " 'creates user folder exe',\n",
       " 'enumerates running processes',\n",
       " 'spooler svc start',\n",
       " 'stealth hiddenreg',\n",
       " 'stealth network',\n",
       " 'rat quasar mutexes',\n",
       " 'sniffer winpcap',\n",
       " 'banker bancos',\n",
       " 'network fake useragent',\n",
       " 'network questionable http path',\n",
       " 'stop ransom mutexes',\n",
       " 'stop ransomware cmd',\n",
       " 'stop ransomware registry',\n",
       " 'disables uac',\n",
       " 'script created process',\n",
       " 'nids exploit alert',\n",
       " 'long commandline',\n",
       " 'antivm firmware',\n",
       " 'modifies zoneid',\n",
       " 'disables windows defender',\n",
       " 'network cnc https free webshoting',\n",
       " 'network cnc https socialmedia',\n",
       " 'network ip exe',\n",
       " 'venomrat mutexes',\n",
       " 'virus',\n",
       " 'malicious document urls',\n",
       " 'network wscript downloader',\n",
       " 'bladabindi mutexes',\n",
       " 'ransomware mass file delete',\n",
       " 'netwire',\n",
       " 'antisandbox suspend',\n",
       " 'network dns paste site',\n",
       " 'antivm generic system',\n",
       " 'warzonerat files',\n",
       " 'windows defender powershell',\n",
       " 'antivm vbox files',\n",
       " 'antivm vmware files',\n",
       " 'bypass firewall',\n",
       " 'injection network traffic',\n",
       " 'modify security center warnings',\n",
       " 'rat sdbot',\n",
       " 'antidebug ntsetinformationthread',\n",
       " 'antiav detectreg',\n",
       " 'network dns blockchain',\n",
       " 'rtf unknown character set',\n",
       " 'network cnc https payload',\n",
       " 'renostrojan',\n",
       " 'plugx',\n",
       " 'network tor',\n",
       " 'js eval',\n",
       " 'antiemu wine func',\n",
       " 'injection queueapcthread',\n",
       " 'njrat regkeys',\n",
       " 'disables system restore',\n",
       " 'accesses netlogon regkey',\n",
       " 'createtoolhelp32snapshot module enumeration',\n",
       " 'mimics agent',\n",
       " 'suspicious ping use',\n",
       " 'uses windows utilities nltest',\n",
       " 'spreading autoruninf',\n",
       " 'antivm vbox devices',\n",
       " 'rat rbot',\n",
       " 'network excessive udp',\n",
       " 'chmod 777 perm',\n",
       " 'browser security',\n",
       " 'detect putty',\n",
       " 'memdump urls',\n",
       " 'ransomware dropped files',\n",
       " 'rat xtreme',\n",
       " 'modify uac prompt',\n",
       " 'packer vmprotect',\n",
       " 'banker zeus p2p',\n",
       " 'orcusrat behavior',\n",
       " 'exploit heapspray',\n",
       " 'persists dev util',\n",
       " 'rtf unknown version',\n",
       " 'antisandbox sunbelt libs',\n",
       " 'network anomaly',\n",
       " 'spoofs procname',\n",
       " 'antidebug windows',\n",
       " 'recon beacon',\n",
       " 'network cnc https pastesite',\n",
       " 'suspicious certutil use',\n",
       " 'alters windows utility',\n",
       " 'powershell renamed',\n",
       " 'nitol',\n",
       " 'warzonerat regkeys',\n",
       " 'exec waitfor',\n",
       " 'martian command process',\n",
       " 'antivirus virustotal',\n",
       " 'banker zeus mutex',\n",
       " 'copies self',\n",
       " 'cryptopool domains',\n",
       " 'antiav servicestop',\n",
       " 'masquerade process name',\n",
       " 'antivm sandboxie',\n",
       " 'recon systeminfo',\n",
       " 'modify certs',\n",
       " 'cryptomining stratum command',\n",
       " 'network dns txt lookup',\n",
       " 'antisandbox file',\n",
       " 'antisandbox joe anubis files',\n",
       " 'captures screenshot',\n",
       " 'netwire behavior',\n",
       " 'cypherit mutexes',\n",
       " 'network dga',\n",
       " 'stealth childproc',\n",
       " 'cmdline long string',\n",
       " 'crontab persistency',\n",
       " 'antivm generic diskreg',\n",
       " 'win32 process create',\n",
       " 'suspicious js script',\n",
       " 'cmdline obfuscation',\n",
       " 'cmdline http link',\n",
       " 'network cnc https opensource',\n",
       " 'antisandbox cuckoo files',\n",
       " 'blackrat apis',\n",
       " 'persistence registry exe',\n",
       " 'trojan jorik',\n",
       " 'andromeda',\n",
       " 'uses powershell copyitem',\n",
       " 'polymorphic',\n",
       " 'stealth hidden extension',\n",
       " 'network cnc https useragent',\n",
       " 'browser helper object',\n",
       " 'browser startpage',\n",
       " 'dns freehosting domain',\n",
       " 'packer themida',\n",
       " 'dyreza',\n",
       " 'upatre',\n",
       " 'modify proxy',\n",
       " 'static pe anomaly',\n",
       " 'stealth file',\n",
       " 'powershell network connection',\n",
       " 'disables windows file protection',\n",
       " 'antidebug devices',\n",
       " 'antiemu wine reg',\n",
       " 'rat buzus mutexes',\n",
       " 'office cve2017 11882 network']"
      ]
     },
     "execution_count": 15,
     "metadata": {},
     "output_type": "execute_result"
    }
   ],
   "source": [
    "all_behaviours_name_list = list(behaviours.action_name.unique())\n",
    "all_behaviours_name_list = [ item for item in all_behaviours_name_list if (item != 'unknown') ]\n",
    "all_behaviours_name_list"
   ]
  },
  {
   "cell_type": "markdown",
   "id": "2e3f8788",
   "metadata": {},
   "source": [
    "#### Attacks"
   ]
  },
  {
   "cell_type": "code",
   "execution_count": 16,
   "id": "3afab840",
   "metadata": {},
   "outputs": [
    {
     "data": {
      "text/html": [
       "<div>\n",
       "<style scoped>\n",
       "    .dataframe tbody tr th:only-of-type {\n",
       "        vertical-align: middle;\n",
       "    }\n",
       "\n",
       "    .dataframe tbody tr th {\n",
       "        vertical-align: top;\n",
       "    }\n",
       "\n",
       "    .dataframe thead th {\n",
       "        text-align: right;\n",
       "    }\n",
       "</style>\n",
       "<table border=\"1\" class=\"dataframe\">\n",
       "  <thead>\n",
       "    <tr style=\"text-align: right;\">\n",
       "      <th></th>\n",
       "      <th>sha1</th>\n",
       "      <th>sha256</th>\n",
       "      <th>md5</th>\n",
       "      <th>attack_id</th>\n",
       "      <th>attack_name</th>\n",
       "      <th>attack_type</th>\n",
       "    </tr>\n",
       "  </thead>\n",
       "  <tbody>\n",
       "    <tr>\n",
       "      <th>0</th>\n",
       "      <td>713a00b13a87c52b43404cd32d0f4645844709d9</td>\n",
       "      <td>3b96a384f9989f28315eb374eae991e70ed07b88665cbf831f24bd574502feac</td>\n",
       "      <td>97ad0714b0245825407dd25d7d168d31</td>\n",
       "      <td>T1060</td>\n",
       "      <td>Registry Run Keys / Start Folder</td>\n",
       "      <td>Installation</td>\n",
       "    </tr>\n",
       "    <tr>\n",
       "      <th>1</th>\n",
       "      <td>713a00b13a87c52b43404cd32d0f4645844709d9</td>\n",
       "      <td>3b96a384f9989f28315eb374eae991e70ed07b88665cbf831f24bd574502feac</td>\n",
       "      <td>97ad0714b0245825407dd25d7d168d31</td>\n",
       "      <td>T1056</td>\n",
       "      <td>Input Capture</td>\n",
       "      <td>Objectives</td>\n",
       "    </tr>\n",
       "    <tr>\n",
       "      <th>2</th>\n",
       "      <td>e900de5aea86567fadc7507a6811596eb4b86a14</td>\n",
       "      <td>3363270a2950c8518e7883ea147b3f947b3a96aa31d37a990c73f975946335ce</td>\n",
       "      <td>e076afd88fe6a708d91a3f771754e860</td>\n",
       "      <td>T1060</td>\n",
       "      <td>Registry Run Keys / Start Folder</td>\n",
       "      <td>Installation</td>\n",
       "    </tr>\n",
       "    <tr>\n",
       "      <th>3</th>\n",
       "      <td>12d263832d7f08122fbfc4431da22016e0823539</td>\n",
       "      <td>cf1260b1d0686dbee4a5c9e3bcd09eff07bfae0a53d17356b72150f59ad1a497</td>\n",
       "      <td>497d3c4d08b80e03f622064dced10135</td>\n",
       "      <td>T1119</td>\n",
       "      <td>Automated Collection</td>\n",
       "      <td>Objectives</td>\n",
       "    </tr>\n",
       "    <tr>\n",
       "      <th>4</th>\n",
       "      <td>12d263832d7f08122fbfc4431da22016e0823539</td>\n",
       "      <td>cf1260b1d0686dbee4a5c9e3bcd09eff07bfae0a53d17356b72150f59ad1a497</td>\n",
       "      <td>497d3c4d08b80e03f622064dced10135</td>\n",
       "      <td>T1045</td>\n",
       "      <td>Software Packing</td>\n",
       "      <td>Installation</td>\n",
       "    </tr>\n",
       "  </tbody>\n",
       "</table>\n",
       "</div>"
      ],
      "text/plain": [
       "                                       sha1  \\\n",
       "0  713a00b13a87c52b43404cd32d0f4645844709d9   \n",
       "1  713a00b13a87c52b43404cd32d0f4645844709d9   \n",
       "2  e900de5aea86567fadc7507a6811596eb4b86a14   \n",
       "3  12d263832d7f08122fbfc4431da22016e0823539   \n",
       "4  12d263832d7f08122fbfc4431da22016e0823539   \n",
       "\n",
       "                                                             sha256  \\\n",
       "0  3b96a384f9989f28315eb374eae991e70ed07b88665cbf831f24bd574502feac   \n",
       "1  3b96a384f9989f28315eb374eae991e70ed07b88665cbf831f24bd574502feac   \n",
       "2  3363270a2950c8518e7883ea147b3f947b3a96aa31d37a990c73f975946335ce   \n",
       "3  cf1260b1d0686dbee4a5c9e3bcd09eff07bfae0a53d17356b72150f59ad1a497   \n",
       "4  cf1260b1d0686dbee4a5c9e3bcd09eff07bfae0a53d17356b72150f59ad1a497   \n",
       "\n",
       "                                md5 attack_id  \\\n",
       "0  97ad0714b0245825407dd25d7d168d31     T1060   \n",
       "1  97ad0714b0245825407dd25d7d168d31     T1056   \n",
       "2  e076afd88fe6a708d91a3f771754e860     T1060   \n",
       "3  497d3c4d08b80e03f622064dced10135     T1119   \n",
       "4  497d3c4d08b80e03f622064dced10135     T1045   \n",
       "\n",
       "                        attack_name   attack_type  \n",
       "0  Registry Run Keys / Start Folder  Installation  \n",
       "1                     Input Capture    Objectives  \n",
       "2  Registry Run Keys / Start Folder  Installation  \n",
       "3              Automated Collection    Objectives  \n",
       "4                  Software Packing  Installation  "
      ]
     },
     "execution_count": 16,
     "metadata": {},
     "output_type": "execute_result"
    }
   ],
   "source": [
    "attacks = pd.read_csv(attack_files)\n",
    "#attacks = attacks.drop(columns=['Unnamed: 0'])\n",
    "attacks.head()"
   ]
  },
  {
   "cell_type": "code",
   "execution_count": 17,
   "id": "cb17b3e0",
   "metadata": {},
   "outputs": [
    {
     "data": {
      "text/plain": [
       "['Registry Run Keys',\n",
       " 'Start Folder',\n",
       " 'Input Capture',\n",
       " 'Automated Collection',\n",
       " 'Software Packing',\n",
       " 'Process Discovery',\n",
       " 'Defense Evasion, Privilege Escalation',\n",
       " 'Masquerading',\n",
       " 'Disable Security Software',\n",
       " 'Windows Management Instrumentation',\n",
       " 'Install New Service',\n",
       " 'Security Software Discovery',\n",
       " 'T1060',\n",
       " 'T1056',\n",
       " 'T1119',\n",
       " 'T1045',\n",
       " 'T1057',\n",
       " 'T1055',\n",
       " 'T1036',\n",
       " '578',\n",
       " 'T1047',\n",
       " '550',\n",
       " 'T1063']"
      ]
     },
     "execution_count": 17,
     "metadata": {},
     "output_type": "execute_result"
    }
   ],
   "source": [
    "all_attack_name_list = list(attacks.attack_name.unique()) + list(attacks.attack_id.unique())\n",
    "all_attack_name_list = [ item for item in all_attack_name_list if (item != 'unknown') ]\n",
    "new_list = []\n",
    "\n",
    "for element in all_attack_name_list:\n",
    "    if '/' in element:\n",
    "        parts = element.split('/')\n",
    "        # Add non-empty parts after removing leading and trailing spaces\n",
    "        new_list.extend([part.strip() for part in parts if part])\n",
    "    else:\n",
    "        # If there is no '/', simply add the element after removing leading and trailing spaces\n",
    "        new_list.append(element.strip())\n",
    "\n",
    "all_attack_name_list = new_list\n",
    "all_attack_name_list\n"
   ]
  },
  {
   "cell_type": "markdown",
   "id": "131548a7",
   "metadata": {},
   "source": [
    "### Lemmatization"
   ]
  },
  {
   "cell_type": "code",
   "execution_count": 18,
   "id": "d2a0b362",
   "metadata": {},
   "outputs": [
    {
     "name": "stdout",
     "output_type": "stream",
     "text": [
      "Requirement already satisfied: spacy in c:\\users\\leona\\anaconda3\\lib\\site-packages (3.7.2)\n",
      "Requirement already satisfied: spacy-legacy<3.1.0,>=3.0.11 in c:\\users\\leona\\anaconda3\\lib\\site-packages (from spacy) (3.0.12)\n",
      "Requirement already satisfied: spacy-loggers<2.0.0,>=1.0.0 in c:\\users\\leona\\anaconda3\\lib\\site-packages (from spacy) (1.0.5)\n",
      "Requirement already satisfied: murmurhash<1.1.0,>=0.28.0 in c:\\users\\leona\\anaconda3\\lib\\site-packages (from spacy) (1.0.10)\n",
      "Requirement already satisfied: cymem<2.1.0,>=2.0.2 in c:\\users\\leona\\anaconda3\\lib\\site-packages (from spacy) (2.0.8)\n",
      "Requirement already satisfied: preshed<3.1.0,>=3.0.2 in c:\\users\\leona\\anaconda3\\lib\\site-packages (from spacy) (3.0.9)\n",
      "Requirement already satisfied: thinc<8.3.0,>=8.1.8 in c:\\users\\leona\\anaconda3\\lib\\site-packages (from spacy) (8.2.2)\n",
      "Requirement already satisfied: wasabi<1.2.0,>=0.9.1 in c:\\users\\leona\\anaconda3\\lib\\site-packages (from spacy) (1.1.2)\n",
      "Requirement already satisfied: srsly<3.0.0,>=2.4.3 in c:\\users\\leona\\anaconda3\\lib\\site-packages (from spacy) (2.4.8)\n",
      "Requirement already satisfied: catalogue<2.1.0,>=2.0.6 in c:\\users\\leona\\anaconda3\\lib\\site-packages (from spacy) (2.0.10)\n",
      "Requirement already satisfied: weasel<0.4.0,>=0.1.0 in c:\\users\\leona\\anaconda3\\lib\\site-packages (from spacy) (0.3.4)\n",
      "Requirement already satisfied: typer<0.10.0,>=0.3.0 in c:\\users\\leona\\anaconda3\\lib\\site-packages (from spacy) (0.9.0)\n",
      "Requirement already satisfied: smart-open<7.0.0,>=5.2.1 in c:\\users\\leona\\anaconda3\\lib\\site-packages (from spacy) (5.2.1)\n",
      "Requirement already satisfied: tqdm<5.0.0,>=4.38.0 in c:\\users\\leona\\anaconda3\\lib\\site-packages (from spacy) (4.65.0)\n",
      "Requirement already satisfied: requests<3.0.0,>=2.13.0 in c:\\users\\leona\\anaconda3\\lib\\site-packages (from spacy) (2.31.0)\n",
      "Requirement already satisfied: pydantic!=1.8,!=1.8.1,<3.0.0,>=1.7.4 in c:\\users\\leona\\anaconda3\\lib\\site-packages (from spacy) (2.5.3)\n",
      "Requirement already satisfied: jinja2 in c:\\users\\leona\\anaconda3\\lib\\site-packages (from spacy) (3.1.2)\n",
      "Requirement already satisfied: setuptools in c:\\users\\leona\\anaconda3\\lib\\site-packages (from spacy) (68.0.0)\n",
      "Requirement already satisfied: packaging>=20.0 in c:\\users\\leona\\anaconda3\\lib\\site-packages (from spacy) (23.1)\n",
      "Requirement already satisfied: langcodes<4.0.0,>=3.2.0 in c:\\users\\leona\\anaconda3\\lib\\site-packages (from spacy) (3.3.0)\n",
      "Requirement already satisfied: numpy>=1.19.0 in c:\\users\\leona\\anaconda3\\lib\\site-packages (from spacy) (1.23.5)\n",
      "Requirement already satisfied: annotated-types>=0.4.0 in c:\\users\\leona\\anaconda3\\lib\\site-packages (from pydantic!=1.8,!=1.8.1,<3.0.0,>=1.7.4->spacy) (0.6.0)\n",
      "Requirement already satisfied: pydantic-core==2.14.6 in c:\\users\\leona\\anaconda3\\lib\\site-packages (from pydantic!=1.8,!=1.8.1,<3.0.0,>=1.7.4->spacy) (2.14.6)\n",
      "Requirement already satisfied: typing-extensions>=4.6.1 in c:\\users\\leona\\anaconda3\\lib\\site-packages (from pydantic!=1.8,!=1.8.1,<3.0.0,>=1.7.4->spacy) (4.7.1)\n",
      "Requirement already satisfied: charset-normalizer<4,>=2 in c:\\users\\leona\\anaconda3\\lib\\site-packages (from requests<3.0.0,>=2.13.0->spacy) (2.0.4)\n",
      "Requirement already satisfied: idna<4,>=2.5 in c:\\users\\leona\\anaconda3\\lib\\site-packages (from requests<3.0.0,>=2.13.0->spacy) (2.10)\n",
      "Requirement already satisfied: urllib3<3,>=1.21.1 in c:\\users\\leona\\anaconda3\\lib\\site-packages (from requests<3.0.0,>=2.13.0->spacy) (1.26.16)\n",
      "Requirement already satisfied: certifi>=2017.4.17 in c:\\users\\leona\\anaconda3\\lib\\site-packages (from requests<3.0.0,>=2.13.0->spacy) (2023.7.22)\n",
      "Requirement already satisfied: blis<0.8.0,>=0.7.8 in c:\\users\\leona\\anaconda3\\lib\\site-packages (from thinc<8.3.0,>=8.1.8->spacy) (0.7.11)\n",
      "Requirement already satisfied: confection<1.0.0,>=0.0.1 in c:\\users\\leona\\anaconda3\\lib\\site-packages (from thinc<8.3.0,>=8.1.8->spacy) (0.1.4)\n",
      "Requirement already satisfied: colorama in c:\\users\\leona\\anaconda3\\lib\\site-packages (from tqdm<5.0.0,>=4.38.0->spacy) (0.4.6)\n",
      "Requirement already satisfied: click<9.0.0,>=7.1.1 in c:\\users\\leona\\anaconda3\\lib\\site-packages (from typer<0.10.0,>=0.3.0->spacy) (8.0.4)\n",
      "Requirement already satisfied: cloudpathlib<0.17.0,>=0.7.0 in c:\\users\\leona\\anaconda3\\lib\\site-packages (from weasel<0.4.0,>=0.1.0->spacy) (0.16.0)\n",
      "Requirement already satisfied: MarkupSafe>=2.0 in c:\\users\\leona\\anaconda3\\lib\\site-packages (from jinja2->spacy) (2.1.1)\n",
      "Note: you may need to restart the kernel to use updated packages.\n"
     ]
    }
   ],
   "source": [
    "pip install spacy\n"
   ]
  },
  {
   "cell_type": "code",
   "execution_count": 19,
   "id": "304fc3a4",
   "metadata": {},
   "outputs": [
    {
     "name": "stdout",
     "output_type": "stream",
     "text": [
      "Collecting en-core-web-sm==3.7.1\n",
      "  Using cached https://github.com/explosion/spacy-models/releases/download/en_core_web_sm-3.7.1/en_core_web_sm-3.7.1-py3-none-any.whl (12.8 MB)\n",
      "Requirement already satisfied: spacy<3.8.0,>=3.7.2 in c:\\users\\leona\\anaconda3\\lib\\site-packages (from en-core-web-sm==3.7.1) (3.7.2)\n",
      "Requirement already satisfied: spacy-legacy<3.1.0,>=3.0.11 in c:\\users\\leona\\anaconda3\\lib\\site-packages (from spacy<3.8.0,>=3.7.2->en-core-web-sm==3.7.1) (3.0.12)\n",
      "Requirement already satisfied: spacy-loggers<2.0.0,>=1.0.0 in c:\\users\\leona\\anaconda3\\lib\\site-packages (from spacy<3.8.0,>=3.7.2->en-core-web-sm==3.7.1) (1.0.5)\n",
      "Requirement already satisfied: murmurhash<1.1.0,>=0.28.0 in c:\\users\\leona\\anaconda3\\lib\\site-packages (from spacy<3.8.0,>=3.7.2->en-core-web-sm==3.7.1) (1.0.10)\n",
      "Requirement already satisfied: cymem<2.1.0,>=2.0.2 in c:\\users\\leona\\anaconda3\\lib\\site-packages (from spacy<3.8.0,>=3.7.2->en-core-web-sm==3.7.1) (2.0.8)\n",
      "Requirement already satisfied: preshed<3.1.0,>=3.0.2 in c:\\users\\leona\\anaconda3\\lib\\site-packages (from spacy<3.8.0,>=3.7.2->en-core-web-sm==3.7.1) (3.0.9)\n",
      "Requirement already satisfied: thinc<8.3.0,>=8.1.8 in c:\\users\\leona\\anaconda3\\lib\\site-packages (from spacy<3.8.0,>=3.7.2->en-core-web-sm==3.7.1) (8.2.2)\n",
      "Requirement already satisfied: wasabi<1.2.0,>=0.9.1 in c:\\users\\leona\\anaconda3\\lib\\site-packages (from spacy<3.8.0,>=3.7.2->en-core-web-sm==3.7.1) (1.1.2)\n",
      "Requirement already satisfied: srsly<3.0.0,>=2.4.3 in c:\\users\\leona\\anaconda3\\lib\\site-packages (from spacy<3.8.0,>=3.7.2->en-core-web-sm==3.7.1) (2.4.8)\n",
      "Requirement already satisfied: catalogue<2.1.0,>=2.0.6 in c:\\users\\leona\\anaconda3\\lib\\site-packages (from spacy<3.8.0,>=3.7.2->en-core-web-sm==3.7.1) (2.0.10)\n",
      "Requirement already satisfied: weasel<0.4.0,>=0.1.0 in c:\\users\\leona\\anaconda3\\lib\\site-packages (from spacy<3.8.0,>=3.7.2->en-core-web-sm==3.7.1) (0.3.4)\n",
      "Requirement already satisfied: typer<0.10.0,>=0.3.0 in c:\\users\\leona\\anaconda3\\lib\\site-packages (from spacy<3.8.0,>=3.7.2->en-core-web-sm==3.7.1) (0.9.0)\n",
      "Requirement already satisfied: smart-open<7.0.0,>=5.2.1 in c:\\users\\leona\\anaconda3\\lib\\site-packages (from spacy<3.8.0,>=3.7.2->en-core-web-sm==3.7.1) (5.2.1)\n",
      "Requirement already satisfied: tqdm<5.0.0,>=4.38.0 in c:\\users\\leona\\anaconda3\\lib\\site-packages (from spacy<3.8.0,>=3.7.2->en-core-web-sm==3.7.1) (4.65.0)\n",
      "Requirement already satisfied: requests<3.0.0,>=2.13.0 in c:\\users\\leona\\anaconda3\\lib\\site-packages (from spacy<3.8.0,>=3.7.2->en-core-web-sm==3.7.1) (2.31.0)\n",
      "Requirement already satisfied: pydantic!=1.8,!=1.8.1,<3.0.0,>=1.7.4 in c:\\users\\leona\\anaconda3\\lib\\site-packages (from spacy<3.8.0,>=3.7.2->en-core-web-sm==3.7.1) (2.5.3)\n",
      "Requirement already satisfied: jinja2 in c:\\users\\leona\\anaconda3\\lib\\site-packages (from spacy<3.8.0,>=3.7.2->en-core-web-sm==3.7.1) (3.1.2)\n",
      "Requirement already satisfied: setuptools in c:\\users\\leona\\anaconda3\\lib\\site-packages (from spacy<3.8.0,>=3.7.2->en-core-web-sm==3.7.1) (68.0.0)\n",
      "Requirement already satisfied: packaging>=20.0 in c:\\users\\leona\\anaconda3\\lib\\site-packages (from spacy<3.8.0,>=3.7.2->en-core-web-sm==3.7.1) (23.1)\n",
      "Requirement already satisfied: langcodes<4.0.0,>=3.2.0 in c:\\users\\leona\\anaconda3\\lib\\site-packages (from spacy<3.8.0,>=3.7.2->en-core-web-sm==3.7.1) (3.3.0)\n",
      "Requirement already satisfied: numpy>=1.19.0 in c:\\users\\leona\\anaconda3\\lib\\site-packages (from spacy<3.8.0,>=3.7.2->en-core-web-sm==3.7.1) (1.23.5)\n",
      "Requirement already satisfied: annotated-types>=0.4.0 in c:\\users\\leona\\anaconda3\\lib\\site-packages (from pydantic!=1.8,!=1.8.1,<3.0.0,>=1.7.4->spacy<3.8.0,>=3.7.2->en-core-web-sm==3.7.1) (0.6.0)\n",
      "Requirement already satisfied: pydantic-core==2.14.6 in c:\\users\\leona\\anaconda3\\lib\\site-packages (from pydantic!=1.8,!=1.8.1,<3.0.0,>=1.7.4->spacy<3.8.0,>=3.7.2->en-core-web-sm==3.7.1) (2.14.6)\n",
      "Requirement already satisfied: typing-extensions>=4.6.1 in c:\\users\\leona\\anaconda3\\lib\\site-packages (from pydantic!=1.8,!=1.8.1,<3.0.0,>=1.7.4->spacy<3.8.0,>=3.7.2->en-core-web-sm==3.7.1) (4.7.1)\n",
      "Requirement already satisfied: charset-normalizer<4,>=2 in c:\\users\\leona\\anaconda3\\lib\\site-packages (from requests<3.0.0,>=2.13.0->spacy<3.8.0,>=3.7.2->en-core-web-sm==3.7.1) (2.0.4)\n",
      "Requirement already satisfied: idna<4,>=2.5 in c:\\users\\leona\\anaconda3\\lib\\site-packages (from requests<3.0.0,>=2.13.0->spacy<3.8.0,>=3.7.2->en-core-web-sm==3.7.1) (2.10)\n",
      "Requirement already satisfied: urllib3<3,>=1.21.1 in c:\\users\\leona\\anaconda3\\lib\\site-packages (from requests<3.0.0,>=2.13.0->spacy<3.8.0,>=3.7.2->en-core-web-sm==3.7.1) (1.26.16)\n",
      "Requirement already satisfied: certifi>=2017.4.17 in c:\\users\\leona\\anaconda3\\lib\\site-packages (from requests<3.0.0,>=2.13.0->spacy<3.8.0,>=3.7.2->en-core-web-sm==3.7.1) (2023.7.22)\n",
      "Requirement already satisfied: blis<0.8.0,>=0.7.8 in c:\\users\\leona\\anaconda3\\lib\\site-packages (from thinc<8.3.0,>=8.1.8->spacy<3.8.0,>=3.7.2->en-core-web-sm==3.7.1) (0.7.11)\n",
      "Requirement already satisfied: confection<1.0.0,>=0.0.1 in c:\\users\\leona\\anaconda3\\lib\\site-packages (from thinc<8.3.0,>=8.1.8->spacy<3.8.0,>=3.7.2->en-core-web-sm==3.7.1) (0.1.4)\n",
      "Requirement already satisfied: colorama in c:\\users\\leona\\anaconda3\\lib\\site-packages (from tqdm<5.0.0,>=4.38.0->spacy<3.8.0,>=3.7.2->en-core-web-sm==3.7.1) (0.4.6)\n",
      "Requirement already satisfied: click<9.0.0,>=7.1.1 in c:\\users\\leona\\anaconda3\\lib\\site-packages (from typer<0.10.0,>=0.3.0->spacy<3.8.0,>=3.7.2->en-core-web-sm==3.7.1) (8.0.4)\n",
      "Requirement already satisfied: cloudpathlib<0.17.0,>=0.7.0 in c:\\users\\leona\\anaconda3\\lib\\site-packages (from weasel<0.4.0,>=0.1.0->spacy<3.8.0,>=3.7.2->en-core-web-sm==3.7.1) (0.16.0)\n",
      "Requirement already satisfied: MarkupSafe>=2.0 in c:\\users\\leona\\anaconda3\\lib\\site-packages (from jinja2->spacy<3.8.0,>=3.7.2->en-core-web-sm==3.7.1) (2.1.1)\n",
      "\u001b[38;5;2m✔ Download and installation successful\u001b[0m\n",
      "You can now load the package via spacy.load('en_core_web_sm')\n"
     ]
    }
   ],
   "source": [
    "!python -m spacy download en_core_web_sm"
   ]
  },
  {
   "cell_type": "code",
   "execution_count": 20,
   "id": "343db00b",
   "metadata": {},
   "outputs": [
    {
     "name": "stdout",
     "output_type": "stream",
     "text": [
      "Results:\n",
      "- The house is big.\n",
      "- Houses are large.\n"
     ]
    }
   ],
   "source": [
    "import spacy\n",
    "\n",
    "def search_word_lemmatization(texts, word_to_search):\n",
    "    nlp = spacy.load(\"en_core_web_sm\")\n",
    "\n",
    "    analyzed_word = nlp(word_to_search)\n",
    "\n",
    "    word_lemma = analyzed_word[0].lemma_\n",
    "\n",
    "    results = []\n",
    "    for text in texts:\n",
    "        doc = nlp(text)\n",
    "        for token in doc:\n",
    "            if token.text.lower() == word_to_search.lower() or token.lemma_.lower() == word_lemma.lower():\n",
    "                results.append(text)\n",
    "                break\n",
    "\n",
    "    return results\n",
    "\n",
    "# Example of usage\n",
    "texts = [\"The house is big.\", \"Houses are large.\", \"This is an example.\"]\n",
    "word_to_search = \"houses\"\n",
    "\n",
    "results = search_word_lemmatization(texts, word_to_search)\n",
    "\n",
    "print(\"Results:\")\n",
    "for result in results:\n",
    "    print(\"-\", result)\n"
   ]
  },
  {
   "cell_type": "markdown",
   "id": "3accd9a7",
   "metadata": {},
   "source": [
    "### Malwares Name Search "
   ]
  },
  {
   "cell_type": "code",
   "execution_count": 21,
   "id": "332e7b97",
   "metadata": {},
   "outputs": [
    {
     "name": "stdout",
     "output_type": "stream",
     "text": [
      "Requirement already satisfied: googletrans==4.0.0-rc1 in c:\\users\\leona\\anaconda3\\lib\\site-packages (4.0.0rc1)\n",
      "Requirement already satisfied: httpx==0.13.3 in c:\\users\\leona\\anaconda3\\lib\\site-packages (from googletrans==4.0.0-rc1) (0.13.3)\n",
      "Requirement already satisfied: certifi in c:\\users\\leona\\anaconda3\\lib\\site-packages (from httpx==0.13.3->googletrans==4.0.0-rc1) (2023.7.22)\n",
      "Requirement already satisfied: hstspreload in c:\\users\\leona\\anaconda3\\lib\\site-packages (from httpx==0.13.3->googletrans==4.0.0-rc1) (2024.1.5)\n",
      "Requirement already satisfied: sniffio in c:\\users\\leona\\anaconda3\\lib\\site-packages (from httpx==0.13.3->googletrans==4.0.0-rc1) (1.2.0)\n",
      "Requirement already satisfied: chardet==3.* in c:\\users\\leona\\anaconda3\\lib\\site-packages (from httpx==0.13.3->googletrans==4.0.0-rc1) (3.0.4)\n",
      "Requirement already satisfied: idna==2.* in c:\\users\\leona\\anaconda3\\lib\\site-packages (from httpx==0.13.3->googletrans==4.0.0-rc1) (2.10)\n",
      "Requirement already satisfied: rfc3986<2,>=1.3 in c:\\users\\leona\\anaconda3\\lib\\site-packages (from httpx==0.13.3->googletrans==4.0.0-rc1) (1.5.0)\n",
      "Requirement already satisfied: httpcore==0.9.* in c:\\users\\leona\\anaconda3\\lib\\site-packages (from httpx==0.13.3->googletrans==4.0.0-rc1) (0.9.1)\n",
      "Requirement already satisfied: h11<0.10,>=0.8 in c:\\users\\leona\\anaconda3\\lib\\site-packages (from httpcore==0.9.*->httpx==0.13.3->googletrans==4.0.0-rc1) (0.9.0)\n",
      "Requirement already satisfied: h2==3.* in c:\\users\\leona\\anaconda3\\lib\\site-packages (from httpcore==0.9.*->httpx==0.13.3->googletrans==4.0.0-rc1) (3.2.0)\n",
      "Requirement already satisfied: hyperframe<6,>=5.2.0 in c:\\users\\leona\\anaconda3\\lib\\site-packages (from h2==3.*->httpcore==0.9.*->httpx==0.13.3->googletrans==4.0.0-rc1) (5.2.0)\n",
      "Requirement already satisfied: hpack<4,>=3.0 in c:\\users\\leona\\anaconda3\\lib\\site-packages (from h2==3.*->httpcore==0.9.*->httpx==0.13.3->googletrans==4.0.0-rc1) (3.0.0)\n",
      "Note: you may need to restart the kernel to use updated packages.\n"
     ]
    }
   ],
   "source": [
    "pip install googletrans==4.0.0-rc1"
   ]
  },
  {
   "cell_type": "markdown",
   "id": "4cf21dea",
   "metadata": {},
   "source": [
    "### Data Cleaning"
   ]
  },
  {
   "cell_type": "code",
   "execution_count": 22,
   "id": "8cb3d738",
   "metadata": {},
   "outputs": [],
   "source": [
    "from googletrans import Translator\n",
    "from requests.exceptions import HTTPError\n",
    "\n",
    "\n",
    "def translate_to_english(text, target_language='en'):\n",
    "    \n",
    "    translator = Translator()\n",
    "    try:\n",
    "\n",
    "        translation = translator.translate(text, dest=target_language)\n",
    "        time.sleep(1) \n",
    "        return translation.text\n",
    "    \n",
    "    except HTTPError as e:\n",
    "        print(f\"HTTP error occurred: {e}\")\n",
    "        \n",
    "    except Exception as e:\n",
    "        print(f\"An error occurred: {e}\")\n",
    "        time.sleep(1) \n",
    "\n",
    "    # Return the original text in case of an error\n",
    "    return text"
   ]
  },
  {
   "cell_type": "markdown",
   "id": "eecdc737",
   "metadata": {},
   "source": [
    "#### Imputation"
   ]
  },
  {
   "cell_type": "code",
   "execution_count": 23,
   "id": "e43cbf58",
   "metadata": {},
   "outputs": [
    {
     "data": {
      "text/html": [
       "<div>\n",
       "<style scoped>\n",
       "    .dataframe tbody tr th:only-of-type {\n",
       "        vertical-align: middle;\n",
       "    }\n",
       "\n",
       "    .dataframe tbody tr th {\n",
       "        vertical-align: top;\n",
       "    }\n",
       "\n",
       "    .dataframe thead th {\n",
       "        text-align: right;\n",
       "    }\n",
       "</style>\n",
       "<table border=\"1\" class=\"dataframe\">\n",
       "  <thead>\n",
       "    <tr style=\"text-align: right;\">\n",
       "      <th></th>\n",
       "      <th>subreddit</th>\n",
       "      <th>username</th>\n",
       "      <th>date</th>\n",
       "      <th>title</th>\n",
       "      <th>text</th>\n",
       "    </tr>\n",
       "  </thead>\n",
       "  <tbody>\n",
       "    <tr>\n",
       "      <th>0</th>\n",
       "      <td>netsec</td>\n",
       "      <td>t3_18i5ups</td>\n",
       "      <td>2023-12-14 11:36:39</td>\n",
       "      <td>Nim implementation of Old Dll Unlinking Technique</td>\n",
       "      <td></td>\n",
       "    </tr>\n",
       "    <tr>\n",
       "      <th>1</th>\n",
       "      <td>cybersecurity</td>\n",
       "      <td>t3_18i5v5x</td>\n",
       "      <td>2023-12-14 11:37:34</td>\n",
       "      <td>How to prevent employees from using unauthorized web tools?</td>\n",
       "      <td>I work as an IT manager for a business. Some time ago, a group of my colleagues decided to use a web productivity tool, created accounts using their work emails, and started introducing data.\\n\\nI had no knowledge they had been using such a tool at all. I did not even know it existed.\\n\\nToday, I received an email from my boss asking why an ex-employee still had access to the data in such a web platform, as their account hadn't been deactivated. Needless to say, I don't have access to revoke their account or anything.\\n\\nHow can I prevent them from registering on another unauthorized webpage?\\n\\nI feel like a firewall blacklist would be useless since I would have to be constantly researching and updating it with new tools, and I can't make a whitelist since my company uses a ton of different pages for intense web research.\\n\\nAny help or advice would be appreciated.\\n\\n&amp;#x200B;</td>\n",
       "    </tr>\n",
       "    <tr>\n",
       "      <th>2</th>\n",
       "      <td>MacOS</td>\n",
       "      <td>t3_18i5kyd</td>\n",
       "      <td>2023-12-14 11:17:47</td>\n",
       "      <td>Teams call pop up window blocked by reminders/calendar entries on top right corner</td>\n",
       "      <td>Hi\\n\\nDo you know this issue that when I have reminders or calendar alarms set to stick to the top right corner, that they then block the notification window for incoming Teams calls.\\n\\nDoes someone know if there is a setting for having the teams call pop up in on another location on the screen or knows another work around?</td>\n",
       "    </tr>\n",
       "    <tr>\n",
       "      <th>3</th>\n",
       "      <td>MacOS</td>\n",
       "      <td>t3_18i5koq</td>\n",
       "      <td>2023-12-14 11:17:16</td>\n",
       "      <td>Disable middle mouse button drag to other desktop</td>\n",
       "      <td>So I have been using windows for a while and now I am stumped. The middle mouse button of my logi mouse has the following functionailty: On drage change desktop, on click show all windows. That's nice and all, but I can't use fusion 360 because the dragging functionality is the middle mouse button but that just changes the desktop. How can I disable that?\\n\\n&amp;#x200B;\\n\\nSo I found this, but there is no button selected. If I select the secondary mouse button for example, it will open mission control on both right click and middle mouse button:\\n\\nhttps://preview.redd.it/bmqnrpw0m86c1.png?width=476&amp;format=png&amp;auto=webp&amp;s=97ae662fcca43bf146537393fc6a13705a0a9351\\n\\n&amp;#x200B;</td>\n",
       "    </tr>\n",
       "    <tr>\n",
       "      <th>4</th>\n",
       "      <td>windows</td>\n",
       "      <td>t3_18i5gqv</td>\n",
       "      <td>2023-12-14 11:09:52</td>\n",
       "      <td>Playing 4k videos on 2k display</td>\n",
       "      <td>Hello guys does playing 4k content on a 2k display has any benefit? For example while playing YouTube videos I set 1440p resolution on my 2k laptop and 2k smartphone despite having a option of selecting 2160p option. So i wanted to ask if i get better video quality if i select 2160p option while playing on a 2k display?</td>\n",
       "    </tr>\n",
       "  </tbody>\n",
       "</table>\n",
       "</div>"
      ],
      "text/plain": [
       "       subreddit    username                 date  \\\n",
       "0         netsec  t3_18i5ups  2023-12-14 11:36:39   \n",
       "1  cybersecurity  t3_18i5v5x  2023-12-14 11:37:34   \n",
       "2          MacOS  t3_18i5kyd  2023-12-14 11:17:47   \n",
       "3          MacOS  t3_18i5koq  2023-12-14 11:17:16   \n",
       "4        windows  t3_18i5gqv  2023-12-14 11:09:52   \n",
       "\n",
       "                                                                                title  \\\n",
       "0                                   Nim implementation of Old Dll Unlinking Technique   \n",
       "1                         How to prevent employees from using unauthorized web tools?   \n",
       "2  Teams call pop up window blocked by reminders/calendar entries on top right corner   \n",
       "3                                   Disable middle mouse button drag to other desktop   \n",
       "4                                                     Playing 4k videos on 2k display   \n",
       "\n",
       "                                                                                                                                                                                                                                                                                                                                                                                                                                                                                                                                                                                                                                                                                                                                                                                                                                                                                                                         text  \n",
       "0                                                                                                                                                                                                                                                                                                                                                                                                                                                                                                                                                                                                                                                                                                                                                                                                                                                                                                                              \n",
       "1  I work as an IT manager for a business. Some time ago, a group of my colleagues decided to use a web productivity tool, created accounts using their work emails, and started introducing data.\\n\\nI had no knowledge they had been using such a tool at all. I did not even know it existed.\\n\\nToday, I received an email from my boss asking why an ex-employee still had access to the data in such a web platform, as their account hadn't been deactivated. Needless to say, I don't have access to revoke their account or anything.\\n\\nHow can I prevent them from registering on another unauthorized webpage?\\n\\nI feel like a firewall blacklist would be useless since I would have to be constantly researching and updating it with new tools, and I can't make a whitelist since my company uses a ton of different pages for intense web research.\\n\\nAny help or advice would be appreciated.\\n\\n&#x200B;  \n",
       "2                                                                                                                                                                                                                                                                                                                                                                                                                                                                                                                                                                                      Hi\\n\\nDo you know this issue that when I have reminders or calendar alarms set to stick to the top right corner, that they then block the notification window for incoming Teams calls.\\n\\nDoes someone know if there is a setting for having the teams call pop up in on another location on the screen or knows another work around?  \n",
       "3                                                                                                                                                                                                                     So I have been using windows for a while and now I am stumped. The middle mouse button of my logi mouse has the following functionailty: On drage change desktop, on click show all windows. That's nice and all, but I can't use fusion 360 because the dragging functionality is the middle mouse button but that just changes the desktop. How can I disable that?\\n\\n&#x200B;\\n\\nSo I found this, but there is no button selected. If I select the secondary mouse button for example, it will open mission control on both right click and middle mouse button:\\n\\nhttps://preview.redd.it/bmqnrpw0m86c1.png?width=476&format=png&auto=webp&s=97ae662fcca43bf146537393fc6a13705a0a9351\\n\\n&#x200B;  \n",
       "4                                                                                                                                                                                                                                                                                                                                                                                                                                                                                                                                                                                           Hello guys does playing 4k content on a 2k display has any benefit? For example while playing YouTube videos I set 1440p resolution on my 2k laptop and 2k smartphone despite having a option of selecting 2160p option. So i wanted to ask if i get better video quality if i select 2160p option while playing on a 2k display?  "
      ]
     },
     "execution_count": 23,
     "metadata": {},
     "output_type": "execute_result"
    }
   ],
   "source": [
    "df_reddit['text'] = df_reddit['text'].fillna('')\n",
    "df_reddit['title'] = df_reddit['title'].fillna('')\n",
    "df_reddit.head()"
   ]
  },
  {
   "cell_type": "markdown",
   "id": "a09616b8",
   "metadata": {},
   "source": [
    "#### Column Filtering\n",
    "- Drop 'json' column -> useless"
   ]
  },
  {
   "cell_type": "code",
   "execution_count": 24,
   "id": "51257216",
   "metadata": {},
   "outputs": [
    {
     "data": {
      "text/html": [
       "<div>\n",
       "<style scoped>\n",
       "    .dataframe tbody tr th:only-of-type {\n",
       "        vertical-align: middle;\n",
       "    }\n",
       "\n",
       "    .dataframe tbody tr th {\n",
       "        vertical-align: top;\n",
       "    }\n",
       "\n",
       "    .dataframe thead th {\n",
       "        text-align: right;\n",
       "    }\n",
       "</style>\n",
       "<table border=\"1\" class=\"dataframe\">\n",
       "  <thead>\n",
       "    <tr style=\"text-align: right;\">\n",
       "      <th></th>\n",
       "      <th>subreddit</th>\n",
       "      <th>username</th>\n",
       "      <th>date</th>\n",
       "      <th>title</th>\n",
       "      <th>text</th>\n",
       "    </tr>\n",
       "  </thead>\n",
       "  <tbody>\n",
       "    <tr>\n",
       "      <th>50</th>\n",
       "      <td>hacking</td>\n",
       "      <td>t3_18i4tio</td>\n",
       "      <td>2023-12-14 10:22:21</td>\n",
       "      <td>Trains were designed to break down after third-party repairs, hackers find</td>\n",
       "      <td>https://arstechnica.com/tech-policy/2023/12/manufacturer-deliberately-bricked-trains-repaired-by-competitors-hackers-find/</td>\n",
       "    </tr>\n",
       "  </tbody>\n",
       "</table>\n",
       "</div>"
      ],
      "text/plain": [
       "   subreddit    username                 date  \\\n",
       "50   hacking  t3_18i4tio  2023-12-14 10:22:21   \n",
       "\n",
       "                                                                         title  \\\n",
       "50  Trains were designed to break down after third-party repairs, hackers find   \n",
       "\n",
       "                                                                                                                          text  \n",
       "50  https://arstechnica.com/tech-policy/2023/12/manufacturer-deliberately-bricked-trains-repaired-by-competitors-hackers-find/  "
      ]
     },
     "execution_count": 24,
     "metadata": {},
     "output_type": "execute_result"
    }
   ],
   "source": [
    "pd.DataFrame(df_reddit.loc[50]).T"
   ]
  },
  {
   "cell_type": "markdown",
   "id": "918df88e",
   "metadata": {},
   "source": [
    "#### Normalization\n",
    "- Convert each text and title of each post to the same language : english"
   ]
  },
  {
   "cell_type": "code",
   "execution_count": 25,
   "id": "c3d8f35e",
   "metadata": {},
   "outputs": [
    {
     "data": {
      "text/plain": [
       "\"\\n\\nfor i in range(len(df_reddit)):\\n    \\n    print(i)\\n    \\n    title = df_reddit.at[i, 'title']\\n    text = df_reddit.at[i, 'text']\\n    \\n    if(pd.isna(text) == False):\\n        new_text = translate_to_english(text)\\n        df_reddit.loc[i, 'text'] = new_text\\n\\n\\n    if(pd.isna(title) == False):\\n        new_title = translate_to_english(title)\\n        df_reddit.loc[i, 'title'] = new_title\\n        \\ndf_reddit        \\n\\n\""
      ]
     },
     "execution_count": 25,
     "metadata": {},
     "output_type": "execute_result"
    }
   ],
   "source": [
    "'''\n",
    "\n",
    "for i in range(len(df_reddit)):\n",
    "    \n",
    "    print(i)\n",
    "    \n",
    "    title = df_reddit.at[i, 'title']\n",
    "    text = df_reddit.at[i, 'text']\n",
    "    \n",
    "    if(pd.isna(text) == False):\n",
    "        new_text = translate_to_english(text)\n",
    "        df_reddit.loc[i, 'text'] = new_text\n",
    "\n",
    "\n",
    "    if(pd.isna(title) == False):\n",
    "        new_title = translate_to_english(title)\n",
    "        df_reddit.loc[i, 'title'] = new_title\n",
    "        \n",
    "df_reddit        \n",
    "\n",
    "'''"
   ]
  },
  {
   "cell_type": "markdown",
   "id": "383140c4",
   "metadata": {},
   "source": [
    "#### Data Type Conversion"
   ]
  },
  {
   "cell_type": "code",
   "execution_count": 26,
   "id": "765b9ce0",
   "metadata": {},
   "outputs": [
    {
     "data": {
      "text/html": [
       "<div>\n",
       "<style scoped>\n",
       "    .dataframe tbody tr th:only-of-type {\n",
       "        vertical-align: middle;\n",
       "    }\n",
       "\n",
       "    .dataframe tbody tr th {\n",
       "        vertical-align: top;\n",
       "    }\n",
       "\n",
       "    .dataframe thead th {\n",
       "        text-align: right;\n",
       "    }\n",
       "</style>\n",
       "<table border=\"1\" class=\"dataframe\">\n",
       "  <thead>\n",
       "    <tr style=\"text-align: right;\">\n",
       "      <th></th>\n",
       "      <th>subreddit</th>\n",
       "      <th>username</th>\n",
       "      <th>date</th>\n",
       "      <th>title</th>\n",
       "      <th>text</th>\n",
       "    </tr>\n",
       "  </thead>\n",
       "  <tbody>\n",
       "    <tr>\n",
       "      <th>0</th>\n",
       "      <td>netsec</td>\n",
       "      <td>t3_18i5ups</td>\n",
       "      <td>2023-12-14</td>\n",
       "      <td>Nim implementation of Old Dll Unlinking Technique</td>\n",
       "      <td></td>\n",
       "    </tr>\n",
       "    <tr>\n",
       "      <th>1</th>\n",
       "      <td>cybersecurity</td>\n",
       "      <td>t3_18i5v5x</td>\n",
       "      <td>2023-12-14</td>\n",
       "      <td>How to prevent employees from using unauthorized web tools?</td>\n",
       "      <td>I work as an IT manager for a business. Some time ago, a group of my colleagues decided to use a web productivity tool, created accounts using their work emails, and started introducing data.\\n\\nI had no knowledge they had been using such a tool at all. I did not even know it existed.\\n\\nToday, I received an email from my boss asking why an ex-employee still had access to the data in such a web platform, as their account hadn't been deactivated. Needless to say, I don't have access to revoke their account or anything.\\n\\nHow can I prevent them from registering on another unauthorized webpage?\\n\\nI feel like a firewall blacklist would be useless since I would have to be constantly researching and updating it with new tools, and I can't make a whitelist since my company uses a ton of different pages for intense web research.\\n\\nAny help or advice would be appreciated.\\n\\n&amp;#x200B;</td>\n",
       "    </tr>\n",
       "    <tr>\n",
       "      <th>2</th>\n",
       "      <td>MacOS</td>\n",
       "      <td>t3_18i5kyd</td>\n",
       "      <td>2023-12-14</td>\n",
       "      <td>Teams call pop up window blocked by reminders/calendar entries on top right corner</td>\n",
       "      <td>Hi\\n\\nDo you know this issue that when I have reminders or calendar alarms set to stick to the top right corner, that they then block the notification window for incoming Teams calls.\\n\\nDoes someone know if there is a setting for having the teams call pop up in on another location on the screen or knows another work around?</td>\n",
       "    </tr>\n",
       "    <tr>\n",
       "      <th>3</th>\n",
       "      <td>MacOS</td>\n",
       "      <td>t3_18i5koq</td>\n",
       "      <td>2023-12-14</td>\n",
       "      <td>Disable middle mouse button drag to other desktop</td>\n",
       "      <td>So I have been using windows for a while and now I am stumped. The middle mouse button of my logi mouse has the following functionailty: On drage change desktop, on click show all windows. That's nice and all, but I can't use fusion 360 because the dragging functionality is the middle mouse button but that just changes the desktop. How can I disable that?\\n\\n&amp;#x200B;\\n\\nSo I found this, but there is no button selected. If I select the secondary mouse button for example, it will open mission control on both right click and middle mouse button:\\n\\nhttps://preview.redd.it/bmqnrpw0m86c1.png?width=476&amp;format=png&amp;auto=webp&amp;s=97ae662fcca43bf146537393fc6a13705a0a9351\\n\\n&amp;#x200B;</td>\n",
       "    </tr>\n",
       "    <tr>\n",
       "      <th>4</th>\n",
       "      <td>windows</td>\n",
       "      <td>t3_18i5gqv</td>\n",
       "      <td>2023-12-14</td>\n",
       "      <td>Playing 4k videos on 2k display</td>\n",
       "      <td>Hello guys does playing 4k content on a 2k display has any benefit? For example while playing YouTube videos I set 1440p resolution on my 2k laptop and 2k smartphone despite having a option of selecting 2160p option. So i wanted to ask if i get better video quality if i select 2160p option while playing on a 2k display?</td>\n",
       "    </tr>\n",
       "  </tbody>\n",
       "</table>\n",
       "</div>"
      ],
      "text/plain": [
       "       subreddit    username        date  \\\n",
       "0         netsec  t3_18i5ups  2023-12-14   \n",
       "1  cybersecurity  t3_18i5v5x  2023-12-14   \n",
       "2          MacOS  t3_18i5kyd  2023-12-14   \n",
       "3          MacOS  t3_18i5koq  2023-12-14   \n",
       "4        windows  t3_18i5gqv  2023-12-14   \n",
       "\n",
       "                                                                                title  \\\n",
       "0                                   Nim implementation of Old Dll Unlinking Technique   \n",
       "1                         How to prevent employees from using unauthorized web tools?   \n",
       "2  Teams call pop up window blocked by reminders/calendar entries on top right corner   \n",
       "3                                   Disable middle mouse button drag to other desktop   \n",
       "4                                                     Playing 4k videos on 2k display   \n",
       "\n",
       "                                                                                                                                                                                                                                                                                                                                                                                                                                                                                                                                                                                                                                                                                                                                                                                                                                                                                                                         text  \n",
       "0                                                                                                                                                                                                                                                                                                                                                                                                                                                                                                                                                                                                                                                                                                                                                                                                                                                                                                                              \n",
       "1  I work as an IT manager for a business. Some time ago, a group of my colleagues decided to use a web productivity tool, created accounts using their work emails, and started introducing data.\\n\\nI had no knowledge they had been using such a tool at all. I did not even know it existed.\\n\\nToday, I received an email from my boss asking why an ex-employee still had access to the data in such a web platform, as their account hadn't been deactivated. Needless to say, I don't have access to revoke their account or anything.\\n\\nHow can I prevent them from registering on another unauthorized webpage?\\n\\nI feel like a firewall blacklist would be useless since I would have to be constantly researching and updating it with new tools, and I can't make a whitelist since my company uses a ton of different pages for intense web research.\\n\\nAny help or advice would be appreciated.\\n\\n&#x200B;  \n",
       "2                                                                                                                                                                                                                                                                                                                                                                                                                                                                                                                                                                                      Hi\\n\\nDo you know this issue that when I have reminders or calendar alarms set to stick to the top right corner, that they then block the notification window for incoming Teams calls.\\n\\nDoes someone know if there is a setting for having the teams call pop up in on another location on the screen or knows another work around?  \n",
       "3                                                                                                                                                                                                                     So I have been using windows for a while and now I am stumped. The middle mouse button of my logi mouse has the following functionailty: On drage change desktop, on click show all windows. That's nice and all, but I can't use fusion 360 because the dragging functionality is the middle mouse button but that just changes the desktop. How can I disable that?\\n\\n&#x200B;\\n\\nSo I found this, but there is no button selected. If I select the secondary mouse button for example, it will open mission control on both right click and middle mouse button:\\n\\nhttps://preview.redd.it/bmqnrpw0m86c1.png?width=476&format=png&auto=webp&s=97ae662fcca43bf146537393fc6a13705a0a9351\\n\\n&#x200B;  \n",
       "4                                                                                                                                                                                                                                                                                                                                                                                                                                                                                                                                                                                           Hello guys does playing 4k content on a 2k display has any benefit? For example while playing YouTube videos I set 1440p resolution on my 2k laptop and 2k smartphone despite having a option of selecting 2160p option. So i wanted to ask if i get better video quality if i select 2160p option while playing on a 2k display?  "
      ]
     },
     "execution_count": 26,
     "metadata": {},
     "output_type": "execute_result"
    }
   ],
   "source": [
    "df_reddit['date'] = pd.to_datetime(df_reddit['date']).dt.strftime('%Y-%m-%d')\n",
    "df_reddit.head()"
   ]
  },
  {
   "cell_type": "code",
   "execution_count": 27,
   "id": "af60db77",
   "metadata": {},
   "outputs": [],
   "source": [
    "df_reddit.to_csv(r'C:\\Users\\leona\\OneDrive\\Desktop\\Tesi\\Pipeline\\Datasets\\Pipeline\\SocialNetworksPosts\\Reddit\\PostDataCleaning\\RedditPosts.csv')"
   ]
  },
  {
   "cell_type": "markdown",
   "id": "04a7a902",
   "metadata": {},
   "source": [
    "#### Find a Match"
   ]
  },
  {
   "cell_type": "markdown",
   "id": "3c8432e1",
   "metadata": {},
   "source": [
    "##### Specify a Data of Analysis from a *starting_date* to an *ending_date*"
   ]
  },
  {
   "cell_type": "code",
   "execution_count": 28,
   "id": "431a4754",
   "metadata": {},
   "outputs": [],
   "source": [
    "start_date = datetime(2023, 8, 1)\n",
    "end_date   = datetime(2023, 8, 31)"
   ]
  },
  {
   "cell_type": "code",
   "execution_count": 29,
   "id": "c9fd9e94",
   "metadata": {},
   "outputs": [
    {
     "data": {
      "text/html": [
       "<div>\n",
       "<style scoped>\n",
       "    .dataframe tbody tr th:only-of-type {\n",
       "        vertical-align: middle;\n",
       "    }\n",
       "\n",
       "    .dataframe tbody tr th {\n",
       "        vertical-align: top;\n",
       "    }\n",
       "\n",
       "    .dataframe thead th {\n",
       "        text-align: right;\n",
       "    }\n",
       "</style>\n",
       "<table border=\"1\" class=\"dataframe\">\n",
       "  <thead>\n",
       "    <tr style=\"text-align: right;\">\n",
       "      <th></th>\n",
       "      <th>index</th>\n",
       "      <th>subreddit</th>\n",
       "      <th>username</th>\n",
       "      <th>date</th>\n",
       "      <th>title</th>\n",
       "      <th>text</th>\n",
       "    </tr>\n",
       "  </thead>\n",
       "  <tbody>\n",
       "    <tr>\n",
       "      <th>0</th>\n",
       "      <td>321679</td>\n",
       "      <td>MacOS</td>\n",
       "      <td>t3_11emj3w</td>\n",
       "      <td>2023-02-28</td>\n",
       "      <td>Is this the wrong subreddit?</td>\n",
       "      <td>I posted this yesterday with no responses. \\n\\nhttps://www.reddit.com/r/MacOS/comments/11dmuu3/function_key_not_working_functioning_correctly/\\n\\nIs this the correct subreddit? This is specific functionality in MacOS</td>\n",
       "    </tr>\n",
       "    <tr>\n",
       "      <th>1</th>\n",
       "      <td>321690</td>\n",
       "      <td>privacy</td>\n",
       "      <td>t3_11emtmn</td>\n",
       "      <td>2023-02-28</td>\n",
       "      <td>What sites can I use to get an idea of privacy related laws around Europe?</td>\n",
       "      <td>I remember one that would show you along with a map but I forgot the name</td>\n",
       "    </tr>\n",
       "    <tr>\n",
       "      <th>2</th>\n",
       "      <td>321693</td>\n",
       "      <td>PFSENSE</td>\n",
       "      <td>t3_11emi6f</td>\n",
       "      <td>2023-02-28</td>\n",
       "      <td>DNS filtering service not working with resolver in forwarding mode</td>\n",
       "      <td>RESOLUTION: I was using SSL/TLS but I did not update the hostname of the DNS servers in General Setup/DNS Server Settings. See more below.\\n\\nI'm trying to use Cloudflare's 1.1.1.3 and 1.0.0.3 for parental control.\\n\\nI have the resolver enabled and \"Enable Forwarding Mode\" is checked. In General settings I have set the DNS servers to 1.1.1.3 and 1.0.0.3. I also have \"Use SSL/TLS for outgoing DNS Queries to Forwarding Servers\" checked; I am sure Cloudflare supports this.\\n\\nOn a linux box, if I type this:\\n\\n    dig @1.0.0.3 malware.testcategory.com\\n\\nThe 1.0.0.3 DNS server returns the address 0.0.0.0 as expected, because this is a blocked domain.\\n\\nHowever, if I just run this:\\n\\n    dig malware.testcategory.com\\n\\nThen I see this in the output:\\n\\n    malware.testcategory.com. 60\\tIN\\tA\\t104.18.4.35\\n\\nAnd I can see that the DNS server that supplied this is my pfsense box:\\n\\n    ;; SERVER: 192.168.10.1#53(192.168.10.1) (UDP)\\n\\nI have tried restarting the resolver to remove an...</td>\n",
       "    </tr>\n",
       "    <tr>\n",
       "      <th>3</th>\n",
       "      <td>321698</td>\n",
       "      <td>technews</td>\n",
       "      <td>t3_11emjjp</td>\n",
       "      <td>2023-02-28</td>\n",
       "      <td>Ford patents car that can repossess itself and drive back to showroom</td>\n",
       "      <td></td>\n",
       "    </tr>\n",
       "    <tr>\n",
       "      <th>4</th>\n",
       "      <td>321710</td>\n",
       "      <td>AndroidQuestions</td>\n",
       "      <td>t3_11emn1o</td>\n",
       "      <td>2023-02-28</td>\n",
       "      <td>Mystery notification</td>\n",
       "      <td>I just had a notification icon appear and vanish which obviously makes me suspicious. It looked to be a rectangle with a swooshed upward pointing arrow in it. Anything base android it could be because I can't think what apps it could have been.</td>\n",
       "    </tr>\n",
       "    <tr>\n",
       "      <th>...</th>\n",
       "      <td>...</td>\n",
       "      <td>...</td>\n",
       "      <td>...</td>\n",
       "      <td>...</td>\n",
       "      <td>...</td>\n",
       "      <td>...</td>\n",
       "    </tr>\n",
       "    <tr>\n",
       "      <th>30915</th>\n",
       "      <td>352640</td>\n",
       "      <td>dataengineering</td>\n",
       "      <td>t3_10qdo8o</td>\n",
       "      <td>2023-02-01</td>\n",
       "      <td>Need solution ideas - excel to oracle table for viewing in app. Help!</td>\n",
       "      <td>Hey, i am trying to build a data pipeline where data is extracted from an excel file (highly edited and used by other users) read using pandas dataframe converted into json and inserted whole row of excel as a json clob in the table. The table json values are then called and merge procedure puts data into the required tables with respective columns and that final table is used in our application for our metric. The issue is excel file is constantly changing weekly and metrics in app is being affected.\\n\\nAny idea how to solve this?\\n\\nOr any standard process is there for using excel file data into oracle data table for app UI?</td>\n",
       "    </tr>\n",
       "    <tr>\n",
       "      <th>30916</th>\n",
       "      <td>352641</td>\n",
       "      <td>Scams</td>\n",
       "      <td>t3_10qec2g</td>\n",
       "      <td>2023-02-01</td>\n",
       "      <td>My friends Snapchat hacked and used to send scam links, but her location was on her street?</td>\n",
       "      <td>Basically my friends Snapchat was hacked and some link advertising 'jobs at Shell' the oil company. I assume it was a scam link.\\n\\n\\nBut her Snapchat location while she was hacked was on her home street. She was on the subway for about 15 mins and the entire hack and links took place in these 15 minutes.\\n\\n\\nMe and her sister are the only people who can see her location on Snapchat. While she was on the subway, her location moved back to her street.\\n\\n\\nCan hackers spoof location and put it in her general home location? Should we be worried about someone on her street potentially being the hacker.\\n\\n\\nThe link sent is too obscure to be her sister playing a joke on her and her sister is also scared of it so it's not her.</td>\n",
       "    </tr>\n",
       "    <tr>\n",
       "      <th>30917</th>\n",
       "      <td>352642</td>\n",
       "      <td>realtech</td>\n",
       "      <td>t3_10qdb9p</td>\n",
       "      <td>2023-02-01</td>\n",
       "      <td>AbbVie's blockbuster drug Humira finally loses its 20-year, $200 billion monopoly</td>\n",
       "      <td></td>\n",
       "    </tr>\n",
       "    <tr>\n",
       "      <th>30918</th>\n",
       "      <td>352643</td>\n",
       "      <td>linuxquestions</td>\n",
       "      <td>t3_10qebic</td>\n",
       "      <td>2023-02-01</td>\n",
       "      <td>I'm sick of the \"Activate Windows\" mark in the corner and I AM NOT paying for windows. How do I install a Linux that will let me continue my work as normal without preventing windows programs from running?</td>\n",
       "      <td>In my spare time I work on making indie games. So I need Inkscape/Gimp/Paint.net, Game Maker Studio or anything that can replace it, any music making program (I currently use Fruity Loops), and a word processor (I currently use OpenOffice).</td>\n",
       "    </tr>\n",
       "    <tr>\n",
       "      <th>30919</th>\n",
       "      <td>352644</td>\n",
       "      <td>linuxquestions</td>\n",
       "      <td>t3_10qe4xg</td>\n",
       "      <td>2023-02-01</td>\n",
       "      <td>Issue flashing Ubuntu ISO onto flash drives</td>\n",
       "      <td>Just a quick query; I've tried flashing Ubuntu onto 2 different USB drives. Both times, I get variations of the same error; Balena Etcher verifies the USB as good, but windows throws up errors saying there is no disk in Drive D.\\n\\nThe first USB stick actually showed up as Drives E &amp; D,.neither of which workable and both requesting to be fornatted. However they couldn't be formatted because they couldn't be detected.\\n\\nDoes this sound like the USB sticks were too old? Corrupted etc? Or are they not meant to be detectable once they have an ISO flashed on them?</td>\n",
       "    </tr>\n",
       "  </tbody>\n",
       "</table>\n",
       "<p>30920 rows × 6 columns</p>\n",
       "</div>"
      ],
      "text/plain": [
       "        index         subreddit    username        date  \\\n",
       "0      321679             MacOS  t3_11emj3w  2023-02-28   \n",
       "1      321690           privacy  t3_11emtmn  2023-02-28   \n",
       "2      321693           PFSENSE  t3_11emi6f  2023-02-28   \n",
       "3      321698          technews  t3_11emjjp  2023-02-28   \n",
       "4      321710  AndroidQuestions  t3_11emn1o  2023-02-28   \n",
       "...       ...               ...         ...         ...   \n",
       "30915  352640   dataengineering  t3_10qdo8o  2023-02-01   \n",
       "30916  352641             Scams  t3_10qec2g  2023-02-01   \n",
       "30917  352642          realtech  t3_10qdb9p  2023-02-01   \n",
       "30918  352643    linuxquestions  t3_10qebic  2023-02-01   \n",
       "30919  352644    linuxquestions  t3_10qe4xg  2023-02-01   \n",
       "\n",
       "                                                                                                                                                                                                               title  \\\n",
       "0                                                                                                                                                                                       Is this the wrong subreddit?   \n",
       "1                                                                                                                                         What sites can I use to get an idea of privacy related laws around Europe?   \n",
       "2                                                                                                                                                 DNS filtering service not working with resolver in forwarding mode   \n",
       "3                                                                                                                                              Ford patents car that can repossess itself and drive back to showroom   \n",
       "4                                                                                                                                                                                               Mystery notification   \n",
       "...                                                                                                                                                                                                              ...   \n",
       "30915                                                                                                                                          Need solution ideas - excel to oracle table for viewing in app. Help!   \n",
       "30916                                                                                                                    My friends Snapchat hacked and used to send scam links, but her location was on her street?   \n",
       "30917                                                                                                                              AbbVie's blockbuster drug Humira finally loses its 20-year, $200 billion monopoly   \n",
       "30918  I'm sick of the \"Activate Windows\" mark in the corner and I AM NOT paying for windows. How do I install a Linux that will let me continue my work as normal without preventing windows programs from running?   \n",
       "30919                                                                                                                                                                    Issue flashing Ubuntu ISO onto flash drives   \n",
       "\n",
       "                                                                                                                                                                                                                                                                                                                                                                                                                                                                                                                                                                                                                                                                                                                                                                                                                                                                                                                                                                                                                                          text  \n",
       "0                                                                                                                                                                                                                                                                                                                                                                                                                                                                                                                                                                                                                                                                                                                                                                                                                     I posted this yesterday with no responses. \\n\\nhttps://www.reddit.com/r/MacOS/comments/11dmuu3/function_key_not_working_functioning_correctly/\\n\\nIs this the correct subreddit? This is specific functionality in MacOS  \n",
       "1                                                                                                                                                                                                                                                                                                                                                                                                                                                                                                                                                                                                                                                                                                                                                                                                                                                                                                                                                                    I remember one that would show you along with a map but I forgot the name  \n",
       "2      RESOLUTION: I was using SSL/TLS but I did not update the hostname of the DNS servers in General Setup/DNS Server Settings. See more below.\\n\\nI'm trying to use Cloudflare's 1.1.1.3 and 1.0.0.3 for parental control.\\n\\nI have the resolver enabled and \"Enable Forwarding Mode\" is checked. In General settings I have set the DNS servers to 1.1.1.3 and 1.0.0.3. I also have \"Use SSL/TLS for outgoing DNS Queries to Forwarding Servers\" checked; I am sure Cloudflare supports this.\\n\\nOn a linux box, if I type this:\\n\\n    dig @1.0.0.3 malware.testcategory.com\\n\\nThe 1.0.0.3 DNS server returns the address 0.0.0.0 as expected, because this is a blocked domain.\\n\\nHowever, if I just run this:\\n\\n    dig malware.testcategory.com\\n\\nThen I see this in the output:\\n\\n    malware.testcategory.com. 60\\tIN\\tA\\t104.18.4.35\\n\\nAnd I can see that the DNS server that supplied this is my pfsense box:\\n\\n    ;; SERVER: 192.168.10.1#53(192.168.10.1) (UDP)\\n\\nI have tried restarting the resolver to remove an...  \n",
       "3                                                                                                                                                                                                                                                                                                                                                                                                                                                                                                                                                                                                                                                                                                                                                                                                                                                                                                                                                                                                                                               \n",
       "4                                                                                                                                                                                                                                                                                                                                                                                                                                                                                                                                                                                                                                                                                                                                                                                         I just had a notification icon appear and vanish which obviously makes me suspicious. It looked to be a rectangle with a swooshed upward pointing arrow in it. Anything base android it could be because I can't think what apps it could have been.  \n",
       "...                                                                                                                                                                                                                                                                                                                                                                                                                                                                                                                                                                                                                                                                                                                                                                                                                                                                                                                                                                                                                                        ...  \n",
       "30915                                                                                                                                                                                                                                                                                                                                                                               Hey, i am trying to build a data pipeline where data is extracted from an excel file (highly edited and used by other users) read using pandas dataframe converted into json and inserted whole row of excel as a json clob in the table. The table json values are then called and merge procedure puts data into the required tables with respective columns and that final table is used in our application for our metric. The issue is excel file is constantly changing weekly and metrics in app is being affected.\\n\\nAny idea how to solve this?\\n\\nOr any standard process is there for using excel file data into oracle data table for app UI?  \n",
       "30916                                                                                                                                                                                                                                                                            Basically my friends Snapchat was hacked and some link advertising 'jobs at Shell' the oil company. I assume it was a scam link.\\n\\n\\nBut her Snapchat location while she was hacked was on her home street. She was on the subway for about 15 mins and the entire hack and links took place in these 15 minutes.\\n\\n\\nMe and her sister are the only people who can see her location on Snapchat. While she was on the subway, her location moved back to her street.\\n\\n\\nCan hackers spoof location and put it in her general home location? Should we be worried about someone on her street potentially being the hacker.\\n\\n\\nThe link sent is too obscure to be her sister playing a joke on her and her sister is also scared of it so it's not her.  \n",
       "30917                                                                                                                                                                                                                                                                                                                                                                                                                                                                                                                                                                                                                                                                                                                                                                                                                                                                                                                                                                                                                                           \n",
       "30918                                                                                                                                                                                                                                                                                                                                                                                                                                                                                                                                                                                                                                                                                                                                                                                         In my spare time I work on making indie games. So I need Inkscape/Gimp/Paint.net, Game Maker Studio or anything that can replace it, any music making program (I currently use Fruity Loops), and a word processor (I currently use OpenOffice).  \n",
       "30919                                                                                                                                                                                                                                                                                                                                                                                                                                                   Just a quick query; I've tried flashing Ubuntu onto 2 different USB drives. Both times, I get variations of the same error; Balena Etcher verifies the USB as good, but windows throws up errors saying there is no disk in Drive D.\\n\\nThe first USB stick actually showed up as Drives E & D,.neither of which workable and both requesting to be fornatted. However they couldn't be formatted because they couldn't be detected.\\n\\nDoes this sound like the USB sticks were too old? Corrupted etc? Or are they not meant to be detectable once they have an ISO flashed on them?  \n",
       "\n",
       "[30920 rows x 6 columns]"
      ]
     },
     "execution_count": 29,
     "metadata": {},
     "output_type": "execute_result"
    }
   ],
   "source": [
    "selected_rows = df_reddit[(pd.to_datetime(df_reddit['date']) >= start_date) & (pd.to_datetime(df_reddit['date']) <= end_date)].reset_index()\n",
    "selected_rows"
   ]
  },
  {
   "cell_type": "code",
   "execution_count": 30,
   "id": "e6cd262f",
   "metadata": {},
   "outputs": [
    {
     "name": "stdout",
     "output_type": "stream",
     "text": [
      "Requirement already satisfied: tqdm in c:\\users\\leona\\anaconda3\\lib\\site-packages (4.65.0)\n",
      "Requirement already satisfied: colorama in c:\\users\\leona\\anaconda3\\lib\\site-packages (from tqdm) (0.4.6)\n",
      "Note: you may need to restart the kernel to use updated packages.\n"
     ]
    }
   ],
   "source": [
    "pip install tqdm"
   ]
  },
  {
   "cell_type": "code",
   "execution_count": 31,
   "id": "37233b8e",
   "metadata": {},
   "outputs": [
    {
     "name": "stdout",
     "output_type": "stream",
     "text": [
      "                 Testo_A         Testo_B  Match\n",
      "0      La casa è grande.  La casa grande   True\n",
      "1  Il cane corre veloce.  Il cane veloce   True\n"
     ]
    },
    {
     "name": "stderr",
     "output_type": "stream",
     "text": [
      "[nltk_data] Downloading package punkt to\n",
      "[nltk_data]     C:\\Users\\leona\\AppData\\Roaming\\nltk_data...\n",
      "[nltk_data]   Package punkt is already up-to-date!\n",
      "[nltk_data] Downloading package stopwords to\n",
      "[nltk_data]     C:\\Users\\leona\\AppData\\Roaming\\nltk_data...\n",
      "[nltk_data]   Package stopwords is already up-to-date!\n"
     ]
    }
   ],
   "source": [
    "import pandas as pd\n",
    "from nltk.stem import PorterStemmer\n",
    "from nltk.tokenize import word_tokenize\n",
    "from nltk.corpus import stopwords\n",
    "import nltk\n",
    "nltk.download('punkt')\n",
    "nltk.download('stopwords')\n",
    "\n",
    "def stemming_and_matching(df_A, df_B):\n",
    "    # Inizializzazione del PorterStemmer\n",
    "    stemmer = PorterStemmer()\n",
    "\n",
    "    # Funzione per eseguire stemming e lemmatization su una riga di testo\n",
    "    def process_text(text):\n",
    "        # Tokenizzazione\n",
    "        tokens = word_tokenize(text.lower())\n",
    "        # Rimozione delle stop words\n",
    "        stop_words = set(stopwords.words('english'))\n",
    "        filtered_tokens = [token for token in tokens if token.isalnum() and token not in stop_words]\n",
    "        # Stemming\n",
    "        stemmed_tokens = [stemmer.stem(token) for token in filtered_tokens]\n",
    "        return stemmed_tokens\n",
    "\n",
    "    # Applicare la funzione a ciascuna riga dei dataframe A e B\n",
    "    df_A['lemmatized_tokens'] = df_A['testo'].apply(process_text)\n",
    "    df_B['lemmatized_tokens'] = df_B['testo'].apply(process_text)\n",
    "\n",
    "    # Creare una lista per i risultati\n",
    "    risultati_list = []\n",
    "\n",
    "    # Calcolare la corrispondenza per ogni coppia di righe tra B e A\n",
    "    for idx_B, row_B in df_B.iterrows():\n",
    "        for idx_A, row_A in df_A.iterrows():\n",
    "            match = all(token in row_A['lemmatized_tokens'] for token in row_B['lemmatized_tokens'])\n",
    "            if match:\n",
    "                risultati_list.append({'Testo_A': row_A['testo'], 'Testo_B': row_B['testo'], 'Match': match})\n",
    "\n",
    "    # Convertire la lista di risultati in un DataFrame\n",
    "    risultati_df = pd.DataFrame(risultati_list)\n",
    "    return risultati_df\n",
    "\n",
    "# Esempio di utilizzo\n",
    "data_A = {'testo': [\"La casa è grande.\", \"Il cane corre veloce.\", \"Gli uccelli volano alto.\"]}\n",
    "data_B = {'testo': [\"La casa grande\", \"Il cane veloce\", \"uccelli alti\"]}\n",
    "df_A = pd.DataFrame(data_A)\n",
    "df_B = pd.DataFrame(data_B)\n",
    "\n",
    "risultato = stemming_and_matching(df_A, df_B)\n",
    "print(risultato)\n"
   ]
  },
  {
   "cell_type": "code",
   "execution_count": 32,
   "id": "5dfd0d80",
   "metadata": {},
   "outputs": [],
   "source": [
    "def stemming_and_matching(words_list, posts_df):\n",
    "    \n",
    "    combined_texts = posts_df['title'] + '. ' + posts_df['text']\n",
    "\n",
    "    stemmer = PorterStemmer()\n",
    "\n",
    "    def process_text(text):\n",
    "        # Tokenization\n",
    "        tokens = word_tokenize(text.lower())\n",
    "        # Delete stop words\n",
    "        stop_words = set(stopwords.words('english'))\n",
    "        filtered_tokens = [token for token in tokens if token.isalnum() and token not in stop_words]\n",
    "        # Stemming\n",
    "        stemmed_tokens = [stemmer.stem(token) for token in filtered_tokens]\n",
    "        return stemmed_tokens\n",
    "    \n",
    "    df_A = pd.DataFrame()\n",
    "    df_B = pd.DataFrame()\n",
    "    \n",
    "    df_A['text'] = combined_texts\n",
    "    df_B['text'] = words_list\n",
    "\n",
    "    df_A['lemmatized_tokens'] = df_A['text'].apply(process_text)\n",
    "    df_B['lemmatized_tokens'] = df_B['text'].apply(process_text)\n",
    "\n",
    "    risultati_list = []\n",
    "\n",
    "    for idx_B, row_B in tqdm(df_B.iterrows(), desc=\"Processing posts\"):\n",
    "        for idx_A, row_A in tqdm(df_A.iterrows(), desc=\"Processing posts\"):\n",
    "            match = all(token in row_A['lemmatized_tokens'] for token in row_B['lemmatized_tokens'])\n",
    "            if match:\n",
    "                risultati_list.append({'full_text': row_A['text'], 'keyword': row_B['text']})\n",
    "\n",
    "    # Convertire la lista di risultati in un DataFrame\n",
    "    risultati_df = pd.DataFrame(risultati_list)\n",
    "    return risultati_df"
   ]
  },
  {
   "cell_type": "code",
   "execution_count": 33,
   "id": "426364a1",
   "metadata": {},
   "outputs": [],
   "source": [
    "def search_lemma_word(title, text, word, post_index, nlp, doc):\n",
    "    analyzed_word = nlp(word)\n",
    "    word_lemma = analyzed_word[0].lemma_\n",
    "    \n",
    "    for token in doc:\n",
    "        if token.text.lower() == word.lower() or token.lemma_.lower() == word_lemma.lower():\n",
    "            return pd.DataFrame({'post_index': [post_index], 'word': [word]})\n",
    "    \n",
    "    return pd.DataFrame()\n",
    "\n",
    "def search_entire_word( text, word, post_index):\n",
    "       \n",
    "    if word.lower() in text.lower() :\n",
    "\n",
    "        return pd.DataFrame({'full_text': [text], 'keyword': [word]})\n",
    "    \n",
    "    return pd.DataFrame()\n",
    "\n",
    "from tqdm import tqdm\n",
    "\n",
    "def loop_search(words_list, posts_df):\n",
    "    nlp = spacy.load(\"en_core_web_sm\")\n",
    "    combined_texts = posts_df['title'] + '. ' + posts_df['text']\n",
    "    list_nlp = [nlp(text) for text in combined_texts]\n",
    "    result_dfs = []\n",
    "\n",
    "    for word in tqdm(words_list, desc=\"Processing words\"):\n",
    "\n",
    "        print(f'Now: {word} ')\n",
    "\n",
    "        if(len(word.split()) == 1):\n",
    "            word_analyzed = nlp(word)\n",
    "            word_lemma = word_analyzed[0].lemma_\n",
    "            for j in tqdm(range(len(posts_df)), desc=\"Processing posts\"):\n",
    "                result_dfs.append(search_lemma_word(posts_df.at[j, 'title'], combined_texts[j], word_lemma, j, nlp, list_nlp[j]))\n",
    "        \n",
    "        else:\n",
    "            for j in tqdm(range(len(posts_df)), desc=\"Processing posts\"):\n",
    "                result_dfs.append(search_entire_word(combined_texts[j], word, j))\n",
    "\n",
    "    result_df = pd.concat(result_dfs, ignore_index=True)\n",
    "    return result_df\n",
    "\n",
    "def malware_search(words_list, posts_df):\n",
    "    nlp = spacy.load(\"en_core_web_sm\")\n",
    "    combined_texts = posts_df['title'] + '. ' + posts_df['text']\n",
    "    result_dfs = []\n",
    "\n",
    "    for word in tqdm(words_list, desc=\"Processing words\"):\n",
    "\n",
    "        print(f'Now: {word} ')\n",
    "\n",
    "        for j in tqdm(range(len(posts_df)), desc=\"Processing posts\"):\n",
    "            result_dfs.append(search_entire_word(combined_texts[j], word, j))\n",
    "\n",
    "    result_df = pd.concat(result_dfs, ignore_index=True)\n",
    "    return result_df"
   ]
  },
  {
   "cell_type": "markdown",
   "id": "bb71e409",
   "metadata": {},
   "source": [
    "### Behaviours searching"
   ]
  },
  {
   "cell_type": "code",
   "execution_count": 34,
   "id": "3a8ccf67",
   "metadata": {},
   "outputs": [],
   "source": [
    "l = len(all_behaviours_name_list)\n",
    "\n",
    "index = l // 3\n",
    "\n",
    "first_half = all_behaviours_name_list[:index]\n",
    "third_half = all_behaviours_name_list[index:index*2]\n",
    "second_half = all_behaviours_name_list[index*2:]"
   ]
  },
  {
   "cell_type": "code",
   "execution_count": 35,
   "id": "41c578b6",
   "metadata": {},
   "outputs": [
    {
     "name": "stderr",
     "output_type": "stream",
     "text": [
      "Processing posts: 30920it [00:02, 11887.52it/s]\n",
      "Processing posts: 30920it [00:02, 11339.11it/s]\n",
      "Processing posts: 30920it [00:03, 9885.35it/s] \n",
      "Processing posts: 30920it [00:02, 11308.48it/s]\n",
      "Processing posts: 30920it [00:02, 11686.77it/s]\n",
      "Processing posts: 30920it [00:02, 11097.00it/s]\n",
      "Processing posts: 30920it [00:02, 10912.44it/s]\n",
      "Processing posts: 30920it [00:03, 10166.61it/s]\n",
      "Processing posts: 30920it [00:03, 9671.79it/s] \n",
      "Processing posts: 30920it [00:03, 10015.32it/s]\n",
      "Processing posts: 30920it [00:03, 10305.15it/s]\n",
      "Processing posts: 30920it [00:02, 11151.54it/s]\n",
      "Processing posts: 30920it [00:02, 10712.21it/s]\n",
      "Processing posts: 30920it [00:03, 9267.28it/s]\n",
      "Processing posts: 30920it [00:03, 9238.11it/s]\n",
      "Processing posts: 30920it [00:03, 10244.06it/s]\n",
      "Processing posts: 30920it [00:03, 10190.58it/s]\n",
      "Processing posts: 30920it [00:03, 9906.32it/s]\n",
      "Processing posts: 30920it [00:03, 9542.12it/s]\n",
      "Processing posts: 30920it [00:03, 9963.08it/s]\n",
      "Processing posts: 30920it [00:02, 10463.32it/s]\n",
      "Processing posts: 30920it [00:03, 9940.79it/s] \n",
      "Processing posts: 30920it [00:03, 10005.82it/s]\n",
      "Processing posts: 30920it [00:03, 8988.47it/s]\n",
      "Processing posts: 30920it [00:03, 9716.15it/s] \n",
      "Processing posts: 30920it [00:03, 10113.19it/s]\n",
      "Processing posts: 30920it [00:03, 10176.34it/s]\n",
      "Processing posts: 30920it [00:02, 10372.18it/s]\n",
      "Processing posts: 30920it [00:03, 9554.66it/s]\n",
      "Processing posts: 30920it [00:02, 10312.12it/s]\n",
      "Processing posts: 30920it [00:02, 10378.91it/s]\n",
      "Processing posts: 30920it [00:02, 10498.40it/s]\n",
      "Processing posts: 30920it [00:03, 10233.59it/s]\n",
      "Processing posts: 30920it [00:03, 10069.73it/s]\n",
      "Processing posts: 30920it [00:03, 9951.06it/s] \n",
      "Processing posts: 30920it [00:03, 10109.82it/s]\n",
      "Processing posts: 30920it [00:02, 10982.46it/s]\n",
      "Processing posts: 30920it [00:02, 10977.72it/s]\n",
      "Processing posts: 30920it [00:03, 9849.49it/s]\n",
      "Processing posts: 30920it [00:03, 9548.81it/s]\n",
      "Processing posts: 30920it [00:02, 10669.27it/s]\n",
      "Processing posts: 30920it [00:02, 10593.06it/s]\n",
      "Processing posts: 30920it [00:02, 10942.15it/s]\n",
      "Processing posts: 30920it [00:02, 10528.00it/s]\n",
      "Processing posts: 30920it [00:03, 9889.64it/s]\n",
      "Processing posts: 30920it [00:03, 9758.18it/s]\n",
      "Processing posts: 30920it [00:02, 10863.69it/s]\n",
      "Processing posts: 30920it [00:02, 10468.53it/s]\n",
      "Processing posts: 30920it [00:02, 10503.85it/s]\n",
      "Processing posts: 30920it [00:03, 9605.04it/s]\n",
      "Processing posts: 30920it [00:03, 9246.95it/s]\n",
      "Processing posts: 30920it [00:02, 10500.50it/s]\n",
      "Processing posts: 30920it [00:02, 10348.86it/s]\n",
      "Processing posts: 30920it [00:03, 8892.22it/s]\n",
      "Processing posts: 30920it [00:03, 9501.48it/s]\n",
      "Processing posts: 30920it [00:03, 10016.50it/s]\n",
      "Processing posts: 30920it [00:02, 10503.94it/s]\n",
      "Processing posts: 30920it [00:02, 10622.24it/s]\n",
      "Processing posts: 30920it [00:02, 10581.90it/s]\n",
      "Processing posts: 30920it [00:03, 10279.44it/s]\n",
      "Processing posts: 30920it [00:03, 9641.57it/s]\n",
      "Processing posts: 30920it [00:02, 10366.44it/s]\n",
      "Processing posts: 30920it [00:02, 10630.85it/s]\n",
      "Processing posts: 30920it [00:02, 10384.08it/s]\n",
      "Processing posts: 30920it [00:02, 10672.72it/s]\n",
      "Processing posts: 30920it [00:03, 9218.56it/s]\n",
      "Processing posts: 30920it [00:03, 10257.19it/s]\n",
      "Processing posts: 30920it [00:02, 10458.29it/s]\n",
      "Processing posts: 30920it [00:03, 10290.91it/s]\n",
      "Processing posts: 30920it [00:02, 10570.94it/s]\n",
      "Processing posts: 30920it [00:03, 10171.13it/s]\n",
      "Processing posts: 30920it [00:03, 10191.82it/s]\n",
      "Processing posts: 30920it [00:02, 10807.65it/s]\n",
      "Processing posts: 30920it [00:02, 10754.61it/s]\n",
      "Processing posts: 30920it [00:02, 11307.00it/s]\n",
      "Processing posts: 30920it [00:02, 10369.31it/s]\n",
      "Processing posts: 30920it [00:03, 9970.12it/s]\n",
      "Processing posts: 30920it [00:02, 10721.97it/s]\n",
      "Processing posts: 30920it [00:02, 10644.75it/s]\n",
      "Processing posts: 30920it [00:02, 10887.98it/s]\n",
      "Processing posts: 30920it [00:02, 10961.74it/s]\n",
      "Processing posts: 30920it [00:03, 10200.02it/s]\n",
      "Processing posts: 30920it [00:02, 10654.86it/s]\n",
      "Processing posts: 30920it [00:02, 11149.48it/s]\n",
      "Processing posts: 30920it [00:02, 10853.58it/s]\n",
      "Processing posts: 30920it [00:02, 10955.24it/s]\n",
      "Processing posts: 30920it [00:02, 10803.03it/s]\n",
      "Processing posts: 30920it [00:03, 9715.22it/s]\n",
      "Processing posts: 30920it [00:02, 10844.29it/s]\n",
      "Processing posts: 30920it [00:02, 11196.42it/s]\n",
      "Processing posts: 30920it [00:02, 10977.15it/s]\n",
      "Processing posts: 30920it [00:02, 11050.44it/s]\n",
      "Processing posts: 30920it [00:03, 9984.67it/s]\n",
      "Processing posts: 30920it [00:02, 10377.62it/s]\n",
      "Processing posts: 30920it [00:02, 10833.01it/s]\n",
      "Processing posts: 30920it [00:02, 10789.36it/s]\n",
      "Processing posts: 30920it [00:02, 11142.57it/s]\n",
      "Processing posts: 30920it [00:03, 10108.25it/s]\n",
      "Processing posts: 30920it [00:03, 9360.77it/s]\n",
      "Processing posts: 30920it [00:02, 10472.53it/s]\n",
      "Processing posts: 30920it [00:02, 10647.12it/s]\n",
      "Processing posts: 30920it [00:02, 10674.13it/s]\n",
      "Processing posts: 30920it [00:02, 10512.52it/s]\n",
      "Processing posts: 30920it [00:03, 9382.79it/s]\n",
      "Processing posts: 30920it [00:02, 10791.32it/s]\n",
      "Processing posts: 30920it [00:02, 11438.79it/s]\n",
      "Processing posts: 30920it [00:02, 11826.28it/s]\n",
      "Processing posts: 107it [05:20,  3.00s/it]\n"
     ]
    }
   ],
   "source": [
    "matches_behaviours_1 = stemming_and_matching( first_half , selected_rows)\n"
   ]
  },
  {
   "cell_type": "code",
   "execution_count": 36,
   "id": "3bf3f051",
   "metadata": {},
   "outputs": [],
   "source": [
    "matches_behaviours_1.to_csv(r'C:\\Users\\leona\\OneDrive\\Desktop\\Tesi\\Pipeline\\Datasets\\Pipeline\\SocialNetworksPosts\\Reddit\\Months\\08\\one_behaviours.csv')"
   ]
  },
  {
   "cell_type": "code",
   "execution_count": 37,
   "id": "0cb63bc5",
   "metadata": {},
   "outputs": [
    {
     "name": "stderr",
     "output_type": "stream",
     "text": [
      "Processing posts: 30920it [00:02, 11500.40it/s]\n",
      "Processing posts: 30920it [00:02, 11544.97it/s]\n",
      "Processing posts: 30920it [00:02, 11880.30it/s]\n",
      "Processing posts: 30920it [00:02, 11651.12it/s]\n",
      "Processing posts: 30920it [00:02, 11721.13it/s]\n",
      "Processing posts: 30920it [00:02, 10793.01it/s]\n",
      "Processing posts: 30920it [00:02, 11718.34it/s]\n",
      "Processing posts: 30920it [00:02, 11974.87it/s]\n",
      "Processing posts: 30920it [00:02, 11709.20it/s]\n",
      "Processing posts: 30920it [00:02, 10656.10it/s]\n",
      "Processing posts: 30920it [00:03, 10267.48it/s]\n",
      "Processing posts: 30920it [00:03, 9219.70it/s]\n",
      "Processing posts: 30920it [00:03, 10129.87it/s]\n",
      "Processing posts: 30920it [00:02, 10402.36it/s]\n",
      "Processing posts: 30920it [00:02, 10773.75it/s]\n",
      "Processing posts: 30920it [00:02, 10563.45it/s]\n",
      "Processing posts: 30920it [00:03, 9775.76it/s] \n",
      "Processing posts: 30920it [00:03, 9286.36it/s]\n",
      "Processing posts: 30920it [00:03, 8977.48it/s] \n",
      "Processing posts: 30920it [00:03, 10109.17it/s]\n",
      "Processing posts: 30920it [00:03, 10231.73it/s]\n",
      "Processing posts: 30920it [00:03, 9300.36it/s]\n",
      "Processing posts: 30920it [00:03, 10045.80it/s]\n",
      "Processing posts: 30920it [00:03, 9724.90it/s] \n",
      "Processing posts: 30920it [00:03, 9915.23it/s]\n",
      "Processing posts: 30920it [00:02, 10473.33it/s]\n",
      "Processing posts: 30920it [00:03, 9440.78it/s]\n",
      "Processing posts: 30920it [00:03, 9706.12it/s] \n",
      "Processing posts: 30920it [00:03, 9849.78it/s] \n",
      "Processing posts: 30920it [00:03, 10041.55it/s]\n",
      "Processing posts: 30920it [00:03, 10041.61it/s]\n",
      "Processing posts: 30920it [00:03, 9256.97it/s]\n",
      "Processing posts: 30920it [00:03, 9620.00it/s] \n",
      "Processing posts: 30920it [00:03, 10284.26it/s]\n",
      "Processing posts: 30920it [00:02, 10696.10it/s]\n",
      "Processing posts: 30920it [00:02, 10915.12it/s]\n",
      "Processing posts: 30920it [00:03, 10164.14it/s]\n",
      "Processing posts: 30920it [00:03, 9839.80it/s]\n",
      "Processing posts: 30920it [00:02, 10554.45it/s]\n",
      "Processing posts: 30920it [00:02, 10649.95it/s]\n",
      "Processing posts: 30920it [00:03, 10167.93it/s]\n",
      "Processing posts: 30920it [00:03, 10145.23it/s]\n",
      "Processing posts: 30920it [00:03, 10024.27it/s]\n",
      "Processing posts: 30920it [00:02, 10906.48it/s]\n",
      "Processing posts: 30920it [00:02, 11000.36it/s]\n",
      "Processing posts: 30920it [00:02, 11317.98it/s]\n",
      "Processing posts: 30920it [00:02, 11001.06it/s]\n",
      "Processing posts: 30920it [00:02, 10462.96it/s]\n",
      "Processing posts: 30920it [00:03, 10186.67it/s]\n",
      "Processing posts: 30920it [00:02, 10503.91it/s]\n",
      "Processing posts: 30920it [00:02, 11121.31it/s]\n",
      "Processing posts: 30920it [00:02, 10689.81it/s]\n",
      "Processing posts: 30920it [00:02, 10405.32it/s]\n",
      "Processing posts: 30920it [00:03, 10032.02it/s]\n",
      "Processing posts: 30920it [00:02, 10958.48it/s]\n",
      "Processing posts: 30920it [00:02, 11025.75it/s]\n",
      "Processing posts: 30920it [00:02, 11147.01it/s]\n",
      "Processing posts: 30920it [00:02, 10653.99it/s]\n",
      "Processing posts: 30920it [00:03, 9934.62it/s]\n",
      "Processing posts: 30920it [00:02, 10368.88it/s]\n",
      "Processing posts: 30920it [00:02, 10647.89it/s]\n",
      "Processing posts: 30920it [00:03, 9998.96it/s]\n",
      "Processing posts: 30920it [00:03, 10276.47it/s]\n",
      "Processing posts: 30920it [00:03, 9683.65it/s]\n",
      "Processing posts: 30920it [00:03, 9596.36it/s] \n",
      "Processing posts: 30920it [00:03, 10287.92it/s]\n",
      "Processing posts: 30920it [00:03, 10241.47it/s]\n",
      "Processing posts: 30920it [00:02, 10357.84it/s]\n",
      "Processing posts: 30920it [00:02, 10523.54it/s]\n",
      "Processing posts: 30920it [00:03, 9369.60it/s]\n",
      "Processing posts: 30920it [00:02, 10405.81it/s]\n",
      "Processing posts: 30920it [00:02, 10421.27it/s]\n",
      "Processing posts: 30920it [00:03, 9910.78it/s]\n",
      "Processing posts: 30920it [00:03, 10221.62it/s]\n",
      "Processing posts: 30920it [00:03, 9075.41it/s]\n",
      "Processing posts: 30920it [00:03, 10257.42it/s]\n",
      "Processing posts: 30920it [00:03, 10208.55it/s]\n",
      "Processing posts: 30920it [00:03, 9999.90it/s]\n",
      "Processing posts: 30920it [00:02, 10442.81it/s]\n",
      "Processing posts: 30920it [00:03, 9622.18it/s]\n",
      "Processing posts: 30920it [00:03, 10159.00it/s]\n",
      "Processing posts: 30920it [00:03, 10233.63it/s]\n",
      "Processing posts: 30920it [00:02, 10413.56it/s]\n",
      "Processing posts: 30920it [00:02, 10506.10it/s]\n",
      "Processing posts: 30920it [00:03, 9626.07it/s]\n",
      "Processing posts: 30920it [00:03, 10016.35it/s]\n",
      "Processing posts: 30920it [00:02, 10857.06it/s]\n",
      "Processing posts: 30920it [00:03, 10103.87it/s]\n",
      "Processing posts: 30920it [00:03, 10187.54it/s]\n",
      "Processing posts: 30920it [00:03, 8851.12it/s]\n",
      "Processing posts: 30920it [00:03, 9240.86it/s]\n",
      "Processing posts: 30920it [00:03, 9927.68it/s] \n",
      "Processing posts: 30920it [00:02, 10530.71it/s]\n",
      "Processing posts: 30920it [00:02, 10679.40it/s]\n",
      "Processing posts: 30920it [00:03, 10004.51it/s]\n",
      "Processing posts: 30920it [00:03, 9720.77it/s]\n",
      "Processing posts: 30920it [00:02, 10344.46it/s]\n",
      "Processing posts: 30920it [00:02, 10418.87it/s]\n",
      "Processing posts: 30920it [00:02, 10671.76it/s]\n",
      "Processing posts: 30920it [00:02, 10306.95it/s]\n",
      "Processing posts: 30920it [00:03, 9282.97it/s]\n",
      "Processing posts: 30920it [00:03, 10123.23it/s]\n",
      "Processing posts: 30920it [00:03, 10297.34it/s]\n",
      "Processing posts: 30920it [00:02, 11036.06it/s]\n",
      "Processing posts: 30920it [00:02, 11236.24it/s]\n",
      "Processing posts: 30920it [00:02, 10605.77it/s]\n",
      "Processing posts: 30920it [00:02, 10555.90it/s]\n",
      "Processing posts: 30920it [00:02, 11196.47it/s]\n",
      "Processing posts: 30920it [00:02, 11372.79it/s]\n",
      "Processing posts: 109it [05:28,  3.01s/it]\n"
     ]
    }
   ],
   "source": [
    "matches_behaviours_2 = stemming_and_matching( second_half , selected_rows)\n"
   ]
  },
  {
   "cell_type": "code",
   "execution_count": 38,
   "id": "85b13e45",
   "metadata": {},
   "outputs": [],
   "source": [
    "matches_behaviours_2.to_csv(r'C:\\Users\\leona\\OneDrive\\Desktop\\Tesi\\Pipeline\\Datasets\\Pipeline\\SocialNetworksPosts\\Reddit\\Months\\08\\two_behaviours.csv')"
   ]
  },
  {
   "cell_type": "code",
   "execution_count": 39,
   "id": "ef599e5e",
   "metadata": {},
   "outputs": [
    {
     "name": "stderr",
     "output_type": "stream",
     "text": [
      "Processing posts: 30920it [00:02, 12594.35it/s]\n",
      "Processing posts: 30920it [00:02, 12788.87it/s]\n",
      "Processing posts: 30920it [00:02, 12880.74it/s]\n",
      "Processing posts: 30920it [00:02, 12991.66it/s]\n",
      "Processing posts: 30920it [00:02, 11436.21it/s]\n",
      "Processing posts: 30920it [00:02, 12070.84it/s]\n",
      "Processing posts: 30920it [00:02, 12580.02it/s]\n",
      "Processing posts: 30920it [00:02, 12699.68it/s]\n",
      "Processing posts: 30920it [00:02, 12824.45it/s]\n",
      "Processing posts: 30920it [00:02, 13062.53it/s]\n",
      "Processing posts: 30920it [00:02, 12224.86it/s]\n",
      "Processing posts: 30920it [00:02, 11603.10it/s]\n",
      "Processing posts: 30920it [00:02, 12871.53it/s]\n",
      "Processing posts: 30920it [00:02, 12692.09it/s]\n",
      "Processing posts: 30920it [00:02, 11860.70it/s]\n",
      "Processing posts: 30920it [00:02, 12890.94it/s]\n",
      "Processing posts: 30920it [00:02, 12484.64it/s]\n",
      "Processing posts: 30920it [00:02, 11326.80it/s]\n",
      "Processing posts: 30920it [00:02, 12220.23it/s]\n",
      "Processing posts: 30920it [00:02, 12339.27it/s]\n",
      "Processing posts: 30920it [00:02, 12927.81it/s]\n",
      "Processing posts: 30920it [00:02, 11944.42it/s]\n",
      "Processing posts: 30920it [00:02, 12044.22it/s]\n",
      "Processing posts: 30920it [00:02, 10676.02it/s]\n",
      "Processing posts: 30920it [00:02, 11036.15it/s]\n",
      "Processing posts: 30920it [00:02, 11440.17it/s]\n",
      "Processing posts: 30920it [00:02, 11598.47it/s]\n",
      "Processing posts: 30920it [00:02, 11595.74it/s]\n",
      "Processing posts: 30920it [00:02, 11579.29it/s]\n",
      "Processing posts: 30920it [00:03, 10269.37it/s]\n",
      "Processing posts: 30920it [00:02, 11398.14it/s]\n",
      "Processing posts: 30920it [00:02, 11868.12it/s]\n",
      "Processing posts: 30920it [00:02, 11648.11it/s]\n",
      "Processing posts: 30920it [00:02, 11571.43it/s]\n",
      "Processing posts: 30920it [00:02, 11108.59it/s]\n",
      "Processing posts: 30920it [00:03, 10136.71it/s]\n",
      "Processing posts: 30920it [00:02, 11205.79it/s]\n",
      "Processing posts: 30920it [00:02, 11297.87it/s]\n",
      "Processing posts: 30920it [00:02, 11638.21it/s]\n",
      "Processing posts: 30920it [00:02, 10956.47it/s]\n",
      "Processing posts: 30920it [00:03, 10193.15it/s]\n",
      "Processing posts: 30920it [00:03, 10234.98it/s]\n",
      "Processing posts: 30920it [00:02, 11579.80it/s]\n",
      "Processing posts: 30920it [00:02, 12205.05it/s]\n",
      "Processing posts: 30920it [00:02, 11994.77it/s]\n",
      "Processing posts: 30920it [00:02, 11962.16it/s]\n",
      "Processing posts: 30920it [00:02, 10470.55it/s]\n",
      "Processing posts: 30920it [00:03, 10111.36it/s]\n",
      "Processing posts: 30920it [00:02, 10354.10it/s]\n",
      "Processing posts: 30920it [00:02, 11011.49it/s]\n",
      "Processing posts: 30920it [00:02, 10697.92it/s]\n",
      "Processing posts: 30920it [00:02, 10326.31it/s]\n",
      "Processing posts: 30920it [00:03, 10061.91it/s]\n",
      "Processing posts: 30920it [00:02, 10848.05it/s]\n",
      "Processing posts: 30920it [00:02, 11110.02it/s]\n",
      "Processing posts: 30920it [00:02, 10528.44it/s]\n",
      "Processing posts: 30920it [00:02, 10866.27it/s]\n",
      "Processing posts: 30920it [00:03, 10095.11it/s]\n",
      "Processing posts: 30920it [00:03, 10218.34it/s]\n",
      "Processing posts: 30920it [00:02, 10899.21it/s]\n",
      "Processing posts: 30920it [00:02, 10623.23it/s]\n",
      "Processing posts: 30920it [00:02, 10349.51it/s]\n",
      "Processing posts: 30920it [00:03, 9834.12it/s]\n",
      "Processing posts: 30920it [00:03, 9585.67it/s]\n",
      "Processing posts: 30920it [00:03, 10162.86it/s]\n",
      "Processing posts: 30920it [00:03, 10277.22it/s]\n",
      "Processing posts: 30920it [00:02, 10404.74it/s]\n",
      "Processing posts: 30920it [00:03, 10050.20it/s]\n",
      "Processing posts: 30920it [00:03, 9126.42it/s]\n",
      "Processing posts: 30920it [00:03, 10082.49it/s]\n",
      "Processing posts: 30920it [00:02, 10476.93it/s]\n",
      "Processing posts: 30920it [00:03, 10229.12it/s]\n",
      "Processing posts: 30920it [00:03, 9851.91it/s] \n",
      "Processing posts: 30920it [00:03, 9584.79it/s]\n",
      "Processing posts: 30920it [00:03, 9093.26it/s]\n",
      "Processing posts: 30920it [00:02, 10411.41it/s]\n",
      "Processing posts: 30920it [00:02, 10716.36it/s]\n",
      "Processing posts: 30920it [00:02, 10644.07it/s]\n",
      "Processing posts: 30920it [00:03, 9520.02it/s]\n",
      "Processing posts: 30920it [00:03, 10261.29it/s]\n",
      "Processing posts: 30920it [00:02, 10622.90it/s]\n",
      "Processing posts: 30920it [00:02, 10831.29it/s]\n",
      "Processing posts: 30920it [00:03, 10231.21it/s]\n",
      "Processing posts: 30920it [00:03, 9878.61it/s]\n",
      "Processing posts: 30920it [00:03, 9847.71it/s] \n",
      "Processing posts: 30920it [00:02, 10486.81it/s]\n",
      "Processing posts: 30920it [00:02, 10729.54it/s]\n",
      "Processing posts: 30920it [00:02, 10419.59it/s]\n",
      "Processing posts: 30920it [00:03, 9971.70it/s]\n",
      "Processing posts: 30920it [00:03, 9499.41it/s]\n",
      "Processing posts: 30920it [00:02, 10576.69it/s]\n",
      "Processing posts: 30920it [00:02, 10340.05it/s]\n",
      "Processing posts: 30920it [00:03, 10264.42it/s]\n",
      "Processing posts: 30920it [00:03, 9898.23it/s]\n",
      "Processing posts: 30920it [00:03, 9214.13it/s]\n",
      "Processing posts: 30920it [00:03, 10272.59it/s]\n",
      "Processing posts: 30920it [00:03, 9415.53it/s]\n",
      "Processing posts: 30920it [00:03, 9327.71it/s] \n",
      "Processing posts: 30920it [00:03, 10261.45it/s]\n",
      "Processing posts: 30920it [00:03, 9407.60it/s]\n",
      "Processing posts: 30920it [00:02, 10502.49it/s]\n",
      "Processing posts: 30920it [00:02, 11026.87it/s]\n",
      "Processing posts: 30920it [00:02, 10343.97it/s]\n",
      "Processing posts: 30920it [00:02, 10579.32it/s]\n",
      "Processing posts: 30920it [00:03, 9543.31it/s]\n",
      "Processing posts: 30920it [00:02, 10597.47it/s]\n",
      "Processing posts: 30920it [00:02, 10430.08it/s]\n",
      "Processing posts: 107it [05:06,  2.87s/it]\n"
     ]
    }
   ],
   "source": [
    "matches_behaviours_3 = stemming_and_matching( third_half , selected_rows)\n"
   ]
  },
  {
   "cell_type": "code",
   "execution_count": 40,
   "id": "a81efc6d",
   "metadata": {},
   "outputs": [],
   "source": [
    "matches_behaviours_3.to_csv(r'C:\\Users\\leona\\OneDrive\\Desktop\\Tesi\\Pipeline\\Datasets\\Pipeline\\SocialNetworksPosts\\Reddit\\Months\\08\\three_behaviours.csv')"
   ]
  },
  {
   "cell_type": "code",
   "execution_count": 41,
   "id": "fb269744",
   "metadata": {},
   "outputs": [
    {
     "data": {
      "text/html": [
       "<div>\n",
       "<style scoped>\n",
       "    .dataframe tbody tr th:only-of-type {\n",
       "        vertical-align: middle;\n",
       "    }\n",
       "\n",
       "    .dataframe tbody tr th {\n",
       "        vertical-align: top;\n",
       "    }\n",
       "\n",
       "    .dataframe thead th {\n",
       "        text-align: right;\n",
       "    }\n",
       "</style>\n",
       "<table border=\"1\" class=\"dataframe\">\n",
       "  <thead>\n",
       "    <tr style=\"text-align: right;\">\n",
       "      <th></th>\n",
       "      <th>full_text</th>\n",
       "      <th>keyword</th>\n",
       "    </tr>\n",
       "  </thead>\n",
       "  <tbody>\n",
       "    <tr>\n",
       "      <th>0</th>\n",
       "      <td>How do you deploy security updates in production?. Do you tag a new version and build a new artifact with the security updates and then deploy that artifact, or do you have an automatic process that installs the security updates directly on the app instance?  \\nI am aware that this is a broad question and that it really depends on the project, I'm mainly talking about immutable infrastructures. For example with Packer and Ansible, how would you do this?  \\nHowever, really I'm interested in all types of answers for all types of projects.</td>\n",
       "      <td>process interest</td>\n",
       "    </tr>\n",
       "    <tr>\n",
       "      <th>1</th>\n",
       "      <td>CySA+ or SEC+. I am currently interested in entering the cybersecurity field. As of now I have basic networking knowledge (CCNA oriented). And now I want to do certification to border my knowledge and capability and am confused about which one to do. \\n\\n1. Directly jump to CySA and there won't be any problem.\\n2. Learn basics in Security+ or otherwise I won't be able to understand CySA concepts.\\n\\nPlease guide me, which path should I take. And also what would be the whole process of getting comptia certification would be. \\n\\nFor background: I am currently in 6th semester of my BS in IT.</td>\n",
       "      <td>process interest</td>\n",
       "    </tr>\n",
       "    <tr>\n",
       "      <th>2</th>\n",
       "      <td>Trading Bot Course with full code. After several years, I still see that there are many people for whatever reason, they continue to eat scams buying bots when just by searching the internet, you can get all the information to make your own.\\n\\nI have decided to video document the process of creating my own trading bot in Python, applying a very basic trading strategy on the Binance Exchange (although it would also work for Forex), so that people can understand and program their own bot and adapt it at all times to the strategy you want to have.\\n\\nFor example, I am now applying a grid accumulation strategy since I am interested in spending a couple of years doing ACN and accumulating.\\n\\nI also saw that many people, despite getting a bot, do not know how to transfer their strategy to the bot. In one of the parts, I show and explain how to apply trading strategies and indicators to Python for the bot to execute the strategy.\\n\\nSo I have created a kind of course/tutorial with video...</td>\n",
       "      <td>process interest</td>\n",
       "    </tr>\n",
       "    <tr>\n",
       "      <th>3</th>\n",
       "      <td>Trading Bot Course with full code. After several years, I still see that there are many people for whatever reason, they continue to eat scams buying bots when just by searching the internet, you can get all the information to make your own.\\n\\nI have decided to video document the process of creating my own trading bot in Python, applying a very basic trading strategy on the Binance Exchange (although it would also work for Forex), so that people can understand and program their own bot and adapt it at all times to the strategy you want to have.\\n\\nFor example, I am now applying a grid accumulation strategy since I am interested in spending a couple of years doing ACN and accumulating.\\n\\nI also saw that many people, despite getting a bot, do not know how to transfer their strategy to the bot. In one of the parts, I show and explain how to apply trading strategies and indicators to Python for the bot to execute the strategy.\\n\\nSo I have created a kind of course/tutorial with video...</td>\n",
       "      <td>process interest</td>\n",
       "    </tr>\n",
       "    <tr>\n",
       "      <th>4</th>\n",
       "      <td>TechData Migrations. Hello, \\n\\nSo I'm currently in the role of Microsoft licensing administration within my company, this is a very very recent change, as previously I was simply a sales associate. The company I work for uses TechData for all their Microsoft licensing purchasing and this week I discovered I have now been placed in a spot where I would need to migrate hundreds, maybe thousands, of our customer licenses to NCE seeing they are still legacy. In my previous position, my company used Pax8 and I had zero issues with the migration process during the first stage of the NCE transition.\\n\\nMy main question is, how difficult will this TechData Legacy to NCE transition be? I have found some resources to attempt and assist in this process, but I wasn't sure if they were solid methods. Would this process be as straightforward as Pax8?\\n\\nI work remotely, about 160 miles remote, until this transition is completed I will have to attend an in-person meeting with my CEO about this e...</td>\n",
       "      <td>process interest</td>\n",
       "    </tr>\n",
       "    <tr>\n",
       "      <th>...</th>\n",
       "      <td>...</td>\n",
       "      <td>...</td>\n",
       "    </tr>\n",
       "    <tr>\n",
       "      <th>992</th>\n",
       "      <td>Got malware don't know what to do:(. So I recently downloaded an emulator and a game but failed until my friend showed me how and then it worked but after that my chrome would close itself and reopen with Microsoft Bing as the search engine and will keep doing it right now as well. at the start it would also open terminal command thing with a code and a black screen on it but I would close it sadly I lost what the code was. I also saw Microsoft PowerShell 2 kind of like running at higher power whenever my chrome would close. and finally I ran a FULL scan on Microsoft defender but nothing was found and I found it odd so I don't know what to do.</td>\n",
       "      <td>powershell download</td>\n",
       "    </tr>\n",
       "    <tr>\n",
       "      <th>993</th>\n",
       "      <td>I cannot create custom ISO. where can I download 6.5 with every driver?. I have a 6th gen NUC and I am unable to install ESXi. It says, NIC driver needed. Tried to make a custom one, but Im always running to issues with powershell</td>\n",
       "      <td>powershell download</td>\n",
       "    </tr>\n",
       "    <tr>\n",
       "      <th>994</th>\n",
       "      <td>Windows Defender pulling reports. I can not seem to find a report for Windows Defender that I can export with Device, User, OS, status and senor.   \\nIf anyone else is in charge of reporting or ISO compliance this is the list I do pull.\\n\\n1. Distribution List report: ALL, Employee, Contractor, Go to Azure Active Directory Admin Center&gt;Groups&gt;Select group&gt;Bulk Operations&gt;Download \\n\\n2. Asset management (Windows): Microsoft Endpoint Manager&gt;Devices&gt;All Devices&gt;Export \\n\\n3. Patch management (Windows): Microsoft Endpoint Manager&gt; Select Devices &gt; Monitor. Then under Software updates select Per update ring deployment state and choose the deployment ring to review. \\n\\n4.Encryption report Intune: Microsoft Endpoint Manager&gt;Devices&gt;Monitor \\n\\n5. User System Application report Intune: Endpoint Manager&gt;Apps&gt;all Apps also all apps&gt;discover&gt;Monitor \\n\\n6. Risky user sign in report: Azure Active Directory Admin Center&gt;Security&gt;Risky Users \\n\\n7. Active Directory List: Azure Active Director...</td>\n",
       "      <td>powershell download</td>\n",
       "    </tr>\n",
       "    <tr>\n",
       "      <th>995</th>\n",
       "      <td>Painfully slow get-hotfix on two 2019 servers. Background:\\n\\nvmware shop, fully virtualized.  All windows servers, domain joined or not, are set to not autopatch.  They can poll their local WSUS for updates on a interval but are not allowed to download anything.  Our AV for winservers is current ESET so I kick off scheduled windows update windows using that agent, works like a charm.  \\n\\n\\nWe monitor servers using NagiosXI check\\_nrpe.  A custom powershell check is checking the hotfixes installed (wmi query) to see the most recent update installed, pull the date and KB, compare that date with the actual date then decide if it's been too long since it updated, all logic in that script.  \\n\\n\\nAll servers pull this script from a network location but it really doesn't matter if it runs locally or from the remote script, or if you just run the commands manually.  \\n\\n\\nOut of almost 200 servers, two of them are taking upwards of 39 seconds to complete this check, while every other sy...</td>\n",
       "      <td>powershell download</td>\n",
       "    </tr>\n",
       "    <tr>\n",
       "      <th>996</th>\n",
       "      <td>Is it possible to save email attachements using pipelines in Azure DevOps. Hi guys, i have a powershell script which refers to my outlook client in order to download the attachments of new emails (see below). With this version i can't use the script with a pipeline. Is there an alternative way that will work with a pipeline?\\n\\n\\nCurrent script (short form):\\n\\n$outlook = New-Object -com outlook.application\\n$mapi = $outlook.GetNameSpace(\"MAPI\")\\n$recipient = $mapi.CreateRecipient('#mail adress#')\\n$sharedInbox = $mapi.GetSharedDefaultFolder($recipient, [Microsoft.Office.Interop.Outlook.OlDefaultFolders]::olFolderInbox)</td>\n",
       "      <td>powershell download</td>\n",
       "    </tr>\n",
       "  </tbody>\n",
       "</table>\n",
       "<p>2384 rows × 2 columns</p>\n",
       "</div>"
      ],
      "text/plain": [
       "                                                                                                                                                                                                                                                                                                                                                                                                                                                                                                                                                                                                                                                                                                                                                                                                                                                                                                                                                                                                                                   full_text  \\\n",
       "0                                                                                                                                                                                                                                                                                                                                                                                                                                                                             How do you deploy security updates in production?. Do you tag a new version and build a new artifact with the security updates and then deploy that artifact, or do you have an automatic process that installs the security updates directly on the app instance?  \\nI am aware that this is a broad question and that it really depends on the project, I'm mainly talking about immutable infrastructures. For example with Packer and Ansible, how would you do this?  \\nHowever, really I'm interested in all types of answers for all types of projects.   \n",
       "1                                                                                                                                                                                                                                                                                                                                                                                                                       CySA+ or SEC+. I am currently interested in entering the cybersecurity field. As of now I have basic networking knowledge (CCNA oriented). And now I want to do certification to border my knowledge and capability and am confused about which one to do. \\n\\n1. Directly jump to CySA and there won't be any problem.\\n2. Learn basics in Security+ or otherwise I won't be able to understand CySA concepts.\\n\\nPlease guide me, which path should I take. And also what would be the whole process of getting comptia certification would be. \\n\\nFor background: I am currently in 6th semester of my BS in IT.   \n",
       "2    Trading Bot Course with full code. After several years, I still see that there are many people for whatever reason, they continue to eat scams buying bots when just by searching the internet, you can get all the information to make your own.\\n\\nI have decided to video document the process of creating my own trading bot in Python, applying a very basic trading strategy on the Binance Exchange (although it would also work for Forex), so that people can understand and program their own bot and adapt it at all times to the strategy you want to have.\\n\\nFor example, I am now applying a grid accumulation strategy since I am interested in spending a couple of years doing ACN and accumulating.\\n\\nI also saw that many people, despite getting a bot, do not know how to transfer their strategy to the bot. In one of the parts, I show and explain how to apply trading strategies and indicators to Python for the bot to execute the strategy.\\n\\nSo I have created a kind of course/tutorial with video...   \n",
       "3    Trading Bot Course with full code. After several years, I still see that there are many people for whatever reason, they continue to eat scams buying bots when just by searching the internet, you can get all the information to make your own.\\n\\nI have decided to video document the process of creating my own trading bot in Python, applying a very basic trading strategy on the Binance Exchange (although it would also work for Forex), so that people can understand and program their own bot and adapt it at all times to the strategy you want to have.\\n\\nFor example, I am now applying a grid accumulation strategy since I am interested in spending a couple of years doing ACN and accumulating.\\n\\nI also saw that many people, despite getting a bot, do not know how to transfer their strategy to the bot. In one of the parts, I show and explain how to apply trading strategies and indicators to Python for the bot to execute the strategy.\\n\\nSo I have created a kind of course/tutorial with video...   \n",
       "4    TechData Migrations. Hello, \\n\\nSo I'm currently in the role of Microsoft licensing administration within my company, this is a very very recent change, as previously I was simply a sales associate. The company I work for uses TechData for all their Microsoft licensing purchasing and this week I discovered I have now been placed in a spot where I would need to migrate hundreds, maybe thousands, of our customer licenses to NCE seeing they are still legacy. In my previous position, my company used Pax8 and I had zero issues with the migration process during the first stage of the NCE transition.\\n\\nMy main question is, how difficult will this TechData Legacy to NCE transition be? I have found some resources to attempt and assist in this process, but I wasn't sure if they were solid methods. Would this process be as straightforward as Pax8?\\n\\nI work remotely, about 160 miles remote, until this transition is completed I will have to attend an in-person meeting with my CEO about this e...   \n",
       "..                                                                                                                                                                                                                                                                                                                                                                                                                                                                                                                                                                                                                                                                                                                                                                                                                                                                                                                                                                                                                                       ...   \n",
       "992                                                                                                                                                                                                                                                                                                                                                              Got malware don't know what to do:(. So I recently downloaded an emulator and a game but failed until my friend showed me how and then it worked but after that my chrome would close itself and reopen with Microsoft Bing as the search engine and will keep doing it right now as well. at the start it would also open terminal command thing with a code and a black screen on it but I would close it sadly I lost what the code was. I also saw Microsoft PowerShell 2 kind of like running at higher power whenever my chrome would close. and finally I ran a FULL scan on Microsoft defender but nothing was found and I found it odd so I don't know what to do.   \n",
       "993                                                                                                                                                                                                                                                                                                                                                                                                                                                                                                                                                                                                                                                                                                                                                                                                   I cannot create custom ISO. where can I download 6.5 with every driver?. I have a 6th gen NUC and I am unable to install ESXi. It says, NIC driver needed. Tried to make a custom one, but Im always running to issues with powershell   \n",
       "994  Windows Defender pulling reports. I can not seem to find a report for Windows Defender that I can export with Device, User, OS, status and senor.   \\nIf anyone else is in charge of reporting or ISO compliance this is the list I do pull.\\n\\n1. Distribution List report: ALL, Employee, Contractor, Go to Azure Active Directory Admin Center>Groups>Select group>Bulk Operations>Download \\n\\n2. Asset management (Windows): Microsoft Endpoint Manager>Devices>All Devices>Export \\n\\n3. Patch management (Windows): Microsoft Endpoint Manager> Select Devices > Monitor. Then under Software updates select Per update ring deployment state and choose the deployment ring to review. \\n\\n4.Encryption report Intune: Microsoft Endpoint Manager>Devices>Monitor \\n\\n5. User System Application report Intune: Endpoint Manager>Apps>all Apps also all apps>discover>Monitor \\n\\n6. Risky user sign in report: Azure Active Directory Admin Center>Security>Risky Users \\n\\n7. Active Directory List: Azure Active Director...   \n",
       "995  Painfully slow get-hotfix on two 2019 servers. Background:\\n\\nvmware shop, fully virtualized.  All windows servers, domain joined or not, are set to not autopatch.  They can poll their local WSUS for updates on a interval but are not allowed to download anything.  Our AV for winservers is current ESET so I kick off scheduled windows update windows using that agent, works like a charm.  \\n\\n\\nWe monitor servers using NagiosXI check\\_nrpe.  A custom powershell check is checking the hotfixes installed (wmi query) to see the most recent update installed, pull the date and KB, compare that date with the actual date then decide if it's been too long since it updated, all logic in that script.  \\n\\n\\nAll servers pull this script from a network location but it really doesn't matter if it runs locally or from the remote script, or if you just run the commands manually.  \\n\\n\\nOut of almost 200 servers, two of them are taking upwards of 39 seconds to complete this check, while every other sy...   \n",
       "996                                                                                                                                                                                                                                                                                                                                                                                      Is it possible to save email attachements using pipelines in Azure DevOps. Hi guys, i have a powershell script which refers to my outlook client in order to download the attachments of new emails (see below). With this version i can't use the script with a pipeline. Is there an alternative way that will work with a pipeline?\\n\\n\\nCurrent script (short form):\\n\\n$outlook = New-Object -com outlook.application\\n$mapi = $outlook.GetNameSpace(\"MAPI\")\\n$recipient = $mapi.CreateRecipient('#mail adress#')\\n$sharedInbox = $mapi.GetSharedDefaultFolder($recipient, [Microsoft.Office.Interop.Outlook.OlDefaultFolders]::olFolderInbox)   \n",
       "\n",
       "                 keyword  \n",
       "0       process interest  \n",
       "1       process interest  \n",
       "2       process interest  \n",
       "3       process interest  \n",
       "4       process interest  \n",
       "..                   ...  \n",
       "992  powershell download  \n",
       "993  powershell download  \n",
       "994  powershell download  \n",
       "995  powershell download  \n",
       "996  powershell download  \n",
       "\n",
       "[2384 rows x 2 columns]"
      ]
     },
     "execution_count": 41,
     "metadata": {},
     "output_type": "execute_result"
    }
   ],
   "source": [
    "matches = pd.concat([matches_behaviours_3, matches_behaviours_2, matches_behaviours_1])\n",
    "matches"
   ]
  },
  {
   "cell_type": "code",
   "execution_count": 42,
   "id": "38bac787",
   "metadata": {},
   "outputs": [],
   "source": [
    "matches['keyword type'] = 'behaviour'"
   ]
  },
  {
   "cell_type": "code",
   "execution_count": 43,
   "id": "2a09d111",
   "metadata": {},
   "outputs": [],
   "source": [
    "matches.to_csv(r'C:\\Users\\leona\\OneDrive\\Desktop\\Tesi\\Pipeline\\Datasets\\Pipeline\\SocialNetworksPosts\\Reddit\\Months\\08\\Behaviours.csv')"
   ]
  },
  {
   "cell_type": "markdown",
   "id": "36144587",
   "metadata": {},
   "source": [
    "### Attacks searching"
   ]
  },
  {
   "cell_type": "code",
   "execution_count": 44,
   "id": "0523f54b",
   "metadata": {},
   "outputs": [],
   "source": [
    "l = len(all_attack_name_list)\n",
    "\n",
    "index = l // 2\n",
    "\n",
    "first_half_behaviours = all_attack_name_list[:index]\n",
    "second_half_behaviours = all_attack_name_list[index:]\n"
   ]
  },
  {
   "cell_type": "code",
   "execution_count": 45,
   "id": "4918cbb9",
   "metadata": {},
   "outputs": [
    {
     "name": "stderr",
     "output_type": "stream",
     "text": [
      "Processing posts: 30920it [00:02, 11695.94it/s]\n",
      "Processing posts: 30920it [00:02, 12028.78it/s]\n",
      "Processing posts: 30920it [00:02, 10333.62it/s]\n",
      "Processing posts: 30920it [00:02, 11034.24it/s]\n",
      "Processing posts: 30920it [00:02, 11462.37it/s]\n",
      "Processing posts: 30920it [00:02, 11590.67it/s]\n",
      "Processing posts: 30920it [00:02, 11644.33it/s]\n",
      "Processing posts: 30920it [00:02, 10922.50it/s]\n",
      "Processing posts: 30920it [00:03, 10072.55it/s]\n",
      "Processing posts: 30920it [00:02, 12469.78it/s]\n",
      "Processing posts: 30920it [00:02, 12281.44it/s]\n",
      "Processing posts: 11it [00:30,  2.73s/it]\n"
     ]
    }
   ],
   "source": [
    "matches1 = pd.DataFrame()\n",
    "\n",
    "matches1 = stemming_and_matching( first_half_behaviours , selected_rows)"
   ]
  },
  {
   "cell_type": "code",
   "execution_count": 46,
   "id": "638703fa",
   "metadata": {},
   "outputs": [
    {
     "name": "stderr",
     "output_type": "stream",
     "text": [
      "Processing posts: 30920it [00:02, 10579.94it/s]\n",
      "Processing posts: 30920it [00:02, 11548.11it/s]\n",
      "Processing posts: 30920it [00:02, 12147.71it/s]\n",
      "Processing posts: 30920it [00:02, 11798.55it/s]\n",
      "Processing posts: 30920it [00:02, 10991.50it/s]\n",
      "Processing posts: 30920it [00:02, 11049.87it/s]\n",
      "Processing posts: 30920it [00:03, 9395.92it/s]\n",
      "Processing posts: 30920it [00:02, 10476.26it/s]\n",
      "Processing posts: 30920it [00:02, 10613.09it/s]\n",
      "Processing posts: 30920it [00:02, 10326.44it/s]\n",
      "Processing posts: 30920it [00:02, 10425.49it/s]\n",
      "Processing posts: 30920it [00:03, 9531.66it/s]\n",
      "Processing posts: 12it [00:34,  2.90s/it]\n"
     ]
    }
   ],
   "source": [
    "matches2 = pd.DataFrame()\n",
    "\n",
    "matches2 = stemming_and_matching( second_half_behaviours , selected_rows)"
   ]
  },
  {
   "cell_type": "code",
   "execution_count": 47,
   "id": "ac913507",
   "metadata": {},
   "outputs": [
    {
     "data": {
      "text/html": [
       "<div>\n",
       "<style scoped>\n",
       "    .dataframe tbody tr th:only-of-type {\n",
       "        vertical-align: middle;\n",
       "    }\n",
       "\n",
       "    .dataframe tbody tr th {\n",
       "        vertical-align: top;\n",
       "    }\n",
       "\n",
       "    .dataframe thead th {\n",
       "        text-align: right;\n",
       "    }\n",
       "</style>\n",
       "<table border=\"1\" class=\"dataframe\">\n",
       "  <thead>\n",
       "    <tr style=\"text-align: right;\">\n",
       "      <th></th>\n",
       "      <th>full_text</th>\n",
       "      <th>keyword</th>\n",
       "    </tr>\n",
       "  </thead>\n",
       "  <tbody>\n",
       "    <tr>\n",
       "      <th>0</th>\n",
       "      <td>need help disabling microsoft-edge-policies automatichttpsdefault.  YES, YES, YES, I KNOW HTTPS IS BETTER AND PREFERRED, however we have no control over these legacy apps that our end users use.\\n\\nSo we have multiple sites that have various internal only web servers that are still running http instead of https. Some are vendor provided webservers others are internally created legacy applications. \\n\\n We noticed with an issue across all browsers (edge, Chrome, firefox) that all sites are being redirected to HTTPS URLs. End users are unable to access the sites by URL, after typing in [http://exampleserver1.site.com](http://server1.site.com) it then redirects to [https://exampleserver1.site.com](https://exampleserver1.site.com) if they use the server IP address [http://123.123.123.123](http://123.123.123.123) then the web app works. \\n\\n The internal sites work if we roll back to prior versions of edge, chrome, firefox. \\n\\nWe've tried testing disabling the \"HTTPS-Only Mode\" in Fire...</td>\n",
       "      <td>Registry Run Keys</td>\n",
       "    </tr>\n",
       "    <tr>\n",
       "      <th>1</th>\n",
       "      <td>Removing MS Silverlight from Server 2016?. Our vuln scanner is flagging a server of ours as having Microsoft Silverlight installed.\\n\\nIt's not showing up installed when I check program &amp; features as well as viewing installed updates.\\n\\nI can't find any folders checking program files, program files x86 and program data.\\n\\nHowever I did find a ton of entries on it within the registry.  \\n\\nI followed Microsofts guidance on doing a \"clean\" removal of MS Silverlight if there are any issues.  I deleted the recommended registry keys.\\n\\nIt's still being flagged by our vuln scanner though.\\n\\nIf I run this command: \\n\\n^(Gwmi -Namespace root\\\\ccm\\\\SoftwareUpdates\\\\UpdatesStore -Class ccm\\_updatestatus | where {$\\_.Title)\\n\\n^(-match \"Silverlight\"} | Select Status,Title,ProductID)\\n\\nThis is the output:\\n\\n`Installed Security Update for Microsoft Silverlight (KB4023307) 0fa1201d-4330-4fa8-8ae9-b877473b6441`\\n\\n`Installed Security Update for Microsoft Silverlight (KB4023307) 0fa1201d-433...</td>\n",
       "      <td>Registry Run Keys</td>\n",
       "    </tr>\n",
       "    <tr>\n",
       "      <th>2</th>\n",
       "      <td>Netdata release 1.38.0.  Release Notes edited for brevity, original links maintained.\\n\\n*Full Release notes at* [*https://github.com/netdata/netdata/releases/tag/v1.38.0*](https://github.com/netdata/netdata/releases/tag/v1.38.0)\\n\\n&amp;#x200B;\\n\\nHighlights:  \\n\\n\\n* [**DBENGINE v2**](https://github.com/netdata/netdata/releases/tag/v1.38.0#v1380-dbenginev2)  \\nThe new open-source database engine for Netdata Agents, offering huge performance, scalability and stability improvements, with a fraction of memory footprint!\\n* [**FUNCTION: Processes**](https://github.com/netdata/netdata/releases/tag/v1.38.0#v1380-functions)  \\nNetdata beyond metrics! We added the ability for **runtime functions**, that can be implemented by any data collection plugin, to offer unlimited visibility to anything, even not-metrics, that can be valuable while troubleshooting.\\n* [**Events Feed**](https://github.com/netdata/netdata/releases/tag/v1.38.0#v1380-feed)  \\nCentralized view of Space and Infrastructure l...</td>\n",
       "      <td>Registry Run Keys</td>\n",
       "    </tr>\n",
       "    <tr>\n",
       "      <th>3</th>\n",
       "      <td>Thin down Windows 10?. I just got a gaming laptop that comes with Windows 10.\\n\\nI normally use Linux for work etc but I thought I would just run with the Windows 10 OS as Steam Linux doesn't \"always\" perform well. \\n\\nI refused the Windows 11 upgrade and I have uninstalled the bloatware from the computer:\\n\\n- MSI Lab\\n- Sound and Video editing software\\n- Norton AV\\n- OneDrive\\n\\nDeactivated:\\n\\n- Maps\\n- Cortana\\n- Search\\n\\nCustomized:\\n\\n- Open shell (Windows 7 classic start menu)\\n\\nAny other things I can do to improve?\\n\\nI tried removing Edge but it kept re-installed (even after editing the registry key)</td>\n",
       "      <td>Registry Run Keys</td>\n",
       "    </tr>\n",
       "    <tr>\n",
       "      <th>4</th>\n",
       "      <td>Windows 10 start menu settings are missing. I am completely stumped. My laptop seems to be completely missing start menu settings.\\n\\nI cannot stand to have a massive start bar, so I began unpinning everything expecting it to respond like my other two computers and it automatically display all apps. However, this one refuses to make any changes. All that's \\[displayed is a gigantic grey rectangle\\]([http://imgur.com/ra01LXv](https://imgur.com/ra01LXv)) where I then have to click the all apps button for my software list. I also cannot resize the start menu.\\n\\nWhen I went into the personalize start menu settings, I realized \\[I'm missing almost all of my options\\]([http://imgur.com/egjDmZc](https://imgur.com/egjDmZc)). I have spent a couple hours now searching for options on my own, including forcing windows to install gpedit and editing registry files. I'm convinced that this is a \"you're running a cheap version of windows\" issue where the settings are disabled via registry key, bu...</td>\n",
       "      <td>Registry Run Keys</td>\n",
       "    </tr>\n",
       "    <tr>\n",
       "      <th>...</th>\n",
       "      <td>...</td>\n",
       "      <td>...</td>\n",
       "    </tr>\n",
       "    <tr>\n",
       "      <th>19</th>\n",
       "      <td>sapphire pulse Rx Vega 56 not running. Hi there, thanks for reading\\n\\nCurrently I'm running my setup:\\n\\nRyzen 5 2600x\\nAsus b450m a-II \\nPny 500gb data SSD\\nSeagate 1tb HDD\\nTeam 128gb nvme SSD\\nGTX 1650 super\\nCooler master mwe 550\\n\\nCurrently I'm trying to upgrade my GPU to a sapphire pulse Rx Vega 56, yet when I try to power it on, the screen stays black and fans don't run, yet the pulse logo turns on. I've tried running the most barebones setup in hopes that it's the psu with no luck. I can link a video of what happens if needed, any help is appreciated. Thanks!</td>\n",
       "      <td>550</td>\n",
       "    </tr>\n",
       "    <tr>\n",
       "      <th>20</th>\n",
       "      <td>Unable to receive emails, still able to send, multiple errors. Hi\\n\\nI have a domain where my service provider is [name.com](https://name.com)\\n\\n&amp;#x200B;\\n\\nFrom 27th Jan, I can no longer receive any emails whatsoever, but can send to anyone. \\n\\n&amp;#x200B;\\n\\nThe errors I'm receiving are various but mostly claims that some google IP is in an RBL\\n\\n&amp;#x200B;\\n\\nMy provider has only given me wrong answers and asked me to do things to buy them time, such as changing my DNS records including my MX records, which requires up to 72 hours to be fully reflected everywhere\\n\\n&amp;#x200B;\\n\\nI have compiled some info from here and there and I can't figure out what to do, my provider is not supporting me at all, what to do?\\n\\n[https://imgur.com/a/fF7Wz4b](https://imgur.com/a/fF7Wz4b)\\n\\n&amp;#x200B;\\n\\n&amp;#x200B;\\n\\nA list of errors:\\n\\n550 \"JunkMail rejected - [mail-oo1-f54.google.com](http://mail-oo1-f54.google.com/) \\[209.85.161.54\\]:45923 is in an RBL: Error: open resolver; [https://www.spamhaus....</td>\n",
       "      <td>550</td>\n",
       "    </tr>\n",
       "    <tr>\n",
       "      <th>21</th>\n",
       "      <td>All incoming email bounces, still able to send to anyone. Hi\\n\\nI have a domain where my service provider is [name.com](https://name.com) \\n\\n&amp;#x200B;\\n\\nFrom 27th Jan, I can no longer receive any emails whatsoever, but can send to anyone. \\n\\n&amp;#x200B;\\n\\nThe errors I'm receiving are various but mostly claims that some google IP is in an RBL\\n\\n&amp;#x200B;\\n\\nMy provider has only given me wrong answers and asked me to do things to buy them time, such as changing my DNS records including my MX records, which requires up to 72 hours to be fully reflected everywhere\\n\\n&amp;#x200B;\\n\\nI have compiled some info from here and there and I can't figure out what to do, my provider is not supporting me at all, what to do?\\n\\n[https://imgur.com/a/fF7Wz4b](https://imgur.com/a/fF7Wz4b)\\n\\n&amp;#x200B;\\n\\n&amp;#x200B;\\n\\nA list of errors:\\n\\n550 \"JunkMail rejected - [mail-oo1-f54.google.com](http://mail-oo1-f54.google.com/) \\[209.85.161.54\\]:45923 is in an RBL: Error: open resolver; [https://www.spamhaus.org/...</td>\n",
       "      <td>550</td>\n",
       "    </tr>\n",
       "    <tr>\n",
       "      <th>22</th>\n",
       "      <td>Recipient not found on Exchange Online for one user and from one address only?. Hello, has anyone run into this? An external customer is emailing one of our users and getting error 550 5.1.10 (RecipientNotFound). Our spam filter is not blocking it and shows it going through successfully, but our Message Trace confirms this error as well. I of course checked and the user is successfully receiving email from all other external contacts, has a valid mailbox license, and I also checked the alias was showing correctly. It's a synced mailbox from active directory if that matters. I made sure the To address was spelled correctly as well.\\n\\nI checked SPF for the sender that's failing, and it looks fine. Emails from that same sender are going through fine to other users in our company. Spam filter is not blocking it. Exchange Message Trace shows the 550 error with no other info. I double checked transport rules as well, but can't find anything that would affect it. I went through the Micro...</td>\n",
       "      <td>550</td>\n",
       "    </tr>\n",
       "    <tr>\n",
       "      <th>23</th>\n",
       "      <td>PC Crashes Randomly [HELP]. Hi everyone,\\n\\nI have got quite a stressful problem with pc. \\n\\n**The Problem:**\\n\\nIt worked totally fine a week ago, but suddenly the pc just crashes/freezes and nothing works. The PC is still powered and the fans are spinning but not even resting the graphic driver will unfreeze it. Even the Numpad won't work anymore. But when hard resetting it, it will just fire back up normally without any problems. \\n\\n**Additional Note:** \\n\\nIn the Event Log of Windows there is no critical error shown. However, the only error that keeps coming up right before the pc crashes is:  \"The hypervisor has no mitigations enabled for virtual machine side-channel vulnerabilities because HyperThreading is enabled. Disable HyperThreading to enable virtual machine mitigations. \"\\n\\n**I have tried to:**\\n\\n\\-  fresh install the graphic drivers\\n\\n\\- Stresstest GPU &amp; CPU \\n\\n\\- MEM Checked my RAM\\n\\n\\- Trying to replicate the Crashes \\n\\n\\- Check windows 11 for installation e...</td>\n",
       "      <td>550</td>\n",
       "    </tr>\n",
       "  </tbody>\n",
       "</table>\n",
       "<p>221 rows × 2 columns</p>\n",
       "</div>"
      ],
      "text/plain": [
       "                                                                                                                                                                                                                                                                                                                                                                                                                                                                                                                                                                                                                                                                                                                                                                                                                                                                                                                                                                                                                                  full_text  \\\n",
       "0   need help disabling microsoft-edge-policies automatichttpsdefault.  YES, YES, YES, I KNOW HTTPS IS BETTER AND PREFERRED, however we have no control over these legacy apps that our end users use.\\n\\nSo we have multiple sites that have various internal only web servers that are still running http instead of https. Some are vendor provided webservers others are internally created legacy applications. \\n\\n We noticed with an issue across all browsers (edge, Chrome, firefox) that all sites are being redirected to HTTPS URLs. End users are unable to access the sites by URL, after typing in [http://exampleserver1.site.com](http://server1.site.com) it then redirects to [https://exampleserver1.site.com](https://exampleserver1.site.com) if they use the server IP address [http://123.123.123.123](http://123.123.123.123) then the web app works. \\n\\n The internal sites work if we roll back to prior versions of edge, chrome, firefox. \\n\\nWe've tried testing disabling the \"HTTPS-Only Mode\" in Fire...   \n",
       "1   Removing MS Silverlight from Server 2016?. Our vuln scanner is flagging a server of ours as having Microsoft Silverlight installed.\\n\\nIt's not showing up installed when I check program & features as well as viewing installed updates.\\n\\nI can't find any folders checking program files, program files x86 and program data.\\n\\nHowever I did find a ton of entries on it within the registry.  \\n\\nI followed Microsofts guidance on doing a \"clean\" removal of MS Silverlight if there are any issues.  I deleted the recommended registry keys.\\n\\nIt's still being flagged by our vuln scanner though.\\n\\nIf I run this command: \\n\\n^(Gwmi -Namespace root\\\\ccm\\\\SoftwareUpdates\\\\UpdatesStore -Class ccm\\_updatestatus | where {$\\_.Title)\\n\\n^(-match \"Silverlight\"} | Select Status,Title,ProductID)\\n\\nThis is the output:\\n\\n`Installed Security Update for Microsoft Silverlight (KB4023307) 0fa1201d-4330-4fa8-8ae9-b877473b6441`\\n\\n`Installed Security Update for Microsoft Silverlight (KB4023307) 0fa1201d-433...   \n",
       "2   Netdata release 1.38.0.  Release Notes edited for brevity, original links maintained.\\n\\n*Full Release notes at* [*https://github.com/netdata/netdata/releases/tag/v1.38.0*](https://github.com/netdata/netdata/releases/tag/v1.38.0)\\n\\n&#x200B;\\n\\nHighlights:  \\n\\n\\n* [**DBENGINE v2**](https://github.com/netdata/netdata/releases/tag/v1.38.0#v1380-dbenginev2)  \\nThe new open-source database engine for Netdata Agents, offering huge performance, scalability and stability improvements, with a fraction of memory footprint!\\n* [**FUNCTION: Processes**](https://github.com/netdata/netdata/releases/tag/v1.38.0#v1380-functions)  \\nNetdata beyond metrics! We added the ability for **runtime functions**, that can be implemented by any data collection plugin, to offer unlimited visibility to anything, even not-metrics, that can be valuable while troubleshooting.\\n* [**Events Feed**](https://github.com/netdata/netdata/releases/tag/v1.38.0#v1380-feed)  \\nCentralized view of Space and Infrastructure l...   \n",
       "3                                                                                                                                                                                                                                                                                                                                                                                               Thin down Windows 10?. I just got a gaming laptop that comes with Windows 10.\\n\\nI normally use Linux for work etc but I thought I would just run with the Windows 10 OS as Steam Linux doesn't \"always\" perform well. \\n\\nI refused the Windows 11 upgrade and I have uninstalled the bloatware from the computer:\\n\\n- MSI Lab\\n- Sound and Video editing software\\n- Norton AV\\n- OneDrive\\n\\nDeactivated:\\n\\n- Maps\\n- Cortana\\n- Search\\n\\nCustomized:\\n\\n- Open shell (Windows 7 classic start menu)\\n\\nAny other things I can do to improve?\\n\\nI tried removing Edge but it kept re-installed (even after editing the registry key)   \n",
       "4   Windows 10 start menu settings are missing. I am completely stumped. My laptop seems to be completely missing start menu settings.\\n\\nI cannot stand to have a massive start bar, so I began unpinning everything expecting it to respond like my other two computers and it automatically display all apps. However, this one refuses to make any changes. All that's \\[displayed is a gigantic grey rectangle\\]([http://imgur.com/ra01LXv](https://imgur.com/ra01LXv)) where I then have to click the all apps button for my software list. I also cannot resize the start menu.\\n\\nWhen I went into the personalize start menu settings, I realized \\[I'm missing almost all of my options\\]([http://imgur.com/egjDmZc](https://imgur.com/egjDmZc)). I have spent a couple hours now searching for options on my own, including forcing windows to install gpedit and editing registry files. I'm convinced that this is a \"you're running a cheap version of windows\" issue where the settings are disabled via registry key, bu...   \n",
       "..                                                                                                                                                                                                                                                                                                                                                                                                                                                                                                                                                                                                                                                                                                                                                                                                                                                                                                                                                                                                                                      ...   \n",
       "19                                                                                                                                                                                                                                                                                                                                                                                                                                          sapphire pulse Rx Vega 56 not running. Hi there, thanks for reading\\n\\nCurrently I'm running my setup:\\n\\nRyzen 5 2600x\\nAsus b450m a-II \\nPny 500gb data SSD\\nSeagate 1tb HDD\\nTeam 128gb nvme SSD\\nGTX 1650 super\\nCooler master mwe 550\\n\\nCurrently I'm trying to upgrade my GPU to a sapphire pulse Rx Vega 56, yet when I try to power it on, the screen stays black and fans don't run, yet the pulse logo turns on. I've tried running the most barebones setup in hopes that it's the psu with no luck. I can link a video of what happens if needed, any help is appreciated. Thanks!   \n",
       "20  Unable to receive emails, still able to send, multiple errors. Hi\\n\\nI have a domain where my service provider is [name.com](https://name.com)\\n\\n&#x200B;\\n\\nFrom 27th Jan, I can no longer receive any emails whatsoever, but can send to anyone. \\n\\n&#x200B;\\n\\nThe errors I'm receiving are various but mostly claims that some google IP is in an RBL\\n\\n&#x200B;\\n\\nMy provider has only given me wrong answers and asked me to do things to buy them time, such as changing my DNS records including my MX records, which requires up to 72 hours to be fully reflected everywhere\\n\\n&#x200B;\\n\\nI have compiled some info from here and there and I can't figure out what to do, my provider is not supporting me at all, what to do?\\n\\n[https://imgur.com/a/fF7Wz4b](https://imgur.com/a/fF7Wz4b)\\n\\n&#x200B;\\n\\n&#x200B;\\n\\nA list of errors:\\n\\n550 \"JunkMail rejected - [mail-oo1-f54.google.com](http://mail-oo1-f54.google.com/) \\[209.85.161.54\\]:45923 is in an RBL: Error: open resolver; [https://www.spamhaus....   \n",
       "21  All incoming email bounces, still able to send to anyone. Hi\\n\\nI have a domain where my service provider is [name.com](https://name.com) \\n\\n&#x200B;\\n\\nFrom 27th Jan, I can no longer receive any emails whatsoever, but can send to anyone. \\n\\n&#x200B;\\n\\nThe errors I'm receiving are various but mostly claims that some google IP is in an RBL\\n\\n&#x200B;\\n\\nMy provider has only given me wrong answers and asked me to do things to buy them time, such as changing my DNS records including my MX records, which requires up to 72 hours to be fully reflected everywhere\\n\\n&#x200B;\\n\\nI have compiled some info from here and there and I can't figure out what to do, my provider is not supporting me at all, what to do?\\n\\n[https://imgur.com/a/fF7Wz4b](https://imgur.com/a/fF7Wz4b)\\n\\n&#x200B;\\n\\n&#x200B;\\n\\nA list of errors:\\n\\n550 \"JunkMail rejected - [mail-oo1-f54.google.com](http://mail-oo1-f54.google.com/) \\[209.85.161.54\\]:45923 is in an RBL: Error: open resolver; [https://www.spamhaus.org/...   \n",
       "22  Recipient not found on Exchange Online for one user and from one address only?. Hello, has anyone run into this? An external customer is emailing one of our users and getting error 550 5.1.10 (RecipientNotFound). Our spam filter is not blocking it and shows it going through successfully, but our Message Trace confirms this error as well. I of course checked and the user is successfully receiving email from all other external contacts, has a valid mailbox license, and I also checked the alias was showing correctly. It's a synced mailbox from active directory if that matters. I made sure the To address was spelled correctly as well.\\n\\nI checked SPF for the sender that's failing, and it looks fine. Emails from that same sender are going through fine to other users in our company. Spam filter is not blocking it. Exchange Message Trace shows the 550 error with no other info. I double checked transport rules as well, but can't find anything that would affect it. I went through the Micro...   \n",
       "23  PC Crashes Randomly [HELP]. Hi everyone,\\n\\nI have got quite a stressful problem with pc. \\n\\n**The Problem:**\\n\\nIt worked totally fine a week ago, but suddenly the pc just crashes/freezes and nothing works. The PC is still powered and the fans are spinning but not even resting the graphic driver will unfreeze it. Even the Numpad won't work anymore. But when hard resetting it, it will just fire back up normally without any problems. \\n\\n**Additional Note:** \\n\\nIn the Event Log of Windows there is no critical error shown. However, the only error that keeps coming up right before the pc crashes is:  \"The hypervisor has no mitigations enabled for virtual machine side-channel vulnerabilities because HyperThreading is enabled. Disable HyperThreading to enable virtual machine mitigations. \"\\n\\n**I have tried to:**\\n\\n\\-  fresh install the graphic drivers\\n\\n\\- Stresstest GPU & CPU \\n\\n\\- MEM Checked my RAM\\n\\n\\- Trying to replicate the Crashes \\n\\n\\- Check windows 11 for installation e...   \n",
       "\n",
       "              keyword  \n",
       "0   Registry Run Keys  \n",
       "1   Registry Run Keys  \n",
       "2   Registry Run Keys  \n",
       "3   Registry Run Keys  \n",
       "4   Registry Run Keys  \n",
       "..                ...  \n",
       "19                550  \n",
       "20                550  \n",
       "21                550  \n",
       "22                550  \n",
       "23                550  \n",
       "\n",
       "[221 rows x 2 columns]"
      ]
     },
     "execution_count": 47,
     "metadata": {},
     "output_type": "execute_result"
    }
   ],
   "source": [
    "matches = pd.concat([matches1, matches2])\n",
    "matches"
   ]
  },
  {
   "cell_type": "code",
   "execution_count": 48,
   "id": "adb93597",
   "metadata": {},
   "outputs": [],
   "source": [
    "matches['keyword type'] = 'attack'"
   ]
  },
  {
   "cell_type": "code",
   "execution_count": 49,
   "id": "65ad27a3",
   "metadata": {},
   "outputs": [],
   "source": [
    "matches.to_csv(r'C:\\Users\\leona\\OneDrive\\Desktop\\Tesi\\Pipeline\\Datasets\\Pipeline\\SocialNetworksPosts\\Reddit\\Months\\08\\Posts_filteredby_Attacks.csv')"
   ]
  },
  {
   "cell_type": "markdown",
   "id": "e5891f03",
   "metadata": {},
   "source": [
    "### Malware names searching"
   ]
  },
  {
   "cell_type": "code",
   "execution_count": 50,
   "id": "153f5078",
   "metadata": {
    "scrolled": true
   },
   "outputs": [
    {
     "name": "stderr",
     "output_type": "stream",
     "text": [
      "Processing words:   0%|          | 0/56 [00:00<?, ?it/s]"
     ]
    },
    {
     "name": "stdout",
     "output_type": "stream",
     "text": [
      "Now: remcos \n"
     ]
    },
    {
     "name": "stderr",
     "output_type": "stream",
     "text": [
      "Processing posts: 100%|██████████| 30920/30920 [00:10<00:00, 3048.98it/s]\n",
      "Processing words:   2%|▏         | 1/56 [00:10<09:18, 10.16s/it]"
     ]
    },
    {
     "name": "stdout",
     "output_type": "stream",
     "text": [
      "Now: generic mg \n"
     ]
    },
    {
     "name": "stderr",
     "output_type": "stream",
     "text": [
      "Processing posts: 100%|██████████| 30920/30920 [00:10<00:00, 3070.49it/s]\n",
      "Processing words:   4%|▎         | 2/56 [00:20<09:05, 10.11s/it]"
     ]
    },
    {
     "name": "stdout",
     "output_type": "stream",
     "text": [
      "Now: njrat \n"
     ]
    },
    {
     "name": "stderr",
     "output_type": "stream",
     "text": [
      "Processing posts: 100%|██████████| 30920/30920 [00:10<00:00, 3029.42it/s]\n",
      "Processing words:   5%|▌         | 3/56 [00:30<08:58, 10.16s/it]"
     ]
    },
    {
     "name": "stdout",
     "output_type": "stream",
     "text": [
      "Now: bitrat \n"
     ]
    },
    {
     "name": "stderr",
     "output_type": "stream",
     "text": [
      "Processing posts: 100%|██████████| 30920/30920 [00:10<00:00, 3087.24it/s]\n",
      "Processing words:   7%|▋         | 4/56 [00:40<08:45, 10.10s/it]"
     ]
    },
    {
     "name": "stdout",
     "output_type": "stream",
     "text": [
      "Now: mirai \n"
     ]
    },
    {
     "name": "stderr",
     "output_type": "stream",
     "text": [
      "Processing posts: 100%|██████████| 30920/30920 [00:10<00:00, 2891.33it/s]\n",
      "Processing words:   9%|▉         | 5/56 [00:51<08:46, 10.32s/it]"
     ]
    },
    {
     "name": "stdout",
     "output_type": "stream",
     "text": [
      "Now: injector gen \n"
     ]
    },
    {
     "name": "stderr",
     "output_type": "stream",
     "text": [
      "Processing posts: 100%|██████████| 30920/30920 [00:10<00:00, 3038.30it/s]\n",
      "Processing words:  11%|█         | 6/56 [01:01<08:33, 10.28s/it]"
     ]
    },
    {
     "name": "stdout",
     "output_type": "stream",
     "text": [
      "Now: generickd \n"
     ]
    },
    {
     "name": "stderr",
     "output_type": "stream",
     "text": [
      "Processing posts: 100%|██████████| 30920/30920 [00:10<00:00, 3040.15it/s]\n",
      "Processing words:  12%|█▎        | 7/56 [01:11<08:22, 10.25s/it]"
     ]
    },
    {
     "name": "stdout",
     "output_type": "stream",
     "text": [
      "Now: quasar rat \n"
     ]
    },
    {
     "name": "stderr",
     "output_type": "stream",
     "text": [
      "Processing posts: 100%|██████████| 30920/30920 [00:11<00:00, 2660.30it/s]\n",
      "Processing words:  14%|█▍        | 8/56 [01:23<08:32, 10.69s/it]"
     ]
    },
    {
     "name": "stdout",
     "output_type": "stream",
     "text": [
      "Now: muldrop \n"
     ]
    },
    {
     "name": "stderr",
     "output_type": "stream",
     "text": [
      "Processing posts: 100%|██████████| 30920/30920 [00:09<00:00, 3097.85it/s]\n",
      "Processing words:  16%|█▌        | 9/56 [01:33<08:12, 10.47s/it]"
     ]
    },
    {
     "name": "stdout",
     "output_type": "stream",
     "text": [
      "Now: netwire \n"
     ]
    },
    {
     "name": "stderr",
     "output_type": "stream",
     "text": [
      "Processing posts: 100%|██████████| 30920/30920 [00:10<00:00, 2858.29it/s]\n",
      "Processing words:  18%|█▊        | 10/56 [01:44<08:06, 10.58s/it]"
     ]
    },
    {
     "name": "stdout",
     "output_type": "stream",
     "text": [
      "Now: ave maria \n"
     ]
    },
    {
     "name": "stderr",
     "output_type": "stream",
     "text": [
      "Processing posts: 100%|██████████| 30920/30920 [00:11<00:00, 2636.15it/s]\n",
      "Processing words:  20%|█▉        | 11/56 [01:55<08:12, 10.93s/it]"
     ]
    },
    {
     "name": "stdout",
     "output_type": "stream",
     "text": [
      "Now: script cryxos \n"
     ]
    },
    {
     "name": "stderr",
     "output_type": "stream",
     "text": [
      "Processing posts: 100%|██████████| 30920/30920 [00:10<00:00, 2981.32it/s]\n",
      "Processing words:  21%|██▏       | 12/56 [02:06<07:53, 10.77s/it]"
     ]
    },
    {
     "name": "stdout",
     "output_type": "stream",
     "text": [
      "Now: downloader gen \n"
     ]
    },
    {
     "name": "stderr",
     "output_type": "stream",
     "text": [
      "Processing posts: 100%|██████████| 30920/30920 [00:11<00:00, 2683.88it/s]\n",
      "Processing words:  23%|██▎       | 13/56 [02:17<07:52, 11.00s/it]"
     ]
    },
    {
     "name": "stdout",
     "output_type": "stream",
     "text": [
      "Now: orcus \n"
     ]
    },
    {
     "name": "stderr",
     "output_type": "stream",
     "text": [
      "Processing posts: 100%|██████████| 30920/30920 [00:10<00:00, 2976.47it/s]\n",
      "Processing words:  25%|██▌       | 14/56 [02:28<07:34, 10.82s/it]"
     ]
    },
    {
     "name": "stdout",
     "output_type": "stream",
     "text": [
      "Now: x gen drp \n"
     ]
    },
    {
     "name": "stderr",
     "output_type": "stream",
     "text": [
      "Processing posts: 100%|██████████| 30920/30920 [00:10<00:00, 2889.90it/s]\n",
      "Processing words:  27%|██▋       | 15/56 [02:38<07:22, 10.79s/it]"
     ]
    },
    {
     "name": "stdout",
     "output_type": "stream",
     "text": [
      "Now: agent tesla \n"
     ]
    },
    {
     "name": "stderr",
     "output_type": "stream",
     "text": [
      "Processing posts: 100%|██████████| 30920/30920 [00:10<00:00, 2978.68it/s]\n",
      "Processing words:  29%|██▊       | 16/56 [02:49<07:06, 10.67s/it]"
     ]
    },
    {
     "name": "stdout",
     "output_type": "stream",
     "text": [
      "Now: nanocore rat \n"
     ]
    },
    {
     "name": "stderr",
     "output_type": "stream",
     "text": [
      "Processing posts: 100%|██████████| 30920/30920 [00:12<00:00, 2402.03it/s]\n",
      "Processing words:  30%|███       | 17/56 [03:02<07:21, 11.33s/it]"
     ]
    },
    {
     "name": "stdout",
     "output_type": "stream",
     "text": [
      "Now: redline stealer \n"
     ]
    },
    {
     "name": "stderr",
     "output_type": "stream",
     "text": [
      "Processing posts: 100%|██████████| 30920/30920 [00:11<00:00, 2691.40it/s]\n",
      "Processing words:  32%|███▏      | 18/56 [03:13<07:12, 11.38s/it]"
     ]
    },
    {
     "name": "stdout",
     "output_type": "stream",
     "text": [
      "Now: lumma stealer \n"
     ]
    },
    {
     "name": "stderr",
     "output_type": "stream",
     "text": [
      "Processing posts: 100%|██████████| 30920/30920 [00:10<00:00, 2930.20it/s]\n",
      "Processing words:  34%|███▍      | 19/56 [03:24<06:52, 11.14s/it]"
     ]
    },
    {
     "name": "stdout",
     "output_type": "stream",
     "text": [
      "Now: siggen \n"
     ]
    },
    {
     "name": "stderr",
     "output_type": "stream",
     "text": [
      "Processing posts: 100%|██████████| 30920/30920 [00:11<00:00, 2578.32it/s]\n",
      "Processing words:  36%|███▌      | 20/56 [03:36<06:50, 11.40s/it]"
     ]
    },
    {
     "name": "stdout",
     "output_type": "stream",
     "text": [
      "Now: spynote \n"
     ]
    },
    {
     "name": "stderr",
     "output_type": "stream",
     "text": [
      "Processing posts: 100%|██████████| 30920/30920 [00:10<00:00, 2846.70it/s]\n",
      "Processing words:  38%|███▊      | 21/56 [03:46<06:33, 11.24s/it]"
     ]
    },
    {
     "name": "stdout",
     "output_type": "stream",
     "text": [
      "Now: kryptik gen \n"
     ]
    },
    {
     "name": "stderr",
     "output_type": "stream",
     "text": [
      "Processing posts: 100%|██████████| 30920/30920 [00:12<00:00, 2505.85it/s]\n",
      "Processing words:  39%|███▉      | 22/56 [03:59<06:33, 11.58s/it]"
     ]
    },
    {
     "name": "stdout",
     "output_type": "stream",
     "text": [
      "Now: obfus \n"
     ]
    },
    {
     "name": "stderr",
     "output_type": "stream",
     "text": [
      "Processing posts: 100%|██████████| 30920/30920 [00:10<00:00, 3045.42it/s]\n",
      "Processing words:  41%|████      | 23/56 [04:09<06:08, 11.15s/it]"
     ]
    },
    {
     "name": "stdout",
     "output_type": "stream",
     "text": [
      "Now: kryptik gen eldorado \n"
     ]
    },
    {
     "name": "stderr",
     "output_type": "stream",
     "text": [
      "Processing posts: 100%|██████████| 30920/30920 [00:10<00:00, 2921.93it/s]\n",
      "Processing words:  43%|████▎     | 24/56 [04:20<05:51, 10.99s/it]"
     ]
    },
    {
     "name": "stdout",
     "output_type": "stream",
     "text": [
      "Now: valyria \n"
     ]
    },
    {
     "name": "stderr",
     "output_type": "stream",
     "text": [
      "Processing posts: 100%|██████████| 30920/30920 [00:10<00:00, 2904.40it/s]\n",
      "Processing words:  45%|████▍     | 25/56 [04:30<05:37, 10.88s/it]"
     ]
    },
    {
     "name": "stdout",
     "output_type": "stream",
     "text": [
      "Now: artemis \n"
     ]
    },
    {
     "name": "stderr",
     "output_type": "stream",
     "text": [
      "Processing posts: 100%|██████████| 30920/30920 [00:10<00:00, 2962.04it/s]\n",
      "Processing words:  46%|████▋     | 26/56 [04:41<05:22, 10.75s/it]"
     ]
    },
    {
     "name": "stdout",
     "output_type": "stream",
     "text": [
      "Now: twave evil \n"
     ]
    },
    {
     "name": "stderr",
     "output_type": "stream",
     "text": [
      "Processing posts: 100%|██████████| 30920/30920 [00:11<00:00, 2803.46it/s]\n",
      "Processing words:  48%|████▊     | 27/56 [04:52<05:14, 10.84s/it]"
     ]
    },
    {
     "name": "stdout",
     "output_type": "stream",
     "text": [
      "Now: java gen \n"
     ]
    },
    {
     "name": "stderr",
     "output_type": "stream",
     "text": [
      "Processing posts: 100%|██████████| 30920/30920 [00:09<00:00, 3391.70it/s]\n",
      "Processing words:  50%|█████     | 28/56 [05:01<04:49, 10.32s/it]"
     ]
    },
    {
     "name": "stdout",
     "output_type": "stream",
     "text": [
      "Now: borlanddelphi \n"
     ]
    },
    {
     "name": "stderr",
     "output_type": "stream",
     "text": [
      "Processing posts: 100%|██████████| 30920/30920 [00:09<00:00, 3427.92it/s]\n",
      "Processing words:  52%|█████▏    | 29/56 [05:10<04:28,  9.94s/it]"
     ]
    },
    {
     "name": "stdout",
     "output_type": "stream",
     "text": [
      "Now: cobalt strike \n"
     ]
    },
    {
     "name": "stderr",
     "output_type": "stream",
     "text": [
      "Processing posts: 100%|██████████| 30920/30920 [00:09<00:00, 3356.91it/s]\n",
      "Processing words:  54%|█████▎    | 30/56 [05:19<04:12,  9.72s/it]"
     ]
    },
    {
     "name": "stdout",
     "output_type": "stream",
     "text": [
      "Now: aidetect net \n"
     ]
    },
    {
     "name": "stderr",
     "output_type": "stream",
     "text": [
      "Processing posts: 100%|██████████| 30920/30920 [00:08<00:00, 3517.30it/s]\n",
      "Processing words:  55%|█████▌    | 31/56 [05:28<03:56,  9.44s/it]"
     ]
    },
    {
     "name": "stdout",
     "output_type": "stream",
     "text": [
      "Now: miscreantpunch \n"
     ]
    },
    {
     "name": "stderr",
     "output_type": "stream",
     "text": [
      "Processing posts: 100%|██████████| 30920/30920 [00:09<00:00, 3330.57it/s]\n",
      "Processing words:  57%|█████▋    | 32/56 [05:37<03:45,  9.40s/it]"
     ]
    },
    {
     "name": "stdout",
     "output_type": "stream",
     "text": [
      "Now: perseus \n"
     ]
    },
    {
     "name": "stderr",
     "output_type": "stream",
     "text": [
      "Processing posts: 100%|██████████| 30920/30920 [00:09<00:00, 3402.38it/s]\n",
      "Processing words:  59%|█████▉    | 33/56 [05:46<03:34,  9.31s/it]"
     ]
    },
    {
     "name": "stdout",
     "output_type": "stream",
     "text": [
      "Now: behaveslike generic \n"
     ]
    },
    {
     "name": "stderr",
     "output_type": "stream",
     "text": [
      "Processing posts: 100%|██████████| 30920/30920 [00:11<00:00, 2734.83it/s]\n",
      "Processing words:  61%|██████    | 34/56 [05:58<03:37,  9.91s/it]"
     ]
    },
    {
     "name": "stdout",
     "output_type": "stream",
     "text": [
      "Now: heracles \n"
     ]
    },
    {
     "name": "stderr",
     "output_type": "stream",
     "text": [
      "Processing posts: 100%|██████████| 30920/30920 [00:09<00:00, 3257.25it/s]\n",
      "Processing words:  62%|██████▎   | 35/56 [06:07<03:25,  9.79s/it]"
     ]
    },
    {
     "name": "stdout",
     "output_type": "stream",
     "text": [
      "Now: darkcomet \n"
     ]
    },
    {
     "name": "stderr",
     "output_type": "stream",
     "text": [
      "Processing posts: 100%|██████████| 30920/30920 [00:08<00:00, 3469.78it/s]\n",
      "Processing words:  64%|██████▍   | 36/56 [06:16<03:10,  9.52s/it]"
     ]
    },
    {
     "name": "stdout",
     "output_type": "stream",
     "text": [
      "Now: crypter gen \n"
     ]
    },
    {
     "name": "stderr",
     "output_type": "stream",
     "text": [
      "Processing posts: 100%|██████████| 30920/30920 [00:11<00:00, 2792.39it/s]\n",
      "Processing words:  66%|██████▌   | 37/56 [06:27<03:09,  9.99s/it]"
     ]
    },
    {
     "name": "stdout",
     "output_type": "stream",
     "text": [
      "Now: wannacryptor \n"
     ]
    },
    {
     "name": "stderr",
     "output_type": "stream",
     "text": [
      "Processing posts: 100%|██████████| 30920/30920 [00:10<00:00, 2968.75it/s]\n",
      "Processing words:  68%|██████▊   | 38/56 [06:38<03:02, 10.12s/it]"
     ]
    },
    {
     "name": "stdout",
     "output_type": "stream",
     "text": [
      "Now: formbook \n"
     ]
    },
    {
     "name": "stderr",
     "output_type": "stream",
     "text": [
      "Processing posts: 100%|██████████| 30920/30920 [00:10<00:00, 3056.44it/s]\n",
      "Processing words:  70%|██████▉   | 39/56 [06:48<02:52, 10.12s/it]"
     ]
    },
    {
     "name": "stdout",
     "output_type": "stream",
     "text": [
      "Now: azorult \n"
     ]
    },
    {
     "name": "stderr",
     "output_type": "stream",
     "text": [
      "Processing posts: 100%|██████████| 30920/30920 [00:10<00:00, 2950.02it/s]\n",
      "Processing words:  71%|███████▏  | 40/56 [06:58<02:43, 10.23s/it]"
     ]
    },
    {
     "name": "stdout",
     "output_type": "stream",
     "text": [
      "Now: genmalicious \n"
     ]
    },
    {
     "name": "stderr",
     "output_type": "stream",
     "text": [
      "Processing posts: 100%|██████████| 30920/30920 [00:10<00:00, 2958.69it/s]\n",
      "Processing words:  73%|███████▎  | 41/56 [07:09<02:34, 10.30s/it]"
     ]
    },
    {
     "name": "stdout",
     "output_type": "stream",
     "text": [
      "Now: bv downloader drp \n"
     ]
    },
    {
     "name": "stderr",
     "output_type": "stream",
     "text": [
      "Processing posts: 100%|██████████| 30920/30920 [00:11<00:00, 2762.82it/s]\n",
      "Processing words:  75%|███████▌  | 42/56 [07:20<02:27, 10.57s/it]"
     ]
    },
    {
     "name": "stdout",
     "output_type": "stream",
     "text": [
      "Now: evo gen \n"
     ]
    },
    {
     "name": "stderr",
     "output_type": "stream",
     "text": [
      "Processing posts: 100%|██████████| 30920/30920 [00:18<00:00, 1675.98it/s]\n",
      "Processing words:  77%|███████▋  | 43/56 [07:38<02:48, 12.93s/it]"
     ]
    },
    {
     "name": "stdout",
     "output_type": "stream",
     "text": [
      "Now: ddos \n"
     ]
    },
    {
     "name": "stderr",
     "output_type": "stream",
     "text": [
      "Processing posts: 100%|██████████| 30920/30920 [00:11<00:00, 2793.79it/s]\n",
      "Processing words:  79%|███████▊  | 44/56 [07:49<02:28, 12.38s/it]"
     ]
    },
    {
     "name": "stdout",
     "output_type": "stream",
     "text": [
      "Now: gafgyt \n"
     ]
    },
    {
     "name": "stderr",
     "output_type": "stream",
     "text": [
      "Processing posts: 100%|██████████| 30920/30920 [00:11<00:00, 2683.30it/s]\n",
      "Processing words:  80%|████████  | 45/56 [08:01<02:13, 12.13s/it]"
     ]
    },
    {
     "name": "stdout",
     "output_type": "stream",
     "text": [
      "Now: keylogger gen \n"
     ]
    },
    {
     "name": "stderr",
     "output_type": "stream",
     "text": [
      "Processing posts: 100%|██████████| 30920/30920 [00:10<00:00, 3047.86it/s]\n",
      "Processing words:  82%|████████▏ | 46/56 [08:11<01:55, 11.54s/it]"
     ]
    },
    {
     "name": "stdout",
     "output_type": "stream",
     "text": [
      "Now: cve exploit \n"
     ]
    },
    {
     "name": "stderr",
     "output_type": "stream",
     "text": [
      "Processing posts: 100%|██████████| 30920/30920 [00:10<00:00, 2908.93it/s]\n",
      "Processing words:  84%|████████▍ | 47/56 [08:22<01:41, 11.27s/it]"
     ]
    },
    {
     "name": "stdout",
     "output_type": "stream",
     "text": [
      "Now: banker gen \n"
     ]
    },
    {
     "name": "stderr",
     "output_type": "stream",
     "text": [
      "Processing posts: 100%|██████████| 30920/30920 [00:12<00:00, 2539.99it/s]\n",
      "Processing words:  86%|████████▌ | 48/56 [08:34<01:32, 11.54s/it]"
     ]
    },
    {
     "name": "stdout",
     "output_type": "stream",
     "text": [
      "Now: autoit \n"
     ]
    },
    {
     "name": "stderr",
     "output_type": "stream",
     "text": [
      "Processing posts: 100%|██████████| 30920/30920 [00:09<00:00, 3253.11it/s]\n",
      "Processing words:  88%|████████▊ | 49/56 [08:43<01:16, 10.93s/it]"
     ]
    },
    {
     "name": "stdout",
     "output_type": "stream",
     "text": [
      "Now: exploitx \n"
     ]
    },
    {
     "name": "stderr",
     "output_type": "stream",
     "text": [
      "Processing posts: 100%|██████████| 30920/30920 [00:10<00:00, 2985.89it/s]\n",
      "Processing words:  89%|████████▉ | 50/56 [08:54<01:04, 10.76s/it]"
     ]
    },
    {
     "name": "stdout",
     "output_type": "stream",
     "text": [
      "Now: coinminer generic \n"
     ]
    },
    {
     "name": "stderr",
     "output_type": "stream",
     "text": [
      "Processing posts: 100%|██████████| 30920/30920 [00:10<00:00, 2961.10it/s]\n",
      "Processing words:  91%|█████████ | 51/56 [09:04<00:53, 10.67s/it]"
     ]
    },
    {
     "name": "stdout",
     "output_type": "stream",
     "text": [
      "Now: loki password stealer  pws \n"
     ]
    },
    {
     "name": "stderr",
     "output_type": "stream",
     "text": [
      "Processing posts: 100%|██████████| 30920/30920 [00:09<00:00, 3173.00it/s]\n",
      "Processing words:  93%|█████████▎| 52/56 [09:14<00:41, 10.39s/it]"
     ]
    },
    {
     "name": "stdout",
     "output_type": "stream",
     "text": [
      "Now: meterpreter \n"
     ]
    },
    {
     "name": "stderr",
     "output_type": "stream",
     "text": [
      "Processing posts: 100%|██████████| 30920/30920 [00:10<00:00, 3025.02it/s]\n",
      "Processing words:  95%|█████████▍| 53/56 [09:24<00:31, 10.34s/it]"
     ]
    },
    {
     "name": "stdout",
     "output_type": "stream",
     "text": [
      "Now: crimson rat \n"
     ]
    },
    {
     "name": "stderr",
     "output_type": "stream",
     "text": [
      "Processing posts: 100%|██████████| 30920/30920 [00:16<00:00, 1890.39it/s]\n",
      "Processing words:  96%|█████████▋| 54/56 [09:41<00:24, 12.15s/it]"
     ]
    },
    {
     "name": "stdout",
     "output_type": "stream",
     "text": [
      "Now: nanobot \n"
     ]
    },
    {
     "name": "stderr",
     "output_type": "stream",
     "text": [
      "Processing posts: 100%|██████████| 30920/30920 [00:09<00:00, 3112.86it/s]\n",
      "Processing words:  98%|█████████▊| 55/56 [09:50<00:11, 11.49s/it]"
     ]
    },
    {
     "name": "stdout",
     "output_type": "stream",
     "text": [
      "Now: ghost rat \n"
     ]
    },
    {
     "name": "stderr",
     "output_type": "stream",
     "text": [
      "Processing posts: 100%|██████████| 30920/30920 [00:09<00:00, 3310.00it/s]\n",
      "Processing words: 100%|██████████| 56/56 [10:00<00:00, 10.72s/it]\n"
     ]
    }
   ],
   "source": [
    "matches = pd.DataFrame()\n",
    "\n",
    "matches = malware_search( all_malware_list , selected_rows)"
   ]
  },
  {
   "cell_type": "code",
   "execution_count": 51,
   "id": "109210c2",
   "metadata": {},
   "outputs": [
    {
     "data": {
      "text/html": [
       "<div>\n",
       "<style scoped>\n",
       "    .dataframe tbody tr th:only-of-type {\n",
       "        vertical-align: middle;\n",
       "    }\n",
       "\n",
       "    .dataframe tbody tr th {\n",
       "        vertical-align: top;\n",
       "    }\n",
       "\n",
       "    .dataframe thead th {\n",
       "        text-align: right;\n",
       "    }\n",
       "</style>\n",
       "<table border=\"1\" class=\"dataframe\">\n",
       "  <thead>\n",
       "    <tr style=\"text-align: right;\">\n",
       "      <th></th>\n",
       "      <th>index</th>\n",
       "      <th>subreddit</th>\n",
       "      <th>username</th>\n",
       "      <th>date</th>\n",
       "      <th>title</th>\n",
       "      <th>text</th>\n",
       "    </tr>\n",
       "  </thead>\n",
       "  <tbody>\n",
       "    <tr>\n",
       "      <th>0</th>\n",
       "      <td>321679</td>\n",
       "      <td>MacOS</td>\n",
       "      <td>t3_11emj3w</td>\n",
       "      <td>2023-02-28</td>\n",
       "      <td>Is this the wrong subreddit?</td>\n",
       "      <td>I posted this yesterday with no responses. \\n\\nhttps://www.reddit.com/r/MacOS/comments/11dmuu3/function_key_not_working_functioning_correctly/\\n\\nIs this the correct subreddit? This is specific functionality in MacOS</td>\n",
       "    </tr>\n",
       "    <tr>\n",
       "      <th>1</th>\n",
       "      <td>321690</td>\n",
       "      <td>privacy</td>\n",
       "      <td>t3_11emtmn</td>\n",
       "      <td>2023-02-28</td>\n",
       "      <td>What sites can I use to get an idea of privacy related laws around Europe?</td>\n",
       "      <td>I remember one that would show you along with a map but I forgot the name</td>\n",
       "    </tr>\n",
       "    <tr>\n",
       "      <th>2</th>\n",
       "      <td>321693</td>\n",
       "      <td>PFSENSE</td>\n",
       "      <td>t3_11emi6f</td>\n",
       "      <td>2023-02-28</td>\n",
       "      <td>DNS filtering service not working with resolver in forwarding mode</td>\n",
       "      <td>RESOLUTION: I was using SSL/TLS but I did not update the hostname of the DNS servers in General Setup/DNS Server Settings. See more below.\\n\\nI'm trying to use Cloudflare's 1.1.1.3 and 1.0.0.3 for parental control.\\n\\nI have the resolver enabled and \"Enable Forwarding Mode\" is checked. In General settings I have set the DNS servers to 1.1.1.3 and 1.0.0.3. I also have \"Use SSL/TLS for outgoing DNS Queries to Forwarding Servers\" checked; I am sure Cloudflare supports this.\\n\\nOn a linux box, if I type this:\\n\\n    dig @1.0.0.3 malware.testcategory.com\\n\\nThe 1.0.0.3 DNS server returns the address 0.0.0.0 as expected, because this is a blocked domain.\\n\\nHowever, if I just run this:\\n\\n    dig malware.testcategory.com\\n\\nThen I see this in the output:\\n\\n    malware.testcategory.com. 60\\tIN\\tA\\t104.18.4.35\\n\\nAnd I can see that the DNS server that supplied this is my pfsense box:\\n\\n    ;; SERVER: 192.168.10.1#53(192.168.10.1) (UDP)\\n\\nI have tried restarting the resolver to remove an...</td>\n",
       "    </tr>\n",
       "    <tr>\n",
       "      <th>3</th>\n",
       "      <td>321698</td>\n",
       "      <td>technews</td>\n",
       "      <td>t3_11emjjp</td>\n",
       "      <td>2023-02-28</td>\n",
       "      <td>Ford patents car that can repossess itself and drive back to showroom</td>\n",
       "      <td></td>\n",
       "    </tr>\n",
       "    <tr>\n",
       "      <th>4</th>\n",
       "      <td>321710</td>\n",
       "      <td>AndroidQuestions</td>\n",
       "      <td>t3_11emn1o</td>\n",
       "      <td>2023-02-28</td>\n",
       "      <td>Mystery notification</td>\n",
       "      <td>I just had a notification icon appear and vanish which obviously makes me suspicious. It looked to be a rectangle with a swooshed upward pointing arrow in it. Anything base android it could be because I can't think what apps it could have been.</td>\n",
       "    </tr>\n",
       "  </tbody>\n",
       "</table>\n",
       "</div>"
      ],
      "text/plain": [
       "    index         subreddit    username        date  \\\n",
       "0  321679             MacOS  t3_11emj3w  2023-02-28   \n",
       "1  321690           privacy  t3_11emtmn  2023-02-28   \n",
       "2  321693           PFSENSE  t3_11emi6f  2023-02-28   \n",
       "3  321698          technews  t3_11emjjp  2023-02-28   \n",
       "4  321710  AndroidQuestions  t3_11emn1o  2023-02-28   \n",
       "\n",
       "                                                                        title  \\\n",
       "0                                                Is this the wrong subreddit?   \n",
       "1  What sites can I use to get an idea of privacy related laws around Europe?   \n",
       "2          DNS filtering service not working with resolver in forwarding mode   \n",
       "3       Ford patents car that can repossess itself and drive back to showroom   \n",
       "4                                                        Mystery notification   \n",
       "\n",
       "                                                                                                                                                                                                                                                                                                                                                                                                                                                                                                                                                                                                                                                                                                                                                                                                                                                                                                                                                                                                                                      text  \n",
       "0                                                                                                                                                                                                                                                                                                                                                                                                                                                                                                                                                                                                                                                                                                                                                                                                                 I posted this yesterday with no responses. \\n\\nhttps://www.reddit.com/r/MacOS/comments/11dmuu3/function_key_not_working_functioning_correctly/\\n\\nIs this the correct subreddit? This is specific functionality in MacOS  \n",
       "1                                                                                                                                                                                                                                                                                                                                                                                                                                                                                                                                                                                                                                                                                                                                                                                                                                                                                                                                                                I remember one that would show you along with a map but I forgot the name  \n",
       "2  RESOLUTION: I was using SSL/TLS but I did not update the hostname of the DNS servers in General Setup/DNS Server Settings. See more below.\\n\\nI'm trying to use Cloudflare's 1.1.1.3 and 1.0.0.3 for parental control.\\n\\nI have the resolver enabled and \"Enable Forwarding Mode\" is checked. In General settings I have set the DNS servers to 1.1.1.3 and 1.0.0.3. I also have \"Use SSL/TLS for outgoing DNS Queries to Forwarding Servers\" checked; I am sure Cloudflare supports this.\\n\\nOn a linux box, if I type this:\\n\\n    dig @1.0.0.3 malware.testcategory.com\\n\\nThe 1.0.0.3 DNS server returns the address 0.0.0.0 as expected, because this is a blocked domain.\\n\\nHowever, if I just run this:\\n\\n    dig malware.testcategory.com\\n\\nThen I see this in the output:\\n\\n    malware.testcategory.com. 60\\tIN\\tA\\t104.18.4.35\\n\\nAnd I can see that the DNS server that supplied this is my pfsense box:\\n\\n    ;; SERVER: 192.168.10.1#53(192.168.10.1) (UDP)\\n\\nI have tried restarting the resolver to remove an...  \n",
       "3                                                                                                                                                                                                                                                                                                                                                                                                                                                                                                                                                                                                                                                                                                                                                                                                                                                                                                                                                                                                                                           \n",
       "4                                                                                                                                                                                                                                                                                                                                                                                                                                                                                                                                                                                                                                                                                                                                                                                     I just had a notification icon appear and vanish which obviously makes me suspicious. It looked to be a rectangle with a swooshed upward pointing arrow in it. Anything base android it could be because I can't think what apps it could have been.  "
      ]
     },
     "execution_count": 51,
     "metadata": {},
     "output_type": "execute_result"
    }
   ],
   "source": [
    "selected_rows.head()"
   ]
  },
  {
   "cell_type": "code",
   "execution_count": 52,
   "id": "2b2b43a4",
   "metadata": {},
   "outputs": [],
   "source": [
    "selected_rows.to_csv(r'C:\\Users\\leona\\OneDrive\\Desktop\\Tesi\\Pipeline\\Datasets\\Pipeline\\SocialNetworksPosts\\Reddit\\Months\\08\\Posts.csv')\n"
   ]
  },
  {
   "cell_type": "code",
   "execution_count": 53,
   "id": "e92cd332",
   "metadata": {},
   "outputs": [
    {
     "data": {
      "text/html": [
       "<div>\n",
       "<style scoped>\n",
       "    .dataframe tbody tr th:only-of-type {\n",
       "        vertical-align: middle;\n",
       "    }\n",
       "\n",
       "    .dataframe tbody tr th {\n",
       "        vertical-align: top;\n",
       "    }\n",
       "\n",
       "    .dataframe thead th {\n",
       "        text-align: right;\n",
       "    }\n",
       "</style>\n",
       "<table border=\"1\" class=\"dataframe\">\n",
       "  <thead>\n",
       "    <tr style=\"text-align: right;\">\n",
       "      <th></th>\n",
       "      <th>index</th>\n",
       "      <th>subreddit</th>\n",
       "      <th>username</th>\n",
       "      <th>date</th>\n",
       "      <th>title</th>\n",
       "      <th>text</th>\n",
       "      <th>post_index</th>\n",
       "      <th>word</th>\n",
       "    </tr>\n",
       "  </thead>\n",
       "  <tbody>\n",
       "    <tr>\n",
       "      <th>0</th>\n",
       "      <td>322390</td>\n",
       "      <td>HomeNetworking</td>\n",
       "      <td>t3_11e345i</td>\n",
       "      <td>2023-02-28</td>\n",
       "      <td>Very slow TCP upload speed</td>\n",
       "      <td>Hello!  \\nI have 300gbit internet and some troubles with it. I use Netgear Nighthawk X4S R7800 router. SpeedTest gives good results (mostly 300mbit for both download and upload). But I have troubles when transmitting date between my cloud server.\\n\\nThe problem comes only with TCP uploading from home to cloud.\\n\\n    # iperf3 -c &lt;cloud ip&gt;\\n    Connecting to host &lt;cloud ip&gt;, port 5201\\n    [  5] local &lt;ip&gt; port 38764 connected to &lt;cloud ip&gt; port 5201\\n    [ ID] Interval           Transfer     Bitrate         Retr  Cwnd\\n    [  5]   0.00-1.00   sec   861 KBytes  7.03 Mbits/sec    0   36.8 KBytes       \\n    [  5]   1.00-2.00   sec   318 KBytes  2.61 Mbits/sec    1   25.5 KBytes       \\n    [  5]   2.00-3.02   sec   318 KBytes  2.55 Mbits/sec    1   19.8 KBytes       \\n    [  5]   3.02-4.00   sec   318 KBytes  2.66 Mbits/sec    0   21.2 KBytes       \\n    [  5]   4.00-5.02   sec   318 KBytes  2.56 Mbits/sec    0   21.2 KBytes       \\n    [  5]   5.02-6.00   sec   318 KBytes  2.65 Mbi...</td>\n",
       "      <td>671</td>\n",
       "      <td>bitrat</td>\n",
       "    </tr>\n",
       "    <tr>\n",
       "      <th>1</th>\n",
       "      <td>322954</td>\n",
       "      <td>sysadmin</td>\n",
       "      <td>t3_11dmzy5</td>\n",
       "      <td>2023-02-27</td>\n",
       "      <td>Dynamic Distribution Groups in Microsoft 365</td>\n",
       "      <td>Hey guys!  I've been struggling on this one for a few hours and scratching my head.\\n\\nI have a DDG in Microsoft 365 that I want to contain ONLY user mailboxes with active licenses.  Essentially, it's an All Staff DDG.\\n\\nI had something that was working (horribly) but it was still adding groups to the member list.  My recipientfilter is:\\n\\n    ((RecipientType -eq 'MailUser') -and (-not(Name -like 'SystemMailbox{*')) -and (-not(Name -like 'CAS_{*')) -and (-not(RecipientTypeDetailsValue -eq 'MailboxPlan')) -and (-not(RecipientTypeDetailsValue -eq 'DiscoveryMailbox')) -and (-not(RecipientTypeDetailsValue -eq 'PublicFolderMailbox')) -and (-not(RecipientTypeDetailsValue -eq 'ArbitrationMailbox')) -and (-not(RecipientTypeDetailsValue -eq 'AuditLogMailbox')) -and (-not(RecipientTypeDetailsValue -eq 'AuxAuditLogMailbox')) -and (-not(RecipientTypeDetailsValue -eq 'SupervisoryReviewPolicyMailbox')))\\n\\nIt sort of works but it's hella ugly.  I wanted to update this to make it simpler.  Some...</td>\n",
       "      <td>1235</td>\n",
       "      <td>bitrat</td>\n",
       "    </tr>\n",
       "    <tr>\n",
       "      <th>21</th>\n",
       "      <td>323029</td>\n",
       "      <td>sysadmin</td>\n",
       "      <td>t3_11dlt93</td>\n",
       "      <td>2023-02-27</td>\n",
       "      <td>Trapped a spearphish that looks like Nobelium</td>\n",
       "      <td>Spearphish attempt came as a fake reply to real e-mail that was several years old, from a vendor that had an email compromise.\\n\\nThe attachment is a password protected zip with the password in message body and something about being unable to send the attachment otherwise (very true in this case).\\n\\nExtracted first payload contains large .htm which uses HTML smuggling to drop a second zip file with same password while putting up fake Office 365 page telling you how to open it.\\n\\nSecond payload contains an .img file which mounts a filesystem and includes a .lnk shortcut to unleash the nastiness.\\n\\nFrom here everything is deeply obfuscated and resistant to being run in a sandbox. Proceeding any farther would require downloading payload files from the Internet and alerting the sender so this is where I stop for now. Even posting the filenames they use could leak information. I will say that the payload files all date from June to November 2021.\\n\\nThe whole thing closely matches th...</td>\n",
       "      <td>1310</td>\n",
       "      <td>obfus</td>\n",
       "    </tr>\n",
       "    <tr>\n",
       "      <th>45</th>\n",
       "      <td>324069</td>\n",
       "      <td>aws</td>\n",
       "      <td>t3_11cujf1</td>\n",
       "      <td>2023-02-26</td>\n",
       "      <td>Blocked requests metric for ACL?</td>\n",
       "      <td>Late last week, I set up a WAF to the first DDoS attack I've personally experienced (is there an achievement for that?). I'd like to monitor allowed and blocked requests in CloudWatch, but the documentation here doesn't seem to match what I'm seeing.\\n\\nThe documentation [here](https://docs.aws.amazon.com/waf/latest/developerguide/monitoring-cloudwatch.html) seems to say that I should expect a \"BlockedRequests\" metric in the WAFV2 namespace. However, I only see \"AllowedRequests\" under \"Region, Rule, WebACL\" for the appropriate region. Also odd, I believe \"AllowedRequests\" is showing all requests, including those that are being blocked (based on the request count at my ALB).\\n\\nPerhaps I'm missing something here?</td>\n",
       "      <td>2350</td>\n",
       "      <td>ddos</td>\n",
       "    </tr>\n",
       "    <tr>\n",
       "      <th>80</th>\n",
       "      <td>324147</td>\n",
       "      <td>Hacking_Tutorials</td>\n",
       "      <td>t3_11crwfg</td>\n",
       "      <td>2023-02-26</td>\n",
       "      <td>hacking macos</td>\n",
       "      <td>hello there,\\n\\nsomehow i always see that there is an image that macs are non-hackable, extremely hard to hack, etc. but i don't think a system man-made device might be perfect. i wonder why, and is there any resources, or meterpreter-like mac device payload apps. thanks</td>\n",
       "      <td>2428</td>\n",
       "      <td>meterpreter</td>\n",
       "    </tr>\n",
       "  </tbody>\n",
       "</table>\n",
       "</div>"
      ],
      "text/plain": [
       "     index          subreddit    username        date  \\\n",
       "0   322390     HomeNetworking  t3_11e345i  2023-02-28   \n",
       "1   322954           sysadmin  t3_11dmzy5  2023-02-27   \n",
       "21  323029           sysadmin  t3_11dlt93  2023-02-27   \n",
       "45  324069                aws  t3_11cujf1  2023-02-26   \n",
       "80  324147  Hacking_Tutorials  t3_11crwfg  2023-02-26   \n",
       "\n",
       "                                            title  \\\n",
       "0                      Very slow TCP upload speed   \n",
       "1    Dynamic Distribution Groups in Microsoft 365   \n",
       "21  Trapped a spearphish that looks like Nobelium   \n",
       "45               Blocked requests metric for ACL?   \n",
       "80                                  hacking macos   \n",
       "\n",
       "                                                                                                                                                                                                                                                                                                                                                                                                                                                                                                                                                                                                                                                                                                                                                                                                                                                                                                                                                                                                                                       text  \\\n",
       "0   Hello!  \\nI have 300gbit internet and some troubles with it. I use Netgear Nighthawk X4S R7800 router. SpeedTest gives good results (mostly 300mbit for both download and upload). But I have troubles when transmitting date between my cloud server.\\n\\nThe problem comes only with TCP uploading from home to cloud.\\n\\n    # iperf3 -c <cloud ip>\\n    Connecting to host <cloud ip>, port 5201\\n    [  5] local <ip> port 38764 connected to <cloud ip> port 5201\\n    [ ID] Interval           Transfer     Bitrate         Retr  Cwnd\\n    [  5]   0.00-1.00   sec   861 KBytes  7.03 Mbits/sec    0   36.8 KBytes       \\n    [  5]   1.00-2.00   sec   318 KBytes  2.61 Mbits/sec    1   25.5 KBytes       \\n    [  5]   2.00-3.02   sec   318 KBytes  2.55 Mbits/sec    1   19.8 KBytes       \\n    [  5]   3.02-4.00   sec   318 KBytes  2.66 Mbits/sec    0   21.2 KBytes       \\n    [  5]   4.00-5.02   sec   318 KBytes  2.56 Mbits/sec    0   21.2 KBytes       \\n    [  5]   5.02-6.00   sec   318 KBytes  2.65 Mbi...   \n",
       "1   Hey guys!  I've been struggling on this one for a few hours and scratching my head.\\n\\nI have a DDG in Microsoft 365 that I want to contain ONLY user mailboxes with active licenses.  Essentially, it's an All Staff DDG.\\n\\nI had something that was working (horribly) but it was still adding groups to the member list.  My recipientfilter is:\\n\\n    ((RecipientType -eq 'MailUser') -and (-not(Name -like 'SystemMailbox{*')) -and (-not(Name -like 'CAS_{*')) -and (-not(RecipientTypeDetailsValue -eq 'MailboxPlan')) -and (-not(RecipientTypeDetailsValue -eq 'DiscoveryMailbox')) -and (-not(RecipientTypeDetailsValue -eq 'PublicFolderMailbox')) -and (-not(RecipientTypeDetailsValue -eq 'ArbitrationMailbox')) -and (-not(RecipientTypeDetailsValue -eq 'AuditLogMailbox')) -and (-not(RecipientTypeDetailsValue -eq 'AuxAuditLogMailbox')) -and (-not(RecipientTypeDetailsValue -eq 'SupervisoryReviewPolicyMailbox')))\\n\\nIt sort of works but it's hella ugly.  I wanted to update this to make it simpler.  Some...   \n",
       "21  Spearphish attempt came as a fake reply to real e-mail that was several years old, from a vendor that had an email compromise.\\n\\nThe attachment is a password protected zip with the password in message body and something about being unable to send the attachment otherwise (very true in this case).\\n\\nExtracted first payload contains large .htm which uses HTML smuggling to drop a second zip file with same password while putting up fake Office 365 page telling you how to open it.\\n\\nSecond payload contains an .img file which mounts a filesystem and includes a .lnk shortcut to unleash the nastiness.\\n\\nFrom here everything is deeply obfuscated and resistant to being run in a sandbox. Proceeding any farther would require downloading payload files from the Internet and alerting the sender so this is where I stop for now. Even posting the filenames they use could leak information. I will say that the payload files all date from June to November 2021.\\n\\nThe whole thing closely matches th...   \n",
       "45                                                                                                                                                                                                                                                                                        Late last week, I set up a WAF to the first DDoS attack I've personally experienced (is there an achievement for that?). I'd like to monitor allowed and blocked requests in CloudWatch, but the documentation here doesn't seem to match what I'm seeing.\\n\\nThe documentation [here](https://docs.aws.amazon.com/waf/latest/developerguide/monitoring-cloudwatch.html) seems to say that I should expect a \"BlockedRequests\" metric in the WAFV2 namespace. However, I only see \"AllowedRequests\" under \"Region, Rule, WebACL\" for the appropriate region. Also odd, I believe \"AllowedRequests\" is showing all requests, including those that are being blocked (based on the request count at my ALB).\\n\\nPerhaps I'm missing something here?   \n",
       "80                                                                                                                                                                                                                                                                                                                                                                                                                                                                                                                                                                                                                                                                                                                                                          hello there,\\n\\nsomehow i always see that there is an image that macs are non-hackable, extremely hard to hack, etc. but i don't think a system man-made device might be perfect. i wonder why, and is there any resources, or meterpreter-like mac device payload apps. thanks   \n",
       "\n",
       "    post_index         word  \n",
       "0          671       bitrat  \n",
       "1         1235       bitrat  \n",
       "21        1310        obfus  \n",
       "45        2350         ddos  \n",
       "80        2428  meterpreter  "
      ]
     },
     "execution_count": 53,
     "metadata": {},
     "output_type": "execute_result"
    }
   ],
   "source": [
    "merged_matches = pd.merge(selected_rows, matches, left_index=True, right_on='post_index')\n",
    "merged_matches.head()\n"
   ]
  },
  {
   "cell_type": "code",
   "execution_count": 54,
   "id": "4a8ea30e",
   "metadata": {},
   "outputs": [],
   "source": [
    "merged_matches['keyword type'] = 'malware'"
   ]
  },
  {
   "cell_type": "code",
   "execution_count": 55,
   "id": "18df3680",
   "metadata": {},
   "outputs": [],
   "source": [
    "merged_matches.to_csv(r'C:\\Users\\leona\\OneDrive\\Desktop\\Tesi\\Pipeline\\Datasets\\Pipeline\\SocialNetworksPosts\\Reddit\\Months\\08\\Posts_filteredby_Malwares.csv')"
   ]
  },
  {
   "cell_type": "markdown",
   "id": "044f7c05",
   "metadata": {},
   "source": [
    "### Malwares Types names searching"
   ]
  },
  {
   "cell_type": "code",
   "execution_count": 56,
   "id": "8b8e9e3b",
   "metadata": {},
   "outputs": [
    {
     "name": "stderr",
     "output_type": "stream",
     "text": [
      "Processing posts: 30920it [00:02, 13959.99it/s]\n",
      "Processing posts: 30920it [00:02, 13615.66it/s]\n",
      "Processing posts: 30920it [00:02, 13045.64it/s]\n",
      "Processing posts: 30920it [00:02, 12029.11it/s]\n",
      "Processing posts: 30920it [00:02, 13667.67it/s]\n",
      "Processing posts: 30920it [00:02, 14006.54it/s]\n",
      "Processing posts: 30920it [00:02, 14121.55it/s]\n",
      "Processing posts: 30920it [00:02, 12617.40it/s]\n",
      "Processing posts: 30920it [00:02, 12922.79it/s]\n",
      "Processing posts: 30920it [00:02, 12414.74it/s]\n",
      "Processing posts: 30920it [00:02, 12266.73it/s]\n",
      "Processing posts: 11it [00:26,  2.37s/it]\n"
     ]
    }
   ],
   "source": [
    "malware_types_matches = pd.DataFrame()\n",
    "\n",
    "malware_types_matches = stemming_and_matching( all_malware_types_list , selected_rows)"
   ]
  },
  {
   "cell_type": "code",
   "execution_count": 57,
   "id": "bafd2099",
   "metadata": {},
   "outputs": [],
   "source": [
    "malware_types_matches['keyword type'] = 'malware type'"
   ]
  },
  {
   "cell_type": "code",
   "execution_count": 58,
   "id": "ad849baa",
   "metadata": {},
   "outputs": [],
   "source": [
    "malware_types_matches.to_csv(r'C:\\Users\\leona\\OneDrive\\Desktop\\Tesi\\Pipeline\\Datasets\\Pipeline\\SocialNetworksPosts\\Reddit\\Months\\08\\Posts_filteredby_MalwareType.csv')"
   ]
  },
  {
   "cell_type": "code",
   "execution_count": null,
   "id": "07395741",
   "metadata": {},
   "outputs": [],
   "source": []
  },
  {
   "cell_type": "markdown",
   "id": "65b2236f",
   "metadata": {},
   "source": [
    "### Operative System names search"
   ]
  },
  {
   "cell_type": "code",
   "execution_count": 59,
   "id": "a528e057",
   "metadata": {},
   "outputs": [
    {
     "name": "stderr",
     "output_type": "stream",
     "text": [
      "Processing posts: 30920it [00:01, 15471.19it/s]\n",
      "Processing posts: 30920it [00:01, 16519.61it/s]\n",
      "Processing posts: 30920it [00:01, 17172.76it/s]\n",
      "Processing posts: 3it [00:05,  1.90s/it]\n"
     ]
    }
   ],
   "source": [
    "words_matches = pd.DataFrame()\n",
    "\n",
    "words_matches = stemming_and_matching( all_delivery_method_list , selected_rows)"
   ]
  },
  {
   "cell_type": "code",
   "execution_count": 60,
   "id": "86b7b0a3",
   "metadata": {},
   "outputs": [
    {
     "data": {
      "text/html": [
       "<div>\n",
       "<style scoped>\n",
       "    .dataframe tbody tr th:only-of-type {\n",
       "        vertical-align: middle;\n",
       "    }\n",
       "\n",
       "    .dataframe tbody tr th {\n",
       "        vertical-align: top;\n",
       "    }\n",
       "\n",
       "    .dataframe thead th {\n",
       "        text-align: right;\n",
       "    }\n",
       "</style>\n",
       "<table border=\"1\" class=\"dataframe\">\n",
       "  <thead>\n",
       "    <tr style=\"text-align: right;\">\n",
       "      <th></th>\n",
       "      <th>full_text</th>\n",
       "      <th>keyword</th>\n",
       "    </tr>\n",
       "  </thead>\n",
       "  <tbody>\n",
       "    <tr>\n",
       "      <th>0</th>\n",
       "      <td>Switch the user who bought the app to another user. Hi. I'm helping a friend with this issue: She has used a software on her Mac. Her friend was the one who bought it, installed it, and has his user log in attached to it. The problem is that he is now deceased. So we want to access the software and hand it over to her, so she can acces the safed work. We can not access it because it requires an update. Will not open up until it has been updated.\\n\\nWe don't have access to deceased's email either, so we need to find a workaround that doesn't require his email. \\n\\nHer Mac is some years old, not sure which Mac OS it is currently running.\\n\\nAny ideas?</td>\n",
       "      <td>email attachment</td>\n",
       "    </tr>\n",
       "    <tr>\n",
       "      <th>1</th>\n",
       "      <td>Trapped a spearphish that looks like Nobelium. Spearphish attempt came as a fake reply to real e-mail that was several years old, from a vendor that had an email compromise.\\n\\nThe attachment is a password protected zip with the password in message body and something about being unable to send the attachment otherwise (very true in this case).\\n\\nExtracted first payload contains large .htm which uses HTML smuggling to drop a second zip file with same password while putting up fake Office 365 page telling you how to open it.\\n\\nSecond payload contains an .img file which mounts a filesystem and includes a .lnk shortcut to unleash the nastiness.\\n\\nFrom here everything is deeply obfuscated and resistant to being run in a sandbox. Proceeding any farther would require downloading payload files from the Internet and alerting the sender so this is where I stop for now. Even posting the filenames they use could leak information. I will say that the payload files all date from June to Novem...</td>\n",
       "      <td>email attachment</td>\n",
       "    </tr>\n",
       "    <tr>\n",
       "      <th>2</th>\n",
       "      <td>Scams are on indeed.. Got an email from a job I applied to. The email was full of misspellings and weird fake names. First started out that they want to move forward then two sentences after that said I got the job, that I didn't even interview for . Very weird. Then at the bottom it asked for full name,and birthday, cant remember what else. Reported to indeed, didn't respond to email. Let's hope maleware wasn't attached smh.</td>\n",
       "      <td>email attachment</td>\n",
       "    </tr>\n",
       "    <tr>\n",
       "      <th>3</th>\n",
       "      <td>Automating Email Text and Attachment saving to Cloud Storage. Hi all,\\n\\nI am looking for advice on the best way(s) to automate some of my small business admin tasks; primarily downloading and saving emails attachments.\\n\\nI have a Synology with Docker installed which makes the most sense to use in my head. I use Gmail as my email and Google Drive as my cloud storage. I am aware of a few automation Docker images out there but unsure which ones are best to integrate with Gmail and Google drive for this purpose.\\n\\nNote: I expect to identify which emails I want processed by adding a 'label' via Gmail filters or forwarding on specific emails to a dedicated gmail account.\\n\\n&amp;#x200B;\\n\\nI would like to automate the following:\\n\\n1. \\[An email to be processed is received\\]\\n2. A folder is created in Google Drive and named something like &lt;Date + Sender\\_Name&gt;.\\n3. The email is converted to a pdf and saved to the folder in Google Drive.\\n4. The email attachments are saved to the same folder.</td>\n",
       "      <td>email attachment</td>\n",
       "    </tr>\n",
       "    <tr>\n",
       "      <th>4</th>\n",
       "      <td>Mistress is blackmailing me. Here is my story\\n\\nI met a Mistress a couple of days ago with whom things started to go well at first and then she wanted 20 dollars and I paid it with paypal to her email and then we talked and she wanted more money and she wanted it with a steam gift card that I bought on dundle.com. Then he wanted a picture of the apps on my phone and what I have so I took them too.\\n\\nHe wanted me to make a slavery ownership contract form on [https://slavereg.com](https://slavereg.com) and I did. The site then sent a message to my e-mail saying that and a link to apparently accept it, so to speak, and attach the queen to it. I had to link him and I did. He also wanted to know what country I'm from and what the area code is (which are correct). And then he started asking for a phone number that I didn't give. I have given him two nude photos of myself, which are: one is of my body where I have covered my face with a scarf and the other is of my lower end. And then h...</td>\n",
       "      <td>email attachment</td>\n",
       "    </tr>\n",
       "  </tbody>\n",
       "</table>\n",
       "</div>"
      ],
      "text/plain": [
       "                                                                                                                                                                                                                                                                                                                                                                                                                                                                                                                                                                                                                                                                                                                                                                                                                                                                                                                                                                                                                                 full_text  \\\n",
       "0                                                                                                                                                                                                                                                                                                                                                        Switch the user who bought the app to another user. Hi. I'm helping a friend with this issue: She has used a software on her Mac. Her friend was the one who bought it, installed it, and has his user log in attached to it. The problem is that he is now deceased. So we want to access the software and hand it over to her, so she can acces the safed work. We can not access it because it requires an update. Will not open up until it has been updated.\\n\\nWe don't have access to deceased's email either, so we need to find a workaround that doesn't require his email. \\n\\nHer Mac is some years old, not sure which Mac OS it is currently running.\\n\\nAny ideas?   \n",
       "1  Trapped a spearphish that looks like Nobelium. Spearphish attempt came as a fake reply to real e-mail that was several years old, from a vendor that had an email compromise.\\n\\nThe attachment is a password protected zip with the password in message body and something about being unable to send the attachment otherwise (very true in this case).\\n\\nExtracted first payload contains large .htm which uses HTML smuggling to drop a second zip file with same password while putting up fake Office 365 page telling you how to open it.\\n\\nSecond payload contains an .img file which mounts a filesystem and includes a .lnk shortcut to unleash the nastiness.\\n\\nFrom here everything is deeply obfuscated and resistant to being run in a sandbox. Proceeding any farther would require downloading payload files from the Internet and alerting the sender so this is where I stop for now. Even posting the filenames they use could leak information. I will say that the payload files all date from June to Novem...   \n",
       "2                                                                                                                                                                                                                                                                                                                                                                                                                                                                                                                                                                                            Scams are on indeed.. Got an email from a job I applied to. The email was full of misspellings and weird fake names. First started out that they want to move forward then two sentences after that said I got the job, that I didn't even interview for . Very weird. Then at the bottom it asked for full name,and birthday, cant remember what else. Reported to indeed, didn't respond to email. Let's hope maleware wasn't attached smh.   \n",
       "3  Automating Email Text and Attachment saving to Cloud Storage. Hi all,\\n\\nI am looking for advice on the best way(s) to automate some of my small business admin tasks; primarily downloading and saving emails attachments.\\n\\nI have a Synology with Docker installed which makes the most sense to use in my head. I use Gmail as my email and Google Drive as my cloud storage. I am aware of a few automation Docker images out there but unsure which ones are best to integrate with Gmail and Google drive for this purpose.\\n\\nNote: I expect to identify which emails I want processed by adding a 'label' via Gmail filters or forwarding on specific emails to a dedicated gmail account.\\n\\n&#x200B;\\n\\nI would like to automate the following:\\n\\n1. \\[An email to be processed is received\\]\\n2. A folder is created in Google Drive and named something like <Date + Sender\\_Name>.\\n3. The email is converted to a pdf and saved to the folder in Google Drive.\\n4. The email attachments are saved to the same folder.   \n",
       "4  Mistress is blackmailing me. Here is my story\\n\\nI met a Mistress a couple of days ago with whom things started to go well at first and then she wanted 20 dollars and I paid it with paypal to her email and then we talked and she wanted more money and she wanted it with a steam gift card that I bought on dundle.com. Then he wanted a picture of the apps on my phone and what I have so I took them too.\\n\\nHe wanted me to make a slavery ownership contract form on [https://slavereg.com](https://slavereg.com) and I did. The site then sent a message to my e-mail saying that and a link to apparently accept it, so to speak, and attach the queen to it. I had to link him and I did. He also wanted to know what country I'm from and what the area code is (which are correct). And then he started asking for a phone number that I didn't give. I have given him two nude photos of myself, which are: one is of my body where I have covered my face with a scarf and the other is of my lower end. And then h...   \n",
       "\n",
       "            keyword  \n",
       "0  email attachment  \n",
       "1  email attachment  \n",
       "2  email attachment  \n",
       "3  email attachment  \n",
       "4  email attachment  "
      ]
     },
     "execution_count": 60,
     "metadata": {},
     "output_type": "execute_result"
    }
   ],
   "source": [
    "words_matches.head()"
   ]
  },
  {
   "cell_type": "code",
   "execution_count": 61,
   "id": "c72a2cb2",
   "metadata": {},
   "outputs": [],
   "source": [
    "words_matches['keyword type'] = 'delivery method'"
   ]
  },
  {
   "cell_type": "code",
   "execution_count": 62,
   "id": "798babac",
   "metadata": {},
   "outputs": [],
   "source": [
    "words_matches.to_csv(r'C:\\Users\\leona\\OneDrive\\Desktop\\Tesi\\Pipeline\\Datasets\\Pipeline\\SocialNetworksPosts\\Reddit\\Months\\08\\Posts_filteredby_DeliveryMethod.csv')"
   ]
  },
  {
   "cell_type": "code",
   "execution_count": 63,
   "id": "cde71f54",
   "metadata": {},
   "outputs": [
    {
     "data": {
      "text/plain": [
       "30920"
      ]
     },
     "execution_count": 63,
     "metadata": {},
     "output_type": "execute_result"
    }
   ],
   "source": [
    "len(selected_rows)"
   ]
  },
  {
   "cell_type": "code",
   "execution_count": 64,
   "id": "b5a14de8",
   "metadata": {},
   "outputs": [
    {
     "data": {
      "text/plain": [
       "4257"
      ]
     },
     "execution_count": 64,
     "metadata": {},
     "output_type": "execute_result"
    }
   ],
   "source": [
    "df = pd.concat([words_matches, malware_types_matches, matches2, matches1, matches_behaviours_3, matches_behaviours_2, matches_behaviours_1 ])\n",
    "len(df)"
   ]
  },
  {
   "cell_type": "code",
   "execution_count": 65,
   "id": "509502df",
   "metadata": {},
   "outputs": [],
   "source": [
    "df.to_csv(r'C:\\Users\\leona\\OneDrive\\Desktop\\Tesi\\Pipeline\\Datasets\\Pipeline\\SocialNetworksPosts\\Reddit\\Months\\08\\MatchedPosts.csv')"
   ]
  },
  {
   "cell_type": "markdown",
   "id": "78543d08",
   "metadata": {},
   "source": []
  },
  {
   "cell_type": "markdown",
   "id": "18094b19",
   "metadata": {},
   "source": []
  },
  {
   "cell_type": "markdown",
   "id": "3631129a",
   "metadata": {},
   "source": [
    "\n"
   ]
  },
  {
   "cell_type": "markdown",
   "id": "69fdd2f8",
   "metadata": {},
   "source": []
  }
 ],
 "metadata": {
  "kernelspec": {
   "display_name": "Python 3 (ipykernel)",
   "language": "python",
   "name": "python3"
  },
  "language_info": {
   "codemirror_mode": {
    "name": "ipython",
    "version": 3
   },
   "file_extension": ".py",
   "mimetype": "text/x-python",
   "name": "python",
   "nbconvert_exporter": "python",
   "pygments_lexer": "ipython3",
   "version": "3.11.5"
  }
 },
 "nbformat": 4,
 "nbformat_minor": 5
}
