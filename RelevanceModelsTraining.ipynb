{
 "cells": [
  {
   "cell_type": "code",
   "execution_count": 1,
   "id": "8dfabffe",
   "metadata": {
    "execution": {
     "iopub.execute_input": "2022-12-04T14:58:30.771856Z",
     "iopub.status.busy": "2022-12-04T14:58:30.771305Z",
     "iopub.status.idle": "2022-12-04T14:58:30.776919Z",
     "shell.execute_reply": "2022-12-04T14:58:30.776089Z"
    },
    "papermill": {
     "duration": 0.031011,
     "end_time": "2022-12-04T14:58:30.783132",
     "exception": false,
     "start_time": "2022-12-04T14:58:30.752121",
     "status": "completed"
    },
    "tags": []
   },
   "outputs": [],
   "source": [
    "#execute this cell, then press 'Restart and clear cell outputs' and execute all cells except this\n",
    "# !pip install -U tensorflow==2.12.0rc0\n",
    "# !pip install -U numpy==1.18.5"
   ]
  },
  {
   "cell_type": "code",
   "execution_count": 4,
   "id": "ed18a7d8",
   "metadata": {
    "_cell_guid": "b1076dfc-b9ad-4769-8c92-a6c4dae69d19",
    "_uuid": "8f2839f25d086af736a60e9eeb907d3b93b6e0e5",
    "execution": {
     "iopub.execute_input": "2022-12-04T14:58:30.819742Z",
     "iopub.status.busy": "2022-12-04T14:58:30.819389Z",
     "iopub.status.idle": "2022-12-04T14:59:04.992596Z",
     "shell.execute_reply": "2022-12-04T14:59:04.991419Z"
    },
    "papermill": {
     "duration": 34.194967,
     "end_time": "2022-12-04T14:59:04.994913",
     "exception": false,
     "start_time": "2022-12-04T14:58:30.799946",
     "status": "completed"
    },
    "tags": []
   },
   "outputs": [
    {
     "name": "stdout",
     "output_type": "stream",
     "text": [
      "Requirement already satisfied: contractions in c:\\users\\leona\\anaconda3\\lib\\site-packages (0.1.73)\n",
      "Requirement already satisfied: textsearch>=0.0.21 in c:\\users\\leona\\anaconda3\\lib\\site-packages (from contractions) (0.0.24)\n",
      "Requirement already satisfied: anyascii in c:\\users\\leona\\anaconda3\\lib\\site-packages (from textsearch>=0.0.21->contractions) (0.3.2)\n",
      "Requirement already satisfied: pyahocorasick in c:\\users\\leona\\anaconda3\\lib\\site-packages (from textsearch>=0.0.21->contractions) (2.0.0)\n",
      "Requirement already satisfied: vaderSentiment in c:\\users\\leona\\anaconda3\\lib\\site-packages (3.3.2)\n",
      "Requirement already satisfied: requests in c:\\users\\leona\\anaconda3\\lib\\site-packages (from vaderSentiment) (2.31.0)\n",
      "Requirement already satisfied: charset-normalizer<4,>=2 in c:\\users\\leona\\anaconda3\\lib\\site-packages (from requests->vaderSentiment) (2.0.4)\n",
      "Requirement already satisfied: idna<4,>=2.5 in c:\\users\\leona\\anaconda3\\lib\\site-packages (from requests->vaderSentiment) (2.10)\n",
      "Requirement already satisfied: urllib3<3,>=1.21.1 in c:\\users\\leona\\anaconda3\\lib\\site-packages (from requests->vaderSentiment) (1.26.16)\n",
      "Requirement already satisfied: certifi>=2017.4.17 in c:\\users\\leona\\anaconda3\\lib\\site-packages (from requests->vaderSentiment) (2023.7.22)\n",
      "Requirement already satisfied: sweetviz in c:\\users\\leona\\anaconda3\\lib\\site-packages (2.3.1)\n",
      "Requirement already satisfied: pandas!=1.0.0,!=1.0.1,!=1.0.2,>=0.25.3 in c:\\users\\leona\\anaconda3\\lib\\site-packages (from sweetviz) (2.0.3)\n",
      "Requirement already satisfied: numpy>=1.16.0 in c:\\users\\leona\\anaconda3\\lib\\site-packages (from sweetviz) (1.23.5)\n",
      "Requirement already satisfied: matplotlib>=3.1.3 in c:\\users\\leona\\anaconda3\\lib\\site-packages (from sweetviz) (3.7.2)\n",
      "Requirement already satisfied: tqdm>=4.43.0 in c:\\users\\leona\\anaconda3\\lib\\site-packages (from sweetviz) (4.65.0)\n",
      "Requirement already satisfied: scipy>=1.3.2 in c:\\users\\leona\\anaconda3\\lib\\site-packages (from sweetviz) (1.11.1)\n",
      "Requirement already satisfied: jinja2>=2.11.1 in c:\\users\\leona\\anaconda3\\lib\\site-packages (from sweetviz) (3.1.2)\n",
      "Requirement already satisfied: importlib-resources>=1.2.0 in c:\\users\\leona\\anaconda3\\lib\\site-packages (from sweetviz) (6.1.1)\n",
      "Requirement already satisfied: MarkupSafe>=2.0 in c:\\users\\leona\\anaconda3\\lib\\site-packages (from jinja2>=2.11.1->sweetviz) (2.1.1)\n",
      "Requirement already satisfied: contourpy>=1.0.1 in c:\\users\\leona\\anaconda3\\lib\\site-packages (from matplotlib>=3.1.3->sweetviz) (1.0.5)\n",
      "Requirement already satisfied: cycler>=0.10 in c:\\users\\leona\\anaconda3\\lib\\site-packages (from matplotlib>=3.1.3->sweetviz) (0.11.0)\n",
      "Requirement already satisfied: fonttools>=4.22.0 in c:\\users\\leona\\anaconda3\\lib\\site-packages (from matplotlib>=3.1.3->sweetviz) (4.25.0)\n",
      "Requirement already satisfied: kiwisolver>=1.0.1 in c:\\users\\leona\\anaconda3\\lib\\site-packages (from matplotlib>=3.1.3->sweetviz) (1.4.4)\n",
      "Requirement already satisfied: packaging>=20.0 in c:\\users\\leona\\anaconda3\\lib\\site-packages (from matplotlib>=3.1.3->sweetviz) (23.1)\n",
      "Requirement already satisfied: pillow>=6.2.0 in c:\\users\\leona\\anaconda3\\lib\\site-packages (from matplotlib>=3.1.3->sweetviz) (9.4.0)\n",
      "Requirement already satisfied: pyparsing<3.1,>=2.3.1 in c:\\users\\leona\\anaconda3\\lib\\site-packages (from matplotlib>=3.1.3->sweetviz) (3.0.9)\n",
      "Requirement already satisfied: python-dateutil>=2.7 in c:\\users\\leona\\anaconda3\\lib\\site-packages (from matplotlib>=3.1.3->sweetviz) (2.8.2)\n",
      "Requirement already satisfied: pytz>=2020.1 in c:\\users\\leona\\anaconda3\\lib\\site-packages (from pandas!=1.0.0,!=1.0.1,!=1.0.2,>=0.25.3->sweetviz) (2023.3.post1)\n",
      "Requirement already satisfied: tzdata>=2022.1 in c:\\users\\leona\\anaconda3\\lib\\site-packages (from pandas!=1.0.0,!=1.0.1,!=1.0.2,>=0.25.3->sweetviz) (2023.3)\n",
      "Requirement already satisfied: colorama in c:\\users\\leona\\anaconda3\\lib\\site-packages (from tqdm>=4.43.0->sweetviz) (0.4.6)\n",
      "Requirement already satisfied: six>=1.5 in c:\\users\\leona\\anaconda3\\lib\\site-packages (from python-dateutil>=2.7->matplotlib>=3.1.3->sweetviz) (1.16.0)\n",
      "Collecting textblob\n",
      "  Downloading textblob-0.17.1-py2.py3-none-any.whl (636 kB)\n",
      "     ---------------------------------------- 0.0/636.8 kB ? eta -:--:--\n",
      "     ---------------------------------------- 0.0/636.8 kB ? eta -:--:--\n",
      "      --------------------------------------- 10.2/636.8 kB ? eta -:--:--\n",
      "      --------------------------------------- 10.2/636.8 kB ? eta -:--:--\n",
      "     -- ---------------------------------- 41.0/636.8 kB 330.3 kB/s eta 0:00:02\n",
      "     -------------------------- ----------- 450.6/636.8 kB 3.1 MB/s eta 0:00:01\n",
      "     -------------------------------------- 636.8/636.8 kB 3.6 MB/s eta 0:00:00\n",
      "Requirement already satisfied: nltk>=3.1 in c:\\users\\leona\\anaconda3\\lib\\site-packages (from textblob) (3.8.1)\n",
      "Requirement already satisfied: click in c:\\users\\leona\\anaconda3\\lib\\site-packages (from nltk>=3.1->textblob) (8.0.4)\n",
      "Requirement already satisfied: joblib in c:\\users\\leona\\anaconda3\\lib\\site-packages (from nltk>=3.1->textblob) (1.1.1)\n",
      "Requirement already satisfied: regex>=2021.8.3 in c:\\users\\leona\\anaconda3\\lib\\site-packages (from nltk>=3.1->textblob) (2022.7.9)\n",
      "Requirement already satisfied: tqdm in c:\\users\\leona\\anaconda3\\lib\\site-packages (from nltk>=3.1->textblob) (4.65.0)\n",
      "Requirement already satisfied: colorama in c:\\users\\leona\\anaconda3\\lib\\site-packages (from click->nltk>=3.1->textblob) (0.4.6)\n",
      "Installing collected packages: textblob\n",
      "Successfully installed textblob-0.17.1\n"
     ]
    }
   ],
   "source": [
    "# This Python 3 environment comes with many helpful analytics libraries installed\n",
    "# It is defined by the kaggle/python Docker image: https://github.com/kaggle/docker-python\n",
    "# For example, here's several helpful packages to load\n",
    "!pip install contractions\n",
    "!pip install vaderSentiment\n",
    "!pip install sweetviz\n",
    "!pip install textblob\n",
    "\n",
    "import numpy as np # linear algebra\n",
    "import pandas as pd # data processing, CSV file I/O (e.g. pd.read_csv)\n",
    "\n",
    "import contractions\n",
    "import sweetviz as sv\n",
    "import nltk\n",
    "from nltk.sentiment.vader import SentimentIntensityAnalyzer\n",
    "\n",
    "import time\n",
    "\n",
    "#importing the Lemming function from nltk library\n",
    "from nltk.stem import WordNetLemmatizer\n",
    "import re  \n",
    "import matplotlib.pyplot as plt\n",
    "from textblob import TextBlob\n",
    "\n",
    "# Input data files are available in the read-only \"../input/\" directory\n",
    "# For example, running this (by clicking run or pressing Shift+Enter) will list all files under the input directory\n",
    "\n",
    "import os\n",
    "for dirname, _, filenames in os.walk('/kaggle/input'):\n",
    "    for filename in filenames:\n",
    "        print(os.path.join(dirname, filename))\n",
    "\n",
    "# You can write up to 20GB to the current directory (/kaggle/working/) that gets preserved as output when you create a version using \"Save & Run All\" \n",
    "# You can also write temporary files to /kaggle/temp/, but they won't be saved outside of the current session"
   ]
  },
  {
   "cell_type": "code",
   "execution_count": 5,
   "id": "a8024f66",
   "metadata": {},
   "outputs": [
    {
     "name": "stdout",
     "output_type": "stream",
     "text": [
      "(17792, 4)\n"
     ]
    }
   ],
   "source": [
    "dir_cs_aware_cleaned_text = r'C:\\Users\\leona\\OneDrive\\Desktop\\Tesi\\Pipeline\\Datasets\\Pipeline\\RelevanceAnalysis\\cs_aware_cleaned_text.csv'\n",
    "\n",
    "cs_aware_cleaned_text = pd.read_csv(dir_cs_aware_cleaned_text)\n",
    "print(cs_aware_cleaned_text.shape)"
   ]
  },
  {
   "cell_type": "code",
   "execution_count": 6,
   "id": "e53e6685",
   "metadata": {},
   "outputs": [
    {
     "name": "stdout",
     "output_type": "stream",
     "text": [
      "(7020, 6)\n"
     ]
    }
   ],
   "source": [
    "dir_not_cs_aware_cleaned_text = r'C:\\Users\\leona\\OneDrive\\Desktop\\Tesi\\Pipeline\\Datasets\\Pipeline\\RelevanceAnalysis\\not_cs_aware_cleaned_text.csv'\n",
    "\n",
    "not_cs_aware_cleaned_text = pd.read_csv(dir_not_cs_aware_cleaned_text)\n",
    "print(not_cs_aware_cleaned_text.shape)"
   ]
  },
  {
   "cell_type": "code",
   "execution_count": 7,
   "id": "545bfa0d",
   "metadata": {
    "execution": {
     "iopub.execute_input": "2022-12-04T14:59:05.204514Z",
     "iopub.status.busy": "2022-12-04T14:59:05.203823Z",
     "iopub.status.idle": "2022-12-04T14:59:05.220247Z",
     "shell.execute_reply": "2022-12-04T14:59:05.219325Z"
    },
    "papermill": {
     "duration": 0.032026,
     "end_time": "2022-12-04T14:59:05.222242",
     "exception": false,
     "start_time": "2022-12-04T14:59:05.190216",
     "status": "completed"
    },
    "tags": []
   },
   "outputs": [],
   "source": [
    "cs_aware_cleaned_text = cs_aware_cleaned_text.drop(['Unnamed: 0'], axis = 1) \n",
    "not_cs_aware_cleaned_text = not_cs_aware_cleaned_text.drop(['Unnamed: 0'], axis = 1) "
   ]
  },
  {
   "cell_type": "code",
   "execution_count": 8,
   "id": "3a63451b",
   "metadata": {
    "execution": {
     "iopub.execute_input": "2022-12-04T14:59:05.248435Z",
     "iopub.status.busy": "2022-12-04T14:59:05.248151Z",
     "iopub.status.idle": "2022-12-04T14:59:05.266674Z",
     "shell.execute_reply": "2022-12-04T14:59:05.265786Z"
    },
    "papermill": {
     "duration": 0.033877,
     "end_time": "2022-12-04T14:59:05.268728",
     "exception": false,
     "start_time": "2022-12-04T14:59:05.234851",
     "status": "completed"
    },
    "tags": []
   },
   "outputs": [
    {
     "data": {
      "text/html": [
       "<div>\n",
       "<style scoped>\n",
       "    .dataframe tbody tr th:only-of-type {\n",
       "        vertical-align: middle;\n",
       "    }\n",
       "\n",
       "    .dataframe tbody tr th {\n",
       "        vertical-align: top;\n",
       "    }\n",
       "\n",
       "    .dataframe thead th {\n",
       "        text-align: right;\n",
       "    }\n",
       "</style>\n",
       "<table border=\"1\" class=\"dataframe\">\n",
       "  <thead>\n",
       "    <tr style=\"text-align: right;\">\n",
       "      <th></th>\n",
       "      <th>full_text</th>\n",
       "      <th>lang</th>\n",
       "      <th>Related</th>\n",
       "    </tr>\n",
       "  </thead>\n",
       "  <tbody>\n",
       "    <tr>\n",
       "      <th>0</th>\n",
       "      <td>non transparent sharing of branch predictor se...</td>\n",
       "      <td>en</td>\n",
       "      <td>1</td>\n",
       "    </tr>\n",
       "    <tr>\n",
       "      <th>1</th>\n",
       "      <td>non transparent sharing of branch predictor wi...</td>\n",
       "      <td>en</td>\n",
       "      <td>1</td>\n",
       "    </tr>\n",
       "    <tr>\n",
       "      <th>2</th>\n",
       "      <td>hardware debug modes and processor init settin...</td>\n",
       "      <td>en</td>\n",
       "      <td>1</td>\n",
       "    </tr>\n",
       "    <tr>\n",
       "      <th>3</th>\n",
       "      <td>sensitive information accessible by physical p...</td>\n",
       "      <td>en</td>\n",
       "      <td>1</td>\n",
       "    </tr>\n",
       "    <tr>\n",
       "      <th>4</th>\n",
       "      <td>pan os software provides options to exclude sp...</td>\n",
       "      <td>en</td>\n",
       "      <td>1</td>\n",
       "    </tr>\n",
       "    <tr>\n",
       "      <th>...</th>\n",
       "      <td>...</td>\n",
       "      <td>...</td>\n",
       "      <td>...</td>\n",
       "    </tr>\n",
       "    <tr>\n",
       "      <th>17787</th>\n",
       "      <td>healthcare and publichealth sector organizatio...</td>\n",
       "      <td>en</td>\n",
       "      <td>1</td>\n",
       "    </tr>\n",
       "    <tr>\n",
       "      <th>17788</th>\n",
       "      <td>do not give an attacker the opportunity to tak...</td>\n",
       "      <td>en</td>\n",
       "      <td>1</td>\n",
       "    </tr>\n",
       "    <tr>\n",
       "      <th>17789</th>\n",
       "      <td>check out cisagov s redeye it is an interactiv...</td>\n",
       "      <td>en</td>\n",
       "      <td>1</td>\n",
       "    </tr>\n",
       "    <tr>\n",
       "      <th>17790</th>\n",
       "      <td>cisagov s known exploited vulnerabilities cata...</td>\n",
       "      <td>en</td>\n",
       "      <td>1</td>\n",
       "    </tr>\n",
       "    <tr>\n",
       "      <th>17791</th>\n",
       "      <td>update mozilla firefox to protect against deni...</td>\n",
       "      <td>en</td>\n",
       "      <td>1</td>\n",
       "    </tr>\n",
       "  </tbody>\n",
       "</table>\n",
       "<p>17792 rows × 3 columns</p>\n",
       "</div>"
      ],
      "text/plain": [
       "                                               full_text lang  Related\n",
       "0      non transparent sharing of branch predictor se...   en        1\n",
       "1      non transparent sharing of branch predictor wi...   en        1\n",
       "2      hardware debug modes and processor init settin...   en        1\n",
       "3      sensitive information accessible by physical p...   en        1\n",
       "4      pan os software provides options to exclude sp...   en        1\n",
       "...                                                  ...  ...      ...\n",
       "17787  healthcare and publichealth sector organizatio...   en        1\n",
       "17788  do not give an attacker the opportunity to tak...   en        1\n",
       "17789  check out cisagov s redeye it is an interactiv...   en        1\n",
       "17790  cisagov s known exploited vulnerabilities cata...   en        1\n",
       "17791  update mozilla firefox to protect against deni...   en        1\n",
       "\n",
       "[17792 rows x 3 columns]"
      ]
     },
     "execution_count": 8,
     "metadata": {},
     "output_type": "execute_result"
    }
   ],
   "source": [
    "cs_aware_cleaned_text"
   ]
  },
  {
   "cell_type": "markdown",
   "id": "db5083e8",
   "metadata": {
    "papermill": {
     "duration": 0.01222,
     "end_time": "2022-12-04T14:59:05.293442",
     "exception": false,
     "start_time": "2022-12-04T14:59:05.281222",
     "status": "completed"
    },
    "tags": []
   },
   "source": [
    "try to cathegorize"
   ]
  },
  {
   "cell_type": "code",
   "execution_count": 9,
   "id": "aa628cd6",
   "metadata": {
    "execution": {
     "iopub.execute_input": "2022-12-04T14:59:05.320141Z",
     "iopub.status.busy": "2022-12-04T14:59:05.319612Z",
     "iopub.status.idle": "2022-12-04T14:59:05.324161Z",
     "shell.execute_reply": "2022-12-04T14:59:05.323255Z"
    },
    "papermill": {
     "duration": 0.01999,
     "end_time": "2022-12-04T14:59:05.326208",
     "exception": false,
     "start_time": "2022-12-04T14:59:05.306218",
     "status": "completed"
    },
    "tags": []
   },
   "outputs": [],
   "source": [
    "choices = {\"malware\":\"Malware\",\n",
    "           \"DoS\":\"DoS\",\n",
    "           \"denial of service\":\"DoS\",\n",
    "           \"ransomware\":\"ransomware\",\n",
    "           \"Zero-day\": \"Zero-day Vulnerabilities\",\n",
    "           \"software update\": \"Updates\",\n",
    "           \"firewall\":\"Firewall Vulnerabilities\",\n",
    "           \"LAN\":\"Network Vulnerabilities\",\n",
    "           \"hardware\": \"hardware\",\n",
    "           \n",
    "          }"
   ]
  },
  {
   "cell_type": "code",
   "execution_count": 10,
   "id": "b3214c4a",
   "metadata": {
    "execution": {
     "iopub.execute_input": "2022-12-04T14:59:05.353443Z",
     "iopub.status.busy": "2022-12-04T14:59:05.352681Z",
     "iopub.status.idle": "2022-12-04T14:59:05.364805Z",
     "shell.execute_reply": "2022-12-04T14:59:05.363787Z"
    },
    "papermill": {
     "duration": 0.028394,
     "end_time": "2022-12-04T14:59:05.367500",
     "exception": false,
     "start_time": "2022-12-04T14:59:05.339106",
     "status": "completed"
    },
    "tags": []
   },
   "outputs": [
    {
     "data": {
      "text/html": [
       "<div>\n",
       "<style scoped>\n",
       "    .dataframe tbody tr th:only-of-type {\n",
       "        vertical-align: middle;\n",
       "    }\n",
       "\n",
       "    .dataframe tbody tr th {\n",
       "        vertical-align: top;\n",
       "    }\n",
       "\n",
       "    .dataframe thead th {\n",
       "        text-align: right;\n",
       "    }\n",
       "</style>\n",
       "<table border=\"1\" class=\"dataframe\">\n",
       "  <thead>\n",
       "    <tr style=\"text-align: right;\">\n",
       "      <th></th>\n",
       "      <th>full_text</th>\n",
       "      <th>lang</th>\n",
       "      <th>Related</th>\n",
       "    </tr>\n",
       "  </thead>\n",
       "  <tbody>\n",
       "    <tr>\n",
       "      <th>0</th>\n",
       "      <td>non transparent sharing of branch predictor se...</td>\n",
       "      <td>en</td>\n",
       "      <td>1</td>\n",
       "    </tr>\n",
       "    <tr>\n",
       "      <th>1</th>\n",
       "      <td>non transparent sharing of branch predictor wi...</td>\n",
       "      <td>en</td>\n",
       "      <td>1</td>\n",
       "    </tr>\n",
       "    <tr>\n",
       "      <th>2</th>\n",
       "      <td>hardware debug modes and processor init settin...</td>\n",
       "      <td>en</td>\n",
       "      <td>1</td>\n",
       "    </tr>\n",
       "    <tr>\n",
       "      <th>3</th>\n",
       "      <td>sensitive information accessible by physical p...</td>\n",
       "      <td>en</td>\n",
       "      <td>1</td>\n",
       "    </tr>\n",
       "    <tr>\n",
       "      <th>4</th>\n",
       "      <td>pan os software provides options to exclude sp...</td>\n",
       "      <td>en</td>\n",
       "      <td>1</td>\n",
       "    </tr>\n",
       "    <tr>\n",
       "      <th>...</th>\n",
       "      <td>...</td>\n",
       "      <td>...</td>\n",
       "      <td>...</td>\n",
       "    </tr>\n",
       "    <tr>\n",
       "      <th>17787</th>\n",
       "      <td>healthcare and publichealth sector organizatio...</td>\n",
       "      <td>en</td>\n",
       "      <td>1</td>\n",
       "    </tr>\n",
       "    <tr>\n",
       "      <th>17788</th>\n",
       "      <td>do not give an attacker the opportunity to tak...</td>\n",
       "      <td>en</td>\n",
       "      <td>1</td>\n",
       "    </tr>\n",
       "    <tr>\n",
       "      <th>17789</th>\n",
       "      <td>check out cisagov s redeye it is an interactiv...</td>\n",
       "      <td>en</td>\n",
       "      <td>1</td>\n",
       "    </tr>\n",
       "    <tr>\n",
       "      <th>17790</th>\n",
       "      <td>cisagov s known exploited vulnerabilities cata...</td>\n",
       "      <td>en</td>\n",
       "      <td>1</td>\n",
       "    </tr>\n",
       "    <tr>\n",
       "      <th>17791</th>\n",
       "      <td>update mozilla firefox to protect against deni...</td>\n",
       "      <td>en</td>\n",
       "      <td>1</td>\n",
       "    </tr>\n",
       "  </tbody>\n",
       "</table>\n",
       "<p>17792 rows × 3 columns</p>\n",
       "</div>"
      ],
      "text/plain": [
       "                                               full_text lang  Related\n",
       "0      non transparent sharing of branch predictor se...   en        1\n",
       "1      non transparent sharing of branch predictor wi...   en        1\n",
       "2      hardware debug modes and processor init settin...   en        1\n",
       "3      sensitive information accessible by physical p...   en        1\n",
       "4      pan os software provides options to exclude sp...   en        1\n",
       "...                                                  ...  ...      ...\n",
       "17787  healthcare and publichealth sector organizatio...   en        1\n",
       "17788  do not give an attacker the opportunity to tak...   en        1\n",
       "17789  check out cisagov s redeye it is an interactiv...   en        1\n",
       "17790  cisagov s known exploited vulnerabilities cata...   en        1\n",
       "17791  update mozilla firefox to protect against deni...   en        1\n",
       "\n",
       "[17792 rows x 3 columns]"
      ]
     },
     "execution_count": 10,
     "metadata": {},
     "output_type": "execute_result"
    }
   ],
   "source": [
    "df = cs_aware_cleaned_text\n",
    "df"
   ]
  },
  {
   "cell_type": "code",
   "execution_count": 11,
   "id": "e9aa1832",
   "metadata": {
    "execution": {
     "iopub.execute_input": "2022-12-04T14:59:05.394837Z",
     "iopub.status.busy": "2022-12-04T14:59:05.394542Z",
     "iopub.status.idle": "2022-12-04T14:59:05.580920Z",
     "shell.execute_reply": "2022-12-04T14:59:05.579306Z"
    },
    "papermill": {
     "duration": 0.20371,
     "end_time": "2022-12-04T14:59:05.584053",
     "exception": false,
     "start_time": "2022-12-04T14:59:05.380343",
     "status": "completed"
    },
    "tags": []
   },
   "outputs": [
    {
     "name": "stdout",
     "output_type": "stream",
     "text": [
      "52\n"
     ]
    }
   ],
   "source": [
    "count = 0\n",
    "df[\"category\"] = df[\"full_text\"].str.findall(\"|\".join(choices.keys())).str.join(\",\").map(choices)\n",
    "for i in range (0, len(df[\"category\"])):\n",
    "    if (df[\"category\"][i] == \"Firewall Vulnerabilities\"):\n",
    "        count += 1\n",
    "print(count)"
   ]
  },
  {
   "cell_type": "markdown",
   "id": "c5fe2fb2",
   "metadata": {
    "papermill": {
     "duration": 0.013,
     "end_time": "2022-12-04T14:59:05.611448",
     "exception": false,
     "start_time": "2022-12-04T14:59:05.598448",
     "status": "completed"
    },
    "tags": []
   },
   "source": [
    "categorization ends here"
   ]
  },
  {
   "cell_type": "code",
   "execution_count": 12,
   "id": "a78bbb80",
   "metadata": {
    "execution": {
     "iopub.execute_input": "2022-12-04T14:59:05.639547Z",
     "iopub.status.busy": "2022-12-04T14:59:05.639205Z",
     "iopub.status.idle": "2022-12-04T14:59:05.658378Z",
     "shell.execute_reply": "2022-12-04T14:59:05.657314Z"
    },
    "papermill": {
     "duration": 0.03573,
     "end_time": "2022-12-04T14:59:05.660524",
     "exception": false,
     "start_time": "2022-12-04T14:59:05.624794",
     "status": "completed"
    },
    "tags": []
   },
   "outputs": [
    {
     "data": {
      "text/html": [
       "<div>\n",
       "<style scoped>\n",
       "    .dataframe tbody tr th:only-of-type {\n",
       "        vertical-align: middle;\n",
       "    }\n",
       "\n",
       "    .dataframe tbody tr th {\n",
       "        vertical-align: top;\n",
       "    }\n",
       "\n",
       "    .dataframe thead th {\n",
       "        text-align: right;\n",
       "    }\n",
       "</style>\n",
       "<table border=\"1\" class=\"dataframe\">\n",
       "  <thead>\n",
       "    <tr style=\"text-align: right;\">\n",
       "      <th></th>\n",
       "      <th>full_text</th>\n",
       "      <th>lang</th>\n",
       "      <th>Related</th>\n",
       "      <th>category</th>\n",
       "    </tr>\n",
       "  </thead>\n",
       "  <tbody>\n",
       "    <tr>\n",
       "      <th>11000</th>\n",
       "      <td>windows gdi remote code execution vulnerability</td>\n",
       "      <td>en</td>\n",
       "      <td>1</td>\n",
       "      <td>NaN</td>\n",
       "    </tr>\n",
       "    <tr>\n",
       "      <th>11001</th>\n",
       "      <td>microsoft defender for endpoint tampering vuln...</td>\n",
       "      <td>en</td>\n",
       "      <td>1</td>\n",
       "      <td>NaN</td>\n",
       "    </tr>\n",
       "    <tr>\n",
       "      <th>11002</th>\n",
       "      <td>microsoft edge chromium based elevation of pri...</td>\n",
       "      <td>en</td>\n",
       "      <td>1</td>\n",
       "      <td>NaN</td>\n",
       "    </tr>\n",
       "    <tr>\n",
       "      <th>11003</th>\n",
       "      <td>microsoft edge chromium based elevation of pri...</td>\n",
       "      <td>en</td>\n",
       "      <td>1</td>\n",
       "      <td>NaN</td>\n",
       "    </tr>\n",
       "    <tr>\n",
       "      <th>11004</th>\n",
       "      <td>allocation of resources without limits or thro...</td>\n",
       "      <td>en</td>\n",
       "      <td>1</td>\n",
       "      <td>NaN</td>\n",
       "    </tr>\n",
       "    <tr>\n",
       "      <th>...</th>\n",
       "      <td>...</td>\n",
       "      <td>...</td>\n",
       "      <td>...</td>\n",
       "      <td>...</td>\n",
       "    </tr>\n",
       "    <tr>\n",
       "      <th>17787</th>\n",
       "      <td>healthcare and publichealth sector organizatio...</td>\n",
       "      <td>en</td>\n",
       "      <td>1</td>\n",
       "      <td>NaN</td>\n",
       "    </tr>\n",
       "    <tr>\n",
       "      <th>17788</th>\n",
       "      <td>do not give an attacker the opportunity to tak...</td>\n",
       "      <td>en</td>\n",
       "      <td>1</td>\n",
       "      <td>NaN</td>\n",
       "    </tr>\n",
       "    <tr>\n",
       "      <th>17789</th>\n",
       "      <td>check out cisagov s redeye it is an interactiv...</td>\n",
       "      <td>en</td>\n",
       "      <td>1</td>\n",
       "      <td>NaN</td>\n",
       "    </tr>\n",
       "    <tr>\n",
       "      <th>17790</th>\n",
       "      <td>cisagov s known exploited vulnerabilities cata...</td>\n",
       "      <td>en</td>\n",
       "      <td>1</td>\n",
       "      <td>NaN</td>\n",
       "    </tr>\n",
       "    <tr>\n",
       "      <th>17791</th>\n",
       "      <td>update mozilla firefox to protect against deni...</td>\n",
       "      <td>en</td>\n",
       "      <td>1</td>\n",
       "      <td>DoS</td>\n",
       "    </tr>\n",
       "  </tbody>\n",
       "</table>\n",
       "<p>6792 rows × 4 columns</p>\n",
       "</div>"
      ],
      "text/plain": [
       "                                               full_text lang  Related  \\\n",
       "11000    windows gdi remote code execution vulnerability   en        1   \n",
       "11001  microsoft defender for endpoint tampering vuln...   en        1   \n",
       "11002  microsoft edge chromium based elevation of pri...   en        1   \n",
       "11003  microsoft edge chromium based elevation of pri...   en        1   \n",
       "11004  allocation of resources without limits or thro...   en        1   \n",
       "...                                                  ...  ...      ...   \n",
       "17787  healthcare and publichealth sector organizatio...   en        1   \n",
       "17788  do not give an attacker the opportunity to tak...   en        1   \n",
       "17789  check out cisagov s redeye it is an interactiv...   en        1   \n",
       "17790  cisagov s known exploited vulnerabilities cata...   en        1   \n",
       "17791  update mozilla firefox to protect against deni...   en        1   \n",
       "\n",
       "      category  \n",
       "11000      NaN  \n",
       "11001      NaN  \n",
       "11002      NaN  \n",
       "11003      NaN  \n",
       "11004      NaN  \n",
       "...        ...  \n",
       "17787      NaN  \n",
       "17788      NaN  \n",
       "17789      NaN  \n",
       "17790      NaN  \n",
       "17791      DoS  \n",
       "\n",
       "[6792 rows x 4 columns]"
      ]
     },
     "execution_count": 12,
     "metadata": {},
     "output_type": "execute_result"
    }
   ],
   "source": [
    "cs_aware_cleaned_text = cs_aware_cleaned_text.drop(labels=range(0, 11000), axis=0)\n",
    "cs_aware_cleaned_text"
   ]
  },
  {
   "cell_type": "code",
   "execution_count": 13,
   "id": "4407c694",
   "metadata": {
    "execution": {
     "iopub.execute_input": "2022-12-04T14:59:05.687917Z",
     "iopub.status.busy": "2022-12-04T14:59:05.687649Z",
     "iopub.status.idle": "2022-12-04T14:59:05.691660Z",
     "shell.execute_reply": "2022-12-04T14:59:05.690682Z"
    },
    "papermill": {
     "duration": 0.019731,
     "end_time": "2022-12-04T14:59:05.693560",
     "exception": false,
     "start_time": "2022-12-04T14:59:05.673829",
     "status": "completed"
    },
    "tags": []
   },
   "outputs": [],
   "source": [
    "# cs_aware_cleaned_text_plot"
   ]
  },
  {
   "cell_type": "code",
   "execution_count": 14,
   "id": "2881efcd",
   "metadata": {
    "execution": {
     "iopub.execute_input": "2022-12-04T14:59:05.721393Z",
     "iopub.status.busy": "2022-12-04T14:59:05.721133Z",
     "iopub.status.idle": "2022-12-04T14:59:06.143229Z",
     "shell.execute_reply": "2022-12-04T14:59:06.142301Z"
    },
    "papermill": {
     "duration": 0.438448,
     "end_time": "2022-12-04T14:59:06.145272",
     "exception": false,
     "start_time": "2022-12-04T14:59:05.706824",
     "status": "completed"
    },
    "tags": []
   },
   "outputs": [
    {
     "data": {
      "text/plain": [
       "<Axes: title={'center': 'Percentage of Languages'}, ylabel='count'>"
      ]
     },
     "execution_count": 14,
     "metadata": {},
     "output_type": "execute_result"
    },
    {
     "data": {
      "image/png": "[encoded data removed]",
      "text/plain": [
       "<Figure size 3000x1000 with 1 Axes>"
      ]
     },
     "metadata": {},
     "output_type": "display_data"
    }
   ],
   "source": [
    "## check the distribution of the labels\n",
    "plt.figure(figsize=(30,10))\n",
    "plt.title('Percentage of Languages', fontsize=20)\n",
    "\n",
    "cs_aware_cleaned_text.lang.value_counts().plot(kind='pie', wedgeprops=dict(width=.7),   autopct='%1.0f%%', startangle= -20,  textprops={'fontsize': 15})"
   ]
  },
  {
   "cell_type": "markdown",
   "id": "04d76019",
   "metadata": {
    "execution": {
     "iopub.execute_input": "2022-11-22T12:21:04.430803Z",
     "iopub.status.busy": "2022-11-22T12:21:04.430444Z",
     "iopub.status.idle": "2022-11-22T12:21:04.735622Z",
     "shell.execute_reply": "2022-11-22T12:21:04.734342Z",
     "shell.execute_reply.started": "2022-11-22T12:21:04.430772Z"
    },
    "papermill": {
     "duration": 0.013848,
     "end_time": "2022-12-04T14:59:06.173057",
     "exception": false,
     "start_time": "2022-12-04T14:59:06.159209",
     "status": "completed"
    },
    "tags": []
   },
   "source": []
  },
  {
   "cell_type": "code",
   "execution_count": 15,
   "id": "18fbab49",
   "metadata": {
    "execution": {
     "iopub.execute_input": "2022-12-04T14:59:06.202600Z",
     "iopub.status.busy": "2022-12-04T14:59:06.202022Z",
     "iopub.status.idle": "2022-12-04T14:59:06.217263Z",
     "shell.execute_reply": "2022-12-04T14:59:06.216013Z"
    },
    "papermill": {
     "duration": 0.032544,
     "end_time": "2022-12-04T14:59:06.219412",
     "exception": false,
     "start_time": "2022-12-04T14:59:06.186868",
     "status": "completed"
    },
    "tags": []
   },
   "outputs": [
    {
     "data": {
      "text/html": [
       "<div>\n",
       "<style scoped>\n",
       "    .dataframe tbody tr th:only-of-type {\n",
       "        vertical-align: middle;\n",
       "    }\n",
       "\n",
       "    .dataframe tbody tr th {\n",
       "        vertical-align: top;\n",
       "    }\n",
       "\n",
       "    .dataframe thead th {\n",
       "        text-align: right;\n",
       "    }\n",
       "</style>\n",
       "<table border=\"1\" class=\"dataframe\">\n",
       "  <thead>\n",
       "    <tr style=\"text-align: right;\">\n",
       "      <th></th>\n",
       "      <th>full_text</th>\n",
       "      <th>lang</th>\n",
       "      <th>Polarity</th>\n",
       "      <th>Sentiment_Type</th>\n",
       "      <th>Related</th>\n",
       "    </tr>\n",
       "  </thead>\n",
       "  <tbody>\n",
       "    <tr>\n",
       "      <th>0</th>\n",
       "      <td>youtube    the world design of elden ring</td>\n",
       "      <td>ko</td>\n",
       "      <td>0.000000</td>\n",
       "      <td>NEUTRAL</td>\n",
       "      <td>0</td>\n",
       "    </tr>\n",
       "    <tr>\n",
       "      <th>1</th>\n",
       "      <td>rt  mezzyali   hoeybblessed  mahran     digger...</td>\n",
       "      <td>en</td>\n",
       "      <td>0.000000</td>\n",
       "      <td>NEUTRAL</td>\n",
       "      <td>0</td>\n",
       "    </tr>\n",
       "    <tr>\n",
       "      <th>2</th>\n",
       "      <td>rt  jonahjmeyerhoff  apply online for our nimh...</td>\n",
       "      <td>en</td>\n",
       "      <td>-0.033333</td>\n",
       "      <td>NEGATIVE</td>\n",
       "      <td>0</td>\n",
       "    </tr>\n",
       "    <tr>\n",
       "      <th>3</th>\n",
       "      <td>rt  fashionpressnet                           ...</td>\n",
       "      <td>ja</td>\n",
       "      <td>0.000000</td>\n",
       "      <td>NEUTRAL</td>\n",
       "      <td>0</td>\n",
       "    </tr>\n",
       "    <tr>\n",
       "      <th>4</th>\n",
       "      <td>rt  yunaussy  since you all want to complain  ...</td>\n",
       "      <td>en</td>\n",
       "      <td>0.000000</td>\n",
       "      <td>NEUTRAL</td>\n",
       "      <td>0</td>\n",
       "    </tr>\n",
       "    <tr>\n",
       "      <th>...</th>\n",
       "      <td>...</td>\n",
       "      <td>...</td>\n",
       "      <td>...</td>\n",
       "      <td>...</td>\n",
       "      <td>...</td>\n",
       "    </tr>\n",
       "    <tr>\n",
       "      <th>7015</th>\n",
       "      <td>tohkkis i draw   s stick men w or l offer</td>\n",
       "      <td>en</td>\n",
       "      <td>0.000000</td>\n",
       "      <td>NEUTRAL</td>\n",
       "      <td>0</td>\n",
       "    </tr>\n",
       "    <tr>\n",
       "      <th>7016</th>\n",
       "      <td>it was in some such fashion that the world spo...</td>\n",
       "      <td>en</td>\n",
       "      <td>0.000000</td>\n",
       "      <td>NEUTRAL</td>\n",
       "      <td>0</td>\n",
       "    </tr>\n",
       "    <tr>\n",
       "      <th>7017</th>\n",
       "      <td>goog afternoon   guys  who wants to support my...</td>\n",
       "      <td>en</td>\n",
       "      <td>0.200000</td>\n",
       "      <td>POSITIVE</td>\n",
       "      <td>0</td>\n",
       "    </tr>\n",
       "    <tr>\n",
       "      <th>7018</th>\n",
       "      <td>robinhanson not convenient nor liquid in low ...</td>\n",
       "      <td>en</td>\n",
       "      <td>0.033333</td>\n",
       "      <td>POSITIVE</td>\n",
       "      <td>0</td>\n",
       "    </tr>\n",
       "    <tr>\n",
       "      <th>7019</th>\n",
       "      <td>this really just paid my rent    chrissypodola...</td>\n",
       "      <td>en</td>\n",
       "      <td>0.200000</td>\n",
       "      <td>POSITIVE</td>\n",
       "      <td>0</td>\n",
       "    </tr>\n",
       "  </tbody>\n",
       "</table>\n",
       "<p>7020 rows × 5 columns</p>\n",
       "</div>"
      ],
      "text/plain": [
       "                                              full_text lang  Polarity  \\\n",
       "0         youtube    the world design of elden ring       ko  0.000000   \n",
       "1     rt  mezzyali   hoeybblessed  mahran     digger...   en  0.000000   \n",
       "2     rt  jonahjmeyerhoff  apply online for our nimh...   en -0.033333   \n",
       "3     rt  fashionpressnet                           ...   ja  0.000000   \n",
       "4     rt  yunaussy  since you all want to complain  ...   en  0.000000   \n",
       "...                                                 ...  ...       ...   \n",
       "7015          tohkkis i draw   s stick men w or l offer   en  0.000000   \n",
       "7016  it was in some such fashion that the world spo...   en  0.000000   \n",
       "7017  goog afternoon   guys  who wants to support my...   en  0.200000   \n",
       "7018   robinhanson not convenient nor liquid in low ...   en  0.033333   \n",
       "7019  this really just paid my rent    chrissypodola...   en  0.200000   \n",
       "\n",
       "     Sentiment_Type  Related  \n",
       "0           NEUTRAL        0  \n",
       "1           NEUTRAL        0  \n",
       "2          NEGATIVE        0  \n",
       "3           NEUTRAL        0  \n",
       "4           NEUTRAL        0  \n",
       "...             ...      ...  \n",
       "7015        NEUTRAL        0  \n",
       "7016        NEUTRAL        0  \n",
       "7017       POSITIVE        0  \n",
       "7018       POSITIVE        0  \n",
       "7019       POSITIVE        0  \n",
       "\n",
       "[7020 rows x 5 columns]"
      ]
     },
     "execution_count": 15,
     "metadata": {},
     "output_type": "execute_result"
    }
   ],
   "source": [
    "not_cs_aware_cleaned_text"
   ]
  },
  {
   "cell_type": "code",
   "execution_count": 16,
   "id": "e2ccc1c8",
   "metadata": {
    "execution": {
     "iopub.execute_input": "2022-12-04T14:59:06.249036Z",
     "iopub.status.busy": "2022-12-04T14:59:06.248741Z",
     "iopub.status.idle": "2022-12-04T14:59:07.002058Z",
     "shell.execute_reply": "2022-12-04T14:59:07.001068Z"
    },
    "papermill": {
     "duration": 0.771085,
     "end_time": "2022-12-04T14:59:07.004614",
     "exception": false,
     "start_time": "2022-12-04T14:59:06.233529",
     "status": "completed"
    },
    "tags": []
   },
   "outputs": [
    {
     "data": {
      "text/plain": [
       "<Axes: title={'center': 'Percentage of Labels'}, ylabel='count'>"
      ]
     },
     "execution_count": 16,
     "metadata": {},
     "output_type": "execute_result"
    },
    {
     "data": {
      "image/png": "[encoded data removed]",
      "text/plain": [
       "<Figure size 3000x1000 with 1 Axes>"
      ]
     },
     "metadata": {},
     "output_type": "display_data"
    }
   ],
   "source": [
    "# check the distribution of the labels\n",
    "plt.figure(figsize=(30,10))\n",
    "plt.title('Percentage of Labels', fontsize=20)\n",
    "not_cs_aware_cleaned_text.lang.value_counts().plot(kind='pie', wedgeprops=dict(width=.7), autopct='%1.0f%%', startangle= -20,  textprops={'fontsize': 15})"
   ]
  },
  {
   "cell_type": "code",
   "execution_count": 17,
   "id": "62a5dbbc",
   "metadata": {
    "execution": {
     "iopub.execute_input": "2022-12-04T14:59:07.037226Z",
     "iopub.status.busy": "2022-12-04T14:59:07.036908Z",
     "iopub.status.idle": "2022-12-04T14:59:07.054513Z",
     "shell.execute_reply": "2022-12-04T14:59:07.053573Z"
    },
    "papermill": {
     "duration": 0.036273,
     "end_time": "2022-12-04T14:59:07.056717",
     "exception": false,
     "start_time": "2022-12-04T14:59:07.020444",
     "status": "completed"
    },
    "tags": []
   },
   "outputs": [
    {
     "data": {
      "text/html": [
       "<div>\n",
       "<style scoped>\n",
       "    .dataframe tbody tr th:only-of-type {\n",
       "        vertical-align: middle;\n",
       "    }\n",
       "\n",
       "    .dataframe tbody tr th {\n",
       "        vertical-align: top;\n",
       "    }\n",
       "\n",
       "    .dataframe thead th {\n",
       "        text-align: right;\n",
       "    }\n",
       "</style>\n",
       "<table border=\"1\" class=\"dataframe\">\n",
       "  <thead>\n",
       "    <tr style=\"text-align: right;\">\n",
       "      <th></th>\n",
       "      <th>full_text</th>\n",
       "      <th>lang</th>\n",
       "      <th>Related</th>\n",
       "      <th>category</th>\n",
       "    </tr>\n",
       "  </thead>\n",
       "  <tbody>\n",
       "    <tr>\n",
       "      <th>0</th>\n",
       "      <td>windows gdi remote code execution vulnerability</td>\n",
       "      <td>en</td>\n",
       "      <td>1</td>\n",
       "      <td>NaN</td>\n",
       "    </tr>\n",
       "    <tr>\n",
       "      <th>1</th>\n",
       "      <td>microsoft defender for endpoint tampering vuln...</td>\n",
       "      <td>en</td>\n",
       "      <td>1</td>\n",
       "      <td>NaN</td>\n",
       "    </tr>\n",
       "    <tr>\n",
       "      <th>2</th>\n",
       "      <td>microsoft edge chromium based elevation of pri...</td>\n",
       "      <td>en</td>\n",
       "      <td>1</td>\n",
       "      <td>NaN</td>\n",
       "    </tr>\n",
       "    <tr>\n",
       "      <th>3</th>\n",
       "      <td>microsoft edge chromium based elevation of pri...</td>\n",
       "      <td>en</td>\n",
       "      <td>1</td>\n",
       "      <td>NaN</td>\n",
       "    </tr>\n",
       "    <tr>\n",
       "      <th>4</th>\n",
       "      <td>allocation of resources without limits or thro...</td>\n",
       "      <td>en</td>\n",
       "      <td>1</td>\n",
       "      <td>NaN</td>\n",
       "    </tr>\n",
       "    <tr>\n",
       "      <th>...</th>\n",
       "      <td>...</td>\n",
       "      <td>...</td>\n",
       "      <td>...</td>\n",
       "      <td>...</td>\n",
       "    </tr>\n",
       "    <tr>\n",
       "      <th>13807</th>\n",
       "      <td>tohkkis i draw   s stick men w or l offer</td>\n",
       "      <td>en</td>\n",
       "      <td>0</td>\n",
       "      <td>NaN</td>\n",
       "    </tr>\n",
       "    <tr>\n",
       "      <th>13808</th>\n",
       "      <td>it was in some such fashion that the world spo...</td>\n",
       "      <td>en</td>\n",
       "      <td>0</td>\n",
       "      <td>NaN</td>\n",
       "    </tr>\n",
       "    <tr>\n",
       "      <th>13809</th>\n",
       "      <td>goog afternoon   guys  who wants to support my...</td>\n",
       "      <td>en</td>\n",
       "      <td>0</td>\n",
       "      <td>NaN</td>\n",
       "    </tr>\n",
       "    <tr>\n",
       "      <th>13810</th>\n",
       "      <td>robinhanson not convenient nor liquid in low ...</td>\n",
       "      <td>en</td>\n",
       "      <td>0</td>\n",
       "      <td>NaN</td>\n",
       "    </tr>\n",
       "    <tr>\n",
       "      <th>13811</th>\n",
       "      <td>this really just paid my rent    chrissypodola...</td>\n",
       "      <td>en</td>\n",
       "      <td>0</td>\n",
       "      <td>NaN</td>\n",
       "    </tr>\n",
       "  </tbody>\n",
       "</table>\n",
       "<p>13812 rows × 4 columns</p>\n",
       "</div>"
      ],
      "text/plain": [
       "                                               full_text lang  Related  \\\n",
       "0        windows gdi remote code execution vulnerability   en        1   \n",
       "1      microsoft defender for endpoint tampering vuln...   en        1   \n",
       "2      microsoft edge chromium based elevation of pri...   en        1   \n",
       "3      microsoft edge chromium based elevation of pri...   en        1   \n",
       "4      allocation of resources without limits or thro...   en        1   \n",
       "...                                                  ...  ...      ...   \n",
       "13807          tohkkis i draw   s stick men w or l offer   en        0   \n",
       "13808  it was in some such fashion that the world spo...   en        0   \n",
       "13809  goog afternoon   guys  who wants to support my...   en        0   \n",
       "13810   robinhanson not convenient nor liquid in low ...   en        0   \n",
       "13811  this really just paid my rent    chrissypodola...   en        0   \n",
       "\n",
       "      category  \n",
       "0          NaN  \n",
       "1          NaN  \n",
       "2          NaN  \n",
       "3          NaN  \n",
       "4          NaN  \n",
       "...        ...  \n",
       "13807      NaN  \n",
       "13808      NaN  \n",
       "13809      NaN  \n",
       "13810      NaN  \n",
       "13811      NaN  \n",
       "\n",
       "[13812 rows x 4 columns]"
      ]
     },
     "execution_count": 17,
     "metadata": {},
     "output_type": "execute_result"
    }
   ],
   "source": [
    "not_cs_aware_cleaned_text = pd.DataFrame(not_cs_aware_cleaned_text, columns = ['full_text','lang', 'Related'])\n",
    "cs_aware_data = pd.concat([cs_aware_cleaned_text, not_cs_aware_cleaned_text], ignore_index = True)\n",
    "cs_aware_data"
   ]
  },
  {
   "cell_type": "code",
   "execution_count": 18,
   "id": "7b3fff9f",
   "metadata": {
    "execution": {
     "iopub.execute_input": "2022-12-04T14:59:07.089105Z",
     "iopub.status.busy": "2022-12-04T14:59:07.088470Z",
     "iopub.status.idle": "2022-12-04T14:59:07.982463Z",
     "shell.execute_reply": "2022-12-04T14:59:07.981551Z"
    },
    "papermill": {
     "duration": 0.913455,
     "end_time": "2022-12-04T14:59:07.985426",
     "exception": false,
     "start_time": "2022-12-04T14:59:07.071971",
     "status": "completed"
    },
    "tags": []
   },
   "outputs": [
    {
     "data": {
      "text/plain": [
       "<Axes: title={'center': 'Percentage of Labels'}, ylabel='count'>"
      ]
     },
     "execution_count": 18,
     "metadata": {},
     "output_type": "execute_result"
    },
    {
     "data": {
      "image/png": "[encoded data removed]",
      "text/plain": [
       "<Figure size 3000x1000 with 1 Axes>"
      ]
     },
     "metadata": {},
     "output_type": "display_data"
    }
   ],
   "source": [
    "# check the distribution of the labels\n",
    "plt.figure(figsize=(30,10))\n",
    "plt.title('Percentage of Labels', fontsize=20)\n",
    "cs_aware_data.lang.value_counts().plot(kind='pie', wedgeprops=dict(width=.7), autopct='%1.0f%%', startangle= -20,  textprops={'fontsize': 15})"
   ]
  },
  {
   "cell_type": "markdown",
   "id": "eb303f13",
   "metadata": {
    "papermill": {
     "duration": 0.017927,
     "end_time": "2022-12-04T14:59:08.021806",
     "exception": false,
     "start_time": "2022-12-04T14:59:08.003879",
     "status": "completed"
    },
    "tags": []
   },
   "source": [
    "tokenize + embeddings"
   ]
  },
  {
   "cell_type": "code",
   "execution_count": 19,
   "id": "0592f118",
   "metadata": {},
   "outputs": [],
   "source": [
    "# pip install --upgrade tensorflow"
   ]
  },
  {
   "cell_type": "code",
   "execution_count": 22,
   "id": "59d57f92",
   "metadata": {},
   "outputs": [
    {
     "name": "stdout",
     "output_type": "stream",
     "text": [
      "Collecting keras-tuner\n",
      "  Obtaining dependency information for keras-tuner from https://files.pythonhosted.org/packages/2b/39/21f819fcda657c37519cf817ca1cd03a8a025262aad360876d2a971d38b3/keras_tuner-1.4.6-py3-none-any.whl.metadata\n",
      "  Downloading keras_tuner-1.4.6-py3-none-any.whl.metadata (5.4 kB)\n",
      "Requirement already satisfied: keras in c:\\users\\leona\\anaconda3\\lib\\site-packages (from keras-tuner) (2.12.0)\n",
      "Requirement already satisfied: packaging in c:\\users\\leona\\anaconda3\\lib\\site-packages (from keras-tuner) (23.1)\n",
      "Requirement already satisfied: requests in c:\\users\\leona\\anaconda3\\lib\\site-packages (from keras-tuner) (2.31.0)\n",
      "Collecting kt-legacy (from keras-tuner)\n",
      "  Downloading kt_legacy-1.0.5-py3-none-any.whl (9.6 kB)\n",
      "Requirement already satisfied: charset-normalizer<4,>=2 in c:\\users\\leona\\anaconda3\\lib\\site-packages (from requests->keras-tuner) (2.0.4)\n",
      "Requirement already satisfied: idna<4,>=2.5 in c:\\users\\leona\\anaconda3\\lib\\site-packages (from requests->keras-tuner) (2.10)\n",
      "Requirement already satisfied: urllib3<3,>=1.21.1 in c:\\users\\leona\\anaconda3\\lib\\site-packages (from requests->keras-tuner) (1.26.16)\n",
      "Requirement already satisfied: certifi>=2017.4.17 in c:\\users\\leona\\anaconda3\\lib\\site-packages (from requests->keras-tuner) (2023.7.22)\n",
      "Downloading keras_tuner-1.4.6-py3-none-any.whl (128 kB)\n",
      "   ---------------------------------------- 0.0/128.9 kB ? eta -:--:--\n",
      "   --- ------------------------------------ 10.2/128.9 kB ? eta -:--:--\n",
      "   ---------------------------------------- 128.9/128.9 kB 1.9 MB/s eta 0:00:00\n",
      "Installing collected packages: kt-legacy, keras-tuner\n",
      "Successfully installed keras-tuner-1.4.6 kt-legacy-1.0.5\n",
      "Requirement already satisfied: paramiko in c:\\users\\leona\\anaconda3\\lib\\site-packages (2.8.1)\n",
      "Collecting paramiko\n",
      "  Obtaining dependency information for paramiko from https://files.pythonhosted.org/packages/ad/50/8792484502c8141c20c996b802fefa8435a9c018a2bb440a06b172782118/paramiko-3.4.0-py3-none-any.whl.metadata\n",
      "  Downloading paramiko-3.4.0-py3-none-any.whl.metadata (4.4 kB)\n",
      "Requirement already satisfied: cryptography in c:\\users\\leona\\anaconda3\\lib\\site-packages (41.0.3)\n",
      "Collecting cryptography\n",
      "  Obtaining dependency information for cryptography from https://files.pythonhosted.org/packages/b2/ee/ffe0ba4c84a99cd78bd1dca90d2812c2f5378af0aec3e09e6bdfc9433d46/cryptography-42.0.1-cp39-abi3-win_amd64.whl.metadata\n",
      "  Downloading cryptography-42.0.1-cp39-abi3-win_amd64.whl.metadata (5.4 kB)\n",
      "Requirement already satisfied: bcrypt>=3.2 in c:\\users\\leona\\anaconda3\\lib\\site-packages (from paramiko) (3.2.0)\n",
      "Requirement already satisfied: pynacl>=1.5 in c:\\users\\leona\\anaconda3\\lib\\site-packages (from paramiko) (1.5.0)\n",
      "Requirement already satisfied: cffi>=1.12 in c:\\users\\leona\\anaconda3\\lib\\site-packages (from cryptography) (1.15.1)\n",
      "Requirement already satisfied: six>=1.4.1 in c:\\users\\leona\\anaconda3\\lib\\site-packages (from bcrypt>=3.2->paramiko) (1.16.0)\n",
      "Requirement already satisfied: pycparser in c:\\users\\leona\\anaconda3\\lib\\site-packages (from cffi>=1.12->cryptography) (2.21)\n",
      "Downloading paramiko-3.4.0-py3-none-any.whl (225 kB)\n",
      "   ---------------------------------------- 0.0/225.9 kB ? eta -:--:--\n",
      "   ---------------------------------------- 0.0/225.9 kB ? eta -:--:--\n",
      "   - -------------------------------------- 10.2/225.9 kB ? eta -:--:--\n",
      "   --------------------------- ------------ 153.6/225.9 kB 1.8 MB/s eta 0:00:01\n",
      "   ---------------------------------------- 225.9/225.9 kB 2.3 MB/s eta 0:00:00\n",
      "Downloading cryptography-42.0.1-cp39-abi3-win_amd64.whl (2.9 MB)\n",
      "   ---------------------------------------- 0.0/2.9 MB ? eta -:--:--\n",
      "   ------------------ --------------------- 1.3/2.9 MB 28.1 MB/s eta 0:00:01\n",
      "   ----------------------------- ---------- 2.1/2.9 MB 33.3 MB/s eta 0:00:01\n",
      "   ---------------------------------------- 2.9/2.9 MB 26.1 MB/s eta 0:00:00\n",
      "Installing collected packages: cryptography, paramiko\n",
      "  Attempting uninstall: cryptography\n",
      "    Found existing installation: cryptography 41.0.3\n",
      "    Uninstalling cryptography-41.0.3:\n",
      "      Successfully uninstalled cryptography-41.0.3\n",
      "  Attempting uninstall: paramiko\n",
      "    Found existing installation: paramiko 2.8.1\n",
      "    Uninstalling paramiko-2.8.1:\n",
      "      Successfully uninstalled paramiko-2.8.1\n",
      "Successfully installed cryptography-42.0.1 paramiko-3.4.0\n"
     ]
    },
    {
     "name": "stderr",
     "output_type": "stream",
     "text": [
      "ERROR: pip's dependency resolver does not currently take into account all the packages that are installed. This behaviour is the source of the following dependency conflicts.\n",
      "pyopenssl 23.2.0 requires cryptography!=40.0.0,!=40.0.1,<42,>=38.0.0, but you have cryptography 42.0.1 which is incompatible.\n"
     ]
    }
   ],
   "source": [
    "!pip install keras-tuner\n",
    "!pip install --upgrade paramiko cryptography\n"
   ]
  },
  {
   "cell_type": "code",
   "execution_count": 23,
   "id": "84415c2a",
   "metadata": {
    "execution": {
     "iopub.execute_input": "2022-12-04T14:59:08.055059Z",
     "iopub.status.busy": "2022-12-04T14:59:08.054730Z",
     "iopub.status.idle": "2022-12-04T14:59:13.383308Z",
     "shell.execute_reply": "2022-12-04T14:59:13.382313Z"
    },
    "papermill": {
     "duration": 5.348391,
     "end_time": "2022-12-04T14:59:13.385934",
     "exception": false,
     "start_time": "2022-12-04T14:59:08.037543",
     "status": "completed"
    },
    "tags": []
   },
   "outputs": [],
   "source": [
    "import numpy as np \n",
    "import pandas as pd \n",
    "import os\n",
    "import json\n",
    "from tqdm import tqdm\n",
    "from sklearn.model_selection import train_test_split\n",
    "from sklearn import preprocessing\n",
    "\n",
    "import tensorflow as tf\n",
    "tfk = tf.keras\n",
    "tfkl = tf.keras.layers"
   ]
  },
  {
   "cell_type": "code",
   "execution_count": 24,
   "id": "56207d28",
   "metadata": {
    "execution": {
     "iopub.execute_input": "2022-12-04T14:59:13.421252Z",
     "iopub.status.busy": "2022-12-04T14:59:13.420729Z",
     "iopub.status.idle": "2022-12-04T14:59:17.087885Z",
     "shell.execute_reply": "2022-12-04T14:59:17.086888Z"
    },
    "papermill": {
     "duration": 3.687989,
     "end_time": "2022-12-04T14:59:17.090580",
     "exception": false,
     "start_time": "2022-12-04T14:59:13.402591",
     "status": "completed"
    },
    "tags": []
   },
   "outputs": [],
   "source": [
    "from tensorflow.keras.preprocessing.text import Tokenizer\n",
    "from tensorflow.keras.preprocessing.sequence import pad_sequences\n",
    "#from tensorflow.keras.utils import np_utils\n",
    "from tensorflow.keras.preprocessing import sequence, text\n",
    "from tensorflow.keras.callbacks import EarlyStopping\n",
    "from sklearn import metrics\n",
    "from tensorflow.keras.initializers import Constant\n",
    "from tensorflow.keras.layers import *\n",
    "from tensorflow.keras.models import *\n",
    "from tensorflow.keras import backend as K\n",
    "from sklearn import preprocessing\n",
    "\n",
    "import nltk # NLP  \n",
    "from nltk.corpus import stopwords  \n",
    "from nltk.stem import WordNetLemmatizer \n",
    "from nltk.stem import PorterStemmer \n",
    "import re  \n",
    "\n",
    "# visualization \n",
    "import matplotlib.pyplot as plt\n",
    "import seaborn as sns\n",
    "from wordcloud import WordCloud\n",
    "%matplotlib inline\n",
    "from plotly import graph_objs as go\n",
    "import plotly.express as px\n",
    "import plotly.figure_factory as ff\n",
    "\n",
    "#Tuner\n",
    "from keras_tuner.tuners import RandomSearch\n"
   ]
  },
  {
   "cell_type": "code",
   "execution_count": 25,
   "id": "1e7964c5",
   "metadata": {
    "execution": {
     "iopub.execute_input": "2022-12-04T14:59:17.125094Z",
     "iopub.status.busy": "2022-12-04T14:59:17.124785Z",
     "iopub.status.idle": "2022-12-04T14:59:17.132852Z",
     "shell.execute_reply": "2022-12-04T14:59:17.131872Z"
    },
    "papermill": {
     "duration": 0.027639,
     "end_time": "2022-12-04T14:59:17.134836",
     "exception": false,
     "start_time": "2022-12-04T14:59:17.107197",
     "status": "completed"
    },
    "tags": []
   },
   "outputs": [],
   "source": [
    "# seed initialization\n",
    "seed = 42\n",
    "np.random.seed(seed)\n",
    "tf.random.set_seed(seed)"
   ]
  },
  {
   "cell_type": "code",
   "execution_count": 26,
   "id": "3fa76593",
   "metadata": {
    "execution": {
     "iopub.execute_input": "2022-12-04T14:59:17.167968Z",
     "iopub.status.busy": "2022-12-04T14:59:17.167693Z",
     "iopub.status.idle": "2022-12-04T14:59:17.174062Z",
     "shell.execute_reply": "2022-12-04T14:59:17.172977Z"
    },
    "papermill": {
     "duration": 0.025554,
     "end_time": "2022-12-04T14:59:17.176381",
     "exception": false,
     "start_time": "2022-12-04T14:59:17.150827",
     "status": "completed"
    },
    "tags": []
   },
   "outputs": [],
   "source": [
    "def plot_history(history):\n",
    "    plt.plot(history.history['accuracy'])\n",
    "    plt.plot(history.history['val_accuracy'])\n",
    "    plt.title('model accuracy')\n",
    "    plt.ylabel('accuracy')\n",
    "    plt.xlabel('epoch')\n",
    "    plt.legend(['train', 'validation'], loc='upper left')\n",
    "    plt.show()\n",
    "\n",
    "    plt.plot(history.history['loss'])\n",
    "    plt.plot(history.history['val_loss'])\n",
    "    plt.title('model loss')\n",
    "    plt.ylabel('loss')\n",
    "    plt.xlabel('epoch')\n",
    "    plt.legend(['train', 'validation'], loc='upper left')\n",
    "    plt.show()"
   ]
  },
  {
   "cell_type": "code",
   "execution_count": 27,
   "id": "f875d89f",
   "metadata": {
    "execution": {
     "iopub.execute_input": "2022-12-04T14:59:17.210341Z",
     "iopub.status.busy": "2022-12-04T14:59:17.210072Z",
     "iopub.status.idle": "2022-12-04T14:59:17.381784Z",
     "shell.execute_reply": "2022-12-04T14:59:17.380500Z"
    },
    "papermill": {
     "duration": 0.191883,
     "end_time": "2022-12-04T14:59:17.384558",
     "exception": false,
     "start_time": "2022-12-04T14:59:17.192675",
     "status": "completed"
    },
    "tags": []
   },
   "outputs": [
    {
     "data": {
      "text/plain": [
       "<Axes: title={'center': 'Percentage of Labels'}, ylabel='count'>"
      ]
     },
     "execution_count": 27,
     "metadata": {},
     "output_type": "execute_result"
    },
    {
     "data": {
      "image/png": "[encoded data removed]",
      "text/plain": [
       "<Figure size 3000x1000 with 1 Axes>"
      ]
     },
     "metadata": {},
     "output_type": "display_data"
    }
   ],
   "source": [
    "# check the distribution of the labels\n",
    "plt.figure(figsize=(30,10))\n",
    "plt.title('Percentage of Labels', fontsize=20)\n",
    "cs_aware_data.Related.value_counts().plot(kind='pie', wedgeprops=dict(width=.7), autopct='%1.0f%%', startangle= -20,  textprops={'fontsize': 15})"
   ]
  },
  {
   "cell_type": "code",
   "execution_count": 28,
   "id": "e333eacf",
   "metadata": {
    "execution": {
     "iopub.execute_input": "2022-12-04T14:59:17.447328Z",
     "iopub.status.busy": "2022-12-04T14:59:17.447040Z",
     "iopub.status.idle": "2022-12-04T14:59:17.516047Z",
     "shell.execute_reply": "2022-12-04T14:59:17.514862Z"
    },
    "papermill": {
     "duration": 0.089864,
     "end_time": "2022-12-04T14:59:17.518790",
     "exception": false,
     "start_time": "2022-12-04T14:59:17.428926",
     "status": "completed"
    },
    "tags": []
   },
   "outputs": [
    {
     "name": "stdout",
     "output_type": "stream",
     "text": [
      "                                               full_text lang  Related  \\\n",
      "0        windows gdi remote code execution vulnerability   en        1   \n",
      "1      microsoft defender for endpoint tampering vuln...   en        1   \n",
      "2      microsoft edge chromium based elevation of pri...   en        1   \n",
      "4      allocation of resources without limits or thro...   en        1   \n",
      "5      system center operations manager open manageme...   en        1   \n",
      "...                                                  ...  ...      ...   \n",
      "13807          tohkkis i draw   s stick men w or l offer   en        0   \n",
      "13808  it was in some such fashion that the world spo...   en        0   \n",
      "13809  goog afternoon   guys  who wants to support my...   en        0   \n",
      "13810   robinhanson not convenient nor liquid in low ...   en        0   \n",
      "13811  this really just paid my rent    chrissypodola...   en        0   \n",
      "\n",
      "      category  \n",
      "0          NaN  \n",
      "1          NaN  \n",
      "2          NaN  \n",
      "4          NaN  \n",
      "5          NaN  \n",
      "...        ...  \n",
      "13807      NaN  \n",
      "13808      NaN  \n",
      "13809      NaN  \n",
      "13810      NaN  \n",
      "13811      NaN  \n",
      "\n",
      "[13377 rows x 4 columns]\n"
     ]
    }
   ],
   "source": [
    "cs_aware_data = cs_aware_data.drop_duplicates(subset=['full_text'])\n",
    "print(cs_aware_data) \n",
    "cs_aware_data.to_csv('cs_aware.csv')"
   ]
  },
  {
   "cell_type": "markdown",
   "id": "6774a698",
   "metadata": {
    "papermill": {
     "duration": 0.016933,
     "end_time": "2022-12-04T14:59:17.553439",
     "exception": false,
     "start_time": "2022-12-04T14:59:17.536506",
     "status": "completed"
    },
    "tags": []
   },
   "source": [
    "LASER"
   ]
  },
  {
   "cell_type": "code",
   "execution_count": 37,
   "id": "71c6f61a",
   "metadata": {},
   "outputs": [
    {
     "name": "stdout",
     "output_type": "stream",
     "text": [
      "Collecting torch==2.0.0"
     ]
    },
    {
     "name": "stderr",
     "output_type": "stream",
     "text": [
      "ERROR: Could not install packages due to an OSError: [Errno 28] No space left on device\n",
      "\n"
     ]
    },
    {
     "name": "stdout",
     "output_type": "stream",
     "text": [
      "\n",
      "  Using cached torch-2.0.0-cp311-cp311-win_amd64.whl (172.3 MB)\n"
     ]
    }
   ],
   "source": [
    "!pip install torch=="
   ]
  },
  {
   "cell_type": "code",
   "execution_count": 35,
   "id": "fb318692",
   "metadata": {
    "execution": {
     "iopub.execute_input": "2022-12-04T14:59:17.588102Z",
     "iopub.status.busy": "2022-12-04T14:59:17.587819Z",
     "iopub.status.idle": "2022-12-04T14:59:45.514365Z",
     "shell.execute_reply": "2022-12-04T14:59:45.513160Z"
    },
    "papermill": {
     "duration": 27.947073,
     "end_time": "2022-12-04T14:59:45.517152",
     "exception": false,
     "start_time": "2022-12-04T14:59:17.570079",
     "status": "completed"
    },
    "tags": []
   },
   "outputs": [
    {
     "name": "stderr",
     "output_type": "stream",
     "text": [
      "Impossibile trovare il file specificato.\n"
     ]
    }
   ],
   "source": [
    "!pip install -q laserembeddings==1.1.2\n",
    "!pip install -q ftfy"
   ]
  },
  {
   "cell_type": "code",
   "execution_count": 34,
   "id": "565dbd10",
   "metadata": {
    "execution": {
     "iopub.execute_input": "2022-12-04T14:59:45.552829Z",
     "iopub.status.busy": "2022-12-04T14:59:45.552466Z",
     "iopub.status.idle": "2022-12-04T14:59:59.824843Z",
     "shell.execute_reply": "2022-12-04T14:59:59.823645Z"
    },
    "papermill": {
     "duration": 14.293331,
     "end_time": "2022-12-04T14:59:59.828029",
     "exception": false,
     "start_time": "2022-12-04T14:59:45.534698",
     "status": "completed"
    },
    "tags": []
   },
   "outputs": [
    {
     "name": "stdout",
     "output_type": "stream",
     "text": [
      "Requirement already satisfied: fastcache in c:\\users\\leona\\anaconda3\\lib\\site-packages (1.1.0)\n"
     ]
    },
    {
     "ename": "ModuleNotFoundError",
     "evalue": "No module named 'laserembeddings'",
     "output_type": "error",
     "traceback": [
      "\u001b[1;31m---------------------------------------------------------------------------\u001b[0m",
      "\u001b[1;31mModuleNotFoundError\u001b[0m                       Traceback (most recent call last)",
      "Cell \u001b[1;32mIn[34], line 5\u001b[0m\n\u001b[0;32m      3\u001b[0m \u001b[38;5;28;01mimport\u001b[39;00m \u001b[38;5;21;01mftfy\u001b[39;00m\n\u001b[0;32m      4\u001b[0m \u001b[38;5;28;01mimport\u001b[39;00m \u001b[38;5;21;01mhtml\u001b[39;00m\n\u001b[1;32m----> 5\u001b[0m \u001b[38;5;28;01mimport\u001b[39;00m \u001b[38;5;21;01mlaserembeddings\u001b[39;00m\n\u001b[0;32m      6\u001b[0m \u001b[38;5;28;01mimport\u001b[39;00m \u001b[38;5;21;01msys\u001b[39;00m\n\u001b[0;32m      8\u001b[0m \u001b[38;5;28;01mfrom\u001b[39;00m \u001b[38;5;21;01mfastcache\u001b[39;00m \u001b[38;5;28;01mimport\u001b[39;00m clru_cache\n",
      "\u001b[1;31mModuleNotFoundError\u001b[0m: No module named 'laserembeddings'"
     ]
    }
   ],
   "source": [
    "!pip install fastcache\n",
    "# import fasttext\n",
    "import ftfy\n",
    "import html\n",
    "import laserembeddings\n",
    "import sys\n",
    "\n",
    "from fastcache import clru_cache\n",
    "from laserembeddings import Laser\n",
    "from typing import List, Union\n",
    "from urllib.parse import unquote"
   ]
  },
  {
   "cell_type": "markdown",
   "id": "a512d5b5",
   "metadata": {
    "papermill": {
     "duration": 0.018983,
     "end_time": "2022-12-04T14:59:59.867660",
     "exception": false,
     "start_time": "2022-12-04T14:59:59.848677",
     "status": "completed"
    },
    "tags": []
   },
   "source": [
    "****LASER Embeddings****\n",
    "This encodes each of the strings as a LASER embedding (1024 dimentional vector)"
   ]
  },
  {
   "cell_type": "code",
   "execution_count": null,
   "id": "505ab095",
   "metadata": {
    "execution": {
     "iopub.execute_input": "2022-12-04T14:59:59.905788Z",
     "iopub.status.busy": "2022-12-04T14:59:59.905439Z",
     "iopub.status.idle": "2022-12-04T15:00:05.795524Z",
     "shell.execute_reply": "2022-12-04T15:00:05.794114Z"
    },
    "papermill": {
     "duration": 5.912148,
     "end_time": "2022-12-04T15:00:05.798148",
     "exception": false,
     "start_time": "2022-12-04T14:59:59.886000",
     "status": "completed"
    },
    "tags": []
   },
   "outputs": [],
   "source": [
    "%%bash\n",
    "# DOCS: https://github.com/facebookresearch/LASER/blob/master/install_models.sh\n",
    "mkdir -p models/laser/\n",
    "# for FILE in bilstm.eparl21.2018-11-19.pt eparl21.fcodes eparl21.fvocab bilstm.93langs.2018-12-26.pt 93langs.fcodes 93langs.fvocab; do\n",
    "for FILE in bilstm.93langs.2018-12-26.pt 93langs.fcodes 93langs.fvocab; do\n",
    "    wget -cq https://dl.fbaipublicfiles.com/laser/models/$FILE -O models/laser/$FILE\n",
    "done"
   ]
  },
  {
   "cell_type": "code",
   "execution_count": null,
   "id": "d8d5f55e",
   "metadata": {
    "execution": {
     "iopub.execute_input": "2022-12-04T15:00:05.835860Z",
     "iopub.status.busy": "2022-12-04T15:00:05.834777Z",
     "iopub.status.idle": "2022-12-04T15:00:15.944006Z",
     "shell.execute_reply": "2022-12-04T15:00:15.942701Z"
    },
    "papermill": {
     "duration": 10.130387,
     "end_time": "2022-12-04T15:00:15.946866",
     "exception": false,
     "start_time": "2022-12-04T15:00:05.816479",
     "status": "completed"
    },
    "tags": []
   },
   "outputs": [],
   "source": [
    "!pip install config\n",
    "#from src.utils.fasttest_model import language_detect\n",
    "# from src.utils.punkt_tokenizer import punkt_tokenize_sentences\n",
    "\n",
    "config = {\n",
    "    \"laser\": {\n",
    "        \"base_dir\":  \"./models/laser\",\n",
    "        \"bpe_codes\": \"./models/laser/93langs.fcodes\",\n",
    "        \"bpe_vocab\": \"./models/laser/93langs.fvocab\",\n",
    "        \"encoder\":   \"./models/laser/bilstm.93langs.2018-12-26.pt\",\n",
    "    }\n",
    "}"
   ]
  },
  {
   "cell_type": "code",
   "execution_count": null,
   "id": "dfb1248a",
   "metadata": {
    "execution": {
     "iopub.execute_input": "2022-12-04T15:00:15.987259Z",
     "iopub.status.busy": "2022-12-04T15:00:15.986152Z",
     "iopub.status.idle": "2022-12-04T15:00:15.995905Z",
     "shell.execute_reply": "2022-12-04T15:00:15.994960Z"
    },
    "papermill": {
     "duration": 0.032515,
     "end_time": "2022-12-04T15:00:15.997972",
     "exception": false,
     "start_time": "2022-12-04T15:00:15.965457",
     "status": "completed"
    },
    "tags": []
   },
   "outputs": [],
   "source": [
    "# Instantiate encoder\n",
    "# BUG: CUDA GPU memory is exceeded if both laser and labse are loaded together \n",
    "# @clru_cache(None)\n",
    "def get_laser_model():\n",
    "    laser_model = Laser(\n",
    "        bpe_codes = config['laser']['bpe_codes'],\n",
    "        bpe_vocab = config['laser']['bpe_vocab'],\n",
    "        encoder   = config['laser']['encoder'],\n",
    "        tokenizer_options = None,\n",
    "        embedding_options = None\n",
    "    )\n",
    "    return laser_model\n",
    "\n",
    "def laser_encode(text: Union[str, List[str]], lang='autodetect', normalize=True) -> np.ndarray:\n",
    "    \"\"\"\n",
    "    Encodes a corpus of text using LASER\n",
    "    :param text: Large block of text (will be tokenized), or list of pre-tokenized sentences\n",
    "    :param lang: 2 digit language code (optional autodetect)\n",
    "    :return:     embedding matrix\n",
    "    \"\"\"\n",
    "    laser_model = get_laser_model()\n",
    "    \n",
    "    if isinstance(text, str):\n",
    "        # sentences = punkt_tokenize_sentences(text, lang=lang)\n",
    "        sentences = ['text']\n",
    "\n",
    "    else:\n",
    "        sentences = list(text)\n",
    "\n",
    "    embedding = laser_model.embed_sentences(sentences, lang=lang)\n",
    "    \n",
    "    if normalize:\n",
    "        embedding = embedding / np.sqrt(np.sum(embedding**2, axis=1)).reshape(-1,1)\n",
    "        \n",
    "    return embedding"
   ]
  },
  {
   "cell_type": "markdown",
   "id": "ea33f9f1",
   "metadata": {
    "papermill": {
     "duration": 0.018168,
     "end_time": "2022-12-04T15:00:16.034771",
     "exception": false,
     "start_time": "2022-12-04T15:00:16.016603",
     "status": "completed"
    },
    "tags": []
   },
   "source": [
    "THE MODEL"
   ]
  },
  {
   "cell_type": "code",
   "execution_count": null,
   "id": "526d7748",
   "metadata": {
    "execution": {
     "iopub.execute_input": "2022-12-04T15:00:16.073660Z",
     "iopub.status.busy": "2022-12-04T15:00:16.072917Z",
     "iopub.status.idle": "2022-12-04T15:00:16.087703Z",
     "shell.execute_reply": "2022-12-04T15:00:16.086298Z"
    },
    "papermill": {
     "duration": 0.036619,
     "end_time": "2022-12-04T15:00:16.089882",
     "exception": false,
     "start_time": "2022-12-04T15:00:16.053263",
     "status": "completed"
    },
    "tags": []
   },
   "outputs": [],
   "source": [
    "from sklearn.preprocessing import LabelBinarizer\n",
    "from sklearn.model_selection import train_test_split\n",
    "# lb = LabelBinarizer()\n",
    "\n",
    "train_ratio = 0.70\n",
    "validation_ratio = 0.20\n",
    "test_ratio = 0.10\n",
    "\n",
    "# train_test split: test 30%\n",
    "X_train, X_test, y_train, y_test = train_test_split(cs_aware_data['full_text'], cs_aware_data['Related'], test_size=0.3, random_state=0)\n",
    "\n",
    "#test is 10% of the initial dataset, val 20%\n",
    "X_val, X_test, y_val, y_test = train_test_split(X_test, y_test, test_size=test_ratio/(test_ratio + validation_ratio)) \n",
    "\n",
    "print(X_train.shape)\n",
    "print(X_val.shape)\n",
    "print(X_test.shape)\n"
   ]
  },
  {
   "cell_type": "code",
   "execution_count": null,
   "id": "aac8b81d",
   "metadata": {
    "execution": {
     "iopub.execute_input": "2022-12-04T15:00:16.130640Z",
     "iopub.status.busy": "2022-12-04T15:00:16.130270Z",
     "iopub.status.idle": "2022-12-04T15:00:16.136404Z",
     "shell.execute_reply": "2022-12-04T15:00:16.135306Z"
    },
    "papermill": {
     "duration": 0.031739,
     "end_time": "2022-12-04T15:00:16.139912",
     "exception": false,
     "start_time": "2022-12-04T15:00:16.108173",
     "status": "completed"
    },
    "tags": []
   },
   "outputs": [],
   "source": [
    "print('Training text lenght: ', len(X_train))\n",
    "print('Validation text: ', len(X_val))\n",
    "print('Testing text: ',len(X_test))"
   ]
  },
  {
   "cell_type": "code",
   "execution_count": null,
   "id": "9b4c5aea",
   "metadata": {
    "execution": {
     "iopub.execute_input": "2022-12-04T15:00:16.182780Z",
     "iopub.status.busy": "2022-12-04T15:00:16.181866Z",
     "iopub.status.idle": "2022-12-04T15:00:44.127665Z",
     "shell.execute_reply": "2022-12-04T15:00:44.126531Z"
    },
    "papermill": {
     "duration": 27.969763,
     "end_time": "2022-12-04T15:00:44.130510",
     "exception": false,
     "start_time": "2022-12-04T15:00:16.160747",
     "status": "completed"
    },
    "tags": []
   },
   "outputs": [],
   "source": [
    "X_train =laser_encode(X_train)\n",
    "X_val = laser_encode(X_val)\n",
    "X_test = laser_encode(X_test)"
   ]
  },
  {
   "cell_type": "code",
   "execution_count": null,
   "id": "6a6a7ac3",
   "metadata": {
    "execution": {
     "iopub.execute_input": "2022-12-04T15:00:44.169256Z",
     "iopub.status.busy": "2022-12-04T15:00:44.168935Z",
     "iopub.status.idle": "2022-12-04T15:00:44.174369Z",
     "shell.execute_reply": "2022-12-04T15:00:44.173312Z"
    },
    "papermill": {
     "duration": 0.028697,
     "end_time": "2022-12-04T15:00:44.178214",
     "exception": false,
     "start_time": "2022-12-04T15:00:44.149517",
     "status": "completed"
    },
    "tags": []
   },
   "outputs": [],
   "source": [
    "print('X_train.shape', X_train.shape)\n",
    "print('Y_train.shape', y_train.shape)"
   ]
  },
  {
   "cell_type": "code",
   "execution_count": null,
   "id": "a4335bed",
   "metadata": {
    "execution": {
     "iopub.execute_input": "2022-12-04T15:00:44.214290Z",
     "iopub.status.busy": "2022-12-04T15:00:44.213990Z",
     "iopub.status.idle": "2022-12-04T15:00:44.221333Z",
     "shell.execute_reply": "2022-12-04T15:00:44.220312Z"
    },
    "papermill": {
     "duration": 0.028137,
     "end_time": "2022-12-04T15:00:44.223650",
     "exception": false,
     "start_time": "2022-12-04T15:00:44.195513",
     "status": "completed"
    },
    "tags": []
   },
   "outputs": [],
   "source": [
    "X_train"
   ]
  },
  {
   "cell_type": "code",
   "execution_count": null,
   "id": "085e3002",
   "metadata": {
    "execution": {
     "iopub.execute_input": "2022-12-04T15:00:44.260760Z",
     "iopub.status.busy": "2022-12-04T15:00:44.260422Z",
     "iopub.status.idle": "2022-12-04T15:00:44.267932Z",
     "shell.execute_reply": "2022-12-04T15:00:44.266943Z"
    },
    "papermill": {
     "duration": 0.028509,
     "end_time": "2022-12-04T15:00:44.270116",
     "exception": false,
     "start_time": "2022-12-04T15:00:44.241607",
     "status": "completed"
    },
    "tags": []
   },
   "outputs": [],
   "source": [
    "y_train"
   ]
  },
  {
   "cell_type": "code",
   "execution_count": null,
   "id": "ecaf36fd",
   "metadata": {
    "execution": {
     "iopub.execute_input": "2022-12-04T15:00:44.306398Z",
     "iopub.status.busy": "2022-12-04T15:00:44.306113Z",
     "iopub.status.idle": "2022-12-04T15:00:44.312980Z",
     "shell.execute_reply": "2022-12-04T15:00:44.311324Z"
    },
    "papermill": {
     "duration": 0.027651,
     "end_time": "2022-12-04T15:00:44.315529",
     "exception": false,
     "start_time": "2022-12-04T15:00:44.287878",
     "status": "completed"
    },
    "tags": []
   },
   "outputs": [],
   "source": [
    "print(X_train.shape)\n",
    "print(X_val.shape)\n",
    "print(X_test.shape)"
   ]
  },
  {
   "cell_type": "code",
   "execution_count": null,
   "id": "4d0ebc9a",
   "metadata": {
    "execution": {
     "iopub.execute_input": "2022-12-04T15:00:44.351970Z",
     "iopub.status.busy": "2022-12-04T15:00:44.351695Z",
     "iopub.status.idle": "2022-12-04T15:00:44.356163Z",
     "shell.execute_reply": "2022-12-04T15:00:44.355105Z"
    },
    "papermill": {
     "duration": 0.024697,
     "end_time": "2022-12-04T15:00:44.358246",
     "exception": false,
     "start_time": "2022-12-04T15:00:44.333549",
     "status": "completed"
    },
    "tags": []
   },
   "outputs": [],
   "source": [
    "max_len = 1024\n"
   ]
  },
  {
   "cell_type": "markdown",
   "id": "a94bc820",
   "metadata": {
    "papermill": {
     "duration": 0.017935,
     "end_time": "2022-12-04T15:00:44.394046",
     "exception": false,
     "start_time": "2022-12-04T15:00:44.376111",
     "status": "completed"
    },
    "tags": []
   },
   "source": [
    "> Neural Network - TF Keras"
   ]
  },
  {
   "cell_type": "markdown",
   "id": "1dd0c6c2",
   "metadata": {
    "papermill": {
     "duration": 0.018199,
     "end_time": "2022-12-04T15:00:44.429518",
     "exception": false,
     "start_time": "2022-12-04T15:00:44.411319",
     "status": "completed"
    },
    "tags": []
   },
   "source": [
    "This inputs a 1024 LASER embedding and outputs a 1 bit classification prediction.\n",
    "\n",
    "A triangular shaped architecture is used, including Dropout and BatchNorm.\n",
    "\n",
    "2022/07/06 Updated LASER models with support for over 200 languages"
   ]
  },
  {
   "cell_type": "code",
   "execution_count": null,
   "id": "d867657c",
   "metadata": {
    "execution": {
     "iopub.execute_input": "2022-12-04T15:00:44.467566Z",
     "iopub.status.busy": "2022-12-04T15:00:44.465869Z",
     "iopub.status.idle": "2022-12-04T15:00:44.470946Z",
     "shell.execute_reply": "2022-12-04T15:00:44.470072Z"
    },
    "papermill": {
     "duration": 0.025737,
     "end_time": "2022-12-04T15:00:44.472927",
     "exception": false,
     "start_time": "2022-12-04T15:00:44.447190",
     "status": "completed"
    },
    "tags": []
   },
   "outputs": [],
   "source": [
    "import tensorflow as tf\n"
   ]
  },
  {
   "cell_type": "code",
   "execution_count": null,
   "id": "36a8fadf",
   "metadata": {
    "execution": {
     "iopub.execute_input": "2022-12-04T15:00:44.510156Z",
     "iopub.status.busy": "2022-12-04T15:00:44.509371Z",
     "iopub.status.idle": "2022-12-04T15:00:46.568045Z",
     "shell.execute_reply": "2022-12-04T15:00:46.566160Z"
    },
    "papermill": {
     "duration": 2.081678,
     "end_time": "2022-12-04T15:00:46.571987",
     "exception": false,
     "start_time": "2022-12-04T15:00:44.490309",
     "status": "completed"
    },
    "tags": []
   },
   "outputs": [],
   "source": [
    "# Build the model\n",
    "model = tf.keras.Sequential([\n",
    "    tf.keras.Input(shape=(1024,)),\n",
    "    tf.keras.layers.Dense(512, activation=tf.keras.layers.LeakyReLU(alpha=0.1)),\n",
    "        tf.keras.layers.BatchNormalization(),\n",
    "        tf.keras.layers.Dropout(0.25),\n",
    "    tf.keras.layers.Dense(128, activation=tf.keras.layers.LeakyReLU(alpha=0.1)),\n",
    "        tf.keras.layers.BatchNormalization(),\n",
    "        tf.keras.layers.Dropout(0.25),\n",
    "    tf.keras.layers.Dense(32, activation=tf.keras.layers.LeakyReLU(alpha=0.1)),\n",
    "        tf.keras.layers.BatchNormalization(),\n",
    "        tf.keras.layers.Dropout(0.25),\n",
    "    tf.keras.layers.Dense(8, activation=tf.keras.layers.LeakyReLU(alpha=0.1)),\n",
    "        tf.keras.layers.BatchNormalization(),\n",
    "        tf.keras.layers.Dropout(0.25),\n",
    "    tf.keras.layers.Dense(1, activation=tf.keras.activations.sigmoid),\n",
    "])\n",
    "model.compile(loss = tf.keras.losses.BinaryCrossentropy(from_logits=True), \n",
    "              optimizer=tf.keras.optimizers.Adam(learning_rate=1e-5),\n",
    "              metrics =  [ tf.keras.metrics.BinaryAccuracy() ])\n",
    "print(model.summary())"
   ]
  },
  {
   "cell_type": "code",
   "execution_count": null,
   "id": "b6187698",
   "metadata": {
    "execution": {
     "iopub.execute_input": "2022-12-04T15:00:46.611816Z",
     "iopub.status.busy": "2022-12-04T15:00:46.610743Z",
     "iopub.status.idle": "2022-12-04T15:00:46.615673Z",
     "shell.execute_reply": "2022-12-04T15:00:46.614808Z"
    },
    "papermill": {
     "duration": 0.026255,
     "end_time": "2022-12-04T15:00:46.617674",
     "exception": false,
     "start_time": "2022-12-04T15:00:46.591419",
     "status": "completed"
    },
    "tags": []
   },
   "outputs": [],
   "source": [
    "epochs = 1000\n",
    "batch_size = 32"
   ]
  },
  {
   "cell_type": "code",
   "execution_count": null,
   "id": "fd0f146d",
   "metadata": {
    "execution": {
     "iopub.execute_input": "2022-12-04T15:00:46.657122Z",
     "iopub.status.busy": "2022-12-04T15:00:46.655421Z",
     "iopub.status.idle": "2022-12-04T15:00:46.661288Z",
     "shell.execute_reply": "2022-12-04T15:00:46.660383Z"
    },
    "papermill": {
     "duration": 0.027681,
     "end_time": "2022-12-04T15:00:46.663273",
     "exception": false,
     "start_time": "2022-12-04T15:00:46.635592",
     "status": "completed"
    },
    "tags": []
   },
   "outputs": [],
   "source": [
    "callback = tf.keras.callbacks.EarlyStopping(monitor='val_loss', mode='min', verbose=0, patience=10)\n"
   ]
  },
  {
   "cell_type": "code",
   "execution_count": null,
   "id": "ccd3aebf",
   "metadata": {
    "execution": {
     "iopub.execute_input": "2022-12-04T15:00:46.700375Z",
     "iopub.status.busy": "2022-12-04T15:00:46.699745Z",
     "iopub.status.idle": "2022-12-04T15:04:12.917258Z",
     "shell.execute_reply": "2022-12-04T15:04:12.915859Z"
    },
    "papermill": {
     "duration": 206.239162,
     "end_time": "2022-12-04T15:04:12.920352",
     "exception": false,
     "start_time": "2022-12-04T15:00:46.681190",
     "status": "completed"
    },
    "tags": []
   },
   "outputs": [],
   "source": [
    "history = model.fit(X_train, y_train, \n",
    "                    epochs=epochs, \n",
    "                    batch_size=batch_size, \n",
    "                    validation_split=0.2, \n",
    "                    verbose=1,\n",
    "                    validation_data=([X_val, y_val]),\n",
    "                    callbacks=callback)"
   ]
  },
  {
   "cell_type": "code",
   "execution_count": null,
   "id": "d468c9c7",
   "metadata": {
    "execution": {
     "iopub.execute_input": "2022-12-04T15:04:13.361855Z",
     "iopub.status.busy": "2022-12-04T15:04:13.361471Z",
     "iopub.status.idle": "2022-12-04T15:05:10.271781Z",
     "shell.execute_reply": "2022-12-04T15:05:10.270665Z"
    },
    "papermill": {
     "duration": 57.128503,
     "end_time": "2022-12-04T15:05:10.273855",
     "exception": false,
     "start_time": "2022-12-04T15:04:13.145352",
     "status": "completed"
    },
    "tags": []
   },
   "outputs": [],
   "source": [
    "model.evaluate(X_test, y_test, verbose =1)\n"
   ]
  },
  {
   "cell_type": "code",
   "execution_count": null,
   "id": "707860c2",
   "metadata": {
    "execution": {
     "iopub.execute_input": "2022-12-04T15:05:10.691607Z",
     "iopub.status.busy": "2022-12-04T15:05:10.691242Z",
     "iopub.status.idle": "2022-12-04T15:05:10.697088Z",
     "shell.execute_reply": "2022-12-04T15:05:10.695950Z"
    },
    "papermill": {
     "duration": 0.219055,
     "end_time": "2022-12-04T15:05:10.700884",
     "exception": false,
     "start_time": "2022-12-04T15:05:10.481829",
     "status": "completed"
    },
    "tags": []
   },
   "outputs": [],
   "source": [
    "print(history.history.keys())\n"
   ]
  },
  {
   "cell_type": "code",
   "execution_count": null,
   "id": "165bec5f",
   "metadata": {
    "execution": {
     "iopub.execute_input": "2022-12-04T15:05:11.183361Z",
     "iopub.status.busy": "2022-12-04T15:05:11.182995Z",
     "iopub.status.idle": "2022-12-04T15:05:12.147214Z",
     "shell.execute_reply": "2022-12-04T15:05:12.146093Z"
    },
    "papermill": {
     "duration": 1.236171,
     "end_time": "2022-12-04T15:05:12.149608",
     "exception": false,
     "start_time": "2022-12-04T15:05:10.913437",
     "status": "completed"
    },
    "tags": []
   },
   "outputs": [],
   "source": [
    "    print('Train Accuracy')\n",
    "    model.evaluate(X_train, y_train)\n",
    "\n",
    "    print('Test Accuracy')\n",
    "    model.evaluate(X_test, y_test)"
   ]
  },
  {
   "cell_type": "code",
   "execution_count": null,
   "id": "068a90a9",
   "metadata": {
    "execution": {
     "iopub.execute_input": "2022-12-04T15:05:12.578721Z",
     "iopub.status.busy": "2022-12-04T15:05:12.578342Z",
     "iopub.status.idle": "2022-12-04T15:05:12.585878Z",
     "shell.execute_reply": "2022-12-04T15:05:12.584982Z"
    },
    "papermill": {
     "duration": 0.225709,
     "end_time": "2022-12-04T15:05:12.587953",
     "exception": false,
     "start_time": "2022-12-04T15:05:12.362244",
     "status": "completed"
    },
    "tags": []
   },
   "outputs": [],
   "source": [
    "history.history['binary_accuracy']"
   ]
  },
  {
   "cell_type": "code",
   "execution_count": null,
   "id": "1776ad62",
   "metadata": {
    "execution": {
     "iopub.execute_input": "2022-12-04T15:05:13.009436Z",
     "iopub.status.busy": "2022-12-04T15:05:13.009046Z",
     "iopub.status.idle": "2022-12-04T15:05:13.079197Z",
     "shell.execute_reply": "2022-12-04T15:05:13.078135Z"
    },
    "papermill": {
     "duration": 0.28701,
     "end_time": "2022-12-04T15:05:13.082114",
     "exception": false,
     "start_time": "2022-12-04T15:05:12.795104",
     "status": "completed"
    },
    "tags": []
   },
   "outputs": [],
   "source": [
    "model.save('laser2.h5')\n"
   ]
  },
  {
   "cell_type": "code",
   "execution_count": null,
   "id": "43b2ad1a",
   "metadata": {
    "execution": {
     "iopub.execute_input": "2022-12-04T15:05:13.515324Z",
     "iopub.status.busy": "2022-12-04T15:05:13.514961Z",
     "iopub.status.idle": "2022-12-04T15:05:13.955477Z",
     "shell.execute_reply": "2022-12-04T15:05:13.954551Z"
    },
    "papermill": {
     "duration": 0.660952,
     "end_time": "2022-12-04T15:05:13.957658",
     "exception": false,
     "start_time": "2022-12-04T15:05:13.296706",
     "status": "completed"
    },
    "tags": []
   },
   "outputs": [],
   "source": [
    "plt.plot(history.history['binary_accuracy'])\n",
    "plt.plot(history.history['val_binary_accuracy'])\n",
    "plt.title('model accuracy')\n",
    "plt.ylabel('binary_accuracy')\n",
    "plt.xlabel('epoch')\n",
    "plt.legend(['train', 'validation'], loc='upper left')\n",
    "plt.show()\n",
    "\n",
    "plt.plot(history.history['loss'])\n",
    "plt.plot(history.history['val_loss'])\n",
    "plt.title('model loss')\n",
    "plt.ylabel('loss')\n",
    "plt.xlabel('epoch')\n",
    "plt.legend(['train', 'validation'], loc='upper left')\n",
    "plt.show()"
   ]
  },
  {
   "cell_type": "code",
   "execution_count": null,
   "id": "58d4e7da",
   "metadata": {
    "execution": {
     "iopub.execute_input": "2022-12-04T15:05:14.383556Z",
     "iopub.status.busy": "2022-12-04T15:05:14.383205Z",
     "iopub.status.idle": "2022-12-04T15:05:14.388303Z",
     "shell.execute_reply": "2022-12-04T15:05:14.387299Z"
    },
    "papermill": {
     "duration": 0.217609,
     "end_time": "2022-12-04T15:05:14.390443",
     "exception": false,
     "start_time": "2022-12-04T15:05:14.172834",
     "status": "completed"
    },
    "tags": []
   },
   "outputs": [],
   "source": [
    "from sklearn.metrics import classification_report\n",
    "from sklearn.metrics import accuracy_score\n",
    "from sklearn.metrics import confusion_matrix\n"
   ]
  },
  {
   "cell_type": "code",
   "execution_count": null,
   "id": "c23e1b07",
   "metadata": {
    "execution": {
     "iopub.execute_input": "2022-12-04T15:05:14.854263Z",
     "iopub.status.busy": "2022-12-04T15:05:14.853535Z",
     "iopub.status.idle": "2022-12-04T15:05:15.155912Z",
     "shell.execute_reply": "2022-12-04T15:05:15.154283Z"
    },
    "papermill": {
     "duration": 0.516515,
     "end_time": "2022-12-04T15:05:15.158350",
     "exception": false,
     "start_time": "2022-12-04T15:05:14.641835",
     "status": "completed"
    },
    "tags": []
   },
   "outputs": [],
   "source": [
    "prediction = model.predict(X_test)\n",
    "# show the inputs and predicted outputs\n",
    "#for i in range(len(X_test)):\n",
    "print(\"X=%s, Predicted=%s\" % (X_test[0], prediction[0]))"
   ]
  },
  {
   "cell_type": "code",
   "execution_count": null,
   "id": "48c60a54",
   "metadata": {
    "execution": {
     "iopub.execute_input": "2022-12-04T15:05:15.598079Z",
     "iopub.status.busy": "2022-12-04T15:05:15.597664Z",
     "iopub.status.idle": "2022-12-04T15:05:15.605714Z",
     "shell.execute_reply": "2022-12-04T15:05:15.604685Z"
    },
    "papermill": {
     "duration": 0.22968,
     "end_time": "2022-12-04T15:05:15.607922",
     "exception": false,
     "start_time": "2022-12-04T15:05:15.378242",
     "status": "completed"
    },
    "tags": []
   },
   "outputs": [],
   "source": [
    "for i in range(len(prediction)):\n",
    "    if (prediction[i] < 0.5):\n",
    "        prediction[i] = 0\n",
    "    else: \n",
    "        prediction[i] = 1"
   ]
  },
  {
   "cell_type": "code",
   "execution_count": null,
   "id": "a7fa2a5e",
   "metadata": {
    "execution": {
     "iopub.execute_input": "2022-12-04T15:05:16.047655Z",
     "iopub.status.busy": "2022-12-04T15:05:16.047282Z",
     "iopub.status.idle": "2022-12-04T15:05:16.058930Z",
     "shell.execute_reply": "2022-12-04T15:05:16.056520Z"
    },
    "papermill": {
     "duration": 0.236147,
     "end_time": "2022-12-04T15:05:16.061095",
     "exception": false,
     "start_time": "2022-12-04T15:05:15.824948",
     "status": "completed"
    },
    "tags": []
   },
   "outputs": [],
   "source": [
    "matrix = confusion_matrix(y_test, prediction)\n",
    "print(matrix)\n",
    "#The diagonal entries are the accuracies of each class\n",
    "matrix.diagonal()/matrix.sum(axis=1)"
   ]
  },
  {
   "cell_type": "code",
   "execution_count": null,
   "id": "7304133d",
   "metadata": {
    "execution": {
     "iopub.execute_input": "2022-12-04T15:05:16.485204Z",
     "iopub.status.busy": "2022-12-04T15:05:16.484842Z",
     "iopub.status.idle": "2022-12-04T15:05:16.490277Z",
     "shell.execute_reply": "2022-12-04T15:05:16.489324Z"
    },
    "papermill": {
     "duration": 0.217682,
     "end_time": "2022-12-04T15:05:16.492243",
     "exception": false,
     "start_time": "2022-12-04T15:05:16.274561",
     "status": "completed"
    },
    "tags": []
   },
   "outputs": [],
   "source": [
    "# from mlxtend.evaluate import accuracy_score\n",
    "\n",
    "# std_acc = accuracy_score(y_test, prediction)\n",
    "# bin_acc = accuracy_score(y_test, prediction, method='binary', pos_label=1)\n",
    "# avg_acc = accuracy_score(y_test, prediction, method='average')\n",
    "\n",
    "# print(f'Standard accuracy: {std_acc*100:.2f}%')\n",
    "# # print(f'Class 1 accuracy: {bin_acc*100:.2f}%')\n",
    "# print(f'Average per-class accuracy: {avg_acc*100:.2f}%')"
   ]
  },
  {
   "cell_type": "code",
   "execution_count": null,
   "id": "06cc2a37",
   "metadata": {
    "execution": {
     "iopub.execute_input": "2022-12-04T15:05:16.961459Z",
     "iopub.status.busy": "2022-12-04T15:05:16.960466Z",
     "iopub.status.idle": "2022-12-04T15:05:16.965273Z",
     "shell.execute_reply": "2022-12-04T15:05:16.964182Z"
    },
    "papermill": {
     "duration": 0.222734,
     "end_time": "2022-12-04T15:05:16.967536",
     "exception": false,
     "start_time": "2022-12-04T15:05:16.744802",
     "status": "completed"
    },
    "tags": []
   },
   "outputs": [],
   "source": [
    "# # Evaluate the model on the test data using `evaluate`\n",
    "# print(\"Evaluate on test data\")\n",
    "# results = model.evaluate(X_test, y_test, batch_size=128)\n",
    "# print(\"test loss, test acc:\", results)"
   ]
  },
  {
   "cell_type": "code",
   "execution_count": null,
   "id": "b50b5a51",
   "metadata": {
    "papermill": {
     "duration": 0.216482,
     "end_time": "2022-12-04T15:05:17.401295",
     "exception": false,
     "start_time": "2022-12-04T15:05:17.184813",
     "status": "completed"
    },
    "tags": []
   },
   "outputs": [],
   "source": []
  }
 ],
 "metadata": {
  "kernelspec": {
   "display_name": "Python 3 (ipykernel)",
   "language": "python",
   "name": "python3"
  },
  "language_info": {
   "codemirror_mode": {
    "name": "ipython",
    "version": 3
   },
   "file_extension": ".py",
   "mimetype": "text/x-python",
   "name": "python",
   "nbconvert_exporter": "python",
   "pygments_lexer": "ipython3",
   "version": "3.11.5"
  },
  "papermill": {
   "default_parameters": {},
   "duration": 418.715336,
   "end_time": "2022-12-04T15:05:21.058802",
   "environment_variables": {},
   "exception": null,
   "input_path": "__notebook__.ipynb",
   "output_path": "__notebook__.ipynb",
   "parameters": {},
   "start_time": "2022-12-04T14:58:22.343466",
   "version": "2.3.4"
  }
 },
 "nbformat": 4,
 "nbformat_minor": 5
}
