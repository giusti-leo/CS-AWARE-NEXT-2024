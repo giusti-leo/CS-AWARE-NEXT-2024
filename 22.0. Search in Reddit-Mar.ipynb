{
 "cells": [
  {
   "cell_type": "code",
   "execution_count": 1,
   "id": "dcb3095b",
   "metadata": {},
   "outputs": [],
   "source": [
    "import os\n",
    "import time\n",
    "import pandas as pd \n",
    "import requests\n",
    "import urllib3\n",
    "import json\n",
    "import sys\n",
    "import numpy as np\n",
    "import pandas as pd\n",
    "from pathlib import Path\n",
    "from datetime import datetime, timedelta"
   ]
  },
  {
   "cell_type": "code",
   "execution_count": 2,
   "id": "5222ef90",
   "metadata": {},
   "outputs": [
    {
     "name": "stdout",
     "output_type": "stream",
     "text": [
      "Requirement already satisfied: nltk in c:\\users\\leona\\anaconda3\\lib\\site-packages (3.8.1)\n",
      "Requirement already satisfied: click in c:\\users\\leona\\anaconda3\\lib\\site-packages (from nltk) (8.0.4)\n",
      "Requirement already satisfied: joblib in c:\\users\\leona\\anaconda3\\lib\\site-packages (from nltk) (1.1.1)\n",
      "Requirement already satisfied: regex>=2021.8.3 in c:\\users\\leona\\anaconda3\\lib\\site-packages (from nltk) (2022.7.9)\n",
      "Requirement already satisfied: tqdm in c:\\users\\leona\\anaconda3\\lib\\site-packages (from nltk) (4.65.0)\n",
      "Requirement already satisfied: colorama in c:\\users\\leona\\anaconda3\\lib\\site-packages (from click->nltk) (0.4.6)\n",
      "Note: you may need to restart the kernel to use updated packages.\n"
     ]
    }
   ],
   "source": [
    "pip install nltk"
   ]
  },
  {
   "cell_type": "code",
   "execution_count": 3,
   "id": "ad1729c7",
   "metadata": {},
   "outputs": [],
   "source": [
    "import nltk"
   ]
  },
  {
   "cell_type": "code",
   "execution_count": 4,
   "id": "8eb93b1b",
   "metadata": {},
   "outputs": [],
   "source": [
    "pd.options.display.max_colwidth = 1000\n",
    "pd.set_option('display.max_columns', None)"
   ]
  },
  {
   "cell_type": "code",
   "execution_count": 5,
   "id": "f5042c66",
   "metadata": {},
   "outputs": [
    {
     "name": "stderr",
     "output_type": "stream",
     "text": [
      "[nltk_data] Downloading package wordnet to\n",
      "[nltk_data]     C:\\Users\\leona\\AppData\\Roaming\\nltk_data...\n",
      "[nltk_data]   Package wordnet is already up-to-date!\n"
     ]
    },
    {
     "data": {
      "text/plain": [
       "True"
      ]
     },
     "execution_count": 5,
     "metadata": {},
     "output_type": "execute_result"
    }
   ],
   "source": [
    "\n",
    "nltk.download('wordnet')"
   ]
  },
  {
   "cell_type": "code",
   "execution_count": 6,
   "id": "86a8e902",
   "metadata": {},
   "outputs": [
    {
     "name": "stderr",
     "output_type": "stream",
     "text": [
      "[nltk_data] Downloading package punkt to\n",
      "[nltk_data]     C:\\Users\\leona\\AppData\\Roaming\\nltk_data..."
     ]
    },
    {
     "name": "stderr",
     "output_type": "stream",
     "text": [
      "\n",
      "[nltk_data]   Package punkt is already up-to-date!\n",
      "[nltk_data] Downloading package stopwords to\n",
      "[nltk_data]     C:\\Users\\leona\\AppData\\Roaming\\nltk_data...\n",
      "[nltk_data]   Package stopwords is already up-to-date!\n"
     ]
    },
    {
     "name": "stdout",
     "output_type": "stream",
     "text": [
      "0    True\n",
      "1    True\n",
      "2    True\n",
      "Name: match, dtype: bool\n"
     ]
    }
   ],
   "source": [
    "import pandas as pd\n",
    "from nltk.stem import PorterStemmer\n",
    "from nltk.tokenize import word_tokenize\n",
    "from nltk.corpus import stopwords\n",
    "import nltk\n",
    "nltk.download('punkt')\n",
    "nltk.download('stopwords')\n",
    "\n",
    "def stemming_and_matching(df_A, df_B):\n",
    "    # Inizializzazione del PorterStemmer\n",
    "    stemmer = PorterStemmer()\n",
    "\n",
    "    # Funzione per eseguire stemming e lemmatization su una riga di testo\n",
    "    def process_text(text):\n",
    "        # Tokenizzazione\n",
    "        tokens = word_tokenize(text.lower())\n",
    "        # Rimozione delle stop words\n",
    "        stop_words = set(stopwords.words('english'))\n",
    "        filtered_tokens = [token for token in tokens if token.isalnum() and token not in stop_words]\n",
    "        # Stemming\n",
    "        stemmed_tokens = [stemmer.stem(token) for token in filtered_tokens]\n",
    "        return stemmed_tokens\n",
    "\n",
    "    # Applicare la funzione a ciascuna riga dei dataframe A e B\n",
    "    df_A['lemmatized_tokens'] = df_A['testo'].apply(process_text)\n",
    "    df_B['lemmatized_tokens'] = df_B['testo'].apply(process_text)\n",
    "\n",
    "    # Verificare la corrispondenza\n",
    "    def check_match(row):\n",
    "        return all(token in row['lemmatized_tokens'] for token in df_B.loc[row.name, 'lemmatized_tokens'])\n",
    "\n",
    "    # Applicare la funzione di verifica alla riga di ciascun dataframe B\n",
    "    df_B['match'] = df_B.apply(check_match, axis=1)\n",
    "\n",
    "    return df_B['match']\n",
    "\n",
    "# Esempio di utilizzo\n",
    "data_A = {'testo': [\"La casa è grande.\", \"Il cane corre veloce.\", \"Gli uccelli volano alto.\"]}\n",
    "data_B = {'testo': [\"La casa grande\", \"Il cane veloce\", \"uccelli alti\"]}\n",
    "df_A = pd.DataFrame(data_A)\n",
    "df_B = pd.DataFrame(data_B)\n",
    "\n",
    "risultato = stemming_and_matching(df_A, df_B)\n",
    "print(risultato)\n"
   ]
  },
  {
   "cell_type": "markdown",
   "id": "f82a2dff",
   "metadata": {},
   "source": [
    "### Reddit posts"
   ]
  },
  {
   "cell_type": "code",
   "execution_count": 7,
   "id": "df7e9509",
   "metadata": {},
   "outputs": [],
   "source": [
    "file_reddit = r'C:\\Users\\leona\\OneDrive\\Desktop\\Tesi\\Pipeline\\Datasets\\Pipeline\\SocialNetworksPosts\\Reddit\\RedditPosts.csv'"
   ]
  },
  {
   "cell_type": "code",
   "execution_count": 8,
   "id": "a070364e",
   "metadata": {
    "scrolled": true
   },
   "outputs": [
    {
     "data": {
      "text/html": [
       "<div>\n",
       "<style scoped>\n",
       "    .dataframe tbody tr th:only-of-type {\n",
       "        vertical-align: middle;\n",
       "    }\n",
       "\n",
       "    .dataframe tbody tr th {\n",
       "        vertical-align: top;\n",
       "    }\n",
       "\n",
       "    .dataframe thead th {\n",
       "        text-align: right;\n",
       "    }\n",
       "</style>\n",
       "<table border=\"1\" class=\"dataframe\">\n",
       "  <thead>\n",
       "    <tr style=\"text-align: right;\">\n",
       "      <th></th>\n",
       "      <th>subreddit</th>\n",
       "      <th>username</th>\n",
       "      <th>date</th>\n",
       "      <th>title</th>\n",
       "      <th>text</th>\n",
       "    </tr>\n",
       "  </thead>\n",
       "  <tbody>\n",
       "    <tr>\n",
       "      <th>0</th>\n",
       "      <td>netsec</td>\n",
       "      <td>t3_18i5ups</td>\n",
       "      <td>2023-12-14 11:36:39</td>\n",
       "      <td>Nim implementation of Old Dll Unlinking Technique</td>\n",
       "      <td>NaN</td>\n",
       "    </tr>\n",
       "    <tr>\n",
       "      <th>1</th>\n",
       "      <td>cybersecurity</td>\n",
       "      <td>t3_18i5v5x</td>\n",
       "      <td>2023-12-14 11:37:34</td>\n",
       "      <td>How to prevent employees from using unauthorized web tools?</td>\n",
       "      <td>I work as an IT manager for a business. Some time ago, a group of my colleagues decided to use a web productivity tool, created accounts using their work emails, and started introducing data.\\n\\nI had no knowledge they had been using such a tool at all. I did not even know it existed.\\n\\nToday, I received an email from my boss asking why an ex-employee still had access to the data in such a web platform, as their account hadn't been deactivated. Needless to say, I don't have access to revoke their account or anything.\\n\\nHow can I prevent them from registering on another unauthorized webpage?\\n\\nI feel like a firewall blacklist would be useless since I would have to be constantly researching and updating it with new tools, and I can't make a whitelist since my company uses a ton of different pages for intense web research.\\n\\nAny help or advice would be appreciated.\\n\\n&amp;#x200B;</td>\n",
       "    </tr>\n",
       "    <tr>\n",
       "      <th>2</th>\n",
       "      <td>MacOS</td>\n",
       "      <td>t3_18i5kyd</td>\n",
       "      <td>2023-12-14 11:17:47</td>\n",
       "      <td>Teams call pop up window blocked by reminders/calendar entries on top right corner</td>\n",
       "      <td>Hi\\n\\nDo you know this issue that when I have reminders or calendar alarms set to stick to the top right corner, that they then block the notification window for incoming Teams calls.\\n\\nDoes someone know if there is a setting for having the teams call pop up in on another location on the screen or knows another work around?</td>\n",
       "    </tr>\n",
       "    <tr>\n",
       "      <th>3</th>\n",
       "      <td>MacOS</td>\n",
       "      <td>t3_18i5koq</td>\n",
       "      <td>2023-12-14 11:17:16</td>\n",
       "      <td>Disable middle mouse button drag to other desktop</td>\n",
       "      <td>So I have been using windows for a while and now I am stumped. The middle mouse button of my logi mouse has the following functionailty: On drage change desktop, on click show all windows. That's nice and all, but I can't use fusion 360 because the dragging functionality is the middle mouse button but that just changes the desktop. How can I disable that?\\n\\n&amp;#x200B;\\n\\nSo I found this, but there is no button selected. If I select the secondary mouse button for example, it will open mission control on both right click and middle mouse button:\\n\\nhttps://preview.redd.it/bmqnrpw0m86c1.png?width=476&amp;format=png&amp;auto=webp&amp;s=97ae662fcca43bf146537393fc6a13705a0a9351\\n\\n&amp;#x200B;</td>\n",
       "    </tr>\n",
       "    <tr>\n",
       "      <th>4</th>\n",
       "      <td>windows</td>\n",
       "      <td>t3_18i5gqv</td>\n",
       "      <td>2023-12-14 11:09:52</td>\n",
       "      <td>Playing 4k videos on 2k display</td>\n",
       "      <td>Hello guys does playing 4k content on a 2k display has any benefit? For example while playing YouTube videos I set 1440p resolution on my 2k laptop and 2k smartphone despite having a option of selecting 2160p option. So i wanted to ask if i get better video quality if i select 2160p option while playing on a 2k display?</td>\n",
       "    </tr>\n",
       "    <tr>\n",
       "      <th>...</th>\n",
       "      <td>...</td>\n",
       "      <td>...</td>\n",
       "      <td>...</td>\n",
       "      <td>...</td>\n",
       "      <td>...</td>\n",
       "    </tr>\n",
       "    <tr>\n",
       "      <th>387066</th>\n",
       "      <td>pcmasterrace</td>\n",
       "      <td>t3_1006rmg</td>\n",
       "      <td>2023-01-01 00:41:37</td>\n",
       "      <td>Build Almost Done</td>\n",
       "      <td>Is this a good build? Any recommendations?\\n\\nBUILD - https://pcpartpicker.com/list/FL6hwc</td>\n",
       "    </tr>\n",
       "    <tr>\n",
       "      <th>387067</th>\n",
       "      <td>pcmasterrace</td>\n",
       "      <td>t3_1006qur</td>\n",
       "      <td>2023-01-01 00:40:30</td>\n",
       "      <td>problem arming pc, I have a Mother a320m-k, ryzen 4650g, and doesnt work the video, the motherboard have Orange leds. Its my first time arming</td>\n",
       "      <td>NaN</td>\n",
       "    </tr>\n",
       "    <tr>\n",
       "      <th>387068</th>\n",
       "      <td>pcmasterrace</td>\n",
       "      <td>t3_1006pzy</td>\n",
       "      <td>2023-01-01 00:39:17</td>\n",
       "      <td>PCMR Truckers</td>\n",
       "      <td>Those that bring their rigs with them in the truck: \\n\\nHow does the computer fare? \\nIs there any orientation it works better with when you go through the areas with poor maintenance? \\nAnd lastly: if you liquid cool, have you noticed any issues over time?\\n\\nI'm building a new rig here soon and am curious if anything is to note so I don't make a large $$$$ mistake</td>\n",
       "    </tr>\n",
       "    <tr>\n",
       "      <th>387069</th>\n",
       "      <td>pcmasterrace</td>\n",
       "      <td>t3_1006orx</td>\n",
       "      <td>2023-01-01 00:37:29</td>\n",
       "      <td>New case for Christmas, also spray painted my GPU to match</td>\n",
       "      <td>Got the Hyte y60 as a gift, what a great case to build in. Running a 5600x with a 3080. The tree probably blocks some airflow but I'll take that tradeoff.</td>\n",
       "    </tr>\n",
       "    <tr>\n",
       "      <th>387070</th>\n",
       "      <td>linuxquestions</td>\n",
       "      <td>t3_1006n20</td>\n",
       "      <td>2023-01-01 00:34:59</td>\n",
       "      <td>Ignore \"not enough space to copy these file\" errors in KDE Plasma/Dolphin?</td>\n",
       "      <td>When copying files with Dolphin (KDE Plasma's file manager), if there is not enough free space to copy the incoming files entirely, the file manager refuses to copy even a single file. However, a lot of the time I'll be skipping name conflicts or overwriting existing files with new ones, so either I don't need as much space than it seems to the system, or space is freed up as I copy. Also, KDE seems to have trouble accurately determining the free space on drives on a network file server that I have mounted with SSHFS, so it will say there is not enough space even when there is. \\n\\nIs there a way to get Dolphin to ignore this error and attempt to copy the files anyway? Like the way the cp command does it, where it doesn't really care how much space is on the drive, and will only throw an error if it actually fills up before it's done copying. Or better yet, is there a way to get Dolphin to still warn me about potential space issues, but have the option to ignore it and attempt to c...</td>\n",
       "    </tr>\n",
       "  </tbody>\n",
       "</table>\n",
       "<p>387071 rows × 5 columns</p>\n",
       "</div>"
      ],
      "text/plain": [
       "             subreddit    username                 date  \\\n",
       "0               netsec  t3_18i5ups  2023-12-14 11:36:39   \n",
       "1        cybersecurity  t3_18i5v5x  2023-12-14 11:37:34   \n",
       "2                MacOS  t3_18i5kyd  2023-12-14 11:17:47   \n",
       "3                MacOS  t3_18i5koq  2023-12-14 11:17:16   \n",
       "4              windows  t3_18i5gqv  2023-12-14 11:09:52   \n",
       "...                ...         ...                  ...   \n",
       "387066    pcmasterrace  t3_1006rmg  2023-01-01 00:41:37   \n",
       "387067    pcmasterrace  t3_1006qur  2023-01-01 00:40:30   \n",
       "387068    pcmasterrace  t3_1006pzy  2023-01-01 00:39:17   \n",
       "387069    pcmasterrace  t3_1006orx  2023-01-01 00:37:29   \n",
       "387070  linuxquestions  t3_1006n20  2023-01-01 00:34:59   \n",
       "\n",
       "                                                                                                                                                 title  \\\n",
       "0                                                                                                    Nim implementation of Old Dll Unlinking Technique   \n",
       "1                                                                                          How to prevent employees from using unauthorized web tools?   \n",
       "2                                                                   Teams call pop up window blocked by reminders/calendar entries on top right corner   \n",
       "3                                                                                                    Disable middle mouse button drag to other desktop   \n",
       "4                                                                                                                      Playing 4k videos on 2k display   \n",
       "...                                                                                                                                                ...   \n",
       "387066                                                                                                                               Build Almost Done   \n",
       "387067  problem arming pc, I have a Mother a320m-k, ryzen 4650g, and doesnt work the video, the motherboard have Orange leds. Its my first time arming   \n",
       "387068                                                                                                                                   PCMR Truckers   \n",
       "387069                                                                                      New case for Christmas, also spray painted my GPU to match   \n",
       "387070                                                                      Ignore \"not enough space to copy these file\" errors in KDE Plasma/Dolphin?   \n",
       "\n",
       "                                                                                                                                                                                                                                                                                                                                                                                                                                                                                                                                                                                                                                                                                                                                                                                                                                                                                                                                                                                                                                           text  \n",
       "0                                                                                                                                                                                                                                                                                                                                                                                                                                                                                                                                                                                                                                                                                                                                                                                                                                                                                                                                                                                                                                           NaN  \n",
       "1                                                                                                                    I work as an IT manager for a business. Some time ago, a group of my colleagues decided to use a web productivity tool, created accounts using their work emails, and started introducing data.\\n\\nI had no knowledge they had been using such a tool at all. I did not even know it existed.\\n\\nToday, I received an email from my boss asking why an ex-employee still had access to the data in such a web platform, as their account hadn't been deactivated. Needless to say, I don't have access to revoke their account or anything.\\n\\nHow can I prevent them from registering on another unauthorized webpage?\\n\\nI feel like a firewall blacklist would be useless since I would have to be constantly researching and updating it with new tools, and I can't make a whitelist since my company uses a ton of different pages for intense web research.\\n\\nAny help or advice would be appreciated.\\n\\n&#x200B;  \n",
       "2                                                                                                                                                                                                                                                                                                                                                                                                                                                                                                                                                                                                                                                                                                        Hi\\n\\nDo you know this issue that when I have reminders or calendar alarms set to stick to the top right corner, that they then block the notification window for incoming Teams calls.\\n\\nDoes someone know if there is a setting for having the teams call pop up in on another location on the screen or knows another work around?  \n",
       "3                                                                                                                                                                                                                                                                                                                                       So I have been using windows for a while and now I am stumped. The middle mouse button of my logi mouse has the following functionailty: On drage change desktop, on click show all windows. That's nice and all, but I can't use fusion 360 because the dragging functionality is the middle mouse button but that just changes the desktop. How can I disable that?\\n\\n&#x200B;\\n\\nSo I found this, but there is no button selected. If I select the secondary mouse button for example, it will open mission control on both right click and middle mouse button:\\n\\nhttps://preview.redd.it/bmqnrpw0m86c1.png?width=476&format=png&auto=webp&s=97ae662fcca43bf146537393fc6a13705a0a9351\\n\\n&#x200B;  \n",
       "4                                                                                                                                                                                                                                                                                                                                                                                                                                                                                                                                                                                                                                                                                                             Hello guys does playing 4k content on a 2k display has any benefit? For example while playing YouTube videos I set 1440p resolution on my 2k laptop and 2k smartphone despite having a option of selecting 2160p option. So i wanted to ask if i get better video quality if i select 2160p option while playing on a 2k display?  \n",
       "...                                                                                                                                                                                                                                                                                                                                                                                                                                                                                                                                                                                                                                                                                                                                                                                                                                                                                                                                                                                                                                         ...  \n",
       "387066                                                                                                                                                                                                                                                                                                                                                                                                                                                                                                                                                                                                                                                                                                                                                                                                                                                                                                                                               Is this a good build? Any recommendations?\\n\\nBUILD - https://pcpartpicker.com/list/FL6hwc  \n",
       "387067                                                                                                                                                                                                                                                                                                                                                                                                                                                                                                                                                                                                                                                                                                                                                                                                                                                                                                                                                                                                                                      NaN  \n",
       "387068                                                                                                                                                                                                                                                                                                                                                                                                                                                                                                                                                                                                                                                         Those that bring their rigs with them in the truck: \\n\\nHow does the computer fare? \\nIs there any orientation it works better with when you go through the areas with poor maintenance? \\nAnd lastly: if you liquid cool, have you noticed any issues over time?\\n\\nI'm building a new rig here soon and am curious if anything is to note so I don't make a large $$$$ mistake  \n",
       "387069                                                                                                                                                                                                                                                                                                                                                                                                                                                                                                                                                                                                                                                                                                                                                                                                                                                                               Got the Hyte y60 as a gift, what a great case to build in. Running a 5600x with a 3080. The tree probably blocks some airflow but I'll take that tradeoff.  \n",
       "387070  When copying files with Dolphin (KDE Plasma's file manager), if there is not enough free space to copy the incoming files entirely, the file manager refuses to copy even a single file. However, a lot of the time I'll be skipping name conflicts or overwriting existing files with new ones, so either I don't need as much space than it seems to the system, or space is freed up as I copy. Also, KDE seems to have trouble accurately determining the free space on drives on a network file server that I have mounted with SSHFS, so it will say there is not enough space even when there is. \\n\\nIs there a way to get Dolphin to ignore this error and attempt to copy the files anyway? Like the way the cp command does it, where it doesn't really care how much space is on the drive, and will only throw an error if it actually fills up before it's done copying. Or better yet, is there a way to get Dolphin to still warn me about potential space issues, but have the option to ignore it and attempt to c...  \n",
       "\n",
       "[387071 rows x 5 columns]"
      ]
     },
     "execution_count": 8,
     "metadata": {},
     "output_type": "execute_result"
    }
   ],
   "source": [
    "df_reddit = pd.read_csv(file_reddit)\n",
    "df_reddit = df_reddit.drop(columns=['Unnamed: 0', 'json'])\n",
    "df_reddit"
   ]
  },
  {
   "cell_type": "markdown",
   "id": "8ac41545",
   "metadata": {},
   "source": [
    "### Files "
   ]
  },
  {
   "cell_type": "code",
   "execution_count": 9,
   "id": "d7ecdb03",
   "metadata": {},
   "outputs": [],
   "source": [
    "file_files = r'C:\\Users\\\\leona\\\\OneDrive\\\\Desktop\\\\Tesi\\\\Pipeline\\\\Datasets\\\\Pipeline\\\\FileAnalysis\\\\ER_Schema\\\\Entries.csv'\n",
    "attack_files = r'C:\\Users\\\\leona\\\\OneDrive\\\\Desktop\\\\Tesi\\\\Pipeline\\\\Datasets\\\\Pipeline\\\\FileAnalysis\\\\ER_Schema\\\\Attacks.csv'\n",
    "behaviour_files = r'C:\\Users\\\\leona\\\\OneDrive\\\\Desktop\\\\Tesi\\\\Pipeline\\\\Datasets\\\\Pipeline\\\\FileAnalysis\\\\ER_Schema\\\\Behaviours.csv'"
   ]
  },
  {
   "cell_type": "code",
   "execution_count": 10,
   "id": "589cf0b5",
   "metadata": {
    "scrolled": true
   },
   "outputs": [
    {
     "data": {
      "text/html": [
       "<div>\n",
       "<style scoped>\n",
       "    .dataframe tbody tr th:only-of-type {\n",
       "        vertical-align: middle;\n",
       "    }\n",
       "\n",
       "    .dataframe tbody tr th {\n",
       "        vertical-align: top;\n",
       "    }\n",
       "\n",
       "    .dataframe thead th {\n",
       "        text-align: right;\n",
       "    }\n",
       "</style>\n",
       "<table border=\"1\" class=\"dataframe\">\n",
       "  <thead>\n",
       "    <tr style=\"text-align: right;\">\n",
       "      <th></th>\n",
       "      <th>sha1</th>\n",
       "      <th>sha256</th>\n",
       "      <th>md5</th>\n",
       "      <th>analysis_date</th>\n",
       "      <th>file_type</th>\n",
       "      <th>delivery_method</th>\n",
       "      <th>verdict</th>\n",
       "      <th>malware_type</th>\n",
       "      <th>malware</th>\n",
       "    </tr>\n",
       "  </thead>\n",
       "  <tbody>\n",
       "    <tr>\n",
       "      <th>0</th>\n",
       "      <td>411535c9548f86034a6a9a603de521a86a3b5466</td>\n",
       "      <td>04c53261b1220a894a02f5ffb39cdfd73f93481c0b5c8106d21c91b20205c62d</td>\n",
       "      <td>5b5a0225a2b7b9a054417662c733168a</td>\n",
       "      <td>2021-11-09</td>\n",
       "      <td>exe</td>\n",
       "      <td>email attachment</td>\n",
       "      <td>malicious</td>\n",
       "      <td>trojan</td>\n",
       "      <td>remcos</td>\n",
       "    </tr>\n",
       "    <tr>\n",
       "      <th>1</th>\n",
       "      <td>1ad9e9761fd6935c0cf5048c9615d0383baac48e</td>\n",
       "      <td>ac901bf5882f14e9e07235b8488b6479b4519addda6dbfb89147401c1e9e6e4f</td>\n",
       "      <td>da9534900ee0d11c9b30cf33152ea03c</td>\n",
       "      <td>2023-07-19</td>\n",
       "      <td>exe</td>\n",
       "      <td>web download</td>\n",
       "      <td>malicious</td>\n",
       "      <td>trojan</td>\n",
       "      <td>remcos</td>\n",
       "    </tr>\n",
       "    <tr>\n",
       "      <th>2</th>\n",
       "      <td>8ab63abfe58fb218cc001581ac0d9fe38c784157</td>\n",
       "      <td>7f514ed5e1ec262953e6252a4089531c519e95d700c5808415b0f049fc59a5f0</td>\n",
       "      <td>855232a26e8afcd0cca5f816a1919dee</td>\n",
       "      <td>2022-01-04</td>\n",
       "      <td>exe</td>\n",
       "      <td>unknown</td>\n",
       "      <td>malicious</td>\n",
       "      <td>ransomware</td>\n",
       "      <td>remcos</td>\n",
       "    </tr>\n",
       "    <tr>\n",
       "      <th>3</th>\n",
       "      <td>55cbf8dae95d350ad7e5a63b418f6cd203488f51</td>\n",
       "      <td>8b7ae9f195b075a789d6d8277d500d27754bfa3c53ecca8db7beac8ccd07884f</td>\n",
       "      <td>97d9d216f2627cb238ca6637580b1739</td>\n",
       "      <td>2022-02-09</td>\n",
       "      <td>exe</td>\n",
       "      <td>unknown</td>\n",
       "      <td>malicious</td>\n",
       "      <td>trojan</td>\n",
       "      <td>remcos</td>\n",
       "    </tr>\n",
       "    <tr>\n",
       "      <th>4</th>\n",
       "      <td>a2915c1be9e6134b7bf3ca5ca00eeb0c969bedab</td>\n",
       "      <td>6c2a2251861a6d2701814843fadac940cf4d34db9f446f0698352fd866b31739</td>\n",
       "      <td>1b09de36dfe5850d7e3fbd6b39c89a43</td>\n",
       "      <td>2021-02-11</td>\n",
       "      <td>exe</td>\n",
       "      <td>web download</td>\n",
       "      <td>malicious</td>\n",
       "      <td>trojan</td>\n",
       "      <td>generic mg</td>\n",
       "    </tr>\n",
       "    <tr>\n",
       "      <th>...</th>\n",
       "      <td>...</td>\n",
       "      <td>...</td>\n",
       "      <td>...</td>\n",
       "      <td>...</td>\n",
       "      <td>...</td>\n",
       "      <td>...</td>\n",
       "      <td>...</td>\n",
       "      <td>...</td>\n",
       "      <td>...</td>\n",
       "    </tr>\n",
       "    <tr>\n",
       "      <th>2657</th>\n",
       "      <td>6b6955af591154d3f6e2db35ca9904cce7e264b1</td>\n",
       "      <td>3a9d8c693b7dc6a9c2bf876c5626ebd0923e35bd5f698baed248df7f51f67275</td>\n",
       "      <td>03872a722df0b073a84fd1aa45eb9376</td>\n",
       "      <td>2020-02-20</td>\n",
       "      <td>elf</td>\n",
       "      <td>unknown</td>\n",
       "      <td>malicious</td>\n",
       "      <td>worm</td>\n",
       "      <td>agent tesla</td>\n",
       "    </tr>\n",
       "    <tr>\n",
       "      <th>2658</th>\n",
       "      <td>3ab53037e2360c42b57d213234ced58717844a71</td>\n",
       "      <td>5de4932cb0ccab3fec711135cdd1af5a09c26a870bfb2d2adc650d0fdbf16488</td>\n",
       "      <td>e0fea510c784eb0e440e99e53d83d414</td>\n",
       "      <td>2021-07-14</td>\n",
       "      <td>exe</td>\n",
       "      <td>unknown</td>\n",
       "      <td>malicious</td>\n",
       "      <td>spyware</td>\n",
       "      <td>generickd</td>\n",
       "    </tr>\n",
       "    <tr>\n",
       "      <th>2659</th>\n",
       "      <td>4f9b9859a596a8bfdfee516788587ca0c0fb6ae8</td>\n",
       "      <td>f10dd5ce32d72489dd2696e5b58ee115f3cd065969a61a6613cab27bcd57de70</td>\n",
       "      <td>c9f771be253b6ca1d7a808d7d65c5e29</td>\n",
       "      <td>2020-09-08</td>\n",
       "      <td>exe</td>\n",
       "      <td>unknown</td>\n",
       "      <td>malicious</td>\n",
       "      <td>trojan</td>\n",
       "      <td>unknown</td>\n",
       "    </tr>\n",
       "    <tr>\n",
       "      <th>2660</th>\n",
       "      <td>d14540087dd6d350fb49e644e53ccefc0e4c1582</td>\n",
       "      <td>dba8a4717d516772b8cc06bd258265f21f7db6ddab62328917524c5a243c67a1</td>\n",
       "      <td>fe783ff4bccd76cb215ee1f7738d9ed5</td>\n",
       "      <td>2021-12-20</td>\n",
       "      <td>exe</td>\n",
       "      <td>unknown</td>\n",
       "      <td>unknown</td>\n",
       "      <td>unknown</td>\n",
       "      <td>unknown</td>\n",
       "    </tr>\n",
       "    <tr>\n",
       "      <th>2661</th>\n",
       "      <td>98837feaac2ed17b3709e5183b660dd41e7a1e0e</td>\n",
       "      <td>5b37ddd18800dc91071db31b340e8f9997bb89d42d5a194d7ff8c980a54abe89</td>\n",
       "      <td>1b47215513edd622ba825dced07c8969</td>\n",
       "      <td>2021-11-11</td>\n",
       "      <td>exe</td>\n",
       "      <td>unknown</td>\n",
       "      <td>malicious</td>\n",
       "      <td>trojan</td>\n",
       "      <td>crypter gen</td>\n",
       "    </tr>\n",
       "  </tbody>\n",
       "</table>\n",
       "<p>2662 rows × 9 columns</p>\n",
       "</div>"
      ],
      "text/plain": [
       "                                          sha1  \\\n",
       "0     411535c9548f86034a6a9a603de521a86a3b5466   \n",
       "1     1ad9e9761fd6935c0cf5048c9615d0383baac48e   \n",
       "2     8ab63abfe58fb218cc001581ac0d9fe38c784157   \n",
       "3     55cbf8dae95d350ad7e5a63b418f6cd203488f51   \n",
       "4     a2915c1be9e6134b7bf3ca5ca00eeb0c969bedab   \n",
       "...                                        ...   \n",
       "2657  6b6955af591154d3f6e2db35ca9904cce7e264b1   \n",
       "2658  3ab53037e2360c42b57d213234ced58717844a71   \n",
       "2659  4f9b9859a596a8bfdfee516788587ca0c0fb6ae8   \n",
       "2660  d14540087dd6d350fb49e644e53ccefc0e4c1582   \n",
       "2661  98837feaac2ed17b3709e5183b660dd41e7a1e0e   \n",
       "\n",
       "                                                                sha256  \\\n",
       "0     04c53261b1220a894a02f5ffb39cdfd73f93481c0b5c8106d21c91b20205c62d   \n",
       "1     ac901bf5882f14e9e07235b8488b6479b4519addda6dbfb89147401c1e9e6e4f   \n",
       "2     7f514ed5e1ec262953e6252a4089531c519e95d700c5808415b0f049fc59a5f0   \n",
       "3     8b7ae9f195b075a789d6d8277d500d27754bfa3c53ecca8db7beac8ccd07884f   \n",
       "4     6c2a2251861a6d2701814843fadac940cf4d34db9f446f0698352fd866b31739   \n",
       "...                                                                ...   \n",
       "2657  3a9d8c693b7dc6a9c2bf876c5626ebd0923e35bd5f698baed248df7f51f67275   \n",
       "2658  5de4932cb0ccab3fec711135cdd1af5a09c26a870bfb2d2adc650d0fdbf16488   \n",
       "2659  f10dd5ce32d72489dd2696e5b58ee115f3cd065969a61a6613cab27bcd57de70   \n",
       "2660  dba8a4717d516772b8cc06bd258265f21f7db6ddab62328917524c5a243c67a1   \n",
       "2661  5b37ddd18800dc91071db31b340e8f9997bb89d42d5a194d7ff8c980a54abe89   \n",
       "\n",
       "                                   md5 analysis_date file_type  \\\n",
       "0     5b5a0225a2b7b9a054417662c733168a    2021-11-09       exe   \n",
       "1     da9534900ee0d11c9b30cf33152ea03c    2023-07-19       exe   \n",
       "2     855232a26e8afcd0cca5f816a1919dee    2022-01-04       exe   \n",
       "3     97d9d216f2627cb238ca6637580b1739    2022-02-09       exe   \n",
       "4     1b09de36dfe5850d7e3fbd6b39c89a43    2021-02-11       exe   \n",
       "...                                ...           ...       ...   \n",
       "2657  03872a722df0b073a84fd1aa45eb9376    2020-02-20       elf   \n",
       "2658  e0fea510c784eb0e440e99e53d83d414    2021-07-14       exe   \n",
       "2659  c9f771be253b6ca1d7a808d7d65c5e29    2020-09-08       exe   \n",
       "2660  fe783ff4bccd76cb215ee1f7738d9ed5    2021-12-20       exe   \n",
       "2661  1b47215513edd622ba825dced07c8969    2021-11-11       exe   \n",
       "\n",
       "       delivery_method    verdict malware_type      malware  \n",
       "0     email attachment  malicious       trojan       remcos  \n",
       "1         web download  malicious       trojan       remcos  \n",
       "2              unknown  malicious   ransomware       remcos  \n",
       "3              unknown  malicious       trojan       remcos  \n",
       "4         web download  malicious       trojan   generic mg  \n",
       "...                ...        ...          ...          ...  \n",
       "2657           unknown  malicious         worm  agent tesla  \n",
       "2658           unknown  malicious      spyware    generickd  \n",
       "2659           unknown  malicious       trojan      unknown  \n",
       "2660           unknown    unknown      unknown      unknown  \n",
       "2661           unknown  malicious       trojan  crypter gen  \n",
       "\n",
       "[2662 rows x 9 columns]"
      ]
     },
     "execution_count": 10,
     "metadata": {},
     "output_type": "execute_result"
    }
   ],
   "source": [
    "df_files = pd.read_csv(file_files, low_memory = False)\n",
    "#df_files = df_files.drop(columns=['Unnamed: 0'])\n",
    "df_files"
   ]
  },
  {
   "cell_type": "markdown",
   "id": "5c976ab9",
   "metadata": {},
   "source": [
    "### Malwares"
   ]
  },
  {
   "cell_type": "code",
   "execution_count": 11,
   "id": "ca543511",
   "metadata": {},
   "outputs": [
    {
     "data": {
      "text/plain": [
       "['trojan',\n",
       " 'ransomware',\n",
       " 'adware',\n",
       " 'worm',\n",
       " 'dropper',\n",
       " 'rootkit',\n",
       " 'spyware',\n",
       " 'keylogger',\n",
       " 'backdoor',\n",
       " 'downloader',\n",
       " 'botnet']"
      ]
     },
     "execution_count": 11,
     "metadata": {},
     "output_type": "execute_result"
    }
   ],
   "source": [
    "all_malware_types_list = list(df_files.malware_type.unique())\n",
    "all_malware_types_list = [item for item in all_malware_types_list if item != 'unknown']\n",
    "\n",
    "all_malware_types_list"
   ]
  },
  {
   "cell_type": "markdown",
   "id": "03f6cc08",
   "metadata": {},
   "source": [
    "#### Malwares"
   ]
  },
  {
   "cell_type": "code",
   "execution_count": 12,
   "id": "f336b70b",
   "metadata": {},
   "outputs": [
    {
     "data": {
      "text/plain": [
       "['remcos',\n",
       " 'generic mg',\n",
       " 'njrat',\n",
       " 'bitrat',\n",
       " 'mirai',\n",
       " 'injector gen',\n",
       " 'generickd',\n",
       " 'quasar rat',\n",
       " 'muldrop',\n",
       " 'netwire',\n",
       " 'ave maria',\n",
       " 'script cryxos',\n",
       " 'downloader gen',\n",
       " 'orcus',\n",
       " 'x gen drp',\n",
       " 'agent tesla',\n",
       " 'nanocore rat',\n",
       " 'redline stealer',\n",
       " 'lumma stealer',\n",
       " 'siggen',\n",
       " 'spynote',\n",
       " 'kryptik gen',\n",
       " 'obfus',\n",
       " 'kryptik gen eldorado',\n",
       " 'valyria',\n",
       " 'artemis',\n",
       " 'twave evil',\n",
       " 'java gen',\n",
       " 'borlanddelphi',\n",
       " 'cobalt strike',\n",
       " 'aidetect net',\n",
       " 'miscreantpunch',\n",
       " 'perseus',\n",
       " 'behaveslike generic',\n",
       " 'heracles',\n",
       " 'darkcomet',\n",
       " 'crypter gen',\n",
       " 'wannacryptor',\n",
       " 'formbook',\n",
       " 'azorult',\n",
       " 'genmalicious',\n",
       " 'bv downloader drp',\n",
       " 'evo gen',\n",
       " 'ddos',\n",
       " 'gafgyt',\n",
       " 'keylogger gen',\n",
       " 'cve exploit',\n",
       " 'banker gen',\n",
       " 'autoit',\n",
       " 'exploitx',\n",
       " 'coinminer generic',\n",
       " 'loki password stealer  pws',\n",
       " 'meterpreter',\n",
       " 'crimson rat',\n",
       " 'nanobot',\n",
       " 'ghost rat']"
      ]
     },
     "execution_count": 12,
     "metadata": {},
     "output_type": "execute_result"
    }
   ],
   "source": [
    "all_malware_list = list(df_files.malware.unique())\n",
    "all_malware_list = [item for item in all_malware_list if (item != 'unknown') & (item != 'malware_tag')]\n",
    "all_malware_list"
   ]
  },
  {
   "cell_type": "markdown",
   "id": "9a67df1c",
   "metadata": {},
   "source": [
    "#### Delivery Methods"
   ]
  },
  {
   "cell_type": "code",
   "execution_count": 13,
   "id": "4600cac9",
   "metadata": {},
   "outputs": [
    {
     "data": {
      "text/plain": [
       "['email attachment', 'web download', 'email link']"
      ]
     },
     "execution_count": 13,
     "metadata": {},
     "output_type": "execute_result"
    }
   ],
   "source": [
    "all_delivery_method_list = list(df_files.delivery_method.unique())\n",
    "all_delivery_method_list = [ item for item in all_delivery_method_list if (item != 'unknown') ]\n",
    "all_delivery_method_list"
   ]
  },
  {
   "cell_type": "markdown",
   "id": "fd527b44",
   "metadata": {},
   "source": [
    "#### Behaviours"
   ]
  },
  {
   "cell_type": "code",
   "execution_count": 14,
   "id": "e667156c",
   "metadata": {},
   "outputs": [
    {
     "data": {
      "text/html": [
       "<div>\n",
       "<style scoped>\n",
       "    .dataframe tbody tr th:only-of-type {\n",
       "        vertical-align: middle;\n",
       "    }\n",
       "\n",
       "    .dataframe tbody tr th {\n",
       "        vertical-align: top;\n",
       "    }\n",
       "\n",
       "    .dataframe thead th {\n",
       "        text-align: right;\n",
       "    }\n",
       "</style>\n",
       "<table border=\"1\" class=\"dataframe\">\n",
       "  <thead>\n",
       "    <tr style=\"text-align: right;\">\n",
       "      <th></th>\n",
       "      <th>sha1</th>\n",
       "      <th>sha256</th>\n",
       "      <th>md5</th>\n",
       "      <th>action_name</th>\n",
       "      <th>action_description</th>\n",
       "      <th>maliciousness_level</th>\n",
       "      <th>area</th>\n",
       "    </tr>\n",
       "  </thead>\n",
       "  <tbody>\n",
       "    <tr>\n",
       "      <th>0</th>\n",
       "      <td>007416f9ba10d2e2951a9dcd104b7206ad20d433</td>\n",
       "      <td>094b57a07096fb1f866a104c0b14c84aa99815b613587780765c8c6cd6ef1a42</td>\n",
       "      <td>7baa4836bd81113c16960501f679a81b</td>\n",
       "      <td>antidebug guardpages</td>\n",
       "      <td>guard pages use detected - possible anti-debugging.</td>\n",
       "      <td>neutral</td>\n",
       "      <td>System Processes</td>\n",
       "    </tr>\n",
       "    <tr>\n",
       "      <th>1</th>\n",
       "      <td>007416f9ba10d2e2951a9dcd104b7206ad20d433</td>\n",
       "      <td>094b57a07096fb1f866a104c0b14c84aa99815b613587780765c8c6cd6ef1a42</td>\n",
       "      <td>7baa4836bd81113c16960501f679a81b</td>\n",
       "      <td>antidebug setunhandledexceptionfilter</td>\n",
       "      <td>setunhandledexceptionfilter detected (possible anti-debug)</td>\n",
       "      <td>neutral</td>\n",
       "      <td>System Processes</td>\n",
       "    </tr>\n",
       "    <tr>\n",
       "      <th>2</th>\n",
       "      <td>007416f9ba10d2e2951a9dcd104b7206ad20d433</td>\n",
       "      <td>094b57a07096fb1f866a104c0b14c84aa99815b613587780765c8c6cd6ef1a42</td>\n",
       "      <td>7baa4836bd81113c16960501f679a81b</td>\n",
       "      <td>cape detected threat</td>\n",
       "      <td>cape detected the asyncrat malware</td>\n",
       "      <td>suspicious</td>\n",
       "      <td>Network Activity</td>\n",
       "    </tr>\n",
       "    <tr>\n",
       "      <th>3</th>\n",
       "      <td>007416f9ba10d2e2951a9dcd104b7206ad20d433</td>\n",
       "      <td>094b57a07096fb1f866a104c0b14c84aa99815b613587780765c8c6cd6ef1a42</td>\n",
       "      <td>7baa4836bd81113c16960501f679a81b</td>\n",
       "      <td>cmdline terminate</td>\n",
       "      <td>executed a command line with /c or /r argument to terminate command shell on completion which can be used to hide execution</td>\n",
       "      <td>neutral</td>\n",
       "      <td>System Processes</td>\n",
       "    </tr>\n",
       "    <tr>\n",
       "      <th>4</th>\n",
       "      <td>007416f9ba10d2e2951a9dcd104b7206ad20d433</td>\n",
       "      <td>094b57a07096fb1f866a104c0b14c84aa99815b613587780765c8c6cd6ef1a42</td>\n",
       "      <td>7baa4836bd81113c16960501f679a81b</td>\n",
       "      <td>dead connect</td>\n",
       "      <td>attempts to connect to a dead ip:port (1 unique times)</td>\n",
       "      <td>neutral</td>\n",
       "      <td>Network Communications</td>\n",
       "    </tr>\n",
       "  </tbody>\n",
       "</table>\n",
       "</div>"
      ],
      "text/plain": [
       "                                       sha1  \\\n",
       "0  007416f9ba10d2e2951a9dcd104b7206ad20d433   \n",
       "1  007416f9ba10d2e2951a9dcd104b7206ad20d433   \n",
       "2  007416f9ba10d2e2951a9dcd104b7206ad20d433   \n",
       "3  007416f9ba10d2e2951a9dcd104b7206ad20d433   \n",
       "4  007416f9ba10d2e2951a9dcd104b7206ad20d433   \n",
       "\n",
       "                                                             sha256  \\\n",
       "0  094b57a07096fb1f866a104c0b14c84aa99815b613587780765c8c6cd6ef1a42   \n",
       "1  094b57a07096fb1f866a104c0b14c84aa99815b613587780765c8c6cd6ef1a42   \n",
       "2  094b57a07096fb1f866a104c0b14c84aa99815b613587780765c8c6cd6ef1a42   \n",
       "3  094b57a07096fb1f866a104c0b14c84aa99815b613587780765c8c6cd6ef1a42   \n",
       "4  094b57a07096fb1f866a104c0b14c84aa99815b613587780765c8c6cd6ef1a42   \n",
       "\n",
       "                                md5                            action_name  \\\n",
       "0  7baa4836bd81113c16960501f679a81b                   antidebug guardpages   \n",
       "1  7baa4836bd81113c16960501f679a81b  antidebug setunhandledexceptionfilter   \n",
       "2  7baa4836bd81113c16960501f679a81b                   cape detected threat   \n",
       "3  7baa4836bd81113c16960501f679a81b                      cmdline terminate   \n",
       "4  7baa4836bd81113c16960501f679a81b                           dead connect   \n",
       "\n",
       "                                                                                                            action_description  \\\n",
       "0                                                                          guard pages use detected - possible anti-debugging.   \n",
       "1                                                                   setunhandledexceptionfilter detected (possible anti-debug)   \n",
       "2                                                                                           cape detected the asyncrat malware   \n",
       "3  executed a command line with /c or /r argument to terminate command shell on completion which can be used to hide execution   \n",
       "4                                                                       attempts to connect to a dead ip:port (1 unique times)   \n",
       "\n",
       "  maliciousness_level                    area  \n",
       "0             neutral        System Processes  \n",
       "1             neutral        System Processes  \n",
       "2          suspicious        Network Activity  \n",
       "3             neutral        System Processes  \n",
       "4             neutral  Network Communications  "
      ]
     },
     "execution_count": 14,
     "metadata": {},
     "output_type": "execute_result"
    }
   ],
   "source": [
    "behaviours = pd.read_csv(behaviour_files)\n",
    "#behaviours = behaviours.drop(columns=['Unnamed: 0'])\n",
    "behaviours.head()"
   ]
  },
  {
   "cell_type": "code",
   "execution_count": 15,
   "id": "111e57f5",
   "metadata": {},
   "outputs": [
    {
     "data": {
      "text/plain": [
       "['antidebug guardpages',\n",
       " 'antidebug setunhandledexceptionfilter',\n",
       " 'cape detected threat',\n",
       " 'cmdline terminate',\n",
       " 'dead connect',\n",
       " 'deletes executed files',\n",
       " 'dynamic function loading',\n",
       " 'injection rwx',\n",
       " 'persistence autorun tasks',\n",
       " 'process creation suspicious location',\n",
       " 'reads self',\n",
       " 'stealth timeout',\n",
       " 'stealth window',\n",
       " 'suspicious command tools',\n",
       " 'uses windows utilities',\n",
       " 'uses windows utilities to create scheduled task',\n",
       " 'allocates execute remote process',\n",
       " 'allocates rwx',\n",
       " 'antivm memory available',\n",
       " 'antivm network adapters',\n",
       " 'antivm queries computername',\n",
       " 'checks debugger',\n",
       " 'creates exe',\n",
       " 'dead host',\n",
       " 'dumped buffer',\n",
       " 'exe appdata',\n",
       " 'generates crypto key',\n",
       " 'has pdb',\n",
       " 'injection ntsetcontextthread',\n",
       " 'injection resumethread',\n",
       " 'injection runpe',\n",
       " 'injection write memory',\n",
       " 'injection write memory exe',\n",
       " 'nolookup communication',\n",
       " 'packer entropy',\n",
       " 'persistence autorun',\n",
       " 'privilege luid check',\n",
       " 'removes zoneid ads',\n",
       " 'schtask create',\n",
       " 'suspicious process',\n",
       " 'network icmp',\n",
       " 'osquery detection',\n",
       " 'dumped buffer2',\n",
       " 'infostealer keylogger',\n",
       " 'networkdyndns checkip',\n",
       " 'nids alert',\n",
       " 'infostealer ftp',\n",
       " 'queries programs',\n",
       " 'raises exception',\n",
       " 'recon programs',\n",
       " 'antisandbox sleep',\n",
       " 'console output',\n",
       " 'packer polymorphic',\n",
       " 'protection rx',\n",
       " 'antisandbox foregroundwindows',\n",
       " 'process martian',\n",
       " 'suspicious write exe',\n",
       " 'antisandbox idletime',\n",
       " 'antisandbox mouse hook',\n",
       " 'pe features',\n",
       " 'powershell reg add',\n",
       " 'infostealer browser',\n",
       " 'infostealer im',\n",
       " 'infostealer mail',\n",
       " 'injection process search',\n",
       " 'locates browser',\n",
       " 'network downloader exe',\n",
       " 'infostealer keylog',\n",
       " 'ransomware file modifications',\n",
       " 'disables security',\n",
       " 'dropper',\n",
       " 'creates hidden file',\n",
       " 'document open',\n",
       " 'network cnc http',\n",
       " 'network http',\n",
       " 'nids malware alert',\n",
       " 'stealth system procname',\n",
       " 'network multiple direct ip connections',\n",
       " 'accesses recyclebin',\n",
       " 'anomalous deletefile',\n",
       " 'antivm generic bios',\n",
       " 'antivm generic disk',\n",
       " 'creates largekey',\n",
       " 'enumerates physical drives',\n",
       " 'exec crash',\n",
       " 'infostealer cookies',\n",
       " 'injection inter process',\n",
       " 'injection process hollowing',\n",
       " 'modify desktop wallpaper',\n",
       " 'physical drive access',\n",
       " 'powershell request',\n",
       " 'recon fingerprint',\n",
       " 'terminates remote process',\n",
       " 'antivm generic services',\n",
       " 'modifies proxy wpad',\n",
       " 'http request',\n",
       " 'infostealer bitcoin',\n",
       " 'network cnc https generic',\n",
       " 'network dyndns',\n",
       " 'powershell download',\n",
       " 'procmem yara',\n",
       " 'recon checkip',\n",
       " 'antivm disk size',\n",
       " 'origin langid',\n",
       " 'peid packer',\n",
       " 'antidbg windows',\n",
       " 'antivm vmware in instruction',\n",
       " 'injection network trafic',\n",
       " 'process interest',\n",
       " 'stealth hiddenfile',\n",
       " 'stops service',\n",
       " 'https urls',\n",
       " 'injection createremotethread',\n",
       " 'injection modifies memory',\n",
       " 'multiple useragents',\n",
       " 'antivm generic cpu',\n",
       " 'persistence ads',\n",
       " 'registry credential store access',\n",
       " 'cloud google',\n",
       " 'rat spynet',\n",
       " 'creates shortcut',\n",
       " 'encrypt pcinfo',\n",
       " 'suricata alert',\n",
       " 'disables proxy',\n",
       " 'has wmi',\n",
       " 'network bind',\n",
       " 'process needed',\n",
       " 'ransomware appends extensions',\n",
       " 'ransomware file moves',\n",
       " 'rat teamviewer',\n",
       " 'wmi antivm',\n",
       " 'pe unknown resource name',\n",
       " 'modifies certificates',\n",
       " 'powershell dfsp',\n",
       " 'suspicious powershell',\n",
       " 'antiemu wine',\n",
       " 'antivm generic scsi',\n",
       " 'antivm vbox keys',\n",
       " 'antivm vmware keys',\n",
       " 'creates service',\n",
       " 'cape extracted content',\n",
       " 'injection create remote thread',\n",
       " 'rat nanocore',\n",
       " 'spawns dev util',\n",
       " 'packer upx',\n",
       " 'accesses public folder',\n",
       " 'encrypted ioc',\n",
       " 'antiav detectfile',\n",
       " 'tcp syn scan',\n",
       " 'powershell command suspicious',\n",
       " 'powershell scriptblock logging',\n",
       " 'script tool executed',\n",
       " 'ransomware extensions',\n",
       " 'suspicious tld',\n",
       " 'remcos files',\n",
       " 'remcos mutexes',\n",
       " 'remcos regkeys',\n",
       " 'antidbg devices',\n",
       " 'cybergate',\n",
       " 'antisandbox unhook',\n",
       " 'creates doc',\n",
       " 'locker taskmgr',\n",
       " 'darkcomet regkeys',\n",
       " 'deletes self',\n",
       " 'dotnet csc build',\n",
       " 'network dns reverse proxy',\n",
       " 'rat fynloski mutexes',\n",
       " 'sysinternals tools usage',\n",
       " 'modifies security center warnings',\n",
       " 'rat fynloski',\n",
       " 'p2p cnc',\n",
       " 'writes to stdout',\n",
       " 'network document file',\n",
       " 'network http post',\n",
       " 'rat bifrose',\n",
       " 'antisandbox sboxie libs',\n",
       " 'dll load uncommon file types',\n",
       " 'moves self',\n",
       " 'persistence registry javascript',\n",
       " 'persistence registry powershell',\n",
       " 'network irc',\n",
       " 'process crash',\n",
       " 'antiav avast libs',\n",
       " 'applcation raises exception',\n",
       " 'creates user folder exe',\n",
       " 'enumerates running processes',\n",
       " 'spooler svc start',\n",
       " 'stealth hiddenreg',\n",
       " 'stealth network',\n",
       " 'rat quasar mutexes',\n",
       " 'sniffer winpcap',\n",
       " 'banker bancos',\n",
       " 'network fake useragent',\n",
       " 'network questionable http path',\n",
       " 'stop ransom mutexes',\n",
       " 'stop ransomware cmd',\n",
       " 'stop ransomware registry',\n",
       " 'disables uac',\n",
       " 'script created process',\n",
       " 'nids exploit alert',\n",
       " 'long commandline',\n",
       " 'antivm firmware',\n",
       " 'modifies zoneid',\n",
       " 'disables windows defender',\n",
       " 'network cnc https free webshoting',\n",
       " 'network cnc https socialmedia',\n",
       " 'network ip exe',\n",
       " 'venomrat mutexes',\n",
       " 'virus',\n",
       " 'malicious document urls',\n",
       " 'network wscript downloader',\n",
       " 'bladabindi mutexes',\n",
       " 'ransomware mass file delete',\n",
       " 'netwire',\n",
       " 'antisandbox suspend',\n",
       " 'network dns paste site',\n",
       " 'antivm generic system',\n",
       " 'warzonerat files',\n",
       " 'windows defender powershell',\n",
       " 'antivm vbox files',\n",
       " 'antivm vmware files',\n",
       " 'bypass firewall',\n",
       " 'injection network traffic',\n",
       " 'modify security center warnings',\n",
       " 'rat sdbot',\n",
       " 'antidebug ntsetinformationthread',\n",
       " 'antiav detectreg',\n",
       " 'network dns blockchain',\n",
       " 'rtf unknown character set',\n",
       " 'network cnc https payload',\n",
       " 'renostrojan',\n",
       " 'plugx',\n",
       " 'network tor',\n",
       " 'js eval',\n",
       " 'antiemu wine func',\n",
       " 'injection queueapcthread',\n",
       " 'njrat regkeys',\n",
       " 'disables system restore',\n",
       " 'accesses netlogon regkey',\n",
       " 'createtoolhelp32snapshot module enumeration',\n",
       " 'mimics agent',\n",
       " 'suspicious ping use',\n",
       " 'uses windows utilities nltest',\n",
       " 'spreading autoruninf',\n",
       " 'antivm vbox devices',\n",
       " 'rat rbot',\n",
       " 'network excessive udp',\n",
       " 'chmod 777 perm',\n",
       " 'browser security',\n",
       " 'detect putty',\n",
       " 'memdump urls',\n",
       " 'ransomware dropped files',\n",
       " 'rat xtreme',\n",
       " 'modify uac prompt',\n",
       " 'packer vmprotect',\n",
       " 'banker zeus p2p',\n",
       " 'orcusrat behavior',\n",
       " 'exploit heapspray',\n",
       " 'persists dev util',\n",
       " 'rtf unknown version',\n",
       " 'antisandbox sunbelt libs',\n",
       " 'network anomaly',\n",
       " 'spoofs procname',\n",
       " 'antidebug windows',\n",
       " 'recon beacon',\n",
       " 'network cnc https pastesite',\n",
       " 'suspicious certutil use',\n",
       " 'alters windows utility',\n",
       " 'powershell renamed',\n",
       " 'nitol',\n",
       " 'warzonerat regkeys',\n",
       " 'exec waitfor',\n",
       " 'martian command process',\n",
       " 'antivirus virustotal',\n",
       " 'banker zeus mutex',\n",
       " 'copies self',\n",
       " 'cryptopool domains',\n",
       " 'antiav servicestop',\n",
       " 'masquerade process name',\n",
       " 'antivm sandboxie',\n",
       " 'recon systeminfo',\n",
       " 'modify certs',\n",
       " 'cryptomining stratum command',\n",
       " 'network dns txt lookup',\n",
       " 'antisandbox file',\n",
       " 'antisandbox joe anubis files',\n",
       " 'captures screenshot',\n",
       " 'netwire behavior',\n",
       " 'cypherit mutexes',\n",
       " 'network dga',\n",
       " 'stealth childproc',\n",
       " 'cmdline long string',\n",
       " 'crontab persistency',\n",
       " 'antivm generic diskreg',\n",
       " 'win32 process create',\n",
       " 'suspicious js script',\n",
       " 'cmdline obfuscation',\n",
       " 'cmdline http link',\n",
       " 'network cnc https opensource',\n",
       " 'antisandbox cuckoo files',\n",
       " 'blackrat apis',\n",
       " 'persistence registry exe',\n",
       " 'trojan jorik',\n",
       " 'andromeda',\n",
       " 'uses powershell copyitem',\n",
       " 'polymorphic',\n",
       " 'stealth hidden extension',\n",
       " 'network cnc https useragent',\n",
       " 'browser helper object',\n",
       " 'browser startpage',\n",
       " 'dns freehosting domain',\n",
       " 'packer themida',\n",
       " 'dyreza',\n",
       " 'upatre',\n",
       " 'modify proxy',\n",
       " 'static pe anomaly',\n",
       " 'stealth file',\n",
       " 'powershell network connection',\n",
       " 'disables windows file protection',\n",
       " 'antidebug devices',\n",
       " 'antiemu wine reg',\n",
       " 'rat buzus mutexes',\n",
       " 'office cve2017 11882 network']"
      ]
     },
     "execution_count": 15,
     "metadata": {},
     "output_type": "execute_result"
    }
   ],
   "source": [
    "all_behaviours_name_list = list(behaviours.action_name.unique())\n",
    "all_behaviours_name_list = [ item for item in all_behaviours_name_list if (item != 'unknown') ]\n",
    "all_behaviours_name_list"
   ]
  },
  {
   "cell_type": "markdown",
   "id": "2e3f8788",
   "metadata": {},
   "source": [
    "#### Attacks"
   ]
  },
  {
   "cell_type": "code",
   "execution_count": 16,
   "id": "3afab840",
   "metadata": {},
   "outputs": [
    {
     "data": {
      "text/html": [
       "<div>\n",
       "<style scoped>\n",
       "    .dataframe tbody tr th:only-of-type {\n",
       "        vertical-align: middle;\n",
       "    }\n",
       "\n",
       "    .dataframe tbody tr th {\n",
       "        vertical-align: top;\n",
       "    }\n",
       "\n",
       "    .dataframe thead th {\n",
       "        text-align: right;\n",
       "    }\n",
       "</style>\n",
       "<table border=\"1\" class=\"dataframe\">\n",
       "  <thead>\n",
       "    <tr style=\"text-align: right;\">\n",
       "      <th></th>\n",
       "      <th>sha1</th>\n",
       "      <th>sha256</th>\n",
       "      <th>md5</th>\n",
       "      <th>attack_id</th>\n",
       "      <th>attack_name</th>\n",
       "      <th>attack_type</th>\n",
       "    </tr>\n",
       "  </thead>\n",
       "  <tbody>\n",
       "    <tr>\n",
       "      <th>0</th>\n",
       "      <td>713a00b13a87c52b43404cd32d0f4645844709d9</td>\n",
       "      <td>3b96a384f9989f28315eb374eae991e70ed07b88665cbf831f24bd574502feac</td>\n",
       "      <td>97ad0714b0245825407dd25d7d168d31</td>\n",
       "      <td>T1060</td>\n",
       "      <td>Registry Run Keys / Start Folder</td>\n",
       "      <td>Installation</td>\n",
       "    </tr>\n",
       "    <tr>\n",
       "      <th>1</th>\n",
       "      <td>713a00b13a87c52b43404cd32d0f4645844709d9</td>\n",
       "      <td>3b96a384f9989f28315eb374eae991e70ed07b88665cbf831f24bd574502feac</td>\n",
       "      <td>97ad0714b0245825407dd25d7d168d31</td>\n",
       "      <td>T1056</td>\n",
       "      <td>Input Capture</td>\n",
       "      <td>Objectives</td>\n",
       "    </tr>\n",
       "    <tr>\n",
       "      <th>2</th>\n",
       "      <td>e900de5aea86567fadc7507a6811596eb4b86a14</td>\n",
       "      <td>3363270a2950c8518e7883ea147b3f947b3a96aa31d37a990c73f975946335ce</td>\n",
       "      <td>e076afd88fe6a708d91a3f771754e860</td>\n",
       "      <td>T1060</td>\n",
       "      <td>Registry Run Keys / Start Folder</td>\n",
       "      <td>Installation</td>\n",
       "    </tr>\n",
       "    <tr>\n",
       "      <th>3</th>\n",
       "      <td>12d263832d7f08122fbfc4431da22016e0823539</td>\n",
       "      <td>cf1260b1d0686dbee4a5c9e3bcd09eff07bfae0a53d17356b72150f59ad1a497</td>\n",
       "      <td>497d3c4d08b80e03f622064dced10135</td>\n",
       "      <td>T1119</td>\n",
       "      <td>Automated Collection</td>\n",
       "      <td>Objectives</td>\n",
       "    </tr>\n",
       "    <tr>\n",
       "      <th>4</th>\n",
       "      <td>12d263832d7f08122fbfc4431da22016e0823539</td>\n",
       "      <td>cf1260b1d0686dbee4a5c9e3bcd09eff07bfae0a53d17356b72150f59ad1a497</td>\n",
       "      <td>497d3c4d08b80e03f622064dced10135</td>\n",
       "      <td>T1045</td>\n",
       "      <td>Software Packing</td>\n",
       "      <td>Installation</td>\n",
       "    </tr>\n",
       "  </tbody>\n",
       "</table>\n",
       "</div>"
      ],
      "text/plain": [
       "                                       sha1  \\\n",
       "0  713a00b13a87c52b43404cd32d0f4645844709d9   \n",
       "1  713a00b13a87c52b43404cd32d0f4645844709d9   \n",
       "2  e900de5aea86567fadc7507a6811596eb4b86a14   \n",
       "3  12d263832d7f08122fbfc4431da22016e0823539   \n",
       "4  12d263832d7f08122fbfc4431da22016e0823539   \n",
       "\n",
       "                                                             sha256  \\\n",
       "0  3b96a384f9989f28315eb374eae991e70ed07b88665cbf831f24bd574502feac   \n",
       "1  3b96a384f9989f28315eb374eae991e70ed07b88665cbf831f24bd574502feac   \n",
       "2  3363270a2950c8518e7883ea147b3f947b3a96aa31d37a990c73f975946335ce   \n",
       "3  cf1260b1d0686dbee4a5c9e3bcd09eff07bfae0a53d17356b72150f59ad1a497   \n",
       "4  cf1260b1d0686dbee4a5c9e3bcd09eff07bfae0a53d17356b72150f59ad1a497   \n",
       "\n",
       "                                md5 attack_id  \\\n",
       "0  97ad0714b0245825407dd25d7d168d31     T1060   \n",
       "1  97ad0714b0245825407dd25d7d168d31     T1056   \n",
       "2  e076afd88fe6a708d91a3f771754e860     T1060   \n",
       "3  497d3c4d08b80e03f622064dced10135     T1119   \n",
       "4  497d3c4d08b80e03f622064dced10135     T1045   \n",
       "\n",
       "                        attack_name   attack_type  \n",
       "0  Registry Run Keys / Start Folder  Installation  \n",
       "1                     Input Capture    Objectives  \n",
       "2  Registry Run Keys / Start Folder  Installation  \n",
       "3              Automated Collection    Objectives  \n",
       "4                  Software Packing  Installation  "
      ]
     },
     "execution_count": 16,
     "metadata": {},
     "output_type": "execute_result"
    }
   ],
   "source": [
    "attacks = pd.read_csv(attack_files)\n",
    "#attacks = attacks.drop(columns=['Unnamed: 0'])\n",
    "attacks.head()"
   ]
  },
  {
   "cell_type": "code",
   "execution_count": 17,
   "id": "cb17b3e0",
   "metadata": {},
   "outputs": [
    {
     "data": {
      "text/plain": [
       "['Registry Run Keys',\n",
       " 'Start Folder',\n",
       " 'Input Capture',\n",
       " 'Automated Collection',\n",
       " 'Software Packing',\n",
       " 'Process Discovery',\n",
       " 'Defense Evasion, Privilege Escalation',\n",
       " 'Masquerading',\n",
       " 'Disable Security Software',\n",
       " 'Windows Management Instrumentation',\n",
       " 'Install New Service',\n",
       " 'Security Software Discovery',\n",
       " 'T1060',\n",
       " 'T1056',\n",
       " 'T1119',\n",
       " 'T1045',\n",
       " 'T1057',\n",
       " 'T1055',\n",
       " 'T1036',\n",
       " '578',\n",
       " 'T1047',\n",
       " '550',\n",
       " 'T1063']"
      ]
     },
     "execution_count": 17,
     "metadata": {},
     "output_type": "execute_result"
    }
   ],
   "source": [
    "all_attack_name_list = list(attacks.attack_name.unique()) + list(attacks.attack_id.unique())\n",
    "all_attack_name_list = [ item for item in all_attack_name_list if (item != 'unknown') ]\n",
    "new_list = []\n",
    "\n",
    "for element in all_attack_name_list:\n",
    "    if '/' in element:\n",
    "        parts = element.split('/')\n",
    "        # Add non-empty parts after removing leading and trailing spaces\n",
    "        new_list.extend([part.strip() for part in parts if part])\n",
    "    else:\n",
    "        # If there is no '/', simply add the element after removing leading and trailing spaces\n",
    "        new_list.append(element.strip())\n",
    "\n",
    "all_attack_name_list = new_list\n",
    "all_attack_name_list\n"
   ]
  },
  {
   "cell_type": "markdown",
   "id": "131548a7",
   "metadata": {},
   "source": [
    "### Lemmatization"
   ]
  },
  {
   "cell_type": "code",
   "execution_count": 18,
   "id": "d2a0b362",
   "metadata": {},
   "outputs": [
    {
     "name": "stdout",
     "output_type": "stream",
     "text": [
      "Requirement already satisfied: spacy in c:\\users\\leona\\anaconda3\\lib\\site-packages (3.7.2)Note: you may need to restart the kernel to use updated packages.\n",
      "\n",
      "Requirement already satisfied: spacy-legacy<3.1.0,>=3.0.11 in c:\\users\\leona\\anaconda3\\lib\\site-packages (from spacy) (3.0.12)\n",
      "Requirement already satisfied: spacy-loggers<2.0.0,>=1.0.0 in c:\\users\\leona\\anaconda3\\lib\\site-packages (from spacy) (1.0.5)\n",
      "Requirement already satisfied: murmurhash<1.1.0,>=0.28.0 in c:\\users\\leona\\anaconda3\\lib\\site-packages (from spacy) (1.0.10)\n",
      "Requirement already satisfied: cymem<2.1.0,>=2.0.2 in c:\\users\\leona\\anaconda3\\lib\\site-packages (from spacy) (2.0.8)\n",
      "Requirement already satisfied: preshed<3.1.0,>=3.0.2 in c:\\users\\leona\\anaconda3\\lib\\site-packages (from spacy) (3.0.9)\n",
      "Requirement already satisfied: thinc<8.3.0,>=8.1.8 in c:\\users\\leona\\anaconda3\\lib\\site-packages (from spacy) (8.2.2)\n",
      "Requirement already satisfied: wasabi<1.2.0,>=0.9.1 in c:\\users\\leona\\anaconda3\\lib\\site-packages (from spacy) (1.1.2)\n",
      "Requirement already satisfied: srsly<3.0.0,>=2.4.3 in c:\\users\\leona\\anaconda3\\lib\\site-packages (from spacy) (2.4.8)\n",
      "Requirement already satisfied: catalogue<2.1.0,>=2.0.6 in c:\\users\\leona\\anaconda3\\lib\\site-packages (from spacy) (2.0.10)\n",
      "Requirement already satisfied: weasel<0.4.0,>=0.1.0 in c:\\users\\leona\\anaconda3\\lib\\site-packages (from spacy) (0.3.4)\n",
      "Requirement already satisfied: typer<0.10.0,>=0.3.0 in c:\\users\\leona\\anaconda3\\lib\\site-packages (from spacy) (0.9.0)\n",
      "Requirement already satisfied: smart-open<7.0.0,>=5.2.1 in c:\\users\\leona\\anaconda3\\lib\\site-packages (from spacy) (5.2.1)\n",
      "Requirement already satisfied: tqdm<5.0.0,>=4.38.0 in c:\\users\\leona\\anaconda3\\lib\\site-packages (from spacy) (4.65.0)\n",
      "Requirement already satisfied: requests<3.0.0,>=2.13.0 in c:\\users\\leona\\anaconda3\\lib\\site-packages (from spacy) (2.31.0)\n",
      "Requirement already satisfied: pydantic!=1.8,!=1.8.1,<3.0.0,>=1.7.4 in c:\\users\\leona\\anaconda3\\lib\\site-packages (from spacy) (2.5.3)\n",
      "Requirement already satisfied: jinja2 in c:\\users\\leona\\anaconda3\\lib\\site-packages (from spacy) (3.1.2)\n",
      "Requirement already satisfied: setuptools in c:\\users\\leona\\anaconda3\\lib\\site-packages (from spacy) (68.0.0)\n",
      "Requirement already satisfied: packaging>=20.0 in c:\\users\\leona\\anaconda3\\lib\\site-packages (from spacy) (23.1)\n",
      "Requirement already satisfied: langcodes<4.0.0,>=3.2.0 in c:\\users\\leona\\anaconda3\\lib\\site-packages (from spacy) (3.3.0)\n",
      "Requirement already satisfied: numpy>=1.19.0 in c:\\users\\leona\\anaconda3\\lib\\site-packages (from spacy) (1.23.5)\n",
      "Requirement already satisfied: annotated-types>=0.4.0 in c:\\users\\leona\\anaconda3\\lib\\site-packages (from pydantic!=1.8,!=1.8.1,<3.0.0,>=1.7.4->spacy) (0.6.0)\n",
      "Requirement already satisfied: pydantic-core==2.14.6 in c:\\users\\leona\\anaconda3\\lib\\site-packages (from pydantic!=1.8,!=1.8.1,<3.0.0,>=1.7.4->spacy) (2.14.6)\n",
      "Requirement already satisfied: typing-extensions>=4.6.1 in c:\\users\\leona\\anaconda3\\lib\\site-packages (from pydantic!=1.8,!=1.8.1,<3.0.0,>=1.7.4->spacy) (4.7.1)\n",
      "Requirement already satisfied: charset-normalizer<4,>=2 in c:\\users\\leona\\anaconda3\\lib\\site-packages (from requests<3.0.0,>=2.13.0->spacy) (2.0.4)\n",
      "Requirement already satisfied: idna<4,>=2.5 in c:\\users\\leona\\anaconda3\\lib\\site-packages (from requests<3.0.0,>=2.13.0->spacy) (2.10)\n",
      "Requirement already satisfied: urllib3<3,>=1.21.1 in c:\\users\\leona\\anaconda3\\lib\\site-packages (from requests<3.0.0,>=2.13.0->spacy) (1.26.16)\n",
      "Requirement already satisfied: certifi>=2017.4.17 in c:\\users\\leona\\anaconda3\\lib\\site-packages (from requests<3.0.0,>=2.13.0->spacy) (2023.7.22)\n",
      "Requirement already satisfied: blis<0.8.0,>=0.7.8 in c:\\users\\leona\\anaconda3\\lib\\site-packages (from thinc<8.3.0,>=8.1.8->spacy) (0.7.11)\n",
      "Requirement already satisfied: confection<1.0.0,>=0.0.1 in c:\\users\\leona\\anaconda3\\lib\\site-packages (from thinc<8.3.0,>=8.1.8->spacy) (0.1.4)\n",
      "Requirement already satisfied: colorama in c:\\users\\leona\\anaconda3\\lib\\site-packages (from tqdm<5.0.0,>=4.38.0->spacy) (0.4.6)\n",
      "Requirement already satisfied: click<9.0.0,>=7.1.1 in c:\\users\\leona\\anaconda3\\lib\\site-packages (from typer<0.10.0,>=0.3.0->spacy) (8.0.4)\n",
      "Requirement already satisfied: cloudpathlib<0.17.0,>=0.7.0 in c:\\users\\leona\\anaconda3\\lib\\site-packages (from weasel<0.4.0,>=0.1.0->spacy) (0.16.0)\n",
      "Requirement already satisfied: MarkupSafe>=2.0 in c:\\users\\leona\\anaconda3\\lib\\site-packages (from jinja2->spacy) (2.1.1)\n"
     ]
    }
   ],
   "source": [
    "pip install spacy\n"
   ]
  },
  {
   "cell_type": "code",
   "execution_count": 19,
   "id": "304fc3a4",
   "metadata": {},
   "outputs": [
    {
     "name": "stdout",
     "output_type": "stream",
     "text": [
      "Collecting en-core-web-sm==3.7.1\n",
      "  Downloading https://github.com/explosion/spacy-models/releases/download/en_core_web_sm-3.7.1/en_core_web_sm-3.7.1-py3-none-any.whl (12.8 MB)\n",
      "     ---------------------------------------- 0.0/12.8 MB ? eta -:--:--\n",
      "     ---------------------------------------- 0.0/12.8 MB ? eta -:--:--\n",
      "     ---------------------------------------- 0.0/12.8 MB ? eta -:--:--\n",
      "     --------------------------------------- 0.0/12.8 MB 262.6 kB/s eta 0:00:49\n",
      "     --------------------------------------- 0.1/12.8 MB 573.4 kB/s eta 0:00:23\n",
      "     - -------------------------------------- 0.5/12.8 MB 2.7 MB/s eta 0:00:05\n",
      "     --- ------------------------------------ 1.1/12.8 MB 5.1 MB/s eta 0:00:03\n",
      "     ------ --------------------------------- 2.0/12.8 MB 7.0 MB/s eta 0:00:02\n",
      "     --------- ------------------------------ 2.9/12.8 MB 8.9 MB/s eta 0:00:02\n",
      "     ------------ --------------------------- 4.1/12.8 MB 10.9 MB/s eta 0:00:01\n",
      "     ----------------- ---------------------- 5.5/12.8 MB 13.0 MB/s eta 0:00:01\n",
      "     --------------------- ------------------ 6.8/12.8 MB 14.1 MB/s eta 0:00:01\n",
      "     ------------------------- -------------- 8.2/12.8 MB 15.4 MB/s eta 0:00:01\n",
      "     ------------------------------- ------- 10.4/12.8 MB 24.2 MB/s eta 0:00:01\n",
      "     ------------------------------------- - 12.3/12.8 MB 29.7 MB/s eta 0:00:01\n",
      "     --------------------------------------  12.8/12.8 MB 31.2 MB/s eta 0:00:01\n",
      "     --------------------------------------  12.8/12.8 MB 31.2 MB/s eta 0:00:01\n",
      "     --------------------------------------- 12.8/12.8 MB 22.6 MB/s eta 0:00:00\n",
      "Requirement already satisfied: spacy<3.8.0,>=3.7.2 in c:\\users\\leona\\anaconda3\\lib\\site-packages (from en-core-web-sm==3.7.1) (3.7.2)\n",
      "Requirement already satisfied: spacy-legacy<3.1.0,>=3.0.11 in c:\\users\\leona\\anaconda3\\lib\\site-packages (from spacy<3.8.0,>=3.7.2->en-core-web-sm==3.7.1) (3.0.12)\n",
      "Requirement already satisfied: spacy-loggers<2.0.0,>=1.0.0 in c:\\users\\leona\\anaconda3\\lib\\site-packages (from spacy<3.8.0,>=3.7.2->en-core-web-sm==3.7.1) (1.0.5)\n",
      "Requirement already satisfied: murmurhash<1.1.0,>=0.28.0 in c:\\users\\leona\\anaconda3\\lib\\site-packages (from spacy<3.8.0,>=3.7.2->en-core-web-sm==3.7.1) (1.0.10)\n",
      "Requirement already satisfied: cymem<2.1.0,>=2.0.2 in c:\\users\\leona\\anaconda3\\lib\\site-packages (from spacy<3.8.0,>=3.7.2->en-core-web-sm==3.7.1) (2.0.8)\n",
      "Requirement already satisfied: preshed<3.1.0,>=3.0.2 in c:\\users\\leona\\anaconda3\\lib\\site-packages (from spacy<3.8.0,>=3.7.2->en-core-web-sm==3.7.1) (3.0.9)\n",
      "Requirement already satisfied: thinc<8.3.0,>=8.1.8 in c:\\users\\leona\\anaconda3\\lib\\site-packages (from spacy<3.8.0,>=3.7.2->en-core-web-sm==3.7.1) (8.2.2)\n",
      "Requirement already satisfied: wasabi<1.2.0,>=0.9.1 in c:\\users\\leona\\anaconda3\\lib\\site-packages (from spacy<3.8.0,>=3.7.2->en-core-web-sm==3.7.1) (1.1.2)\n",
      "Requirement already satisfied: srsly<3.0.0,>=2.4.3 in c:\\users\\leona\\anaconda3\\lib\\site-packages (from spacy<3.8.0,>=3.7.2->en-core-web-sm==3.7.1) (2.4.8)\n",
      "Requirement already satisfied: catalogue<2.1.0,>=2.0.6 in c:\\users\\leona\\anaconda3\\lib\\site-packages (from spacy<3.8.0,>=3.7.2->en-core-web-sm==3.7.1) (2.0.10)\n",
      "Requirement already satisfied: weasel<0.4.0,>=0.1.0 in c:\\users\\leona\\anaconda3\\lib\\site-packages (from spacy<3.8.0,>=3.7.2->en-core-web-sm==3.7.1) (0.3.4)\n",
      "Requirement already satisfied: typer<0.10.0,>=0.3.0 in c:\\users\\leona\\anaconda3\\lib\\site-packages (from spacy<3.8.0,>=3.7.2->en-core-web-sm==3.7.1) (0.9.0)\n",
      "Requirement already satisfied: smart-open<7.0.0,>=5.2.1 in c:\\users\\leona\\anaconda3\\lib\\site-packages (from spacy<3.8.0,>=3.7.2->en-core-web-sm==3.7.1) (5.2.1)\n",
      "Requirement already satisfied: tqdm<5.0.0,>=4.38.0 in c:\\users\\leona\\anaconda3\\lib\\site-packages (from spacy<3.8.0,>=3.7.2->en-core-web-sm==3.7.1) (4.65.0)\n",
      "Requirement already satisfied: requests<3.0.0,>=2.13.0 in c:\\users\\leona\\anaconda3\\lib\\site-packages (from spacy<3.8.0,>=3.7.2->en-core-web-sm==3.7.1) (2.31.0)\n",
      "Requirement already satisfied: pydantic!=1.8,!=1.8.1,<3.0.0,>=1.7.4 in c:\\users\\leona\\anaconda3\\lib\\site-packages (from spacy<3.8.0,>=3.7.2->en-core-web-sm==3.7.1) (2.5.3)\n",
      "Requirement already satisfied: jinja2 in c:\\users\\leona\\anaconda3\\lib\\site-packages (from spacy<3.8.0,>=3.7.2->en-core-web-sm==3.7.1) (3.1.2)\n",
      "Requirement already satisfied: setuptools in c:\\users\\leona\\anaconda3\\lib\\site-packages (from spacy<3.8.0,>=3.7.2->en-core-web-sm==3.7.1) (68.0.0)\n",
      "Requirement already satisfied: packaging>=20.0 in c:\\users\\leona\\anaconda3\\lib\\site-packages (from spacy<3.8.0,>=3.7.2->en-core-web-sm==3.7.1) (23.1)\n",
      "Requirement already satisfied: langcodes<4.0.0,>=3.2.0 in c:\\users\\leona\\anaconda3\\lib\\site-packages (from spacy<3.8.0,>=3.7.2->en-core-web-sm==3.7.1) (3.3.0)\n",
      "Requirement already satisfied: numpy>=1.19.0 in c:\\users\\leona\\anaconda3\\lib\\site-packages (from spacy<3.8.0,>=3.7.2->en-core-web-sm==3.7.1) (1.23.5)\n",
      "Requirement already satisfied: annotated-types>=0.4.0 in c:\\users\\leona\\anaconda3\\lib\\site-packages (from pydantic!=1.8,!=1.8.1,<3.0.0,>=1.7.4->spacy<3.8.0,>=3.7.2->en-core-web-sm==3.7.1) (0.6.0)\n",
      "Requirement already satisfied: pydantic-core==2.14.6 in c:\\users\\leona\\anaconda3\\lib\\site-packages (from pydantic!=1.8,!=1.8.1,<3.0.0,>=1.7.4->spacy<3.8.0,>=3.7.2->en-core-web-sm==3.7.1) (2.14.6)\n",
      "Requirement already satisfied: typing-extensions>=4.6.1 in c:\\users\\leona\\anaconda3\\lib\\site-packages (from pydantic!=1.8,!=1.8.1,<3.0.0,>=1.7.4->spacy<3.8.0,>=3.7.2->en-core-web-sm==3.7.1) (4.7.1)\n",
      "Requirement already satisfied: charset-normalizer<4,>=2 in c:\\users\\leona\\anaconda3\\lib\\site-packages (from requests<3.0.0,>=2.13.0->spacy<3.8.0,>=3.7.2->en-core-web-sm==3.7.1) (2.0.4)\n",
      "Requirement already satisfied: idna<4,>=2.5 in c:\\users\\leona\\anaconda3\\lib\\site-packages (from requests<3.0.0,>=2.13.0->spacy<3.8.0,>=3.7.2->en-core-web-sm==3.7.1) (2.10)\n",
      "Requirement already satisfied: urllib3<3,>=1.21.1 in c:\\users\\leona\\anaconda3\\lib\\site-packages (from requests<3.0.0,>=2.13.0->spacy<3.8.0,>=3.7.2->en-core-web-sm==3.7.1) (1.26.16)\n",
      "Requirement already satisfied: certifi>=2017.4.17 in c:\\users\\leona\\anaconda3\\lib\\site-packages (from requests<3.0.0,>=2.13.0->spacy<3.8.0,>=3.7.2->en-core-web-sm==3.7.1) (2023.7.22)\n",
      "Requirement already satisfied: blis<0.8.0,>=0.7.8 in c:\\users\\leona\\anaconda3\\lib\\site-packages (from thinc<8.3.0,>=8.1.8->spacy<3.8.0,>=3.7.2->en-core-web-sm==3.7.1) (0.7.11)\n",
      "Requirement already satisfied: confection<1.0.0,>=0.0.1 in c:\\users\\leona\\anaconda3\\lib\\site-packages (from thinc<8.3.0,>=8.1.8->spacy<3.8.0,>=3.7.2->en-core-web-sm==3.7.1) (0.1.4)\n",
      "Requirement already satisfied: colorama in c:\\users\\leona\\anaconda3\\lib\\site-packages (from tqdm<5.0.0,>=4.38.0->spacy<3.8.0,>=3.7.2->en-core-web-sm==3.7.1) (0.4.6)\n",
      "Requirement already satisfied: click<9.0.0,>=7.1.1 in c:\\users\\leona\\anaconda3\\lib\\site-packages (from typer<0.10.0,>=0.3.0->spacy<3.8.0,>=3.7.2->en-core-web-sm==3.7.1) (8.0.4)\n",
      "Requirement already satisfied: cloudpathlib<0.17.0,>=0.7.0 in c:\\users\\leona\\anaconda3\\lib\\site-packages (from weasel<0.4.0,>=0.1.0->spacy<3.8.0,>=3.7.2->en-core-web-sm==3.7.1) (0.16.0)\n",
      "Requirement already satisfied: MarkupSafe>=2.0 in c:\\users\\leona\\anaconda3\\lib\\site-packages (from jinja2->spacy<3.8.0,>=3.7.2->en-core-web-sm==3.7.1) (2.1.1)\n",
      "\u001b[38;5;2m✔ Download and installation successful\u001b[0m\n",
      "You can now load the package via spacy.load('en_core_web_sm')\n"
     ]
    }
   ],
   "source": [
    "!python -m spacy download en_core_web_sm"
   ]
  },
  {
   "cell_type": "code",
   "execution_count": 20,
   "id": "343db00b",
   "metadata": {},
   "outputs": [
    {
     "name": "stdout",
     "output_type": "stream",
     "text": [
      "Results:\n",
      "- The house is big.\n",
      "- Houses are large.\n"
     ]
    }
   ],
   "source": [
    "import spacy\n",
    "\n",
    "def search_word_lemmatization(texts, word_to_search):\n",
    "    nlp = spacy.load(\"en_core_web_sm\")\n",
    "\n",
    "    analyzed_word = nlp(word_to_search)\n",
    "\n",
    "    word_lemma = analyzed_word[0].lemma_\n",
    "\n",
    "    results = []\n",
    "    for text in texts:\n",
    "        doc = nlp(text)\n",
    "        for token in doc:\n",
    "            if token.text.lower() == word_to_search.lower() or token.lemma_.lower() == word_lemma.lower():\n",
    "                results.append(text)\n",
    "                break\n",
    "\n",
    "    return results\n",
    "\n",
    "# Example of usage\n",
    "texts = [\"The house is big.\", \"Houses are large.\", \"This is an example.\"]\n",
    "word_to_search = \"houses\"\n",
    "\n",
    "results = search_word_lemmatization(texts, word_to_search)\n",
    "\n",
    "print(\"Results:\")\n",
    "for result in results:\n",
    "    print(\"-\", result)\n"
   ]
  },
  {
   "cell_type": "markdown",
   "id": "3accd9a7",
   "metadata": {},
   "source": [
    "### Malwares Name Search "
   ]
  },
  {
   "cell_type": "code",
   "execution_count": 21,
   "id": "332e7b97",
   "metadata": {},
   "outputs": [
    {
     "name": "stdout",
     "output_type": "stream",
     "text": [
      "Requirement already satisfied: googletrans==4.0.0-rc1 in c:\\users\\leona\\anaconda3\\lib\\site-packages (4.0.0rc1)\n",
      "Requirement already satisfied: httpx==0.13.3 in c:\\users\\leona\\anaconda3\\lib\\site-packages (from googletrans==4.0.0-rc1) (0.13.3)\n",
      "Requirement already satisfied: certifi in c:\\users\\leona\\anaconda3\\lib\\site-packages (from httpx==0.13.3->googletrans==4.0.0-rc1) (2023.7.22)\n",
      "Requirement already satisfied: hstspreload in c:\\users\\leona\\anaconda3\\lib\\site-packages (from httpx==0.13.3->googletrans==4.0.0-rc1) (2024.1.5)\n",
      "Requirement already satisfied: sniffio in c:\\users\\leona\\anaconda3\\lib\\site-packages (from httpx==0.13.3->googletrans==4.0.0-rc1) (1.2.0)\n",
      "Requirement already satisfied: chardet==3.* in c:\\users\\leona\\anaconda3\\lib\\site-packages (from httpx==0.13.3->googletrans==4.0.0-rc1) (3.0.4)\n",
      "Requirement already satisfied: idna==2.* in c:\\users\\leona\\anaconda3\\lib\\site-packages (from httpx==0.13.3->googletrans==4.0.0-rc1) (2.10)\n",
      "Requirement already satisfied: rfc3986<2,>=1.3 in c:\\users\\leona\\anaconda3\\lib\\site-packages (from httpx==0.13.3->googletrans==4.0.0-rc1) (1.5.0)\n",
      "Requirement already satisfied: httpcore==0.9.* in c:\\users\\leona\\anaconda3\\lib\\site-packages (from httpx==0.13.3->googletrans==4.0.0-rc1) (0.9.1)\n",
      "Requirement already satisfied: h11<0.10,>=0.8 in c:\\users\\leona\\anaconda3\\lib\\site-packages (from httpcore==0.9.*->httpx==0.13.3->googletrans==4.0.0-rc1) (0.9.0)\n",
      "Requirement already satisfied: h2==3.* in c:\\users\\leona\\anaconda3\\lib\\site-packages (from httpcore==0.9.*->httpx==0.13.3->googletrans==4.0.0-rc1) (3.2.0)\n",
      "Requirement already satisfied: hyperframe<6,>=5.2.0 in c:\\users\\leona\\anaconda3\\lib\\site-packages (from h2==3.*->httpcore==0.9.*->httpx==0.13.3->googletrans==4.0.0-rc1) (5.2.0)\n",
      "Requirement already satisfied: hpack<4,>=3.0 in c:\\users\\leona\\anaconda3\\lib\\site-packages (from h2==3.*->httpcore==0.9.*->httpx==0.13.3->googletrans==4.0.0-rc1) (3.0.0)\n",
      "Note: you may need to restart the kernel to use updated packages.\n"
     ]
    }
   ],
   "source": [
    "pip install googletrans==4.0.0-rc1"
   ]
  },
  {
   "cell_type": "markdown",
   "id": "4cf21dea",
   "metadata": {},
   "source": [
    "### Data Cleaning"
   ]
  },
  {
   "cell_type": "code",
   "execution_count": 22,
   "id": "8cb3d738",
   "metadata": {},
   "outputs": [],
   "source": [
    "from googletrans import Translator\n",
    "from requests.exceptions import HTTPError\n",
    "\n",
    "\n",
    "def translate_to_english(text, target_language='en'):\n",
    "    \n",
    "    translator = Translator()\n",
    "    try:\n",
    "\n",
    "        translation = translator.translate(text, dest=target_language)\n",
    "        time.sleep(1) \n",
    "        return translation.text\n",
    "    \n",
    "    except HTTPError as e:\n",
    "        print(f\"HTTP error occurred: {e}\")\n",
    "        \n",
    "    except Exception as e:\n",
    "        print(f\"An error occurred: {e}\")\n",
    "        time.sleep(1) \n",
    "\n",
    "    # Return the original text in case of an error\n",
    "    return text"
   ]
  },
  {
   "cell_type": "markdown",
   "id": "eecdc737",
   "metadata": {},
   "source": [
    "#### Imputation"
   ]
  },
  {
   "cell_type": "code",
   "execution_count": 23,
   "id": "e43cbf58",
   "metadata": {},
   "outputs": [
    {
     "data": {
      "text/html": [
       "<div>\n",
       "<style scoped>\n",
       "    .dataframe tbody tr th:only-of-type {\n",
       "        vertical-align: middle;\n",
       "    }\n",
       "\n",
       "    .dataframe tbody tr th {\n",
       "        vertical-align: top;\n",
       "    }\n",
       "\n",
       "    .dataframe thead th {\n",
       "        text-align: right;\n",
       "    }\n",
       "</style>\n",
       "<table border=\"1\" class=\"dataframe\">\n",
       "  <thead>\n",
       "    <tr style=\"text-align: right;\">\n",
       "      <th></th>\n",
       "      <th>subreddit</th>\n",
       "      <th>username</th>\n",
       "      <th>date</th>\n",
       "      <th>title</th>\n",
       "      <th>text</th>\n",
       "    </tr>\n",
       "  </thead>\n",
       "  <tbody>\n",
       "    <tr>\n",
       "      <th>0</th>\n",
       "      <td>netsec</td>\n",
       "      <td>t3_18i5ups</td>\n",
       "      <td>2023-12-14 11:36:39</td>\n",
       "      <td>Nim implementation of Old Dll Unlinking Technique</td>\n",
       "      <td></td>\n",
       "    </tr>\n",
       "    <tr>\n",
       "      <th>1</th>\n",
       "      <td>cybersecurity</td>\n",
       "      <td>t3_18i5v5x</td>\n",
       "      <td>2023-12-14 11:37:34</td>\n",
       "      <td>How to prevent employees from using unauthorized web tools?</td>\n",
       "      <td>I work as an IT manager for a business. Some time ago, a group of my colleagues decided to use a web productivity tool, created accounts using their work emails, and started introducing data.\\n\\nI had no knowledge they had been using such a tool at all. I did not even know it existed.\\n\\nToday, I received an email from my boss asking why an ex-employee still had access to the data in such a web platform, as their account hadn't been deactivated. Needless to say, I don't have access to revoke their account or anything.\\n\\nHow can I prevent them from registering on another unauthorized webpage?\\n\\nI feel like a firewall blacklist would be useless since I would have to be constantly researching and updating it with new tools, and I can't make a whitelist since my company uses a ton of different pages for intense web research.\\n\\nAny help or advice would be appreciated.\\n\\n&amp;#x200B;</td>\n",
       "    </tr>\n",
       "    <tr>\n",
       "      <th>2</th>\n",
       "      <td>MacOS</td>\n",
       "      <td>t3_18i5kyd</td>\n",
       "      <td>2023-12-14 11:17:47</td>\n",
       "      <td>Teams call pop up window blocked by reminders/calendar entries on top right corner</td>\n",
       "      <td>Hi\\n\\nDo you know this issue that when I have reminders or calendar alarms set to stick to the top right corner, that they then block the notification window for incoming Teams calls.\\n\\nDoes someone know if there is a setting for having the teams call pop up in on another location on the screen or knows another work around?</td>\n",
       "    </tr>\n",
       "    <tr>\n",
       "      <th>3</th>\n",
       "      <td>MacOS</td>\n",
       "      <td>t3_18i5koq</td>\n",
       "      <td>2023-12-14 11:17:16</td>\n",
       "      <td>Disable middle mouse button drag to other desktop</td>\n",
       "      <td>So I have been using windows for a while and now I am stumped. The middle mouse button of my logi mouse has the following functionailty: On drage change desktop, on click show all windows. That's nice and all, but I can't use fusion 360 because the dragging functionality is the middle mouse button but that just changes the desktop. How can I disable that?\\n\\n&amp;#x200B;\\n\\nSo I found this, but there is no button selected. If I select the secondary mouse button for example, it will open mission control on both right click and middle mouse button:\\n\\nhttps://preview.redd.it/bmqnrpw0m86c1.png?width=476&amp;format=png&amp;auto=webp&amp;s=97ae662fcca43bf146537393fc6a13705a0a9351\\n\\n&amp;#x200B;</td>\n",
       "    </tr>\n",
       "    <tr>\n",
       "      <th>4</th>\n",
       "      <td>windows</td>\n",
       "      <td>t3_18i5gqv</td>\n",
       "      <td>2023-12-14 11:09:52</td>\n",
       "      <td>Playing 4k videos on 2k display</td>\n",
       "      <td>Hello guys does playing 4k content on a 2k display has any benefit? For example while playing YouTube videos I set 1440p resolution on my 2k laptop and 2k smartphone despite having a option of selecting 2160p option. So i wanted to ask if i get better video quality if i select 2160p option while playing on a 2k display?</td>\n",
       "    </tr>\n",
       "  </tbody>\n",
       "</table>\n",
       "</div>"
      ],
      "text/plain": [
       "       subreddit    username                 date  \\\n",
       "0         netsec  t3_18i5ups  2023-12-14 11:36:39   \n",
       "1  cybersecurity  t3_18i5v5x  2023-12-14 11:37:34   \n",
       "2          MacOS  t3_18i5kyd  2023-12-14 11:17:47   \n",
       "3          MacOS  t3_18i5koq  2023-12-14 11:17:16   \n",
       "4        windows  t3_18i5gqv  2023-12-14 11:09:52   \n",
       "\n",
       "                                                                                title  \\\n",
       "0                                   Nim implementation of Old Dll Unlinking Technique   \n",
       "1                         How to prevent employees from using unauthorized web tools?   \n",
       "2  Teams call pop up window blocked by reminders/calendar entries on top right corner   \n",
       "3                                   Disable middle mouse button drag to other desktop   \n",
       "4                                                     Playing 4k videos on 2k display   \n",
       "\n",
       "                                                                                                                                                                                                                                                                                                                                                                                                                                                                                                                                                                                                                                                                                                                                                                                                                                                                                                                         text  \n",
       "0                                                                                                                                                                                                                                                                                                                                                                                                                                                                                                                                                                                                                                                                                                                                                                                                                                                                                                                              \n",
       "1  I work as an IT manager for a business. Some time ago, a group of my colleagues decided to use a web productivity tool, created accounts using their work emails, and started introducing data.\\n\\nI had no knowledge they had been using such a tool at all. I did not even know it existed.\\n\\nToday, I received an email from my boss asking why an ex-employee still had access to the data in such a web platform, as their account hadn't been deactivated. Needless to say, I don't have access to revoke their account or anything.\\n\\nHow can I prevent them from registering on another unauthorized webpage?\\n\\nI feel like a firewall blacklist would be useless since I would have to be constantly researching and updating it with new tools, and I can't make a whitelist since my company uses a ton of different pages for intense web research.\\n\\nAny help or advice would be appreciated.\\n\\n&#x200B;  \n",
       "2                                                                                                                                                                                                                                                                                                                                                                                                                                                                                                                                                                                      Hi\\n\\nDo you know this issue that when I have reminders or calendar alarms set to stick to the top right corner, that they then block the notification window for incoming Teams calls.\\n\\nDoes someone know if there is a setting for having the teams call pop up in on another location on the screen or knows another work around?  \n",
       "3                                                                                                                                                                                                                     So I have been using windows for a while and now I am stumped. The middle mouse button of my logi mouse has the following functionailty: On drage change desktop, on click show all windows. That's nice and all, but I can't use fusion 360 because the dragging functionality is the middle mouse button but that just changes the desktop. How can I disable that?\\n\\n&#x200B;\\n\\nSo I found this, but there is no button selected. If I select the secondary mouse button for example, it will open mission control on both right click and middle mouse button:\\n\\nhttps://preview.redd.it/bmqnrpw0m86c1.png?width=476&format=png&auto=webp&s=97ae662fcca43bf146537393fc6a13705a0a9351\\n\\n&#x200B;  \n",
       "4                                                                                                                                                                                                                                                                                                                                                                                                                                                                                                                                                                                           Hello guys does playing 4k content on a 2k display has any benefit? For example while playing YouTube videos I set 1440p resolution on my 2k laptop and 2k smartphone despite having a option of selecting 2160p option. So i wanted to ask if i get better video quality if i select 2160p option while playing on a 2k display?  "
      ]
     },
     "execution_count": 23,
     "metadata": {},
     "output_type": "execute_result"
    }
   ],
   "source": [
    "df_reddit['text'] = df_reddit['text'].fillna('')\n",
    "df_reddit['title'] = df_reddit['title'].fillna('')\n",
    "df_reddit.head()"
   ]
  },
  {
   "cell_type": "markdown",
   "id": "a09616b8",
   "metadata": {},
   "source": [
    "#### Column Filtering\n",
    "- Drop 'json' column -> useless"
   ]
  },
  {
   "cell_type": "code",
   "execution_count": 24,
   "id": "51257216",
   "metadata": {},
   "outputs": [
    {
     "data": {
      "text/html": [
       "<div>\n",
       "<style scoped>\n",
       "    .dataframe tbody tr th:only-of-type {\n",
       "        vertical-align: middle;\n",
       "    }\n",
       "\n",
       "    .dataframe tbody tr th {\n",
       "        vertical-align: top;\n",
       "    }\n",
       "\n",
       "    .dataframe thead th {\n",
       "        text-align: right;\n",
       "    }\n",
       "</style>\n",
       "<table border=\"1\" class=\"dataframe\">\n",
       "  <thead>\n",
       "    <tr style=\"text-align: right;\">\n",
       "      <th></th>\n",
       "      <th>subreddit</th>\n",
       "      <th>username</th>\n",
       "      <th>date</th>\n",
       "      <th>title</th>\n",
       "      <th>text</th>\n",
       "    </tr>\n",
       "  </thead>\n",
       "  <tbody>\n",
       "    <tr>\n",
       "      <th>50</th>\n",
       "      <td>hacking</td>\n",
       "      <td>t3_18i4tio</td>\n",
       "      <td>2023-12-14 10:22:21</td>\n",
       "      <td>Trains were designed to break down after third-party repairs, hackers find</td>\n",
       "      <td>https://arstechnica.com/tech-policy/2023/12/manufacturer-deliberately-bricked-trains-repaired-by-competitors-hackers-find/</td>\n",
       "    </tr>\n",
       "  </tbody>\n",
       "</table>\n",
       "</div>"
      ],
      "text/plain": [
       "   subreddit    username                 date  \\\n",
       "50   hacking  t3_18i4tio  2023-12-14 10:22:21   \n",
       "\n",
       "                                                                         title  \\\n",
       "50  Trains were designed to break down after third-party repairs, hackers find   \n",
       "\n",
       "                                                                                                                          text  \n",
       "50  https://arstechnica.com/tech-policy/2023/12/manufacturer-deliberately-bricked-trains-repaired-by-competitors-hackers-find/  "
      ]
     },
     "execution_count": 24,
     "metadata": {},
     "output_type": "execute_result"
    }
   ],
   "source": [
    "pd.DataFrame(df_reddit.loc[50]).T"
   ]
  },
  {
   "cell_type": "markdown",
   "id": "918df88e",
   "metadata": {},
   "source": [
    "#### Normalization\n",
    "- Convert each text and title of each post to the same language : english"
   ]
  },
  {
   "cell_type": "code",
   "execution_count": 25,
   "id": "c3d8f35e",
   "metadata": {},
   "outputs": [
    {
     "data": {
      "text/plain": [
       "\"\\n\\nfor i in range(len(df_reddit)):\\n    \\n    print(i)\\n    \\n    title = df_reddit.at[i, 'title']\\n    text = df_reddit.at[i, 'text']\\n    \\n    if(pd.isna(text) == False):\\n        new_text = translate_to_english(text)\\n        df_reddit.loc[i, 'text'] = new_text\\n\\n\\n    if(pd.isna(title) == False):\\n        new_title = translate_to_english(title)\\n        df_reddit.loc[i, 'title'] = new_title\\n        \\ndf_reddit        \\n\\n\""
      ]
     },
     "execution_count": 25,
     "metadata": {},
     "output_type": "execute_result"
    }
   ],
   "source": [
    "'''\n",
    "\n",
    "for i in range(len(df_reddit)):\n",
    "    \n",
    "    print(i)\n",
    "    \n",
    "    title = df_reddit.at[i, 'title']\n",
    "    text = df_reddit.at[i, 'text']\n",
    "    \n",
    "    if(pd.isna(text) == False):\n",
    "        new_text = translate_to_english(text)\n",
    "        df_reddit.loc[i, 'text'] = new_text\n",
    "\n",
    "\n",
    "    if(pd.isna(title) == False):\n",
    "        new_title = translate_to_english(title)\n",
    "        df_reddit.loc[i, 'title'] = new_title\n",
    "        \n",
    "df_reddit        \n",
    "\n",
    "'''"
   ]
  },
  {
   "cell_type": "markdown",
   "id": "383140c4",
   "metadata": {},
   "source": [
    "#### Data Type Conversion"
   ]
  },
  {
   "cell_type": "code",
   "execution_count": 26,
   "id": "765b9ce0",
   "metadata": {},
   "outputs": [
    {
     "data": {
      "text/html": [
       "<div>\n",
       "<style scoped>\n",
       "    .dataframe tbody tr th:only-of-type {\n",
       "        vertical-align: middle;\n",
       "    }\n",
       "\n",
       "    .dataframe tbody tr th {\n",
       "        vertical-align: top;\n",
       "    }\n",
       "\n",
       "    .dataframe thead th {\n",
       "        text-align: right;\n",
       "    }\n",
       "</style>\n",
       "<table border=\"1\" class=\"dataframe\">\n",
       "  <thead>\n",
       "    <tr style=\"text-align: right;\">\n",
       "      <th></th>\n",
       "      <th>subreddit</th>\n",
       "      <th>username</th>\n",
       "      <th>date</th>\n",
       "      <th>title</th>\n",
       "      <th>text</th>\n",
       "    </tr>\n",
       "  </thead>\n",
       "  <tbody>\n",
       "    <tr>\n",
       "      <th>0</th>\n",
       "      <td>netsec</td>\n",
       "      <td>t3_18i5ups</td>\n",
       "      <td>2023-12-14</td>\n",
       "      <td>Nim implementation of Old Dll Unlinking Technique</td>\n",
       "      <td></td>\n",
       "    </tr>\n",
       "    <tr>\n",
       "      <th>1</th>\n",
       "      <td>cybersecurity</td>\n",
       "      <td>t3_18i5v5x</td>\n",
       "      <td>2023-12-14</td>\n",
       "      <td>How to prevent employees from using unauthorized web tools?</td>\n",
       "      <td>I work as an IT manager for a business. Some time ago, a group of my colleagues decided to use a web productivity tool, created accounts using their work emails, and started introducing data.\\n\\nI had no knowledge they had been using such a tool at all. I did not even know it existed.\\n\\nToday, I received an email from my boss asking why an ex-employee still had access to the data in such a web platform, as their account hadn't been deactivated. Needless to say, I don't have access to revoke their account or anything.\\n\\nHow can I prevent them from registering on another unauthorized webpage?\\n\\nI feel like a firewall blacklist would be useless since I would have to be constantly researching and updating it with new tools, and I can't make a whitelist since my company uses a ton of different pages for intense web research.\\n\\nAny help or advice would be appreciated.\\n\\n&amp;#x200B;</td>\n",
       "    </tr>\n",
       "    <tr>\n",
       "      <th>2</th>\n",
       "      <td>MacOS</td>\n",
       "      <td>t3_18i5kyd</td>\n",
       "      <td>2023-12-14</td>\n",
       "      <td>Teams call pop up window blocked by reminders/calendar entries on top right corner</td>\n",
       "      <td>Hi\\n\\nDo you know this issue that when I have reminders or calendar alarms set to stick to the top right corner, that they then block the notification window for incoming Teams calls.\\n\\nDoes someone know if there is a setting for having the teams call pop up in on another location on the screen or knows another work around?</td>\n",
       "    </tr>\n",
       "    <tr>\n",
       "      <th>3</th>\n",
       "      <td>MacOS</td>\n",
       "      <td>t3_18i5koq</td>\n",
       "      <td>2023-12-14</td>\n",
       "      <td>Disable middle mouse button drag to other desktop</td>\n",
       "      <td>So I have been using windows for a while and now I am stumped. The middle mouse button of my logi mouse has the following functionailty: On drage change desktop, on click show all windows. That's nice and all, but I can't use fusion 360 because the dragging functionality is the middle mouse button but that just changes the desktop. How can I disable that?\\n\\n&amp;#x200B;\\n\\nSo I found this, but there is no button selected. If I select the secondary mouse button for example, it will open mission control on both right click and middle mouse button:\\n\\nhttps://preview.redd.it/bmqnrpw0m86c1.png?width=476&amp;format=png&amp;auto=webp&amp;s=97ae662fcca43bf146537393fc6a13705a0a9351\\n\\n&amp;#x200B;</td>\n",
       "    </tr>\n",
       "    <tr>\n",
       "      <th>4</th>\n",
       "      <td>windows</td>\n",
       "      <td>t3_18i5gqv</td>\n",
       "      <td>2023-12-14</td>\n",
       "      <td>Playing 4k videos on 2k display</td>\n",
       "      <td>Hello guys does playing 4k content on a 2k display has any benefit? For example while playing YouTube videos I set 1440p resolution on my 2k laptop and 2k smartphone despite having a option of selecting 2160p option. So i wanted to ask if i get better video quality if i select 2160p option while playing on a 2k display?</td>\n",
       "    </tr>\n",
       "  </tbody>\n",
       "</table>\n",
       "</div>"
      ],
      "text/plain": [
       "       subreddit    username        date  \\\n",
       "0         netsec  t3_18i5ups  2023-12-14   \n",
       "1  cybersecurity  t3_18i5v5x  2023-12-14   \n",
       "2          MacOS  t3_18i5kyd  2023-12-14   \n",
       "3          MacOS  t3_18i5koq  2023-12-14   \n",
       "4        windows  t3_18i5gqv  2023-12-14   \n",
       "\n",
       "                                                                                title  \\\n",
       "0                                   Nim implementation of Old Dll Unlinking Technique   \n",
       "1                         How to prevent employees from using unauthorized web tools?   \n",
       "2  Teams call pop up window blocked by reminders/calendar entries on top right corner   \n",
       "3                                   Disable middle mouse button drag to other desktop   \n",
       "4                                                     Playing 4k videos on 2k display   \n",
       "\n",
       "                                                                                                                                                                                                                                                                                                                                                                                                                                                                                                                                                                                                                                                                                                                                                                                                                                                                                                                         text  \n",
       "0                                                                                                                                                                                                                                                                                                                                                                                                                                                                                                                                                                                                                                                                                                                                                                                                                                                                                                                              \n",
       "1  I work as an IT manager for a business. Some time ago, a group of my colleagues decided to use a web productivity tool, created accounts using their work emails, and started introducing data.\\n\\nI had no knowledge they had been using such a tool at all. I did not even know it existed.\\n\\nToday, I received an email from my boss asking why an ex-employee still had access to the data in such a web platform, as their account hadn't been deactivated. Needless to say, I don't have access to revoke their account or anything.\\n\\nHow can I prevent them from registering on another unauthorized webpage?\\n\\nI feel like a firewall blacklist would be useless since I would have to be constantly researching and updating it with new tools, and I can't make a whitelist since my company uses a ton of different pages for intense web research.\\n\\nAny help or advice would be appreciated.\\n\\n&#x200B;  \n",
       "2                                                                                                                                                                                                                                                                                                                                                                                                                                                                                                                                                                                      Hi\\n\\nDo you know this issue that when I have reminders or calendar alarms set to stick to the top right corner, that they then block the notification window for incoming Teams calls.\\n\\nDoes someone know if there is a setting for having the teams call pop up in on another location on the screen or knows another work around?  \n",
       "3                                                                                                                                                                                                                     So I have been using windows for a while and now I am stumped. The middle mouse button of my logi mouse has the following functionailty: On drage change desktop, on click show all windows. That's nice and all, but I can't use fusion 360 because the dragging functionality is the middle mouse button but that just changes the desktop. How can I disable that?\\n\\n&#x200B;\\n\\nSo I found this, but there is no button selected. If I select the secondary mouse button for example, it will open mission control on both right click and middle mouse button:\\n\\nhttps://preview.redd.it/bmqnrpw0m86c1.png?width=476&format=png&auto=webp&s=97ae662fcca43bf146537393fc6a13705a0a9351\\n\\n&#x200B;  \n",
       "4                                                                                                                                                                                                                                                                                                                                                                                                                                                                                                                                                                                           Hello guys does playing 4k content on a 2k display has any benefit? For example while playing YouTube videos I set 1440p resolution on my 2k laptop and 2k smartphone despite having a option of selecting 2160p option. So i wanted to ask if i get better video quality if i select 2160p option while playing on a 2k display?  "
      ]
     },
     "execution_count": 26,
     "metadata": {},
     "output_type": "execute_result"
    }
   ],
   "source": [
    "df_reddit['date'] = pd.to_datetime(df_reddit['date']).dt.strftime('%Y-%m-%d')\n",
    "df_reddit.head()"
   ]
  },
  {
   "cell_type": "markdown",
   "id": "04a7a902",
   "metadata": {},
   "source": [
    "#### Find a Match"
   ]
  },
  {
   "cell_type": "markdown",
   "id": "3c8432e1",
   "metadata": {},
   "source": [
    "##### Specify a Data of Analysis from a *starting_date* to an *ending_date*"
   ]
  },
  {
   "cell_type": "code",
   "execution_count": 27,
   "id": "431a4754",
   "metadata": {},
   "outputs": [],
   "source": [
    "start_date = datetime(2023, 3, 1)\n",
    "end_date   = datetime(2023, 3, 31)"
   ]
  },
  {
   "cell_type": "code",
   "execution_count": 28,
   "id": "c9fd9e94",
   "metadata": {},
   "outputs": [
    {
     "data": {
      "text/html": [
       "<div>\n",
       "<style scoped>\n",
       "    .dataframe tbody tr th:only-of-type {\n",
       "        vertical-align: middle;\n",
       "    }\n",
       "\n",
       "    .dataframe tbody tr th {\n",
       "        vertical-align: top;\n",
       "    }\n",
       "\n",
       "    .dataframe thead th {\n",
       "        text-align: right;\n",
       "    }\n",
       "</style>\n",
       "<table border=\"1\" class=\"dataframe\">\n",
       "  <thead>\n",
       "    <tr style=\"text-align: right;\">\n",
       "      <th></th>\n",
       "      <th>index</th>\n",
       "      <th>subreddit</th>\n",
       "      <th>username</th>\n",
       "      <th>date</th>\n",
       "      <th>title</th>\n",
       "      <th>text</th>\n",
       "    </tr>\n",
       "  </thead>\n",
       "  <tbody>\n",
       "    <tr>\n",
       "      <th>0</th>\n",
       "      <td>288055</td>\n",
       "      <td>hardware</td>\n",
       "      <td>t3_1280u3n</td>\n",
       "      <td>2023-03-31</td>\n",
       "      <td>Do you think Nvidia is so stingy on VRAM is to not cannibalize their much more profitable compute cards?</td>\n",
       "      <td>4060 ti has only 8GB of VRAM is insulting in 2023. What do you think is the primary reason for the stinginess?  Is it because Nvidia wants to make sure to segment the market so that their gaming cards can't be used for data science?  \\n\\n\\nAfter all, a 40GB A100 costs $20k and has the same number of cuda cores as a 3070 ti.  \\n\\n\\nAny other reason they are not giving 16GB VRAM for med-lower level cards like Intel and AMD?</td>\n",
       "    </tr>\n",
       "    <tr>\n",
       "      <th>1</th>\n",
       "      <td>288056</td>\n",
       "      <td>Ubuntu</td>\n",
       "      <td>t3_1280sue</td>\n",
       "      <td>2023-03-31</td>\n",
       "      <td>Is Ubuntu paywalling security updates now? The Pop OS community has been kind to respond but I'm still confused how this isn't paywalling. I'm hoping the Ubuntu community can help me understand. Thanks! :)</td>\n",
       "      <td></td>\n",
       "    </tr>\n",
       "    <tr>\n",
       "      <th>2</th>\n",
       "      <td>288073</td>\n",
       "      <td>AskNetsec</td>\n",
       "      <td>t3_1280fmh</td>\n",
       "      <td>2023-03-31</td>\n",
       "      <td>Phone and email security questions</td>\n",
       "      <td>I have questions about op sec. Would appreciate your detailed advice.\\n\\n* Should I be using some sort of proxy or app to obfuscate my number?\\n* What does Google Voice actually do in practice?\\n* Should I ever give out my actual number, like legit companies or doctor's offices?\\n* When  I get calls that are flagged as spam likely, does blocking them alert  the phisher to my number being active? What's the best way to respond to  spam calls or texts?\\n* One  of my relatives has an old phone number that, due to their past  indiscretion with answering spam calls and almost being scammed, is a  ripe target for foreigners.\\n   * What can I do to help them? I don't know how realistic them getting a new number is. Is there a way to use a proxy for them?\\n* For email it's the same issue. Their email is compromised and gets  regular influx of spam assault. The filter seems to work 99% of the time  but...I'd rather them have a clean email.</td>\n",
       "    </tr>\n",
       "    <tr>\n",
       "      <th>3</th>\n",
       "      <td>288074</td>\n",
       "      <td>cybersecurity</td>\n",
       "      <td>t3_1280gaz</td>\n",
       "      <td>2023-03-31</td>\n",
       "      <td>Virus on web pages in system android</td>\n",
       "      <td>Hello, today i have a question, do web pages viruses infect android? (Like in windows) \\nHow do the do it? \\n\\nAnd \\n\\nHow to avoid it?\\n\\nThank you very much for your help and explanation.\\n\\n:)</td>\n",
       "    </tr>\n",
       "    <tr>\n",
       "      <th>4</th>\n",
       "      <td>288075</td>\n",
       "      <td>cybersecurity</td>\n",
       "      <td>t3_127zjck</td>\n",
       "      <td>2023-03-31</td>\n",
       "      <td>Sample playbooks</td>\n",
       "      <td>Hello. This is my first post in this group. I have observed that that you are all very generous with your knowledge, time and experience. Thank you. I hope to make valuable contributions in the future.\\n\\nI'm taking some entry level Cybersecurity courses. The task for this week is create a playbook to respond to an incident. I'm going to choose \"root access\" because it's seems less mundane than Malware or DDOS, etc.\\n\\nThere are playbook templates in the public domain that seem useful for getting organized but lack detail on specific actions. I want to bring unique content to my submission by comparing and contrasting specific approaches and then providing insights and original ideas for responding.\\n\\nI came here to see if people would be willing to share playbooks for root access that I could learn from and compare and contrast. Or perhaps people could point me to resources that have multiple examples with lots of detail.\\n\\nThank you in advance,\\n\\nPeter</td>\n",
       "    </tr>\n",
       "    <tr>\n",
       "      <th>...</th>\n",
       "      <td>...</td>\n",
       "      <td>...</td>\n",
       "      <td>...</td>\n",
       "      <td>...</td>\n",
       "      <td>...</td>\n",
       "      <td>...</td>\n",
       "    </tr>\n",
       "    <tr>\n",
       "      <th>33643</th>\n",
       "      <td>321722</td>\n",
       "      <td>Scams</td>\n",
       "      <td>t3_11enw4q</td>\n",
       "      <td>2023-03-01</td>\n",
       "      <td>Is this a scam?</td>\n",
       "      <td></td>\n",
       "    </tr>\n",
       "    <tr>\n",
       "      <th>33644</th>\n",
       "      <td>321723</td>\n",
       "      <td>Scams</td>\n",
       "      <td>t3_11enta5</td>\n",
       "      <td>2023-03-01</td>\n",
       "      <td>Wholesome scammer</td>\n",
       "      <td></td>\n",
       "    </tr>\n",
       "    <tr>\n",
       "      <th>33645</th>\n",
       "      <td>321724</td>\n",
       "      <td>realtech</td>\n",
       "      <td>t3_11emuci</td>\n",
       "      <td>2023-03-01</td>\n",
       "      <td>Vodafone unveils prototype 5G network built on a Raspberry Pi computer</td>\n",
       "      <td></td>\n",
       "    </tr>\n",
       "    <tr>\n",
       "      <th>33646</th>\n",
       "      <td>321725</td>\n",
       "      <td>Xiaomi</td>\n",
       "      <td>t3_11en9dc</td>\n",
       "      <td>2023-03-01</td>\n",
       "      <td>is there anyway the change the colour of the icons and background in control centre without mtz files</td>\n",
       "      <td></td>\n",
       "    </tr>\n",
       "    <tr>\n",
       "      <th>33647</th>\n",
       "      <td>321726</td>\n",
       "      <td>Xiaomi</td>\n",
       "      <td>t3_11en4wr</td>\n",
       "      <td>2023-03-01</td>\n",
       "      <td>Dual apps when sharing/shortcuts.</td>\n",
       "      <td>So I got dual apps on WhatsApp, and I got a 3rd Party Launcher (Nova).\\n\\nI assigned the Swipe Up on Homescreen shortcut to open WhatsApp, but everytime I do it it asks me which WhatsApp I wanna open, the main one or the secondary one.\\n\\nSame happens when sharing anything from the Share Menu. I choose WhatsApp and it asks me which one.\\n\\nSo my question is: do you know if there's a way to direct to the main app when sharing/doing a shortcut directly, instead of asking which one?\\n\\nThank you in advance!</td>\n",
       "    </tr>\n",
       "  </tbody>\n",
       "</table>\n",
       "<p>33648 rows × 6 columns</p>\n",
       "</div>"
      ],
      "text/plain": [
       "        index      subreddit    username        date  \\\n",
       "0      288055       hardware  t3_1280u3n  2023-03-31   \n",
       "1      288056         Ubuntu  t3_1280sue  2023-03-31   \n",
       "2      288073      AskNetsec  t3_1280fmh  2023-03-31   \n",
       "3      288074  cybersecurity  t3_1280gaz  2023-03-31   \n",
       "4      288075  cybersecurity  t3_127zjck  2023-03-31   \n",
       "...       ...            ...         ...         ...   \n",
       "33643  321722          Scams  t3_11enw4q  2023-03-01   \n",
       "33644  321723          Scams  t3_11enta5  2023-03-01   \n",
       "33645  321724       realtech  t3_11emuci  2023-03-01   \n",
       "33646  321725         Xiaomi  t3_11en9dc  2023-03-01   \n",
       "33647  321726         Xiaomi  t3_11en4wr  2023-03-01   \n",
       "\n",
       "                                                                                                                                                                                                               title  \\\n",
       "0                                                                                                           Do you think Nvidia is so stingy on VRAM is to not cannibalize their much more profitable compute cards?   \n",
       "1      Is Ubuntu paywalling security updates now? The Pop OS community has been kind to respond but I'm still confused how this isn't paywalling. I'm hoping the Ubuntu community can help me understand. Thanks! :)   \n",
       "2                                                                                                                                                                                 Phone and email security questions   \n",
       "3                                                                                                                                                                               Virus on web pages in system android   \n",
       "4                                                                                                                                                                                                   Sample playbooks   \n",
       "...                                                                                                                                                                                                              ...   \n",
       "33643                                                                                                                                                                                                Is this a scam?   \n",
       "33644                                                                                                                                                                                              Wholesome scammer   \n",
       "33645                                                                                                                                         Vodafone unveils prototype 5G network built on a Raspberry Pi computer   \n",
       "33646                                                                                                          is there anyway the change the colour of the icons and background in control centre without mtz files   \n",
       "33647                                                                                                                                                                              Dual apps when sharing/shortcuts.   \n",
       "\n",
       "                                                                                                                                                                                                                                                                                                                                                                                                                                                                                                                                                                                                                                                                                                                                                                                                                                                                                                                                                                                                              text  \n",
       "0                                                                                                                                                                                                                                                                                                                                                                                                                                                                                                                                                                        4060 ti has only 8GB of VRAM is insulting in 2023. What do you think is the primary reason for the stinginess?  Is it because Nvidia wants to make sure to segment the market so that their gaming cards can't be used for data science?  \\n\\n\\nAfter all, a 40GB A100 costs $20k and has the same number of cuda cores as a 3070 ti.  \\n\\n\\nAny other reason they are not giving 16GB VRAM for med-lower level cards like Intel and AMD?  \n",
       "1                                                                                                                                                                                                                                                                                                                                                                                                                                                                                                                                                                                                                                                                                                                                                                                                                                                                                                                                                                                                                   \n",
       "2                                 I have questions about op sec. Would appreciate your detailed advice.\\n\\n* Should I be using some sort of proxy or app to obfuscate my number?\\n* What does Google Voice actually do in practice?\\n* Should I ever give out my actual number, like legit companies or doctor's offices?\\n* When  I get calls that are flagged as spam likely, does blocking them alert  the phisher to my number being active? What's the best way to respond to  spam calls or texts?\\n* One  of my relatives has an old phone number that, due to their past  indiscretion with answering spam calls and almost being scammed, is a  ripe target for foreigners.\\n   * What can I do to help them? I don't know how realistic them getting a new number is. Is there a way to use a proxy for them?\\n* For email it's the same issue. Their email is compromised and gets  regular influx of spam assault. The filter seems to work 99% of the time  but...I'd rather them have a clean email.  \n",
       "3                                                                                                                                                                                                                                                                                                                                                                                                                                                                                                                                                                                                                                                                                                                                                                                                              Hello, today i have a question, do web pages viruses infect android? (Like in windows) \\nHow do the do it? \\n\\nAnd \\n\\nHow to avoid it?\\n\\nThank you very much for your help and explanation.\\n\\n:)  \n",
       "4      Hello. This is my first post in this group. I have observed that that you are all very generous with your knowledge, time and experience. Thank you. I hope to make valuable contributions in the future.\\n\\nI'm taking some entry level Cybersecurity courses. The task for this week is create a playbook to respond to an incident. I'm going to choose \"root access\" because it's seems less mundane than Malware or DDOS, etc.\\n\\nThere are playbook templates in the public domain that seem useful for getting organized but lack detail on specific actions. I want to bring unique content to my submission by comparing and contrasting specific approaches and then providing insights and original ideas for responding.\\n\\nI came here to see if people would be willing to share playbooks for root access that I could learn from and compare and contrast. Or perhaps people could point me to resources that have multiple examples with lots of detail.\\n\\nThank you in advance,\\n\\nPeter  \n",
       "...                                                                                                                                                                                                                                                                                                                                                                                                                                                                                                                                                                                                                                                                                                                                                                                                                                                                                                                                                                                                            ...  \n",
       "33643                                                                                                                                                                                                                                                                                                                                                                                                                                                                                                                                                                                                                                                                                                                                                                                                                                                                                                                                                                                                               \n",
       "33644                                                                                                                                                                                                                                                                                                                                                                                                                                                                                                                                                                                                                                                                                                                                                                                                                                                                                                                                                                                                               \n",
       "33645                                                                                                                                                                                                                                                                                                                                                                                                                                                                                                                                                                                                                                                                                                                                                                                                                                                                                                                                                                                                               \n",
       "33646                                                                                                                                                                                                                                                                                                                                                                                                                                                                                                                                                                                                                                                                                                                                                                                                                                                                                                                                                                                                               \n",
       "33647                                                                                                                                                                                                                                                                                                                                                                                                                                                                                So I got dual apps on WhatsApp, and I got a 3rd Party Launcher (Nova).\\n\\nI assigned the Swipe Up on Homescreen shortcut to open WhatsApp, but everytime I do it it asks me which WhatsApp I wanna open, the main one or the secondary one.\\n\\nSame happens when sharing anything from the Share Menu. I choose WhatsApp and it asks me which one.\\n\\nSo my question is: do you know if there's a way to direct to the main app when sharing/doing a shortcut directly, instead of asking which one?\\n\\nThank you in advance!  \n",
       "\n",
       "[33648 rows x 6 columns]"
      ]
     },
     "execution_count": 28,
     "metadata": {},
     "output_type": "execute_result"
    }
   ],
   "source": [
    "selected_rows = df_reddit[(pd.to_datetime(df_reddit['date']) >= start_date) & (pd.to_datetime(df_reddit['date']) <= end_date)].reset_index()\n",
    "selected_rows"
   ]
  },
  {
   "cell_type": "code",
   "execution_count": 29,
   "id": "e6cd262f",
   "metadata": {},
   "outputs": [
    {
     "name": "stdout",
     "output_type": "stream",
     "text": [
      "Requirement already satisfied: tqdm in c:\\users\\leona\\anaconda3\\lib\\site-packages (4.65.0)\n",
      "Requirement already satisfied: colorama in c:\\users\\leona\\anaconda3\\lib\\site-packages (from tqdm) (0.4.6)\n",
      "Note: you may need to restart the kernel to use updated packages.\n"
     ]
    }
   ],
   "source": [
    "pip install tqdm"
   ]
  },
  {
   "cell_type": "code",
   "execution_count": 30,
   "id": "37233b8e",
   "metadata": {},
   "outputs": [
    {
     "name": "stdout",
     "output_type": "stream",
     "text": [
      "                 Testo_A         Testo_B  Match\n",
      "0      La casa è grande.  La casa grande   True\n",
      "1  Il cane corre veloce.  Il cane veloce   True\n"
     ]
    },
    {
     "name": "stderr",
     "output_type": "stream",
     "text": [
      "[nltk_data] Downloading package punkt to\n",
      "[nltk_data]     C:\\Users\\leona\\AppData\\Roaming\\nltk_data...\n",
      "[nltk_data]   Package punkt is already up-to-date!\n",
      "[nltk_data] Downloading package stopwords to\n",
      "[nltk_data]     C:\\Users\\leona\\AppData\\Roaming\\nltk_data...\n",
      "[nltk_data]   Package stopwords is already up-to-date!\n"
     ]
    }
   ],
   "source": [
    "import pandas as pd\n",
    "from nltk.stem import PorterStemmer\n",
    "from nltk.tokenize import word_tokenize\n",
    "from nltk.corpus import stopwords\n",
    "import nltk\n",
    "nltk.download('punkt')\n",
    "nltk.download('stopwords')\n",
    "\n",
    "def stemming_and_matching(df_A, df_B):\n",
    "    # Inizializzazione del PorterStemmer\n",
    "    stemmer = PorterStemmer()\n",
    "\n",
    "    # Funzione per eseguire stemming e lemmatization su una riga di testo\n",
    "    def process_text(text):\n",
    "        # Tokenizzazione\n",
    "        tokens = word_tokenize(text.lower())\n",
    "        # Rimozione delle stop words\n",
    "        stop_words = set(stopwords.words('english'))\n",
    "        filtered_tokens = [token for token in tokens if token.isalnum() and token not in stop_words]\n",
    "        # Stemming\n",
    "        stemmed_tokens = [stemmer.stem(token) for token in filtered_tokens]\n",
    "        return stemmed_tokens\n",
    "\n",
    "    # Applicare la funzione a ciascuna riga dei dataframe A e B\n",
    "    df_A['lemmatized_tokens'] = df_A['testo'].apply(process_text)\n",
    "    df_B['lemmatized_tokens'] = df_B['testo'].apply(process_text)\n",
    "\n",
    "    # Creare una lista per i risultati\n",
    "    risultati_list = []\n",
    "\n",
    "    # Calcolare la corrispondenza per ogni coppia di righe tra B e A\n",
    "    for idx_B, row_B in df_B.iterrows():\n",
    "        for idx_A, row_A in df_A.iterrows():\n",
    "            match = all(token in row_A['lemmatized_tokens'] for token in row_B['lemmatized_tokens'])\n",
    "            if match:\n",
    "                risultati_list.append({'Testo_A': row_A['testo'], 'Testo_B': row_B['testo'], 'Match': match})\n",
    "\n",
    "    # Convertire la lista di risultati in un DataFrame\n",
    "    risultati_df = pd.DataFrame(risultati_list)\n",
    "    return risultati_df\n",
    "\n",
    "# Esempio di utilizzo\n",
    "data_A = {'testo': [\"La casa è grande.\", \"Il cane corre veloce.\", \"Gli uccelli volano alto.\"]}\n",
    "data_B = {'testo': [\"La casa grande\", \"Il cane veloce\", \"uccelli alti\"]}\n",
    "df_A = pd.DataFrame(data_A)\n",
    "df_B = pd.DataFrame(data_B)\n",
    "\n",
    "risultato = stemming_and_matching(df_A, df_B)\n",
    "print(risultato)\n"
   ]
  },
  {
   "cell_type": "code",
   "execution_count": 31,
   "id": "5dfd0d80",
   "metadata": {},
   "outputs": [],
   "source": [
    "def stemming_and_matching(words_list, posts_df):\n",
    "    \n",
    "    combined_texts = posts_df['title'] + '. ' + posts_df['text']\n",
    "\n",
    "    stemmer = PorterStemmer()\n",
    "\n",
    "    def process_text(text):\n",
    "        # Tokenization\n",
    "        tokens = word_tokenize(text.lower())\n",
    "        # Delete stop words\n",
    "        stop_words = set(stopwords.words('english'))\n",
    "        filtered_tokens = [token for token in tokens if token.isalnum() and token not in stop_words]\n",
    "        # Stemming\n",
    "        stemmed_tokens = [stemmer.stem(token) for token in filtered_tokens]\n",
    "        return stemmed_tokens\n",
    "    \n",
    "    df_A = pd.DataFrame()\n",
    "    df_B = pd.DataFrame()\n",
    "    \n",
    "    df_A['text'] = combined_texts\n",
    "    df_B['text'] = words_list\n",
    "\n",
    "    df_A['lemmatized_tokens'] = df_A['text'].apply(process_text)\n",
    "    df_B['lemmatized_tokens'] = df_B['text'].apply(process_text)\n",
    "\n",
    "    risultati_list = []\n",
    "\n",
    "    for idx_B, row_B in tqdm(df_B.iterrows(), desc=\"Processing posts\"):\n",
    "        for idx_A, row_A in tqdm(df_A.iterrows(), desc=\"Processing posts\"):\n",
    "            match = all(token in row_A['lemmatized_tokens'] for token in row_B['lemmatized_tokens'])\n",
    "            if match:\n",
    "                risultati_list.append({'full_text': row_A['text'], 'keyword': row_B['text']})\n",
    "\n",
    "    # Convertire la lista di risultati in un DataFrame\n",
    "    risultati_df = pd.DataFrame(risultati_list)\n",
    "    return risultati_df"
   ]
  },
  {
   "cell_type": "code",
   "execution_count": 65,
   "id": "426364a1",
   "metadata": {},
   "outputs": [],
   "source": [
    "def search_lemma_word(title, text, word, post_index, nlp, doc):\n",
    "    analyzed_word = nlp(word)\n",
    "    word_lemma = analyzed_word[0].lemma_\n",
    "    \n",
    "    for token in doc:\n",
    "        if token.text.lower() == word.lower() or token.lemma_.lower() == word_lemma.lower():\n",
    "            return pd.DataFrame({'post_index': [post_index], 'word': [word]})\n",
    "    \n",
    "    return pd.DataFrame()\n",
    "\n",
    "def search_entire_word( text, word, post_index):\n",
    "       \n",
    "    if word.lower() in text.lower() :\n",
    "\n",
    "        return pd.DataFrame({'full_text': [text], 'keyword': [word]})\n",
    "    \n",
    "    return pd.DataFrame()\n",
    "\n",
    "from tqdm import tqdm\n",
    "\n",
    "def loop_search(words_list, posts_df):\n",
    "    nlp = spacy.load(\"en_core_web_sm\")\n",
    "    combined_texts = posts_df['title'] + '. ' + posts_df['text']\n",
    "    list_nlp = [nlp(text) for text in combined_texts]\n",
    "    result_dfs = []\n",
    "\n",
    "    for word in tqdm(words_list, desc=\"Processing words\"):\n",
    "\n",
    "        print(f'Now: {word} ')\n",
    "\n",
    "        if(len(word.split()) == 1):\n",
    "            word_analyzed = nlp(word)\n",
    "            word_lemma = word_analyzed[0].lemma_\n",
    "            for j in tqdm(range(len(posts_df)), desc=\"Processing posts\"):\n",
    "                result_dfs.append(search_lemma_word(posts_df.at[j, 'title'], combined_texts[j], word_lemma, j, nlp, list_nlp[j]))\n",
    "        \n",
    "        else:\n",
    "            for j in tqdm(range(len(posts_df)), desc=\"Processing posts\"):\n",
    "                result_dfs.append(search_entire_word(combined_texts[j], word, j))\n",
    "\n",
    "    result_df = pd.concat(result_dfs, ignore_index=True)\n",
    "    return result_df\n",
    "\n",
    "def malware_search(words_list, posts_df):\n",
    "    nlp = spacy.load(\"en_core_web_sm\")\n",
    "    combined_texts = posts_df['title'] + '. ' + posts_df['text']\n",
    "    result_dfs = []\n",
    "\n",
    "    for word in tqdm(words_list, desc=\"Processing words\"):\n",
    "\n",
    "        print(f'Now: {word} ')\n",
    "\n",
    "        for j in tqdm(range(len(posts_df)), desc=\"Processing posts\"):\n",
    "            result_dfs.append(search_entire_word(combined_texts[j], word, j))\n",
    "\n",
    "    result_df = pd.concat(result_dfs, ignore_index=True)\n",
    "    return result_df"
   ]
  },
  {
   "cell_type": "markdown",
   "id": "bb71e409",
   "metadata": {},
   "source": [
    "### Behaviours searching"
   ]
  },
  {
   "cell_type": "code",
   "execution_count": 33,
   "id": "3a8ccf67",
   "metadata": {},
   "outputs": [],
   "source": [
    "l = len(all_behaviours_name_list)\n",
    "\n",
    "index = l // 3\n",
    "\n",
    "first_half = all_behaviours_name_list[:index]\n",
    "third_half = all_behaviours_name_list[index:index*2]\n",
    "second_half = all_behaviours_name_list[index*2:]"
   ]
  },
  {
   "cell_type": "code",
   "execution_count": 34,
   "id": "41c578b6",
   "metadata": {},
   "outputs": [
    {
     "name": "stderr",
     "output_type": "stream",
     "text": [
      "Processing posts: 33648it [00:02, 12802.04it/s]\n",
      "Processing posts: 33648it [00:02, 12733.17it/s]\n",
      "Processing posts: 33648it [00:02, 12790.48it/s]\n",
      "Processing posts: 33648it [00:02, 11450.27it/s]\n",
      "Processing posts: 33648it [00:02, 11238.18it/s]\n",
      "Processing posts: 33648it [00:03, 10194.92it/s]\n",
      "Processing posts: 33648it [00:02, 12148.85it/s]\n",
      "Processing posts: 33648it [00:02, 11582.12it/s]\n",
      "Processing posts: 33648it [00:03, 10904.36it/s]\n",
      "Processing posts: 33648it [00:03, 10960.94it/s]\n",
      "Processing posts: 33648it [00:03, 9736.10it/s]\n",
      "Processing posts: 33648it [00:03, 10186.97it/s]\n",
      "Processing posts: 33648it [00:03, 10545.02it/s]\n",
      "Processing posts: 33648it [00:02, 11304.08it/s]\n",
      "Processing posts: 33648it [00:03, 10948.96it/s]\n",
      "Processing posts: 33648it [00:03, 9416.05it/s]\n",
      "Processing posts: 33648it [00:03, 10073.90it/s]\n",
      "Processing posts: 33648it [00:03, 10051.10it/s]\n",
      "Processing posts: 33648it [00:03, 10560.62it/s]\n",
      "Processing posts: 33648it [00:03, 10329.70it/s]\n",
      "Processing posts: 33648it [00:03, 9089.01it/s]\n",
      "Processing posts: 33648it [00:03, 10080.79it/s]\n",
      "Processing posts: 33648it [00:03, 10327.84it/s]\n",
      "Processing posts: 33648it [00:03, 10248.19it/s]\n",
      "Processing posts: 33648it [00:03, 9999.79it/s]\n",
      "Processing posts: 33648it [00:03, 9557.90it/s] \n",
      "Processing posts: 33648it [00:03, 10367.92it/s]\n",
      "Processing posts: 33648it [00:03, 10303.90it/s]\n",
      "Processing posts: 33648it [00:03, 10327.88it/s]\n",
      "Processing posts: 33648it [00:03, 9559.53it/s]\n",
      "Processing posts: 33648it [00:03, 10141.00it/s]\n",
      "Processing posts: 33648it [00:03, 10547.99it/s]\n",
      "Processing posts: 33648it [00:03, 10712.09it/s]\n",
      "Processing posts: 33648it [00:03, 10550.28it/s]\n",
      "Processing posts: 33648it [00:03, 9845.22it/s]\n",
      "Processing posts: 33648it [00:03, 9881.55it/s] \n",
      "Processing posts: 33648it [00:03, 10280.68it/s]\n",
      "Processing posts: 33648it [00:03, 10542.93it/s]\n",
      "Processing posts: 33648it [00:03, 10635.31it/s]\n",
      "Processing posts: 33648it [00:03, 9690.86it/s] \n",
      "Processing posts: 33648it [00:03, 10549.19it/s]\n",
      "Processing posts: 33648it [00:03, 10627.23it/s]\n",
      "Processing posts: 33648it [00:03, 10534.60it/s]\n",
      "Processing posts: 33648it [00:03, 10664.60it/s]\n",
      "Processing posts: 33648it [00:03, 9720.56it/s]\n",
      "Processing posts: 33648it [00:03, 10010.24it/s]\n",
      "Processing posts: 33648it [00:03, 10829.89it/s]\n",
      "Processing posts: 33648it [00:03, 10356.80it/s]\n",
      "Processing posts: 33648it [00:03, 10567.95it/s]\n",
      "Processing posts: 33648it [00:03, 8929.24it/s]\n",
      "Processing posts: 33648it [00:03, 10405.04it/s]\n",
      "Processing posts: 33648it [00:03, 10097.47it/s]\n",
      "Processing posts: 33648it [00:03, 8921.29it/s]\n",
      "Processing posts: 33648it [00:03, 9425.51it/s]\n",
      "Processing posts: 33648it [00:03, 9891.03it/s] \n",
      "Processing posts: 33648it [00:03, 10862.32it/s]\n",
      "Processing posts: 33648it [00:03, 10490.32it/s]\n",
      "Processing posts: 33648it [00:03, 10316.99it/s]\n",
      "Processing posts: 33648it [00:03, 9741.24it/s]\n",
      "Processing posts: 33648it [00:03, 10173.87it/s]\n",
      "Processing posts: 33648it [00:03, 10575.78it/s]\n",
      "Processing posts: 33648it [00:03, 10437.84it/s]\n",
      "Processing posts: 33648it [00:03, 10459.24it/s]\n",
      "Processing posts: 33648it [00:03, 9661.97it/s] \n",
      "Processing posts: 33648it [00:03, 10068.99it/s]\n",
      "Processing posts: 33648it [00:03, 10436.63it/s]\n",
      "Processing posts: 33648it [00:03, 10608.84it/s]\n",
      "Processing posts: 33648it [00:02, 11366.40it/s]\n",
      "Processing posts: 33648it [00:03, 10243.10it/s]\n",
      "Processing posts: 33648it [00:03, 10787.61it/s]\n",
      "Processing posts: 33648it [00:03, 10896.10it/s]\n",
      "Processing posts: 33648it [00:03, 11083.16it/s]\n",
      "Processing posts: 33648it [00:03, 10947.82it/s]\n",
      "Processing posts: 33648it [00:03, 10036.60it/s]\n",
      "Processing posts: 33648it [00:03, 10878.38it/s]\n",
      "Processing posts: 33648it [00:03, 10791.60it/s]\n",
      "Processing posts: 33648it [00:03, 11134.52it/s]\n",
      "Processing posts: 33648it [00:03, 10919.45it/s]\n",
      "Processing posts: 33648it [00:03, 10336.19it/s]\n",
      "Processing posts: 33648it [00:03, 10257.36it/s]\n",
      "Processing posts: 33648it [00:03, 10840.48it/s]\n",
      "Processing posts: 33648it [00:03, 10994.59it/s]\n",
      "Processing posts: 33648it [00:03, 10916.53it/s]\n",
      "Processing posts: 33648it [00:03, 10636.60it/s]\n",
      "Processing posts: 33648it [00:03, 10277.32it/s]\n",
      "Processing posts: 33648it [00:03, 10844.00it/s]\n",
      "Processing posts: 33648it [00:03, 11060.88it/s]\n",
      "Processing posts: 33648it [00:02, 11246.86it/s]\n",
      "Processing posts: 33648it [00:03, 10503.28it/s]\n",
      "Processing posts: 33648it [00:03, 10452.33it/s]\n",
      "Processing posts: 33648it [00:03, 10497.93it/s]\n",
      "Processing posts: 33648it [00:03, 10875.49it/s]\n",
      "Processing posts: 33648it [00:03, 10931.29it/s]\n",
      "Processing posts: 33648it [00:03, 10147.45it/s]\n",
      "Processing posts: 33648it [00:03, 9683.55it/s] \n",
      "Processing posts: 33648it [00:03, 10429.51it/s]\n",
      "Processing posts: 33648it [00:03, 10731.10it/s]\n",
      "Processing posts: 33648it [00:03, 10203.16it/s]\n",
      "Processing posts: 33648it [00:03, 9705.77it/s]\n",
      "Processing posts: 33648it [00:03, 10670.68it/s]\n",
      "Processing posts: 33648it [00:02, 11706.89it/s]\n",
      "Processing posts: 33648it [00:02, 11523.15it/s]\n",
      "Processing posts: 33648it [00:02, 11461.95it/s]\n",
      "Processing posts: 33648it [00:02, 11627.38it/s]\n",
      "Processing posts: 33648it [00:03, 11104.89it/s]\n",
      "Processing posts: 33648it [00:02, 12324.33it/s]\n",
      "Processing posts: 33648it [00:02, 12210.54it/s]\n",
      "Processing posts: 107it [05:43,  3.21s/it]\n"
     ]
    }
   ],
   "source": [
    "matches_behaviours_1 = stemming_and_matching( first_half , selected_rows)\n"
   ]
  },
  {
   "cell_type": "code",
   "execution_count": 35,
   "id": "3bf3f051",
   "metadata": {},
   "outputs": [],
   "source": [
    "matches_behaviours_1.to_csv(r'C:\\Users\\leona\\OneDrive\\Desktop\\Tesi\\Pipeline\\Datasets\\Pipeline\\SocialNetworksPosts\\Reddit\\Months\\03\\one_behaviours.csv')"
   ]
  },
  {
   "cell_type": "code",
   "execution_count": 36,
   "id": "0cb63bc5",
   "metadata": {},
   "outputs": [
    {
     "name": "stderr",
     "output_type": "stream",
     "text": [
      "Processing posts: 33648it [00:03, 11133.42it/s]\n",
      "Processing posts: 33648it [00:03, 10095.37it/s]\n",
      "Processing posts: 33648it [00:03, 9639.02it/s] \n",
      "Processing posts: 33648it [00:03, 10803.93it/s]\n",
      "Processing posts: 33648it [00:03, 10635.52it/s]\n",
      "Processing posts: 33648it [00:03, 10833.88it/s]\n",
      "Processing posts: 33648it [00:03, 10231.17it/s]\n",
      "Processing posts: 33648it [00:03, 9534.19it/s]\n",
      "Processing posts: 33648it [00:03, 8627.75it/s]\n",
      "Processing posts: 33648it [00:03, 10615.09it/s]\n",
      "Processing posts: 33648it [00:03, 9664.15it/s]\n",
      "Processing posts: 33648it [00:03, 9028.81it/s]\n",
      "Processing posts: 33648it [00:03, 10004.35it/s]\n",
      "Processing posts: 33648it [00:03, 10120.71it/s]\n",
      "Processing posts: 33648it [00:03, 9791.96it/s]\n",
      "Processing posts: 33648it [00:03, 10342.45it/s]\n",
      "Processing posts: 33648it [00:03, 9399.84it/s]\n",
      "Processing posts: 33648it [00:03, 10440.60it/s]\n",
      "Processing posts: 33648it [00:03, 9989.35it/s] \n",
      "Processing posts: 33648it [00:03, 10144.11it/s]\n",
      "Processing posts: 33648it [00:03, 9933.05it/s]\n",
      "Processing posts: 33648it [00:03, 9369.04it/s]\n",
      "Processing posts: 33648it [00:03, 10382.31it/s]\n",
      "Processing posts: 33648it [00:03, 11020.67it/s]\n",
      "Processing posts: 33648it [00:03, 10709.36it/s]\n",
      "Processing posts: 33648it [00:03, 10287.51it/s]\n",
      "Processing posts: 33648it [00:03, 10337.47it/s]\n",
      "Processing posts: 33648it [00:03, 10832.93it/s]\n",
      "Processing posts: 33648it [00:03, 10404.82it/s]\n",
      "Processing posts: 33648it [00:03, 10432.89it/s]\n",
      "Processing posts: 33648it [00:03, 10410.18it/s]\n",
      "Processing posts: 33648it [00:03, 10504.05it/s]\n",
      "Processing posts: 33648it [00:02, 11296.44it/s]\n",
      "Processing posts: 33648it [00:03, 11063.99it/s]\n",
      "Processing posts: 33648it [00:03, 11137.01it/s]\n",
      "Processing posts: 33648it [00:03, 10283.54it/s]\n",
      "Processing posts: 33648it [00:03, 10284.86it/s]\n",
      "Processing posts: 33648it [00:03, 11041.30it/s]\n",
      "Processing posts: 33648it [00:03, 11021.25it/s]\n",
      "Processing posts: 33648it [00:03, 10911.51it/s]\n",
      "Processing posts: 33648it [00:03, 10083.55it/s]\n",
      "Processing posts: 33648it [00:03, 10337.17it/s]\n",
      "Processing posts: 33648it [00:02, 11331.84it/s]\n",
      "Processing posts: 33648it [00:03, 11048.93it/s]\n",
      "Processing posts: 33648it [00:03, 10868.90it/s]\n",
      "Processing posts: 33648it [00:03, 10389.07it/s]\n",
      "Processing posts: 33648it [00:03, 10195.36it/s]\n",
      "Processing posts: 33648it [00:03, 11019.37it/s]\n",
      "Processing posts: 33648it [00:03, 10294.72it/s]\n",
      "Processing posts: 33648it [00:03, 10652.20it/s]\n",
      "Processing posts: 33648it [00:03, 9748.85it/s]\n",
      "Processing posts: 33648it [00:03, 9708.37it/s]\n",
      "Processing posts: 33648it [00:03, 10625.95it/s]\n",
      "Processing posts: 33648it [00:03, 10547.39it/s]\n",
      "Processing posts: 33648it [00:03, 10191.98it/s]\n",
      "Processing posts: 33648it [00:03, 9888.84it/s]\n",
      "Processing posts: 33648it [00:03, 10307.41it/s]\n",
      "Processing posts: 33648it [00:03, 10502.86it/s]\n",
      "Processing posts: 33648it [00:03, 10410.57it/s]\n",
      "Processing posts: 33648it [00:03, 10262.29it/s]\n",
      "Processing posts: 33648it [00:03, 9752.85it/s] \n",
      "Processing posts: 33648it [00:03, 10372.24it/s]\n",
      "Processing posts: 33648it [00:03, 10336.68it/s]\n",
      "Processing posts: 33648it [00:03, 10569.97it/s]\n",
      "Processing posts: 33648it [00:03, 10482.77it/s]\n",
      "Processing posts: 33648it [00:03, 9502.31it/s]\n",
      "Processing posts: 33648it [00:03, 9876.35it/s]\n",
      "Processing posts: 33648it [00:03, 10894.28it/s]\n",
      "Processing posts: 33648it [00:03, 10571.77it/s]\n",
      "Processing posts: 33648it [00:03, 10529.30it/s]\n",
      "Processing posts: 33648it [00:03, 9604.58it/s]\n",
      "Processing posts: 33648it [00:03, 10661.97it/s]\n",
      "Processing posts: 33648it [00:03, 10316.59it/s]\n",
      "Processing posts: 33648it [00:03, 10767.54it/s]\n",
      "Processing posts: 33648it [00:03, 9078.64it/s]\n",
      "Processing posts: 33648it [00:03, 9125.61it/s]\n",
      "Processing posts: 33648it [00:03, 10442.80it/s]\n",
      "Processing posts: 33648it [00:03, 10527.92it/s]\n",
      "Processing posts: 33648it [00:03, 10645.29it/s]\n",
      "Processing posts: 33648it [00:03, 9988.03it/s]\n",
      "Processing posts: 33648it [00:03, 9548.65it/s] \n",
      "Processing posts: 33648it [00:03, 10633.18it/s]\n",
      "Processing posts: 33648it [00:03, 10459.18it/s]\n",
      "Processing posts: 33648it [00:03, 10501.54it/s]\n",
      "Processing posts: 33648it [00:03, 10004.41it/s]\n",
      "Processing posts: 33648it [00:03, 10263.22it/s]\n",
      "Processing posts: 33648it [00:03, 10297.50it/s]\n",
      "Processing posts: 33648it [00:03, 10861.43it/s]\n",
      "Processing posts: 33648it [00:03, 10899.22it/s]\n",
      "Processing posts: 33648it [00:03, 10648.29it/s]\n",
      "Processing posts: 33648it [00:03, 10069.68it/s]\n",
      "Processing posts: 33648it [00:02, 11526.13it/s]\n",
      "Processing posts: 33648it [00:02, 11767.24it/s]\n",
      "Processing posts: 33648it [00:02, 12007.91it/s]\n",
      "Processing posts: 33648it [00:02, 11862.66it/s]\n",
      "Processing posts: 33648it [00:03, 11181.30it/s]\n",
      "Processing posts: 33648it [00:02, 12423.33it/s]\n",
      "Processing posts: 33648it [00:02, 12041.36it/s]\n",
      "Processing posts: 33648it [00:02, 11987.11it/s]\n",
      "Processing posts: 33648it [00:02, 11860.80it/s]\n",
      "Processing posts: 33648it [00:02, 11475.21it/s]\n",
      "Processing posts: 33648it [00:02, 11493.13it/s]\n",
      "Processing posts: 33648it [00:02, 12195.08it/s]\n",
      "Processing posts: 33648it [00:02, 11584.03it/s]\n",
      "Processing posts: 33648it [00:02, 11815.36it/s]\n",
      "Processing posts: 33648it [00:02, 12275.62it/s]\n",
      "Processing posts: 33648it [00:03, 10953.75it/s]\n",
      "Processing posts: 33648it [00:02, 11977.94it/s]\n",
      "Processing posts: 33648it [00:02, 11668.57it/s]\n",
      "Processing posts: 109it [05:50,  3.21s/it]\n"
     ]
    }
   ],
   "source": [
    "matches_behaviours_2 = stemming_and_matching( second_half , selected_rows)\n"
   ]
  },
  {
   "cell_type": "code",
   "execution_count": 37,
   "id": "85b13e45",
   "metadata": {},
   "outputs": [],
   "source": [
    "matches_behaviours_2.to_csv(r'C:\\Users\\leona\\OneDrive\\Desktop\\Tesi\\Pipeline\\Datasets\\Pipeline\\SocialNetworksPosts\\Reddit\\Months\\03\\two_behaviours.csv')"
   ]
  },
  {
   "cell_type": "code",
   "execution_count": 38,
   "id": "ef599e5e",
   "metadata": {},
   "outputs": [
    {
     "name": "stderr",
     "output_type": "stream",
     "text": [
      "Processing posts: 33648it [00:02, 12028.75it/s]\n",
      "Processing posts: 33648it [00:02, 11590.22it/s]\n",
      "Processing posts: 33648it [00:03, 10417.04it/s]\n",
      "Processing posts: 33648it [00:02, 11315.45it/s]\n",
      "Processing posts: 33648it [00:02, 11355.35it/s]\n",
      "Processing posts: 33648it [00:02, 11673.16it/s]\n",
      "Processing posts: 33648it [00:02, 11873.59it/s]\n",
      "Processing posts: 33648it [00:03, 10202.96it/s]\n",
      "Processing posts: 33648it [00:02, 11355.14it/s]\n",
      "Processing posts: 33648it [00:02, 11547.16it/s]\n",
      "Processing posts: 33648it [00:02, 12017.68it/s]\n",
      "Processing posts: 33648it [00:02, 11546.31it/s]\n",
      "Processing posts: 33648it [00:03, 10818.54it/s]\n",
      "Processing posts: 33648it [00:03, 10655.97it/s]\n",
      "Processing posts: 33648it [00:02, 11819.51it/s]\n",
      "Processing posts: 33648it [00:02, 11793.99it/s]\n",
      "Processing posts: 33648it [00:02, 11656.83it/s]\n",
      "Processing posts: 33648it [00:03, 10471.13it/s]\n",
      "Processing posts: 33648it [00:03, 9838.32it/s]\n",
      "Processing posts: 33648it [00:02, 11505.38it/s]\n",
      "Processing posts: 33648it [00:02, 11893.93it/s]\n",
      "Processing posts: 33648it [00:02, 11392.63it/s]\n",
      "Processing posts: 33648it [00:02, 11698.03it/s]\n",
      "Processing posts: 33648it [00:03, 10448.67it/s]\n",
      "Processing posts: 33648it [00:03, 9999.57it/s] \n",
      "Processing posts: 33648it [00:03, 10403.71it/s]\n",
      "Processing posts: 33648it [00:03, 10517.35it/s]\n",
      "Processing posts: 33648it [00:03, 10377.00it/s]\n",
      "Processing posts: 33648it [00:03, 9575.80it/s]\n",
      "Processing posts: 33648it [00:03, 10910.24it/s]\n",
      "Processing posts: 33648it [00:03, 10903.23it/s]\n",
      "Processing posts: 33648it [00:03, 10928.19it/s]\n",
      "Processing posts: 33648it [00:03, 10859.41it/s]\n",
      "Processing posts: 33648it [00:03, 9986.14it/s]\n",
      "Processing posts: 33648it [00:03, 10446.34it/s]\n",
      "Processing posts: 33648it [00:03, 10707.17it/s]\n",
      "Processing posts: 33648it [00:03, 10548.03it/s]\n",
      "Processing posts: 33648it [00:03, 10334.02it/s]\n",
      "Processing posts: 33648it [00:03, 9429.41it/s]\n",
      "Processing posts: 33648it [00:03, 10320.42it/s]\n",
      "Processing posts: 33648it [00:03, 10679.03it/s]\n",
      "Processing posts: 33648it [00:03, 9996.31it/s] \n",
      "Processing posts: 33648it [00:03, 10166.27it/s]\n",
      "Processing posts: 33648it [00:03, 9204.44it/s]\n",
      "Processing posts: 33648it [00:03, 10698.60it/s]\n",
      "Processing posts: 33648it [00:03, 10648.88it/s]\n",
      "Processing posts: 33648it [00:03, 10465.64it/s]\n",
      "Processing posts: 33648it [00:03, 9829.12it/s]\n",
      "Processing posts: 33648it [00:03, 9779.39it/s]\n",
      "Processing posts: 33648it [00:03, 9596.72it/s] \n",
      "Processing posts: 33648it [00:03, 10701.14it/s]\n",
      "Processing posts: 33648it [00:03, 10557.75it/s]\n",
      "Processing posts: 33648it [00:03, 9584.04it/s]\n",
      "Processing posts: 33648it [00:03, 10237.31it/s]\n",
      "Processing posts: 33648it [00:03, 10555.53it/s]\n",
      "Processing posts: 33648it [00:03, 10125.74it/s]\n",
      "Processing posts: 33648it [00:03, 10643.07it/s]\n",
      "Processing posts: 33648it [00:03, 9860.24it/s]\n",
      "Processing posts: 33648it [00:03, 10426.57it/s]\n",
      "Processing posts: 33648it [00:03, 10212.43it/s]\n",
      "Processing posts: 33648it [00:03, 10707.35it/s]\n",
      "Processing posts: 33648it [00:03, 10704.65it/s]\n",
      "Processing posts: 33648it [00:03, 9529.14it/s]\n",
      "Processing posts: 33648it [00:03, 10364.95it/s]\n",
      "Processing posts: 33648it [00:03, 10290.05it/s]\n",
      "Processing posts: 33648it [00:03, 10566.86it/s]\n",
      "Processing posts: 33648it [00:03, 10097.07it/s]\n",
      "Processing posts: 33648it [00:03, 9013.58it/s]\n",
      "Processing posts: 33648it [00:03, 10301.42it/s]\n",
      "Processing posts: 33648it [00:03, 9162.40it/s]\n",
      "Processing posts: 33648it [00:03, 9599.12it/s] \n",
      "Processing posts: 33648it [00:03, 9879.11it/s]\n",
      "Processing posts: 33648it [00:03, 10092.10it/s]\n",
      "Processing posts: 33648it [00:03, 10784.09it/s]\n",
      "Processing posts: 33648it [00:03, 10903.61it/s]\n",
      "Processing posts: 33648it [00:03, 10790.48it/s]\n",
      "Processing posts: 33648it [00:03, 9823.63it/s]\n",
      "Processing posts: 33648it [00:03, 9999.99it/s]\n",
      "Processing posts: 33648it [00:03, 10349.83it/s]\n",
      "Processing posts: 33648it [00:03, 10473.87it/s]\n",
      "Processing posts: 33648it [00:02, 11649.86it/s]\n",
      "Processing posts: 33648it [00:03, 10738.28it/s]\n",
      "Processing posts: 33648it [00:02, 11338.93it/s]\n",
      "Processing posts: 33648it [00:02, 12007.14it/s]\n",
      "Processing posts: 33648it [00:02, 12823.88it/s]\n",
      "Processing posts: 33648it [00:02, 11971.51it/s]\n",
      "Processing posts: 33648it [00:02, 12305.44it/s]\n",
      "Processing posts: 33648it [00:03, 10744.64it/s]\n",
      "Processing posts: 33648it [00:02, 11961.50it/s]\n",
      "Processing posts: 33648it [00:02, 11924.75it/s]\n",
      "Processing posts: 33648it [00:02, 12180.20it/s]\n",
      "Processing posts: 33648it [00:02, 12403.38it/s]\n",
      "Processing posts: 33648it [00:02, 11514.66it/s]\n",
      "Processing posts: 33648it [00:03, 11202.36it/s]\n",
      "Processing posts: 33648it [00:02, 12112.99it/s]\n",
      "Processing posts: 33648it [00:02, 12226.44it/s]\n",
      "Processing posts: 33648it [00:02, 12104.12it/s]\n",
      "Processing posts: 33648it [00:03, 11193.62it/s]\n",
      "Processing posts: 33648it [00:03, 10920.53it/s]\n",
      "Processing posts: 33648it [00:02, 11495.52it/s]\n",
      "Processing posts: 33648it [00:02, 11700.75it/s]\n",
      "Processing posts: 33648it [00:02, 12078.82it/s]\n",
      "Processing posts: 33648it [00:02, 11900.58it/s]\n",
      "Processing posts: 33648it [00:03, 11199.52it/s]\n",
      "Processing posts: 33648it [00:03, 10526.89it/s]\n",
      "Processing posts: 33648it [00:02, 11610.35it/s]\n",
      "Processing posts: 33648it [00:02, 11656.14it/s]\n",
      "Processing posts: 107it [05:35,  3.13s/it]\n"
     ]
    }
   ],
   "source": [
    "matches_behaviours_3 = stemming_and_matching( third_half , selected_rows)\n"
   ]
  },
  {
   "cell_type": "code",
   "execution_count": 39,
   "id": "a81efc6d",
   "metadata": {},
   "outputs": [],
   "source": [
    "matches_behaviours_3.to_csv(r'C:\\Users\\leona\\OneDrive\\Desktop\\Tesi\\Pipeline\\Datasets\\Pipeline\\SocialNetworksPosts\\Reddit\\Months\\03\\three_behaviours.csv')"
   ]
  },
  {
   "cell_type": "code",
   "execution_count": 40,
   "id": "fb269744",
   "metadata": {},
   "outputs": [
    {
     "data": {
      "text/html": [
       "<div>\n",
       "<style scoped>\n",
       "    .dataframe tbody tr th:only-of-type {\n",
       "        vertical-align: middle;\n",
       "    }\n",
       "\n",
       "    .dataframe tbody tr th {\n",
       "        vertical-align: top;\n",
       "    }\n",
       "\n",
       "    .dataframe thead th {\n",
       "        text-align: right;\n",
       "    }\n",
       "</style>\n",
       "<table border=\"1\" class=\"dataframe\">\n",
       "  <thead>\n",
       "    <tr style=\"text-align: right;\">\n",
       "      <th></th>\n",
       "      <th>full_text</th>\n",
       "      <th>keyword</th>\n",
       "    </tr>\n",
       "  </thead>\n",
       "  <tbody>\n",
       "    <tr>\n",
       "      <th>0</th>\n",
       "      <td>My interaction with a car sales scammer.. I've long wanted to purchase a DeLorean, so I've been saving money toward that goal.  As it happens, you need a good $40,000 (or more!) to buy one.  As I've gotten closer, I've kept a closer eye on DeLoreans for sale.\\n\\nAnyway, on one particular site, which I don't know if I'm allowed to mention, I saw a DeLorean for sale.  The listing had been on the site for one day and the seller was asking $11,900.  Both of these were obvious red flags.  That being said, maybe the DeLorean didn't run at all or something, so I clicked the button to send an \"I'm interested\" e-mail to the seller.\\n\\nHere was the reply I got:\\n\\n\"Hi\\n\\nI just saw your message, it was in my Junk folder. The vehicle is still available for sale. You have to know this is a private sale and I am not interested in any financing or loan deal. I would like to sell the vehicle only for cash.\\nThe car is not located in the USA anymore. It is located in Denmark, Europe. I live in Den...</td>\n",
       "      <td>process interest</td>\n",
       "    </tr>\n",
       "    <tr>\n",
       "      <th>1</th>\n",
       "      <td>Remote Tier 2 Technician for MSP Location: Fully Remote, prefer TN. Job Title: Remote Tier 2 Technician for MSP\\n\\nLocation: Fully Remote\\n\\nSalary: $15-35/hour (depending on experience and 90 day performance)\\n\\nWe are a rapidly growing Managed Service Provider (MSP) looking for a skilled Tier 2 Technician to join our team. As a remote technician, you will be responsible for providing technical support to our clients, resolving escalated issues, and assisting Tier 1 technicians as needed.\\n\\nResponsibilities:\\n\\n* Troubleshoot and resolve technical issues for clients remotely using ConnectWise ticketing system and NinjaRMM\\n* Provide excellent customer service and communication throughout the support process\\n* Escalate issues to Tier 3 support or management as needed\\n* Document all client interactions and resolutions in our ticketing system\\n* Assist in maintaining client systems and infrastructure\\n* Participate in on-call rotation for after-hours support\\n\\nQualifications:\\n\\n...</td>\n",
       "      <td>process interest</td>\n",
       "    </tr>\n",
       "    <tr>\n",
       "      <th>2</th>\n",
       "      <td>Do you want to use your software engineering skills to make a difference? Join our project to reduce gun violence.. Are you a skilled software engineer looking to make a meaningful difference? We have an exciting project that aims to reduce gun violence and promote sensible gun control measures, and we need your help!\\n\\nOur project is built on cutting-edge technology, with the frontend in React and TypeScript and the backend in Node.js, TypeScript, and Nest.js. We are using the latest tools and frameworks to ensure that our platform is robust, scalable, and user-friendly.\\n\\nOne of the critical features of our platform is our email generation and processing system. We are utilizing advanced AI models like ChatGPT to generate compelling and persuasive emails that users can send directly to their elected officials. We also use Grammarly to ensure the emails are clear, concise, and well-written.\\n\\nBut we need your expertise to take our project to the next level. Whether you are a fr...</td>\n",
       "      <td>process interest</td>\n",
       "    </tr>\n",
       "    <tr>\n",
       "      <th>3</th>\n",
       "      <td>The most useful Windows hotkeys. I thought everyone knew it, but it turned out that so many users don't. Here are the best ones:  \\n1. Win + D - show desktop;\\n\\n2. Win + E - open explorer;\\n\\n3. Ctrl + Shift + esc - open task manager directly;\\n\\n4. Win + Shift + S - open a super useful utility directly that helps you in making erased screenshots - if you need aa full one, it's easier to press PrtSc;\\n\\n5. Win + PrtSc - make and save a screenshot in C:\\\\Users\\\\username\\\\Pictures\\\\Screenshots\\n\\n6. Win + I - open Settings;\\n\\n7. Just Win. I hear you, \"how can anyone not know that the Win key opens the Start menu?!\", but many don't know that even in Windows 10 and 11 you can directly start typing after opening the Start menu (just clicking in it works too, but it's less convenient in this case) and Windows starts searching. This cool feature has been inherited from Windows 7 with same functional. Just press Win and type.\\n\\n&amp;#x200B;\\n\\nNot that useful, but also interesting:\\n\\n1. Wi...</td>\n",
       "      <td>process interest</td>\n",
       "    </tr>\n",
       "    <tr>\n",
       "      <th>4</th>\n",
       "      <td>How to get ex-MSP to stop holding VLSC account hostage.. A little backstory:\\n\\nMy organization used an MSP for a number of years and they were great! Knowledgable, detailed, friendly, helpful, etc. They started their services with my org before we had an actual IT department (so before I was hired \\~7 years ago). Since I was hired, the owners of that MSP wanted to retire, and so they sold the company to another local MSP and our service agreements were transferred to the new company.\\n\\nThis ended up being a huge debacle in multiple ways, including but not limited to the fact that when they switched our veeam setup to use their licenses/cloud storage they absolutely missed that little check box that backs up things like active directory, so when our AD corrupted, instead of taking a couple of hours to restore the most recent backup, it took them several weeks to rebuild our AD/Domain/DHCP server from scratch. \\n\\nThat was the last straw and the opportunity I had been waiting for t...</td>\n",
       "      <td>process interest</td>\n",
       "    </tr>\n",
       "    <tr>\n",
       "      <th>...</th>\n",
       "      <td>...</td>\n",
       "      <td>...</td>\n",
       "    </tr>\n",
       "    <tr>\n",
       "      <th>1106</th>\n",
       "      <td>CVE-2023-24880 mitigation KB5023697 blocks double-clicking downloads. Customer with a Windows Server 2016 Standard Terminal Server called today, not being able to open downloaded files. Server had run updates last night and installed the CVE-2023-24880 mitigation. Now the Mark-Of-The-Web prevents opening customers downloads (e.g. *.RDP and *.doc) with a double-click. Unblocking the files via properties works, so does PowerShell's \"Unblock-File\".\\n\\nUninstalled KB5023697, and it's back to normal. Obviously not a solution, though.\\n\\nAm I missing something?\\nHadn't found any on this yet, neither on Reddit nor Twitter so I thought I'd share. Anyone have similar issues? Or a better place to share?</td>\n",
       "      <td>powershell download</td>\n",
       "    </tr>\n",
       "    <tr>\n",
       "      <th>1107</th>\n",
       "      <td>[Script sharing] Connecting to Microsoft Graph PowerShell with a Certificate: The Easy Way. I have written a ready-to-run script for MS Graph certificate-based authentication.\\n\\nWith the script, you can **automate the Azure AD app registration** process, such as creating an Azure AD app, generating certificates, and granting admin consent. Download the script and start automating the process, or follow our step-by-step guide for Azure AD app registration.\\n\\nYou can download the script from [GitHub](https://github.com/admindroid-community/powershell-scripts/tree/master/Connect%20MS%20Graph%20with%20Certificate-Automate%20Azure%20app%20registration)\\n\\nThe script covers following use cases:\\n\\n* Create Azure AD app and create certificate (Create from a scratch)\\n* Create an app and use an existing certificate\\n* Add certificate to an existing app\\n* Revoke certificate from app\\n* Connect MS Graph using certificate</td>\n",
       "      <td>powershell download</td>\n",
       "    </tr>\n",
       "    <tr>\n",
       "      <th>1108</th>\n",
       "      <td>How to completely remove language pack from win 10?. Hi! I have downloaded the Hebrew language pack since I needed for a few things but now it's interfering with my work software (it's randomly switching from English to Hebrew).\\n\\nIf I remove it, my software thinks I'm in Hebrew and won't read my hotkeys. Also, after removing the Hebrew, whenever I press win+spacebar the keyboard switches to Hebrew but I can find no trace of it, not in language settings, I've tried removing it with Powershell but nothing happened. \\n\\nThis also happened to me with the polish pack and english UK at some point but I can't remember how I got rid of it.\\n\\nAny suggestions on how to remove it fully?</td>\n",
       "      <td>powershell download</td>\n",
       "    </tr>\n",
       "    <tr>\n",
       "      <th>1109</th>\n",
       "      <td>Not sure what to do about Datto and AutoTask... any suggestions?. I've been working and doing technician-related stuff basically most of my working life, from working for technical support within SyncroMSP, to Break-Fix, to Apple, a small 3-man MSP, to basically you name it. I'm working at a Break fix shop right now, where we basically do everything. on-site, basic to difficult repairs, extremely complicated watercooled rigs, to somewhat complicated data recovery. \\n\\n&amp;#x200B;\\n\\nI've been working with the owner to try to move us toward the MSP world more. We pulled the trigger on Datto, and basically strong-armed their PSA. We didn't need it, we already use ZOHO, and it does everything that we need, but we were told that we couldn't have Datto without Autotask. I looked around and did my research. Being from Syncro, I know most of the software and have had the opportunity to learn most of it at Syncro, and with previous employers. Regardless of my preference and what I like using,...</td>\n",
       "      <td>powershell download</td>\n",
       "    </tr>\n",
       "    <tr>\n",
       "      <th>1110</th>\n",
       "      <td>Best way to provision a vm in hyper v?. The current approach looks like the following. \\n\\nPipeline agent builds a golden image with Packer and uploads it to an image repository. Then Terraform connects via winrm to the hyper v host, downloads the prepared .vhdx file from the image repository and creates the vm with the image attached to it.\\n\\nAny suggestions to improve this process? I am not sure if something like WDS or Powershell DSC will be better to provision the VMs.</td>\n",
       "      <td>powershell download</td>\n",
       "    </tr>\n",
       "  </tbody>\n",
       "</table>\n",
       "<p>2622 rows × 2 columns</p>\n",
       "</div>"
      ],
      "text/plain": [
       "                                                                                                                                                                                                                                                                                                                                                                                                                                                                                                                                                                                                                                                                                                                                                                                                                                                                                                                                                                                                                                    full_text  \\\n",
       "0     My interaction with a car sales scammer.. I've long wanted to purchase a DeLorean, so I've been saving money toward that goal.  As it happens, you need a good $40,000 (or more!) to buy one.  As I've gotten closer, I've kept a closer eye on DeLoreans for sale.\\n\\nAnyway, on one particular site, which I don't know if I'm allowed to mention, I saw a DeLorean for sale.  The listing had been on the site for one day and the seller was asking $11,900.  Both of these were obvious red flags.  That being said, maybe the DeLorean didn't run at all or something, so I clicked the button to send an \"I'm interested\" e-mail to the seller.\\n\\nHere was the reply I got:\\n\\n\"Hi\\n\\nI just saw your message, it was in my Junk folder. The vehicle is still available for sale. You have to know this is a private sale and I am not interested in any financing or loan deal. I would like to sell the vehicle only for cash.\\nThe car is not located in the USA anymore. It is located in Denmark, Europe. I live in Den...   \n",
       "1     Remote Tier 2 Technician for MSP Location: Fully Remote, prefer TN. Job Title: Remote Tier 2 Technician for MSP\\n\\nLocation: Fully Remote\\n\\nSalary: $15-35/hour (depending on experience and 90 day performance)\\n\\nWe are a rapidly growing Managed Service Provider (MSP) looking for a skilled Tier 2 Technician to join our team. As a remote technician, you will be responsible for providing technical support to our clients, resolving escalated issues, and assisting Tier 1 technicians as needed.\\n\\nResponsibilities:\\n\\n* Troubleshoot and resolve technical issues for clients remotely using ConnectWise ticketing system and NinjaRMM\\n* Provide excellent customer service and communication throughout the support process\\n* Escalate issues to Tier 3 support or management as needed\\n* Document all client interactions and resolutions in our ticketing system\\n* Assist in maintaining client systems and infrastructure\\n* Participate in on-call rotation for after-hours support\\n\\nQualifications:\\n\\n...   \n",
       "2     Do you want to use your software engineering skills to make a difference? Join our project to reduce gun violence.. Are you a skilled software engineer looking to make a meaningful difference? We have an exciting project that aims to reduce gun violence and promote sensible gun control measures, and we need your help!\\n\\nOur project is built on cutting-edge technology, with the frontend in React and TypeScript and the backend in Node.js, TypeScript, and Nest.js. We are using the latest tools and frameworks to ensure that our platform is robust, scalable, and user-friendly.\\n\\nOne of the critical features of our platform is our email generation and processing system. We are utilizing advanced AI models like ChatGPT to generate compelling and persuasive emails that users can send directly to their elected officials. We also use Grammarly to ensure the emails are clear, concise, and well-written.\\n\\nBut we need your expertise to take our project to the next level. Whether you are a fr...   \n",
       "3     The most useful Windows hotkeys. I thought everyone knew it, but it turned out that so many users don't. Here are the best ones:  \\n1. Win + D - show desktop;\\n\\n2. Win + E - open explorer;\\n\\n3. Ctrl + Shift + esc - open task manager directly;\\n\\n4. Win + Shift + S - open a super useful utility directly that helps you in making erased screenshots - if you need aa full one, it's easier to press PrtSc;\\n\\n5. Win + PrtSc - make and save a screenshot in C:\\\\Users\\\\username\\\\Pictures\\\\Screenshots\\n\\n6. Win + I - open Settings;\\n\\n7. Just Win. I hear you, \"how can anyone not know that the Win key opens the Start menu?!\", but many don't know that even in Windows 10 and 11 you can directly start typing after opening the Start menu (just clicking in it works too, but it's less convenient in this case) and Windows starts searching. This cool feature has been inherited from Windows 7 with same functional. Just press Win and type.\\n\\n&#x200B;\\n\\nNot that useful, but also interesting:\\n\\n1. Wi...   \n",
       "4     How to get ex-MSP to stop holding VLSC account hostage.. A little backstory:\\n\\nMy organization used an MSP for a number of years and they were great! Knowledgable, detailed, friendly, helpful, etc. They started their services with my org before we had an actual IT department (so before I was hired \\~7 years ago). Since I was hired, the owners of that MSP wanted to retire, and so they sold the company to another local MSP and our service agreements were transferred to the new company.\\n\\nThis ended up being a huge debacle in multiple ways, including but not limited to the fact that when they switched our veeam setup to use their licenses/cloud storage they absolutely missed that little check box that backs up things like active directory, so when our AD corrupted, instead of taking a couple of hours to restore the most recent backup, it took them several weeks to rebuild our AD/Domain/DHCP server from scratch. \\n\\nThat was the last straw and the opportunity I had been waiting for t...   \n",
       "...                                                                                                                                                                                                                                                                                                                                                                                                                                                                                                                                                                                                                                                                                                                                                                                                                                                                                                                                                                                                                                       ...   \n",
       "1106                                                                                                                                                                                                                                                                                                           CVE-2023-24880 mitigation KB5023697 blocks double-clicking downloads. Customer with a Windows Server 2016 Standard Terminal Server called today, not being able to open downloaded files. Server had run updates last night and installed the CVE-2023-24880 mitigation. Now the Mark-Of-The-Web prevents opening customers downloads (e.g. *.RDP and *.doc) with a double-click. Unblocking the files via properties works, so does PowerShell's \"Unblock-File\".\\n\\nUninstalled KB5023697, and it's back to normal. Obviously not a solution, though.\\n\\nAm I missing something?\\nHadn't found any on this yet, neither on Reddit nor Twitter so I thought I'd share. Anyone have similar issues? Or a better place to share?   \n",
       "1107                                                                          [Script sharing] Connecting to Microsoft Graph PowerShell with a Certificate: The Easy Way. I have written a ready-to-run script for MS Graph certificate-based authentication.\\n\\nWith the script, you can **automate the Azure AD app registration** process, such as creating an Azure AD app, generating certificates, and granting admin consent. Download the script and start automating the process, or follow our step-by-step guide for Azure AD app registration.\\n\\nYou can download the script from [GitHub](https://github.com/admindroid-community/powershell-scripts/tree/master/Connect%20MS%20Graph%20with%20Certificate-Automate%20Azure%20app%20registration)\\n\\nThe script covers following use cases:\\n\\n* Create Azure AD app and create certificate (Create from a scratch)\\n* Create an app and use an existing certificate\\n* Add certificate to an existing app\\n* Revoke certificate from app\\n* Connect MS Graph using certificate   \n",
       "1108                                                                                                                                                                                                                                                                                                                          How to completely remove language pack from win 10?. Hi! I have downloaded the Hebrew language pack since I needed for a few things but now it's interfering with my work software (it's randomly switching from English to Hebrew).\\n\\nIf I remove it, my software thinks I'm in Hebrew and won't read my hotkeys. Also, after removing the Hebrew, whenever I press win+spacebar the keyboard switches to Hebrew but I can find no trace of it, not in language settings, I've tried removing it with Powershell but nothing happened. \\n\\nThis also happened to me with the polish pack and english UK at some point but I can't remember how I got rid of it.\\n\\nAny suggestions on how to remove it fully?   \n",
       "1109  Not sure what to do about Datto and AutoTask... any suggestions?. I've been working and doing technician-related stuff basically most of my working life, from working for technical support within SyncroMSP, to Break-Fix, to Apple, a small 3-man MSP, to basically you name it. I'm working at a Break fix shop right now, where we basically do everything. on-site, basic to difficult repairs, extremely complicated watercooled rigs, to somewhat complicated data recovery. \\n\\n&#x200B;\\n\\nI've been working with the owner to try to move us toward the MSP world more. We pulled the trigger on Datto, and basically strong-armed their PSA. We didn't need it, we already use ZOHO, and it does everything that we need, but we were told that we couldn't have Datto without Autotask. I looked around and did my research. Being from Syncro, I know most of the software and have had the opportunity to learn most of it at Syncro, and with previous employers. Regardless of my preference and what I like using,...   \n",
       "1110                                                                                                                                                                                                                                                                                                                                                                                                                                                                                                                                           Best way to provision a vm in hyper v?. The current approach looks like the following. \\n\\nPipeline agent builds a golden image with Packer and uploads it to an image repository. Then Terraform connects via winrm to the hyper v host, downloads the prepared .vhdx file from the image repository and creates the vm with the image attached to it.\\n\\nAny suggestions to improve this process? I am not sure if something like WDS or Powershell DSC will be better to provision the VMs.   \n",
       "\n",
       "                  keyword  \n",
       "0        process interest  \n",
       "1        process interest  \n",
       "2        process interest  \n",
       "3        process interest  \n",
       "4        process interest  \n",
       "...                   ...  \n",
       "1106  powershell download  \n",
       "1107  powershell download  \n",
       "1108  powershell download  \n",
       "1109  powershell download  \n",
       "1110  powershell download  \n",
       "\n",
       "[2622 rows x 2 columns]"
      ]
     },
     "execution_count": 40,
     "metadata": {},
     "output_type": "execute_result"
    }
   ],
   "source": [
    "matches = pd.concat([matches_behaviours_3, matches_behaviours_2, matches_behaviours_1])\n",
    "matches"
   ]
  },
  {
   "cell_type": "code",
   "execution_count": 41,
   "id": "38bac787",
   "metadata": {},
   "outputs": [],
   "source": [
    "matches['keyword type'] = 'behaviour'"
   ]
  },
  {
   "cell_type": "code",
   "execution_count": 42,
   "id": "2a09d111",
   "metadata": {},
   "outputs": [],
   "source": [
    "matches.to_csv(r'C:\\Users\\leona\\OneDrive\\Desktop\\Tesi\\Pipeline\\Datasets\\Pipeline\\SocialNetworksPosts\\Reddit\\Months\\03\\Behaviours.csv')"
   ]
  },
  {
   "cell_type": "markdown",
   "id": "36144587",
   "metadata": {},
   "source": [
    "### Attacks searching"
   ]
  },
  {
   "cell_type": "code",
   "execution_count": 43,
   "id": "0523f54b",
   "metadata": {},
   "outputs": [],
   "source": [
    "l = len(all_attack_name_list)\n",
    "\n",
    "index = l // 2\n",
    "\n",
    "first_half_behaviours = all_attack_name_list[:index]\n",
    "second_half_behaviours = all_attack_name_list[index:]\n"
   ]
  },
  {
   "cell_type": "code",
   "execution_count": 44,
   "id": "4918cbb9",
   "metadata": {},
   "outputs": [
    {
     "name": "stderr",
     "output_type": "stream",
     "text": [
      "Processing posts: 33648it [00:02, 12524.83it/s]\n",
      "Processing posts: 33648it [00:02, 12604.66it/s]\n",
      "Processing posts: 33648it [00:02, 13880.37it/s]\n",
      "Processing posts: 33648it [00:02, 13413.22it/s]\n",
      "Processing posts: 33648it [00:02, 13152.36it/s]\n",
      "Processing posts: 33648it [00:02, 13003.50it/s]\n",
      "Processing posts: 33648it [00:02, 11757.44it/s]\n",
      "Processing posts: 33648it [00:02, 12292.56it/s]\n",
      "Processing posts: 33648it [00:02, 13005.29it/s]\n",
      "Processing posts: 33648it [00:02, 12829.49it/s]\n",
      "Processing posts: 33648it [00:02, 12622.47it/s]\n",
      "Processing posts: 11it [00:29,  2.64s/it]\n"
     ]
    }
   ],
   "source": [
    "matches1 = pd.DataFrame()\n",
    "\n",
    "matches1 = stemming_and_matching( first_half_behaviours , selected_rows)"
   ]
  },
  {
   "cell_type": "code",
   "execution_count": 45,
   "id": "638703fa",
   "metadata": {},
   "outputs": [
    {
     "name": "stderr",
     "output_type": "stream",
     "text": [
      "Processing posts: 33648it [00:02, 12145.41it/s]\n",
      "Processing posts: 33648it [00:02, 12214.03it/s]\n",
      "Processing posts: 33648it [00:02, 12318.15it/s]\n",
      "Processing posts: 33648it [00:03, 10521.79it/s]\n",
      "Processing posts: 33648it [00:02, 11860.59it/s]\n",
      "Processing posts: 33648it [00:02, 11719.65it/s]\n",
      "Processing posts: 33648it [00:02, 11883.26it/s]\n",
      "Processing posts: 33648it [00:02, 12167.09it/s]\n",
      "Processing posts: 33648it [00:03, 11083.35it/s]\n",
      "Processing posts: 33648it [00:03, 10643.18it/s]\n",
      "Processing posts: 33648it [00:03, 11019.46it/s]\n",
      "Processing posts: 33648it [00:03, 11183.24it/s]\n",
      "Processing posts: 12it [00:35,  2.93s/it]\n"
     ]
    }
   ],
   "source": [
    "matches2 = pd.DataFrame()\n",
    "\n",
    "matches2 = stemming_and_matching( second_half_behaviours , selected_rows)"
   ]
  },
  {
   "cell_type": "code",
   "execution_count": 46,
   "id": "ac913507",
   "metadata": {},
   "outputs": [
    {
     "data": {
      "text/html": [
       "<div>\n",
       "<style scoped>\n",
       "    .dataframe tbody tr th:only-of-type {\n",
       "        vertical-align: middle;\n",
       "    }\n",
       "\n",
       "    .dataframe tbody tr th {\n",
       "        vertical-align: top;\n",
       "    }\n",
       "\n",
       "    .dataframe thead th {\n",
       "        text-align: right;\n",
       "    }\n",
       "</style>\n",
       "<table border=\"1\" class=\"dataframe\">\n",
       "  <thead>\n",
       "    <tr style=\"text-align: right;\">\n",
       "      <th></th>\n",
       "      <th>full_text</th>\n",
       "      <th>keyword</th>\n",
       "    </tr>\n",
       "  </thead>\n",
       "  <tbody>\n",
       "    <tr>\n",
       "      <th>0</th>\n",
       "      <td>I'm unable to fix the PAGE FAULT IN NONPAGED AREA NVLDDMKM.SYS Blue Screen (Dell XPS). I cannot stop this BSOD from occurring on my Dell XPS 9570 with a 1050ti Max-Q.  I have tried every possible recommendation I could find online:\\n\\n&amp;#x200B;\\n\\n1) Updating Graphics Drivers - This is essentially impossible as the process always fails with the most up to date drivers.  If I try to brute force the update with an older one I get the BSOD with the same error.\\n\\n&amp;#x200B;\\n\\n2) Changing Anything in Nvidia Control Panel - Nvidia Control Panel actually does not open when installed on my system.  I can click on it all I want but it will never open even when Nvidia Container is running.\\n\\n&amp;#x200B;\\n\\n2) Uninstalling the Device From Device Manager - This is fruitless as the system will always automatically reinstall it.\\n\\n&amp;#x200B;\\n\\n3) Stopping the Nvidia Display Container LS Service - I uninstalled this service altogether so there is nothing to disable and the crash persists.\\n\\n&amp;#x200B...</td>\n",
       "      <td>Registry Run Keys</td>\n",
       "    </tr>\n",
       "    <tr>\n",
       "      <th>1</th>\n",
       "      <td>Edge and Chrome intermittently will not start when attempted, reboot is workaround. Hello all! Thanks so much for any time and insight you can provide. I've been losing my mind for at least 6 months over this nagging issue. \\n\\nI take care of 150+ Windows 10 PCs for our users here, and a growing number of them experience an intermittent issue where seemingly out of nowhere, after no common actions taken, they won't be able to start edge or chrome without rebooting their PC. There are no instances of either one left in task manager to end, they just don't start. \\n\\nIn event viewer, there is a kernelbase.dll 1000 error for each time it fails to load:   \\nFaulting application name: msedge.exe, version: 111.0.1661.44, time stamp: 0x64126858  \\nFaulting module name: KERNELBASE.dll, version: 10.0.19041.2728, time stamp: 0xe7e53a4e  \\nException code: 0xc0000409  \\nFault offset: 0x0000000000036588  \\nFaulting process id: 0x3974  \\nFaulting application start time: 0x01d95cbcbb64e35b  \\nFau...</td>\n",
       "      <td>Registry Run Keys</td>\n",
       "    </tr>\n",
       "    <tr>\n",
       "      <th>2</th>\n",
       "      <td>Get rid of pesky virus protection for good?. I'm sick and tired f going into the settings all the time and restoring the fles the defender quarantined which are clearly not viruses. And i also have to disable the protection but it goes back up anyway.\\n\\nI saw all those videos about editing policies, registry keys and whatnot. But i found it much easier when there was an executable program i could run to disable it. There was also a dummy replacement for an antivirus that i lost the source to. \\n\\nI never used any kind of protection on my machines for years and i'm fine. So help me or don't.</td>\n",
       "      <td>Registry Run Keys</td>\n",
       "    </tr>\n",
       "    <tr>\n",
       "      <th>3</th>\n",
       "      <td>Discrete GPU not working (and other general bugginess). Hi there, I'm going to keep this brief because in all fairness I am sick and tired of this operating system. I came back to using it after a few months to find that my discrete GPU no longer functions at all and that there are errors upon startup (it also sometimes gets stuck on the screen with white text, forcing me to turn the computer off and back on again). I upgraded to 22.04 from 20.04 but that did nothing. I tried formatting my drive and reinstalling ubuntu but the issues remain the same. What on earth is going on? Why isn't a fresh install working? The only errors I get while using the computer are when running the \"nvidia-settings\" command in terminal.\\n\\n    nvidia-settings\\n    \\n    ERROR: A query to find an object was unsuccessful\\n    \\n    \\n    (nvidia-settings:7103): GLib-GObject-CRITICAL **: 23:05:34.652: g_object_unref: assertion 'G_IS_OBJECT (object)' failed\\n    \\n    ** (nvidia-settings:7103): CRITICAL **...</td>\n",
       "      <td>Registry Run Keys</td>\n",
       "    </tr>\n",
       "    <tr>\n",
       "      <th>4</th>\n",
       "      <td>Dell Client Update 4.8 and dcu-cli failure. Hi,\\n\\n DCU-Cli is failing with exit code 2 while running it with SCCM\\n\\nI am using Execute-process from PSADTK and tried with Start-Process too.\\n\\nI am running the command one by one so its many DCU-Cli command.\\n\\nSame result.\\n\\nI also tried with 8.3 path. Same result.\\n\\nI am using Dell Command Update 4.8.\\n\\nSome peoples suggested using registry key but which key? How are you handling the BIOS password?\\n\\nIn SCCM, I set to interact with user but still failing.\\n\\nManually running the scrpt, no issue.\\n\\n&amp;#x200B;\\n\\nI am looking importing directly from the registry but I worry about the bios password. Sound the bios password value is the same... but not sure.\\n\\nAny idea?</td>\n",
       "      <td>Registry Run Keys</td>\n",
       "    </tr>\n",
       "    <tr>\n",
       "      <th>...</th>\n",
       "      <td>...</td>\n",
       "      <td>...</td>\n",
       "    </tr>\n",
       "    <tr>\n",
       "      <th>15</th>\n",
       "      <td>Using 2 AMD GPUs at the same time on one system?. Even on Debian Bookworm and Manjaro, funnily, the amdgpu kernel module isn't able to load when there are multiple AMD GPUs connected. Anything that needs to use the same amdgpu driver ends up with one of them loaded or both not loaded...\\n\\nSystem 1 : It is a optimus Thinkpad with a RX 550 and a RX 5500 XT connected via M.2 port. Thing is, when you boot with the graphics card attached, the RX 550 shows kernel modules : amdgpu, but it isn't loaded and in use. Nor on the RX 5500 XT. Well, it sure does it work when I attach it to the Intel-only Thinkpad instead.\\n\\nSystem 2 : A desktop with 2 AMD GPUs connected to full sized PCIe x16. It is apparent that both cards failed to load their drivers. Same situation as above. Sometimes one of the cards will have the driver loaded successfully, but it is not possible to use both at the same time.\\n\\nI have a system with 5 graphics cards and it works perfectly, just having one AMD GPU avoids th...</td>\n",
       "      <td>550</td>\n",
       "    </tr>\n",
       "    <tr>\n",
       "      <th>16</th>\n",
       "      <td>Google rejecting because of SPF but SPF is valid with the sending hosts listed. I have a domain that has has been setup for years with SPF records.  In the last few months I've been getting \"Undelivered Mail Returned to Sender\" messages for some of my emails but not all.  The SPF is valid and I'm not receiving rejects from anyone else.\\n\\nI don't have DKIM.\\n\\nIs anyone seeing invalid rejects also?\\n\\n    &lt;xxx@gmail.com&gt;: host gmail-smtp-in.l.google.com[142.250.123.26] said:\\n       550-5.7.26 This message does not pass authentication checks (SPF and DKIM\\n       both 550-5.7.26 do not pass). SPF check for [xxx] does\\n       not pass 550-5.7.26 with ip: [x.x.x.x].To best protect our users from\\n       spam, the 550-5.7.26 message has been blocked. Please visit 550-5.7.26\\n       https://support.google.com/mail/answer/81126#authentication for more 550\\n       5.7.26 information. h17-20020ac85851000000b003b86d74234bsi13919051qth.311 -\\n       gsmtp (in reply to end of DATA command)</td>\n",
       "      <td>550</td>\n",
       "    </tr>\n",
       "    <tr>\n",
       "      <th>17</th>\n",
       "      <td>my pygame doesnt open?. my pygame is suppsed to open but it doesnt this is the script: import pygame\\n\\nimport sys\\n\\n&amp;#x200B;\\n\\n&amp;#x200B;\\n\\npygame.init()\\n\\n&amp;#x200B;\\n\\n&amp;#x200B;\\n\\nscreen = pygame.display.set\\_mode((400, 600))\\n\\n&amp;#x200B;\\n\\n&amp;#x200B;\\n\\npygame.display.set\\_caption(\"Flappy Bird\")\\n\\n&amp;#x200B;\\n\\n&amp;#x200B;\\n\\nWHITE = (255, 255, 255)\\n\\nBLACK = (0, 0, 0)\\n\\nBLUE = (0, 0, 255)\\n\\n&amp;#x200B;\\n\\n&amp;#x200B;\\n\\nfont = pygame.font.SysFont(None, 48)\\n\\n&amp;#x200B;\\n\\nbackground = pygame.image.load(\"background.png\").convert()\\n\\nbird = pygame.image.load(\"bird.png\").convert\\_alpha()\\n\\n&amp;#x200B;\\n\\nbird\\_x = 50\\n\\nbird\\_y = 250\\n\\nbird\\_y\\_change = 0\\n\\n&amp;#x200B;\\n\\n&amp;#x200B;\\n\\npipe\\_x = 400\\n\\npipe\\_y = 0\\n\\npipe\\_width = 50\\n\\npipe\\_height = 200\\n\\npipe\\_gap = 100\\n\\npipe\\_speed = 2\\n\\n&amp;#x200B;\\n\\n&amp;#x200B;\\n\\nscore = 0\\n\\n&amp;#x200B;\\n\\n&amp;#x200B;\\n\\nwhile True:\\n\\n&amp;#x200B;\\n\\nfor event in pygame.event.get():\\n\\nif event.type == pygame.QUIT:\\n\\npygame.quit()\\n\\nsys.exit()\\n\\nif event.type...</td>\n",
       "      <td>550</td>\n",
       "    </tr>\n",
       "    <tr>\n",
       "      <th>18</th>\n",
       "      <td>SPF and DKIM Email Auth Error - Both Failed. So I wanted to improve my email deliverability and I clearly made things much worse because I can't send emails at all now.\\n\\nOverall strategy was  \\n1. Add SPF TXT record with a list of IP addresses that are allowed to send emails which are my domain's IP address and my hosting company's mail server address.  \\n2. Generate DKIM entry on cPanel (Email Deliverability section) and add that as a TXT record  \\n3. Use Dmarcian wizard to create a DMARC entry\\n\\nI've done the obvious stuff like googling for online guides and double-checking my IP addresses. Any help would be greatly appreciated.\\n\\nTwo things that I find extremely puzzling about the error message\\n\\n1. what does it have to do with [secureserver.net](https://secureserver.net)? It's owned by GoDaddy and my domain is not registered with Godaddy and the recipient is a Gmail - so again, no association with GoDaddy.\\n2. What is the context of the IP address that begins with 142. - i...</td>\n",
       "      <td>550</td>\n",
       "    </tr>\n",
       "    <tr>\n",
       "      <th>19</th>\n",
       "      <td>Pc won't boot with gpu. I Recently bought an rx 550 but when I plugged it into my pc it turns on but doesn't boot to bios or display\\n\\nMy specs are\\nMsi h61m-p21 b3\\n8gb ddr3 ram\\nRx 550 4gb powercolor\\nI5 2400\\n450w delta psu\\nAnd I had an hd 6450 plugged in before\\n\\nAny help would be greatly appreciated</td>\n",
       "      <td>550</td>\n",
       "    </tr>\n",
       "  </tbody>\n",
       "</table>\n",
       "<p>212 rows × 2 columns</p>\n",
       "</div>"
      ],
      "text/plain": [
       "                                                                                                                                                                                                                                                                                                                                                                                                                                                                                                                                                                                                                                                                                                                                                                                                                                                                                                                                                                                                                                  full_text  \\\n",
       "0   I'm unable to fix the PAGE FAULT IN NONPAGED AREA NVLDDMKM.SYS Blue Screen (Dell XPS). I cannot stop this BSOD from occurring on my Dell XPS 9570 with a 1050ti Max-Q.  I have tried every possible recommendation I could find online:\\n\\n&#x200B;\\n\\n1) Updating Graphics Drivers - This is essentially impossible as the process always fails with the most up to date drivers.  If I try to brute force the update with an older one I get the BSOD with the same error.\\n\\n&#x200B;\\n\\n2) Changing Anything in Nvidia Control Panel - Nvidia Control Panel actually does not open when installed on my system.  I can click on it all I want but it will never open even when Nvidia Container is running.\\n\\n&#x200B;\\n\\n2) Uninstalling the Device From Device Manager - This is fruitless as the system will always automatically reinstall it.\\n\\n&#x200B;\\n\\n3) Stopping the Nvidia Display Container LS Service - I uninstalled this service altogether so there is nothing to disable and the crash persists.\\n\\n&#x200B...   \n",
       "1   Edge and Chrome intermittently will not start when attempted, reboot is workaround. Hello all! Thanks so much for any time and insight you can provide. I've been losing my mind for at least 6 months over this nagging issue. \\n\\nI take care of 150+ Windows 10 PCs for our users here, and a growing number of them experience an intermittent issue where seemingly out of nowhere, after no common actions taken, they won't be able to start edge or chrome without rebooting their PC. There are no instances of either one left in task manager to end, they just don't start. \\n\\nIn event viewer, there is a kernelbase.dll 1000 error for each time it fails to load:   \\nFaulting application name: msedge.exe, version: 111.0.1661.44, time stamp: 0x64126858  \\nFaulting module name: KERNELBASE.dll, version: 10.0.19041.2728, time stamp: 0xe7e53a4e  \\nException code: 0xc0000409  \\nFault offset: 0x0000000000036588  \\nFaulting process id: 0x3974  \\nFaulting application start time: 0x01d95cbcbb64e35b  \\nFau...   \n",
       "2                                                                                                                                                                                                                                                                                                                                                                                                                    Get rid of pesky virus protection for good?. I'm sick and tired f going into the settings all the time and restoring the fles the defender quarantined which are clearly not viruses. And i also have to disable the protection but it goes back up anyway.\\n\\nI saw all those videos about editing policies, registry keys and whatnot. But i found it much easier when there was an executable program i could run to disable it. There was also a dummy replacement for an antivirus that i lost the source to. \\n\\nI never used any kind of protection on my machines for years and i'm fine. So help me or don't.   \n",
       "3   Discrete GPU not working (and other general bugginess). Hi there, I'm going to keep this brief because in all fairness I am sick and tired of this operating system. I came back to using it after a few months to find that my discrete GPU no longer functions at all and that there are errors upon startup (it also sometimes gets stuck on the screen with white text, forcing me to turn the computer off and back on again). I upgraded to 22.04 from 20.04 but that did nothing. I tried formatting my drive and reinstalling ubuntu but the issues remain the same. What on earth is going on? Why isn't a fresh install working? The only errors I get while using the computer are when running the \"nvidia-settings\" command in terminal.\\n\\n    nvidia-settings\\n    \\n    ERROR: A query to find an object was unsuccessful\\n    \\n    \\n    (nvidia-settings:7103): GLib-GObject-CRITICAL **: 23:05:34.652: g_object_unref: assertion 'G_IS_OBJECT (object)' failed\\n    \\n    ** (nvidia-settings:7103): CRITICAL **...   \n",
       "4                                                                                                                                                                                                                                                                               Dell Client Update 4.8 and dcu-cli failure. Hi,\\n\\n DCU-Cli is failing with exit code 2 while running it with SCCM\\n\\nI am using Execute-process from PSADTK and tried with Start-Process too.\\n\\nI am running the command one by one so its many DCU-Cli command.\\n\\nSame result.\\n\\nI also tried with 8.3 path. Same result.\\n\\nI am using Dell Command Update 4.8.\\n\\nSome peoples suggested using registry key but which key? How are you handling the BIOS password?\\n\\nIn SCCM, I set to interact with user but still failing.\\n\\nManually running the scrpt, no issue.\\n\\n&#x200B;\\n\\nI am looking importing directly from the registry but I worry about the bios password. Sound the bios password value is the same... but not sure.\\n\\nAny idea?   \n",
       "..                                                                                                                                                                                                                                                                                                                                                                                                                                                                                                                                                                                                                                                                                                                                                                                                                                                                                                                                                                                                                                      ...   \n",
       "15  Using 2 AMD GPUs at the same time on one system?. Even on Debian Bookworm and Manjaro, funnily, the amdgpu kernel module isn't able to load when there are multiple AMD GPUs connected. Anything that needs to use the same amdgpu driver ends up with one of them loaded or both not loaded...\\n\\nSystem 1 : It is a optimus Thinkpad with a RX 550 and a RX 5500 XT connected via M.2 port. Thing is, when you boot with the graphics card attached, the RX 550 shows kernel modules : amdgpu, but it isn't loaded and in use. Nor on the RX 5500 XT. Well, it sure does it work when I attach it to the Intel-only Thinkpad instead.\\n\\nSystem 2 : A desktop with 2 AMD GPUs connected to full sized PCIe x16. It is apparent that both cards failed to load their drivers. Same situation as above. Sometimes one of the cards will have the driver loaded successfully, but it is not possible to use both at the same time.\\n\\nI have a system with 5 graphics cards and it works perfectly, just having one AMD GPU avoids th...   \n",
       "16       Google rejecting because of SPF but SPF is valid with the sending hosts listed. I have a domain that has has been setup for years with SPF records.  In the last few months I've been getting \"Undelivered Mail Returned to Sender\" messages for some of my emails but not all.  The SPF is valid and I'm not receiving rejects from anyone else.\\n\\nI don't have DKIM.\\n\\nIs anyone seeing invalid rejects also?\\n\\n    <xxx@gmail.com>: host gmail-smtp-in.l.google.com[142.250.123.26] said:\\n       550-5.7.26 This message does not pass authentication checks (SPF and DKIM\\n       both 550-5.7.26 do not pass). SPF check for [xxx] does\\n       not pass 550-5.7.26 with ip: [x.x.x.x].To best protect our users from\\n       spam, the 550-5.7.26 message has been blocked. Please visit 550-5.7.26\\n       https://support.google.com/mail/answer/81126#authentication for more 550\\n       5.7.26 information. h17-20020ac85851000000b003b86d74234bsi13919051qth.311 -\\n       gsmtp (in reply to end of DATA command)   \n",
       "17  my pygame doesnt open?. my pygame is suppsed to open but it doesnt this is the script: import pygame\\n\\nimport sys\\n\\n&#x200B;\\n\\n&#x200B;\\n\\npygame.init()\\n\\n&#x200B;\\n\\n&#x200B;\\n\\nscreen = pygame.display.set\\_mode((400, 600))\\n\\n&#x200B;\\n\\n&#x200B;\\n\\npygame.display.set\\_caption(\"Flappy Bird\")\\n\\n&#x200B;\\n\\n&#x200B;\\n\\nWHITE = (255, 255, 255)\\n\\nBLACK = (0, 0, 0)\\n\\nBLUE = (0, 0, 255)\\n\\n&#x200B;\\n\\n&#x200B;\\n\\nfont = pygame.font.SysFont(None, 48)\\n\\n&#x200B;\\n\\nbackground = pygame.image.load(\"background.png\").convert()\\n\\nbird = pygame.image.load(\"bird.png\").convert\\_alpha()\\n\\n&#x200B;\\n\\nbird\\_x = 50\\n\\nbird\\_y = 250\\n\\nbird\\_y\\_change = 0\\n\\n&#x200B;\\n\\n&#x200B;\\n\\npipe\\_x = 400\\n\\npipe\\_y = 0\\n\\npipe\\_width = 50\\n\\npipe\\_height = 200\\n\\npipe\\_gap = 100\\n\\npipe\\_speed = 2\\n\\n&#x200B;\\n\\n&#x200B;\\n\\nscore = 0\\n\\n&#x200B;\\n\\n&#x200B;\\n\\nwhile True:\\n\\n&#x200B;\\n\\nfor event in pygame.event.get():\\n\\nif event.type == pygame.QUIT:\\n\\npygame.quit()\\n\\nsys.exit()\\n\\nif event.type...   \n",
       "18  SPF and DKIM Email Auth Error - Both Failed. So I wanted to improve my email deliverability and I clearly made things much worse because I can't send emails at all now.\\n\\nOverall strategy was  \\n1. Add SPF TXT record with a list of IP addresses that are allowed to send emails which are my domain's IP address and my hosting company's mail server address.  \\n2. Generate DKIM entry on cPanel (Email Deliverability section) and add that as a TXT record  \\n3. Use Dmarcian wizard to create a DMARC entry\\n\\nI've done the obvious stuff like googling for online guides and double-checking my IP addresses. Any help would be greatly appreciated.\\n\\nTwo things that I find extremely puzzling about the error message\\n\\n1. what does it have to do with [secureserver.net](https://secureserver.net)? It's owned by GoDaddy and my domain is not registered with Godaddy and the recipient is a Gmail - so again, no association with GoDaddy.\\n2. What is the context of the IP address that begins with 142. - i...   \n",
       "19                                                                                                                                                                                                                                                                                                                                                                                                                                                                                                                                                                                                                                                                                                                     Pc won't boot with gpu. I Recently bought an rx 550 but when I plugged it into my pc it turns on but doesn't boot to bios or display\\n\\nMy specs are\\nMsi h61m-p21 b3\\n8gb ddr3 ram\\nRx 550 4gb powercolor\\nI5 2400\\n450w delta psu\\nAnd I had an hd 6450 plugged in before\\n\\nAny help would be greatly appreciated   \n",
       "\n",
       "              keyword  \n",
       "0   Registry Run Keys  \n",
       "1   Registry Run Keys  \n",
       "2   Registry Run Keys  \n",
       "3   Registry Run Keys  \n",
       "4   Registry Run Keys  \n",
       "..                ...  \n",
       "15                550  \n",
       "16                550  \n",
       "17                550  \n",
       "18                550  \n",
       "19                550  \n",
       "\n",
       "[212 rows x 2 columns]"
      ]
     },
     "execution_count": 46,
     "metadata": {},
     "output_type": "execute_result"
    }
   ],
   "source": [
    "matches = pd.concat([matches1, matches2])\n",
    "matches"
   ]
  },
  {
   "cell_type": "code",
   "execution_count": 47,
   "id": "adb93597",
   "metadata": {},
   "outputs": [],
   "source": [
    "matches['keyword type'] = 'attack'"
   ]
  },
  {
   "cell_type": "code",
   "execution_count": 48,
   "id": "65ad27a3",
   "metadata": {},
   "outputs": [],
   "source": [
    "matches.to_csv(r'C:\\Users\\leona\\OneDrive\\Desktop\\Tesi\\Pipeline\\Datasets\\Pipeline\\SocialNetworksPosts\\Reddit\\Months\\03\\Posts_filteredby_Attacks.csv')"
   ]
  },
  {
   "cell_type": "markdown",
   "id": "e5891f03",
   "metadata": {},
   "source": [
    "### Malware names searching"
   ]
  },
  {
   "cell_type": "code",
   "execution_count": 66,
   "id": "153f5078",
   "metadata": {
    "scrolled": true
   },
   "outputs": [
    {
     "name": "stderr",
     "output_type": "stream",
     "text": [
      "Processing words:   0%|          | 0/56 [00:00<?, ?it/s]"
     ]
    },
    {
     "name": "stdout",
     "output_type": "stream",
     "text": [
      "Now: remcos \n"
     ]
    },
    {
     "name": "stderr",
     "output_type": "stream",
     "text": [
      "Processing posts: 100%|██████████| 33648/33648 [00:08<00:00, 4192.19it/s]\n",
      "Processing words:   2%|▏         | 1/56 [00:08<07:21,  8.03s/it]"
     ]
    },
    {
     "name": "stdout",
     "output_type": "stream",
     "text": [
      "Now: generic mg \n"
     ]
    },
    {
     "name": "stderr",
     "output_type": "stream",
     "text": [
      "Processing posts: 100%|██████████| 33648/33648 [00:08<00:00, 4157.58it/s]\n",
      "Processing words:   4%|▎         | 2/56 [00:16<07:16,  8.08s/it]"
     ]
    },
    {
     "name": "stdout",
     "output_type": "stream",
     "text": [
      "Now: njrat \n"
     ]
    },
    {
     "name": "stderr",
     "output_type": "stream",
     "text": [
      "Processing posts: 100%|██████████| 33648/33648 [00:07<00:00, 4367.24it/s]\n",
      "Processing words:   5%|▌         | 3/56 [00:23<06:59,  7.91s/it]"
     ]
    },
    {
     "name": "stdout",
     "output_type": "stream",
     "text": [
      "Now: bitrat \n"
     ]
    },
    {
     "name": "stderr",
     "output_type": "stream",
     "text": [
      "Processing posts: 100%|██████████| 33648/33648 [00:08<00:00, 4054.72it/s]\n",
      "Processing words:   7%|▋         | 4/56 [00:32<06:59,  8.07s/it]"
     ]
    },
    {
     "name": "stdout",
     "output_type": "stream",
     "text": [
      "Now: mirai \n"
     ]
    },
    {
     "name": "stderr",
     "output_type": "stream",
     "text": [
      "Processing posts: 100%|██████████| 33648/33648 [00:08<00:00, 3966.74it/s]\n",
      "Processing words:   9%|▉         | 5/56 [00:40<06:59,  8.22s/it]"
     ]
    },
    {
     "name": "stdout",
     "output_type": "stream",
     "text": [
      "Now: injector gen \n"
     ]
    },
    {
     "name": "stderr",
     "output_type": "stream",
     "text": [
      "Processing posts: 100%|██████████| 33648/33648 [00:08<00:00, 3930.48it/s]\n",
      "Processing words:  11%|█         | 6/56 [00:49<06:57,  8.34s/it]"
     ]
    },
    {
     "name": "stdout",
     "output_type": "stream",
     "text": [
      "Now: generickd \n"
     ]
    },
    {
     "name": "stderr",
     "output_type": "stream",
     "text": [
      "Processing posts: 100%|██████████| 33648/33648 [00:09<00:00, 3546.90it/s]\n",
      "Processing words:  12%|█▎        | 7/56 [00:58<07:07,  8.72s/it]"
     ]
    },
    {
     "name": "stdout",
     "output_type": "stream",
     "text": [
      "Now: quasar rat \n"
     ]
    },
    {
     "name": "stderr",
     "output_type": "stream",
     "text": [
      "Processing posts: 100%|██████████| 33648/33648 [00:08<00:00, 4133.07it/s]\n",
      "Processing words:  14%|█▍        | 8/56 [01:06<06:49,  8.54s/it]"
     ]
    },
    {
     "name": "stdout",
     "output_type": "stream",
     "text": [
      "Now: muldrop \n"
     ]
    },
    {
     "name": "stderr",
     "output_type": "stream",
     "text": [
      "Processing posts: 100%|██████████| 33648/33648 [00:08<00:00, 3841.99it/s]\n",
      "Processing words:  16%|█▌        | 9/56 [01:15<06:44,  8.61s/it]"
     ]
    },
    {
     "name": "stdout",
     "output_type": "stream",
     "text": [
      "Now: netwire \n"
     ]
    },
    {
     "name": "stderr",
     "output_type": "stream",
     "text": [
      "Processing posts: 100%|██████████| 33648/33648 [00:07<00:00, 4247.53it/s]\n",
      "Processing words:  18%|█▊        | 10/56 [01:23<06:26,  8.40s/it]"
     ]
    },
    {
     "name": "stdout",
     "output_type": "stream",
     "text": [
      "Now: ave maria \n"
     ]
    },
    {
     "name": "stderr",
     "output_type": "stream",
     "text": [
      "Processing posts: 100%|██████████| 33648/33648 [00:08<00:00, 3815.45it/s]\n",
      "Processing words:  20%|█▉        | 11/56 [01:32<06:23,  8.53s/it]"
     ]
    },
    {
     "name": "stdout",
     "output_type": "stream",
     "text": [
      "Now: script cryxos \n"
     ]
    },
    {
     "name": "stderr",
     "output_type": "stream",
     "text": [
      "Processing posts: 100%|██████████| 33648/33648 [00:07<00:00, 4301.21it/s]\n",
      "Processing words:  21%|██▏       | 12/56 [01:40<06:05,  8.32s/it]"
     ]
    },
    {
     "name": "stdout",
     "output_type": "stream",
     "text": [
      "Now: downloader gen \n"
     ]
    },
    {
     "name": "stderr",
     "output_type": "stream",
     "text": [
      "Processing posts: 100%|██████████| 33648/33648 [00:07<00:00, 4402.32it/s]\n",
      "Processing words:  23%|██▎       | 13/56 [01:47<05:48,  8.12s/it]"
     ]
    },
    {
     "name": "stdout",
     "output_type": "stream",
     "text": [
      "Now: orcus \n"
     ]
    },
    {
     "name": "stderr",
     "output_type": "stream",
     "text": [
      "Processing posts: 100%|██████████| 33648/33648 [00:07<00:00, 4299.03it/s]\n",
      "Processing words:  25%|██▌       | 14/56 [01:55<05:37,  8.03s/it]"
     ]
    },
    {
     "name": "stdout",
     "output_type": "stream",
     "text": [
      "Now: x gen drp \n"
     ]
    },
    {
     "name": "stderr",
     "output_type": "stream",
     "text": [
      "Processing posts: 100%|██████████| 33648/33648 [00:08<00:00, 3801.31it/s]\n",
      "Processing words:  27%|██▋       | 15/56 [02:04<05:39,  8.28s/it]"
     ]
    },
    {
     "name": "stdout",
     "output_type": "stream",
     "text": [
      "Now: agent tesla \n"
     ]
    },
    {
     "name": "stderr",
     "output_type": "stream",
     "text": [
      "Processing posts: 100%|██████████| 33648/33648 [00:07<00:00, 4305.61it/s]\n",
      "Processing words:  29%|██▊       | 16/56 [02:12<05:25,  8.14s/it]"
     ]
    },
    {
     "name": "stdout",
     "output_type": "stream",
     "text": [
      "Now: nanocore rat \n"
     ]
    },
    {
     "name": "stderr",
     "output_type": "stream",
     "text": [
      "Processing posts: 100%|██████████| 33648/33648 [00:07<00:00, 4388.40it/s]\n",
      "Processing words:  30%|███       | 17/56 [02:20<05:12,  8.01s/it]"
     ]
    },
    {
     "name": "stdout",
     "output_type": "stream",
     "text": [
      "Now: redline stealer \n"
     ]
    },
    {
     "name": "stderr",
     "output_type": "stream",
     "text": [
      "Processing posts: 100%|██████████| 33648/33648 [00:09<00:00, 3707.77it/s]\n",
      "Processing words:  32%|███▏      | 18/56 [02:29<05:16,  8.33s/it]"
     ]
    },
    {
     "name": "stdout",
     "output_type": "stream",
     "text": [
      "Now: lumma stealer \n"
     ]
    },
    {
     "name": "stderr",
     "output_type": "stream",
     "text": [
      "Processing posts: 100%|██████████| 33648/33648 [00:07<00:00, 4561.57it/s]\n",
      "Processing words:  34%|███▍      | 19/56 [02:36<04:57,  8.05s/it]"
     ]
    },
    {
     "name": "stdout",
     "output_type": "stream",
     "text": [
      "Now: siggen \n"
     ]
    },
    {
     "name": "stderr",
     "output_type": "stream",
     "text": [
      "Processing posts: 100%|██████████| 33648/33648 [00:07<00:00, 4215.94it/s]\n",
      "Processing words:  36%|███▌      | 20/56 [02:44<04:49,  8.03s/it]"
     ]
    },
    {
     "name": "stdout",
     "output_type": "stream",
     "text": [
      "Now: spynote \n"
     ]
    },
    {
     "name": "stderr",
     "output_type": "stream",
     "text": [
      "Processing posts: 100%|██████████| 33648/33648 [00:07<00:00, 4370.89it/s]\n",
      "Processing words:  38%|███▊      | 21/56 [02:52<04:37,  7.93s/it]"
     ]
    },
    {
     "name": "stdout",
     "output_type": "stream",
     "text": [
      "Now: kryptik gen \n"
     ]
    },
    {
     "name": "stderr",
     "output_type": "stream",
     "text": [
      "Processing posts: 100%|██████████| 33648/33648 [00:07<00:00, 4305.36it/s]\n",
      "Processing words:  39%|███▉      | 22/56 [03:00<04:28,  7.90s/it]"
     ]
    },
    {
     "name": "stdout",
     "output_type": "stream",
     "text": [
      "Now: obfus \n"
     ]
    },
    {
     "name": "stderr",
     "output_type": "stream",
     "text": [
      "Processing posts: 100%|██████████| 33648/33648 [00:09<00:00, 3437.72it/s]\n",
      "Processing words:  41%|████      | 23/56 [03:09<04:39,  8.47s/it]"
     ]
    },
    {
     "name": "stdout",
     "output_type": "stream",
     "text": [
      "Now: kryptik gen eldorado \n"
     ]
    },
    {
     "name": "stderr",
     "output_type": "stream",
     "text": [
      "Processing posts: 100%|██████████| 33648/33648 [00:10<00:00, 3356.55it/s]\n",
      "Processing words:  43%|████▎     | 24/56 [03:19<04:45,  8.94s/it]"
     ]
    },
    {
     "name": "stdout",
     "output_type": "stream",
     "text": [
      "Now: valyria \n"
     ]
    },
    {
     "name": "stderr",
     "output_type": "stream",
     "text": [
      "Processing posts: 100%|██████████| 33648/33648 [00:08<00:00, 3830.43it/s]\n",
      "Processing words:  45%|████▍     | 25/56 [03:28<04:35,  8.89s/it]"
     ]
    },
    {
     "name": "stdout",
     "output_type": "stream",
     "text": [
      "Now: artemis \n"
     ]
    },
    {
     "name": "stderr",
     "output_type": "stream",
     "text": [
      "Processing posts: 100%|██████████| 33648/33648 [00:09<00:00, 3647.19it/s]\n",
      "Processing words:  46%|████▋     | 26/56 [03:37<04:29,  9.00s/it]"
     ]
    },
    {
     "name": "stdout",
     "output_type": "stream",
     "text": [
      "Now: twave evil \n"
     ]
    },
    {
     "name": "stderr",
     "output_type": "stream",
     "text": [
      "Processing posts: 100%|██████████| 33648/33648 [00:09<00:00, 3392.39it/s]\n",
      "Processing words:  48%|████▊     | 27/56 [03:47<04:29,  9.28s/it]"
     ]
    },
    {
     "name": "stdout",
     "output_type": "stream",
     "text": [
      "Now: java gen \n"
     ]
    },
    {
     "name": "stderr",
     "output_type": "stream",
     "text": [
      "Processing posts: 100%|██████████| 33648/33648 [00:09<00:00, 3594.88it/s]\n",
      "Processing words:  50%|█████     | 28/56 [03:57<04:20,  9.30s/it]"
     ]
    },
    {
     "name": "stdout",
     "output_type": "stream",
     "text": [
      "Now: borlanddelphi \n"
     ]
    },
    {
     "name": "stderr",
     "output_type": "stream",
     "text": [
      "Processing posts: 100%|██████████| 33648/33648 [00:12<00:00, 2625.52it/s]\n",
      "Processing words:  52%|█████▏    | 29/56 [04:10<04:39, 10.36s/it]"
     ]
    },
    {
     "name": "stdout",
     "output_type": "stream",
     "text": [
      "Now: cobalt strike \n"
     ]
    },
    {
     "name": "stderr",
     "output_type": "stream",
     "text": [
      "Processing posts: 100%|██████████| 33648/33648 [00:08<00:00, 3956.53it/s]\n",
      "Processing words:  54%|█████▎    | 30/56 [04:18<04:15,  9.81s/it]"
     ]
    },
    {
     "name": "stdout",
     "output_type": "stream",
     "text": [
      "Now: aidetect net \n"
     ]
    },
    {
     "name": "stderr",
     "output_type": "stream",
     "text": [
      "Processing posts: 100%|██████████| 33648/33648 [00:08<00:00, 3783.40it/s]\n",
      "Processing words:  55%|█████▌    | 31/56 [04:27<03:58,  9.54s/it]"
     ]
    },
    {
     "name": "stdout",
     "output_type": "stream",
     "text": [
      "Now: miscreantpunch \n"
     ]
    },
    {
     "name": "stderr",
     "output_type": "stream",
     "text": [
      "Processing posts: 100%|██████████| 33648/33648 [00:08<00:00, 3936.95it/s]\n",
      "Processing words:  57%|█████▋    | 32/56 [04:36<03:41,  9.25s/it]"
     ]
    },
    {
     "name": "stdout",
     "output_type": "stream",
     "text": [
      "Now: perseus \n"
     ]
    },
    {
     "name": "stderr",
     "output_type": "stream",
     "text": [
      "Processing posts: 100%|██████████| 33648/33648 [00:07<00:00, 4406.94it/s]\n",
      "Processing words:  59%|█████▉    | 33/56 [04:43<03:21,  8.76s/it]"
     ]
    },
    {
     "name": "stdout",
     "output_type": "stream",
     "text": [
      "Now: behaveslike generic \n"
     ]
    },
    {
     "name": "stderr",
     "output_type": "stream",
     "text": [
      "Processing posts: 100%|██████████| 33648/33648 [00:07<00:00, 4447.49it/s]\n",
      "Processing words:  61%|██████    | 34/56 [04:51<03:04,  8.41s/it]"
     ]
    },
    {
     "name": "stdout",
     "output_type": "stream",
     "text": [
      "Now: heracles \n"
     ]
    },
    {
     "name": "stderr",
     "output_type": "stream",
     "text": [
      "Processing posts: 100%|██████████| 33648/33648 [00:07<00:00, 4470.81it/s]\n",
      "Processing words:  62%|██████▎   | 35/56 [04:58<02:51,  8.15s/it]"
     ]
    },
    {
     "name": "stdout",
     "output_type": "stream",
     "text": [
      "Now: darkcomet \n"
     ]
    },
    {
     "name": "stderr",
     "output_type": "stream",
     "text": [
      "Processing posts: 100%|██████████| 33648/33648 [00:07<00:00, 4581.62it/s]\n",
      "Processing words:  64%|██████▍   | 36/56 [05:06<02:38,  7.91s/it]"
     ]
    },
    {
     "name": "stdout",
     "output_type": "stream",
     "text": [
      "Now: crypter gen \n"
     ]
    },
    {
     "name": "stderr",
     "output_type": "stream",
     "text": [
      "Processing posts: 100%|██████████| 33648/33648 [00:10<00:00, 3313.25it/s]\n",
      "Processing words:  66%|██████▌   | 37/56 [05:16<02:43,  8.58s/it]"
     ]
    },
    {
     "name": "stdout",
     "output_type": "stream",
     "text": [
      "Now: wannacryptor \n"
     ]
    },
    {
     "name": "stderr",
     "output_type": "stream",
     "text": [
      "Processing posts: 100%|██████████| 33648/33648 [00:08<00:00, 4022.79it/s]\n",
      "Processing words:  68%|██████▊   | 38/56 [05:24<02:33,  8.52s/it]"
     ]
    },
    {
     "name": "stdout",
     "output_type": "stream",
     "text": [
      "Now: formbook \n"
     ]
    },
    {
     "name": "stderr",
     "output_type": "stream",
     "text": [
      "Processing posts: 100%|██████████| 33648/33648 [00:10<00:00, 3153.25it/s]\n",
      "Processing words:  70%|██████▉   | 39/56 [05:35<02:35,  9.17s/it]"
     ]
    },
    {
     "name": "stdout",
     "output_type": "stream",
     "text": [
      "Now: azorult \n"
     ]
    },
    {
     "name": "stderr",
     "output_type": "stream",
     "text": [
      "Processing posts: 100%|██████████| 33648/33648 [00:10<00:00, 3260.06it/s]\n",
      "Processing words:  71%|███████▏  | 40/56 [05:45<02:32,  9.52s/it]"
     ]
    },
    {
     "name": "stdout",
     "output_type": "stream",
     "text": [
      "Now: genmalicious \n"
     ]
    },
    {
     "name": "stderr",
     "output_type": "stream",
     "text": [
      "Processing posts: 100%|██████████| 33648/33648 [00:10<00:00, 3341.81it/s]\n",
      "Processing words:  73%|███████▎  | 41/56 [05:55<02:25,  9.69s/it]"
     ]
    },
    {
     "name": "stdout",
     "output_type": "stream",
     "text": [
      "Now: bv downloader drp \n"
     ]
    },
    {
     "name": "stderr",
     "output_type": "stream",
     "text": [
      "Processing posts: 100%|██████████| 33648/33648 [00:08<00:00, 4121.03it/s]\n",
      "Processing words:  75%|███████▌  | 42/56 [06:03<02:09,  9.23s/it]"
     ]
    },
    {
     "name": "stdout",
     "output_type": "stream",
     "text": [
      "Now: evo gen \n"
     ]
    },
    {
     "name": "stderr",
     "output_type": "stream",
     "text": [
      "Processing posts: 100%|██████████| 33648/33648 [00:07<00:00, 4565.82it/s]\n",
      "Processing words:  77%|███████▋  | 43/56 [06:11<01:52,  8.68s/it]"
     ]
    },
    {
     "name": "stdout",
     "output_type": "stream",
     "text": [
      "Now: ddos \n"
     ]
    },
    {
     "name": "stderr",
     "output_type": "stream",
     "text": [
      "Processing posts: 100%|██████████| 33648/33648 [00:06<00:00, 5071.56it/s]\n",
      "Processing words:  79%|███████▊  | 44/56 [06:17<01:36,  8.07s/it]"
     ]
    },
    {
     "name": "stdout",
     "output_type": "stream",
     "text": [
      "Now: gafgyt \n"
     ]
    },
    {
     "name": "stderr",
     "output_type": "stream",
     "text": [
      "Processing posts: 100%|██████████| 33648/33648 [00:06<00:00, 5148.74it/s]\n",
      "Processing words:  80%|████████  | 45/56 [06:24<01:23,  7.61s/it]"
     ]
    },
    {
     "name": "stdout",
     "output_type": "stream",
     "text": [
      "Now: keylogger gen \n"
     ]
    },
    {
     "name": "stderr",
     "output_type": "stream",
     "text": [
      "Processing posts: 100%|██████████| 33648/33648 [00:09<00:00, 3449.32it/s]\n",
      "Processing words:  82%|████████▏ | 46/56 [06:34<01:22,  8.26s/it]"
     ]
    },
    {
     "name": "stdout",
     "output_type": "stream",
     "text": [
      "Now: cve exploit \n"
     ]
    },
    {
     "name": "stderr",
     "output_type": "stream",
     "text": [
      "Processing posts: 100%|██████████| 33648/33648 [00:06<00:00, 5087.52it/s]\n",
      "Processing words:  84%|████████▍ | 47/56 [06:40<01:09,  7.76s/it]"
     ]
    },
    {
     "name": "stdout",
     "output_type": "stream",
     "text": [
      "Now: banker gen \n"
     ]
    },
    {
     "name": "stderr",
     "output_type": "stream",
     "text": [
      "Processing posts: 100%|██████████| 33648/33648 [00:06<00:00, 4829.39it/s]\n",
      "Processing words:  86%|████████▌ | 48/56 [06:47<01:00,  7.53s/it]"
     ]
    },
    {
     "name": "stdout",
     "output_type": "stream",
     "text": [
      "Now: autoit \n"
     ]
    },
    {
     "name": "stderr",
     "output_type": "stream",
     "text": [
      "Processing posts: 100%|██████████| 33648/33648 [00:06<00:00, 5017.53it/s]\n",
      "Processing words:  88%|████████▊ | 49/56 [06:54<00:50,  7.28s/it]"
     ]
    },
    {
     "name": "stdout",
     "output_type": "stream",
     "text": [
      "Now: exploitx \n"
     ]
    },
    {
     "name": "stderr",
     "output_type": "stream",
     "text": [
      "Processing posts: 100%|██████████| 33648/33648 [00:06<00:00, 4910.47it/s]\n",
      "Processing words:  89%|████████▉ | 50/56 [07:01<00:42,  7.16s/it]"
     ]
    },
    {
     "name": "stdout",
     "output_type": "stream",
     "text": [
      "Now: coinminer generic \n"
     ]
    },
    {
     "name": "stderr",
     "output_type": "stream",
     "text": [
      "Processing posts: 100%|██████████| 33648/33648 [00:06<00:00, 5081.95it/s]\n",
      "Processing words:  91%|█████████ | 51/56 [07:08<00:34,  7.00s/it]"
     ]
    },
    {
     "name": "stdout",
     "output_type": "stream",
     "text": [
      "Now: loki password stealer  pws \n"
     ]
    },
    {
     "name": "stderr",
     "output_type": "stream",
     "text": [
      "Processing posts: 100%|██████████| 33648/33648 [00:06<00:00, 4947.35it/s]\n",
      "Processing words:  93%|█████████▎| 52/56 [07:14<00:27,  6.94s/it]"
     ]
    },
    {
     "name": "stdout",
     "output_type": "stream",
     "text": [
      "Now: meterpreter \n"
     ]
    },
    {
     "name": "stderr",
     "output_type": "stream",
     "text": [
      "Processing posts: 100%|██████████| 33648/33648 [00:06<00:00, 4943.69it/s]\n",
      "Processing words:  95%|█████████▍| 53/56 [07:21<00:20,  6.90s/it]"
     ]
    },
    {
     "name": "stdout",
     "output_type": "stream",
     "text": [
      "Now: crimson rat \n"
     ]
    },
    {
     "name": "stderr",
     "output_type": "stream",
     "text": [
      "Processing posts: 100%|██████████| 33648/33648 [00:06<00:00, 5034.17it/s]\n",
      "Processing words:  96%|█████████▋| 54/56 [07:28<00:13,  6.84s/it]"
     ]
    },
    {
     "name": "stdout",
     "output_type": "stream",
     "text": [
      "Now: nanobot \n"
     ]
    },
    {
     "name": "stderr",
     "output_type": "stream",
     "text": [
      "Processing posts: 100%|██████████| 33648/33648 [00:06<00:00, 4887.33it/s]\n",
      "Processing words:  98%|█████████▊| 55/56 [07:35<00:06,  6.85s/it]"
     ]
    },
    {
     "name": "stdout",
     "output_type": "stream",
     "text": [
      "Now: ghost rat \n"
     ]
    },
    {
     "name": "stderr",
     "output_type": "stream",
     "text": [
      "Processing posts: 100%|██████████| 33648/33648 [00:06<00:00, 5033.61it/s]\n",
      "Processing words: 100%|██████████| 56/56 [07:41<00:00,  8.25s/it]\n"
     ]
    }
   ],
   "source": [
    "merged_matches = pd.DataFrame()\n",
    "\n",
    "merged_matches = malware_search( all_malware_list , selected_rows)"
   ]
  },
  {
   "cell_type": "code",
   "execution_count": 50,
   "id": "109210c2",
   "metadata": {},
   "outputs": [
    {
     "data": {
      "text/html": [
       "<div>\n",
       "<style scoped>\n",
       "    .dataframe tbody tr th:only-of-type {\n",
       "        vertical-align: middle;\n",
       "    }\n",
       "\n",
       "    .dataframe tbody tr th {\n",
       "        vertical-align: top;\n",
       "    }\n",
       "\n",
       "    .dataframe thead th {\n",
       "        text-align: right;\n",
       "    }\n",
       "</style>\n",
       "<table border=\"1\" class=\"dataframe\">\n",
       "  <thead>\n",
       "    <tr style=\"text-align: right;\">\n",
       "      <th></th>\n",
       "      <th>index</th>\n",
       "      <th>subreddit</th>\n",
       "      <th>username</th>\n",
       "      <th>date</th>\n",
       "      <th>title</th>\n",
       "      <th>text</th>\n",
       "    </tr>\n",
       "  </thead>\n",
       "  <tbody>\n",
       "    <tr>\n",
       "      <th>0</th>\n",
       "      <td>288055</td>\n",
       "      <td>hardware</td>\n",
       "      <td>t3_1280u3n</td>\n",
       "      <td>2023-03-31</td>\n",
       "      <td>Do you think Nvidia is so stingy on VRAM is to not cannibalize their much more profitable compute cards?</td>\n",
       "      <td>4060 ti has only 8GB of VRAM is insulting in 2023. What do you think is the primary reason for the stinginess?  Is it because Nvidia wants to make sure to segment the market so that their gaming cards can't be used for data science?  \\n\\n\\nAfter all, a 40GB A100 costs $20k and has the same number of cuda cores as a 3070 ti.  \\n\\n\\nAny other reason they are not giving 16GB VRAM for med-lower level cards like Intel and AMD?</td>\n",
       "    </tr>\n",
       "    <tr>\n",
       "      <th>1</th>\n",
       "      <td>288056</td>\n",
       "      <td>Ubuntu</td>\n",
       "      <td>t3_1280sue</td>\n",
       "      <td>2023-03-31</td>\n",
       "      <td>Is Ubuntu paywalling security updates now? The Pop OS community has been kind to respond but I'm still confused how this isn't paywalling. I'm hoping the Ubuntu community can help me understand. Thanks! :)</td>\n",
       "      <td></td>\n",
       "    </tr>\n",
       "    <tr>\n",
       "      <th>2</th>\n",
       "      <td>288073</td>\n",
       "      <td>AskNetsec</td>\n",
       "      <td>t3_1280fmh</td>\n",
       "      <td>2023-03-31</td>\n",
       "      <td>Phone and email security questions</td>\n",
       "      <td>I have questions about op sec. Would appreciate your detailed advice.\\n\\n* Should I be using some sort of proxy or app to obfuscate my number?\\n* What does Google Voice actually do in practice?\\n* Should I ever give out my actual number, like legit companies or doctor's offices?\\n* When  I get calls that are flagged as spam likely, does blocking them alert  the phisher to my number being active? What's the best way to respond to  spam calls or texts?\\n* One  of my relatives has an old phone number that, due to their past  indiscretion with answering spam calls and almost being scammed, is a  ripe target for foreigners.\\n   * What can I do to help them? I don't know how realistic them getting a new number is. Is there a way to use a proxy for them?\\n* For email it's the same issue. Their email is compromised and gets  regular influx of spam assault. The filter seems to work 99% of the time  but...I'd rather them have a clean email.</td>\n",
       "    </tr>\n",
       "    <tr>\n",
       "      <th>3</th>\n",
       "      <td>288074</td>\n",
       "      <td>cybersecurity</td>\n",
       "      <td>t3_1280gaz</td>\n",
       "      <td>2023-03-31</td>\n",
       "      <td>Virus on web pages in system android</td>\n",
       "      <td>Hello, today i have a question, do web pages viruses infect android? (Like in windows) \\nHow do the do it? \\n\\nAnd \\n\\nHow to avoid it?\\n\\nThank you very much for your help and explanation.\\n\\n:)</td>\n",
       "    </tr>\n",
       "    <tr>\n",
       "      <th>4</th>\n",
       "      <td>288075</td>\n",
       "      <td>cybersecurity</td>\n",
       "      <td>t3_127zjck</td>\n",
       "      <td>2023-03-31</td>\n",
       "      <td>Sample playbooks</td>\n",
       "      <td>Hello. This is my first post in this group. I have observed that that you are all very generous with your knowledge, time and experience. Thank you. I hope to make valuable contributions in the future.\\n\\nI'm taking some entry level Cybersecurity courses. The task for this week is create a playbook to respond to an incident. I'm going to choose \"root access\" because it's seems less mundane than Malware or DDOS, etc.\\n\\nThere are playbook templates in the public domain that seem useful for getting organized but lack detail on specific actions. I want to bring unique content to my submission by comparing and contrasting specific approaches and then providing insights and original ideas for responding.\\n\\nI came here to see if people would be willing to share playbooks for root access that I could learn from and compare and contrast. Or perhaps people could point me to resources that have multiple examples with lots of detail.\\n\\nThank you in advance,\\n\\nPeter</td>\n",
       "    </tr>\n",
       "  </tbody>\n",
       "</table>\n",
       "</div>"
      ],
      "text/plain": [
       "    index      subreddit    username        date  \\\n",
       "0  288055       hardware  t3_1280u3n  2023-03-31   \n",
       "1  288056         Ubuntu  t3_1280sue  2023-03-31   \n",
       "2  288073      AskNetsec  t3_1280fmh  2023-03-31   \n",
       "3  288074  cybersecurity  t3_1280gaz  2023-03-31   \n",
       "4  288075  cybersecurity  t3_127zjck  2023-03-31   \n",
       "\n",
       "                                                                                                                                                                                                           title  \\\n",
       "0                                                                                                       Do you think Nvidia is so stingy on VRAM is to not cannibalize their much more profitable compute cards?   \n",
       "1  Is Ubuntu paywalling security updates now? The Pop OS community has been kind to respond but I'm still confused how this isn't paywalling. I'm hoping the Ubuntu community can help me understand. Thanks! :)   \n",
       "2                                                                                                                                                                             Phone and email security questions   \n",
       "3                                                                                                                                                                           Virus on web pages in system android   \n",
       "4                                                                                                                                                                                               Sample playbooks   \n",
       "\n",
       "                                                                                                                                                                                                                                                                                                                                                                                                                                                                                                                                                                                                                                                                                                                                                                                                                                                                                                                                                                                                          text  \n",
       "0                                                                                                                                                                                                                                                                                                                                                                                                                                                                                                                                                                    4060 ti has only 8GB of VRAM is insulting in 2023. What do you think is the primary reason for the stinginess?  Is it because Nvidia wants to make sure to segment the market so that their gaming cards can't be used for data science?  \\n\\n\\nAfter all, a 40GB A100 costs $20k and has the same number of cuda cores as a 3070 ti.  \\n\\n\\nAny other reason they are not giving 16GB VRAM for med-lower level cards like Intel and AMD?  \n",
       "1                                                                                                                                                                                                                                                                                                                                                                                                                                                                                                                                                                                                                                                                                                                                                                                                                                                                                                                                                                                                               \n",
       "2                             I have questions about op sec. Would appreciate your detailed advice.\\n\\n* Should I be using some sort of proxy or app to obfuscate my number?\\n* What does Google Voice actually do in practice?\\n* Should I ever give out my actual number, like legit companies or doctor's offices?\\n* When  I get calls that are flagged as spam likely, does blocking them alert  the phisher to my number being active? What's the best way to respond to  spam calls or texts?\\n* One  of my relatives has an old phone number that, due to their past  indiscretion with answering spam calls and almost being scammed, is a  ripe target for foreigners.\\n   * What can I do to help them? I don't know how realistic them getting a new number is. Is there a way to use a proxy for them?\\n* For email it's the same issue. Their email is compromised and gets  regular influx of spam assault. The filter seems to work 99% of the time  but...I'd rather them have a clean email.  \n",
       "3                                                                                                                                                                                                                                                                                                                                                                                                                                                                                                                                                                                                                                                                                                                                                                                                          Hello, today i have a question, do web pages viruses infect android? (Like in windows) \\nHow do the do it? \\n\\nAnd \\n\\nHow to avoid it?\\n\\nThank you very much for your help and explanation.\\n\\n:)  \n",
       "4  Hello. This is my first post in this group. I have observed that that you are all very generous with your knowledge, time and experience. Thank you. I hope to make valuable contributions in the future.\\n\\nI'm taking some entry level Cybersecurity courses. The task for this week is create a playbook to respond to an incident. I'm going to choose \"root access\" because it's seems less mundane than Malware or DDOS, etc.\\n\\nThere are playbook templates in the public domain that seem useful for getting organized but lack detail on specific actions. I want to bring unique content to my submission by comparing and contrasting specific approaches and then providing insights and original ideas for responding.\\n\\nI came here to see if people would be willing to share playbooks for root access that I could learn from and compare and contrast. Or perhaps people could point me to resources that have multiple examples with lots of detail.\\n\\nThank you in advance,\\n\\nPeter  "
      ]
     },
     "execution_count": 50,
     "metadata": {},
     "output_type": "execute_result"
    }
   ],
   "source": [
    "selected_rows.head()"
   ]
  },
  {
   "cell_type": "code",
   "execution_count": 67,
   "id": "4a8ea30e",
   "metadata": {},
   "outputs": [],
   "source": [
    "merged_matches['keyword type'] = 'malware'"
   ]
  },
  {
   "cell_type": "code",
   "execution_count": 68,
   "id": "18df3680",
   "metadata": {},
   "outputs": [],
   "source": [
    "merged_matches.to_csv(r'C:\\Users\\leona\\OneDrive\\Desktop\\Tesi\\Pipeline\\Datasets\\Pipeline\\SocialNetworksPosts\\Reddit\\Months\\03\\Posts_filteredby_Malwares.csv')"
   ]
  },
  {
   "cell_type": "markdown",
   "id": "044f7c05",
   "metadata": {},
   "source": [
    "### Malwares Types names searching"
   ]
  },
  {
   "cell_type": "code",
   "execution_count": 55,
   "id": "8b8e9e3b",
   "metadata": {},
   "outputs": [
    {
     "name": "stderr",
     "output_type": "stream",
     "text": [
      "Processing posts: 33648it [00:02, 16490.12it/s]\n",
      "Processing posts: 33648it [00:01, 18313.24it/s]\n",
      "Processing posts: 33648it [00:01, 17593.91it/s]\n",
      "Processing posts: 33648it [00:01, 19214.14it/s]\n",
      "Processing posts: 33648it [00:01, 19481.31it/s]\n",
      "Processing posts: 33648it [00:01, 19377.74it/s]\n",
      "Processing posts: 33648it [00:01, 19397.67it/s]\n",
      "Processing posts: 33648it [00:01, 19736.89it/s]\n",
      "Processing posts: 33648it [00:01, 19243.11it/s]\n",
      "Processing posts: 33648it [00:01, 18994.53it/s]\n",
      "Processing posts: 33648it [00:01, 19413.43it/s]\n",
      "Processing posts: 11it [00:19,  1.80s/it]\n"
     ]
    }
   ],
   "source": [
    "malware_types_matches = pd.DataFrame()\n",
    "\n",
    "malware_types_matches = stemming_and_matching( all_malware_types_list , selected_rows)"
   ]
  },
  {
   "cell_type": "code",
   "execution_count": 56,
   "id": "bafd2099",
   "metadata": {},
   "outputs": [],
   "source": [
    "malware_types_matches['keyword type'] = 'malware type'"
   ]
  },
  {
   "cell_type": "code",
   "execution_count": 57,
   "id": "ad849baa",
   "metadata": {},
   "outputs": [],
   "source": [
    "malware_types_matches.to_csv(r'C:\\Users\\leona\\OneDrive\\Desktop\\Tesi\\Pipeline\\Datasets\\Pipeline\\SocialNetworksPosts\\Reddit\\Months\\03\\Posts_filteredby_MalwareType.csv')"
   ]
  },
  {
   "cell_type": "code",
   "execution_count": null,
   "id": "07395741",
   "metadata": {},
   "outputs": [],
   "source": []
  },
  {
   "cell_type": "markdown",
   "id": "65b2236f",
   "metadata": {},
   "source": [
    "### Operative System names search"
   ]
  },
  {
   "cell_type": "code",
   "execution_count": 58,
   "id": "a528e057",
   "metadata": {},
   "outputs": [
    {
     "name": "stderr",
     "output_type": "stream",
     "text": [
      "Processing posts: 33648it [00:01, 19176.18it/s]\n",
      "Processing posts: 33648it [00:01, 18989.84it/s]\n",
      "Processing posts: 33648it [00:01, 19229.24it/s]\n",
      "Processing posts: 3it [00:05,  1.77s/it]\n"
     ]
    }
   ],
   "source": [
    "words_matches = pd.DataFrame()\n",
    "\n",
    "words_matches = stemming_and_matching( all_delivery_method_list , selected_rows)"
   ]
  },
  {
   "cell_type": "code",
   "execution_count": 59,
   "id": "86b7b0a3",
   "metadata": {},
   "outputs": [
    {
     "data": {
      "text/html": [
       "<div>\n",
       "<style scoped>\n",
       "    .dataframe tbody tr th:only-of-type {\n",
       "        vertical-align: middle;\n",
       "    }\n",
       "\n",
       "    .dataframe tbody tr th {\n",
       "        vertical-align: top;\n",
       "    }\n",
       "\n",
       "    .dataframe thead th {\n",
       "        text-align: right;\n",
       "    }\n",
       "</style>\n",
       "<table border=\"1\" class=\"dataframe\">\n",
       "  <thead>\n",
       "    <tr style=\"text-align: right;\">\n",
       "      <th></th>\n",
       "      <th>full_text</th>\n",
       "      <th>keyword</th>\n",
       "    </tr>\n",
       "  </thead>\n",
       "  <tbody>\n",
       "    <tr>\n",
       "      <th>0</th>\n",
       "      <td>My interaction with a car sales scammer.. I've long wanted to purchase a DeLorean, so I've been saving money toward that goal.  As it happens, you need a good $40,000 (or more!) to buy one.  As I've gotten closer, I've kept a closer eye on DeLoreans for sale.\\n\\nAnyway, on one particular site, which I don't know if I'm allowed to mention, I saw a DeLorean for sale.  The listing had been on the site for one day and the seller was asking $11,900.  Both of these were obvious red flags.  That being said, maybe the DeLorean didn't run at all or something, so I clicked the button to send an \"I'm interested\" e-mail to the seller.\\n\\nHere was the reply I got:\\n\\n\"Hi\\n\\nI just saw your message, it was in my Junk folder. The vehicle is still available for sale. You have to know this is a private sale and I am not interested in any financing or loan deal. I would like to sell the vehicle only for cash.\\nThe car is not located in the USA anymore. It is located in Denmark, Europe. I live in Den...</td>\n",
       "      <td>email attachment</td>\n",
       "    </tr>\n",
       "    <tr>\n",
       "      <th>1</th>\n",
       "      <td>Convert email export from Google vault to a single presentable file. Greetings folks - I am looking for some help here. Our management team is requesting an export of all emails from any of our domain users to a few external addresses. They will be exported from Google Vault in a form of a .PST or MBOX format.\\n\\nThe question is - how do we convert all of the emails(including attachments) in either of those format into a presentable single word doc or PDF file for our legal team to easily view.\\n\\n&amp;#x200B;\\n\\nAny help is appreciated. Thanks in advance!</td>\n",
       "      <td>email attachment</td>\n",
       "    </tr>\n",
       "    <tr>\n",
       "      <th>2</th>\n",
       "      <td>How to figure out who put your business on Rub Maps. I am in need of help! \\nMy friend who owns her own legitimate massage business was getting a ton of weird inquiries for happy ending massages. Come to find out, someone put her business on a site called Rub Maps, saying she did erotic massage- which she does not. \\nShe has had creepy men stop by her studio looking for her, as well as inappropriate messages to her business account. Besides the serious safety issue, she is also feeling worried about her business reputation getting ruined.\\nDoes anyone know how to find the login information attached to the account that posted the ad?? Either an email, phone number, pinned location? \\nAlso does anyone know how to get it taken down? \\nThank you so much in advance for any help!</td>\n",
       "      <td>email attachment</td>\n",
       "    </tr>\n",
       "    <tr>\n",
       "      <th>3</th>\n",
       "      <td>Cannot send email with Office 365. Hello!\\n\\nI am writing a Python script that will connect to a remote host, run a MySQL command and generate a CSV file to be emailed out, using our Office 365 subscription, etc.\\n\\n&amp;#x200B;\\n\\nSo far, the script works on the SQL and attachment part, the email feature is not working.\\n\\n&amp;#x200B;\\n\\nHere is the sanitized script:\\n\\n\\`\\`\\`\\n\\n`import mysql.connector`\\n\\n`import pandas as pd`\\n\\n`from datetime import datetime`\\n\\n`import smtplib`\\n\\n`from email.mime.multipart import MIMEMultipart`\\n\\n`from email.mime.text import MIMEText`\\n\\n`from email.mime.base import MIMEBase`\\n\\n`from email import encoders`\\n\\n&amp;#x200B;\\n\\n`# MySQL database credentials`\\n\\n`mysql_config = {`\\n\\n`'host': 'localhost',`\\n\\n`'user': 'username',`\\n\\n`'password': 'password',`\\n\\n`'database': 'default'`\\n\\n`}`\\n\\n&amp;#x200B;\\n\\n`# SQL query`\\n\\n`sql_query = \"\"\"`\\n\\n`SELECT DISTINCT(callid), created`\\n\\n`FROM quotes q`\\n\\n`WHERE soldct = 0`\\n\\n`AND markedsold IS NOT NULL`\\n\\n...</td>\n",
       "      <td>email attachment</td>\n",
       "    </tr>\n",
       "    <tr>\n",
       "      <th>4</th>\n",
       "      <td>Phishing emails where the phishing email is attached to another email. So as we have all discovered recently, phishing emails are getting more and more common. Whether that's Micro$soft nerfing Defender, or just phishing emails getting smarter, I don't know.\\n\\nHowever, as of yesterday, I've started seeing a new type of phishing email. Instead of putting the link directly into the email body (which allows us to track and block these links via SafeLinks), they've started attaching a phishing email to the received mail, which completely bypasses SafeLinks!\\n\\nNot fun!</td>\n",
       "      <td>email attachment</td>\n",
       "    </tr>\n",
       "  </tbody>\n",
       "</table>\n",
       "</div>"
      ],
      "text/plain": [
       "                                                                                                                                                                                                                                                                                                                                                                                                                                                                                                                                                                                                                                                                                                                                                                                                                                                                                                                                                                                                                                 full_text  \\\n",
       "0  My interaction with a car sales scammer.. I've long wanted to purchase a DeLorean, so I've been saving money toward that goal.  As it happens, you need a good $40,000 (or more!) to buy one.  As I've gotten closer, I've kept a closer eye on DeLoreans for sale.\\n\\nAnyway, on one particular site, which I don't know if I'm allowed to mention, I saw a DeLorean for sale.  The listing had been on the site for one day and the seller was asking $11,900.  Both of these were obvious red flags.  That being said, maybe the DeLorean didn't run at all or something, so I clicked the button to send an \"I'm interested\" e-mail to the seller.\\n\\nHere was the reply I got:\\n\\n\"Hi\\n\\nI just saw your message, it was in my Junk folder. The vehicle is still available for sale. You have to know this is a private sale and I am not interested in any financing or loan deal. I would like to sell the vehicle only for cash.\\nThe car is not located in the USA anymore. It is located in Denmark, Europe. I live in Den...   \n",
       "1                                                                                                                                                                                                                                                                                                                                                                                                                                                           Convert email export from Google vault to a single presentable file. Greetings folks - I am looking for some help here. Our management team is requesting an export of all emails from any of our domain users to a few external addresses. They will be exported from Google Vault in a form of a .PST or MBOX format.\\n\\nThe question is - how do we convert all of the emails(including attachments) in either of those format into a presentable single word doc or PDF file for our legal team to easily view.\\n\\n&#x200B;\\n\\nAny help is appreciated. Thanks in advance!   \n",
       "2                                                                                                                                                                                                                         How to figure out who put your business on Rub Maps. I am in need of help! \\nMy friend who owns her own legitimate massage business was getting a ton of weird inquiries for happy ending massages. Come to find out, someone put her business on a site called Rub Maps, saying she did erotic massage- which she does not. \\nShe has had creepy men stop by her studio looking for her, as well as inappropriate messages to her business account. Besides the serious safety issue, she is also feeling worried about her business reputation getting ruined.\\nDoes anyone know how to find the login information attached to the account that posted the ad?? Either an email, phone number, pinned location? \\nAlso does anyone know how to get it taken down? \\nThank you so much in advance for any help!   \n",
       "3  Cannot send email with Office 365. Hello!\\n\\nI am writing a Python script that will connect to a remote host, run a MySQL command and generate a CSV file to be emailed out, using our Office 365 subscription, etc.\\n\\n&#x200B;\\n\\nSo far, the script works on the SQL and attachment part, the email feature is not working.\\n\\n&#x200B;\\n\\nHere is the sanitized script:\\n\\n\\`\\`\\`\\n\\n`import mysql.connector`\\n\\n`import pandas as pd`\\n\\n`from datetime import datetime`\\n\\n`import smtplib`\\n\\n`from email.mime.multipart import MIMEMultipart`\\n\\n`from email.mime.text import MIMEText`\\n\\n`from email.mime.base import MIMEBase`\\n\\n`from email import encoders`\\n\\n&#x200B;\\n\\n`# MySQL database credentials`\\n\\n`mysql_config = {`\\n\\n`'host': 'localhost',`\\n\\n`'user': 'username',`\\n\\n`'password': 'password',`\\n\\n`'database': 'default'`\\n\\n`}`\\n\\n&#x200B;\\n\\n`# SQL query`\\n\\n`sql_query = \"\"\"`\\n\\n`SELECT DISTINCT(callid), created`\\n\\n`FROM quotes q`\\n\\n`WHERE soldct = 0`\\n\\n`AND markedsold IS NOT NULL`\\n\\n...   \n",
       "4                                                                                                                                                                                                                                                                                                                                                                                                                                             Phishing emails where the phishing email is attached to another email. So as we have all discovered recently, phishing emails are getting more and more common. Whether that's Micro$soft nerfing Defender, or just phishing emails getting smarter, I don't know.\\n\\nHowever, as of yesterday, I've started seeing a new type of phishing email. Instead of putting the link directly into the email body (which allows us to track and block these links via SafeLinks), they've started attaching a phishing email to the received mail, which completely bypasses SafeLinks!\\n\\nNot fun!   \n",
       "\n",
       "            keyword  \n",
       "0  email attachment  \n",
       "1  email attachment  \n",
       "2  email attachment  \n",
       "3  email attachment  \n",
       "4  email attachment  "
      ]
     },
     "execution_count": 59,
     "metadata": {},
     "output_type": "execute_result"
    }
   ],
   "source": [
    "words_matches.head()"
   ]
  },
  {
   "cell_type": "code",
   "execution_count": 60,
   "id": "c72a2cb2",
   "metadata": {},
   "outputs": [],
   "source": [
    "words_matches['keyword type'] = 'delivery method'"
   ]
  },
  {
   "cell_type": "code",
   "execution_count": 61,
   "id": "798babac",
   "metadata": {},
   "outputs": [],
   "source": [
    "words_matches.to_csv(r'C:\\Users\\leona\\OneDrive\\Desktop\\Tesi\\Pipeline\\Datasets\\Pipeline\\SocialNetworksPosts\\Reddit\\Months\\03\\Posts_filteredby_DeliveryMethod.csv')"
   ]
  },
  {
   "cell_type": "code",
   "execution_count": 62,
   "id": "cde71f54",
   "metadata": {},
   "outputs": [
    {
     "data": {
      "text/plain": [
       "33648"
      ]
     },
     "execution_count": 62,
     "metadata": {},
     "output_type": "execute_result"
    }
   ],
   "source": [
    "len(selected_rows)"
   ]
  },
  {
   "cell_type": "code",
   "execution_count": 69,
   "id": "b5a14de8",
   "metadata": {},
   "outputs": [
    {
     "data": {
      "text/plain": [
       "4479"
      ]
     },
     "execution_count": 69,
     "metadata": {},
     "output_type": "execute_result"
    }
   ],
   "source": [
    "df = pd.concat([words_matches, malware_types_matches, merged_matches, matches_behaviours_3, matches_behaviours_2, matches_behaviours_1 ])\n",
    "len(df)"
   ]
  },
  {
   "cell_type": "code",
   "execution_count": 70,
   "id": "509502df",
   "metadata": {},
   "outputs": [],
   "source": [
    "df.to_csv(r'C:\\Users\\leona\\OneDrive\\Desktop\\Tesi\\Pipeline\\Datasets\\Pipeline\\SocialNetworksPosts\\Reddit\\Months\\03\\MatchedPosts.csv')"
   ]
  },
  {
   "cell_type": "markdown",
   "id": "78543d08",
   "metadata": {},
   "source": []
  },
  {
   "cell_type": "markdown",
   "id": "18094b19",
   "metadata": {},
   "source": []
  },
  {
   "cell_type": "markdown",
   "id": "3631129a",
   "metadata": {},
   "source": [
    "\n"
   ]
  },
  {
   "cell_type": "markdown",
   "id": "69fdd2f8",
   "metadata": {},
   "source": []
  }
 ],
 "metadata": {
  "kernelspec": {
   "display_name": "Python 3 (ipykernel)",
   "language": "python",
   "name": "python3"
  },
  "language_info": {
   "codemirror_mode": {
    "name": "ipython",
    "version": 3
   },
   "file_extension": ".py",
   "mimetype": "text/x-python",
   "name": "python",
   "nbconvert_exporter": "python",
   "pygments_lexer": "ipython3",
   "version": "3.11.5"
  }
 },
 "nbformat": 4,
 "nbformat_minor": 5
}
